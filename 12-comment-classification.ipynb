{
 "cells": [
  {
   "cell_type": "markdown",
   "metadata": {
    "toc": true
   },
   "source": [
    "<h1>Содержание<span class=\"tocSkip\"></span></h1>\n",
    "<div class=\"toc\"><ul class=\"toc-item\"><li><span><a href=\"#Подготовка\" data-toc-modified-id=\"Подготовка-1\"><span class=\"toc-item-num\">1&nbsp;&nbsp;</span>Подготовка</a></span></li><li><span><a href=\"#Обучение\" data-toc-modified-id=\"Обучение-2\"><span class=\"toc-item-num\">2&nbsp;&nbsp;</span>Обучение</a></span><ul class=\"toc-item\"><li><span><a href=\"#LogisticRegression\" data-toc-modified-id=\"LogisticRegression-2.1\"><span class=\"toc-item-num\">2.1&nbsp;&nbsp;</span>LogisticRegression</a></span></li><li><span><a href=\"#RandomForestClassifier\" data-toc-modified-id=\"RandomForestClassifier-2.2\"><span class=\"toc-item-num\">2.2&nbsp;&nbsp;</span>RandomForestClassifier</a></span></li></ul></li><li><span><a href=\"#Выводы\" data-toc-modified-id=\"Выводы-3\"><span class=\"toc-item-num\">3&nbsp;&nbsp;</span>Выводы</a></span></li><li><span><a href=\"#Чек-лист-проверки\" data-toc-modified-id=\"Чек-лист-проверки-4\"><span class=\"toc-item-num\">4&nbsp;&nbsp;</span>Чек-лист проверки</a></span></li></ul></div>"
   ]
  },
  {
   "cell_type": "markdown",
   "metadata": {},
   "source": [
    "# Проект для «Викишоп»"
   ]
  },
  {
   "cell_type": "markdown",
   "metadata": {},
   "source": [
    "Интернет-магазин «Викишоп» запускает новый сервис. Теперь пользователи могут редактировать и дополнять описания товаров, как в вики-сообществах. То есть клиенты предлагают свои правки и комментируют изменения других. Магазину нужен инструмент, который будет искать токсичные комментарии и отправлять их на модерацию. \n",
    "\n",
    "Обучите модель классифицировать комментарии на позитивные и негативные. В вашем распоряжении набор данных с разметкой о токсичности правок.\n",
    "\n",
    "Постройте модель со значением метрики качества *F1* не меньше 0.75. \n",
    "\n",
    "**Инструкция по выполнению проекта**\n",
    "\n",
    "1. Загрузите и подготовьте данные.\n",
    "2. Обучите разные модели. \n",
    "3. Сделайте выводы.\n",
    "\n",
    "Для выполнения проекта применять *BERT* необязательно, но вы можете попробовать.\n",
    "\n",
    "**Описание данных**\n",
    "\n",
    "Данные находятся в файле `toxic_comments.csv`. Столбец *text* в нём содержит текст комментария, а *toxic* — целевой признак."
   ]
  },
  {
   "cell_type": "markdown",
   "metadata": {},
   "source": [
    "## Подготовка"
   ]
  },
  {
   "cell_type": "code",
   "execution_count": 1,
   "metadata": {},
   "outputs": [
    {
     "name": "stderr",
     "output_type": "stream",
     "text": [
      "[nltk_data] Downloading package stopwords to /home/jovyan/nltk_data...\n",
      "[nltk_data]   Package stopwords is already up-to-date!\n",
      "[nltk_data] Downloading package wordnet to /home/jovyan/nltk_data...\n",
      "[nltk_data]   Package wordnet is already up-to-date!\n",
      "[nltk_data] Downloading package averaged_perceptron_tagger to\n",
      "[nltk_data]     /home/jovyan/nltk_data...\n",
      "[nltk_data]   Package averaged_perceptron_tagger is already up-to-\n",
      "[nltk_data]       date!\n"
     ]
    }
   ],
   "source": [
    "from sklearn.metrics import f1_score\n",
    "import numpy as np\n",
    "import pandas as pd\n",
    "from sklearn.linear_model import LogisticRegression\n",
    "from sklearn.model_selection import train_test_split\n",
    "import nltk\n",
    "from nltk.corpus import stopwords as nltk_stopwords\n",
    "from sklearn.feature_extraction.text import TfidfVectorizer\n",
    "from sklearn.linear_model import LogisticRegression\n",
    "from sklearn.ensemble import RandomForestClassifier\n",
    "\n",
    "import re\n",
    "from nltk.corpus import wordnet\n",
    "from nltk.corpus import stopwords\n",
    "from nltk.stem import WordNetLemmatizer\n",
    "nltk.download('stopwords')\n",
    "nltk.download('wordnet')\n",
    "nltk.download('averaged_perceptron_tagger')\n",
    "stopwords = set(nltk_stopwords.words('english'))"
   ]
  },
  {
   "cell_type": "code",
   "execution_count": 2,
   "metadata": {},
   "outputs": [],
   "source": [
    "df = pd.read_csv('/datasets/toxic_comments.csv')"
   ]
  },
  {
   "cell_type": "code",
   "execution_count": 3,
   "metadata": {
    "scrolled": true
   },
   "outputs": [
    {
     "name": "stdout",
     "output_type": "stream",
     "text": [
      "                                                     text  toxic\n",
      "0       Explanation\\nWhy the edits made under my usern...      0\n",
      "1       D'aww! He matches this background colour I'm s...      0\n",
      "2       Hey man, I'm really not trying to edit war. It...      0\n",
      "3       \"\\nMore\\nI can't make any real suggestions on ...      0\n",
      "4       You, sir, are my hero. Any chance you remember...      0\n",
      "...                                                   ...    ...\n",
      "159566  \":::::And for the second time of asking, when ...      0\n",
      "159567  You should be ashamed of yourself \\n\\nThat is ...      0\n",
      "159568  Spitzer \\n\\nUmm, theres no actual article for ...      0\n",
      "159569  And it looks like it was actually you who put ...      0\n",
      "159570  \"\\nAnd ... I really don't think you understand...      0\n",
      "\n",
      "[159571 rows x 2 columns]\n"
     ]
    }
   ],
   "source": [
    "print(df)"
   ]
  },
  {
   "cell_type": "code",
   "execution_count": 4,
   "metadata": {},
   "outputs": [],
   "source": [
    "lemmatizer = WordNetLemmatizer()\n",
    "\n",
    "\n",
    "def lemmatize(text):\n",
    "    lemmatized_output = ' '.join([lemmatizer.lemmatize(w, 'n') for w in nltk.word_tokenize(text)])\n",
    "    return lemmatized_output\n",
    "    \n",
    "\n",
    "def clear_text(text):\n",
    "    text = re.sub(r'[^a-zA-Z ]', ' ', text) \n",
    "    text = text.split()\n",
    "    cleared_text = \" \".join(text)\n",
    "    \n",
    "    return cleared_text"
   ]
  },
  {
   "cell_type": "code",
   "execution_count": 5,
   "metadata": {},
   "outputs": [],
   "source": [
    "df['lemm_text'] = df['text'].apply(clear_text)\n",
    "df['lemm_text'] = df['lemm_text']"
   ]
  },
  {
   "cell_type": "code",
   "execution_count": 6,
   "metadata": {
    "scrolled": true
   },
   "outputs": [
    {
     "name": "stdout",
     "output_type": "stream",
     "text": [
      "                                                text  toxic  \\\n",
      "0  Explanation\\nWhy the edits made under my usern...      0   \n",
      "1  D'aww! He matches this background colour I'm s...      0   \n",
      "2  Hey man, I'm really not trying to edit war. It...      0   \n",
      "3  \"\\nMore\\nI can't make any real suggestions on ...      0   \n",
      "4  You, sir, are my hero. Any chance you remember...      0   \n",
      "\n",
      "                                           lemm_text  \n",
      "0  Explanation Why the edits made under my userna...  \n",
      "1  D aww He matches this background colour I m se...  \n",
      "2  Hey man I m really not trying to edit war It s...  \n",
      "3  More I can t make any real suggestions on impr...  \n",
      "4  You sir are my hero Any chance you remember wh...  \n"
     ]
    }
   ],
   "source": [
    "print(df.head(5))"
   ]
  },
  {
   "cell_type": "code",
   "execution_count": 7,
   "metadata": {},
   "outputs": [],
   "source": [
    "df['lemm_text'] = df['lemm_text'].apply(lemmatize)"
   ]
  },
  {
   "cell_type": "code",
   "execution_count": 8,
   "metadata": {},
   "outputs": [],
   "source": [
    "df['lemm_text'] = df['lemm_text'].str.lower()"
   ]
  },
  {
   "cell_type": "code",
   "execution_count": 9,
   "metadata": {},
   "outputs": [
    {
     "name": "stdout",
     "output_type": "stream",
     "text": [
      "                                                text  toxic  \\\n",
      "0  Explanation\\nWhy the edits made under my usern...      0   \n",
      "1  D'aww! He matches this background colour I'm s...      0   \n",
      "2  Hey man, I'm really not trying to edit war. It...      0   \n",
      "3  \"\\nMore\\nI can't make any real suggestions on ...      0   \n",
      "4  You, sir, are my hero. Any chance you remember...      0   \n",
      "\n",
      "                                           lemm_text  \n",
      "0  explanation why the edits made under my userna...  \n",
      "1  d aww he match this background colour i m seem...  \n",
      "2  hey man i m really not trying to edit war it s...  \n",
      "3  more i can t make any real suggestion on impro...  \n",
      "4  you sir are my hero any chance you remember wh...  \n"
     ]
    }
   ],
   "source": [
    "print(df.head(5))"
   ]
  },
  {
   "cell_type": "markdown",
   "metadata": {},
   "source": [
    "## Обучение"
   ]
  },
  {
   "cell_type": "code",
   "execution_count": 10,
   "metadata": {},
   "outputs": [],
   "source": [
    "train_df, test_df = train_test_split(df, test_size=0.25)"
   ]
  },
  {
   "cell_type": "code",
   "execution_count": 11,
   "metadata": {},
   "outputs": [],
   "source": [
    "corpus = train_df['lemm_text'].values.astype('U')\n",
    "count_tf_idf = TfidfVectorizer(stop_words=stopwords)\n",
    "train_data = count_tf_idf.fit_transform(corpus)"
   ]
  },
  {
   "cell_type": "code",
   "execution_count": 12,
   "metadata": {},
   "outputs": [],
   "source": [
    "corpus_test = test_df['lemm_text'].values.astype('U')\n",
    "test_data = count_tf_idf.transform(corpus_test)"
   ]
  },
  {
   "cell_type": "markdown",
   "metadata": {},
   "source": [
    "### LogisticRegression"
   ]
  },
  {
   "cell_type": "code",
   "execution_count": 25,
   "metadata": {},
   "outputs": [
    {
     "name": "stderr",
     "output_type": "stream",
     "text": [
      "/opt/conda/lib/python3.7/site-packages/sklearn/linear_model/logistic.py:432: FutureWarning: Default solver will be changed to 'lbfgs' in 0.22. Specify a solver to silence this warning.\n",
      "  FutureWarning)\n"
     ]
    }
   ],
   "source": [
    "model = LogisticRegression(class_weight='balanced')\n",
    "model.fit(train_data, train_df['toxic'])\n",
    "predictions = model.predict(test_data)"
   ]
  },
  {
   "cell_type": "code",
   "execution_count": 26,
   "metadata": {
    "scrolled": true
   },
   "outputs": [
    {
     "name": "stdout",
     "output_type": "stream",
     "text": [
      "0.7552416685058487\n"
     ]
    }
   ],
   "source": [
    "print(f1_score(predictions, test_df['toxic']))"
   ]
  },
  {
   "cell_type": "markdown",
   "metadata": {},
   "source": [
    "### RandomForestClassifier"
   ]
  },
  {
   "cell_type": "code",
   "execution_count": 22,
   "metadata": {},
   "outputs": [
    {
     "data": {
      "text/plain": [
       "0    35898\n",
       "1     3995\n",
       "Name: toxic, dtype: int64"
      ]
     },
     "execution_count": 22,
     "metadata": {},
     "output_type": "execute_result"
    }
   ],
   "source": [
    "test_df['toxic'].value_counts()"
   ]
  },
  {
   "cell_type": "code",
   "execution_count": 24,
   "metadata": {},
   "outputs": [
    {
     "name": "stdout",
     "output_type": "stream",
     "text": [
      "0.2595732711857596\n"
     ]
    }
   ],
   "source": [
    "model = RandomForestClassifier(n_estimators=20, max_depth=4, class_weight = 'balanced')\n",
    "model.fit(train_data, train_df['toxic'])\n",
    "predictions = model.predict(test_data)\n",
    "print(f1_score(predictions, test_df['toxic']))"
   ]
  },
  {
   "cell_type": "markdown",
   "metadata": {},
   "source": [
    "## Выводы"
   ]
  },
  {
   "cell_type": "markdown",
   "metadata": {},
   "source": [
    "Модель LogisticRegression показывает необходимо минимальный результат F1 = 0.7552416685058487"
   ]
  }
 ],
 "metadata": {
  "ExecuteTimeLog": [
   {
    "duration": 1924,
    "start_time": "2021-12-05T14:52:30.873Z"
   },
   {
    "duration": 795,
    "start_time": "2021-12-05T14:52:32.799Z"
   },
   {
    "duration": 10,
    "start_time": "2021-12-05T14:52:33.598Z"
   },
   {
    "duration": 1675,
    "start_time": "2021-12-05T15:32:57.456Z"
   },
   {
    "duration": 781,
    "start_time": "2021-12-05T15:32:59.133Z"
   },
   {
    "duration": 9,
    "start_time": "2021-12-05T15:32:59.917Z"
   },
   {
    "duration": 8,
    "start_time": "2021-12-05T15:32:59.929Z"
   },
   {
    "duration": 1953,
    "start_time": "2021-12-05T15:32:59.939Z"
   },
   {
    "duration": 338,
    "start_time": "2021-12-05T15:33:01.558Z"
   },
   {
    "duration": 305,
    "start_time": "2021-12-05T15:33:01.593Z"
   },
   {
    "duration": 306,
    "start_time": "2021-12-05T15:33:01.594Z"
   },
   {
    "duration": 307,
    "start_time": "2021-12-05T15:33:01.595Z"
   },
   {
    "duration": 307,
    "start_time": "2021-12-05T15:33:01.597Z"
   },
   {
    "duration": 1686,
    "start_time": "2021-12-05T15:33:49.492Z"
   },
   {
    "duration": 790,
    "start_time": "2021-12-05T15:33:51.181Z"
   },
   {
    "duration": 12,
    "start_time": "2021-12-05T15:33:51.974Z"
   },
   {
    "duration": 5,
    "start_time": "2021-12-05T15:33:51.989Z"
   },
   {
    "duration": 1649,
    "start_time": "2021-12-05T16:04:49.309Z"
   },
   {
    "duration": 811,
    "start_time": "2021-12-05T16:04:50.962Z"
   },
   {
    "duration": 10,
    "start_time": "2021-12-05T16:04:51.783Z"
   },
   {
    "duration": 9,
    "start_time": "2021-12-05T16:04:51.795Z"
   },
   {
    "duration": 1924,
    "start_time": "2021-12-05T18:35:59.578Z"
   },
   {
    "duration": 808,
    "start_time": "2021-12-05T18:36:01.505Z"
   },
   {
    "duration": 10,
    "start_time": "2021-12-05T18:36:02.316Z"
   },
   {
    "duration": 13,
    "start_time": "2021-12-05T18:36:02.329Z"
   },
   {
    "duration": 2031,
    "start_time": "2021-12-05T18:44:51.249Z"
   },
   {
    "duration": 782,
    "start_time": "2021-12-05T18:44:53.283Z"
   },
   {
    "duration": 14,
    "start_time": "2021-12-05T18:44:54.068Z"
   },
   {
    "duration": 5,
    "start_time": "2021-12-05T18:44:54.085Z"
   },
   {
    "duration": 7822,
    "start_time": "2021-12-05T18:44:54.092Z"
   },
   {
    "duration": 77,
    "start_time": "2021-12-05T18:45:01.917Z"
   },
   {
    "duration": 12621,
    "start_time": "2021-12-05T18:45:01.997Z"
   },
   {
    "duration": 4367,
    "start_time": "2021-12-05T18:45:14.620Z"
   },
   {
    "duration": 8973,
    "start_time": "2021-12-05T18:45:18.990Z"
   },
   {
    "duration": 38,
    "start_time": "2021-12-05T18:45:27.966Z"
   },
   {
    "duration": 8,
    "start_time": "2021-12-05T18:46:23.537Z"
   },
   {
    "duration": 14,
    "start_time": "2021-12-05T18:48:08.367Z"
   },
   {
    "duration": 5,
    "start_time": "2021-12-05T18:51:56.240Z"
   },
   {
    "duration": 6,
    "start_time": "2021-12-05T18:57:20.880Z"
   },
   {
    "duration": 1879,
    "start_time": "2021-12-05T19:00:50.571Z"
   },
   {
    "duration": 840,
    "start_time": "2021-12-05T19:00:52.453Z"
   },
   {
    "duration": 10,
    "start_time": "2021-12-05T19:00:53.297Z"
   },
   {
    "duration": 97,
    "start_time": "2021-12-05T19:00:53.311Z"
   },
   {
    "duration": 489,
    "start_time": "2021-12-05T19:00:52.924Z"
   },
   {
    "duration": 482,
    "start_time": "2021-12-05T19:00:52.933Z"
   },
   {
    "duration": 483,
    "start_time": "2021-12-05T19:00:52.934Z"
   },
   {
    "duration": 481,
    "start_time": "2021-12-05T19:00:52.938Z"
   },
   {
    "duration": 481,
    "start_time": "2021-12-05T19:00:52.941Z"
   },
   {
    "duration": 480,
    "start_time": "2021-12-05T19:00:52.944Z"
   },
   {
    "duration": 473,
    "start_time": "2021-12-05T19:00:52.953Z"
   },
   {
    "duration": 471,
    "start_time": "2021-12-05T19:00:52.956Z"
   },
   {
    "duration": 111,
    "start_time": "2021-12-05T19:01:24.465Z"
   },
   {
    "duration": 8,
    "start_time": "2021-12-05T19:01:56.122Z"
   },
   {
    "duration": 1245,
    "start_time": "2021-12-05T19:01:58.538Z"
   },
   {
    "duration": 15925,
    "start_time": "2021-12-05T19:02:15.657Z"
   },
   {
    "duration": 7,
    "start_time": "2021-12-05T19:04:03.666Z"
   },
   {
    "duration": 55353,
    "start_time": "2021-12-05T19:04:05.426Z"
   },
   {
    "duration": 14,
    "start_time": "2021-12-05T19:05:05.355Z"
   },
   {
    "duration": 2230,
    "start_time": "2021-12-05T19:13:13.861Z"
   },
   {
    "duration": 877,
    "start_time": "2021-12-05T19:13:16.094Z"
   },
   {
    "duration": 13,
    "start_time": "2021-12-05T19:13:16.974Z"
   },
   {
    "duration": 7,
    "start_time": "2021-12-05T19:13:16.990Z"
   },
   {
    "duration": 2287,
    "start_time": "2021-12-05T19:13:16.999Z"
   },
   {
    "duration": 5000,
    "start_time": "2021-12-05T19:13:19.288Z"
   },
   {
    "duration": 459,
    "start_time": "2021-12-05T19:13:23.833Z"
   },
   {
    "duration": 457,
    "start_time": "2021-12-05T19:13:23.837Z"
   },
   {
    "duration": 455,
    "start_time": "2021-12-05T19:13:23.840Z"
   },
   {
    "duration": 450,
    "start_time": "2021-12-05T19:13:23.847Z"
   },
   {
    "duration": 445,
    "start_time": "2021-12-05T19:13:23.853Z"
   },
   {
    "duration": 437,
    "start_time": "2021-12-05T19:13:23.863Z"
   },
   {
    "duration": 5,
    "start_time": "2021-12-05T19:13:28.167Z"
   },
   {
    "duration": 1799,
    "start_time": "2021-12-05T19:21:00.932Z"
   },
   {
    "duration": 813,
    "start_time": "2021-12-05T19:21:02.734Z"
   },
   {
    "duration": 9,
    "start_time": "2021-12-05T19:21:03.550Z"
   },
   {
    "duration": 20,
    "start_time": "2021-12-05T19:21:03.562Z"
   },
   {
    "duration": 90867,
    "start_time": "2021-12-05T19:21:03.585Z"
   },
   {
    "duration": 439,
    "start_time": "2021-12-05T19:22:34.017Z"
   },
   {
    "duration": 439,
    "start_time": "2021-12-05T19:22:34.019Z"
   },
   {
    "duration": 438,
    "start_time": "2021-12-05T19:22:34.022Z"
   },
   {
    "duration": 437,
    "start_time": "2021-12-05T19:22:34.025Z"
   },
   {
    "duration": 435,
    "start_time": "2021-12-05T19:22:34.029Z"
   },
   {
    "duration": 434,
    "start_time": "2021-12-05T19:22:34.032Z"
   },
   {
    "duration": 2258,
    "start_time": "2021-12-05T19:23:06.703Z"
   },
   {
    "duration": 798,
    "start_time": "2021-12-05T19:23:08.965Z"
   },
   {
    "duration": 20,
    "start_time": "2021-12-05T19:23:09.767Z"
   },
   {
    "duration": 6,
    "start_time": "2021-12-05T19:23:09.790Z"
   },
   {
    "duration": 2783,
    "start_time": "2021-12-05T19:23:09.799Z"
   },
   {
    "duration": 9,
    "start_time": "2021-12-05T19:23:12.585Z"
   },
   {
    "duration": 140504,
    "start_time": "2021-12-05T19:23:12.596Z"
   },
   {
    "duration": 7,
    "start_time": "2021-12-05T19:25:33.104Z"
   },
   {
    "duration": 90,
    "start_time": "2021-12-05T19:25:33.115Z"
   },
   {
    "duration": 480,
    "start_time": "2021-12-05T19:25:33.208Z"
   },
   {
    "duration": 456,
    "start_time": "2021-12-05T19:25:33.236Z"
   },
   {
    "duration": 437,
    "start_time": "2021-12-05T19:25:33.257Z"
   },
   {
    "duration": 435,
    "start_time": "2021-12-05T19:25:33.261Z"
   },
   {
    "duration": 1922,
    "start_time": "2021-12-05T19:27:37.656Z"
   },
   {
    "duration": 804,
    "start_time": "2021-12-05T19:27:39.581Z"
   },
   {
    "duration": 10,
    "start_time": "2021-12-05T19:27:40.388Z"
   },
   {
    "duration": 12,
    "start_time": "2021-12-05T19:27:40.401Z"
   },
   {
    "duration": 2787,
    "start_time": "2021-12-05T19:27:40.416Z"
   },
   {
    "duration": 7,
    "start_time": "2021-12-05T19:27:43.206Z"
   },
   {
    "duration": 3674,
    "start_time": "2021-12-05T19:27:43.216Z"
   },
   {
    "duration": 459,
    "start_time": "2021-12-05T19:27:46.435Z"
   },
   {
    "duration": 457,
    "start_time": "2021-12-05T19:27:46.439Z"
   },
   {
    "duration": 456,
    "start_time": "2021-12-05T19:27:46.442Z"
   },
   {
    "duration": 456,
    "start_time": "2021-12-05T19:27:46.444Z"
   },
   {
    "duration": 456,
    "start_time": "2021-12-05T19:27:46.446Z"
   },
   {
    "duration": 449,
    "start_time": "2021-12-05T19:27:46.454Z"
   },
   {
    "duration": 13,
    "start_time": "2021-12-05T19:29:14.933Z"
   },
   {
    "duration": 110,
    "start_time": "2021-12-05T19:31:34.690Z"
   },
   {
    "duration": 6,
    "start_time": "2021-12-05T19:32:12.821Z"
   },
   {
    "duration": 5,
    "start_time": "2021-12-05T19:32:16.554Z"
   },
   {
    "duration": 6,
    "start_time": "2021-12-05T19:32:24.505Z"
   },
   {
    "duration": 5,
    "start_time": "2021-12-05T19:32:27.383Z"
   },
   {
    "duration": 6,
    "start_time": "2021-12-05T19:33:49.522Z"
   },
   {
    "duration": 583,
    "start_time": "2021-12-05T19:33:52.078Z"
   },
   {
    "duration": 5,
    "start_time": "2021-12-05T19:34:10.952Z"
   },
   {
    "duration": 5,
    "start_time": "2021-12-05T19:34:13.897Z"
   },
   {
    "duration": 1694,
    "start_time": "2021-12-05T19:34:24.718Z"
   },
   {
    "duration": 1173,
    "start_time": "2021-12-05T19:34:26.416Z"
   },
   {
    "duration": 12,
    "start_time": "2021-12-05T19:34:27.594Z"
   },
   {
    "duration": 10,
    "start_time": "2021-12-05T19:34:27.610Z"
   },
   {
    "duration": 2892,
    "start_time": "2021-12-05T19:34:27.623Z"
   },
   {
    "duration": 10,
    "start_time": "2021-12-05T19:34:30.518Z"
   },
   {
    "duration": 6208,
    "start_time": "2021-12-05T19:34:30.531Z"
   },
   {
    "duration": 443,
    "start_time": "2021-12-05T19:34:36.300Z"
   },
   {
    "duration": 443,
    "start_time": "2021-12-05T19:34:36.302Z"
   },
   {
    "duration": 442,
    "start_time": "2021-12-05T19:34:36.304Z"
   },
   {
    "duration": 441,
    "start_time": "2021-12-05T19:34:36.307Z"
   },
   {
    "duration": 439,
    "start_time": "2021-12-05T19:34:36.311Z"
   },
   {
    "duration": 437,
    "start_time": "2021-12-05T19:34:36.315Z"
   },
   {
    "duration": 1851,
    "start_time": "2021-12-05T19:35:11.301Z"
   },
   {
    "duration": 899,
    "start_time": "2021-12-05T19:35:13.155Z"
   },
   {
    "duration": 9,
    "start_time": "2021-12-05T19:35:14.057Z"
   },
   {
    "duration": 14,
    "start_time": "2021-12-05T19:35:14.069Z"
   },
   {
    "duration": 2797,
    "start_time": "2021-12-05T19:35:14.086Z"
   },
   {
    "duration": 10,
    "start_time": "2021-12-05T19:35:16.886Z"
   },
   {
    "duration": 91423,
    "start_time": "2021-12-05T19:35:16.898Z"
   },
   {
    "duration": 9,
    "start_time": "2021-12-05T19:36:48.325Z"
   },
   {
    "duration": 106,
    "start_time": "2021-12-05T19:36:48.337Z"
   },
   {
    "duration": 12637,
    "start_time": "2021-12-05T19:36:48.446Z"
   },
   {
    "duration": 4336,
    "start_time": "2021-12-05T19:37:01.086Z"
   },
   {
    "duration": 9527,
    "start_time": "2021-12-05T19:37:05.425Z"
   },
   {
    "duration": 32,
    "start_time": "2021-12-05T19:37:14.954Z"
   },
   {
    "duration": 553,
    "start_time": "2021-12-05T19:38:22.467Z"
   },
   {
    "duration": 14,
    "start_time": "2021-12-05T19:38:31.993Z"
   },
   {
    "duration": 5,
    "start_time": "2021-12-05T19:39:24.769Z"
   },
   {
    "duration": 283,
    "start_time": "2021-12-05T19:42:04.455Z"
   },
   {
    "duration": 6,
    "start_time": "2021-12-05T19:42:12.297Z"
   },
   {
    "duration": 6,
    "start_time": "2021-12-05T19:42:20.242Z"
   },
   {
    "duration": 6,
    "start_time": "2021-12-05T19:44:12.725Z"
   },
   {
    "duration": 6,
    "start_time": "2021-12-05T19:46:03.155Z"
   },
   {
    "duration": 6,
    "start_time": "2021-12-05T19:46:48.043Z"
   },
   {
    "duration": 5,
    "start_time": "2021-12-05T19:46:50.407Z"
   },
   {
    "duration": 553,
    "start_time": "2021-12-05T19:47:06.701Z"
   },
   {
    "duration": 7,
    "start_time": "2021-12-05T19:47:14.538Z"
   },
   {
    "duration": 14,
    "start_time": "2021-12-05T19:47:16.486Z"
   },
   {
    "duration": 3032,
    "start_time": "2021-12-05T19:54:02.543Z"
   },
   {
    "duration": 790,
    "start_time": "2021-12-05T19:54:05.578Z"
   },
   {
    "duration": 13,
    "start_time": "2021-12-05T19:54:06.371Z"
   },
   {
    "duration": 1463,
    "start_time": "2021-12-05T19:54:06.387Z"
   },
   {
    "duration": 498,
    "start_time": "2021-12-05T19:54:07.357Z"
   },
   {
    "duration": 498,
    "start_time": "2021-12-05T19:54:07.359Z"
   },
   {
    "duration": 498,
    "start_time": "2021-12-05T19:54:07.361Z"
   },
   {
    "duration": 498,
    "start_time": "2021-12-05T19:54:07.363Z"
   },
   {
    "duration": 499,
    "start_time": "2021-12-05T19:54:07.365Z"
   },
   {
    "duration": 499,
    "start_time": "2021-12-05T19:54:07.367Z"
   },
   {
    "duration": 492,
    "start_time": "2021-12-05T19:54:07.376Z"
   },
   {
    "duration": 491,
    "start_time": "2021-12-05T19:54:07.378Z"
   },
   {
    "duration": 491,
    "start_time": "2021-12-05T19:54:07.380Z"
   },
   {
    "duration": 490,
    "start_time": "2021-12-05T19:54:07.383Z"
   },
   {
    "duration": 485,
    "start_time": "2021-12-05T19:54:07.389Z"
   },
   {
    "duration": 101,
    "start_time": "2021-12-05T19:55:51.126Z"
   },
   {
    "duration": 4613,
    "start_time": "2021-12-05T19:55:59.271Z"
   },
   {
    "duration": 7297,
    "start_time": "2021-12-05T19:56:09.997Z"
   },
   {
    "duration": 830,
    "start_time": "2021-12-05T19:56:17.297Z"
   },
   {
    "duration": 10,
    "start_time": "2021-12-05T19:56:18.131Z"
   },
   {
    "duration": 1142,
    "start_time": "2021-12-05T19:56:18.144Z"
   },
   {
    "duration": 490,
    "start_time": "2021-12-05T19:56:18.799Z"
   },
   {
    "duration": 490,
    "start_time": "2021-12-05T19:56:18.801Z"
   },
   {
    "duration": 490,
    "start_time": "2021-12-05T19:56:18.803Z"
   },
   {
    "duration": 486,
    "start_time": "2021-12-05T19:56:18.809Z"
   },
   {
    "duration": 485,
    "start_time": "2021-12-05T19:56:18.811Z"
   },
   {
    "duration": 485,
    "start_time": "2021-12-05T19:56:18.813Z"
   },
   {
    "duration": 485,
    "start_time": "2021-12-05T19:56:18.815Z"
   },
   {
    "duration": 485,
    "start_time": "2021-12-05T19:56:18.817Z"
   },
   {
    "duration": 482,
    "start_time": "2021-12-05T19:56:18.821Z"
   },
   {
    "duration": 477,
    "start_time": "2021-12-05T19:56:18.828Z"
   },
   {
    "duration": 475,
    "start_time": "2021-12-05T19:56:18.831Z"
   },
   {
    "duration": 9091,
    "start_time": "2021-12-05T19:56:43.402Z"
   },
   {
    "duration": 11508,
    "start_time": "2021-12-05T19:57:06.710Z"
   },
   {
    "duration": 1119,
    "start_time": "2021-12-05T19:57:18.221Z"
   },
   {
    "duration": 12,
    "start_time": "2021-12-05T19:57:19.344Z"
   },
   {
    "duration": 1381,
    "start_time": "2021-12-05T19:57:19.359Z"
   },
   {
    "duration": 454,
    "start_time": "2021-12-05T19:57:20.290Z"
   },
   {
    "duration": 449,
    "start_time": "2021-12-05T19:57:20.296Z"
   },
   {
    "duration": 449,
    "start_time": "2021-12-05T19:57:20.298Z"
   },
   {
    "duration": 448,
    "start_time": "2021-12-05T19:57:20.300Z"
   },
   {
    "duration": 448,
    "start_time": "2021-12-05T19:57:20.302Z"
   },
   {
    "duration": 448,
    "start_time": "2021-12-05T19:57:20.304Z"
   },
   {
    "duration": 446,
    "start_time": "2021-12-05T19:57:20.307Z"
   },
   {
    "duration": 443,
    "start_time": "2021-12-05T19:57:20.312Z"
   },
   {
    "duration": 442,
    "start_time": "2021-12-05T19:57:20.315Z"
   },
   {
    "duration": 442,
    "start_time": "2021-12-05T19:57:20.317Z"
   },
   {
    "duration": 441,
    "start_time": "2021-12-05T19:57:20.319Z"
   },
   {
    "duration": 9515,
    "start_time": "2021-12-05T19:58:29.356Z"
   },
   {
    "duration": 798,
    "start_time": "2021-12-05T19:58:38.874Z"
   },
   {
    "duration": 10,
    "start_time": "2021-12-05T19:58:39.675Z"
   },
   {
    "duration": 1416,
    "start_time": "2021-12-05T19:58:39.689Z"
   },
   {
    "duration": 490,
    "start_time": "2021-12-05T19:58:40.620Z"
   },
   {
    "duration": 490,
    "start_time": "2021-12-05T19:58:40.622Z"
   },
   {
    "duration": 489,
    "start_time": "2021-12-05T19:58:40.624Z"
   },
   {
    "duration": 488,
    "start_time": "2021-12-05T19:58:40.626Z"
   },
   {
    "duration": 487,
    "start_time": "2021-12-05T19:58:40.628Z"
   },
   {
    "duration": 487,
    "start_time": "2021-12-05T19:58:40.630Z"
   },
   {
    "duration": 484,
    "start_time": "2021-12-05T19:58:40.634Z"
   },
   {
    "duration": 483,
    "start_time": "2021-12-05T19:58:40.636Z"
   },
   {
    "duration": 482,
    "start_time": "2021-12-05T19:58:40.639Z"
   },
   {
    "duration": 480,
    "start_time": "2021-12-05T19:58:40.642Z"
   },
   {
    "duration": 479,
    "start_time": "2021-12-05T19:58:40.644Z"
   },
   {
    "duration": 16828,
    "start_time": "2021-12-05T19:59:23.845Z"
   },
   {
    "duration": 779,
    "start_time": "2021-12-05T19:59:40.676Z"
   },
   {
    "duration": 8,
    "start_time": "2021-12-05T19:59:41.459Z"
   },
   {
    "duration": 1162,
    "start_time": "2021-12-05T19:59:41.470Z"
   },
   {
    "duration": 502,
    "start_time": "2021-12-05T19:59:42.133Z"
   },
   {
    "duration": 502,
    "start_time": "2021-12-05T19:59:42.135Z"
   },
   {
    "duration": 497,
    "start_time": "2021-12-05T19:59:42.142Z"
   },
   {
    "duration": 495,
    "start_time": "2021-12-05T19:59:42.145Z"
   },
   {
    "duration": 495,
    "start_time": "2021-12-05T19:59:42.147Z"
   },
   {
    "duration": 494,
    "start_time": "2021-12-05T19:59:42.150Z"
   },
   {
    "duration": 495,
    "start_time": "2021-12-05T19:59:42.151Z"
   },
   {
    "duration": 494,
    "start_time": "2021-12-05T19:59:42.153Z"
   },
   {
    "duration": 489,
    "start_time": "2021-12-05T19:59:42.159Z"
   },
   {
    "duration": 488,
    "start_time": "2021-12-05T19:59:42.162Z"
   },
   {
    "duration": 487,
    "start_time": "2021-12-05T19:59:42.164Z"
   },
   {
    "duration": 37087,
    "start_time": "2021-12-05T20:00:30.392Z"
   },
   {
    "duration": 1144,
    "start_time": "2021-12-05T20:01:07.483Z"
   },
   {
    "duration": 12,
    "start_time": "2021-12-05T20:01:08.631Z"
   },
   {
    "duration": 1406,
    "start_time": "2021-12-05T20:01:08.647Z"
   },
   {
    "duration": 502,
    "start_time": "2021-12-05T20:01:09.555Z"
   },
   {
    "duration": 502,
    "start_time": "2021-12-05T20:01:09.557Z"
   },
   {
    "duration": 503,
    "start_time": "2021-12-05T20:01:09.558Z"
   },
   {
    "duration": 504,
    "start_time": "2021-12-05T20:01:09.559Z"
   },
   {
    "duration": 504,
    "start_time": "2021-12-05T20:01:09.561Z"
   },
   {
    "duration": 502,
    "start_time": "2021-12-05T20:01:09.565Z"
   },
   {
    "duration": 498,
    "start_time": "2021-12-05T20:01:09.571Z"
   },
   {
    "duration": 498,
    "start_time": "2021-12-05T20:01:09.572Z"
   },
   {
    "duration": 499,
    "start_time": "2021-12-05T20:01:09.573Z"
   },
   {
    "duration": 499,
    "start_time": "2021-12-05T20:01:09.575Z"
   },
   {
    "duration": 495,
    "start_time": "2021-12-05T20:01:09.581Z"
   },
   {
    "duration": 390,
    "start_time": "2021-12-05T20:01:36.357Z"
   },
   {
    "duration": 978,
    "start_time": "2021-12-05T20:01:56.292Z"
   },
   {
    "duration": 1688,
    "start_time": "2021-12-05T20:04:19.827Z"
   },
   {
    "duration": 784,
    "start_time": "2021-12-05T20:04:21.518Z"
   },
   {
    "duration": 9,
    "start_time": "2021-12-05T20:04:22.305Z"
   },
   {
    "duration": 8,
    "start_time": "2021-12-05T20:04:22.317Z"
   },
   {
    "duration": 1079,
    "start_time": "2021-12-05T20:04:22.328Z"
   },
   {
    "duration": 507,
    "start_time": "2021-12-05T20:04:22.905Z"
   },
   {
    "duration": 498,
    "start_time": "2021-12-05T20:04:22.915Z"
   },
   {
    "duration": 497,
    "start_time": "2021-12-05T20:04:22.918Z"
   },
   {
    "duration": 490,
    "start_time": "2021-12-05T20:04:22.927Z"
   },
   {
    "duration": 488,
    "start_time": "2021-12-05T20:04:22.931Z"
   },
   {
    "duration": 488,
    "start_time": "2021-12-05T20:04:22.933Z"
   },
   {
    "duration": 486,
    "start_time": "2021-12-05T20:04:22.937Z"
   },
   {
    "duration": 479,
    "start_time": "2021-12-05T20:04:22.946Z"
   },
   {
    "duration": 477,
    "start_time": "2021-12-05T20:04:22.950Z"
   },
   {
    "duration": 476,
    "start_time": "2021-12-05T20:04:22.953Z"
   },
   {
    "duration": 5,
    "start_time": "2021-12-05T20:04:37.667Z"
   },
   {
    "duration": 2229,
    "start_time": "2021-12-05T20:04:38.783Z"
   },
   {
    "duration": 6,
    "start_time": "2021-12-05T20:04:46.485Z"
   },
   {
    "duration": 6,
    "start_time": "2021-12-05T20:04:53.688Z"
   },
   {
    "duration": 7,
    "start_time": "2021-12-05T20:07:54.446Z"
   },
   {
    "duration": 626,
    "start_time": "2021-12-05T20:07:58.429Z"
   },
   {
    "duration": 7,
    "start_time": "2021-12-05T20:08:15.403Z"
   },
   {
    "duration": 1201,
    "start_time": "2021-12-05T20:08:17.200Z"
   },
   {
    "duration": 8,
    "start_time": "2021-12-05T20:08:26.136Z"
   },
   {
    "duration": 7,
    "start_time": "2021-12-05T20:08:29.805Z"
   },
   {
    "duration": 1199,
    "start_time": "2021-12-05T20:08:33.186Z"
   },
   {
    "duration": 446,
    "start_time": "2021-12-05T20:08:57.271Z"
   },
   {
    "duration": 9,
    "start_time": "2021-12-05T20:09:01.033Z"
   },
   {
    "duration": 146,
    "start_time": "2021-12-05T20:09:04.541Z"
   },
   {
    "duration": 6,
    "start_time": "2021-12-05T20:09:18.000Z"
   },
   {
    "duration": 7,
    "start_time": "2021-12-05T20:09:26.957Z"
   },
   {
    "duration": 5,
    "start_time": "2021-12-05T20:09:38.097Z"
   },
   {
    "duration": 6,
    "start_time": "2021-12-05T20:10:12.508Z"
   },
   {
    "duration": 6,
    "start_time": "2021-12-05T20:10:19.890Z"
   },
   {
    "duration": 2846,
    "start_time": "2021-12-05T20:10:27.258Z"
   },
   {
    "duration": 8,
    "start_time": "2021-12-05T20:10:33.415Z"
   },
   {
    "duration": 1089457,
    "start_time": "2021-12-05T20:10:36.392Z"
   },
   {
    "duration": 14487,
    "start_time": "2021-12-05T20:29:50.608Z"
   },
   {
    "duration": 8,
    "start_time": "2021-12-05T20:30:37.547Z"
   },
   {
    "duration": 2259,
    "start_time": "2021-12-05T20:31:52.794Z"
   },
   {
    "duration": 832,
    "start_time": "2021-12-05T20:31:55.056Z"
   },
   {
    "duration": 8,
    "start_time": "2021-12-05T20:31:55.891Z"
   },
   {
    "duration": 7,
    "start_time": "2021-12-05T20:31:55.902Z"
   },
   {
    "duration": 3000,
    "start_time": "2021-12-05T20:31:55.911Z"
   },
   {
    "duration": 7,
    "start_time": "2021-12-05T20:31:58.914Z"
   },
   {
    "duration": 2279849,
    "start_time": "2021-12-05T20:31:58.923Z"
   },
   {
    "duration": 12,
    "start_time": "2021-12-05T21:09:58.776Z"
   },
   {
    "duration": 65,
    "start_time": "2021-12-05T21:09:58.790Z"
   },
   {
    "duration": 13561,
    "start_time": "2021-12-05T21:09:58.857Z"
   },
   {
    "duration": 4613,
    "start_time": "2021-12-05T21:10:12.420Z"
   },
   {
    "duration": 10003,
    "start_time": "2021-12-05T21:10:17.035Z"
   },
   {
    "duration": 42,
    "start_time": "2021-12-05T21:10:27.041Z"
   },
   {
    "duration": 52,
    "start_time": "2021-12-05T21:11:19.711Z"
   },
   {
    "duration": 66,
    "start_time": "2021-12-05T21:11:22.355Z"
   },
   {
    "duration": 2356,
    "start_time": "2021-12-05T21:11:23.547Z"
   },
   {
    "duration": 774,
    "start_time": "2021-12-05T21:11:27.912Z"
   },
   {
    "duration": 214,
    "start_time": "2021-12-05T21:11:29.337Z"
   },
   {
    "duration": 20,
    "start_time": "2021-12-05T21:11:31.865Z"
   },
   {
    "duration": 17,
    "start_time": "2021-12-05T21:11:48.549Z"
   },
   {
    "duration": 40,
    "start_time": "2021-12-05T21:11:50.037Z"
   },
   {
    "duration": 2335,
    "start_time": "2021-12-05T21:11:54.162Z"
   },
   {
    "duration": 728,
    "start_time": "2021-12-05T21:12:00.863Z"
   },
   {
    "duration": 226,
    "start_time": "2021-12-05T21:12:02.281Z"
   },
   {
    "duration": 20,
    "start_time": "2021-12-05T21:12:05.884Z"
   },
   {
    "duration": 8,
    "start_time": "2021-12-05T21:13:23.433Z"
   },
   {
    "duration": 5,
    "start_time": "2021-12-05T21:13:54.499Z"
   },
   {
    "duration": 1674,
    "start_time": "2021-12-05T21:14:43.984Z"
   },
   {
    "duration": 788,
    "start_time": "2021-12-05T21:14:45.660Z"
   },
   {
    "duration": 10,
    "start_time": "2021-12-05T21:14:46.451Z"
   },
   {
    "duration": 6,
    "start_time": "2021-12-05T21:14:46.481Z"
   },
   {
    "duration": 1537,
    "start_time": "2021-12-05T21:14:46.489Z"
   },
   {
    "duration": 568,
    "start_time": "2021-12-05T21:14:47.460Z"
   },
   {
    "duration": 565,
    "start_time": "2021-12-05T21:14:47.465Z"
   },
   {
    "duration": 564,
    "start_time": "2021-12-05T21:14:47.467Z"
   },
   {
    "duration": 558,
    "start_time": "2021-12-05T21:14:47.474Z"
   },
   {
    "duration": 558,
    "start_time": "2021-12-05T21:14:47.476Z"
   },
   {
    "duration": 558,
    "start_time": "2021-12-05T21:14:47.477Z"
   },
   {
    "duration": 556,
    "start_time": "2021-12-05T21:14:47.481Z"
   },
   {
    "duration": 555,
    "start_time": "2021-12-05T21:14:47.483Z"
   },
   {
    "duration": 552,
    "start_time": "2021-12-05T21:14:47.488Z"
   },
   {
    "duration": 2346,
    "start_time": "2021-12-05T21:15:02.162Z"
   },
   {
    "duration": 1147,
    "start_time": "2021-12-05T21:15:04.512Z"
   },
   {
    "duration": 11,
    "start_time": "2021-12-05T21:15:05.663Z"
   },
   {
    "duration": 5,
    "start_time": "2021-12-05T21:15:05.683Z"
   },
   {
    "duration": 2946,
    "start_time": "2021-12-05T21:15:05.690Z"
   },
   {
    "duration": 7,
    "start_time": "2021-12-05T21:15:08.638Z"
   },
   {
    "duration": 1587,
    "start_time": "2021-12-05T21:15:08.648Z"
   },
   {
    "duration": 545,
    "start_time": "2021-12-05T21:15:09.695Z"
   },
   {
    "duration": 545,
    "start_time": "2021-12-05T21:15:09.697Z"
   },
   {
    "duration": 545,
    "start_time": "2021-12-05T21:15:09.698Z"
   },
   {
    "duration": 544,
    "start_time": "2021-12-05T21:15:09.700Z"
   },
   {
    "duration": 545,
    "start_time": "2021-12-05T21:15:09.701Z"
   },
   {
    "duration": 545,
    "start_time": "2021-12-05T21:15:09.702Z"
   },
   {
    "duration": 542,
    "start_time": "2021-12-05T21:15:09.707Z"
   },
   {
    "duration": 1750,
    "start_time": "2021-12-05T21:16:06.452Z"
   },
   {
    "duration": 887,
    "start_time": "2021-12-05T21:16:08.206Z"
   },
   {
    "duration": 8,
    "start_time": "2021-12-05T21:16:09.097Z"
   },
   {
    "duration": 14,
    "start_time": "2021-12-05T21:16:09.109Z"
   },
   {
    "duration": 2851,
    "start_time": "2021-12-05T21:16:09.126Z"
   },
   {
    "duration": 7,
    "start_time": "2021-12-05T21:16:11.981Z"
   },
   {
    "duration": 2275,
    "start_time": "2021-12-05T21:16:11.991Z"
   },
   {
    "duration": 532,
    "start_time": "2021-12-05T21:16:13.740Z"
   },
   {
    "duration": 532,
    "start_time": "2021-12-05T21:16:13.742Z"
   },
   {
    "duration": 533,
    "start_time": "2021-12-05T21:16:13.743Z"
   },
   {
    "duration": 533,
    "start_time": "2021-12-05T21:16:13.745Z"
   },
   {
    "duration": 532,
    "start_time": "2021-12-05T21:16:13.747Z"
   },
   {
    "duration": 527,
    "start_time": "2021-12-05T21:16:13.753Z"
   },
   {
    "duration": 527,
    "start_time": "2021-12-05T21:16:13.755Z"
   },
   {
    "duration": 1756,
    "start_time": "2021-12-05T21:16:43.193Z"
   },
   {
    "duration": 783,
    "start_time": "2021-12-05T21:16:44.952Z"
   },
   {
    "duration": 9,
    "start_time": "2021-12-05T21:16:45.738Z"
   },
   {
    "duration": 5,
    "start_time": "2021-12-05T21:16:45.750Z"
   },
   {
    "duration": 3063,
    "start_time": "2021-12-05T21:16:45.758Z"
   },
   {
    "duration": 8,
    "start_time": "2021-12-05T21:16:48.824Z"
   },
   {
    "duration": 1643,
    "start_time": "2021-12-05T21:17:22.217Z"
   },
   {
    "duration": 783,
    "start_time": "2021-12-05T21:17:23.864Z"
   },
   {
    "duration": 8,
    "start_time": "2021-12-05T21:17:24.650Z"
   },
   {
    "duration": 22,
    "start_time": "2021-12-05T21:17:24.662Z"
   },
   {
    "duration": 3013,
    "start_time": "2021-12-05T21:17:24.686Z"
   },
   {
    "duration": 8,
    "start_time": "2021-12-05T21:17:27.702Z"
   },
   {
    "duration": 3881,
    "start_time": "2021-12-05T21:17:27.712Z"
   },
   {
    "duration": 557,
    "start_time": "2021-12-05T21:17:31.040Z"
   },
   {
    "duration": 556,
    "start_time": "2021-12-05T21:17:31.042Z"
   },
   {
    "duration": 557,
    "start_time": "2021-12-05T21:17:31.043Z"
   },
   {
    "duration": 551,
    "start_time": "2021-12-05T21:17:31.050Z"
   },
   {
    "duration": 550,
    "start_time": "2021-12-05T21:17:31.053Z"
   },
   {
    "duration": 550,
    "start_time": "2021-12-05T21:17:31.054Z"
   },
   {
    "duration": 549,
    "start_time": "2021-12-05T21:17:31.057Z"
   },
   {
    "duration": 2306,
    "start_time": "2021-12-05T21:18:08.192Z"
   },
   {
    "duration": 794,
    "start_time": "2021-12-05T21:18:10.501Z"
   },
   {
    "duration": 9,
    "start_time": "2021-12-05T21:18:11.298Z"
   },
   {
    "duration": 12,
    "start_time": "2021-12-05T21:18:11.310Z"
   },
   {
    "duration": 2761,
    "start_time": "2021-12-05T21:18:11.324Z"
   },
   {
    "duration": 7,
    "start_time": "2021-12-05T21:18:14.087Z"
   },
   {
    "duration": 163233,
    "start_time": "2021-12-05T21:18:14.097Z"
   },
   {
    "duration": 9,
    "start_time": "2021-12-05T21:20:57.333Z"
   },
   {
    "duration": 81,
    "start_time": "2021-12-05T21:20:57.347Z"
   },
   {
    "duration": 79,
    "start_time": "2021-12-05T21:20:57.431Z"
   },
   {
    "duration": 2184,
    "start_time": "2021-12-05T21:20:57.512Z"
   },
   {
    "duration": 746,
    "start_time": "2021-12-05T21:20:59.698Z"
   },
   {
    "duration": 255,
    "start_time": "2021-12-05T21:21:00.447Z"
   },
   {
    "duration": 24,
    "start_time": "2021-12-05T21:21:00.704Z"
   },
   {
    "duration": 2485,
    "start_time": "2021-12-05T21:21:37.973Z"
   },
   {
    "duration": 1258,
    "start_time": "2021-12-05T21:21:40.462Z"
   },
   {
    "duration": 568,
    "start_time": "2021-12-05T21:21:41.158Z"
   },
   {
    "duration": 557,
    "start_time": "2021-12-05T21:21:41.170Z"
   },
   {
    "duration": 557,
    "start_time": "2021-12-05T21:21:41.172Z"
   },
   {
    "duration": 556,
    "start_time": "2021-12-05T21:21:41.174Z"
   },
   {
    "duration": 555,
    "start_time": "2021-12-05T21:21:41.177Z"
   },
   {
    "duration": 552,
    "start_time": "2021-12-05T21:21:41.181Z"
   },
   {
    "duration": 548,
    "start_time": "2021-12-05T21:21:41.187Z"
   },
   {
    "duration": 548,
    "start_time": "2021-12-05T21:21:41.189Z"
   },
   {
    "duration": 542,
    "start_time": "2021-12-05T21:21:41.196Z"
   },
   {
    "duration": 540,
    "start_time": "2021-12-05T21:21:41.200Z"
   },
   {
    "duration": 537,
    "start_time": "2021-12-05T21:21:41.204Z"
   },
   {
    "duration": 2032,
    "start_time": "2021-12-05T21:22:52.018Z"
   },
   {
    "duration": 6825,
    "start_time": "2021-12-05T21:22:54.052Z"
   },
   {
    "duration": 573,
    "start_time": "2021-12-05T21:23:00.313Z"
   },
   {
    "duration": 560,
    "start_time": "2021-12-05T21:23:00.327Z"
   },
   {
    "duration": 561,
    "start_time": "2021-12-05T21:23:00.328Z"
   },
   {
    "duration": 561,
    "start_time": "2021-12-05T21:23:00.329Z"
   },
   {
    "duration": 560,
    "start_time": "2021-12-05T21:23:00.331Z"
   },
   {
    "duration": 558,
    "start_time": "2021-12-05T21:23:00.335Z"
   },
   {
    "duration": 556,
    "start_time": "2021-12-05T21:23:00.338Z"
   },
   {
    "duration": 554,
    "start_time": "2021-12-05T21:23:00.341Z"
   },
   {
    "duration": 552,
    "start_time": "2021-12-05T21:23:00.345Z"
   },
   {
    "duration": 547,
    "start_time": "2021-12-05T21:23:00.351Z"
   },
   {
    "duration": 545,
    "start_time": "2021-12-05T21:23:00.354Z"
   },
   {
    "duration": 543,
    "start_time": "2021-12-05T21:23:00.358Z"
   },
   {
    "duration": 1753,
    "start_time": "2021-12-05T21:23:04.431Z"
   },
   {
    "duration": 803,
    "start_time": "2021-12-05T21:23:06.187Z"
   },
   {
    "duration": 9,
    "start_time": "2021-12-05T21:23:06.993Z"
   },
   {
    "duration": 7,
    "start_time": "2021-12-05T21:23:07.004Z"
   },
   {
    "duration": 2770,
    "start_time": "2021-12-05T21:23:07.013Z"
   },
   {
    "duration": 7,
    "start_time": "2021-12-05T21:23:09.786Z"
   },
   {
    "duration": 131660,
    "start_time": "2021-12-05T21:23:09.795Z"
   },
   {
    "duration": 246,
    "start_time": "2021-12-05T21:25:21.459Z"
   },
   {
    "duration": 9,
    "start_time": "2021-12-05T21:25:21.708Z"
   },
   {
    "duration": 94,
    "start_time": "2021-12-05T21:25:21.720Z"
   },
   {
    "duration": 12505,
    "start_time": "2021-12-05T21:25:21.817Z"
   },
   {
    "duration": 4901,
    "start_time": "2021-12-05T21:25:34.325Z"
   },
   {
    "duration": 8814,
    "start_time": "2021-12-05T21:25:39.230Z"
   },
   {
    "duration": 36,
    "start_time": "2021-12-05T21:25:48.046Z"
   },
   {
    "duration": 599,
    "start_time": "2021-12-05T21:27:09.902Z"
   },
   {
    "duration": 280,
    "start_time": "2021-12-05T21:28:27.535Z"
   },
   {
    "duration": 10,
    "start_time": "2021-12-05T21:28:36.543Z"
   },
   {
    "duration": 341,
    "start_time": "2021-12-05T21:28:39.932Z"
   },
   {
    "duration": 756,
    "start_time": "2021-12-05T21:28:48.040Z"
   },
   {
    "duration": 1755,
    "start_time": "2021-12-05T21:29:16.113Z"
   },
   {
    "duration": 799,
    "start_time": "2021-12-05T21:29:17.871Z"
   },
   {
    "duration": 10,
    "start_time": "2021-12-05T21:29:18.681Z"
   },
   {
    "duration": 7,
    "start_time": "2021-12-05T21:29:18.695Z"
   },
   {
    "duration": 2832,
    "start_time": "2021-12-05T21:29:18.705Z"
   },
   {
    "duration": 8,
    "start_time": "2021-12-05T21:29:21.539Z"
   },
   {
    "duration": 197371,
    "start_time": "2021-12-05T21:29:21.549Z"
   },
   {
    "duration": 375,
    "start_time": "2021-12-05T21:32:38.925Z"
   },
   {
    "duration": 10,
    "start_time": "2021-12-05T21:32:39.304Z"
   },
   {
    "duration": 99,
    "start_time": "2021-12-05T21:32:39.316Z"
   },
   {
    "duration": 12915,
    "start_time": "2021-12-05T21:32:39.418Z"
   },
   {
    "duration": 4369,
    "start_time": "2021-12-05T21:32:52.335Z"
   },
   {
    "duration": 11359,
    "start_time": "2021-12-05T21:32:56.707Z"
   },
   {
    "duration": 35,
    "start_time": "2021-12-05T21:33:08.070Z"
   },
   {
    "duration": 1035,
    "start_time": "2021-12-05T21:33:08.108Z"
   },
   {
    "duration": 784,
    "start_time": "2021-12-05T21:33:44.254Z"
   },
   {
    "duration": 754,
    "start_time": "2021-12-05T21:34:10.646Z"
   },
   {
    "duration": 446,
    "start_time": "2021-12-05T21:34:23.201Z"
   },
   {
    "duration": 1028,
    "start_time": "2021-12-05T21:35:09.992Z"
   },
   {
    "duration": 19,
    "start_time": "2021-12-05T21:35:23.482Z"
   },
   {
    "duration": 1196,
    "start_time": "2021-12-05T21:36:00.255Z"
   },
   {
    "duration": 8,
    "start_time": "2021-12-05T21:37:39.625Z"
   },
   {
    "duration": 286,
    "start_time": "2021-12-05T21:40:16.572Z"
   },
   {
    "duration": 1026,
    "start_time": "2021-12-05T21:40:30.590Z"
   },
   {
    "duration": 14977,
    "start_time": "2021-12-05T21:41:18.964Z"
   },
   {
    "duration": 22,
    "start_time": "2021-12-05T21:41:36.349Z"
   }
  ],
  "kernelspec": {
   "display_name": "Python 3",
   "language": "python",
   "name": "python3"
  },
  "language_info": {
   "codemirror_mode": {
    "name": "ipython",
    "version": 3
   },
   "file_extension": ".py",
   "mimetype": "text/x-python",
   "name": "python",
   "nbconvert_exporter": "python",
   "pygments_lexer": "ipython3",
   "version": "3.9.2"
  },
  "toc": {
   "base_numbering": 1,
   "nav_menu": {},
   "number_sections": true,
   "sideBar": true,
   "skip_h1_title": true,
   "title_cell": "Содержание",
   "title_sidebar": "Contents",
   "toc_cell": true,
   "toc_position": {
    "height": "calc(100% - 180px)",
    "left": "10px",
    "top": "150px",
    "width": "302.391px"
   },
   "toc_section_display": true,
   "toc_window_display": false
  }
 },
 "nbformat": 4,
 "nbformat_minor": 2
}
