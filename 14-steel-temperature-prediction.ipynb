{
 "cells": [
  {
   "cell_type": "markdown",
   "id": "identical-telling",
   "metadata": {},
   "source": [
    "# Проект \"Промышленность\""
   ]
  },
  {
   "cell_type": "markdown",
   "id": "mental-information",
   "metadata": {},
   "source": [
    "## Описание проекта"
   ]
  },
  {
   "cell_type": "markdown",
   "id": "toxic-newfoundland",
   "metadata": {},
   "source": [
    "Чтобы оптимизировать производственные расходы, металлургический комбинат ООО «Так закаляем сталь» решил уменьшить потребление электроэнергии на этапе обработки стали. Необходимо построить модель, которая предскажет температуру стали."
   ]
  },
  {
   "cell_type": "markdown",
   "id": "national-opening",
   "metadata": {},
   "source": [
    "<b>Описание этапа обработки стали</b>  \n",
    "  \n",
    "Сталь обрабатывают в металлическом ковше вместимостью около 100 тонн. Чтобы ковш выдерживал высокие температуры, изнутри его облицовывают огнеупорным кирпичом. Расплавленную сталь заливают в ковш и подогревают до нужной температуры графитовыми электродами. Они установлены в крышке ковша.   \n",
    "\n",
    "Из сплава выводится сера (десульфурация), добавлением примесей корректируется химический состав и отбираются пробы. Сталь легируют — изменяют её состав — подавая куски сплава из бункера для сыпучих материалов или проволоку через специальный трайб-аппарат (англ. tribe, «масса»).  \n",
    "\n",
    "Перед тем как первый раз ввести легирующие добавки, измеряют температуру стали и производят её химический анализ. Потом температуру на несколько минут повышают, добавляют легирующие материалы и продувают сплав инертным газом. Затем его перемешивают и снова проводят измерения. Такой цикл повторяется до достижения целевого химического состава и оптимальной температуры плавки.  \n",
    "\n",
    "Тогда расплавленная сталь отправляется на доводку металла или поступает в машину непрерывной разливки. Оттуда готовый продукт выходит в виде заготовок-слябов (англ. *slab*, «плита»)."
   ]
  },
  {
   "cell_type": "markdown",
   "id": "white-receiver",
   "metadata": {},
   "source": [
    "<b>Описание данных</b> \n",
    "\n",
    "Данные состоят из файлов, полученных из разных источников:\n",
    "\n",
    "- `data_arc.csv` — данные об электродах;\n",
    "- `data_bulk.csv` — данные о подаче сыпучих материалов (объём);\n",
    "- `data_bulk_time.csv` *—* данные о подаче сыпучих материалов (время);\n",
    "- `data_gas.csv` — данные о продувке сплава газом;\n",
    "- `data_temp.csv` — результаты измерения температуры;\n",
    "- `data_wire.csv` — данные о проволочных материалах (объём);\n",
    "- `data_wire_time.csv` — данные о проволочных материалах (время).\n",
    "\n",
    "Во всех файлах столбец `key` содержит номер партии. В файлах может быть несколько строк с одинаковым значением `key`: они соответствуют разным итерациям обработки."
   ]
  },
  {
   "cell_type": "markdown",
   "id": "fixed-antibody",
   "metadata": {},
   "source": [
    "## Исследовательский анализ данных"
   ]
  },
  {
   "cell_type": "markdown",
   "id": "novel-criterion",
   "metadata": {},
   "source": [
    "!pip install pandas -U  \n",
    "!pip install matplotlib -U  \n",
    "!pip install seaborn -U  \n",
    "!pip install lightgbm -U  \n",
    "!pip install sklearn -U"
   ]
  },
  {
   "cell_type": "code",
   "execution_count": 1,
   "id": "filled-tribe",
   "metadata": {},
   "outputs": [],
   "source": [
    "import numpy as np\n",
    "import pandas as pd\n",
    "import matplotlib.pyplot as plt\n",
    "import seaborn as sns\n",
    "from sklearn.preprocessing import StandardScaler\n",
    "from sklearn.model_selection import train_test_split\n",
    "from sklearn.metrics import mean_absolute_error, make_scorer\n",
    "from sklearn.linear_model import LinearRegression\n",
    "from sklearn.ensemble import RandomForestRegressor\n",
    "from sklearn.model_selection import RandomizedSearchCV, GridSearchCV\n",
    "import lightgbm"
   ]
  },
  {
   "cell_type": "code",
   "execution_count": 2,
   "id": "limiting-treaty",
   "metadata": {},
   "outputs": [],
   "source": [
    "def observe(name):\n",
    "    data = pd.read_csv('/datasets/final_steel/' + name)\n",
    "    print('\\033[1m'+'Общая информация о данных'+'\\033[0m', end='\\n')\n",
    "    print()\n",
    "    print(data.info())\n",
    "    print()\n",
    "    print()\n",
    "    print('\\033[1m'+'Описательные статистики'+'\\033[0m')\n",
    "    display(data.describe())\n",
    "    print()\n",
    "    print()\n",
    "    print('\\033[1m'+'Первые строки из данных'+'\\033[0m')\n",
    "    display(data.head())\n",
    "    return data"
   ]
  },
  {
   "cell_type": "markdown",
   "id": "reasonable-panel",
   "metadata": {},
   "source": [
    "### data_arc.csv — данные об электродах"
   ]
  },
  {
   "cell_type": "code",
   "execution_count": 3,
   "id": "flexible-blade",
   "metadata": {},
   "outputs": [
    {
     "name": "stdout",
     "output_type": "stream",
     "text": [
      "\u001b[1mОбщая информация о данных\u001b[0m\n",
      "\n",
      "<class 'pandas.core.frame.DataFrame'>\n",
      "RangeIndex: 14876 entries, 0 to 14875\n",
      "Data columns (total 5 columns):\n",
      " #   Column                Non-Null Count  Dtype  \n",
      "---  ------                --------------  -----  \n",
      " 0   key                   14876 non-null  int64  \n",
      " 1   Начало нагрева дугой  14876 non-null  object \n",
      " 2   Конец нагрева дугой   14876 non-null  object \n",
      " 3   Активная мощность     14876 non-null  float64\n",
      " 4   Реактивная мощность   14876 non-null  float64\n",
      "dtypes: float64(2), int64(1), object(2)\n",
      "memory usage: 581.2+ KB\n",
      "None\n",
      "\n",
      "\n",
      "\u001b[1mОписательные статистики\u001b[0m\n"
     ]
    },
    {
     "data": {
      "text/html": [
       "<div>\n",
       "<style scoped>\n",
       "    .dataframe tbody tr th:only-of-type {\n",
       "        vertical-align: middle;\n",
       "    }\n",
       "\n",
       "    .dataframe tbody tr th {\n",
       "        vertical-align: top;\n",
       "    }\n",
       "\n",
       "    .dataframe thead th {\n",
       "        text-align: right;\n",
       "    }\n",
       "</style>\n",
       "<table border=\"1\" class=\"dataframe\">\n",
       "  <thead>\n",
       "    <tr style=\"text-align: right;\">\n",
       "      <th></th>\n",
       "      <th>key</th>\n",
       "      <th>Активная мощность</th>\n",
       "      <th>Реактивная мощность</th>\n",
       "    </tr>\n",
       "  </thead>\n",
       "  <tbody>\n",
       "    <tr>\n",
       "      <th>count</th>\n",
       "      <td>14876.000000</td>\n",
       "      <td>14876.000000</td>\n",
       "      <td>14876.000000</td>\n",
       "    </tr>\n",
       "    <tr>\n",
       "      <th>mean</th>\n",
       "      <td>1615.220422</td>\n",
       "      <td>0.670441</td>\n",
       "      <td>0.452592</td>\n",
       "    </tr>\n",
       "    <tr>\n",
       "      <th>std</th>\n",
       "      <td>934.571502</td>\n",
       "      <td>0.408159</td>\n",
       "      <td>5.878702</td>\n",
       "    </tr>\n",
       "    <tr>\n",
       "      <th>min</th>\n",
       "      <td>1.000000</td>\n",
       "      <td>0.030002</td>\n",
       "      <td>-715.504924</td>\n",
       "    </tr>\n",
       "    <tr>\n",
       "      <th>25%</th>\n",
       "      <td>806.000000</td>\n",
       "      <td>0.395297</td>\n",
       "      <td>0.290991</td>\n",
       "    </tr>\n",
       "    <tr>\n",
       "      <th>50%</th>\n",
       "      <td>1617.000000</td>\n",
       "      <td>0.555517</td>\n",
       "      <td>0.415962</td>\n",
       "    </tr>\n",
       "    <tr>\n",
       "      <th>75%</th>\n",
       "      <td>2429.000000</td>\n",
       "      <td>0.857034</td>\n",
       "      <td>0.637371</td>\n",
       "    </tr>\n",
       "    <tr>\n",
       "      <th>max</th>\n",
       "      <td>3241.000000</td>\n",
       "      <td>3.731596</td>\n",
       "      <td>2.676388</td>\n",
       "    </tr>\n",
       "  </tbody>\n",
       "</table>\n",
       "</div>"
      ],
      "text/plain": [
       "                key  Активная мощность  Реактивная мощность\n",
       "count  14876.000000       14876.000000         14876.000000\n",
       "mean    1615.220422           0.670441             0.452592\n",
       "std      934.571502           0.408159             5.878702\n",
       "min        1.000000           0.030002          -715.504924\n",
       "25%      806.000000           0.395297             0.290991\n",
       "50%     1617.000000           0.555517             0.415962\n",
       "75%     2429.000000           0.857034             0.637371\n",
       "max     3241.000000           3.731596             2.676388"
      ]
     },
     "metadata": {},
     "output_type": "display_data"
    },
    {
     "name": "stdout",
     "output_type": "stream",
     "text": [
      "\n",
      "\n",
      "\u001b[1mПервые строки из данных\u001b[0m\n"
     ]
    },
    {
     "data": {
      "text/html": [
       "<div>\n",
       "<style scoped>\n",
       "    .dataframe tbody tr th:only-of-type {\n",
       "        vertical-align: middle;\n",
       "    }\n",
       "\n",
       "    .dataframe tbody tr th {\n",
       "        vertical-align: top;\n",
       "    }\n",
       "\n",
       "    .dataframe thead th {\n",
       "        text-align: right;\n",
       "    }\n",
       "</style>\n",
       "<table border=\"1\" class=\"dataframe\">\n",
       "  <thead>\n",
       "    <tr style=\"text-align: right;\">\n",
       "      <th></th>\n",
       "      <th>key</th>\n",
       "      <th>Начало нагрева дугой</th>\n",
       "      <th>Конец нагрева дугой</th>\n",
       "      <th>Активная мощность</th>\n",
       "      <th>Реактивная мощность</th>\n",
       "    </tr>\n",
       "  </thead>\n",
       "  <tbody>\n",
       "    <tr>\n",
       "      <th>0</th>\n",
       "      <td>1</td>\n",
       "      <td>2019-05-03 11:02:14</td>\n",
       "      <td>2019-05-03 11:06:02</td>\n",
       "      <td>0.976059</td>\n",
       "      <td>0.687084</td>\n",
       "    </tr>\n",
       "    <tr>\n",
       "      <th>1</th>\n",
       "      <td>1</td>\n",
       "      <td>2019-05-03 11:07:28</td>\n",
       "      <td>2019-05-03 11:10:33</td>\n",
       "      <td>0.805607</td>\n",
       "      <td>0.520285</td>\n",
       "    </tr>\n",
       "    <tr>\n",
       "      <th>2</th>\n",
       "      <td>1</td>\n",
       "      <td>2019-05-03 11:11:44</td>\n",
       "      <td>2019-05-03 11:14:36</td>\n",
       "      <td>0.744363</td>\n",
       "      <td>0.498805</td>\n",
       "    </tr>\n",
       "    <tr>\n",
       "      <th>3</th>\n",
       "      <td>1</td>\n",
       "      <td>2019-05-03 11:18:14</td>\n",
       "      <td>2019-05-03 11:24:19</td>\n",
       "      <td>1.659363</td>\n",
       "      <td>1.062669</td>\n",
       "    </tr>\n",
       "    <tr>\n",
       "      <th>4</th>\n",
       "      <td>1</td>\n",
       "      <td>2019-05-03 11:26:09</td>\n",
       "      <td>2019-05-03 11:28:37</td>\n",
       "      <td>0.692755</td>\n",
       "      <td>0.414397</td>\n",
       "    </tr>\n",
       "  </tbody>\n",
       "</table>\n",
       "</div>"
      ],
      "text/plain": [
       "   key Начало нагрева дугой  Конец нагрева дугой  Активная мощность  \\\n",
       "0    1  2019-05-03 11:02:14  2019-05-03 11:06:02           0.976059   \n",
       "1    1  2019-05-03 11:07:28  2019-05-03 11:10:33           0.805607   \n",
       "2    1  2019-05-03 11:11:44  2019-05-03 11:14:36           0.744363   \n",
       "3    1  2019-05-03 11:18:14  2019-05-03 11:24:19           1.659363   \n",
       "4    1  2019-05-03 11:26:09  2019-05-03 11:28:37           0.692755   \n",
       "\n",
       "   Реактивная мощность  \n",
       "0             0.687084  \n",
       "1             0.520285  \n",
       "2             0.498805  \n",
       "3             1.062669  \n",
       "4             0.414397  "
      ]
     },
     "metadata": {},
     "output_type": "display_data"
    }
   ],
   "source": [
    "data_arc = observe('data_arc.csv')"
   ]
  },
  {
   "cell_type": "markdown",
   "id": "musical-tension",
   "metadata": {},
   "source": [
    "Перед нами набор данных, относящиеся к этапу производства, на котором расплавленную сталь заливают в ковш и подогревают до нужной температуры графитовыми электродами.\n",
    "  \n",
    "Данные включают в себя следующие столбцы:\n",
    "- key - номер партии\n",
    "- Начало нагрева дугой - момент времени, в котором начался нагрев\n",
    "- Конец нагрева дугой - момент времени, в котором закончился нагрев\n",
    "- Активная мощность\n",
    "- Реактивная мощность\n",
    "\n",
    "В данных нет пропущенных значений.\n",
    "Отметим, что столбцы \"Начало нагрева дугой\" и \"Конец нагрева дугой\" имеют текстовый формат, а не формат даты-времени.\n",
    "\n",
    "Из предварительного обсуждения проекта известно, что для решения нашей задачи мы должны использовать данные только об активной мощности."
   ]
  },
  {
   "cell_type": "markdown",
   "id": "efficient-gibson",
   "metadata": {},
   "source": [
    "Для более глубокого анализа переведем в формат даты-времени соответствующие столбцы."
   ]
  },
  {
   "cell_type": "code",
   "execution_count": 4,
   "id": "celtic-ladder",
   "metadata": {},
   "outputs": [],
   "source": [
    "data_arc['Начало нагрева дугой'] = pd.to_datetime(\n",
    "    data_arc['Начало нагрева дугой'], format='%Y-%m-%d %H:%M:%S')\n",
    "data_arc['Конец нагрева дугой'] = pd.to_datetime(\n",
    "    data_arc['Конец нагрева дугой'], format='%Y-%m-%d %H:%M:%S')"
   ]
  },
  {
   "cell_type": "code",
   "execution_count": 5,
   "id": "indirect-thinking",
   "metadata": {},
   "outputs": [
    {
     "name": "stdout",
     "output_type": "stream",
     "text": [
      "<class 'pandas.core.frame.DataFrame'>\n",
      "RangeIndex: 14876 entries, 0 to 14875\n",
      "Data columns (total 5 columns):\n",
      " #   Column                Non-Null Count  Dtype         \n",
      "---  ------                --------------  -----         \n",
      " 0   key                   14876 non-null  int64         \n",
      " 1   Начало нагрева дугой  14876 non-null  datetime64[ns]\n",
      " 2   Конец нагрева дугой   14876 non-null  datetime64[ns]\n",
      " 3   Активная мощность     14876 non-null  float64       \n",
      " 4   Реактивная мощность   14876 non-null  float64       \n",
      "dtypes: datetime64[ns](2), float64(2), int64(1)\n",
      "memory usage: 581.2 KB\n"
     ]
    }
   ],
   "source": [
    "data_arc.info()"
   ]
  },
  {
   "cell_type": "markdown",
   "id": "identical-security",
   "metadata": {},
   "source": [
    "Для лучшего понимания данных дополнительно посмотрим, сколько в среднем по времени нагревают сталь. "
   ]
  },
  {
   "cell_type": "code",
   "execution_count": 6,
   "id": "previous-dressing",
   "metadata": {},
   "outputs": [],
   "source": [
    "data_arc['Продолжительность нагревания'] = data_arc['Конец нагрева дугой'] - \\\n",
    "    data_arc['Начало нагрева дугой']\n",
    "data_arc['Продолжительность нагревания'] = data_arc['Продолжительность нагревания'].astype(\n",
    "    'timedelta64[s]')"
   ]
  },
  {
   "cell_type": "code",
   "execution_count": 7,
   "id": "regulation-affair",
   "metadata": {},
   "outputs": [
    {
     "data": {
      "text/html": [
       "<div>\n",
       "<style scoped>\n",
       "    .dataframe tbody tr th:only-of-type {\n",
       "        vertical-align: middle;\n",
       "    }\n",
       "\n",
       "    .dataframe tbody tr th {\n",
       "        vertical-align: top;\n",
       "    }\n",
       "\n",
       "    .dataframe thead th {\n",
       "        text-align: right;\n",
       "    }\n",
       "</style>\n",
       "<table border=\"1\" class=\"dataframe\">\n",
       "  <thead>\n",
       "    <tr style=\"text-align: right;\">\n",
       "      <th></th>\n",
       "      <th>key</th>\n",
       "      <th>Начало нагрева дугой</th>\n",
       "      <th>Конец нагрева дугой</th>\n",
       "      <th>Активная мощность</th>\n",
       "      <th>Реактивная мощность</th>\n",
       "      <th>Продолжительность нагревания</th>\n",
       "    </tr>\n",
       "  </thead>\n",
       "  <tbody>\n",
       "    <tr>\n",
       "      <th>0</th>\n",
       "      <td>1</td>\n",
       "      <td>2019-05-03 11:02:14</td>\n",
       "      <td>2019-05-03 11:06:02</td>\n",
       "      <td>0.976059</td>\n",
       "      <td>0.687084</td>\n",
       "      <td>228.0</td>\n",
       "    </tr>\n",
       "    <tr>\n",
       "      <th>1</th>\n",
       "      <td>1</td>\n",
       "      <td>2019-05-03 11:07:28</td>\n",
       "      <td>2019-05-03 11:10:33</td>\n",
       "      <td>0.805607</td>\n",
       "      <td>0.520285</td>\n",
       "      <td>185.0</td>\n",
       "    </tr>\n",
       "    <tr>\n",
       "      <th>2</th>\n",
       "      <td>1</td>\n",
       "      <td>2019-05-03 11:11:44</td>\n",
       "      <td>2019-05-03 11:14:36</td>\n",
       "      <td>0.744363</td>\n",
       "      <td>0.498805</td>\n",
       "      <td>172.0</td>\n",
       "    </tr>\n",
       "    <tr>\n",
       "      <th>3</th>\n",
       "      <td>1</td>\n",
       "      <td>2019-05-03 11:18:14</td>\n",
       "      <td>2019-05-03 11:24:19</td>\n",
       "      <td>1.659363</td>\n",
       "      <td>1.062669</td>\n",
       "      <td>365.0</td>\n",
       "    </tr>\n",
       "    <tr>\n",
       "      <th>4</th>\n",
       "      <td>1</td>\n",
       "      <td>2019-05-03 11:26:09</td>\n",
       "      <td>2019-05-03 11:28:37</td>\n",
       "      <td>0.692755</td>\n",
       "      <td>0.414397</td>\n",
       "      <td>148.0</td>\n",
       "    </tr>\n",
       "  </tbody>\n",
       "</table>\n",
       "</div>"
      ],
      "text/plain": [
       "   key Начало нагрева дугой Конец нагрева дугой  Активная мощность  \\\n",
       "0    1  2019-05-03 11:02:14 2019-05-03 11:06:02           0.976059   \n",
       "1    1  2019-05-03 11:07:28 2019-05-03 11:10:33           0.805607   \n",
       "2    1  2019-05-03 11:11:44 2019-05-03 11:14:36           0.744363   \n",
       "3    1  2019-05-03 11:18:14 2019-05-03 11:24:19           1.659363   \n",
       "4    1  2019-05-03 11:26:09 2019-05-03 11:28:37           0.692755   \n",
       "\n",
       "   Реактивная мощность  Продолжительность нагревания  \n",
       "0             0.687084                         228.0  \n",
       "1             0.520285                         185.0  \n",
       "2             0.498805                         172.0  \n",
       "3             1.062669                         365.0  \n",
       "4             0.414397                         148.0  "
      ]
     },
     "execution_count": 7,
     "metadata": {},
     "output_type": "execute_result"
    }
   ],
   "source": [
    "data_arc.head()"
   ]
  },
  {
   "cell_type": "code",
   "execution_count": 8,
   "id": "distinguished-documentary",
   "metadata": {},
   "outputs": [
    {
     "data": {
      "image/png": "[encoded data removed]",
      "text/plain": [
       "<Figure size 1080x432 with 1 Axes>"
      ]
     },
     "metadata": {},
     "output_type": "display_data"
    }
   ],
   "source": [
    "mean = data_arc['Продолжительность нагревания'].mean()\n",
    "median = data_arc['Продолжительность нагревания'].median()\n",
    "sns.set(rc={'figure.figsize': (15, 6)})\n",
    "sns.set_style(\"whitegrid\")\n",
    "graph = sns.histplot(\n",
    "    data=data_arc, x=\"Продолжительность нагревания\", color='#c2aed1')\n",
    "plt.axvline(mean, color='r', linestyle='--', label=\"Mean\", linewidth=3)\n",
    "plt.axvline(median, color='b', linestyle='-', label=\"Median\", linewidth=3)\n",
    "graph.set_xticks(np.arange(0, 1000, 50))\n",
    "plt.legend()\n",
    "plt.show()"
   ]
  },
  {
   "cell_type": "code",
   "execution_count": 9,
   "id": "pursuant-poetry",
   "metadata": {},
   "outputs": [
    {
     "data": {
      "text/html": [
       "<div>\n",
       "<style scoped>\n",
       "    .dataframe tbody tr th:only-of-type {\n",
       "        vertical-align: middle;\n",
       "    }\n",
       "\n",
       "    .dataframe tbody tr th {\n",
       "        vertical-align: top;\n",
       "    }\n",
       "\n",
       "    .dataframe thead th {\n",
       "        text-align: right;\n",
       "    }\n",
       "</style>\n",
       "<table border=\"1\" class=\"dataframe\">\n",
       "  <thead>\n",
       "    <tr style=\"text-align: right;\">\n",
       "      <th></th>\n",
       "      <th>Продолжительность нагревания</th>\n",
       "    </tr>\n",
       "  </thead>\n",
       "  <tbody>\n",
       "    <tr>\n",
       "      <th>count</th>\n",
       "      <td>14876.000000</td>\n",
       "    </tr>\n",
       "    <tr>\n",
       "      <th>mean</th>\n",
       "      <td>171.670946</td>\n",
       "    </tr>\n",
       "    <tr>\n",
       "      <th>std</th>\n",
       "      <td>98.186803</td>\n",
       "    </tr>\n",
       "    <tr>\n",
       "      <th>min</th>\n",
       "      <td>11.000000</td>\n",
       "    </tr>\n",
       "    <tr>\n",
       "      <th>25%</th>\n",
       "      <td>107.000000</td>\n",
       "    </tr>\n",
       "    <tr>\n",
       "      <th>50%</th>\n",
       "      <td>147.000000</td>\n",
       "    </tr>\n",
       "    <tr>\n",
       "      <th>75%</th>\n",
       "      <td>214.000000</td>\n",
       "    </tr>\n",
       "    <tr>\n",
       "      <th>max</th>\n",
       "      <td>907.000000</td>\n",
       "    </tr>\n",
       "  </tbody>\n",
       "</table>\n",
       "</div>"
      ],
      "text/plain": [
       "       Продолжительность нагревания\n",
       "count                  14876.000000\n",
       "mean                     171.670946\n",
       "std                       98.186803\n",
       "min                       11.000000\n",
       "25%                      107.000000\n",
       "50%                      147.000000\n",
       "75%                      214.000000\n",
       "max                      907.000000"
      ]
     },
     "execution_count": 9,
     "metadata": {},
     "output_type": "execute_result"
    }
   ],
   "source": [
    "data_arc['Продолжительность нагревания'].to_frame().describe()"
   ]
  },
  {
   "cell_type": "markdown",
   "id": "ethical-median",
   "metadata": {},
   "source": [
    "<b> Выводы </b>  \n",
    "\n",
    "Как видно на графике и в таблице выше, в среднем одно нагревание стали составляет 172 секунды.\n",
    "Обращает на себя внимание, что есть как очень короткие по продолжительности нагревания (11 сек.), так и длительные (907 сек.)\n",
    "\n",
    "На текущем этапе представляется, что для построения модели необходимо будет понять, сколько энергии передано на нагревание одного ковша (активная мощность &times; длительность нагревания)"
   ]
  },
  {
   "cell_type": "markdown",
   "id": "spectacular-correlation",
   "metadata": {},
   "source": [
    "### data_bulk.csv — данные о подаче сыпучих материалов (объём)"
   ]
  },
  {
   "cell_type": "code",
   "execution_count": 10,
   "id": "asian-branch",
   "metadata": {},
   "outputs": [
    {
     "name": "stdout",
     "output_type": "stream",
     "text": [
      "\u001b[1mОбщая информация о данных\u001b[0m\n",
      "\n",
      "<class 'pandas.core.frame.DataFrame'>\n",
      "RangeIndex: 3129 entries, 0 to 3128\n",
      "Data columns (total 16 columns):\n",
      " #   Column   Non-Null Count  Dtype  \n",
      "---  ------   --------------  -----  \n",
      " 0   key      3129 non-null   int64  \n",
      " 1   Bulk 1   252 non-null    float64\n",
      " 2   Bulk 2   22 non-null     float64\n",
      " 3   Bulk 3   1298 non-null   float64\n",
      " 4   Bulk 4   1014 non-null   float64\n",
      " 5   Bulk 5   77 non-null     float64\n",
      " 6   Bulk 6   576 non-null    float64\n",
      " 7   Bulk 7   25 non-null     float64\n",
      " 8   Bulk 8   1 non-null      float64\n",
      " 9   Bulk 9   19 non-null     float64\n",
      " 10  Bulk 10  176 non-null    float64\n",
      " 11  Bulk 11  177 non-null    float64\n",
      " 12  Bulk 12  2450 non-null   float64\n",
      " 13  Bulk 13  18 non-null     float64\n",
      " 14  Bulk 14  2806 non-null   float64\n",
      " 15  Bulk 15  2248 non-null   float64\n",
      "dtypes: float64(15), int64(1)\n",
      "memory usage: 391.2 KB\n",
      "None\n",
      "\n",
      "\n",
      "\u001b[1mОписательные статистики\u001b[0m\n"
     ]
    },
    {
     "data": {
      "text/html": [
       "<div>\n",
       "<style scoped>\n",
       "    .dataframe tbody tr th:only-of-type {\n",
       "        vertical-align: middle;\n",
       "    }\n",
       "\n",
       "    .dataframe tbody tr th {\n",
       "        vertical-align: top;\n",
       "    }\n",
       "\n",
       "    .dataframe thead th {\n",
       "        text-align: right;\n",
       "    }\n",
       "</style>\n",
       "<table border=\"1\" class=\"dataframe\">\n",
       "  <thead>\n",
       "    <tr style=\"text-align: right;\">\n",
       "      <th></th>\n",
       "      <th>key</th>\n",
       "      <th>Bulk 1</th>\n",
       "      <th>Bulk 2</th>\n",
       "      <th>Bulk 3</th>\n",
       "      <th>Bulk 4</th>\n",
       "      <th>Bulk 5</th>\n",
       "      <th>Bulk 6</th>\n",
       "      <th>Bulk 7</th>\n",
       "      <th>Bulk 8</th>\n",
       "      <th>Bulk 9</th>\n",
       "      <th>Bulk 10</th>\n",
       "      <th>Bulk 11</th>\n",
       "      <th>Bulk 12</th>\n",
       "      <th>Bulk 13</th>\n",
       "      <th>Bulk 14</th>\n",
       "      <th>Bulk 15</th>\n",
       "    </tr>\n",
       "  </thead>\n",
       "  <tbody>\n",
       "    <tr>\n",
       "      <th>count</th>\n",
       "      <td>3129.000000</td>\n",
       "      <td>252.000000</td>\n",
       "      <td>22.000000</td>\n",
       "      <td>1298.000000</td>\n",
       "      <td>1014.000000</td>\n",
       "      <td>77.000000</td>\n",
       "      <td>576.000000</td>\n",
       "      <td>25.000000</td>\n",
       "      <td>1.0</td>\n",
       "      <td>19.000000</td>\n",
       "      <td>176.000000</td>\n",
       "      <td>177.000000</td>\n",
       "      <td>2450.000000</td>\n",
       "      <td>18.000000</td>\n",
       "      <td>2806.000000</td>\n",
       "      <td>2248.000000</td>\n",
       "    </tr>\n",
       "    <tr>\n",
       "      <th>mean</th>\n",
       "      <td>1624.383509</td>\n",
       "      <td>39.242063</td>\n",
       "      <td>253.045455</td>\n",
       "      <td>113.879045</td>\n",
       "      <td>104.394477</td>\n",
       "      <td>107.025974</td>\n",
       "      <td>118.925347</td>\n",
       "      <td>305.600000</td>\n",
       "      <td>49.0</td>\n",
       "      <td>76.315789</td>\n",
       "      <td>83.284091</td>\n",
       "      <td>76.819209</td>\n",
       "      <td>260.471020</td>\n",
       "      <td>181.111111</td>\n",
       "      <td>170.284747</td>\n",
       "      <td>160.513345</td>\n",
       "    </tr>\n",
       "    <tr>\n",
       "      <th>std</th>\n",
       "      <td>933.337642</td>\n",
       "      <td>18.277654</td>\n",
       "      <td>21.180578</td>\n",
       "      <td>75.483494</td>\n",
       "      <td>48.184126</td>\n",
       "      <td>81.790646</td>\n",
       "      <td>72.057776</td>\n",
       "      <td>191.022904</td>\n",
       "      <td>NaN</td>\n",
       "      <td>21.720581</td>\n",
       "      <td>26.060347</td>\n",
       "      <td>59.655365</td>\n",
       "      <td>120.649269</td>\n",
       "      <td>46.088009</td>\n",
       "      <td>65.868652</td>\n",
       "      <td>51.765319</td>\n",
       "    </tr>\n",
       "    <tr>\n",
       "      <th>min</th>\n",
       "      <td>1.000000</td>\n",
       "      <td>10.000000</td>\n",
       "      <td>228.000000</td>\n",
       "      <td>6.000000</td>\n",
       "      <td>12.000000</td>\n",
       "      <td>11.000000</td>\n",
       "      <td>17.000000</td>\n",
       "      <td>47.000000</td>\n",
       "      <td>49.0</td>\n",
       "      <td>63.000000</td>\n",
       "      <td>24.000000</td>\n",
       "      <td>8.000000</td>\n",
       "      <td>53.000000</td>\n",
       "      <td>151.000000</td>\n",
       "      <td>16.000000</td>\n",
       "      <td>1.000000</td>\n",
       "    </tr>\n",
       "    <tr>\n",
       "      <th>25%</th>\n",
       "      <td>816.000000</td>\n",
       "      <td>27.000000</td>\n",
       "      <td>242.000000</td>\n",
       "      <td>58.000000</td>\n",
       "      <td>72.000000</td>\n",
       "      <td>70.000000</td>\n",
       "      <td>69.750000</td>\n",
       "      <td>155.000000</td>\n",
       "      <td>49.0</td>\n",
       "      <td>66.000000</td>\n",
       "      <td>64.000000</td>\n",
       "      <td>25.000000</td>\n",
       "      <td>204.000000</td>\n",
       "      <td>153.250000</td>\n",
       "      <td>119.000000</td>\n",
       "      <td>105.000000</td>\n",
       "    </tr>\n",
       "    <tr>\n",
       "      <th>50%</th>\n",
       "      <td>1622.000000</td>\n",
       "      <td>31.000000</td>\n",
       "      <td>251.500000</td>\n",
       "      <td>97.500000</td>\n",
       "      <td>102.000000</td>\n",
       "      <td>86.000000</td>\n",
       "      <td>100.000000</td>\n",
       "      <td>298.000000</td>\n",
       "      <td>49.0</td>\n",
       "      <td>68.000000</td>\n",
       "      <td>86.500000</td>\n",
       "      <td>64.000000</td>\n",
       "      <td>208.000000</td>\n",
       "      <td>155.500000</td>\n",
       "      <td>151.000000</td>\n",
       "      <td>160.000000</td>\n",
       "    </tr>\n",
       "    <tr>\n",
       "      <th>75%</th>\n",
       "      <td>2431.000000</td>\n",
       "      <td>46.000000</td>\n",
       "      <td>257.750000</td>\n",
       "      <td>152.000000</td>\n",
       "      <td>133.000000</td>\n",
       "      <td>132.000000</td>\n",
       "      <td>157.000000</td>\n",
       "      <td>406.000000</td>\n",
       "      <td>49.0</td>\n",
       "      <td>70.500000</td>\n",
       "      <td>102.000000</td>\n",
       "      <td>106.000000</td>\n",
       "      <td>316.000000</td>\n",
       "      <td>203.500000</td>\n",
       "      <td>205.750000</td>\n",
       "      <td>205.000000</td>\n",
       "    </tr>\n",
       "    <tr>\n",
       "      <th>max</th>\n",
       "      <td>3241.000000</td>\n",
       "      <td>185.000000</td>\n",
       "      <td>325.000000</td>\n",
       "      <td>454.000000</td>\n",
       "      <td>281.000000</td>\n",
       "      <td>603.000000</td>\n",
       "      <td>503.000000</td>\n",
       "      <td>772.000000</td>\n",
       "      <td>49.0</td>\n",
       "      <td>147.000000</td>\n",
       "      <td>159.000000</td>\n",
       "      <td>313.000000</td>\n",
       "      <td>1849.000000</td>\n",
       "      <td>305.000000</td>\n",
       "      <td>636.000000</td>\n",
       "      <td>405.000000</td>\n",
       "    </tr>\n",
       "  </tbody>\n",
       "</table>\n",
       "</div>"
      ],
      "text/plain": [
       "               key      Bulk 1      Bulk 2       Bulk 3       Bulk 4  \\\n",
       "count  3129.000000  252.000000   22.000000  1298.000000  1014.000000   \n",
       "mean   1624.383509   39.242063  253.045455   113.879045   104.394477   \n",
       "std     933.337642   18.277654   21.180578    75.483494    48.184126   \n",
       "min       1.000000   10.000000  228.000000     6.000000    12.000000   \n",
       "25%     816.000000   27.000000  242.000000    58.000000    72.000000   \n",
       "50%    1622.000000   31.000000  251.500000    97.500000   102.000000   \n",
       "75%    2431.000000   46.000000  257.750000   152.000000   133.000000   \n",
       "max    3241.000000  185.000000  325.000000   454.000000   281.000000   \n",
       "\n",
       "           Bulk 5      Bulk 6      Bulk 7  Bulk 8      Bulk 9     Bulk 10  \\\n",
       "count   77.000000  576.000000   25.000000     1.0   19.000000  176.000000   \n",
       "mean   107.025974  118.925347  305.600000    49.0   76.315789   83.284091   \n",
       "std     81.790646   72.057776  191.022904     NaN   21.720581   26.060347   \n",
       "min     11.000000   17.000000   47.000000    49.0   63.000000   24.000000   \n",
       "25%     70.000000   69.750000  155.000000    49.0   66.000000   64.000000   \n",
       "50%     86.000000  100.000000  298.000000    49.0   68.000000   86.500000   \n",
       "75%    132.000000  157.000000  406.000000    49.0   70.500000  102.000000   \n",
       "max    603.000000  503.000000  772.000000    49.0  147.000000  159.000000   \n",
       "\n",
       "          Bulk 11      Bulk 12     Bulk 13      Bulk 14      Bulk 15  \n",
       "count  177.000000  2450.000000   18.000000  2806.000000  2248.000000  \n",
       "mean    76.819209   260.471020  181.111111   170.284747   160.513345  \n",
       "std     59.655365   120.649269   46.088009    65.868652    51.765319  \n",
       "min      8.000000    53.000000  151.000000    16.000000     1.000000  \n",
       "25%     25.000000   204.000000  153.250000   119.000000   105.000000  \n",
       "50%     64.000000   208.000000  155.500000   151.000000   160.000000  \n",
       "75%    106.000000   316.000000  203.500000   205.750000   205.000000  \n",
       "max    313.000000  1849.000000  305.000000   636.000000   405.000000  "
      ]
     },
     "metadata": {},
     "output_type": "display_data"
    },
    {
     "name": "stdout",
     "output_type": "stream",
     "text": [
      "\n",
      "\n",
      "\u001b[1mПервые строки из данных\u001b[0m\n"
     ]
    },
    {
     "data": {
      "text/html": [
       "<div>\n",
       "<style scoped>\n",
       "    .dataframe tbody tr th:only-of-type {\n",
       "        vertical-align: middle;\n",
       "    }\n",
       "\n",
       "    .dataframe tbody tr th {\n",
       "        vertical-align: top;\n",
       "    }\n",
       "\n",
       "    .dataframe thead th {\n",
       "        text-align: right;\n",
       "    }\n",
       "</style>\n",
       "<table border=\"1\" class=\"dataframe\">\n",
       "  <thead>\n",
       "    <tr style=\"text-align: right;\">\n",
       "      <th></th>\n",
       "      <th>key</th>\n",
       "      <th>Bulk 1</th>\n",
       "      <th>Bulk 2</th>\n",
       "      <th>Bulk 3</th>\n",
       "      <th>Bulk 4</th>\n",
       "      <th>Bulk 5</th>\n",
       "      <th>Bulk 6</th>\n",
       "      <th>Bulk 7</th>\n",
       "      <th>Bulk 8</th>\n",
       "      <th>Bulk 9</th>\n",
       "      <th>Bulk 10</th>\n",
       "      <th>Bulk 11</th>\n",
       "      <th>Bulk 12</th>\n",
       "      <th>Bulk 13</th>\n",
       "      <th>Bulk 14</th>\n",
       "      <th>Bulk 15</th>\n",
       "    </tr>\n",
       "  </thead>\n",
       "  <tbody>\n",
       "    <tr>\n",
       "      <th>0</th>\n",
       "      <td>1</td>\n",
       "      <td>NaN</td>\n",
       "      <td>NaN</td>\n",
       "      <td>NaN</td>\n",
       "      <td>43.0</td>\n",
       "      <td>NaN</td>\n",
       "      <td>NaN</td>\n",
       "      <td>NaN</td>\n",
       "      <td>NaN</td>\n",
       "      <td>NaN</td>\n",
       "      <td>NaN</td>\n",
       "      <td>NaN</td>\n",
       "      <td>206.0</td>\n",
       "      <td>NaN</td>\n",
       "      <td>150.0</td>\n",
       "      <td>154.0</td>\n",
       "    </tr>\n",
       "    <tr>\n",
       "      <th>1</th>\n",
       "      <td>2</td>\n",
       "      <td>NaN</td>\n",
       "      <td>NaN</td>\n",
       "      <td>NaN</td>\n",
       "      <td>73.0</td>\n",
       "      <td>NaN</td>\n",
       "      <td>NaN</td>\n",
       "      <td>NaN</td>\n",
       "      <td>NaN</td>\n",
       "      <td>NaN</td>\n",
       "      <td>NaN</td>\n",
       "      <td>NaN</td>\n",
       "      <td>206.0</td>\n",
       "      <td>NaN</td>\n",
       "      <td>149.0</td>\n",
       "      <td>154.0</td>\n",
       "    </tr>\n",
       "    <tr>\n",
       "      <th>2</th>\n",
       "      <td>3</td>\n",
       "      <td>NaN</td>\n",
       "      <td>NaN</td>\n",
       "      <td>NaN</td>\n",
       "      <td>34.0</td>\n",
       "      <td>NaN</td>\n",
       "      <td>NaN</td>\n",
       "      <td>NaN</td>\n",
       "      <td>NaN</td>\n",
       "      <td>NaN</td>\n",
       "      <td>NaN</td>\n",
       "      <td>NaN</td>\n",
       "      <td>205.0</td>\n",
       "      <td>NaN</td>\n",
       "      <td>152.0</td>\n",
       "      <td>153.0</td>\n",
       "    </tr>\n",
       "    <tr>\n",
       "      <th>3</th>\n",
       "      <td>4</td>\n",
       "      <td>NaN</td>\n",
       "      <td>NaN</td>\n",
       "      <td>NaN</td>\n",
       "      <td>81.0</td>\n",
       "      <td>NaN</td>\n",
       "      <td>NaN</td>\n",
       "      <td>NaN</td>\n",
       "      <td>NaN</td>\n",
       "      <td>NaN</td>\n",
       "      <td>NaN</td>\n",
       "      <td>NaN</td>\n",
       "      <td>207.0</td>\n",
       "      <td>NaN</td>\n",
       "      <td>153.0</td>\n",
       "      <td>154.0</td>\n",
       "    </tr>\n",
       "    <tr>\n",
       "      <th>4</th>\n",
       "      <td>5</td>\n",
       "      <td>NaN</td>\n",
       "      <td>NaN</td>\n",
       "      <td>NaN</td>\n",
       "      <td>78.0</td>\n",
       "      <td>NaN</td>\n",
       "      <td>NaN</td>\n",
       "      <td>NaN</td>\n",
       "      <td>NaN</td>\n",
       "      <td>NaN</td>\n",
       "      <td>NaN</td>\n",
       "      <td>NaN</td>\n",
       "      <td>203.0</td>\n",
       "      <td>NaN</td>\n",
       "      <td>151.0</td>\n",
       "      <td>152.0</td>\n",
       "    </tr>\n",
       "  </tbody>\n",
       "</table>\n",
       "</div>"
      ],
      "text/plain": [
       "   key  Bulk 1  Bulk 2  Bulk 3  Bulk 4  Bulk 5  Bulk 6  Bulk 7  Bulk 8  \\\n",
       "0    1     NaN     NaN     NaN    43.0     NaN     NaN     NaN     NaN   \n",
       "1    2     NaN     NaN     NaN    73.0     NaN     NaN     NaN     NaN   \n",
       "2    3     NaN     NaN     NaN    34.0     NaN     NaN     NaN     NaN   \n",
       "3    4     NaN     NaN     NaN    81.0     NaN     NaN     NaN     NaN   \n",
       "4    5     NaN     NaN     NaN    78.0     NaN     NaN     NaN     NaN   \n",
       "\n",
       "   Bulk 9  Bulk 10  Bulk 11  Bulk 12  Bulk 13  Bulk 14  Bulk 15  \n",
       "0     NaN      NaN      NaN    206.0      NaN    150.0    154.0  \n",
       "1     NaN      NaN      NaN    206.0      NaN    149.0    154.0  \n",
       "2     NaN      NaN      NaN    205.0      NaN    152.0    153.0  \n",
       "3     NaN      NaN      NaN    207.0      NaN    153.0    154.0  \n",
       "4     NaN      NaN      NaN    203.0      NaN    151.0    152.0  "
      ]
     },
     "metadata": {},
     "output_type": "display_data"
    }
   ],
   "source": [
    "data_bulk = observe('data_bulk.csv')"
   ]
  },
  {
   "cell_type": "markdown",
   "id": "stone-antenna",
   "metadata": {},
   "source": [
    "<b> Выводы </b>  \n",
    "\n",
    "Перед нами таблица из 3129 строк. В таблице есть столбец key (номер партии) и столбцы bulk (вероятно, обозначающих тот или иной вид сыпучих материалов). Во всех столбцах есть пропуски, скорее всего они означают, что тот или иной сыпучий материал не подавался."
   ]
  },
  {
   "cell_type": "markdown",
   "id": "facial-netscape",
   "metadata": {},
   "source": [
    "### data_bulk_time.csv — данные о подаче сыпучих материалов (время)"
   ]
  },
  {
   "cell_type": "code",
   "execution_count": 11,
   "id": "humanitarian-shade",
   "metadata": {},
   "outputs": [
    {
     "name": "stdout",
     "output_type": "stream",
     "text": [
      "\u001b[1mОбщая информация о данных\u001b[0m\n",
      "\n",
      "<class 'pandas.core.frame.DataFrame'>\n",
      "RangeIndex: 3129 entries, 0 to 3128\n",
      "Data columns (total 16 columns):\n",
      " #   Column   Non-Null Count  Dtype \n",
      "---  ------   --------------  ----- \n",
      " 0   key      3129 non-null   int64 \n",
      " 1   Bulk 1   252 non-null    object\n",
      " 2   Bulk 2   22 non-null     object\n",
      " 3   Bulk 3   1298 non-null   object\n",
      " 4   Bulk 4   1014 non-null   object\n",
      " 5   Bulk 5   77 non-null     object\n",
      " 6   Bulk 6   576 non-null    object\n",
      " 7   Bulk 7   25 non-null     object\n",
      " 8   Bulk 8   1 non-null      object\n",
      " 9   Bulk 9   19 non-null     object\n",
      " 10  Bulk 10  176 non-null    object\n",
      " 11  Bulk 11  177 non-null    object\n",
      " 12  Bulk 12  2450 non-null   object\n",
      " 13  Bulk 13  18 non-null     object\n",
      " 14  Bulk 14  2806 non-null   object\n",
      " 15  Bulk 15  2248 non-null   object\n",
      "dtypes: int64(1), object(15)\n",
      "memory usage: 391.2+ KB\n",
      "None\n",
      "\n",
      "\n",
      "\u001b[1mОписательные статистики\u001b[0m\n"
     ]
    },
    {
     "data": {
      "text/html": [
       "<div>\n",
       "<style scoped>\n",
       "    .dataframe tbody tr th:only-of-type {\n",
       "        vertical-align: middle;\n",
       "    }\n",
       "\n",
       "    .dataframe tbody tr th {\n",
       "        vertical-align: top;\n",
       "    }\n",
       "\n",
       "    .dataframe thead th {\n",
       "        text-align: right;\n",
       "    }\n",
       "</style>\n",
       "<table border=\"1\" class=\"dataframe\">\n",
       "  <thead>\n",
       "    <tr style=\"text-align: right;\">\n",
       "      <th></th>\n",
       "      <th>key</th>\n",
       "    </tr>\n",
       "  </thead>\n",
       "  <tbody>\n",
       "    <tr>\n",
       "      <th>count</th>\n",
       "      <td>3129.000000</td>\n",
       "    </tr>\n",
       "    <tr>\n",
       "      <th>mean</th>\n",
       "      <td>1624.383509</td>\n",
       "    </tr>\n",
       "    <tr>\n",
       "      <th>std</th>\n",
       "      <td>933.337642</td>\n",
       "    </tr>\n",
       "    <tr>\n",
       "      <th>min</th>\n",
       "      <td>1.000000</td>\n",
       "    </tr>\n",
       "    <tr>\n",
       "      <th>25%</th>\n",
       "      <td>816.000000</td>\n",
       "    </tr>\n",
       "    <tr>\n",
       "      <th>50%</th>\n",
       "      <td>1622.000000</td>\n",
       "    </tr>\n",
       "    <tr>\n",
       "      <th>75%</th>\n",
       "      <td>2431.000000</td>\n",
       "    </tr>\n",
       "    <tr>\n",
       "      <th>max</th>\n",
       "      <td>3241.000000</td>\n",
       "    </tr>\n",
       "  </tbody>\n",
       "</table>\n",
       "</div>"
      ],
      "text/plain": [
       "               key\n",
       "count  3129.000000\n",
       "mean   1624.383509\n",
       "std     933.337642\n",
       "min       1.000000\n",
       "25%     816.000000\n",
       "50%    1622.000000\n",
       "75%    2431.000000\n",
       "max    3241.000000"
      ]
     },
     "metadata": {},
     "output_type": "display_data"
    },
    {
     "name": "stdout",
     "output_type": "stream",
     "text": [
      "\n",
      "\n",
      "\u001b[1mПервые строки из данных\u001b[0m\n"
     ]
    },
    {
     "data": {
      "text/html": [
       "<div>\n",
       "<style scoped>\n",
       "    .dataframe tbody tr th:only-of-type {\n",
       "        vertical-align: middle;\n",
       "    }\n",
       "\n",
       "    .dataframe tbody tr th {\n",
       "        vertical-align: top;\n",
       "    }\n",
       "\n",
       "    .dataframe thead th {\n",
       "        text-align: right;\n",
       "    }\n",
       "</style>\n",
       "<table border=\"1\" class=\"dataframe\">\n",
       "  <thead>\n",
       "    <tr style=\"text-align: right;\">\n",
       "      <th></th>\n",
       "      <th>key</th>\n",
       "      <th>Bulk 1</th>\n",
       "      <th>Bulk 2</th>\n",
       "      <th>Bulk 3</th>\n",
       "      <th>Bulk 4</th>\n",
       "      <th>Bulk 5</th>\n",
       "      <th>Bulk 6</th>\n",
       "      <th>Bulk 7</th>\n",
       "      <th>Bulk 8</th>\n",
       "      <th>Bulk 9</th>\n",
       "      <th>Bulk 10</th>\n",
       "      <th>Bulk 11</th>\n",
       "      <th>Bulk 12</th>\n",
       "      <th>Bulk 13</th>\n",
       "      <th>Bulk 14</th>\n",
       "      <th>Bulk 15</th>\n",
       "    </tr>\n",
       "  </thead>\n",
       "  <tbody>\n",
       "    <tr>\n",
       "      <th>0</th>\n",
       "      <td>1</td>\n",
       "      <td>NaN</td>\n",
       "      <td>NaN</td>\n",
       "      <td>NaN</td>\n",
       "      <td>2019-05-03 11:21:30</td>\n",
       "      <td>NaN</td>\n",
       "      <td>NaN</td>\n",
       "      <td>NaN</td>\n",
       "      <td>NaN</td>\n",
       "      <td>NaN</td>\n",
       "      <td>NaN</td>\n",
       "      <td>NaN</td>\n",
       "      <td>2019-05-03 11:03:52</td>\n",
       "      <td>NaN</td>\n",
       "      <td>2019-05-03 11:03:52</td>\n",
       "      <td>2019-05-03 11:03:52</td>\n",
       "    </tr>\n",
       "    <tr>\n",
       "      <th>1</th>\n",
       "      <td>2</td>\n",
       "      <td>NaN</td>\n",
       "      <td>NaN</td>\n",
       "      <td>NaN</td>\n",
       "      <td>2019-05-03 11:46:38</td>\n",
       "      <td>NaN</td>\n",
       "      <td>NaN</td>\n",
       "      <td>NaN</td>\n",
       "      <td>NaN</td>\n",
       "      <td>NaN</td>\n",
       "      <td>NaN</td>\n",
       "      <td>NaN</td>\n",
       "      <td>2019-05-03 11:40:20</td>\n",
       "      <td>NaN</td>\n",
       "      <td>2019-05-03 11:40:20</td>\n",
       "      <td>2019-05-03 11:40:20</td>\n",
       "    </tr>\n",
       "    <tr>\n",
       "      <th>2</th>\n",
       "      <td>3</td>\n",
       "      <td>NaN</td>\n",
       "      <td>NaN</td>\n",
       "      <td>NaN</td>\n",
       "      <td>2019-05-03 12:31:06</td>\n",
       "      <td>NaN</td>\n",
       "      <td>NaN</td>\n",
       "      <td>NaN</td>\n",
       "      <td>NaN</td>\n",
       "      <td>NaN</td>\n",
       "      <td>NaN</td>\n",
       "      <td>NaN</td>\n",
       "      <td>2019-05-03 12:09:40</td>\n",
       "      <td>NaN</td>\n",
       "      <td>2019-05-03 12:09:40</td>\n",
       "      <td>2019-05-03 12:09:40</td>\n",
       "    </tr>\n",
       "    <tr>\n",
       "      <th>3</th>\n",
       "      <td>4</td>\n",
       "      <td>NaN</td>\n",
       "      <td>NaN</td>\n",
       "      <td>NaN</td>\n",
       "      <td>2019-05-03 12:48:43</td>\n",
       "      <td>NaN</td>\n",
       "      <td>NaN</td>\n",
       "      <td>NaN</td>\n",
       "      <td>NaN</td>\n",
       "      <td>NaN</td>\n",
       "      <td>NaN</td>\n",
       "      <td>NaN</td>\n",
       "      <td>2019-05-03 12:41:24</td>\n",
       "      <td>NaN</td>\n",
       "      <td>2019-05-03 12:41:24</td>\n",
       "      <td>2019-05-03 12:41:24</td>\n",
       "    </tr>\n",
       "    <tr>\n",
       "      <th>4</th>\n",
       "      <td>5</td>\n",
       "      <td>NaN</td>\n",
       "      <td>NaN</td>\n",
       "      <td>NaN</td>\n",
       "      <td>2019-05-03 13:18:50</td>\n",
       "      <td>NaN</td>\n",
       "      <td>NaN</td>\n",
       "      <td>NaN</td>\n",
       "      <td>NaN</td>\n",
       "      <td>NaN</td>\n",
       "      <td>NaN</td>\n",
       "      <td>NaN</td>\n",
       "      <td>2019-05-03 13:12:56</td>\n",
       "      <td>NaN</td>\n",
       "      <td>2019-05-03 13:12:56</td>\n",
       "      <td>2019-05-03 13:12:56</td>\n",
       "    </tr>\n",
       "  </tbody>\n",
       "</table>\n",
       "</div>"
      ],
      "text/plain": [
       "   key Bulk 1 Bulk 2 Bulk 3               Bulk 4 Bulk 5 Bulk 6 Bulk 7 Bulk 8  \\\n",
       "0    1    NaN    NaN    NaN  2019-05-03 11:21:30    NaN    NaN    NaN    NaN   \n",
       "1    2    NaN    NaN    NaN  2019-05-03 11:46:38    NaN    NaN    NaN    NaN   \n",
       "2    3    NaN    NaN    NaN  2019-05-03 12:31:06    NaN    NaN    NaN    NaN   \n",
       "3    4    NaN    NaN    NaN  2019-05-03 12:48:43    NaN    NaN    NaN    NaN   \n",
       "4    5    NaN    NaN    NaN  2019-05-03 13:18:50    NaN    NaN    NaN    NaN   \n",
       "\n",
       "  Bulk 9 Bulk 10 Bulk 11              Bulk 12 Bulk 13              Bulk 14  \\\n",
       "0    NaN     NaN     NaN  2019-05-03 11:03:52     NaN  2019-05-03 11:03:52   \n",
       "1    NaN     NaN     NaN  2019-05-03 11:40:20     NaN  2019-05-03 11:40:20   \n",
       "2    NaN     NaN     NaN  2019-05-03 12:09:40     NaN  2019-05-03 12:09:40   \n",
       "3    NaN     NaN     NaN  2019-05-03 12:41:24     NaN  2019-05-03 12:41:24   \n",
       "4    NaN     NaN     NaN  2019-05-03 13:12:56     NaN  2019-05-03 13:12:56   \n",
       "\n",
       "               Bulk 15  \n",
       "0  2019-05-03 11:03:52  \n",
       "1  2019-05-03 11:40:20  \n",
       "2  2019-05-03 12:09:40  \n",
       "3  2019-05-03 12:41:24  \n",
       "4  2019-05-03 13:12:56  "
      ]
     },
     "metadata": {},
     "output_type": "display_data"
    }
   ],
   "source": [
    "data_bulk_time = observe('data_bulk_time.csv')"
   ]
  },
  {
   "cell_type": "markdown",
   "id": "sound-suite",
   "metadata": {},
   "source": [
    "<b> Выводы </b>  \n",
    "\n",
    "Перед нами время подачи сыпучих материалов. "
   ]
  },
  {
   "cell_type": "markdown",
   "id": "convenient-vegetation",
   "metadata": {},
   "source": [
    "### data_gas.csv — данные о продувке сплава газом"
   ]
  },
  {
   "cell_type": "code",
   "execution_count": 12,
   "id": "vietnamese-butler",
   "metadata": {},
   "outputs": [
    {
     "name": "stdout",
     "output_type": "stream",
     "text": [
      "\u001b[1mОбщая информация о данных\u001b[0m\n",
      "\n",
      "<class 'pandas.core.frame.DataFrame'>\n",
      "RangeIndex: 3239 entries, 0 to 3238\n",
      "Data columns (total 2 columns):\n",
      " #   Column  Non-Null Count  Dtype  \n",
      "---  ------  --------------  -----  \n",
      " 0   key     3239 non-null   int64  \n",
      " 1   Газ 1   3239 non-null   float64\n",
      "dtypes: float64(1), int64(1)\n",
      "memory usage: 50.7 KB\n",
      "None\n",
      "\n",
      "\n",
      "\u001b[1mОписательные статистики\u001b[0m\n"
     ]
    },
    {
     "data": {
      "text/html": [
       "<div>\n",
       "<style scoped>\n",
       "    .dataframe tbody tr th:only-of-type {\n",
       "        vertical-align: middle;\n",
       "    }\n",
       "\n",
       "    .dataframe tbody tr th {\n",
       "        vertical-align: top;\n",
       "    }\n",
       "\n",
       "    .dataframe thead th {\n",
       "        text-align: right;\n",
       "    }\n",
       "</style>\n",
       "<table border=\"1\" class=\"dataframe\">\n",
       "  <thead>\n",
       "    <tr style=\"text-align: right;\">\n",
       "      <th></th>\n",
       "      <th>key</th>\n",
       "      <th>Газ 1</th>\n",
       "    </tr>\n",
       "  </thead>\n",
       "  <tbody>\n",
       "    <tr>\n",
       "      <th>count</th>\n",
       "      <td>3239.000000</td>\n",
       "      <td>3239.000000</td>\n",
       "    </tr>\n",
       "    <tr>\n",
       "      <th>mean</th>\n",
       "      <td>1621.861377</td>\n",
       "      <td>11.002062</td>\n",
       "    </tr>\n",
       "    <tr>\n",
       "      <th>std</th>\n",
       "      <td>935.386334</td>\n",
       "      <td>6.220327</td>\n",
       "    </tr>\n",
       "    <tr>\n",
       "      <th>min</th>\n",
       "      <td>1.000000</td>\n",
       "      <td>0.008399</td>\n",
       "    </tr>\n",
       "    <tr>\n",
       "      <th>25%</th>\n",
       "      <td>812.500000</td>\n",
       "      <td>7.043089</td>\n",
       "    </tr>\n",
       "    <tr>\n",
       "      <th>50%</th>\n",
       "      <td>1622.000000</td>\n",
       "      <td>9.836267</td>\n",
       "    </tr>\n",
       "    <tr>\n",
       "      <th>75%</th>\n",
       "      <td>2431.500000</td>\n",
       "      <td>13.769915</td>\n",
       "    </tr>\n",
       "    <tr>\n",
       "      <th>max</th>\n",
       "      <td>3241.000000</td>\n",
       "      <td>77.995040</td>\n",
       "    </tr>\n",
       "  </tbody>\n",
       "</table>\n",
       "</div>"
      ],
      "text/plain": [
       "               key        Газ 1\n",
       "count  3239.000000  3239.000000\n",
       "mean   1621.861377    11.002062\n",
       "std     935.386334     6.220327\n",
       "min       1.000000     0.008399\n",
       "25%     812.500000     7.043089\n",
       "50%    1622.000000     9.836267\n",
       "75%    2431.500000    13.769915\n",
       "max    3241.000000    77.995040"
      ]
     },
     "metadata": {},
     "output_type": "display_data"
    },
    {
     "name": "stdout",
     "output_type": "stream",
     "text": [
      "\n",
      "\n",
      "\u001b[1mПервые строки из данных\u001b[0m\n"
     ]
    },
    {
     "data": {
      "text/html": [
       "<div>\n",
       "<style scoped>\n",
       "    .dataframe tbody tr th:only-of-type {\n",
       "        vertical-align: middle;\n",
       "    }\n",
       "\n",
       "    .dataframe tbody tr th {\n",
       "        vertical-align: top;\n",
       "    }\n",
       "\n",
       "    .dataframe thead th {\n",
       "        text-align: right;\n",
       "    }\n",
       "</style>\n",
       "<table border=\"1\" class=\"dataframe\">\n",
       "  <thead>\n",
       "    <tr style=\"text-align: right;\">\n",
       "      <th></th>\n",
       "      <th>key</th>\n",
       "      <th>Газ 1</th>\n",
       "    </tr>\n",
       "  </thead>\n",
       "  <tbody>\n",
       "    <tr>\n",
       "      <th>0</th>\n",
       "      <td>1</td>\n",
       "      <td>29.749986</td>\n",
       "    </tr>\n",
       "    <tr>\n",
       "      <th>1</th>\n",
       "      <td>2</td>\n",
       "      <td>12.555561</td>\n",
       "    </tr>\n",
       "    <tr>\n",
       "      <th>2</th>\n",
       "      <td>3</td>\n",
       "      <td>28.554793</td>\n",
       "    </tr>\n",
       "    <tr>\n",
       "      <th>3</th>\n",
       "      <td>4</td>\n",
       "      <td>18.841219</td>\n",
       "    </tr>\n",
       "    <tr>\n",
       "      <th>4</th>\n",
       "      <td>5</td>\n",
       "      <td>5.413692</td>\n",
       "    </tr>\n",
       "  </tbody>\n",
       "</table>\n",
       "</div>"
      ],
      "text/plain": [
       "   key      Газ 1\n",
       "0    1  29.749986\n",
       "1    2  12.555561\n",
       "2    3  28.554793\n",
       "3    4  18.841219\n",
       "4    5   5.413692"
      ]
     },
     "metadata": {},
     "output_type": "display_data"
    }
   ],
   "source": [
    "data_gas = observe('data_gas.csv')"
   ]
  },
  {
   "cell_type": "markdown",
   "id": "above-hughes",
   "metadata": {},
   "source": [
    "<b> Выводы </b>  \n",
    "\n",
    "Вероятно, в таблице указан объем газа для каждой партии. Данные о газе могут иметь важное значение для модели, однако нам неизвестно время продувки газом, так что мы не можем использовать эти данные."
   ]
  },
  {
   "cell_type": "markdown",
   "id": "ideal-yield",
   "metadata": {},
   "source": [
    "### data_temp.csv — результаты измерения температуры;"
   ]
  },
  {
   "cell_type": "code",
   "execution_count": 13,
   "id": "prompt-glance",
   "metadata": {},
   "outputs": [
    {
     "name": "stdout",
     "output_type": "stream",
     "text": [
      "\u001b[1mОбщая информация о данных\u001b[0m\n",
      "\n",
      "<class 'pandas.core.frame.DataFrame'>\n",
      "RangeIndex: 15907 entries, 0 to 15906\n",
      "Data columns (total 3 columns):\n",
      " #   Column        Non-Null Count  Dtype  \n",
      "---  ------        --------------  -----  \n",
      " 0   key           15907 non-null  int64  \n",
      " 1   Время замера  15907 non-null  object \n",
      " 2   Температура   13006 non-null  float64\n",
      "dtypes: float64(1), int64(1), object(1)\n",
      "memory usage: 372.9+ KB\n",
      "None\n",
      "\n",
      "\n",
      "\u001b[1mОписательные статистики\u001b[0m\n"
     ]
    },
    {
     "data": {
      "text/html": [
       "<div>\n",
       "<style scoped>\n",
       "    .dataframe tbody tr th:only-of-type {\n",
       "        vertical-align: middle;\n",
       "    }\n",
       "\n",
       "    .dataframe tbody tr th {\n",
       "        vertical-align: top;\n",
       "    }\n",
       "\n",
       "    .dataframe thead th {\n",
       "        text-align: right;\n",
       "    }\n",
       "</style>\n",
       "<table border=\"1\" class=\"dataframe\">\n",
       "  <thead>\n",
       "    <tr style=\"text-align: right;\">\n",
       "      <th></th>\n",
       "      <th>key</th>\n",
       "      <th>Температура</th>\n",
       "    </tr>\n",
       "  </thead>\n",
       "  <tbody>\n",
       "    <tr>\n",
       "      <th>count</th>\n",
       "      <td>15907.000000</td>\n",
       "      <td>13006.000000</td>\n",
       "    </tr>\n",
       "    <tr>\n",
       "      <th>mean</th>\n",
       "      <td>1607.880870</td>\n",
       "      <td>1591.840920</td>\n",
       "    </tr>\n",
       "    <tr>\n",
       "      <th>std</th>\n",
       "      <td>942.212073</td>\n",
       "      <td>21.375851</td>\n",
       "    </tr>\n",
       "    <tr>\n",
       "      <th>min</th>\n",
       "      <td>1.000000</td>\n",
       "      <td>1191.000000</td>\n",
       "    </tr>\n",
       "    <tr>\n",
       "      <th>25%</th>\n",
       "      <td>790.000000</td>\n",
       "      <td>1581.000000</td>\n",
       "    </tr>\n",
       "    <tr>\n",
       "      <th>50%</th>\n",
       "      <td>1618.000000</td>\n",
       "      <td>1591.000000</td>\n",
       "    </tr>\n",
       "    <tr>\n",
       "      <th>75%</th>\n",
       "      <td>2427.000000</td>\n",
       "      <td>1601.000000</td>\n",
       "    </tr>\n",
       "    <tr>\n",
       "      <th>max</th>\n",
       "      <td>3241.000000</td>\n",
       "      <td>1705.000000</td>\n",
       "    </tr>\n",
       "  </tbody>\n",
       "</table>\n",
       "</div>"
      ],
      "text/plain": [
       "                key   Температура\n",
       "count  15907.000000  13006.000000\n",
       "mean    1607.880870   1591.840920\n",
       "std      942.212073     21.375851\n",
       "min        1.000000   1191.000000\n",
       "25%      790.000000   1581.000000\n",
       "50%     1618.000000   1591.000000\n",
       "75%     2427.000000   1601.000000\n",
       "max     3241.000000   1705.000000"
      ]
     },
     "metadata": {},
     "output_type": "display_data"
    },
    {
     "name": "stdout",
     "output_type": "stream",
     "text": [
      "\n",
      "\n",
      "\u001b[1mПервые строки из данных\u001b[0m\n"
     ]
    },
    {
     "data": {
      "text/html": [
       "<div>\n",
       "<style scoped>\n",
       "    .dataframe tbody tr th:only-of-type {\n",
       "        vertical-align: middle;\n",
       "    }\n",
       "\n",
       "    .dataframe tbody tr th {\n",
       "        vertical-align: top;\n",
       "    }\n",
       "\n",
       "    .dataframe thead th {\n",
       "        text-align: right;\n",
       "    }\n",
       "</style>\n",
       "<table border=\"1\" class=\"dataframe\">\n",
       "  <thead>\n",
       "    <tr style=\"text-align: right;\">\n",
       "      <th></th>\n",
       "      <th>key</th>\n",
       "      <th>Время замера</th>\n",
       "      <th>Температура</th>\n",
       "    </tr>\n",
       "  </thead>\n",
       "  <tbody>\n",
       "    <tr>\n",
       "      <th>0</th>\n",
       "      <td>1</td>\n",
       "      <td>2019-05-03 11:16:18</td>\n",
       "      <td>1571.0</td>\n",
       "    </tr>\n",
       "    <tr>\n",
       "      <th>1</th>\n",
       "      <td>1</td>\n",
       "      <td>2019-05-03 11:25:53</td>\n",
       "      <td>1604.0</td>\n",
       "    </tr>\n",
       "    <tr>\n",
       "      <th>2</th>\n",
       "      <td>1</td>\n",
       "      <td>2019-05-03 11:29:11</td>\n",
       "      <td>1618.0</td>\n",
       "    </tr>\n",
       "    <tr>\n",
       "      <th>3</th>\n",
       "      <td>1</td>\n",
       "      <td>2019-05-03 11:30:01</td>\n",
       "      <td>1601.0</td>\n",
       "    </tr>\n",
       "    <tr>\n",
       "      <th>4</th>\n",
       "      <td>1</td>\n",
       "      <td>2019-05-03 11:30:39</td>\n",
       "      <td>1613.0</td>\n",
       "    </tr>\n",
       "  </tbody>\n",
       "</table>\n",
       "</div>"
      ],
      "text/plain": [
       "   key         Время замера  Температура\n",
       "0    1  2019-05-03 11:16:18       1571.0\n",
       "1    1  2019-05-03 11:25:53       1604.0\n",
       "2    1  2019-05-03 11:29:11       1618.0\n",
       "3    1  2019-05-03 11:30:01       1601.0\n",
       "4    1  2019-05-03 11:30:39       1613.0"
      ]
     },
     "metadata": {},
     "output_type": "display_data"
    }
   ],
   "source": [
    "data_temp = observe('data_temp.csv')"
   ]
  },
  {
   "cell_type": "markdown",
   "id": "increased-mortgage",
   "metadata": {},
   "source": [
    "<b> Выводы </b>\n",
    "\n",
    "В таблице представлены результаты измерения температуры для разных партий в разное время. В соответствии с задачей целевым признаком является последнее измерение температуры для партии."
   ]
  },
  {
   "cell_type": "markdown",
   "id": "healthy-cancer",
   "metadata": {},
   "source": [
    "### data_wire.csv — данные о проволочных материалах (объём)"
   ]
  },
  {
   "cell_type": "code",
   "execution_count": 14,
   "id": "returning-karen",
   "metadata": {},
   "outputs": [
    {
     "name": "stdout",
     "output_type": "stream",
     "text": [
      "\u001b[1mОбщая информация о данных\u001b[0m\n",
      "\n",
      "<class 'pandas.core.frame.DataFrame'>\n",
      "RangeIndex: 3081 entries, 0 to 3080\n",
      "Data columns (total 10 columns):\n",
      " #   Column  Non-Null Count  Dtype  \n",
      "---  ------  --------------  -----  \n",
      " 0   key     3081 non-null   int64  \n",
      " 1   Wire 1  3055 non-null   float64\n",
      " 2   Wire 2  1079 non-null   float64\n",
      " 3   Wire 3  63 non-null     float64\n",
      " 4   Wire 4  14 non-null     float64\n",
      " 5   Wire 5  1 non-null      float64\n",
      " 6   Wire 6  73 non-null     float64\n",
      " 7   Wire 7  11 non-null     float64\n",
      " 8   Wire 8  19 non-null     float64\n",
      " 9   Wire 9  29 non-null     float64\n",
      "dtypes: float64(9), int64(1)\n",
      "memory usage: 240.8 KB\n",
      "None\n",
      "\n",
      "\n",
      "\u001b[1mОписательные статистики\u001b[0m\n"
     ]
    },
    {
     "data": {
      "text/html": [
       "<div>\n",
       "<style scoped>\n",
       "    .dataframe tbody tr th:only-of-type {\n",
       "        vertical-align: middle;\n",
       "    }\n",
       "\n",
       "    .dataframe tbody tr th {\n",
       "        vertical-align: top;\n",
       "    }\n",
       "\n",
       "    .dataframe thead th {\n",
       "        text-align: right;\n",
       "    }\n",
       "</style>\n",
       "<table border=\"1\" class=\"dataframe\">\n",
       "  <thead>\n",
       "    <tr style=\"text-align: right;\">\n",
       "      <th></th>\n",
       "      <th>key</th>\n",
       "      <th>Wire 1</th>\n",
       "      <th>Wire 2</th>\n",
       "      <th>Wire 3</th>\n",
       "      <th>Wire 4</th>\n",
       "      <th>Wire 5</th>\n",
       "      <th>Wire 6</th>\n",
       "      <th>Wire 7</th>\n",
       "      <th>Wire 8</th>\n",
       "      <th>Wire 9</th>\n",
       "    </tr>\n",
       "  </thead>\n",
       "  <tbody>\n",
       "    <tr>\n",
       "      <th>count</th>\n",
       "      <td>3081.000000</td>\n",
       "      <td>3055.000000</td>\n",
       "      <td>1079.000000</td>\n",
       "      <td>63.000000</td>\n",
       "      <td>14.000000</td>\n",
       "      <td>1.000</td>\n",
       "      <td>73.000000</td>\n",
       "      <td>11.000000</td>\n",
       "      <td>19.000000</td>\n",
       "      <td>29.000000</td>\n",
       "    </tr>\n",
       "    <tr>\n",
       "      <th>mean</th>\n",
       "      <td>1623.426485</td>\n",
       "      <td>100.895853</td>\n",
       "      <td>50.577323</td>\n",
       "      <td>189.482681</td>\n",
       "      <td>57.442841</td>\n",
       "      <td>15.132</td>\n",
       "      <td>48.016974</td>\n",
       "      <td>10.039007</td>\n",
       "      <td>53.625193</td>\n",
       "      <td>34.155752</td>\n",
       "    </tr>\n",
       "    <tr>\n",
       "      <th>std</th>\n",
       "      <td>932.996726</td>\n",
       "      <td>42.012518</td>\n",
       "      <td>39.320216</td>\n",
       "      <td>99.513444</td>\n",
       "      <td>28.824667</td>\n",
       "      <td>NaN</td>\n",
       "      <td>33.919845</td>\n",
       "      <td>8.610584</td>\n",
       "      <td>16.881728</td>\n",
       "      <td>19.931616</td>\n",
       "    </tr>\n",
       "    <tr>\n",
       "      <th>min</th>\n",
       "      <td>1.000000</td>\n",
       "      <td>1.918800</td>\n",
       "      <td>0.030160</td>\n",
       "      <td>0.144144</td>\n",
       "      <td>24.148801</td>\n",
       "      <td>15.132</td>\n",
       "      <td>0.034320</td>\n",
       "      <td>0.234208</td>\n",
       "      <td>45.076721</td>\n",
       "      <td>4.622800</td>\n",
       "    </tr>\n",
       "    <tr>\n",
       "      <th>25%</th>\n",
       "      <td>823.000000</td>\n",
       "      <td>72.115684</td>\n",
       "      <td>20.193680</td>\n",
       "      <td>95.135044</td>\n",
       "      <td>40.807002</td>\n",
       "      <td>15.132</td>\n",
       "      <td>25.053600</td>\n",
       "      <td>6.762756</td>\n",
       "      <td>46.094879</td>\n",
       "      <td>22.058401</td>\n",
       "    </tr>\n",
       "    <tr>\n",
       "      <th>50%</th>\n",
       "      <td>1619.000000</td>\n",
       "      <td>100.158234</td>\n",
       "      <td>40.142956</td>\n",
       "      <td>235.194977</td>\n",
       "      <td>45.234282</td>\n",
       "      <td>15.132</td>\n",
       "      <td>42.076324</td>\n",
       "      <td>9.017009</td>\n",
       "      <td>46.279999</td>\n",
       "      <td>30.066399</td>\n",
       "    </tr>\n",
       "    <tr>\n",
       "      <th>75%</th>\n",
       "      <td>2434.000000</td>\n",
       "      <td>126.060483</td>\n",
       "      <td>70.227558</td>\n",
       "      <td>276.252014</td>\n",
       "      <td>76.124619</td>\n",
       "      <td>15.132</td>\n",
       "      <td>64.212723</td>\n",
       "      <td>11.886057</td>\n",
       "      <td>48.089603</td>\n",
       "      <td>43.862003</td>\n",
       "    </tr>\n",
       "    <tr>\n",
       "      <th>max</th>\n",
       "      <td>3241.000000</td>\n",
       "      <td>330.314424</td>\n",
       "      <td>282.780152</td>\n",
       "      <td>385.008668</td>\n",
       "      <td>113.231044</td>\n",
       "      <td>15.132</td>\n",
       "      <td>180.454575</td>\n",
       "      <td>32.847674</td>\n",
       "      <td>102.762401</td>\n",
       "      <td>90.053604</td>\n",
       "    </tr>\n",
       "  </tbody>\n",
       "</table>\n",
       "</div>"
      ],
      "text/plain": [
       "               key       Wire 1       Wire 2      Wire 3      Wire 4  Wire 5  \\\n",
       "count  3081.000000  3055.000000  1079.000000   63.000000   14.000000   1.000   \n",
       "mean   1623.426485   100.895853    50.577323  189.482681   57.442841  15.132   \n",
       "std     932.996726    42.012518    39.320216   99.513444   28.824667     NaN   \n",
       "min       1.000000     1.918800     0.030160    0.144144   24.148801  15.132   \n",
       "25%     823.000000    72.115684    20.193680   95.135044   40.807002  15.132   \n",
       "50%    1619.000000   100.158234    40.142956  235.194977   45.234282  15.132   \n",
       "75%    2434.000000   126.060483    70.227558  276.252014   76.124619  15.132   \n",
       "max    3241.000000   330.314424   282.780152  385.008668  113.231044  15.132   \n",
       "\n",
       "           Wire 6     Wire 7      Wire 8     Wire 9  \n",
       "count   73.000000  11.000000   19.000000  29.000000  \n",
       "mean    48.016974  10.039007   53.625193  34.155752  \n",
       "std     33.919845   8.610584   16.881728  19.931616  \n",
       "min      0.034320   0.234208   45.076721   4.622800  \n",
       "25%     25.053600   6.762756   46.094879  22.058401  \n",
       "50%     42.076324   9.017009   46.279999  30.066399  \n",
       "75%     64.212723  11.886057   48.089603  43.862003  \n",
       "max    180.454575  32.847674  102.762401  90.053604  "
      ]
     },
     "metadata": {},
     "output_type": "display_data"
    },
    {
     "name": "stdout",
     "output_type": "stream",
     "text": [
      "\n",
      "\n",
      "\u001b[1mПервые строки из данных\u001b[0m\n"
     ]
    },
    {
     "data": {
      "text/html": [
       "<div>\n",
       "<style scoped>\n",
       "    .dataframe tbody tr th:only-of-type {\n",
       "        vertical-align: middle;\n",
       "    }\n",
       "\n",
       "    .dataframe tbody tr th {\n",
       "        vertical-align: top;\n",
       "    }\n",
       "\n",
       "    .dataframe thead th {\n",
       "        text-align: right;\n",
       "    }\n",
       "</style>\n",
       "<table border=\"1\" class=\"dataframe\">\n",
       "  <thead>\n",
       "    <tr style=\"text-align: right;\">\n",
       "      <th></th>\n",
       "      <th>key</th>\n",
       "      <th>Wire 1</th>\n",
       "      <th>Wire 2</th>\n",
       "      <th>Wire 3</th>\n",
       "      <th>Wire 4</th>\n",
       "      <th>Wire 5</th>\n",
       "      <th>Wire 6</th>\n",
       "      <th>Wire 7</th>\n",
       "      <th>Wire 8</th>\n",
       "      <th>Wire 9</th>\n",
       "    </tr>\n",
       "  </thead>\n",
       "  <tbody>\n",
       "    <tr>\n",
       "      <th>0</th>\n",
       "      <td>1</td>\n",
       "      <td>60.059998</td>\n",
       "      <td>NaN</td>\n",
       "      <td>NaN</td>\n",
       "      <td>NaN</td>\n",
       "      <td>NaN</td>\n",
       "      <td>NaN</td>\n",
       "      <td>NaN</td>\n",
       "      <td>NaN</td>\n",
       "      <td>NaN</td>\n",
       "    </tr>\n",
       "    <tr>\n",
       "      <th>1</th>\n",
       "      <td>2</td>\n",
       "      <td>96.052315</td>\n",
       "      <td>NaN</td>\n",
       "      <td>NaN</td>\n",
       "      <td>NaN</td>\n",
       "      <td>NaN</td>\n",
       "      <td>NaN</td>\n",
       "      <td>NaN</td>\n",
       "      <td>NaN</td>\n",
       "      <td>NaN</td>\n",
       "    </tr>\n",
       "    <tr>\n",
       "      <th>2</th>\n",
       "      <td>3</td>\n",
       "      <td>91.160157</td>\n",
       "      <td>NaN</td>\n",
       "      <td>NaN</td>\n",
       "      <td>NaN</td>\n",
       "      <td>NaN</td>\n",
       "      <td>NaN</td>\n",
       "      <td>NaN</td>\n",
       "      <td>NaN</td>\n",
       "      <td>NaN</td>\n",
       "    </tr>\n",
       "    <tr>\n",
       "      <th>3</th>\n",
       "      <td>4</td>\n",
       "      <td>89.063515</td>\n",
       "      <td>NaN</td>\n",
       "      <td>NaN</td>\n",
       "      <td>NaN</td>\n",
       "      <td>NaN</td>\n",
       "      <td>NaN</td>\n",
       "      <td>NaN</td>\n",
       "      <td>NaN</td>\n",
       "      <td>NaN</td>\n",
       "    </tr>\n",
       "    <tr>\n",
       "      <th>4</th>\n",
       "      <td>5</td>\n",
       "      <td>89.238236</td>\n",
       "      <td>9.11456</td>\n",
       "      <td>NaN</td>\n",
       "      <td>NaN</td>\n",
       "      <td>NaN</td>\n",
       "      <td>NaN</td>\n",
       "      <td>NaN</td>\n",
       "      <td>NaN</td>\n",
       "      <td>NaN</td>\n",
       "    </tr>\n",
       "  </tbody>\n",
       "</table>\n",
       "</div>"
      ],
      "text/plain": [
       "   key     Wire 1   Wire 2  Wire 3  Wire 4  Wire 5  Wire 6  Wire 7  Wire 8  \\\n",
       "0    1  60.059998      NaN     NaN     NaN     NaN     NaN     NaN     NaN   \n",
       "1    2  96.052315      NaN     NaN     NaN     NaN     NaN     NaN     NaN   \n",
       "2    3  91.160157      NaN     NaN     NaN     NaN     NaN     NaN     NaN   \n",
       "3    4  89.063515      NaN     NaN     NaN     NaN     NaN     NaN     NaN   \n",
       "4    5  89.238236  9.11456     NaN     NaN     NaN     NaN     NaN     NaN   \n",
       "\n",
       "   Wire 9  \n",
       "0     NaN  \n",
       "1     NaN  \n",
       "2     NaN  \n",
       "3     NaN  \n",
       "4     NaN  "
      ]
     },
     "metadata": {},
     "output_type": "display_data"
    }
   ],
   "source": [
    "data_wire = observe('data_wire.csv')"
   ]
  },
  {
   "cell_type": "markdown",
   "id": "veterinary-atlanta",
   "metadata": {},
   "source": [
    "<b> Выводы </b>\n",
    "\n",
    "Данная информация соответствует этапу \"сталь легируют — изменяют её состав — подавая куски сплава из бункера для сыпучих материалов или проволоку через специальный трайб-аппарат\""
   ]
  },
  {
   "cell_type": "markdown",
   "id": "accessible-bristol",
   "metadata": {},
   "source": [
    "### data_wire_time.csv — данные о проволочных материалах (время)"
   ]
  },
  {
   "cell_type": "code",
   "execution_count": 15,
   "id": "emerging-coach",
   "metadata": {},
   "outputs": [
    {
     "name": "stdout",
     "output_type": "stream",
     "text": [
      "\u001b[1mОбщая информация о данных\u001b[0m\n",
      "\n",
      "<class 'pandas.core.frame.DataFrame'>\n",
      "RangeIndex: 3081 entries, 0 to 3080\n",
      "Data columns (total 10 columns):\n",
      " #   Column  Non-Null Count  Dtype \n",
      "---  ------  --------------  ----- \n",
      " 0   key     3081 non-null   int64 \n",
      " 1   Wire 1  3055 non-null   object\n",
      " 2   Wire 2  1079 non-null   object\n",
      " 3   Wire 3  63 non-null     object\n",
      " 4   Wire 4  14 non-null     object\n",
      " 5   Wire 5  1 non-null      object\n",
      " 6   Wire 6  73 non-null     object\n",
      " 7   Wire 7  11 non-null     object\n",
      " 8   Wire 8  19 non-null     object\n",
      " 9   Wire 9  29 non-null     object\n",
      "dtypes: int64(1), object(9)\n",
      "memory usage: 240.8+ KB\n",
      "None\n",
      "\n",
      "\n",
      "\u001b[1mОписательные статистики\u001b[0m\n"
     ]
    },
    {
     "data": {
      "text/html": [
       "<div>\n",
       "<style scoped>\n",
       "    .dataframe tbody tr th:only-of-type {\n",
       "        vertical-align: middle;\n",
       "    }\n",
       "\n",
       "    .dataframe tbody tr th {\n",
       "        vertical-align: top;\n",
       "    }\n",
       "\n",
       "    .dataframe thead th {\n",
       "        text-align: right;\n",
       "    }\n",
       "</style>\n",
       "<table border=\"1\" class=\"dataframe\">\n",
       "  <thead>\n",
       "    <tr style=\"text-align: right;\">\n",
       "      <th></th>\n",
       "      <th>key</th>\n",
       "    </tr>\n",
       "  </thead>\n",
       "  <tbody>\n",
       "    <tr>\n",
       "      <th>count</th>\n",
       "      <td>3081.000000</td>\n",
       "    </tr>\n",
       "    <tr>\n",
       "      <th>mean</th>\n",
       "      <td>1623.426485</td>\n",
       "    </tr>\n",
       "    <tr>\n",
       "      <th>std</th>\n",
       "      <td>932.996726</td>\n",
       "    </tr>\n",
       "    <tr>\n",
       "      <th>min</th>\n",
       "      <td>1.000000</td>\n",
       "    </tr>\n",
       "    <tr>\n",
       "      <th>25%</th>\n",
       "      <td>823.000000</td>\n",
       "    </tr>\n",
       "    <tr>\n",
       "      <th>50%</th>\n",
       "      <td>1619.000000</td>\n",
       "    </tr>\n",
       "    <tr>\n",
       "      <th>75%</th>\n",
       "      <td>2434.000000</td>\n",
       "    </tr>\n",
       "    <tr>\n",
       "      <th>max</th>\n",
       "      <td>3241.000000</td>\n",
       "    </tr>\n",
       "  </tbody>\n",
       "</table>\n",
       "</div>"
      ],
      "text/plain": [
       "               key\n",
       "count  3081.000000\n",
       "mean   1623.426485\n",
       "std     932.996726\n",
       "min       1.000000\n",
       "25%     823.000000\n",
       "50%    1619.000000\n",
       "75%    2434.000000\n",
       "max    3241.000000"
      ]
     },
     "metadata": {},
     "output_type": "display_data"
    },
    {
     "name": "stdout",
     "output_type": "stream",
     "text": [
      "\n",
      "\n",
      "\u001b[1mПервые строки из данных\u001b[0m\n"
     ]
    },
    {
     "data": {
      "text/html": [
       "<div>\n",
       "<style scoped>\n",
       "    .dataframe tbody tr th:only-of-type {\n",
       "        vertical-align: middle;\n",
       "    }\n",
       "\n",
       "    .dataframe tbody tr th {\n",
       "        vertical-align: top;\n",
       "    }\n",
       "\n",
       "    .dataframe thead th {\n",
       "        text-align: right;\n",
       "    }\n",
       "</style>\n",
       "<table border=\"1\" class=\"dataframe\">\n",
       "  <thead>\n",
       "    <tr style=\"text-align: right;\">\n",
       "      <th></th>\n",
       "      <th>key</th>\n",
       "      <th>Wire 1</th>\n",
       "      <th>Wire 2</th>\n",
       "      <th>Wire 3</th>\n",
       "      <th>Wire 4</th>\n",
       "      <th>Wire 5</th>\n",
       "      <th>Wire 6</th>\n",
       "      <th>Wire 7</th>\n",
       "      <th>Wire 8</th>\n",
       "      <th>Wire 9</th>\n",
       "    </tr>\n",
       "  </thead>\n",
       "  <tbody>\n",
       "    <tr>\n",
       "      <th>0</th>\n",
       "      <td>1</td>\n",
       "      <td>2019-05-03 11:11:41</td>\n",
       "      <td>NaN</td>\n",
       "      <td>NaN</td>\n",
       "      <td>NaN</td>\n",
       "      <td>NaN</td>\n",
       "      <td>NaN</td>\n",
       "      <td>NaN</td>\n",
       "      <td>NaN</td>\n",
       "      <td>NaN</td>\n",
       "    </tr>\n",
       "    <tr>\n",
       "      <th>1</th>\n",
       "      <td>2</td>\n",
       "      <td>2019-05-03 11:46:10</td>\n",
       "      <td>NaN</td>\n",
       "      <td>NaN</td>\n",
       "      <td>NaN</td>\n",
       "      <td>NaN</td>\n",
       "      <td>NaN</td>\n",
       "      <td>NaN</td>\n",
       "      <td>NaN</td>\n",
       "      <td>NaN</td>\n",
       "    </tr>\n",
       "    <tr>\n",
       "      <th>2</th>\n",
       "      <td>3</td>\n",
       "      <td>2019-05-03 12:13:47</td>\n",
       "      <td>NaN</td>\n",
       "      <td>NaN</td>\n",
       "      <td>NaN</td>\n",
       "      <td>NaN</td>\n",
       "      <td>NaN</td>\n",
       "      <td>NaN</td>\n",
       "      <td>NaN</td>\n",
       "      <td>NaN</td>\n",
       "    </tr>\n",
       "    <tr>\n",
       "      <th>3</th>\n",
       "      <td>4</td>\n",
       "      <td>2019-05-03 12:48:05</td>\n",
       "      <td>NaN</td>\n",
       "      <td>NaN</td>\n",
       "      <td>NaN</td>\n",
       "      <td>NaN</td>\n",
       "      <td>NaN</td>\n",
       "      <td>NaN</td>\n",
       "      <td>NaN</td>\n",
       "      <td>NaN</td>\n",
       "    </tr>\n",
       "    <tr>\n",
       "      <th>4</th>\n",
       "      <td>5</td>\n",
       "      <td>2019-05-03 13:18:15</td>\n",
       "      <td>2019-05-03 13:32:06</td>\n",
       "      <td>NaN</td>\n",
       "      <td>NaN</td>\n",
       "      <td>NaN</td>\n",
       "      <td>NaN</td>\n",
       "      <td>NaN</td>\n",
       "      <td>NaN</td>\n",
       "      <td>NaN</td>\n",
       "    </tr>\n",
       "  </tbody>\n",
       "</table>\n",
       "</div>"
      ],
      "text/plain": [
       "   key               Wire 1               Wire 2 Wire 3 Wire 4 Wire 5 Wire 6  \\\n",
       "0    1  2019-05-03 11:11:41                  NaN    NaN    NaN    NaN    NaN   \n",
       "1    2  2019-05-03 11:46:10                  NaN    NaN    NaN    NaN    NaN   \n",
       "2    3  2019-05-03 12:13:47                  NaN    NaN    NaN    NaN    NaN   \n",
       "3    4  2019-05-03 12:48:05                  NaN    NaN    NaN    NaN    NaN   \n",
       "4    5  2019-05-03 13:18:15  2019-05-03 13:32:06    NaN    NaN    NaN    NaN   \n",
       "\n",
       "  Wire 7 Wire 8 Wire 9  \n",
       "0    NaN    NaN    NaN  \n",
       "1    NaN    NaN    NaN  \n",
       "2    NaN    NaN    NaN  \n",
       "3    NaN    NaN    NaN  \n",
       "4    NaN    NaN    NaN  "
      ]
     },
     "metadata": {},
     "output_type": "display_data"
    }
   ],
   "source": [
    "data_wire_time = observe('data_wire_time.csv')"
   ]
  },
  {
   "cell_type": "markdown",
   "id": "sized-frank",
   "metadata": {},
   "source": [
    "<b> Выводы </b>\n",
    "\n",
    "Данная информация показывает время добавления проволочных материалов"
   ]
  },
  {
   "cell_type": "markdown",
   "id": "greatest-illinois",
   "metadata": {},
   "source": [
    "## План работы"
   ]
  },
  {
   "cell_type": "markdown",
   "id": "reflected-throat",
   "metadata": {},
   "source": [
    "1. Создать единый датасет из набора файлов. Для этого следует выбрать целевой признак и избавиться от лишней информации.\n",
    "- Целевым признаком является последнее измерение температуры для конкретной в файле data_temp.csv. Из этого же файла необходимо извлечь первое измерение температуры и использовать это как признак.\n",
    "- Далее следует определить одним из признаков - количество переданной энергии во время нагревания электродами. Его можно извлечь из файле data_arc.csv. Для этого необходимо для каждой партии получить сумму произведений активной мощности на длительность нагревания. При этом необходимо будет убедиться, что временные промежутки нагревания находятся между первым и последнем замером температуры для партии.\n",
    "- Также признаками будут являться количество переданных сыпучих материалов и проволки между первым и последним замерами темпаратуры в разрезе по видам сыпучих материалов и проволки (файлы data_bulk.csv, data_bulk_time.csv, data_wire.csv, data_wire_time.csv). Файлы со временем нам нужны только для того, чтобы избавиться от данных, выходящих за пределы первого и последнего замера. Пропущенные значения объема сыпучих материалов и проволки следует заменить на нули.\n",
    "- Далее необходимо объединить данные файлы по столбцу key.\n",
    "\n",
    "2. Получив единый датасет, необходимо сделать масштабирование признаков.<p>\n",
    "3. Разделить выборку на обучающую и тестовую.  <p>\n",
    "  \n",
    "4. Обучить несколько моделей регрессии на обучающих данных.  <p>\n",
    "  \n",
    "5. Проверить модель на тестовых данных.  <p>\n",
    "  \n",
    "6. Подготовить отчет с основными выводами и результатами работы.  <p>"
   ]
  },
  {
   "cell_type": "markdown",
   "id": "statewide-medication",
   "metadata": {},
   "source": [
    "## Предобработка данных"
   ]
  },
  {
   "cell_type": "markdown",
   "id": "bound-quality",
   "metadata": {},
   "source": [
    "Так как целевой признак - температура, начнем с обработки данного датасета."
   ]
  },
  {
   "cell_type": "markdown",
   "id": "undefined-warrant",
   "metadata": {},
   "source": [
    "### data_temp.csv — результаты измерения температуры"
   ]
  },
  {
   "cell_type": "markdown",
   "id": "freelance-fraud",
   "metadata": {},
   "source": [
    "В начале переименуем столбцы"
   ]
  },
  {
   "cell_type": "code",
   "execution_count": 16,
   "id": "regulation-valuable",
   "metadata": {},
   "outputs": [],
   "source": [
    "data_temp.columns = ['key', 'measurement_time', 'temp']"
   ]
  },
  {
   "cell_type": "code",
   "execution_count": 17,
   "id": "attended-edward",
   "metadata": {
    "scrolled": true
   },
   "outputs": [
    {
     "name": "stdout",
     "output_type": "stream",
     "text": [
      "<class 'pandas.core.frame.DataFrame'>\n",
      "RangeIndex: 15907 entries, 0 to 15906\n",
      "Data columns (total 3 columns):\n",
      " #   Column            Non-Null Count  Dtype  \n",
      "---  ------            --------------  -----  \n",
      " 0   key               15907 non-null  int64  \n",
      " 1   measurement_time  15907 non-null  object \n",
      " 2   temp              13006 non-null  float64\n",
      "dtypes: float64(1), int64(1), object(1)\n",
      "memory usage: 372.9+ KB\n"
     ]
    }
   ],
   "source": [
    "data_temp.info()"
   ]
  },
  {
   "cell_type": "code",
   "execution_count": 18,
   "id": "hispanic-chain",
   "metadata": {},
   "outputs": [
    {
     "data": {
      "text/html": [
       "<div>\n",
       "<style scoped>\n",
       "    .dataframe tbody tr th:only-of-type {\n",
       "        vertical-align: middle;\n",
       "    }\n",
       "\n",
       "    .dataframe tbody tr th {\n",
       "        vertical-align: top;\n",
       "    }\n",
       "\n",
       "    .dataframe thead th {\n",
       "        text-align: right;\n",
       "    }\n",
       "</style>\n",
       "<table border=\"1\" class=\"dataframe\">\n",
       "  <thead>\n",
       "    <tr style=\"text-align: right;\">\n",
       "      <th></th>\n",
       "      <th>key</th>\n",
       "      <th>measurement_time</th>\n",
       "      <th>temp</th>\n",
       "    </tr>\n",
       "  </thead>\n",
       "  <tbody>\n",
       "    <tr>\n",
       "      <th>0</th>\n",
       "      <td>1</td>\n",
       "      <td>2019-05-03 11:16:18</td>\n",
       "      <td>1571.0</td>\n",
       "    </tr>\n",
       "    <tr>\n",
       "      <th>1</th>\n",
       "      <td>1</td>\n",
       "      <td>2019-05-03 11:25:53</td>\n",
       "      <td>1604.0</td>\n",
       "    </tr>\n",
       "    <tr>\n",
       "      <th>2</th>\n",
       "      <td>1</td>\n",
       "      <td>2019-05-03 11:29:11</td>\n",
       "      <td>1618.0</td>\n",
       "    </tr>\n",
       "    <tr>\n",
       "      <th>3</th>\n",
       "      <td>1</td>\n",
       "      <td>2019-05-03 11:30:01</td>\n",
       "      <td>1601.0</td>\n",
       "    </tr>\n",
       "    <tr>\n",
       "      <th>4</th>\n",
       "      <td>1</td>\n",
       "      <td>2019-05-03 11:30:39</td>\n",
       "      <td>1613.0</td>\n",
       "    </tr>\n",
       "    <tr>\n",
       "      <th>...</th>\n",
       "      <td>...</td>\n",
       "      <td>...</td>\n",
       "      <td>...</td>\n",
       "    </tr>\n",
       "    <tr>\n",
       "      <th>15902</th>\n",
       "      <td>3241</td>\n",
       "      <td>2019-09-01 04:03:30</td>\n",
       "      <td>1586.0</td>\n",
       "    </tr>\n",
       "    <tr>\n",
       "      <th>15903</th>\n",
       "      <td>3241</td>\n",
       "      <td>2019-09-01 04:16:12</td>\n",
       "      <td>NaN</td>\n",
       "    </tr>\n",
       "    <tr>\n",
       "      <th>15904</th>\n",
       "      <td>3241</td>\n",
       "      <td>2019-09-01 04:22:39</td>\n",
       "      <td>NaN</td>\n",
       "    </tr>\n",
       "    <tr>\n",
       "      <th>15905</th>\n",
       "      <td>3241</td>\n",
       "      <td>2019-09-01 04:33:42</td>\n",
       "      <td>NaN</td>\n",
       "    </tr>\n",
       "    <tr>\n",
       "      <th>15906</th>\n",
       "      <td>3241</td>\n",
       "      <td>2019-09-01 04:38:08</td>\n",
       "      <td>NaN</td>\n",
       "    </tr>\n",
       "  </tbody>\n",
       "</table>\n",
       "<p>15907 rows × 3 columns</p>\n",
       "</div>"
      ],
      "text/plain": [
       "        key     measurement_time    temp\n",
       "0         1  2019-05-03 11:16:18  1571.0\n",
       "1         1  2019-05-03 11:25:53  1604.0\n",
       "2         1  2019-05-03 11:29:11  1618.0\n",
       "3         1  2019-05-03 11:30:01  1601.0\n",
       "4         1  2019-05-03 11:30:39  1613.0\n",
       "...     ...                  ...     ...\n",
       "15902  3241  2019-09-01 04:03:30  1586.0\n",
       "15903  3241  2019-09-01 04:16:12     NaN\n",
       "15904  3241  2019-09-01 04:22:39     NaN\n",
       "15905  3241  2019-09-01 04:33:42     NaN\n",
       "15906  3241  2019-09-01 04:38:08     NaN\n",
       "\n",
       "[15907 rows x 3 columns]"
      ]
     },
     "execution_count": 18,
     "metadata": {},
     "output_type": "execute_result"
    }
   ],
   "source": [
    "data_temp"
   ]
  },
  {
   "cell_type": "markdown",
   "id": "domestic-wrist",
   "metadata": {},
   "source": [
    "Далее изменим тип данных столбца \"measurement_time\" на формат даты-времени"
   ]
  },
  {
   "cell_type": "code",
   "execution_count": 19,
   "id": "collective-handling",
   "metadata": {},
   "outputs": [],
   "source": [
    "data_temp['measurement_time'] = pd.to_datetime(\n",
    "    data_temp['measurement_time'], format='%Y-%m-%d %H:%M:%S')"
   ]
  },
  {
   "cell_type": "code",
   "execution_count": 20,
   "id": "contrary-excess",
   "metadata": {
    "scrolled": true
   },
   "outputs": [
    {
     "name": "stdout",
     "output_type": "stream",
     "text": [
      "<class 'pandas.core.frame.DataFrame'>\n",
      "RangeIndex: 15907 entries, 0 to 15906\n",
      "Data columns (total 3 columns):\n",
      " #   Column            Non-Null Count  Dtype         \n",
      "---  ------            --------------  -----         \n",
      " 0   key               15907 non-null  int64         \n",
      " 1   measurement_time  15907 non-null  datetime64[ns]\n",
      " 2   temp              13006 non-null  float64       \n",
      "dtypes: datetime64[ns](1), float64(1), int64(1)\n",
      "memory usage: 372.9 KB\n"
     ]
    }
   ],
   "source": [
    "data_temp.info()"
   ]
  },
  {
   "cell_type": "markdown",
   "id": "major-yukon",
   "metadata": {},
   "source": [
    "Очистим данные от пропусков"
   ]
  },
  {
   "cell_type": "code",
   "execution_count": 21,
   "id": "stylish-demographic",
   "metadata": {},
   "outputs": [],
   "source": [
    "data_temp = data_temp.dropna().reset_index(drop=True)"
   ]
  },
  {
   "cell_type": "code",
   "execution_count": 22,
   "id": "executed-monitoring",
   "metadata": {},
   "outputs": [
    {
     "data": {
      "text/html": [
       "<div>\n",
       "<style scoped>\n",
       "    .dataframe tbody tr th:only-of-type {\n",
       "        vertical-align: middle;\n",
       "    }\n",
       "\n",
       "    .dataframe tbody tr th {\n",
       "        vertical-align: top;\n",
       "    }\n",
       "\n",
       "    .dataframe thead th {\n",
       "        text-align: right;\n",
       "    }\n",
       "</style>\n",
       "<table border=\"1\" class=\"dataframe\">\n",
       "  <thead>\n",
       "    <tr style=\"text-align: right;\">\n",
       "      <th></th>\n",
       "      <th>key</th>\n",
       "      <th>measurement_time</th>\n",
       "      <th>temp</th>\n",
       "    </tr>\n",
       "  </thead>\n",
       "  <tbody>\n",
       "    <tr>\n",
       "      <th>0</th>\n",
       "      <td>1</td>\n",
       "      <td>2019-05-03 11:16:18</td>\n",
       "      <td>1571.0</td>\n",
       "    </tr>\n",
       "    <tr>\n",
       "      <th>1</th>\n",
       "      <td>1</td>\n",
       "      <td>2019-05-03 11:25:53</td>\n",
       "      <td>1604.0</td>\n",
       "    </tr>\n",
       "    <tr>\n",
       "      <th>2</th>\n",
       "      <td>1</td>\n",
       "      <td>2019-05-03 11:29:11</td>\n",
       "      <td>1618.0</td>\n",
       "    </tr>\n",
       "    <tr>\n",
       "      <th>3</th>\n",
       "      <td>1</td>\n",
       "      <td>2019-05-03 11:30:01</td>\n",
       "      <td>1601.0</td>\n",
       "    </tr>\n",
       "    <tr>\n",
       "      <th>4</th>\n",
       "      <td>1</td>\n",
       "      <td>2019-05-03 11:30:39</td>\n",
       "      <td>1613.0</td>\n",
       "    </tr>\n",
       "    <tr>\n",
       "      <th>...</th>\n",
       "      <td>...</td>\n",
       "      <td>...</td>\n",
       "      <td>...</td>\n",
       "    </tr>\n",
       "    <tr>\n",
       "      <th>13001</th>\n",
       "      <td>3237</td>\n",
       "      <td>2019-08-31 22:44:04</td>\n",
       "      <td>1569.0</td>\n",
       "    </tr>\n",
       "    <tr>\n",
       "      <th>13002</th>\n",
       "      <td>3238</td>\n",
       "      <td>2019-08-31 23:30:31</td>\n",
       "      <td>1584.0</td>\n",
       "    </tr>\n",
       "    <tr>\n",
       "      <th>13003</th>\n",
       "      <td>3239</td>\n",
       "      <td>2019-09-01 01:31:47</td>\n",
       "      <td>1598.0</td>\n",
       "    </tr>\n",
       "    <tr>\n",
       "      <th>13004</th>\n",
       "      <td>3240</td>\n",
       "      <td>2019-09-01 02:39:01</td>\n",
       "      <td>1617.0</td>\n",
       "    </tr>\n",
       "    <tr>\n",
       "      <th>13005</th>\n",
       "      <td>3241</td>\n",
       "      <td>2019-09-01 04:03:30</td>\n",
       "      <td>1586.0</td>\n",
       "    </tr>\n",
       "  </tbody>\n",
       "</table>\n",
       "<p>13006 rows × 3 columns</p>\n",
       "</div>"
      ],
      "text/plain": [
       "        key    measurement_time    temp\n",
       "0         1 2019-05-03 11:16:18  1571.0\n",
       "1         1 2019-05-03 11:25:53  1604.0\n",
       "2         1 2019-05-03 11:29:11  1618.0\n",
       "3         1 2019-05-03 11:30:01  1601.0\n",
       "4         1 2019-05-03 11:30:39  1613.0\n",
       "...     ...                 ...     ...\n",
       "13001  3237 2019-08-31 22:44:04  1569.0\n",
       "13002  3238 2019-08-31 23:30:31  1584.0\n",
       "13003  3239 2019-09-01 01:31:47  1598.0\n",
       "13004  3240 2019-09-01 02:39:01  1617.0\n",
       "13005  3241 2019-09-01 04:03:30  1586.0\n",
       "\n",
       "[13006 rows x 3 columns]"
      ]
     },
     "execution_count": 22,
     "metadata": {},
     "output_type": "execute_result"
    }
   ],
   "source": [
    "data_temp"
   ]
  },
  {
   "cell_type": "code",
   "execution_count": 23,
   "id": "cellular-nickname",
   "metadata": {
    "scrolled": true
   },
   "outputs": [
    {
     "name": "stdout",
     "output_type": "stream",
     "text": [
      "<class 'pandas.core.frame.DataFrame'>\n",
      "RangeIndex: 13006 entries, 0 to 13005\n",
      "Data columns (total 3 columns):\n",
      " #   Column            Non-Null Count  Dtype         \n",
      "---  ------            --------------  -----         \n",
      " 0   key               13006 non-null  int64         \n",
      " 1   measurement_time  13006 non-null  datetime64[ns]\n",
      " 2   temp              13006 non-null  float64       \n",
      "dtypes: datetime64[ns](1), float64(1), int64(1)\n",
      "memory usage: 305.0 KB\n"
     ]
    }
   ],
   "source": [
    "data_temp.info()"
   ]
  },
  {
   "cell_type": "markdown",
   "id": "empirical-interface",
   "metadata": {},
   "source": [
    "Для обучения модели нам необходимы данные о партиях, для которых есть хотя бы два измерения температуры, поэтому очистим данные от партий, для которых есть только одно измерение темпартуры."
   ]
  },
  {
   "cell_type": "code",
   "execution_count": 24,
   "id": "purple-daily",
   "metadata": {},
   "outputs": [
    {
     "data": {
      "text/html": [
       "<div>\n",
       "<style scoped>\n",
       "    .dataframe tbody tr th:only-of-type {\n",
       "        vertical-align: middle;\n",
       "    }\n",
       "\n",
       "    .dataframe tbody tr th {\n",
       "        vertical-align: top;\n",
       "    }\n",
       "\n",
       "    .dataframe thead th {\n",
       "        text-align: right;\n",
       "    }\n",
       "</style>\n",
       "<table border=\"1\" class=\"dataframe\">\n",
       "  <thead>\n",
       "    <tr style=\"text-align: right;\">\n",
       "      <th></th>\n",
       "      <th>key</th>\n",
       "      <th>counts</th>\n",
       "    </tr>\n",
       "  </thead>\n",
       "  <tbody>\n",
       "    <tr>\n",
       "      <th>0</th>\n",
       "      <td>1</td>\n",
       "      <td>5</td>\n",
       "    </tr>\n",
       "    <tr>\n",
       "      <th>1</th>\n",
       "      <td>2</td>\n",
       "      <td>6</td>\n",
       "    </tr>\n",
       "    <tr>\n",
       "      <th>2</th>\n",
       "      <td>3</td>\n",
       "      <td>5</td>\n",
       "    </tr>\n",
       "    <tr>\n",
       "      <th>3</th>\n",
       "      <td>4</td>\n",
       "      <td>3</td>\n",
       "    </tr>\n",
       "    <tr>\n",
       "      <th>4</th>\n",
       "      <td>5</td>\n",
       "      <td>2</td>\n",
       "    </tr>\n",
       "    <tr>\n",
       "      <th>...</th>\n",
       "      <td>...</td>\n",
       "      <td>...</td>\n",
       "    </tr>\n",
       "    <tr>\n",
       "      <th>3211</th>\n",
       "      <td>3237</td>\n",
       "      <td>1</td>\n",
       "    </tr>\n",
       "    <tr>\n",
       "      <th>3212</th>\n",
       "      <td>3238</td>\n",
       "      <td>1</td>\n",
       "    </tr>\n",
       "    <tr>\n",
       "      <th>3213</th>\n",
       "      <td>3239</td>\n",
       "      <td>1</td>\n",
       "    </tr>\n",
       "    <tr>\n",
       "      <th>3214</th>\n",
       "      <td>3240</td>\n",
       "      <td>1</td>\n",
       "    </tr>\n",
       "    <tr>\n",
       "      <th>3215</th>\n",
       "      <td>3241</td>\n",
       "      <td>1</td>\n",
       "    </tr>\n",
       "  </tbody>\n",
       "</table>\n",
       "<p>3216 rows × 2 columns</p>\n",
       "</div>"
      ],
      "text/plain": [
       "       key  counts\n",
       "0        1       5\n",
       "1        2       6\n",
       "2        3       5\n",
       "3        4       3\n",
       "4        5       2\n",
       "...    ...     ...\n",
       "3211  3237       1\n",
       "3212  3238       1\n",
       "3213  3239       1\n",
       "3214  3240       1\n",
       "3215  3241       1\n",
       "\n",
       "[3216 rows x 2 columns]"
      ]
     },
     "metadata": {},
     "output_type": "display_data"
    }
   ],
   "source": [
    "key_temp_counts = data_temp.groupby(\n",
    "    by=['key'])['temp'].count().to_frame(name='counts').reset_index()\n",
    "\n",
    "display(key_temp_counts)"
   ]
  },
  {
   "cell_type": "code",
   "execution_count": 25,
   "id": "insured-moisture",
   "metadata": {},
   "outputs": [
    {
     "data": {
      "text/html": [
       "<div>\n",
       "<style scoped>\n",
       "    .dataframe tbody tr th:only-of-type {\n",
       "        vertical-align: middle;\n",
       "    }\n",
       "\n",
       "    .dataframe tbody tr th {\n",
       "        vertical-align: top;\n",
       "    }\n",
       "\n",
       "    .dataframe thead th {\n",
       "        text-align: right;\n",
       "    }\n",
       "</style>\n",
       "<table border=\"1\" class=\"dataframe\">\n",
       "  <thead>\n",
       "    <tr style=\"text-align: right;\">\n",
       "      <th></th>\n",
       "      <th>key</th>\n",
       "      <th>measurement_time</th>\n",
       "      <th>temp</th>\n",
       "      <th>counts</th>\n",
       "    </tr>\n",
       "  </thead>\n",
       "  <tbody>\n",
       "    <tr>\n",
       "      <th>0</th>\n",
       "      <td>1</td>\n",
       "      <td>2019-05-03 11:16:18</td>\n",
       "      <td>1571.0</td>\n",
       "      <td>5</td>\n",
       "    </tr>\n",
       "    <tr>\n",
       "      <th>1</th>\n",
       "      <td>1</td>\n",
       "      <td>2019-05-03 11:25:53</td>\n",
       "      <td>1604.0</td>\n",
       "      <td>5</td>\n",
       "    </tr>\n",
       "    <tr>\n",
       "      <th>2</th>\n",
       "      <td>1</td>\n",
       "      <td>2019-05-03 11:29:11</td>\n",
       "      <td>1618.0</td>\n",
       "      <td>5</td>\n",
       "    </tr>\n",
       "    <tr>\n",
       "      <th>3</th>\n",
       "      <td>1</td>\n",
       "      <td>2019-05-03 11:30:01</td>\n",
       "      <td>1601.0</td>\n",
       "      <td>5</td>\n",
       "    </tr>\n",
       "    <tr>\n",
       "      <th>4</th>\n",
       "      <td>1</td>\n",
       "      <td>2019-05-03 11:30:39</td>\n",
       "      <td>1613.0</td>\n",
       "      <td>5</td>\n",
       "    </tr>\n",
       "    <tr>\n",
       "      <th>...</th>\n",
       "      <td>...</td>\n",
       "      <td>...</td>\n",
       "      <td>...</td>\n",
       "      <td>...</td>\n",
       "    </tr>\n",
       "    <tr>\n",
       "      <th>13001</th>\n",
       "      <td>3237</td>\n",
       "      <td>2019-08-31 22:44:04</td>\n",
       "      <td>1569.0</td>\n",
       "      <td>1</td>\n",
       "    </tr>\n",
       "    <tr>\n",
       "      <th>13002</th>\n",
       "      <td>3238</td>\n",
       "      <td>2019-08-31 23:30:31</td>\n",
       "      <td>1584.0</td>\n",
       "      <td>1</td>\n",
       "    </tr>\n",
       "    <tr>\n",
       "      <th>13003</th>\n",
       "      <td>3239</td>\n",
       "      <td>2019-09-01 01:31:47</td>\n",
       "      <td>1598.0</td>\n",
       "      <td>1</td>\n",
       "    </tr>\n",
       "    <tr>\n",
       "      <th>13004</th>\n",
       "      <td>3240</td>\n",
       "      <td>2019-09-01 02:39:01</td>\n",
       "      <td>1617.0</td>\n",
       "      <td>1</td>\n",
       "    </tr>\n",
       "    <tr>\n",
       "      <th>13005</th>\n",
       "      <td>3241</td>\n",
       "      <td>2019-09-01 04:03:30</td>\n",
       "      <td>1586.0</td>\n",
       "      <td>1</td>\n",
       "    </tr>\n",
       "  </tbody>\n",
       "</table>\n",
       "<p>13006 rows × 4 columns</p>\n",
       "</div>"
      ],
      "text/plain": [
       "        key    measurement_time    temp  counts\n",
       "0         1 2019-05-03 11:16:18  1571.0       5\n",
       "1         1 2019-05-03 11:25:53  1604.0       5\n",
       "2         1 2019-05-03 11:29:11  1618.0       5\n",
       "3         1 2019-05-03 11:30:01  1601.0       5\n",
       "4         1 2019-05-03 11:30:39  1613.0       5\n",
       "...     ...                 ...     ...     ...\n",
       "13001  3237 2019-08-31 22:44:04  1569.0       1\n",
       "13002  3238 2019-08-31 23:30:31  1584.0       1\n",
       "13003  3239 2019-09-01 01:31:47  1598.0       1\n",
       "13004  3240 2019-09-01 02:39:01  1617.0       1\n",
       "13005  3241 2019-09-01 04:03:30  1586.0       1\n",
       "\n",
       "[13006 rows x 4 columns]"
      ]
     },
     "metadata": {},
     "output_type": "display_data"
    }
   ],
   "source": [
    "data_temp = data_temp.merge(key_temp_counts, on='key', how='left')\n",
    "display(data_temp)"
   ]
  },
  {
   "cell_type": "code",
   "execution_count": 26,
   "id": "outdoor-dining",
   "metadata": {},
   "outputs": [
    {
     "data": {
      "text/html": [
       "<div>\n",
       "<style scoped>\n",
       "    .dataframe tbody tr th:only-of-type {\n",
       "        vertical-align: middle;\n",
       "    }\n",
       "\n",
       "    .dataframe tbody tr th {\n",
       "        vertical-align: top;\n",
       "    }\n",
       "\n",
       "    .dataframe thead th {\n",
       "        text-align: right;\n",
       "    }\n",
       "</style>\n",
       "<table border=\"1\" class=\"dataframe\">\n",
       "  <thead>\n",
       "    <tr style=\"text-align: right;\">\n",
       "      <th></th>\n",
       "      <th>key</th>\n",
       "      <th>measurement_time</th>\n",
       "      <th>temp</th>\n",
       "      <th>counts</th>\n",
       "    </tr>\n",
       "  </thead>\n",
       "  <tbody>\n",
       "    <tr>\n",
       "      <th>0</th>\n",
       "      <td>1</td>\n",
       "      <td>2019-05-03 11:16:18</td>\n",
       "      <td>1571.0</td>\n",
       "      <td>5</td>\n",
       "    </tr>\n",
       "    <tr>\n",
       "      <th>1</th>\n",
       "      <td>1</td>\n",
       "      <td>2019-05-03 11:25:53</td>\n",
       "      <td>1604.0</td>\n",
       "      <td>5</td>\n",
       "    </tr>\n",
       "    <tr>\n",
       "      <th>2</th>\n",
       "      <td>1</td>\n",
       "      <td>2019-05-03 11:29:11</td>\n",
       "      <td>1618.0</td>\n",
       "      <td>5</td>\n",
       "    </tr>\n",
       "    <tr>\n",
       "      <th>3</th>\n",
       "      <td>1</td>\n",
       "      <td>2019-05-03 11:30:01</td>\n",
       "      <td>1601.0</td>\n",
       "      <td>5</td>\n",
       "    </tr>\n",
       "    <tr>\n",
       "      <th>4</th>\n",
       "      <td>1</td>\n",
       "      <td>2019-05-03 11:30:39</td>\n",
       "      <td>1613.0</td>\n",
       "      <td>5</td>\n",
       "    </tr>\n",
       "    <tr>\n",
       "      <th>...</th>\n",
       "      <td>...</td>\n",
       "      <td>...</td>\n",
       "      <td>...</td>\n",
       "      <td>...</td>\n",
       "    </tr>\n",
       "    <tr>\n",
       "      <th>12260</th>\n",
       "      <td>2498</td>\n",
       "      <td>2019-08-06 02:19:26</td>\n",
       "      <td>1593.0</td>\n",
       "      <td>5</td>\n",
       "    </tr>\n",
       "    <tr>\n",
       "      <th>12261</th>\n",
       "      <td>2498</td>\n",
       "      <td>2019-08-06 02:25:31</td>\n",
       "      <td>1594.0</td>\n",
       "      <td>5</td>\n",
       "    </tr>\n",
       "    <tr>\n",
       "      <th>12262</th>\n",
       "      <td>2499</td>\n",
       "      <td>2019-08-06 02:40:25</td>\n",
       "      <td>1569.0</td>\n",
       "      <td>3</td>\n",
       "    </tr>\n",
       "    <tr>\n",
       "      <th>12263</th>\n",
       "      <td>2499</td>\n",
       "      <td>2019-08-06 02:54:24</td>\n",
       "      <td>1604.0</td>\n",
       "      <td>3</td>\n",
       "    </tr>\n",
       "    <tr>\n",
       "      <th>12264</th>\n",
       "      <td>2499</td>\n",
       "      <td>2019-08-06 03:00:28</td>\n",
       "      <td>1603.0</td>\n",
       "      <td>3</td>\n",
       "    </tr>\n",
       "  </tbody>\n",
       "</table>\n",
       "<p>12265 rows × 4 columns</p>\n",
       "</div>"
      ],
      "text/plain": [
       "        key    measurement_time    temp  counts\n",
       "0         1 2019-05-03 11:16:18  1571.0       5\n",
       "1         1 2019-05-03 11:25:53  1604.0       5\n",
       "2         1 2019-05-03 11:29:11  1618.0       5\n",
       "3         1 2019-05-03 11:30:01  1601.0       5\n",
       "4         1 2019-05-03 11:30:39  1613.0       5\n",
       "...     ...                 ...     ...     ...\n",
       "12260  2498 2019-08-06 02:19:26  1593.0       5\n",
       "12261  2498 2019-08-06 02:25:31  1594.0       5\n",
       "12262  2499 2019-08-06 02:40:25  1569.0       3\n",
       "12263  2499 2019-08-06 02:54:24  1604.0       3\n",
       "12264  2499 2019-08-06 03:00:28  1603.0       3\n",
       "\n",
       "[12265 rows x 4 columns]"
      ]
     },
     "metadata": {},
     "output_type": "display_data"
    }
   ],
   "source": [
    "data_temp = data_temp[data_temp['counts'] > 1].reset_index(drop=True)\n",
    "display(data_temp)"
   ]
  },
  {
   "cell_type": "code",
   "execution_count": 27,
   "id": "advised-canal",
   "metadata": {},
   "outputs": [
    {
     "data": {
      "text/html": [
       "<div>\n",
       "<style scoped>\n",
       "    .dataframe tbody tr th:only-of-type {\n",
       "        vertical-align: middle;\n",
       "    }\n",
       "\n",
       "    .dataframe tbody tr th {\n",
       "        vertical-align: top;\n",
       "    }\n",
       "\n",
       "    .dataframe thead th {\n",
       "        text-align: right;\n",
       "    }\n",
       "</style>\n",
       "<table border=\"1\" class=\"dataframe\">\n",
       "  <thead>\n",
       "    <tr style=\"text-align: right;\">\n",
       "      <th></th>\n",
       "      <th>key</th>\n",
       "      <th>measurement_time</th>\n",
       "      <th>temp</th>\n",
       "    </tr>\n",
       "  </thead>\n",
       "  <tbody>\n",
       "    <tr>\n",
       "      <th>0</th>\n",
       "      <td>1</td>\n",
       "      <td>2019-05-03 11:16:18</td>\n",
       "      <td>1571.0</td>\n",
       "    </tr>\n",
       "    <tr>\n",
       "      <th>1</th>\n",
       "      <td>1</td>\n",
       "      <td>2019-05-03 11:25:53</td>\n",
       "      <td>1604.0</td>\n",
       "    </tr>\n",
       "    <tr>\n",
       "      <th>2</th>\n",
       "      <td>1</td>\n",
       "      <td>2019-05-03 11:29:11</td>\n",
       "      <td>1618.0</td>\n",
       "    </tr>\n",
       "    <tr>\n",
       "      <th>3</th>\n",
       "      <td>1</td>\n",
       "      <td>2019-05-03 11:30:01</td>\n",
       "      <td>1601.0</td>\n",
       "    </tr>\n",
       "    <tr>\n",
       "      <th>4</th>\n",
       "      <td>1</td>\n",
       "      <td>2019-05-03 11:30:39</td>\n",
       "      <td>1613.0</td>\n",
       "    </tr>\n",
       "    <tr>\n",
       "      <th>5</th>\n",
       "      <td>2</td>\n",
       "      <td>2019-05-03 11:37:27</td>\n",
       "      <td>1581.0</td>\n",
       "    </tr>\n",
       "    <tr>\n",
       "      <th>6</th>\n",
       "      <td>2</td>\n",
       "      <td>2019-05-03 11:38:00</td>\n",
       "      <td>1577.0</td>\n",
       "    </tr>\n",
       "    <tr>\n",
       "      <th>7</th>\n",
       "      <td>2</td>\n",
       "      <td>2019-05-03 11:49:38</td>\n",
       "      <td>1589.0</td>\n",
       "    </tr>\n",
       "    <tr>\n",
       "      <th>8</th>\n",
       "      <td>2</td>\n",
       "      <td>2019-05-03 11:55:50</td>\n",
       "      <td>1604.0</td>\n",
       "    </tr>\n",
       "    <tr>\n",
       "      <th>9</th>\n",
       "      <td>2</td>\n",
       "      <td>2019-05-03 11:58:24</td>\n",
       "      <td>1608.0</td>\n",
       "    </tr>\n",
       "  </tbody>\n",
       "</table>\n",
       "</div>"
      ],
      "text/plain": [
       "   key    measurement_time    temp\n",
       "0    1 2019-05-03 11:16:18  1571.0\n",
       "1    1 2019-05-03 11:25:53  1604.0\n",
       "2    1 2019-05-03 11:29:11  1618.0\n",
       "3    1 2019-05-03 11:30:01  1601.0\n",
       "4    1 2019-05-03 11:30:39  1613.0\n",
       "5    2 2019-05-03 11:37:27  1581.0\n",
       "6    2 2019-05-03 11:38:00  1577.0\n",
       "7    2 2019-05-03 11:49:38  1589.0\n",
       "8    2 2019-05-03 11:55:50  1604.0\n",
       "9    2 2019-05-03 11:58:24  1608.0"
      ]
     },
     "metadata": {},
     "output_type": "display_data"
    }
   ],
   "source": [
    "data_temp = data_temp[['key', 'measurement_time', 'temp']\n",
    "                      ].sort_values(by=['key', 'measurement_time'])\n",
    "display(data_temp.head(10))"
   ]
  },
  {
   "cell_type": "markdown",
   "id": "unknown-christopher",
   "metadata": {},
   "source": [
    "Далее нам необходимо оставить только первое и последнее измерение для каждой партии"
   ]
  },
  {
   "cell_type": "code",
   "execution_count": 28,
   "id": "level-jacksonville",
   "metadata": {},
   "outputs": [
    {
     "data": {
      "text/html": [
       "<div>\n",
       "<style scoped>\n",
       "    .dataframe tbody tr th:only-of-type {\n",
       "        vertical-align: middle;\n",
       "    }\n",
       "\n",
       "    .dataframe tbody tr th {\n",
       "        vertical-align: top;\n",
       "    }\n",
       "\n",
       "    .dataframe thead th {\n",
       "        text-align: right;\n",
       "    }\n",
       "</style>\n",
       "<table border=\"1\" class=\"dataframe\">\n",
       "  <thead>\n",
       "    <tr style=\"text-align: right;\">\n",
       "      <th></th>\n",
       "      <th></th>\n",
       "      <th>key</th>\n",
       "      <th>measurement_time</th>\n",
       "      <th>temp</th>\n",
       "    </tr>\n",
       "    <tr>\n",
       "      <th>key</th>\n",
       "      <th></th>\n",
       "      <th></th>\n",
       "      <th></th>\n",
       "      <th></th>\n",
       "    </tr>\n",
       "  </thead>\n",
       "  <tbody>\n",
       "    <tr>\n",
       "      <th rowspan=\"2\" valign=\"top\">1</th>\n",
       "      <th>0</th>\n",
       "      <td>1</td>\n",
       "      <td>2019-05-03 11:16:18</td>\n",
       "      <td>1571.0</td>\n",
       "    </tr>\n",
       "    <tr>\n",
       "      <th>4</th>\n",
       "      <td>1</td>\n",
       "      <td>2019-05-03 11:30:39</td>\n",
       "      <td>1613.0</td>\n",
       "    </tr>\n",
       "    <tr>\n",
       "      <th rowspan=\"2\" valign=\"top\">2</th>\n",
       "      <th>5</th>\n",
       "      <td>2</td>\n",
       "      <td>2019-05-03 11:37:27</td>\n",
       "      <td>1581.0</td>\n",
       "    </tr>\n",
       "    <tr>\n",
       "      <th>10</th>\n",
       "      <td>2</td>\n",
       "      <td>2019-05-03 11:59:12</td>\n",
       "      <td>1602.0</td>\n",
       "    </tr>\n",
       "    <tr>\n",
       "      <th>3</th>\n",
       "      <th>11</th>\n",
       "      <td>3</td>\n",
       "      <td>2019-05-03 12:13:17</td>\n",
       "      <td>1596.0</td>\n",
       "    </tr>\n",
       "    <tr>\n",
       "      <th>...</th>\n",
       "      <th>...</th>\n",
       "      <td>...</td>\n",
       "      <td>...</td>\n",
       "      <td>...</td>\n",
       "    </tr>\n",
       "    <tr>\n",
       "      <th>2497</th>\n",
       "      <th>12256</th>\n",
       "      <td>2497</td>\n",
       "      <td>2019-08-06 01:53:50</td>\n",
       "      <td>1589.0</td>\n",
       "    </tr>\n",
       "    <tr>\n",
       "      <th rowspan=\"2\" valign=\"top\">2498</th>\n",
       "      <th>12257</th>\n",
       "      <td>2498</td>\n",
       "      <td>2019-08-06 02:03:49</td>\n",
       "      <td>1591.0</td>\n",
       "    </tr>\n",
       "    <tr>\n",
       "      <th>12261</th>\n",
       "      <td>2498</td>\n",
       "      <td>2019-08-06 02:25:31</td>\n",
       "      <td>1594.0</td>\n",
       "    </tr>\n",
       "    <tr>\n",
       "      <th rowspan=\"2\" valign=\"top\">2499</th>\n",
       "      <th>12262</th>\n",
       "      <td>2499</td>\n",
       "      <td>2019-08-06 02:40:25</td>\n",
       "      <td>1569.0</td>\n",
       "    </tr>\n",
       "    <tr>\n",
       "      <th>12264</th>\n",
       "      <td>2499</td>\n",
       "      <td>2019-08-06 03:00:28</td>\n",
       "      <td>1603.0</td>\n",
       "    </tr>\n",
       "  </tbody>\n",
       "</table>\n",
       "<p>4950 rows × 3 columns</p>\n",
       "</div>"
      ],
      "text/plain": [
       "             key    measurement_time    temp\n",
       "key                                         \n",
       "1    0         1 2019-05-03 11:16:18  1571.0\n",
       "     4         1 2019-05-03 11:30:39  1613.0\n",
       "2    5         2 2019-05-03 11:37:27  1581.0\n",
       "     10        2 2019-05-03 11:59:12  1602.0\n",
       "3    11        3 2019-05-03 12:13:17  1596.0\n",
       "...          ...                 ...     ...\n",
       "2497 12256  2497 2019-08-06 01:53:50  1589.0\n",
       "2498 12257  2498 2019-08-06 02:03:49  1591.0\n",
       "     12261  2498 2019-08-06 02:25:31  1594.0\n",
       "2499 12262  2499 2019-08-06 02:40:25  1569.0\n",
       "     12264  2499 2019-08-06 03:00:28  1603.0\n",
       "\n",
       "[4950 rows x 3 columns]"
      ]
     },
     "metadata": {},
     "output_type": "display_data"
    }
   ],
   "source": [
    "data_temp = data_temp.groupby('key').apply(lambda x: x.iloc[[0, -1]])\n",
    "display(data_temp)"
   ]
  },
  {
   "cell_type": "code",
   "execution_count": 29,
   "id": "overhead-geneva",
   "metadata": {},
   "outputs": [
    {
     "data": {
      "text/html": [
       "<div>\n",
       "<style scoped>\n",
       "    .dataframe tbody tr th:only-of-type {\n",
       "        vertical-align: middle;\n",
       "    }\n",
       "\n",
       "    .dataframe tbody tr th {\n",
       "        vertical-align: top;\n",
       "    }\n",
       "\n",
       "    .dataframe thead th {\n",
       "        text-align: right;\n",
       "    }\n",
       "</style>\n",
       "<table border=\"1\" class=\"dataframe\">\n",
       "  <thead>\n",
       "    <tr style=\"text-align: right;\">\n",
       "      <th></th>\n",
       "      <th>key</th>\n",
       "      <th>measurement_time</th>\n",
       "      <th>temp</th>\n",
       "    </tr>\n",
       "  </thead>\n",
       "  <tbody>\n",
       "    <tr>\n",
       "      <th>0</th>\n",
       "      <td>1</td>\n",
       "      <td>2019-05-03 11:16:18</td>\n",
       "      <td>1571.0</td>\n",
       "    </tr>\n",
       "    <tr>\n",
       "      <th>1</th>\n",
       "      <td>1</td>\n",
       "      <td>2019-05-03 11:30:39</td>\n",
       "      <td>1613.0</td>\n",
       "    </tr>\n",
       "    <tr>\n",
       "      <th>2</th>\n",
       "      <td>2</td>\n",
       "      <td>2019-05-03 11:37:27</td>\n",
       "      <td>1581.0</td>\n",
       "    </tr>\n",
       "    <tr>\n",
       "      <th>3</th>\n",
       "      <td>2</td>\n",
       "      <td>2019-05-03 11:59:12</td>\n",
       "      <td>1602.0</td>\n",
       "    </tr>\n",
       "    <tr>\n",
       "      <th>4</th>\n",
       "      <td>3</td>\n",
       "      <td>2019-05-03 12:13:17</td>\n",
       "      <td>1596.0</td>\n",
       "    </tr>\n",
       "    <tr>\n",
       "      <th>...</th>\n",
       "      <td>...</td>\n",
       "      <td>...</td>\n",
       "      <td>...</td>\n",
       "    </tr>\n",
       "    <tr>\n",
       "      <th>4945</th>\n",
       "      <td>2497</td>\n",
       "      <td>2019-08-06 01:53:50</td>\n",
       "      <td>1589.0</td>\n",
       "    </tr>\n",
       "    <tr>\n",
       "      <th>4946</th>\n",
       "      <td>2498</td>\n",
       "      <td>2019-08-06 02:03:49</td>\n",
       "      <td>1591.0</td>\n",
       "    </tr>\n",
       "    <tr>\n",
       "      <th>4947</th>\n",
       "      <td>2498</td>\n",
       "      <td>2019-08-06 02:25:31</td>\n",
       "      <td>1594.0</td>\n",
       "    </tr>\n",
       "    <tr>\n",
       "      <th>4948</th>\n",
       "      <td>2499</td>\n",
       "      <td>2019-08-06 02:40:25</td>\n",
       "      <td>1569.0</td>\n",
       "    </tr>\n",
       "    <tr>\n",
       "      <th>4949</th>\n",
       "      <td>2499</td>\n",
       "      <td>2019-08-06 03:00:28</td>\n",
       "      <td>1603.0</td>\n",
       "    </tr>\n",
       "  </tbody>\n",
       "</table>\n",
       "<p>4950 rows × 3 columns</p>\n",
       "</div>"
      ],
      "text/plain": [
       "       key    measurement_time    temp\n",
       "0        1 2019-05-03 11:16:18  1571.0\n",
       "1        1 2019-05-03 11:30:39  1613.0\n",
       "2        2 2019-05-03 11:37:27  1581.0\n",
       "3        2 2019-05-03 11:59:12  1602.0\n",
       "4        3 2019-05-03 12:13:17  1596.0\n",
       "...    ...                 ...     ...\n",
       "4945  2497 2019-08-06 01:53:50  1589.0\n",
       "4946  2498 2019-08-06 02:03:49  1591.0\n",
       "4947  2498 2019-08-06 02:25:31  1594.0\n",
       "4948  2499 2019-08-06 02:40:25  1569.0\n",
       "4949  2499 2019-08-06 03:00:28  1603.0\n",
       "\n",
       "[4950 rows x 3 columns]"
      ]
     },
     "metadata": {},
     "output_type": "display_data"
    }
   ],
   "source": [
    "data_temp.index = data_temp.index.droplevel(0)\n",
    "data_temp = data_temp.reset_index(drop=True)\n",
    "display(data_temp)"
   ]
  },
  {
   "cell_type": "markdown",
   "id": "military-dayton",
   "metadata": {},
   "source": [
    "Теперь в полученном датасете необходимо строки трансформировать в столбцы, чтобы столбцы соответствовали следующим данным:\n",
    "- время первого замера\n",
    "- температура первого замера\n",
    "- время последнего замера\n",
    "- температура последнего замера."
   ]
  },
  {
   "cell_type": "code",
   "execution_count": 30,
   "id": "dangerous-athletics",
   "metadata": {},
   "outputs": [
    {
     "data": {
      "text/html": [
       "<div>\n",
       "<style scoped>\n",
       "    .dataframe tbody tr th:only-of-type {\n",
       "        vertical-align: middle;\n",
       "    }\n",
       "\n",
       "    .dataframe tbody tr th {\n",
       "        vertical-align: top;\n",
       "    }\n",
       "\n",
       "    .dataframe thead th {\n",
       "        text-align: right;\n",
       "    }\n",
       "</style>\n",
       "<table border=\"1\" class=\"dataframe\">\n",
       "  <thead>\n",
       "    <tr style=\"text-align: right;\">\n",
       "      <th></th>\n",
       "      <th>key</th>\n",
       "      <th>first_time</th>\n",
       "      <th>first_temp</th>\n",
       "      <th>last_time</th>\n",
       "      <th>last_temp</th>\n",
       "    </tr>\n",
       "  </thead>\n",
       "  <tbody>\n",
       "    <tr>\n",
       "      <th>0</th>\n",
       "      <td>1</td>\n",
       "      <td>2019-05-03 11:16:18</td>\n",
       "      <td>1571.0</td>\n",
       "      <td>2019-05-03 11:30:39</td>\n",
       "      <td>1613.0</td>\n",
       "    </tr>\n",
       "    <tr>\n",
       "      <th>1</th>\n",
       "      <td>2</td>\n",
       "      <td>2019-05-03 11:37:27</td>\n",
       "      <td>1581.0</td>\n",
       "      <td>2019-05-03 11:59:12</td>\n",
       "      <td>1602.0</td>\n",
       "    </tr>\n",
       "    <tr>\n",
       "      <th>2</th>\n",
       "      <td>3</td>\n",
       "      <td>2019-05-03 12:13:17</td>\n",
       "      <td>1596.0</td>\n",
       "      <td>2019-05-03 12:34:57</td>\n",
       "      <td>1599.0</td>\n",
       "    </tr>\n",
       "    <tr>\n",
       "      <th>3</th>\n",
       "      <td>4</td>\n",
       "      <td>2019-05-03 12:52:57</td>\n",
       "      <td>1601.0</td>\n",
       "      <td>2019-05-03 12:59:25</td>\n",
       "      <td>1625.0</td>\n",
       "    </tr>\n",
       "    <tr>\n",
       "      <th>4</th>\n",
       "      <td>5</td>\n",
       "      <td>2019-05-03 13:23:19</td>\n",
       "      <td>1576.0</td>\n",
       "      <td>2019-05-03 13:36:01</td>\n",
       "      <td>1602.0</td>\n",
       "    </tr>\n",
       "    <tr>\n",
       "      <th>...</th>\n",
       "      <td>...</td>\n",
       "      <td>...</td>\n",
       "      <td>...</td>\n",
       "      <td>...</td>\n",
       "      <td>...</td>\n",
       "    </tr>\n",
       "    <tr>\n",
       "      <th>2470</th>\n",
       "      <td>2495</td>\n",
       "      <td>2019-08-06 00:35:45</td>\n",
       "      <td>1570.0</td>\n",
       "      <td>2019-08-06 00:54:42</td>\n",
       "      <td>1591.0</td>\n",
       "    </tr>\n",
       "    <tr>\n",
       "      <th>2471</th>\n",
       "      <td>2496</td>\n",
       "      <td>2019-08-06 01:02:54</td>\n",
       "      <td>1554.0</td>\n",
       "      <td>2019-08-06 01:29:52</td>\n",
       "      <td>1591.0</td>\n",
       "    </tr>\n",
       "    <tr>\n",
       "      <th>2472</th>\n",
       "      <td>2497</td>\n",
       "      <td>2019-08-06 01:41:53</td>\n",
       "      <td>1571.0</td>\n",
       "      <td>2019-08-06 01:53:50</td>\n",
       "      <td>1589.0</td>\n",
       "    </tr>\n",
       "    <tr>\n",
       "      <th>2473</th>\n",
       "      <td>2498</td>\n",
       "      <td>2019-08-06 02:03:49</td>\n",
       "      <td>1591.0</td>\n",
       "      <td>2019-08-06 02:25:31</td>\n",
       "      <td>1594.0</td>\n",
       "    </tr>\n",
       "    <tr>\n",
       "      <th>2474</th>\n",
       "      <td>2499</td>\n",
       "      <td>2019-08-06 02:40:25</td>\n",
       "      <td>1569.0</td>\n",
       "      <td>2019-08-06 03:00:28</td>\n",
       "      <td>1603.0</td>\n",
       "    </tr>\n",
       "  </tbody>\n",
       "</table>\n",
       "<p>2475 rows × 5 columns</p>\n",
       "</div>"
      ],
      "text/plain": [
       "       key          first_time  first_temp           last_time  last_temp\n",
       "0        1 2019-05-03 11:16:18      1571.0 2019-05-03 11:30:39     1613.0\n",
       "1        2 2019-05-03 11:37:27      1581.0 2019-05-03 11:59:12     1602.0\n",
       "2        3 2019-05-03 12:13:17      1596.0 2019-05-03 12:34:57     1599.0\n",
       "3        4 2019-05-03 12:52:57      1601.0 2019-05-03 12:59:25     1625.0\n",
       "4        5 2019-05-03 13:23:19      1576.0 2019-05-03 13:36:01     1602.0\n",
       "...    ...                 ...         ...                 ...        ...\n",
       "2470  2495 2019-08-06 00:35:45      1570.0 2019-08-06 00:54:42     1591.0\n",
       "2471  2496 2019-08-06 01:02:54      1554.0 2019-08-06 01:29:52     1591.0\n",
       "2472  2497 2019-08-06 01:41:53      1571.0 2019-08-06 01:53:50     1589.0\n",
       "2473  2498 2019-08-06 02:03:49      1591.0 2019-08-06 02:25:31     1594.0\n",
       "2474  2499 2019-08-06 02:40:25      1569.0 2019-08-06 03:00:28     1603.0\n",
       "\n",
       "[2475 rows x 5 columns]"
      ]
     },
     "metadata": {},
     "output_type": "display_data"
    }
   ],
   "source": [
    "data_temp = pd.DataFrame({'key': data_temp['key'].iloc[::2].values,\n",
    "                          'first_time': data_temp['measurement_time'].iloc[::2].values,\n",
    "                          'first_temp': data_temp['temp'].iloc[::2].values,\n",
    "                          'last_time': data_temp['measurement_time'].iloc[1::2].values,\n",
    "                          'last_temp': data_temp['temp'].iloc[1::2].values\n",
    "                          })\n",
    "display(data_temp)"
   ]
  },
  {
   "cell_type": "markdown",
   "id": "binding-tutorial",
   "metadata": {},
   "source": [
    "Мы получили желаемый датасет, который содержит целевой признак - в столбце \"last_temp\""
   ]
  },
  {
   "cell_type": "markdown",
   "id": "exterior-willow",
   "metadata": {},
   "source": [
    "### data_arc — данные об электродах"
   ]
  },
  {
   "cell_type": "code",
   "execution_count": 31,
   "id": "reliable-donna",
   "metadata": {},
   "outputs": [
    {
     "name": "stdout",
     "output_type": "stream",
     "text": [
      "<class 'pandas.core.frame.DataFrame'>\n",
      "RangeIndex: 14876 entries, 0 to 14875\n",
      "Data columns (total 6 columns):\n",
      " #   Column                        Non-Null Count  Dtype         \n",
      "---  ------                        --------------  -----         \n",
      " 0   key                           14876 non-null  int64         \n",
      " 1   Начало нагрева дугой          14876 non-null  datetime64[ns]\n",
      " 2   Конец нагрева дугой           14876 non-null  datetime64[ns]\n",
      " 3   Активная мощность             14876 non-null  float64       \n",
      " 4   Реактивная мощность           14876 non-null  float64       \n",
      " 5   Продолжительность нагревания  14876 non-null  float64       \n",
      "dtypes: datetime64[ns](2), float64(3), int64(1)\n",
      "memory usage: 697.4 KB\n"
     ]
    }
   ],
   "source": [
    "data_arc.info()"
   ]
  },
  {
   "cell_type": "code",
   "execution_count": 32,
   "id": "forty-timing",
   "metadata": {},
   "outputs": [
    {
     "data": {
      "text/html": [
       "<div>\n",
       "<style scoped>\n",
       "    .dataframe tbody tr th:only-of-type {\n",
       "        vertical-align: middle;\n",
       "    }\n",
       "\n",
       "    .dataframe tbody tr th {\n",
       "        vertical-align: top;\n",
       "    }\n",
       "\n",
       "    .dataframe thead th {\n",
       "        text-align: right;\n",
       "    }\n",
       "</style>\n",
       "<table border=\"1\" class=\"dataframe\">\n",
       "  <thead>\n",
       "    <tr style=\"text-align: right;\">\n",
       "      <th></th>\n",
       "      <th>key</th>\n",
       "      <th>Начало нагрева дугой</th>\n",
       "      <th>Конец нагрева дугой</th>\n",
       "      <th>Активная мощность</th>\n",
       "      <th>Реактивная мощность</th>\n",
       "      <th>Продолжительность нагревания</th>\n",
       "    </tr>\n",
       "  </thead>\n",
       "  <tbody>\n",
       "    <tr>\n",
       "      <th>0</th>\n",
       "      <td>1</td>\n",
       "      <td>2019-05-03 11:02:14</td>\n",
       "      <td>2019-05-03 11:06:02</td>\n",
       "      <td>0.976059</td>\n",
       "      <td>0.687084</td>\n",
       "      <td>228.0</td>\n",
       "    </tr>\n",
       "    <tr>\n",
       "      <th>1</th>\n",
       "      <td>1</td>\n",
       "      <td>2019-05-03 11:07:28</td>\n",
       "      <td>2019-05-03 11:10:33</td>\n",
       "      <td>0.805607</td>\n",
       "      <td>0.520285</td>\n",
       "      <td>185.0</td>\n",
       "    </tr>\n",
       "    <tr>\n",
       "      <th>2</th>\n",
       "      <td>1</td>\n",
       "      <td>2019-05-03 11:11:44</td>\n",
       "      <td>2019-05-03 11:14:36</td>\n",
       "      <td>0.744363</td>\n",
       "      <td>0.498805</td>\n",
       "      <td>172.0</td>\n",
       "    </tr>\n",
       "    <tr>\n",
       "      <th>3</th>\n",
       "      <td>1</td>\n",
       "      <td>2019-05-03 11:18:14</td>\n",
       "      <td>2019-05-03 11:24:19</td>\n",
       "      <td>1.659363</td>\n",
       "      <td>1.062669</td>\n",
       "      <td>365.0</td>\n",
       "    </tr>\n",
       "    <tr>\n",
       "      <th>4</th>\n",
       "      <td>1</td>\n",
       "      <td>2019-05-03 11:26:09</td>\n",
       "      <td>2019-05-03 11:28:37</td>\n",
       "      <td>0.692755</td>\n",
       "      <td>0.414397</td>\n",
       "      <td>148.0</td>\n",
       "    </tr>\n",
       "  </tbody>\n",
       "</table>\n",
       "</div>"
      ],
      "text/plain": [
       "   key Начало нагрева дугой Конец нагрева дугой  Активная мощность  \\\n",
       "0    1  2019-05-03 11:02:14 2019-05-03 11:06:02           0.976059   \n",
       "1    1  2019-05-03 11:07:28 2019-05-03 11:10:33           0.805607   \n",
       "2    1  2019-05-03 11:11:44 2019-05-03 11:14:36           0.744363   \n",
       "3    1  2019-05-03 11:18:14 2019-05-03 11:24:19           1.659363   \n",
       "4    1  2019-05-03 11:26:09 2019-05-03 11:28:37           0.692755   \n",
       "\n",
       "   Реактивная мощность  Продолжительность нагревания  \n",
       "0             0.687084                         228.0  \n",
       "1             0.520285                         185.0  \n",
       "2             0.498805                         172.0  \n",
       "3             1.062669                         365.0  \n",
       "4             0.414397                         148.0  "
      ]
     },
     "execution_count": 32,
     "metadata": {},
     "output_type": "execute_result"
    }
   ],
   "source": [
    "data_arc.head()"
   ]
  },
  {
   "cell_type": "code",
   "execution_count": 33,
   "id": "absolute-consequence",
   "metadata": {
    "scrolled": false
   },
   "outputs": [
    {
     "data": {
      "text/html": [
       "<div>\n",
       "<style scoped>\n",
       "    .dataframe tbody tr th:only-of-type {\n",
       "        vertical-align: middle;\n",
       "    }\n",
       "\n",
       "    .dataframe tbody tr th {\n",
       "        vertical-align: top;\n",
       "    }\n",
       "\n",
       "    .dataframe thead th {\n",
       "        text-align: right;\n",
       "    }\n",
       "</style>\n",
       "<table border=\"1\" class=\"dataframe\">\n",
       "  <thead>\n",
       "    <tr style=\"text-align: right;\">\n",
       "      <th></th>\n",
       "      <th>key</th>\n",
       "      <th>heating_start_time</th>\n",
       "      <th>heating_end_time</th>\n",
       "      <th>active_power</th>\n",
       "      <th>heating_duration</th>\n",
       "    </tr>\n",
       "  </thead>\n",
       "  <tbody>\n",
       "    <tr>\n",
       "      <th>0</th>\n",
       "      <td>1</td>\n",
       "      <td>2019-05-03 11:02:14</td>\n",
       "      <td>2019-05-03 11:06:02</td>\n",
       "      <td>0.976059</td>\n",
       "      <td>228.0</td>\n",
       "    </tr>\n",
       "    <tr>\n",
       "      <th>1</th>\n",
       "      <td>1</td>\n",
       "      <td>2019-05-03 11:07:28</td>\n",
       "      <td>2019-05-03 11:10:33</td>\n",
       "      <td>0.805607</td>\n",
       "      <td>185.0</td>\n",
       "    </tr>\n",
       "    <tr>\n",
       "      <th>2</th>\n",
       "      <td>1</td>\n",
       "      <td>2019-05-03 11:11:44</td>\n",
       "      <td>2019-05-03 11:14:36</td>\n",
       "      <td>0.744363</td>\n",
       "      <td>172.0</td>\n",
       "    </tr>\n",
       "    <tr>\n",
       "      <th>3</th>\n",
       "      <td>1</td>\n",
       "      <td>2019-05-03 11:18:14</td>\n",
       "      <td>2019-05-03 11:24:19</td>\n",
       "      <td>1.659363</td>\n",
       "      <td>365.0</td>\n",
       "    </tr>\n",
       "    <tr>\n",
       "      <th>4</th>\n",
       "      <td>1</td>\n",
       "      <td>2019-05-03 11:26:09</td>\n",
       "      <td>2019-05-03 11:28:37</td>\n",
       "      <td>0.692755</td>\n",
       "      <td>148.0</td>\n",
       "    </tr>\n",
       "    <tr>\n",
       "      <th>...</th>\n",
       "      <td>...</td>\n",
       "      <td>...</td>\n",
       "      <td>...</td>\n",
       "      <td>...</td>\n",
       "      <td>...</td>\n",
       "    </tr>\n",
       "    <tr>\n",
       "      <th>14871</th>\n",
       "      <td>3241</td>\n",
       "      <td>2019-09-01 03:58:58</td>\n",
       "      <td>2019-09-01 04:01:35</td>\n",
       "      <td>0.533670</td>\n",
       "      <td>157.0</td>\n",
       "    </tr>\n",
       "    <tr>\n",
       "      <th>14872</th>\n",
       "      <td>3241</td>\n",
       "      <td>2019-09-01 04:05:04</td>\n",
       "      <td>2019-09-01 04:08:04</td>\n",
       "      <td>0.676604</td>\n",
       "      <td>180.0</td>\n",
       "    </tr>\n",
       "    <tr>\n",
       "      <th>14873</th>\n",
       "      <td>3241</td>\n",
       "      <td>2019-09-01 04:16:41</td>\n",
       "      <td>2019-09-01 04:19:45</td>\n",
       "      <td>0.733899</td>\n",
       "      <td>184.0</td>\n",
       "    </tr>\n",
       "    <tr>\n",
       "      <th>14874</th>\n",
       "      <td>3241</td>\n",
       "      <td>2019-09-01 04:31:51</td>\n",
       "      <td>2019-09-01 04:32:48</td>\n",
       "      <td>0.220694</td>\n",
       "      <td>57.0</td>\n",
       "    </tr>\n",
       "    <tr>\n",
       "      <th>14875</th>\n",
       "      <td>3241</td>\n",
       "      <td>2019-09-01 04:34:47</td>\n",
       "      <td>2019-09-01 04:36:08</td>\n",
       "      <td>0.306580</td>\n",
       "      <td>81.0</td>\n",
       "    </tr>\n",
       "  </tbody>\n",
       "</table>\n",
       "<p>14876 rows × 5 columns</p>\n",
       "</div>"
      ],
      "text/plain": [
       "        key  heating_start_time    heating_end_time  active_power  \\\n",
       "0         1 2019-05-03 11:02:14 2019-05-03 11:06:02      0.976059   \n",
       "1         1 2019-05-03 11:07:28 2019-05-03 11:10:33      0.805607   \n",
       "2         1 2019-05-03 11:11:44 2019-05-03 11:14:36      0.744363   \n",
       "3         1 2019-05-03 11:18:14 2019-05-03 11:24:19      1.659363   \n",
       "4         1 2019-05-03 11:26:09 2019-05-03 11:28:37      0.692755   \n",
       "...     ...                 ...                 ...           ...   \n",
       "14871  3241 2019-09-01 03:58:58 2019-09-01 04:01:35      0.533670   \n",
       "14872  3241 2019-09-01 04:05:04 2019-09-01 04:08:04      0.676604   \n",
       "14873  3241 2019-09-01 04:16:41 2019-09-01 04:19:45      0.733899   \n",
       "14874  3241 2019-09-01 04:31:51 2019-09-01 04:32:48      0.220694   \n",
       "14875  3241 2019-09-01 04:34:47 2019-09-01 04:36:08      0.306580   \n",
       "\n",
       "       heating_duration  \n",
       "0                 228.0  \n",
       "1                 185.0  \n",
       "2                 172.0  \n",
       "3                 365.0  \n",
       "4                 148.0  \n",
       "...                 ...  \n",
       "14871             157.0  \n",
       "14872             180.0  \n",
       "14873             184.0  \n",
       "14874              57.0  \n",
       "14875              81.0  \n",
       "\n",
       "[14876 rows x 5 columns]"
      ]
     },
     "metadata": {},
     "output_type": "display_data"
    }
   ],
   "source": [
    "data_arc.columns = ['key', 'heating_start_time', 'heating_end_time',\n",
    "                    'active_power', 'reactive_power', 'heating_duration']\n",
    "data_arc = data_arc[['key', 'heating_start_time',\n",
    "                     'heating_end_time', 'active_power', 'heating_duration']]\n",
    "display(data_arc)"
   ]
  },
  {
   "cell_type": "markdown",
   "id": "bored-miniature",
   "metadata": {},
   "source": [
    "Создадим новый столбец \"work_energy\", который будет равен произведению активной мощности на продолжительность нагревания. Это работа, переданная ковшу."
   ]
  },
  {
   "cell_type": "code",
   "execution_count": 34,
   "id": "parental-ecuador",
   "metadata": {},
   "outputs": [
    {
     "data": {
      "text/html": [
       "<div>\n",
       "<style scoped>\n",
       "    .dataframe tbody tr th:only-of-type {\n",
       "        vertical-align: middle;\n",
       "    }\n",
       "\n",
       "    .dataframe tbody tr th {\n",
       "        vertical-align: top;\n",
       "    }\n",
       "\n",
       "    .dataframe thead th {\n",
       "        text-align: right;\n",
       "    }\n",
       "</style>\n",
       "<table border=\"1\" class=\"dataframe\">\n",
       "  <thead>\n",
       "    <tr style=\"text-align: right;\">\n",
       "      <th></th>\n",
       "      <th>key</th>\n",
       "      <th>heating_start_time</th>\n",
       "      <th>heating_end_time</th>\n",
       "      <th>work_energy</th>\n",
       "    </tr>\n",
       "  </thead>\n",
       "  <tbody>\n",
       "    <tr>\n",
       "      <th>0</th>\n",
       "      <td>1</td>\n",
       "      <td>2019-05-03 11:02:14</td>\n",
       "      <td>2019-05-03 11:06:02</td>\n",
       "      <td>222.541395</td>\n",
       "    </tr>\n",
       "    <tr>\n",
       "      <th>1</th>\n",
       "      <td>1</td>\n",
       "      <td>2019-05-03 11:07:28</td>\n",
       "      <td>2019-05-03 11:10:33</td>\n",
       "      <td>149.037310</td>\n",
       "    </tr>\n",
       "    <tr>\n",
       "      <th>2</th>\n",
       "      <td>1</td>\n",
       "      <td>2019-05-03 11:11:44</td>\n",
       "      <td>2019-05-03 11:14:36</td>\n",
       "      <td>128.030509</td>\n",
       "    </tr>\n",
       "    <tr>\n",
       "      <th>3</th>\n",
       "      <td>1</td>\n",
       "      <td>2019-05-03 11:18:14</td>\n",
       "      <td>2019-05-03 11:24:19</td>\n",
       "      <td>605.667332</td>\n",
       "    </tr>\n",
       "    <tr>\n",
       "      <th>4</th>\n",
       "      <td>1</td>\n",
       "      <td>2019-05-03 11:26:09</td>\n",
       "      <td>2019-05-03 11:28:37</td>\n",
       "      <td>102.527702</td>\n",
       "    </tr>\n",
       "    <tr>\n",
       "      <th>...</th>\n",
       "      <td>...</td>\n",
       "      <td>...</td>\n",
       "      <td>...</td>\n",
       "      <td>...</td>\n",
       "    </tr>\n",
       "    <tr>\n",
       "      <th>14871</th>\n",
       "      <td>3241</td>\n",
       "      <td>2019-09-01 03:58:58</td>\n",
       "      <td>2019-09-01 04:01:35</td>\n",
       "      <td>83.786125</td>\n",
       "    </tr>\n",
       "    <tr>\n",
       "      <th>14872</th>\n",
       "      <td>3241</td>\n",
       "      <td>2019-09-01 04:05:04</td>\n",
       "      <td>2019-09-01 04:08:04</td>\n",
       "      <td>121.788672</td>\n",
       "    </tr>\n",
       "    <tr>\n",
       "      <th>14873</th>\n",
       "      <td>3241</td>\n",
       "      <td>2019-09-01 04:16:41</td>\n",
       "      <td>2019-09-01 04:19:45</td>\n",
       "      <td>135.037503</td>\n",
       "    </tr>\n",
       "    <tr>\n",
       "      <th>14874</th>\n",
       "      <td>3241</td>\n",
       "      <td>2019-09-01 04:31:51</td>\n",
       "      <td>2019-09-01 04:32:48</td>\n",
       "      <td>12.579555</td>\n",
       "    </tr>\n",
       "    <tr>\n",
       "      <th>14875</th>\n",
       "      <td>3241</td>\n",
       "      <td>2019-09-01 04:34:47</td>\n",
       "      <td>2019-09-01 04:36:08</td>\n",
       "      <td>24.832985</td>\n",
       "    </tr>\n",
       "  </tbody>\n",
       "</table>\n",
       "<p>14876 rows × 4 columns</p>\n",
       "</div>"
      ],
      "text/plain": [
       "        key  heating_start_time    heating_end_time  work_energy\n",
       "0         1 2019-05-03 11:02:14 2019-05-03 11:06:02   222.541395\n",
       "1         1 2019-05-03 11:07:28 2019-05-03 11:10:33   149.037310\n",
       "2         1 2019-05-03 11:11:44 2019-05-03 11:14:36   128.030509\n",
       "3         1 2019-05-03 11:18:14 2019-05-03 11:24:19   605.667332\n",
       "4         1 2019-05-03 11:26:09 2019-05-03 11:28:37   102.527702\n",
       "...     ...                 ...                 ...          ...\n",
       "14871  3241 2019-09-01 03:58:58 2019-09-01 04:01:35    83.786125\n",
       "14872  3241 2019-09-01 04:05:04 2019-09-01 04:08:04   121.788672\n",
       "14873  3241 2019-09-01 04:16:41 2019-09-01 04:19:45   135.037503\n",
       "14874  3241 2019-09-01 04:31:51 2019-09-01 04:32:48    12.579555\n",
       "14875  3241 2019-09-01 04:34:47 2019-09-01 04:36:08    24.832985\n",
       "\n",
       "[14876 rows x 4 columns]"
      ]
     },
     "metadata": {},
     "output_type": "display_data"
    }
   ],
   "source": [
    "data_arc['work_energy'] = data_arc['active_power'] * \\\n",
    "    data_arc['heating_duration']\n",
    "data_arc = data_arc[['key', 'heating_start_time',\n",
    "                     'heating_end_time', 'work_energy']]\n",
    "display(data_arc)"
   ]
  },
  {
   "cell_type": "markdown",
   "id": "compatible-reducing",
   "metadata": {},
   "source": [
    "Сейчас мы должны были бы получить сумму потраченной энергии на каждую партию. Но прожде чем складывать, необходимо убедиться, что каждый процесс нагревания происходил между первым и последним измерением температуры.\n",
    "\n",
    "Для этого объединим данную таблицу с полученной таблицей с данными о температуре."
   ]
  },
  {
   "cell_type": "code",
   "execution_count": 35,
   "id": "matched-circulation",
   "metadata": {},
   "outputs": [
    {
     "data": {
      "text/html": [
       "<div>\n",
       "<style scoped>\n",
       "    .dataframe tbody tr th:only-of-type {\n",
       "        vertical-align: middle;\n",
       "    }\n",
       "\n",
       "    .dataframe tbody tr th {\n",
       "        vertical-align: top;\n",
       "    }\n",
       "\n",
       "    .dataframe thead th {\n",
       "        text-align: right;\n",
       "    }\n",
       "</style>\n",
       "<table border=\"1\" class=\"dataframe\">\n",
       "  <thead>\n",
       "    <tr style=\"text-align: right;\">\n",
       "      <th></th>\n",
       "      <th>key</th>\n",
       "      <th>heating_start_time</th>\n",
       "      <th>heating_end_time</th>\n",
       "      <th>work_energy</th>\n",
       "      <th>first_time</th>\n",
       "      <th>first_temp</th>\n",
       "      <th>last_time</th>\n",
       "      <th>last_temp</th>\n",
       "    </tr>\n",
       "  </thead>\n",
       "  <tbody>\n",
       "    <tr>\n",
       "      <th>0</th>\n",
       "      <td>1</td>\n",
       "      <td>2019-05-03 11:02:14</td>\n",
       "      <td>2019-05-03 11:06:02</td>\n",
       "      <td>222.541395</td>\n",
       "      <td>2019-05-03 11:16:18</td>\n",
       "      <td>1571.0</td>\n",
       "      <td>2019-05-03 11:30:39</td>\n",
       "      <td>1613.0</td>\n",
       "    </tr>\n",
       "    <tr>\n",
       "      <th>1</th>\n",
       "      <td>1</td>\n",
       "      <td>2019-05-03 11:07:28</td>\n",
       "      <td>2019-05-03 11:10:33</td>\n",
       "      <td>149.037310</td>\n",
       "      <td>2019-05-03 11:16:18</td>\n",
       "      <td>1571.0</td>\n",
       "      <td>2019-05-03 11:30:39</td>\n",
       "      <td>1613.0</td>\n",
       "    </tr>\n",
       "    <tr>\n",
       "      <th>2</th>\n",
       "      <td>1</td>\n",
       "      <td>2019-05-03 11:11:44</td>\n",
       "      <td>2019-05-03 11:14:36</td>\n",
       "      <td>128.030509</td>\n",
       "      <td>2019-05-03 11:16:18</td>\n",
       "      <td>1571.0</td>\n",
       "      <td>2019-05-03 11:30:39</td>\n",
       "      <td>1613.0</td>\n",
       "    </tr>\n",
       "    <tr>\n",
       "      <th>3</th>\n",
       "      <td>1</td>\n",
       "      <td>2019-05-03 11:18:14</td>\n",
       "      <td>2019-05-03 11:24:19</td>\n",
       "      <td>605.667332</td>\n",
       "      <td>2019-05-03 11:16:18</td>\n",
       "      <td>1571.0</td>\n",
       "      <td>2019-05-03 11:30:39</td>\n",
       "      <td>1613.0</td>\n",
       "    </tr>\n",
       "    <tr>\n",
       "      <th>4</th>\n",
       "      <td>1</td>\n",
       "      <td>2019-05-03 11:26:09</td>\n",
       "      <td>2019-05-03 11:28:37</td>\n",
       "      <td>102.527702</td>\n",
       "      <td>2019-05-03 11:16:18</td>\n",
       "      <td>1571.0</td>\n",
       "      <td>2019-05-03 11:30:39</td>\n",
       "      <td>1613.0</td>\n",
       "    </tr>\n",
       "    <tr>\n",
       "      <th>...</th>\n",
       "      <td>...</td>\n",
       "      <td>...</td>\n",
       "      <td>...</td>\n",
       "      <td>...</td>\n",
       "      <td>...</td>\n",
       "      <td>...</td>\n",
       "      <td>...</td>\n",
       "      <td>...</td>\n",
       "    </tr>\n",
       "    <tr>\n",
       "      <th>14871</th>\n",
       "      <td>3241</td>\n",
       "      <td>2019-09-01 03:58:58</td>\n",
       "      <td>2019-09-01 04:01:35</td>\n",
       "      <td>83.786125</td>\n",
       "      <td>NaT</td>\n",
       "      <td>NaN</td>\n",
       "      <td>NaT</td>\n",
       "      <td>NaN</td>\n",
       "    </tr>\n",
       "    <tr>\n",
       "      <th>14872</th>\n",
       "      <td>3241</td>\n",
       "      <td>2019-09-01 04:05:04</td>\n",
       "      <td>2019-09-01 04:08:04</td>\n",
       "      <td>121.788672</td>\n",
       "      <td>NaT</td>\n",
       "      <td>NaN</td>\n",
       "      <td>NaT</td>\n",
       "      <td>NaN</td>\n",
       "    </tr>\n",
       "    <tr>\n",
       "      <th>14873</th>\n",
       "      <td>3241</td>\n",
       "      <td>2019-09-01 04:16:41</td>\n",
       "      <td>2019-09-01 04:19:45</td>\n",
       "      <td>135.037503</td>\n",
       "      <td>NaT</td>\n",
       "      <td>NaN</td>\n",
       "      <td>NaT</td>\n",
       "      <td>NaN</td>\n",
       "    </tr>\n",
       "    <tr>\n",
       "      <th>14874</th>\n",
       "      <td>3241</td>\n",
       "      <td>2019-09-01 04:31:51</td>\n",
       "      <td>2019-09-01 04:32:48</td>\n",
       "      <td>12.579555</td>\n",
       "      <td>NaT</td>\n",
       "      <td>NaN</td>\n",
       "      <td>NaT</td>\n",
       "      <td>NaN</td>\n",
       "    </tr>\n",
       "    <tr>\n",
       "      <th>14875</th>\n",
       "      <td>3241</td>\n",
       "      <td>2019-09-01 04:34:47</td>\n",
       "      <td>2019-09-01 04:36:08</td>\n",
       "      <td>24.832985</td>\n",
       "      <td>NaT</td>\n",
       "      <td>NaN</td>\n",
       "      <td>NaT</td>\n",
       "      <td>NaN</td>\n",
       "    </tr>\n",
       "  </tbody>\n",
       "</table>\n",
       "<p>14876 rows × 8 columns</p>\n",
       "</div>"
      ],
      "text/plain": [
       "        key  heating_start_time    heating_end_time  work_energy  \\\n",
       "0         1 2019-05-03 11:02:14 2019-05-03 11:06:02   222.541395   \n",
       "1         1 2019-05-03 11:07:28 2019-05-03 11:10:33   149.037310   \n",
       "2         1 2019-05-03 11:11:44 2019-05-03 11:14:36   128.030509   \n",
       "3         1 2019-05-03 11:18:14 2019-05-03 11:24:19   605.667332   \n",
       "4         1 2019-05-03 11:26:09 2019-05-03 11:28:37   102.527702   \n",
       "...     ...                 ...                 ...          ...   \n",
       "14871  3241 2019-09-01 03:58:58 2019-09-01 04:01:35    83.786125   \n",
       "14872  3241 2019-09-01 04:05:04 2019-09-01 04:08:04   121.788672   \n",
       "14873  3241 2019-09-01 04:16:41 2019-09-01 04:19:45   135.037503   \n",
       "14874  3241 2019-09-01 04:31:51 2019-09-01 04:32:48    12.579555   \n",
       "14875  3241 2019-09-01 04:34:47 2019-09-01 04:36:08    24.832985   \n",
       "\n",
       "               first_time  first_temp           last_time  last_temp  \n",
       "0     2019-05-03 11:16:18      1571.0 2019-05-03 11:30:39     1613.0  \n",
       "1     2019-05-03 11:16:18      1571.0 2019-05-03 11:30:39     1613.0  \n",
       "2     2019-05-03 11:16:18      1571.0 2019-05-03 11:30:39     1613.0  \n",
       "3     2019-05-03 11:16:18      1571.0 2019-05-03 11:30:39     1613.0  \n",
       "4     2019-05-03 11:16:18      1571.0 2019-05-03 11:30:39     1613.0  \n",
       "...                   ...         ...                 ...        ...  \n",
       "14871                 NaT         NaN                 NaT        NaN  \n",
       "14872                 NaT         NaN                 NaT        NaN  \n",
       "14873                 NaT         NaN                 NaT        NaN  \n",
       "14874                 NaT         NaN                 NaT        NaN  \n",
       "14875                 NaT         NaN                 NaT        NaN  \n",
       "\n",
       "[14876 rows x 8 columns]"
      ]
     },
     "metadata": {},
     "output_type": "display_data"
    }
   ],
   "source": [
    "data = data_arc.merge(data_temp, on='key', how='left')\n",
    "display(data)"
   ]
  },
  {
   "cell_type": "markdown",
   "id": "correct-purchase",
   "metadata": {},
   "source": [
    "У нас появились пустые значения, так как мы очищали данные о температуры от информации о партиях, где не было замеров температуры или известно только об одном замере. Очистим от данные от пропусков."
   ]
  },
  {
   "cell_type": "code",
   "execution_count": 36,
   "id": "understood-dividend",
   "metadata": {},
   "outputs": [
    {
     "data": {
      "text/html": [
       "<div>\n",
       "<style scoped>\n",
       "    .dataframe tbody tr th:only-of-type {\n",
       "        vertical-align: middle;\n",
       "    }\n",
       "\n",
       "    .dataframe tbody tr th {\n",
       "        vertical-align: top;\n",
       "    }\n",
       "\n",
       "    .dataframe thead th {\n",
       "        text-align: right;\n",
       "    }\n",
       "</style>\n",
       "<table border=\"1\" class=\"dataframe\">\n",
       "  <thead>\n",
       "    <tr style=\"text-align: right;\">\n",
       "      <th></th>\n",
       "      <th>key</th>\n",
       "      <th>heating_start_time</th>\n",
       "      <th>heating_end_time</th>\n",
       "      <th>work_energy</th>\n",
       "      <th>first_time</th>\n",
       "      <th>first_temp</th>\n",
       "      <th>last_time</th>\n",
       "      <th>last_temp</th>\n",
       "    </tr>\n",
       "  </thead>\n",
       "  <tbody>\n",
       "    <tr>\n",
       "      <th>0</th>\n",
       "      <td>1</td>\n",
       "      <td>2019-05-03 11:02:14</td>\n",
       "      <td>2019-05-03 11:06:02</td>\n",
       "      <td>222.541395</td>\n",
       "      <td>2019-05-03 11:16:18</td>\n",
       "      <td>1571.0</td>\n",
       "      <td>2019-05-03 11:30:39</td>\n",
       "      <td>1613.0</td>\n",
       "    </tr>\n",
       "    <tr>\n",
       "      <th>1</th>\n",
       "      <td>1</td>\n",
       "      <td>2019-05-03 11:07:28</td>\n",
       "      <td>2019-05-03 11:10:33</td>\n",
       "      <td>149.037310</td>\n",
       "      <td>2019-05-03 11:16:18</td>\n",
       "      <td>1571.0</td>\n",
       "      <td>2019-05-03 11:30:39</td>\n",
       "      <td>1613.0</td>\n",
       "    </tr>\n",
       "    <tr>\n",
       "      <th>2</th>\n",
       "      <td>1</td>\n",
       "      <td>2019-05-03 11:11:44</td>\n",
       "      <td>2019-05-03 11:14:36</td>\n",
       "      <td>128.030509</td>\n",
       "      <td>2019-05-03 11:16:18</td>\n",
       "      <td>1571.0</td>\n",
       "      <td>2019-05-03 11:30:39</td>\n",
       "      <td>1613.0</td>\n",
       "    </tr>\n",
       "    <tr>\n",
       "      <th>3</th>\n",
       "      <td>1</td>\n",
       "      <td>2019-05-03 11:18:14</td>\n",
       "      <td>2019-05-03 11:24:19</td>\n",
       "      <td>605.667332</td>\n",
       "      <td>2019-05-03 11:16:18</td>\n",
       "      <td>1571.0</td>\n",
       "      <td>2019-05-03 11:30:39</td>\n",
       "      <td>1613.0</td>\n",
       "    </tr>\n",
       "    <tr>\n",
       "      <th>4</th>\n",
       "      <td>1</td>\n",
       "      <td>2019-05-03 11:26:09</td>\n",
       "      <td>2019-05-03 11:28:37</td>\n",
       "      <td>102.527702</td>\n",
       "      <td>2019-05-03 11:16:18</td>\n",
       "      <td>1571.0</td>\n",
       "      <td>2019-05-03 11:30:39</td>\n",
       "      <td>1613.0</td>\n",
       "    </tr>\n",
       "    <tr>\n",
       "      <th>...</th>\n",
       "      <td>...</td>\n",
       "      <td>...</td>\n",
       "      <td>...</td>\n",
       "      <td>...</td>\n",
       "      <td>...</td>\n",
       "      <td>...</td>\n",
       "      <td>...</td>\n",
       "      <td>...</td>\n",
       "    </tr>\n",
       "    <tr>\n",
       "      <th>11444</th>\n",
       "      <td>2498</td>\n",
       "      <td>2019-08-06 02:19:43</td>\n",
       "      <td>2019-08-06 02:20:24</td>\n",
       "      <td>7.388752</td>\n",
       "      <td>2019-08-06 02:03:49</td>\n",
       "      <td>1591.0</td>\n",
       "      <td>2019-08-06 02:25:31</td>\n",
       "      <td>1594.0</td>\n",
       "    </tr>\n",
       "    <tr>\n",
       "      <th>11445</th>\n",
       "      <td>2499</td>\n",
       "      <td>2019-08-06 02:32:56</td>\n",
       "      <td>2019-08-06 02:38:08</td>\n",
       "      <td>444.870555</td>\n",
       "      <td>2019-08-06 02:40:25</td>\n",
       "      <td>1569.0</td>\n",
       "      <td>2019-08-06 03:00:28</td>\n",
       "      <td>1603.0</td>\n",
       "    </tr>\n",
       "    <tr>\n",
       "      <th>11446</th>\n",
       "      <td>2499</td>\n",
       "      <td>2019-08-06 02:41:09</td>\n",
       "      <td>2019-08-06 02:44:34</td>\n",
       "      <td>200.573342</td>\n",
       "      <td>2019-08-06 02:40:25</td>\n",
       "      <td>1569.0</td>\n",
       "      <td>2019-08-06 03:00:28</td>\n",
       "      <td>1603.0</td>\n",
       "    </tr>\n",
       "    <tr>\n",
       "      <th>11447</th>\n",
       "      <td>2499</td>\n",
       "      <td>2019-08-06 02:46:03</td>\n",
       "      <td>2019-08-06 02:50:58</td>\n",
       "      <td>407.472872</td>\n",
       "      <td>2019-08-06 02:40:25</td>\n",
       "      <td>1569.0</td>\n",
       "      <td>2019-08-06 03:00:28</td>\n",
       "      <td>1603.0</td>\n",
       "    </tr>\n",
       "    <tr>\n",
       "      <th>11448</th>\n",
       "      <td>2499</td>\n",
       "      <td>2019-08-06 02:54:31</td>\n",
       "      <td>2019-08-06 02:55:42</td>\n",
       "      <td>22.215414</td>\n",
       "      <td>2019-08-06 02:40:25</td>\n",
       "      <td>1569.0</td>\n",
       "      <td>2019-08-06 03:00:28</td>\n",
       "      <td>1603.0</td>\n",
       "    </tr>\n",
       "  </tbody>\n",
       "</table>\n",
       "<p>11449 rows × 8 columns</p>\n",
       "</div>"
      ],
      "text/plain": [
       "        key  heating_start_time    heating_end_time  work_energy  \\\n",
       "0         1 2019-05-03 11:02:14 2019-05-03 11:06:02   222.541395   \n",
       "1         1 2019-05-03 11:07:28 2019-05-03 11:10:33   149.037310   \n",
       "2         1 2019-05-03 11:11:44 2019-05-03 11:14:36   128.030509   \n",
       "3         1 2019-05-03 11:18:14 2019-05-03 11:24:19   605.667332   \n",
       "4         1 2019-05-03 11:26:09 2019-05-03 11:28:37   102.527702   \n",
       "...     ...                 ...                 ...          ...   \n",
       "11444  2498 2019-08-06 02:19:43 2019-08-06 02:20:24     7.388752   \n",
       "11445  2499 2019-08-06 02:32:56 2019-08-06 02:38:08   444.870555   \n",
       "11446  2499 2019-08-06 02:41:09 2019-08-06 02:44:34   200.573342   \n",
       "11447  2499 2019-08-06 02:46:03 2019-08-06 02:50:58   407.472872   \n",
       "11448  2499 2019-08-06 02:54:31 2019-08-06 02:55:42    22.215414   \n",
       "\n",
       "               first_time  first_temp           last_time  last_temp  \n",
       "0     2019-05-03 11:16:18      1571.0 2019-05-03 11:30:39     1613.0  \n",
       "1     2019-05-03 11:16:18      1571.0 2019-05-03 11:30:39     1613.0  \n",
       "2     2019-05-03 11:16:18      1571.0 2019-05-03 11:30:39     1613.0  \n",
       "3     2019-05-03 11:16:18      1571.0 2019-05-03 11:30:39     1613.0  \n",
       "4     2019-05-03 11:16:18      1571.0 2019-05-03 11:30:39     1613.0  \n",
       "...                   ...         ...                 ...        ...  \n",
       "11444 2019-08-06 02:03:49      1591.0 2019-08-06 02:25:31     1594.0  \n",
       "11445 2019-08-06 02:40:25      1569.0 2019-08-06 03:00:28     1603.0  \n",
       "11446 2019-08-06 02:40:25      1569.0 2019-08-06 03:00:28     1603.0  \n",
       "11447 2019-08-06 02:40:25      1569.0 2019-08-06 03:00:28     1603.0  \n",
       "11448 2019-08-06 02:40:25      1569.0 2019-08-06 03:00:28     1603.0  \n",
       "\n",
       "[11449 rows x 8 columns]"
      ]
     },
     "metadata": {},
     "output_type": "display_data"
    }
   ],
   "source": [
    "data = data.dropna()\n",
    "display(data)"
   ]
  },
  {
   "cell_type": "markdown",
   "id": "interested-ultimate",
   "metadata": {},
   "source": [
    "Создадим условие: начало нагревания должно происходить происходить после первого измерения, а момент окончания нагревания должен происходить до последнего измерения."
   ]
  },
  {
   "cell_type": "code",
   "execution_count": 37,
   "id": "considered-plastic",
   "metadata": {},
   "outputs": [],
   "source": [
    "data['condition'] = np.where((data['heating_start_time'] > data['first_time']) &\n",
    "                             (data['heating_end_time'] < data['last_time']),\n",
    "                             True,\n",
    "                             False)"
   ]
  },
  {
   "cell_type": "code",
   "execution_count": 38,
   "id": "apparent-flavor",
   "metadata": {},
   "outputs": [
    {
     "data": {
      "text/html": [
       "<div>\n",
       "<style scoped>\n",
       "    .dataframe tbody tr th:only-of-type {\n",
       "        vertical-align: middle;\n",
       "    }\n",
       "\n",
       "    .dataframe tbody tr th {\n",
       "        vertical-align: top;\n",
       "    }\n",
       "\n",
       "    .dataframe thead th {\n",
       "        text-align: right;\n",
       "    }\n",
       "</style>\n",
       "<table border=\"1\" class=\"dataframe\">\n",
       "  <thead>\n",
       "    <tr style=\"text-align: right;\">\n",
       "      <th></th>\n",
       "      <th>key</th>\n",
       "      <th>heating_start_time</th>\n",
       "      <th>heating_end_time</th>\n",
       "      <th>work_energy</th>\n",
       "      <th>first_time</th>\n",
       "      <th>first_temp</th>\n",
       "      <th>last_time</th>\n",
       "      <th>last_temp</th>\n",
       "      <th>condition</th>\n",
       "    </tr>\n",
       "  </thead>\n",
       "  <tbody>\n",
       "    <tr>\n",
       "      <th>0</th>\n",
       "      <td>1</td>\n",
       "      <td>2019-05-03 11:02:14</td>\n",
       "      <td>2019-05-03 11:06:02</td>\n",
       "      <td>222.541395</td>\n",
       "      <td>2019-05-03 11:16:18</td>\n",
       "      <td>1571.0</td>\n",
       "      <td>2019-05-03 11:30:39</td>\n",
       "      <td>1613.0</td>\n",
       "      <td>False</td>\n",
       "    </tr>\n",
       "    <tr>\n",
       "      <th>1</th>\n",
       "      <td>1</td>\n",
       "      <td>2019-05-03 11:07:28</td>\n",
       "      <td>2019-05-03 11:10:33</td>\n",
       "      <td>149.037310</td>\n",
       "      <td>2019-05-03 11:16:18</td>\n",
       "      <td>1571.0</td>\n",
       "      <td>2019-05-03 11:30:39</td>\n",
       "      <td>1613.0</td>\n",
       "      <td>False</td>\n",
       "    </tr>\n",
       "    <tr>\n",
       "      <th>2</th>\n",
       "      <td>1</td>\n",
       "      <td>2019-05-03 11:11:44</td>\n",
       "      <td>2019-05-03 11:14:36</td>\n",
       "      <td>128.030509</td>\n",
       "      <td>2019-05-03 11:16:18</td>\n",
       "      <td>1571.0</td>\n",
       "      <td>2019-05-03 11:30:39</td>\n",
       "      <td>1613.0</td>\n",
       "      <td>False</td>\n",
       "    </tr>\n",
       "    <tr>\n",
       "      <th>3</th>\n",
       "      <td>1</td>\n",
       "      <td>2019-05-03 11:18:14</td>\n",
       "      <td>2019-05-03 11:24:19</td>\n",
       "      <td>605.667332</td>\n",
       "      <td>2019-05-03 11:16:18</td>\n",
       "      <td>1571.0</td>\n",
       "      <td>2019-05-03 11:30:39</td>\n",
       "      <td>1613.0</td>\n",
       "      <td>True</td>\n",
       "    </tr>\n",
       "    <tr>\n",
       "      <th>4</th>\n",
       "      <td>1</td>\n",
       "      <td>2019-05-03 11:26:09</td>\n",
       "      <td>2019-05-03 11:28:37</td>\n",
       "      <td>102.527702</td>\n",
       "      <td>2019-05-03 11:16:18</td>\n",
       "      <td>1571.0</td>\n",
       "      <td>2019-05-03 11:30:39</td>\n",
       "      <td>1613.0</td>\n",
       "      <td>True</td>\n",
       "    </tr>\n",
       "    <tr>\n",
       "      <th>...</th>\n",
       "      <td>...</td>\n",
       "      <td>...</td>\n",
       "      <td>...</td>\n",
       "      <td>...</td>\n",
       "      <td>...</td>\n",
       "      <td>...</td>\n",
       "      <td>...</td>\n",
       "      <td>...</td>\n",
       "      <td>...</td>\n",
       "    </tr>\n",
       "    <tr>\n",
       "      <th>11444</th>\n",
       "      <td>2498</td>\n",
       "      <td>2019-08-06 02:19:43</td>\n",
       "      <td>2019-08-06 02:20:24</td>\n",
       "      <td>7.388752</td>\n",
       "      <td>2019-08-06 02:03:49</td>\n",
       "      <td>1591.0</td>\n",
       "      <td>2019-08-06 02:25:31</td>\n",
       "      <td>1594.0</td>\n",
       "      <td>True</td>\n",
       "    </tr>\n",
       "    <tr>\n",
       "      <th>11445</th>\n",
       "      <td>2499</td>\n",
       "      <td>2019-08-06 02:32:56</td>\n",
       "      <td>2019-08-06 02:38:08</td>\n",
       "      <td>444.870555</td>\n",
       "      <td>2019-08-06 02:40:25</td>\n",
       "      <td>1569.0</td>\n",
       "      <td>2019-08-06 03:00:28</td>\n",
       "      <td>1603.0</td>\n",
       "      <td>False</td>\n",
       "    </tr>\n",
       "    <tr>\n",
       "      <th>11446</th>\n",
       "      <td>2499</td>\n",
       "      <td>2019-08-06 02:41:09</td>\n",
       "      <td>2019-08-06 02:44:34</td>\n",
       "      <td>200.573342</td>\n",
       "      <td>2019-08-06 02:40:25</td>\n",
       "      <td>1569.0</td>\n",
       "      <td>2019-08-06 03:00:28</td>\n",
       "      <td>1603.0</td>\n",
       "      <td>True</td>\n",
       "    </tr>\n",
       "    <tr>\n",
       "      <th>11447</th>\n",
       "      <td>2499</td>\n",
       "      <td>2019-08-06 02:46:03</td>\n",
       "      <td>2019-08-06 02:50:58</td>\n",
       "      <td>407.472872</td>\n",
       "      <td>2019-08-06 02:40:25</td>\n",
       "      <td>1569.0</td>\n",
       "      <td>2019-08-06 03:00:28</td>\n",
       "      <td>1603.0</td>\n",
       "      <td>True</td>\n",
       "    </tr>\n",
       "    <tr>\n",
       "      <th>11448</th>\n",
       "      <td>2499</td>\n",
       "      <td>2019-08-06 02:54:31</td>\n",
       "      <td>2019-08-06 02:55:42</td>\n",
       "      <td>22.215414</td>\n",
       "      <td>2019-08-06 02:40:25</td>\n",
       "      <td>1569.0</td>\n",
       "      <td>2019-08-06 03:00:28</td>\n",
       "      <td>1603.0</td>\n",
       "      <td>True</td>\n",
       "    </tr>\n",
       "  </tbody>\n",
       "</table>\n",
       "<p>11449 rows × 9 columns</p>\n",
       "</div>"
      ],
      "text/plain": [
       "        key  heating_start_time    heating_end_time  work_energy  \\\n",
       "0         1 2019-05-03 11:02:14 2019-05-03 11:06:02   222.541395   \n",
       "1         1 2019-05-03 11:07:28 2019-05-03 11:10:33   149.037310   \n",
       "2         1 2019-05-03 11:11:44 2019-05-03 11:14:36   128.030509   \n",
       "3         1 2019-05-03 11:18:14 2019-05-03 11:24:19   605.667332   \n",
       "4         1 2019-05-03 11:26:09 2019-05-03 11:28:37   102.527702   \n",
       "...     ...                 ...                 ...          ...   \n",
       "11444  2498 2019-08-06 02:19:43 2019-08-06 02:20:24     7.388752   \n",
       "11445  2499 2019-08-06 02:32:56 2019-08-06 02:38:08   444.870555   \n",
       "11446  2499 2019-08-06 02:41:09 2019-08-06 02:44:34   200.573342   \n",
       "11447  2499 2019-08-06 02:46:03 2019-08-06 02:50:58   407.472872   \n",
       "11448  2499 2019-08-06 02:54:31 2019-08-06 02:55:42    22.215414   \n",
       "\n",
       "               first_time  first_temp           last_time  last_temp  \\\n",
       "0     2019-05-03 11:16:18      1571.0 2019-05-03 11:30:39     1613.0   \n",
       "1     2019-05-03 11:16:18      1571.0 2019-05-03 11:30:39     1613.0   \n",
       "2     2019-05-03 11:16:18      1571.0 2019-05-03 11:30:39     1613.0   \n",
       "3     2019-05-03 11:16:18      1571.0 2019-05-03 11:30:39     1613.0   \n",
       "4     2019-05-03 11:16:18      1571.0 2019-05-03 11:30:39     1613.0   \n",
       "...                   ...         ...                 ...        ...   \n",
       "11444 2019-08-06 02:03:49      1591.0 2019-08-06 02:25:31     1594.0   \n",
       "11445 2019-08-06 02:40:25      1569.0 2019-08-06 03:00:28     1603.0   \n",
       "11446 2019-08-06 02:40:25      1569.0 2019-08-06 03:00:28     1603.0   \n",
       "11447 2019-08-06 02:40:25      1569.0 2019-08-06 03:00:28     1603.0   \n",
       "11448 2019-08-06 02:40:25      1569.0 2019-08-06 03:00:28     1603.0   \n",
       "\n",
       "       condition  \n",
       "0          False  \n",
       "1          False  \n",
       "2          False  \n",
       "3           True  \n",
       "4           True  \n",
       "...          ...  \n",
       "11444       True  \n",
       "11445      False  \n",
       "11446       True  \n",
       "11447       True  \n",
       "11448       True  \n",
       "\n",
       "[11449 rows x 9 columns]"
      ]
     },
     "metadata": {},
     "output_type": "display_data"
    }
   ],
   "source": [
    "display(data)"
   ]
  },
  {
   "cell_type": "markdown",
   "id": "material-detroit",
   "metadata": {},
   "source": [
    "Оставим только те строки, в которых условие выполняется."
   ]
  },
  {
   "cell_type": "code",
   "execution_count": 39,
   "id": "parental-joint",
   "metadata": {},
   "outputs": [
    {
     "data": {
      "text/html": [
       "<div>\n",
       "<style scoped>\n",
       "    .dataframe tbody tr th:only-of-type {\n",
       "        vertical-align: middle;\n",
       "    }\n",
       "\n",
       "    .dataframe tbody tr th {\n",
       "        vertical-align: top;\n",
       "    }\n",
       "\n",
       "    .dataframe thead th {\n",
       "        text-align: right;\n",
       "    }\n",
       "</style>\n",
       "<table border=\"1\" class=\"dataframe\">\n",
       "  <thead>\n",
       "    <tr style=\"text-align: right;\">\n",
       "      <th></th>\n",
       "      <th>key</th>\n",
       "      <th>heating_start_time</th>\n",
       "      <th>heating_end_time</th>\n",
       "      <th>work_energy</th>\n",
       "      <th>first_time</th>\n",
       "      <th>first_temp</th>\n",
       "      <th>last_time</th>\n",
       "      <th>last_temp</th>\n",
       "      <th>condition</th>\n",
       "    </tr>\n",
       "  </thead>\n",
       "  <tbody>\n",
       "    <tr>\n",
       "      <th>0</th>\n",
       "      <td>1</td>\n",
       "      <td>2019-05-03 11:18:14</td>\n",
       "      <td>2019-05-03 11:24:19</td>\n",
       "      <td>605.667332</td>\n",
       "      <td>2019-05-03 11:16:18</td>\n",
       "      <td>1571.0</td>\n",
       "      <td>2019-05-03 11:30:39</td>\n",
       "      <td>1613.0</td>\n",
       "      <td>True</td>\n",
       "    </tr>\n",
       "    <tr>\n",
       "      <th>1</th>\n",
       "      <td>1</td>\n",
       "      <td>2019-05-03 11:26:09</td>\n",
       "      <td>2019-05-03 11:28:37</td>\n",
       "      <td>102.527702</td>\n",
       "      <td>2019-05-03 11:16:18</td>\n",
       "      <td>1571.0</td>\n",
       "      <td>2019-05-03 11:30:39</td>\n",
       "      <td>1613.0</td>\n",
       "      <td>True</td>\n",
       "    </tr>\n",
       "    <tr>\n",
       "      <th>2</th>\n",
       "      <td>2</td>\n",
       "      <td>2019-05-03 11:38:50</td>\n",
       "      <td>2019-05-03 11:44:28</td>\n",
       "      <td>438.188301</td>\n",
       "      <td>2019-05-03 11:37:27</td>\n",
       "      <td>1581.0</td>\n",
       "      <td>2019-05-03 11:59:12</td>\n",
       "      <td>1602.0</td>\n",
       "      <td>True</td>\n",
       "    </tr>\n",
       "    <tr>\n",
       "      <th>3</th>\n",
       "      <td>2</td>\n",
       "      <td>2019-05-03 11:46:19</td>\n",
       "      <td>2019-05-03 11:48:25</td>\n",
       "      <td>61.787451</td>\n",
       "      <td>2019-05-03 11:37:27</td>\n",
       "      <td>1581.0</td>\n",
       "      <td>2019-05-03 11:59:12</td>\n",
       "      <td>1602.0</td>\n",
       "      <td>True</td>\n",
       "    </tr>\n",
       "    <tr>\n",
       "      <th>4</th>\n",
       "      <td>2</td>\n",
       "      <td>2019-05-03 11:49:48</td>\n",
       "      <td>2019-05-03 11:53:18</td>\n",
       "      <td>173.826041</td>\n",
       "      <td>2019-05-03 11:37:27</td>\n",
       "      <td>1581.0</td>\n",
       "      <td>2019-05-03 11:59:12</td>\n",
       "      <td>1602.0</td>\n",
       "      <td>True</td>\n",
       "    </tr>\n",
       "    <tr>\n",
       "      <th>...</th>\n",
       "      <td>...</td>\n",
       "      <td>...</td>\n",
       "      <td>...</td>\n",
       "      <td>...</td>\n",
       "      <td>...</td>\n",
       "      <td>...</td>\n",
       "      <td>...</td>\n",
       "      <td>...</td>\n",
       "      <td>...</td>\n",
       "    </tr>\n",
       "    <tr>\n",
       "      <th>8640</th>\n",
       "      <td>2498</td>\n",
       "      <td>2019-08-06 02:12:24</td>\n",
       "      <td>2019-08-06 02:15:37</td>\n",
       "      <td>172.281014</td>\n",
       "      <td>2019-08-06 02:03:49</td>\n",
       "      <td>1591.0</td>\n",
       "      <td>2019-08-06 02:25:31</td>\n",
       "      <td>1594.0</td>\n",
       "      <td>True</td>\n",
       "    </tr>\n",
       "    <tr>\n",
       "      <th>8641</th>\n",
       "      <td>2498</td>\n",
       "      <td>2019-08-06 02:19:43</td>\n",
       "      <td>2019-08-06 02:20:24</td>\n",
       "      <td>7.388752</td>\n",
       "      <td>2019-08-06 02:03:49</td>\n",
       "      <td>1591.0</td>\n",
       "      <td>2019-08-06 02:25:31</td>\n",
       "      <td>1594.0</td>\n",
       "      <td>True</td>\n",
       "    </tr>\n",
       "    <tr>\n",
       "      <th>8642</th>\n",
       "      <td>2499</td>\n",
       "      <td>2019-08-06 02:41:09</td>\n",
       "      <td>2019-08-06 02:44:34</td>\n",
       "      <td>200.573342</td>\n",
       "      <td>2019-08-06 02:40:25</td>\n",
       "      <td>1569.0</td>\n",
       "      <td>2019-08-06 03:00:28</td>\n",
       "      <td>1603.0</td>\n",
       "      <td>True</td>\n",
       "    </tr>\n",
       "    <tr>\n",
       "      <th>8643</th>\n",
       "      <td>2499</td>\n",
       "      <td>2019-08-06 02:46:03</td>\n",
       "      <td>2019-08-06 02:50:58</td>\n",
       "      <td>407.472872</td>\n",
       "      <td>2019-08-06 02:40:25</td>\n",
       "      <td>1569.0</td>\n",
       "      <td>2019-08-06 03:00:28</td>\n",
       "      <td>1603.0</td>\n",
       "      <td>True</td>\n",
       "    </tr>\n",
       "    <tr>\n",
       "      <th>8644</th>\n",
       "      <td>2499</td>\n",
       "      <td>2019-08-06 02:54:31</td>\n",
       "      <td>2019-08-06 02:55:42</td>\n",
       "      <td>22.215414</td>\n",
       "      <td>2019-08-06 02:40:25</td>\n",
       "      <td>1569.0</td>\n",
       "      <td>2019-08-06 03:00:28</td>\n",
       "      <td>1603.0</td>\n",
       "      <td>True</td>\n",
       "    </tr>\n",
       "  </tbody>\n",
       "</table>\n",
       "<p>8645 rows × 9 columns</p>\n",
       "</div>"
      ],
      "text/plain": [
       "       key  heating_start_time    heating_end_time  work_energy  \\\n",
       "0        1 2019-05-03 11:18:14 2019-05-03 11:24:19   605.667332   \n",
       "1        1 2019-05-03 11:26:09 2019-05-03 11:28:37   102.527702   \n",
       "2        2 2019-05-03 11:38:50 2019-05-03 11:44:28   438.188301   \n",
       "3        2 2019-05-03 11:46:19 2019-05-03 11:48:25    61.787451   \n",
       "4        2 2019-05-03 11:49:48 2019-05-03 11:53:18   173.826041   \n",
       "...    ...                 ...                 ...          ...   \n",
       "8640  2498 2019-08-06 02:12:24 2019-08-06 02:15:37   172.281014   \n",
       "8641  2498 2019-08-06 02:19:43 2019-08-06 02:20:24     7.388752   \n",
       "8642  2499 2019-08-06 02:41:09 2019-08-06 02:44:34   200.573342   \n",
       "8643  2499 2019-08-06 02:46:03 2019-08-06 02:50:58   407.472872   \n",
       "8644  2499 2019-08-06 02:54:31 2019-08-06 02:55:42    22.215414   \n",
       "\n",
       "              first_time  first_temp           last_time  last_temp  condition  \n",
       "0    2019-05-03 11:16:18      1571.0 2019-05-03 11:30:39     1613.0       True  \n",
       "1    2019-05-03 11:16:18      1571.0 2019-05-03 11:30:39     1613.0       True  \n",
       "2    2019-05-03 11:37:27      1581.0 2019-05-03 11:59:12     1602.0       True  \n",
       "3    2019-05-03 11:37:27      1581.0 2019-05-03 11:59:12     1602.0       True  \n",
       "4    2019-05-03 11:37:27      1581.0 2019-05-03 11:59:12     1602.0       True  \n",
       "...                  ...         ...                 ...        ...        ...  \n",
       "8640 2019-08-06 02:03:49      1591.0 2019-08-06 02:25:31     1594.0       True  \n",
       "8641 2019-08-06 02:03:49      1591.0 2019-08-06 02:25:31     1594.0       True  \n",
       "8642 2019-08-06 02:40:25      1569.0 2019-08-06 03:00:28     1603.0       True  \n",
       "8643 2019-08-06 02:40:25      1569.0 2019-08-06 03:00:28     1603.0       True  \n",
       "8644 2019-08-06 02:40:25      1569.0 2019-08-06 03:00:28     1603.0       True  \n",
       "\n",
       "[8645 rows x 9 columns]"
      ]
     },
     "metadata": {},
     "output_type": "display_data"
    }
   ],
   "source": [
    "data = data[data['condition'] == True]\n",
    "data = data.reset_index(drop=True)\n",
    "display(data)"
   ]
  },
  {
   "cell_type": "markdown",
   "id": "civilian-leave",
   "metadata": {},
   "source": [
    "Теперь мы можем суммировать потраченную работу на нагрев для каждой партии. А также мы можем избавиться от столбцов \"heating_start_time\" и \"heating_end_time\""
   ]
  },
  {
   "cell_type": "code",
   "execution_count": 40,
   "id": "imposed-morocco",
   "metadata": {},
   "outputs": [
    {
     "data": {
      "text/html": [
       "<div>\n",
       "<style scoped>\n",
       "    .dataframe tbody tr th:only-of-type {\n",
       "        vertical-align: middle;\n",
       "    }\n",
       "\n",
       "    .dataframe tbody tr th {\n",
       "        vertical-align: top;\n",
       "    }\n",
       "\n",
       "    .dataframe thead th {\n",
       "        text-align: right;\n",
       "    }\n",
       "</style>\n",
       "<table border=\"1\" class=\"dataframe\">\n",
       "  <thead>\n",
       "    <tr style=\"text-align: right;\">\n",
       "      <th></th>\n",
       "      <th>key</th>\n",
       "      <th>work_energy</th>\n",
       "      <th>first_time</th>\n",
       "      <th>first_temp</th>\n",
       "      <th>last_time</th>\n",
       "      <th>last_temp</th>\n",
       "    </tr>\n",
       "  </thead>\n",
       "  <tbody>\n",
       "    <tr>\n",
       "      <th>0</th>\n",
       "      <td>1</td>\n",
       "      <td>605.667332</td>\n",
       "      <td>2019-05-03 11:16:18</td>\n",
       "      <td>1571.0</td>\n",
       "      <td>2019-05-03 11:30:39</td>\n",
       "      <td>1613.0</td>\n",
       "    </tr>\n",
       "    <tr>\n",
       "      <th>1</th>\n",
       "      <td>1</td>\n",
       "      <td>102.527702</td>\n",
       "      <td>2019-05-03 11:16:18</td>\n",
       "      <td>1571.0</td>\n",
       "      <td>2019-05-03 11:30:39</td>\n",
       "      <td>1613.0</td>\n",
       "    </tr>\n",
       "    <tr>\n",
       "      <th>2</th>\n",
       "      <td>2</td>\n",
       "      <td>438.188301</td>\n",
       "      <td>2019-05-03 11:37:27</td>\n",
       "      <td>1581.0</td>\n",
       "      <td>2019-05-03 11:59:12</td>\n",
       "      <td>1602.0</td>\n",
       "    </tr>\n",
       "    <tr>\n",
       "      <th>3</th>\n",
       "      <td>2</td>\n",
       "      <td>61.787451</td>\n",
       "      <td>2019-05-03 11:37:27</td>\n",
       "      <td>1581.0</td>\n",
       "      <td>2019-05-03 11:59:12</td>\n",
       "      <td>1602.0</td>\n",
       "    </tr>\n",
       "    <tr>\n",
       "      <th>4</th>\n",
       "      <td>2</td>\n",
       "      <td>173.826041</td>\n",
       "      <td>2019-05-03 11:37:27</td>\n",
       "      <td>1581.0</td>\n",
       "      <td>2019-05-03 11:59:12</td>\n",
       "      <td>1602.0</td>\n",
       "    </tr>\n",
       "    <tr>\n",
       "      <th>...</th>\n",
       "      <td>...</td>\n",
       "      <td>...</td>\n",
       "      <td>...</td>\n",
       "      <td>...</td>\n",
       "      <td>...</td>\n",
       "      <td>...</td>\n",
       "    </tr>\n",
       "    <tr>\n",
       "      <th>8640</th>\n",
       "      <td>2498</td>\n",
       "      <td>172.281014</td>\n",
       "      <td>2019-08-06 02:03:49</td>\n",
       "      <td>1591.0</td>\n",
       "      <td>2019-08-06 02:25:31</td>\n",
       "      <td>1594.0</td>\n",
       "    </tr>\n",
       "    <tr>\n",
       "      <th>8641</th>\n",
       "      <td>2498</td>\n",
       "      <td>7.388752</td>\n",
       "      <td>2019-08-06 02:03:49</td>\n",
       "      <td>1591.0</td>\n",
       "      <td>2019-08-06 02:25:31</td>\n",
       "      <td>1594.0</td>\n",
       "    </tr>\n",
       "    <tr>\n",
       "      <th>8642</th>\n",
       "      <td>2499</td>\n",
       "      <td>200.573342</td>\n",
       "      <td>2019-08-06 02:40:25</td>\n",
       "      <td>1569.0</td>\n",
       "      <td>2019-08-06 03:00:28</td>\n",
       "      <td>1603.0</td>\n",
       "    </tr>\n",
       "    <tr>\n",
       "      <th>8643</th>\n",
       "      <td>2499</td>\n",
       "      <td>407.472872</td>\n",
       "      <td>2019-08-06 02:40:25</td>\n",
       "      <td>1569.0</td>\n",
       "      <td>2019-08-06 03:00:28</td>\n",
       "      <td>1603.0</td>\n",
       "    </tr>\n",
       "    <tr>\n",
       "      <th>8644</th>\n",
       "      <td>2499</td>\n",
       "      <td>22.215414</td>\n",
       "      <td>2019-08-06 02:40:25</td>\n",
       "      <td>1569.0</td>\n",
       "      <td>2019-08-06 03:00:28</td>\n",
       "      <td>1603.0</td>\n",
       "    </tr>\n",
       "  </tbody>\n",
       "</table>\n",
       "<p>8645 rows × 6 columns</p>\n",
       "</div>"
      ],
      "text/plain": [
       "       key  work_energy          first_time  first_temp           last_time  \\\n",
       "0        1   605.667332 2019-05-03 11:16:18      1571.0 2019-05-03 11:30:39   \n",
       "1        1   102.527702 2019-05-03 11:16:18      1571.0 2019-05-03 11:30:39   \n",
       "2        2   438.188301 2019-05-03 11:37:27      1581.0 2019-05-03 11:59:12   \n",
       "3        2    61.787451 2019-05-03 11:37:27      1581.0 2019-05-03 11:59:12   \n",
       "4        2   173.826041 2019-05-03 11:37:27      1581.0 2019-05-03 11:59:12   \n",
       "...    ...          ...                 ...         ...                 ...   \n",
       "8640  2498   172.281014 2019-08-06 02:03:49      1591.0 2019-08-06 02:25:31   \n",
       "8641  2498     7.388752 2019-08-06 02:03:49      1591.0 2019-08-06 02:25:31   \n",
       "8642  2499   200.573342 2019-08-06 02:40:25      1569.0 2019-08-06 03:00:28   \n",
       "8643  2499   407.472872 2019-08-06 02:40:25      1569.0 2019-08-06 03:00:28   \n",
       "8644  2499    22.215414 2019-08-06 02:40:25      1569.0 2019-08-06 03:00:28   \n",
       "\n",
       "      last_temp  \n",
       "0        1613.0  \n",
       "1        1613.0  \n",
       "2        1602.0  \n",
       "3        1602.0  \n",
       "4        1602.0  \n",
       "...         ...  \n",
       "8640     1594.0  \n",
       "8641     1594.0  \n",
       "8642     1603.0  \n",
       "8643     1603.0  \n",
       "8644     1603.0  \n",
       "\n",
       "[8645 rows x 6 columns]"
      ]
     },
     "metadata": {},
     "output_type": "display_data"
    }
   ],
   "source": [
    "data = data[['key', 'work_energy', 'first_time',\n",
    "             'first_temp', 'last_time', 'last_temp']]\n",
    "display(data)"
   ]
  },
  {
   "cell_type": "code",
   "execution_count": 41,
   "id": "demographic-algebra",
   "metadata": {},
   "outputs": [],
   "source": [
    "data = data.groupby(by=['key', 'first_time', 'first_temp', 'last_time', 'last_temp'])[\n",
    "    'work_energy'].sum().reset_index()"
   ]
  },
  {
   "cell_type": "code",
   "execution_count": 42,
   "id": "nearby-rehabilitation",
   "metadata": {},
   "outputs": [
    {
     "data": {
      "text/html": [
       "<div>\n",
       "<style scoped>\n",
       "    .dataframe tbody tr th:only-of-type {\n",
       "        vertical-align: middle;\n",
       "    }\n",
       "\n",
       "    .dataframe tbody tr th {\n",
       "        vertical-align: top;\n",
       "    }\n",
       "\n",
       "    .dataframe thead th {\n",
       "        text-align: right;\n",
       "    }\n",
       "</style>\n",
       "<table border=\"1\" class=\"dataframe\">\n",
       "  <thead>\n",
       "    <tr style=\"text-align: right;\">\n",
       "      <th></th>\n",
       "      <th>key</th>\n",
       "      <th>first_time</th>\n",
       "      <th>first_temp</th>\n",
       "      <th>last_time</th>\n",
       "      <th>last_temp</th>\n",
       "      <th>work_energy</th>\n",
       "    </tr>\n",
       "  </thead>\n",
       "  <tbody>\n",
       "    <tr>\n",
       "      <th>0</th>\n",
       "      <td>1</td>\n",
       "      <td>2019-05-03 11:16:18</td>\n",
       "      <td>1571.0</td>\n",
       "      <td>2019-05-03 11:30:39</td>\n",
       "      <td>1613.0</td>\n",
       "      <td>708.195035</td>\n",
       "    </tr>\n",
       "    <tr>\n",
       "      <th>1</th>\n",
       "      <td>2</td>\n",
       "      <td>2019-05-03 11:37:27</td>\n",
       "      <td>1581.0</td>\n",
       "      <td>2019-05-03 11:59:12</td>\n",
       "      <td>1602.0</td>\n",
       "      <td>673.801792</td>\n",
       "    </tr>\n",
       "    <tr>\n",
       "      <th>2</th>\n",
       "      <td>3</td>\n",
       "      <td>2019-05-03 12:13:17</td>\n",
       "      <td>1596.0</td>\n",
       "      <td>2019-05-03 12:34:57</td>\n",
       "      <td>1599.0</td>\n",
       "      <td>146.208505</td>\n",
       "    </tr>\n",
       "    <tr>\n",
       "      <th>3</th>\n",
       "      <td>4</td>\n",
       "      <td>2019-05-03 12:52:57</td>\n",
       "      <td>1601.0</td>\n",
       "      <td>2019-05-03 12:59:25</td>\n",
       "      <td>1625.0</td>\n",
       "      <td>339.425494</td>\n",
       "    </tr>\n",
       "    <tr>\n",
       "      <th>4</th>\n",
       "      <td>5</td>\n",
       "      <td>2019-05-03 13:23:19</td>\n",
       "      <td>1576.0</td>\n",
       "      <td>2019-05-03 13:36:01</td>\n",
       "      <td>1602.0</td>\n",
       "      <td>691.980241</td>\n",
       "    </tr>\n",
       "    <tr>\n",
       "      <th>...</th>\n",
       "      <td>...</td>\n",
       "      <td>...</td>\n",
       "      <td>...</td>\n",
       "      <td>...</td>\n",
       "      <td>...</td>\n",
       "      <td>...</td>\n",
       "    </tr>\n",
       "    <tr>\n",
       "      <th>2436</th>\n",
       "      <td>2495</td>\n",
       "      <td>2019-08-06 00:35:45</td>\n",
       "      <td>1570.0</td>\n",
       "      <td>2019-08-06 00:54:42</td>\n",
       "      <td>1591.0</td>\n",
       "      <td>445.038010</td>\n",
       "    </tr>\n",
       "    <tr>\n",
       "      <th>2437</th>\n",
       "      <td>2496</td>\n",
       "      <td>2019-08-06 01:02:54</td>\n",
       "      <td>1554.0</td>\n",
       "      <td>2019-08-06 01:29:52</td>\n",
       "      <td>1591.0</td>\n",
       "      <td>681.813857</td>\n",
       "    </tr>\n",
       "    <tr>\n",
       "      <th>2438</th>\n",
       "      <td>2497</td>\n",
       "      <td>2019-08-06 01:41:53</td>\n",
       "      <td>1571.0</td>\n",
       "      <td>2019-08-06 01:53:50</td>\n",
       "      <td>1589.0</td>\n",
       "      <td>336.902188</td>\n",
       "    </tr>\n",
       "    <tr>\n",
       "      <th>2439</th>\n",
       "      <td>2498</td>\n",
       "      <td>2019-08-06 02:03:49</td>\n",
       "      <td>1591.0</td>\n",
       "      <td>2019-08-06 02:25:31</td>\n",
       "      <td>1594.0</td>\n",
       "      <td>332.227571</td>\n",
       "    </tr>\n",
       "    <tr>\n",
       "      <th>2440</th>\n",
       "      <td>2499</td>\n",
       "      <td>2019-08-06 02:40:25</td>\n",
       "      <td>1569.0</td>\n",
       "      <td>2019-08-06 03:00:28</td>\n",
       "      <td>1603.0</td>\n",
       "      <td>630.261628</td>\n",
       "    </tr>\n",
       "  </tbody>\n",
       "</table>\n",
       "<p>2441 rows × 6 columns</p>\n",
       "</div>"
      ],
      "text/plain": [
       "       key          first_time  first_temp           last_time  last_temp  \\\n",
       "0        1 2019-05-03 11:16:18      1571.0 2019-05-03 11:30:39     1613.0   \n",
       "1        2 2019-05-03 11:37:27      1581.0 2019-05-03 11:59:12     1602.0   \n",
       "2        3 2019-05-03 12:13:17      1596.0 2019-05-03 12:34:57     1599.0   \n",
       "3        4 2019-05-03 12:52:57      1601.0 2019-05-03 12:59:25     1625.0   \n",
       "4        5 2019-05-03 13:23:19      1576.0 2019-05-03 13:36:01     1602.0   \n",
       "...    ...                 ...         ...                 ...        ...   \n",
       "2436  2495 2019-08-06 00:35:45      1570.0 2019-08-06 00:54:42     1591.0   \n",
       "2437  2496 2019-08-06 01:02:54      1554.0 2019-08-06 01:29:52     1591.0   \n",
       "2438  2497 2019-08-06 01:41:53      1571.0 2019-08-06 01:53:50     1589.0   \n",
       "2439  2498 2019-08-06 02:03:49      1591.0 2019-08-06 02:25:31     1594.0   \n",
       "2440  2499 2019-08-06 02:40:25      1569.0 2019-08-06 03:00:28     1603.0   \n",
       "\n",
       "      work_energy  \n",
       "0      708.195035  \n",
       "1      673.801792  \n",
       "2      146.208505  \n",
       "3      339.425494  \n",
       "4      691.980241  \n",
       "...           ...  \n",
       "2436   445.038010  \n",
       "2437   681.813857  \n",
       "2438   336.902188  \n",
       "2439   332.227571  \n",
       "2440   630.261628  \n",
       "\n",
       "[2441 rows x 6 columns]"
      ]
     },
     "metadata": {},
     "output_type": "display_data"
    }
   ],
   "source": [
    "display(data)"
   ]
  },
  {
   "cell_type": "markdown",
   "id": "amazing-suspect",
   "metadata": {},
   "source": [
    "Вероятно, полученные данные уже обеспечат нам некоторую точность модели. Однако необходимо учесть добавление сыпучих материалов и проволочных материалов."
   ]
  },
  {
   "cell_type": "markdown",
   "id": "incoming-hunger",
   "metadata": {},
   "source": [
    "### data_bulk и data_bulk_time — данные о подаче сыпучих материалов (объём и время соответственно)"
   ]
  },
  {
   "cell_type": "code",
   "execution_count": 43,
   "id": "crude-heritage",
   "metadata": {},
   "outputs": [
    {
     "name": "stdout",
     "output_type": "stream",
     "text": [
      "<class 'pandas.core.frame.DataFrame'>\n",
      "RangeIndex: 3129 entries, 0 to 3128\n",
      "Data columns (total 16 columns):\n",
      " #   Column   Non-Null Count  Dtype  \n",
      "---  ------   --------------  -----  \n",
      " 0   key      3129 non-null   int64  \n",
      " 1   Bulk 1   252 non-null    float64\n",
      " 2   Bulk 2   22 non-null     float64\n",
      " 3   Bulk 3   1298 non-null   float64\n",
      " 4   Bulk 4   1014 non-null   float64\n",
      " 5   Bulk 5   77 non-null     float64\n",
      " 6   Bulk 6   576 non-null    float64\n",
      " 7   Bulk 7   25 non-null     float64\n",
      " 8   Bulk 8   1 non-null      float64\n",
      " 9   Bulk 9   19 non-null     float64\n",
      " 10  Bulk 10  176 non-null    float64\n",
      " 11  Bulk 11  177 non-null    float64\n",
      " 12  Bulk 12  2450 non-null   float64\n",
      " 13  Bulk 13  18 non-null     float64\n",
      " 14  Bulk 14  2806 non-null   float64\n",
      " 15  Bulk 15  2248 non-null   float64\n",
      "dtypes: float64(15), int64(1)\n",
      "memory usage: 391.2 KB\n"
     ]
    }
   ],
   "source": [
    "data_bulk.info()"
   ]
  },
  {
   "cell_type": "code",
   "execution_count": 44,
   "id": "electronic-approval",
   "metadata": {},
   "outputs": [
    {
     "data": {
      "text/html": [
       "<div>\n",
       "<style scoped>\n",
       "    .dataframe tbody tr th:only-of-type {\n",
       "        vertical-align: middle;\n",
       "    }\n",
       "\n",
       "    .dataframe tbody tr th {\n",
       "        vertical-align: top;\n",
       "    }\n",
       "\n",
       "    .dataframe thead th {\n",
       "        text-align: right;\n",
       "    }\n",
       "</style>\n",
       "<table border=\"1\" class=\"dataframe\">\n",
       "  <thead>\n",
       "    <tr style=\"text-align: right;\">\n",
       "      <th></th>\n",
       "      <th>key</th>\n",
       "      <th>Bulk 1</th>\n",
       "      <th>Bulk 2</th>\n",
       "      <th>Bulk 3</th>\n",
       "      <th>Bulk 4</th>\n",
       "      <th>Bulk 5</th>\n",
       "      <th>Bulk 6</th>\n",
       "      <th>Bulk 7</th>\n",
       "      <th>Bulk 8</th>\n",
       "      <th>Bulk 9</th>\n",
       "      <th>Bulk 10</th>\n",
       "      <th>Bulk 11</th>\n",
       "      <th>Bulk 12</th>\n",
       "      <th>Bulk 13</th>\n",
       "      <th>Bulk 14</th>\n",
       "      <th>Bulk 15</th>\n",
       "    </tr>\n",
       "  </thead>\n",
       "  <tbody>\n",
       "    <tr>\n",
       "      <th>0</th>\n",
       "      <td>1</td>\n",
       "      <td>NaN</td>\n",
       "      <td>NaN</td>\n",
       "      <td>NaN</td>\n",
       "      <td>43.0</td>\n",
       "      <td>NaN</td>\n",
       "      <td>NaN</td>\n",
       "      <td>NaN</td>\n",
       "      <td>NaN</td>\n",
       "      <td>NaN</td>\n",
       "      <td>NaN</td>\n",
       "      <td>NaN</td>\n",
       "      <td>206.0</td>\n",
       "      <td>NaN</td>\n",
       "      <td>150.0</td>\n",
       "      <td>154.0</td>\n",
       "    </tr>\n",
       "    <tr>\n",
       "      <th>1</th>\n",
       "      <td>2</td>\n",
       "      <td>NaN</td>\n",
       "      <td>NaN</td>\n",
       "      <td>NaN</td>\n",
       "      <td>73.0</td>\n",
       "      <td>NaN</td>\n",
       "      <td>NaN</td>\n",
       "      <td>NaN</td>\n",
       "      <td>NaN</td>\n",
       "      <td>NaN</td>\n",
       "      <td>NaN</td>\n",
       "      <td>NaN</td>\n",
       "      <td>206.0</td>\n",
       "      <td>NaN</td>\n",
       "      <td>149.0</td>\n",
       "      <td>154.0</td>\n",
       "    </tr>\n",
       "    <tr>\n",
       "      <th>2</th>\n",
       "      <td>3</td>\n",
       "      <td>NaN</td>\n",
       "      <td>NaN</td>\n",
       "      <td>NaN</td>\n",
       "      <td>34.0</td>\n",
       "      <td>NaN</td>\n",
       "      <td>NaN</td>\n",
       "      <td>NaN</td>\n",
       "      <td>NaN</td>\n",
       "      <td>NaN</td>\n",
       "      <td>NaN</td>\n",
       "      <td>NaN</td>\n",
       "      <td>205.0</td>\n",
       "      <td>NaN</td>\n",
       "      <td>152.0</td>\n",
       "      <td>153.0</td>\n",
       "    </tr>\n",
       "    <tr>\n",
       "      <th>3</th>\n",
       "      <td>4</td>\n",
       "      <td>NaN</td>\n",
       "      <td>NaN</td>\n",
       "      <td>NaN</td>\n",
       "      <td>81.0</td>\n",
       "      <td>NaN</td>\n",
       "      <td>NaN</td>\n",
       "      <td>NaN</td>\n",
       "      <td>NaN</td>\n",
       "      <td>NaN</td>\n",
       "      <td>NaN</td>\n",
       "      <td>NaN</td>\n",
       "      <td>207.0</td>\n",
       "      <td>NaN</td>\n",
       "      <td>153.0</td>\n",
       "      <td>154.0</td>\n",
       "    </tr>\n",
       "    <tr>\n",
       "      <th>4</th>\n",
       "      <td>5</td>\n",
       "      <td>NaN</td>\n",
       "      <td>NaN</td>\n",
       "      <td>NaN</td>\n",
       "      <td>78.0</td>\n",
       "      <td>NaN</td>\n",
       "      <td>NaN</td>\n",
       "      <td>NaN</td>\n",
       "      <td>NaN</td>\n",
       "      <td>NaN</td>\n",
       "      <td>NaN</td>\n",
       "      <td>NaN</td>\n",
       "      <td>203.0</td>\n",
       "      <td>NaN</td>\n",
       "      <td>151.0</td>\n",
       "      <td>152.0</td>\n",
       "    </tr>\n",
       "  </tbody>\n",
       "</table>\n",
       "</div>"
      ],
      "text/plain": [
       "   key  Bulk 1  Bulk 2  Bulk 3  Bulk 4  Bulk 5  Bulk 6  Bulk 7  Bulk 8  \\\n",
       "0    1     NaN     NaN     NaN    43.0     NaN     NaN     NaN     NaN   \n",
       "1    2     NaN     NaN     NaN    73.0     NaN     NaN     NaN     NaN   \n",
       "2    3     NaN     NaN     NaN    34.0     NaN     NaN     NaN     NaN   \n",
       "3    4     NaN     NaN     NaN    81.0     NaN     NaN     NaN     NaN   \n",
       "4    5     NaN     NaN     NaN    78.0     NaN     NaN     NaN     NaN   \n",
       "\n",
       "   Bulk 9  Bulk 10  Bulk 11  Bulk 12  Bulk 13  Bulk 14  Bulk 15  \n",
       "0     NaN      NaN      NaN    206.0      NaN    150.0    154.0  \n",
       "1     NaN      NaN      NaN    206.0      NaN    149.0    154.0  \n",
       "2     NaN      NaN      NaN    205.0      NaN    152.0    153.0  \n",
       "3     NaN      NaN      NaN    207.0      NaN    153.0    154.0  \n",
       "4     NaN      NaN      NaN    203.0      NaN    151.0    152.0  "
      ]
     },
     "execution_count": 44,
     "metadata": {},
     "output_type": "execute_result"
    }
   ],
   "source": [
    "data_bulk.head()"
   ]
  },
  {
   "cell_type": "markdown",
   "id": "christian-jefferson",
   "metadata": {},
   "source": [
    "Можно сразу заменить пропуски нулями."
   ]
  },
  {
   "cell_type": "code",
   "execution_count": 45,
   "id": "stable-lloyd",
   "metadata": {},
   "outputs": [],
   "source": [
    "data_bulk = data_bulk.fillna(0)"
   ]
  },
  {
   "cell_type": "code",
   "execution_count": 46,
   "id": "narrative-regulation",
   "metadata": {},
   "outputs": [
    {
     "data": {
      "text/html": [
       "<div>\n",
       "<style scoped>\n",
       "    .dataframe tbody tr th:only-of-type {\n",
       "        vertical-align: middle;\n",
       "    }\n",
       "\n",
       "    .dataframe tbody tr th {\n",
       "        vertical-align: top;\n",
       "    }\n",
       "\n",
       "    .dataframe thead th {\n",
       "        text-align: right;\n",
       "    }\n",
       "</style>\n",
       "<table border=\"1\" class=\"dataframe\">\n",
       "  <thead>\n",
       "    <tr style=\"text-align: right;\">\n",
       "      <th></th>\n",
       "      <th>key</th>\n",
       "      <th>Bulk 1</th>\n",
       "      <th>Bulk 2</th>\n",
       "      <th>Bulk 3</th>\n",
       "      <th>Bulk 4</th>\n",
       "      <th>Bulk 5</th>\n",
       "      <th>Bulk 6</th>\n",
       "      <th>Bulk 7</th>\n",
       "      <th>Bulk 8</th>\n",
       "      <th>Bulk 9</th>\n",
       "      <th>Bulk 10</th>\n",
       "      <th>Bulk 11</th>\n",
       "      <th>Bulk 12</th>\n",
       "      <th>Bulk 13</th>\n",
       "      <th>Bulk 14</th>\n",
       "      <th>Bulk 15</th>\n",
       "    </tr>\n",
       "  </thead>\n",
       "  <tbody>\n",
       "    <tr>\n",
       "      <th>0</th>\n",
       "      <td>1</td>\n",
       "      <td>0.0</td>\n",
       "      <td>0.0</td>\n",
       "      <td>0.0</td>\n",
       "      <td>43.0</td>\n",
       "      <td>0.0</td>\n",
       "      <td>0.0</td>\n",
       "      <td>0.0</td>\n",
       "      <td>0.0</td>\n",
       "      <td>0.0</td>\n",
       "      <td>0.0</td>\n",
       "      <td>0.0</td>\n",
       "      <td>206.0</td>\n",
       "      <td>0.0</td>\n",
       "      <td>150.0</td>\n",
       "      <td>154.0</td>\n",
       "    </tr>\n",
       "    <tr>\n",
       "      <th>1</th>\n",
       "      <td>2</td>\n",
       "      <td>0.0</td>\n",
       "      <td>0.0</td>\n",
       "      <td>0.0</td>\n",
       "      <td>73.0</td>\n",
       "      <td>0.0</td>\n",
       "      <td>0.0</td>\n",
       "      <td>0.0</td>\n",
       "      <td>0.0</td>\n",
       "      <td>0.0</td>\n",
       "      <td>0.0</td>\n",
       "      <td>0.0</td>\n",
       "      <td>206.0</td>\n",
       "      <td>0.0</td>\n",
       "      <td>149.0</td>\n",
       "      <td>154.0</td>\n",
       "    </tr>\n",
       "    <tr>\n",
       "      <th>2</th>\n",
       "      <td>3</td>\n",
       "      <td>0.0</td>\n",
       "      <td>0.0</td>\n",
       "      <td>0.0</td>\n",
       "      <td>34.0</td>\n",
       "      <td>0.0</td>\n",
       "      <td>0.0</td>\n",
       "      <td>0.0</td>\n",
       "      <td>0.0</td>\n",
       "      <td>0.0</td>\n",
       "      <td>0.0</td>\n",
       "      <td>0.0</td>\n",
       "      <td>205.0</td>\n",
       "      <td>0.0</td>\n",
       "      <td>152.0</td>\n",
       "      <td>153.0</td>\n",
       "    </tr>\n",
       "    <tr>\n",
       "      <th>3</th>\n",
       "      <td>4</td>\n",
       "      <td>0.0</td>\n",
       "      <td>0.0</td>\n",
       "      <td>0.0</td>\n",
       "      <td>81.0</td>\n",
       "      <td>0.0</td>\n",
       "      <td>0.0</td>\n",
       "      <td>0.0</td>\n",
       "      <td>0.0</td>\n",
       "      <td>0.0</td>\n",
       "      <td>0.0</td>\n",
       "      <td>0.0</td>\n",
       "      <td>207.0</td>\n",
       "      <td>0.0</td>\n",
       "      <td>153.0</td>\n",
       "      <td>154.0</td>\n",
       "    </tr>\n",
       "    <tr>\n",
       "      <th>4</th>\n",
       "      <td>5</td>\n",
       "      <td>0.0</td>\n",
       "      <td>0.0</td>\n",
       "      <td>0.0</td>\n",
       "      <td>78.0</td>\n",
       "      <td>0.0</td>\n",
       "      <td>0.0</td>\n",
       "      <td>0.0</td>\n",
       "      <td>0.0</td>\n",
       "      <td>0.0</td>\n",
       "      <td>0.0</td>\n",
       "      <td>0.0</td>\n",
       "      <td>203.0</td>\n",
       "      <td>0.0</td>\n",
       "      <td>151.0</td>\n",
       "      <td>152.0</td>\n",
       "    </tr>\n",
       "    <tr>\n",
       "      <th>...</th>\n",
       "      <td>...</td>\n",
       "      <td>...</td>\n",
       "      <td>...</td>\n",
       "      <td>...</td>\n",
       "      <td>...</td>\n",
       "      <td>...</td>\n",
       "      <td>...</td>\n",
       "      <td>...</td>\n",
       "      <td>...</td>\n",
       "      <td>...</td>\n",
       "      <td>...</td>\n",
       "      <td>...</td>\n",
       "      <td>...</td>\n",
       "      <td>...</td>\n",
       "      <td>...</td>\n",
       "      <td>...</td>\n",
       "    </tr>\n",
       "    <tr>\n",
       "      <th>3124</th>\n",
       "      <td>3237</td>\n",
       "      <td>0.0</td>\n",
       "      <td>0.0</td>\n",
       "      <td>170.0</td>\n",
       "      <td>0.0</td>\n",
       "      <td>0.0</td>\n",
       "      <td>0.0</td>\n",
       "      <td>0.0</td>\n",
       "      <td>0.0</td>\n",
       "      <td>0.0</td>\n",
       "      <td>0.0</td>\n",
       "      <td>0.0</td>\n",
       "      <td>252.0</td>\n",
       "      <td>0.0</td>\n",
       "      <td>130.0</td>\n",
       "      <td>206.0</td>\n",
       "    </tr>\n",
       "    <tr>\n",
       "      <th>3125</th>\n",
       "      <td>3238</td>\n",
       "      <td>0.0</td>\n",
       "      <td>0.0</td>\n",
       "      <td>126.0</td>\n",
       "      <td>0.0</td>\n",
       "      <td>0.0</td>\n",
       "      <td>0.0</td>\n",
       "      <td>0.0</td>\n",
       "      <td>0.0</td>\n",
       "      <td>0.0</td>\n",
       "      <td>0.0</td>\n",
       "      <td>0.0</td>\n",
       "      <td>254.0</td>\n",
       "      <td>0.0</td>\n",
       "      <td>108.0</td>\n",
       "      <td>106.0</td>\n",
       "    </tr>\n",
       "    <tr>\n",
       "      <th>3126</th>\n",
       "      <td>3239</td>\n",
       "      <td>0.0</td>\n",
       "      <td>0.0</td>\n",
       "      <td>0.0</td>\n",
       "      <td>0.0</td>\n",
       "      <td>0.0</td>\n",
       "      <td>114.0</td>\n",
       "      <td>0.0</td>\n",
       "      <td>0.0</td>\n",
       "      <td>0.0</td>\n",
       "      <td>0.0</td>\n",
       "      <td>0.0</td>\n",
       "      <td>158.0</td>\n",
       "      <td>0.0</td>\n",
       "      <td>270.0</td>\n",
       "      <td>88.0</td>\n",
       "    </tr>\n",
       "    <tr>\n",
       "      <th>3127</th>\n",
       "      <td>3240</td>\n",
       "      <td>0.0</td>\n",
       "      <td>0.0</td>\n",
       "      <td>0.0</td>\n",
       "      <td>0.0</td>\n",
       "      <td>0.0</td>\n",
       "      <td>26.0</td>\n",
       "      <td>0.0</td>\n",
       "      <td>0.0</td>\n",
       "      <td>0.0</td>\n",
       "      <td>0.0</td>\n",
       "      <td>0.0</td>\n",
       "      <td>0.0</td>\n",
       "      <td>0.0</td>\n",
       "      <td>192.0</td>\n",
       "      <td>54.0</td>\n",
       "    </tr>\n",
       "    <tr>\n",
       "      <th>3128</th>\n",
       "      <td>3241</td>\n",
       "      <td>0.0</td>\n",
       "      <td>0.0</td>\n",
       "      <td>0.0</td>\n",
       "      <td>0.0</td>\n",
       "      <td>0.0</td>\n",
       "      <td>0.0</td>\n",
       "      <td>0.0</td>\n",
       "      <td>0.0</td>\n",
       "      <td>0.0</td>\n",
       "      <td>0.0</td>\n",
       "      <td>0.0</td>\n",
       "      <td>0.0</td>\n",
       "      <td>0.0</td>\n",
       "      <td>180.0</td>\n",
       "      <td>52.0</td>\n",
       "    </tr>\n",
       "  </tbody>\n",
       "</table>\n",
       "<p>3129 rows × 16 columns</p>\n",
       "</div>"
      ],
      "text/plain": [
       "       key  Bulk 1  Bulk 2  Bulk 3  Bulk 4  Bulk 5  Bulk 6  Bulk 7  Bulk 8  \\\n",
       "0        1     0.0     0.0     0.0    43.0     0.0     0.0     0.0     0.0   \n",
       "1        2     0.0     0.0     0.0    73.0     0.0     0.0     0.0     0.0   \n",
       "2        3     0.0     0.0     0.0    34.0     0.0     0.0     0.0     0.0   \n",
       "3        4     0.0     0.0     0.0    81.0     0.0     0.0     0.0     0.0   \n",
       "4        5     0.0     0.0     0.0    78.0     0.0     0.0     0.0     0.0   \n",
       "...    ...     ...     ...     ...     ...     ...     ...     ...     ...   \n",
       "3124  3237     0.0     0.0   170.0     0.0     0.0     0.0     0.0     0.0   \n",
       "3125  3238     0.0     0.0   126.0     0.0     0.0     0.0     0.0     0.0   \n",
       "3126  3239     0.0     0.0     0.0     0.0     0.0   114.0     0.0     0.0   \n",
       "3127  3240     0.0     0.0     0.0     0.0     0.0    26.0     0.0     0.0   \n",
       "3128  3241     0.0     0.0     0.0     0.0     0.0     0.0     0.0     0.0   \n",
       "\n",
       "      Bulk 9  Bulk 10  Bulk 11  Bulk 12  Bulk 13  Bulk 14  Bulk 15  \n",
       "0        0.0      0.0      0.0    206.0      0.0    150.0    154.0  \n",
       "1        0.0      0.0      0.0    206.0      0.0    149.0    154.0  \n",
       "2        0.0      0.0      0.0    205.0      0.0    152.0    153.0  \n",
       "3        0.0      0.0      0.0    207.0      0.0    153.0    154.0  \n",
       "4        0.0      0.0      0.0    203.0      0.0    151.0    152.0  \n",
       "...      ...      ...      ...      ...      ...      ...      ...  \n",
       "3124     0.0      0.0      0.0    252.0      0.0    130.0    206.0  \n",
       "3125     0.0      0.0      0.0    254.0      0.0    108.0    106.0  \n",
       "3126     0.0      0.0      0.0    158.0      0.0    270.0     88.0  \n",
       "3127     0.0      0.0      0.0      0.0      0.0    192.0     54.0  \n",
       "3128     0.0      0.0      0.0      0.0      0.0    180.0     52.0  \n",
       "\n",
       "[3129 rows x 16 columns]"
      ]
     },
     "execution_count": 46,
     "metadata": {},
     "output_type": "execute_result"
    }
   ],
   "source": [
    "data_bulk"
   ]
  },
  {
   "cell_type": "markdown",
   "id": "conditional-familiar",
   "metadata": {},
   "source": [
    "По сути мы имеем дело с уже готовыми признаками, но есть проблема - их можно учитывать, только если соответствующее время добавление сыпучих материалов происходило между измерениями температуры."
   ]
  },
  {
   "cell_type": "code",
   "execution_count": 47,
   "id": "victorian-sheep",
   "metadata": {},
   "outputs": [
    {
     "name": "stdout",
     "output_type": "stream",
     "text": [
      "<class 'pandas.core.frame.DataFrame'>\n",
      "RangeIndex: 3129 entries, 0 to 3128\n",
      "Data columns (total 16 columns):\n",
      " #   Column   Non-Null Count  Dtype \n",
      "---  ------   --------------  ----- \n",
      " 0   key      3129 non-null   int64 \n",
      " 1   Bulk 1   252 non-null    object\n",
      " 2   Bulk 2   22 non-null     object\n",
      " 3   Bulk 3   1298 non-null   object\n",
      " 4   Bulk 4   1014 non-null   object\n",
      " 5   Bulk 5   77 non-null     object\n",
      " 6   Bulk 6   576 non-null    object\n",
      " 7   Bulk 7   25 non-null     object\n",
      " 8   Bulk 8   1 non-null      object\n",
      " 9   Bulk 9   19 non-null     object\n",
      " 10  Bulk 10  176 non-null    object\n",
      " 11  Bulk 11  177 non-null    object\n",
      " 12  Bulk 12  2450 non-null   object\n",
      " 13  Bulk 13  18 non-null     object\n",
      " 14  Bulk 14  2806 non-null   object\n",
      " 15  Bulk 15  2248 non-null   object\n",
      "dtypes: int64(1), object(15)\n",
      "memory usage: 391.2+ KB\n"
     ]
    }
   ],
   "source": [
    "data_bulk_time.info()"
   ]
  },
  {
   "cell_type": "code",
   "execution_count": 48,
   "id": "individual-elements",
   "metadata": {
    "scrolled": true
   },
   "outputs": [
    {
     "data": {
      "text/html": [
       "<div>\n",
       "<style scoped>\n",
       "    .dataframe tbody tr th:only-of-type {\n",
       "        vertical-align: middle;\n",
       "    }\n",
       "\n",
       "    .dataframe tbody tr th {\n",
       "        vertical-align: top;\n",
       "    }\n",
       "\n",
       "    .dataframe thead th {\n",
       "        text-align: right;\n",
       "    }\n",
       "</style>\n",
       "<table border=\"1\" class=\"dataframe\">\n",
       "  <thead>\n",
       "    <tr style=\"text-align: right;\">\n",
       "      <th></th>\n",
       "      <th>key</th>\n",
       "      <th>Bulk 1</th>\n",
       "      <th>Bulk 2</th>\n",
       "      <th>Bulk 3</th>\n",
       "      <th>Bulk 4</th>\n",
       "      <th>Bulk 5</th>\n",
       "      <th>Bulk 6</th>\n",
       "      <th>Bulk 7</th>\n",
       "      <th>Bulk 8</th>\n",
       "      <th>Bulk 9</th>\n",
       "      <th>Bulk 10</th>\n",
       "      <th>Bulk 11</th>\n",
       "      <th>Bulk 12</th>\n",
       "      <th>Bulk 13</th>\n",
       "      <th>Bulk 14</th>\n",
       "      <th>Bulk 15</th>\n",
       "    </tr>\n",
       "  </thead>\n",
       "  <tbody>\n",
       "    <tr>\n",
       "      <th>0</th>\n",
       "      <td>1</td>\n",
       "      <td>NaN</td>\n",
       "      <td>NaN</td>\n",
       "      <td>NaN</td>\n",
       "      <td>2019-05-03 11:21:30</td>\n",
       "      <td>NaN</td>\n",
       "      <td>NaN</td>\n",
       "      <td>NaN</td>\n",
       "      <td>NaN</td>\n",
       "      <td>NaN</td>\n",
       "      <td>NaN</td>\n",
       "      <td>NaN</td>\n",
       "      <td>2019-05-03 11:03:52</td>\n",
       "      <td>NaN</td>\n",
       "      <td>2019-05-03 11:03:52</td>\n",
       "      <td>2019-05-03 11:03:52</td>\n",
       "    </tr>\n",
       "    <tr>\n",
       "      <th>1</th>\n",
       "      <td>2</td>\n",
       "      <td>NaN</td>\n",
       "      <td>NaN</td>\n",
       "      <td>NaN</td>\n",
       "      <td>2019-05-03 11:46:38</td>\n",
       "      <td>NaN</td>\n",
       "      <td>NaN</td>\n",
       "      <td>NaN</td>\n",
       "      <td>NaN</td>\n",
       "      <td>NaN</td>\n",
       "      <td>NaN</td>\n",
       "      <td>NaN</td>\n",
       "      <td>2019-05-03 11:40:20</td>\n",
       "      <td>NaN</td>\n",
       "      <td>2019-05-03 11:40:20</td>\n",
       "      <td>2019-05-03 11:40:20</td>\n",
       "    </tr>\n",
       "    <tr>\n",
       "      <th>2</th>\n",
       "      <td>3</td>\n",
       "      <td>NaN</td>\n",
       "      <td>NaN</td>\n",
       "      <td>NaN</td>\n",
       "      <td>2019-05-03 12:31:06</td>\n",
       "      <td>NaN</td>\n",
       "      <td>NaN</td>\n",
       "      <td>NaN</td>\n",
       "      <td>NaN</td>\n",
       "      <td>NaN</td>\n",
       "      <td>NaN</td>\n",
       "      <td>NaN</td>\n",
       "      <td>2019-05-03 12:09:40</td>\n",
       "      <td>NaN</td>\n",
       "      <td>2019-05-03 12:09:40</td>\n",
       "      <td>2019-05-03 12:09:40</td>\n",
       "    </tr>\n",
       "    <tr>\n",
       "      <th>3</th>\n",
       "      <td>4</td>\n",
       "      <td>NaN</td>\n",
       "      <td>NaN</td>\n",
       "      <td>NaN</td>\n",
       "      <td>2019-05-03 12:48:43</td>\n",
       "      <td>NaN</td>\n",
       "      <td>NaN</td>\n",
       "      <td>NaN</td>\n",
       "      <td>NaN</td>\n",
       "      <td>NaN</td>\n",
       "      <td>NaN</td>\n",
       "      <td>NaN</td>\n",
       "      <td>2019-05-03 12:41:24</td>\n",
       "      <td>NaN</td>\n",
       "      <td>2019-05-03 12:41:24</td>\n",
       "      <td>2019-05-03 12:41:24</td>\n",
       "    </tr>\n",
       "    <tr>\n",
       "      <th>4</th>\n",
       "      <td>5</td>\n",
       "      <td>NaN</td>\n",
       "      <td>NaN</td>\n",
       "      <td>NaN</td>\n",
       "      <td>2019-05-03 13:18:50</td>\n",
       "      <td>NaN</td>\n",
       "      <td>NaN</td>\n",
       "      <td>NaN</td>\n",
       "      <td>NaN</td>\n",
       "      <td>NaN</td>\n",
       "      <td>NaN</td>\n",
       "      <td>NaN</td>\n",
       "      <td>2019-05-03 13:12:56</td>\n",
       "      <td>NaN</td>\n",
       "      <td>2019-05-03 13:12:56</td>\n",
       "      <td>2019-05-03 13:12:56</td>\n",
       "    </tr>\n",
       "  </tbody>\n",
       "</table>\n",
       "</div>"
      ],
      "text/plain": [
       "   key Bulk 1 Bulk 2 Bulk 3               Bulk 4 Bulk 5 Bulk 6 Bulk 7 Bulk 8  \\\n",
       "0    1    NaN    NaN    NaN  2019-05-03 11:21:30    NaN    NaN    NaN    NaN   \n",
       "1    2    NaN    NaN    NaN  2019-05-03 11:46:38    NaN    NaN    NaN    NaN   \n",
       "2    3    NaN    NaN    NaN  2019-05-03 12:31:06    NaN    NaN    NaN    NaN   \n",
       "3    4    NaN    NaN    NaN  2019-05-03 12:48:43    NaN    NaN    NaN    NaN   \n",
       "4    5    NaN    NaN    NaN  2019-05-03 13:18:50    NaN    NaN    NaN    NaN   \n",
       "\n",
       "  Bulk 9 Bulk 10 Bulk 11              Bulk 12 Bulk 13              Bulk 14  \\\n",
       "0    NaN     NaN     NaN  2019-05-03 11:03:52     NaN  2019-05-03 11:03:52   \n",
       "1    NaN     NaN     NaN  2019-05-03 11:40:20     NaN  2019-05-03 11:40:20   \n",
       "2    NaN     NaN     NaN  2019-05-03 12:09:40     NaN  2019-05-03 12:09:40   \n",
       "3    NaN     NaN     NaN  2019-05-03 12:41:24     NaN  2019-05-03 12:41:24   \n",
       "4    NaN     NaN     NaN  2019-05-03 13:12:56     NaN  2019-05-03 13:12:56   \n",
       "\n",
       "               Bulk 15  \n",
       "0  2019-05-03 11:03:52  \n",
       "1  2019-05-03 11:40:20  \n",
       "2  2019-05-03 12:09:40  \n",
       "3  2019-05-03 12:41:24  \n",
       "4  2019-05-03 13:12:56  "
      ]
     },
     "execution_count": 48,
     "metadata": {},
     "output_type": "execute_result"
    }
   ],
   "source": [
    "data_bulk_time.head()"
   ]
  },
  {
   "cell_type": "code",
   "execution_count": 49,
   "id": "filled-rogers",
   "metadata": {},
   "outputs": [
    {
     "data": {
      "text/plain": [
       "True    3129\n",
       "Name: key, dtype: int64"
      ]
     },
     "execution_count": 49,
     "metadata": {},
     "output_type": "execute_result"
    }
   ],
   "source": [
    "(data_bulk_time['key'] == data_bulk['key']).value_counts()"
   ]
  },
  {
   "cell_type": "markdown",
   "id": "driving-fruit",
   "metadata": {},
   "source": [
    "Можем сразу изменить тип данных на дату-время"
   ]
  },
  {
   "cell_type": "code",
   "execution_count": 50,
   "id": "angry-federal",
   "metadata": {},
   "outputs": [
    {
     "data": {
      "text/html": [
       "<div>\n",
       "<style scoped>\n",
       "    .dataframe tbody tr th:only-of-type {\n",
       "        vertical-align: middle;\n",
       "    }\n",
       "\n",
       "    .dataframe tbody tr th {\n",
       "        vertical-align: top;\n",
       "    }\n",
       "\n",
       "    .dataframe thead th {\n",
       "        text-align: right;\n",
       "    }\n",
       "</style>\n",
       "<table border=\"1\" class=\"dataframe\">\n",
       "  <thead>\n",
       "    <tr style=\"text-align: right;\">\n",
       "      <th></th>\n",
       "      <th>key</th>\n",
       "      <th>Bulk 1</th>\n",
       "      <th>Bulk 2</th>\n",
       "      <th>Bulk 3</th>\n",
       "      <th>Bulk 4</th>\n",
       "      <th>Bulk 5</th>\n",
       "      <th>Bulk 6</th>\n",
       "      <th>Bulk 7</th>\n",
       "      <th>Bulk 8</th>\n",
       "      <th>Bulk 9</th>\n",
       "      <th>Bulk 10</th>\n",
       "      <th>Bulk 11</th>\n",
       "      <th>Bulk 12</th>\n",
       "      <th>Bulk 13</th>\n",
       "      <th>Bulk 14</th>\n",
       "      <th>Bulk 15</th>\n",
       "    </tr>\n",
       "  </thead>\n",
       "  <tbody>\n",
       "    <tr>\n",
       "      <th>0</th>\n",
       "      <td>1</td>\n",
       "      <td>NaT</td>\n",
       "      <td>NaT</td>\n",
       "      <td>NaT</td>\n",
       "      <td>2019-05-03 11:21:30</td>\n",
       "      <td>NaT</td>\n",
       "      <td>NaT</td>\n",
       "      <td>NaT</td>\n",
       "      <td>NaT</td>\n",
       "      <td>NaT</td>\n",
       "      <td>NaT</td>\n",
       "      <td>NaT</td>\n",
       "      <td>2019-05-03 11:03:52</td>\n",
       "      <td>NaT</td>\n",
       "      <td>2019-05-03 11:03:52</td>\n",
       "      <td>2019-05-03 11:03:52</td>\n",
       "    </tr>\n",
       "    <tr>\n",
       "      <th>1</th>\n",
       "      <td>2</td>\n",
       "      <td>NaT</td>\n",
       "      <td>NaT</td>\n",
       "      <td>NaT</td>\n",
       "      <td>2019-05-03 11:46:38</td>\n",
       "      <td>NaT</td>\n",
       "      <td>NaT</td>\n",
       "      <td>NaT</td>\n",
       "      <td>NaT</td>\n",
       "      <td>NaT</td>\n",
       "      <td>NaT</td>\n",
       "      <td>NaT</td>\n",
       "      <td>2019-05-03 11:40:20</td>\n",
       "      <td>NaT</td>\n",
       "      <td>2019-05-03 11:40:20</td>\n",
       "      <td>2019-05-03 11:40:20</td>\n",
       "    </tr>\n",
       "    <tr>\n",
       "      <th>2</th>\n",
       "      <td>3</td>\n",
       "      <td>NaT</td>\n",
       "      <td>NaT</td>\n",
       "      <td>NaT</td>\n",
       "      <td>2019-05-03 12:31:06</td>\n",
       "      <td>NaT</td>\n",
       "      <td>NaT</td>\n",
       "      <td>NaT</td>\n",
       "      <td>NaT</td>\n",
       "      <td>NaT</td>\n",
       "      <td>NaT</td>\n",
       "      <td>NaT</td>\n",
       "      <td>2019-05-03 12:09:40</td>\n",
       "      <td>NaT</td>\n",
       "      <td>2019-05-03 12:09:40</td>\n",
       "      <td>2019-05-03 12:09:40</td>\n",
       "    </tr>\n",
       "    <tr>\n",
       "      <th>3</th>\n",
       "      <td>4</td>\n",
       "      <td>NaT</td>\n",
       "      <td>NaT</td>\n",
       "      <td>NaT</td>\n",
       "      <td>2019-05-03 12:48:43</td>\n",
       "      <td>NaT</td>\n",
       "      <td>NaT</td>\n",
       "      <td>NaT</td>\n",
       "      <td>NaT</td>\n",
       "      <td>NaT</td>\n",
       "      <td>NaT</td>\n",
       "      <td>NaT</td>\n",
       "      <td>2019-05-03 12:41:24</td>\n",
       "      <td>NaT</td>\n",
       "      <td>2019-05-03 12:41:24</td>\n",
       "      <td>2019-05-03 12:41:24</td>\n",
       "    </tr>\n",
       "    <tr>\n",
       "      <th>4</th>\n",
       "      <td>5</td>\n",
       "      <td>NaT</td>\n",
       "      <td>NaT</td>\n",
       "      <td>NaT</td>\n",
       "      <td>2019-05-03 13:18:50</td>\n",
       "      <td>NaT</td>\n",
       "      <td>NaT</td>\n",
       "      <td>NaT</td>\n",
       "      <td>NaT</td>\n",
       "      <td>NaT</td>\n",
       "      <td>NaT</td>\n",
       "      <td>NaT</td>\n",
       "      <td>2019-05-03 13:12:56</td>\n",
       "      <td>NaT</td>\n",
       "      <td>2019-05-03 13:12:56</td>\n",
       "      <td>2019-05-03 13:12:56</td>\n",
       "    </tr>\n",
       "    <tr>\n",
       "      <th>...</th>\n",
       "      <td>...</td>\n",
       "      <td>...</td>\n",
       "      <td>...</td>\n",
       "      <td>...</td>\n",
       "      <td>...</td>\n",
       "      <td>...</td>\n",
       "      <td>...</td>\n",
       "      <td>...</td>\n",
       "      <td>...</td>\n",
       "      <td>...</td>\n",
       "      <td>...</td>\n",
       "      <td>...</td>\n",
       "      <td>...</td>\n",
       "      <td>...</td>\n",
       "      <td>...</td>\n",
       "      <td>...</td>\n",
       "    </tr>\n",
       "    <tr>\n",
       "      <th>3124</th>\n",
       "      <td>3237</td>\n",
       "      <td>NaT</td>\n",
       "      <td>NaT</td>\n",
       "      <td>2019-08-31 22:51:28</td>\n",
       "      <td>NaT</td>\n",
       "      <td>NaT</td>\n",
       "      <td>NaT</td>\n",
       "      <td>NaT</td>\n",
       "      <td>NaT</td>\n",
       "      <td>NaT</td>\n",
       "      <td>NaT</td>\n",
       "      <td>NaT</td>\n",
       "      <td>2019-08-31 22:46:52</td>\n",
       "      <td>NaT</td>\n",
       "      <td>2019-08-31 22:46:52</td>\n",
       "      <td>2019-08-31 22:46:52</td>\n",
       "    </tr>\n",
       "    <tr>\n",
       "      <th>3125</th>\n",
       "      <td>3238</td>\n",
       "      <td>NaT</td>\n",
       "      <td>NaT</td>\n",
       "      <td>2019-08-31 23:39:11</td>\n",
       "      <td>NaT</td>\n",
       "      <td>NaT</td>\n",
       "      <td>NaT</td>\n",
       "      <td>NaT</td>\n",
       "      <td>NaT</td>\n",
       "      <td>NaT</td>\n",
       "      <td>NaT</td>\n",
       "      <td>NaT</td>\n",
       "      <td>2019-08-31 23:33:09</td>\n",
       "      <td>NaT</td>\n",
       "      <td>2019-08-31 23:33:09</td>\n",
       "      <td>2019-08-31 23:33:09</td>\n",
       "    </tr>\n",
       "    <tr>\n",
       "      <th>3126</th>\n",
       "      <td>3239</td>\n",
       "      <td>NaT</td>\n",
       "      <td>NaT</td>\n",
       "      <td>NaT</td>\n",
       "      <td>NaT</td>\n",
       "      <td>NaT</td>\n",
       "      <td>2019-09-01 01:51:58</td>\n",
       "      <td>NaT</td>\n",
       "      <td>NaT</td>\n",
       "      <td>NaT</td>\n",
       "      <td>NaT</td>\n",
       "      <td>NaT</td>\n",
       "      <td>2019-09-01 01:39:41</td>\n",
       "      <td>NaT</td>\n",
       "      <td>2019-09-01 01:33:25</td>\n",
       "      <td>2019-09-01 01:33:25</td>\n",
       "    </tr>\n",
       "    <tr>\n",
       "      <th>3127</th>\n",
       "      <td>3240</td>\n",
       "      <td>NaT</td>\n",
       "      <td>NaT</td>\n",
       "      <td>NaT</td>\n",
       "      <td>NaT</td>\n",
       "      <td>NaT</td>\n",
       "      <td>2019-09-01 03:12:40</td>\n",
       "      <td>NaT</td>\n",
       "      <td>NaT</td>\n",
       "      <td>NaT</td>\n",
       "      <td>NaT</td>\n",
       "      <td>NaT</td>\n",
       "      <td>NaT</td>\n",
       "      <td>NaT</td>\n",
       "      <td>2019-09-01 02:41:27</td>\n",
       "      <td>2019-09-01 02:41:27</td>\n",
       "    </tr>\n",
       "    <tr>\n",
       "      <th>3128</th>\n",
       "      <td>3241</td>\n",
       "      <td>NaT</td>\n",
       "      <td>NaT</td>\n",
       "      <td>NaT</td>\n",
       "      <td>NaT</td>\n",
       "      <td>NaT</td>\n",
       "      <td>NaT</td>\n",
       "      <td>NaT</td>\n",
       "      <td>NaT</td>\n",
       "      <td>NaT</td>\n",
       "      <td>NaT</td>\n",
       "      <td>NaT</td>\n",
       "      <td>NaT</td>\n",
       "      <td>NaT</td>\n",
       "      <td>2019-09-01 04:05:34</td>\n",
       "      <td>2019-09-01 04:05:34</td>\n",
       "    </tr>\n",
       "  </tbody>\n",
       "</table>\n",
       "<p>3129 rows × 16 columns</p>\n",
       "</div>"
      ],
      "text/plain": [
       "       key Bulk 1 Bulk 2              Bulk 3              Bulk 4 Bulk 5  \\\n",
       "0        1    NaT    NaT                 NaT 2019-05-03 11:21:30    NaT   \n",
       "1        2    NaT    NaT                 NaT 2019-05-03 11:46:38    NaT   \n",
       "2        3    NaT    NaT                 NaT 2019-05-03 12:31:06    NaT   \n",
       "3        4    NaT    NaT                 NaT 2019-05-03 12:48:43    NaT   \n",
       "4        5    NaT    NaT                 NaT 2019-05-03 13:18:50    NaT   \n",
       "...    ...    ...    ...                 ...                 ...    ...   \n",
       "3124  3237    NaT    NaT 2019-08-31 22:51:28                 NaT    NaT   \n",
       "3125  3238    NaT    NaT 2019-08-31 23:39:11                 NaT    NaT   \n",
       "3126  3239    NaT    NaT                 NaT                 NaT    NaT   \n",
       "3127  3240    NaT    NaT                 NaT                 NaT    NaT   \n",
       "3128  3241    NaT    NaT                 NaT                 NaT    NaT   \n",
       "\n",
       "                  Bulk 6 Bulk 7 Bulk 8 Bulk 9 Bulk 10 Bulk 11  \\\n",
       "0                    NaT    NaT    NaT    NaT     NaT     NaT   \n",
       "1                    NaT    NaT    NaT    NaT     NaT     NaT   \n",
       "2                    NaT    NaT    NaT    NaT     NaT     NaT   \n",
       "3                    NaT    NaT    NaT    NaT     NaT     NaT   \n",
       "4                    NaT    NaT    NaT    NaT     NaT     NaT   \n",
       "...                  ...    ...    ...    ...     ...     ...   \n",
       "3124                 NaT    NaT    NaT    NaT     NaT     NaT   \n",
       "3125                 NaT    NaT    NaT    NaT     NaT     NaT   \n",
       "3126 2019-09-01 01:51:58    NaT    NaT    NaT     NaT     NaT   \n",
       "3127 2019-09-01 03:12:40    NaT    NaT    NaT     NaT     NaT   \n",
       "3128                 NaT    NaT    NaT    NaT     NaT     NaT   \n",
       "\n",
       "                 Bulk 12 Bulk 13             Bulk 14             Bulk 15  \n",
       "0    2019-05-03 11:03:52     NaT 2019-05-03 11:03:52 2019-05-03 11:03:52  \n",
       "1    2019-05-03 11:40:20     NaT 2019-05-03 11:40:20 2019-05-03 11:40:20  \n",
       "2    2019-05-03 12:09:40     NaT 2019-05-03 12:09:40 2019-05-03 12:09:40  \n",
       "3    2019-05-03 12:41:24     NaT 2019-05-03 12:41:24 2019-05-03 12:41:24  \n",
       "4    2019-05-03 13:12:56     NaT 2019-05-03 13:12:56 2019-05-03 13:12:56  \n",
       "...                  ...     ...                 ...                 ...  \n",
       "3124 2019-08-31 22:46:52     NaT 2019-08-31 22:46:52 2019-08-31 22:46:52  \n",
       "3125 2019-08-31 23:33:09     NaT 2019-08-31 23:33:09 2019-08-31 23:33:09  \n",
       "3126 2019-09-01 01:39:41     NaT 2019-09-01 01:33:25 2019-09-01 01:33:25  \n",
       "3127                 NaT     NaT 2019-09-01 02:41:27 2019-09-01 02:41:27  \n",
       "3128                 NaT     NaT 2019-09-01 04:05:34 2019-09-01 04:05:34  \n",
       "\n",
       "[3129 rows x 16 columns]"
      ]
     },
     "metadata": {},
     "output_type": "display_data"
    }
   ],
   "source": [
    "for column in data_bulk_time.loc[:, data_bulk_time.columns != 'key'].columns:\n",
    "    data_bulk_time[column] = pd.to_datetime(\n",
    "        data_bulk_time[column], format='%Y-%m-%d %H:%M:%S')\n",
    "\n",
    "display(data_bulk_time)"
   ]
  },
  {
   "cell_type": "code",
   "execution_count": 51,
   "id": "experimental-digit",
   "metadata": {},
   "outputs": [
    {
     "name": "stdout",
     "output_type": "stream",
     "text": [
      "<class 'pandas.core.frame.DataFrame'>\n",
      "RangeIndex: 3129 entries, 0 to 3128\n",
      "Data columns (total 16 columns):\n",
      " #   Column   Non-Null Count  Dtype         \n",
      "---  ------   --------------  -----         \n",
      " 0   key      3129 non-null   int64         \n",
      " 1   Bulk 1   252 non-null    datetime64[ns]\n",
      " 2   Bulk 2   22 non-null     datetime64[ns]\n",
      " 3   Bulk 3   1298 non-null   datetime64[ns]\n",
      " 4   Bulk 4   1014 non-null   datetime64[ns]\n",
      " 5   Bulk 5   77 non-null     datetime64[ns]\n",
      " 6   Bulk 6   576 non-null    datetime64[ns]\n",
      " 7   Bulk 7   25 non-null     datetime64[ns]\n",
      " 8   Bulk 8   1 non-null      datetime64[ns]\n",
      " 9   Bulk 9   19 non-null     datetime64[ns]\n",
      " 10  Bulk 10  176 non-null    datetime64[ns]\n",
      " 11  Bulk 11  177 non-null    datetime64[ns]\n",
      " 12  Bulk 12  2450 non-null   datetime64[ns]\n",
      " 13  Bulk 13  18 non-null     datetime64[ns]\n",
      " 14  Bulk 14  2806 non-null   datetime64[ns]\n",
      " 15  Bulk 15  2248 non-null   datetime64[ns]\n",
      "dtypes: datetime64[ns](15), int64(1)\n",
      "memory usage: 391.2 KB\n"
     ]
    }
   ],
   "source": [
    "data_bulk_time.info()"
   ]
  },
  {
   "cell_type": "code",
   "execution_count": 52,
   "id": "certain-cable",
   "metadata": {},
   "outputs": [
    {
     "data": {
      "text/html": [
       "<div>\n",
       "<style scoped>\n",
       "    .dataframe tbody tr th:only-of-type {\n",
       "        vertical-align: middle;\n",
       "    }\n",
       "\n",
       "    .dataframe tbody tr th {\n",
       "        vertical-align: top;\n",
       "    }\n",
       "\n",
       "    .dataframe thead th {\n",
       "        text-align: right;\n",
       "    }\n",
       "</style>\n",
       "<table border=\"1\" class=\"dataframe\">\n",
       "  <thead>\n",
       "    <tr style=\"text-align: right;\">\n",
       "      <th></th>\n",
       "      <th>key</th>\n",
       "      <th>Bulk 1</th>\n",
       "      <th>Bulk 2</th>\n",
       "      <th>Bulk 3</th>\n",
       "      <th>Bulk 4</th>\n",
       "      <th>Bulk 5</th>\n",
       "      <th>Bulk 6</th>\n",
       "      <th>Bulk 7</th>\n",
       "      <th>Bulk 8</th>\n",
       "      <th>Bulk 9</th>\n",
       "      <th>Bulk 10</th>\n",
       "      <th>Bulk 11</th>\n",
       "      <th>Bulk 12</th>\n",
       "      <th>Bulk 13</th>\n",
       "      <th>Bulk 14</th>\n",
       "      <th>Bulk 15</th>\n",
       "      <th>first_time</th>\n",
       "      <th>first_temp</th>\n",
       "      <th>last_time</th>\n",
       "      <th>last_temp</th>\n",
       "    </tr>\n",
       "  </thead>\n",
       "  <tbody>\n",
       "    <tr>\n",
       "      <th>0</th>\n",
       "      <td>1</td>\n",
       "      <td>NaT</td>\n",
       "      <td>NaT</td>\n",
       "      <td>NaT</td>\n",
       "      <td>2019-05-03 11:21:30</td>\n",
       "      <td>NaT</td>\n",
       "      <td>NaT</td>\n",
       "      <td>NaT</td>\n",
       "      <td>NaT</td>\n",
       "      <td>NaT</td>\n",
       "      <td>NaT</td>\n",
       "      <td>NaT</td>\n",
       "      <td>2019-05-03 11:03:52</td>\n",
       "      <td>NaT</td>\n",
       "      <td>2019-05-03 11:03:52</td>\n",
       "      <td>2019-05-03 11:03:52</td>\n",
       "      <td>2019-05-03 11:16:18</td>\n",
       "      <td>1571.0</td>\n",
       "      <td>2019-05-03 11:30:39</td>\n",
       "      <td>1613.0</td>\n",
       "    </tr>\n",
       "    <tr>\n",
       "      <th>1</th>\n",
       "      <td>2</td>\n",
       "      <td>NaT</td>\n",
       "      <td>NaT</td>\n",
       "      <td>NaT</td>\n",
       "      <td>2019-05-03 11:46:38</td>\n",
       "      <td>NaT</td>\n",
       "      <td>NaT</td>\n",
       "      <td>NaT</td>\n",
       "      <td>NaT</td>\n",
       "      <td>NaT</td>\n",
       "      <td>NaT</td>\n",
       "      <td>NaT</td>\n",
       "      <td>2019-05-03 11:40:20</td>\n",
       "      <td>NaT</td>\n",
       "      <td>2019-05-03 11:40:20</td>\n",
       "      <td>2019-05-03 11:40:20</td>\n",
       "      <td>2019-05-03 11:37:27</td>\n",
       "      <td>1581.0</td>\n",
       "      <td>2019-05-03 11:59:12</td>\n",
       "      <td>1602.0</td>\n",
       "    </tr>\n",
       "    <tr>\n",
       "      <th>2</th>\n",
       "      <td>3</td>\n",
       "      <td>NaT</td>\n",
       "      <td>NaT</td>\n",
       "      <td>NaT</td>\n",
       "      <td>2019-05-03 12:31:06</td>\n",
       "      <td>NaT</td>\n",
       "      <td>NaT</td>\n",
       "      <td>NaT</td>\n",
       "      <td>NaT</td>\n",
       "      <td>NaT</td>\n",
       "      <td>NaT</td>\n",
       "      <td>NaT</td>\n",
       "      <td>2019-05-03 12:09:40</td>\n",
       "      <td>NaT</td>\n",
       "      <td>2019-05-03 12:09:40</td>\n",
       "      <td>2019-05-03 12:09:40</td>\n",
       "      <td>2019-05-03 12:13:17</td>\n",
       "      <td>1596.0</td>\n",
       "      <td>2019-05-03 12:34:57</td>\n",
       "      <td>1599.0</td>\n",
       "    </tr>\n",
       "    <tr>\n",
       "      <th>3</th>\n",
       "      <td>4</td>\n",
       "      <td>NaT</td>\n",
       "      <td>NaT</td>\n",
       "      <td>NaT</td>\n",
       "      <td>2019-05-03 12:48:43</td>\n",
       "      <td>NaT</td>\n",
       "      <td>NaT</td>\n",
       "      <td>NaT</td>\n",
       "      <td>NaT</td>\n",
       "      <td>NaT</td>\n",
       "      <td>NaT</td>\n",
       "      <td>NaT</td>\n",
       "      <td>2019-05-03 12:41:24</td>\n",
       "      <td>NaT</td>\n",
       "      <td>2019-05-03 12:41:24</td>\n",
       "      <td>2019-05-03 12:41:24</td>\n",
       "      <td>2019-05-03 12:52:57</td>\n",
       "      <td>1601.0</td>\n",
       "      <td>2019-05-03 12:59:25</td>\n",
       "      <td>1625.0</td>\n",
       "    </tr>\n",
       "    <tr>\n",
       "      <th>4</th>\n",
       "      <td>5</td>\n",
       "      <td>NaT</td>\n",
       "      <td>NaT</td>\n",
       "      <td>NaT</td>\n",
       "      <td>2019-05-03 13:18:50</td>\n",
       "      <td>NaT</td>\n",
       "      <td>NaT</td>\n",
       "      <td>NaT</td>\n",
       "      <td>NaT</td>\n",
       "      <td>NaT</td>\n",
       "      <td>NaT</td>\n",
       "      <td>NaT</td>\n",
       "      <td>2019-05-03 13:12:56</td>\n",
       "      <td>NaT</td>\n",
       "      <td>2019-05-03 13:12:56</td>\n",
       "      <td>2019-05-03 13:12:56</td>\n",
       "      <td>2019-05-03 13:23:19</td>\n",
       "      <td>1576.0</td>\n",
       "      <td>2019-05-03 13:36:01</td>\n",
       "      <td>1602.0</td>\n",
       "    </tr>\n",
       "  </tbody>\n",
       "</table>\n",
       "</div>"
      ],
      "text/plain": [
       "   key Bulk 1 Bulk 2 Bulk 3              Bulk 4 Bulk 5 Bulk 6 Bulk 7 Bulk 8  \\\n",
       "0    1    NaT    NaT    NaT 2019-05-03 11:21:30    NaT    NaT    NaT    NaT   \n",
       "1    2    NaT    NaT    NaT 2019-05-03 11:46:38    NaT    NaT    NaT    NaT   \n",
       "2    3    NaT    NaT    NaT 2019-05-03 12:31:06    NaT    NaT    NaT    NaT   \n",
       "3    4    NaT    NaT    NaT 2019-05-03 12:48:43    NaT    NaT    NaT    NaT   \n",
       "4    5    NaT    NaT    NaT 2019-05-03 13:18:50    NaT    NaT    NaT    NaT   \n",
       "\n",
       "  Bulk 9 Bulk 10 Bulk 11             Bulk 12 Bulk 13             Bulk 14  \\\n",
       "0    NaT     NaT     NaT 2019-05-03 11:03:52     NaT 2019-05-03 11:03:52   \n",
       "1    NaT     NaT     NaT 2019-05-03 11:40:20     NaT 2019-05-03 11:40:20   \n",
       "2    NaT     NaT     NaT 2019-05-03 12:09:40     NaT 2019-05-03 12:09:40   \n",
       "3    NaT     NaT     NaT 2019-05-03 12:41:24     NaT 2019-05-03 12:41:24   \n",
       "4    NaT     NaT     NaT 2019-05-03 13:12:56     NaT 2019-05-03 13:12:56   \n",
       "\n",
       "              Bulk 15          first_time  first_temp           last_time  \\\n",
       "0 2019-05-03 11:03:52 2019-05-03 11:16:18      1571.0 2019-05-03 11:30:39   \n",
       "1 2019-05-03 11:40:20 2019-05-03 11:37:27      1581.0 2019-05-03 11:59:12   \n",
       "2 2019-05-03 12:09:40 2019-05-03 12:13:17      1596.0 2019-05-03 12:34:57   \n",
       "3 2019-05-03 12:41:24 2019-05-03 12:52:57      1601.0 2019-05-03 12:59:25   \n",
       "4 2019-05-03 13:12:56 2019-05-03 13:23:19      1576.0 2019-05-03 13:36:01   \n",
       "\n",
       "   last_temp  \n",
       "0     1613.0  \n",
       "1     1602.0  \n",
       "2     1599.0  \n",
       "3     1625.0  \n",
       "4     1602.0  "
      ]
     },
     "metadata": {},
     "output_type": "display_data"
    }
   ],
   "source": [
    "data_bulk_time = data_bulk_time.merge(data_temp, on='key', how='left')\n",
    "display(data_bulk_time.head())"
   ]
  },
  {
   "cell_type": "code",
   "execution_count": 53,
   "id": "honey-longitude",
   "metadata": {},
   "outputs": [
    {
     "data": {
      "text/html": [
       "<div>\n",
       "<style scoped>\n",
       "    .dataframe tbody tr th:only-of-type {\n",
       "        vertical-align: middle;\n",
       "    }\n",
       "\n",
       "    .dataframe tbody tr th {\n",
       "        vertical-align: top;\n",
       "    }\n",
       "\n",
       "    .dataframe thead th {\n",
       "        text-align: right;\n",
       "    }\n",
       "</style>\n",
       "<table border=\"1\" class=\"dataframe\">\n",
       "  <thead>\n",
       "    <tr style=\"text-align: right;\">\n",
       "      <th></th>\n",
       "      <th>key</th>\n",
       "      <th>Bulk 1</th>\n",
       "      <th>Bulk 2</th>\n",
       "      <th>Bulk 3</th>\n",
       "      <th>Bulk 4</th>\n",
       "      <th>Bulk 5</th>\n",
       "      <th>Bulk 6</th>\n",
       "      <th>Bulk 7</th>\n",
       "      <th>Bulk 8</th>\n",
       "      <th>Bulk 9</th>\n",
       "      <th>Bulk 10</th>\n",
       "      <th>Bulk 11</th>\n",
       "      <th>Bulk 12</th>\n",
       "      <th>Bulk 13</th>\n",
       "      <th>Bulk 14</th>\n",
       "      <th>Bulk 15</th>\n",
       "      <th>first_time</th>\n",
       "      <th>last_time</th>\n",
       "    </tr>\n",
       "  </thead>\n",
       "  <tbody>\n",
       "    <tr>\n",
       "      <th>0</th>\n",
       "      <td>1</td>\n",
       "      <td>NaT</td>\n",
       "      <td>NaT</td>\n",
       "      <td>NaT</td>\n",
       "      <td>2019-05-03 11:21:30</td>\n",
       "      <td>NaT</td>\n",
       "      <td>NaT</td>\n",
       "      <td>NaT</td>\n",
       "      <td>NaT</td>\n",
       "      <td>NaT</td>\n",
       "      <td>NaT</td>\n",
       "      <td>NaT</td>\n",
       "      <td>2019-05-03 11:03:52</td>\n",
       "      <td>NaT</td>\n",
       "      <td>2019-05-03 11:03:52</td>\n",
       "      <td>2019-05-03 11:03:52</td>\n",
       "      <td>2019-05-03 11:16:18</td>\n",
       "      <td>2019-05-03 11:30:39</td>\n",
       "    </tr>\n",
       "    <tr>\n",
       "      <th>1</th>\n",
       "      <td>2</td>\n",
       "      <td>NaT</td>\n",
       "      <td>NaT</td>\n",
       "      <td>NaT</td>\n",
       "      <td>2019-05-03 11:46:38</td>\n",
       "      <td>NaT</td>\n",
       "      <td>NaT</td>\n",
       "      <td>NaT</td>\n",
       "      <td>NaT</td>\n",
       "      <td>NaT</td>\n",
       "      <td>NaT</td>\n",
       "      <td>NaT</td>\n",
       "      <td>2019-05-03 11:40:20</td>\n",
       "      <td>NaT</td>\n",
       "      <td>2019-05-03 11:40:20</td>\n",
       "      <td>2019-05-03 11:40:20</td>\n",
       "      <td>2019-05-03 11:37:27</td>\n",
       "      <td>2019-05-03 11:59:12</td>\n",
       "    </tr>\n",
       "    <tr>\n",
       "      <th>2</th>\n",
       "      <td>3</td>\n",
       "      <td>NaT</td>\n",
       "      <td>NaT</td>\n",
       "      <td>NaT</td>\n",
       "      <td>2019-05-03 12:31:06</td>\n",
       "      <td>NaT</td>\n",
       "      <td>NaT</td>\n",
       "      <td>NaT</td>\n",
       "      <td>NaT</td>\n",
       "      <td>NaT</td>\n",
       "      <td>NaT</td>\n",
       "      <td>NaT</td>\n",
       "      <td>2019-05-03 12:09:40</td>\n",
       "      <td>NaT</td>\n",
       "      <td>2019-05-03 12:09:40</td>\n",
       "      <td>2019-05-03 12:09:40</td>\n",
       "      <td>2019-05-03 12:13:17</td>\n",
       "      <td>2019-05-03 12:34:57</td>\n",
       "    </tr>\n",
       "    <tr>\n",
       "      <th>3</th>\n",
       "      <td>4</td>\n",
       "      <td>NaT</td>\n",
       "      <td>NaT</td>\n",
       "      <td>NaT</td>\n",
       "      <td>2019-05-03 12:48:43</td>\n",
       "      <td>NaT</td>\n",
       "      <td>NaT</td>\n",
       "      <td>NaT</td>\n",
       "      <td>NaT</td>\n",
       "      <td>NaT</td>\n",
       "      <td>NaT</td>\n",
       "      <td>NaT</td>\n",
       "      <td>2019-05-03 12:41:24</td>\n",
       "      <td>NaT</td>\n",
       "      <td>2019-05-03 12:41:24</td>\n",
       "      <td>2019-05-03 12:41:24</td>\n",
       "      <td>2019-05-03 12:52:57</td>\n",
       "      <td>2019-05-03 12:59:25</td>\n",
       "    </tr>\n",
       "    <tr>\n",
       "      <th>4</th>\n",
       "      <td>5</td>\n",
       "      <td>NaT</td>\n",
       "      <td>NaT</td>\n",
       "      <td>NaT</td>\n",
       "      <td>2019-05-03 13:18:50</td>\n",
       "      <td>NaT</td>\n",
       "      <td>NaT</td>\n",
       "      <td>NaT</td>\n",
       "      <td>NaT</td>\n",
       "      <td>NaT</td>\n",
       "      <td>NaT</td>\n",
       "      <td>NaT</td>\n",
       "      <td>2019-05-03 13:12:56</td>\n",
       "      <td>NaT</td>\n",
       "      <td>2019-05-03 13:12:56</td>\n",
       "      <td>2019-05-03 13:12:56</td>\n",
       "      <td>2019-05-03 13:23:19</td>\n",
       "      <td>2019-05-03 13:36:01</td>\n",
       "    </tr>\n",
       "  </tbody>\n",
       "</table>\n",
       "</div>"
      ],
      "text/plain": [
       "   key Bulk 1 Bulk 2 Bulk 3              Bulk 4 Bulk 5 Bulk 6 Bulk 7 Bulk 8  \\\n",
       "0    1    NaT    NaT    NaT 2019-05-03 11:21:30    NaT    NaT    NaT    NaT   \n",
       "1    2    NaT    NaT    NaT 2019-05-03 11:46:38    NaT    NaT    NaT    NaT   \n",
       "2    3    NaT    NaT    NaT 2019-05-03 12:31:06    NaT    NaT    NaT    NaT   \n",
       "3    4    NaT    NaT    NaT 2019-05-03 12:48:43    NaT    NaT    NaT    NaT   \n",
       "4    5    NaT    NaT    NaT 2019-05-03 13:18:50    NaT    NaT    NaT    NaT   \n",
       "\n",
       "  Bulk 9 Bulk 10 Bulk 11             Bulk 12 Bulk 13             Bulk 14  \\\n",
       "0    NaT     NaT     NaT 2019-05-03 11:03:52     NaT 2019-05-03 11:03:52   \n",
       "1    NaT     NaT     NaT 2019-05-03 11:40:20     NaT 2019-05-03 11:40:20   \n",
       "2    NaT     NaT     NaT 2019-05-03 12:09:40     NaT 2019-05-03 12:09:40   \n",
       "3    NaT     NaT     NaT 2019-05-03 12:41:24     NaT 2019-05-03 12:41:24   \n",
       "4    NaT     NaT     NaT 2019-05-03 13:12:56     NaT 2019-05-03 13:12:56   \n",
       "\n",
       "              Bulk 15          first_time           last_time  \n",
       "0 2019-05-03 11:03:52 2019-05-03 11:16:18 2019-05-03 11:30:39  \n",
       "1 2019-05-03 11:40:20 2019-05-03 11:37:27 2019-05-03 11:59:12  \n",
       "2 2019-05-03 12:09:40 2019-05-03 12:13:17 2019-05-03 12:34:57  \n",
       "3 2019-05-03 12:41:24 2019-05-03 12:52:57 2019-05-03 12:59:25  \n",
       "4 2019-05-03 13:12:56 2019-05-03 13:23:19 2019-05-03 13:36:01  "
      ]
     },
     "metadata": {},
     "output_type": "display_data"
    }
   ],
   "source": [
    "data_bulk_time = data_bulk_time.drop(['first_temp', 'last_temp'], axis=1)\n",
    "display(data_bulk_time.head())"
   ]
  },
  {
   "cell_type": "code",
   "execution_count": 54,
   "id": "french-night",
   "metadata": {},
   "outputs": [
    {
     "data": {
      "text/html": [
       "<div>\n",
       "<style scoped>\n",
       "    .dataframe tbody tr th:only-of-type {\n",
       "        vertical-align: middle;\n",
       "    }\n",
       "\n",
       "    .dataframe tbody tr th {\n",
       "        vertical-align: top;\n",
       "    }\n",
       "\n",
       "    .dataframe thead th {\n",
       "        text-align: right;\n",
       "    }\n",
       "</style>\n",
       "<table border=\"1\" class=\"dataframe\">\n",
       "  <thead>\n",
       "    <tr style=\"text-align: right;\">\n",
       "      <th></th>\n",
       "      <th>key</th>\n",
       "      <th>Bulk 1</th>\n",
       "      <th>Bulk 2</th>\n",
       "      <th>Bulk 3</th>\n",
       "      <th>Bulk 4</th>\n",
       "      <th>Bulk 5</th>\n",
       "      <th>Bulk 6</th>\n",
       "      <th>Bulk 7</th>\n",
       "      <th>Bulk 8</th>\n",
       "      <th>Bulk 9</th>\n",
       "      <th>Bulk 10</th>\n",
       "      <th>Bulk 11</th>\n",
       "      <th>Bulk 12</th>\n",
       "      <th>Bulk 13</th>\n",
       "      <th>Bulk 14</th>\n",
       "      <th>Bulk 15</th>\n",
       "    </tr>\n",
       "  </thead>\n",
       "  <tbody>\n",
       "    <tr>\n",
       "      <th>0</th>\n",
       "      <td>1</td>\n",
       "      <td>False</td>\n",
       "      <td>False</td>\n",
       "      <td>False</td>\n",
       "      <td>True</td>\n",
       "      <td>False</td>\n",
       "      <td>False</td>\n",
       "      <td>False</td>\n",
       "      <td>False</td>\n",
       "      <td>False</td>\n",
       "      <td>False</td>\n",
       "      <td>False</td>\n",
       "      <td>False</td>\n",
       "      <td>False</td>\n",
       "      <td>False</td>\n",
       "      <td>False</td>\n",
       "    </tr>\n",
       "    <tr>\n",
       "      <th>1</th>\n",
       "      <td>2</td>\n",
       "      <td>False</td>\n",
       "      <td>False</td>\n",
       "      <td>False</td>\n",
       "      <td>True</td>\n",
       "      <td>False</td>\n",
       "      <td>False</td>\n",
       "      <td>False</td>\n",
       "      <td>False</td>\n",
       "      <td>False</td>\n",
       "      <td>False</td>\n",
       "      <td>False</td>\n",
       "      <td>True</td>\n",
       "      <td>False</td>\n",
       "      <td>True</td>\n",
       "      <td>True</td>\n",
       "    </tr>\n",
       "    <tr>\n",
       "      <th>2</th>\n",
       "      <td>3</td>\n",
       "      <td>False</td>\n",
       "      <td>False</td>\n",
       "      <td>False</td>\n",
       "      <td>True</td>\n",
       "      <td>False</td>\n",
       "      <td>False</td>\n",
       "      <td>False</td>\n",
       "      <td>False</td>\n",
       "      <td>False</td>\n",
       "      <td>False</td>\n",
       "      <td>False</td>\n",
       "      <td>False</td>\n",
       "      <td>False</td>\n",
       "      <td>False</td>\n",
       "      <td>False</td>\n",
       "    </tr>\n",
       "    <tr>\n",
       "      <th>3</th>\n",
       "      <td>4</td>\n",
       "      <td>False</td>\n",
       "      <td>False</td>\n",
       "      <td>False</td>\n",
       "      <td>False</td>\n",
       "      <td>False</td>\n",
       "      <td>False</td>\n",
       "      <td>False</td>\n",
       "      <td>False</td>\n",
       "      <td>False</td>\n",
       "      <td>False</td>\n",
       "      <td>False</td>\n",
       "      <td>False</td>\n",
       "      <td>False</td>\n",
       "      <td>False</td>\n",
       "      <td>False</td>\n",
       "    </tr>\n",
       "    <tr>\n",
       "      <th>4</th>\n",
       "      <td>5</td>\n",
       "      <td>False</td>\n",
       "      <td>False</td>\n",
       "      <td>False</td>\n",
       "      <td>False</td>\n",
       "      <td>False</td>\n",
       "      <td>False</td>\n",
       "      <td>False</td>\n",
       "      <td>False</td>\n",
       "      <td>False</td>\n",
       "      <td>False</td>\n",
       "      <td>False</td>\n",
       "      <td>False</td>\n",
       "      <td>False</td>\n",
       "      <td>False</td>\n",
       "      <td>False</td>\n",
       "    </tr>\n",
       "  </tbody>\n",
       "</table>\n",
       "</div>"
      ],
      "text/plain": [
       "   key  Bulk 1  Bulk 2  Bulk 3  Bulk 4  Bulk 5  Bulk 6  Bulk 7  Bulk 8  \\\n",
       "0    1   False   False   False    True   False   False   False   False   \n",
       "1    2   False   False   False    True   False   False   False   False   \n",
       "2    3   False   False   False    True   False   False   False   False   \n",
       "3    4   False   False   False   False   False   False   False   False   \n",
       "4    5   False   False   False   False   False   False   False   False   \n",
       "\n",
       "   Bulk 9  Bulk 10  Bulk 11  Bulk 12  Bulk 13  Bulk 14  Bulk 15  \n",
       "0   False    False    False    False    False    False    False  \n",
       "1   False    False    False     True    False     True     True  \n",
       "2   False    False    False    False    False    False    False  \n",
       "3   False    False    False    False    False    False    False  \n",
       "4   False    False    False    False    False    False    False  "
      ]
     },
     "metadata": {},
     "output_type": "display_data"
    }
   ],
   "source": [
    "for column in data_bulk_time.loc[:, 'Bulk 1': 'Bulk 15'].columns:\n",
    "    data_bulk_time[column] = np.where((data_bulk_time[column] > data_bulk_time['first_time']) &\n",
    "                                      (data_bulk_time[column] <\n",
    "                                       data_bulk_time['last_time']),\n",
    "                                      True,\n",
    "                                      False)\n",
    "\n",
    "\n",
    "data_bulk_time = data_bulk_time.loc[:, 'key': 'Bulk 15']\n",
    "display(data_bulk_time.head())"
   ]
  },
  {
   "cell_type": "code",
   "execution_count": 55,
   "id": "organizational-birthday",
   "metadata": {},
   "outputs": [
    {
     "data": {
      "text/html": [
       "<div>\n",
       "<style scoped>\n",
       "    .dataframe tbody tr th:only-of-type {\n",
       "        vertical-align: middle;\n",
       "    }\n",
       "\n",
       "    .dataframe tbody tr th {\n",
       "        vertical-align: top;\n",
       "    }\n",
       "\n",
       "    .dataframe thead th {\n",
       "        text-align: right;\n",
       "    }\n",
       "</style>\n",
       "<table border=\"1\" class=\"dataframe\">\n",
       "  <thead>\n",
       "    <tr style=\"text-align: right;\">\n",
       "      <th></th>\n",
       "      <th>key</th>\n",
       "      <th>Bulk 1</th>\n",
       "      <th>Bulk 2</th>\n",
       "      <th>Bulk 3</th>\n",
       "      <th>Bulk 4</th>\n",
       "      <th>Bulk 5</th>\n",
       "      <th>Bulk 6</th>\n",
       "      <th>Bulk 7</th>\n",
       "      <th>Bulk 8</th>\n",
       "      <th>Bulk 9</th>\n",
       "      <th>Bulk 10</th>\n",
       "      <th>Bulk 11</th>\n",
       "      <th>Bulk 12</th>\n",
       "      <th>Bulk 13</th>\n",
       "      <th>Bulk 14</th>\n",
       "      <th>Bulk 15</th>\n",
       "    </tr>\n",
       "  </thead>\n",
       "  <tbody>\n",
       "    <tr>\n",
       "      <th>0</th>\n",
       "      <td>1.0</td>\n",
       "      <td>0.0</td>\n",
       "      <td>0.0</td>\n",
       "      <td>0.0</td>\n",
       "      <td>43.0</td>\n",
       "      <td>0.0</td>\n",
       "      <td>0.0</td>\n",
       "      <td>0.0</td>\n",
       "      <td>0.0</td>\n",
       "      <td>0.0</td>\n",
       "      <td>0.0</td>\n",
       "      <td>0.0</td>\n",
       "      <td>0.0</td>\n",
       "      <td>0.0</td>\n",
       "      <td>0.0</td>\n",
       "      <td>0.0</td>\n",
       "    </tr>\n",
       "    <tr>\n",
       "      <th>1</th>\n",
       "      <td>2.0</td>\n",
       "      <td>0.0</td>\n",
       "      <td>0.0</td>\n",
       "      <td>0.0</td>\n",
       "      <td>73.0</td>\n",
       "      <td>0.0</td>\n",
       "      <td>0.0</td>\n",
       "      <td>0.0</td>\n",
       "      <td>0.0</td>\n",
       "      <td>0.0</td>\n",
       "      <td>0.0</td>\n",
       "      <td>0.0</td>\n",
       "      <td>206.0</td>\n",
       "      <td>0.0</td>\n",
       "      <td>149.0</td>\n",
       "      <td>154.0</td>\n",
       "    </tr>\n",
       "    <tr>\n",
       "      <th>2</th>\n",
       "      <td>3.0</td>\n",
       "      <td>0.0</td>\n",
       "      <td>0.0</td>\n",
       "      <td>0.0</td>\n",
       "      <td>34.0</td>\n",
       "      <td>0.0</td>\n",
       "      <td>0.0</td>\n",
       "      <td>0.0</td>\n",
       "      <td>0.0</td>\n",
       "      <td>0.0</td>\n",
       "      <td>0.0</td>\n",
       "      <td>0.0</td>\n",
       "      <td>0.0</td>\n",
       "      <td>0.0</td>\n",
       "      <td>0.0</td>\n",
       "      <td>0.0</td>\n",
       "    </tr>\n",
       "    <tr>\n",
       "      <th>3</th>\n",
       "      <td>4.0</td>\n",
       "      <td>0.0</td>\n",
       "      <td>0.0</td>\n",
       "      <td>0.0</td>\n",
       "      <td>0.0</td>\n",
       "      <td>0.0</td>\n",
       "      <td>0.0</td>\n",
       "      <td>0.0</td>\n",
       "      <td>0.0</td>\n",
       "      <td>0.0</td>\n",
       "      <td>0.0</td>\n",
       "      <td>0.0</td>\n",
       "      <td>0.0</td>\n",
       "      <td>0.0</td>\n",
       "      <td>0.0</td>\n",
       "      <td>0.0</td>\n",
       "    </tr>\n",
       "    <tr>\n",
       "      <th>4</th>\n",
       "      <td>5.0</td>\n",
       "      <td>0.0</td>\n",
       "      <td>0.0</td>\n",
       "      <td>0.0</td>\n",
       "      <td>0.0</td>\n",
       "      <td>0.0</td>\n",
       "      <td>0.0</td>\n",
       "      <td>0.0</td>\n",
       "      <td>0.0</td>\n",
       "      <td>0.0</td>\n",
       "      <td>0.0</td>\n",
       "      <td>0.0</td>\n",
       "      <td>0.0</td>\n",
       "      <td>0.0</td>\n",
       "      <td>0.0</td>\n",
       "      <td>0.0</td>\n",
       "    </tr>\n",
       "  </tbody>\n",
       "</table>\n",
       "</div>"
      ],
      "text/plain": [
       "   key  Bulk 1  Bulk 2  Bulk 3  Bulk 4  Bulk 5  Bulk 6  Bulk 7  Bulk 8  \\\n",
       "0  1.0     0.0     0.0     0.0    43.0     0.0     0.0     0.0     0.0   \n",
       "1  2.0     0.0     0.0     0.0    73.0     0.0     0.0     0.0     0.0   \n",
       "2  3.0     0.0     0.0     0.0    34.0     0.0     0.0     0.0     0.0   \n",
       "3  4.0     0.0     0.0     0.0     0.0     0.0     0.0     0.0     0.0   \n",
       "4  5.0     0.0     0.0     0.0     0.0     0.0     0.0     0.0     0.0   \n",
       "\n",
       "   Bulk 9  Bulk 10  Bulk 11  Bulk 12  Bulk 13  Bulk 14  Bulk 15  \n",
       "0     0.0      0.0      0.0      0.0      0.0      0.0      0.0  \n",
       "1     0.0      0.0      0.0    206.0      0.0    149.0    154.0  \n",
       "2     0.0      0.0      0.0      0.0      0.0      0.0      0.0  \n",
       "3     0.0      0.0      0.0      0.0      0.0      0.0      0.0  \n",
       "4     0.0      0.0      0.0      0.0      0.0      0.0      0.0  "
      ]
     },
     "metadata": {},
     "output_type": "display_data"
    }
   ],
   "source": [
    "clean_data_bulk = np.where(data_bulk_time, data_bulk, 0)\n",
    "clean_data_bulk = pd.DataFrame(data=clean_data_bulk, columns=data_bulk.columns)\n",
    "display(clean_data_bulk.head())"
   ]
  },
  {
   "cell_type": "code",
   "execution_count": 56,
   "id": "monthly-sword",
   "metadata": {},
   "outputs": [],
   "source": [
    "clean_data_bulk['key'] = clean_data_bulk['key'].astype('int')"
   ]
  },
  {
   "cell_type": "code",
   "execution_count": 57,
   "id": "later-thailand",
   "metadata": {},
   "outputs": [
    {
     "data": {
      "text/html": [
       "<div>\n",
       "<style scoped>\n",
       "    .dataframe tbody tr th:only-of-type {\n",
       "        vertical-align: middle;\n",
       "    }\n",
       "\n",
       "    .dataframe tbody tr th {\n",
       "        vertical-align: top;\n",
       "    }\n",
       "\n",
       "    .dataframe thead th {\n",
       "        text-align: right;\n",
       "    }\n",
       "</style>\n",
       "<table border=\"1\" class=\"dataframe\">\n",
       "  <thead>\n",
       "    <tr style=\"text-align: right;\">\n",
       "      <th></th>\n",
       "      <th>key</th>\n",
       "      <th>Bulk 1</th>\n",
       "      <th>Bulk 2</th>\n",
       "      <th>Bulk 3</th>\n",
       "      <th>Bulk 4</th>\n",
       "      <th>Bulk 5</th>\n",
       "      <th>Bulk 6</th>\n",
       "      <th>Bulk 7</th>\n",
       "      <th>Bulk 8</th>\n",
       "      <th>Bulk 9</th>\n",
       "      <th>Bulk 10</th>\n",
       "      <th>Bulk 11</th>\n",
       "      <th>Bulk 12</th>\n",
       "      <th>Bulk 13</th>\n",
       "      <th>Bulk 14</th>\n",
       "      <th>Bulk 15</th>\n",
       "    </tr>\n",
       "  </thead>\n",
       "  <tbody>\n",
       "    <tr>\n",
       "      <th>0</th>\n",
       "      <td>1</td>\n",
       "      <td>0.0</td>\n",
       "      <td>0.0</td>\n",
       "      <td>0.0</td>\n",
       "      <td>43.0</td>\n",
       "      <td>0.0</td>\n",
       "      <td>0.0</td>\n",
       "      <td>0.0</td>\n",
       "      <td>0.0</td>\n",
       "      <td>0.0</td>\n",
       "      <td>0.0</td>\n",
       "      <td>0.0</td>\n",
       "      <td>0.0</td>\n",
       "      <td>0.0</td>\n",
       "      <td>0.0</td>\n",
       "      <td>0.0</td>\n",
       "    </tr>\n",
       "    <tr>\n",
       "      <th>1</th>\n",
       "      <td>2</td>\n",
       "      <td>0.0</td>\n",
       "      <td>0.0</td>\n",
       "      <td>0.0</td>\n",
       "      <td>73.0</td>\n",
       "      <td>0.0</td>\n",
       "      <td>0.0</td>\n",
       "      <td>0.0</td>\n",
       "      <td>0.0</td>\n",
       "      <td>0.0</td>\n",
       "      <td>0.0</td>\n",
       "      <td>0.0</td>\n",
       "      <td>206.0</td>\n",
       "      <td>0.0</td>\n",
       "      <td>149.0</td>\n",
       "      <td>154.0</td>\n",
       "    </tr>\n",
       "    <tr>\n",
       "      <th>2</th>\n",
       "      <td>3</td>\n",
       "      <td>0.0</td>\n",
       "      <td>0.0</td>\n",
       "      <td>0.0</td>\n",
       "      <td>34.0</td>\n",
       "      <td>0.0</td>\n",
       "      <td>0.0</td>\n",
       "      <td>0.0</td>\n",
       "      <td>0.0</td>\n",
       "      <td>0.0</td>\n",
       "      <td>0.0</td>\n",
       "      <td>0.0</td>\n",
       "      <td>0.0</td>\n",
       "      <td>0.0</td>\n",
       "      <td>0.0</td>\n",
       "      <td>0.0</td>\n",
       "    </tr>\n",
       "    <tr>\n",
       "      <th>3</th>\n",
       "      <td>4</td>\n",
       "      <td>0.0</td>\n",
       "      <td>0.0</td>\n",
       "      <td>0.0</td>\n",
       "      <td>0.0</td>\n",
       "      <td>0.0</td>\n",
       "      <td>0.0</td>\n",
       "      <td>0.0</td>\n",
       "      <td>0.0</td>\n",
       "      <td>0.0</td>\n",
       "      <td>0.0</td>\n",
       "      <td>0.0</td>\n",
       "      <td>0.0</td>\n",
       "      <td>0.0</td>\n",
       "      <td>0.0</td>\n",
       "      <td>0.0</td>\n",
       "    </tr>\n",
       "    <tr>\n",
       "      <th>4</th>\n",
       "      <td>5</td>\n",
       "      <td>0.0</td>\n",
       "      <td>0.0</td>\n",
       "      <td>0.0</td>\n",
       "      <td>0.0</td>\n",
       "      <td>0.0</td>\n",
       "      <td>0.0</td>\n",
       "      <td>0.0</td>\n",
       "      <td>0.0</td>\n",
       "      <td>0.0</td>\n",
       "      <td>0.0</td>\n",
       "      <td>0.0</td>\n",
       "      <td>0.0</td>\n",
       "      <td>0.0</td>\n",
       "      <td>0.0</td>\n",
       "      <td>0.0</td>\n",
       "    </tr>\n",
       "  </tbody>\n",
       "</table>\n",
       "</div>"
      ],
      "text/plain": [
       "   key  Bulk 1  Bulk 2  Bulk 3  Bulk 4  Bulk 5  Bulk 6  Bulk 7  Bulk 8  \\\n",
       "0    1     0.0     0.0     0.0    43.0     0.0     0.0     0.0     0.0   \n",
       "1    2     0.0     0.0     0.0    73.0     0.0     0.0     0.0     0.0   \n",
       "2    3     0.0     0.0     0.0    34.0     0.0     0.0     0.0     0.0   \n",
       "3    4     0.0     0.0     0.0     0.0     0.0     0.0     0.0     0.0   \n",
       "4    5     0.0     0.0     0.0     0.0     0.0     0.0     0.0     0.0   \n",
       "\n",
       "   Bulk 9  Bulk 10  Bulk 11  Bulk 12  Bulk 13  Bulk 14  Bulk 15  \n",
       "0     0.0      0.0      0.0      0.0      0.0      0.0      0.0  \n",
       "1     0.0      0.0      0.0    206.0      0.0    149.0    154.0  \n",
       "2     0.0      0.0      0.0      0.0      0.0      0.0      0.0  \n",
       "3     0.0      0.0      0.0      0.0      0.0      0.0      0.0  \n",
       "4     0.0      0.0      0.0      0.0      0.0      0.0      0.0  "
      ]
     },
     "metadata": {},
     "output_type": "display_data"
    }
   ],
   "source": [
    "display(clean_data_bulk.head())"
   ]
  },
  {
   "cell_type": "code",
   "execution_count": 58,
   "id": "baking-involvement",
   "metadata": {},
   "outputs": [
    {
     "name": "stdout",
     "output_type": "stream",
     "text": [
      "<class 'pandas.core.frame.DataFrame'>\n",
      "RangeIndex: 3129 entries, 0 to 3128\n",
      "Data columns (total 16 columns):\n",
      " #   Column   Non-Null Count  Dtype  \n",
      "---  ------   --------------  -----  \n",
      " 0   key      3129 non-null   int64  \n",
      " 1   Bulk 1   3129 non-null   float64\n",
      " 2   Bulk 2   3129 non-null   float64\n",
      " 3   Bulk 3   3129 non-null   float64\n",
      " 4   Bulk 4   3129 non-null   float64\n",
      " 5   Bulk 5   3129 non-null   float64\n",
      " 6   Bulk 6   3129 non-null   float64\n",
      " 7   Bulk 7   3129 non-null   float64\n",
      " 8   Bulk 8   3129 non-null   float64\n",
      " 9   Bulk 9   3129 non-null   float64\n",
      " 10  Bulk 10  3129 non-null   float64\n",
      " 11  Bulk 11  3129 non-null   float64\n",
      " 12  Bulk 12  3129 non-null   float64\n",
      " 13  Bulk 13  3129 non-null   float64\n",
      " 14  Bulk 14  3129 non-null   float64\n",
      " 15  Bulk 15  3129 non-null   float64\n",
      "dtypes: float64(15), int64(1)\n",
      "memory usage: 391.2 KB\n"
     ]
    }
   ],
   "source": [
    "clean_data_bulk.info()"
   ]
  },
  {
   "cell_type": "code",
   "execution_count": 59,
   "id": "false-insertion",
   "metadata": {
    "scrolled": false
   },
   "outputs": [
    {
     "data": {
      "text/html": [
       "<div>\n",
       "<style scoped>\n",
       "    .dataframe tbody tr th:only-of-type {\n",
       "        vertical-align: middle;\n",
       "    }\n",
       "\n",
       "    .dataframe tbody tr th {\n",
       "        vertical-align: top;\n",
       "    }\n",
       "\n",
       "    .dataframe thead th {\n",
       "        text-align: right;\n",
       "    }\n",
       "</style>\n",
       "<table border=\"1\" class=\"dataframe\">\n",
       "  <thead>\n",
       "    <tr style=\"text-align: right;\">\n",
       "      <th></th>\n",
       "      <th>key</th>\n",
       "      <th>first_time</th>\n",
       "      <th>first_temp</th>\n",
       "      <th>last_time</th>\n",
       "      <th>last_temp</th>\n",
       "      <th>work_energy</th>\n",
       "      <th>Bulk 1</th>\n",
       "      <th>Bulk 2</th>\n",
       "      <th>Bulk 3</th>\n",
       "      <th>Bulk 4</th>\n",
       "      <th>...</th>\n",
       "      <th>Bulk 6</th>\n",
       "      <th>Bulk 7</th>\n",
       "      <th>Bulk 8</th>\n",
       "      <th>Bulk 9</th>\n",
       "      <th>Bulk 10</th>\n",
       "      <th>Bulk 11</th>\n",
       "      <th>Bulk 12</th>\n",
       "      <th>Bulk 13</th>\n",
       "      <th>Bulk 14</th>\n",
       "      <th>Bulk 15</th>\n",
       "    </tr>\n",
       "  </thead>\n",
       "  <tbody>\n",
       "    <tr>\n",
       "      <th>0</th>\n",
       "      <td>1</td>\n",
       "      <td>2019-05-03 11:16:18</td>\n",
       "      <td>1571.0</td>\n",
       "      <td>2019-05-03 11:30:39</td>\n",
       "      <td>1613.0</td>\n",
       "      <td>708.195035</td>\n",
       "      <td>0.0</td>\n",
       "      <td>0.0</td>\n",
       "      <td>0.0</td>\n",
       "      <td>43.0</td>\n",
       "      <td>...</td>\n",
       "      <td>0.0</td>\n",
       "      <td>0.0</td>\n",
       "      <td>0.0</td>\n",
       "      <td>0.0</td>\n",
       "      <td>0.0</td>\n",
       "      <td>0.0</td>\n",
       "      <td>0.0</td>\n",
       "      <td>0.0</td>\n",
       "      <td>0.0</td>\n",
       "      <td>0.0</td>\n",
       "    </tr>\n",
       "    <tr>\n",
       "      <th>1</th>\n",
       "      <td>2</td>\n",
       "      <td>2019-05-03 11:37:27</td>\n",
       "      <td>1581.0</td>\n",
       "      <td>2019-05-03 11:59:12</td>\n",
       "      <td>1602.0</td>\n",
       "      <td>673.801792</td>\n",
       "      <td>0.0</td>\n",
       "      <td>0.0</td>\n",
       "      <td>0.0</td>\n",
       "      <td>73.0</td>\n",
       "      <td>...</td>\n",
       "      <td>0.0</td>\n",
       "      <td>0.0</td>\n",
       "      <td>0.0</td>\n",
       "      <td>0.0</td>\n",
       "      <td>0.0</td>\n",
       "      <td>0.0</td>\n",
       "      <td>206.0</td>\n",
       "      <td>0.0</td>\n",
       "      <td>149.0</td>\n",
       "      <td>154.0</td>\n",
       "    </tr>\n",
       "    <tr>\n",
       "      <th>2</th>\n",
       "      <td>3</td>\n",
       "      <td>2019-05-03 12:13:17</td>\n",
       "      <td>1596.0</td>\n",
       "      <td>2019-05-03 12:34:57</td>\n",
       "      <td>1599.0</td>\n",
       "      <td>146.208505</td>\n",
       "      <td>0.0</td>\n",
       "      <td>0.0</td>\n",
       "      <td>0.0</td>\n",
       "      <td>34.0</td>\n",
       "      <td>...</td>\n",
       "      <td>0.0</td>\n",
       "      <td>0.0</td>\n",
       "      <td>0.0</td>\n",
       "      <td>0.0</td>\n",
       "      <td>0.0</td>\n",
       "      <td>0.0</td>\n",
       "      <td>0.0</td>\n",
       "      <td>0.0</td>\n",
       "      <td>0.0</td>\n",
       "      <td>0.0</td>\n",
       "    </tr>\n",
       "    <tr>\n",
       "      <th>3</th>\n",
       "      <td>4</td>\n",
       "      <td>2019-05-03 12:52:57</td>\n",
       "      <td>1601.0</td>\n",
       "      <td>2019-05-03 12:59:25</td>\n",
       "      <td>1625.0</td>\n",
       "      <td>339.425494</td>\n",
       "      <td>0.0</td>\n",
       "      <td>0.0</td>\n",
       "      <td>0.0</td>\n",
       "      <td>0.0</td>\n",
       "      <td>...</td>\n",
       "      <td>0.0</td>\n",
       "      <td>0.0</td>\n",
       "      <td>0.0</td>\n",
       "      <td>0.0</td>\n",
       "      <td>0.0</td>\n",
       "      <td>0.0</td>\n",
       "      <td>0.0</td>\n",
       "      <td>0.0</td>\n",
       "      <td>0.0</td>\n",
       "      <td>0.0</td>\n",
       "    </tr>\n",
       "    <tr>\n",
       "      <th>4</th>\n",
       "      <td>5</td>\n",
       "      <td>2019-05-03 13:23:19</td>\n",
       "      <td>1576.0</td>\n",
       "      <td>2019-05-03 13:36:01</td>\n",
       "      <td>1602.0</td>\n",
       "      <td>691.980241</td>\n",
       "      <td>0.0</td>\n",
       "      <td>0.0</td>\n",
       "      <td>0.0</td>\n",
       "      <td>0.0</td>\n",
       "      <td>...</td>\n",
       "      <td>0.0</td>\n",
       "      <td>0.0</td>\n",
       "      <td>0.0</td>\n",
       "      <td>0.0</td>\n",
       "      <td>0.0</td>\n",
       "      <td>0.0</td>\n",
       "      <td>0.0</td>\n",
       "      <td>0.0</td>\n",
       "      <td>0.0</td>\n",
       "      <td>0.0</td>\n",
       "    </tr>\n",
       "    <tr>\n",
       "      <th>...</th>\n",
       "      <td>...</td>\n",
       "      <td>...</td>\n",
       "      <td>...</td>\n",
       "      <td>...</td>\n",
       "      <td>...</td>\n",
       "      <td>...</td>\n",
       "      <td>...</td>\n",
       "      <td>...</td>\n",
       "      <td>...</td>\n",
       "      <td>...</td>\n",
       "      <td>...</td>\n",
       "      <td>...</td>\n",
       "      <td>...</td>\n",
       "      <td>...</td>\n",
       "      <td>...</td>\n",
       "      <td>...</td>\n",
       "      <td>...</td>\n",
       "      <td>...</td>\n",
       "      <td>...</td>\n",
       "      <td>...</td>\n",
       "      <td>...</td>\n",
       "    </tr>\n",
       "    <tr>\n",
       "      <th>2436</th>\n",
       "      <td>2495</td>\n",
       "      <td>2019-08-06 00:35:45</td>\n",
       "      <td>1570.0</td>\n",
       "      <td>2019-08-06 00:54:42</td>\n",
       "      <td>1591.0</td>\n",
       "      <td>445.038010</td>\n",
       "      <td>0.0</td>\n",
       "      <td>0.0</td>\n",
       "      <td>21.0</td>\n",
       "      <td>0.0</td>\n",
       "      <td>...</td>\n",
       "      <td>0.0</td>\n",
       "      <td>0.0</td>\n",
       "      <td>0.0</td>\n",
       "      <td>0.0</td>\n",
       "      <td>90.0</td>\n",
       "      <td>0.0</td>\n",
       "      <td>0.0</td>\n",
       "      <td>0.0</td>\n",
       "      <td>0.0</td>\n",
       "      <td>0.0</td>\n",
       "    </tr>\n",
       "    <tr>\n",
       "      <th>2437</th>\n",
       "      <td>2496</td>\n",
       "      <td>2019-08-06 01:02:54</td>\n",
       "      <td>1554.0</td>\n",
       "      <td>2019-08-06 01:29:52</td>\n",
       "      <td>1591.0</td>\n",
       "      <td>681.813857</td>\n",
       "      <td>0.0</td>\n",
       "      <td>0.0</td>\n",
       "      <td>0.0</td>\n",
       "      <td>63.0</td>\n",
       "      <td>...</td>\n",
       "      <td>0.0</td>\n",
       "      <td>0.0</td>\n",
       "      <td>0.0</td>\n",
       "      <td>0.0</td>\n",
       "      <td>122.0</td>\n",
       "      <td>0.0</td>\n",
       "      <td>256.0</td>\n",
       "      <td>0.0</td>\n",
       "      <td>129.0</td>\n",
       "      <td>226.0</td>\n",
       "    </tr>\n",
       "    <tr>\n",
       "      <th>2438</th>\n",
       "      <td>2497</td>\n",
       "      <td>2019-08-06 01:41:53</td>\n",
       "      <td>1571.0</td>\n",
       "      <td>2019-08-06 01:53:50</td>\n",
       "      <td>1589.0</td>\n",
       "      <td>336.902188</td>\n",
       "      <td>0.0</td>\n",
       "      <td>0.0</td>\n",
       "      <td>0.0</td>\n",
       "      <td>85.0</td>\n",
       "      <td>...</td>\n",
       "      <td>0.0</td>\n",
       "      <td>0.0</td>\n",
       "      <td>0.0</td>\n",
       "      <td>0.0</td>\n",
       "      <td>0.0</td>\n",
       "      <td>0.0</td>\n",
       "      <td>0.0</td>\n",
       "      <td>0.0</td>\n",
       "      <td>0.0</td>\n",
       "      <td>0.0</td>\n",
       "    </tr>\n",
       "    <tr>\n",
       "      <th>2439</th>\n",
       "      <td>2498</td>\n",
       "      <td>2019-08-06 02:03:49</td>\n",
       "      <td>1591.0</td>\n",
       "      <td>2019-08-06 02:25:31</td>\n",
       "      <td>1594.0</td>\n",
       "      <td>332.227571</td>\n",
       "      <td>0.0</td>\n",
       "      <td>0.0</td>\n",
       "      <td>90.0</td>\n",
       "      <td>0.0</td>\n",
       "      <td>...</td>\n",
       "      <td>0.0</td>\n",
       "      <td>0.0</td>\n",
       "      <td>0.0</td>\n",
       "      <td>0.0</td>\n",
       "      <td>101.0</td>\n",
       "      <td>0.0</td>\n",
       "      <td>0.0</td>\n",
       "      <td>0.0</td>\n",
       "      <td>0.0</td>\n",
       "      <td>0.0</td>\n",
       "    </tr>\n",
       "    <tr>\n",
       "      <th>2440</th>\n",
       "      <td>2499</td>\n",
       "      <td>2019-08-06 02:40:25</td>\n",
       "      <td>1569.0</td>\n",
       "      <td>2019-08-06 03:00:28</td>\n",
       "      <td>1603.0</td>\n",
       "      <td>630.261628</td>\n",
       "      <td>0.0</td>\n",
       "      <td>0.0</td>\n",
       "      <td>47.0</td>\n",
       "      <td>0.0</td>\n",
       "      <td>...</td>\n",
       "      <td>0.0</td>\n",
       "      <td>0.0</td>\n",
       "      <td>0.0</td>\n",
       "      <td>0.0</td>\n",
       "      <td>0.0</td>\n",
       "      <td>0.0</td>\n",
       "      <td>0.0</td>\n",
       "      <td>0.0</td>\n",
       "      <td>0.0</td>\n",
       "      <td>0.0</td>\n",
       "    </tr>\n",
       "  </tbody>\n",
       "</table>\n",
       "<p>2441 rows × 21 columns</p>\n",
       "</div>"
      ],
      "text/plain": [
       "       key          first_time  first_temp           last_time  last_temp  \\\n",
       "0        1 2019-05-03 11:16:18      1571.0 2019-05-03 11:30:39     1613.0   \n",
       "1        2 2019-05-03 11:37:27      1581.0 2019-05-03 11:59:12     1602.0   \n",
       "2        3 2019-05-03 12:13:17      1596.0 2019-05-03 12:34:57     1599.0   \n",
       "3        4 2019-05-03 12:52:57      1601.0 2019-05-03 12:59:25     1625.0   \n",
       "4        5 2019-05-03 13:23:19      1576.0 2019-05-03 13:36:01     1602.0   \n",
       "...    ...                 ...         ...                 ...        ...   \n",
       "2436  2495 2019-08-06 00:35:45      1570.0 2019-08-06 00:54:42     1591.0   \n",
       "2437  2496 2019-08-06 01:02:54      1554.0 2019-08-06 01:29:52     1591.0   \n",
       "2438  2497 2019-08-06 01:41:53      1571.0 2019-08-06 01:53:50     1589.0   \n",
       "2439  2498 2019-08-06 02:03:49      1591.0 2019-08-06 02:25:31     1594.0   \n",
       "2440  2499 2019-08-06 02:40:25      1569.0 2019-08-06 03:00:28     1603.0   \n",
       "\n",
       "      work_energy  Bulk 1  Bulk 2  Bulk 3  Bulk 4  ...  Bulk 6  Bulk 7  \\\n",
       "0      708.195035     0.0     0.0     0.0    43.0  ...     0.0     0.0   \n",
       "1      673.801792     0.0     0.0     0.0    73.0  ...     0.0     0.0   \n",
       "2      146.208505     0.0     0.0     0.0    34.0  ...     0.0     0.0   \n",
       "3      339.425494     0.0     0.0     0.0     0.0  ...     0.0     0.0   \n",
       "4      691.980241     0.0     0.0     0.0     0.0  ...     0.0     0.0   \n",
       "...           ...     ...     ...     ...     ...  ...     ...     ...   \n",
       "2436   445.038010     0.0     0.0    21.0     0.0  ...     0.0     0.0   \n",
       "2437   681.813857     0.0     0.0     0.0    63.0  ...     0.0     0.0   \n",
       "2438   336.902188     0.0     0.0     0.0    85.0  ...     0.0     0.0   \n",
       "2439   332.227571     0.0     0.0    90.0     0.0  ...     0.0     0.0   \n",
       "2440   630.261628     0.0     0.0    47.0     0.0  ...     0.0     0.0   \n",
       "\n",
       "      Bulk 8  Bulk 9  Bulk 10  Bulk 11  Bulk 12  Bulk 13  Bulk 14  Bulk 15  \n",
       "0        0.0     0.0      0.0      0.0      0.0      0.0      0.0      0.0  \n",
       "1        0.0     0.0      0.0      0.0    206.0      0.0    149.0    154.0  \n",
       "2        0.0     0.0      0.0      0.0      0.0      0.0      0.0      0.0  \n",
       "3        0.0     0.0      0.0      0.0      0.0      0.0      0.0      0.0  \n",
       "4        0.0     0.0      0.0      0.0      0.0      0.0      0.0      0.0  \n",
       "...      ...     ...      ...      ...      ...      ...      ...      ...  \n",
       "2436     0.0     0.0     90.0      0.0      0.0      0.0      0.0      0.0  \n",
       "2437     0.0     0.0    122.0      0.0    256.0      0.0    129.0    226.0  \n",
       "2438     0.0     0.0      0.0      0.0      0.0      0.0      0.0      0.0  \n",
       "2439     0.0     0.0    101.0      0.0      0.0      0.0      0.0      0.0  \n",
       "2440     0.0     0.0      0.0      0.0      0.0      0.0      0.0      0.0  \n",
       "\n",
       "[2441 rows x 21 columns]"
      ]
     },
     "metadata": {},
     "output_type": "display_data"
    }
   ],
   "source": [
    "data = data.merge(clean_data_bulk, on='key', how='left')\n",
    "display(data)"
   ]
  },
  {
   "cell_type": "markdown",
   "id": "manufactured-details",
   "metadata": {},
   "source": [
    "Мы все ближе к окончательному датасету. Остается добавить данные о проволочных материалах."
   ]
  },
  {
   "cell_type": "markdown",
   "id": "chemical-giving",
   "metadata": {},
   "source": [
    "### data_wire и data_wire_time - данные о подаче проволочных материалов"
   ]
  },
  {
   "cell_type": "code",
   "execution_count": 60,
   "id": "silver-moscow",
   "metadata": {},
   "outputs": [
    {
     "name": "stdout",
     "output_type": "stream",
     "text": [
      "<class 'pandas.core.frame.DataFrame'>\n",
      "RangeIndex: 3081 entries, 0 to 3080\n",
      "Data columns (total 10 columns):\n",
      " #   Column  Non-Null Count  Dtype  \n",
      "---  ------  --------------  -----  \n",
      " 0   key     3081 non-null   int64  \n",
      " 1   Wire 1  3055 non-null   float64\n",
      " 2   Wire 2  1079 non-null   float64\n",
      " 3   Wire 3  63 non-null     float64\n",
      " 4   Wire 4  14 non-null     float64\n",
      " 5   Wire 5  1 non-null      float64\n",
      " 6   Wire 6  73 non-null     float64\n",
      " 7   Wire 7  11 non-null     float64\n",
      " 8   Wire 8  19 non-null     float64\n",
      " 9   Wire 9  29 non-null     float64\n",
      "dtypes: float64(9), int64(1)\n",
      "memory usage: 240.8 KB\n"
     ]
    }
   ],
   "source": [
    "data_wire.info()"
   ]
  },
  {
   "cell_type": "code",
   "execution_count": 61,
   "id": "invisible-stations",
   "metadata": {},
   "outputs": [
    {
     "data": {
      "text/html": [
       "<div>\n",
       "<style scoped>\n",
       "    .dataframe tbody tr th:only-of-type {\n",
       "        vertical-align: middle;\n",
       "    }\n",
       "\n",
       "    .dataframe tbody tr th {\n",
       "        vertical-align: top;\n",
       "    }\n",
       "\n",
       "    .dataframe thead th {\n",
       "        text-align: right;\n",
       "    }\n",
       "</style>\n",
       "<table border=\"1\" class=\"dataframe\">\n",
       "  <thead>\n",
       "    <tr style=\"text-align: right;\">\n",
       "      <th></th>\n",
       "      <th>key</th>\n",
       "      <th>Wire 1</th>\n",
       "      <th>Wire 2</th>\n",
       "      <th>Wire 3</th>\n",
       "      <th>Wire 4</th>\n",
       "      <th>Wire 5</th>\n",
       "      <th>Wire 6</th>\n",
       "      <th>Wire 7</th>\n",
       "      <th>Wire 8</th>\n",
       "      <th>Wire 9</th>\n",
       "    </tr>\n",
       "  </thead>\n",
       "  <tbody>\n",
       "    <tr>\n",
       "      <th>0</th>\n",
       "      <td>1</td>\n",
       "      <td>60.059998</td>\n",
       "      <td>NaN</td>\n",
       "      <td>NaN</td>\n",
       "      <td>NaN</td>\n",
       "      <td>NaN</td>\n",
       "      <td>NaN</td>\n",
       "      <td>NaN</td>\n",
       "      <td>NaN</td>\n",
       "      <td>NaN</td>\n",
       "    </tr>\n",
       "    <tr>\n",
       "      <th>1</th>\n",
       "      <td>2</td>\n",
       "      <td>96.052315</td>\n",
       "      <td>NaN</td>\n",
       "      <td>NaN</td>\n",
       "      <td>NaN</td>\n",
       "      <td>NaN</td>\n",
       "      <td>NaN</td>\n",
       "      <td>NaN</td>\n",
       "      <td>NaN</td>\n",
       "      <td>NaN</td>\n",
       "    </tr>\n",
       "    <tr>\n",
       "      <th>2</th>\n",
       "      <td>3</td>\n",
       "      <td>91.160157</td>\n",
       "      <td>NaN</td>\n",
       "      <td>NaN</td>\n",
       "      <td>NaN</td>\n",
       "      <td>NaN</td>\n",
       "      <td>NaN</td>\n",
       "      <td>NaN</td>\n",
       "      <td>NaN</td>\n",
       "      <td>NaN</td>\n",
       "    </tr>\n",
       "    <tr>\n",
       "      <th>3</th>\n",
       "      <td>4</td>\n",
       "      <td>89.063515</td>\n",
       "      <td>NaN</td>\n",
       "      <td>NaN</td>\n",
       "      <td>NaN</td>\n",
       "      <td>NaN</td>\n",
       "      <td>NaN</td>\n",
       "      <td>NaN</td>\n",
       "      <td>NaN</td>\n",
       "      <td>NaN</td>\n",
       "    </tr>\n",
       "    <tr>\n",
       "      <th>4</th>\n",
       "      <td>5</td>\n",
       "      <td>89.238236</td>\n",
       "      <td>9.11456</td>\n",
       "      <td>NaN</td>\n",
       "      <td>NaN</td>\n",
       "      <td>NaN</td>\n",
       "      <td>NaN</td>\n",
       "      <td>NaN</td>\n",
       "      <td>NaN</td>\n",
       "      <td>NaN</td>\n",
       "    </tr>\n",
       "  </tbody>\n",
       "</table>\n",
       "</div>"
      ],
      "text/plain": [
       "   key     Wire 1   Wire 2  Wire 3  Wire 4  Wire 5  Wire 6  Wire 7  Wire 8  \\\n",
       "0    1  60.059998      NaN     NaN     NaN     NaN     NaN     NaN     NaN   \n",
       "1    2  96.052315      NaN     NaN     NaN     NaN     NaN     NaN     NaN   \n",
       "2    3  91.160157      NaN     NaN     NaN     NaN     NaN     NaN     NaN   \n",
       "3    4  89.063515      NaN     NaN     NaN     NaN     NaN     NaN     NaN   \n",
       "4    5  89.238236  9.11456     NaN     NaN     NaN     NaN     NaN     NaN   \n",
       "\n",
       "   Wire 9  \n",
       "0     NaN  \n",
       "1     NaN  \n",
       "2     NaN  \n",
       "3     NaN  \n",
       "4     NaN  "
      ]
     },
     "execution_count": 61,
     "metadata": {},
     "output_type": "execute_result"
    }
   ],
   "source": [
    "data_wire.head()"
   ]
  },
  {
   "cell_type": "markdown",
   "id": "prepared-audience",
   "metadata": {},
   "source": [
    "Можно сразу заменить пропуски нулями."
   ]
  },
  {
   "cell_type": "code",
   "execution_count": 62,
   "id": "harmful-pickup",
   "metadata": {},
   "outputs": [],
   "source": [
    "data_wire = data_wire.fillna(0)"
   ]
  },
  {
   "cell_type": "code",
   "execution_count": 63,
   "id": "brief-badge",
   "metadata": {},
   "outputs": [
    {
     "data": {
      "text/html": [
       "<div>\n",
       "<style scoped>\n",
       "    .dataframe tbody tr th:only-of-type {\n",
       "        vertical-align: middle;\n",
       "    }\n",
       "\n",
       "    .dataframe tbody tr th {\n",
       "        vertical-align: top;\n",
       "    }\n",
       "\n",
       "    .dataframe thead th {\n",
       "        text-align: right;\n",
       "    }\n",
       "</style>\n",
       "<table border=\"1\" class=\"dataframe\">\n",
       "  <thead>\n",
       "    <tr style=\"text-align: right;\">\n",
       "      <th></th>\n",
       "      <th>key</th>\n",
       "      <th>Wire 1</th>\n",
       "      <th>Wire 2</th>\n",
       "      <th>Wire 3</th>\n",
       "      <th>Wire 4</th>\n",
       "      <th>Wire 5</th>\n",
       "      <th>Wire 6</th>\n",
       "      <th>Wire 7</th>\n",
       "      <th>Wire 8</th>\n",
       "      <th>Wire 9</th>\n",
       "    </tr>\n",
       "  </thead>\n",
       "  <tbody>\n",
       "    <tr>\n",
       "      <th>0</th>\n",
       "      <td>1</td>\n",
       "      <td>60.059998</td>\n",
       "      <td>0.00000</td>\n",
       "      <td>0.0</td>\n",
       "      <td>0.0</td>\n",
       "      <td>0.0</td>\n",
       "      <td>0.0</td>\n",
       "      <td>0.0</td>\n",
       "      <td>0.0</td>\n",
       "      <td>0.0</td>\n",
       "    </tr>\n",
       "    <tr>\n",
       "      <th>1</th>\n",
       "      <td>2</td>\n",
       "      <td>96.052315</td>\n",
       "      <td>0.00000</td>\n",
       "      <td>0.0</td>\n",
       "      <td>0.0</td>\n",
       "      <td>0.0</td>\n",
       "      <td>0.0</td>\n",
       "      <td>0.0</td>\n",
       "      <td>0.0</td>\n",
       "      <td>0.0</td>\n",
       "    </tr>\n",
       "    <tr>\n",
       "      <th>2</th>\n",
       "      <td>3</td>\n",
       "      <td>91.160157</td>\n",
       "      <td>0.00000</td>\n",
       "      <td>0.0</td>\n",
       "      <td>0.0</td>\n",
       "      <td>0.0</td>\n",
       "      <td>0.0</td>\n",
       "      <td>0.0</td>\n",
       "      <td>0.0</td>\n",
       "      <td>0.0</td>\n",
       "    </tr>\n",
       "    <tr>\n",
       "      <th>3</th>\n",
       "      <td>4</td>\n",
       "      <td>89.063515</td>\n",
       "      <td>0.00000</td>\n",
       "      <td>0.0</td>\n",
       "      <td>0.0</td>\n",
       "      <td>0.0</td>\n",
       "      <td>0.0</td>\n",
       "      <td>0.0</td>\n",
       "      <td>0.0</td>\n",
       "      <td>0.0</td>\n",
       "    </tr>\n",
       "    <tr>\n",
       "      <th>4</th>\n",
       "      <td>5</td>\n",
       "      <td>89.238236</td>\n",
       "      <td>9.11456</td>\n",
       "      <td>0.0</td>\n",
       "      <td>0.0</td>\n",
       "      <td>0.0</td>\n",
       "      <td>0.0</td>\n",
       "      <td>0.0</td>\n",
       "      <td>0.0</td>\n",
       "      <td>0.0</td>\n",
       "    </tr>\n",
       "  </tbody>\n",
       "</table>\n",
       "</div>"
      ],
      "text/plain": [
       "   key     Wire 1   Wire 2  Wire 3  Wire 4  Wire 5  Wire 6  Wire 7  Wire 8  \\\n",
       "0    1  60.059998  0.00000     0.0     0.0     0.0     0.0     0.0     0.0   \n",
       "1    2  96.052315  0.00000     0.0     0.0     0.0     0.0     0.0     0.0   \n",
       "2    3  91.160157  0.00000     0.0     0.0     0.0     0.0     0.0     0.0   \n",
       "3    4  89.063515  0.00000     0.0     0.0     0.0     0.0     0.0     0.0   \n",
       "4    5  89.238236  9.11456     0.0     0.0     0.0     0.0     0.0     0.0   \n",
       "\n",
       "   Wire 9  \n",
       "0     0.0  \n",
       "1     0.0  \n",
       "2     0.0  \n",
       "3     0.0  \n",
       "4     0.0  "
      ]
     },
     "execution_count": 63,
     "metadata": {},
     "output_type": "execute_result"
    }
   ],
   "source": [
    "data_wire.head()"
   ]
  },
  {
   "cell_type": "markdown",
   "id": "weekly-equity",
   "metadata": {},
   "source": [
    "По сути мы имеем дело с уже готовыми признаками, но есть проблема - их можно учитывать, только если соответствующее время добавление проволочных материалов происходило между измерениями температуры."
   ]
  },
  {
   "cell_type": "code",
   "execution_count": 64,
   "id": "industrial-register",
   "metadata": {},
   "outputs": [
    {
     "name": "stdout",
     "output_type": "stream",
     "text": [
      "<class 'pandas.core.frame.DataFrame'>\n",
      "RangeIndex: 3081 entries, 0 to 3080\n",
      "Data columns (total 10 columns):\n",
      " #   Column  Non-Null Count  Dtype \n",
      "---  ------  --------------  ----- \n",
      " 0   key     3081 non-null   int64 \n",
      " 1   Wire 1  3055 non-null   object\n",
      " 2   Wire 2  1079 non-null   object\n",
      " 3   Wire 3  63 non-null     object\n",
      " 4   Wire 4  14 non-null     object\n",
      " 5   Wire 5  1 non-null      object\n",
      " 6   Wire 6  73 non-null     object\n",
      " 7   Wire 7  11 non-null     object\n",
      " 8   Wire 8  19 non-null     object\n",
      " 9   Wire 9  29 non-null     object\n",
      "dtypes: int64(1), object(9)\n",
      "memory usage: 240.8+ KB\n"
     ]
    }
   ],
   "source": [
    "data_wire_time.info()"
   ]
  },
  {
   "cell_type": "code",
   "execution_count": 65,
   "id": "partial-incidence",
   "metadata": {
    "scrolled": true
   },
   "outputs": [
    {
     "data": {
      "text/html": [
       "<div>\n",
       "<style scoped>\n",
       "    .dataframe tbody tr th:only-of-type {\n",
       "        vertical-align: middle;\n",
       "    }\n",
       "\n",
       "    .dataframe tbody tr th {\n",
       "        vertical-align: top;\n",
       "    }\n",
       "\n",
       "    .dataframe thead th {\n",
       "        text-align: right;\n",
       "    }\n",
       "</style>\n",
       "<table border=\"1\" class=\"dataframe\">\n",
       "  <thead>\n",
       "    <tr style=\"text-align: right;\">\n",
       "      <th></th>\n",
       "      <th>key</th>\n",
       "      <th>Wire 1</th>\n",
       "      <th>Wire 2</th>\n",
       "      <th>Wire 3</th>\n",
       "      <th>Wire 4</th>\n",
       "      <th>Wire 5</th>\n",
       "      <th>Wire 6</th>\n",
       "      <th>Wire 7</th>\n",
       "      <th>Wire 8</th>\n",
       "      <th>Wire 9</th>\n",
       "    </tr>\n",
       "  </thead>\n",
       "  <tbody>\n",
       "    <tr>\n",
       "      <th>0</th>\n",
       "      <td>1</td>\n",
       "      <td>2019-05-03 11:11:41</td>\n",
       "      <td>NaN</td>\n",
       "      <td>NaN</td>\n",
       "      <td>NaN</td>\n",
       "      <td>NaN</td>\n",
       "      <td>NaN</td>\n",
       "      <td>NaN</td>\n",
       "      <td>NaN</td>\n",
       "      <td>NaN</td>\n",
       "    </tr>\n",
       "    <tr>\n",
       "      <th>1</th>\n",
       "      <td>2</td>\n",
       "      <td>2019-05-03 11:46:10</td>\n",
       "      <td>NaN</td>\n",
       "      <td>NaN</td>\n",
       "      <td>NaN</td>\n",
       "      <td>NaN</td>\n",
       "      <td>NaN</td>\n",
       "      <td>NaN</td>\n",
       "      <td>NaN</td>\n",
       "      <td>NaN</td>\n",
       "    </tr>\n",
       "    <tr>\n",
       "      <th>2</th>\n",
       "      <td>3</td>\n",
       "      <td>2019-05-03 12:13:47</td>\n",
       "      <td>NaN</td>\n",
       "      <td>NaN</td>\n",
       "      <td>NaN</td>\n",
       "      <td>NaN</td>\n",
       "      <td>NaN</td>\n",
       "      <td>NaN</td>\n",
       "      <td>NaN</td>\n",
       "      <td>NaN</td>\n",
       "    </tr>\n",
       "    <tr>\n",
       "      <th>3</th>\n",
       "      <td>4</td>\n",
       "      <td>2019-05-03 12:48:05</td>\n",
       "      <td>NaN</td>\n",
       "      <td>NaN</td>\n",
       "      <td>NaN</td>\n",
       "      <td>NaN</td>\n",
       "      <td>NaN</td>\n",
       "      <td>NaN</td>\n",
       "      <td>NaN</td>\n",
       "      <td>NaN</td>\n",
       "    </tr>\n",
       "    <tr>\n",
       "      <th>4</th>\n",
       "      <td>5</td>\n",
       "      <td>2019-05-03 13:18:15</td>\n",
       "      <td>2019-05-03 13:32:06</td>\n",
       "      <td>NaN</td>\n",
       "      <td>NaN</td>\n",
       "      <td>NaN</td>\n",
       "      <td>NaN</td>\n",
       "      <td>NaN</td>\n",
       "      <td>NaN</td>\n",
       "      <td>NaN</td>\n",
       "    </tr>\n",
       "  </tbody>\n",
       "</table>\n",
       "</div>"
      ],
      "text/plain": [
       "   key               Wire 1               Wire 2 Wire 3 Wire 4 Wire 5 Wire 6  \\\n",
       "0    1  2019-05-03 11:11:41                  NaN    NaN    NaN    NaN    NaN   \n",
       "1    2  2019-05-03 11:46:10                  NaN    NaN    NaN    NaN    NaN   \n",
       "2    3  2019-05-03 12:13:47                  NaN    NaN    NaN    NaN    NaN   \n",
       "3    4  2019-05-03 12:48:05                  NaN    NaN    NaN    NaN    NaN   \n",
       "4    5  2019-05-03 13:18:15  2019-05-03 13:32:06    NaN    NaN    NaN    NaN   \n",
       "\n",
       "  Wire 7 Wire 8 Wire 9  \n",
       "0    NaN    NaN    NaN  \n",
       "1    NaN    NaN    NaN  \n",
       "2    NaN    NaN    NaN  \n",
       "3    NaN    NaN    NaN  \n",
       "4    NaN    NaN    NaN  "
      ]
     },
     "execution_count": 65,
     "metadata": {},
     "output_type": "execute_result"
    }
   ],
   "source": [
    "data_wire_time.head()"
   ]
  },
  {
   "cell_type": "code",
   "execution_count": 66,
   "id": "quarterly-preservation",
   "metadata": {},
   "outputs": [
    {
     "data": {
      "text/plain": [
       "True    3081\n",
       "Name: key, dtype: int64"
      ]
     },
     "execution_count": 66,
     "metadata": {},
     "output_type": "execute_result"
    }
   ],
   "source": [
    "(data_wire_time['key'] == data_wire['key']).value_counts()"
   ]
  },
  {
   "cell_type": "markdown",
   "id": "smart-world",
   "metadata": {},
   "source": [
    "Можем сразу изменить тип данных на дату-время"
   ]
  },
  {
   "cell_type": "code",
   "execution_count": 67,
   "id": "fatal-technique",
   "metadata": {},
   "outputs": [
    {
     "data": {
      "text/html": [
       "<div>\n",
       "<style scoped>\n",
       "    .dataframe tbody tr th:only-of-type {\n",
       "        vertical-align: middle;\n",
       "    }\n",
       "\n",
       "    .dataframe tbody tr th {\n",
       "        vertical-align: top;\n",
       "    }\n",
       "\n",
       "    .dataframe thead th {\n",
       "        text-align: right;\n",
       "    }\n",
       "</style>\n",
       "<table border=\"1\" class=\"dataframe\">\n",
       "  <thead>\n",
       "    <tr style=\"text-align: right;\">\n",
       "      <th></th>\n",
       "      <th>key</th>\n",
       "      <th>Wire 1</th>\n",
       "      <th>Wire 2</th>\n",
       "      <th>Wire 3</th>\n",
       "      <th>Wire 4</th>\n",
       "      <th>Wire 5</th>\n",
       "      <th>Wire 6</th>\n",
       "      <th>Wire 7</th>\n",
       "      <th>Wire 8</th>\n",
       "      <th>Wire 9</th>\n",
       "    </tr>\n",
       "  </thead>\n",
       "  <tbody>\n",
       "    <tr>\n",
       "      <th>0</th>\n",
       "      <td>1</td>\n",
       "      <td>2019-05-03 11:11:41</td>\n",
       "      <td>NaT</td>\n",
       "      <td>NaT</td>\n",
       "      <td>NaT</td>\n",
       "      <td>NaT</td>\n",
       "      <td>NaT</td>\n",
       "      <td>NaT</td>\n",
       "      <td>NaT</td>\n",
       "      <td>NaT</td>\n",
       "    </tr>\n",
       "    <tr>\n",
       "      <th>1</th>\n",
       "      <td>2</td>\n",
       "      <td>2019-05-03 11:46:10</td>\n",
       "      <td>NaT</td>\n",
       "      <td>NaT</td>\n",
       "      <td>NaT</td>\n",
       "      <td>NaT</td>\n",
       "      <td>NaT</td>\n",
       "      <td>NaT</td>\n",
       "      <td>NaT</td>\n",
       "      <td>NaT</td>\n",
       "    </tr>\n",
       "    <tr>\n",
       "      <th>2</th>\n",
       "      <td>3</td>\n",
       "      <td>2019-05-03 12:13:47</td>\n",
       "      <td>NaT</td>\n",
       "      <td>NaT</td>\n",
       "      <td>NaT</td>\n",
       "      <td>NaT</td>\n",
       "      <td>NaT</td>\n",
       "      <td>NaT</td>\n",
       "      <td>NaT</td>\n",
       "      <td>NaT</td>\n",
       "    </tr>\n",
       "    <tr>\n",
       "      <th>3</th>\n",
       "      <td>4</td>\n",
       "      <td>2019-05-03 12:48:05</td>\n",
       "      <td>NaT</td>\n",
       "      <td>NaT</td>\n",
       "      <td>NaT</td>\n",
       "      <td>NaT</td>\n",
       "      <td>NaT</td>\n",
       "      <td>NaT</td>\n",
       "      <td>NaT</td>\n",
       "      <td>NaT</td>\n",
       "    </tr>\n",
       "    <tr>\n",
       "      <th>4</th>\n",
       "      <td>5</td>\n",
       "      <td>2019-05-03 13:18:15</td>\n",
       "      <td>2019-05-03 13:32:06</td>\n",
       "      <td>NaT</td>\n",
       "      <td>NaT</td>\n",
       "      <td>NaT</td>\n",
       "      <td>NaT</td>\n",
       "      <td>NaT</td>\n",
       "      <td>NaT</td>\n",
       "      <td>NaT</td>\n",
       "    </tr>\n",
       "    <tr>\n",
       "      <th>...</th>\n",
       "      <td>...</td>\n",
       "      <td>...</td>\n",
       "      <td>...</td>\n",
       "      <td>...</td>\n",
       "      <td>...</td>\n",
       "      <td>...</td>\n",
       "      <td>...</td>\n",
       "      <td>...</td>\n",
       "      <td>...</td>\n",
       "      <td>...</td>\n",
       "    </tr>\n",
       "    <tr>\n",
       "      <th>3076</th>\n",
       "      <td>3237</td>\n",
       "      <td>2019-08-31 22:50:20</td>\n",
       "      <td>NaT</td>\n",
       "      <td>NaT</td>\n",
       "      <td>NaT</td>\n",
       "      <td>NaT</td>\n",
       "      <td>NaT</td>\n",
       "      <td>NaT</td>\n",
       "      <td>NaT</td>\n",
       "      <td>NaT</td>\n",
       "    </tr>\n",
       "    <tr>\n",
       "      <th>3077</th>\n",
       "      <td>3238</td>\n",
       "      <td>2019-08-31 23:38:24</td>\n",
       "      <td>NaT</td>\n",
       "      <td>NaT</td>\n",
       "      <td>NaT</td>\n",
       "      <td>NaT</td>\n",
       "      <td>NaT</td>\n",
       "      <td>NaT</td>\n",
       "      <td>NaT</td>\n",
       "      <td>NaT</td>\n",
       "    </tr>\n",
       "    <tr>\n",
       "      <th>3078</th>\n",
       "      <td>3239</td>\n",
       "      <td>2019-09-01 01:50:43</td>\n",
       "      <td>NaT</td>\n",
       "      <td>NaT</td>\n",
       "      <td>NaT</td>\n",
       "      <td>NaT</td>\n",
       "      <td>NaT</td>\n",
       "      <td>NaT</td>\n",
       "      <td>NaT</td>\n",
       "      <td>NaT</td>\n",
       "    </tr>\n",
       "    <tr>\n",
       "      <th>3079</th>\n",
       "      <td>3240</td>\n",
       "      <td>2019-09-01 03:12:02</td>\n",
       "      <td>NaT</td>\n",
       "      <td>NaT</td>\n",
       "      <td>NaT</td>\n",
       "      <td>NaT</td>\n",
       "      <td>NaT</td>\n",
       "      <td>NaT</td>\n",
       "      <td>NaT</td>\n",
       "      <td>NaT</td>\n",
       "    </tr>\n",
       "    <tr>\n",
       "      <th>3080</th>\n",
       "      <td>3241</td>\n",
       "      <td>2019-09-01 04:16:01</td>\n",
       "      <td>NaT</td>\n",
       "      <td>NaT</td>\n",
       "      <td>NaT</td>\n",
       "      <td>NaT</td>\n",
       "      <td>NaT</td>\n",
       "      <td>NaT</td>\n",
       "      <td>NaT</td>\n",
       "      <td>NaT</td>\n",
       "    </tr>\n",
       "  </tbody>\n",
       "</table>\n",
       "<p>3081 rows × 10 columns</p>\n",
       "</div>"
      ],
      "text/plain": [
       "       key              Wire 1              Wire 2 Wire 3 Wire 4 Wire 5  \\\n",
       "0        1 2019-05-03 11:11:41                 NaT    NaT    NaT    NaT   \n",
       "1        2 2019-05-03 11:46:10                 NaT    NaT    NaT    NaT   \n",
       "2        3 2019-05-03 12:13:47                 NaT    NaT    NaT    NaT   \n",
       "3        4 2019-05-03 12:48:05                 NaT    NaT    NaT    NaT   \n",
       "4        5 2019-05-03 13:18:15 2019-05-03 13:32:06    NaT    NaT    NaT   \n",
       "...    ...                 ...                 ...    ...    ...    ...   \n",
       "3076  3237 2019-08-31 22:50:20                 NaT    NaT    NaT    NaT   \n",
       "3077  3238 2019-08-31 23:38:24                 NaT    NaT    NaT    NaT   \n",
       "3078  3239 2019-09-01 01:50:43                 NaT    NaT    NaT    NaT   \n",
       "3079  3240 2019-09-01 03:12:02                 NaT    NaT    NaT    NaT   \n",
       "3080  3241 2019-09-01 04:16:01                 NaT    NaT    NaT    NaT   \n",
       "\n",
       "     Wire 6 Wire 7 Wire 8 Wire 9  \n",
       "0       NaT    NaT    NaT    NaT  \n",
       "1       NaT    NaT    NaT    NaT  \n",
       "2       NaT    NaT    NaT    NaT  \n",
       "3       NaT    NaT    NaT    NaT  \n",
       "4       NaT    NaT    NaT    NaT  \n",
       "...     ...    ...    ...    ...  \n",
       "3076    NaT    NaT    NaT    NaT  \n",
       "3077    NaT    NaT    NaT    NaT  \n",
       "3078    NaT    NaT    NaT    NaT  \n",
       "3079    NaT    NaT    NaT    NaT  \n",
       "3080    NaT    NaT    NaT    NaT  \n",
       "\n",
       "[3081 rows x 10 columns]"
      ]
     },
     "metadata": {},
     "output_type": "display_data"
    }
   ],
   "source": [
    "for column in data_wire_time.loc[:, data_wire_time.columns != 'key'].columns:\n",
    "    data_wire_time[column] = pd.to_datetime(\n",
    "        data_wire_time[column], format='%Y-%m-%d %H:%M:%S')\n",
    "\n",
    "display(data_wire_time)"
   ]
  },
  {
   "cell_type": "code",
   "execution_count": 68,
   "id": "organized-adult",
   "metadata": {},
   "outputs": [
    {
     "name": "stdout",
     "output_type": "stream",
     "text": [
      "<class 'pandas.core.frame.DataFrame'>\n",
      "RangeIndex: 3081 entries, 0 to 3080\n",
      "Data columns (total 10 columns):\n",
      " #   Column  Non-Null Count  Dtype         \n",
      "---  ------  --------------  -----         \n",
      " 0   key     3081 non-null   int64         \n",
      " 1   Wire 1  3055 non-null   datetime64[ns]\n",
      " 2   Wire 2  1079 non-null   datetime64[ns]\n",
      " 3   Wire 3  63 non-null     datetime64[ns]\n",
      " 4   Wire 4  14 non-null     datetime64[ns]\n",
      " 5   Wire 5  1 non-null      datetime64[ns]\n",
      " 6   Wire 6  73 non-null     datetime64[ns]\n",
      " 7   Wire 7  11 non-null     datetime64[ns]\n",
      " 8   Wire 8  19 non-null     datetime64[ns]\n",
      " 9   Wire 9  29 non-null     datetime64[ns]\n",
      "dtypes: datetime64[ns](9), int64(1)\n",
      "memory usage: 240.8 KB\n"
     ]
    }
   ],
   "source": [
    "data_wire_time.info()"
   ]
  },
  {
   "cell_type": "code",
   "execution_count": 69,
   "id": "french-pointer",
   "metadata": {},
   "outputs": [
    {
     "data": {
      "text/html": [
       "<div>\n",
       "<style scoped>\n",
       "    .dataframe tbody tr th:only-of-type {\n",
       "        vertical-align: middle;\n",
       "    }\n",
       "\n",
       "    .dataframe tbody tr th {\n",
       "        vertical-align: top;\n",
       "    }\n",
       "\n",
       "    .dataframe thead th {\n",
       "        text-align: right;\n",
       "    }\n",
       "</style>\n",
       "<table border=\"1\" class=\"dataframe\">\n",
       "  <thead>\n",
       "    <tr style=\"text-align: right;\">\n",
       "      <th></th>\n",
       "      <th>key</th>\n",
       "      <th>Wire 1</th>\n",
       "      <th>Wire 2</th>\n",
       "      <th>Wire 3</th>\n",
       "      <th>Wire 4</th>\n",
       "      <th>Wire 5</th>\n",
       "      <th>Wire 6</th>\n",
       "      <th>Wire 7</th>\n",
       "      <th>Wire 8</th>\n",
       "      <th>Wire 9</th>\n",
       "      <th>first_time</th>\n",
       "      <th>first_temp</th>\n",
       "      <th>last_time</th>\n",
       "      <th>last_temp</th>\n",
       "    </tr>\n",
       "  </thead>\n",
       "  <tbody>\n",
       "    <tr>\n",
       "      <th>0</th>\n",
       "      <td>1</td>\n",
       "      <td>2019-05-03 11:11:41</td>\n",
       "      <td>NaT</td>\n",
       "      <td>NaT</td>\n",
       "      <td>NaT</td>\n",
       "      <td>NaT</td>\n",
       "      <td>NaT</td>\n",
       "      <td>NaT</td>\n",
       "      <td>NaT</td>\n",
       "      <td>NaT</td>\n",
       "      <td>2019-05-03 11:16:18</td>\n",
       "      <td>1571.0</td>\n",
       "      <td>2019-05-03 11:30:39</td>\n",
       "      <td>1613.0</td>\n",
       "    </tr>\n",
       "    <tr>\n",
       "      <th>1</th>\n",
       "      <td>2</td>\n",
       "      <td>2019-05-03 11:46:10</td>\n",
       "      <td>NaT</td>\n",
       "      <td>NaT</td>\n",
       "      <td>NaT</td>\n",
       "      <td>NaT</td>\n",
       "      <td>NaT</td>\n",
       "      <td>NaT</td>\n",
       "      <td>NaT</td>\n",
       "      <td>NaT</td>\n",
       "      <td>2019-05-03 11:37:27</td>\n",
       "      <td>1581.0</td>\n",
       "      <td>2019-05-03 11:59:12</td>\n",
       "      <td>1602.0</td>\n",
       "    </tr>\n",
       "    <tr>\n",
       "      <th>2</th>\n",
       "      <td>3</td>\n",
       "      <td>2019-05-03 12:13:47</td>\n",
       "      <td>NaT</td>\n",
       "      <td>NaT</td>\n",
       "      <td>NaT</td>\n",
       "      <td>NaT</td>\n",
       "      <td>NaT</td>\n",
       "      <td>NaT</td>\n",
       "      <td>NaT</td>\n",
       "      <td>NaT</td>\n",
       "      <td>2019-05-03 12:13:17</td>\n",
       "      <td>1596.0</td>\n",
       "      <td>2019-05-03 12:34:57</td>\n",
       "      <td>1599.0</td>\n",
       "    </tr>\n",
       "    <tr>\n",
       "      <th>3</th>\n",
       "      <td>4</td>\n",
       "      <td>2019-05-03 12:48:05</td>\n",
       "      <td>NaT</td>\n",
       "      <td>NaT</td>\n",
       "      <td>NaT</td>\n",
       "      <td>NaT</td>\n",
       "      <td>NaT</td>\n",
       "      <td>NaT</td>\n",
       "      <td>NaT</td>\n",
       "      <td>NaT</td>\n",
       "      <td>2019-05-03 12:52:57</td>\n",
       "      <td>1601.0</td>\n",
       "      <td>2019-05-03 12:59:25</td>\n",
       "      <td>1625.0</td>\n",
       "    </tr>\n",
       "    <tr>\n",
       "      <th>4</th>\n",
       "      <td>5</td>\n",
       "      <td>2019-05-03 13:18:15</td>\n",
       "      <td>2019-05-03 13:32:06</td>\n",
       "      <td>NaT</td>\n",
       "      <td>NaT</td>\n",
       "      <td>NaT</td>\n",
       "      <td>NaT</td>\n",
       "      <td>NaT</td>\n",
       "      <td>NaT</td>\n",
       "      <td>NaT</td>\n",
       "      <td>2019-05-03 13:23:19</td>\n",
       "      <td>1576.0</td>\n",
       "      <td>2019-05-03 13:36:01</td>\n",
       "      <td>1602.0</td>\n",
       "    </tr>\n",
       "  </tbody>\n",
       "</table>\n",
       "</div>"
      ],
      "text/plain": [
       "   key              Wire 1              Wire 2 Wire 3 Wire 4 Wire 5 Wire 6  \\\n",
       "0    1 2019-05-03 11:11:41                 NaT    NaT    NaT    NaT    NaT   \n",
       "1    2 2019-05-03 11:46:10                 NaT    NaT    NaT    NaT    NaT   \n",
       "2    3 2019-05-03 12:13:47                 NaT    NaT    NaT    NaT    NaT   \n",
       "3    4 2019-05-03 12:48:05                 NaT    NaT    NaT    NaT    NaT   \n",
       "4    5 2019-05-03 13:18:15 2019-05-03 13:32:06    NaT    NaT    NaT    NaT   \n",
       "\n",
       "  Wire 7 Wire 8 Wire 9          first_time  first_temp           last_time  \\\n",
       "0    NaT    NaT    NaT 2019-05-03 11:16:18      1571.0 2019-05-03 11:30:39   \n",
       "1    NaT    NaT    NaT 2019-05-03 11:37:27      1581.0 2019-05-03 11:59:12   \n",
       "2    NaT    NaT    NaT 2019-05-03 12:13:17      1596.0 2019-05-03 12:34:57   \n",
       "3    NaT    NaT    NaT 2019-05-03 12:52:57      1601.0 2019-05-03 12:59:25   \n",
       "4    NaT    NaT    NaT 2019-05-03 13:23:19      1576.0 2019-05-03 13:36:01   \n",
       "\n",
       "   last_temp  \n",
       "0     1613.0  \n",
       "1     1602.0  \n",
       "2     1599.0  \n",
       "3     1625.0  \n",
       "4     1602.0  "
      ]
     },
     "metadata": {},
     "output_type": "display_data"
    }
   ],
   "source": [
    "data_wire_time = data_wire_time.merge(data_temp, on='key', how='left')\n",
    "display(data_wire_time.head())"
   ]
  },
  {
   "cell_type": "code",
   "execution_count": 70,
   "id": "neither-champagne",
   "metadata": {},
   "outputs": [
    {
     "data": {
      "text/html": [
       "<div>\n",
       "<style scoped>\n",
       "    .dataframe tbody tr th:only-of-type {\n",
       "        vertical-align: middle;\n",
       "    }\n",
       "\n",
       "    .dataframe tbody tr th {\n",
       "        vertical-align: top;\n",
       "    }\n",
       "\n",
       "    .dataframe thead th {\n",
       "        text-align: right;\n",
       "    }\n",
       "</style>\n",
       "<table border=\"1\" class=\"dataframe\">\n",
       "  <thead>\n",
       "    <tr style=\"text-align: right;\">\n",
       "      <th></th>\n",
       "      <th>key</th>\n",
       "      <th>Wire 1</th>\n",
       "      <th>Wire 2</th>\n",
       "      <th>Wire 3</th>\n",
       "      <th>Wire 4</th>\n",
       "      <th>Wire 5</th>\n",
       "      <th>Wire 6</th>\n",
       "      <th>Wire 7</th>\n",
       "      <th>Wire 8</th>\n",
       "      <th>Wire 9</th>\n",
       "      <th>first_time</th>\n",
       "      <th>last_time</th>\n",
       "    </tr>\n",
       "  </thead>\n",
       "  <tbody>\n",
       "    <tr>\n",
       "      <th>0</th>\n",
       "      <td>1</td>\n",
       "      <td>2019-05-03 11:11:41</td>\n",
       "      <td>NaT</td>\n",
       "      <td>NaT</td>\n",
       "      <td>NaT</td>\n",
       "      <td>NaT</td>\n",
       "      <td>NaT</td>\n",
       "      <td>NaT</td>\n",
       "      <td>NaT</td>\n",
       "      <td>NaT</td>\n",
       "      <td>2019-05-03 11:16:18</td>\n",
       "      <td>2019-05-03 11:30:39</td>\n",
       "    </tr>\n",
       "    <tr>\n",
       "      <th>1</th>\n",
       "      <td>2</td>\n",
       "      <td>2019-05-03 11:46:10</td>\n",
       "      <td>NaT</td>\n",
       "      <td>NaT</td>\n",
       "      <td>NaT</td>\n",
       "      <td>NaT</td>\n",
       "      <td>NaT</td>\n",
       "      <td>NaT</td>\n",
       "      <td>NaT</td>\n",
       "      <td>NaT</td>\n",
       "      <td>2019-05-03 11:37:27</td>\n",
       "      <td>2019-05-03 11:59:12</td>\n",
       "    </tr>\n",
       "    <tr>\n",
       "      <th>2</th>\n",
       "      <td>3</td>\n",
       "      <td>2019-05-03 12:13:47</td>\n",
       "      <td>NaT</td>\n",
       "      <td>NaT</td>\n",
       "      <td>NaT</td>\n",
       "      <td>NaT</td>\n",
       "      <td>NaT</td>\n",
       "      <td>NaT</td>\n",
       "      <td>NaT</td>\n",
       "      <td>NaT</td>\n",
       "      <td>2019-05-03 12:13:17</td>\n",
       "      <td>2019-05-03 12:34:57</td>\n",
       "    </tr>\n",
       "    <tr>\n",
       "      <th>3</th>\n",
       "      <td>4</td>\n",
       "      <td>2019-05-03 12:48:05</td>\n",
       "      <td>NaT</td>\n",
       "      <td>NaT</td>\n",
       "      <td>NaT</td>\n",
       "      <td>NaT</td>\n",
       "      <td>NaT</td>\n",
       "      <td>NaT</td>\n",
       "      <td>NaT</td>\n",
       "      <td>NaT</td>\n",
       "      <td>2019-05-03 12:52:57</td>\n",
       "      <td>2019-05-03 12:59:25</td>\n",
       "    </tr>\n",
       "    <tr>\n",
       "      <th>4</th>\n",
       "      <td>5</td>\n",
       "      <td>2019-05-03 13:18:15</td>\n",
       "      <td>2019-05-03 13:32:06</td>\n",
       "      <td>NaT</td>\n",
       "      <td>NaT</td>\n",
       "      <td>NaT</td>\n",
       "      <td>NaT</td>\n",
       "      <td>NaT</td>\n",
       "      <td>NaT</td>\n",
       "      <td>NaT</td>\n",
       "      <td>2019-05-03 13:23:19</td>\n",
       "      <td>2019-05-03 13:36:01</td>\n",
       "    </tr>\n",
       "  </tbody>\n",
       "</table>\n",
       "</div>"
      ],
      "text/plain": [
       "   key              Wire 1              Wire 2 Wire 3 Wire 4 Wire 5 Wire 6  \\\n",
       "0    1 2019-05-03 11:11:41                 NaT    NaT    NaT    NaT    NaT   \n",
       "1    2 2019-05-03 11:46:10                 NaT    NaT    NaT    NaT    NaT   \n",
       "2    3 2019-05-03 12:13:47                 NaT    NaT    NaT    NaT    NaT   \n",
       "3    4 2019-05-03 12:48:05                 NaT    NaT    NaT    NaT    NaT   \n",
       "4    5 2019-05-03 13:18:15 2019-05-03 13:32:06    NaT    NaT    NaT    NaT   \n",
       "\n",
       "  Wire 7 Wire 8 Wire 9          first_time           last_time  \n",
       "0    NaT    NaT    NaT 2019-05-03 11:16:18 2019-05-03 11:30:39  \n",
       "1    NaT    NaT    NaT 2019-05-03 11:37:27 2019-05-03 11:59:12  \n",
       "2    NaT    NaT    NaT 2019-05-03 12:13:17 2019-05-03 12:34:57  \n",
       "3    NaT    NaT    NaT 2019-05-03 12:52:57 2019-05-03 12:59:25  \n",
       "4    NaT    NaT    NaT 2019-05-03 13:23:19 2019-05-03 13:36:01  "
      ]
     },
     "metadata": {},
     "output_type": "display_data"
    }
   ],
   "source": [
    "data_wire_time = data_wire_time.drop(['first_temp', 'last_temp'], axis=1)\n",
    "display(data_wire_time.head())"
   ]
  },
  {
   "cell_type": "code",
   "execution_count": 71,
   "id": "valued-wichita",
   "metadata": {},
   "outputs": [
    {
     "data": {
      "text/html": [
       "<div>\n",
       "<style scoped>\n",
       "    .dataframe tbody tr th:only-of-type {\n",
       "        vertical-align: middle;\n",
       "    }\n",
       "\n",
       "    .dataframe tbody tr th {\n",
       "        vertical-align: top;\n",
       "    }\n",
       "\n",
       "    .dataframe thead th {\n",
       "        text-align: right;\n",
       "    }\n",
       "</style>\n",
       "<table border=\"1\" class=\"dataframe\">\n",
       "  <thead>\n",
       "    <tr style=\"text-align: right;\">\n",
       "      <th></th>\n",
       "      <th>key</th>\n",
       "      <th>Wire 1</th>\n",
       "      <th>Wire 2</th>\n",
       "      <th>Wire 3</th>\n",
       "      <th>Wire 4</th>\n",
       "      <th>Wire 5</th>\n",
       "      <th>Wire 6</th>\n",
       "      <th>Wire 7</th>\n",
       "      <th>Wire 8</th>\n",
       "      <th>Wire 9</th>\n",
       "    </tr>\n",
       "  </thead>\n",
       "  <tbody>\n",
       "    <tr>\n",
       "      <th>0</th>\n",
       "      <td>1</td>\n",
       "      <td>False</td>\n",
       "      <td>False</td>\n",
       "      <td>False</td>\n",
       "      <td>False</td>\n",
       "      <td>False</td>\n",
       "      <td>False</td>\n",
       "      <td>False</td>\n",
       "      <td>False</td>\n",
       "      <td>False</td>\n",
       "    </tr>\n",
       "    <tr>\n",
       "      <th>1</th>\n",
       "      <td>2</td>\n",
       "      <td>True</td>\n",
       "      <td>False</td>\n",
       "      <td>False</td>\n",
       "      <td>False</td>\n",
       "      <td>False</td>\n",
       "      <td>False</td>\n",
       "      <td>False</td>\n",
       "      <td>False</td>\n",
       "      <td>False</td>\n",
       "    </tr>\n",
       "    <tr>\n",
       "      <th>2</th>\n",
       "      <td>3</td>\n",
       "      <td>True</td>\n",
       "      <td>False</td>\n",
       "      <td>False</td>\n",
       "      <td>False</td>\n",
       "      <td>False</td>\n",
       "      <td>False</td>\n",
       "      <td>False</td>\n",
       "      <td>False</td>\n",
       "      <td>False</td>\n",
       "    </tr>\n",
       "    <tr>\n",
       "      <th>3</th>\n",
       "      <td>4</td>\n",
       "      <td>False</td>\n",
       "      <td>False</td>\n",
       "      <td>False</td>\n",
       "      <td>False</td>\n",
       "      <td>False</td>\n",
       "      <td>False</td>\n",
       "      <td>False</td>\n",
       "      <td>False</td>\n",
       "      <td>False</td>\n",
       "    </tr>\n",
       "    <tr>\n",
       "      <th>4</th>\n",
       "      <td>5</td>\n",
       "      <td>False</td>\n",
       "      <td>True</td>\n",
       "      <td>False</td>\n",
       "      <td>False</td>\n",
       "      <td>False</td>\n",
       "      <td>False</td>\n",
       "      <td>False</td>\n",
       "      <td>False</td>\n",
       "      <td>False</td>\n",
       "    </tr>\n",
       "  </tbody>\n",
       "</table>\n",
       "</div>"
      ],
      "text/plain": [
       "   key  Wire 1  Wire 2  Wire 3  Wire 4  Wire 5  Wire 6  Wire 7  Wire 8  Wire 9\n",
       "0    1   False   False   False   False   False   False   False   False   False\n",
       "1    2    True   False   False   False   False   False   False   False   False\n",
       "2    3    True   False   False   False   False   False   False   False   False\n",
       "3    4   False   False   False   False   False   False   False   False   False\n",
       "4    5   False    True   False   False   False   False   False   False   False"
      ]
     },
     "metadata": {},
     "output_type": "display_data"
    }
   ],
   "source": [
    "for column in data_wire_time.loc[:, 'Wire 1': 'Wire 9'].columns:\n",
    "    data_wire_time[column] = np.where((data_wire_time[column] > data_wire_time['first_time']) &\n",
    "                                      (data_wire_time[column] <\n",
    "                                       data_wire_time['last_time']),\n",
    "                                      True,\n",
    "                                      False)\n",
    "\n",
    "\n",
    "data_wire_time = data_wire_time.loc[:, 'key': 'Wire 9']\n",
    "display(data_wire_time.head())"
   ]
  },
  {
   "cell_type": "code",
   "execution_count": 72,
   "id": "tight-category",
   "metadata": {},
   "outputs": [
    {
     "data": {
      "text/html": [
       "<div>\n",
       "<style scoped>\n",
       "    .dataframe tbody tr th:only-of-type {\n",
       "        vertical-align: middle;\n",
       "    }\n",
       "\n",
       "    .dataframe tbody tr th {\n",
       "        vertical-align: top;\n",
       "    }\n",
       "\n",
       "    .dataframe thead th {\n",
       "        text-align: right;\n",
       "    }\n",
       "</style>\n",
       "<table border=\"1\" class=\"dataframe\">\n",
       "  <thead>\n",
       "    <tr style=\"text-align: right;\">\n",
       "      <th></th>\n",
       "      <th>key</th>\n",
       "      <th>Wire 1</th>\n",
       "      <th>Wire 2</th>\n",
       "      <th>Wire 3</th>\n",
       "      <th>Wire 4</th>\n",
       "      <th>Wire 5</th>\n",
       "      <th>Wire 6</th>\n",
       "      <th>Wire 7</th>\n",
       "      <th>Wire 8</th>\n",
       "      <th>Wire 9</th>\n",
       "    </tr>\n",
       "  </thead>\n",
       "  <tbody>\n",
       "    <tr>\n",
       "      <th>0</th>\n",
       "      <td>1.0</td>\n",
       "      <td>0.000000</td>\n",
       "      <td>0.00000</td>\n",
       "      <td>0.0</td>\n",
       "      <td>0.0</td>\n",
       "      <td>0.0</td>\n",
       "      <td>0.0</td>\n",
       "      <td>0.0</td>\n",
       "      <td>0.0</td>\n",
       "      <td>0.0</td>\n",
       "    </tr>\n",
       "    <tr>\n",
       "      <th>1</th>\n",
       "      <td>2.0</td>\n",
       "      <td>96.052315</td>\n",
       "      <td>0.00000</td>\n",
       "      <td>0.0</td>\n",
       "      <td>0.0</td>\n",
       "      <td>0.0</td>\n",
       "      <td>0.0</td>\n",
       "      <td>0.0</td>\n",
       "      <td>0.0</td>\n",
       "      <td>0.0</td>\n",
       "    </tr>\n",
       "    <tr>\n",
       "      <th>2</th>\n",
       "      <td>3.0</td>\n",
       "      <td>91.160157</td>\n",
       "      <td>0.00000</td>\n",
       "      <td>0.0</td>\n",
       "      <td>0.0</td>\n",
       "      <td>0.0</td>\n",
       "      <td>0.0</td>\n",
       "      <td>0.0</td>\n",
       "      <td>0.0</td>\n",
       "      <td>0.0</td>\n",
       "    </tr>\n",
       "    <tr>\n",
       "      <th>3</th>\n",
       "      <td>4.0</td>\n",
       "      <td>0.000000</td>\n",
       "      <td>0.00000</td>\n",
       "      <td>0.0</td>\n",
       "      <td>0.0</td>\n",
       "      <td>0.0</td>\n",
       "      <td>0.0</td>\n",
       "      <td>0.0</td>\n",
       "      <td>0.0</td>\n",
       "      <td>0.0</td>\n",
       "    </tr>\n",
       "    <tr>\n",
       "      <th>4</th>\n",
       "      <td>5.0</td>\n",
       "      <td>0.000000</td>\n",
       "      <td>9.11456</td>\n",
       "      <td>0.0</td>\n",
       "      <td>0.0</td>\n",
       "      <td>0.0</td>\n",
       "      <td>0.0</td>\n",
       "      <td>0.0</td>\n",
       "      <td>0.0</td>\n",
       "      <td>0.0</td>\n",
       "    </tr>\n",
       "  </tbody>\n",
       "</table>\n",
       "</div>"
      ],
      "text/plain": [
       "   key     Wire 1   Wire 2  Wire 3  Wire 4  Wire 5  Wire 6  Wire 7  Wire 8  \\\n",
       "0  1.0   0.000000  0.00000     0.0     0.0     0.0     0.0     0.0     0.0   \n",
       "1  2.0  96.052315  0.00000     0.0     0.0     0.0     0.0     0.0     0.0   \n",
       "2  3.0  91.160157  0.00000     0.0     0.0     0.0     0.0     0.0     0.0   \n",
       "3  4.0   0.000000  0.00000     0.0     0.0     0.0     0.0     0.0     0.0   \n",
       "4  5.0   0.000000  9.11456     0.0     0.0     0.0     0.0     0.0     0.0   \n",
       "\n",
       "   Wire 9  \n",
       "0     0.0  \n",
       "1     0.0  \n",
       "2     0.0  \n",
       "3     0.0  \n",
       "4     0.0  "
      ]
     },
     "metadata": {},
     "output_type": "display_data"
    }
   ],
   "source": [
    "clean_data_wire = np.where(data_wire_time, data_wire, 0)\n",
    "clean_data_wire = pd.DataFrame(data=clean_data_wire, columns=data_wire.columns)\n",
    "display(clean_data_wire.head())"
   ]
  },
  {
   "cell_type": "code",
   "execution_count": 73,
   "id": "afraid-accommodation",
   "metadata": {},
   "outputs": [],
   "source": [
    "clean_data_wire['key'] = clean_data_wire['key'].astype('int')"
   ]
  },
  {
   "cell_type": "code",
   "execution_count": 74,
   "id": "native-hygiene",
   "metadata": {},
   "outputs": [
    {
     "data": {
      "text/html": [
       "<div>\n",
       "<style scoped>\n",
       "    .dataframe tbody tr th:only-of-type {\n",
       "        vertical-align: middle;\n",
       "    }\n",
       "\n",
       "    .dataframe tbody tr th {\n",
       "        vertical-align: top;\n",
       "    }\n",
       "\n",
       "    .dataframe thead th {\n",
       "        text-align: right;\n",
       "    }\n",
       "</style>\n",
       "<table border=\"1\" class=\"dataframe\">\n",
       "  <thead>\n",
       "    <tr style=\"text-align: right;\">\n",
       "      <th></th>\n",
       "      <th>key</th>\n",
       "      <th>Wire 1</th>\n",
       "      <th>Wire 2</th>\n",
       "      <th>Wire 3</th>\n",
       "      <th>Wire 4</th>\n",
       "      <th>Wire 5</th>\n",
       "      <th>Wire 6</th>\n",
       "      <th>Wire 7</th>\n",
       "      <th>Wire 8</th>\n",
       "      <th>Wire 9</th>\n",
       "    </tr>\n",
       "  </thead>\n",
       "  <tbody>\n",
       "    <tr>\n",
       "      <th>0</th>\n",
       "      <td>1</td>\n",
       "      <td>0.000000</td>\n",
       "      <td>0.00000</td>\n",
       "      <td>0.0</td>\n",
       "      <td>0.0</td>\n",
       "      <td>0.0</td>\n",
       "      <td>0.0</td>\n",
       "      <td>0.0</td>\n",
       "      <td>0.0</td>\n",
       "      <td>0.0</td>\n",
       "    </tr>\n",
       "    <tr>\n",
       "      <th>1</th>\n",
       "      <td>2</td>\n",
       "      <td>96.052315</td>\n",
       "      <td>0.00000</td>\n",
       "      <td>0.0</td>\n",
       "      <td>0.0</td>\n",
       "      <td>0.0</td>\n",
       "      <td>0.0</td>\n",
       "      <td>0.0</td>\n",
       "      <td>0.0</td>\n",
       "      <td>0.0</td>\n",
       "    </tr>\n",
       "    <tr>\n",
       "      <th>2</th>\n",
       "      <td>3</td>\n",
       "      <td>91.160157</td>\n",
       "      <td>0.00000</td>\n",
       "      <td>0.0</td>\n",
       "      <td>0.0</td>\n",
       "      <td>0.0</td>\n",
       "      <td>0.0</td>\n",
       "      <td>0.0</td>\n",
       "      <td>0.0</td>\n",
       "      <td>0.0</td>\n",
       "    </tr>\n",
       "    <tr>\n",
       "      <th>3</th>\n",
       "      <td>4</td>\n",
       "      <td>0.000000</td>\n",
       "      <td>0.00000</td>\n",
       "      <td>0.0</td>\n",
       "      <td>0.0</td>\n",
       "      <td>0.0</td>\n",
       "      <td>0.0</td>\n",
       "      <td>0.0</td>\n",
       "      <td>0.0</td>\n",
       "      <td>0.0</td>\n",
       "    </tr>\n",
       "    <tr>\n",
       "      <th>4</th>\n",
       "      <td>5</td>\n",
       "      <td>0.000000</td>\n",
       "      <td>9.11456</td>\n",
       "      <td>0.0</td>\n",
       "      <td>0.0</td>\n",
       "      <td>0.0</td>\n",
       "      <td>0.0</td>\n",
       "      <td>0.0</td>\n",
       "      <td>0.0</td>\n",
       "      <td>0.0</td>\n",
       "    </tr>\n",
       "  </tbody>\n",
       "</table>\n",
       "</div>"
      ],
      "text/plain": [
       "   key     Wire 1   Wire 2  Wire 3  Wire 4  Wire 5  Wire 6  Wire 7  Wire 8  \\\n",
       "0    1   0.000000  0.00000     0.0     0.0     0.0     0.0     0.0     0.0   \n",
       "1    2  96.052315  0.00000     0.0     0.0     0.0     0.0     0.0     0.0   \n",
       "2    3  91.160157  0.00000     0.0     0.0     0.0     0.0     0.0     0.0   \n",
       "3    4   0.000000  0.00000     0.0     0.0     0.0     0.0     0.0     0.0   \n",
       "4    5   0.000000  9.11456     0.0     0.0     0.0     0.0     0.0     0.0   \n",
       "\n",
       "   Wire 9  \n",
       "0     0.0  \n",
       "1     0.0  \n",
       "2     0.0  \n",
       "3     0.0  \n",
       "4     0.0  "
      ]
     },
     "metadata": {},
     "output_type": "display_data"
    }
   ],
   "source": [
    "display(clean_data_wire.head())"
   ]
  },
  {
   "cell_type": "code",
   "execution_count": 75,
   "id": "completed-thing",
   "metadata": {},
   "outputs": [
    {
     "name": "stdout",
     "output_type": "stream",
     "text": [
      "<class 'pandas.core.frame.DataFrame'>\n",
      "RangeIndex: 3081 entries, 0 to 3080\n",
      "Data columns (total 10 columns):\n",
      " #   Column  Non-Null Count  Dtype  \n",
      "---  ------  --------------  -----  \n",
      " 0   key     3081 non-null   int64  \n",
      " 1   Wire 1  3081 non-null   float64\n",
      " 2   Wire 2  3081 non-null   float64\n",
      " 3   Wire 3  3081 non-null   float64\n",
      " 4   Wire 4  3081 non-null   float64\n",
      " 5   Wire 5  3081 non-null   float64\n",
      " 6   Wire 6  3081 non-null   float64\n",
      " 7   Wire 7  3081 non-null   float64\n",
      " 8   Wire 8  3081 non-null   float64\n",
      " 9   Wire 9  3081 non-null   float64\n",
      "dtypes: float64(9), int64(1)\n",
      "memory usage: 240.8 KB\n"
     ]
    }
   ],
   "source": [
    "clean_data_wire.info()"
   ]
  },
  {
   "cell_type": "code",
   "execution_count": 76,
   "id": "advance-indianapolis",
   "metadata": {
    "scrolled": true
   },
   "outputs": [
    {
     "data": {
      "text/html": [
       "<div>\n",
       "<style scoped>\n",
       "    .dataframe tbody tr th:only-of-type {\n",
       "        vertical-align: middle;\n",
       "    }\n",
       "\n",
       "    .dataframe tbody tr th {\n",
       "        vertical-align: top;\n",
       "    }\n",
       "\n",
       "    .dataframe thead th {\n",
       "        text-align: right;\n",
       "    }\n",
       "</style>\n",
       "<table border=\"1\" class=\"dataframe\">\n",
       "  <thead>\n",
       "    <tr style=\"text-align: right;\">\n",
       "      <th></th>\n",
       "      <th>key</th>\n",
       "      <th>first_time</th>\n",
       "      <th>first_temp</th>\n",
       "      <th>last_time</th>\n",
       "      <th>last_temp</th>\n",
       "      <th>work_energy</th>\n",
       "      <th>Bulk 1</th>\n",
       "      <th>Bulk 2</th>\n",
       "      <th>Bulk 3</th>\n",
       "      <th>Bulk 4</th>\n",
       "      <th>...</th>\n",
       "      <th>Bulk 15</th>\n",
       "      <th>Wire 1</th>\n",
       "      <th>Wire 2</th>\n",
       "      <th>Wire 3</th>\n",
       "      <th>Wire 4</th>\n",
       "      <th>Wire 5</th>\n",
       "      <th>Wire 6</th>\n",
       "      <th>Wire 7</th>\n",
       "      <th>Wire 8</th>\n",
       "      <th>Wire 9</th>\n",
       "    </tr>\n",
       "  </thead>\n",
       "  <tbody>\n",
       "    <tr>\n",
       "      <th>0</th>\n",
       "      <td>1</td>\n",
       "      <td>2019-05-03 11:16:18</td>\n",
       "      <td>1571.0</td>\n",
       "      <td>2019-05-03 11:30:39</td>\n",
       "      <td>1613.0</td>\n",
       "      <td>708.195035</td>\n",
       "      <td>0.0</td>\n",
       "      <td>0.0</td>\n",
       "      <td>0.0</td>\n",
       "      <td>43.0</td>\n",
       "      <td>...</td>\n",
       "      <td>0.0</td>\n",
       "      <td>0.000000</td>\n",
       "      <td>0.00000</td>\n",
       "      <td>0.0</td>\n",
       "      <td>0.0</td>\n",
       "      <td>0.0</td>\n",
       "      <td>0.0</td>\n",
       "      <td>0.0</td>\n",
       "      <td>0.0</td>\n",
       "      <td>0.0</td>\n",
       "    </tr>\n",
       "    <tr>\n",
       "      <th>1</th>\n",
       "      <td>2</td>\n",
       "      <td>2019-05-03 11:37:27</td>\n",
       "      <td>1581.0</td>\n",
       "      <td>2019-05-03 11:59:12</td>\n",
       "      <td>1602.0</td>\n",
       "      <td>673.801792</td>\n",
       "      <td>0.0</td>\n",
       "      <td>0.0</td>\n",
       "      <td>0.0</td>\n",
       "      <td>73.0</td>\n",
       "      <td>...</td>\n",
       "      <td>154.0</td>\n",
       "      <td>96.052315</td>\n",
       "      <td>0.00000</td>\n",
       "      <td>0.0</td>\n",
       "      <td>0.0</td>\n",
       "      <td>0.0</td>\n",
       "      <td>0.0</td>\n",
       "      <td>0.0</td>\n",
       "      <td>0.0</td>\n",
       "      <td>0.0</td>\n",
       "    </tr>\n",
       "    <tr>\n",
       "      <th>2</th>\n",
       "      <td>3</td>\n",
       "      <td>2019-05-03 12:13:17</td>\n",
       "      <td>1596.0</td>\n",
       "      <td>2019-05-03 12:34:57</td>\n",
       "      <td>1599.0</td>\n",
       "      <td>146.208505</td>\n",
       "      <td>0.0</td>\n",
       "      <td>0.0</td>\n",
       "      <td>0.0</td>\n",
       "      <td>34.0</td>\n",
       "      <td>...</td>\n",
       "      <td>0.0</td>\n",
       "      <td>91.160157</td>\n",
       "      <td>0.00000</td>\n",
       "      <td>0.0</td>\n",
       "      <td>0.0</td>\n",
       "      <td>0.0</td>\n",
       "      <td>0.0</td>\n",
       "      <td>0.0</td>\n",
       "      <td>0.0</td>\n",
       "      <td>0.0</td>\n",
       "    </tr>\n",
       "    <tr>\n",
       "      <th>3</th>\n",
       "      <td>4</td>\n",
       "      <td>2019-05-03 12:52:57</td>\n",
       "      <td>1601.0</td>\n",
       "      <td>2019-05-03 12:59:25</td>\n",
       "      <td>1625.0</td>\n",
       "      <td>339.425494</td>\n",
       "      <td>0.0</td>\n",
       "      <td>0.0</td>\n",
       "      <td>0.0</td>\n",
       "      <td>0.0</td>\n",
       "      <td>...</td>\n",
       "      <td>0.0</td>\n",
       "      <td>0.000000</td>\n",
       "      <td>0.00000</td>\n",
       "      <td>0.0</td>\n",
       "      <td>0.0</td>\n",
       "      <td>0.0</td>\n",
       "      <td>0.0</td>\n",
       "      <td>0.0</td>\n",
       "      <td>0.0</td>\n",
       "      <td>0.0</td>\n",
       "    </tr>\n",
       "    <tr>\n",
       "      <th>4</th>\n",
       "      <td>5</td>\n",
       "      <td>2019-05-03 13:23:19</td>\n",
       "      <td>1576.0</td>\n",
       "      <td>2019-05-03 13:36:01</td>\n",
       "      <td>1602.0</td>\n",
       "      <td>691.980241</td>\n",
       "      <td>0.0</td>\n",
       "      <td>0.0</td>\n",
       "      <td>0.0</td>\n",
       "      <td>0.0</td>\n",
       "      <td>...</td>\n",
       "      <td>0.0</td>\n",
       "      <td>0.000000</td>\n",
       "      <td>9.11456</td>\n",
       "      <td>0.0</td>\n",
       "      <td>0.0</td>\n",
       "      <td>0.0</td>\n",
       "      <td>0.0</td>\n",
       "      <td>0.0</td>\n",
       "      <td>0.0</td>\n",
       "      <td>0.0</td>\n",
       "    </tr>\n",
       "    <tr>\n",
       "      <th>...</th>\n",
       "      <td>...</td>\n",
       "      <td>...</td>\n",
       "      <td>...</td>\n",
       "      <td>...</td>\n",
       "      <td>...</td>\n",
       "      <td>...</td>\n",
       "      <td>...</td>\n",
       "      <td>...</td>\n",
       "      <td>...</td>\n",
       "      <td>...</td>\n",
       "      <td>...</td>\n",
       "      <td>...</td>\n",
       "      <td>...</td>\n",
       "      <td>...</td>\n",
       "      <td>...</td>\n",
       "      <td>...</td>\n",
       "      <td>...</td>\n",
       "      <td>...</td>\n",
       "      <td>...</td>\n",
       "      <td>...</td>\n",
       "      <td>...</td>\n",
       "    </tr>\n",
       "    <tr>\n",
       "      <th>2436</th>\n",
       "      <td>2495</td>\n",
       "      <td>2019-08-06 00:35:45</td>\n",
       "      <td>1570.0</td>\n",
       "      <td>2019-08-06 00:54:42</td>\n",
       "      <td>1591.0</td>\n",
       "      <td>445.038010</td>\n",
       "      <td>0.0</td>\n",
       "      <td>0.0</td>\n",
       "      <td>21.0</td>\n",
       "      <td>0.0</td>\n",
       "      <td>...</td>\n",
       "      <td>0.0</td>\n",
       "      <td>89.150879</td>\n",
       "      <td>0.00000</td>\n",
       "      <td>0.0</td>\n",
       "      <td>0.0</td>\n",
       "      <td>0.0</td>\n",
       "      <td>0.0</td>\n",
       "      <td>0.0</td>\n",
       "      <td>0.0</td>\n",
       "      <td>0.0</td>\n",
       "    </tr>\n",
       "    <tr>\n",
       "      <th>2437</th>\n",
       "      <td>2496</td>\n",
       "      <td>2019-08-06 01:02:54</td>\n",
       "      <td>1554.0</td>\n",
       "      <td>2019-08-06 01:29:52</td>\n",
       "      <td>1591.0</td>\n",
       "      <td>681.813857</td>\n",
       "      <td>0.0</td>\n",
       "      <td>0.0</td>\n",
       "      <td>0.0</td>\n",
       "      <td>63.0</td>\n",
       "      <td>...</td>\n",
       "      <td>226.0</td>\n",
       "      <td>114.179527</td>\n",
       "      <td>0.00000</td>\n",
       "      <td>0.0</td>\n",
       "      <td>0.0</td>\n",
       "      <td>0.0</td>\n",
       "      <td>0.0</td>\n",
       "      <td>0.0</td>\n",
       "      <td>0.0</td>\n",
       "      <td>0.0</td>\n",
       "    </tr>\n",
       "    <tr>\n",
       "      <th>2438</th>\n",
       "      <td>2497</td>\n",
       "      <td>2019-08-06 01:41:53</td>\n",
       "      <td>1571.0</td>\n",
       "      <td>2019-08-06 01:53:50</td>\n",
       "      <td>1589.0</td>\n",
       "      <td>336.902188</td>\n",
       "      <td>0.0</td>\n",
       "      <td>0.0</td>\n",
       "      <td>0.0</td>\n",
       "      <td>85.0</td>\n",
       "      <td>...</td>\n",
       "      <td>0.0</td>\n",
       "      <td>94.086723</td>\n",
       "      <td>9.04800</td>\n",
       "      <td>0.0</td>\n",
       "      <td>0.0</td>\n",
       "      <td>0.0</td>\n",
       "      <td>0.0</td>\n",
       "      <td>0.0</td>\n",
       "      <td>0.0</td>\n",
       "      <td>0.0</td>\n",
       "    </tr>\n",
       "    <tr>\n",
       "      <th>2439</th>\n",
       "      <td>2498</td>\n",
       "      <td>2019-08-06 02:03:49</td>\n",
       "      <td>1591.0</td>\n",
       "      <td>2019-08-06 02:25:31</td>\n",
       "      <td>1594.0</td>\n",
       "      <td>332.227571</td>\n",
       "      <td>0.0</td>\n",
       "      <td>0.0</td>\n",
       "      <td>90.0</td>\n",
       "      <td>0.0</td>\n",
       "      <td>...</td>\n",
       "      <td>0.0</td>\n",
       "      <td>118.110717</td>\n",
       "      <td>0.00000</td>\n",
       "      <td>0.0</td>\n",
       "      <td>0.0</td>\n",
       "      <td>0.0</td>\n",
       "      <td>0.0</td>\n",
       "      <td>0.0</td>\n",
       "      <td>0.0</td>\n",
       "      <td>0.0</td>\n",
       "    </tr>\n",
       "    <tr>\n",
       "      <th>2440</th>\n",
       "      <td>2499</td>\n",
       "      <td>2019-08-06 02:40:25</td>\n",
       "      <td>1569.0</td>\n",
       "      <td>2019-08-06 03:00:28</td>\n",
       "      <td>1603.0</td>\n",
       "      <td>630.261628</td>\n",
       "      <td>0.0</td>\n",
       "      <td>0.0</td>\n",
       "      <td>47.0</td>\n",
       "      <td>0.0</td>\n",
       "      <td>...</td>\n",
       "      <td>0.0</td>\n",
       "      <td>0.000000</td>\n",
       "      <td>50.00528</td>\n",
       "      <td>0.0</td>\n",
       "      <td>0.0</td>\n",
       "      <td>0.0</td>\n",
       "      <td>0.0</td>\n",
       "      <td>0.0</td>\n",
       "      <td>0.0</td>\n",
       "      <td>0.0</td>\n",
       "    </tr>\n",
       "  </tbody>\n",
       "</table>\n",
       "<p>2441 rows × 30 columns</p>\n",
       "</div>"
      ],
      "text/plain": [
       "       key          first_time  first_temp           last_time  last_temp  \\\n",
       "0        1 2019-05-03 11:16:18      1571.0 2019-05-03 11:30:39     1613.0   \n",
       "1        2 2019-05-03 11:37:27      1581.0 2019-05-03 11:59:12     1602.0   \n",
       "2        3 2019-05-03 12:13:17      1596.0 2019-05-03 12:34:57     1599.0   \n",
       "3        4 2019-05-03 12:52:57      1601.0 2019-05-03 12:59:25     1625.0   \n",
       "4        5 2019-05-03 13:23:19      1576.0 2019-05-03 13:36:01     1602.0   \n",
       "...    ...                 ...         ...                 ...        ...   \n",
       "2436  2495 2019-08-06 00:35:45      1570.0 2019-08-06 00:54:42     1591.0   \n",
       "2437  2496 2019-08-06 01:02:54      1554.0 2019-08-06 01:29:52     1591.0   \n",
       "2438  2497 2019-08-06 01:41:53      1571.0 2019-08-06 01:53:50     1589.0   \n",
       "2439  2498 2019-08-06 02:03:49      1591.0 2019-08-06 02:25:31     1594.0   \n",
       "2440  2499 2019-08-06 02:40:25      1569.0 2019-08-06 03:00:28     1603.0   \n",
       "\n",
       "      work_energy  Bulk 1  Bulk 2  Bulk 3  Bulk 4  ...  Bulk 15      Wire 1  \\\n",
       "0      708.195035     0.0     0.0     0.0    43.0  ...      0.0    0.000000   \n",
       "1      673.801792     0.0     0.0     0.0    73.0  ...    154.0   96.052315   \n",
       "2      146.208505     0.0     0.0     0.0    34.0  ...      0.0   91.160157   \n",
       "3      339.425494     0.0     0.0     0.0     0.0  ...      0.0    0.000000   \n",
       "4      691.980241     0.0     0.0     0.0     0.0  ...      0.0    0.000000   \n",
       "...           ...     ...     ...     ...     ...  ...      ...         ...   \n",
       "2436   445.038010     0.0     0.0    21.0     0.0  ...      0.0   89.150879   \n",
       "2437   681.813857     0.0     0.0     0.0    63.0  ...    226.0  114.179527   \n",
       "2438   336.902188     0.0     0.0     0.0    85.0  ...      0.0   94.086723   \n",
       "2439   332.227571     0.0     0.0    90.0     0.0  ...      0.0  118.110717   \n",
       "2440   630.261628     0.0     0.0    47.0     0.0  ...      0.0    0.000000   \n",
       "\n",
       "        Wire 2  Wire 3  Wire 4  Wire 5  Wire 6  Wire 7  Wire 8  Wire 9  \n",
       "0      0.00000     0.0     0.0     0.0     0.0     0.0     0.0     0.0  \n",
       "1      0.00000     0.0     0.0     0.0     0.0     0.0     0.0     0.0  \n",
       "2      0.00000     0.0     0.0     0.0     0.0     0.0     0.0     0.0  \n",
       "3      0.00000     0.0     0.0     0.0     0.0     0.0     0.0     0.0  \n",
       "4      9.11456     0.0     0.0     0.0     0.0     0.0     0.0     0.0  \n",
       "...        ...     ...     ...     ...     ...     ...     ...     ...  \n",
       "2436   0.00000     0.0     0.0     0.0     0.0     0.0     0.0     0.0  \n",
       "2437   0.00000     0.0     0.0     0.0     0.0     0.0     0.0     0.0  \n",
       "2438   9.04800     0.0     0.0     0.0     0.0     0.0     0.0     0.0  \n",
       "2439   0.00000     0.0     0.0     0.0     0.0     0.0     0.0     0.0  \n",
       "2440  50.00528     0.0     0.0     0.0     0.0     0.0     0.0     0.0  \n",
       "\n",
       "[2441 rows x 30 columns]"
      ]
     },
     "metadata": {},
     "output_type": "display_data"
    }
   ],
   "source": [
    "data = data.merge(clean_data_wire, on='key', how='left')\n",
    "display(data)"
   ]
  },
  {
   "cell_type": "markdown",
   "id": "dominant-patrol",
   "metadata": {},
   "source": [
    "Мы получили окончательный датасет с данными. Осталось удалить даты."
   ]
  },
  {
   "cell_type": "code",
   "execution_count": 77,
   "id": "ignored-weather",
   "metadata": {},
   "outputs": [],
   "source": [
    "data = data.drop(columns=['first_time', 'last_time', 'key'])"
   ]
  },
  {
   "cell_type": "code",
   "execution_count": 78,
   "id": "respiratory-ratio",
   "metadata": {},
   "outputs": [],
   "source": [
    "data = data.fillna(0)"
   ]
  },
  {
   "cell_type": "markdown",
   "id": "interracial-wages",
   "metadata": {},
   "source": [
    "Проверим корреляцию данных между собой"
   ]
  },
  {
   "cell_type": "code",
   "execution_count": 79,
   "id": "wired-upper",
   "metadata": {
    "scrolled": true
   },
   "outputs": [
    {
     "data": {
      "text/html": [
       "<div>\n",
       "<style scoped>\n",
       "    .dataframe tbody tr th:only-of-type {\n",
       "        vertical-align: middle;\n",
       "    }\n",
       "\n",
       "    .dataframe tbody tr th {\n",
       "        vertical-align: top;\n",
       "    }\n",
       "\n",
       "    .dataframe thead th {\n",
       "        text-align: right;\n",
       "    }\n",
       "</style>\n",
       "<table border=\"1\" class=\"dataframe\">\n",
       "  <thead>\n",
       "    <tr style=\"text-align: right;\">\n",
       "      <th></th>\n",
       "      <th>first_temp</th>\n",
       "      <th>last_temp</th>\n",
       "      <th>work_energy</th>\n",
       "      <th>Bulk 1</th>\n",
       "      <th>Bulk 2</th>\n",
       "      <th>Bulk 3</th>\n",
       "      <th>Bulk 4</th>\n",
       "      <th>Bulk 5</th>\n",
       "      <th>Bulk 6</th>\n",
       "      <th>Bulk 7</th>\n",
       "      <th>...</th>\n",
       "      <th>Bulk 15</th>\n",
       "      <th>Wire 1</th>\n",
       "      <th>Wire 2</th>\n",
       "      <th>Wire 3</th>\n",
       "      <th>Wire 4</th>\n",
       "      <th>Wire 5</th>\n",
       "      <th>Wire 6</th>\n",
       "      <th>Wire 7</th>\n",
       "      <th>Wire 8</th>\n",
       "      <th>Wire 9</th>\n",
       "    </tr>\n",
       "  </thead>\n",
       "  <tbody>\n",
       "    <tr>\n",
       "      <th>first_temp</th>\n",
       "      <td>1.000000</td>\n",
       "      <td>0.378002</td>\n",
       "      <td>-0.243406</td>\n",
       "      <td>0.074145</td>\n",
       "      <td>0.110787</td>\n",
       "      <td>-0.112824</td>\n",
       "      <td>0.112603</td>\n",
       "      <td>0.060714</td>\n",
       "      <td>-0.107872</td>\n",
       "      <td>0.067475</td>\n",
       "      <td>...</td>\n",
       "      <td>0.026269</td>\n",
       "      <td>0.129221</td>\n",
       "      <td>-0.081658</td>\n",
       "      <td>-0.004432</td>\n",
       "      <td>0.053206</td>\n",
       "      <td>NaN</td>\n",
       "      <td>0.020515</td>\n",
       "      <td>0.041279</td>\n",
       "      <td>-0.025056</td>\n",
       "      <td>0.004031</td>\n",
       "    </tr>\n",
       "    <tr>\n",
       "      <th>last_temp</th>\n",
       "      <td>0.378002</td>\n",
       "      <td>1.000000</td>\n",
       "      <td>0.300292</td>\n",
       "      <td>-0.077536</td>\n",
       "      <td>-0.065316</td>\n",
       "      <td>-0.081767</td>\n",
       "      <td>0.044900</td>\n",
       "      <td>-0.032667</td>\n",
       "      <td>-0.171018</td>\n",
       "      <td>-0.082286</td>\n",
       "      <td>...</td>\n",
       "      <td>0.019821</td>\n",
       "      <td>-0.043866</td>\n",
       "      <td>-0.190818</td>\n",
       "      <td>-0.045986</td>\n",
       "      <td>-0.118910</td>\n",
       "      <td>NaN</td>\n",
       "      <td>-0.068923</td>\n",
       "      <td>-0.097451</td>\n",
       "      <td>-0.015918</td>\n",
       "      <td>-0.039140</td>\n",
       "    </tr>\n",
       "    <tr>\n",
       "      <th>work_energy</th>\n",
       "      <td>-0.243406</td>\n",
       "      <td>0.300292</td>\n",
       "      <td>1.000000</td>\n",
       "      <td>0.074397</td>\n",
       "      <td>0.015064</td>\n",
       "      <td>0.075416</td>\n",
       "      <td>-0.036856</td>\n",
       "      <td>-0.019216</td>\n",
       "      <td>0.136159</td>\n",
       "      <td>0.037396</td>\n",
       "      <td>...</td>\n",
       "      <td>0.310306</td>\n",
       "      <td>0.036133</td>\n",
       "      <td>0.006730</td>\n",
       "      <td>0.002561</td>\n",
       "      <td>0.019054</td>\n",
       "      <td>NaN</td>\n",
       "      <td>0.030757</td>\n",
       "      <td>0.003013</td>\n",
       "      <td>-0.003166</td>\n",
       "      <td>-0.019860</td>\n",
       "    </tr>\n",
       "    <tr>\n",
       "      <th>Bulk 1</th>\n",
       "      <td>0.074145</td>\n",
       "      <td>-0.077536</td>\n",
       "      <td>0.074397</td>\n",
       "      <td>1.000000</td>\n",
       "      <td>0.235916</td>\n",
       "      <td>-0.000056</td>\n",
       "      <td>0.051527</td>\n",
       "      <td>0.067755</td>\n",
       "      <td>0.000678</td>\n",
       "      <td>0.248237</td>\n",
       "      <td>...</td>\n",
       "      <td>0.071835</td>\n",
       "      <td>0.070851</td>\n",
       "      <td>0.009498</td>\n",
       "      <td>0.027100</td>\n",
       "      <td>0.139170</td>\n",
       "      <td>NaN</td>\n",
       "      <td>0.170703</td>\n",
       "      <td>0.087750</td>\n",
       "      <td>-0.017351</td>\n",
       "      <td>0.007870</td>\n",
       "    </tr>\n",
       "    <tr>\n",
       "      <th>Bulk 2</th>\n",
       "      <td>0.110787</td>\n",
       "      <td>-0.065316</td>\n",
       "      <td>0.015064</td>\n",
       "      <td>0.235916</td>\n",
       "      <td>1.000000</td>\n",
       "      <td>-0.043219</td>\n",
       "      <td>0.045745</td>\n",
       "      <td>0.360803</td>\n",
       "      <td>-0.027483</td>\n",
       "      <td>0.679065</td>\n",
       "      <td>...</td>\n",
       "      <td>-0.074967</td>\n",
       "      <td>-0.119421</td>\n",
       "      <td>-0.035936</td>\n",
       "      <td>0.227442</td>\n",
       "      <td>0.666154</td>\n",
       "      <td>NaN</td>\n",
       "      <td>0.595864</td>\n",
       "      <td>0.431778</td>\n",
       "      <td>-0.005030</td>\n",
       "      <td>-0.006580</td>\n",
       "    </tr>\n",
       "    <tr>\n",
       "      <th>Bulk 3</th>\n",
       "      <td>-0.112824</td>\n",
       "      <td>-0.081767</td>\n",
       "      <td>0.075416</td>\n",
       "      <td>-0.000056</td>\n",
       "      <td>-0.043219</td>\n",
       "      <td>1.000000</td>\n",
       "      <td>-0.254835</td>\n",
       "      <td>0.000066</td>\n",
       "      <td>0.069570</td>\n",
       "      <td>-0.030568</td>\n",
       "      <td>...</td>\n",
       "      <td>0.057090</td>\n",
       "      <td>0.096991</td>\n",
       "      <td>0.119419</td>\n",
       "      <td>0.009330</td>\n",
       "      <td>-0.035991</td>\n",
       "      <td>NaN</td>\n",
       "      <td>-0.006762</td>\n",
       "      <td>-0.017928</td>\n",
       "      <td>0.003188</td>\n",
       "      <td>-0.006596</td>\n",
       "    </tr>\n",
       "    <tr>\n",
       "      <th>Bulk 4</th>\n",
       "      <td>0.112603</td>\n",
       "      <td>0.044900</td>\n",
       "      <td>-0.036856</td>\n",
       "      <td>0.051527</td>\n",
       "      <td>0.045745</td>\n",
       "      <td>-0.254835</td>\n",
       "      <td>1.000000</td>\n",
       "      <td>0.036498</td>\n",
       "      <td>-0.217591</td>\n",
       "      <td>0.049934</td>\n",
       "      <td>...</td>\n",
       "      <td>0.134639</td>\n",
       "      <td>0.315230</td>\n",
       "      <td>-0.234402</td>\n",
       "      <td>-0.032603</td>\n",
       "      <td>0.037314</td>\n",
       "      <td>NaN</td>\n",
       "      <td>-0.000546</td>\n",
       "      <td>0.036061</td>\n",
       "      <td>0.012212</td>\n",
       "      <td>-0.053644</td>\n",
       "    </tr>\n",
       "    <tr>\n",
       "      <th>Bulk 5</th>\n",
       "      <td>0.060714</td>\n",
       "      <td>-0.032667</td>\n",
       "      <td>-0.019216</td>\n",
       "      <td>0.067755</td>\n",
       "      <td>0.360803</td>\n",
       "      <td>0.000066</td>\n",
       "      <td>0.036498</td>\n",
       "      <td>1.000000</td>\n",
       "      <td>-0.020339</td>\n",
       "      <td>0.288577</td>\n",
       "      <td>...</td>\n",
       "      <td>-0.038810</td>\n",
       "      <td>-0.004892</td>\n",
       "      <td>-0.015812</td>\n",
       "      <td>0.073263</td>\n",
       "      <td>0.255068</td>\n",
       "      <td>NaN</td>\n",
       "      <td>0.219717</td>\n",
       "      <td>0.172368</td>\n",
       "      <td>-0.007876</td>\n",
       "      <td>-0.010303</td>\n",
       "    </tr>\n",
       "    <tr>\n",
       "      <th>Bulk 6</th>\n",
       "      <td>-0.107872</td>\n",
       "      <td>-0.171018</td>\n",
       "      <td>0.136159</td>\n",
       "      <td>0.000678</td>\n",
       "      <td>-0.027483</td>\n",
       "      <td>0.069570</td>\n",
       "      <td>-0.217591</td>\n",
       "      <td>-0.020339</td>\n",
       "      <td>1.000000</td>\n",
       "      <td>-0.023094</td>\n",
       "      <td>...</td>\n",
       "      <td>-0.001842</td>\n",
       "      <td>-0.119291</td>\n",
       "      <td>0.202518</td>\n",
       "      <td>-0.041917</td>\n",
       "      <td>-0.022887</td>\n",
       "      <td>NaN</td>\n",
       "      <td>-0.013675</td>\n",
       "      <td>-0.011401</td>\n",
       "      <td>-0.026069</td>\n",
       "      <td>-0.014282</td>\n",
       "    </tr>\n",
       "    <tr>\n",
       "      <th>Bulk 7</th>\n",
       "      <td>0.067475</td>\n",
       "      <td>-0.082286</td>\n",
       "      <td>0.037396</td>\n",
       "      <td>0.248237</td>\n",
       "      <td>0.679065</td>\n",
       "      <td>-0.030568</td>\n",
       "      <td>0.049934</td>\n",
       "      <td>0.288577</td>\n",
       "      <td>-0.023094</td>\n",
       "      <td>1.000000</td>\n",
       "      <td>...</td>\n",
       "      <td>-0.066353</td>\n",
       "      <td>-0.101511</td>\n",
       "      <td>0.002433</td>\n",
       "      <td>0.159578</td>\n",
       "      <td>0.748147</td>\n",
       "      <td>NaN</td>\n",
       "      <td>0.486052</td>\n",
       "      <td>0.372107</td>\n",
       "      <td>-0.004452</td>\n",
       "      <td>-0.005824</td>\n",
       "    </tr>\n",
       "    <tr>\n",
       "      <th>Bulk 8</th>\n",
       "      <td>-0.009723</td>\n",
       "      <td>-0.020661</td>\n",
       "      <td>-0.006499</td>\n",
       "      <td>-0.005085</td>\n",
       "      <td>-0.001474</td>\n",
       "      <td>0.022130</td>\n",
       "      <td>-0.012063</td>\n",
       "      <td>-0.002308</td>\n",
       "      <td>-0.007640</td>\n",
       "      <td>-0.001305</td>\n",
       "      <td>...</td>\n",
       "      <td>-0.020841</td>\n",
       "      <td>0.032012</td>\n",
       "      <td>0.020354</td>\n",
       "      <td>-0.002251</td>\n",
       "      <td>-0.001228</td>\n",
       "      <td>NaN</td>\n",
       "      <td>-0.002220</td>\n",
       "      <td>-0.000612</td>\n",
       "      <td>0.321067</td>\n",
       "      <td>-0.001829</td>\n",
       "    </tr>\n",
       "    <tr>\n",
       "      <th>Bulk 9</th>\n",
       "      <td>-0.027898</td>\n",
       "      <td>-0.019639</td>\n",
       "      <td>-0.006182</td>\n",
       "      <td>-0.017547</td>\n",
       "      <td>-0.005087</td>\n",
       "      <td>0.009374</td>\n",
       "      <td>0.001379</td>\n",
       "      <td>-0.007965</td>\n",
       "      <td>-0.026363</td>\n",
       "      <td>-0.004502</td>\n",
       "      <td>...</td>\n",
       "      <td>-0.064591</td>\n",
       "      <td>-0.008382</td>\n",
       "      <td>0.025030</td>\n",
       "      <td>-0.007768</td>\n",
       "      <td>-0.004236</td>\n",
       "      <td>NaN</td>\n",
       "      <td>-0.007660</td>\n",
       "      <td>-0.002110</td>\n",
       "      <td>0.974974</td>\n",
       "      <td>-0.006312</td>\n",
       "    </tr>\n",
       "    <tr>\n",
       "      <th>Bulk 10</th>\n",
       "      <td>0.025892</td>\n",
       "      <td>0.014179</td>\n",
       "      <td>-0.001448</td>\n",
       "      <td>-0.013483</td>\n",
       "      <td>-0.016710</td>\n",
       "      <td>-0.066316</td>\n",
       "      <td>-0.065099</td>\n",
       "      <td>-0.026163</td>\n",
       "      <td>-0.086600</td>\n",
       "      <td>-0.014790</td>\n",
       "      <td>...</td>\n",
       "      <td>0.041189</td>\n",
       "      <td>0.079198</td>\n",
       "      <td>-0.091152</td>\n",
       "      <td>-0.025516</td>\n",
       "      <td>-0.013916</td>\n",
       "      <td>NaN</td>\n",
       "      <td>-0.025162</td>\n",
       "      <td>-0.006932</td>\n",
       "      <td>-0.015850</td>\n",
       "      <td>-0.020735</td>\n",
       "    </tr>\n",
       "    <tr>\n",
       "      <th>Bulk 11</th>\n",
       "      <td>-0.089374</td>\n",
       "      <td>-0.097952</td>\n",
       "      <td>0.062645</td>\n",
       "      <td>-0.029703</td>\n",
       "      <td>0.002925</td>\n",
       "      <td>0.000212</td>\n",
       "      <td>-0.105711</td>\n",
       "      <td>-0.013777</td>\n",
       "      <td>0.191604</td>\n",
       "      <td>-0.003900</td>\n",
       "      <td>...</td>\n",
       "      <td>0.008266</td>\n",
       "      <td>-0.058538</td>\n",
       "      <td>0.066272</td>\n",
       "      <td>-0.019807</td>\n",
       "      <td>-0.010807</td>\n",
       "      <td>NaN</td>\n",
       "      <td>0.013077</td>\n",
       "      <td>-0.005383</td>\n",
       "      <td>-0.012309</td>\n",
       "      <td>-0.016102</td>\n",
       "    </tr>\n",
       "    <tr>\n",
       "      <th>Bulk 12</th>\n",
       "      <td>0.064678</td>\n",
       "      <td>0.162723</td>\n",
       "      <td>0.465890</td>\n",
       "      <td>0.342927</td>\n",
       "      <td>-0.073476</td>\n",
       "      <td>0.056539</td>\n",
       "      <td>0.121286</td>\n",
       "      <td>-0.050155</td>\n",
       "      <td>-0.033054</td>\n",
       "      <td>-0.003243</td>\n",
       "      <td>...</td>\n",
       "      <td>0.673911</td>\n",
       "      <td>0.288998</td>\n",
       "      <td>-0.050876</td>\n",
       "      <td>-0.101415</td>\n",
       "      <td>-0.061189</td>\n",
       "      <td>NaN</td>\n",
       "      <td>-0.046037</td>\n",
       "      <td>-0.030480</td>\n",
       "      <td>-0.048422</td>\n",
       "      <td>-0.035204</td>\n",
       "    </tr>\n",
       "    <tr>\n",
       "      <th>Bulk 13</th>\n",
       "      <td>0.013485</td>\n",
       "      <td>-0.022175</td>\n",
       "      <td>0.164016</td>\n",
       "      <td>-0.006600</td>\n",
       "      <td>-0.005132</td>\n",
       "      <td>-0.006865</td>\n",
       "      <td>0.010821</td>\n",
       "      <td>-0.008035</td>\n",
       "      <td>0.040462</td>\n",
       "      <td>-0.004542</td>\n",
       "      <td>...</td>\n",
       "      <td>0.040785</td>\n",
       "      <td>0.049219</td>\n",
       "      <td>-0.011446</td>\n",
       "      <td>-0.007836</td>\n",
       "      <td>-0.004274</td>\n",
       "      <td>NaN</td>\n",
       "      <td>-0.007728</td>\n",
       "      <td>-0.002129</td>\n",
       "      <td>-0.004868</td>\n",
       "      <td>-0.006368</td>\n",
       "    </tr>\n",
       "    <tr>\n",
       "      <th>Bulk 14</th>\n",
       "      <td>0.033897</td>\n",
       "      <td>0.048354</td>\n",
       "      <td>0.400472</td>\n",
       "      <td>0.237722</td>\n",
       "      <td>-0.093681</td>\n",
       "      <td>0.061364</td>\n",
       "      <td>-0.011776</td>\n",
       "      <td>-0.058219</td>\n",
       "      <td>0.192222</td>\n",
       "      <td>-0.046129</td>\n",
       "      <td>...</td>\n",
       "      <td>0.495764</td>\n",
       "      <td>0.205684</td>\n",
       "      <td>0.043756</td>\n",
       "      <td>-0.020629</td>\n",
       "      <td>-0.078015</td>\n",
       "      <td>NaN</td>\n",
       "      <td>-0.054189</td>\n",
       "      <td>-0.038862</td>\n",
       "      <td>-0.000801</td>\n",
       "      <td>0.008870</td>\n",
       "    </tr>\n",
       "    <tr>\n",
       "      <th>Bulk 15</th>\n",
       "      <td>0.026269</td>\n",
       "      <td>0.019821</td>\n",
       "      <td>0.310306</td>\n",
       "      <td>0.071835</td>\n",
       "      <td>-0.074967</td>\n",
       "      <td>0.057090</td>\n",
       "      <td>0.134639</td>\n",
       "      <td>-0.038810</td>\n",
       "      <td>-0.001842</td>\n",
       "      <td>-0.066353</td>\n",
       "      <td>...</td>\n",
       "      <td>1.000000</td>\n",
       "      <td>0.329714</td>\n",
       "      <td>-0.030978</td>\n",
       "      <td>-0.090653</td>\n",
       "      <td>-0.062430</td>\n",
       "      <td>NaN</td>\n",
       "      <td>-0.034063</td>\n",
       "      <td>-0.031099</td>\n",
       "      <td>-0.061532</td>\n",
       "      <td>-0.028238</td>\n",
       "    </tr>\n",
       "    <tr>\n",
       "      <th>Wire 1</th>\n",
       "      <td>0.129221</td>\n",
       "      <td>-0.043866</td>\n",
       "      <td>0.036133</td>\n",
       "      <td>0.070851</td>\n",
       "      <td>-0.119421</td>\n",
       "      <td>0.096991</td>\n",
       "      <td>0.315230</td>\n",
       "      <td>-0.004892</td>\n",
       "      <td>-0.119291</td>\n",
       "      <td>-0.101511</td>\n",
       "      <td>...</td>\n",
       "      <td>0.329714</td>\n",
       "      <td>1.000000</td>\n",
       "      <td>0.024866</td>\n",
       "      <td>0.044881</td>\n",
       "      <td>-0.095648</td>\n",
       "      <td>NaN</td>\n",
       "      <td>-0.092318</td>\n",
       "      <td>-0.047316</td>\n",
       "      <td>-0.011856</td>\n",
       "      <td>0.030417</td>\n",
       "    </tr>\n",
       "    <tr>\n",
       "      <th>Wire 2</th>\n",
       "      <td>-0.081658</td>\n",
       "      <td>-0.190818</td>\n",
       "      <td>0.006730</td>\n",
       "      <td>0.009498</td>\n",
       "      <td>-0.035936</td>\n",
       "      <td>0.119419</td>\n",
       "      <td>-0.234402</td>\n",
       "      <td>-0.015812</td>\n",
       "      <td>0.202518</td>\n",
       "      <td>0.002433</td>\n",
       "      <td>...</td>\n",
       "      <td>-0.030978</td>\n",
       "      <td>0.024866</td>\n",
       "      <td>1.000000</td>\n",
       "      <td>0.087737</td>\n",
       "      <td>-0.029927</td>\n",
       "      <td>NaN</td>\n",
       "      <td>-0.053794</td>\n",
       "      <td>-0.014907</td>\n",
       "      <td>0.021050</td>\n",
       "      <td>0.232556</td>\n",
       "    </tr>\n",
       "    <tr>\n",
       "      <th>Wire 3</th>\n",
       "      <td>-0.004432</td>\n",
       "      <td>-0.045986</td>\n",
       "      <td>0.002561</td>\n",
       "      <td>0.027100</td>\n",
       "      <td>0.227442</td>\n",
       "      <td>0.009330</td>\n",
       "      <td>-0.032603</td>\n",
       "      <td>0.073263</td>\n",
       "      <td>-0.041917</td>\n",
       "      <td>0.159578</td>\n",
       "      <td>...</td>\n",
       "      <td>-0.090653</td>\n",
       "      <td>0.044881</td>\n",
       "      <td>0.087737</td>\n",
       "      <td>1.000000</td>\n",
       "      <td>0.164789</td>\n",
       "      <td>NaN</td>\n",
       "      <td>0.200364</td>\n",
       "      <td>0.102286</td>\n",
       "      <td>-0.007681</td>\n",
       "      <td>-0.010048</td>\n",
       "    </tr>\n",
       "    <tr>\n",
       "      <th>Wire 4</th>\n",
       "      <td>0.053206</td>\n",
       "      <td>-0.118910</td>\n",
       "      <td>0.019054</td>\n",
       "      <td>0.139170</td>\n",
       "      <td>0.666154</td>\n",
       "      <td>-0.035991</td>\n",
       "      <td>0.037314</td>\n",
       "      <td>0.255068</td>\n",
       "      <td>-0.022887</td>\n",
       "      <td>0.748147</td>\n",
       "      <td>...</td>\n",
       "      <td>-0.062430</td>\n",
       "      <td>-0.095648</td>\n",
       "      <td>-0.029927</td>\n",
       "      <td>0.164789</td>\n",
       "      <td>1.000000</td>\n",
       "      <td>NaN</td>\n",
       "      <td>0.458576</td>\n",
       "      <td>0.609361</td>\n",
       "      <td>-0.004189</td>\n",
       "      <td>-0.005480</td>\n",
       "    </tr>\n",
       "    <tr>\n",
       "      <th>Wire 5</th>\n",
       "      <td>NaN</td>\n",
       "      <td>NaN</td>\n",
       "      <td>NaN</td>\n",
       "      <td>NaN</td>\n",
       "      <td>NaN</td>\n",
       "      <td>NaN</td>\n",
       "      <td>NaN</td>\n",
       "      <td>NaN</td>\n",
       "      <td>NaN</td>\n",
       "      <td>NaN</td>\n",
       "      <td>...</td>\n",
       "      <td>NaN</td>\n",
       "      <td>NaN</td>\n",
       "      <td>NaN</td>\n",
       "      <td>NaN</td>\n",
       "      <td>NaN</td>\n",
       "      <td>NaN</td>\n",
       "      <td>NaN</td>\n",
       "      <td>NaN</td>\n",
       "      <td>NaN</td>\n",
       "      <td>NaN</td>\n",
       "    </tr>\n",
       "    <tr>\n",
       "      <th>Wire 6</th>\n",
       "      <td>0.020515</td>\n",
       "      <td>-0.068923</td>\n",
       "      <td>0.030757</td>\n",
       "      <td>0.170703</td>\n",
       "      <td>0.595864</td>\n",
       "      <td>-0.006762</td>\n",
       "      <td>-0.000546</td>\n",
       "      <td>0.219717</td>\n",
       "      <td>-0.013675</td>\n",
       "      <td>0.486052</td>\n",
       "      <td>...</td>\n",
       "      <td>-0.034063</td>\n",
       "      <td>-0.092318</td>\n",
       "      <td>-0.053794</td>\n",
       "      <td>0.200364</td>\n",
       "      <td>0.458576</td>\n",
       "      <td>NaN</td>\n",
       "      <td>1.000000</td>\n",
       "      <td>0.322684</td>\n",
       "      <td>-0.007574</td>\n",
       "      <td>-0.009908</td>\n",
       "    </tr>\n",
       "    <tr>\n",
       "      <th>Wire 7</th>\n",
       "      <td>0.041279</td>\n",
       "      <td>-0.097451</td>\n",
       "      <td>0.003013</td>\n",
       "      <td>0.087750</td>\n",
       "      <td>0.431778</td>\n",
       "      <td>-0.017928</td>\n",
       "      <td>0.036061</td>\n",
       "      <td>0.172368</td>\n",
       "      <td>-0.011401</td>\n",
       "      <td>0.372107</td>\n",
       "      <td>...</td>\n",
       "      <td>-0.031099</td>\n",
       "      <td>-0.047316</td>\n",
       "      <td>-0.014907</td>\n",
       "      <td>0.102286</td>\n",
       "      <td>0.609361</td>\n",
       "      <td>NaN</td>\n",
       "      <td>0.322684</td>\n",
       "      <td>1.000000</td>\n",
       "      <td>-0.002087</td>\n",
       "      <td>-0.002730</td>\n",
       "    </tr>\n",
       "    <tr>\n",
       "      <th>Wire 8</th>\n",
       "      <td>-0.025056</td>\n",
       "      <td>-0.015918</td>\n",
       "      <td>-0.003166</td>\n",
       "      <td>-0.017351</td>\n",
       "      <td>-0.005030</td>\n",
       "      <td>0.003188</td>\n",
       "      <td>0.012212</td>\n",
       "      <td>-0.007876</td>\n",
       "      <td>-0.026069</td>\n",
       "      <td>-0.004452</td>\n",
       "      <td>...</td>\n",
       "      <td>-0.061532</td>\n",
       "      <td>-0.011856</td>\n",
       "      <td>0.021050</td>\n",
       "      <td>-0.007681</td>\n",
       "      <td>-0.004189</td>\n",
       "      <td>NaN</td>\n",
       "      <td>-0.007574</td>\n",
       "      <td>-0.002087</td>\n",
       "      <td>1.000000</td>\n",
       "      <td>-0.006242</td>\n",
       "    </tr>\n",
       "    <tr>\n",
       "      <th>Wire 9</th>\n",
       "      <td>0.004031</td>\n",
       "      <td>-0.039140</td>\n",
       "      <td>-0.019860</td>\n",
       "      <td>0.007870</td>\n",
       "      <td>-0.006580</td>\n",
       "      <td>-0.006596</td>\n",
       "      <td>-0.053644</td>\n",
       "      <td>-0.010303</td>\n",
       "      <td>-0.014282</td>\n",
       "      <td>-0.005824</td>\n",
       "      <td>...</td>\n",
       "      <td>-0.028238</td>\n",
       "      <td>0.030417</td>\n",
       "      <td>0.232556</td>\n",
       "      <td>-0.010048</td>\n",
       "      <td>-0.005480</td>\n",
       "      <td>NaN</td>\n",
       "      <td>-0.009908</td>\n",
       "      <td>-0.002730</td>\n",
       "      <td>-0.006242</td>\n",
       "      <td>1.000000</td>\n",
       "    </tr>\n",
       "  </tbody>\n",
       "</table>\n",
       "<p>27 rows × 27 columns</p>\n",
       "</div>"
      ],
      "text/plain": [
       "             first_temp  last_temp  work_energy    Bulk 1    Bulk 2    Bulk 3  \\\n",
       "first_temp     1.000000   0.378002    -0.243406  0.074145  0.110787 -0.112824   \n",
       "last_temp      0.378002   1.000000     0.300292 -0.077536 -0.065316 -0.081767   \n",
       "work_energy   -0.243406   0.300292     1.000000  0.074397  0.015064  0.075416   \n",
       "Bulk 1         0.074145  -0.077536     0.074397  1.000000  0.235916 -0.000056   \n",
       "Bulk 2         0.110787  -0.065316     0.015064  0.235916  1.000000 -0.043219   \n",
       "Bulk 3        -0.112824  -0.081767     0.075416 -0.000056 -0.043219  1.000000   \n",
       "Bulk 4         0.112603   0.044900    -0.036856  0.051527  0.045745 -0.254835   \n",
       "Bulk 5         0.060714  -0.032667    -0.019216  0.067755  0.360803  0.000066   \n",
       "Bulk 6        -0.107872  -0.171018     0.136159  0.000678 -0.027483  0.069570   \n",
       "Bulk 7         0.067475  -0.082286     0.037396  0.248237  0.679065 -0.030568   \n",
       "Bulk 8        -0.009723  -0.020661    -0.006499 -0.005085 -0.001474  0.022130   \n",
       "Bulk 9        -0.027898  -0.019639    -0.006182 -0.017547 -0.005087  0.009374   \n",
       "Bulk 10        0.025892   0.014179    -0.001448 -0.013483 -0.016710 -0.066316   \n",
       "Bulk 11       -0.089374  -0.097952     0.062645 -0.029703  0.002925  0.000212   \n",
       "Bulk 12        0.064678   0.162723     0.465890  0.342927 -0.073476  0.056539   \n",
       "Bulk 13        0.013485  -0.022175     0.164016 -0.006600 -0.005132 -0.006865   \n",
       "Bulk 14        0.033897   0.048354     0.400472  0.237722 -0.093681  0.061364   \n",
       "Bulk 15        0.026269   0.019821     0.310306  0.071835 -0.074967  0.057090   \n",
       "Wire 1         0.129221  -0.043866     0.036133  0.070851 -0.119421  0.096991   \n",
       "Wire 2        -0.081658  -0.190818     0.006730  0.009498 -0.035936  0.119419   \n",
       "Wire 3        -0.004432  -0.045986     0.002561  0.027100  0.227442  0.009330   \n",
       "Wire 4         0.053206  -0.118910     0.019054  0.139170  0.666154 -0.035991   \n",
       "Wire 5              NaN        NaN          NaN       NaN       NaN       NaN   \n",
       "Wire 6         0.020515  -0.068923     0.030757  0.170703  0.595864 -0.006762   \n",
       "Wire 7         0.041279  -0.097451     0.003013  0.087750  0.431778 -0.017928   \n",
       "Wire 8        -0.025056  -0.015918    -0.003166 -0.017351 -0.005030  0.003188   \n",
       "Wire 9         0.004031  -0.039140    -0.019860  0.007870 -0.006580 -0.006596   \n",
       "\n",
       "               Bulk 4    Bulk 5    Bulk 6    Bulk 7  ...   Bulk 15    Wire 1  \\\n",
       "first_temp   0.112603  0.060714 -0.107872  0.067475  ...  0.026269  0.129221   \n",
       "last_temp    0.044900 -0.032667 -0.171018 -0.082286  ...  0.019821 -0.043866   \n",
       "work_energy -0.036856 -0.019216  0.136159  0.037396  ...  0.310306  0.036133   \n",
       "Bulk 1       0.051527  0.067755  0.000678  0.248237  ...  0.071835  0.070851   \n",
       "Bulk 2       0.045745  0.360803 -0.027483  0.679065  ... -0.074967 -0.119421   \n",
       "Bulk 3      -0.254835  0.000066  0.069570 -0.030568  ...  0.057090  0.096991   \n",
       "Bulk 4       1.000000  0.036498 -0.217591  0.049934  ...  0.134639  0.315230   \n",
       "Bulk 5       0.036498  1.000000 -0.020339  0.288577  ... -0.038810 -0.004892   \n",
       "Bulk 6      -0.217591 -0.020339  1.000000 -0.023094  ... -0.001842 -0.119291   \n",
       "Bulk 7       0.049934  0.288577 -0.023094  1.000000  ... -0.066353 -0.101511   \n",
       "Bulk 8      -0.012063 -0.002308 -0.007640 -0.001305  ... -0.020841  0.032012   \n",
       "Bulk 9       0.001379 -0.007965 -0.026363 -0.004502  ... -0.064591 -0.008382   \n",
       "Bulk 10     -0.065099 -0.026163 -0.086600 -0.014790  ...  0.041189  0.079198   \n",
       "Bulk 11     -0.105711 -0.013777  0.191604 -0.003900  ...  0.008266 -0.058538   \n",
       "Bulk 12      0.121286 -0.050155 -0.033054 -0.003243  ...  0.673911  0.288998   \n",
       "Bulk 13      0.010821 -0.008035  0.040462 -0.004542  ...  0.040785  0.049219   \n",
       "Bulk 14     -0.011776 -0.058219  0.192222 -0.046129  ...  0.495764  0.205684   \n",
       "Bulk 15      0.134639 -0.038810 -0.001842 -0.066353  ...  1.000000  0.329714   \n",
       "Wire 1       0.315230 -0.004892 -0.119291 -0.101511  ...  0.329714  1.000000   \n",
       "Wire 2      -0.234402 -0.015812  0.202518  0.002433  ... -0.030978  0.024866   \n",
       "Wire 3      -0.032603  0.073263 -0.041917  0.159578  ... -0.090653  0.044881   \n",
       "Wire 4       0.037314  0.255068 -0.022887  0.748147  ... -0.062430 -0.095648   \n",
       "Wire 5            NaN       NaN       NaN       NaN  ...       NaN       NaN   \n",
       "Wire 6      -0.000546  0.219717 -0.013675  0.486052  ... -0.034063 -0.092318   \n",
       "Wire 7       0.036061  0.172368 -0.011401  0.372107  ... -0.031099 -0.047316   \n",
       "Wire 8       0.012212 -0.007876 -0.026069 -0.004452  ... -0.061532 -0.011856   \n",
       "Wire 9      -0.053644 -0.010303 -0.014282 -0.005824  ... -0.028238  0.030417   \n",
       "\n",
       "               Wire 2    Wire 3    Wire 4  Wire 5    Wire 6    Wire 7  \\\n",
       "first_temp  -0.081658 -0.004432  0.053206     NaN  0.020515  0.041279   \n",
       "last_temp   -0.190818 -0.045986 -0.118910     NaN -0.068923 -0.097451   \n",
       "work_energy  0.006730  0.002561  0.019054     NaN  0.030757  0.003013   \n",
       "Bulk 1       0.009498  0.027100  0.139170     NaN  0.170703  0.087750   \n",
       "Bulk 2      -0.035936  0.227442  0.666154     NaN  0.595864  0.431778   \n",
       "Bulk 3       0.119419  0.009330 -0.035991     NaN -0.006762 -0.017928   \n",
       "Bulk 4      -0.234402 -0.032603  0.037314     NaN -0.000546  0.036061   \n",
       "Bulk 5      -0.015812  0.073263  0.255068     NaN  0.219717  0.172368   \n",
       "Bulk 6       0.202518 -0.041917 -0.022887     NaN -0.013675 -0.011401   \n",
       "Bulk 7       0.002433  0.159578  0.748147     NaN  0.486052  0.372107   \n",
       "Bulk 8       0.020354 -0.002251 -0.001228     NaN -0.002220 -0.000612   \n",
       "Bulk 9       0.025030 -0.007768 -0.004236     NaN -0.007660 -0.002110   \n",
       "Bulk 10     -0.091152 -0.025516 -0.013916     NaN -0.025162 -0.006932   \n",
       "Bulk 11      0.066272 -0.019807 -0.010807     NaN  0.013077 -0.005383   \n",
       "Bulk 12     -0.050876 -0.101415 -0.061189     NaN -0.046037 -0.030480   \n",
       "Bulk 13     -0.011446 -0.007836 -0.004274     NaN -0.007728 -0.002129   \n",
       "Bulk 14      0.043756 -0.020629 -0.078015     NaN -0.054189 -0.038862   \n",
       "Bulk 15     -0.030978 -0.090653 -0.062430     NaN -0.034063 -0.031099   \n",
       "Wire 1       0.024866  0.044881 -0.095648     NaN -0.092318 -0.047316   \n",
       "Wire 2       1.000000  0.087737 -0.029927     NaN -0.053794 -0.014907   \n",
       "Wire 3       0.087737  1.000000  0.164789     NaN  0.200364  0.102286   \n",
       "Wire 4      -0.029927  0.164789  1.000000     NaN  0.458576  0.609361   \n",
       "Wire 5            NaN       NaN       NaN     NaN       NaN       NaN   \n",
       "Wire 6      -0.053794  0.200364  0.458576     NaN  1.000000  0.322684   \n",
       "Wire 7      -0.014907  0.102286  0.609361     NaN  0.322684  1.000000   \n",
       "Wire 8       0.021050 -0.007681 -0.004189     NaN -0.007574 -0.002087   \n",
       "Wire 9       0.232556 -0.010048 -0.005480     NaN -0.009908 -0.002730   \n",
       "\n",
       "               Wire 8    Wire 9  \n",
       "first_temp  -0.025056  0.004031  \n",
       "last_temp   -0.015918 -0.039140  \n",
       "work_energy -0.003166 -0.019860  \n",
       "Bulk 1      -0.017351  0.007870  \n",
       "Bulk 2      -0.005030 -0.006580  \n",
       "Bulk 3       0.003188 -0.006596  \n",
       "Bulk 4       0.012212 -0.053644  \n",
       "Bulk 5      -0.007876 -0.010303  \n",
       "Bulk 6      -0.026069 -0.014282  \n",
       "Bulk 7      -0.004452 -0.005824  \n",
       "Bulk 8       0.321067 -0.001829  \n",
       "Bulk 9       0.974974 -0.006312  \n",
       "Bulk 10     -0.015850 -0.020735  \n",
       "Bulk 11     -0.012309 -0.016102  \n",
       "Bulk 12     -0.048422 -0.035204  \n",
       "Bulk 13     -0.004868 -0.006368  \n",
       "Bulk 14     -0.000801  0.008870  \n",
       "Bulk 15     -0.061532 -0.028238  \n",
       "Wire 1      -0.011856  0.030417  \n",
       "Wire 2       0.021050  0.232556  \n",
       "Wire 3      -0.007681 -0.010048  \n",
       "Wire 4      -0.004189 -0.005480  \n",
       "Wire 5            NaN       NaN  \n",
       "Wire 6      -0.007574 -0.009908  \n",
       "Wire 7      -0.002087 -0.002730  \n",
       "Wire 8       1.000000 -0.006242  \n",
       "Wire 9      -0.006242  1.000000  \n",
       "\n",
       "[27 rows x 27 columns]"
      ]
     },
     "execution_count": 79,
     "metadata": {},
     "output_type": "execute_result"
    }
   ],
   "source": [
    "data.corr()"
   ]
  },
  {
   "cell_type": "code",
   "execution_count": 80,
   "id": "statistical-congress",
   "metadata": {},
   "outputs": [
    {
     "data": {
      "text/plain": [
       "<AxesSubplot:>"
      ]
     },
     "execution_count": 80,
     "metadata": {},
     "output_type": "execute_result"
    },
    {
     "data": {
      "image/png": "[encoded data removed]",
      "text/plain": [
       "<Figure size 1080x432 with 2 Axes>"
      ]
     },
     "metadata": {},
     "output_type": "display_data"
    }
   ],
   "source": [
    "corr = data.corr()\n",
    "sns.heatmap(corr, cmap=\"Blues\", linewidths=1)"
   ]
  },
  {
   "cell_type": "markdown",
   "id": "painted-sound",
   "metadata": {},
   "source": [
    "Мы обнаружили крайне сильную корреляцию между столбцами wire 8 и bulk 9.\n",
    "Избавимся от одного из столбцов"
   ]
  },
  {
   "cell_type": "code",
   "execution_count": 81,
   "id": "dangerous-gauge",
   "metadata": {},
   "outputs": [],
   "source": [
    "data = data.drop(['Bulk 9'], axis=1)"
   ]
  },
  {
   "cell_type": "code",
   "execution_count": 82,
   "id": "suspected-cameroon",
   "metadata": {},
   "outputs": [
    {
     "data": {
      "text/plain": [
       "<AxesSubplot:>"
      ]
     },
     "execution_count": 82,
     "metadata": {},
     "output_type": "execute_result"
    },
    {
     "data": {
      "image/png": "[encoded data removed]",
      "text/plain": [
       "<Figure size 1080x432 with 2 Axes>"
      ]
     },
     "metadata": {},
     "output_type": "display_data"
    }
   ],
   "source": [
    "corr = data.corr()\n",
    "sns.heatmap(corr, cmap=\"Blues\", linewidths=1)"
   ]
  },
  {
   "cell_type": "markdown",
   "id": "contemporary-advertiser",
   "metadata": {},
   "source": [
    "Между данными остались зависимости, но уже намного меньше."
   ]
  },
  {
   "cell_type": "markdown",
   "id": "lesser-compound",
   "metadata": {},
   "source": [
    "### Разделение на обучающий и проверочный датасет"
   ]
  },
  {
   "cell_type": "code",
   "execution_count": 83,
   "id": "breeding-topic",
   "metadata": {},
   "outputs": [],
   "source": [
    "features = data.drop(['last_temp'], axis=1)\n",
    "target = data['last_temp']\n",
    "\n",
    "features_train, features_test, target_train, target_test = train_test_split(\n",
    "    features, target, test_size=0.20, random_state=12345)"
   ]
  },
  {
   "cell_type": "markdown",
   "id": "false-circuit",
   "metadata": {},
   "source": [
    "### Масштабирование признаков"
   ]
  },
  {
   "cell_type": "code",
   "execution_count": 84,
   "id": "flush-paraguay",
   "metadata": {},
   "outputs": [],
   "source": [
    "scaler = StandardScaler()\n",
    "scaler.fit(features_train)\n",
    "features_train_scaled = scaler.transform(features_train)\n",
    "features_valid_scaled = scaler.transform(features_test)\n",
    "pd.options.mode.chained_assignment = None"
   ]
  },
  {
   "cell_type": "markdown",
   "id": "spectacular-charter",
   "metadata": {},
   "source": [
    "## Обучение моделей"
   ]
  },
  {
   "cell_type": "markdown",
   "id": "juvenile-entrance",
   "metadata": {},
   "source": [
    "### Линейная регрессия"
   ]
  },
  {
   "cell_type": "code",
   "execution_count": 85,
   "id": "quick-processing",
   "metadata": {},
   "outputs": [
    {
     "name": "stdout",
     "output_type": "stream",
     "text": [
      "MAE: 7.382809468013469\n",
      "CPU times: user 42.9 ms, sys: 26.5 ms, total: 69.5 ms\n",
      "Wall time: 68.5 ms\n"
     ]
    }
   ],
   "source": [
    "% % time\n",
    "lin_model = LinearRegression()\n",
    "lin_model.fit(features_train, target_train)\n",
    "predictions = lin_model.predict(features_test)\n",
    "result = mean_absolute_error(predictions, target_test)\n",
    "print(\"MAE:\", result)"
   ]
  },
  {
   "cell_type": "markdown",
   "id": "considerable-clinton",
   "metadata": {},
   "source": [
    "Линейная регрессия показывает приемлемый результат, однако следует попробовать другие модели."
   ]
  },
  {
   "cell_type": "markdown",
   "id": "first-investing",
   "metadata": {},
   "source": [
    "### Случайный лес"
   ]
  },
  {
   "cell_type": "code",
   "execution_count": 86,
   "id": "greek-gauge",
   "metadata": {},
   "outputs": [],
   "source": [
    "scorer = make_scorer(mean_absolute_error)"
   ]
  },
  {
   "cell_type": "code",
   "execution_count": 87,
   "id": "agreed-impossible",
   "metadata": {},
   "outputs": [
    {
     "name": "stdout",
     "output_type": "stream",
     "text": [
      "{'max_depth': 2, 'n_estimators': 65}\n",
      "CPU times: user 1min 20s, sys: 270 ms, total: 1min 20s\n",
      "Wall time: 1min 21s\n"
     ]
    }
   ],
   "source": [
    "% % time\n",
    "RandomForest_params_model = RandomForestRegressor(random_state=42)\n",
    "parametrs = {'n_estimators': range(50, 201, 15),\n",
    "             'max_depth': range(2, 8, 2)}\n",
    "grid = GridSearchCV(RandomForest_params_model, parametrs, cv=5, scoring=scorer)\n",
    "grid.fit(features_train, target_train)\n",
    "print(grid.best_params_)"
   ]
  },
  {
   "cell_type": "code",
   "execution_count": 88,
   "id": "little-gnome",
   "metadata": {},
   "outputs": [],
   "source": [
    "RandomForest_model = RandomForestRegressor(\n",
    "    random_state=42, **grid.best_params_)"
   ]
  },
  {
   "cell_type": "code",
   "execution_count": 89,
   "id": "veterinary-hampton",
   "metadata": {},
   "outputs": [
    {
     "name": "stdout",
     "output_type": "stream",
     "text": [
      "MAE: 8.008851684281337\n",
      "CPU times: user 193 ms, sys: 4.02 ms, total: 197 ms\n",
      "Wall time: 204 ms\n"
     ]
    }
   ],
   "source": [
    "% % time\n",
    "RandomForest_model.fit(features_train, target_train)\n",
    "RandomForest_predictions = RandomForest_model.predict(features_test)\n",
    "result = mean_absolute_error(RandomForest_predictions, target_test)\n",
    "print(\"MAE:\", result)"
   ]
  },
  {
   "cell_type": "markdown",
   "id": "broke-retro",
   "metadata": {},
   "source": [
    "Случайный лес показывает результат хуже линейной регрессии."
   ]
  },
  {
   "cell_type": "markdown",
   "id": "consecutive-rotation",
   "metadata": {},
   "source": [
    "### LightGBM"
   ]
  },
  {
   "cell_type": "code",
   "execution_count": 90,
   "id": "hollow-federal",
   "metadata": {},
   "outputs": [
    {
     "name": "stdout",
     "output_type": "stream",
     "text": [
      "[LightGBM] [Warning] Found whitespace in feature_names, replace with underlines\n",
      "[LightGBM] [Warning] Auto-choosing row-wise multi-threading, the overhead of testing was 0.001938 seconds.\n",
      "You can set `force_row_wise=true` to remove the overhead.\n",
      "And if memory is not enough, you can set `force_col_wise=true`.\n",
      "[LightGBM] [Info] Total Bins 1791\n",
      "[LightGBM] [Info] Number of data points in the train set: 1952, number of used features: 17\n",
      "[LightGBM] [Warning] Found whitespace in feature_names, replace with underlines\n",
      "[LightGBM] [Info] Start training from score 1595.090676\n",
      "[1]\tvalid_0's l1: 9.85622\n",
      "[2]\tvalid_0's l1: 9.83533\n",
      "[3]\tvalid_0's l1: 9.81462\n",
      "[4]\tvalid_0's l1: 9.79539\n",
      "[5]\tvalid_0's l1: 9.77589\n",
      "[6]\tvalid_0's l1: 9.75769\n",
      "[7]\tvalid_0's l1: 9.73958\n",
      "[8]\tvalid_0's l1: 9.72156\n",
      "[9]\tvalid_0's l1: 9.70367\n",
      "[10]\tvalid_0's l1: 9.68592\n",
      "[11]\tvalid_0's l1: 9.66558\n",
      "[12]\tvalid_0's l1: 9.64677\n",
      "[13]\tvalid_0's l1: 9.62706\n",
      "[14]\tvalid_0's l1: 9.60904\n",
      "[15]\tvalid_0's l1: 9.58978\n",
      "[16]\tvalid_0's l1: 9.57103\n",
      "[17]\tvalid_0's l1: 9.55242\n",
      "[18]\tvalid_0's l1: 9.53399\n",
      "[19]\tvalid_0's l1: 9.51564\n",
      "[20]\tvalid_0's l1: 9.49739\n",
      "[21]\tvalid_0's l1: 9.48203\n",
      "[22]\tvalid_0's l1: 9.46678\n",
      "[23]\tvalid_0's l1: 9.45195\n",
      "[24]\tvalid_0's l1: 9.43408\n",
      "[25]\tvalid_0's l1: 9.41913\n",
      "[26]\tvalid_0's l1: 9.40137\n",
      "[27]\tvalid_0's l1: 9.38374\n",
      "[28]\tvalid_0's l1: 9.36626\n",
      "[29]\tvalid_0's l1: 9.34885\n",
      "[30]\tvalid_0's l1: 9.33223\n",
      "[31]\tvalid_0's l1: 9.31425\n",
      "[32]\tvalid_0's l1: 9.29636\n",
      "[33]\tvalid_0's l1: 9.27894\n",
      "[34]\tvalid_0's l1: 9.26149\n",
      "[35]\tvalid_0's l1: 9.24441\n",
      "[36]\tvalid_0's l1: 9.22665\n",
      "[37]\tvalid_0's l1: 9.20907\n",
      "[38]\tvalid_0's l1: 9.1917\n",
      "[39]\tvalid_0's l1: 9.17495\n",
      "[40]\tvalid_0's l1: 9.15787\n",
      "[41]\tvalid_0's l1: 9.14368\n",
      "[42]\tvalid_0's l1: 9.12957\n",
      "[43]\tvalid_0's l1: 9.11451\n",
      "[44]\tvalid_0's l1: 9.10055\n",
      "[45]\tvalid_0's l1: 9.08568\n",
      "[46]\tvalid_0's l1: 9.07108\n",
      "[47]\tvalid_0's l1: 9.05655\n",
      "[48]\tvalid_0's l1: 9.04253\n",
      "[49]\tvalid_0's l1: 9.02858\n",
      "[50]\tvalid_0's l1: 9.01471\n",
      "[51]\tvalid_0's l1: 8.99894\n",
      "[52]\tvalid_0's l1: 8.9835\n",
      "[53]\tvalid_0's l1: 8.96814\n",
      "[54]\tvalid_0's l1: 8.95275\n",
      "[55]\tvalid_0's l1: 8.93761\n",
      "[56]\tvalid_0's l1: 8.92368\n",
      "[57]\tvalid_0's l1: 8.90982\n",
      "[58]\tvalid_0's l1: 8.89639\n",
      "[59]\tvalid_0's l1: 8.88287\n",
      "[60]\tvalid_0's l1: 8.86959\n",
      "[61]\tvalid_0's l1: 8.85741\n",
      "[62]\tvalid_0's l1: 8.84313\n",
      "[63]\tvalid_0's l1: 8.83117\n",
      "[64]\tvalid_0's l1: 8.81708\n",
      "[65]\tvalid_0's l1: 8.8056\n",
      "[66]\tvalid_0's l1: 8.79318\n",
      "[67]\tvalid_0's l1: 8.78082\n",
      "[68]\tvalid_0's l1: 8.76853\n",
      "[69]\tvalid_0's l1: 8.7563\n",
      "[70]\tvalid_0's l1: 8.74446\n",
      "[71]\tvalid_0's l1: 8.73419\n",
      "[72]\tvalid_0's l1: 8.72439\n",
      "[73]\tvalid_0's l1: 8.71433\n",
      "[74]\tvalid_0's l1: 8.7043\n",
      "[75]\tvalid_0's l1: 8.69435\n",
      "[76]\tvalid_0's l1: 8.68231\n",
      "[77]\tvalid_0's l1: 8.67034\n",
      "[78]\tvalid_0's l1: 8.6586\n",
      "[79]\tvalid_0's l1: 8.64691\n",
      "[80]\tvalid_0's l1: 8.63533\n",
      "[81]\tvalid_0's l1: 8.62285\n",
      "[82]\tvalid_0's l1: 8.61052\n",
      "[83]\tvalid_0's l1: 8.59805\n",
      "[84]\tvalid_0's l1: 8.58571\n",
      "[85]\tvalid_0's l1: 8.57317\n",
      "[86]\tvalid_0's l1: 8.56359\n",
      "[87]\tvalid_0's l1: 8.55406\n",
      "[88]\tvalid_0's l1: 8.54472\n",
      "[89]\tvalid_0's l1: 8.53551\n",
      "[90]\tvalid_0's l1: 8.52635\n",
      "[91]\tvalid_0's l1: 8.51429\n",
      "[92]\tvalid_0's l1: 8.50242\n",
      "[93]\tvalid_0's l1: 8.49068\n",
      "[94]\tvalid_0's l1: 8.47862\n",
      "[95]\tvalid_0's l1: 8.46707\n",
      "[96]\tvalid_0's l1: 8.45429\n",
      "[97]\tvalid_0's l1: 8.44136\n",
      "[98]\tvalid_0's l1: 8.42849\n",
      "[99]\tvalid_0's l1: 8.41645\n",
      "[100]\tvalid_0's l1: 8.4039\n",
      "[101]\tvalid_0's l1: 8.39195\n",
      "[102]\tvalid_0's l1: 8.38038\n",
      "[103]\tvalid_0's l1: 8.36854\n",
      "[104]\tvalid_0's l1: 8.35697\n",
      "[105]\tvalid_0's l1: 8.34506\n",
      "[106]\tvalid_0's l1: 8.33535\n",
      "[107]\tvalid_0's l1: 8.32574\n",
      "[108]\tvalid_0's l1: 8.31617\n",
      "[109]\tvalid_0's l1: 8.30665\n",
      "[110]\tvalid_0's l1: 8.29719\n",
      "[111]\tvalid_0's l1: 8.28814\n",
      "[112]\tvalid_0's l1: 8.2792\n",
      "[113]\tvalid_0's l1: 8.27097\n",
      "[114]\tvalid_0's l1: 8.26254\n",
      "[115]\tvalid_0's l1: 8.25384\n",
      "[116]\tvalid_0's l1: 8.24258\n",
      "[117]\tvalid_0's l1: 8.23149\n",
      "[118]\tvalid_0's l1: 8.22047\n",
      "[119]\tvalid_0's l1: 8.20951\n",
      "[120]\tvalid_0's l1: 8.19861\n",
      "[121]\tvalid_0's l1: 8.18603\n",
      "[122]\tvalid_0's l1: 8.17351\n",
      "[123]\tvalid_0's l1: 8.16106\n",
      "[124]\tvalid_0's l1: 8.14867\n",
      "[125]\tvalid_0's l1: 8.13927\n",
      "[126]\tvalid_0's l1: 8.12984\n",
      "[127]\tvalid_0's l1: 8.1205\n",
      "[128]\tvalid_0's l1: 8.1112\n",
      "[129]\tvalid_0's l1: 8.10195\n",
      "[130]\tvalid_0's l1: 8.09274\n",
      "[131]\tvalid_0's l1: 8.08375\n",
      "[132]\tvalid_0's l1: 8.07526\n",
      "[133]\tvalid_0's l1: 8.0665\n",
      "[134]\tvalid_0's l1: 8.05812\n",
      "[135]\tvalid_0's l1: 8.04973\n",
      "[136]\tvalid_0's l1: 8.04114\n",
      "[137]\tvalid_0's l1: 8.03259\n",
      "[138]\tvalid_0's l1: 8.02409\n",
      "[139]\tvalid_0's l1: 8.01563\n",
      "[140]\tvalid_0's l1: 8.00719\n",
      "[141]\tvalid_0's l1: 7.99888\n",
      "[142]\tvalid_0's l1: 7.99066\n",
      "[143]\tvalid_0's l1: 7.98256\n",
      "[144]\tvalid_0's l1: 7.97434\n",
      "[145]\tvalid_0's l1: 7.96635\n",
      "[146]\tvalid_0's l1: 7.95883\n",
      "[147]\tvalid_0's l1: 7.95142\n",
      "[148]\tvalid_0's l1: 7.94453\n",
      "[149]\tvalid_0's l1: 7.93726\n",
      "[150]\tvalid_0's l1: 7.93065\n",
      "[151]\tvalid_0's l1: 7.92242\n",
      "[152]\tvalid_0's l1: 7.91401\n",
      "[153]\tvalid_0's l1: 7.90586\n",
      "[154]\tvalid_0's l1: 7.89775\n",
      "[155]\tvalid_0's l1: 7.88955\n",
      "[156]\tvalid_0's l1: 7.88199\n",
      "[157]\tvalid_0's l1: 7.87449\n",
      "[158]\tvalid_0's l1: 7.86713\n",
      "[159]\tvalid_0's l1: 7.85888\n",
      "[160]\tvalid_0's l1: 7.85197\n",
      "[161]\tvalid_0's l1: 7.84325\n",
      "[162]\tvalid_0's l1: 7.83458\n",
      "[163]\tvalid_0's l1: 7.82606\n",
      "[164]\tvalid_0's l1: 7.81759\n",
      "[165]\tvalid_0's l1: 7.80917\n",
      "[166]\tvalid_0's l1: 7.80112\n",
      "[167]\tvalid_0's l1: 7.79321\n",
      "[168]\tvalid_0's l1: 7.78534\n",
      "[169]\tvalid_0's l1: 7.77751\n",
      "[170]\tvalid_0's l1: 7.76972\n",
      "[171]\tvalid_0's l1: 7.76405\n",
      "[172]\tvalid_0's l1: 7.75842\n",
      "[173]\tvalid_0's l1: 7.75281\n",
      "[174]\tvalid_0's l1: 7.74722\n",
      "[175]\tvalid_0's l1: 7.74108\n",
      "[176]\tvalid_0's l1: 7.73231\n",
      "[177]\tvalid_0's l1: 7.72358\n",
      "[178]\tvalid_0's l1: 7.7149\n",
      "[179]\tvalid_0's l1: 7.70639\n",
      "[180]\tvalid_0's l1: 7.69808\n",
      "[181]\tvalid_0's l1: 7.69075\n",
      "[182]\tvalid_0's l1: 7.68344\n",
      "[183]\tvalid_0's l1: 7.67626\n",
      "[184]\tvalid_0's l1: 7.66718\n",
      "[185]\tvalid_0's l1: 7.66025\n",
      "[186]\tvalid_0's l1: 7.6512\n",
      "[187]\tvalid_0's l1: 7.64235\n",
      "[188]\tvalid_0's l1: 7.63426\n",
      "[189]\tvalid_0's l1: 7.6258\n",
      "[190]\tvalid_0's l1: 7.6178\n",
      "[191]\tvalid_0's l1: 7.61057\n",
      "[192]\tvalid_0's l1: 7.60437\n",
      "[193]\tvalid_0's l1: 7.5972\n",
      "[194]\tvalid_0's l1: 7.59112\n",
      "[195]\tvalid_0's l1: 7.5841\n",
      "[196]\tvalid_0's l1: 7.57701\n",
      "[197]\tvalid_0's l1: 7.57085\n",
      "[198]\tvalid_0's l1: 7.56433\n",
      "[199]\tvalid_0's l1: 7.55832\n",
      "[200]\tvalid_0's l1: 7.55227\n",
      "[201]\tvalid_0's l1: 7.54567\n",
      "[202]\tvalid_0's l1: 7.53917\n",
      "[203]\tvalid_0's l1: 7.53227\n",
      "[204]\tvalid_0's l1: 7.52583\n",
      "[205]\tvalid_0's l1: 7.51943\n",
      "[206]\tvalid_0's l1: 7.51252\n",
      "[207]\tvalid_0's l1: 7.50564\n",
      "[208]\tvalid_0's l1: 7.4988\n",
      "[209]\tvalid_0's l1: 7.49206\n",
      "[210]\tvalid_0's l1: 7.48538\n",
      "[211]\tvalid_0's l1: 7.47946\n",
      "[212]\tvalid_0's l1: 7.47208\n",
      "[213]\tvalid_0's l1: 7.46474\n",
      "[214]\tvalid_0's l1: 7.45743\n",
      "[215]\tvalid_0's l1: 7.4514\n",
      "[216]\tvalid_0's l1: 7.44486\n",
      "[217]\tvalid_0's l1: 7.43862\n",
      "[218]\tvalid_0's l1: 7.43242\n",
      "[219]\tvalid_0's l1: 7.42625\n",
      "[220]\tvalid_0's l1: 7.42015\n",
      "[221]\tvalid_0's l1: 7.4164\n",
      "[222]\tvalid_0's l1: 7.41266\n",
      "[223]\tvalid_0's l1: 7.40784\n",
      "[224]\tvalid_0's l1: 7.40214\n",
      "[225]\tvalid_0's l1: 7.39537\n",
      "[226]\tvalid_0's l1: 7.38809\n",
      "[227]\tvalid_0's l1: 7.38063\n",
      "[228]\tvalid_0's l1: 7.37354\n",
      "[229]\tvalid_0's l1: 7.36618\n",
      "[230]\tvalid_0's l1: 7.35918\n",
      "[231]\tvalid_0's l1: 7.35324\n",
      "[232]\tvalid_0's l1: 7.34733\n",
      "[233]\tvalid_0's l1: 7.34145\n",
      "[234]\tvalid_0's l1: 7.33559\n",
      "[235]\tvalid_0's l1: 7.32977\n",
      "[236]\tvalid_0's l1: 7.32245\n",
      "[237]\tvalid_0's l1: 7.31532\n",
      "[238]\tvalid_0's l1: 7.3083\n",
      "[239]\tvalid_0's l1: 7.30134\n",
      "[240]\tvalid_0's l1: 7.29483\n",
      "[241]\tvalid_0's l1: 7.2904\n",
      "[242]\tvalid_0's l1: 7.28598\n",
      "[243]\tvalid_0's l1: 7.28167\n",
      "[244]\tvalid_0's l1: 7.27761\n",
      "[245]\tvalid_0's l1: 7.27381\n",
      "[246]\tvalid_0's l1: 7.26684\n",
      "[247]\tvalid_0's l1: 7.25998\n",
      "[248]\tvalid_0's l1: 7.25457\n",
      "[249]\tvalid_0's l1: 7.24816\n",
      "[250]\tvalid_0's l1: 7.24256\n",
      "[251]\tvalid_0's l1: 7.23865\n",
      "[252]\tvalid_0's l1: 7.23477\n",
      "[253]\tvalid_0's l1: 7.23093\n",
      "[254]\tvalid_0's l1: 7.22723\n",
      "[255]\tvalid_0's l1: 7.22355\n",
      "[256]\tvalid_0's l1: 7.21722\n",
      "[257]\tvalid_0's l1: 7.21093\n",
      "[258]\tvalid_0's l1: 7.20467\n",
      "[259]\tvalid_0's l1: 7.19843\n",
      "[260]\tvalid_0's l1: 7.1923\n",
      "[261]\tvalid_0's l1: 7.18714\n",
      "[262]\tvalid_0's l1: 7.18289\n",
      "[263]\tvalid_0's l1: 7.17791\n",
      "[264]\tvalid_0's l1: 7.17394\n",
      "[265]\tvalid_0's l1: 7.16932\n",
      "[266]\tvalid_0's l1: 7.16627\n",
      "[267]\tvalid_0's l1: 7.16324\n",
      "[268]\tvalid_0's l1: 7.16022\n",
      "[269]\tvalid_0's l1: 7.15722\n",
      "[270]\tvalid_0's l1: 7.15431\n",
      "[271]\tvalid_0's l1: 7.14847\n",
      "[272]\tvalid_0's l1: 7.14275\n",
      "[273]\tvalid_0's l1: 7.13705\n",
      "[274]\tvalid_0's l1: 7.13138\n",
      "[275]\tvalid_0's l1: 7.12574\n",
      "[276]\tvalid_0's l1: 7.12066\n",
      "[277]\tvalid_0's l1: 7.11583\n",
      "[278]\tvalid_0's l1: 7.11082\n",
      "[279]\tvalid_0's l1: 7.10591\n",
      "[280]\tvalid_0's l1: 7.10036\n",
      "[281]\tvalid_0's l1: 7.09316\n",
      "[282]\tvalid_0's l1: 7.08593\n",
      "[283]\tvalid_0's l1: 7.07879\n",
      "[284]\tvalid_0's l1: 7.07224\n",
      "[285]\tvalid_0's l1: 7.06532\n",
      "[286]\tvalid_0's l1: 7.06066\n",
      "[287]\tvalid_0's l1: 7.05619\n",
      "[288]\tvalid_0's l1: 7.05136\n",
      "[289]\tvalid_0's l1: 7.04655\n",
      "[290]\tvalid_0's l1: 7.04178\n",
      "[291]\tvalid_0's l1: 7.03675\n",
      "[292]\tvalid_0's l1: 7.0319\n",
      "[293]\tvalid_0's l1: 7.02733\n",
      "[294]\tvalid_0's l1: 7.02263\n",
      "[295]\tvalid_0's l1: 7.01801\n",
      "[296]\tvalid_0's l1: 7.01339\n",
      "[297]\tvalid_0's l1: 7.0088\n",
      "[298]\tvalid_0's l1: 7.00423\n",
      "[299]\tvalid_0's l1: 6.99968\n",
      "[300]\tvalid_0's l1: 6.99516\n",
      "[301]\tvalid_0's l1: 6.99145\n",
      "[302]\tvalid_0's l1: 6.98727\n",
      "[303]\tvalid_0's l1: 6.98373\n",
      "[304]\tvalid_0's l1: 6.97892\n",
      "[305]\tvalid_0's l1: 6.97529\n",
      "[306]\tvalid_0's l1: 6.9689\n",
      "[307]\tvalid_0's l1: 6.96255\n",
      "[308]\tvalid_0's l1: 6.95622\n",
      "[309]\tvalid_0's l1: 6.94993\n",
      "[310]\tvalid_0's l1: 6.94366\n",
      "[311]\tvalid_0's l1: 6.93842\n",
      "[312]\tvalid_0's l1: 6.93321\n",
      "[313]\tvalid_0's l1: 6.92803\n",
      "[314]\tvalid_0's l1: 6.92252\n",
      "[315]\tvalid_0's l1: 6.91735\n",
      "[316]\tvalid_0's l1: 6.91363\n",
      "[317]\tvalid_0's l1: 6.90986\n",
      "[318]\tvalid_0's l1: 6.9062\n",
      "[319]\tvalid_0's l1: 6.90247\n",
      "[320]\tvalid_0's l1: 6.89809\n",
      "[321]\tvalid_0's l1: 6.89411\n",
      "[322]\tvalid_0's l1: 6.89015\n",
      "[323]\tvalid_0's l1: 6.88622\n",
      "[324]\tvalid_0's l1: 6.8823\n",
      "[325]\tvalid_0's l1: 6.8784\n",
      "[326]\tvalid_0's l1: 6.87441\n",
      "[327]\tvalid_0's l1: 6.87044\n",
      "[328]\tvalid_0's l1: 6.86649\n",
      "[329]\tvalid_0's l1: 6.86256\n",
      "[330]\tvalid_0's l1: 6.85865\n",
      "[331]\tvalid_0's l1: 6.8538\n",
      "[332]\tvalid_0's l1: 6.84898\n",
      "[333]\tvalid_0's l1: 6.84424\n",
      "[334]\tvalid_0's l1: 6.83975\n",
      "[335]\tvalid_0's l1: 6.83505\n",
      "[336]\tvalid_0's l1: 6.83244\n",
      "[337]\tvalid_0's l1: 6.82996\n",
      "[338]\tvalid_0's l1: 6.82762\n",
      "[339]\tvalid_0's l1: 6.82529\n",
      "[340]\tvalid_0's l1: 6.82296\n",
      "[341]\tvalid_0's l1: 6.81844\n",
      "[342]\tvalid_0's l1: 6.81393\n",
      "[343]\tvalid_0's l1: 6.80945\n",
      "[344]\tvalid_0's l1: 6.80499\n",
      "[345]\tvalid_0's l1: 6.80056\n",
      "[346]\tvalid_0's l1: 6.79726\n",
      "[347]\tvalid_0's l1: 6.79398\n",
      "[348]\tvalid_0's l1: 6.79072\n",
      "[349]\tvalid_0's l1: 6.78762\n",
      "[350]\tvalid_0's l1: 6.78459\n",
      "[351]\tvalid_0's l1: 6.7795\n",
      "[352]\tvalid_0's l1: 6.77444\n",
      "[353]\tvalid_0's l1: 6.7694\n",
      "[354]\tvalid_0's l1: 6.76487\n",
      "[355]\tvalid_0's l1: 6.76027\n",
      "[356]\tvalid_0's l1: 6.7567\n",
      "[357]\tvalid_0's l1: 6.75322\n",
      "[358]\tvalid_0's l1: 6.74976\n",
      "[359]\tvalid_0's l1: 6.74632\n",
      "[360]\tvalid_0's l1: 6.74289\n",
      "[361]\tvalid_0's l1: 6.73924\n",
      "[362]\tvalid_0's l1: 6.73561\n",
      "[363]\tvalid_0's l1: 6.7321\n",
      "[364]\tvalid_0's l1: 6.72864\n",
      "[365]\tvalid_0's l1: 6.72532\n",
      "[366]\tvalid_0's l1: 6.72289\n",
      "[367]\tvalid_0's l1: 6.72053\n",
      "[368]\tvalid_0's l1: 6.71843\n",
      "[369]\tvalid_0's l1: 6.71611\n",
      "[370]\tvalid_0's l1: 6.71403\n",
      "[371]\tvalid_0's l1: 6.70986\n",
      "[372]\tvalid_0's l1: 6.7057\n",
      "[373]\tvalid_0's l1: 6.70156\n",
      "[374]\tvalid_0's l1: 6.69744\n",
      "[375]\tvalid_0's l1: 6.69332\n",
      "[376]\tvalid_0's l1: 6.6906\n",
      "[377]\tvalid_0's l1: 6.68791\n",
      "[378]\tvalid_0's l1: 6.68526\n",
      "[379]\tvalid_0's l1: 6.68277\n",
      "[380]\tvalid_0's l1: 6.68028\n",
      "[381]\tvalid_0's l1: 6.67672\n",
      "[382]\tvalid_0's l1: 6.67341\n",
      "[383]\tvalid_0's l1: 6.66989\n",
      "[384]\tvalid_0's l1: 6.66661\n",
      "[385]\tvalid_0's l1: 6.66316\n",
      "[386]\tvalid_0's l1: 6.6605\n",
      "[387]\tvalid_0's l1: 6.65786\n",
      "[388]\tvalid_0's l1: 6.65519\n",
      "[389]\tvalid_0's l1: 6.65257\n",
      "[390]\tvalid_0's l1: 6.65001\n",
      "[391]\tvalid_0's l1: 6.6468\n",
      "[392]\tvalid_0's l1: 6.64362\n",
      "[393]\tvalid_0's l1: 6.64045\n",
      "[394]\tvalid_0's l1: 6.63732\n",
      "[395]\tvalid_0's l1: 6.63421\n",
      "[396]\tvalid_0's l1: 6.6318\n",
      "[397]\tvalid_0's l1: 6.62942\n",
      "[398]\tvalid_0's l1: 6.6271\n",
      "[399]\tvalid_0's l1: 6.62493\n",
      "[400]\tvalid_0's l1: 6.6228\n",
      "[401]\tvalid_0's l1: 6.6191\n",
      "[402]\tvalid_0's l1: 6.61542\n",
      "[403]\tvalid_0's l1: 6.61179\n",
      "[404]\tvalid_0's l1: 6.60819\n",
      "[405]\tvalid_0's l1: 6.60467\n",
      "[406]\tvalid_0's l1: 6.60118\n",
      "[407]\tvalid_0's l1: 6.59779\n",
      "[408]\tvalid_0's l1: 6.59467\n",
      "[409]\tvalid_0's l1: 6.59165\n",
      "[410]\tvalid_0's l1: 6.58865\n",
      "[411]\tvalid_0's l1: 6.5851\n",
      "[412]\tvalid_0's l1: 6.58172\n",
      "[413]\tvalid_0's l1: 6.57874\n",
      "[414]\tvalid_0's l1: 6.57311\n",
      "[415]\tvalid_0's l1: 6.56753\n",
      "[416]\tvalid_0's l1: 6.56447\n",
      "[417]\tvalid_0's l1: 6.56149\n",
      "[418]\tvalid_0's l1: 6.55854\n",
      "[419]\tvalid_0's l1: 6.55561\n",
      "[420]\tvalid_0's l1: 6.55239\n",
      "[421]\tvalid_0's l1: 6.54881\n",
      "[422]\tvalid_0's l1: 6.54526\n",
      "[423]\tvalid_0's l1: 6.54174\n",
      "[424]\tvalid_0's l1: 6.53824\n",
      "[425]\tvalid_0's l1: 6.53476\n",
      "[426]\tvalid_0's l1: 6.53034\n",
      "[427]\tvalid_0's l1: 6.52575\n",
      "[428]\tvalid_0's l1: 6.52226\n",
      "[429]\tvalid_0's l1: 6.51853\n",
      "[430]\tvalid_0's l1: 6.51428\n",
      "[431]\tvalid_0's l1: 6.51006\n",
      "[432]\tvalid_0's l1: 6.50608\n",
      "[433]\tvalid_0's l1: 6.50245\n",
      "[434]\tvalid_0's l1: 6.49869\n",
      "[435]\tvalid_0's l1: 6.49617\n",
      "[436]\tvalid_0's l1: 6.49525\n",
      "[437]\tvalid_0's l1: 6.49433\n",
      "[438]\tvalid_0's l1: 6.49342\n",
      "[439]\tvalid_0's l1: 6.49251\n",
      "[440]\tvalid_0's l1: 6.4916\n",
      "[441]\tvalid_0's l1: 6.48807\n",
      "[442]\tvalid_0's l1: 6.48517\n",
      "[443]\tvalid_0's l1: 6.48167\n",
      "[444]\tvalid_0's l1: 6.47882\n",
      "[445]\tvalid_0's l1: 6.4754\n",
      "[446]\tvalid_0's l1: 6.47306\n",
      "[447]\tvalid_0's l1: 6.47074\n",
      "[448]\tvalid_0's l1: 6.46842\n",
      "[449]\tvalid_0's l1: 6.46629\n",
      "[450]\tvalid_0's l1: 6.464\n",
      "[451]\tvalid_0's l1: 6.45999\n",
      "[452]\tvalid_0's l1: 6.45602\n",
      "[453]\tvalid_0's l1: 6.45218\n",
      "[454]\tvalid_0's l1: 6.44836\n",
      "[455]\tvalid_0's l1: 6.44456\n",
      "[456]\tvalid_0's l1: 6.44104\n",
      "[457]\tvalid_0's l1: 6.43754\n",
      "[458]\tvalid_0's l1: 6.43407\n",
      "[459]\tvalid_0's l1: 6.43064\n",
      "[460]\tvalid_0's l1: 6.42723\n",
      "[461]\tvalid_0's l1: 6.42437\n",
      "[462]\tvalid_0's l1: 6.42153\n",
      "[463]\tvalid_0's l1: 6.41893\n",
      "[464]\tvalid_0's l1: 6.41634\n",
      "[465]\tvalid_0's l1: 6.4141\n",
      "[466]\tvalid_0's l1: 6.40997\n",
      "[467]\tvalid_0's l1: 6.40585\n",
      "[468]\tvalid_0's l1: 6.40176\n",
      "[469]\tvalid_0's l1: 6.39769\n",
      "[470]\tvalid_0's l1: 6.39364\n",
      "[471]\tvalid_0's l1: 6.3916\n",
      "[472]\tvalid_0's l1: 6.38956\n",
      "[473]\tvalid_0's l1: 6.38794\n",
      "[474]\tvalid_0's l1: 6.38592\n",
      "[475]\tvalid_0's l1: 6.38431\n",
      "[476]\tvalid_0's l1: 6.38285\n",
      "[477]\tvalid_0's l1: 6.3814\n",
      "[478]\tvalid_0's l1: 6.38\n",
      "[479]\tvalid_0's l1: 6.37862\n",
      "[480]\tvalid_0's l1: 6.37633\n",
      "[481]\tvalid_0's l1: 6.37406\n",
      "[482]\tvalid_0's l1: 6.37144\n",
      "[483]\tvalid_0's l1: 6.36937\n",
      "[484]\tvalid_0's l1: 6.36737\n",
      "[485]\tvalid_0's l1: 6.3652\n",
      "[486]\tvalid_0's l1: 6.36283\n",
      "[487]\tvalid_0's l1: 6.36048\n",
      "[488]\tvalid_0's l1: 6.35813\n",
      "[489]\tvalid_0's l1: 6.35579\n",
      "[490]\tvalid_0's l1: 6.35349\n",
      "[491]\tvalid_0's l1: 6.35129\n",
      "[492]\tvalid_0's l1: 6.34912\n",
      "[493]\tvalid_0's l1: 6.34735\n",
      "[494]\tvalid_0's l1: 6.34559\n",
      "[495]\tvalid_0's l1: 6.34389\n",
      "[496]\tvalid_0's l1: 6.34251\n",
      "[497]\tvalid_0's l1: 6.3414\n",
      "[498]\tvalid_0's l1: 6.34035\n",
      "[499]\tvalid_0's l1: 6.33929\n",
      "[500]\tvalid_0's l1: 6.33825\n",
      "[501]\tvalid_0's l1: 6.33734\n",
      "[502]\tvalid_0's l1: 6.33644\n",
      "[503]\tvalid_0's l1: 6.33555\n",
      "[504]\tvalid_0's l1: 6.33465\n",
      "[505]\tvalid_0's l1: 6.33376\n",
      "[506]\tvalid_0's l1: 6.33208\n",
      "[507]\tvalid_0's l1: 6.33043\n",
      "[508]\tvalid_0's l1: 6.32886\n",
      "[509]\tvalid_0's l1: 6.32736\n",
      "[510]\tvalid_0's l1: 6.32595\n",
      "[511]\tvalid_0's l1: 6.32308\n",
      "[512]\tvalid_0's l1: 6.32023\n",
      "[513]\tvalid_0's l1: 6.31753\n",
      "[514]\tvalid_0's l1: 6.31564\n",
      "[515]\tvalid_0's l1: 6.31314\n",
      "[516]\tvalid_0's l1: 6.31308\n",
      "[517]\tvalid_0's l1: 6.31258\n",
      "[518]\tvalid_0's l1: 6.31257\n",
      "[519]\tvalid_0's l1: 6.31212\n",
      "[520]\tvalid_0's l1: 6.31206\n",
      "[521]\tvalid_0's l1: 6.3109\n",
      "[522]\tvalid_0's l1: 6.30974\n",
      "[523]\tvalid_0's l1: 6.30858\n",
      "[524]\tvalid_0's l1: 6.30744\n",
      "[525]\tvalid_0's l1: 6.30647\n",
      "[526]\tvalid_0's l1: 6.30394\n",
      "[527]\tvalid_0's l1: 6.30142\n",
      "[528]\tvalid_0's l1: 6.29958\n",
      "[529]\tvalid_0's l1: 6.29708\n",
      "[530]\tvalid_0's l1: 6.29525\n",
      "[531]\tvalid_0's l1: 6.29391\n",
      "[532]\tvalid_0's l1: 6.29189\n",
      "[533]\tvalid_0's l1: 6.29064\n",
      "[534]\tvalid_0's l1: 6.28941\n",
      "[535]\tvalid_0's l1: 6.28823\n",
      "[536]\tvalid_0's l1: 6.2866\n",
      "[537]\tvalid_0's l1: 6.28517\n",
      "[538]\tvalid_0's l1: 6.28375\n",
      "[539]\tvalid_0's l1: 6.28234\n",
      "[540]\tvalid_0's l1: 6.28093\n",
      "[541]\tvalid_0's l1: 6.28018\n",
      "[542]\tvalid_0's l1: 6.27945\n",
      "[543]\tvalid_0's l1: 6.27881\n",
      "[544]\tvalid_0's l1: 6.2782\n",
      "[545]\tvalid_0's l1: 6.27761\n",
      "[546]\tvalid_0's l1: 6.27564\n",
      "[547]\tvalid_0's l1: 6.27368\n",
      "[548]\tvalid_0's l1: 6.27174\n",
      "[549]\tvalid_0's l1: 6.26983\n",
      "[550]\tvalid_0's l1: 6.26805\n",
      "[551]\tvalid_0's l1: 6.2659\n",
      "[552]\tvalid_0's l1: 6.26377\n",
      "[553]\tvalid_0's l1: 6.26164\n",
      "[554]\tvalid_0's l1: 6.25952\n",
      "[555]\tvalid_0's l1: 6.25788\n",
      "[556]\tvalid_0's l1: 6.25611\n",
      "[557]\tvalid_0's l1: 6.2545\n",
      "[558]\tvalid_0's l1: 6.25275\n",
      "[559]\tvalid_0's l1: 6.25116\n",
      "[560]\tvalid_0's l1: 6.24947\n",
      "[561]\tvalid_0's l1: 6.24861\n",
      "[562]\tvalid_0's l1: 6.24777\n",
      "[563]\tvalid_0's l1: 6.24694\n",
      "[564]\tvalid_0's l1: 6.24612\n",
      "[565]\tvalid_0's l1: 6.2453\n",
      "[566]\tvalid_0's l1: 6.24343\n",
      "[567]\tvalid_0's l1: 6.24157\n",
      "[568]\tvalid_0's l1: 6.23971\n",
      "[569]\tvalid_0's l1: 6.23788\n",
      "[570]\tvalid_0's l1: 6.23425\n",
      "[571]\tvalid_0's l1: 6.23238\n",
      "[572]\tvalid_0's l1: 6.23052\n",
      "[573]\tvalid_0's l1: 6.22878\n",
      "[574]\tvalid_0's l1: 6.22705\n",
      "[575]\tvalid_0's l1: 6.22534\n",
      "[576]\tvalid_0's l1: 6.22469\n",
      "[577]\tvalid_0's l1: 6.22405\n",
      "[578]\tvalid_0's l1: 6.22342\n",
      "[579]\tvalid_0's l1: 6.22278\n",
      "[580]\tvalid_0's l1: 6.22215\n",
      "[581]\tvalid_0's l1: 6.22086\n",
      "[582]\tvalid_0's l1: 6.21958\n",
      "[583]\tvalid_0's l1: 6.2183\n",
      "[584]\tvalid_0's l1: 6.21705\n",
      "[585]\tvalid_0's l1: 6.21582\n",
      "[586]\tvalid_0's l1: 6.21502\n",
      "[587]\tvalid_0's l1: 6.21423\n",
      "[588]\tvalid_0's l1: 6.21345\n",
      "[589]\tvalid_0's l1: 6.21267\n",
      "[590]\tvalid_0's l1: 6.21193\n",
      "[591]\tvalid_0's l1: 6.21124\n",
      "[592]\tvalid_0's l1: 6.21037\n",
      "[593]\tvalid_0's l1: 6.20964\n",
      "[594]\tvalid_0's l1: 6.20878\n",
      "[595]\tvalid_0's l1: 6.20805\n",
      "[596]\tvalid_0's l1: 6.20654\n",
      "[597]\tvalid_0's l1: 6.20504\n",
      "[598]\tvalid_0's l1: 6.20355\n",
      "[599]\tvalid_0's l1: 6.20207\n",
      "[600]\tvalid_0's l1: 6.20059\n",
      "[601]\tvalid_0's l1: 6.19976\n",
      "[602]\tvalid_0's l1: 6.19856\n",
      "[603]\tvalid_0's l1: 6.19775\n",
      "[604]\tvalid_0's l1: 6.19656\n",
      "[605]\tvalid_0's l1: 6.19575\n",
      "[606]\tvalid_0's l1: 6.19476\n",
      "[607]\tvalid_0's l1: 6.19377\n",
      "[608]\tvalid_0's l1: 6.19247\n",
      "[609]\tvalid_0's l1: 6.19162\n",
      "[610]\tvalid_0's l1: 6.19008\n",
      "[611]\tvalid_0's l1: 6.18876\n",
      "[612]\tvalid_0's l1: 6.18762\n",
      "[613]\tvalid_0's l1: 6.18648\n",
      "[614]\tvalid_0's l1: 6.18497\n",
      "[615]\tvalid_0's l1: 6.18314\n",
      "[616]\tvalid_0's l1: 6.18138\n",
      "[617]\tvalid_0's l1: 6.17964\n",
      "[618]\tvalid_0's l1: 6.1779\n",
      "[619]\tvalid_0's l1: 6.17629\n",
      "[620]\tvalid_0's l1: 6.17457\n",
      "[621]\tvalid_0's l1: 6.17385\n",
      "[622]\tvalid_0's l1: 6.17313\n",
      "[623]\tvalid_0's l1: 6.17241\n",
      "[624]\tvalid_0's l1: 6.1717\n",
      "[625]\tvalid_0's l1: 6.17099\n",
      "[626]\tvalid_0's l1: 6.17014\n",
      "[627]\tvalid_0's l1: 6.16929\n",
      "[628]\tvalid_0's l1: 6.16845\n",
      "[629]\tvalid_0's l1: 6.16714\n",
      "[630]\tvalid_0's l1: 6.16614\n",
      "[631]\tvalid_0's l1: 6.16422\n",
      "[632]\tvalid_0's l1: 6.16272\n",
      "[633]\tvalid_0's l1: 6.16084\n",
      "[634]\tvalid_0's l1: 6.15935\n",
      "[635]\tvalid_0's l1: 6.15749\n",
      "[636]\tvalid_0's l1: 6.15667\n",
      "[637]\tvalid_0's l1: 6.15586\n",
      "[638]\tvalid_0's l1: 6.15453\n",
      "[639]\tvalid_0's l1: 6.15373\n",
      "[640]\tvalid_0's l1: 6.1538\n",
      "[641]\tvalid_0's l1: 6.15204\n",
      "[642]\tvalid_0's l1: 6.1503\n",
      "[643]\tvalid_0's l1: 6.14857\n",
      "[644]\tvalid_0's l1: 6.14685\n",
      "[645]\tvalid_0's l1: 6.14517\n",
      "[646]\tvalid_0's l1: 6.14488\n",
      "[647]\tvalid_0's l1: 6.14459\n",
      "[648]\tvalid_0's l1: 6.14396\n",
      "[649]\tvalid_0's l1: 6.14368\n",
      "[650]\tvalid_0's l1: 6.14173\n",
      "[651]\tvalid_0's l1: 6.14193\n",
      "[652]\tvalid_0's l1: 6.14218\n",
      "[653]\tvalid_0's l1: 6.14222\n",
      "[654]\tvalid_0's l1: 6.14247\n",
      "[655]\tvalid_0's l1: 6.14267\n",
      "[656]\tvalid_0's l1: 6.14246\n",
      "[657]\tvalid_0's l1: 6.14225\n",
      "[658]\tvalid_0's l1: 6.14253\n",
      "[659]\tvalid_0's l1: 6.14254\n",
      "[660]\tvalid_0's l1: 6.14282\n",
      "[661]\tvalid_0's l1: 6.14142\n",
      "[662]\tvalid_0's l1: 6.14019\n",
      "[663]\tvalid_0's l1: 6.13896\n",
      "[664]\tvalid_0's l1: 6.13774\n",
      "[665]\tvalid_0's l1: 6.13621\n",
      "[666]\tvalid_0's l1: 6.13588\n",
      "[667]\tvalid_0's l1: 6.13554\n",
      "[668]\tvalid_0's l1: 6.13521\n",
      "[669]\tvalid_0's l1: 6.13488\n",
      "[670]\tvalid_0's l1: 6.13458\n",
      "[671]\tvalid_0's l1: 6.13306\n",
      "[672]\tvalid_0's l1: 6.13182\n",
      "[673]\tvalid_0's l1: 6.13075\n",
      "[674]\tvalid_0's l1: 6.12954\n",
      "[675]\tvalid_0's l1: 6.12807\n",
      "[676]\tvalid_0's l1: 6.1274\n",
      "[677]\tvalid_0's l1: 6.12673\n",
      "[678]\tvalid_0's l1: 6.12651\n",
      "[679]\tvalid_0's l1: 6.12585\n",
      "[680]\tvalid_0's l1: 6.12563\n",
      "[681]\tvalid_0's l1: 6.12558\n",
      "[682]\tvalid_0's l1: 6.12552\n",
      "[683]\tvalid_0's l1: 6.12535\n",
      "[684]\tvalid_0's l1: 6.12531\n",
      "[685]\tvalid_0's l1: 6.12534\n",
      "[686]\tvalid_0's l1: 6.12473\n",
      "[687]\tvalid_0's l1: 6.12434\n",
      "[688]\tvalid_0's l1: 6.12353\n",
      "[689]\tvalid_0's l1: 6.12315\n",
      "[690]\tvalid_0's l1: 6.12236\n",
      "[691]\tvalid_0's l1: 6.12122\n",
      "[692]\tvalid_0's l1: 6.1207\n",
      "[693]\tvalid_0's l1: 6.12011\n",
      "[694]\tvalid_0's l1: 6.1196\n",
      "[695]\tvalid_0's l1: 6.11847\n",
      "[696]\tvalid_0's l1: 6.11899\n",
      "[697]\tvalid_0's l1: 6.11951\n",
      "[698]\tvalid_0's l1: 6.12002\n",
      "[699]\tvalid_0's l1: 6.12054\n",
      "[700]\tvalid_0's l1: 6.12105\n",
      "[701]\tvalid_0's l1: 6.12005\n",
      "[702]\tvalid_0's l1: 6.11903\n",
      "[703]\tvalid_0's l1: 6.11802\n",
      "[704]\tvalid_0's l1: 6.11716\n",
      "[705]\tvalid_0's l1: 6.11616\n",
      "[706]\tvalid_0's l1: 6.11528\n",
      "[707]\tvalid_0's l1: 6.11444\n",
      "[708]\tvalid_0's l1: 6.11361\n",
      "[709]\tvalid_0's l1: 6.11279\n",
      "[710]\tvalid_0's l1: 6.11197\n",
      "[711]\tvalid_0's l1: 6.11143\n",
      "[712]\tvalid_0's l1: 6.11167\n",
      "[713]\tvalid_0's l1: 6.11113\n",
      "[714]\tvalid_0's l1: 6.11138\n",
      "[715]\tvalid_0's l1: 6.11083\n",
      "[716]\tvalid_0's l1: 6.11041\n",
      "[717]\tvalid_0's l1: 6.11\n",
      "[718]\tvalid_0's l1: 6.10958\n",
      "[719]\tvalid_0's l1: 6.10878\n",
      "[720]\tvalid_0's l1: 6.10798\n",
      "[721]\tvalid_0's l1: 6.1073\n",
      "[722]\tvalid_0's l1: 6.10663\n",
      "[723]\tvalid_0's l1: 6.10596\n",
      "[724]\tvalid_0's l1: 6.1053\n",
      "[725]\tvalid_0's l1: 6.10464\n",
      "[726]\tvalid_0's l1: 6.10348\n",
      "[727]\tvalid_0's l1: 6.10233\n",
      "[728]\tvalid_0's l1: 6.10135\n",
      "[729]\tvalid_0's l1: 6.10021\n",
      "[730]\tvalid_0's l1: 6.09908\n",
      "[731]\tvalid_0's l1: 6.09769\n",
      "[732]\tvalid_0's l1: 6.09631\n",
      "[733]\tvalid_0's l1: 6.09493\n",
      "[734]\tvalid_0's l1: 6.09356\n",
      "[735]\tvalid_0's l1: 6.0922\n",
      "[736]\tvalid_0's l1: 6.09232\n",
      "[737]\tvalid_0's l1: 6.09244\n",
      "[738]\tvalid_0's l1: 6.0926\n",
      "[739]\tvalid_0's l1: 6.09194\n",
      "[740]\tvalid_0's l1: 6.09134\n",
      "[741]\tvalid_0's l1: 6.09032\n",
      "[742]\tvalid_0's l1: 6.08925\n",
      "[743]\tvalid_0's l1: 6.08849\n",
      "[744]\tvalid_0's l1: 6.08773\n",
      "[745]\tvalid_0's l1: 6.08697\n",
      "[746]\tvalid_0's l1: 6.08696\n",
      "[747]\tvalid_0's l1: 6.0866\n",
      "[748]\tvalid_0's l1: 6.08665\n",
      "[749]\tvalid_0's l1: 6.08629\n",
      "[750]\tvalid_0's l1: 6.08636\n",
      "[751]\tvalid_0's l1: 6.08592\n",
      "[752]\tvalid_0's l1: 6.08554\n",
      "[753]\tvalid_0's l1: 6.08516\n",
      "[754]\tvalid_0's l1: 6.08509\n",
      "[755]\tvalid_0's l1: 6.08474\n",
      "[756]\tvalid_0's l1: 6.08498\n",
      "[757]\tvalid_0's l1: 6.08522\n",
      "[758]\tvalid_0's l1: 6.08546\n",
      "[759]\tvalid_0's l1: 6.0857\n",
      "[760]\tvalid_0's l1: 6.08593\n",
      "[761]\tvalid_0's l1: 6.08509\n",
      "[762]\tvalid_0's l1: 6.08425\n",
      "[763]\tvalid_0's l1: 6.08342\n",
      "[764]\tvalid_0's l1: 6.08303\n",
      "[765]\tvalid_0's l1: 6.0822\n",
      "[766]\tvalid_0's l1: 6.08185\n",
      "[767]\tvalid_0's l1: 6.08151\n",
      "[768]\tvalid_0's l1: 6.08116\n",
      "[769]\tvalid_0's l1: 6.08082\n",
      "[770]\tvalid_0's l1: 6.08048\n",
      "[771]\tvalid_0's l1: 6.07952\n",
      "[772]\tvalid_0's l1: 6.07856\n",
      "[773]\tvalid_0's l1: 6.07761\n",
      "[774]\tvalid_0's l1: 6.07667\n",
      "[775]\tvalid_0's l1: 6.07573\n",
      "[776]\tvalid_0's l1: 6.0762\n",
      "[777]\tvalid_0's l1: 6.0766\n",
      "[778]\tvalid_0's l1: 6.077\n",
      "[779]\tvalid_0's l1: 6.0774\n",
      "[780]\tvalid_0's l1: 6.07797\n",
      "[781]\tvalid_0's l1: 6.07789\n",
      "[782]\tvalid_0's l1: 6.0778\n",
      "[783]\tvalid_0's l1: 6.0771\n",
      "[784]\tvalid_0's l1: 6.07702\n",
      "[785]\tvalid_0's l1: 6.07697\n",
      "[786]\tvalid_0's l1: 6.07655\n",
      "[787]\tvalid_0's l1: 6.07582\n",
      "[788]\tvalid_0's l1: 6.07514\n",
      "[789]\tvalid_0's l1: 6.07442\n",
      "[790]\tvalid_0's l1: 6.07402\n",
      "[791]\tvalid_0's l1: 6.07336\n",
      "[792]\tvalid_0's l1: 6.07296\n",
      "[793]\tvalid_0's l1: 6.0726\n",
      "[794]\tvalid_0's l1: 6.07202\n",
      "[795]\tvalid_0's l1: 6.0717\n",
      "[796]\tvalid_0's l1: 6.07209\n",
      "[797]\tvalid_0's l1: 6.07248\n",
      "[798]\tvalid_0's l1: 6.07287\n",
      "[799]\tvalid_0's l1: 6.07325\n",
      "[800]\tvalid_0's l1: 6.07363\n",
      "[801]\tvalid_0's l1: 6.07238\n",
      "[802]\tvalid_0's l1: 6.07113\n",
      "[803]\tvalid_0's l1: 6.06988\n",
      "[804]\tvalid_0's l1: 6.06865\n",
      "[805]\tvalid_0's l1: 6.06771\n",
      "[806]\tvalid_0's l1: 6.06761\n",
      "[807]\tvalid_0's l1: 6.06722\n",
      "[808]\tvalid_0's l1: 6.06707\n",
      "[809]\tvalid_0's l1: 6.06667\n",
      "[810]\tvalid_0's l1: 6.06653\n",
      "[811]\tvalid_0's l1: 6.0661\n",
      "[812]\tvalid_0's l1: 6.06568\n",
      "[813]\tvalid_0's l1: 6.06528\n",
      "[814]\tvalid_0's l1: 6.06488\n",
      "[815]\tvalid_0's l1: 6.06448\n",
      "[816]\tvalid_0's l1: 6.06331\n",
      "[817]\tvalid_0's l1: 6.06216\n",
      "[818]\tvalid_0's l1: 6.061\n",
      "[819]\tvalid_0's l1: 6.05986\n",
      "[820]\tvalid_0's l1: 6.05872\n",
      "[821]\tvalid_0's l1: 6.05825\n",
      "[822]\tvalid_0's l1: 6.05778\n",
      "[823]\tvalid_0's l1: 6.05731\n",
      "[824]\tvalid_0's l1: 6.05691\n",
      "[825]\tvalid_0's l1: 6.05698\n",
      "[826]\tvalid_0's l1: 6.05626\n",
      "[827]\tvalid_0's l1: 6.0555\n",
      "[828]\tvalid_0's l1: 6.05481\n",
      "[829]\tvalid_0's l1: 6.05416\n",
      "[830]\tvalid_0's l1: 6.05348\n",
      "[831]\tvalid_0's l1: 6.05381\n",
      "[832]\tvalid_0's l1: 6.05413\n",
      "[833]\tvalid_0's l1: 6.05445\n",
      "[834]\tvalid_0's l1: 6.05477\n",
      "[835]\tvalid_0's l1: 6.05509\n",
      "[836]\tvalid_0's l1: 6.05514\n",
      "[837]\tvalid_0's l1: 6.05524\n",
      "[838]\tvalid_0's l1: 6.05529\n",
      "[839]\tvalid_0's l1: 6.05539\n",
      "[840]\tvalid_0's l1: 6.05574\n",
      "[841]\tvalid_0's l1: 6.05558\n",
      "[842]\tvalid_0's l1: 6.05542\n",
      "[843]\tvalid_0's l1: 6.05527\n",
      "[844]\tvalid_0's l1: 6.05511\n",
      "[845]\tvalid_0's l1: 6.05496\n",
      "[846]\tvalid_0's l1: 6.05527\n",
      "[847]\tvalid_0's l1: 6.05579\n",
      "[848]\tvalid_0's l1: 6.0561\n",
      "[849]\tvalid_0's l1: 6.0566\n",
      "[850]\tvalid_0's l1: 6.05691\n",
      "[851]\tvalid_0's l1: 6.0557\n",
      "[852]\tvalid_0's l1: 6.05451\n",
      "[853]\tvalid_0's l1: 6.05379\n",
      "[854]\tvalid_0's l1: 6.05277\n",
      "[855]\tvalid_0's l1: 6.05209\n",
      "[856]\tvalid_0's l1: 6.05081\n",
      "[857]\tvalid_0's l1: 6.04953\n",
      "[858]\tvalid_0's l1: 6.04856\n",
      "[859]\tvalid_0's l1: 6.0476\n",
      "[860]\tvalid_0's l1: 6.04662\n",
      "[861]\tvalid_0's l1: 6.04533\n",
      "[862]\tvalid_0's l1: 6.04405\n",
      "[863]\tvalid_0's l1: 6.04284\n",
      "[864]\tvalid_0's l1: 6.04164\n",
      "[865]\tvalid_0's l1: 6.04044\n",
      "[866]\tvalid_0's l1: 6.04056\n",
      "[867]\tvalid_0's l1: 6.04069\n",
      "[868]\tvalid_0's l1: 6.04057\n",
      "[869]\tvalid_0's l1: 6.04069\n",
      "[870]\tvalid_0's l1: 6.04057\n",
      "[871]\tvalid_0's l1: 6.04017\n",
      "[872]\tvalid_0's l1: 6.03977\n",
      "[873]\tvalid_0's l1: 6.03937\n",
      "[874]\tvalid_0's l1: 6.03898\n",
      "[875]\tvalid_0's l1: 6.03859\n",
      "[876]\tvalid_0's l1: 6.03791\n",
      "[877]\tvalid_0's l1: 6.03724\n",
      "[878]\tvalid_0's l1: 6.03657\n",
      "[879]\tvalid_0's l1: 6.03591\n",
      "[880]\tvalid_0's l1: 6.03525\n",
      "[881]\tvalid_0's l1: 6.03487\n",
      "[882]\tvalid_0's l1: 6.03453\n",
      "[883]\tvalid_0's l1: 6.03416\n",
      "[884]\tvalid_0's l1: 6.03382\n",
      "[885]\tvalid_0's l1: 6.03347\n",
      "[886]\tvalid_0's l1: 6.03309\n",
      "[887]\tvalid_0's l1: 6.0327\n",
      "[888]\tvalid_0's l1: 6.03249\n",
      "[889]\tvalid_0's l1: 6.03211\n",
      "[890]\tvalid_0's l1: 6.0319\n",
      "[891]\tvalid_0's l1: 6.03154\n",
      "[892]\tvalid_0's l1: 6.03119\n",
      "[893]\tvalid_0's l1: 6.03084\n",
      "[894]\tvalid_0's l1: 6.03049\n",
      "[895]\tvalid_0's l1: 6.03014\n",
      "[896]\tvalid_0's l1: 6.02948\n",
      "[897]\tvalid_0's l1: 6.02883\n",
      "[898]\tvalid_0's l1: 6.02818\n",
      "[899]\tvalid_0's l1: 6.02753\n",
      "[900]\tvalid_0's l1: 6.02689\n",
      "[901]\tvalid_0's l1: 6.0256\n",
      "[902]\tvalid_0's l1: 6.02424\n",
      "[903]\tvalid_0's l1: 6.02296\n",
      "[904]\tvalid_0's l1: 6.02162\n",
      "[905]\tvalid_0's l1: 6.02035\n",
      "[906]\tvalid_0's l1: 6.01977\n",
      "[907]\tvalid_0's l1: 6.01919\n",
      "[908]\tvalid_0's l1: 6.01861\n",
      "[909]\tvalid_0's l1: 6.01804\n",
      "[910]\tvalid_0's l1: 6.01775\n",
      "[911]\tvalid_0's l1: 6.01665\n",
      "[912]\tvalid_0's l1: 6.01556\n",
      "[913]\tvalid_0's l1: 6.01453\n",
      "[914]\tvalid_0's l1: 6.01359\n",
      "[915]\tvalid_0's l1: 6.01286\n",
      "[916]\tvalid_0's l1: 6.01238\n",
      "[917]\tvalid_0's l1: 6.01168\n",
      "[918]\tvalid_0's l1: 6.01121\n",
      "[919]\tvalid_0's l1: 6.01074\n",
      "[920]\tvalid_0's l1: 6.01028\n",
      "[921]\tvalid_0's l1: 6.00897\n",
      "[922]\tvalid_0's l1: 6.00819\n",
      "[923]\tvalid_0's l1: 6.0074\n",
      "[924]\tvalid_0's l1: 6.00662\n",
      "[925]\tvalid_0's l1: 6.00585\n",
      "[926]\tvalid_0's l1: 6.00583\n",
      "[927]\tvalid_0's l1: 6.00582\n",
      "[928]\tvalid_0's l1: 6.0058\n",
      "[929]\tvalid_0's l1: 6.00578\n",
      "[930]\tvalid_0's l1: 6.00583\n",
      "[931]\tvalid_0's l1: 6.00568\n",
      "[932]\tvalid_0's l1: 6.0056\n",
      "[933]\tvalid_0's l1: 6.00552\n",
      "[934]\tvalid_0's l1: 6.00543\n",
      "[935]\tvalid_0's l1: 6.00535\n",
      "[936]\tvalid_0's l1: 6.00489\n",
      "[937]\tvalid_0's l1: 6.00443\n",
      "[938]\tvalid_0's l1: 6.00397\n",
      "[939]\tvalid_0's l1: 6.00352\n",
      "[940]\tvalid_0's l1: 6.00308\n",
      "[941]\tvalid_0's l1: 6.00303\n",
      "[942]\tvalid_0's l1: 6.00298\n",
      "[943]\tvalid_0's l1: 6.00254\n",
      "[944]\tvalid_0's l1: 6.00256\n",
      "[945]\tvalid_0's l1: 6.00306\n",
      "[946]\tvalid_0's l1: 6.0026\n",
      "[947]\tvalid_0's l1: 6.00213\n",
      "[948]\tvalid_0's l1: 6.00167\n",
      "[949]\tvalid_0's l1: 6.00121\n",
      "[950]\tvalid_0's l1: 6.00076\n",
      "[951]\tvalid_0's l1: 6.00052\n",
      "[952]\tvalid_0's l1: 6.00029\n",
      "[953]\tvalid_0's l1: 5.99984\n",
      "[954]\tvalid_0's l1: 5.99966\n",
      "[955]\tvalid_0's l1: 5.99924\n",
      "[956]\tvalid_0's l1: 5.99931\n",
      "[957]\tvalid_0's l1: 5.99942\n",
      "[958]\tvalid_0's l1: 5.99953\n",
      "[959]\tvalid_0's l1: 5.99958\n",
      "[960]\tvalid_0's l1: 5.99962\n",
      "[961]\tvalid_0's l1: 5.99949\n",
      "[962]\tvalid_0's l1: 5.99936\n",
      "[963]\tvalid_0's l1: 5.99923\n",
      "[964]\tvalid_0's l1: 5.9991\n",
      "[965]\tvalid_0's l1: 5.99863\n",
      "[966]\tvalid_0's l1: 5.99823\n",
      "[967]\tvalid_0's l1: 5.99783\n",
      "[968]\tvalid_0's l1: 5.99744\n",
      "[969]\tvalid_0's l1: 5.99763\n",
      "[970]\tvalid_0's l1: 5.99723\n",
      "[971]\tvalid_0's l1: 5.99679\n",
      "[972]\tvalid_0's l1: 5.99649\n",
      "[973]\tvalid_0's l1: 5.99614\n",
      "[974]\tvalid_0's l1: 5.99587\n",
      "[975]\tvalid_0's l1: 5.99552\n",
      "[976]\tvalid_0's l1: 5.99543\n",
      "[977]\tvalid_0's l1: 5.99534\n",
      "[978]\tvalid_0's l1: 5.99526\n",
      "[979]\tvalid_0's l1: 5.99517\n",
      "[980]\tvalid_0's l1: 5.99511\n",
      "[981]\tvalid_0's l1: 5.99565\n",
      "[982]\tvalid_0's l1: 5.99619\n",
      "[983]\tvalid_0's l1: 5.99672\n",
      "[984]\tvalid_0's l1: 5.99726\n",
      "[985]\tvalid_0's l1: 5.99779\n",
      "[986]\tvalid_0's l1: 5.99738\n",
      "[987]\tvalid_0's l1: 5.99697\n",
      "[988]\tvalid_0's l1: 5.99657\n",
      "[989]\tvalid_0's l1: 5.99623\n",
      "[990]\tvalid_0's l1: 5.99589\n",
      "[991]\tvalid_0's l1: 5.99558\n",
      "[992]\tvalid_0's l1: 5.99547\n",
      "[993]\tvalid_0's l1: 5.99536\n",
      "[994]\tvalid_0's l1: 5.99547\n",
      "[995]\tvalid_0's l1: 5.99536\n",
      "[996]\tvalid_0's l1: 5.99515\n",
      "[997]\tvalid_0's l1: 5.99499\n",
      "[998]\tvalid_0's l1: 5.9949\n",
      "[999]\tvalid_0's l1: 5.99487\n",
      "[1000]\tvalid_0's l1: 5.99485\n",
      "[1001]\tvalid_0's l1: 5.9946\n",
      "[1002]\tvalid_0's l1: 5.99436\n",
      "[1003]\tvalid_0's l1: 5.99412\n",
      "[1004]\tvalid_0's l1: 5.99392\n",
      "[1005]\tvalid_0's l1: 5.99375\n",
      "[1006]\tvalid_0's l1: 5.994\n",
      "[1007]\tvalid_0's l1: 5.99424\n",
      "[1008]\tvalid_0's l1: 5.99449\n",
      "[1009]\tvalid_0's l1: 5.99473\n",
      "[1010]\tvalid_0's l1: 5.99497\n",
      "[1011]\tvalid_0's l1: 5.99402\n",
      "[1012]\tvalid_0's l1: 5.99308\n",
      "[1013]\tvalid_0's l1: 5.99214\n",
      "[1014]\tvalid_0's l1: 5.9912\n",
      "[1015]\tvalid_0's l1: 5.99027\n",
      "[1016]\tvalid_0's l1: 5.98973\n",
      "[1017]\tvalid_0's l1: 5.98946\n",
      "[1018]\tvalid_0's l1: 5.98895\n",
      "[1019]\tvalid_0's l1: 5.98869\n",
      "[1020]\tvalid_0's l1: 5.98844\n",
      "[1021]\tvalid_0's l1: 5.98801\n",
      "[1022]\tvalid_0's l1: 5.98764\n",
      "[1023]\tvalid_0's l1: 5.98729\n",
      "[1024]\tvalid_0's l1: 5.98699\n",
      "[1025]\tvalid_0's l1: 5.98669\n",
      "[1026]\tvalid_0's l1: 5.98697\n",
      "[1027]\tvalid_0's l1: 5.98725\n",
      "[1028]\tvalid_0's l1: 5.987\n",
      "[1029]\tvalid_0's l1: 5.98677\n",
      "[1030]\tvalid_0's l1: 5.9871\n",
      "[1031]\tvalid_0's l1: 5.98726\n",
      "[1032]\tvalid_0's l1: 5.98742\n",
      "[1033]\tvalid_0's l1: 5.98768\n",
      "[1034]\tvalid_0's l1: 5.98783\n",
      "[1035]\tvalid_0's l1: 5.98808\n",
      "[1036]\tvalid_0's l1: 5.98778\n",
      "[1037]\tvalid_0's l1: 5.98749\n",
      "[1038]\tvalid_0's l1: 5.98723\n",
      "[1039]\tvalid_0's l1: 5.98698\n",
      "[1040]\tvalid_0's l1: 5.98672\n",
      "[1041]\tvalid_0's l1: 5.98604\n",
      "[1042]\tvalid_0's l1: 5.98536\n",
      "[1043]\tvalid_0's l1: 5.98469\n",
      "[1044]\tvalid_0's l1: 5.98402\n",
      "[1045]\tvalid_0's l1: 5.98335\n",
      "[1046]\tvalid_0's l1: 5.98357\n",
      "[1047]\tvalid_0's l1: 5.98279\n",
      "[1048]\tvalid_0's l1: 5.98301\n",
      "[1049]\tvalid_0's l1: 5.98223\n",
      "[1050]\tvalid_0's l1: 5.98245\n",
      "[1051]\tvalid_0's l1: 5.98168\n",
      "[1052]\tvalid_0's l1: 5.98056\n",
      "[1053]\tvalid_0's l1: 5.9798\n",
      "[1054]\tvalid_0's l1: 5.97868\n",
      "[1055]\tvalid_0's l1: 5.97757\n",
      "[1056]\tvalid_0's l1: 5.97682\n",
      "[1057]\tvalid_0's l1: 5.97623\n",
      "[1058]\tvalid_0's l1: 5.97567\n",
      "[1059]\tvalid_0's l1: 5.97509\n",
      "[1060]\tvalid_0's l1: 5.97463\n",
      "[1061]\tvalid_0's l1: 5.9737\n",
      "[1062]\tvalid_0's l1: 5.97278\n",
      "[1063]\tvalid_0's l1: 5.97187\n",
      "[1064]\tvalid_0's l1: 5.97095\n",
      "[1065]\tvalid_0's l1: 5.97005\n",
      "[1066]\tvalid_0's l1: 5.9702\n",
      "[1067]\tvalid_0's l1: 5.97009\n",
      "[1068]\tvalid_0's l1: 5.97025\n",
      "[1069]\tvalid_0's l1: 5.97028\n",
      "[1070]\tvalid_0's l1: 5.97017\n",
      "[1071]\tvalid_0's l1: 5.97065\n",
      "[1072]\tvalid_0's l1: 5.97116\n",
      "[1073]\tvalid_0's l1: 5.97132\n",
      "[1074]\tvalid_0's l1: 5.97183\n",
      "[1075]\tvalid_0's l1: 5.97233\n",
      "[1076]\tvalid_0's l1: 5.97261\n",
      "[1077]\tvalid_0's l1: 5.97289\n",
      "[1078]\tvalid_0's l1: 5.97326\n",
      "[1079]\tvalid_0's l1: 5.97373\n",
      "[1080]\tvalid_0's l1: 5.97428\n",
      "[1081]\tvalid_0's l1: 5.97334\n",
      "[1082]\tvalid_0's l1: 5.97243\n",
      "[1083]\tvalid_0's l1: 5.97152\n",
      "[1084]\tvalid_0's l1: 5.97062\n",
      "[1085]\tvalid_0's l1: 5.96972\n",
      "[1086]\tvalid_0's l1: 5.96972\n",
      "[1087]\tvalid_0's l1: 5.96991\n",
      "[1088]\tvalid_0's l1: 5.9701\n",
      "[1089]\tvalid_0's l1: 5.9703\n",
      "[1090]\tvalid_0's l1: 5.97054\n",
      "[1091]\tvalid_0's l1: 5.9701\n",
      "[1092]\tvalid_0's l1: 5.96966\n",
      "[1093]\tvalid_0's l1: 5.96923\n",
      "[1094]\tvalid_0's l1: 5.9688\n",
      "[1095]\tvalid_0's l1: 5.96844\n",
      "[1096]\tvalid_0's l1: 5.96893\n",
      "[1097]\tvalid_0's l1: 5.96946\n",
      "[1098]\tvalid_0's l1: 5.97\n",
      "[1099]\tvalid_0's l1: 5.97054\n",
      "[1100]\tvalid_0's l1: 5.97107\n",
      "[1101]\tvalid_0's l1: 5.97115\n",
      "[1102]\tvalid_0's l1: 5.97123\n",
      "[1103]\tvalid_0's l1: 5.97132\n",
      "[1104]\tvalid_0's l1: 5.97145\n",
      "[1105]\tvalid_0's l1: 5.97164\n",
      "[1106]\tvalid_0's l1: 5.97137\n",
      "[1107]\tvalid_0's l1: 5.97117\n",
      "[1108]\tvalid_0's l1: 5.97079\n",
      "[1109]\tvalid_0's l1: 5.97033\n",
      "[1110]\tvalid_0's l1: 5.97017\n",
      "[1111]\tvalid_0's l1: 5.97061\n",
      "[1112]\tvalid_0's l1: 5.97105\n",
      "[1113]\tvalid_0's l1: 5.97149\n",
      "[1114]\tvalid_0's l1: 5.97192\n",
      "[1115]\tvalid_0's l1: 5.97252\n",
      "[1116]\tvalid_0's l1: 5.97206\n",
      "[1117]\tvalid_0's l1: 5.9716\n",
      "[1118]\tvalid_0's l1: 5.97114\n",
      "[1119]\tvalid_0's l1: 5.97069\n",
      "[1120]\tvalid_0's l1: 5.97023\n",
      "[1121]\tvalid_0's l1: 5.96904\n",
      "[1122]\tvalid_0's l1: 5.96785\n",
      "[1123]\tvalid_0's l1: 5.96667\n",
      "[1124]\tvalid_0's l1: 5.9655\n",
      "[1125]\tvalid_0's l1: 5.96436\n",
      "[1126]\tvalid_0's l1: 5.96472\n",
      "[1127]\tvalid_0's l1: 5.96507\n",
      "[1128]\tvalid_0's l1: 5.96543\n",
      "[1129]\tvalid_0's l1: 5.96579\n",
      "[1130]\tvalid_0's l1: 5.96614\n",
      "[1131]\tvalid_0's l1: 5.96626\n",
      "[1132]\tvalid_0's l1: 5.96656\n",
      "[1133]\tvalid_0's l1: 5.96685\n",
      "[1134]\tvalid_0's l1: 5.96715\n",
      "[1135]\tvalid_0's l1: 5.9675\n",
      "[1136]\tvalid_0's l1: 5.96766\n",
      "[1137]\tvalid_0's l1: 5.96782\n",
      "[1138]\tvalid_0's l1: 5.96798\n",
      "[1139]\tvalid_0's l1: 5.96813\n",
      "[1140]\tvalid_0's l1: 5.96829\n",
      "[1141]\tvalid_0's l1: 5.96837\n",
      "[1142]\tvalid_0's l1: 5.96846\n",
      "[1143]\tvalid_0's l1: 5.96854\n",
      "[1144]\tvalid_0's l1: 5.9684\n",
      "[1145]\tvalid_0's l1: 5.96826\n",
      "[1146]\tvalid_0's l1: 5.968\n",
      "[1147]\tvalid_0's l1: 5.96773\n",
      "[1148]\tvalid_0's l1: 5.96751\n",
      "[1149]\tvalid_0's l1: 5.9673\n",
      "[1150]\tvalid_0's l1: 5.96709\n",
      "[1151]\tvalid_0's l1: 5.96704\n",
      "[1152]\tvalid_0's l1: 5.96699\n",
      "[1153]\tvalid_0's l1: 5.96694\n",
      "[1154]\tvalid_0's l1: 5.96696\n",
      "[1155]\tvalid_0's l1: 5.96671\n",
      "[1156]\tvalid_0's l1: 5.96642\n",
      "[1157]\tvalid_0's l1: 5.96617\n",
      "[1158]\tvalid_0's l1: 5.96588\n",
      "[1159]\tvalid_0's l1: 5.96559\n",
      "[1160]\tvalid_0's l1: 5.9653\n",
      "[1161]\tvalid_0's l1: 5.96471\n",
      "[1162]\tvalid_0's l1: 5.96413\n",
      "[1163]\tvalid_0's l1: 5.96364\n",
      "[1164]\tvalid_0's l1: 5.96316\n",
      "[1165]\tvalid_0's l1: 5.96267\n",
      "[1166]\tvalid_0's l1: 5.96136\n",
      "[1167]\tvalid_0's l1: 5.96005\n",
      "[1168]\tvalid_0's l1: 5.95874\n",
      "[1169]\tvalid_0's l1: 5.95824\n",
      "[1170]\tvalid_0's l1: 5.95716\n",
      "[1171]\tvalid_0's l1: 5.95676\n",
      "[1172]\tvalid_0's l1: 5.95635\n",
      "[1173]\tvalid_0's l1: 5.95595\n",
      "[1174]\tvalid_0's l1: 5.95556\n",
      "[1175]\tvalid_0's l1: 5.95512\n",
      "[1176]\tvalid_0's l1: 5.95527\n",
      "[1177]\tvalid_0's l1: 5.95542\n",
      "[1178]\tvalid_0's l1: 5.95561\n",
      "[1179]\tvalid_0's l1: 5.95581\n",
      "[1180]\tvalid_0's l1: 5.95536\n",
      "[1181]\tvalid_0's l1: 5.95583\n",
      "[1182]\tvalid_0's l1: 5.9563\n",
      "[1183]\tvalid_0's l1: 5.95677\n",
      "[1184]\tvalid_0's l1: 5.95719\n",
      "[1185]\tvalid_0's l1: 5.9576\n",
      "[1186]\tvalid_0's l1: 5.95726\n",
      "[1187]\tvalid_0's l1: 5.95692\n",
      "[1188]\tvalid_0's l1: 5.95658\n",
      "[1189]\tvalid_0's l1: 5.95624\n",
      "[1190]\tvalid_0's l1: 5.95591\n",
      "[1191]\tvalid_0's l1: 5.95572\n",
      "[1192]\tvalid_0's l1: 5.95536\n",
      "[1193]\tvalid_0's l1: 5.95518\n",
      "[1194]\tvalid_0's l1: 5.95483\n",
      "[1195]\tvalid_0's l1: 5.95465\n",
      "[1196]\tvalid_0's l1: 5.95471\n",
      "[1197]\tvalid_0's l1: 5.95483\n",
      "[1198]\tvalid_0's l1: 5.95495\n",
      "[1199]\tvalid_0's l1: 5.95507\n",
      "[1200]\tvalid_0's l1: 5.95539\n",
      "[1201]\tvalid_0's l1: 5.9553\n",
      "[1202]\tvalid_0's l1: 5.95521\n",
      "[1203]\tvalid_0's l1: 5.95515\n",
      "[1204]\tvalid_0's l1: 5.95508\n",
      "[1205]\tvalid_0's l1: 5.95472\n",
      "[1206]\tvalid_0's l1: 5.95424\n",
      "[1207]\tvalid_0's l1: 5.95377\n",
      "[1208]\tvalid_0's l1: 5.95332\n",
      "[1209]\tvalid_0's l1: 5.95288\n",
      "[1210]\tvalid_0's l1: 5.95244\n",
      "[1211]\tvalid_0's l1: 5.95195\n",
      "[1212]\tvalid_0's l1: 5.95147\n",
      "[1213]\tvalid_0's l1: 5.951\n",
      "[1214]\tvalid_0's l1: 5.95053\n",
      "[1215]\tvalid_0's l1: 5.94981\n",
      "[1216]\tvalid_0's l1: 5.94966\n",
      "[1217]\tvalid_0's l1: 5.94951\n",
      "[1218]\tvalid_0's l1: 5.94939\n",
      "[1219]\tvalid_0's l1: 5.94932\n",
      "[1220]\tvalid_0's l1: 5.94925\n",
      "[1221]\tvalid_0's l1: 5.94895\n",
      "[1222]\tvalid_0's l1: 5.94865\n",
      "[1223]\tvalid_0's l1: 5.94835\n",
      "[1224]\tvalid_0's l1: 5.94807\n",
      "[1225]\tvalid_0's l1: 5.94801\n",
      "[1226]\tvalid_0's l1: 5.94686\n",
      "[1227]\tvalid_0's l1: 5.94544\n",
      "[1228]\tvalid_0's l1: 5.94446\n",
      "[1229]\tvalid_0's l1: 5.94399\n",
      "[1230]\tvalid_0's l1: 5.94302\n",
      "[1231]\tvalid_0's l1: 5.9426\n",
      "[1232]\tvalid_0's l1: 5.94218\n",
      "[1233]\tvalid_0's l1: 5.94176\n",
      "[1234]\tvalid_0's l1: 5.94135\n",
      "[1235]\tvalid_0's l1: 5.94097\n",
      "[1236]\tvalid_0's l1: 5.94105\n",
      "[1237]\tvalid_0's l1: 5.94119\n",
      "[1238]\tvalid_0's l1: 5.94172\n",
      "[1239]\tvalid_0's l1: 5.94242\n",
      "[1240]\tvalid_0's l1: 5.94255\n",
      "[1241]\tvalid_0's l1: 5.94236\n",
      "[1242]\tvalid_0's l1: 5.94221\n",
      "[1243]\tvalid_0's l1: 5.94212\n",
      "[1244]\tvalid_0's l1: 5.94203\n",
      "[1245]\tvalid_0's l1: 5.94197\n",
      "[1246]\tvalid_0's l1: 5.94249\n",
      "[1247]\tvalid_0's l1: 5.94301\n",
      "[1248]\tvalid_0's l1: 5.94329\n",
      "[1249]\tvalid_0's l1: 5.94357\n",
      "[1250]\tvalid_0's l1: 5.94408\n",
      "[1251]\tvalid_0's l1: 5.94287\n",
      "[1252]\tvalid_0's l1: 5.94167\n",
      "[1253]\tvalid_0's l1: 5.94058\n",
      "[1254]\tvalid_0's l1: 5.93957\n",
      "[1255]\tvalid_0's l1: 5.93874\n",
      "[1256]\tvalid_0's l1: 5.93868\n",
      "[1257]\tvalid_0's l1: 5.93861\n",
      "[1258]\tvalid_0's l1: 5.93858\n",
      "[1259]\tvalid_0's l1: 5.93862\n",
      "[1260]\tvalid_0's l1: 5.93862\n",
      "[1261]\tvalid_0's l1: 5.93799\n",
      "[1262]\tvalid_0's l1: 5.93752\n",
      "[1263]\tvalid_0's l1: 5.93709\n",
      "[1264]\tvalid_0's l1: 5.9369\n",
      "[1265]\tvalid_0's l1: 5.93648\n",
      "[1266]\tvalid_0's l1: 5.93636\n",
      "[1267]\tvalid_0's l1: 5.93624\n",
      "[1268]\tvalid_0's l1: 5.93611\n",
      "[1269]\tvalid_0's l1: 5.93599\n",
      "[1270]\tvalid_0's l1: 5.93587\n",
      "[1271]\tvalid_0's l1: 5.93613\n",
      "[1272]\tvalid_0's l1: 5.93564\n",
      "[1273]\tvalid_0's l1: 5.9359\n",
      "[1274]\tvalid_0's l1: 5.93569\n",
      "[1275]\tvalid_0's l1: 5.93559\n",
      "[1276]\tvalid_0's l1: 5.93456\n",
      "[1277]\tvalid_0's l1: 5.93353\n",
      "[1278]\tvalid_0's l1: 5.9325\n",
      "[1279]\tvalid_0's l1: 5.93151\n",
      "[1280]\tvalid_0's l1: 5.9306\n",
      "[1281]\tvalid_0's l1: 5.93073\n",
      "[1282]\tvalid_0's l1: 5.93091\n",
      "[1283]\tvalid_0's l1: 5.93113\n",
      "[1284]\tvalid_0's l1: 5.93134\n",
      "[1285]\tvalid_0's l1: 5.93156\n",
      "[1286]\tvalid_0's l1: 5.9311\n",
      "[1287]\tvalid_0's l1: 5.93066\n",
      "[1288]\tvalid_0's l1: 5.93022\n",
      "[1289]\tvalid_0's l1: 5.92972\n",
      "[1290]\tvalid_0's l1: 5.92931\n",
      "[1291]\tvalid_0's l1: 5.92923\n",
      "[1292]\tvalid_0's l1: 5.92915\n",
      "[1293]\tvalid_0's l1: 5.92906\n",
      "[1294]\tvalid_0's l1: 5.92898\n",
      "[1295]\tvalid_0's l1: 5.92926\n",
      "[1296]\tvalid_0's l1: 5.92902\n",
      "[1297]\tvalid_0's l1: 5.92877\n",
      "[1298]\tvalid_0's l1: 5.92855\n",
      "[1299]\tvalid_0's l1: 5.92832\n",
      "[1300]\tvalid_0's l1: 5.9281\n",
      "[1301]\tvalid_0's l1: 5.92777\n",
      "[1302]\tvalid_0's l1: 5.92742\n",
      "[1303]\tvalid_0's l1: 5.92709\n",
      "[1304]\tvalid_0's l1: 5.92674\n",
      "[1305]\tvalid_0's l1: 5.9264\n",
      "[1306]\tvalid_0's l1: 5.92566\n",
      "[1307]\tvalid_0's l1: 5.92495\n",
      "[1308]\tvalid_0's l1: 5.92427\n",
      "[1309]\tvalid_0's l1: 5.92365\n",
      "[1310]\tvalid_0's l1: 5.92304\n",
      "[1311]\tvalid_0's l1: 5.92283\n",
      "[1312]\tvalid_0's l1: 5.92262\n",
      "[1313]\tvalid_0's l1: 5.92242\n",
      "[1314]\tvalid_0's l1: 5.92227\n",
      "[1315]\tvalid_0's l1: 5.92221\n",
      "[1316]\tvalid_0's l1: 5.92248\n",
      "[1317]\tvalid_0's l1: 5.92278\n",
      "[1318]\tvalid_0's l1: 5.92315\n",
      "[1319]\tvalid_0's l1: 5.92358\n",
      "[1320]\tvalid_0's l1: 5.924\n",
      "[1321]\tvalid_0's l1: 5.92362\n",
      "[1322]\tvalid_0's l1: 5.92309\n",
      "[1323]\tvalid_0's l1: 5.92271\n",
      "[1324]\tvalid_0's l1: 5.92233\n",
      "[1325]\tvalid_0's l1: 5.9218\n",
      "[1326]\tvalid_0's l1: 5.92203\n",
      "[1327]\tvalid_0's l1: 5.92241\n",
      "[1328]\tvalid_0's l1: 5.92271\n",
      "[1329]\tvalid_0's l1: 5.92309\n",
      "[1330]\tvalid_0's l1: 5.92347\n",
      "[1331]\tvalid_0's l1: 5.92281\n",
      "[1332]\tvalid_0's l1: 5.92215\n",
      "[1333]\tvalid_0's l1: 5.9215\n",
      "[1334]\tvalid_0's l1: 5.92095\n",
      "[1335]\tvalid_0's l1: 5.9203\n",
      "[1336]\tvalid_0's l1: 5.91965\n",
      "[1337]\tvalid_0's l1: 5.91903\n",
      "[1338]\tvalid_0's l1: 5.9184\n",
      "[1339]\tvalid_0's l1: 5.91778\n",
      "[1340]\tvalid_0's l1: 5.91719\n",
      "[1341]\tvalid_0's l1: 5.91687\n",
      "[1342]\tvalid_0's l1: 5.91656\n",
      "[1343]\tvalid_0's l1: 5.91625\n",
      "[1344]\tvalid_0's l1: 5.91595\n",
      "[1345]\tvalid_0's l1: 5.91604\n",
      "[1346]\tvalid_0's l1: 5.916\n",
      "[1347]\tvalid_0's l1: 5.91597\n",
      "[1348]\tvalid_0's l1: 5.91593\n",
      "[1349]\tvalid_0's l1: 5.91589\n",
      "[1350]\tvalid_0's l1: 5.91556\n",
      "[1351]\tvalid_0's l1: 5.91555\n",
      "[1352]\tvalid_0's l1: 5.91555\n",
      "[1353]\tvalid_0's l1: 5.91576\n",
      "[1354]\tvalid_0's l1: 5.91577\n",
      "[1355]\tvalid_0's l1: 5.91599\n",
      "[1356]\tvalid_0's l1: 5.91557\n",
      "[1357]\tvalid_0's l1: 5.91516\n",
      "[1358]\tvalid_0's l1: 5.91477\n",
      "[1359]\tvalid_0's l1: 5.91439\n",
      "[1360]\tvalid_0's l1: 5.91401\n",
      "[1361]\tvalid_0's l1: 5.91398\n",
      "[1362]\tvalid_0's l1: 5.91396\n",
      "[1363]\tvalid_0's l1: 5.91425\n",
      "[1364]\tvalid_0's l1: 5.91425\n",
      "[1365]\tvalid_0's l1: 5.91453\n",
      "[1366]\tvalid_0's l1: 5.91482\n",
      "[1367]\tvalid_0's l1: 5.91512\n",
      "[1368]\tvalid_0's l1: 5.91544\n",
      "[1369]\tvalid_0's l1: 5.91576\n",
      "[1370]\tvalid_0's l1: 5.9157\n",
      "[1371]\tvalid_0's l1: 5.91562\n",
      "[1372]\tvalid_0's l1: 5.91569\n",
      "[1373]\tvalid_0's l1: 5.91577\n",
      "[1374]\tvalid_0's l1: 5.91586\n",
      "[1375]\tvalid_0's l1: 5.91594\n",
      "[1376]\tvalid_0's l1: 5.91536\n",
      "[1377]\tvalid_0's l1: 5.91484\n",
      "[1378]\tvalid_0's l1: 5.91439\n",
      "[1379]\tvalid_0's l1: 5.91389\n",
      "[1380]\tvalid_0's l1: 5.91345\n",
      "[1381]\tvalid_0's l1: 5.91339\n",
      "[1382]\tvalid_0's l1: 5.91388\n",
      "[1383]\tvalid_0's l1: 5.91382\n",
      "[1384]\tvalid_0's l1: 5.9143\n",
      "[1385]\tvalid_0's l1: 5.9143\n",
      "[1386]\tvalid_0's l1: 5.91469\n",
      "[1387]\tvalid_0's l1: 5.91508\n",
      "[1388]\tvalid_0's l1: 5.91564\n",
      "[1389]\tvalid_0's l1: 5.91631\n",
      "[1390]\tvalid_0's l1: 5.91689\n",
      "[1391]\tvalid_0's l1: 5.91698\n",
      "[1392]\tvalid_0's l1: 5.91732\n",
      "[1393]\tvalid_0's l1: 5.91741\n",
      "[1394]\tvalid_0's l1: 5.91774\n",
      "[1395]\tvalid_0's l1: 5.91783\n",
      "[1396]\tvalid_0's l1: 5.91714\n",
      "[1397]\tvalid_0's l1: 5.91646\n",
      "[1398]\tvalid_0's l1: 5.91578\n",
      "[1399]\tvalid_0's l1: 5.91511\n",
      "[1400]\tvalid_0's l1: 5.91446\n",
      "[1401]\tvalid_0's l1: 5.91435\n",
      "[1402]\tvalid_0's l1: 5.91426\n",
      "[1403]\tvalid_0's l1: 5.91417\n",
      "[1404]\tvalid_0's l1: 5.91409\n",
      "[1405]\tvalid_0's l1: 5.91403\n",
      "[1406]\tvalid_0's l1: 5.91445\n",
      "[1407]\tvalid_0's l1: 5.91487\n",
      "[1408]\tvalid_0's l1: 5.91524\n",
      "[1409]\tvalid_0's l1: 5.91566\n",
      "[1410]\tvalid_0's l1: 5.91614\n",
      "[1411]\tvalid_0's l1: 5.91643\n",
      "[1412]\tvalid_0's l1: 5.91673\n",
      "[1413]\tvalid_0's l1: 5.91703\n",
      "[1414]\tvalid_0's l1: 5.91732\n",
      "[1415]\tvalid_0's l1: 5.91761\n",
      "[1416]\tvalid_0's l1: 5.91788\n",
      "[1417]\tvalid_0's l1: 5.91819\n",
      "[1418]\tvalid_0's l1: 5.91846\n",
      "[1419]\tvalid_0's l1: 5.918\n",
      "[1420]\tvalid_0's l1: 5.91757\n",
      "[1421]\tvalid_0's l1: 5.91758\n",
      "[1422]\tvalid_0's l1: 5.91758\n",
      "[1423]\tvalid_0's l1: 5.91759\n",
      "[1424]\tvalid_0's l1: 5.9176\n",
      "[1425]\tvalid_0's l1: 5.91762\n",
      "[1426]\tvalid_0's l1: 5.91757\n",
      "[1427]\tvalid_0's l1: 5.91754\n",
      "[1428]\tvalid_0's l1: 5.91709\n",
      "[1429]\tvalid_0's l1: 5.91665\n",
      "[1430]\tvalid_0's l1: 5.91661\n",
      "[1431]\tvalid_0's l1: 5.91766\n",
      "[1432]\tvalid_0's l1: 5.91869\n",
      "[1433]\tvalid_0's l1: 5.91972\n",
      "[1434]\tvalid_0's l1: 5.92075\n",
      "[1435]\tvalid_0's l1: 5.92177\n",
      "[1436]\tvalid_0's l1: 5.92177\n",
      "[1437]\tvalid_0's l1: 5.92177\n",
      "[1438]\tvalid_0's l1: 5.92177\n",
      "[1439]\tvalid_0's l1: 5.9218\n",
      "[1440]\tvalid_0's l1: 5.92194\n",
      "[1441]\tvalid_0's l1: 5.92161\n",
      "[1442]\tvalid_0's l1: 5.9213\n",
      "[1443]\tvalid_0's l1: 5.92107\n",
      "[1444]\tvalid_0's l1: 5.9208\n",
      "[1445]\tvalid_0's l1: 5.92061\n",
      "[1446]\tvalid_0's l1: 5.92067\n",
      "[1447]\tvalid_0's l1: 5.9207\n",
      "[1448]\tvalid_0's l1: 5.9208\n",
      "[1449]\tvalid_0's l1: 5.92087\n",
      "[1450]\tvalid_0's l1: 5.921\n",
      "[1451]\tvalid_0's l1: 5.92118\n",
      "[1452]\tvalid_0's l1: 5.92135\n",
      "[1453]\tvalid_0's l1: 5.92154\n",
      "[1454]\tvalid_0's l1: 5.92173\n",
      "[1455]\tvalid_0's l1: 5.92184\n",
      "[1456]\tvalid_0's l1: 5.92133\n",
      "[1457]\tvalid_0's l1: 5.92083\n",
      "[1458]\tvalid_0's l1: 5.92023\n",
      "[1459]\tvalid_0's l1: 5.91966\n",
      "[1460]\tvalid_0's l1: 5.91909\n",
      "[1461]\tvalid_0's l1: 5.91977\n",
      "[1462]\tvalid_0's l1: 5.92046\n",
      "[1463]\tvalid_0's l1: 5.92107\n",
      "[1464]\tvalid_0's l1: 5.92175\n",
      "[1465]\tvalid_0's l1: 5.92236\n",
      "[1466]\tvalid_0's l1: 5.92217\n",
      "[1467]\tvalid_0's l1: 5.92198\n",
      "[1468]\tvalid_0's l1: 5.9218\n",
      "[1469]\tvalid_0's l1: 5.92161\n",
      "[1470]\tvalid_0's l1: 5.92143\n",
      "[1471]\tvalid_0's l1: 5.9209\n",
      "[1472]\tvalid_0's l1: 5.92024\n",
      "[1473]\tvalid_0's l1: 5.91958\n",
      "[1474]\tvalid_0's l1: 5.91897\n",
      "[1475]\tvalid_0's l1: 5.91836\n",
      "[1476]\tvalid_0's l1: 5.91788\n",
      "[1477]\tvalid_0's l1: 5.91741\n",
      "[1478]\tvalid_0's l1: 5.91698\n",
      "[1479]\tvalid_0's l1: 5.91655\n",
      "[1480]\tvalid_0's l1: 5.91612\n",
      "[1481]\tvalid_0's l1: 5.91629\n",
      "[1482]\tvalid_0's l1: 5.91645\n",
      "[1483]\tvalid_0's l1: 5.91662\n",
      "[1484]\tvalid_0's l1: 5.9168\n",
      "[1485]\tvalid_0's l1: 5.91698\n",
      "[1486]\tvalid_0's l1: 5.91706\n",
      "[1487]\tvalid_0's l1: 5.91714\n",
      "[1488]\tvalid_0's l1: 5.91722\n",
      "[1489]\tvalid_0's l1: 5.9173\n",
      "[1490]\tvalid_0's l1: 5.91738\n",
      "[1491]\tvalid_0's l1: 5.91763\n",
      "[1492]\tvalid_0's l1: 5.91794\n",
      "[1493]\tvalid_0's l1: 5.91824\n",
      "[1494]\tvalid_0's l1: 5.91854\n",
      "[1495]\tvalid_0's l1: 5.91884\n",
      "[1496]\tvalid_0's l1: 5.91896\n",
      "[1497]\tvalid_0's l1: 5.91908\n",
      "[1498]\tvalid_0's l1: 5.9192\n",
      "[1499]\tvalid_0's l1: 5.91934\n",
      "[1500]\tvalid_0's l1: 5.91947\n",
      "[1501]\tvalid_0's l1: 5.91961\n",
      "[1502]\tvalid_0's l1: 5.91975\n",
      "[1503]\tvalid_0's l1: 5.91988\n",
      "[1504]\tvalid_0's l1: 5.92039\n",
      "[1505]\tvalid_0's l1: 5.92053\n",
      "[1506]\tvalid_0's l1: 5.91995\n",
      "[1507]\tvalid_0's l1: 5.91961\n",
      "[1508]\tvalid_0's l1: 5.91927\n",
      "[1509]\tvalid_0's l1: 5.91894\n",
      "[1510]\tvalid_0's l1: 5.91861\n",
      "[1511]\tvalid_0's l1: 5.91866\n",
      "[1512]\tvalid_0's l1: 5.91871\n",
      "[1513]\tvalid_0's l1: 5.91853\n",
      "[1514]\tvalid_0's l1: 5.91858\n",
      "[1515]\tvalid_0's l1: 5.91845\n",
      "[1516]\tvalid_0's l1: 5.91778\n",
      "[1517]\tvalid_0's l1: 5.91712\n",
      "[1518]\tvalid_0's l1: 5.91647\n",
      "[1519]\tvalid_0's l1: 5.91579\n",
      "[1520]\tvalid_0's l1: 5.91512\n",
      "[1521]\tvalid_0's l1: 5.91444\n",
      "[1522]\tvalid_0's l1: 5.91378\n",
      "[1523]\tvalid_0's l1: 5.91313\n",
      "[1524]\tvalid_0's l1: 5.91296\n",
      "[1525]\tvalid_0's l1: 5.91302\n",
      "[1526]\tvalid_0's l1: 5.91274\n",
      "[1527]\tvalid_0's l1: 5.91249\n",
      "[1528]\tvalid_0's l1: 5.91237\n",
      "[1529]\tvalid_0's l1: 5.91212\n",
      "[1530]\tvalid_0's l1: 5.91231\n",
      "[1531]\tvalid_0's l1: 5.91268\n",
      "[1532]\tvalid_0's l1: 5.91306\n",
      "[1533]\tvalid_0's l1: 5.91311\n",
      "[1534]\tvalid_0's l1: 5.9135\n",
      "[1535]\tvalid_0's l1: 5.91365\n",
      "[1536]\tvalid_0's l1: 5.91352\n",
      "[1537]\tvalid_0's l1: 5.91342\n",
      "[1538]\tvalid_0's l1: 5.91333\n",
      "[1539]\tvalid_0's l1: 5.91328\n",
      "[1540]\tvalid_0's l1: 5.91323\n",
      "[1541]\tvalid_0's l1: 5.91334\n",
      "[1542]\tvalid_0's l1: 5.91344\n",
      "[1543]\tvalid_0's l1: 5.91355\n",
      "[1544]\tvalid_0's l1: 5.91365\n",
      "[1545]\tvalid_0's l1: 5.91425\n",
      "[1546]\tvalid_0's l1: 5.9142\n",
      "[1547]\tvalid_0's l1: 5.9141\n",
      "[1548]\tvalid_0's l1: 5.91393\n",
      "[1549]\tvalid_0's l1: 5.9139\n",
      "[1550]\tvalid_0's l1: 5.91373\n",
      "[1551]\tvalid_0's l1: 5.9136\n",
      "[1552]\tvalid_0's l1: 5.91348\n",
      "[1553]\tvalid_0's l1: 5.91336\n",
      "[1554]\tvalid_0's l1: 5.91324\n",
      "[1555]\tvalid_0's l1: 5.91309\n",
      "[1556]\tvalid_0's l1: 5.9135\n",
      "[1557]\tvalid_0's l1: 5.91399\n",
      "[1558]\tvalid_0's l1: 5.91449\n",
      "[1559]\tvalid_0's l1: 5.91498\n",
      "[1560]\tvalid_0's l1: 5.91547\n",
      "[1561]\tvalid_0's l1: 5.91601\n",
      "[1562]\tvalid_0's l1: 5.91659\n",
      "[1563]\tvalid_0's l1: 5.91717\n",
      "[1564]\tvalid_0's l1: 5.91777\n",
      "[1565]\tvalid_0's l1: 5.91839\n",
      "[1566]\tvalid_0's l1: 5.91852\n",
      "[1567]\tvalid_0's l1: 5.91865\n",
      "[1568]\tvalid_0's l1: 5.91879\n",
      "[1569]\tvalid_0's l1: 5.91892\n",
      "[1570]\tvalid_0's l1: 5.91905\n",
      "[1571]\tvalid_0's l1: 5.91868\n",
      "[1572]\tvalid_0's l1: 5.91836\n",
      "[1573]\tvalid_0's l1: 5.91804\n",
      "[1574]\tvalid_0's l1: 5.91773\n",
      "[1575]\tvalid_0's l1: 5.91741\n",
      "[1576]\tvalid_0's l1: 5.91713\n",
      "[1577]\tvalid_0's l1: 5.91684\n",
      "[1578]\tvalid_0's l1: 5.91655\n",
      "[1579]\tvalid_0's l1: 5.91627\n",
      "[1580]\tvalid_0's l1: 5.91599\n",
      "[1581]\tvalid_0's l1: 5.91611\n",
      "[1582]\tvalid_0's l1: 5.91624\n",
      "[1583]\tvalid_0's l1: 5.9166\n",
      "[1584]\tvalid_0's l1: 5.91679\n",
      "[1585]\tvalid_0's l1: 5.91715\n",
      "[1586]\tvalid_0's l1: 5.91752\n",
      "[1587]\tvalid_0's l1: 5.91775\n",
      "[1588]\tvalid_0's l1: 5.91812\n",
      "[1589]\tvalid_0's l1: 5.91811\n",
      "[1590]\tvalid_0's l1: 5.91835\n",
      "[1591]\tvalid_0's l1: 5.91832\n",
      "[1592]\tvalid_0's l1: 5.91829\n",
      "[1593]\tvalid_0's l1: 5.91826\n",
      "[1594]\tvalid_0's l1: 5.91824\n",
      "[1595]\tvalid_0's l1: 5.91821\n",
      "[1596]\tvalid_0's l1: 5.91722\n",
      "[1597]\tvalid_0's l1: 5.91623\n",
      "[1598]\tvalid_0's l1: 5.91525\n",
      "[1599]\tvalid_0's l1: 5.91427\n",
      "[1600]\tvalid_0's l1: 5.91319\n",
      "[1601]\tvalid_0's l1: 5.91289\n",
      "[1602]\tvalid_0's l1: 5.91259\n",
      "[1603]\tvalid_0's l1: 5.9123\n",
      "[1604]\tvalid_0's l1: 5.91203\n",
      "[1605]\tvalid_0's l1: 5.91175\n",
      "[1606]\tvalid_0's l1: 5.91146\n",
      "[1607]\tvalid_0's l1: 5.91117\n",
      "[1608]\tvalid_0's l1: 5.91153\n",
      "[1609]\tvalid_0's l1: 5.91139\n",
      "[1610]\tvalid_0's l1: 5.9116\n",
      "[1611]\tvalid_0's l1: 5.91125\n",
      "[1612]\tvalid_0's l1: 5.91097\n",
      "[1613]\tvalid_0's l1: 5.91069\n",
      "[1614]\tvalid_0's l1: 5.91042\n",
      "[1615]\tvalid_0's l1: 5.91014\n",
      "[1616]\tvalid_0's l1: 5.90931\n",
      "[1617]\tvalid_0's l1: 5.90885\n",
      "[1618]\tvalid_0's l1: 5.90839\n",
      "[1619]\tvalid_0's l1: 5.9083\n",
      "[1620]\tvalid_0's l1: 5.908\n",
      "[1621]\tvalid_0's l1: 5.9076\n",
      "[1622]\tvalid_0's l1: 5.90721\n",
      "[1623]\tvalid_0's l1: 5.90689\n",
      "[1624]\tvalid_0's l1: 5.90663\n",
      "[1625]\tvalid_0's l1: 5.90672\n",
      "[1626]\tvalid_0's l1: 5.90639\n",
      "[1627]\tvalid_0's l1: 5.90607\n",
      "[1628]\tvalid_0's l1: 5.90564\n",
      "[1629]\tvalid_0's l1: 5.9052\n",
      "[1630]\tvalid_0's l1: 5.90489\n",
      "[1631]\tvalid_0's l1: 5.90503\n",
      "[1632]\tvalid_0's l1: 5.90518\n",
      "[1633]\tvalid_0's l1: 5.9054\n",
      "[1634]\tvalid_0's l1: 5.90563\n",
      "[1635]\tvalid_0's l1: 5.90589\n",
      "[1636]\tvalid_0's l1: 5.90587\n",
      "[1637]\tvalid_0's l1: 5.90585\n",
      "[1638]\tvalid_0's l1: 5.90582\n",
      "[1639]\tvalid_0's l1: 5.9058\n",
      "[1640]\tvalid_0's l1: 5.90579\n",
      "[1641]\tvalid_0's l1: 5.90587\n",
      "[1642]\tvalid_0's l1: 5.90595\n",
      "[1643]\tvalid_0's l1: 5.90603\n",
      "[1644]\tvalid_0's l1: 5.90613\n",
      "[1645]\tvalid_0's l1: 5.90629\n",
      "[1646]\tvalid_0's l1: 5.90655\n",
      "[1647]\tvalid_0's l1: 5.90683\n",
      "[1648]\tvalid_0's l1: 5.90715\n",
      "[1649]\tvalid_0's l1: 5.90747\n",
      "[1650]\tvalid_0's l1: 5.90786\n",
      "[1651]\tvalid_0's l1: 5.90743\n",
      "[1652]\tvalid_0's l1: 5.90701\n",
      "[1653]\tvalid_0's l1: 5.90661\n",
      "[1654]\tvalid_0's l1: 5.90625\n",
      "[1655]\tvalid_0's l1: 5.90601\n",
      "[1656]\tvalid_0's l1: 5.9063\n",
      "[1657]\tvalid_0's l1: 5.90666\n",
      "[1658]\tvalid_0's l1: 5.90702\n",
      "[1659]\tvalid_0's l1: 5.90725\n",
      "[1660]\tvalid_0's l1: 5.90766\n",
      "[1661]\tvalid_0's l1: 5.90808\n",
      "[1662]\tvalid_0's l1: 5.90849\n",
      "[1663]\tvalid_0's l1: 5.9089\n",
      "[1664]\tvalid_0's l1: 5.90931\n",
      "[1665]\tvalid_0's l1: 5.90979\n",
      "[1666]\tvalid_0's l1: 5.90984\n",
      "[1667]\tvalid_0's l1: 5.90989\n",
      "[1668]\tvalid_0's l1: 5.90994\n",
      "[1669]\tvalid_0's l1: 5.90999\n",
      "[1670]\tvalid_0's l1: 5.91008\n",
      "[1671]\tvalid_0's l1: 5.90966\n",
      "[1672]\tvalid_0's l1: 5.90942\n",
      "[1673]\tvalid_0's l1: 5.90901\n",
      "[1674]\tvalid_0's l1: 5.90878\n",
      "[1675]\tvalid_0's l1: 5.90839\n",
      "[1676]\tvalid_0's l1: 5.90813\n",
      "[1677]\tvalid_0's l1: 5.90787\n",
      "[1678]\tvalid_0's l1: 5.90761\n",
      "[1679]\tvalid_0's l1: 5.90736\n",
      "[1680]\tvalid_0's l1: 5.9071\n",
      "[1681]\tvalid_0's l1: 5.90712\n",
      "[1682]\tvalid_0's l1: 5.9071\n",
      "[1683]\tvalid_0's l1: 5.90717\n",
      "[1684]\tvalid_0's l1: 5.90718\n",
      "[1685]\tvalid_0's l1: 5.90728\n",
      "[1686]\tvalid_0's l1: 5.90711\n",
      "[1687]\tvalid_0's l1: 5.90698\n",
      "[1688]\tvalid_0's l1: 5.90686\n",
      "[1689]\tvalid_0's l1: 5.90674\n",
      "[1690]\tvalid_0's l1: 5.90662\n",
      "[1691]\tvalid_0's l1: 5.9059\n",
      "[1692]\tvalid_0's l1: 5.9052\n",
      "[1693]\tvalid_0's l1: 5.9045\n",
      "[1694]\tvalid_0's l1: 5.90386\n",
      "[1695]\tvalid_0's l1: 5.90318\n",
      "[1696]\tvalid_0's l1: 5.90317\n",
      "[1697]\tvalid_0's l1: 5.90315\n",
      "[1698]\tvalid_0's l1: 5.90314\n",
      "[1699]\tvalid_0's l1: 5.90313\n",
      "[1700]\tvalid_0's l1: 5.90245\n",
      "[1701]\tvalid_0's l1: 5.90246\n",
      "[1702]\tvalid_0's l1: 5.90246\n",
      "[1703]\tvalid_0's l1: 5.90193\n",
      "[1704]\tvalid_0's l1: 5.9014\n",
      "[1705]\tvalid_0's l1: 5.90129\n",
      "[1706]\tvalid_0's l1: 5.90077\n",
      "[1707]\tvalid_0's l1: 5.90024\n",
      "[1708]\tvalid_0's l1: 5.89972\n",
      "[1709]\tvalid_0's l1: 5.8992\n",
      "[1710]\tvalid_0's l1: 5.89869\n",
      "[1711]\tvalid_0's l1: 5.89885\n",
      "[1712]\tvalid_0's l1: 5.89904\n",
      "[1713]\tvalid_0's l1: 5.89924\n",
      "[1714]\tvalid_0's l1: 5.89943\n",
      "[1715]\tvalid_0's l1: 5.89962\n",
      "[1716]\tvalid_0's l1: 5.89877\n",
      "[1717]\tvalid_0's l1: 5.89793\n",
      "[1718]\tvalid_0's l1: 5.89709\n",
      "[1719]\tvalid_0's l1: 5.89633\n",
      "[1720]\tvalid_0's l1: 5.89557\n",
      "[1721]\tvalid_0's l1: 5.89527\n",
      "[1722]\tvalid_0's l1: 5.89499\n",
      "[1723]\tvalid_0's l1: 5.89475\n",
      "[1724]\tvalid_0's l1: 5.8945\n",
      "[1725]\tvalid_0's l1: 5.89426\n",
      "[1726]\tvalid_0's l1: 5.89467\n",
      "[1727]\tvalid_0's l1: 5.89507\n",
      "[1728]\tvalid_0's l1: 5.89548\n",
      "[1729]\tvalid_0's l1: 5.89588\n",
      "[1730]\tvalid_0's l1: 5.89642\n",
      "[1731]\tvalid_0's l1: 5.8969\n",
      "[1732]\tvalid_0's l1: 5.89738\n",
      "[1733]\tvalid_0's l1: 5.89785\n",
      "[1734]\tvalid_0's l1: 5.89839\n",
      "[1735]\tvalid_0's l1: 5.89886\n",
      "[1736]\tvalid_0's l1: 5.899\n",
      "[1737]\tvalid_0's l1: 5.89913\n",
      "[1738]\tvalid_0's l1: 5.89927\n",
      "[1739]\tvalid_0's l1: 5.8992\n",
      "[1740]\tvalid_0's l1: 5.89933\n",
      "[1741]\tvalid_0's l1: 5.89924\n",
      "[1742]\tvalid_0's l1: 5.89915\n",
      "[1743]\tvalid_0's l1: 5.89906\n",
      "[1744]\tvalid_0's l1: 5.89855\n",
      "[1745]\tvalid_0's l1: 5.89847\n",
      "[1746]\tvalid_0's l1: 5.89903\n",
      "[1747]\tvalid_0's l1: 5.89957\n",
      "[1748]\tvalid_0's l1: 5.90013\n",
      "[1749]\tvalid_0's l1: 5.90071\n",
      "[1750]\tvalid_0's l1: 5.90087\n",
      "[1751]\tvalid_0's l1: 5.90079\n",
      "[1752]\tvalid_0's l1: 5.90043\n",
      "[1753]\tvalid_0's l1: 5.90028\n",
      "[1754]\tvalid_0's l1: 5.89992\n",
      "[1755]\tvalid_0's l1: 5.89956\n",
      "[1756]\tvalid_0's l1: 5.89875\n",
      "[1757]\tvalid_0's l1: 5.898\n",
      "[1758]\tvalid_0's l1: 5.89728\n",
      "[1759]\tvalid_0's l1: 5.89658\n",
      "[1760]\tvalid_0's l1: 5.8959\n",
      "[1761]\tvalid_0's l1: 5.89602\n",
      "[1762]\tvalid_0's l1: 5.89613\n",
      "[1763]\tvalid_0's l1: 5.89624\n",
      "[1764]\tvalid_0's l1: 5.89635\n",
      "[1765]\tvalid_0's l1: 5.89646\n",
      "[1766]\tvalid_0's l1: 5.89613\n",
      "[1767]\tvalid_0's l1: 5.89582\n",
      "[1768]\tvalid_0's l1: 5.89554\n",
      "[1769]\tvalid_0's l1: 5.89526\n",
      "[1770]\tvalid_0's l1: 5.89498\n",
      "[1771]\tvalid_0's l1: 5.89554\n",
      "[1772]\tvalid_0's l1: 5.89576\n",
      "[1773]\tvalid_0's l1: 5.89599\n",
      "[1774]\tvalid_0's l1: 5.89639\n",
      "[1775]\tvalid_0's l1: 5.89661\n",
      "[1776]\tvalid_0's l1: 5.89717\n",
      "[1777]\tvalid_0's l1: 5.89774\n",
      "[1778]\tvalid_0's l1: 5.8983\n",
      "[1779]\tvalid_0's l1: 5.89885\n",
      "[1780]\tvalid_0's l1: 5.89941\n",
      "[1781]\tvalid_0's l1: 5.89943\n",
      "[1782]\tvalid_0's l1: 5.89946\n",
      "[1783]\tvalid_0's l1: 5.89917\n",
      "[1784]\tvalid_0's l1: 5.89889\n",
      "[1785]\tvalid_0's l1: 5.89883\n",
      "[1786]\tvalid_0's l1: 5.89906\n",
      "[1787]\tvalid_0's l1: 5.89929\n",
      "[1788]\tvalid_0's l1: 5.8996\n",
      "[1789]\tvalid_0's l1: 5.89993\n",
      "[1790]\tvalid_0's l1: 5.90026\n",
      "[1791]\tvalid_0's l1: 5.90085\n",
      "[1792]\tvalid_0's l1: 5.90145\n",
      "[1793]\tvalid_0's l1: 5.90208\n",
      "[1794]\tvalid_0's l1: 5.90273\n",
      "[1795]\tvalid_0's l1: 5.90338\n",
      "[1796]\tvalid_0's l1: 5.90247\n",
      "[1797]\tvalid_0's l1: 5.90157\n",
      "[1798]\tvalid_0's l1: 5.90067\n",
      "[1799]\tvalid_0's l1: 5.89979\n",
      "[1800]\tvalid_0's l1: 5.89895\n"
     ]
    }
   ],
   "source": [
    "train_data = lightgbm.Dataset(features_train, label=target_train)\n",
    "test_data = lightgbm.Dataset(features_test, label=target_test)\n",
    "\n",
    "parameters = {\n",
    "    'metric': 'mae',\n",
    "    'boosting': 'gbdt',\n",
    "    'max_leaves': 10,\n",
    "    'bagging_fraction': 0.5,\n",
    "    'bagging_freq': 5,\n",
    "    'learning_rate': 0.005\n",
    "}\n",
    "\n",
    "LightGBM_model = lightgbm.train(\n",
    "    parameters, train_set=train_data, valid_sets=test_data, num_boost_round=1800)"
   ]
  },
  {
   "cell_type": "code",
   "execution_count": 91,
   "id": "meaningful-knock",
   "metadata": {
    "scrolled": true
   },
   "outputs": [
    {
     "name": "stdout",
     "output_type": "stream",
     "text": [
      "MAE: 5.898949691026679\n",
      "CPU times: user 111 ms, sys: 149 µs, total: 111 ms\n",
      "Wall time: 89.9 ms\n"
     ]
    }
   ],
   "source": [
    "% % time\n",
    "LightGBM_predictions = LightGBM_model.predict(features_test)\n",
    "LightGBM_mae_value = mean_absolute_error(target_test, LightGBM_predictions)\n",
    "print(\"MAE:\", LightGBM_mae_value)"
   ]
  },
  {
   "cell_type": "markdown",
   "id": "muslim-chicken",
   "metadata": {},
   "source": [
    "Модель на базе LightGBM позволяет делать предсказания с MAE меньше 6. Эта модель будет считаться итоговой."
   ]
  },
  {
   "cell_type": "code",
   "execution_count": 92,
   "id": "imposed-bullet",
   "metadata": {
    "scrolled": true
   },
   "outputs": [
    {
     "data": {
      "image/png": "[encoded data removed]",
      "text/plain": [
       "<Figure size 3000x1200 with 1 Axes>"
      ]
     },
     "metadata": {},
     "output_type": "display_data"
    }
   ],
   "source": [
    "lightgbm.plot_importance(LightGBM_model, height=0.8, color='orange', dpi=200)\n",
    "plt.show()"
   ]
  },
  {
   "cell_type": "markdown",
   "id": "split-exception",
   "metadata": {},
   "source": [
    "На графике выше указаны значения важности признаков. В соответствии с графиком ключевыми признаками для предсказания являются: изначальная темпаратура и кол-во переданной энергии на нагрев."
   ]
  },
  {
   "cell_type": "markdown",
   "id": "about-voltage",
   "metadata": {},
   "source": [
    "# Отчет"
   ]
  },
  {
   "cell_type": "markdown",
   "id": "liquid-horror",
   "metadata": {},
   "source": [
    "<b> Задача проекта</b>: Чтобы оптимизировать производственные расходы, металлургический комбинат ООО «Так закаляем сталь» решил уменьшить потребление электроэнергии на этапе обработки стали. Необходимо построить модель, которая предскажет температуру стали."
   ]
  },
  {
   "cell_type": "markdown",
   "id": "enabling-buddy",
   "metadata": {},
   "source": [
    "<b> Выполненные работы: </b> \n",
    "\n",
    "1. Были изучены и проанализированы предоставленные файлы с данными. Был определен целевой признак, который должна предсказывать модель, а именно - результат последнего замера темпартуры для партии. Выявленные сложности на этапе: не для каждой партии был известен первый и послений замер температуры стали; многие данные, касающиеся добавления сыпучих и проволочных материалов выходили за временные рамки первого и последнего замера температуры стали; данные о продувке газом не имели временного признака, из-за чего эти данные нельзя было использовать.\n",
    "2. С учетом проводенного анализа были вычищены нерелевантные данные, создан новый признак - сумма переданной энергии на нагревание партии, сформирован единый датасет данных, необходимый для обучения модели.\n",
    "3. Для наилучшего обучения модели произведено масштабирование признаков, удалены признаки с высокой взаимной корреляцией.\n",
    "4. Датасет был разделен на две выборки: обучающую и проверочную.\n",
    "5. На обучающей выборки были обучены три модели: линейная регрессия, случайный лес и LightGBM. Наилучший результат на проверочной выборке с точки зрения точности покзала модель LightGBM. Наихудшие результаты с точки зрения времени, потраченного на обучение, и точности показал случайный лес.\n",
    "6. Итоговой моделью выбрана LightGBM."
   ]
  },
  {
   "cell_type": "markdown",
   "id": "international-roberts",
   "metadata": {},
   "source": [
    "<b> Результаты проекта: </b> Построена модель, способная предсказывать конечную температуру стали в ковше на основании начальной температуры, количества энергии, переданной на подогрев стали, а также объема добавленных легирующих добавок. Средняя ошибка модели (mean absolute error) составляет 5,9 градусов. Иными словами, внедрение данной модели позволит ООО «Так закаляем сталь» тратить ровно столько энергии, сколько необходимо не больше для достижения требуемой температуры стали со средней погрешностью 6 градусов."
   ]
  },
  {
   "cell_type": "markdown",
   "id": "hidden-zimbabwe",
   "metadata": {},
   "source": [
    "<b>Рекомендуемые следующие шаги: </b> Ожидаемо модель продемонстировала, что самыми важными факторами, влияющими на конечную температуру являются: изначальная температура и количество энергии, переданной на нагревание. Таким образом, чтобы достигнуть наилучших результатов по снижению затрачиваемой энергии на этапе обработки стали, необходимо добиться оптимальной изначальной температуры. Следует начать с определния факторов, влияющих на значение начальной температуры на предыдущих этапах производства. Определив факторы, необходимо выявить возоможности для оптимизации и сохранения оптимальной температуры до этапа обработки стали с наименьшими затратами для компании. После этого, следует разработать список мероприятий для внедрения."
   ]
  }
 ],
 "metadata": {
  "ExecuteTimeLog": [
   {
    "duration": 1918,
    "start_time": "2022-02-04T15:11:53.476Z"
   },
   {
    "duration": 8,
    "start_time": "2022-02-04T15:11:55.396Z"
   },
   {
    "duration": 1740,
    "start_time": "2022-02-04T15:11:55.415Z"
   },
   {
    "duration": -640,
    "start_time": "2022-02-04T15:11:57.798Z"
   },
   {
    "duration": -648,
    "start_time": "2022-02-04T15:11:57.807Z"
   },
   {
    "duration": 173,
    "start_time": "2022-02-04T15:11:57.464Z"
   },
   {
    "duration": -187,
    "start_time": "2022-02-04T15:11:57.826Z"
   },
   {
    "duration": 227,
    "start_time": "2022-02-04T15:11:57.730Z"
   },
   {
    "duration": 25,
    "start_time": "2022-02-04T15:11:57.934Z"
   },
   {
    "duration": 1521,
    "start_time": "2022-02-04T15:12:29.055Z"
   },
   {
    "duration": 3,
    "start_time": "2022-02-04T15:13:22.055Z"
   },
   {
    "duration": 76,
    "start_time": "2022-02-04T15:13:24.562Z"
   },
   {
    "duration": 11,
    "start_time": "2022-02-04T15:13:28.184Z"
   },
   {
    "duration": 6,
    "start_time": "2022-02-04T15:13:28.318Z"
   },
   {
    "duration": 5,
    "start_time": "2022-02-04T15:13:29.407Z"
   },
   {
    "duration": 10,
    "start_time": "2022-02-04T15:13:29.785Z"
   },
   {
    "duration": 184,
    "start_time": "2022-02-04T15:13:29.971Z"
   },
   {
    "duration": 13,
    "start_time": "2022-02-04T15:13:30.322Z"
   },
   {
    "duration": 95,
    "start_time": "2022-02-04T15:13:30.806Z"
   },
   {
    "duration": 54,
    "start_time": "2022-02-04T15:13:31.317Z"
   },
   {
    "duration": 1876,
    "start_time": "2022-02-04T15:13:32.100Z"
   },
   {
    "duration": 46,
    "start_time": "2022-02-04T15:13:33.978Z"
   },
   {
    "duration": 60,
    "start_time": "2022-02-04T15:13:34.751Z"
   },
   {
    "duration": 55,
    "start_time": "2022-02-04T15:13:36.179Z"
   },
   {
    "duration": 3,
    "start_time": "2022-02-04T15:14:19.811Z"
   },
   {
    "duration": 8,
    "start_time": "2022-02-04T15:14:20.641Z"
   },
   {
    "duration": 10,
    "start_time": "2022-02-04T15:14:21.375Z"
   },
   {
    "duration": 7,
    "start_time": "2022-02-04T15:14:23.206Z"
   },
   {
    "duration": 6,
    "start_time": "2022-02-04T15:14:23.807Z"
   },
   {
    "duration": 7,
    "start_time": "2022-02-04T15:14:25.206Z"
   },
   {
    "duration": 11,
    "start_time": "2022-02-04T15:14:26.126Z"
   },
   {
    "duration": 7,
    "start_time": "2022-02-04T15:14:29.059Z"
   },
   {
    "duration": 12,
    "start_time": "2022-02-04T15:14:30.120Z"
   },
   {
    "duration": 16,
    "start_time": "2022-02-04T15:14:30.919Z"
   },
   {
    "duration": 13,
    "start_time": "2022-02-04T15:14:32.537Z"
   },
   {
    "duration": 14,
    "start_time": "2022-02-04T15:14:33.872Z"
   },
   {
    "duration": 1112,
    "start_time": "2022-02-04T15:14:35.348Z"
   },
   {
    "duration": 11,
    "start_time": "2022-02-04T15:14:37.391Z"
   },
   {
    "duration": 15,
    "start_time": "2022-02-04T15:14:40.894Z"
   },
   {
    "duration": 6,
    "start_time": "2022-02-04T15:15:48.504Z"
   },
   {
    "duration": 10,
    "start_time": "2022-02-04T15:15:49.261Z"
   },
   {
    "duration": 14,
    "start_time": "2022-02-04T15:15:49.818Z"
   },
   {
    "duration": 16,
    "start_time": "2022-02-04T15:15:51.159Z"
   },
   {
    "duration": 22,
    "start_time": "2022-02-04T15:15:52.495Z"
   },
   {
    "duration": 20,
    "start_time": "2022-02-04T15:15:54.368Z"
   },
   {
    "duration": 6,
    "start_time": "2022-02-04T15:15:56.324Z"
   },
   {
    "duration": 19,
    "start_time": "2022-02-04T15:15:57.114Z"
   },
   {
    "duration": 19,
    "start_time": "2022-02-04T15:15:58.355Z"
   },
   {
    "duration": 16,
    "start_time": "2022-02-04T15:16:00.125Z"
   },
   {
    "duration": 14,
    "start_time": "2022-02-04T15:16:01.016Z"
   },
   {
    "duration": 16,
    "start_time": "2022-02-04T15:16:01.844Z"
   },
   {
    "duration": 1603,
    "start_time": "2022-02-05T11:30:43.300Z"
   },
   {
    "duration": 6,
    "start_time": "2022-02-05T11:30:44.905Z"
   },
   {
    "duration": 335,
    "start_time": "2022-02-05T11:30:44.914Z"
   },
   {
    "duration": 16,
    "start_time": "2022-02-05T11:30:45.252Z"
   },
   {
    "duration": 12,
    "start_time": "2022-02-05T11:30:45.270Z"
   },
   {
    "duration": 7,
    "start_time": "2022-02-05T11:30:45.284Z"
   },
   {
    "duration": 15,
    "start_time": "2022-02-05T11:30:45.294Z"
   },
   {
    "duration": 519,
    "start_time": "2022-02-05T11:30:45.312Z"
   },
   {
    "duration": -1146,
    "start_time": "2022-02-05T11:30:46.983Z"
   },
   {
    "duration": -1151,
    "start_time": "2022-02-05T11:30:46.990Z"
   },
   {
    "duration": -1162,
    "start_time": "2022-02-05T11:30:47.002Z"
   },
   {
    "duration": -1177,
    "start_time": "2022-02-05T11:30:47.018Z"
   },
   {
    "duration": -1181,
    "start_time": "2022-02-05T11:30:47.024Z"
   },
   {
    "duration": -1198,
    "start_time": "2022-02-05T11:30:47.042Z"
   },
   {
    "duration": -1237,
    "start_time": "2022-02-05T11:30:47.083Z"
   },
   {
    "duration": -1262,
    "start_time": "2022-02-05T11:30:47.109Z"
   },
   {
    "duration": -1277,
    "start_time": "2022-02-05T11:30:47.125Z"
   },
   {
    "duration": -1290,
    "start_time": "2022-02-05T11:30:47.140Z"
   },
   {
    "duration": -1304,
    "start_time": "2022-02-05T11:30:47.156Z"
   },
   {
    "duration": -1324,
    "start_time": "2022-02-05T11:30:47.177Z"
   },
   {
    "duration": -1347,
    "start_time": "2022-02-05T11:30:47.201Z"
   },
   {
    "duration": -1353,
    "start_time": "2022-02-05T11:30:47.209Z"
   },
   {
    "duration": -1365,
    "start_time": "2022-02-05T11:30:47.222Z"
   },
   {
    "duration": -1376,
    "start_time": "2022-02-05T11:30:47.235Z"
   },
   {
    "duration": -1390,
    "start_time": "2022-02-05T11:30:47.250Z"
   },
   {
    "duration": -1394,
    "start_time": "2022-02-05T11:30:47.256Z"
   },
   {
    "duration": -1405,
    "start_time": "2022-02-05T11:30:47.268Z"
   },
   {
    "duration": -1417,
    "start_time": "2022-02-05T11:30:47.281Z"
   },
   {
    "duration": -1420,
    "start_time": "2022-02-05T11:30:47.286Z"
   },
   {
    "duration": -1433,
    "start_time": "2022-02-05T11:30:47.300Z"
   },
   {
    "duration": -1439,
    "start_time": "2022-02-05T11:30:47.307Z"
   },
   {
    "duration": -1453,
    "start_time": "2022-02-05T11:30:47.323Z"
   },
   {
    "duration": -1466,
    "start_time": "2022-02-05T11:30:47.337Z"
   },
   {
    "duration": -1479,
    "start_time": "2022-02-05T11:30:47.351Z"
   },
   {
    "duration": -1484,
    "start_time": "2022-02-05T11:30:47.357Z"
   },
   {
    "duration": -1496,
    "start_time": "2022-02-05T11:30:47.371Z"
   },
   {
    "duration": -1508,
    "start_time": "2022-02-05T11:30:47.384Z"
   },
   {
    "duration": -1513,
    "start_time": "2022-02-05T11:30:47.391Z"
   },
   {
    "duration": -1526,
    "start_time": "2022-02-05T11:30:47.405Z"
   },
   {
    "duration": -1539,
    "start_time": "2022-02-05T11:30:47.419Z"
   },
   {
    "duration": -1552,
    "start_time": "2022-02-05T11:30:47.434Z"
   },
   {
    "duration": -1558,
    "start_time": "2022-02-05T11:30:47.441Z"
   },
   {
    "duration": -1570,
    "start_time": "2022-02-05T11:30:47.454Z"
   },
   {
    "duration": -1583,
    "start_time": "2022-02-05T11:30:47.468Z"
   },
   {
    "duration": -1587,
    "start_time": "2022-02-05T11:30:47.474Z"
   },
   {
    "duration": -1598,
    "start_time": "2022-02-05T11:30:47.486Z"
   },
   {
    "duration": -1610,
    "start_time": "2022-02-05T11:30:47.499Z"
   },
   {
    "duration": -1615,
    "start_time": "2022-02-05T11:30:47.505Z"
   },
   {
    "duration": -1625,
    "start_time": "2022-02-05T11:30:47.517Z"
   },
   {
    "duration": -1639,
    "start_time": "2022-02-05T11:30:47.532Z"
   },
   {
    "duration": -1644,
    "start_time": "2022-02-05T11:30:47.538Z"
   },
   {
    "duration": -1654,
    "start_time": "2022-02-05T11:30:47.550Z"
   },
   {
    "duration": -1659,
    "start_time": "2022-02-05T11:30:47.556Z"
   },
   {
    "duration": -1710,
    "start_time": "2022-02-05T11:30:47.608Z"
   },
   {
    "duration": -1712,
    "start_time": "2022-02-05T11:30:47.612Z"
   },
   {
    "duration": -1716,
    "start_time": "2022-02-05T11:30:47.617Z"
   },
   {
    "duration": -1663,
    "start_time": "2022-02-05T11:30:47.622Z"
   },
   {
    "duration": -1673,
    "start_time": "2022-02-05T11:30:47.634Z"
   },
   {
    "duration": -1677,
    "start_time": "2022-02-05T11:30:47.639Z"
   },
   {
    "duration": -1687,
    "start_time": "2022-02-05T11:30:47.651Z"
   },
   {
    "duration": -1704,
    "start_time": "2022-02-05T11:30:47.669Z"
   },
   {
    "duration": -1714,
    "start_time": "2022-02-05T11:30:47.681Z"
   },
   {
    "duration": -1814,
    "start_time": "2022-02-05T11:30:47.782Z"
   },
   {
    "duration": -1818,
    "start_time": "2022-02-05T11:30:47.787Z"
   },
   {
    "duration": -1826,
    "start_time": "2022-02-05T11:30:47.797Z"
   },
   {
    "duration": -1828,
    "start_time": "2022-02-05T11:30:47.801Z"
   },
   {
    "duration": -1831,
    "start_time": "2022-02-05T11:30:47.805Z"
   },
   {
    "duration": -1860,
    "start_time": "2022-02-05T11:30:47.836Z"
   },
   {
    "duration": -1867,
    "start_time": "2022-02-05T11:30:47.845Z"
   },
   {
    "duration": -1869,
    "start_time": "2022-02-05T11:30:47.849Z"
   },
   {
    "duration": -1870,
    "start_time": "2022-02-05T11:30:47.853Z"
   },
   {
    "duration": -1879,
    "start_time": "2022-02-05T11:30:47.864Z"
   },
   {
    "duration": -1880,
    "start_time": "2022-02-05T11:30:47.867Z"
   },
   {
    "duration": -1882,
    "start_time": "2022-02-05T11:30:47.872Z"
   },
   {
    "duration": -1886,
    "start_time": "2022-02-05T11:30:47.880Z"
   },
   {
    "duration": -1825,
    "start_time": "2022-02-05T11:30:47.884Z"
   },
   {
    "duration": -1826,
    "start_time": "2022-02-05T11:30:47.888Z"
   },
   {
    "duration": -1834,
    "start_time": "2022-02-05T11:30:47.898Z"
   },
   {
    "duration": -1835,
    "start_time": "2022-02-05T11:30:47.901Z"
   },
   {
    "duration": -1838,
    "start_time": "2022-02-05T11:30:47.906Z"
   },
   {
    "duration": -1846,
    "start_time": "2022-02-05T11:30:47.916Z"
   },
   {
    "duration": -1848,
    "start_time": "2022-02-05T11:30:47.921Z"
   },
   {
    "duration": -1856,
    "start_time": "2022-02-05T11:30:47.931Z"
   },
   {
    "duration": -1857,
    "start_time": "2022-02-05T11:30:47.935Z"
   },
   {
    "duration": -1871,
    "start_time": "2022-02-05T11:30:47.951Z"
   },
   {
    "duration": -1874,
    "start_time": "2022-02-05T11:30:47.956Z"
   },
   {
    "duration": -1883,
    "start_time": "2022-02-05T11:30:47.967Z"
   },
   {
    "duration": -1886,
    "start_time": "2022-02-05T11:30:47.973Z"
   },
   {
    "duration": -1894,
    "start_time": "2022-02-05T11:30:47.983Z"
   },
   {
    "duration": -1897,
    "start_time": "2022-02-05T11:30:47.988Z"
   },
   {
    "duration": -1904,
    "start_time": "2022-02-05T11:30:47.997Z"
   },
   {
    "duration": 36601,
    "start_time": "2022-02-05T11:31:17.569Z"
   },
   {
    "duration": 2598,
    "start_time": "2022-02-05T11:31:54.173Z"
   },
   {
    "duration": 6,
    "start_time": "2022-02-05T11:31:56.775Z"
   },
   {
    "duration": 102,
    "start_time": "2022-02-05T11:31:56.784Z"
   },
   {
    "duration": 17,
    "start_time": "2022-02-05T11:31:56.888Z"
   },
   {
    "duration": 15,
    "start_time": "2022-02-05T11:31:56.907Z"
   },
   {
    "duration": 35,
    "start_time": "2022-02-05T11:31:56.924Z"
   },
   {
    "duration": 13,
    "start_time": "2022-02-05T11:31:56.964Z"
   },
   {
    "duration": 1138,
    "start_time": "2022-02-05T11:31:56.980Z"
   },
   {
    "duration": 17,
    "start_time": "2022-02-05T11:31:58.121Z"
   },
   {
    "duration": 488,
    "start_time": "2022-02-05T11:31:58.140Z"
   },
   {
    "duration": 167,
    "start_time": "2022-02-05T11:31:58.631Z"
   },
   {
    "duration": 241,
    "start_time": "2022-02-05T11:31:58.800Z"
   },
   {
    "duration": 483,
    "start_time": "2022-02-05T11:31:59.044Z"
   },
   {
    "duration": 227,
    "start_time": "2022-02-05T11:31:59.530Z"
   },
   {
    "duration": 61,
    "start_time": "2022-02-05T11:31:59.760Z"
   },
   {
    "duration": 3,
    "start_time": "2022-02-05T11:31:59.824Z"
   },
   {
    "duration": 15,
    "start_time": "2022-02-05T11:31:59.829Z"
   },
   {
    "duration": 25,
    "start_time": "2022-02-05T11:31:59.846Z"
   },
   {
    "duration": 13,
    "start_time": "2022-02-05T11:31:59.874Z"
   },
   {
    "duration": 15,
    "start_time": "2022-02-05T11:31:59.890Z"
   },
   {
    "duration": 8,
    "start_time": "2022-02-05T11:31:59.908Z"
   },
   {
    "duration": 44,
    "start_time": "2022-02-05T11:31:59.922Z"
   },
   {
    "duration": 14,
    "start_time": "2022-02-05T11:31:59.970Z"
   },
   {
    "duration": 14,
    "start_time": "2022-02-05T11:31:59.986Z"
   },
   {
    "duration": 59,
    "start_time": "2022-02-05T11:32:00.002Z"
   },
   {
    "duration": 19,
    "start_time": "2022-02-05T11:32:00.064Z"
   },
   {
    "duration": 22,
    "start_time": "2022-02-05T11:32:00.085Z"
   },
   {
    "duration": 1863,
    "start_time": "2022-02-05T11:32:00.110Z"
   },
   {
    "duration": 17,
    "start_time": "2022-02-05T11:32:01.976Z"
   },
   {
    "duration": 25,
    "start_time": "2022-02-05T11:32:01.996Z"
   },
   {
    "duration": 43,
    "start_time": "2022-02-05T11:32:02.023Z"
   },
   {
    "duration": 13,
    "start_time": "2022-02-05T11:32:02.069Z"
   },
   {
    "duration": 20,
    "start_time": "2022-02-05T11:32:02.084Z"
   },
   {
    "duration": 47,
    "start_time": "2022-02-05T11:32:02.114Z"
   },
   {
    "duration": 32,
    "start_time": "2022-02-05T11:32:02.164Z"
   },
   {
    "duration": 31,
    "start_time": "2022-02-05T11:32:02.199Z"
   },
   {
    "duration": 7,
    "start_time": "2022-02-05T11:32:02.260Z"
   },
   {
    "duration": 31,
    "start_time": "2022-02-05T11:32:02.269Z"
   },
   {
    "duration": 29,
    "start_time": "2022-02-05T11:32:02.303Z"
   },
   {
    "duration": 27,
    "start_time": "2022-02-05T11:32:02.360Z"
   },
   {
    "duration": 15,
    "start_time": "2022-02-05T11:32:02.390Z"
   },
   {
    "duration": 62,
    "start_time": "2022-02-05T11:32:02.407Z"
   },
   {
    "duration": 15,
    "start_time": "2022-02-05T11:32:02.472Z"
   },
   {
    "duration": 26,
    "start_time": "2022-02-05T11:32:02.490Z"
   },
   {
    "duration": 4,
    "start_time": "2022-02-05T11:32:02.519Z"
   },
   {
    "duration": 40,
    "start_time": "2022-02-05T11:32:02.560Z"
   },
   {
    "duration": 16,
    "start_time": "2022-02-05T11:32:02.602Z"
   },
   {
    "duration": 49,
    "start_time": "2022-02-05T11:32:02.620Z"
   },
   {
    "duration": 8,
    "start_time": "2022-02-05T11:32:02.672Z"
   },
   {
    "duration": 103,
    "start_time": "2022-02-05T11:32:02.682Z"
   },
   {
    "duration": 20,
    "start_time": "2022-02-05T11:32:02.787Z"
   },
   {
    "duration": 58,
    "start_time": "2022-02-05T11:32:02.809Z"
   },
   {
    "duration": 32,
    "start_time": "2022-02-05T11:32:02.869Z"
   },
   {
    "duration": 65,
    "start_time": "2022-02-05T11:32:02.904Z"
   },
   {
    "duration": 33,
    "start_time": "2022-02-05T11:32:02.972Z"
   },
   {
    "duration": 5,
    "start_time": "2022-02-05T11:32:03.007Z"
   },
   {
    "duration": 56,
    "start_time": "2022-02-05T11:32:03.014Z"
   },
   {
    "duration": 15,
    "start_time": "2022-02-05T11:32:03.073Z"
   },
   {
    "duration": 73,
    "start_time": "2022-02-05T11:32:03.090Z"
   },
   {
    "duration": 13,
    "start_time": "2022-02-05T11:32:03.165Z"
   },
   {
    "duration": 16,
    "start_time": "2022-02-05T11:32:03.181Z"
   },
   {
    "duration": 4,
    "start_time": "2022-02-05T11:32:03.200Z"
   },
   {
    "duration": 56,
    "start_time": "2022-02-05T11:32:03.207Z"
   },
   {
    "duration": 14,
    "start_time": "2022-02-05T11:32:03.266Z"
   },
   {
    "duration": 17,
    "start_time": "2022-02-05T11:32:03.282Z"
   },
   {
    "duration": 8,
    "start_time": "2022-02-05T11:32:03.301Z"
   },
   {
    "duration": 52,
    "start_time": "2022-02-05T11:32:03.361Z"
   },
   {
    "duration": 16,
    "start_time": "2022-02-05T11:32:03.416Z"
   },
   {
    "duration": 52,
    "start_time": "2022-02-05T11:32:03.434Z"
   },
   {
    "duration": 20,
    "start_time": "2022-02-05T11:32:03.488Z"
   },
   {
    "duration": 55,
    "start_time": "2022-02-05T11:32:03.510Z"
   },
   {
    "duration": 24,
    "start_time": "2022-02-05T11:32:03.568Z"
   },
   {
    "duration": 5,
    "start_time": "2022-02-05T11:32:03.594Z"
   },
   {
    "duration": 19,
    "start_time": "2022-02-05T11:32:03.601Z"
   },
   {
    "duration": 47,
    "start_time": "2022-02-05T11:32:03.623Z"
   },
   {
    "duration": 50,
    "start_time": "2022-02-05T11:32:03.673Z"
   },
   {
    "duration": 6,
    "start_time": "2022-02-05T11:32:03.726Z"
   },
   {
    "duration": 4,
    "start_time": "2022-02-05T11:32:03.760Z"
   },
   {
    "duration": 51,
    "start_time": "2022-02-05T11:32:03.767Z"
   },
   {
    "duration": 983,
    "start_time": "2022-02-05T11:32:03.821Z"
   },
   {
    "duration": 6,
    "start_time": "2022-02-05T11:32:04.806Z"
   },
   {
    "duration": 1052,
    "start_time": "2022-02-05T11:32:04.815Z"
   },
   {
    "duration": 7,
    "start_time": "2022-02-05T11:32:05.870Z"
   },
   {
    "duration": 10,
    "start_time": "2022-02-05T11:32:05.880Z"
   },
   {
    "duration": 171,
    "start_time": "2022-02-05T11:32:05.892Z"
   },
   {
    "duration": 11,
    "start_time": "2022-02-05T11:32:06.066Z"
   },
   {
    "duration": 87258,
    "start_time": "2022-02-05T11:32:06.159Z"
   },
   {
    "duration": 4,
    "start_time": "2022-02-05T11:33:33.419Z"
   },
   {
    "duration": 227,
    "start_time": "2022-02-05T11:33:33.425Z"
   },
   {
    "duration": 6315,
    "start_time": "2022-02-05T11:33:33.654Z"
   },
   {
    "duration": 98,
    "start_time": "2022-02-05T11:33:39.971Z"
   },
   {
    "duration": 2861,
    "start_time": "2022-02-05T11:35:20.195Z"
   },
   {
    "duration": 6,
    "start_time": "2022-02-05T11:35:23.060Z"
   },
   {
    "duration": 110,
    "start_time": "2022-02-05T11:35:23.070Z"
   },
   {
    "duration": 14,
    "start_time": "2022-02-05T11:35:23.183Z"
   },
   {
    "duration": 16,
    "start_time": "2022-02-05T11:35:23.200Z"
   },
   {
    "duration": 40,
    "start_time": "2022-02-05T11:35:23.219Z"
   },
   {
    "duration": 19,
    "start_time": "2022-02-05T11:35:23.262Z"
   },
   {
    "duration": 893,
    "start_time": "2022-02-05T11:35:23.284Z"
   },
   {
    "duration": 17,
    "start_time": "2022-02-05T11:35:24.180Z"
   },
   {
    "duration": 212,
    "start_time": "2022-02-05T11:35:24.199Z"
   },
   {
    "duration": 84,
    "start_time": "2022-02-05T11:35:24.414Z"
   },
   {
    "duration": 67,
    "start_time": "2022-02-05T11:35:24.500Z"
   },
   {
    "duration": 68,
    "start_time": "2022-02-05T11:35:24.570Z"
   },
   {
    "duration": 89,
    "start_time": "2022-02-05T11:35:24.659Z"
   },
   {
    "duration": 69,
    "start_time": "2022-02-05T11:35:24.750Z"
   },
   {
    "duration": 4,
    "start_time": "2022-02-05T11:35:24.821Z"
   },
   {
    "duration": 38,
    "start_time": "2022-02-05T11:35:24.827Z"
   },
   {
    "duration": 19,
    "start_time": "2022-02-05T11:35:24.868Z"
   },
   {
    "duration": 15,
    "start_time": "2022-02-05T11:35:24.890Z"
   },
   {
    "duration": 19,
    "start_time": "2022-02-05T11:35:24.907Z"
   },
   {
    "duration": 35,
    "start_time": "2022-02-05T11:35:24.929Z"
   },
   {
    "duration": 16,
    "start_time": "2022-02-05T11:35:24.967Z"
   },
   {
    "duration": 14,
    "start_time": "2022-02-05T11:35:24.993Z"
   },
   {
    "duration": 57,
    "start_time": "2022-02-05T11:35:25.013Z"
   },
   {
    "duration": 24,
    "start_time": "2022-02-05T11:35:25.073Z"
   },
   {
    "duration": 18,
    "start_time": "2022-02-05T11:35:25.099Z"
   },
   {
    "duration": 55,
    "start_time": "2022-02-05T11:35:25.120Z"
   },
   {
    "duration": 1854,
    "start_time": "2022-02-05T11:35:25.178Z"
   },
   {
    "duration": 26,
    "start_time": "2022-02-05T11:35:27.035Z"
   },
   {
    "duration": 25,
    "start_time": "2022-02-05T11:35:27.064Z"
   },
   {
    "duration": 16,
    "start_time": "2022-02-05T11:35:27.092Z"
   },
   {
    "duration": 53,
    "start_time": "2022-02-05T11:35:27.110Z"
   },
   {
    "duration": 20,
    "start_time": "2022-02-05T11:35:27.165Z"
   },
   {
    "duration": 17,
    "start_time": "2022-02-05T11:35:27.187Z"
   },
   {
    "duration": 66,
    "start_time": "2022-02-05T11:35:27.207Z"
   },
   {
    "duration": 30,
    "start_time": "2022-02-05T11:35:27.275Z"
   },
   {
    "duration": 6,
    "start_time": "2022-02-05T11:35:27.307Z"
   },
   {
    "duration": 56,
    "start_time": "2022-02-05T11:35:27.316Z"
   },
   {
    "duration": 27,
    "start_time": "2022-02-05T11:35:27.375Z"
   },
   {
    "duration": 24,
    "start_time": "2022-02-05T11:35:27.404Z"
   },
   {
    "duration": 40,
    "start_time": "2022-02-05T11:35:27.430Z"
   },
   {
    "duration": 21,
    "start_time": "2022-02-05T11:35:27.472Z"
   },
   {
    "duration": 12,
    "start_time": "2022-02-05T11:35:27.495Z"
   },
   {
    "duration": 53,
    "start_time": "2022-02-05T11:35:27.509Z"
   },
   {
    "duration": 4,
    "start_time": "2022-02-05T11:35:27.565Z"
   },
   {
    "duration": 40,
    "start_time": "2022-02-05T11:35:27.571Z"
   },
   {
    "duration": 15,
    "start_time": "2022-02-05T11:35:27.614Z"
   },
   {
    "duration": 22,
    "start_time": "2022-02-05T11:35:27.659Z"
   },
   {
    "duration": 7,
    "start_time": "2022-02-05T11:35:27.683Z"
   },
   {
    "duration": 115,
    "start_time": "2022-02-05T11:35:27.693Z"
   },
   {
    "duration": 20,
    "start_time": "2022-02-05T11:35:27.820Z"
   },
   {
    "duration": 45,
    "start_time": "2022-02-05T11:35:27.842Z"
   },
   {
    "duration": 26,
    "start_time": "2022-02-05T11:35:27.890Z"
   },
   {
    "duration": 75,
    "start_time": "2022-02-05T11:35:27.918Z"
   },
   {
    "duration": 34,
    "start_time": "2022-02-05T11:35:27.996Z"
   },
   {
    "duration": 29,
    "start_time": "2022-02-05T11:35:28.033Z"
   },
   {
    "duration": 29,
    "start_time": "2022-02-05T11:35:28.065Z"
   },
   {
    "duration": 15,
    "start_time": "2022-02-05T11:35:28.096Z"
   },
   {
    "duration": 85,
    "start_time": "2022-02-05T11:35:28.113Z"
   },
   {
    "duration": 13,
    "start_time": "2022-02-05T11:35:28.200Z"
   },
   {
    "duration": 15,
    "start_time": "2022-02-05T11:35:28.216Z"
   },
   {
    "duration": 27,
    "start_time": "2022-02-05T11:35:28.234Z"
   },
   {
    "duration": 19,
    "start_time": "2022-02-05T11:35:28.263Z"
   },
   {
    "duration": 13,
    "start_time": "2022-02-05T11:35:28.285Z"
   },
   {
    "duration": 16,
    "start_time": "2022-02-05T11:35:28.300Z"
   },
   {
    "duration": 44,
    "start_time": "2022-02-05T11:35:28.319Z"
   },
   {
    "duration": 51,
    "start_time": "2022-02-05T11:35:28.366Z"
   },
   {
    "duration": 40,
    "start_time": "2022-02-05T11:35:28.425Z"
   },
   {
    "duration": 28,
    "start_time": "2022-02-05T11:35:28.469Z"
   },
   {
    "duration": 20,
    "start_time": "2022-02-05T11:35:28.500Z"
   },
   {
    "duration": 62,
    "start_time": "2022-02-05T11:35:28.522Z"
   },
   {
    "duration": 23,
    "start_time": "2022-02-05T11:35:28.586Z"
   },
   {
    "duration": 4,
    "start_time": "2022-02-05T11:35:28.612Z"
   },
   {
    "duration": 47,
    "start_time": "2022-02-05T11:35:28.619Z"
   },
   {
    "duration": 14,
    "start_time": "2022-02-05T11:35:28.668Z"
   },
   {
    "duration": 77,
    "start_time": "2022-02-05T11:35:28.684Z"
   },
   {
    "duration": 6,
    "start_time": "2022-02-05T11:35:28.763Z"
   },
   {
    "duration": 4,
    "start_time": "2022-02-05T11:35:28.772Z"
   },
   {
    "duration": 48,
    "start_time": "2022-02-05T11:35:28.779Z"
   },
   {
    "duration": 977,
    "start_time": "2022-02-05T11:35:28.829Z"
   },
   {
    "duration": 6,
    "start_time": "2022-02-05T11:35:29.808Z"
   },
   {
    "duration": 966,
    "start_time": "2022-02-05T11:35:29.816Z"
   },
   {
    "duration": 8,
    "start_time": "2022-02-05T11:35:30.785Z"
   },
   {
    "duration": 21,
    "start_time": "2022-02-05T11:35:30.796Z"
   },
   {
    "duration": 255,
    "start_time": "2022-02-05T11:35:30.820Z"
   },
   {
    "duration": 4,
    "start_time": "2022-02-05T11:35:31.077Z"
   },
   {
    "duration": 87800,
    "start_time": "2022-02-05T11:35:31.083Z"
   },
   {
    "duration": 3,
    "start_time": "2022-02-05T11:36:58.886Z"
   },
   {
    "duration": 242,
    "start_time": "2022-02-05T11:36:58.892Z"
   },
   {
    "duration": 6129,
    "start_time": "2022-02-05T11:36:59.137Z"
   },
   {
    "duration": 94,
    "start_time": "2022-02-05T11:37:05.268Z"
   },
   {
    "duration": 2313,
    "start_time": "2022-02-05T11:37:25.039Z"
   },
   {
    "duration": 7,
    "start_time": "2022-02-05T11:37:27.356Z"
   },
   {
    "duration": 102,
    "start_time": "2022-02-05T11:37:27.366Z"
   },
   {
    "duration": 16,
    "start_time": "2022-02-05T11:37:27.471Z"
   },
   {
    "duration": 15,
    "start_time": "2022-02-05T11:37:27.490Z"
   },
   {
    "duration": 6,
    "start_time": "2022-02-05T11:37:27.508Z"
   },
   {
    "duration": 52,
    "start_time": "2022-02-05T11:37:27.517Z"
   },
   {
    "duration": 891,
    "start_time": "2022-02-05T11:37:27.573Z"
   },
   {
    "duration": 18,
    "start_time": "2022-02-05T11:37:28.467Z"
   },
   {
    "duration": 217,
    "start_time": "2022-02-05T11:37:28.488Z"
   },
   {
    "duration": 81,
    "start_time": "2022-02-05T11:37:28.708Z"
   },
   {
    "duration": 67,
    "start_time": "2022-02-05T11:37:28.791Z"
   },
   {
    "duration": 79,
    "start_time": "2022-02-05T11:37:28.861Z"
   },
   {
    "duration": 86,
    "start_time": "2022-02-05T11:37:28.942Z"
   },
   {
    "duration": 67,
    "start_time": "2022-02-05T11:37:29.030Z"
   },
   {
    "duration": 3,
    "start_time": "2022-02-05T11:37:29.099Z"
   },
   {
    "duration": 15,
    "start_time": "2022-02-05T11:37:29.104Z"
   },
   {
    "duration": 49,
    "start_time": "2022-02-05T11:37:29.121Z"
   },
   {
    "duration": 10,
    "start_time": "2022-02-05T11:37:29.173Z"
   },
   {
    "duration": 15,
    "start_time": "2022-02-05T11:37:29.185Z"
   },
   {
    "duration": 8,
    "start_time": "2022-02-05T11:37:29.202Z"
   },
   {
    "duration": 17,
    "start_time": "2022-02-05T11:37:29.260Z"
   },
   {
    "duration": 15,
    "start_time": "2022-02-05T11:37:29.283Z"
   },
   {
    "duration": 14,
    "start_time": "2022-02-05T11:37:29.302Z"
   },
   {
    "duration": 58,
    "start_time": "2022-02-05T11:37:29.319Z"
   },
   {
    "duration": 18,
    "start_time": "2022-02-05T11:37:29.380Z"
   },
   {
    "duration": 20,
    "start_time": "2022-02-05T11:37:29.401Z"
   },
   {
    "duration": 1941,
    "start_time": "2022-02-05T11:37:29.423Z"
   },
   {
    "duration": 16,
    "start_time": "2022-02-05T11:37:31.367Z"
   },
   {
    "duration": 24,
    "start_time": "2022-02-05T11:37:31.385Z"
   },
   {
    "duration": 47,
    "start_time": "2022-02-05T11:37:31.412Z"
   },
   {
    "duration": 15,
    "start_time": "2022-02-05T11:37:31.461Z"
   },
   {
    "duration": 22,
    "start_time": "2022-02-05T11:37:31.480Z"
   },
   {
    "duration": 57,
    "start_time": "2022-02-05T11:37:31.504Z"
   },
   {
    "duration": 34,
    "start_time": "2022-02-05T11:37:31.564Z"
   },
   {
    "duration": 66,
    "start_time": "2022-02-05T11:37:31.601Z"
   },
   {
    "duration": 7,
    "start_time": "2022-02-05T11:37:31.671Z"
   },
   {
    "duration": 26,
    "start_time": "2022-02-05T11:37:31.681Z"
   },
   {
    "duration": 60,
    "start_time": "2022-02-05T11:37:31.710Z"
   },
   {
    "duration": 24,
    "start_time": "2022-02-05T11:37:31.772Z"
   },
   {
    "duration": 13,
    "start_time": "2022-02-05T11:37:31.799Z"
   },
   {
    "duration": 47,
    "start_time": "2022-02-05T11:37:31.815Z"
   },
   {
    "duration": 15,
    "start_time": "2022-02-05T11:37:31.864Z"
   },
   {
    "duration": 24,
    "start_time": "2022-02-05T11:37:31.882Z"
   },
   {
    "duration": 6,
    "start_time": "2022-02-05T11:37:31.910Z"
   },
   {
    "duration": 85,
    "start_time": "2022-02-05T11:37:31.919Z"
   },
   {
    "duration": 16,
    "start_time": "2022-02-05T11:37:32.006Z"
   },
   {
    "duration": 42,
    "start_time": "2022-02-05T11:37:32.024Z"
   },
   {
    "duration": 8,
    "start_time": "2022-02-05T11:37:32.068Z"
   },
   {
    "duration": 120,
    "start_time": "2022-02-05T11:37:32.079Z"
   },
   {
    "duration": 16,
    "start_time": "2022-02-05T11:37:32.202Z"
   },
   {
    "duration": 60,
    "start_time": "2022-02-05T11:37:32.221Z"
   },
   {
    "duration": 26,
    "start_time": "2022-02-05T11:37:32.284Z"
   },
   {
    "duration": 75,
    "start_time": "2022-02-05T11:37:32.312Z"
   },
   {
    "duration": 32,
    "start_time": "2022-02-05T11:37:32.389Z"
   },
   {
    "duration": 4,
    "start_time": "2022-02-05T11:37:32.424Z"
   },
   {
    "duration": 47,
    "start_time": "2022-02-05T11:37:32.431Z"
   },
   {
    "duration": 15,
    "start_time": "2022-02-05T11:37:32.480Z"
   },
   {
    "duration": 80,
    "start_time": "2022-02-05T11:37:32.497Z"
   },
   {
    "duration": 13,
    "start_time": "2022-02-05T11:37:32.579Z"
   },
   {
    "duration": 15,
    "start_time": "2022-02-05T11:37:32.595Z"
   },
   {
    "duration": 5,
    "start_time": "2022-02-05T11:37:32.613Z"
   },
   {
    "duration": 59,
    "start_time": "2022-02-05T11:37:32.621Z"
   },
   {
    "duration": 14,
    "start_time": "2022-02-05T11:37:32.683Z"
   },
   {
    "duration": 18,
    "start_time": "2022-02-05T11:37:32.701Z"
   },
   {
    "duration": 46,
    "start_time": "2022-02-05T11:37:32.721Z"
   },
   {
    "duration": 54,
    "start_time": "2022-02-05T11:37:32.770Z"
   },
   {
    "duration": 17,
    "start_time": "2022-02-05T11:37:32.860Z"
   },
   {
    "duration": 31,
    "start_time": "2022-02-05T11:37:32.880Z"
   },
   {
    "duration": 49,
    "start_time": "2022-02-05T11:37:32.914Z"
   },
   {
    "duration": 31,
    "start_time": "2022-02-05T11:37:32.966Z"
   },
   {
    "duration": 23,
    "start_time": "2022-02-05T11:37:32.999Z"
   },
   {
    "duration": 35,
    "start_time": "2022-02-05T11:37:33.024Z"
   },
   {
    "duration": 30,
    "start_time": "2022-02-05T11:37:33.063Z"
   },
   {
    "duration": 19,
    "start_time": "2022-02-05T11:37:33.096Z"
   },
   {
    "duration": 82,
    "start_time": "2022-02-05T11:37:33.119Z"
   },
   {
    "duration": 6,
    "start_time": "2022-02-05T11:37:33.203Z"
   },
   {
    "duration": 4,
    "start_time": "2022-02-05T11:37:33.211Z"
   },
   {
    "duration": 74,
    "start_time": "2022-02-05T11:37:33.217Z"
   },
   {
    "duration": 1025,
    "start_time": "2022-02-05T11:37:33.294Z"
   },
   {
    "duration": 5,
    "start_time": "2022-02-05T11:37:34.321Z"
   },
   {
    "duration": 972,
    "start_time": "2022-02-05T11:37:34.328Z"
   },
   {
    "duration": 9,
    "start_time": "2022-02-05T11:37:35.303Z"
   },
   {
    "duration": 10,
    "start_time": "2022-02-05T11:37:35.314Z"
   },
   {
    "duration": 235,
    "start_time": "2022-02-05T11:37:35.326Z"
   },
   {
    "duration": 4,
    "start_time": "2022-02-05T11:37:35.564Z"
   },
   {
    "duration": 20000,
    "start_time": "2022-02-05T11:38:08.597Z"
   },
   {
    "duration": 2280,
    "start_time": "2022-02-05T11:38:28.600Z"
   },
   {
    "duration": 6,
    "start_time": "2022-02-05T11:38:30.883Z"
   },
   {
    "duration": 117,
    "start_time": "2022-02-05T11:38:30.892Z"
   },
   {
    "duration": 16,
    "start_time": "2022-02-05T11:38:31.011Z"
   },
   {
    "duration": 35,
    "start_time": "2022-02-05T11:38:31.029Z"
   },
   {
    "duration": 13,
    "start_time": "2022-02-05T11:38:31.067Z"
   },
   {
    "duration": 22,
    "start_time": "2022-02-05T11:38:31.083Z"
   },
   {
    "duration": 899,
    "start_time": "2022-02-05T11:38:31.108Z"
   },
   {
    "duration": 16,
    "start_time": "2022-02-05T11:38:32.010Z"
   },
   {
    "duration": 131,
    "start_time": "2022-02-05T11:38:32.028Z"
   },
   {
    "duration": 78,
    "start_time": "2022-02-05T11:38:32.162Z"
   },
   {
    "duration": 71,
    "start_time": "2022-02-05T11:38:32.243Z"
   },
   {
    "duration": 63,
    "start_time": "2022-02-05T11:38:32.316Z"
   },
   {
    "duration": 108,
    "start_time": "2022-02-05T11:38:32.382Z"
   },
   {
    "duration": 72,
    "start_time": "2022-02-05T11:38:32.493Z"
   },
   {
    "duration": 4,
    "start_time": "2022-02-05T11:38:32.568Z"
   },
   {
    "duration": 22,
    "start_time": "2022-02-05T11:38:32.575Z"
   },
   {
    "duration": 17,
    "start_time": "2022-02-05T11:38:32.599Z"
   },
   {
    "duration": 43,
    "start_time": "2022-02-05T11:38:32.618Z"
   },
   {
    "duration": 19,
    "start_time": "2022-02-05T11:38:32.664Z"
   },
   {
    "duration": 9,
    "start_time": "2022-02-05T11:38:32.686Z"
   },
   {
    "duration": 15,
    "start_time": "2022-02-05T11:38:32.702Z"
   },
   {
    "duration": 48,
    "start_time": "2022-02-05T11:38:32.721Z"
   },
   {
    "duration": 15,
    "start_time": "2022-02-05T11:38:32.771Z"
   },
   {
    "duration": 22,
    "start_time": "2022-02-05T11:38:32.788Z"
   },
   {
    "duration": 60,
    "start_time": "2022-02-05T11:38:32.812Z"
   },
   {
    "duration": 20,
    "start_time": "2022-02-05T11:38:32.875Z"
   },
   {
    "duration": 1857,
    "start_time": "2022-02-05T11:38:32.897Z"
   },
   {
    "duration": 15,
    "start_time": "2022-02-05T11:38:34.760Z"
   },
   {
    "duration": 25,
    "start_time": "2022-02-05T11:38:34.777Z"
   },
   {
    "duration": 14,
    "start_time": "2022-02-05T11:38:34.804Z"
   },
   {
    "duration": 47,
    "start_time": "2022-02-05T11:38:34.820Z"
   },
   {
    "duration": 19,
    "start_time": "2022-02-05T11:38:34.870Z"
   },
   {
    "duration": 18,
    "start_time": "2022-02-05T11:38:34.891Z"
   },
   {
    "duration": 73,
    "start_time": "2022-02-05T11:38:34.911Z"
   },
   {
    "duration": 30,
    "start_time": "2022-02-05T11:38:34.987Z"
   },
   {
    "duration": 6,
    "start_time": "2022-02-05T11:38:35.019Z"
   },
   {
    "duration": 54,
    "start_time": "2022-02-05T11:38:35.028Z"
   },
   {
    "duration": 27,
    "start_time": "2022-02-05T11:38:35.085Z"
   },
   {
    "duration": 49,
    "start_time": "2022-02-05T11:38:35.114Z"
   },
   {
    "duration": 13,
    "start_time": "2022-02-05T11:38:35.165Z"
   },
   {
    "duration": 21,
    "start_time": "2022-02-05T11:38:35.180Z"
   },
   {
    "duration": 12,
    "start_time": "2022-02-05T11:38:35.203Z"
   },
   {
    "duration": 58,
    "start_time": "2022-02-05T11:38:35.217Z"
   },
   {
    "duration": 4,
    "start_time": "2022-02-05T11:38:35.278Z"
   },
   {
    "duration": 39,
    "start_time": "2022-02-05T11:38:35.284Z"
   },
   {
    "duration": 41,
    "start_time": "2022-02-05T11:38:35.325Z"
   },
   {
    "duration": 21,
    "start_time": "2022-02-05T11:38:35.368Z"
   },
   {
    "duration": 9,
    "start_time": "2022-02-05T11:38:35.393Z"
   },
   {
    "duration": 119,
    "start_time": "2022-02-05T11:38:35.405Z"
   },
   {
    "duration": 34,
    "start_time": "2022-02-05T11:38:35.527Z"
   },
   {
    "duration": 37,
    "start_time": "2022-02-05T11:38:35.564Z"
   },
   {
    "duration": 26,
    "start_time": "2022-02-05T11:38:35.603Z"
   },
   {
    "duration": 68,
    "start_time": "2022-02-05T11:38:35.631Z"
   },
   {
    "duration": 33,
    "start_time": "2022-02-05T11:38:35.701Z"
   },
   {
    "duration": 6,
    "start_time": "2022-02-05T11:38:35.758Z"
   },
   {
    "duration": 30,
    "start_time": "2022-02-05T11:38:35.766Z"
   },
   {
    "duration": 14,
    "start_time": "2022-02-05T11:38:35.798Z"
   },
   {
    "duration": 83,
    "start_time": "2022-02-05T11:38:35.814Z"
   },
   {
    "duration": 13,
    "start_time": "2022-02-05T11:38:35.899Z"
   },
   {
    "duration": 16,
    "start_time": "2022-02-05T11:38:35.914Z"
   },
   {
    "duration": 29,
    "start_time": "2022-02-05T11:38:35.932Z"
   },
   {
    "duration": 20,
    "start_time": "2022-02-05T11:38:35.964Z"
   },
   {
    "duration": 14,
    "start_time": "2022-02-05T11:38:35.986Z"
   },
   {
    "duration": 18,
    "start_time": "2022-02-05T11:38:36.003Z"
   },
   {
    "duration": 8,
    "start_time": "2022-02-05T11:38:36.060Z"
   },
   {
    "duration": 54,
    "start_time": "2022-02-05T11:38:36.076Z"
   },
   {
    "duration": 17,
    "start_time": "2022-02-05T11:38:36.161Z"
   },
   {
    "duration": 31,
    "start_time": "2022-02-05T11:38:36.181Z"
   },
   {
    "duration": 57,
    "start_time": "2022-02-05T11:38:36.215Z"
   },
   {
    "duration": 31,
    "start_time": "2022-02-05T11:38:36.274Z"
   },
   {
    "duration": 23,
    "start_time": "2022-02-05T11:38:36.307Z"
   },
   {
    "duration": 29,
    "start_time": "2022-02-05T11:38:36.332Z"
   },
   {
    "duration": 19,
    "start_time": "2022-02-05T11:38:36.364Z"
   },
   {
    "duration": 13,
    "start_time": "2022-02-05T11:38:36.386Z"
   },
   {
    "duration": 87,
    "start_time": "2022-02-05T11:38:36.401Z"
   },
   {
    "duration": 6,
    "start_time": "2022-02-05T11:38:36.490Z"
   },
   {
    "duration": 3,
    "start_time": "2022-02-05T11:38:36.499Z"
   },
   {
    "duration": 75,
    "start_time": "2022-02-05T11:38:36.504Z"
   },
   {
    "duration": 962,
    "start_time": "2022-02-05T11:38:36.581Z"
   },
   {
    "duration": 15,
    "start_time": "2022-02-05T11:38:37.545Z"
   },
   {
    "duration": 904,
    "start_time": "2022-02-05T11:38:37.562Z"
   },
   {
    "duration": 8,
    "start_time": "2022-02-05T11:38:38.469Z"
   },
   {
    "duration": 11,
    "start_time": "2022-02-05T11:38:38.479Z"
   },
   {
    "duration": 167,
    "start_time": "2022-02-05T11:38:38.492Z"
   },
   {
    "duration": 4,
    "start_time": "2022-02-05T11:38:38.662Z"
   },
   {
    "duration": 25885,
    "start_time": "2022-02-05T11:39:30.727Z"
   },
   {
    "duration": 2466,
    "start_time": "2022-02-05T11:39:56.615Z"
   },
   {
    "duration": 6,
    "start_time": "2022-02-05T11:39:59.085Z"
   },
   {
    "duration": 106,
    "start_time": "2022-02-05T11:39:59.094Z"
   },
   {
    "duration": 17,
    "start_time": "2022-02-05T11:39:59.202Z"
   },
   {
    "duration": 43,
    "start_time": "2022-02-05T11:39:59.223Z"
   },
   {
    "duration": 7,
    "start_time": "2022-02-05T11:39:59.269Z"
   },
   {
    "duration": 18,
    "start_time": "2022-02-05T11:39:59.281Z"
   },
   {
    "duration": 1348,
    "start_time": "2022-02-05T11:39:59.303Z"
   },
   {
    "duration": 23,
    "start_time": "2022-02-05T11:40:00.658Z"
   },
   {
    "duration": 131,
    "start_time": "2022-02-05T11:40:00.684Z"
   },
   {
    "duration": 114,
    "start_time": "2022-02-05T11:40:00.819Z"
   },
   {
    "duration": 71,
    "start_time": "2022-02-05T11:40:00.936Z"
   },
   {
    "duration": 75,
    "start_time": "2022-02-05T11:40:01.010Z"
   },
   {
    "duration": 150,
    "start_time": "2022-02-05T11:40:01.089Z"
   },
   {
    "duration": 69,
    "start_time": "2022-02-05T11:40:01.242Z"
   },
   {
    "duration": 6,
    "start_time": "2022-02-05T11:40:01.314Z"
   },
   {
    "duration": 48,
    "start_time": "2022-02-05T11:40:01.322Z"
   },
   {
    "duration": 16,
    "start_time": "2022-02-05T11:40:01.372Z"
   },
   {
    "duration": 12,
    "start_time": "2022-02-05T11:40:01.392Z"
   },
   {
    "duration": 15,
    "start_time": "2022-02-05T11:40:01.407Z"
   },
   {
    "duration": 9,
    "start_time": "2022-02-05T11:40:01.460Z"
   },
   {
    "duration": 19,
    "start_time": "2022-02-05T11:40:01.477Z"
   },
   {
    "duration": 14,
    "start_time": "2022-02-05T11:40:01.501Z"
   },
   {
    "duration": 61,
    "start_time": "2022-02-05T11:40:01.518Z"
   },
   {
    "duration": 23,
    "start_time": "2022-02-05T11:40:01.582Z"
   },
   {
    "duration": 59,
    "start_time": "2022-02-05T11:40:01.608Z"
   },
   {
    "duration": 23,
    "start_time": "2022-02-05T11:40:01.670Z"
   },
   {
    "duration": 2927,
    "start_time": "2022-02-05T11:40:01.696Z"
   },
   {
    "duration": 33,
    "start_time": "2022-02-05T11:40:04.626Z"
   },
   {
    "duration": 38,
    "start_time": "2022-02-05T11:40:04.662Z"
   },
   {
    "duration": 18,
    "start_time": "2022-02-05T11:40:04.703Z"
   },
   {
    "duration": 46,
    "start_time": "2022-02-05T11:40:04.725Z"
   },
   {
    "duration": 20,
    "start_time": "2022-02-05T11:40:04.774Z"
   },
   {
    "duration": 25,
    "start_time": "2022-02-05T11:40:04.796Z"
   },
   {
    "duration": 66,
    "start_time": "2022-02-05T11:40:04.823Z"
   },
   {
    "duration": 28,
    "start_time": "2022-02-05T11:40:04.891Z"
   },
   {
    "duration": 39,
    "start_time": "2022-02-05T11:40:04.922Z"
   },
   {
    "duration": 28,
    "start_time": "2022-02-05T11:40:04.963Z"
   },
   {
    "duration": 28,
    "start_time": "2022-02-05T11:40:04.993Z"
   },
   {
    "duration": 50,
    "start_time": "2022-02-05T11:40:05.024Z"
   },
   {
    "duration": 16,
    "start_time": "2022-02-05T11:40:05.078Z"
   },
   {
    "duration": 27,
    "start_time": "2022-02-05T11:40:05.097Z"
   },
   {
    "duration": 46,
    "start_time": "2022-02-05T11:40:05.126Z"
   },
   {
    "duration": 37,
    "start_time": "2022-02-05T11:40:05.175Z"
   },
   {
    "duration": 5,
    "start_time": "2022-02-05T11:40:05.215Z"
   },
   {
    "duration": 71,
    "start_time": "2022-02-05T11:40:05.222Z"
   },
   {
    "duration": 14,
    "start_time": "2022-02-05T11:40:05.296Z"
   },
   {
    "duration": 48,
    "start_time": "2022-02-05T11:40:05.313Z"
   },
   {
    "duration": 9,
    "start_time": "2022-02-05T11:40:05.364Z"
   },
   {
    "duration": 140,
    "start_time": "2022-02-05T11:40:05.375Z"
   },
   {
    "duration": 22,
    "start_time": "2022-02-05T11:40:05.518Z"
   },
   {
    "duration": 53,
    "start_time": "2022-02-05T11:40:05.561Z"
   },
   {
    "duration": 58,
    "start_time": "2022-02-05T11:40:05.617Z"
   },
   {
    "duration": 62,
    "start_time": "2022-02-05T11:40:05.678Z"
   },
   {
    "duration": 51,
    "start_time": "2022-02-05T11:40:05.743Z"
   },
   {
    "duration": 4,
    "start_time": "2022-02-05T11:40:05.797Z"
   },
   {
    "duration": 64,
    "start_time": "2022-02-05T11:40:05.804Z"
   },
   {
    "duration": 17,
    "start_time": "2022-02-05T11:40:05.870Z"
   },
   {
    "duration": 76,
    "start_time": "2022-02-05T11:40:05.890Z"
   },
   {
    "duration": 17,
    "start_time": "2022-02-05T11:40:05.969Z"
   },
   {
    "duration": 18,
    "start_time": "2022-02-05T11:40:05.989Z"
   },
   {
    "duration": 14,
    "start_time": "2022-02-05T11:40:06.010Z"
   },
   {
    "duration": 56,
    "start_time": "2022-02-05T11:40:06.026Z"
   },
   {
    "duration": 17,
    "start_time": "2022-02-05T11:40:06.085Z"
   },
   {
    "duration": 56,
    "start_time": "2022-02-05T11:40:06.105Z"
   },
   {
    "duration": 9,
    "start_time": "2022-02-05T11:40:06.165Z"
   },
   {
    "duration": 112,
    "start_time": "2022-02-05T11:40:06.188Z"
   },
   {
    "duration": 31,
    "start_time": "2022-02-05T11:40:06.305Z"
   },
   {
    "duration": 46,
    "start_time": "2022-02-05T11:40:06.339Z"
   },
   {
    "duration": 28,
    "start_time": "2022-02-05T11:40:06.388Z"
   },
   {
    "duration": 55,
    "start_time": "2022-02-05T11:40:06.418Z"
   },
   {
    "duration": 22,
    "start_time": "2022-02-05T11:40:06.476Z"
   },
   {
    "duration": 5,
    "start_time": "2022-02-05T11:40:06.500Z"
   },
   {
    "duration": 60,
    "start_time": "2022-02-05T11:40:06.507Z"
   },
   {
    "duration": 16,
    "start_time": "2022-02-05T11:40:06.570Z"
   },
   {
    "duration": 97,
    "start_time": "2022-02-05T11:40:06.589Z"
   },
   {
    "duration": 9,
    "start_time": "2022-02-05T11:40:06.689Z"
   },
   {
    "duration": 6,
    "start_time": "2022-02-05T11:40:06.701Z"
   },
   {
    "duration": 83,
    "start_time": "2022-02-05T11:40:06.709Z"
   },
   {
    "duration": 1386,
    "start_time": "2022-02-05T11:40:06.795Z"
   },
   {
    "duration": 6,
    "start_time": "2022-02-05T11:40:08.183Z"
   },
   {
    "duration": 1011,
    "start_time": "2022-02-05T11:40:08.192Z"
   },
   {
    "duration": 9,
    "start_time": "2022-02-05T11:40:09.205Z"
   },
   {
    "duration": 12,
    "start_time": "2022-02-05T11:40:09.216Z"
   },
   {
    "duration": 141,
    "start_time": "2022-02-05T11:40:09.231Z"
   },
   {
    "duration": 5,
    "start_time": "2022-02-05T11:40:09.459Z"
   },
   {
    "duration": 101620,
    "start_time": "2022-02-05T11:40:09.466Z"
   },
   {
    "duration": 5,
    "start_time": "2022-02-05T11:41:51.089Z"
   },
   {
    "duration": 257,
    "start_time": "2022-02-05T11:41:51.097Z"
   },
   {
    "duration": 122206,
    "start_time": "2022-02-05T11:41:51.357Z"
   },
   {
    "duration": 97,
    "start_time": "2022-02-05T11:43:53.566Z"
   },
   {
    "duration": 2063,
    "start_time": "2022-02-05T11:49:01.687Z"
   },
   {
    "duration": 2270,
    "start_time": "2022-02-05T11:49:12.810Z"
   },
   {
    "duration": 2842,
    "start_time": "2022-02-05T11:49:39.331Z"
   },
   {
    "duration": 2190,
    "start_time": "2022-02-05T11:49:57.946Z"
   },
   {
    "duration": 12014,
    "start_time": "2022-02-05T11:50:57.885Z"
   },
   {
    "duration": 114,
    "start_time": "2022-02-05T12:02:28.717Z"
   },
   {
    "duration": 381,
    "start_time": "2022-02-05T12:02:28.455Z"
   },
   {
    "duration": 356,
    "start_time": "2022-02-05T12:02:28.482Z"
   },
   {
    "duration": 349,
    "start_time": "2022-02-05T12:02:28.491Z"
   },
   {
    "duration": 340,
    "start_time": "2022-02-05T12:02:28.502Z"
   },
   {
    "duration": 335,
    "start_time": "2022-02-05T12:02:28.509Z"
   },
   {
    "duration": 328,
    "start_time": "2022-02-05T12:02:28.519Z"
   },
   {
    "duration": 319,
    "start_time": "2022-02-05T12:02:28.530Z"
   },
   {
    "duration": 316,
    "start_time": "2022-02-05T12:02:28.535Z"
   },
   {
    "duration": 307,
    "start_time": "2022-02-05T12:02:28.546Z"
   },
   {
    "duration": 305,
    "start_time": "2022-02-05T12:02:28.550Z"
   },
   {
    "duration": 302,
    "start_time": "2022-02-05T12:02:28.555Z"
   },
   {
    "duration": 297,
    "start_time": "2022-02-05T12:02:28.564Z"
   },
   {
    "duration": 295,
    "start_time": "2022-02-05T12:02:28.568Z"
   },
   {
    "duration": 291,
    "start_time": "2022-02-05T12:02:28.574Z"
   },
   {
    "duration": 288,
    "start_time": "2022-02-05T12:02:28.579Z"
   },
   {
    "duration": 285,
    "start_time": "2022-02-05T12:02:28.584Z"
   },
   {
    "duration": 281,
    "start_time": "2022-02-05T12:02:28.589Z"
   },
   {
    "duration": 278,
    "start_time": "2022-02-05T12:02:28.594Z"
   },
   {
    "duration": 274,
    "start_time": "2022-02-05T12:02:28.599Z"
   },
   {
    "duration": 271,
    "start_time": "2022-02-05T12:02:28.603Z"
   },
   {
    "duration": 267,
    "start_time": "2022-02-05T12:02:28.608Z"
   },
   {
    "duration": 265,
    "start_time": "2022-02-05T12:02:28.612Z"
   },
   {
    "duration": 261,
    "start_time": "2022-02-05T12:02:28.617Z"
   },
   {
    "duration": 536,
    "start_time": "2022-02-05T12:02:28.882Z"
   },
   {
    "duration": 55,
    "start_time": "2022-02-05T12:02:29.368Z"
   },
   {
    "duration": 53,
    "start_time": "2022-02-05T12:02:29.372Z"
   },
   {
    "duration": 36,
    "start_time": "2022-02-05T12:02:29.390Z"
   },
   {
    "duration": 27,
    "start_time": "2022-02-05T12:02:29.401Z"
   },
   {
    "duration": 23,
    "start_time": "2022-02-05T12:02:29.406Z"
   },
   {
    "duration": 12,
    "start_time": "2022-02-05T12:02:29.419Z"
   },
   {
    "duration": 8,
    "start_time": "2022-02-05T12:02:29.424Z"
   },
   {
    "duration": -2,
    "start_time": "2022-02-05T12:02:29.437Z"
   },
   {
    "duration": -14,
    "start_time": "2022-02-05T12:02:29.450Z"
   },
   {
    "duration": -19,
    "start_time": "2022-02-05T12:02:29.456Z"
   },
   {
    "duration": -31,
    "start_time": "2022-02-05T12:02:29.469Z"
   },
   {
    "duration": -38,
    "start_time": "2022-02-05T12:02:29.478Z"
   },
   {
    "duration": -48,
    "start_time": "2022-02-05T12:02:29.489Z"
   },
   {
    "duration": -60,
    "start_time": "2022-02-05T12:02:29.502Z"
   },
   {
    "duration": -63,
    "start_time": "2022-02-05T12:02:29.507Z"
   },
   {
    "duration": -76,
    "start_time": "2022-02-05T12:02:29.521Z"
   },
   {
    "duration": -85,
    "start_time": "2022-02-05T12:02:29.532Z"
   },
   {
    "duration": -89,
    "start_time": "2022-02-05T12:02:29.537Z"
   },
   {
    "duration": -100,
    "start_time": "2022-02-05T12:02:29.550Z"
   },
   {
    "duration": -106,
    "start_time": "2022-02-05T12:02:29.557Z"
   },
   {
    "duration": -116,
    "start_time": "2022-02-05T12:02:29.569Z"
   },
   {
    "duration": -121,
    "start_time": "2022-02-05T12:02:29.576Z"
   },
   {
    "duration": -134,
    "start_time": "2022-02-05T12:02:29.590Z"
   },
   {
    "duration": -152,
    "start_time": "2022-02-05T12:02:29.610Z"
   },
   {
    "duration": -160,
    "start_time": "2022-02-05T12:02:29.619Z"
   },
   {
    "duration": -170,
    "start_time": "2022-02-05T12:02:29.631Z"
   },
   {
    "duration": -172,
    "start_time": "2022-02-05T12:02:29.635Z"
   },
   {
    "duration": -177,
    "start_time": "2022-02-05T12:02:29.641Z"
   },
   {
    "duration": -185,
    "start_time": "2022-02-05T12:02:29.651Z"
   },
   {
    "duration": -190,
    "start_time": "2022-02-05T12:02:29.657Z"
   },
   {
    "duration": -199,
    "start_time": "2022-02-05T12:02:29.668Z"
   },
   {
    "duration": -203,
    "start_time": "2022-02-05T12:02:29.673Z"
   },
   {
    "duration": -210,
    "start_time": "2022-02-05T12:02:29.682Z"
   },
   {
    "duration": -213,
    "start_time": "2022-02-05T12:02:29.686Z"
   },
   {
    "duration": -215,
    "start_time": "2022-02-05T12:02:29.690Z"
   },
   {
    "duration": -223,
    "start_time": "2022-02-05T12:02:29.700Z"
   },
   {
    "duration": -227,
    "start_time": "2022-02-05T12:02:29.705Z"
   },
   {
    "duration": -235,
    "start_time": "2022-02-05T12:02:29.715Z"
   },
   {
    "duration": -239,
    "start_time": "2022-02-05T12:02:29.720Z"
   },
   {
    "duration": -247,
    "start_time": "2022-02-05T12:02:29.730Z"
   },
   {
    "duration": -249,
    "start_time": "2022-02-05T12:02:29.734Z"
   },
   {
    "duration": -254,
    "start_time": "2022-02-05T12:02:29.740Z"
   },
   {
    "duration": -257,
    "start_time": "2022-02-05T12:02:29.744Z"
   },
   {
    "duration": -258,
    "start_time": "2022-02-05T12:02:29.747Z"
   },
   {
    "duration": -262,
    "start_time": "2022-02-05T12:02:29.752Z"
   },
   {
    "duration": -265,
    "start_time": "2022-02-05T12:02:29.757Z"
   },
   {
    "duration": -268,
    "start_time": "2022-02-05T12:02:29.761Z"
   },
   {
    "duration": -270,
    "start_time": "2022-02-05T12:02:29.765Z"
   },
   {
    "duration": -273,
    "start_time": "2022-02-05T12:02:29.769Z"
   },
   {
    "duration": -275,
    "start_time": "2022-02-05T12:02:29.773Z"
   },
   {
    "duration": -216,
    "start_time": "2022-02-05T12:02:29.776Z"
   },
   {
    "duration": -219,
    "start_time": "2022-02-05T12:02:29.780Z"
   },
   {
    "duration": -221,
    "start_time": "2022-02-05T12:02:29.784Z"
   },
   {
    "duration": -223,
    "start_time": "2022-02-05T12:02:29.788Z"
   },
   {
    "duration": -225,
    "start_time": "2022-02-05T12:02:29.792Z"
   },
   {
    "duration": -226,
    "start_time": "2022-02-05T12:02:29.795Z"
   },
   {
    "duration": -228,
    "start_time": "2022-02-05T12:02:29.799Z"
   },
   {
    "duration": -230,
    "start_time": "2022-02-05T12:02:29.802Z"
   },
   {
    "duration": -232,
    "start_time": "2022-02-05T12:02:29.806Z"
   },
   {
    "duration": -233,
    "start_time": "2022-02-05T12:02:29.809Z"
   },
   {
    "duration": -236,
    "start_time": "2022-02-05T12:02:29.813Z"
   },
   {
    "duration": -237,
    "start_time": "2022-02-05T12:02:29.816Z"
   },
   {
    "duration": -239,
    "start_time": "2022-02-05T12:02:29.819Z"
   },
   {
    "duration": -241,
    "start_time": "2022-02-05T12:02:29.823Z"
   },
   {
    "duration": -244,
    "start_time": "2022-02-05T12:02:29.827Z"
   },
   {
    "duration": -256,
    "start_time": "2022-02-05T12:02:29.841Z"
   },
   {
    "duration": 2270,
    "start_time": "2022-02-05T12:02:57.758Z"
   },
   {
    "duration": 5,
    "start_time": "2022-02-05T12:03:00.031Z"
   },
   {
    "duration": 108,
    "start_time": "2022-02-05T12:03:00.039Z"
   },
   {
    "duration": 19,
    "start_time": "2022-02-05T12:03:00.150Z"
   },
   {
    "duration": 18,
    "start_time": "2022-02-05T12:03:00.171Z"
   },
   {
    "duration": 6,
    "start_time": "2022-02-05T12:03:00.192Z"
   },
   {
    "duration": 22,
    "start_time": "2022-02-05T12:03:00.200Z"
   },
   {
    "duration": 927,
    "start_time": "2022-02-05T12:03:00.226Z"
   },
   {
    "duration": 18,
    "start_time": "2022-02-05T12:03:01.160Z"
   },
   {
    "duration": 132,
    "start_time": "2022-02-05T12:03:01.180Z"
   },
   {
    "duration": 83,
    "start_time": "2022-02-05T12:03:01.314Z"
   },
   {
    "duration": 69,
    "start_time": "2022-02-05T12:03:01.400Z"
   },
   {
    "duration": 67,
    "start_time": "2022-02-05T12:03:01.471Z"
   },
   {
    "duration": 95,
    "start_time": "2022-02-05T12:03:01.540Z"
   },
   {
    "duration": 65,
    "start_time": "2022-02-05T12:03:01.637Z"
   },
   {
    "duration": 5,
    "start_time": "2022-02-05T12:03:01.705Z"
   },
   {
    "duration": 56,
    "start_time": "2022-02-05T12:03:01.713Z"
   },
   {
    "duration": 15,
    "start_time": "2022-02-05T12:03:01.771Z"
   },
   {
    "duration": 11,
    "start_time": "2022-02-05T12:03:01.789Z"
   },
   {
    "duration": 14,
    "start_time": "2022-02-05T12:03:01.803Z"
   },
   {
    "duration": 10,
    "start_time": "2022-02-05T12:03:01.860Z"
   },
   {
    "duration": 15,
    "start_time": "2022-02-05T12:03:01.872Z"
   },
   {
    "duration": 13,
    "start_time": "2022-02-05T12:03:01.893Z"
   },
   {
    "duration": 52,
    "start_time": "2022-02-05T12:03:01.909Z"
   },
   {
    "duration": 21,
    "start_time": "2022-02-05T12:03:01.963Z"
   },
   {
    "duration": 18,
    "start_time": "2022-02-05T12:03:01.986Z"
   },
   {
    "duration": 18,
    "start_time": "2022-02-05T12:03:02.006Z"
   },
   {
    "duration": 1950,
    "start_time": "2022-02-05T12:03:02.059Z"
   },
   {
    "duration": 16,
    "start_time": "2022-02-05T12:03:04.012Z"
   },
   {
    "duration": 46,
    "start_time": "2022-02-05T12:03:04.030Z"
   },
   {
    "duration": 13,
    "start_time": "2022-02-05T12:03:04.078Z"
   },
   {
    "duration": 14,
    "start_time": "2022-02-05T12:03:04.093Z"
   },
   {
    "duration": 52,
    "start_time": "2022-02-05T12:03:04.109Z"
   },
   {
    "duration": 19,
    "start_time": "2022-02-05T12:03:04.164Z"
   },
   {
    "duration": 29,
    "start_time": "2022-02-05T12:03:04.186Z"
   },
   {
    "duration": 57,
    "start_time": "2022-02-05T12:03:04.218Z"
   },
   {
    "duration": 6,
    "start_time": "2022-02-05T12:03:04.278Z"
   },
   {
    "duration": 28,
    "start_time": "2022-02-05T12:03:04.287Z"
   },
   {
    "duration": 55,
    "start_time": "2022-02-05T12:03:04.317Z"
   },
   {
    "duration": 26,
    "start_time": "2022-02-05T12:03:04.374Z"
   },
   {
    "duration": 13,
    "start_time": "2022-02-05T12:03:04.402Z"
   },
   {
    "duration": 55,
    "start_time": "2022-02-05T12:03:04.418Z"
   },
   {
    "duration": 12,
    "start_time": "2022-02-05T12:03:04.476Z"
   },
   {
    "duration": 21,
    "start_time": "2022-02-05T12:03:04.491Z"
   },
   {
    "duration": 4,
    "start_time": "2022-02-05T12:03:04.515Z"
   },
   {
    "duration": 67,
    "start_time": "2022-02-05T12:03:04.521Z"
   },
   {
    "duration": 14,
    "start_time": "2022-02-05T12:03:04.591Z"
   },
   {
    "duration": 21,
    "start_time": "2022-02-05T12:03:04.607Z"
   },
   {
    "duration": 7,
    "start_time": "2022-02-05T12:03:04.660Z"
   },
   {
    "duration": 101,
    "start_time": "2022-02-05T12:03:04.669Z"
   },
   {
    "duration": 19,
    "start_time": "2022-02-05T12:03:04.773Z"
   },
   {
    "duration": 67,
    "start_time": "2022-02-05T12:03:04.795Z"
   },
   {
    "duration": 29,
    "start_time": "2022-02-05T12:03:04.865Z"
   },
   {
    "duration": 75,
    "start_time": "2022-02-05T12:03:04.897Z"
   },
   {
    "duration": 33,
    "start_time": "2022-02-05T12:03:04.975Z"
   },
   {
    "duration": 5,
    "start_time": "2022-02-05T12:03:05.010Z"
   },
   {
    "duration": 56,
    "start_time": "2022-02-05T12:03:05.017Z"
   },
   {
    "duration": 14,
    "start_time": "2022-02-05T12:03:05.075Z"
   },
   {
    "duration": 72,
    "start_time": "2022-02-05T12:03:05.091Z"
   },
   {
    "duration": 14,
    "start_time": "2022-02-05T12:03:05.165Z"
   },
   {
    "duration": 16,
    "start_time": "2022-02-05T12:03:05.181Z"
   },
   {
    "duration": 4,
    "start_time": "2022-02-05T12:03:05.200Z"
   },
   {
    "duration": 56,
    "start_time": "2022-02-05T12:03:05.206Z"
   },
   {
    "duration": 17,
    "start_time": "2022-02-05T12:03:05.264Z"
   },
   {
    "duration": 16,
    "start_time": "2022-02-05T12:03:05.283Z"
   },
   {
    "duration": 7,
    "start_time": "2022-02-05T12:03:05.301Z"
   },
   {
    "duration": 92,
    "start_time": "2022-02-05T12:03:05.311Z"
   },
   {
    "duration": 16,
    "start_time": "2022-02-05T12:03:05.410Z"
   },
   {
    "duration": 52,
    "start_time": "2022-02-05T12:03:05.428Z"
   },
   {
    "duration": 21,
    "start_time": "2022-02-05T12:03:05.482Z"
   },
   {
    "duration": 54,
    "start_time": "2022-02-05T12:03:05.505Z"
   },
   {
    "duration": 23,
    "start_time": "2022-02-05T12:03:05.561Z"
   },
   {
    "duration": 5,
    "start_time": "2022-02-05T12:03:05.586Z"
   },
   {
    "duration": 18,
    "start_time": "2022-02-05T12:03:05.594Z"
   },
   {
    "duration": 46,
    "start_time": "2022-02-05T12:03:05.614Z"
   },
   {
    "duration": 53,
    "start_time": "2022-02-05T12:03:05.662Z"
   },
   {
    "duration": 6,
    "start_time": "2022-02-05T12:03:05.718Z"
   },
   {
    "duration": 33,
    "start_time": "2022-02-05T12:03:05.726Z"
   },
   {
    "duration": 50,
    "start_time": "2022-02-05T12:03:05.761Z"
   },
   {
    "duration": 1030,
    "start_time": "2022-02-05T12:03:05.814Z"
   },
   {
    "duration": 13,
    "start_time": "2022-02-05T12:03:06.846Z"
   },
   {
    "duration": 964,
    "start_time": "2022-02-05T12:03:06.861Z"
   },
   {
    "duration": 9,
    "start_time": "2022-02-05T12:03:07.828Z"
   },
   {
    "duration": 22,
    "start_time": "2022-02-05T12:03:07.839Z"
   },
   {
    "duration": 13,
    "start_time": "2022-02-05T12:03:07.863Z"
   },
   {
    "duration": 7,
    "start_time": "2022-02-05T12:03:07.959Z"
   },
   {
    "duration": 87371,
    "start_time": "2022-02-05T12:03:07.969Z"
   },
   {
    "duration": 3,
    "start_time": "2022-02-05T12:04:35.343Z"
   },
   {
    "duration": 244,
    "start_time": "2022-02-05T12:04:35.349Z"
   },
   {
    "duration": 6372,
    "start_time": "2022-02-05T12:04:35.595Z"
   },
   {
    "duration": 96,
    "start_time": "2022-02-05T12:04:41.969Z"
   },
   {
    "duration": 125,
    "start_time": "2022-02-05T12:11:34.868Z"
   },
   {
    "duration": 526,
    "start_time": "2022-02-05T12:13:31.764Z"
   },
   {
    "duration": 365,
    "start_time": "2022-02-05T12:13:46.207Z"
   },
   {
    "duration": 555,
    "start_time": "2022-02-05T12:15:12.466Z"
   },
   {
    "duration": 2268,
    "start_time": "2022-02-05T12:16:28.363Z"
   },
   {
    "duration": 7,
    "start_time": "2022-02-05T12:16:30.633Z"
   },
   {
    "duration": 120,
    "start_time": "2022-02-05T12:16:30.644Z"
   },
   {
    "duration": 17,
    "start_time": "2022-02-05T12:16:30.769Z"
   },
   {
    "duration": 25,
    "start_time": "2022-02-05T12:16:30.789Z"
   },
   {
    "duration": 8,
    "start_time": "2022-02-05T12:16:30.817Z"
   },
   {
    "duration": 44,
    "start_time": "2022-02-05T12:16:30.828Z"
   },
   {
    "duration": 1075,
    "start_time": "2022-02-05T12:16:30.875Z"
   },
   {
    "duration": 19,
    "start_time": "2022-02-05T12:16:31.956Z"
   },
   {
    "duration": 126,
    "start_time": "2022-02-05T12:16:31.978Z"
   },
   {
    "duration": 78,
    "start_time": "2022-02-05T12:16:32.107Z"
   },
   {
    "duration": 74,
    "start_time": "2022-02-05T12:16:32.188Z"
   },
   {
    "duration": 66,
    "start_time": "2022-02-05T12:16:32.264Z"
   },
   {
    "duration": 100,
    "start_time": "2022-02-05T12:16:32.333Z"
   },
   {
    "duration": 77,
    "start_time": "2022-02-05T12:16:32.436Z"
   },
   {
    "duration": 4,
    "start_time": "2022-02-05T12:16:32.515Z"
   },
   {
    "duration": 38,
    "start_time": "2022-02-05T12:16:32.522Z"
   },
   {
    "duration": 15,
    "start_time": "2022-02-05T12:16:32.563Z"
   },
   {
    "duration": 12,
    "start_time": "2022-02-05T12:16:32.581Z"
   },
   {
    "duration": 15,
    "start_time": "2022-02-05T12:16:32.596Z"
   },
   {
    "duration": 48,
    "start_time": "2022-02-05T12:16:32.614Z"
   },
   {
    "duration": 17,
    "start_time": "2022-02-05T12:16:32.664Z"
   },
   {
    "duration": 14,
    "start_time": "2022-02-05T12:16:32.684Z"
   },
   {
    "duration": 16,
    "start_time": "2022-02-05T12:16:32.701Z"
   },
   {
    "duration": 25,
    "start_time": "2022-02-05T12:16:32.761Z"
   },
   {
    "duration": 21,
    "start_time": "2022-02-05T12:16:32.789Z"
   },
   {
    "duration": 57,
    "start_time": "2022-02-05T12:16:32.819Z"
   },
   {
    "duration": 2032,
    "start_time": "2022-02-05T12:16:32.882Z"
   },
   {
    "duration": 16,
    "start_time": "2022-02-05T12:16:34.917Z"
   },
   {
    "duration": 46,
    "start_time": "2022-02-05T12:16:34.935Z"
   },
   {
    "duration": 15,
    "start_time": "2022-02-05T12:16:34.984Z"
   },
   {
    "duration": 14,
    "start_time": "2022-02-05T12:16:35.002Z"
   },
   {
    "duration": 58,
    "start_time": "2022-02-05T12:16:35.019Z"
   },
   {
    "duration": 20,
    "start_time": "2022-02-05T12:16:35.079Z"
   },
   {
    "duration": 57,
    "start_time": "2022-02-05T12:16:35.102Z"
   },
   {
    "duration": 32,
    "start_time": "2022-02-05T12:16:35.161Z"
   },
   {
    "duration": 7,
    "start_time": "2022-02-05T12:16:35.195Z"
   },
   {
    "duration": 56,
    "start_time": "2022-02-05T12:16:35.204Z"
   },
   {
    "duration": 30,
    "start_time": "2022-02-05T12:16:35.262Z"
   },
   {
    "duration": 25,
    "start_time": "2022-02-05T12:16:35.294Z"
   },
   {
    "duration": 45,
    "start_time": "2022-02-05T12:16:35.322Z"
   },
   {
    "duration": 21,
    "start_time": "2022-02-05T12:16:35.369Z"
   },
   {
    "duration": 13,
    "start_time": "2022-02-05T12:16:35.392Z"
   },
   {
    "duration": 52,
    "start_time": "2022-02-05T12:16:35.407Z"
   },
   {
    "duration": 4,
    "start_time": "2022-02-05T12:16:35.462Z"
   },
   {
    "duration": 38,
    "start_time": "2022-02-05T12:16:35.468Z"
   },
   {
    "duration": 14,
    "start_time": "2022-02-05T12:16:35.508Z"
   },
   {
    "duration": 54,
    "start_time": "2022-02-05T12:16:35.525Z"
   },
   {
    "duration": 8,
    "start_time": "2022-02-05T12:16:35.581Z"
   },
   {
    "duration": 107,
    "start_time": "2022-02-05T12:16:35.591Z"
   },
   {
    "duration": 17,
    "start_time": "2022-02-05T12:16:35.700Z"
   },
   {
    "duration": 59,
    "start_time": "2022-02-05T12:16:35.719Z"
   },
   {
    "duration": 26,
    "start_time": "2022-02-05T12:16:35.780Z"
   },
   {
    "duration": 70,
    "start_time": "2022-02-05T12:16:35.809Z"
   },
   {
    "duration": 31,
    "start_time": "2022-02-05T12:16:35.882Z"
   },
   {
    "duration": 5,
    "start_time": "2022-02-05T12:16:35.915Z"
   },
   {
    "duration": 56,
    "start_time": "2022-02-05T12:16:35.923Z"
   },
   {
    "duration": 15,
    "start_time": "2022-02-05T12:16:35.981Z"
   },
   {
    "duration": 76,
    "start_time": "2022-02-05T12:16:35.998Z"
   },
   {
    "duration": 14,
    "start_time": "2022-02-05T12:16:36.076Z"
   },
   {
    "duration": 26,
    "start_time": "2022-02-05T12:16:36.093Z"
   },
   {
    "duration": 38,
    "start_time": "2022-02-05T12:16:36.121Z"
   },
   {
    "duration": 21,
    "start_time": "2022-02-05T12:16:36.162Z"
   },
   {
    "duration": 17,
    "start_time": "2022-02-05T12:16:36.186Z"
   },
   {
    "duration": 16,
    "start_time": "2022-02-05T12:16:36.205Z"
   },
   {
    "duration": 49,
    "start_time": "2022-02-05T12:16:36.224Z"
   },
   {
    "duration": 57,
    "start_time": "2022-02-05T12:16:36.276Z"
   },
   {
    "duration": 33,
    "start_time": "2022-02-05T12:16:36.336Z"
   },
   {
    "duration": 29,
    "start_time": "2022-02-05T12:16:36.372Z"
   },
   {
    "duration": 20,
    "start_time": "2022-02-05T12:16:36.403Z"
   },
   {
    "duration": 63,
    "start_time": "2022-02-05T12:16:36.426Z"
   },
   {
    "duration": 22,
    "start_time": "2022-02-05T12:16:36.491Z"
   },
   {
    "duration": 5,
    "start_time": "2022-02-05T12:16:36.515Z"
   },
   {
    "duration": 52,
    "start_time": "2022-02-05T12:16:36.522Z"
   },
   {
    "duration": 14,
    "start_time": "2022-02-05T12:16:36.576Z"
   },
   {
    "duration": 76,
    "start_time": "2022-02-05T12:16:36.593Z"
   },
   {
    "duration": 6,
    "start_time": "2022-02-05T12:16:36.672Z"
   },
   {
    "duration": 4,
    "start_time": "2022-02-05T12:16:36.681Z"
   },
   {
    "duration": 76,
    "start_time": "2022-02-05T12:16:36.688Z"
   },
   {
    "duration": 963,
    "start_time": "2022-02-05T12:16:36.767Z"
   },
   {
    "duration": 5,
    "start_time": "2022-02-05T12:16:37.738Z"
   },
   {
    "duration": 943,
    "start_time": "2022-02-05T12:16:37.745Z"
   },
   {
    "duration": 7,
    "start_time": "2022-02-05T12:16:38.690Z"
   },
   {
    "duration": 7,
    "start_time": "2022-02-05T12:16:38.700Z"
   },
   {
    "duration": 64,
    "start_time": "2022-02-05T12:16:38.709Z"
   },
   {
    "duration": 4,
    "start_time": "2022-02-05T12:16:38.861Z"
   },
   {
    "duration": 84665,
    "start_time": "2022-02-05T12:16:38.868Z"
   },
   {
    "duration": 4,
    "start_time": "2022-02-05T12:18:03.535Z"
   },
   {
    "duration": 223,
    "start_time": "2022-02-05T12:18:03.541Z"
   },
   {
    "duration": 7194,
    "start_time": "2022-02-05T12:18:03.766Z"
   },
   {
    "duration": 100,
    "start_time": "2022-02-05T12:18:10.962Z"
   },
   {
    "duration": 594,
    "start_time": "2022-02-05T12:18:11.065Z"
   },
   {
    "duration": 993,
    "start_time": "2022-02-05T12:25:31.560Z"
   },
   {
    "duration": 241,
    "start_time": "2022-02-05T12:25:41.030Z"
   },
   {
    "duration": 516,
    "start_time": "2022-02-05T12:26:06.335Z"
   },
   {
    "duration": 700,
    "start_time": "2022-02-05T12:26:24.759Z"
   },
   {
    "duration": 569,
    "start_time": "2022-02-05T12:26:29.870Z"
   },
   {
    "duration": 6855,
    "start_time": "2022-02-05T12:27:34.812Z"
   },
   {
    "duration": 11360,
    "start_time": "2022-02-05T12:28:02.112Z"
   },
   {
    "duration": 24499,
    "start_time": "2022-02-05T12:28:23.466Z"
   },
   {
    "duration": 48250,
    "start_time": "2022-02-05T12:29:04.741Z"
   },
   {
    "duration": 44656,
    "start_time": "2022-02-05T12:30:58.712Z"
   },
   {
    "duration": 45205,
    "start_time": "2022-02-05T12:32:08.781Z"
   },
   {
    "duration": 19789,
    "start_time": "2022-02-05T12:32:54.670Z"
   },
   {
    "duration": 42709,
    "start_time": "2022-02-05T12:36:42.868Z"
   },
   {
    "duration": 24544,
    "start_time": "2022-02-05T12:37:32.818Z"
   },
   {
    "duration": 23263,
    "start_time": "2022-02-05T12:39:29.418Z"
   },
   {
    "duration": 23167,
    "start_time": "2022-02-05T12:41:39.507Z"
   },
   {
    "duration": 28689,
    "start_time": "2022-02-05T12:42:19.796Z"
   },
   {
    "duration": 35834,
    "start_time": "2022-02-05T12:42:58.340Z"
   },
   {
    "duration": 25454,
    "start_time": "2022-02-05T12:43:50.424Z"
   },
   {
    "duration": 30921,
    "start_time": "2022-02-05T12:44:45.043Z"
   },
   {
    "duration": 26613,
    "start_time": "2022-02-05T12:45:26.455Z"
   },
   {
    "duration": 20831,
    "start_time": "2022-02-05T12:46:19.846Z"
   },
   {
    "duration": 22347,
    "start_time": "2022-02-05T12:46:49.729Z"
   },
   {
    "duration": 540,
    "start_time": "2022-02-05T12:48:10.505Z"
   },
   {
    "duration": 562,
    "start_time": "2022-02-05T12:48:43.698Z"
   },
   {
    "duration": 1324,
    "start_time": "2022-02-05T12:49:03.299Z"
   },
   {
    "duration": 1162,
    "start_time": "2022-02-05T12:49:26.010Z"
   },
   {
    "duration": 15,
    "start_time": "2022-02-05T12:59:05.514Z"
   },
   {
    "duration": 753,
    "start_time": "2022-02-05T13:01:47.627Z"
   },
   {
    "duration": 807,
    "start_time": "2022-02-05T13:02:02.335Z"
   },
   {
    "duration": 1230,
    "start_time": "2022-02-05T13:02:23.579Z"
   },
   {
    "duration": 385,
    "start_time": "2022-02-05T13:02:38.880Z"
   },
   {
    "duration": 398,
    "start_time": "2022-02-05T13:02:52.165Z"
   },
   {
    "duration": 416,
    "start_time": "2022-02-05T13:03:15.896Z"
   },
   {
    "duration": 508,
    "start_time": "2022-02-05T13:03:41.493Z"
   },
   {
    "duration": 590,
    "start_time": "2022-02-05T13:05:46.636Z"
   },
   {
    "duration": 413,
    "start_time": "2022-02-05T13:07:32.760Z"
   },
   {
    "duration": 539,
    "start_time": "2022-02-05T13:07:43.370Z"
   },
   {
    "duration": 574,
    "start_time": "2022-02-05T13:08:29.219Z"
   },
   {
    "duration": 2517,
    "start_time": "2022-02-05T13:13:40.933Z"
   },
   {
    "duration": 9,
    "start_time": "2022-02-05T13:13:43.453Z"
   },
   {
    "duration": 113,
    "start_time": "2022-02-05T13:13:43.465Z"
   },
   {
    "duration": 16,
    "start_time": "2022-02-05T13:13:43.581Z"
   },
   {
    "duration": 22,
    "start_time": "2022-02-05T13:13:43.600Z"
   },
   {
    "duration": 36,
    "start_time": "2022-02-05T13:13:43.624Z"
   },
   {
    "duration": 15,
    "start_time": "2022-02-05T13:13:43.663Z"
   },
   {
    "duration": 1025,
    "start_time": "2022-02-05T13:13:43.682Z"
   },
   {
    "duration": 16,
    "start_time": "2022-02-05T13:13:44.710Z"
   },
   {
    "duration": 132,
    "start_time": "2022-02-05T13:13:44.729Z"
   },
   {
    "duration": 77,
    "start_time": "2022-02-05T13:13:44.863Z"
   },
   {
    "duration": 71,
    "start_time": "2022-02-05T13:13:44.942Z"
   },
   {
    "duration": 72,
    "start_time": "2022-02-05T13:13:45.016Z"
   },
   {
    "duration": 91,
    "start_time": "2022-02-05T13:13:45.090Z"
   },
   {
    "duration": 61,
    "start_time": "2022-02-05T13:13:45.183Z"
   },
   {
    "duration": 4,
    "start_time": "2022-02-05T13:13:45.246Z"
   },
   {
    "duration": 25,
    "start_time": "2022-02-05T13:13:45.252Z"
   },
   {
    "duration": 15,
    "start_time": "2022-02-05T13:13:45.279Z"
   },
   {
    "duration": 16,
    "start_time": "2022-02-05T13:13:45.297Z"
   },
   {
    "duration": 25,
    "start_time": "2022-02-05T13:13:45.315Z"
   },
   {
    "duration": 14,
    "start_time": "2022-02-05T13:13:45.343Z"
   },
   {
    "duration": 23,
    "start_time": "2022-02-05T13:13:45.359Z"
   },
   {
    "duration": 15,
    "start_time": "2022-02-05T13:13:45.388Z"
   },
   {
    "duration": 13,
    "start_time": "2022-02-05T13:13:45.407Z"
   },
   {
    "duration": 20,
    "start_time": "2022-02-05T13:13:45.423Z"
   },
   {
    "duration": 17,
    "start_time": "2022-02-05T13:13:45.445Z"
   },
   {
    "duration": 18,
    "start_time": "2022-02-05T13:13:45.465Z"
   },
   {
    "duration": 2508,
    "start_time": "2022-02-05T13:13:45.485Z"
   },
   {
    "duration": 16,
    "start_time": "2022-02-05T13:13:47.995Z"
   },
   {
    "duration": 46,
    "start_time": "2022-02-05T13:13:48.013Z"
   },
   {
    "duration": 14,
    "start_time": "2022-02-05T13:13:48.062Z"
   },
   {
    "duration": 16,
    "start_time": "2022-02-05T13:13:48.078Z"
   },
   {
    "duration": 28,
    "start_time": "2022-02-05T13:13:48.097Z"
   },
   {
    "duration": 48,
    "start_time": "2022-02-05T13:13:48.128Z"
   },
   {
    "duration": 34,
    "start_time": "2022-02-05T13:13:48.178Z"
   },
   {
    "duration": 61,
    "start_time": "2022-02-05T13:13:48.214Z"
   },
   {
    "duration": 7,
    "start_time": "2022-02-05T13:13:48.278Z"
   },
   {
    "duration": 34,
    "start_time": "2022-02-05T13:13:48.288Z"
   },
   {
    "duration": 53,
    "start_time": "2022-02-05T13:13:48.325Z"
   },
   {
    "duration": 24,
    "start_time": "2022-02-05T13:13:48.381Z"
   },
   {
    "duration": 18,
    "start_time": "2022-02-05T13:13:48.408Z"
   },
   {
    "duration": 51,
    "start_time": "2022-02-05T13:13:48.428Z"
   },
   {
    "duration": 13,
    "start_time": "2022-02-05T13:13:48.482Z"
   },
   {
    "duration": 33,
    "start_time": "2022-02-05T13:13:48.497Z"
   },
   {
    "duration": 31,
    "start_time": "2022-02-05T13:13:48.533Z"
   },
   {
    "duration": 48,
    "start_time": "2022-02-05T13:13:48.567Z"
   },
   {
    "duration": 15,
    "start_time": "2022-02-05T13:13:48.617Z"
   },
   {
    "duration": 37,
    "start_time": "2022-02-05T13:13:48.634Z"
   },
   {
    "duration": 15,
    "start_time": "2022-02-05T13:13:48.673Z"
   },
   {
    "duration": 104,
    "start_time": "2022-02-05T13:13:48.690Z"
   },
   {
    "duration": 20,
    "start_time": "2022-02-05T13:13:48.797Z"
   },
   {
    "duration": 68,
    "start_time": "2022-02-05T13:13:48.819Z"
   },
   {
    "duration": 32,
    "start_time": "2022-02-05T13:13:48.890Z"
   },
   {
    "duration": 80,
    "start_time": "2022-02-05T13:13:48.925Z"
   },
   {
    "duration": 54,
    "start_time": "2022-02-05T13:13:49.008Z"
   },
   {
    "duration": 5,
    "start_time": "2022-02-05T13:13:49.065Z"
   },
   {
    "duration": 33,
    "start_time": "2022-02-05T13:13:49.073Z"
   },
   {
    "duration": 21,
    "start_time": "2022-02-05T13:13:49.109Z"
   },
   {
    "duration": 56,
    "start_time": "2022-02-05T13:13:49.160Z"
   },
   {
    "duration": 15,
    "start_time": "2022-02-05T13:13:49.219Z"
   },
   {
    "duration": 18,
    "start_time": "2022-02-05T13:13:49.261Z"
   },
   {
    "duration": 10,
    "start_time": "2022-02-05T13:13:49.282Z"
   },
   {
    "duration": 26,
    "start_time": "2022-02-05T13:13:49.294Z"
   },
   {
    "duration": 44,
    "start_time": "2022-02-05T13:13:49.323Z"
   },
   {
    "duration": 20,
    "start_time": "2022-02-05T13:13:49.371Z"
   },
   {
    "duration": 8,
    "start_time": "2022-02-05T13:13:49.393Z"
   },
   {
    "duration": 87,
    "start_time": "2022-02-05T13:13:49.404Z"
   },
   {
    "duration": 17,
    "start_time": "2022-02-05T13:13:49.501Z"
   },
   {
    "duration": 60,
    "start_time": "2022-02-05T13:13:49.522Z"
   },
   {
    "duration": 24,
    "start_time": "2022-02-05T13:13:49.585Z"
   },
   {
    "duration": 63,
    "start_time": "2022-02-05T13:13:49.613Z"
   },
   {
    "duration": 25,
    "start_time": "2022-02-05T13:13:49.679Z"
   },
   {
    "duration": 5,
    "start_time": "2022-02-05T13:13:49.707Z"
   },
   {
    "duration": 53,
    "start_time": "2022-02-05T13:13:49.714Z"
   },
   {
    "duration": 18,
    "start_time": "2022-02-05T13:13:49.769Z"
   },
   {
    "duration": 73,
    "start_time": "2022-02-05T13:13:49.789Z"
   },
   {
    "duration": 6,
    "start_time": "2022-02-05T13:13:49.864Z"
   },
   {
    "duration": 4,
    "start_time": "2022-02-05T13:13:49.872Z"
   },
   {
    "duration": 81,
    "start_time": "2022-02-05T13:13:49.878Z"
   },
   {
    "duration": 939,
    "start_time": "2022-02-05T13:13:49.962Z"
   },
   {
    "duration": 5,
    "start_time": "2022-02-05T13:13:50.904Z"
   },
   {
    "duration": 958,
    "start_time": "2022-02-05T13:13:50.911Z"
   },
   {
    "duration": 9,
    "start_time": "2022-02-05T13:13:51.871Z"
   },
   {
    "duration": 9,
    "start_time": "2022-02-05T13:13:51.882Z"
   },
   {
    "duration": 75,
    "start_time": "2022-02-05T13:13:51.893Z"
   },
   {
    "duration": 94,
    "start_time": "2022-02-05T13:13:51.971Z"
   },
   {
    "duration": 81387,
    "start_time": "2022-02-05T13:13:52.159Z"
   },
   {
    "duration": 12,
    "start_time": "2022-02-05T13:15:13.548Z"
   },
   {
    "duration": 213,
    "start_time": "2022-02-05T13:15:13.563Z"
   },
   {
    "duration": 20897,
    "start_time": "2022-02-05T13:15:13.778Z"
   },
   {
    "duration": 183,
    "start_time": "2022-02-05T13:15:34.677Z"
   },
   {
    "duration": 848,
    "start_time": "2022-02-05T13:15:34.863Z"
   }
  ],
  "kernelspec": {
   "display_name": "Python 3",
   "language": "python",
   "name": "python3"
  },
  "language_info": {
   "codemirror_mode": {
    "name": "ipython",
    "version": 3
   },
   "file_extension": ".py",
   "mimetype": "text/x-python",
   "name": "python",
   "nbconvert_exporter": "python",
   "pygments_lexer": "ipython3",
   "version": "3.9.2"
  },
  "toc": {
   "base_numbering": 1,
   "nav_menu": {},
   "number_sections": true,
   "sideBar": true,
   "skip_h1_title": true,
   "title_cell": "Table of Contents",
   "title_sidebar": "Contents",
   "toc_cell": false,
   "toc_position": {},
   "toc_section_display": true,
   "toc_window_display": true
  }
 },
 "nbformat": 4,
 "nbformat_minor": 5
}
