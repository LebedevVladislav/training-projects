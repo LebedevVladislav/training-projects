{
 "cells": [
  {
   "cell_type": "markdown",
   "metadata": {
    "tags": []
   },
   "source": [
    "# Исследование объявлений о продаже квартир\n",
    "\n",
    "В вашем распоряжении данные сервиса Яндекс.Недвижимость — архив объявлений о продаже квартир в Санкт-Петербурге и соседних населённых пунктов за несколько лет. Нужно научиться определять рыночную стоимость объектов недвижимости.  \n",
    "\n",
    "По каждой квартире на продажу доступны два вида данных. Первые вписаны пользователем, вторые — получены автоматически на основе картографических данных. Например, расстояние до центра, аэропорта, ближайшего парка и водоёма. "
   ]
  },
  {
   "cell_type": "markdown",
   "metadata": {},
   "source": [
    "<b>Цель проекта:</b> изучение параметров, влияющих на стоимость квартир. Это позволит построить автоматизированную систему: она отследит аномалии и мошенническую деятельность."
   ]
  },
  {
   "cell_type": "markdown",
   "metadata": {},
   "source": [
    "### Изучение общей информации"
   ]
  },
  {
   "cell_type": "markdown",
   "metadata": {},
   "source": [
    "!pip install pandas -U\n",
    "!pip install numpy -U\n",
    "!pip install matplotlib -U"
   ]
  },
  {
   "cell_type": "code",
   "execution_count": 1,
   "metadata": {},
   "outputs": [],
   "source": [
    "import pandas as pd\n",
    "import matplotlib.pyplot as plt\n",
    "import numpy as np\n",
    "import copy"
   ]
  },
  {
   "cell_type": "code",
   "execution_count": 2,
   "metadata": {},
   "outputs": [],
   "source": [
    "pd.options.display.max_columns = None"
   ]
  },
  {
   "cell_type": "code",
   "execution_count": 3,
   "metadata": {},
   "outputs": [],
   "source": [
    "df = pd.read_csv(\"datasets/real_estate_data.csv\", sep=\"\\t\")\n",
    "original_df = pd.read_csv(\"datasets/real_estate_data.csv\", sep=\"\\t\")"
   ]
  },
  {
   "cell_type": "code",
   "execution_count": 4,
   "metadata": {
    "scrolled": false
   },
   "outputs": [
    {
     "name": "stdout",
     "output_type": "stream",
     "text": [
      "<class 'pandas.core.frame.DataFrame'>\n",
      "RangeIndex: 23699 entries, 0 to 23698\n",
      "Data columns (total 22 columns):\n",
      " #   Column                Non-Null Count  Dtype  \n",
      "---  ------                --------------  -----  \n",
      " 0   total_images          23699 non-null  int64  \n",
      " 1   last_price            23699 non-null  float64\n",
      " 2   total_area            23699 non-null  float64\n",
      " 3   first_day_exposition  23699 non-null  object \n",
      " 4   rooms                 23699 non-null  int64  \n",
      " 5   ceiling_height        14504 non-null  float64\n",
      " 6   floors_total          23613 non-null  float64\n",
      " 7   living_area           21796 non-null  float64\n",
      " 8   floor                 23699 non-null  int64  \n",
      " 9   is_apartment          2775 non-null   object \n",
      " 10  studio                23699 non-null  bool   \n",
      " 11  open_plan             23699 non-null  bool   \n",
      " 12  kitchen_area          21421 non-null  float64\n",
      " 13  balcony               12180 non-null  float64\n",
      " 14  locality_name         23650 non-null  object \n",
      " 15  airports_nearest      18157 non-null  float64\n",
      " 16  cityCenters_nearest   18180 non-null  float64\n",
      " 17  parks_around3000      18181 non-null  float64\n",
      " 18  parks_nearest         8079 non-null   float64\n",
      " 19  ponds_around3000      18181 non-null  float64\n",
      " 20  ponds_nearest         9110 non-null   float64\n",
      " 21  days_exposition       20518 non-null  float64\n",
      "dtypes: bool(2), float64(14), int64(3), object(3)\n",
      "memory usage: 3.7+ MB\n",
      "\n"
     ]
    },
    {
     "data": {
      "text/html": [
       "<div>\n",
       "<style scoped>\n",
       "    .dataframe tbody tr th:only-of-type {\n",
       "        vertical-align: middle;\n",
       "    }\n",
       "\n",
       "    .dataframe tbody tr th {\n",
       "        vertical-align: top;\n",
       "    }\n",
       "\n",
       "    .dataframe thead th {\n",
       "        text-align: right;\n",
       "    }\n",
       "</style>\n",
       "<table border=\"1\" class=\"dataframe\">\n",
       "  <thead>\n",
       "    <tr style=\"text-align: right;\">\n",
       "      <th></th>\n",
       "      <th>total_images</th>\n",
       "      <th>last_price</th>\n",
       "      <th>total_area</th>\n",
       "      <th>first_day_exposition</th>\n",
       "      <th>rooms</th>\n",
       "      <th>ceiling_height</th>\n",
       "      <th>floors_total</th>\n",
       "      <th>living_area</th>\n",
       "      <th>floor</th>\n",
       "      <th>is_apartment</th>\n",
       "      <th>studio</th>\n",
       "      <th>open_plan</th>\n",
       "      <th>kitchen_area</th>\n",
       "      <th>balcony</th>\n",
       "      <th>locality_name</th>\n",
       "      <th>airports_nearest</th>\n",
       "      <th>cityCenters_nearest</th>\n",
       "      <th>parks_around3000</th>\n",
       "      <th>parks_nearest</th>\n",
       "      <th>ponds_around3000</th>\n",
       "      <th>ponds_nearest</th>\n",
       "      <th>days_exposition</th>\n",
       "    </tr>\n",
       "  </thead>\n",
       "  <tbody>\n",
       "    <tr>\n",
       "      <th>0</th>\n",
       "      <td>20</td>\n",
       "      <td>13000000.0</td>\n",
       "      <td>108.0</td>\n",
       "      <td>2019-03-07T00:00:00</td>\n",
       "      <td>3</td>\n",
       "      <td>2.70</td>\n",
       "      <td>16.0</td>\n",
       "      <td>51.0</td>\n",
       "      <td>8</td>\n",
       "      <td>NaN</td>\n",
       "      <td>False</td>\n",
       "      <td>False</td>\n",
       "      <td>25.0</td>\n",
       "      <td>NaN</td>\n",
       "      <td>Санкт-Петербург</td>\n",
       "      <td>18863.0</td>\n",
       "      <td>16028.0</td>\n",
       "      <td>1.0</td>\n",
       "      <td>482.0</td>\n",
       "      <td>2.0</td>\n",
       "      <td>755.0</td>\n",
       "      <td>NaN</td>\n",
       "    </tr>\n",
       "    <tr>\n",
       "      <th>1</th>\n",
       "      <td>7</td>\n",
       "      <td>3350000.0</td>\n",
       "      <td>40.4</td>\n",
       "      <td>2018-12-04T00:00:00</td>\n",
       "      <td>1</td>\n",
       "      <td>NaN</td>\n",
       "      <td>11.0</td>\n",
       "      <td>18.6</td>\n",
       "      <td>1</td>\n",
       "      <td>NaN</td>\n",
       "      <td>False</td>\n",
       "      <td>False</td>\n",
       "      <td>11.0</td>\n",
       "      <td>2.0</td>\n",
       "      <td>посёлок Шушары</td>\n",
       "      <td>12817.0</td>\n",
       "      <td>18603.0</td>\n",
       "      <td>0.0</td>\n",
       "      <td>NaN</td>\n",
       "      <td>0.0</td>\n",
       "      <td>NaN</td>\n",
       "      <td>81.0</td>\n",
       "    </tr>\n",
       "    <tr>\n",
       "      <th>2</th>\n",
       "      <td>10</td>\n",
       "      <td>5196000.0</td>\n",
       "      <td>56.0</td>\n",
       "      <td>2015-08-20T00:00:00</td>\n",
       "      <td>2</td>\n",
       "      <td>NaN</td>\n",
       "      <td>5.0</td>\n",
       "      <td>34.3</td>\n",
       "      <td>4</td>\n",
       "      <td>NaN</td>\n",
       "      <td>False</td>\n",
       "      <td>False</td>\n",
       "      <td>8.3</td>\n",
       "      <td>0.0</td>\n",
       "      <td>Санкт-Петербург</td>\n",
       "      <td>21741.0</td>\n",
       "      <td>13933.0</td>\n",
       "      <td>1.0</td>\n",
       "      <td>90.0</td>\n",
       "      <td>2.0</td>\n",
       "      <td>574.0</td>\n",
       "      <td>558.0</td>\n",
       "    </tr>\n",
       "    <tr>\n",
       "      <th>3</th>\n",
       "      <td>0</td>\n",
       "      <td>64900000.0</td>\n",
       "      <td>159.0</td>\n",
       "      <td>2015-07-24T00:00:00</td>\n",
       "      <td>3</td>\n",
       "      <td>NaN</td>\n",
       "      <td>14.0</td>\n",
       "      <td>NaN</td>\n",
       "      <td>9</td>\n",
       "      <td>NaN</td>\n",
       "      <td>False</td>\n",
       "      <td>False</td>\n",
       "      <td>NaN</td>\n",
       "      <td>0.0</td>\n",
       "      <td>Санкт-Петербург</td>\n",
       "      <td>28098.0</td>\n",
       "      <td>6800.0</td>\n",
       "      <td>2.0</td>\n",
       "      <td>84.0</td>\n",
       "      <td>3.0</td>\n",
       "      <td>234.0</td>\n",
       "      <td>424.0</td>\n",
       "    </tr>\n",
       "    <tr>\n",
       "      <th>4</th>\n",
       "      <td>2</td>\n",
       "      <td>10000000.0</td>\n",
       "      <td>100.0</td>\n",
       "      <td>2018-06-19T00:00:00</td>\n",
       "      <td>2</td>\n",
       "      <td>3.03</td>\n",
       "      <td>14.0</td>\n",
       "      <td>32.0</td>\n",
       "      <td>13</td>\n",
       "      <td>NaN</td>\n",
       "      <td>False</td>\n",
       "      <td>False</td>\n",
       "      <td>41.0</td>\n",
       "      <td>NaN</td>\n",
       "      <td>Санкт-Петербург</td>\n",
       "      <td>31856.0</td>\n",
       "      <td>8098.0</td>\n",
       "      <td>2.0</td>\n",
       "      <td>112.0</td>\n",
       "      <td>1.0</td>\n",
       "      <td>48.0</td>\n",
       "      <td>121.0</td>\n",
       "    </tr>\n",
       "  </tbody>\n",
       "</table>\n",
       "</div>"
      ],
      "text/plain": [
       "   total_images  last_price  total_area first_day_exposition  rooms  \\\n",
       "0            20  13000000.0       108.0  2019-03-07T00:00:00      3   \n",
       "1             7   3350000.0        40.4  2018-12-04T00:00:00      1   \n",
       "2            10   5196000.0        56.0  2015-08-20T00:00:00      2   \n",
       "3             0  64900000.0       159.0  2015-07-24T00:00:00      3   \n",
       "4             2  10000000.0       100.0  2018-06-19T00:00:00      2   \n",
       "\n",
       "   ceiling_height  floors_total  living_area  floor is_apartment  studio  \\\n",
       "0            2.70          16.0         51.0      8          NaN   False   \n",
       "1             NaN          11.0         18.6      1          NaN   False   \n",
       "2             NaN           5.0         34.3      4          NaN   False   \n",
       "3             NaN          14.0          NaN      9          NaN   False   \n",
       "4            3.03          14.0         32.0     13          NaN   False   \n",
       "\n",
       "   open_plan  kitchen_area  balcony    locality_name  airports_nearest  \\\n",
       "0      False          25.0      NaN  Санкт-Петербург           18863.0   \n",
       "1      False          11.0      2.0   посёлок Шушары           12817.0   \n",
       "2      False           8.3      0.0  Санкт-Петербург           21741.0   \n",
       "3      False           NaN      0.0  Санкт-Петербург           28098.0   \n",
       "4      False          41.0      NaN  Санкт-Петербург           31856.0   \n",
       "\n",
       "   cityCenters_nearest  parks_around3000  parks_nearest  ponds_around3000  \\\n",
       "0              16028.0               1.0          482.0               2.0   \n",
       "1              18603.0               0.0            NaN               0.0   \n",
       "2              13933.0               1.0           90.0               2.0   \n",
       "3               6800.0               2.0           84.0               3.0   \n",
       "4               8098.0               2.0          112.0               1.0   \n",
       "\n",
       "   ponds_nearest  days_exposition  \n",
       "0          755.0              NaN  \n",
       "1            NaN             81.0  \n",
       "2          574.0            558.0  \n",
       "3          234.0            424.0  \n",
       "4           48.0            121.0  "
      ]
     },
     "metadata": {},
     "output_type": "display_data"
    }
   ],
   "source": [
    "df.info()\n",
    "print()\n",
    "display(df.head())"
   ]
  },
  {
   "cell_type": "markdown",
   "metadata": {},
   "source": [
    "Для более простого визуального восприятия выразим цены квартир в миллионах"
   ]
  },
  {
   "cell_type": "code",
   "execution_count": 5,
   "metadata": {},
   "outputs": [],
   "source": [
    "last_price_mln = np.round(df['last_price']/1000000, 6)\n",
    "df.insert(2, 'last_price_mln', last_price_mln)"
   ]
  },
  {
   "cell_type": "code",
   "execution_count": 6,
   "metadata": {},
   "outputs": [
    {
     "data": {
      "text/html": [
       "<div>\n",
       "<style scoped>\n",
       "    .dataframe tbody tr th:only-of-type {\n",
       "        vertical-align: middle;\n",
       "    }\n",
       "\n",
       "    .dataframe tbody tr th {\n",
       "        vertical-align: top;\n",
       "    }\n",
       "\n",
       "    .dataframe thead th {\n",
       "        text-align: right;\n",
       "    }\n",
       "</style>\n",
       "<table border=\"1\" class=\"dataframe\">\n",
       "  <thead>\n",
       "    <tr style=\"text-align: right;\">\n",
       "      <th></th>\n",
       "      <th>total_images</th>\n",
       "      <th>last_price</th>\n",
       "      <th>last_price_mln</th>\n",
       "      <th>total_area</th>\n",
       "      <th>rooms</th>\n",
       "      <th>ceiling_height</th>\n",
       "      <th>floors_total</th>\n",
       "      <th>living_area</th>\n",
       "      <th>floor</th>\n",
       "      <th>kitchen_area</th>\n",
       "      <th>balcony</th>\n",
       "      <th>airports_nearest</th>\n",
       "      <th>cityCenters_nearest</th>\n",
       "      <th>parks_around3000</th>\n",
       "      <th>parks_nearest</th>\n",
       "      <th>ponds_around3000</th>\n",
       "      <th>ponds_nearest</th>\n",
       "      <th>days_exposition</th>\n",
       "    </tr>\n",
       "  </thead>\n",
       "  <tbody>\n",
       "    <tr>\n",
       "      <th>count</th>\n",
       "      <td>23699.000000</td>\n",
       "      <td>2.369900e+04</td>\n",
       "      <td>23699.000000</td>\n",
       "      <td>23699.000000</td>\n",
       "      <td>23699.000000</td>\n",
       "      <td>14504.000000</td>\n",
       "      <td>23613.000000</td>\n",
       "      <td>21796.000000</td>\n",
       "      <td>23699.000000</td>\n",
       "      <td>21421.000000</td>\n",
       "      <td>12180.000000</td>\n",
       "      <td>18157.000000</td>\n",
       "      <td>18180.000000</td>\n",
       "      <td>18181.000000</td>\n",
       "      <td>8079.000000</td>\n",
       "      <td>18181.000000</td>\n",
       "      <td>9110.000000</td>\n",
       "      <td>20518.000000</td>\n",
       "    </tr>\n",
       "    <tr>\n",
       "      <th>mean</th>\n",
       "      <td>9.858475</td>\n",
       "      <td>6.541549e+06</td>\n",
       "      <td>6.541549</td>\n",
       "      <td>60.348651</td>\n",
       "      <td>2.070636</td>\n",
       "      <td>2.771499</td>\n",
       "      <td>10.673824</td>\n",
       "      <td>34.457852</td>\n",
       "      <td>5.892358</td>\n",
       "      <td>10.569807</td>\n",
       "      <td>1.150082</td>\n",
       "      <td>28793.672193</td>\n",
       "      <td>14191.277833</td>\n",
       "      <td>0.611408</td>\n",
       "      <td>490.804555</td>\n",
       "      <td>0.770255</td>\n",
       "      <td>517.980900</td>\n",
       "      <td>180.888634</td>\n",
       "    </tr>\n",
       "    <tr>\n",
       "      <th>std</th>\n",
       "      <td>5.682529</td>\n",
       "      <td>1.088701e+07</td>\n",
       "      <td>10.887013</td>\n",
       "      <td>35.654083</td>\n",
       "      <td>1.078405</td>\n",
       "      <td>1.261056</td>\n",
       "      <td>6.597173</td>\n",
       "      <td>22.030445</td>\n",
       "      <td>4.885249</td>\n",
       "      <td>5.905438</td>\n",
       "      <td>1.071300</td>\n",
       "      <td>12630.880622</td>\n",
       "      <td>8608.386210</td>\n",
       "      <td>0.802074</td>\n",
       "      <td>342.317995</td>\n",
       "      <td>0.938346</td>\n",
       "      <td>277.720643</td>\n",
       "      <td>219.727988</td>\n",
       "    </tr>\n",
       "    <tr>\n",
       "      <th>min</th>\n",
       "      <td>0.000000</td>\n",
       "      <td>1.219000e+04</td>\n",
       "      <td>0.012190</td>\n",
       "      <td>12.000000</td>\n",
       "      <td>0.000000</td>\n",
       "      <td>1.000000</td>\n",
       "      <td>1.000000</td>\n",
       "      <td>2.000000</td>\n",
       "      <td>1.000000</td>\n",
       "      <td>1.300000</td>\n",
       "      <td>0.000000</td>\n",
       "      <td>0.000000</td>\n",
       "      <td>181.000000</td>\n",
       "      <td>0.000000</td>\n",
       "      <td>1.000000</td>\n",
       "      <td>0.000000</td>\n",
       "      <td>13.000000</td>\n",
       "      <td>1.000000</td>\n",
       "    </tr>\n",
       "    <tr>\n",
       "      <th>25%</th>\n",
       "      <td>6.000000</td>\n",
       "      <td>3.400000e+06</td>\n",
       "      <td>3.400000</td>\n",
       "      <td>40.000000</td>\n",
       "      <td>1.000000</td>\n",
       "      <td>2.520000</td>\n",
       "      <td>5.000000</td>\n",
       "      <td>18.600000</td>\n",
       "      <td>2.000000</td>\n",
       "      <td>7.000000</td>\n",
       "      <td>0.000000</td>\n",
       "      <td>18585.000000</td>\n",
       "      <td>9238.000000</td>\n",
       "      <td>0.000000</td>\n",
       "      <td>288.000000</td>\n",
       "      <td>0.000000</td>\n",
       "      <td>294.000000</td>\n",
       "      <td>45.000000</td>\n",
       "    </tr>\n",
       "    <tr>\n",
       "      <th>50%</th>\n",
       "      <td>9.000000</td>\n",
       "      <td>4.650000e+06</td>\n",
       "      <td>4.650000</td>\n",
       "      <td>52.000000</td>\n",
       "      <td>2.000000</td>\n",
       "      <td>2.650000</td>\n",
       "      <td>9.000000</td>\n",
       "      <td>30.000000</td>\n",
       "      <td>4.000000</td>\n",
       "      <td>9.100000</td>\n",
       "      <td>1.000000</td>\n",
       "      <td>26726.000000</td>\n",
       "      <td>13098.500000</td>\n",
       "      <td>0.000000</td>\n",
       "      <td>455.000000</td>\n",
       "      <td>1.000000</td>\n",
       "      <td>502.000000</td>\n",
       "      <td>95.000000</td>\n",
       "    </tr>\n",
       "    <tr>\n",
       "      <th>75%</th>\n",
       "      <td>14.000000</td>\n",
       "      <td>6.800000e+06</td>\n",
       "      <td>6.800000</td>\n",
       "      <td>69.900000</td>\n",
       "      <td>3.000000</td>\n",
       "      <td>2.800000</td>\n",
       "      <td>16.000000</td>\n",
       "      <td>42.300000</td>\n",
       "      <td>8.000000</td>\n",
       "      <td>12.000000</td>\n",
       "      <td>2.000000</td>\n",
       "      <td>37273.000000</td>\n",
       "      <td>16293.000000</td>\n",
       "      <td>1.000000</td>\n",
       "      <td>612.000000</td>\n",
       "      <td>1.000000</td>\n",
       "      <td>729.000000</td>\n",
       "      <td>232.000000</td>\n",
       "    </tr>\n",
       "    <tr>\n",
       "      <th>max</th>\n",
       "      <td>50.000000</td>\n",
       "      <td>7.630000e+08</td>\n",
       "      <td>763.000000</td>\n",
       "      <td>900.000000</td>\n",
       "      <td>19.000000</td>\n",
       "      <td>100.000000</td>\n",
       "      <td>60.000000</td>\n",
       "      <td>409.700000</td>\n",
       "      <td>33.000000</td>\n",
       "      <td>112.000000</td>\n",
       "      <td>5.000000</td>\n",
       "      <td>84869.000000</td>\n",
       "      <td>65968.000000</td>\n",
       "      <td>3.000000</td>\n",
       "      <td>3190.000000</td>\n",
       "      <td>3.000000</td>\n",
       "      <td>1344.000000</td>\n",
       "      <td>1580.000000</td>\n",
       "    </tr>\n",
       "  </tbody>\n",
       "</table>\n",
       "</div>"
      ],
      "text/plain": [
       "       total_images    last_price  last_price_mln    total_area         rooms  \\\n",
       "count  23699.000000  2.369900e+04    23699.000000  23699.000000  23699.000000   \n",
       "mean       9.858475  6.541549e+06        6.541549     60.348651      2.070636   \n",
       "std        5.682529  1.088701e+07       10.887013     35.654083      1.078405   \n",
       "min        0.000000  1.219000e+04        0.012190     12.000000      0.000000   \n",
       "25%        6.000000  3.400000e+06        3.400000     40.000000      1.000000   \n",
       "50%        9.000000  4.650000e+06        4.650000     52.000000      2.000000   \n",
       "75%       14.000000  6.800000e+06        6.800000     69.900000      3.000000   \n",
       "max       50.000000  7.630000e+08      763.000000    900.000000     19.000000   \n",
       "\n",
       "       ceiling_height  floors_total   living_area         floor  kitchen_area  \\\n",
       "count    14504.000000  23613.000000  21796.000000  23699.000000  21421.000000   \n",
       "mean         2.771499     10.673824     34.457852      5.892358     10.569807   \n",
       "std          1.261056      6.597173     22.030445      4.885249      5.905438   \n",
       "min          1.000000      1.000000      2.000000      1.000000      1.300000   \n",
       "25%          2.520000      5.000000     18.600000      2.000000      7.000000   \n",
       "50%          2.650000      9.000000     30.000000      4.000000      9.100000   \n",
       "75%          2.800000     16.000000     42.300000      8.000000     12.000000   \n",
       "max        100.000000     60.000000    409.700000     33.000000    112.000000   \n",
       "\n",
       "            balcony  airports_nearest  cityCenters_nearest  parks_around3000  \\\n",
       "count  12180.000000      18157.000000         18180.000000      18181.000000   \n",
       "mean       1.150082      28793.672193         14191.277833          0.611408   \n",
       "std        1.071300      12630.880622          8608.386210          0.802074   \n",
       "min        0.000000          0.000000           181.000000          0.000000   \n",
       "25%        0.000000      18585.000000          9238.000000          0.000000   \n",
       "50%        1.000000      26726.000000         13098.500000          0.000000   \n",
       "75%        2.000000      37273.000000         16293.000000          1.000000   \n",
       "max        5.000000      84869.000000         65968.000000          3.000000   \n",
       "\n",
       "       parks_nearest  ponds_around3000  ponds_nearest  days_exposition  \n",
       "count    8079.000000      18181.000000    9110.000000     20518.000000  \n",
       "mean      490.804555          0.770255     517.980900       180.888634  \n",
       "std       342.317995          0.938346     277.720643       219.727988  \n",
       "min         1.000000          0.000000      13.000000         1.000000  \n",
       "25%       288.000000          0.000000     294.000000        45.000000  \n",
       "50%       455.000000          1.000000     502.000000        95.000000  \n",
       "75%       612.000000          1.000000     729.000000       232.000000  \n",
       "max      3190.000000          3.000000    1344.000000      1580.000000  "
      ]
     },
     "metadata": {},
     "output_type": "display_data"
    }
   ],
   "source": [
    "display(df.describe())"
   ]
  },
  {
   "cell_type": "markdown",
   "metadata": {},
   "source": [
    "Обращают на себя внимание следующие столбцы:\n",
    "- last_price: минимальные и максимальные значения вызывают подозрения: 12 тыс. и 763 млн руб. соответственно\n",
    "- total_area: 900 квадратных метров - очень много для квартиры\n",
    "- rooms: есть квартира(ы) с 19 комнатами, есть квартира(ы) с 0 комнатами - вероятно это студии. Проверим это далее.\n",
    "- ceiling_height: минимальные и максимальные значения в высоте потолков также вызывают подозрения (1 метр и 100 метров)\n",
    "- is_apartment: имеет тип object, хотя по своему смыслу это булево значение\n",
    "- Перечисленные далее столбцы имеют тип float64, но в этом нет никакой дополнительной ценности.\n",
    "    - balcony\n",
    "    - airports_nearest\n",
    "    - cityCenters_nearest \n",
    "    - parks_around3000\n",
    "    - parks_nearest\n",
    "    - ponds_around3000\n",
    "    - ponds_nearest\n",
    "    - days_exposition\n",
    "    - parks_around3000"
   ]
  },
  {
   "cell_type": "markdown",
   "metadata": {},
   "source": [
    "<b>Выводы</b>\n",
    "\n",
    "Данные включают статистику по 23 699 объявлениям. Есть множество пропусков в столбцах. Множество параметров, описанных выше, указывают, что некоторые объявления - ненастоящие, сделаны случайно, имеют технические ошибки, то есть являются выбросами. Также создается впечатление, что есть квартиры \"элитарного характера\", параметры которых не подчиняются общим правилам, применяемыми для остальных квартир."
   ]
  },
  {
   "cell_type": "markdown",
   "metadata": {},
   "source": [
    "### Предобработка данных"
   ]
  },
  {
   "cell_type": "markdown",
   "metadata": {},
   "source": [
    "Для начала построим гистограмму цен на квартиры"
   ]
  },
  {
   "cell_type": "code",
   "execution_count": 7,
   "metadata": {},
   "outputs": [
    {
     "data": {
      "image/png": "[encoded data removed]",
      "text/plain": [
       "<Figure size 432x288 with 1 Axes>"
      ]
     },
     "metadata": {
      "needs_background": "light"
     },
     "output_type": "display_data"
    }
   ],
   "source": [
    "plt.hist(df['last_price_mln'])\n",
    "plt.title('Гистограмма цен на квартиры', fontsize=15)\n",
    "plt.show()"
   ]
  },
  {
   "cell_type": "markdown",
   "metadata": {},
   "source": [
    "Такой график не информативный, тем не менее он еще раз напоминает нам о странных ценниках. Рассмотрим сначала самые высокие ценники"
   ]
  },
  {
   "cell_type": "code",
   "execution_count": 8,
   "metadata": {},
   "outputs": [
    {
     "data": {
      "image/png": "[encoded data removed]",
      "text/plain": [
       "<Figure size 432x288 with 1 Axes>"
      ]
     },
     "metadata": {
      "needs_background": "light"
     },
     "output_type": "display_data"
    }
   ],
   "source": [
    "plt.hist(df[df['last_price_mln'] > 100]['last_price_mln'])\n",
    "plt.title('Гистограмма цен на квартиры (свыше 100 млн руб.)', fontsize=12)\n",
    "plt.show()"
   ]
  },
  {
   "cell_type": "markdown",
   "metadata": {},
   "source": [
    "Подозрительно выглядят значения за пределами 700 млн руб."
   ]
  },
  {
   "cell_type": "code",
   "execution_count": 9,
   "metadata": {},
   "outputs": [
    {
     "data": {
      "text/html": [
       "<div>\n",
       "<style scoped>\n",
       "    .dataframe tbody tr th:only-of-type {\n",
       "        vertical-align: middle;\n",
       "    }\n",
       "\n",
       "    .dataframe tbody tr th {\n",
       "        vertical-align: top;\n",
       "    }\n",
       "\n",
       "    .dataframe thead th {\n",
       "        text-align: right;\n",
       "    }\n",
       "</style>\n",
       "<table border=\"1\" class=\"dataframe\">\n",
       "  <thead>\n",
       "    <tr style=\"text-align: right;\">\n",
       "      <th></th>\n",
       "      <th>total_images</th>\n",
       "      <th>last_price</th>\n",
       "      <th>last_price_mln</th>\n",
       "      <th>total_area</th>\n",
       "      <th>first_day_exposition</th>\n",
       "      <th>rooms</th>\n",
       "      <th>ceiling_height</th>\n",
       "      <th>floors_total</th>\n",
       "      <th>living_area</th>\n",
       "      <th>floor</th>\n",
       "      <th>is_apartment</th>\n",
       "      <th>studio</th>\n",
       "      <th>open_plan</th>\n",
       "      <th>kitchen_area</th>\n",
       "      <th>balcony</th>\n",
       "      <th>locality_name</th>\n",
       "      <th>airports_nearest</th>\n",
       "      <th>cityCenters_nearest</th>\n",
       "      <th>parks_around3000</th>\n",
       "      <th>parks_nearest</th>\n",
       "      <th>ponds_around3000</th>\n",
       "      <th>ponds_nearest</th>\n",
       "      <th>days_exposition</th>\n",
       "    </tr>\n",
       "  </thead>\n",
       "  <tbody>\n",
       "    <tr>\n",
       "      <th>12971</th>\n",
       "      <td>19</td>\n",
       "      <td>763000000.0</td>\n",
       "      <td>763.0</td>\n",
       "      <td>400.0</td>\n",
       "      <td>2017-09-30T00:00:00</td>\n",
       "      <td>7</td>\n",
       "      <td>NaN</td>\n",
       "      <td>10.0</td>\n",
       "      <td>250.0</td>\n",
       "      <td>10</td>\n",
       "      <td>NaN</td>\n",
       "      <td>False</td>\n",
       "      <td>False</td>\n",
       "      <td>NaN</td>\n",
       "      <td>2.0</td>\n",
       "      <td>Санкт-Петербург</td>\n",
       "      <td>25108.0</td>\n",
       "      <td>3956.0</td>\n",
       "      <td>1.0</td>\n",
       "      <td>530.0</td>\n",
       "      <td>3.0</td>\n",
       "      <td>756.0</td>\n",
       "      <td>33.0</td>\n",
       "    </tr>\n",
       "  </tbody>\n",
       "</table>\n",
       "</div>"
      ],
      "text/plain": [
       "       total_images   last_price  last_price_mln  total_area  \\\n",
       "12971            19  763000000.0           763.0       400.0   \n",
       "\n",
       "      first_day_exposition  rooms  ceiling_height  floors_total  living_area  \\\n",
       "12971  2017-09-30T00:00:00      7             NaN          10.0        250.0   \n",
       "\n",
       "       floor is_apartment  studio  open_plan  kitchen_area  balcony  \\\n",
       "12971     10          NaN   False      False           NaN      2.0   \n",
       "\n",
       "         locality_name  airports_nearest  cityCenters_nearest  \\\n",
       "12971  Санкт-Петербург           25108.0               3956.0   \n",
       "\n",
       "       parks_around3000  parks_nearest  ponds_around3000  ponds_nearest  \\\n",
       "12971               1.0          530.0               3.0          756.0   \n",
       "\n",
       "       days_exposition  \n",
       "12971             33.0  "
      ]
     },
     "metadata": {},
     "output_type": "display_data"
    }
   ],
   "source": [
    "display(df[df['last_price_mln'] > 700])"
   ]
  },
  {
   "cell_type": "markdown",
   "metadata": {},
   "source": [
    "763 млн руб. безусловно много для квартиры, но с учетом близости к центру и метража можно считать это возможным. Однако это индивидуальные предложения, неподчиняющиеся общим правилам, и для конечной цели определения параметров, влияющих на цену, это не подходит. Исключим из выборки."
   ]
  },
  {
   "cell_type": "code",
   "execution_count": 10,
   "metadata": {},
   "outputs": [],
   "source": [
    "df = df[df['last_price_mln'] < 700].reset_index(drop=True)"
   ]
  },
  {
   "cell_type": "code",
   "execution_count": 11,
   "metadata": {},
   "outputs": [
    {
     "data": {
      "text/plain": [
       "0"
      ]
     },
     "execution_count": 11,
     "metadata": {},
     "output_type": "execute_result"
    }
   ],
   "source": [
    "df[df['last_price_mln'] > 700].shape[0]"
   ]
  },
  {
   "cell_type": "code",
   "execution_count": 12,
   "metadata": {},
   "outputs": [
    {
     "data": {
      "image/png": "[encoded data removed]",
      "text/plain": [
       "<Figure size 432x288 with 1 Axes>"
      ]
     },
     "metadata": {
      "needs_background": "light"
     },
     "output_type": "display_data"
    }
   ],
   "source": [
    "plt.hist(df['last_price_mln'])\n",
    "plt.title('Гистограмма цен на квартиры', fontsize=15)\n",
    "plt.show()"
   ]
  },
  {
   "cell_type": "markdown",
   "metadata": {},
   "source": [
    "Рассмотрим подозрительно малые ценники"
   ]
  },
  {
   "cell_type": "code",
   "execution_count": 13,
   "metadata": {},
   "outputs": [
    {
     "data": {
      "image/png": "[encoded data removed]",
      "text/plain": [
       "<Figure size 432x288 with 1 Axes>"
      ]
     },
     "metadata": {
      "needs_background": "light"
     },
     "output_type": "display_data"
    }
   ],
   "source": [
    "plt.hist(df[df['last_price_mln'] < 1]['last_price_mln'])\n",
    "plt.title('Гистограмма цен на квартиры (ниже 1 млн руб.)', fontsize=12)\n",
    "plt.show()"
   ]
  },
  {
   "cell_type": "code",
   "execution_count": 14,
   "metadata": {},
   "outputs": [
    {
     "data": {
      "text/html": [
       "<div>\n",
       "<style scoped>\n",
       "    .dataframe tbody tr th:only-of-type {\n",
       "        vertical-align: middle;\n",
       "    }\n",
       "\n",
       "    .dataframe tbody tr th {\n",
       "        vertical-align: top;\n",
       "    }\n",
       "\n",
       "    .dataframe thead th {\n",
       "        text-align: right;\n",
       "    }\n",
       "</style>\n",
       "<table border=\"1\" class=\"dataframe\">\n",
       "  <thead>\n",
       "    <tr style=\"text-align: right;\">\n",
       "      <th></th>\n",
       "      <th>total_images</th>\n",
       "      <th>last_price</th>\n",
       "      <th>last_price_mln</th>\n",
       "      <th>total_area</th>\n",
       "      <th>first_day_exposition</th>\n",
       "      <th>rooms</th>\n",
       "      <th>ceiling_height</th>\n",
       "      <th>floors_total</th>\n",
       "      <th>living_area</th>\n",
       "      <th>floor</th>\n",
       "      <th>is_apartment</th>\n",
       "      <th>studio</th>\n",
       "      <th>open_plan</th>\n",
       "      <th>kitchen_area</th>\n",
       "      <th>balcony</th>\n",
       "      <th>locality_name</th>\n",
       "      <th>airports_nearest</th>\n",
       "      <th>cityCenters_nearest</th>\n",
       "      <th>parks_around3000</th>\n",
       "      <th>parks_nearest</th>\n",
       "      <th>ponds_around3000</th>\n",
       "      <th>ponds_nearest</th>\n",
       "      <th>days_exposition</th>\n",
       "    </tr>\n",
       "  </thead>\n",
       "  <tbody>\n",
       "    <tr>\n",
       "      <th>8793</th>\n",
       "      <td>7</td>\n",
       "      <td>12190.0</td>\n",
       "      <td>0.01219</td>\n",
       "      <td>109.0</td>\n",
       "      <td>2019-03-20T00:00:00</td>\n",
       "      <td>2</td>\n",
       "      <td>2.75</td>\n",
       "      <td>25.0</td>\n",
       "      <td>32.0</td>\n",
       "      <td>25</td>\n",
       "      <td>NaN</td>\n",
       "      <td>False</td>\n",
       "      <td>False</td>\n",
       "      <td>40.5</td>\n",
       "      <td>NaN</td>\n",
       "      <td>Санкт-Петербург</td>\n",
       "      <td>36421.0</td>\n",
       "      <td>9176.0</td>\n",
       "      <td>1.0</td>\n",
       "      <td>805.0</td>\n",
       "      <td>0.0</td>\n",
       "      <td>NaN</td>\n",
       "      <td>8.0</td>\n",
       "    </tr>\n",
       "  </tbody>\n",
       "</table>\n",
       "</div>"
      ],
      "text/plain": [
       "      total_images  last_price  last_price_mln  total_area  \\\n",
       "8793             7     12190.0         0.01219       109.0   \n",
       "\n",
       "     first_day_exposition  rooms  ceiling_height  floors_total  living_area  \\\n",
       "8793  2019-03-20T00:00:00      2            2.75          25.0         32.0   \n",
       "\n",
       "      floor is_apartment  studio  open_plan  kitchen_area  balcony  \\\n",
       "8793     25          NaN   False      False          40.5      NaN   \n",
       "\n",
       "        locality_name  airports_nearest  cityCenters_nearest  \\\n",
       "8793  Санкт-Петербург           36421.0               9176.0   \n",
       "\n",
       "      parks_around3000  parks_nearest  ponds_around3000  ponds_nearest  \\\n",
       "8793               1.0          805.0               0.0            NaN   \n",
       "\n",
       "      days_exposition  \n",
       "8793              8.0  "
      ]
     },
     "metadata": {},
     "output_type": "display_data"
    }
   ],
   "source": [
    "display(df[df['last_price_mln'] < 0.2])"
   ]
  },
  {
   "cell_type": "markdown",
   "metadata": {},
   "source": [
    "Возможно, это квартира не на продажу, а на съем. Избавимся."
   ]
  },
  {
   "cell_type": "code",
   "execution_count": 15,
   "metadata": {},
   "outputs": [],
   "source": [
    "df = df[(df['last_price_mln'] > 0.2) |\n",
    "        df['last_price_mln'].isna()].reset_index(drop=True)"
   ]
  },
  {
   "cell_type": "code",
   "execution_count": 16,
   "metadata": {},
   "outputs": [
    {
     "data": {
      "image/png": "[encoded data removed]",
      "text/plain": [
       "<Figure size 432x288 with 1 Axes>"
      ]
     },
     "metadata": {
      "needs_background": "light"
     },
     "output_type": "display_data"
    }
   ],
   "source": [
    "plt.hist(df[df['last_price_mln'] < 1]['last_price_mln'])\n",
    "plt.title('Гистограмма цен на квартиры (ниже 1 млн руб.)', fontsize=12)\n",
    "plt.show()"
   ]
  },
  {
   "cell_type": "markdown",
   "metadata": {},
   "source": [
    "#### Слишком низкие и высокие потолки"
   ]
  },
  {
   "cell_type": "code",
   "execution_count": 17,
   "metadata": {},
   "outputs": [
    {
     "data": {
      "image/png": "[encoded data removed]",
      "text/plain": [
       "<Figure size 432x288 with 1 Axes>"
      ]
     },
     "metadata": {
      "needs_background": "light"
     },
     "output_type": "display_data"
    }
   ],
   "source": [
    "plt.hist(df['ceiling_height'])\n",
    "plt.title('Гистограмма распределения высоты потолков')\n",
    "plt.show()"
   ]
  },
  {
   "cell_type": "markdown",
   "metadata": {},
   "source": [
    "Сначала рассмотрим слишком высокие потолки"
   ]
  },
  {
   "cell_type": "code",
   "execution_count": 18,
   "metadata": {},
   "outputs": [
    {
     "data": {
      "image/png": "[encoded data removed]",
      "text/plain": [
       "<Figure size 432x288 with 1 Axes>"
      ]
     },
     "metadata": {
      "needs_background": "light"
     },
     "output_type": "display_data"
    }
   ],
   "source": [
    "plt.hist(df[df['ceiling_height'] > 5]['ceiling_height'], bins=15)\n",
    "plt.title('Гистограмма распределения высоты потолков свыше 5 метров')\n",
    "plt.show()"
   ]
  },
  {
   "cell_type": "markdown",
   "metadata": {},
   "source": [
    "Что ж, можно смириться с потолками в 30+ метров, но не со 100"
   ]
  },
  {
   "cell_type": "code",
   "execution_count": 19,
   "metadata": {},
   "outputs": [
    {
     "data": {
      "text/html": [
       "<div>\n",
       "<style scoped>\n",
       "    .dataframe tbody tr th:only-of-type {\n",
       "        vertical-align: middle;\n",
       "    }\n",
       "\n",
       "    .dataframe tbody tr th {\n",
       "        vertical-align: top;\n",
       "    }\n",
       "\n",
       "    .dataframe thead th {\n",
       "        text-align: right;\n",
       "    }\n",
       "</style>\n",
       "<table border=\"1\" class=\"dataframe\">\n",
       "  <thead>\n",
       "    <tr style=\"text-align: right;\">\n",
       "      <th></th>\n",
       "      <th>total_images</th>\n",
       "      <th>last_price</th>\n",
       "      <th>last_price_mln</th>\n",
       "      <th>total_area</th>\n",
       "      <th>first_day_exposition</th>\n",
       "      <th>rooms</th>\n",
       "      <th>ceiling_height</th>\n",
       "      <th>floors_total</th>\n",
       "      <th>living_area</th>\n",
       "      <th>floor</th>\n",
       "      <th>is_apartment</th>\n",
       "      <th>studio</th>\n",
       "      <th>open_plan</th>\n",
       "      <th>kitchen_area</th>\n",
       "      <th>balcony</th>\n",
       "      <th>locality_name</th>\n",
       "      <th>airports_nearest</th>\n",
       "      <th>cityCenters_nearest</th>\n",
       "      <th>parks_around3000</th>\n",
       "      <th>parks_nearest</th>\n",
       "      <th>ponds_around3000</th>\n",
       "      <th>ponds_nearest</th>\n",
       "      <th>days_exposition</th>\n",
       "    </tr>\n",
       "  </thead>\n",
       "  <tbody>\n",
       "    <tr>\n",
       "      <th>22867</th>\n",
       "      <td>0</td>\n",
       "      <td>15000000.0</td>\n",
       "      <td>15.0</td>\n",
       "      <td>25.0</td>\n",
       "      <td>2018-07-25T00:00:00</td>\n",
       "      <td>1</td>\n",
       "      <td>100.0</td>\n",
       "      <td>5.0</td>\n",
       "      <td>14.0</td>\n",
       "      <td>5</td>\n",
       "      <td>True</td>\n",
       "      <td>False</td>\n",
       "      <td>False</td>\n",
       "      <td>11.0</td>\n",
       "      <td>5.0</td>\n",
       "      <td>Санкт-Петербург</td>\n",
       "      <td>34963.0</td>\n",
       "      <td>8283.0</td>\n",
       "      <td>1.0</td>\n",
       "      <td>223.0</td>\n",
       "      <td>3.0</td>\n",
       "      <td>30.0</td>\n",
       "      <td>19.0</td>\n",
       "    </tr>\n",
       "  </tbody>\n",
       "</table>\n",
       "</div>"
      ],
      "text/plain": [
       "       total_images  last_price  last_price_mln  total_area  \\\n",
       "22867             0  15000000.0            15.0        25.0   \n",
       "\n",
       "      first_day_exposition  rooms  ceiling_height  floors_total  living_area  \\\n",
       "22867  2018-07-25T00:00:00      1           100.0           5.0         14.0   \n",
       "\n",
       "       floor is_apartment  studio  open_plan  kitchen_area  balcony  \\\n",
       "22867      5         True   False      False          11.0      5.0   \n",
       "\n",
       "         locality_name  airports_nearest  cityCenters_nearest  \\\n",
       "22867  Санкт-Петербург           34963.0               8283.0   \n",
       "\n",
       "       parks_around3000  parks_nearest  ponds_around3000  ponds_nearest  \\\n",
       "22867               1.0          223.0               3.0           30.0   \n",
       "\n",
       "       days_exposition  \n",
       "22867             19.0  "
      ]
     },
     "metadata": {},
     "output_type": "display_data"
    }
   ],
   "source": [
    "display(df[df['ceiling_height'] > 90])"
   ]
  },
  {
   "cell_type": "markdown",
   "metadata": {},
   "source": [
    "Изображений нет, понимания, что это, тоже. Избавимся."
   ]
  },
  {
   "cell_type": "code",
   "execution_count": 20,
   "metadata": {},
   "outputs": [],
   "source": [
    "df = df[(df['ceiling_height'] < 90) |\n",
    "        df['ceiling_height'].isna()].reset_index(drop=True)"
   ]
  },
  {
   "cell_type": "code",
   "execution_count": 21,
   "metadata": {},
   "outputs": [
    {
     "data": {
      "image/png": "[encoded data removed]",
      "text/plain": [
       "<Figure size 432x288 with 1 Axes>"
      ]
     },
     "metadata": {
      "needs_background": "light"
     },
     "output_type": "display_data"
    }
   ],
   "source": [
    "plt.hist(df['ceiling_height'])\n",
    "plt.title('Гистограмма распределения высоты потолков')\n",
    "plt.show()"
   ]
  },
  {
   "cell_type": "markdown",
   "metadata": {},
   "source": [
    "Рассмотрим слишком низкие потолки"
   ]
  },
  {
   "cell_type": "code",
   "execution_count": 22,
   "metadata": {},
   "outputs": [
    {
     "data": {
      "image/png": "[encoded data removed]",
      "text/plain": [
       "<Figure size 432x288 with 1 Axes>"
      ]
     },
     "metadata": {
      "needs_background": "light"
     },
     "output_type": "display_data"
    }
   ],
   "source": [
    "plt.hist(df[df['ceiling_height'] < 2]['ceiling_height'], bins=15)\n",
    "plt.title('Гистограмма распределения высоты потолков ниже 2 метров')\n",
    "plt.show()"
   ]
  },
  {
   "cell_type": "markdown",
   "metadata": {},
   "source": [
    "Все это выглядит подозрительно."
   ]
  },
  {
   "cell_type": "code",
   "execution_count": 23,
   "metadata": {},
   "outputs": [],
   "source": [
    "df = df[(df['ceiling_height'] > 2) |\n",
    "        df['ceiling_height'].isna()].reset_index(drop=True)"
   ]
  },
  {
   "cell_type": "markdown",
   "metadata": {},
   "source": [
    "#### Объявления о квартирах с минимальным размером площади"
   ]
  },
  {
   "cell_type": "code",
   "execution_count": 24,
   "metadata": {},
   "outputs": [
    {
     "data": {
      "image/png": "[encoded data removed]",
      "text/plain": [
       "<Figure size 432x288 with 1 Axes>"
      ]
     },
     "metadata": {
      "needs_background": "light"
     },
     "output_type": "display_data"
    }
   ],
   "source": [
    "plt.hist(df[df['total_area'] < 20]['total_area'], bins=15)\n",
    "plt.title('Гистограмма распределения плоащдей ниже 20 метров')\n",
    "plt.show()"
   ]
  },
  {
   "cell_type": "markdown",
   "metadata": {},
   "source": [
    "Избавимся от квартир площадью меньше 17 метров"
   ]
  },
  {
   "cell_type": "code",
   "execution_count": 25,
   "metadata": {},
   "outputs": [],
   "source": [
    "df = df[(df['total_area'] > 17) |\n",
    "        df['total_area'].isna()].reset_index(drop=True)"
   ]
  },
  {
   "cell_type": "markdown",
   "metadata": {},
   "source": [
    "#### Объявления о квартирах без единой комнаты"
   ]
  },
  {
   "cell_type": "markdown",
   "metadata": {},
   "source": [
    "Отдельно рассмотрим объевления с квартирами без единой комнаты, так как в дальнейшем следует понимать, что они из себя представляют."
   ]
  },
  {
   "cell_type": "code",
   "execution_count": 26,
   "metadata": {},
   "outputs": [
    {
     "data": {
      "text/plain": [
       "True     136\n",
       "False     58\n",
       "Name: studio, dtype: int64"
      ]
     },
     "execution_count": 26,
     "metadata": {},
     "output_type": "execute_result"
    }
   ],
   "source": [
    "df[df['rooms'] == 0]['studio'].value_counts()"
   ]
  },
  {
   "cell_type": "markdown",
   "metadata": {},
   "source": [
    "Попробуем рассмотреть дальше, что представляют собой 59 квартир - не студий, но с 0 комнатами"
   ]
  },
  {
   "cell_type": "code",
   "execution_count": 27,
   "metadata": {},
   "outputs": [
    {
     "data": {
      "text/html": [
       "<div>\n",
       "<style scoped>\n",
       "    .dataframe tbody tr th:only-of-type {\n",
       "        vertical-align: middle;\n",
       "    }\n",
       "\n",
       "    .dataframe tbody tr th {\n",
       "        vertical-align: top;\n",
       "    }\n",
       "\n",
       "    .dataframe thead th {\n",
       "        text-align: right;\n",
       "    }\n",
       "</style>\n",
       "<table border=\"1\" class=\"dataframe\">\n",
       "  <thead>\n",
       "    <tr style=\"text-align: right;\">\n",
       "      <th></th>\n",
       "      <th>total_images</th>\n",
       "      <th>last_price</th>\n",
       "      <th>last_price_mln</th>\n",
       "      <th>total_area</th>\n",
       "      <th>first_day_exposition</th>\n",
       "      <th>rooms</th>\n",
       "      <th>ceiling_height</th>\n",
       "      <th>floors_total</th>\n",
       "      <th>living_area</th>\n",
       "      <th>floor</th>\n",
       "      <th>is_apartment</th>\n",
       "      <th>studio</th>\n",
       "      <th>open_plan</th>\n",
       "      <th>kitchen_area</th>\n",
       "      <th>balcony</th>\n",
       "      <th>locality_name</th>\n",
       "      <th>airports_nearest</th>\n",
       "      <th>cityCenters_nearest</th>\n",
       "      <th>parks_around3000</th>\n",
       "      <th>parks_nearest</th>\n",
       "      <th>ponds_around3000</th>\n",
       "      <th>ponds_nearest</th>\n",
       "      <th>days_exposition</th>\n",
       "    </tr>\n",
       "  </thead>\n",
       "  <tbody>\n",
       "    <tr>\n",
       "      <th>349</th>\n",
       "      <td>4</td>\n",
       "      <td>2320000.0</td>\n",
       "      <td>2.320</td>\n",
       "      <td>25.0</td>\n",
       "      <td>2017-09-27T00:00:00</td>\n",
       "      <td>0</td>\n",
       "      <td>NaN</td>\n",
       "      <td>14.0</td>\n",
       "      <td>17.0</td>\n",
       "      <td>1</td>\n",
       "      <td>NaN</td>\n",
       "      <td>False</td>\n",
       "      <td>True</td>\n",
       "      <td>NaN</td>\n",
       "      <td>0.0</td>\n",
       "      <td>деревня Кудрово</td>\n",
       "      <td>NaN</td>\n",
       "      <td>NaN</td>\n",
       "      <td>NaN</td>\n",
       "      <td>NaN</td>\n",
       "      <td>NaN</td>\n",
       "      <td>NaN</td>\n",
       "      <td>45.0</td>\n",
       "    </tr>\n",
       "    <tr>\n",
       "      <th>508</th>\n",
       "      <td>0</td>\n",
       "      <td>3375000.0</td>\n",
       "      <td>3.375</td>\n",
       "      <td>34.4</td>\n",
       "      <td>2017-03-28T00:00:00</td>\n",
       "      <td>0</td>\n",
       "      <td>NaN</td>\n",
       "      <td>26.0</td>\n",
       "      <td>24.3</td>\n",
       "      <td>19</td>\n",
       "      <td>NaN</td>\n",
       "      <td>False</td>\n",
       "      <td>True</td>\n",
       "      <td>NaN</td>\n",
       "      <td>1.0</td>\n",
       "      <td>посёлок Парголово</td>\n",
       "      <td>53115.0</td>\n",
       "      <td>19292.0</td>\n",
       "      <td>0.0</td>\n",
       "      <td>NaN</td>\n",
       "      <td>1.0</td>\n",
       "      <td>593.0</td>\n",
       "      <td>430.0</td>\n",
       "    </tr>\n",
       "    <tr>\n",
       "      <th>778</th>\n",
       "      <td>9</td>\n",
       "      <td>2600000.0</td>\n",
       "      <td>2.600</td>\n",
       "      <td>26.1</td>\n",
       "      <td>2018-02-20T00:00:00</td>\n",
       "      <td>0</td>\n",
       "      <td>NaN</td>\n",
       "      <td>18.0</td>\n",
       "      <td>NaN</td>\n",
       "      <td>8</td>\n",
       "      <td>NaN</td>\n",
       "      <td>False</td>\n",
       "      <td>True</td>\n",
       "      <td>NaN</td>\n",
       "      <td>1.0</td>\n",
       "      <td>посёлок Мурино</td>\n",
       "      <td>NaN</td>\n",
       "      <td>NaN</td>\n",
       "      <td>NaN</td>\n",
       "      <td>NaN</td>\n",
       "      <td>NaN</td>\n",
       "      <td>NaN</td>\n",
       "      <td>45.0</td>\n",
       "    </tr>\n",
       "    <tr>\n",
       "      <th>837</th>\n",
       "      <td>14</td>\n",
       "      <td>1900000.0</td>\n",
       "      <td>1.900</td>\n",
       "      <td>35.0</td>\n",
       "      <td>2017-04-14T00:00:00</td>\n",
       "      <td>0</td>\n",
       "      <td>2.7</td>\n",
       "      <td>5.0</td>\n",
       "      <td>15.0</td>\n",
       "      <td>3</td>\n",
       "      <td>False</td>\n",
       "      <td>False</td>\n",
       "      <td>True</td>\n",
       "      <td>NaN</td>\n",
       "      <td>1.0</td>\n",
       "      <td>поселок Новый Свет</td>\n",
       "      <td>NaN</td>\n",
       "      <td>NaN</td>\n",
       "      <td>NaN</td>\n",
       "      <td>NaN</td>\n",
       "      <td>NaN</td>\n",
       "      <td>NaN</td>\n",
       "      <td>7.0</td>\n",
       "    </tr>\n",
       "    <tr>\n",
       "      <th>944</th>\n",
       "      <td>5</td>\n",
       "      <td>2200000.0</td>\n",
       "      <td>2.200</td>\n",
       "      <td>23.0</td>\n",
       "      <td>2016-09-27T00:00:00</td>\n",
       "      <td>0</td>\n",
       "      <td>NaN</td>\n",
       "      <td>27.0</td>\n",
       "      <td>18.0</td>\n",
       "      <td>7</td>\n",
       "      <td>NaN</td>\n",
       "      <td>False</td>\n",
       "      <td>True</td>\n",
       "      <td>NaN</td>\n",
       "      <td>2.0</td>\n",
       "      <td>посёлок Мурино</td>\n",
       "      <td>NaN</td>\n",
       "      <td>NaN</td>\n",
       "      <td>NaN</td>\n",
       "      <td>NaN</td>\n",
       "      <td>NaN</td>\n",
       "      <td>NaN</td>\n",
       "      <td>483.0</td>\n",
       "    </tr>\n",
       "  </tbody>\n",
       "</table>\n",
       "</div>"
      ],
      "text/plain": [
       "     total_images  last_price  last_price_mln  total_area  \\\n",
       "349             4   2320000.0           2.320        25.0   \n",
       "508             0   3375000.0           3.375        34.4   \n",
       "778             9   2600000.0           2.600        26.1   \n",
       "837            14   1900000.0           1.900        35.0   \n",
       "944             5   2200000.0           2.200        23.0   \n",
       "\n",
       "    first_day_exposition  rooms  ceiling_height  floors_total  living_area  \\\n",
       "349  2017-09-27T00:00:00      0             NaN          14.0         17.0   \n",
       "508  2017-03-28T00:00:00      0             NaN          26.0         24.3   \n",
       "778  2018-02-20T00:00:00      0             NaN          18.0          NaN   \n",
       "837  2017-04-14T00:00:00      0             2.7           5.0         15.0   \n",
       "944  2016-09-27T00:00:00      0             NaN          27.0         18.0   \n",
       "\n",
       "     floor is_apartment  studio  open_plan  kitchen_area  balcony  \\\n",
       "349      1          NaN   False       True           NaN      0.0   \n",
       "508     19          NaN   False       True           NaN      1.0   \n",
       "778      8          NaN   False       True           NaN      1.0   \n",
       "837      3        False   False       True           NaN      1.0   \n",
       "944      7          NaN   False       True           NaN      2.0   \n",
       "\n",
       "          locality_name  airports_nearest  cityCenters_nearest  \\\n",
       "349     деревня Кудрово               NaN                  NaN   \n",
       "508   посёлок Парголово           53115.0              19292.0   \n",
       "778      посёлок Мурино               NaN                  NaN   \n",
       "837  поселок Новый Свет               NaN                  NaN   \n",
       "944      посёлок Мурино               NaN                  NaN   \n",
       "\n",
       "     parks_around3000  parks_nearest  ponds_around3000  ponds_nearest  \\\n",
       "349               NaN            NaN               NaN            NaN   \n",
       "508               0.0            NaN               1.0          593.0   \n",
       "778               NaN            NaN               NaN            NaN   \n",
       "837               NaN            NaN               NaN            NaN   \n",
       "944               NaN            NaN               NaN            NaN   \n",
       "\n",
       "     days_exposition  \n",
       "349             45.0  \n",
       "508            430.0  \n",
       "778             45.0  \n",
       "837              7.0  \n",
       "944            483.0  "
      ]
     },
     "metadata": {},
     "output_type": "display_data"
    }
   ],
   "source": [
    "display(df[(df['rooms'] == 0) & (df['studio'] == False)].head(5))"
   ]
  },
  {
   "cell_type": "markdown",
   "metadata": {},
   "source": [
    "Скорее всего, это просто квартиры с открытой планировкой."
   ]
  },
  {
   "cell_type": "code",
   "execution_count": 28,
   "metadata": {},
   "outputs": [
    {
     "data": {
      "text/plain": [
       "True    58\n",
       "Name: open_plan, dtype: int64"
      ]
     },
     "metadata": {},
     "output_type": "display_data"
    }
   ],
   "source": [
    "display(df[(df['rooms'] == 0) & (df['studio'] == False)]\n",
    "        ['open_plan'].value_counts())"
   ]
  },
  {
   "cell_type": "markdown",
   "metadata": {},
   "source": [
    "Мы подтвердили, что все квартиры с 0 комнатами или являются квартирами-студиями или имеют открытую планировку"
   ]
  },
  {
   "cell_type": "code",
   "execution_count": 29,
   "metadata": {},
   "outputs": [
    {
     "name": "stdout",
     "output_type": "stream",
     "text": [
      "<class 'pandas.core.frame.DataFrame'>\n",
      "RangeIndex: 23670 entries, 0 to 23669\n",
      "Data columns (total 23 columns):\n",
      " #   Column                Non-Null Count  Dtype  \n",
      "---  ------                --------------  -----  \n",
      " 0   total_images          23670 non-null  int64  \n",
      " 1   last_price            23670 non-null  float64\n",
      " 2   last_price_mln        23670 non-null  float64\n",
      " 3   total_area            23670 non-null  float64\n",
      " 4   first_day_exposition  23670 non-null  object \n",
      " 5   rooms                 23670 non-null  int64  \n",
      " 6   ceiling_height        14481 non-null  float64\n",
      " 7   floors_total          23584 non-null  float64\n",
      " 8   living_area           21774 non-null  float64\n",
      " 9   floor                 23670 non-null  int64  \n",
      " 10  is_apartment          2771 non-null   object \n",
      " 11  studio                23670 non-null  bool   \n",
      " 12  open_plan             23670 non-null  bool   \n",
      " 13  kitchen_area          21405 non-null  float64\n",
      " 14  balcony               12173 non-null  float64\n",
      " 15  locality_name         23621 non-null  object \n",
      " 16  airports_nearest      18138 non-null  float64\n",
      " 17  cityCenters_nearest   18161 non-null  float64\n",
      " 18  parks_around3000      18162 non-null  float64\n",
      " 19  parks_nearest         8068 non-null   float64\n",
      " 20  ponds_around3000      18162 non-null  float64\n",
      " 21  ponds_nearest         9097 non-null   float64\n",
      " 22  days_exposition       20492 non-null  float64\n",
      "dtypes: bool(2), float64(15), int64(3), object(3)\n",
      "memory usage: 3.8+ MB\n"
     ]
    },
    {
     "data": {
      "text/plain": [
       "None"
      ]
     },
     "metadata": {},
     "output_type": "display_data"
    }
   ],
   "source": [
    "display(df.info())"
   ]
  },
  {
   "cell_type": "markdown",
   "metadata": {},
   "source": [
    "В выборке было 23 699 значений, стало 23670"
   ]
  },
  {
   "cell_type": "markdown",
   "metadata": {},
   "source": [
    "### Обработка пропусков"
   ]
  },
  {
   "cell_type": "markdown",
   "metadata": {},
   "source": [
    "Для начала посмотрим, где есть пропуски"
   ]
  },
  {
   "cell_type": "code",
   "execution_count": 30,
   "metadata": {},
   "outputs": [
    {
     "data": {
      "text/html": [
       "<div>\n",
       "<style scoped>\n",
       "    .dataframe tbody tr th:only-of-type {\n",
       "        vertical-align: middle;\n",
       "    }\n",
       "\n",
       "    .dataframe tbody tr th {\n",
       "        vertical-align: top;\n",
       "    }\n",
       "\n",
       "    .dataframe thead th {\n",
       "        text-align: right;\n",
       "    }\n",
       "</style>\n",
       "<table border=\"1\" class=\"dataframe\">\n",
       "  <thead>\n",
       "    <tr style=\"text-align: right;\">\n",
       "      <th></th>\n",
       "      <th>missing_values</th>\n",
       "      <th>% of total</th>\n",
       "    </tr>\n",
       "  </thead>\n",
       "  <tbody>\n",
       "    <tr>\n",
       "      <th>total_images</th>\n",
       "      <td>0</td>\n",
       "      <td>0.00</td>\n",
       "    </tr>\n",
       "    <tr>\n",
       "      <th>last_price</th>\n",
       "      <td>0</td>\n",
       "      <td>0.00</td>\n",
       "    </tr>\n",
       "    <tr>\n",
       "      <th>last_price_mln</th>\n",
       "      <td>0</td>\n",
       "      <td>0.00</td>\n",
       "    </tr>\n",
       "    <tr>\n",
       "      <th>total_area</th>\n",
       "      <td>0</td>\n",
       "      <td>0.00</td>\n",
       "    </tr>\n",
       "    <tr>\n",
       "      <th>first_day_exposition</th>\n",
       "      <td>0</td>\n",
       "      <td>0.00</td>\n",
       "    </tr>\n",
       "    <tr>\n",
       "      <th>rooms</th>\n",
       "      <td>0</td>\n",
       "      <td>0.00</td>\n",
       "    </tr>\n",
       "    <tr>\n",
       "      <th>ceiling_height</th>\n",
       "      <td>9189</td>\n",
       "      <td>0.39</td>\n",
       "    </tr>\n",
       "    <tr>\n",
       "      <th>floors_total</th>\n",
       "      <td>86</td>\n",
       "      <td>0.00</td>\n",
       "    </tr>\n",
       "    <tr>\n",
       "      <th>living_area</th>\n",
       "      <td>1896</td>\n",
       "      <td>0.08</td>\n",
       "    </tr>\n",
       "    <tr>\n",
       "      <th>floor</th>\n",
       "      <td>0</td>\n",
       "      <td>0.00</td>\n",
       "    </tr>\n",
       "    <tr>\n",
       "      <th>is_apartment</th>\n",
       "      <td>20899</td>\n",
       "      <td>0.88</td>\n",
       "    </tr>\n",
       "    <tr>\n",
       "      <th>studio</th>\n",
       "      <td>0</td>\n",
       "      <td>0.00</td>\n",
       "    </tr>\n",
       "    <tr>\n",
       "      <th>open_plan</th>\n",
       "      <td>0</td>\n",
       "      <td>0.00</td>\n",
       "    </tr>\n",
       "    <tr>\n",
       "      <th>kitchen_area</th>\n",
       "      <td>2265</td>\n",
       "      <td>0.10</td>\n",
       "    </tr>\n",
       "    <tr>\n",
       "      <th>balcony</th>\n",
       "      <td>11497</td>\n",
       "      <td>0.49</td>\n",
       "    </tr>\n",
       "    <tr>\n",
       "      <th>locality_name</th>\n",
       "      <td>49</td>\n",
       "      <td>0.00</td>\n",
       "    </tr>\n",
       "    <tr>\n",
       "      <th>airports_nearest</th>\n",
       "      <td>5532</td>\n",
       "      <td>0.23</td>\n",
       "    </tr>\n",
       "    <tr>\n",
       "      <th>cityCenters_nearest</th>\n",
       "      <td>5509</td>\n",
       "      <td>0.23</td>\n",
       "    </tr>\n",
       "    <tr>\n",
       "      <th>parks_around3000</th>\n",
       "      <td>5508</td>\n",
       "      <td>0.23</td>\n",
       "    </tr>\n",
       "    <tr>\n",
       "      <th>parks_nearest</th>\n",
       "      <td>15602</td>\n",
       "      <td>0.66</td>\n",
       "    </tr>\n",
       "    <tr>\n",
       "      <th>ponds_around3000</th>\n",
       "      <td>5508</td>\n",
       "      <td>0.23</td>\n",
       "    </tr>\n",
       "    <tr>\n",
       "      <th>ponds_nearest</th>\n",
       "      <td>14573</td>\n",
       "      <td>0.62</td>\n",
       "    </tr>\n",
       "    <tr>\n",
       "      <th>days_exposition</th>\n",
       "      <td>3178</td>\n",
       "      <td>0.13</td>\n",
       "    </tr>\n",
       "  </tbody>\n",
       "</table>\n",
       "</div>"
      ],
      "text/plain": [
       "                      missing_values  % of total\n",
       "total_images                       0        0.00\n",
       "last_price                         0        0.00\n",
       "last_price_mln                     0        0.00\n",
       "total_area                         0        0.00\n",
       "first_day_exposition               0        0.00\n",
       "rooms                              0        0.00\n",
       "ceiling_height                  9189        0.39\n",
       "floors_total                      86        0.00\n",
       "living_area                     1896        0.08\n",
       "floor                              0        0.00\n",
       "is_apartment                   20899        0.88\n",
       "studio                             0        0.00\n",
       "open_plan                          0        0.00\n",
       "kitchen_area                    2265        0.10\n",
       "balcony                        11497        0.49\n",
       "locality_name                     49        0.00\n",
       "airports_nearest                5532        0.23\n",
       "cityCenters_nearest             5509        0.23\n",
       "parks_around3000                5508        0.23\n",
       "parks_nearest                  15602        0.66\n",
       "ponds_around3000                5508        0.23\n",
       "ponds_nearest                  14573        0.62\n",
       "days_exposition                 3178        0.13"
      ]
     },
     "metadata": {},
     "output_type": "display_data"
    }
   ],
   "source": [
    "report = df.isna().sum().to_frame()\n",
    "report = report.rename(columns={0: 'missing_values'})\n",
    "report['% of total'] = (report['missing_values'] / df.shape[0]).round(2)\n",
    "report.sort_values(by='missing_values', ascending=False)\n",
    "display(report)"
   ]
  },
  {
   "cell_type": "markdown",
   "metadata": {},
   "source": [
    "#### ceiling_height"
   ]
  },
  {
   "cell_type": "markdown",
   "metadata": {},
   "source": [
    "Мы видим пропуски в столбце \"ceiling_height\". \n",
    "У нас есть несколько вариантов действия:\n",
    "1. оставить пропуски, как есть\n",
    "2. найти какие-то взаимосвязи в существующих данных и заполнить пропуски на их основании\n",
    "3. заполнить медианным, средним или наиболее часто встречаемым значением, то есть модой"
   ]
  },
  {
   "cell_type": "code",
   "execution_count": 31,
   "metadata": {},
   "outputs": [
    {
     "data": {
      "text/plain": [
       "NaN     9189\n",
       "2.50    3514\n",
       "2.60    1645\n",
       "2.70    1572\n",
       "3.00    1112\n",
       "2.80     993\n",
       "2.55     979\n",
       "2.75     908\n",
       "2.65     676\n",
       "3.20     277\n",
       "Name: ceiling_height, dtype: int64"
      ]
     },
     "execution_count": 31,
     "metadata": {},
     "output_type": "execute_result"
    }
   ],
   "source": [
    "df['ceiling_height'].value_counts(dropna=False).head(10)"
   ]
  },
  {
   "cell_type": "code",
   "execution_count": 32,
   "metadata": {},
   "outputs": [
    {
     "data": {
      "image/png": "[encoded data removed]",
      "text/plain": [
       "<Figure size 432x288 with 1 Axes>"
      ]
     },
     "metadata": {
      "needs_background": "light"
     },
     "output_type": "display_data"
    }
   ],
   "source": [
    "df['ceiling_height'].hist(range=(2, 5), bins=15)\n",
    "plt.title('Гистограмма распрелеления высоты потолков', fontsize=15)\n",
    "plt.show()"
   ]
  },
  {
   "cell_type": "code",
   "execution_count": 33,
   "metadata": {},
   "outputs": [
    {
     "data": {
      "text/plain": [
       "total_images           0.009670\n",
       "last_price             0.105434\n",
       "last_price_mln         0.105434\n",
       "total_area             0.130976\n",
       "rooms                  0.077805\n",
       "ceiling_height         1.000000\n",
       "floors_total          -0.031599\n",
       "living_area            0.124717\n",
       "floor                 -0.014541\n",
       "studio                 0.002700\n",
       "open_plan              0.055908\n",
       "kitchen_area           0.118157\n",
       "balcony                0.017194\n",
       "airports_nearest      -0.040066\n",
       "cityCenters_nearest   -0.128062\n",
       "parks_around3000       0.092694\n",
       "parks_nearest         -0.019139\n",
       "ponds_around3000       0.092142\n",
       "ponds_nearest         -0.073044\n",
       "days_exposition        0.033204\n",
       "Name: ceiling_height, dtype: float64"
      ]
     },
     "execution_count": 33,
     "metadata": {},
     "output_type": "execute_result"
    }
   ],
   "source": [
    "df.corr()['ceiling_height']"
   ]
  },
  {
   "cell_type": "markdown",
   "metadata": {},
   "source": [
    "Существенной корреляции высоты потолков с другими столбцами не обнаружено. Здравый смысл подсказывает, что потолки могут зависить, в первую очередь, от года постройки здания (и конечно от города, этажности здания, близости к центру, но опять же при условии наличия года постройки). Такой информации у нас нет.\n",
    "Оставим значения как есть."
   ]
  },
  {
   "cell_type": "markdown",
   "metadata": {},
   "source": [
    "#### floors_total"
   ]
  },
  {
   "cell_type": "code",
   "execution_count": 34,
   "metadata": {},
   "outputs": [
    {
     "name": "stdout",
     "output_type": "stream",
     "text": [
      "total_images                0\n",
      "last_price                  0\n",
      "last_price_mln              0\n",
      "total_area                  0\n",
      "first_day_exposition        0\n",
      "rooms                       0\n",
      "ceiling_height           9189\n",
      "floors_total               86\n",
      "living_area              1896\n",
      "floor                       0\n",
      "is_apartment            20899\n",
      "studio                      0\n",
      "open_plan                   0\n",
      "kitchen_area             2265\n",
      "balcony                 11497\n",
      "locality_name              49\n",
      "airports_nearest         5532\n",
      "cityCenters_nearest      5509\n",
      "parks_around3000         5508\n",
      "parks_nearest           15602\n",
      "ponds_around3000         5508\n",
      "ponds_nearest           14573\n",
      "days_exposition          3178\n",
      "dtype: int64\n"
     ]
    }
   ],
   "source": [
    "print(df.isna().sum())"
   ]
  },
  {
   "cell_type": "markdown",
   "metadata": {},
   "source": [
    "Пропусков в столбце не очень много - 86."
   ]
  },
  {
   "cell_type": "code",
   "execution_count": 35,
   "metadata": {},
   "outputs": [
    {
     "data": {
      "text/plain": [
       "total_images             0\n",
       "last_price               0\n",
       "last_price_mln           0\n",
       "total_area               0\n",
       "first_day_exposition     0\n",
       "rooms                    0\n",
       "ceiling_height          77\n",
       "floors_total            86\n",
       "living_area             33\n",
       "floor                    0\n",
       "is_apartment            86\n",
       "studio                   0\n",
       "open_plan                0\n",
       "kitchen_area            47\n",
       "balcony                 39\n",
       "locality_name            1\n",
       "airports_nearest        10\n",
       "cityCenters_nearest     10\n",
       "parks_around3000        10\n",
       "parks_nearest           52\n",
       "ponds_around3000        10\n",
       "ponds_nearest           37\n",
       "days_exposition          9\n",
       "dtype: int64"
      ]
     },
     "execution_count": 35,
     "metadata": {},
     "output_type": "execute_result"
    }
   ],
   "source": [
    "df[df['floors_total'].isna()].isna().sum()"
   ]
  },
  {
   "cell_type": "code",
   "execution_count": 36,
   "metadata": {},
   "outputs": [
    {
     "name": "stdout",
     "output_type": "stream",
     "text": [
      "Доля строк с пропущенным значениям общего кол-ва этажей: 0.36%\n"
     ]
    }
   ],
   "source": [
    "print('Доля строк с пропущенным значениям общего кол-ва этажей:',\n",
    "      '{:.2%}'.format(86/len(df)))"
   ]
  },
  {
   "cell_type": "markdown",
   "metadata": {},
   "source": [
    "Удалим данные строки"
   ]
  },
  {
   "cell_type": "code",
   "execution_count": 37,
   "metadata": {},
   "outputs": [
    {
     "name": "stdout",
     "output_type": "stream",
     "text": [
      "total_images                0\n",
      "last_price                  0\n",
      "last_price_mln              0\n",
      "total_area                  0\n",
      "first_day_exposition        0\n",
      "rooms                       0\n",
      "ceiling_height           9112\n",
      "floors_total                0\n",
      "living_area              1863\n",
      "floor                       0\n",
      "is_apartment            20813\n",
      "studio                      0\n",
      "open_plan                   0\n",
      "kitchen_area             2218\n",
      "balcony                 11458\n",
      "locality_name              48\n",
      "airports_nearest         5522\n",
      "cityCenters_nearest      5499\n",
      "parks_around3000         5498\n",
      "parks_nearest           15550\n",
      "ponds_around3000         5498\n",
      "ponds_nearest           14536\n",
      "days_exposition          3169\n",
      "dtype: int64\n"
     ]
    }
   ],
   "source": [
    "df.dropna(subset=['floors_total'], inplace=True)\n",
    "print(df.isna().sum())"
   ]
  },
  {
   "cell_type": "markdown",
   "metadata": {},
   "source": [
    "#### living_area"
   ]
  },
  {
   "cell_type": "markdown",
   "metadata": {},
   "source": [
    "Предполагаем, что итоговая площадь квартиры равная сумме площадей кухни, жилой площади, плоащди коридоров, балконов и санузлов. Соответственно сумма площадей кухни и жилой площади должна быть не больше итоговой площади. Рассчитаем размер \"прочей площади\" с использованием 'sub' во избежание возникновения NaN."
   ]
  },
  {
   "cell_type": "code",
   "execution_count": 38,
   "metadata": {},
   "outputs": [
    {
     "data": {
      "image/png": "[encoded data removed]",
      "text/plain": [
       "<Figure size 432x288 with 1 Axes>"
      ]
     },
     "metadata": {
      "needs_background": "light"
     },
     "output_type": "display_data"
    }
   ],
   "source": [
    "df['other_area'] = df['total_area'].sub(\n",
    "    df['kitchen_area'], fill_value=0).sub(df['living_area'], fill_value=0)\n",
    "df['other_area'].hist(bins=15, range=(-20, 100))\n",
    "plt.title('Гистограмма распределения жилой площади')\n",
    "plt.show()"
   ]
  },
  {
   "cell_type": "markdown",
   "metadata": {},
   "source": [
    "Есть квартиры, где гипотеза не находит своего подтвреждения (разность меньше нуля). Необходимо выяснить, с чем это связано."
   ]
  },
  {
   "cell_type": "code",
   "execution_count": 39,
   "metadata": {},
   "outputs": [
    {
     "name": "stdout",
     "output_type": "stream",
     "text": [
      "<class 'pandas.core.frame.DataFrame'>\n",
      "Int64Index: 65 entries, 184 to 23173\n",
      "Data columns (total 24 columns):\n",
      " #   Column                Non-Null Count  Dtype  \n",
      "---  ------                --------------  -----  \n",
      " 0   total_images          65 non-null     int64  \n",
      " 1   last_price            65 non-null     float64\n",
      " 2   last_price_mln        65 non-null     float64\n",
      " 3   total_area            65 non-null     float64\n",
      " 4   first_day_exposition  65 non-null     object \n",
      " 5   rooms                 65 non-null     int64  \n",
      " 6   ceiling_height        42 non-null     float64\n",
      " 7   floors_total          65 non-null     float64\n",
      " 8   living_area           65 non-null     float64\n",
      " 9   floor                 65 non-null     int64  \n",
      " 10  is_apartment          17 non-null     object \n",
      " 11  studio                65 non-null     bool   \n",
      " 12  open_plan             65 non-null     bool   \n",
      " 13  kitchen_area          65 non-null     float64\n",
      " 14  balcony               44 non-null     float64\n",
      " 15  locality_name         65 non-null     object \n",
      " 16  airports_nearest      45 non-null     float64\n",
      " 17  cityCenters_nearest   45 non-null     float64\n",
      " 18  parks_around3000      45 non-null     float64\n",
      " 19  parks_nearest         19 non-null     float64\n",
      " 20  ponds_around3000      45 non-null     float64\n",
      " 21  ponds_nearest         18 non-null     float64\n",
      " 22  days_exposition       57 non-null     float64\n",
      " 23  other_area            65 non-null     float64\n",
      "dtypes: bool(2), float64(16), int64(3), object(3)\n",
      "memory usage: 11.8+ KB\n"
     ]
    },
    {
     "data": {
      "text/html": [
       "<div>\n",
       "<style scoped>\n",
       "    .dataframe tbody tr th:only-of-type {\n",
       "        vertical-align: middle;\n",
       "    }\n",
       "\n",
       "    .dataframe tbody tr th {\n",
       "        vertical-align: top;\n",
       "    }\n",
       "\n",
       "    .dataframe thead th {\n",
       "        text-align: right;\n",
       "    }\n",
       "</style>\n",
       "<table border=\"1\" class=\"dataframe\">\n",
       "  <thead>\n",
       "    <tr style=\"text-align: right;\">\n",
       "      <th></th>\n",
       "      <th>total_images</th>\n",
       "      <th>last_price</th>\n",
       "      <th>last_price_mln</th>\n",
       "      <th>total_area</th>\n",
       "      <th>rooms</th>\n",
       "      <th>ceiling_height</th>\n",
       "      <th>floors_total</th>\n",
       "      <th>living_area</th>\n",
       "      <th>floor</th>\n",
       "      <th>kitchen_area</th>\n",
       "      <th>balcony</th>\n",
       "      <th>airports_nearest</th>\n",
       "      <th>cityCenters_nearest</th>\n",
       "      <th>parks_around3000</th>\n",
       "      <th>parks_nearest</th>\n",
       "      <th>ponds_around3000</th>\n",
       "      <th>ponds_nearest</th>\n",
       "      <th>days_exposition</th>\n",
       "      <th>other_area</th>\n",
       "    </tr>\n",
       "  </thead>\n",
       "  <tbody>\n",
       "    <tr>\n",
       "      <th>count</th>\n",
       "      <td>65.000000</td>\n",
       "      <td>6.500000e+01</td>\n",
       "      <td>65.000000</td>\n",
       "      <td>65.000000</td>\n",
       "      <td>65.000000</td>\n",
       "      <td>42.00000</td>\n",
       "      <td>65.000000</td>\n",
       "      <td>65.000000</td>\n",
       "      <td>65.000000</td>\n",
       "      <td>65.000000</td>\n",
       "      <td>44.000000</td>\n",
       "      <td>45.000000</td>\n",
       "      <td>45.000000</td>\n",
       "      <td>45.000000</td>\n",
       "      <td>19.000000</td>\n",
       "      <td>45.000000</td>\n",
       "      <td>18.000000</td>\n",
       "      <td>57.000000</td>\n",
       "      <td>6.500000e+01</td>\n",
       "    </tr>\n",
       "    <tr>\n",
       "      <th>mean</th>\n",
       "      <td>10.353846</td>\n",
       "      <td>5.460291e+06</td>\n",
       "      <td>5.460291</td>\n",
       "      <td>50.232615</td>\n",
       "      <td>1.707692</td>\n",
       "      <td>3.92119</td>\n",
       "      <td>12.784615</td>\n",
       "      <td>41.662462</td>\n",
       "      <td>7.892308</td>\n",
       "      <td>14.838615</td>\n",
       "      <td>1.522727</td>\n",
       "      <td>28994.311111</td>\n",
       "      <td>14036.955556</td>\n",
       "      <td>0.644444</td>\n",
       "      <td>433.473684</td>\n",
       "      <td>0.777778</td>\n",
       "      <td>591.666667</td>\n",
       "      <td>160.543860</td>\n",
       "      <td>-6.268462e+00</td>\n",
       "    </tr>\n",
       "    <tr>\n",
       "      <th>std</th>\n",
       "      <td>6.003725</td>\n",
       "      <td>3.872811e+06</td>\n",
       "      <td>3.872811</td>\n",
       "      <td>21.289782</td>\n",
       "      <td>0.764916</td>\n",
       "      <td>5.29015</td>\n",
       "      <td>7.674007</td>\n",
       "      <td>17.190025</td>\n",
       "      <td>5.692987</td>\n",
       "      <td>8.671434</td>\n",
       "      <td>0.952076</td>\n",
       "      <td>12680.896419</td>\n",
       "      <td>6817.999050</td>\n",
       "      <td>0.908434</td>\n",
       "      <td>494.053457</td>\n",
       "      <td>1.105542</td>\n",
       "      <td>320.625308</td>\n",
       "      <td>195.839773</td>\n",
       "      <td>5.628152e+00</td>\n",
       "    </tr>\n",
       "    <tr>\n",
       "      <th>min</th>\n",
       "      <td>0.000000</td>\n",
       "      <td>1.230000e+06</td>\n",
       "      <td>1.230000</td>\n",
       "      <td>20.670000</td>\n",
       "      <td>1.000000</td>\n",
       "      <td>2.50000</td>\n",
       "      <td>2.000000</td>\n",
       "      <td>14.170000</td>\n",
       "      <td>1.000000</td>\n",
       "      <td>5.000000</td>\n",
       "      <td>0.000000</td>\n",
       "      <td>9731.000000</td>\n",
       "      <td>1884.000000</td>\n",
       "      <td>0.000000</td>\n",
       "      <td>68.000000</td>\n",
       "      <td>0.000000</td>\n",
       "      <td>80.000000</td>\n",
       "      <td>3.000000</td>\n",
       "      <td>-2.980000e+01</td>\n",
       "    </tr>\n",
       "    <tr>\n",
       "      <th>25%</th>\n",
       "      <td>6.000000</td>\n",
       "      <td>3.250000e+06</td>\n",
       "      <td>3.250000</td>\n",
       "      <td>37.000000</td>\n",
       "      <td>1.000000</td>\n",
       "      <td>2.60000</td>\n",
       "      <td>5.000000</td>\n",
       "      <td>30.600000</td>\n",
       "      <td>3.000000</td>\n",
       "      <td>8.600000</td>\n",
       "      <td>1.000000</td>\n",
       "      <td>17827.000000</td>\n",
       "      <td>9760.000000</td>\n",
       "      <td>0.000000</td>\n",
       "      <td>175.000000</td>\n",
       "      <td>0.000000</td>\n",
       "      <td>384.250000</td>\n",
       "      <td>46.000000</td>\n",
       "      <td>-8.120000e+00</td>\n",
       "    </tr>\n",
       "    <tr>\n",
       "      <th>50%</th>\n",
       "      <td>10.000000</td>\n",
       "      <td>4.700000e+06</td>\n",
       "      <td>4.700000</td>\n",
       "      <td>42.500000</td>\n",
       "      <td>2.000000</td>\n",
       "      <td>2.70000</td>\n",
       "      <td>12.000000</td>\n",
       "      <td>36.900000</td>\n",
       "      <td>6.000000</td>\n",
       "      <td>12.000000</td>\n",
       "      <td>2.000000</td>\n",
       "      <td>29683.000000</td>\n",
       "      <td>14240.000000</td>\n",
       "      <td>0.000000</td>\n",
       "      <td>253.000000</td>\n",
       "      <td>0.000000</td>\n",
       "      <td>526.000000</td>\n",
       "      <td>93.000000</td>\n",
       "      <td>-5.500000e+00</td>\n",
       "    </tr>\n",
       "    <tr>\n",
       "      <th>75%</th>\n",
       "      <td>15.000000</td>\n",
       "      <td>6.299000e+06</td>\n",
       "      <td>6.299000</td>\n",
       "      <td>60.200000</td>\n",
       "      <td>2.000000</td>\n",
       "      <td>2.80000</td>\n",
       "      <td>17.000000</td>\n",
       "      <td>51.000000</td>\n",
       "      <td>12.000000</td>\n",
       "      <td>19.000000</td>\n",
       "      <td>2.000000</td>\n",
       "      <td>37180.000000</td>\n",
       "      <td>15824.000000</td>\n",
       "      <td>1.000000</td>\n",
       "      <td>509.500000</td>\n",
       "      <td>1.000000</td>\n",
       "      <td>832.250000</td>\n",
       "      <td>163.000000</td>\n",
       "      <td>-2.100000e+00</td>\n",
       "    </tr>\n",
       "    <tr>\n",
       "      <th>max</th>\n",
       "      <td>20.000000</td>\n",
       "      <td>2.750000e+07</td>\n",
       "      <td>27.500000</td>\n",
       "      <td>141.200000</td>\n",
       "      <td>3.000000</td>\n",
       "      <td>27.50000</td>\n",
       "      <td>35.000000</td>\n",
       "      <td>106.400000</td>\n",
       "      <td>25.000000</td>\n",
       "      <td>43.400000</td>\n",
       "      <td>5.000000</td>\n",
       "      <td>54160.000000</td>\n",
       "      <td>35259.000000</td>\n",
       "      <td>3.000000</td>\n",
       "      <td>2295.000000</td>\n",
       "      <td>3.000000</td>\n",
       "      <td>1250.000000</td>\n",
       "      <td>940.000000</td>\n",
       "      <td>-1.421085e-14</td>\n",
       "    </tr>\n",
       "  </tbody>\n",
       "</table>\n",
       "</div>"
      ],
      "text/plain": [
       "       total_images    last_price  last_price_mln  total_area      rooms  \\\n",
       "count     65.000000  6.500000e+01       65.000000   65.000000  65.000000   \n",
       "mean      10.353846  5.460291e+06        5.460291   50.232615   1.707692   \n",
       "std        6.003725  3.872811e+06        3.872811   21.289782   0.764916   \n",
       "min        0.000000  1.230000e+06        1.230000   20.670000   1.000000   \n",
       "25%        6.000000  3.250000e+06        3.250000   37.000000   1.000000   \n",
       "50%       10.000000  4.700000e+06        4.700000   42.500000   2.000000   \n",
       "75%       15.000000  6.299000e+06        6.299000   60.200000   2.000000   \n",
       "max       20.000000  2.750000e+07       27.500000  141.200000   3.000000   \n",
       "\n",
       "       ceiling_height  floors_total  living_area      floor  kitchen_area  \\\n",
       "count        42.00000     65.000000    65.000000  65.000000     65.000000   \n",
       "mean          3.92119     12.784615    41.662462   7.892308     14.838615   \n",
       "std           5.29015      7.674007    17.190025   5.692987      8.671434   \n",
       "min           2.50000      2.000000    14.170000   1.000000      5.000000   \n",
       "25%           2.60000      5.000000    30.600000   3.000000      8.600000   \n",
       "50%           2.70000     12.000000    36.900000   6.000000     12.000000   \n",
       "75%           2.80000     17.000000    51.000000  12.000000     19.000000   \n",
       "max          27.50000     35.000000   106.400000  25.000000     43.400000   \n",
       "\n",
       "         balcony  airports_nearest  cityCenters_nearest  parks_around3000  \\\n",
       "count  44.000000         45.000000            45.000000         45.000000   \n",
       "mean    1.522727      28994.311111         14036.955556          0.644444   \n",
       "std     0.952076      12680.896419          6817.999050          0.908434   \n",
       "min     0.000000       9731.000000          1884.000000          0.000000   \n",
       "25%     1.000000      17827.000000          9760.000000          0.000000   \n",
       "50%     2.000000      29683.000000         14240.000000          0.000000   \n",
       "75%     2.000000      37180.000000         15824.000000          1.000000   \n",
       "max     5.000000      54160.000000         35259.000000          3.000000   \n",
       "\n",
       "       parks_nearest  ponds_around3000  ponds_nearest  days_exposition  \\\n",
       "count      19.000000         45.000000      18.000000        57.000000   \n",
       "mean      433.473684          0.777778     591.666667       160.543860   \n",
       "std       494.053457          1.105542     320.625308       195.839773   \n",
       "min        68.000000          0.000000      80.000000         3.000000   \n",
       "25%       175.000000          0.000000     384.250000        46.000000   \n",
       "50%       253.000000          0.000000     526.000000        93.000000   \n",
       "75%       509.500000          1.000000     832.250000       163.000000   \n",
       "max      2295.000000          3.000000    1250.000000       940.000000   \n",
       "\n",
       "         other_area  \n",
       "count  6.500000e+01  \n",
       "mean  -6.268462e+00  \n",
       "std    5.628152e+00  \n",
       "min   -2.980000e+01  \n",
       "25%   -8.120000e+00  \n",
       "50%   -5.500000e+00  \n",
       "75%   -2.100000e+00  \n",
       "max   -1.421085e-14  "
      ]
     },
     "metadata": {},
     "output_type": "display_data"
    },
    {
     "data": {
      "text/html": [
       "<div>\n",
       "<style scoped>\n",
       "    .dataframe tbody tr th:only-of-type {\n",
       "        vertical-align: middle;\n",
       "    }\n",
       "\n",
       "    .dataframe tbody tr th {\n",
       "        vertical-align: top;\n",
       "    }\n",
       "\n",
       "    .dataframe thead th {\n",
       "        text-align: right;\n",
       "    }\n",
       "</style>\n",
       "<table border=\"1\" class=\"dataframe\">\n",
       "  <thead>\n",
       "    <tr style=\"text-align: right;\">\n",
       "      <th></th>\n",
       "      <th>total_images</th>\n",
       "      <th>last_price</th>\n",
       "      <th>last_price_mln</th>\n",
       "      <th>total_area</th>\n",
       "      <th>first_day_exposition</th>\n",
       "      <th>rooms</th>\n",
       "      <th>ceiling_height</th>\n",
       "      <th>floors_total</th>\n",
       "      <th>living_area</th>\n",
       "      <th>floor</th>\n",
       "      <th>is_apartment</th>\n",
       "      <th>studio</th>\n",
       "      <th>open_plan</th>\n",
       "      <th>kitchen_area</th>\n",
       "      <th>balcony</th>\n",
       "      <th>locality_name</th>\n",
       "      <th>airports_nearest</th>\n",
       "      <th>cityCenters_nearest</th>\n",
       "      <th>parks_around3000</th>\n",
       "      <th>parks_nearest</th>\n",
       "      <th>ponds_around3000</th>\n",
       "      <th>ponds_nearest</th>\n",
       "      <th>days_exposition</th>\n",
       "      <th>other_area</th>\n",
       "    </tr>\n",
       "  </thead>\n",
       "  <tbody>\n",
       "    <tr>\n",
       "      <th>184</th>\n",
       "      <td>7</td>\n",
       "      <td>2600000.0</td>\n",
       "      <td>2.60000</td>\n",
       "      <td>30.20</td>\n",
       "      <td>2018-02-14T00:00:00</td>\n",
       "      <td>1</td>\n",
       "      <td>2.65</td>\n",
       "      <td>9.0</td>\n",
       "      <td>26.10</td>\n",
       "      <td>5</td>\n",
       "      <td>NaN</td>\n",
       "      <td>False</td>\n",
       "      <td>False</td>\n",
       "      <td>6.20</td>\n",
       "      <td>NaN</td>\n",
       "      <td>Санкт-Петербург</td>\n",
       "      <td>13952.0</td>\n",
       "      <td>15031.0</td>\n",
       "      <td>0.0</td>\n",
       "      <td>NaN</td>\n",
       "      <td>1.0</td>\n",
       "      <td>824.0</td>\n",
       "      <td>12.0</td>\n",
       "      <td>-2.10</td>\n",
       "    </tr>\n",
       "    <tr>\n",
       "      <th>545</th>\n",
       "      <td>9</td>\n",
       "      <td>4700000.0</td>\n",
       "      <td>4.70000</td>\n",
       "      <td>23.80</td>\n",
       "      <td>2018-12-28T00:00:00</td>\n",
       "      <td>1</td>\n",
       "      <td>NaN</td>\n",
       "      <td>18.0</td>\n",
       "      <td>20.00</td>\n",
       "      <td>9</td>\n",
       "      <td>NaN</td>\n",
       "      <td>False</td>\n",
       "      <td>False</td>\n",
       "      <td>5.00</td>\n",
       "      <td>NaN</td>\n",
       "      <td>Санкт-Петербург</td>\n",
       "      <td>9731.0</td>\n",
       "      <td>11849.0</td>\n",
       "      <td>0.0</td>\n",
       "      <td>NaN</td>\n",
       "      <td>0.0</td>\n",
       "      <td>NaN</td>\n",
       "      <td>108.0</td>\n",
       "      <td>-1.20</td>\n",
       "    </tr>\n",
       "    <tr>\n",
       "      <th>551</th>\n",
       "      <td>8</td>\n",
       "      <td>3100000.0</td>\n",
       "      <td>3.10000</td>\n",
       "      <td>31.59</td>\n",
       "      <td>2018-03-08T00:00:00</td>\n",
       "      <td>1</td>\n",
       "      <td>2.70</td>\n",
       "      <td>19.0</td>\n",
       "      <td>30.55</td>\n",
       "      <td>2</td>\n",
       "      <td>NaN</td>\n",
       "      <td>False</td>\n",
       "      <td>False</td>\n",
       "      <td>9.28</td>\n",
       "      <td>2.0</td>\n",
       "      <td>посёлок Мурино</td>\n",
       "      <td>NaN</td>\n",
       "      <td>NaN</td>\n",
       "      <td>NaN</td>\n",
       "      <td>NaN</td>\n",
       "      <td>NaN</td>\n",
       "      <td>NaN</td>\n",
       "      <td>70.0</td>\n",
       "      <td>-8.24</td>\n",
       "    </tr>\n",
       "    <tr>\n",
       "      <th>600</th>\n",
       "      <td>12</td>\n",
       "      <td>5600000.0</td>\n",
       "      <td>5.60000</td>\n",
       "      <td>53.70</td>\n",
       "      <td>2017-04-18T00:00:00</td>\n",
       "      <td>2</td>\n",
       "      <td>2.50</td>\n",
       "      <td>12.0</td>\n",
       "      <td>48.30</td>\n",
       "      <td>5</td>\n",
       "      <td>NaN</td>\n",
       "      <td>False</td>\n",
       "      <td>False</td>\n",
       "      <td>7.00</td>\n",
       "      <td>2.0</td>\n",
       "      <td>Санкт-Петербург</td>\n",
       "      <td>50477.0</td>\n",
       "      <td>13252.0</td>\n",
       "      <td>2.0</td>\n",
       "      <td>220.0</td>\n",
       "      <td>1.0</td>\n",
       "      <td>1250.0</td>\n",
       "      <td>167.0</td>\n",
       "      <td>-1.60</td>\n",
       "    </tr>\n",
       "    <tr>\n",
       "      <th>695</th>\n",
       "      <td>1</td>\n",
       "      <td>3364930.0</td>\n",
       "      <td>3.36493</td>\n",
       "      <td>34.69</td>\n",
       "      <td>2014-11-27T00:00:00</td>\n",
       "      <td>1</td>\n",
       "      <td>2.64</td>\n",
       "      <td>25.0</td>\n",
       "      <td>23.43</td>\n",
       "      <td>25</td>\n",
       "      <td>NaN</td>\n",
       "      <td>False</td>\n",
       "      <td>False</td>\n",
       "      <td>23.43</td>\n",
       "      <td>2.0</td>\n",
       "      <td>Санкт-Петербург</td>\n",
       "      <td>43396.0</td>\n",
       "      <td>12153.0</td>\n",
       "      <td>0.0</td>\n",
       "      <td>NaN</td>\n",
       "      <td>0.0</td>\n",
       "      <td>NaN</td>\n",
       "      <td>574.0</td>\n",
       "      <td>-12.17</td>\n",
       "    </tr>\n",
       "  </tbody>\n",
       "</table>\n",
       "</div>"
      ],
      "text/plain": [
       "     total_images  last_price  last_price_mln  total_area  \\\n",
       "184             7   2600000.0         2.60000       30.20   \n",
       "545             9   4700000.0         4.70000       23.80   \n",
       "551             8   3100000.0         3.10000       31.59   \n",
       "600            12   5600000.0         5.60000       53.70   \n",
       "695             1   3364930.0         3.36493       34.69   \n",
       "\n",
       "    first_day_exposition  rooms  ceiling_height  floors_total  living_area  \\\n",
       "184  2018-02-14T00:00:00      1            2.65           9.0        26.10   \n",
       "545  2018-12-28T00:00:00      1             NaN          18.0        20.00   \n",
       "551  2018-03-08T00:00:00      1            2.70          19.0        30.55   \n",
       "600  2017-04-18T00:00:00      2            2.50          12.0        48.30   \n",
       "695  2014-11-27T00:00:00      1            2.64          25.0        23.43   \n",
       "\n",
       "     floor is_apartment  studio  open_plan  kitchen_area  balcony  \\\n",
       "184      5          NaN   False      False          6.20      NaN   \n",
       "545      9          NaN   False      False          5.00      NaN   \n",
       "551      2          NaN   False      False          9.28      2.0   \n",
       "600      5          NaN   False      False          7.00      2.0   \n",
       "695     25          NaN   False      False         23.43      2.0   \n",
       "\n",
       "       locality_name  airports_nearest  cityCenters_nearest  parks_around3000  \\\n",
       "184  Санкт-Петербург           13952.0              15031.0               0.0   \n",
       "545  Санкт-Петербург            9731.0              11849.0               0.0   \n",
       "551   посёлок Мурино               NaN                  NaN               NaN   \n",
       "600  Санкт-Петербург           50477.0              13252.0               2.0   \n",
       "695  Санкт-Петербург           43396.0              12153.0               0.0   \n",
       "\n",
       "     parks_nearest  ponds_around3000  ponds_nearest  days_exposition  \\\n",
       "184            NaN               1.0          824.0             12.0   \n",
       "545            NaN               0.0            NaN            108.0   \n",
       "551            NaN               NaN            NaN             70.0   \n",
       "600          220.0               1.0         1250.0            167.0   \n",
       "695            NaN               0.0            NaN            574.0   \n",
       "\n",
       "     other_area  \n",
       "184       -2.10  \n",
       "545       -1.20  \n",
       "551       -8.24  \n",
       "600       -1.60  \n",
       "695      -12.17  "
      ]
     },
     "metadata": {},
     "output_type": "display_data"
    }
   ],
   "source": [
    "df[df['other_area'] < 0].info()\n",
    "display(df[df['other_area'] < 0].describe())\n",
    "display(df[df['other_area'] < 0].head())"
   ]
  },
  {
   "cell_type": "markdown",
   "metadata": {},
   "source": [
    "Всего 65 квартир. Причины, с чем это связано, не наблюдается. Скорее всего, выложившие объявление хотели завысить свою жилую площадь. Так как мы не знаем точных причин, а строчек немного, удалим строки."
   ]
  },
  {
   "cell_type": "code",
   "execution_count": 40,
   "metadata": {},
   "outputs": [
    {
     "data": {
      "text/plain": [
       "total_images            0\n",
       "last_price              0\n",
       "last_price_mln          0\n",
       "total_area              0\n",
       "first_day_exposition    0\n",
       "rooms                   0\n",
       "ceiling_height          0\n",
       "floors_total            0\n",
       "living_area             0\n",
       "floor                   0\n",
       "is_apartment            0\n",
       "studio                  0\n",
       "open_plan               0\n",
       "kitchen_area            0\n",
       "balcony                 0\n",
       "locality_name           0\n",
       "airports_nearest        0\n",
       "cityCenters_nearest     0\n",
       "parks_around3000        0\n",
       "parks_nearest           0\n",
       "ponds_around3000        0\n",
       "ponds_nearest           0\n",
       "days_exposition         0\n",
       "other_area              0\n",
       "dtype: int64"
      ]
     },
     "metadata": {},
     "output_type": "display_data"
    }
   ],
   "source": [
    "df = df.drop(df[df['other_area'] < 0].index).reset_index(drop=True)\n",
    "display(df[df['other_area'] < 0].count())"
   ]
  },
  {
   "cell_type": "markdown",
   "metadata": {},
   "source": [
    "Предполагаем, что жилая площадь во многом зависит от типа планировки, кол-ва комнат, общей площади, площади кухни. \n",
    "Соответственно делаем гиптотезу, что при отрытой планировке мы не найдем (или найдем очень мало) заполненных значений жилой площади. Проверим нашу гипотезу."
   ]
  },
  {
   "cell_type": "code",
   "execution_count": 41,
   "metadata": {},
   "outputs": [
    {
     "data": {
      "text/plain": [
       "18.0    11\n",
       "NaN      5\n",
       "20.0     5\n",
       "17.0     5\n",
       "15.0     4\n",
       "Name: living_area, dtype: int64"
      ]
     },
     "execution_count": 41,
     "metadata": {},
     "output_type": "execute_result"
    }
   ],
   "source": [
    "df[df['open_plan'] == True]['living_area'].value_counts(dropna=False).head()"
   ]
  },
  {
   "cell_type": "markdown",
   "metadata": {},
   "source": [
    "Гипотеза не нашла своего подтверждения. Только 5 пропущенных значений."
   ]
  },
  {
   "cell_type": "markdown",
   "metadata": {},
   "source": [
    "Посмотрим, в каких столбцах встречаются пропуски вместе с пропусками жилой площади"
   ]
  },
  {
   "cell_type": "code",
   "execution_count": 42,
   "metadata": {},
   "outputs": [
    {
     "data": {
      "text/plain": [
       "total_images               0\n",
       "last_price                 0\n",
       "last_price_mln             0\n",
       "total_area                 0\n",
       "first_day_exposition       0\n",
       "rooms                      0\n",
       "ceiling_height          1075\n",
       "floors_total               0\n",
       "living_area             1863\n",
       "floor                      0\n",
       "is_apartment            1744\n",
       "studio                     0\n",
       "open_plan                  0\n",
       "kitchen_area            1424\n",
       "balcony                 1383\n",
       "locality_name              5\n",
       "airports_nearest         616\n",
       "cityCenters_nearest      614\n",
       "parks_around3000         614\n",
       "parks_nearest           1301\n",
       "ponds_around3000         614\n",
       "ponds_nearest           1188\n",
       "days_exposition          195\n",
       "other_area                 0\n",
       "dtype: int64"
      ]
     },
     "execution_count": 42,
     "metadata": {},
     "output_type": "execute_result"
    }
   ],
   "source": [
    "df[df['living_area'].isna()].isna().sum()"
   ]
  },
  {
   "cell_type": "markdown",
   "metadata": {},
   "source": [
    "Обращает на себя внимание тот факт, что там где пропущено значение жилой площади, нет ни одного пропущеного значения общей площади и кол-ва комнат. Это можно использовать. Логично предположить, что с увеличением кол-ва комнат будет увеличиваться доля жилой площади (не распространяется на студии). Проверим нашу гипотезу."
   ]
  },
  {
   "cell_type": "code",
   "execution_count": 43,
   "metadata": {},
   "outputs": [],
   "source": [
    "df['living_area_share'] = df['living_area']/df['total_area']"
   ]
  },
  {
   "cell_type": "code",
   "execution_count": 44,
   "metadata": {},
   "outputs": [
    {
     "data": {
      "image/png": "[encoded data removed]",
      "text/plain": [
       "<Figure size 1152x648 with 1 Axes>"
      ]
     },
     "metadata": {
      "needs_background": "light"
     },
     "output_type": "display_data"
    }
   ],
   "source": [
    "df.plot(x='rooms', y='living_area_share',\n",
    "        kind='scatter', figsize=(16, 9), alpha=0.01)\n",
    "plt.title('Зависимость доли жилой площади от количества комнат')\n",
    "plt.show()"
   ]
  },
  {
   "cell_type": "markdown",
   "metadata": {},
   "source": [
    "Можно заметить, как центр разброса становится выше по оси y. Гипотеза подвтерждается."
   ]
  },
  {
   "cell_type": "code",
   "execution_count": 45,
   "metadata": {},
   "outputs": [
    {
     "data": {
      "text/plain": [
       "rooms\n",
       "0     0.689530\n",
       "1     0.482015\n",
       "2     0.584906\n",
       "3     0.631614\n",
       "4     0.659740\n",
       "5     0.651842\n",
       "6     0.679509\n",
       "7     0.684242\n",
       "8     0.688475\n",
       "9     0.628251\n",
       "10    0.653103\n",
       "11    0.710093\n",
       "12    0.455222\n",
       "14    0.648695\n",
       "15    0.693220\n",
       "16    0.666667\n",
       "19    0.706086\n",
       "Name: living_area_share, dtype: float64"
      ]
     },
     "metadata": {},
     "output_type": "display_data"
    }
   ],
   "source": [
    "display(df.groupby('rooms')['living_area_share'].median())"
   ]
  },
  {
   "cell_type": "markdown",
   "metadata": {},
   "source": [
    "Если смотреть на сводную таблицу выше, то можно заметить, что по медианное значение доли жилой площади действительно возрастает с увеличением кол-ва комнат до появления в выборке квартир с 9 комнатами. Данная тенденция не касается квартир с 0 комнатами, которые, как выяснилось раннее, либо имеют открытую планировку, либо являются студиями. Создадим столбец с медианным значением доли жилой площади в для данного значения комнат. "
   ]
  },
  {
   "cell_type": "code",
   "execution_count": 46,
   "metadata": {},
   "outputs": [],
   "source": [
    "df['living_area_median_share'] = df.groupby(\n",
    "    'rooms')['living_area_share'].transform('median')"
   ]
  },
  {
   "cell_type": "markdown",
   "metadata": {},
   "source": [
    "Далее нужно создать функцию для заполнения пропусков в жилой площади в зависимости от количества комнат квартиры, учитывающую условие, что сумма жилой площади и кухни не должна быть боль общей площади квартиры. Но прежде выясним, какая в среднем доля площади кухни от нежилой площади."
   ]
  },
  {
   "cell_type": "code",
   "execution_count": 47,
   "metadata": {},
   "outputs": [
    {
     "data": {
      "text/plain": [
       "rooms\n",
       "0          NaN\n",
       "1     0.472973\n",
       "2     0.400000\n",
       "3     0.359788\n",
       "4     0.340557\n",
       "5     0.311586\n",
       "6     0.314286\n",
       "7     0.298246\n",
       "8     0.356164\n",
       "9     0.133477\n",
       "10    0.298211\n",
       "11    0.239505\n",
       "12    0.228432\n",
       "14    0.226829\n",
       "15    0.552486\n",
       "16    0.144444\n",
       "19    0.250681\n",
       "Name: kitchen_area_share_of_not_living_area, dtype: float64"
      ]
     },
     "metadata": {},
     "output_type": "display_data"
    }
   ],
   "source": [
    "df['not_living_area'] = df['total_area'] - df['living_area']\n",
    "df['kitchen_area_share_of_not_living_area'] = df['kitchen_area'] / \\\n",
    "    df['not_living_area']\n",
    "display(df.groupby('rooms')['kitchen_area_share_of_not_living_area'].median())\n",
    "df['kitchen_area_share_of_not_living_area_median'] = df.groupby(\n",
    "    'rooms')['kitchen_area_share_of_not_living_area'].transform('median')"
   ]
  },
  {
   "cell_type": "markdown",
   "metadata": {},
   "source": [
    "Обращает на себя внимание тот факт, что в студиях и открытых планировках доля площади кухни получила значение NaN. Заменим пропуски нулями."
   ]
  },
  {
   "cell_type": "code",
   "execution_count": 48,
   "metadata": {},
   "outputs": [],
   "source": [
    "df['kitchen_area_share_of_not_living_area_median'].fillna(0, inplace=True)"
   ]
  },
  {
   "cell_type": "code",
   "execution_count": 49,
   "metadata": {},
   "outputs": [
    {
     "data": {
      "text/plain": [
       "0"
      ]
     },
     "execution_count": 49,
     "metadata": {},
     "output_type": "execute_result"
    }
   ],
   "source": [
    "def living_area(row):\n",
    "    if pd.isna(row['living_area']):\n",
    "        if row['living_area_median_share'] * row['total_area'] + row['kitchen_area'] >= row['total_area']:\n",
    "            return row['total_area'] - row['kitchen_area'] / row['kitchen_area_share_of_not_living_area_median']\n",
    "        else:\n",
    "            return row['living_area_median_share'] * row['total_area']\n",
    "    else:\n",
    "        return row['living_area']\n",
    "\n",
    "\n",
    "df['living_area'] = df.apply(living_area, axis=1)\n",
    "\n",
    "df['living_area'].isna().sum()"
   ]
  },
  {
   "cell_type": "code",
   "execution_count": 50,
   "metadata": {},
   "outputs": [
    {
     "data": {
      "image/png": "[encoded data removed]",
      "text/plain": [
       "<Figure size 432x288 with 1 Axes>"
      ]
     },
     "metadata": {
      "needs_background": "light"
     },
     "output_type": "display_data"
    }
   ],
   "source": [
    "fig, ax = plt.subplots()\n",
    "plt.hist(original_df['living_area'], alpha=0.3, bins=15,\n",
    "         range=(0, 150), label='graph1', color='g')\n",
    "plt.hist(df['living_area'], alpha=0.3, bins=15,\n",
    "         range=(0, 150), label='graph2', color='r')\n",
    "plt.legend(['исходные данные', 'обновленные данные'], loc='upper right')\n",
    "plt.title('Гистограмма распределения жилой площади')\n",
    "plt.show()"
   ]
  },
  {
   "cell_type": "markdown",
   "metadata": {},
   "source": [
    "Обращаем внимание, что распределение \"жилой площади\" в целом схоже с тем, что было до обработки пропусков. Это один из признаков того, что пропуски были заполнены довольно точно. \n"
   ]
  },
  {
   "cell_type": "code",
   "execution_count": 51,
   "metadata": {},
   "outputs": [
    {
     "data": {
      "text/plain": [
       "total_images                                        0\n",
       "last_price                                          0\n",
       "last_price_mln                                      0\n",
       "total_area                                          0\n",
       "first_day_exposition                                0\n",
       "rooms                                               0\n",
       "ceiling_height                                   9089\n",
       "floors_total                                        0\n",
       "living_area                                         0\n",
       "floor                                               0\n",
       "is_apartment                                    20765\n",
       "studio                                              0\n",
       "open_plan                                           0\n",
       "kitchen_area                                     2218\n",
       "balcony                                         11437\n",
       "locality_name                                      48\n",
       "airports_nearest                                 5502\n",
       "cityCenters_nearest                              5479\n",
       "parks_around3000                                 5478\n",
       "parks_nearest                                   15504\n",
       "ponds_around3000                                 5478\n",
       "ponds_nearest                                   14489\n",
       "days_exposition                                  3161\n",
       "other_area                                          0\n",
       "living_area_share                                1863\n",
       "living_area_median_share                            0\n",
       "not_living_area                                  1863\n",
       "kitchen_area_share_of_not_living_area            2657\n",
       "kitchen_area_share_of_not_living_area_median        0\n",
       "dtype: int64"
      ]
     },
     "execution_count": 51,
     "metadata": {},
     "output_type": "execute_result"
    }
   ],
   "source": [
    "df.isna().sum()"
   ]
  },
  {
   "cell_type": "markdown",
   "metadata": {},
   "source": [
    "#### is_apartment"
   ]
  },
  {
   "cell_type": "code",
   "execution_count": 52,
   "metadata": {},
   "outputs": [
    {
     "data": {
      "text/plain": [
       "NaN      20765\n",
       "False     2705\n",
       "True        49\n",
       "Name: is_apartment, dtype: int64"
      ]
     },
     "execution_count": 52,
     "metadata": {},
     "output_type": "execute_result"
    }
   ],
   "source": [
    "df['is_apartment'].value_counts(dropna=False)"
   ]
  },
  {
   "cell_type": "markdown",
   "metadata": {},
   "source": [
    "Предполагаем, что пропущенные значения означают, что квартира не является апартаментами"
   ]
  },
  {
   "cell_type": "code",
   "execution_count": 53,
   "metadata": {},
   "outputs": [
    {
     "data": {
      "text/plain": [
       "total_images                                        0\n",
       "last_price                                          0\n",
       "last_price_mln                                      0\n",
       "total_area                                          0\n",
       "first_day_exposition                                0\n",
       "rooms                                               0\n",
       "ceiling_height                                   9089\n",
       "floors_total                                        0\n",
       "living_area                                         0\n",
       "floor                                               0\n",
       "is_apartment                                        0\n",
       "studio                                              0\n",
       "open_plan                                           0\n",
       "kitchen_area                                     2218\n",
       "balcony                                         11437\n",
       "locality_name                                      48\n",
       "airports_nearest                                 5502\n",
       "cityCenters_nearest                              5479\n",
       "parks_around3000                                 5478\n",
       "parks_nearest                                   15504\n",
       "ponds_around3000                                 5478\n",
       "ponds_nearest                                   14489\n",
       "days_exposition                                  3161\n",
       "other_area                                          0\n",
       "living_area_share                                1863\n",
       "living_area_median_share                            0\n",
       "not_living_area                                  1863\n",
       "kitchen_area_share_of_not_living_area            2657\n",
       "kitchen_area_share_of_not_living_area_median        0\n",
       "dtype: int64"
      ]
     },
     "execution_count": 53,
     "metadata": {},
     "output_type": "execute_result"
    }
   ],
   "source": [
    "df['is_apartment'].fillna(False, inplace=True)\n",
    "df.isna().sum()"
   ]
  },
  {
   "cell_type": "markdown",
   "metadata": {},
   "source": [
    "#### kitchen_area"
   ]
  },
  {
   "cell_type": "markdown",
   "metadata": {},
   "source": [
    "Теперь заполним площадь кухни на основании типа квартиры и нежилой плоащади"
   ]
  },
  {
   "cell_type": "code",
   "execution_count": 54,
   "metadata": {},
   "outputs": [
    {
     "name": "stdout",
     "output_type": "stream",
     "text": [
      "count    23519.000000\n",
      "mean        10.382213\n",
      "std          5.901183\n",
      "min          0.000000\n",
      "25%          7.000000\n",
      "50%          9.000000\n",
      "75%         11.800000\n",
      "max        121.050949\n",
      "Name: kitchen_area, dtype: float64\n"
     ]
    }
   ],
   "source": [
    "df['not_living_area'] = df['total_area'] - df['living_area']\n",
    "\n",
    "\n",
    "def kitchen_area(row):\n",
    "    if pd.isna(row['kitchen_area']):\n",
    "        if row['studio'] == True:\n",
    "            return 0\n",
    "        elif row['open_plan'] == True:\n",
    "            return 0\n",
    "        else:\n",
    "            return row['not_living_area'] * row['kitchen_area_share_of_not_living_area_median']\n",
    "    else:\n",
    "        return row['kitchen_area']\n",
    "\n",
    "\n",
    "df['kitchen_area'] = df.apply(kitchen_area, axis=1)\n",
    "\n",
    "df.isna().sum()\n",
    "print(df['kitchen_area'].describe())"
   ]
  },
  {
   "cell_type": "code",
   "execution_count": 55,
   "metadata": {
    "tags": []
   },
   "outputs": [
    {
     "data": {
      "image/png": "[encoded data removed]",
      "text/plain": [
       "<Figure size 432x288 with 1 Axes>"
      ]
     },
     "metadata": {
      "needs_background": "light"
     },
     "output_type": "display_data"
    }
   ],
   "source": [
    "fig, ax = plt.subplots()\n",
    "plt.hist(original_df['kitchen_area'], alpha=0.3, bins=15,\n",
    "         range=(0, 50), label='graph1', color='g')\n",
    "plt.hist(df['kitchen_area'], alpha=0.3, bins=15,\n",
    "         range=(0, 50), label='graph2', color='r')\n",
    "plt.legend(['исходные данные', 'обновленные данные'], loc='upper right')\n",
    "plt.title('Гистограмма распределения площади кухни')\n",
    "plt.show()"
   ]
  },
  {
   "cell_type": "markdown",
   "metadata": {},
   "source": [
    "Обращаем внимание, что распределение \"площади кухни\" в целом схоже с тем, что было до обработки пропусков. "
   ]
  },
  {
   "cell_type": "markdown",
   "metadata": {},
   "source": [
    "Сделаем пару проверок."
   ]
  },
  {
   "cell_type": "markdown",
   "metadata": {},
   "source": [
    " Рассмотрим внимательнее, что за квартиры с площадью кухни равной 0 метров."
   ]
  },
  {
   "cell_type": "markdown",
   "metadata": {},
   "source": [
    "<div class=\"alert alert-info\"> <b>Комментарий студента:</b> Использовал двойное неравенство, потому что питон (как и многие другие языки) иногда выдает интересные результаты вычислений. Ниже будет пример, когда появляется ничтожно малое число, но не ноль... </div>"
   ]
  },
  {
   "cell_type": "code",
   "execution_count": 56,
   "metadata": {},
   "outputs": [
    {
     "name": "stdout",
     "output_type": "stream",
     "text": [
      "0.0    210\n",
      "Name: kitchen_area, dtype: int64\n",
      "True     144\n",
      "False     66\n",
      "Name: studio, dtype: int64\n",
      "False    144\n",
      "True      66\n",
      "Name: open_plan, dtype: int64\n",
      "0.0    66\n",
      "Name: kitchen_area, dtype: int64\n",
      "0.0    144\n",
      "Name: kitchen_area, dtype: int64\n"
     ]
    }
   ],
   "source": [
    "print(df[(df['kitchen_area'] < 0.1) & (df['kitchen_area'] > -0.1)]\n",
    "      ['kitchen_area'].value_counts())\n",
    "print(df[(df['kitchen_area'] < 0.1) & (df['kitchen_area'] > -0.1)]\n",
    "      ['studio'].value_counts())\n",
    "print(df[(df['kitchen_area'] < 0.1) & (df['kitchen_area'] > -0.1)]\n",
    "      ['open_plan'].value_counts())\n",
    "print(df[df['open_plan'] == True]['kitchen_area'].value_counts())\n",
    "print(df[df['studio'] == True]['kitchen_area'].value_counts())"
   ]
  },
  {
   "cell_type": "markdown",
   "metadata": {},
   "source": [
    "Как мы видим, все квартиры с нулевой площадью кухни являются либо студиями, либо квартирами с открытой планировкой. Верно и наоборот.\n",
    "Далее рассмотрим, что представляют собой квартиры с площадью кухни меньше двух метров."
   ]
  },
  {
   "cell_type": "code",
   "execution_count": 57,
   "metadata": {},
   "outputs": [
    {
     "data": {
      "text/html": [
       "<div>\n",
       "<style scoped>\n",
       "    .dataframe tbody tr th:only-of-type {\n",
       "        vertical-align: middle;\n",
       "    }\n",
       "\n",
       "    .dataframe tbody tr th {\n",
       "        vertical-align: top;\n",
       "    }\n",
       "\n",
       "    .dataframe thead th {\n",
       "        text-align: right;\n",
       "    }\n",
       "</style>\n",
       "<table border=\"1\" class=\"dataframe\">\n",
       "  <thead>\n",
       "    <tr style=\"text-align: right;\">\n",
       "      <th></th>\n",
       "      <th>total_images</th>\n",
       "      <th>last_price</th>\n",
       "      <th>last_price_mln</th>\n",
       "      <th>total_area</th>\n",
       "      <th>rooms</th>\n",
       "      <th>ceiling_height</th>\n",
       "      <th>floors_total</th>\n",
       "      <th>living_area</th>\n",
       "      <th>floor</th>\n",
       "      <th>kitchen_area</th>\n",
       "      <th>balcony</th>\n",
       "      <th>airports_nearest</th>\n",
       "      <th>cityCenters_nearest</th>\n",
       "      <th>parks_around3000</th>\n",
       "      <th>parks_nearest</th>\n",
       "      <th>ponds_around3000</th>\n",
       "      <th>ponds_nearest</th>\n",
       "      <th>days_exposition</th>\n",
       "      <th>other_area</th>\n",
       "      <th>living_area_share</th>\n",
       "      <th>living_area_median_share</th>\n",
       "      <th>not_living_area</th>\n",
       "      <th>kitchen_area_share_of_not_living_area</th>\n",
       "      <th>kitchen_area_share_of_not_living_area_median</th>\n",
       "    </tr>\n",
       "  </thead>\n",
       "  <tbody>\n",
       "    <tr>\n",
       "      <th>count</th>\n",
       "      <td>22.000000</td>\n",
       "      <td>2.200000e+01</td>\n",
       "      <td>22.000000</td>\n",
       "      <td>22.000000</td>\n",
       "      <td>22.000000</td>\n",
       "      <td>9.000000</td>\n",
       "      <td>22.000000</td>\n",
       "      <td>22.000000</td>\n",
       "      <td>22.000000</td>\n",
       "      <td>22.000000</td>\n",
       "      <td>8.000000</td>\n",
       "      <td>16.000000</td>\n",
       "      <td>16.000000</td>\n",
       "      <td>16.000000</td>\n",
       "      <td>7.000000</td>\n",
       "      <td>16.000000</td>\n",
       "      <td>11.000000</td>\n",
       "      <td>21.000000</td>\n",
       "      <td>22.000000</td>\n",
       "      <td>22.000000</td>\n",
       "      <td>22.000000</td>\n",
       "      <td>22.000000</td>\n",
       "      <td>7.000000</td>\n",
       "      <td>22.000000</td>\n",
       "    </tr>\n",
       "    <tr>\n",
       "      <th>mean</th>\n",
       "      <td>6.954545</td>\n",
       "      <td>3.760318e+06</td>\n",
       "      <td>3.760318</td>\n",
       "      <td>35.269545</td>\n",
       "      <td>1.454545</td>\n",
       "      <td>2.922222</td>\n",
       "      <td>11.818182</td>\n",
       "      <td>30.767273</td>\n",
       "      <td>7.454545</td>\n",
       "      <td>1.537092</td>\n",
       "      <td>0.375000</td>\n",
       "      <td>23351.812500</td>\n",
       "      <td>10543.875000</td>\n",
       "      <td>0.750000</td>\n",
       "      <td>460.428571</td>\n",
       "      <td>0.937500</td>\n",
       "      <td>514.454545</td>\n",
       "      <td>112.952381</td>\n",
       "      <td>3.897727</td>\n",
       "      <td>0.838464</td>\n",
       "      <td>0.511823</td>\n",
       "      <td>4.502273</td>\n",
       "      <td>0.370503</td>\n",
       "      <td>0.450664</td>\n",
       "    </tr>\n",
       "    <tr>\n",
       "      <th>std</th>\n",
       "      <td>5.232474</td>\n",
       "      <td>2.705554e+06</td>\n",
       "      <td>2.705554</td>\n",
       "      <td>21.483608</td>\n",
       "      <td>1.143398</td>\n",
       "      <td>0.341056</td>\n",
       "      <td>7.359065</td>\n",
       "      <td>22.420756</td>\n",
       "      <td>6.246731</td>\n",
       "      <td>0.485366</td>\n",
       "      <td>0.744024</td>\n",
       "      <td>8547.076508</td>\n",
       "      <td>6057.237026</td>\n",
       "      <td>0.930949</td>\n",
       "      <td>176.552029</td>\n",
       "      <td>0.853913</td>\n",
       "      <td>302.187149</td>\n",
       "      <td>93.433118</td>\n",
       "      <td>2.890007</td>\n",
       "      <td>0.122956</td>\n",
       "      <td>0.059199</td>\n",
       "      <td>3.373178</td>\n",
       "      <td>0.282125</td>\n",
       "      <td>0.045260</td>\n",
       "    </tr>\n",
       "    <tr>\n",
       "      <th>min</th>\n",
       "      <td>0.000000</td>\n",
       "      <td>1.150000e+06</td>\n",
       "      <td>1.150000</td>\n",
       "      <td>17.600000</td>\n",
       "      <td>1.000000</td>\n",
       "      <td>2.500000</td>\n",
       "      <td>3.000000</td>\n",
       "      <td>14.000000</td>\n",
       "      <td>1.000000</td>\n",
       "      <td>0.534286</td>\n",
       "      <td>0.000000</td>\n",
       "      <td>11761.000000</td>\n",
       "      <td>1967.000000</td>\n",
       "      <td>0.000000</td>\n",
       "      <td>231.000000</td>\n",
       "      <td>0.000000</td>\n",
       "      <td>45.000000</td>\n",
       "      <td>10.000000</td>\n",
       "      <td>0.290000</td>\n",
       "      <td>0.500000</td>\n",
       "      <td>0.482015</td>\n",
       "      <td>1.700000</td>\n",
       "      <td>0.125000</td>\n",
       "      <td>0.314286</td>\n",
       "    </tr>\n",
       "    <tr>\n",
       "      <th>25%</th>\n",
       "      <td>3.250000</td>\n",
       "      <td>2.283000e+06</td>\n",
       "      <td>2.283000</td>\n",
       "      <td>23.072500</td>\n",
       "      <td>1.000000</td>\n",
       "      <td>2.750000</td>\n",
       "      <td>5.000000</td>\n",
       "      <td>16.000000</td>\n",
       "      <td>1.000000</td>\n",
       "      <td>1.247297</td>\n",
       "      <td>0.000000</td>\n",
       "      <td>17984.000000</td>\n",
       "      <td>4802.000000</td>\n",
       "      <td>0.000000</td>\n",
       "      <td>344.500000</td>\n",
       "      <td>0.000000</td>\n",
       "      <td>360.000000</td>\n",
       "      <td>44.000000</td>\n",
       "      <td>2.000000</td>\n",
       "      <td>0.806522</td>\n",
       "      <td>0.482015</td>\n",
       "      <td>2.367500</td>\n",
       "      <td>0.183333</td>\n",
       "      <td>0.472973</td>\n",
       "    </tr>\n",
       "    <tr>\n",
       "      <th>50%</th>\n",
       "      <td>6.000000</td>\n",
       "      <td>2.910000e+06</td>\n",
       "      <td>2.910000</td>\n",
       "      <td>27.180000</td>\n",
       "      <td>1.000000</td>\n",
       "      <td>2.800000</td>\n",
       "      <td>13.000000</td>\n",
       "      <td>20.500000</td>\n",
       "      <td>6.500000</td>\n",
       "      <td>1.600000</td>\n",
       "      <td>0.000000</td>\n",
       "      <td>20968.000000</td>\n",
       "      <td>12403.500000</td>\n",
       "      <td>0.000000</td>\n",
       "      <td>426.000000</td>\n",
       "      <td>1.000000</td>\n",
       "      <td>537.000000</td>\n",
       "      <td>107.000000</td>\n",
       "      <td>3.650000</td>\n",
       "      <td>0.868873</td>\n",
       "      <td>0.482015</td>\n",
       "      <td>3.650000</td>\n",
       "      <td>0.250000</td>\n",
       "      <td>0.472973</td>\n",
       "    </tr>\n",
       "    <tr>\n",
       "      <th>75%</th>\n",
       "      <td>9.000000</td>\n",
       "      <td>4.050000e+06</td>\n",
       "      <td>4.050000</td>\n",
       "      <td>36.375000</td>\n",
       "      <td>1.000000</td>\n",
       "      <td>3.000000</td>\n",
       "      <td>18.000000</td>\n",
       "      <td>32.900000</td>\n",
       "      <td>11.750000</td>\n",
       "      <td>1.993074</td>\n",
       "      <td>0.250000</td>\n",
       "      <td>31584.500000</td>\n",
       "      <td>15774.000000</td>\n",
       "      <td>2.000000</td>\n",
       "      <td>569.000000</td>\n",
       "      <td>1.000000</td>\n",
       "      <td>698.500000</td>\n",
       "      <td>157.000000</td>\n",
       "      <td>4.000000</td>\n",
       "      <td>0.925673</td>\n",
       "      <td>0.482015</td>\n",
       "      <td>4.127500</td>\n",
       "      <td>0.489247</td>\n",
       "      <td>0.472973</td>\n",
       "    </tr>\n",
       "    <tr>\n",
       "      <th>max</th>\n",
       "      <td>19.000000</td>\n",
       "      <td>1.335100e+07</td>\n",
       "      <td>13.351000</td>\n",
       "      <td>102.700000</td>\n",
       "      <td>6.000000</td>\n",
       "      <td>3.500000</td>\n",
       "      <td>25.000000</td>\n",
       "      <td>101.000000</td>\n",
       "      <td>19.000000</td>\n",
       "      <td>2.000000</td>\n",
       "      <td>2.000000</td>\n",
       "      <td>39446.000000</td>\n",
       "      <td>19383.000000</td>\n",
       "      <td>2.000000</td>\n",
       "      <td>739.000000</td>\n",
       "      <td>3.000000</td>\n",
       "      <td>937.000000</td>\n",
       "      <td>355.000000</td>\n",
       "      <td>14.000000</td>\n",
       "      <td>0.983447</td>\n",
       "      <td>0.679509</td>\n",
       "      <td>16.000000</td>\n",
       "      <td>0.873362</td>\n",
       "      <td>0.472973</td>\n",
       "    </tr>\n",
       "  </tbody>\n",
       "</table>\n",
       "</div>"
      ],
      "text/plain": [
       "       total_images    last_price  last_price_mln  total_area      rooms  \\\n",
       "count     22.000000  2.200000e+01       22.000000   22.000000  22.000000   \n",
       "mean       6.954545  3.760318e+06        3.760318   35.269545   1.454545   \n",
       "std        5.232474  2.705554e+06        2.705554   21.483608   1.143398   \n",
       "min        0.000000  1.150000e+06        1.150000   17.600000   1.000000   \n",
       "25%        3.250000  2.283000e+06        2.283000   23.072500   1.000000   \n",
       "50%        6.000000  2.910000e+06        2.910000   27.180000   1.000000   \n",
       "75%        9.000000  4.050000e+06        4.050000   36.375000   1.000000   \n",
       "max       19.000000  1.335100e+07       13.351000  102.700000   6.000000   \n",
       "\n",
       "       ceiling_height  floors_total  living_area      floor  kitchen_area  \\\n",
       "count        9.000000     22.000000    22.000000  22.000000     22.000000   \n",
       "mean         2.922222     11.818182    30.767273   7.454545      1.537092   \n",
       "std          0.341056      7.359065    22.420756   6.246731      0.485366   \n",
       "min          2.500000      3.000000    14.000000   1.000000      0.534286   \n",
       "25%          2.750000      5.000000    16.000000   1.000000      1.247297   \n",
       "50%          2.800000     13.000000    20.500000   6.500000      1.600000   \n",
       "75%          3.000000     18.000000    32.900000  11.750000      1.993074   \n",
       "max          3.500000     25.000000   101.000000  19.000000      2.000000   \n",
       "\n",
       "        balcony  airports_nearest  cityCenters_nearest  parks_around3000  \\\n",
       "count  8.000000         16.000000            16.000000         16.000000   \n",
       "mean   0.375000      23351.812500         10543.875000          0.750000   \n",
       "std    0.744024       8547.076508          6057.237026          0.930949   \n",
       "min    0.000000      11761.000000          1967.000000          0.000000   \n",
       "25%    0.000000      17984.000000          4802.000000          0.000000   \n",
       "50%    0.000000      20968.000000         12403.500000          0.000000   \n",
       "75%    0.250000      31584.500000         15774.000000          2.000000   \n",
       "max    2.000000      39446.000000         19383.000000          2.000000   \n",
       "\n",
       "       parks_nearest  ponds_around3000  ponds_nearest  days_exposition  \\\n",
       "count       7.000000         16.000000      11.000000        21.000000   \n",
       "mean      460.428571          0.937500     514.454545       112.952381   \n",
       "std       176.552029          0.853913     302.187149        93.433118   \n",
       "min       231.000000          0.000000      45.000000        10.000000   \n",
       "25%       344.500000          0.000000     360.000000        44.000000   \n",
       "50%       426.000000          1.000000     537.000000       107.000000   \n",
       "75%       569.000000          1.000000     698.500000       157.000000   \n",
       "max       739.000000          3.000000     937.000000       355.000000   \n",
       "\n",
       "       other_area  living_area_share  living_area_median_share  \\\n",
       "count   22.000000          22.000000                 22.000000   \n",
       "mean     3.897727           0.838464                  0.511823   \n",
       "std      2.890007           0.122956                  0.059199   \n",
       "min      0.290000           0.500000                  0.482015   \n",
       "25%      2.000000           0.806522                  0.482015   \n",
       "50%      3.650000           0.868873                  0.482015   \n",
       "75%      4.000000           0.925673                  0.482015   \n",
       "max     14.000000           0.983447                  0.679509   \n",
       "\n",
       "       not_living_area  kitchen_area_share_of_not_living_area  \\\n",
       "count        22.000000                               7.000000   \n",
       "mean          4.502273                               0.370503   \n",
       "std           3.373178                               0.282125   \n",
       "min           1.700000                               0.125000   \n",
       "25%           2.367500                               0.183333   \n",
       "50%           3.650000                               0.250000   \n",
       "75%           4.127500                               0.489247   \n",
       "max          16.000000                               0.873362   \n",
       "\n",
       "       kitchen_area_share_of_not_living_area_median  \n",
       "count                                     22.000000  \n",
       "mean                                       0.450664  \n",
       "std                                        0.045260  \n",
       "min                                        0.314286  \n",
       "25%                                        0.472973  \n",
       "50%                                        0.472973  \n",
       "75%                                        0.472973  \n",
       "max                                        0.472973  "
      ]
     },
     "metadata": {},
     "output_type": "display_data"
    },
    {
     "data": {
      "text/html": [
       "<div>\n",
       "<style scoped>\n",
       "    .dataframe tbody tr th:only-of-type {\n",
       "        vertical-align: middle;\n",
       "    }\n",
       "\n",
       "    .dataframe tbody tr th {\n",
       "        vertical-align: top;\n",
       "    }\n",
       "\n",
       "    .dataframe thead th {\n",
       "        text-align: right;\n",
       "    }\n",
       "</style>\n",
       "<table border=\"1\" class=\"dataframe\">\n",
       "  <thead>\n",
       "    <tr style=\"text-align: right;\">\n",
       "      <th></th>\n",
       "      <th>total_images</th>\n",
       "      <th>last_price</th>\n",
       "      <th>last_price_mln</th>\n",
       "      <th>total_area</th>\n",
       "      <th>first_day_exposition</th>\n",
       "      <th>rooms</th>\n",
       "      <th>ceiling_height</th>\n",
       "      <th>floors_total</th>\n",
       "      <th>living_area</th>\n",
       "      <th>floor</th>\n",
       "      <th>is_apartment</th>\n",
       "      <th>studio</th>\n",
       "      <th>open_plan</th>\n",
       "      <th>kitchen_area</th>\n",
       "      <th>balcony</th>\n",
       "      <th>locality_name</th>\n",
       "      <th>airports_nearest</th>\n",
       "      <th>cityCenters_nearest</th>\n",
       "      <th>parks_around3000</th>\n",
       "      <th>parks_nearest</th>\n",
       "      <th>ponds_around3000</th>\n",
       "      <th>ponds_nearest</th>\n",
       "      <th>days_exposition</th>\n",
       "      <th>other_area</th>\n",
       "      <th>living_area_share</th>\n",
       "      <th>living_area_median_share</th>\n",
       "      <th>not_living_area</th>\n",
       "      <th>kitchen_area_share_of_not_living_area</th>\n",
       "      <th>kitchen_area_share_of_not_living_area_median</th>\n",
       "    </tr>\n",
       "  </thead>\n",
       "  <tbody>\n",
       "    <tr>\n",
       "      <th>895</th>\n",
       "      <td>15</td>\n",
       "      <td>2600000.0</td>\n",
       "      <td>2.60</td>\n",
       "      <td>27.0</td>\n",
       "      <td>2017-07-10T00:00:00</td>\n",
       "      <td>1</td>\n",
       "      <td>2.75</td>\n",
       "      <td>23.0</td>\n",
       "      <td>18.0</td>\n",
       "      <td>18</td>\n",
       "      <td>False</td>\n",
       "      <td>False</td>\n",
       "      <td>False</td>\n",
       "      <td>2.000000</td>\n",
       "      <td>0.0</td>\n",
       "      <td>Санкт-Петербург</td>\n",
       "      <td>22131.0</td>\n",
       "      <td>17459.0</td>\n",
       "      <td>0.0</td>\n",
       "      <td>NaN</td>\n",
       "      <td>1.0</td>\n",
       "      <td>411.0</td>\n",
       "      <td>10.0</td>\n",
       "      <td>7.0</td>\n",
       "      <td>0.666667</td>\n",
       "      <td>0.482015</td>\n",
       "      <td>9.0</td>\n",
       "      <td>0.222222</td>\n",
       "      <td>0.472973</td>\n",
       "    </tr>\n",
       "    <tr>\n",
       "      <th>2935</th>\n",
       "      <td>9</td>\n",
       "      <td>2550000.0</td>\n",
       "      <td>2.55</td>\n",
       "      <td>32.0</td>\n",
       "      <td>2017-12-02T00:00:00</td>\n",
       "      <td>1</td>\n",
       "      <td>NaN</td>\n",
       "      <td>14.0</td>\n",
       "      <td>30.2</td>\n",
       "      <td>13</td>\n",
       "      <td>False</td>\n",
       "      <td>False</td>\n",
       "      <td>False</td>\n",
       "      <td>0.851351</td>\n",
       "      <td>1.0</td>\n",
       "      <td>деревня Кудрово</td>\n",
       "      <td>NaN</td>\n",
       "      <td>NaN</td>\n",
       "      <td>NaN</td>\n",
       "      <td>NaN</td>\n",
       "      <td>NaN</td>\n",
       "      <td>NaN</td>\n",
       "      <td>157.0</td>\n",
       "      <td>1.8</td>\n",
       "      <td>0.943750</td>\n",
       "      <td>0.482015</td>\n",
       "      <td>1.8</td>\n",
       "      <td>NaN</td>\n",
       "      <td>0.472973</td>\n",
       "    </tr>\n",
       "    <tr>\n",
       "      <th>4307</th>\n",
       "      <td>19</td>\n",
       "      <td>6900000.0</td>\n",
       "      <td>6.90</td>\n",
       "      <td>72.0</td>\n",
       "      <td>2019-03-25T00:00:00</td>\n",
       "      <td>3</td>\n",
       "      <td>3.50</td>\n",
       "      <td>4.0</td>\n",
       "      <td>70.0</td>\n",
       "      <td>1</td>\n",
       "      <td>True</td>\n",
       "      <td>False</td>\n",
       "      <td>False</td>\n",
       "      <td>0.719577</td>\n",
       "      <td>NaN</td>\n",
       "      <td>Санкт-Петербург</td>\n",
       "      <td>31487.0</td>\n",
       "      <td>4466.0</td>\n",
       "      <td>2.0</td>\n",
       "      <td>353.0</td>\n",
       "      <td>1.0</td>\n",
       "      <td>439.0</td>\n",
       "      <td>22.0</td>\n",
       "      <td>2.0</td>\n",
       "      <td>0.972222</td>\n",
       "      <td>0.631614</td>\n",
       "      <td>2.0</td>\n",
       "      <td>NaN</td>\n",
       "      <td>0.359788</td>\n",
       "    </tr>\n",
       "    <tr>\n",
       "      <th>6217</th>\n",
       "      <td>9</td>\n",
       "      <td>3100000.0</td>\n",
       "      <td>3.10</td>\n",
       "      <td>24.0</td>\n",
       "      <td>2018-06-25T00:00:00</td>\n",
       "      <td>2</td>\n",
       "      <td>3.00</td>\n",
       "      <td>5.0</td>\n",
       "      <td>16.0</td>\n",
       "      <td>5</td>\n",
       "      <td>False</td>\n",
       "      <td>False</td>\n",
       "      <td>False</td>\n",
       "      <td>2.000000</td>\n",
       "      <td>NaN</td>\n",
       "      <td>Санкт-Петербург</td>\n",
       "      <td>31960.0</td>\n",
       "      <td>4914.0</td>\n",
       "      <td>2.0</td>\n",
       "      <td>426.0</td>\n",
       "      <td>1.0</td>\n",
       "      <td>936.0</td>\n",
       "      <td>54.0</td>\n",
       "      <td>6.0</td>\n",
       "      <td>0.666667</td>\n",
       "      <td>0.584906</td>\n",
       "      <td>8.0</td>\n",
       "      <td>0.250000</td>\n",
       "      <td>0.400000</td>\n",
       "    </tr>\n",
       "    <tr>\n",
       "      <th>6386</th>\n",
       "      <td>9</td>\n",
       "      <td>1590000.0</td>\n",
       "      <td>1.59</td>\n",
       "      <td>23.0</td>\n",
       "      <td>2018-07-10T00:00:00</td>\n",
       "      <td>1</td>\n",
       "      <td>3.00</td>\n",
       "      <td>18.0</td>\n",
       "      <td>19.0</td>\n",
       "      <td>1</td>\n",
       "      <td>False</td>\n",
       "      <td>False</td>\n",
       "      <td>False</td>\n",
       "      <td>1.891892</td>\n",
       "      <td>NaN</td>\n",
       "      <td>Никольское</td>\n",
       "      <td>NaN</td>\n",
       "      <td>NaN</td>\n",
       "      <td>NaN</td>\n",
       "      <td>NaN</td>\n",
       "      <td>NaN</td>\n",
       "      <td>NaN</td>\n",
       "      <td>67.0</td>\n",
       "      <td>4.0</td>\n",
       "      <td>0.826087</td>\n",
       "      <td>0.482015</td>\n",
       "      <td>4.0</td>\n",
       "      <td>NaN</td>\n",
       "      <td>0.472973</td>\n",
       "    </tr>\n",
       "  </tbody>\n",
       "</table>\n",
       "</div>"
      ],
      "text/plain": [
       "      total_images  last_price  last_price_mln  total_area  \\\n",
       "895             15   2600000.0            2.60        27.0   \n",
       "2935             9   2550000.0            2.55        32.0   \n",
       "4307            19   6900000.0            6.90        72.0   \n",
       "6217             9   3100000.0            3.10        24.0   \n",
       "6386             9   1590000.0            1.59        23.0   \n",
       "\n",
       "     first_day_exposition  rooms  ceiling_height  floors_total  living_area  \\\n",
       "895   2017-07-10T00:00:00      1            2.75          23.0         18.0   \n",
       "2935  2017-12-02T00:00:00      1             NaN          14.0         30.2   \n",
       "4307  2019-03-25T00:00:00      3            3.50           4.0         70.0   \n",
       "6217  2018-06-25T00:00:00      2            3.00           5.0         16.0   \n",
       "6386  2018-07-10T00:00:00      1            3.00          18.0         19.0   \n",
       "\n",
       "      floor  is_apartment  studio  open_plan  kitchen_area  balcony  \\\n",
       "895      18         False   False      False      2.000000      0.0   \n",
       "2935     13         False   False      False      0.851351      1.0   \n",
       "4307      1          True   False      False      0.719577      NaN   \n",
       "6217      5         False   False      False      2.000000      NaN   \n",
       "6386      1         False   False      False      1.891892      NaN   \n",
       "\n",
       "        locality_name  airports_nearest  cityCenters_nearest  \\\n",
       "895   Санкт-Петербург           22131.0              17459.0   \n",
       "2935  деревня Кудрово               NaN                  NaN   \n",
       "4307  Санкт-Петербург           31487.0               4466.0   \n",
       "6217  Санкт-Петербург           31960.0               4914.0   \n",
       "6386       Никольское               NaN                  NaN   \n",
       "\n",
       "      parks_around3000  parks_nearest  ponds_around3000  ponds_nearest  \\\n",
       "895                0.0            NaN               1.0          411.0   \n",
       "2935               NaN            NaN               NaN            NaN   \n",
       "4307               2.0          353.0               1.0          439.0   \n",
       "6217               2.0          426.0               1.0          936.0   \n",
       "6386               NaN            NaN               NaN            NaN   \n",
       "\n",
       "      days_exposition  other_area  living_area_share  \\\n",
       "895              10.0         7.0           0.666667   \n",
       "2935            157.0         1.8           0.943750   \n",
       "4307             22.0         2.0           0.972222   \n",
       "6217             54.0         6.0           0.666667   \n",
       "6386             67.0         4.0           0.826087   \n",
       "\n",
       "      living_area_median_share  not_living_area  \\\n",
       "895                   0.482015              9.0   \n",
       "2935                  0.482015              1.8   \n",
       "4307                  0.631614              2.0   \n",
       "6217                  0.584906              8.0   \n",
       "6386                  0.482015              4.0   \n",
       "\n",
       "      kitchen_area_share_of_not_living_area  \\\n",
       "895                                0.222222   \n",
       "2935                                    NaN   \n",
       "4307                                    NaN   \n",
       "6217                               0.250000   \n",
       "6386                                    NaN   \n",
       "\n",
       "      kitchen_area_share_of_not_living_area_median  \n",
       "895                                       0.472973  \n",
       "2935                                      0.472973  \n",
       "4307                                      0.359788  \n",
       "6217                                      0.400000  \n",
       "6386                                      0.472973  "
      ]
     },
     "metadata": {},
     "output_type": "display_data"
    }
   ],
   "source": [
    "display(df[(df['kitchen_area'] <= 2) & (df['kitchen_area'] != 0)].describe())\n",
    "display(df[(df['kitchen_area'] <= 2) & (df['kitchen_area'] != 0)].head(5))"
   ]
  },
  {
   "cell_type": "markdown",
   "metadata": {},
   "source": [
    "Проверим, были ли такие примеры до обработки."
   ]
  },
  {
   "cell_type": "code",
   "execution_count": 58,
   "metadata": {},
   "outputs": [
    {
     "data": {
      "text/html": [
       "<div>\n",
       "<style scoped>\n",
       "    .dataframe tbody tr th:only-of-type {\n",
       "        vertical-align: middle;\n",
       "    }\n",
       "\n",
       "    .dataframe tbody tr th {\n",
       "        vertical-align: top;\n",
       "    }\n",
       "\n",
       "    .dataframe thead th {\n",
       "        text-align: right;\n",
       "    }\n",
       "</style>\n",
       "<table border=\"1\" class=\"dataframe\">\n",
       "  <thead>\n",
       "    <tr style=\"text-align: right;\">\n",
       "      <th></th>\n",
       "      <th>total_images</th>\n",
       "      <th>last_price</th>\n",
       "      <th>total_area</th>\n",
       "      <th>rooms</th>\n",
       "      <th>ceiling_height</th>\n",
       "      <th>floors_total</th>\n",
       "      <th>living_area</th>\n",
       "      <th>floor</th>\n",
       "      <th>kitchen_area</th>\n",
       "      <th>balcony</th>\n",
       "      <th>airports_nearest</th>\n",
       "      <th>cityCenters_nearest</th>\n",
       "      <th>parks_around3000</th>\n",
       "      <th>parks_nearest</th>\n",
       "      <th>ponds_around3000</th>\n",
       "      <th>ponds_nearest</th>\n",
       "      <th>days_exposition</th>\n",
       "    </tr>\n",
       "  </thead>\n",
       "  <tbody>\n",
       "    <tr>\n",
       "      <th>count</th>\n",
       "      <td>8.000000</td>\n",
       "      <td>8.000000e+00</td>\n",
       "      <td>8.000000</td>\n",
       "      <td>8.000000</td>\n",
       "      <td>4.000000</td>\n",
       "      <td>8.000000</td>\n",
       "      <td>8.000000</td>\n",
       "      <td>8.000000</td>\n",
       "      <td>8.000000</td>\n",
       "      <td>2.0</td>\n",
       "      <td>8.000000</td>\n",
       "      <td>8.000000</td>\n",
       "      <td>8.000000</td>\n",
       "      <td>2.000000</td>\n",
       "      <td>8.000000</td>\n",
       "      <td>5.000000</td>\n",
       "      <td>7.000000</td>\n",
       "    </tr>\n",
       "    <tr>\n",
       "      <th>mean</th>\n",
       "      <td>8.125000</td>\n",
       "      <td>3.000000e+06</td>\n",
       "      <td>24.311250</td>\n",
       "      <td>1.125000</td>\n",
       "      <td>2.762500</td>\n",
       "      <td>11.000000</td>\n",
       "      <td>17.262500</td>\n",
       "      <td>7.125000</td>\n",
       "      <td>1.912500</td>\n",
       "      <td>0.0</td>\n",
       "      <td>21353.250000</td>\n",
       "      <td>10387.375000</td>\n",
       "      <td>0.375000</td>\n",
       "      <td>522.500000</td>\n",
       "      <td>0.750000</td>\n",
       "      <td>479.600000</td>\n",
       "      <td>77.000000</td>\n",
       "    </tr>\n",
       "    <tr>\n",
       "      <th>std</th>\n",
       "      <td>5.303301</td>\n",
       "      <td>1.303446e+06</td>\n",
       "      <td>5.501546</td>\n",
       "      <td>0.353553</td>\n",
       "      <td>0.205649</td>\n",
       "      <td>7.540368</td>\n",
       "      <td>3.799601</td>\n",
       "      <td>6.174545</td>\n",
       "      <td>0.247487</td>\n",
       "      <td>0.0</td>\n",
       "      <td>9053.684881</td>\n",
       "      <td>5399.525639</td>\n",
       "      <td>0.744024</td>\n",
       "      <td>136.471609</td>\n",
       "      <td>0.707107</td>\n",
       "      <td>441.500623</td>\n",
       "      <td>71.860977</td>\n",
       "    </tr>\n",
       "    <tr>\n",
       "      <th>min</th>\n",
       "      <td>2.000000</td>\n",
       "      <td>1.190000e+06</td>\n",
       "      <td>14.000000</td>\n",
       "      <td>1.000000</td>\n",
       "      <td>2.500000</td>\n",
       "      <td>3.000000</td>\n",
       "      <td>11.000000</td>\n",
       "      <td>1.000000</td>\n",
       "      <td>1.300000</td>\n",
       "      <td>0.0</td>\n",
       "      <td>9898.000000</td>\n",
       "      <td>3953.000000</td>\n",
       "      <td>0.000000</td>\n",
       "      <td>426.000000</td>\n",
       "      <td>0.000000</td>\n",
       "      <td>45.000000</td>\n",
       "      <td>4.000000</td>\n",
       "    </tr>\n",
       "    <tr>\n",
       "      <th>25%</th>\n",
       "      <td>4.750000</td>\n",
       "      <td>2.417500e+06</td>\n",
       "      <td>22.467500</td>\n",
       "      <td>1.000000</td>\n",
       "      <td>2.687500</td>\n",
       "      <td>5.000000</td>\n",
       "      <td>15.500000</td>\n",
       "      <td>1.000000</td>\n",
       "      <td>2.000000</td>\n",
       "      <td>0.0</td>\n",
       "      <td>16107.000000</td>\n",
       "      <td>4687.500000</td>\n",
       "      <td>0.000000</td>\n",
       "      <td>474.250000</td>\n",
       "      <td>0.000000</td>\n",
       "      <td>69.000000</td>\n",
       "      <td>27.500000</td>\n",
       "    </tr>\n",
       "    <tr>\n",
       "      <th>50%</th>\n",
       "      <td>6.500000</td>\n",
       "      <td>2.820000e+06</td>\n",
       "      <td>24.850000</td>\n",
       "      <td>1.000000</td>\n",
       "      <td>2.775000</td>\n",
       "      <td>9.500000</td>\n",
       "      <td>17.000000</td>\n",
       "      <td>7.500000</td>\n",
       "      <td>2.000000</td>\n",
       "      <td>0.0</td>\n",
       "      <td>19257.000000</td>\n",
       "      <td>11921.500000</td>\n",
       "      <td>0.000000</td>\n",
       "      <td>522.500000</td>\n",
       "      <td>1.000000</td>\n",
       "      <td>411.000000</td>\n",
       "      <td>54.000000</td>\n",
       "    </tr>\n",
       "    <tr>\n",
       "      <th>75%</th>\n",
       "      <td>10.500000</td>\n",
       "      <td>3.387500e+06</td>\n",
       "      <td>27.375000</td>\n",
       "      <td>1.000000</td>\n",
       "      <td>2.850000</td>\n",
       "      <td>15.250000</td>\n",
       "      <td>19.875000</td>\n",
       "      <td>10.250000</td>\n",
       "      <td>2.000000</td>\n",
       "      <td>0.0</td>\n",
       "      <td>24588.250000</td>\n",
       "      <td>13864.500000</td>\n",
       "      <td>0.250000</td>\n",
       "      <td>570.750000</td>\n",
       "      <td>1.000000</td>\n",
       "      <td>936.000000</td>\n",
       "      <td>108.000000</td>\n",
       "    </tr>\n",
       "    <tr>\n",
       "      <th>max</th>\n",
       "      <td>17.000000</td>\n",
       "      <td>5.350000e+06</td>\n",
       "      <td>32.000000</td>\n",
       "      <td>2.000000</td>\n",
       "      <td>3.000000</td>\n",
       "      <td>23.000000</td>\n",
       "      <td>22.600000</td>\n",
       "      <td>18.000000</td>\n",
       "      <td>2.000000</td>\n",
       "      <td>0.0</td>\n",
       "      <td>37199.000000</td>\n",
       "      <td>17459.000000</td>\n",
       "      <td>2.000000</td>\n",
       "      <td>619.000000</td>\n",
       "      <td>2.000000</td>\n",
       "      <td>937.000000</td>\n",
       "      <td>210.000000</td>\n",
       "    </tr>\n",
       "  </tbody>\n",
       "</table>\n",
       "</div>"
      ],
      "text/plain": [
       "       total_images    last_price  total_area     rooms  ceiling_height  \\\n",
       "count      8.000000  8.000000e+00    8.000000  8.000000        4.000000   \n",
       "mean       8.125000  3.000000e+06   24.311250  1.125000        2.762500   \n",
       "std        5.303301  1.303446e+06    5.501546  0.353553        0.205649   \n",
       "min        2.000000  1.190000e+06   14.000000  1.000000        2.500000   \n",
       "25%        4.750000  2.417500e+06   22.467500  1.000000        2.687500   \n",
       "50%        6.500000  2.820000e+06   24.850000  1.000000        2.775000   \n",
       "75%       10.500000  3.387500e+06   27.375000  1.000000        2.850000   \n",
       "max       17.000000  5.350000e+06   32.000000  2.000000        3.000000   \n",
       "\n",
       "       floors_total  living_area      floor  kitchen_area  balcony  \\\n",
       "count      8.000000     8.000000   8.000000      8.000000      2.0   \n",
       "mean      11.000000    17.262500   7.125000      1.912500      0.0   \n",
       "std        7.540368     3.799601   6.174545      0.247487      0.0   \n",
       "min        3.000000    11.000000   1.000000      1.300000      0.0   \n",
       "25%        5.000000    15.500000   1.000000      2.000000      0.0   \n",
       "50%        9.500000    17.000000   7.500000      2.000000      0.0   \n",
       "75%       15.250000    19.875000  10.250000      2.000000      0.0   \n",
       "max       23.000000    22.600000  18.000000      2.000000      0.0   \n",
       "\n",
       "       airports_nearest  cityCenters_nearest  parks_around3000  parks_nearest  \\\n",
       "count          8.000000             8.000000          8.000000       2.000000   \n",
       "mean       21353.250000         10387.375000          0.375000     522.500000   \n",
       "std         9053.684881          5399.525639          0.744024     136.471609   \n",
       "min         9898.000000          3953.000000          0.000000     426.000000   \n",
       "25%        16107.000000          4687.500000          0.000000     474.250000   \n",
       "50%        19257.000000         11921.500000          0.000000     522.500000   \n",
       "75%        24588.250000         13864.500000          0.250000     570.750000   \n",
       "max        37199.000000         17459.000000          2.000000     619.000000   \n",
       "\n",
       "       ponds_around3000  ponds_nearest  days_exposition  \n",
       "count          8.000000       5.000000         7.000000  \n",
       "mean           0.750000     479.600000        77.000000  \n",
       "std            0.707107     441.500623        71.860977  \n",
       "min            0.000000      45.000000         4.000000  \n",
       "25%            0.000000      69.000000        27.500000  \n",
       "50%            1.000000     411.000000        54.000000  \n",
       "75%            1.000000     936.000000       108.000000  \n",
       "max            2.000000     937.000000       210.000000  "
      ]
     },
     "metadata": {},
     "output_type": "display_data"
    },
    {
     "data": {
      "text/html": [
       "<div>\n",
       "<style scoped>\n",
       "    .dataframe tbody tr th:only-of-type {\n",
       "        vertical-align: middle;\n",
       "    }\n",
       "\n",
       "    .dataframe tbody tr th {\n",
       "        vertical-align: top;\n",
       "    }\n",
       "\n",
       "    .dataframe thead th {\n",
       "        text-align: right;\n",
       "    }\n",
       "</style>\n",
       "<table border=\"1\" class=\"dataframe\">\n",
       "  <thead>\n",
       "    <tr style=\"text-align: right;\">\n",
       "      <th></th>\n",
       "      <th>total_images</th>\n",
       "      <th>last_price</th>\n",
       "      <th>total_area</th>\n",
       "      <th>first_day_exposition</th>\n",
       "      <th>rooms</th>\n",
       "      <th>ceiling_height</th>\n",
       "      <th>floors_total</th>\n",
       "      <th>living_area</th>\n",
       "      <th>floor</th>\n",
       "      <th>is_apartment</th>\n",
       "      <th>studio</th>\n",
       "      <th>open_plan</th>\n",
       "      <th>kitchen_area</th>\n",
       "      <th>balcony</th>\n",
       "      <th>locality_name</th>\n",
       "      <th>airports_nearest</th>\n",
       "      <th>cityCenters_nearest</th>\n",
       "      <th>parks_around3000</th>\n",
       "      <th>parks_nearest</th>\n",
       "      <th>ponds_around3000</th>\n",
       "      <th>ponds_nearest</th>\n",
       "      <th>days_exposition</th>\n",
       "    </tr>\n",
       "  </thead>\n",
       "  <tbody>\n",
       "    <tr>\n",
       "      <th>906</th>\n",
       "      <td>15</td>\n",
       "      <td>2600000.0</td>\n",
       "      <td>27.00</td>\n",
       "      <td>2017-07-10T00:00:00</td>\n",
       "      <td>1</td>\n",
       "      <td>2.75</td>\n",
       "      <td>23.0</td>\n",
       "      <td>18.0</td>\n",
       "      <td>18</td>\n",
       "      <td>NaN</td>\n",
       "      <td>False</td>\n",
       "      <td>False</td>\n",
       "      <td>2.0</td>\n",
       "      <td>0.0</td>\n",
       "      <td>Санкт-Петербург</td>\n",
       "      <td>22131.0</td>\n",
       "      <td>17459.0</td>\n",
       "      <td>0.0</td>\n",
       "      <td>NaN</td>\n",
       "      <td>1.0</td>\n",
       "      <td>411.0</td>\n",
       "      <td>10.0</td>\n",
       "    </tr>\n",
       "    <tr>\n",
       "      <th>6262</th>\n",
       "      <td>9</td>\n",
       "      <td>3100000.0</td>\n",
       "      <td>24.00</td>\n",
       "      <td>2018-06-25T00:00:00</td>\n",
       "      <td>2</td>\n",
       "      <td>3.00</td>\n",
       "      <td>5.0</td>\n",
       "      <td>16.0</td>\n",
       "      <td>5</td>\n",
       "      <td>NaN</td>\n",
       "      <td>False</td>\n",
       "      <td>False</td>\n",
       "      <td>2.0</td>\n",
       "      <td>NaN</td>\n",
       "      <td>Санкт-Петербург</td>\n",
       "      <td>31960.0</td>\n",
       "      <td>4914.0</td>\n",
       "      <td>2.0</td>\n",
       "      <td>426.0</td>\n",
       "      <td>1.0</td>\n",
       "      <td>936.0</td>\n",
       "      <td>54.0</td>\n",
       "    </tr>\n",
       "    <tr>\n",
       "      <th>9138</th>\n",
       "      <td>17</td>\n",
       "      <td>2920000.0</td>\n",
       "      <td>23.29</td>\n",
       "      <td>2018-12-12T00:00:00</td>\n",
       "      <td>1</td>\n",
       "      <td>NaN</td>\n",
       "      <td>3.0</td>\n",
       "      <td>21.0</td>\n",
       "      <td>1</td>\n",
       "      <td>NaN</td>\n",
       "      <td>False</td>\n",
       "      <td>False</td>\n",
       "      <td>2.0</td>\n",
       "      <td>NaN</td>\n",
       "      <td>Санкт-Петербург</td>\n",
       "      <td>19506.0</td>\n",
       "      <td>4008.0</td>\n",
       "      <td>0.0</td>\n",
       "      <td>NaN</td>\n",
       "      <td>2.0</td>\n",
       "      <td>45.0</td>\n",
       "      <td>107.0</td>\n",
       "    </tr>\n",
       "    <tr>\n",
       "      <th>11033</th>\n",
       "      <td>6</td>\n",
       "      <td>5350000.0</td>\n",
       "      <td>32.00</td>\n",
       "      <td>2016-04-20T00:00:00</td>\n",
       "      <td>1</td>\n",
       "      <td>NaN</td>\n",
       "      <td>14.0</td>\n",
       "      <td>16.0</td>\n",
       "      <td>10</td>\n",
       "      <td>NaN</td>\n",
       "      <td>False</td>\n",
       "      <td>False</td>\n",
       "      <td>2.0</td>\n",
       "      <td>0.0</td>\n",
       "      <td>Санкт-Петербург</td>\n",
       "      <td>19008.0</td>\n",
       "      <td>3953.0</td>\n",
       "      <td>0.0</td>\n",
       "      <td>NaN</td>\n",
       "      <td>1.0</td>\n",
       "      <td>69.0</td>\n",
       "      <td>210.0</td>\n",
       "    </tr>\n",
       "    <tr>\n",
       "      <th>16367</th>\n",
       "      <td>2</td>\n",
       "      <td>2720000.0</td>\n",
       "      <td>25.70</td>\n",
       "      <td>2017-10-30T00:00:00</td>\n",
       "      <td>1</td>\n",
       "      <td>NaN</td>\n",
       "      <td>19.0</td>\n",
       "      <td>22.6</td>\n",
       "      <td>11</td>\n",
       "      <td>NaN</td>\n",
       "      <td>False</td>\n",
       "      <td>False</td>\n",
       "      <td>2.0</td>\n",
       "      <td>NaN</td>\n",
       "      <td>Санкт-Петербург</td>\n",
       "      <td>14472.0</td>\n",
       "      <td>13268.0</td>\n",
       "      <td>0.0</td>\n",
       "      <td>NaN</td>\n",
       "      <td>0.0</td>\n",
       "      <td>NaN</td>\n",
       "      <td>109.0</td>\n",
       "    </tr>\n",
       "    <tr>\n",
       "      <th>19642</th>\n",
       "      <td>5</td>\n",
       "      <td>1190000.0</td>\n",
       "      <td>14.00</td>\n",
       "      <td>2018-07-29T00:00:00</td>\n",
       "      <td>1</td>\n",
       "      <td>NaN</td>\n",
       "      <td>5.0</td>\n",
       "      <td>11.0</td>\n",
       "      <td>1</td>\n",
       "      <td>NaN</td>\n",
       "      <td>False</td>\n",
       "      <td>False</td>\n",
       "      <td>2.0</td>\n",
       "      <td>NaN</td>\n",
       "      <td>Санкт-Петербург</td>\n",
       "      <td>9898.0</td>\n",
       "      <td>11122.0</td>\n",
       "      <td>0.0</td>\n",
       "      <td>NaN</td>\n",
       "      <td>0.0</td>\n",
       "      <td>NaN</td>\n",
       "      <td>4.0</td>\n",
       "    </tr>\n",
       "    <tr>\n",
       "      <th>20217</th>\n",
       "      <td>7</td>\n",
       "      <td>4250000.0</td>\n",
       "      <td>28.50</td>\n",
       "      <td>2019-05-01T00:00:00</td>\n",
       "      <td>1</td>\n",
       "      <td>2.80</td>\n",
       "      <td>14.0</td>\n",
       "      <td>19.5</td>\n",
       "      <td>10</td>\n",
       "      <td>NaN</td>\n",
       "      <td>False</td>\n",
       "      <td>False</td>\n",
       "      <td>1.3</td>\n",
       "      <td>NaN</td>\n",
       "      <td>Санкт-Петербург</td>\n",
       "      <td>37199.0</td>\n",
       "      <td>12721.0</td>\n",
       "      <td>0.0</td>\n",
       "      <td>NaN</td>\n",
       "      <td>0.0</td>\n",
       "      <td>NaN</td>\n",
       "      <td>NaN</td>\n",
       "    </tr>\n",
       "    <tr>\n",
       "      <th>21419</th>\n",
       "      <td>4</td>\n",
       "      <td>1870000.0</td>\n",
       "      <td>20.00</td>\n",
       "      <td>2018-03-06T00:00:00</td>\n",
       "      <td>1</td>\n",
       "      <td>2.50</td>\n",
       "      <td>5.0</td>\n",
       "      <td>14.0</td>\n",
       "      <td>1</td>\n",
       "      <td>NaN</td>\n",
       "      <td>False</td>\n",
       "      <td>False</td>\n",
       "      <td>2.0</td>\n",
       "      <td>NaN</td>\n",
       "      <td>Санкт-Петербург</td>\n",
       "      <td>16652.0</td>\n",
       "      <td>15654.0</td>\n",
       "      <td>1.0</td>\n",
       "      <td>619.0</td>\n",
       "      <td>1.0</td>\n",
       "      <td>937.0</td>\n",
       "      <td>45.0</td>\n",
       "    </tr>\n",
       "  </tbody>\n",
       "</table>\n",
       "</div>"
      ],
      "text/plain": [
       "       total_images  last_price  total_area first_day_exposition  rooms  \\\n",
       "906              15   2600000.0       27.00  2017-07-10T00:00:00      1   \n",
       "6262              9   3100000.0       24.00  2018-06-25T00:00:00      2   \n",
       "9138             17   2920000.0       23.29  2018-12-12T00:00:00      1   \n",
       "11033             6   5350000.0       32.00  2016-04-20T00:00:00      1   \n",
       "16367             2   2720000.0       25.70  2017-10-30T00:00:00      1   \n",
       "19642             5   1190000.0       14.00  2018-07-29T00:00:00      1   \n",
       "20217             7   4250000.0       28.50  2019-05-01T00:00:00      1   \n",
       "21419             4   1870000.0       20.00  2018-03-06T00:00:00      1   \n",
       "\n",
       "       ceiling_height  floors_total  living_area  floor is_apartment  studio  \\\n",
       "906              2.75          23.0         18.0     18          NaN   False   \n",
       "6262             3.00           5.0         16.0      5          NaN   False   \n",
       "9138              NaN           3.0         21.0      1          NaN   False   \n",
       "11033             NaN          14.0         16.0     10          NaN   False   \n",
       "16367             NaN          19.0         22.6     11          NaN   False   \n",
       "19642             NaN           5.0         11.0      1          NaN   False   \n",
       "20217            2.80          14.0         19.5     10          NaN   False   \n",
       "21419            2.50           5.0         14.0      1          NaN   False   \n",
       "\n",
       "       open_plan  kitchen_area  balcony    locality_name  airports_nearest  \\\n",
       "906        False           2.0      0.0  Санкт-Петербург           22131.0   \n",
       "6262       False           2.0      NaN  Санкт-Петербург           31960.0   \n",
       "9138       False           2.0      NaN  Санкт-Петербург           19506.0   \n",
       "11033      False           2.0      0.0  Санкт-Петербург           19008.0   \n",
       "16367      False           2.0      NaN  Санкт-Петербург           14472.0   \n",
       "19642      False           2.0      NaN  Санкт-Петербург            9898.0   \n",
       "20217      False           1.3      NaN  Санкт-Петербург           37199.0   \n",
       "21419      False           2.0      NaN  Санкт-Петербург           16652.0   \n",
       "\n",
       "       cityCenters_nearest  parks_around3000  parks_nearest  ponds_around3000  \\\n",
       "906                17459.0               0.0            NaN               1.0   \n",
       "6262                4914.0               2.0          426.0               1.0   \n",
       "9138                4008.0               0.0            NaN               2.0   \n",
       "11033               3953.0               0.0            NaN               1.0   \n",
       "16367              13268.0               0.0            NaN               0.0   \n",
       "19642              11122.0               0.0            NaN               0.0   \n",
       "20217              12721.0               0.0            NaN               0.0   \n",
       "21419              15654.0               1.0          619.0               1.0   \n",
       "\n",
       "       ponds_nearest  days_exposition  \n",
       "906            411.0             10.0  \n",
       "6262           936.0             54.0  \n",
       "9138            45.0            107.0  \n",
       "11033           69.0            210.0  \n",
       "16367            NaN            109.0  \n",
       "19642            NaN              4.0  \n",
       "20217            NaN              NaN  \n",
       "21419          937.0             45.0  "
      ]
     },
     "metadata": {},
     "output_type": "display_data"
    }
   ],
   "source": [
    "display(original_df[(original_df['kitchen_area'] <= 2) &\n",
    "        (original_df['kitchen_area'] != 0)].describe())\n",
    "display(original_df[(original_df['kitchen_area'] <= 2)\n",
    "        & (original_df['kitchen_area'] != 0)].head(8))"
   ]
  },
  {
   "cell_type": "markdown",
   "metadata": {},
   "source": [
    "Вообще квартиры с площадью кухни меньше 2 метров были и раньше. 8 квартир, но из этих 8 было 7 однушек, чего не скажешь о новых данных."
   ]
  },
  {
   "cell_type": "code",
   "execution_count": 59,
   "metadata": {},
   "outputs": [
    {
     "data": {
      "text/html": [
       "<div>\n",
       "<style scoped>\n",
       "    .dataframe tbody tr th:only-of-type {\n",
       "        vertical-align: middle;\n",
       "    }\n",
       "\n",
       "    .dataframe tbody tr th {\n",
       "        vertical-align: top;\n",
       "    }\n",
       "\n",
       "    .dataframe thead th {\n",
       "        text-align: right;\n",
       "    }\n",
       "</style>\n",
       "<table border=\"1\" class=\"dataframe\">\n",
       "  <thead>\n",
       "    <tr style=\"text-align: right;\">\n",
       "      <th></th>\n",
       "      <th>rooms</th>\n",
       "    </tr>\n",
       "    <tr>\n",
       "      <th>total_area</th>\n",
       "      <th></th>\n",
       "    </tr>\n",
       "  </thead>\n",
       "  <tbody>\n",
       "    <tr>\n",
       "      <th>17.60</th>\n",
       "      <td>1</td>\n",
       "    </tr>\n",
       "    <tr>\n",
       "      <th>17.78</th>\n",
       "      <td>1</td>\n",
       "    </tr>\n",
       "    <tr>\n",
       "      <th>18.90</th>\n",
       "      <td>1</td>\n",
       "    </tr>\n",
       "    <tr>\n",
       "      <th>20.00</th>\n",
       "      <td>2</td>\n",
       "    </tr>\n",
       "    <tr>\n",
       "      <th>23.00</th>\n",
       "      <td>1</td>\n",
       "    </tr>\n",
       "    <tr>\n",
       "      <th>23.29</th>\n",
       "      <td>1</td>\n",
       "    </tr>\n",
       "    <tr>\n",
       "      <th>23.30</th>\n",
       "      <td>1</td>\n",
       "    </tr>\n",
       "    <tr>\n",
       "      <th>24.00</th>\n",
       "      <td>1</td>\n",
       "    </tr>\n",
       "    <tr>\n",
       "      <th>25.70</th>\n",
       "      <td>1</td>\n",
       "    </tr>\n",
       "    <tr>\n",
       "      <th>27.00</th>\n",
       "      <td>1</td>\n",
       "    </tr>\n",
       "  </tbody>\n",
       "</table>\n",
       "</div>"
      ],
      "text/plain": [
       "            rooms\n",
       "total_area       \n",
       "17.60           1\n",
       "17.78           1\n",
       "18.90           1\n",
       "20.00           2\n",
       "23.00           1\n",
       "23.29           1\n",
       "23.30           1\n",
       "24.00           1\n",
       "25.70           1\n",
       "27.00           1"
      ]
     },
     "execution_count": 59,
     "metadata": {},
     "output_type": "execute_result"
    }
   ],
   "source": [
    "df[(df['kitchen_area'] <= 2) & (df['kitchen_area'] != 0)].pivot_table(\n",
    "    index='total_area', values='rooms', aggfunc='count').head(10)"
   ]
  },
  {
   "cell_type": "markdown",
   "metadata": {},
   "source": [
    "В общем, у обработки пропусков есть свои минусы. Удалим все квартиры с площадью кухни меньше двух метров."
   ]
  },
  {
   "cell_type": "code",
   "execution_count": 60,
   "metadata": {
    "tags": []
   },
   "outputs": [],
   "source": [
    "df = df.drop(df[(df['kitchen_area'] <= 2) & (\n",
    "    df['kitchen_area'] != 0)].index).reset_index(drop=True)"
   ]
  },
  {
   "cell_type": "code",
   "execution_count": 61,
   "metadata": {
    "tags": []
   },
   "outputs": [],
   "source": [
    "df = df.drop(['other_area', 'living_area_share', 'living_area_median_share', 'not_living_area',\n",
    "             'kitchen_area_share_of_not_living_area', 'kitchen_area_share_of_not_living_area_median'], axis=1)"
   ]
  },
  {
   "cell_type": "markdown",
   "metadata": {
    "tags": []
   },
   "source": [
    "Последняя проверка"
   ]
  },
  {
   "cell_type": "code",
   "execution_count": 62,
   "metadata": {
    "tags": []
   },
   "outputs": [
    {
     "data": {
      "text/plain": [
       "count    2.349700e+04\n",
       "mean     1.535456e+01\n",
       "std      1.200629e+01\n",
       "min     -3.552714e-15\n",
       "25%      9.500000e+00\n",
       "50%      1.260000e+01\n",
       "75%      1.760000e+01\n",
       "max      3.783000e+02\n",
       "Name: check, dtype: float64"
      ]
     },
     "execution_count": 62,
     "metadata": {},
     "output_type": "execute_result"
    }
   ],
   "source": [
    "df['check'] = df['total_area'] - df['living_area'] - df['kitchen_area']\n",
    "df['check'].describe()"
   ]
  },
  {
   "cell_type": "markdown",
   "metadata": {
    "tags": []
   },
   "source": [
    "Мы получили какое-то ничтожно маленькое отрицательно число. Будем считать, что все успешно."
   ]
  },
  {
   "cell_type": "code",
   "execution_count": 63,
   "metadata": {},
   "outputs": [
    {
     "data": {
      "text/plain": [
       "total_images                0\n",
       "last_price                  0\n",
       "last_price_mln              0\n",
       "total_area                  0\n",
       "first_day_exposition        0\n",
       "rooms                       0\n",
       "ceiling_height           9076\n",
       "floors_total                0\n",
       "living_area                 0\n",
       "floor                       0\n",
       "is_apartment                0\n",
       "studio                      0\n",
       "open_plan                   0\n",
       "kitchen_area                0\n",
       "balcony                 11423\n",
       "locality_name              48\n",
       "airports_nearest         5496\n",
       "cityCenters_nearest      5473\n",
       "parks_around3000         5472\n",
       "parks_nearest           15489\n",
       "ponds_around3000         5472\n",
       "ponds_nearest           14478\n",
       "days_exposition          3160\n",
       "check                       0\n",
       "dtype: int64"
      ]
     },
     "execution_count": 63,
     "metadata": {},
     "output_type": "execute_result"
    }
   ],
   "source": [
    "df.isna().sum()"
   ]
  },
  {
   "cell_type": "code",
   "execution_count": 64,
   "metadata": {},
   "outputs": [],
   "source": [
    "df = df.drop(['check'], axis=1)"
   ]
  },
  {
   "cell_type": "markdown",
   "metadata": {},
   "source": [
    "#### balcony"
   ]
  },
  {
   "cell_type": "code",
   "execution_count": 65,
   "metadata": {},
   "outputs": [
    {
     "data": {
      "text/plain": [
       "NaN    11423\n",
       "1.0     4178\n",
       "0.0     3699\n",
       "2.0     3633\n",
       "5.0      302\n",
       "4.0      183\n",
       "3.0       79\n",
       "Name: balcony, dtype: int64"
      ]
     },
     "execution_count": 65,
     "metadata": {},
     "output_type": "execute_result"
    }
   ],
   "source": [
    "df['balcony'].value_counts(dropna=False)"
   ]
  },
  {
   "cell_type": "markdown",
   "metadata": {},
   "source": [
    "Пропуски в столбце balcony, скорее всего, связано с отсутствием балконов"
   ]
  },
  {
   "cell_type": "code",
   "execution_count": 66,
   "metadata": {},
   "outputs": [],
   "source": [
    "df['balcony'].fillna(0, inplace=True)"
   ]
  },
  {
   "cell_type": "code",
   "execution_count": 67,
   "metadata": {},
   "outputs": [
    {
     "data": {
      "text/plain": [
       "total_images                0\n",
       "last_price                  0\n",
       "last_price_mln              0\n",
       "total_area                  0\n",
       "first_day_exposition        0\n",
       "rooms                       0\n",
       "ceiling_height           9076\n",
       "floors_total                0\n",
       "living_area                 0\n",
       "floor                       0\n",
       "is_apartment                0\n",
       "studio                      0\n",
       "open_plan                   0\n",
       "kitchen_area                0\n",
       "balcony                     0\n",
       "locality_name              48\n",
       "airports_nearest         5496\n",
       "cityCenters_nearest      5473\n",
       "parks_around3000         5472\n",
       "parks_nearest           15489\n",
       "ponds_around3000         5472\n",
       "ponds_nearest           14478\n",
       "days_exposition          3160\n",
       "dtype: int64"
      ]
     },
     "execution_count": 67,
     "metadata": {},
     "output_type": "execute_result"
    }
   ],
   "source": [
    "df.isna().sum()"
   ]
  },
  {
   "cell_type": "markdown",
   "metadata": {},
   "source": [
    "#### locality_name"
   ]
  },
  {
   "cell_type": "markdown",
   "metadata": {},
   "source": [
    "48 строк не включают информации о местоположении квартиры. Скорее всего, это техническая ошибка. Удалим данные строки."
   ]
  },
  {
   "cell_type": "code",
   "execution_count": 68,
   "metadata": {},
   "outputs": [],
   "source": [
    "df.dropna(subset=['locality_name'], inplace=True)"
   ]
  },
  {
   "cell_type": "code",
   "execution_count": 69,
   "metadata": {},
   "outputs": [
    {
     "data": {
      "text/plain": [
       "total_images                0\n",
       "last_price                  0\n",
       "last_price_mln              0\n",
       "total_area                  0\n",
       "first_day_exposition        0\n",
       "rooms                       0\n",
       "ceiling_height           9042\n",
       "floors_total                0\n",
       "living_area                 0\n",
       "floor                       0\n",
       "is_apartment                0\n",
       "studio                      0\n",
       "open_plan                   0\n",
       "kitchen_area                0\n",
       "balcony                     0\n",
       "locality_name               0\n",
       "airports_nearest         5488\n",
       "cityCenters_nearest      5465\n",
       "parks_around3000         5464\n",
       "parks_nearest           15456\n",
       "ponds_around3000         5464\n",
       "ponds_nearest           14455\n",
       "days_exposition          3159\n",
       "dtype: int64"
      ]
     },
     "execution_count": 69,
     "metadata": {},
     "output_type": "execute_result"
    }
   ],
   "source": [
    "df.isna().sum()"
   ]
  },
  {
   "cell_type": "code",
   "execution_count": 70,
   "metadata": {},
   "outputs": [
    {
     "data": {
      "text/plain": [
       "Санкт-Петербург    15578\n",
       "посёлок Мурино       516\n",
       "посёлок Шушары       437\n",
       "Всеволожск           393\n",
       "Пушкин               369\n",
       "Name: locality_name, dtype: int64"
      ]
     },
     "execution_count": 70,
     "metadata": {},
     "output_type": "execute_result"
    }
   ],
   "source": [
    "df['locality_name'].value_counts().head()"
   ]
  },
  {
   "cell_type": "markdown",
   "metadata": {},
   "source": [
    "Также на всякий случай обеспечим написание наименований населенных пунктов одним и тем же способом. Во-первых приведем все к нижнему регистру."
   ]
  },
  {
   "cell_type": "code",
   "execution_count": 71,
   "metadata": {},
   "outputs": [],
   "source": [
    "df['locality_name'] = df['locality_name'].str.lower()"
   ]
  },
  {
   "cell_type": "code",
   "execution_count": 72,
   "metadata": {},
   "outputs": [],
   "source": [
    "df['locality_name'] = df['locality_name'].str.replace('ё', 'e')"
   ]
  },
  {
   "cell_type": "code",
   "execution_count": 73,
   "metadata": {},
   "outputs": [
    {
     "data": {
      "text/plain": [
       "санкт-петербург    15578\n",
       "посeлок мурино       516\n",
       "посeлок шушары       437\n",
       "всеволожск           393\n",
       "пушкин               369\n",
       "Name: locality_name, dtype: int64"
      ]
     },
     "execution_count": 73,
     "metadata": {},
     "output_type": "execute_result"
    }
   ],
   "source": [
    "df['locality_name'].value_counts().head()"
   ]
  },
  {
   "cell_type": "markdown",
   "metadata": {},
   "source": [
    "#### airports_nearest"
   ]
  },
  {
   "cell_type": "code",
   "execution_count": 74,
   "metadata": {},
   "outputs": [
    {
     "data": {
      "text/html": [
       "<div>\n",
       "<style scoped>\n",
       "    .dataframe tbody tr th:only-of-type {\n",
       "        vertical-align: middle;\n",
       "    }\n",
       "\n",
       "    .dataframe tbody tr th {\n",
       "        vertical-align: top;\n",
       "    }\n",
       "\n",
       "    .dataframe thead th {\n",
       "        text-align: right;\n",
       "    }\n",
       "</style>\n",
       "<table border=\"1\" class=\"dataframe\">\n",
       "  <thead>\n",
       "    <tr style=\"text-align: right;\">\n",
       "      <th></th>\n",
       "      <th>total_images</th>\n",
       "      <th>last_price</th>\n",
       "      <th>last_price_mln</th>\n",
       "      <th>total_area</th>\n",
       "      <th>first_day_exposition</th>\n",
       "      <th>rooms</th>\n",
       "      <th>ceiling_height</th>\n",
       "      <th>floors_total</th>\n",
       "      <th>living_area</th>\n",
       "      <th>floor</th>\n",
       "      <th>is_apartment</th>\n",
       "      <th>studio</th>\n",
       "      <th>open_plan</th>\n",
       "      <th>kitchen_area</th>\n",
       "      <th>balcony</th>\n",
       "      <th>locality_name</th>\n",
       "      <th>airports_nearest</th>\n",
       "      <th>cityCenters_nearest</th>\n",
       "      <th>parks_around3000</th>\n",
       "      <th>parks_nearest</th>\n",
       "      <th>ponds_around3000</th>\n",
       "      <th>ponds_nearest</th>\n",
       "      <th>days_exposition</th>\n",
       "    </tr>\n",
       "  </thead>\n",
       "  <tbody>\n",
       "    <tr>\n",
       "      <th>5</th>\n",
       "      <td>10</td>\n",
       "      <td>2890000.0</td>\n",
       "      <td>2.89</td>\n",
       "      <td>30.40</td>\n",
       "      <td>2018-09-10T00:00:00</td>\n",
       "      <td>1</td>\n",
       "      <td>NaN</td>\n",
       "      <td>12.0</td>\n",
       "      <td>14.400000</td>\n",
       "      <td>5</td>\n",
       "      <td>False</td>\n",
       "      <td>False</td>\n",
       "      <td>False</td>\n",
       "      <td>9.100000</td>\n",
       "      <td>0.0</td>\n",
       "      <td>городской посeлок янино-1</td>\n",
       "      <td>NaN</td>\n",
       "      <td>NaN</td>\n",
       "      <td>NaN</td>\n",
       "      <td>NaN</td>\n",
       "      <td>NaN</td>\n",
       "      <td>NaN</td>\n",
       "      <td>55.0</td>\n",
       "    </tr>\n",
       "    <tr>\n",
       "      <th>8</th>\n",
       "      <td>20</td>\n",
       "      <td>2900000.0</td>\n",
       "      <td>2.90</td>\n",
       "      <td>33.16</td>\n",
       "      <td>2018-05-23T00:00:00</td>\n",
       "      <td>1</td>\n",
       "      <td>NaN</td>\n",
       "      <td>27.0</td>\n",
       "      <td>15.430000</td>\n",
       "      <td>26</td>\n",
       "      <td>False</td>\n",
       "      <td>False</td>\n",
       "      <td>False</td>\n",
       "      <td>8.810000</td>\n",
       "      <td>0.0</td>\n",
       "      <td>посeлок мурино</td>\n",
       "      <td>NaN</td>\n",
       "      <td>NaN</td>\n",
       "      <td>NaN</td>\n",
       "      <td>NaN</td>\n",
       "      <td>NaN</td>\n",
       "      <td>NaN</td>\n",
       "      <td>189.0</td>\n",
       "    </tr>\n",
       "    <tr>\n",
       "      <th>12</th>\n",
       "      <td>10</td>\n",
       "      <td>3890000.0</td>\n",
       "      <td>3.89</td>\n",
       "      <td>54.00</td>\n",
       "      <td>2016-06-30T00:00:00</td>\n",
       "      <td>2</td>\n",
       "      <td>NaN</td>\n",
       "      <td>5.0</td>\n",
       "      <td>30.000000</td>\n",
       "      <td>5</td>\n",
       "      <td>False</td>\n",
       "      <td>False</td>\n",
       "      <td>False</td>\n",
       "      <td>9.000000</td>\n",
       "      <td>0.0</td>\n",
       "      <td>сертолово</td>\n",
       "      <td>NaN</td>\n",
       "      <td>NaN</td>\n",
       "      <td>NaN</td>\n",
       "      <td>NaN</td>\n",
       "      <td>NaN</td>\n",
       "      <td>NaN</td>\n",
       "      <td>90.0</td>\n",
       "    </tr>\n",
       "    <tr>\n",
       "      <th>22</th>\n",
       "      <td>20</td>\n",
       "      <td>5000000.0</td>\n",
       "      <td>5.00</td>\n",
       "      <td>58.00</td>\n",
       "      <td>2017-04-24T00:00:00</td>\n",
       "      <td>2</td>\n",
       "      <td>2.75</td>\n",
       "      <td>25.0</td>\n",
       "      <td>30.000000</td>\n",
       "      <td>15</td>\n",
       "      <td>False</td>\n",
       "      <td>False</td>\n",
       "      <td>False</td>\n",
       "      <td>11.000000</td>\n",
       "      <td>2.0</td>\n",
       "      <td>деревня кудрово</td>\n",
       "      <td>NaN</td>\n",
       "      <td>NaN</td>\n",
       "      <td>NaN</td>\n",
       "      <td>NaN</td>\n",
       "      <td>NaN</td>\n",
       "      <td>NaN</td>\n",
       "      <td>60.0</td>\n",
       "    </tr>\n",
       "    <tr>\n",
       "      <th>30</th>\n",
       "      <td>12</td>\n",
       "      <td>2200000.0</td>\n",
       "      <td>2.20</td>\n",
       "      <td>32.80</td>\n",
       "      <td>2018-02-19T00:00:00</td>\n",
       "      <td>1</td>\n",
       "      <td>NaN</td>\n",
       "      <td>9.0</td>\n",
       "      <td>15.810098</td>\n",
       "      <td>2</td>\n",
       "      <td>False</td>\n",
       "      <td>False</td>\n",
       "      <td>False</td>\n",
       "      <td>8.035764</td>\n",
       "      <td>0.0</td>\n",
       "      <td>коммунар</td>\n",
       "      <td>NaN</td>\n",
       "      <td>NaN</td>\n",
       "      <td>NaN</td>\n",
       "      <td>NaN</td>\n",
       "      <td>NaN</td>\n",
       "      <td>NaN</td>\n",
       "      <td>63.0</td>\n",
       "    </tr>\n",
       "    <tr>\n",
       "      <th>37</th>\n",
       "      <td>10</td>\n",
       "      <td>1990000.0</td>\n",
       "      <td>1.99</td>\n",
       "      <td>45.80</td>\n",
       "      <td>2017-10-28T00:00:00</td>\n",
       "      <td>2</td>\n",
       "      <td>2.50</td>\n",
       "      <td>5.0</td>\n",
       "      <td>26.788679</td>\n",
       "      <td>1</td>\n",
       "      <td>False</td>\n",
       "      <td>False</td>\n",
       "      <td>False</td>\n",
       "      <td>7.604528</td>\n",
       "      <td>0.0</td>\n",
       "      <td>поселок городского типа красный бор</td>\n",
       "      <td>NaN</td>\n",
       "      <td>NaN</td>\n",
       "      <td>NaN</td>\n",
       "      <td>NaN</td>\n",
       "      <td>NaN</td>\n",
       "      <td>NaN</td>\n",
       "      <td>196.0</td>\n",
       "    </tr>\n",
       "    <tr>\n",
       "      <th>38</th>\n",
       "      <td>10</td>\n",
       "      <td>3150000.0</td>\n",
       "      <td>3.15</td>\n",
       "      <td>40.00</td>\n",
       "      <td>2018-03-29T00:00:00</td>\n",
       "      <td>1</td>\n",
       "      <td>2.75</td>\n",
       "      <td>18.0</td>\n",
       "      <td>16.300000</td>\n",
       "      <td>9</td>\n",
       "      <td>False</td>\n",
       "      <td>False</td>\n",
       "      <td>False</td>\n",
       "      <td>11.600000</td>\n",
       "      <td>0.0</td>\n",
       "      <td>посeлок мурино</td>\n",
       "      <td>NaN</td>\n",
       "      <td>NaN</td>\n",
       "      <td>NaN</td>\n",
       "      <td>NaN</td>\n",
       "      <td>NaN</td>\n",
       "      <td>NaN</td>\n",
       "      <td>103.0</td>\n",
       "    </tr>\n",
       "    <tr>\n",
       "      <th>47</th>\n",
       "      <td>17</td>\n",
       "      <td>3600000.0</td>\n",
       "      <td>3.60</td>\n",
       "      <td>56.10</td>\n",
       "      <td>2018-10-18T00:00:00</td>\n",
       "      <td>3</td>\n",
       "      <td>NaN</td>\n",
       "      <td>4.0</td>\n",
       "      <td>42.500000</td>\n",
       "      <td>3</td>\n",
       "      <td>False</td>\n",
       "      <td>False</td>\n",
       "      <td>False</td>\n",
       "      <td>5.700000</td>\n",
       "      <td>1.0</td>\n",
       "      <td>гатчина</td>\n",
       "      <td>NaN</td>\n",
       "      <td>NaN</td>\n",
       "      <td>NaN</td>\n",
       "      <td>NaN</td>\n",
       "      <td>NaN</td>\n",
       "      <td>NaN</td>\n",
       "      <td>179.0</td>\n",
       "    </tr>\n",
       "    <tr>\n",
       "      <th>60</th>\n",
       "      <td>3</td>\n",
       "      <td>2740000.0</td>\n",
       "      <td>2.74</td>\n",
       "      <td>35.00</td>\n",
       "      <td>2018-01-01T00:00:00</td>\n",
       "      <td>1</td>\n",
       "      <td>NaN</td>\n",
       "      <td>12.0</td>\n",
       "      <td>16.870532</td>\n",
       "      <td>8</td>\n",
       "      <td>False</td>\n",
       "      <td>False</td>\n",
       "      <td>False</td>\n",
       "      <td>8.574748</td>\n",
       "      <td>0.0</td>\n",
       "      <td>посeлок мурино</td>\n",
       "      <td>NaN</td>\n",
       "      <td>NaN</td>\n",
       "      <td>NaN</td>\n",
       "      <td>NaN</td>\n",
       "      <td>NaN</td>\n",
       "      <td>NaN</td>\n",
       "      <td>11.0</td>\n",
       "    </tr>\n",
       "    <tr>\n",
       "      <th>62</th>\n",
       "      <td>0</td>\n",
       "      <td>4800000.0</td>\n",
       "      <td>4.80</td>\n",
       "      <td>78.60</td>\n",
       "      <td>2017-09-17T00:00:00</td>\n",
       "      <td>3</td>\n",
       "      <td>2.80</td>\n",
       "      <td>9.0</td>\n",
       "      <td>48.800000</td>\n",
       "      <td>5</td>\n",
       "      <td>False</td>\n",
       "      <td>False</td>\n",
       "      <td>False</td>\n",
       "      <td>11.900000</td>\n",
       "      <td>2.0</td>\n",
       "      <td>сертолово</td>\n",
       "      <td>NaN</td>\n",
       "      <td>NaN</td>\n",
       "      <td>NaN</td>\n",
       "      <td>NaN</td>\n",
       "      <td>NaN</td>\n",
       "      <td>NaN</td>\n",
       "      <td>5.0</td>\n",
       "    </tr>\n",
       "  </tbody>\n",
       "</table>\n",
       "</div>"
      ],
      "text/plain": [
       "    total_images  last_price  last_price_mln  total_area first_day_exposition  \\\n",
       "5             10   2890000.0            2.89       30.40  2018-09-10T00:00:00   \n",
       "8             20   2900000.0            2.90       33.16  2018-05-23T00:00:00   \n",
       "12            10   3890000.0            3.89       54.00  2016-06-30T00:00:00   \n",
       "22            20   5000000.0            5.00       58.00  2017-04-24T00:00:00   \n",
       "30            12   2200000.0            2.20       32.80  2018-02-19T00:00:00   \n",
       "37            10   1990000.0            1.99       45.80  2017-10-28T00:00:00   \n",
       "38            10   3150000.0            3.15       40.00  2018-03-29T00:00:00   \n",
       "47            17   3600000.0            3.60       56.10  2018-10-18T00:00:00   \n",
       "60             3   2740000.0            2.74       35.00  2018-01-01T00:00:00   \n",
       "62             0   4800000.0            4.80       78.60  2017-09-17T00:00:00   \n",
       "\n",
       "    rooms  ceiling_height  floors_total  living_area  floor  is_apartment  \\\n",
       "5       1             NaN          12.0    14.400000      5         False   \n",
       "8       1             NaN          27.0    15.430000     26         False   \n",
       "12      2             NaN           5.0    30.000000      5         False   \n",
       "22      2            2.75          25.0    30.000000     15         False   \n",
       "30      1             NaN           9.0    15.810098      2         False   \n",
       "37      2            2.50           5.0    26.788679      1         False   \n",
       "38      1            2.75          18.0    16.300000      9         False   \n",
       "47      3             NaN           4.0    42.500000      3         False   \n",
       "60      1             NaN          12.0    16.870532      8         False   \n",
       "62      3            2.80           9.0    48.800000      5         False   \n",
       "\n",
       "    studio  open_plan  kitchen_area  balcony  \\\n",
       "5    False      False      9.100000      0.0   \n",
       "8    False      False      8.810000      0.0   \n",
       "12   False      False      9.000000      0.0   \n",
       "22   False      False     11.000000      2.0   \n",
       "30   False      False      8.035764      0.0   \n",
       "37   False      False      7.604528      0.0   \n",
       "38   False      False     11.600000      0.0   \n",
       "47   False      False      5.700000      1.0   \n",
       "60   False      False      8.574748      0.0   \n",
       "62   False      False     11.900000      2.0   \n",
       "\n",
       "                          locality_name  airports_nearest  \\\n",
       "5             городской посeлок янино-1               NaN   \n",
       "8                        посeлок мурино               NaN   \n",
       "12                            сертолово               NaN   \n",
       "22                      деревня кудрово               NaN   \n",
       "30                             коммунар               NaN   \n",
       "37  поселок городского типа красный бор               NaN   \n",
       "38                       посeлок мурино               NaN   \n",
       "47                              гатчина               NaN   \n",
       "60                       посeлок мурино               NaN   \n",
       "62                            сертолово               NaN   \n",
       "\n",
       "    cityCenters_nearest  parks_around3000  parks_nearest  ponds_around3000  \\\n",
       "5                   NaN               NaN            NaN               NaN   \n",
       "8                   NaN               NaN            NaN               NaN   \n",
       "12                  NaN               NaN            NaN               NaN   \n",
       "22                  NaN               NaN            NaN               NaN   \n",
       "30                  NaN               NaN            NaN               NaN   \n",
       "37                  NaN               NaN            NaN               NaN   \n",
       "38                  NaN               NaN            NaN               NaN   \n",
       "47                  NaN               NaN            NaN               NaN   \n",
       "60                  NaN               NaN            NaN               NaN   \n",
       "62                  NaN               NaN            NaN               NaN   \n",
       "\n",
       "    ponds_nearest  days_exposition  \n",
       "5             NaN             55.0  \n",
       "8             NaN            189.0  \n",
       "12            NaN             90.0  \n",
       "22            NaN             60.0  \n",
       "30            NaN             63.0  \n",
       "37            NaN            196.0  \n",
       "38            NaN            103.0  \n",
       "47            NaN            179.0  \n",
       "60            NaN             11.0  \n",
       "62            NaN              5.0  "
      ]
     },
     "metadata": {},
     "output_type": "display_data"
    }
   ],
   "source": [
    "display(df[df['airports_nearest'].isna()].head(10))"
   ]
  },
  {
   "cell_type": "markdown",
   "metadata": {},
   "source": [
    "Похоже, большинство строк с пропусками представляют объявления о квартирах в поселках, селах"
   ]
  },
  {
   "cell_type": "code",
   "execution_count": 75,
   "metadata": {},
   "outputs": [
    {
     "data": {
      "text/plain": [
       "посeлок мурино                   516\n",
       "всеволожск                       393\n",
       "гатчина                          303\n",
       "деревня кудрово                  298\n",
       "выборг                           235\n",
       "                                ... \n",
       "посeлок форт красная горка         1\n",
       "поселок гончарово                  1\n",
       "деревня лупполово                  1\n",
       "поселок пансионат зелeный бор      1\n",
       "деревня тойворово                  1\n",
       "Name: locality_name, Length: 344, dtype: int64"
      ]
     },
     "execution_count": 75,
     "metadata": {},
     "output_type": "execute_result"
    }
   ],
   "source": [
    "df[df['airports_nearest'].isna()]['locality_name'].value_counts()"
   ]
  },
  {
   "cell_type": "markdown",
   "metadata": {},
   "source": [
    "Маленький тест на примере поселка Мурино."
   ]
  },
  {
   "cell_type": "code",
   "execution_count": 76,
   "metadata": {},
   "outputs": [
    {
     "data": {
      "text/plain": [
       "Series([], Name: airports_nearest, dtype: int64)"
      ]
     },
     "execution_count": 76,
     "metadata": {},
     "output_type": "execute_result"
    }
   ],
   "source": [
    "df[df['locality_name'] == 'посёлок Мурино']['airports_nearest'].value_counts()"
   ]
  },
  {
   "cell_type": "markdown",
   "metadata": {},
   "source": [
    "Для всех объявлений в посёлке Мурино отсутствует информация о расстоянии до аэропорта. Если это информация была бы для нас критически важна, мы бы избрали лучший способ заполнить пропуски - обраться к поставщику данных и сообщить о проблеме. В нашем случае мы оставим данные не тронутыми."
   ]
  },
  {
   "cell_type": "markdown",
   "metadata": {},
   "source": [
    "#### cityCenters_nearest "
   ]
  },
  {
   "cell_type": "code",
   "execution_count": 77,
   "metadata": {},
   "outputs": [
    {
     "data": {
      "text/plain": [
       "посeлок мурино                   516\n",
       "всеволожск                       393\n",
       "гатчина                          303\n",
       "деревня кудрово                  298\n",
       "выборг                           235\n",
       "                                ... \n",
       "посeлок форт красная горка         1\n",
       "поселок гончарово                  1\n",
       "деревня лупполово                  1\n",
       "поселок пансионат зелeный бор      1\n",
       "деревня тойворово                  1\n",
       "Name: locality_name, Length: 345, dtype: int64"
      ]
     },
     "execution_count": 77,
     "metadata": {},
     "output_type": "execute_result"
    }
   ],
   "source": [
    "df[df['cityCenters_nearest'].isna()]['locality_name'].value_counts()"
   ]
  },
  {
   "cell_type": "markdown",
   "metadata": {},
   "source": [
    "Аналогичная ситуация. Однако не совсем понятно, почему разное количество пропусков с колонкой с расстоянием до аэропорта. Выясним, в каких населенных пунктах расстояние до центра города есть, а расстояни до аэропорта нет."
   ]
  },
  {
   "cell_type": "code",
   "execution_count": 78,
   "metadata": {},
   "outputs": [
    {
     "data": {
      "text/plain": [
       "санкт-петербург    24\n",
       "Name: locality_name, dtype: int64"
      ]
     },
     "execution_count": 78,
     "metadata": {},
     "output_type": "execute_result"
    }
   ],
   "source": [
    "df[df['airports_nearest'].isna() & df['cityCenters_nearest'].notna()\n",
    "   ]['locality_name'].value_counts()"
   ]
  },
  {
   "cell_type": "code",
   "execution_count": 79,
   "metadata": {
    "tags": []
   },
   "outputs": [
    {
     "data": {
      "text/plain": [
       "13355.0    8\n",
       "9734.0     6\n",
       "5735.0     5\n",
       "11246.0    2\n",
       "4892.0     1\n",
       "21377.0    1\n",
       "11835.0    1\n",
       "Name: cityCenters_nearest, dtype: int64"
      ]
     },
     "execution_count": 79,
     "metadata": {},
     "output_type": "execute_result"
    }
   ],
   "source": [
    "df[df['airports_nearest'].isna() & df['cityCenters_nearest'].notna()\n",
    "   ]['cityCenters_nearest'].value_counts()"
   ]
  },
  {
   "cell_type": "code",
   "execution_count": 80,
   "metadata": {},
   "outputs": [
    {
     "data": {
      "image/png": "[encoded data removed]",
      "text/plain": [
       "<Figure size 432x288 with 1 Axes>"
      ]
     },
     "metadata": {
      "needs_background": "light"
     },
     "output_type": "display_data"
    }
   ],
   "source": [
    "df[df['locality_name'] == 'санкт-петербург']['airports_nearest'].hist()\n",
    "plt.show()"
   ]
  },
  {
   "cell_type": "markdown",
   "metadata": {},
   "source": [
    "Мы не сможем заполнить пропуски на основании одного расстояния от центра города. Разброс расстояний до аэропорта для одного Санкт-Петербурга очень большой."
   ]
  },
  {
   "cell_type": "markdown",
   "metadata": {},
   "source": [
    "#### parks_around3000"
   ]
  },
  {
   "cell_type": "code",
   "execution_count": 81,
   "metadata": {},
   "outputs": [
    {
     "data": {
      "text/plain": [
       "посeлок мурино                   516\n",
       "всеволожск                       393\n",
       "гатчина                          303\n",
       "деревня кудрово                  298\n",
       "выборг                           235\n",
       "                                ... \n",
       "посeлок форт красная горка         1\n",
       "поселок гончарово                  1\n",
       "деревня лупполово                  1\n",
       "поселок пансионат зелeный бор      1\n",
       "деревня тойворово                  1\n",
       "Name: locality_name, Length: 344, dtype: int64"
      ]
     },
     "execution_count": 81,
     "metadata": {},
     "output_type": "execute_result"
    }
   ],
   "source": [
    "df[df['parks_around3000'].isna()]['locality_name'].value_counts()"
   ]
  },
  {
   "cell_type": "code",
   "execution_count": 82,
   "metadata": {},
   "outputs": [
    {
     "data": {
      "text/plain": [
       "пушкин    1\n",
       "Name: locality_name, dtype: int64"
      ]
     },
     "execution_count": 82,
     "metadata": {},
     "output_type": "execute_result"
    }
   ],
   "source": [
    "df[df['cityCenters_nearest'].isna() & df['parks_around3000'].notna()\n",
    "   ]['locality_name'].value_counts()"
   ]
  },
  {
   "cell_type": "code",
   "execution_count": 83,
   "metadata": {},
   "outputs": [
    {
     "name": "stdout",
     "output_type": "stream",
     "text": [
      "369\n"
     ]
    },
    {
     "data": {
      "text/html": [
       "<div>\n",
       "<style scoped>\n",
       "    .dataframe tbody tr th:only-of-type {\n",
       "        vertical-align: middle;\n",
       "    }\n",
       "\n",
       "    .dataframe tbody tr th {\n",
       "        vertical-align: top;\n",
       "    }\n",
       "\n",
       "    .dataframe thead th {\n",
       "        text-align: right;\n",
       "    }\n",
       "</style>\n",
       "<table border=\"1\" class=\"dataframe\">\n",
       "  <thead>\n",
       "    <tr style=\"text-align: right;\">\n",
       "      <th></th>\n",
       "      <th>total_images</th>\n",
       "      <th>last_price</th>\n",
       "      <th>last_price_mln</th>\n",
       "      <th>total_area</th>\n",
       "      <th>first_day_exposition</th>\n",
       "      <th>rooms</th>\n",
       "      <th>ceiling_height</th>\n",
       "      <th>floors_total</th>\n",
       "      <th>living_area</th>\n",
       "      <th>floor</th>\n",
       "      <th>is_apartment</th>\n",
       "      <th>studio</th>\n",
       "      <th>open_plan</th>\n",
       "      <th>kitchen_area</th>\n",
       "      <th>balcony</th>\n",
       "      <th>locality_name</th>\n",
       "      <th>airports_nearest</th>\n",
       "      <th>cityCenters_nearest</th>\n",
       "      <th>parks_around3000</th>\n",
       "      <th>parks_nearest</th>\n",
       "      <th>ponds_around3000</th>\n",
       "      <th>ponds_nearest</th>\n",
       "      <th>days_exposition</th>\n",
       "    </tr>\n",
       "  </thead>\n",
       "  <tbody>\n",
       "    <tr>\n",
       "      <th>20017</th>\n",
       "      <td>2</td>\n",
       "      <td>10500000.0</td>\n",
       "      <td>10.5</td>\n",
       "      <td>85.0</td>\n",
       "      <td>2019-01-08T00:00:00</td>\n",
       "      <td>3</td>\n",
       "      <td>3.0</td>\n",
       "      <td>3.0</td>\n",
       "      <td>55.5</td>\n",
       "      <td>2</td>\n",
       "      <td>False</td>\n",
       "      <td>False</td>\n",
       "      <td>False</td>\n",
       "      <td>8.0</td>\n",
       "      <td>1.0</td>\n",
       "      <td>пушкин</td>\n",
       "      <td>15527.0</td>\n",
       "      <td>NaN</td>\n",
       "      <td>1.0</td>\n",
       "      <td>134.0</td>\n",
       "      <td>0.0</td>\n",
       "      <td>NaN</td>\n",
       "      <td>NaN</td>\n",
       "    </tr>\n",
       "  </tbody>\n",
       "</table>\n",
       "</div>"
      ],
      "text/plain": [
       "       total_images  last_price  last_price_mln  total_area  \\\n",
       "20017             2  10500000.0            10.5        85.0   \n",
       "\n",
       "      first_day_exposition  rooms  ceiling_height  floors_total  living_area  \\\n",
       "20017  2019-01-08T00:00:00      3             3.0           3.0         55.5   \n",
       "\n",
       "       floor  is_apartment  studio  open_plan  kitchen_area  balcony  \\\n",
       "20017      2         False   False      False           8.0      1.0   \n",
       "\n",
       "      locality_name  airports_nearest  cityCenters_nearest  parks_around3000  \\\n",
       "20017        пушкин           15527.0                  NaN               1.0   \n",
       "\n",
       "       parks_nearest  ponds_around3000  ponds_nearest  days_exposition  \n",
       "20017          134.0               0.0            NaN              NaN  "
      ]
     },
     "metadata": {},
     "output_type": "display_data"
    }
   ],
   "source": [
    "print(len(df[df['locality_name'] == 'пушкин']))\n",
    "display(df[(df['locality_name'] == 'пушкин')\n",
    "        & df['cityCenters_nearest'].isna()])"
   ]
  },
  {
   "cell_type": "markdown",
   "metadata": {},
   "source": [
    "Единственная квартира в Пушкине без указания расстояния до центра города, но с указанием расстояния до парка. Возможно, это и есть центр. :) Жаль, что сделать ничего мы с этим не сможем."
   ]
  },
  {
   "cell_type": "markdown",
   "metadata": {},
   "source": [
    "#### parks_nearest"
   ]
  },
  {
   "cell_type": "code",
   "execution_count": 84,
   "metadata": {},
   "outputs": [
    {
     "data": {
      "text/plain": [
       "санкт-петербург               8363\n",
       "посeлок мурино                 516\n",
       "посeлок шушары                 437\n",
       "всеволожск                     393\n",
       "посeлок парголово              316\n",
       "                              ... \n",
       "поселок станции корнево          1\n",
       "деревня новолисино               1\n",
       "деревня большой сабск            1\n",
       "садовое товарищество садко       1\n",
       "деревня пчева                    1\n",
       "Name: locality_name, Length: 364, dtype: int64"
      ]
     },
     "execution_count": 84,
     "metadata": {},
     "output_type": "execute_result"
    }
   ],
   "source": [
    "df[df['parks_nearest'].isna()]['locality_name'].value_counts()"
   ]
  },
  {
   "cell_type": "markdown",
   "metadata": {},
   "source": [
    "Проверим нет ли противоречий."
   ]
  },
  {
   "cell_type": "code",
   "execution_count": 85,
   "metadata": {},
   "outputs": [
    {
     "data": {
      "text/plain": [
       "Series([], Name: locality_name, dtype: int64)"
      ]
     },
     "execution_count": 85,
     "metadata": {},
     "output_type": "execute_result"
    }
   ],
   "source": [
    "df[df['parks_nearest'].isna() & (df['parks_around3000'] >= 1)\n",
    "   ]['locality_name'].value_counts()"
   ]
  },
  {
   "cell_type": "markdown",
   "metadata": {},
   "source": [
    "Противоречий нет. Мы не можем заполнить эту информацию. "
   ]
  },
  {
   "cell_type": "markdown",
   "metadata": {},
   "source": [
    "#### ponds_around3000"
   ]
  },
  {
   "cell_type": "code",
   "execution_count": 86,
   "metadata": {},
   "outputs": [
    {
     "data": {
      "text/plain": [
       "посeлок мурино                   516\n",
       "всеволожск                       393\n",
       "гатчина                          303\n",
       "деревня кудрово                  298\n",
       "выборг                           235\n",
       "                                ... \n",
       "посeлок форт красная горка         1\n",
       "поселок гончарово                  1\n",
       "деревня лупполово                  1\n",
       "поселок пансионат зелeный бор      1\n",
       "деревня тойворово                  1\n",
       "Name: locality_name, Length: 344, dtype: int64"
      ]
     },
     "execution_count": 86,
     "metadata": {},
     "output_type": "execute_result"
    }
   ],
   "source": [
    "df[df['ponds_around3000'].isna()]['locality_name'].value_counts()"
   ]
  },
  {
   "cell_type": "code",
   "execution_count": 87,
   "metadata": {},
   "outputs": [
    {
     "data": {
      "text/plain": [
       "5464"
      ]
     },
     "execution_count": 87,
     "metadata": {},
     "output_type": "execute_result"
    }
   ],
   "source": [
    "len(df[df['ponds_around3000'].isna() & df['parks_around3000'].isna()])"
   ]
  },
  {
   "cell_type": "markdown",
   "metadata": {},
   "source": [
    "Те же квартиры с пропусками, что и в случае парков."
   ]
  },
  {
   "cell_type": "markdown",
   "metadata": {},
   "source": [
    "#### ponds_nearest"
   ]
  },
  {
   "cell_type": "code",
   "execution_count": 88,
   "metadata": {},
   "outputs": [
    {
     "data": {
      "text/plain": [
       "санкт-петербург            7683\n",
       "посeлок мурино              516\n",
       "всеволожск                  393\n",
       "гатчина                     303\n",
       "деревня кудрово             298\n",
       "                           ... \n",
       "поселок красносельское        1\n",
       "поселок станции лужайка       1\n",
       "деревня хязельки              1\n",
       "поселок дружноселье           1\n",
       "деревня пчева                 1\n",
       "Name: locality_name, Length: 360, dtype: int64"
      ]
     },
     "execution_count": 88,
     "metadata": {},
     "output_type": "execute_result"
    }
   ],
   "source": [
    "df[df['ponds_nearest'].isna()]['locality_name'].value_counts()"
   ]
  },
  {
   "cell_type": "code",
   "execution_count": 89,
   "metadata": {},
   "outputs": [
    {
     "data": {
      "text/plain": [
       "Series([], Name: locality_name, dtype: int64)"
      ]
     },
     "execution_count": 89,
     "metadata": {},
     "output_type": "execute_result"
    }
   ],
   "source": [
    "df[df['ponds_nearest'].isna() & (df['ponds_around3000'] >= 1)\n",
    "   ]['locality_name'].value_counts()"
   ]
  },
  {
   "cell_type": "markdown",
   "metadata": {},
   "source": [
    "Противоречий нет. \n",
    "Мы не имеем точного понимания, почему есть пропуски в деревнях и селах (а иногда и в городах). Действительно ли там нет парков, водоемов, аэропортов? Или просто система по каким-то причинам их не учитывает. Ставить ноль не совсем корректно в данной ситуации, так как отсутсвие информации о факторе, потенциально влияющем на цену, не ознаечает отсутствие самого фактора."
   ]
  },
  {
   "cell_type": "markdown",
   "metadata": {},
   "source": [
    "#### days_exposition"
   ]
  },
  {
   "cell_type": "code",
   "execution_count": 90,
   "metadata": {},
   "outputs": [
    {
     "data": {
      "text/html": [
       "<div>\n",
       "<style scoped>\n",
       "    .dataframe tbody tr th:only-of-type {\n",
       "        vertical-align: middle;\n",
       "    }\n",
       "\n",
       "    .dataframe tbody tr th {\n",
       "        vertical-align: top;\n",
       "    }\n",
       "\n",
       "    .dataframe thead th {\n",
       "        text-align: right;\n",
       "    }\n",
       "</style>\n",
       "<table border=\"1\" class=\"dataframe\">\n",
       "  <thead>\n",
       "    <tr style=\"text-align: right;\">\n",
       "      <th></th>\n",
       "      <th>total_images</th>\n",
       "      <th>last_price</th>\n",
       "      <th>last_price_mln</th>\n",
       "      <th>total_area</th>\n",
       "      <th>first_day_exposition</th>\n",
       "      <th>rooms</th>\n",
       "      <th>ceiling_height</th>\n",
       "      <th>floors_total</th>\n",
       "      <th>living_area</th>\n",
       "      <th>floor</th>\n",
       "      <th>is_apartment</th>\n",
       "      <th>studio</th>\n",
       "      <th>open_plan</th>\n",
       "      <th>kitchen_area</th>\n",
       "      <th>balcony</th>\n",
       "      <th>locality_name</th>\n",
       "      <th>airports_nearest</th>\n",
       "      <th>cityCenters_nearest</th>\n",
       "      <th>parks_around3000</th>\n",
       "      <th>parks_nearest</th>\n",
       "      <th>ponds_around3000</th>\n",
       "      <th>ponds_nearest</th>\n",
       "      <th>days_exposition</th>\n",
       "    </tr>\n",
       "  </thead>\n",
       "  <tbody>\n",
       "    <tr>\n",
       "      <th>0</th>\n",
       "      <td>20</td>\n",
       "      <td>13000000.0</td>\n",
       "      <td>13.000</td>\n",
       "      <td>108.0</td>\n",
       "      <td>2019-03-07T00:00:00</td>\n",
       "      <td>3</td>\n",
       "      <td>2.70</td>\n",
       "      <td>16.0</td>\n",
       "      <td>51.000000</td>\n",
       "      <td>8</td>\n",
       "      <td>False</td>\n",
       "      <td>False</td>\n",
       "      <td>False</td>\n",
       "      <td>25.000000</td>\n",
       "      <td>0.0</td>\n",
       "      <td>санкт-петербург</td>\n",
       "      <td>18863.0</td>\n",
       "      <td>16028.0</td>\n",
       "      <td>1.0</td>\n",
       "      <td>482.0</td>\n",
       "      <td>2.0</td>\n",
       "      <td>755.0</td>\n",
       "      <td>NaN</td>\n",
       "    </tr>\n",
       "    <tr>\n",
       "      <th>7</th>\n",
       "      <td>5</td>\n",
       "      <td>7915000.0</td>\n",
       "      <td>7.915</td>\n",
       "      <td>71.6</td>\n",
       "      <td>2019-04-18T00:00:00</td>\n",
       "      <td>2</td>\n",
       "      <td>NaN</td>\n",
       "      <td>24.0</td>\n",
       "      <td>41.879245</td>\n",
       "      <td>22</td>\n",
       "      <td>False</td>\n",
       "      <td>False</td>\n",
       "      <td>False</td>\n",
       "      <td>18.900000</td>\n",
       "      <td>2.0</td>\n",
       "      <td>санкт-петербург</td>\n",
       "      <td>23982.0</td>\n",
       "      <td>11634.0</td>\n",
       "      <td>0.0</td>\n",
       "      <td>NaN</td>\n",
       "      <td>0.0</td>\n",
       "      <td>NaN</td>\n",
       "      <td>NaN</td>\n",
       "    </tr>\n",
       "    <tr>\n",
       "      <th>44</th>\n",
       "      <td>13</td>\n",
       "      <td>5350000.0</td>\n",
       "      <td>5.350</td>\n",
       "      <td>40.0</td>\n",
       "      <td>2018-11-18T00:00:00</td>\n",
       "      <td>1</td>\n",
       "      <td>NaN</td>\n",
       "      <td>22.0</td>\n",
       "      <td>19.280608</td>\n",
       "      <td>3</td>\n",
       "      <td>False</td>\n",
       "      <td>False</td>\n",
       "      <td>False</td>\n",
       "      <td>9.799713</td>\n",
       "      <td>1.0</td>\n",
       "      <td>санкт-петербург</td>\n",
       "      <td>30471.0</td>\n",
       "      <td>11603.0</td>\n",
       "      <td>1.0</td>\n",
       "      <td>620.0</td>\n",
       "      <td>1.0</td>\n",
       "      <td>1152.0</td>\n",
       "      <td>NaN</td>\n",
       "    </tr>\n",
       "    <tr>\n",
       "      <th>45</th>\n",
       "      <td>17</td>\n",
       "      <td>5200000.0</td>\n",
       "      <td>5.200</td>\n",
       "      <td>50.6</td>\n",
       "      <td>2018-12-02T00:00:00</td>\n",
       "      <td>2</td>\n",
       "      <td>2.65</td>\n",
       "      <td>9.0</td>\n",
       "      <td>30.300000</td>\n",
       "      <td>7</td>\n",
       "      <td>False</td>\n",
       "      <td>False</td>\n",
       "      <td>False</td>\n",
       "      <td>7.000000</td>\n",
       "      <td>0.0</td>\n",
       "      <td>санкт-петербург</td>\n",
       "      <td>30011.0</td>\n",
       "      <td>12872.0</td>\n",
       "      <td>0.0</td>\n",
       "      <td>NaN</td>\n",
       "      <td>0.0</td>\n",
       "      <td>NaN</td>\n",
       "      <td>NaN</td>\n",
       "    </tr>\n",
       "    <tr>\n",
       "      <th>46</th>\n",
       "      <td>17</td>\n",
       "      <td>6600000.0</td>\n",
       "      <td>6.600</td>\n",
       "      <td>52.1</td>\n",
       "      <td>2019-01-31T00:00:00</td>\n",
       "      <td>2</td>\n",
       "      <td>2.60</td>\n",
       "      <td>24.0</td>\n",
       "      <td>29.700000</td>\n",
       "      <td>9</td>\n",
       "      <td>False</td>\n",
       "      <td>False</td>\n",
       "      <td>False</td>\n",
       "      <td>8.300000</td>\n",
       "      <td>2.0</td>\n",
       "      <td>санкт-петербург</td>\n",
       "      <td>15114.0</td>\n",
       "      <td>12702.0</td>\n",
       "      <td>0.0</td>\n",
       "      <td>NaN</td>\n",
       "      <td>0.0</td>\n",
       "      <td>NaN</td>\n",
       "      <td>NaN</td>\n",
       "    </tr>\n",
       "    <tr>\n",
       "      <th>49</th>\n",
       "      <td>1</td>\n",
       "      <td>3050000.0</td>\n",
       "      <td>3.050</td>\n",
       "      <td>30.8</td>\n",
       "      <td>2018-11-22T00:00:00</td>\n",
       "      <td>1</td>\n",
       "      <td>2.50</td>\n",
       "      <td>9.0</td>\n",
       "      <td>18.000000</td>\n",
       "      <td>7</td>\n",
       "      <td>False</td>\n",
       "      <td>False</td>\n",
       "      <td>False</td>\n",
       "      <td>6.000000</td>\n",
       "      <td>0.0</td>\n",
       "      <td>санкт-петербург</td>\n",
       "      <td>45341.0</td>\n",
       "      <td>16603.0</td>\n",
       "      <td>1.0</td>\n",
       "      <td>675.0</td>\n",
       "      <td>0.0</td>\n",
       "      <td>NaN</td>\n",
       "      <td>NaN</td>\n",
       "    </tr>\n",
       "    <tr>\n",
       "      <th>52</th>\n",
       "      <td>20</td>\n",
       "      <td>11795000.0</td>\n",
       "      <td>11.795</td>\n",
       "      <td>136.0</td>\n",
       "      <td>2017-09-22T00:00:00</td>\n",
       "      <td>6</td>\n",
       "      <td>3.00</td>\n",
       "      <td>2.0</td>\n",
       "      <td>94.000000</td>\n",
       "      <td>2</td>\n",
       "      <td>False</td>\n",
       "      <td>False</td>\n",
       "      <td>False</td>\n",
       "      <td>11.000000</td>\n",
       "      <td>1.0</td>\n",
       "      <td>санкт-петербург</td>\n",
       "      <td>16510.0</td>\n",
       "      <td>6582.0</td>\n",
       "      <td>1.0</td>\n",
       "      <td>526.0</td>\n",
       "      <td>0.0</td>\n",
       "      <td>NaN</td>\n",
       "      <td>NaN</td>\n",
       "    </tr>\n",
       "    <tr>\n",
       "      <th>71</th>\n",
       "      <td>20</td>\n",
       "      <td>4850000.0</td>\n",
       "      <td>4.850</td>\n",
       "      <td>57.5</td>\n",
       "      <td>2019-03-27T00:00:00</td>\n",
       "      <td>3</td>\n",
       "      <td>2.50</td>\n",
       "      <td>9.0</td>\n",
       "      <td>39.000000</td>\n",
       "      <td>8</td>\n",
       "      <td>False</td>\n",
       "      <td>False</td>\n",
       "      <td>False</td>\n",
       "      <td>6.200000</td>\n",
       "      <td>0.0</td>\n",
       "      <td>санкт-петербург</td>\n",
       "      <td>33623.0</td>\n",
       "      <td>12267.0</td>\n",
       "      <td>1.0</td>\n",
       "      <td>334.0</td>\n",
       "      <td>1.0</td>\n",
       "      <td>333.0</td>\n",
       "      <td>NaN</td>\n",
       "    </tr>\n",
       "    <tr>\n",
       "      <th>81</th>\n",
       "      <td>9</td>\n",
       "      <td>10949000.0</td>\n",
       "      <td>10.949</td>\n",
       "      <td>68.0</td>\n",
       "      <td>2018-12-27T00:00:00</td>\n",
       "      <td>1</td>\n",
       "      <td>NaN</td>\n",
       "      <td>10.0</td>\n",
       "      <td>32.777033</td>\n",
       "      <td>6</td>\n",
       "      <td>False</td>\n",
       "      <td>False</td>\n",
       "      <td>False</td>\n",
       "      <td>16.659511</td>\n",
       "      <td>0.0</td>\n",
       "      <td>санкт-петербург</td>\n",
       "      <td>NaN</td>\n",
       "      <td>NaN</td>\n",
       "      <td>NaN</td>\n",
       "      <td>NaN</td>\n",
       "      <td>NaN</td>\n",
       "      <td>NaN</td>\n",
       "      <td>NaN</td>\n",
       "    </tr>\n",
       "    <tr>\n",
       "      <th>84</th>\n",
       "      <td>11</td>\n",
       "      <td>2400000.0</td>\n",
       "      <td>2.400</td>\n",
       "      <td>43.9</td>\n",
       "      <td>2019-03-13T00:00:00</td>\n",
       "      <td>2</td>\n",
       "      <td>NaN</td>\n",
       "      <td>2.0</td>\n",
       "      <td>27.460000</td>\n",
       "      <td>1</td>\n",
       "      <td>False</td>\n",
       "      <td>False</td>\n",
       "      <td>False</td>\n",
       "      <td>5.200000</td>\n",
       "      <td>0.0</td>\n",
       "      <td>кировск</td>\n",
       "      <td>NaN</td>\n",
       "      <td>NaN</td>\n",
       "      <td>NaN</td>\n",
       "      <td>NaN</td>\n",
       "      <td>NaN</td>\n",
       "      <td>NaN</td>\n",
       "      <td>NaN</td>\n",
       "    </tr>\n",
       "  </tbody>\n",
       "</table>\n",
       "</div>"
      ],
      "text/plain": [
       "    total_images  last_price  last_price_mln  total_area first_day_exposition  \\\n",
       "0             20  13000000.0          13.000       108.0  2019-03-07T00:00:00   \n",
       "7              5   7915000.0           7.915        71.6  2019-04-18T00:00:00   \n",
       "44            13   5350000.0           5.350        40.0  2018-11-18T00:00:00   \n",
       "45            17   5200000.0           5.200        50.6  2018-12-02T00:00:00   \n",
       "46            17   6600000.0           6.600        52.1  2019-01-31T00:00:00   \n",
       "49             1   3050000.0           3.050        30.8  2018-11-22T00:00:00   \n",
       "52            20  11795000.0          11.795       136.0  2017-09-22T00:00:00   \n",
       "71            20   4850000.0           4.850        57.5  2019-03-27T00:00:00   \n",
       "81             9  10949000.0          10.949        68.0  2018-12-27T00:00:00   \n",
       "84            11   2400000.0           2.400        43.9  2019-03-13T00:00:00   \n",
       "\n",
       "    rooms  ceiling_height  floors_total  living_area  floor  is_apartment  \\\n",
       "0       3            2.70          16.0    51.000000      8         False   \n",
       "7       2             NaN          24.0    41.879245     22         False   \n",
       "44      1             NaN          22.0    19.280608      3         False   \n",
       "45      2            2.65           9.0    30.300000      7         False   \n",
       "46      2            2.60          24.0    29.700000      9         False   \n",
       "49      1            2.50           9.0    18.000000      7         False   \n",
       "52      6            3.00           2.0    94.000000      2         False   \n",
       "71      3            2.50           9.0    39.000000      8         False   \n",
       "81      1             NaN          10.0    32.777033      6         False   \n",
       "84      2             NaN           2.0    27.460000      1         False   \n",
       "\n",
       "    studio  open_plan  kitchen_area  balcony    locality_name  \\\n",
       "0    False      False     25.000000      0.0  санкт-петербург   \n",
       "7    False      False     18.900000      2.0  санкт-петербург   \n",
       "44   False      False      9.799713      1.0  санкт-петербург   \n",
       "45   False      False      7.000000      0.0  санкт-петербург   \n",
       "46   False      False      8.300000      2.0  санкт-петербург   \n",
       "49   False      False      6.000000      0.0  санкт-петербург   \n",
       "52   False      False     11.000000      1.0  санкт-петербург   \n",
       "71   False      False      6.200000      0.0  санкт-петербург   \n",
       "81   False      False     16.659511      0.0  санкт-петербург   \n",
       "84   False      False      5.200000      0.0          кировск   \n",
       "\n",
       "    airports_nearest  cityCenters_nearest  parks_around3000  parks_nearest  \\\n",
       "0            18863.0              16028.0               1.0          482.0   \n",
       "7            23982.0              11634.0               0.0            NaN   \n",
       "44           30471.0              11603.0               1.0          620.0   \n",
       "45           30011.0              12872.0               0.0            NaN   \n",
       "46           15114.0              12702.0               0.0            NaN   \n",
       "49           45341.0              16603.0               1.0          675.0   \n",
       "52           16510.0               6582.0               1.0          526.0   \n",
       "71           33623.0              12267.0               1.0          334.0   \n",
       "81               NaN                  NaN               NaN            NaN   \n",
       "84               NaN                  NaN               NaN            NaN   \n",
       "\n",
       "    ponds_around3000  ponds_nearest  days_exposition  \n",
       "0                2.0          755.0              NaN  \n",
       "7                0.0            NaN              NaN  \n",
       "44               1.0         1152.0              NaN  \n",
       "45               0.0            NaN              NaN  \n",
       "46               0.0            NaN              NaN  \n",
       "49               0.0            NaN              NaN  \n",
       "52               0.0            NaN              NaN  \n",
       "71               1.0          333.0              NaN  \n",
       "81               NaN            NaN              NaN  \n",
       "84               NaN            NaN              NaN  "
      ]
     },
     "metadata": {},
     "output_type": "display_data"
    },
    {
     "data": {
      "text/plain": [
       "3159"
      ]
     },
     "metadata": {},
     "output_type": "display_data"
    }
   ],
   "source": [
    "display(df[df['days_exposition'].isna()].head(10))\n",
    "display(df[df['days_exposition'].isna()].index.size)"
   ]
  },
  {
   "cell_type": "code",
   "execution_count": 91,
   "metadata": {},
   "outputs": [
    {
     "data": {
      "text/plain": [
       "0"
      ]
     },
     "execution_count": 91,
     "metadata": {},
     "output_type": "execute_result"
    }
   ],
   "source": [
    "len(df[df['days_exposition'] == 0])"
   ]
  },
  {
   "cell_type": "markdown",
   "metadata": {},
   "source": [
    "Данные свидетельствуют, что нулевые значения days_exposition не встречаются. Это означает, что NaN в теории могут быть равны 0, что в свою очередь означает, что пропуски могут означать либо продажу квартиры в тот же день, либо что пользователь передумал."
   ]
  },
  {
   "cell_type": "code",
   "execution_count": 92,
   "metadata": {},
   "outputs": [],
   "source": [
    "df['days_exposition'] = df['days_exposition'].fillna(0)"
   ]
  },
  {
   "cell_type": "markdown",
   "metadata": {},
   "source": [
    "#### Вывод по пропускам"
   ]
  },
  {
   "cell_type": "markdown",
   "metadata": {},
   "source": [
    "Мы заполнили пропуски там, где имели для этого основания."
   ]
  },
  {
   "cell_type": "markdown",
   "metadata": {},
   "source": [
    "### Изменение типов данных"
   ]
  },
  {
   "cell_type": "markdown",
   "metadata": {},
   "source": [
    "Переведем first_day_exposition в формат даты."
   ]
  },
  {
   "cell_type": "code",
   "execution_count": 93,
   "metadata": {},
   "outputs": [],
   "source": [
    "df['first_day_exposition'] = pd.to_datetime(\n",
    "    df['first_day_exposition'], format='%Y-%m-%dT%H:%M:%S')"
   ]
  },
  {
   "cell_type": "code",
   "execution_count": 94,
   "metadata": {
    "tags": []
   },
   "outputs": [
    {
     "name": "stdout",
     "output_type": "stream",
     "text": [
      "<class 'pandas.core.frame.DataFrame'>\n",
      "Int64Index: 23449 entries, 0 to 23496\n",
      "Data columns (total 23 columns):\n",
      " #   Column                Non-Null Count  Dtype         \n",
      "---  ------                --------------  -----         \n",
      " 0   total_images          23449 non-null  int64         \n",
      " 1   last_price            23449 non-null  float64       \n",
      " 2   last_price_mln        23449 non-null  float64       \n",
      " 3   total_area            23449 non-null  float64       \n",
      " 4   first_day_exposition  23449 non-null  datetime64[ns]\n",
      " 5   rooms                 23449 non-null  int64         \n",
      " 6   ceiling_height        14407 non-null  float64       \n",
      " 7   floors_total          23449 non-null  float64       \n",
      " 8   living_area           23449 non-null  float64       \n",
      " 9   floor                 23449 non-null  int64         \n",
      " 10  is_apartment          23449 non-null  bool          \n",
      " 11  studio                23449 non-null  bool          \n",
      " 12  open_plan             23449 non-null  bool          \n",
      " 13  kitchen_area          23449 non-null  float64       \n",
      " 14  balcony               23449 non-null  float64       \n",
      " 15  locality_name         23449 non-null  object        \n",
      " 16  airports_nearest      17961 non-null  float64       \n",
      " 17  cityCenters_nearest   17984 non-null  float64       \n",
      " 18  parks_around3000      17985 non-null  float64       \n",
      " 19  parks_nearest         7993 non-null   float64       \n",
      " 20  ponds_around3000      17985 non-null  float64       \n",
      " 21  ponds_nearest         8994 non-null   float64       \n",
      " 22  days_exposition       23449 non-null  float64       \n",
      "dtypes: bool(3), datetime64[ns](1), float64(15), int64(3), object(1)\n",
      "memory usage: 3.8+ MB\n"
     ]
    }
   ],
   "source": [
    "df.info()"
   ]
  },
  {
   "cell_type": "markdown",
   "metadata": {},
   "source": [
    "### Обработка дубликатов"
   ]
  },
  {
   "cell_type": "markdown",
   "metadata": {},
   "source": [
    "Проверим наличие дубликатов. Очевидно, с учетом наличия времени размещения объявления, они могли появиться только по технической ошибке."
   ]
  },
  {
   "cell_type": "code",
   "execution_count": 95,
   "metadata": {},
   "outputs": [
    {
     "data": {
      "text/plain": [
       "0"
      ]
     },
     "execution_count": 95,
     "metadata": {},
     "output_type": "execute_result"
    }
   ],
   "source": [
    "df.duplicated().sum()"
   ]
  },
  {
   "cell_type": "markdown",
   "metadata": {},
   "source": [
    "Дубликатов нет."
   ]
  },
  {
   "cell_type": "markdown",
   "metadata": {},
   "source": [
    "### Расчет дополнительных параметров "
   ]
  },
  {
   "cell_type": "markdown",
   "metadata": {},
   "source": [
    "Цена квадратного метра"
   ]
  },
  {
   "cell_type": "code",
   "execution_count": 96,
   "metadata": {},
   "outputs": [],
   "source": [
    "df['sqm_price'] = df['last_price'] / df['total_area']"
   ]
  },
  {
   "cell_type": "markdown",
   "metadata": {},
   "source": [
    "День недели публикации объявления"
   ]
  },
  {
   "cell_type": "code",
   "execution_count": 97,
   "metadata": {},
   "outputs": [],
   "source": [
    "df['day_of_week'] = pd.DatetimeIndex(df['first_day_exposition']).dayofweek"
   ]
  },
  {
   "cell_type": "markdown",
   "metadata": {},
   "source": [
    "Месяц публикации объявления"
   ]
  },
  {
   "cell_type": "code",
   "execution_count": 98,
   "metadata": {},
   "outputs": [],
   "source": [
    "df['month'] = pd.DatetimeIndex(df['first_day_exposition']).month"
   ]
  },
  {
   "cell_type": "markdown",
   "metadata": {},
   "source": [
    "Год публикации объявления"
   ]
  },
  {
   "cell_type": "code",
   "execution_count": 99,
   "metadata": {},
   "outputs": [],
   "source": [
    "df['year'] = pd.DatetimeIndex(df['first_day_exposition']).year"
   ]
  },
  {
   "cell_type": "markdown",
   "metadata": {},
   "source": [
    "Этаж квартиры"
   ]
  },
  {
   "cell_type": "code",
   "execution_count": 100,
   "metadata": {},
   "outputs": [],
   "source": [
    "def category_of_floor(row):\n",
    "    floor = row['floor']\n",
    "    floors_total = row['floors_total']\n",
    "    if floor == 1:\n",
    "        return \"Первый\"\n",
    "    elif floor == floors_total:\n",
    "        return \"Последний\"\n",
    "    else:\n",
    "        return \"Другой\"\n",
    "\n",
    "\n",
    "df['category_of_floor'] = df.apply(category_of_floor, axis=1)"
   ]
  },
  {
   "cell_type": "markdown",
   "metadata": {},
   "source": [
    "Опять доля жилой площади"
   ]
  },
  {
   "cell_type": "code",
   "execution_count": 101,
   "metadata": {},
   "outputs": [],
   "source": [
    "df['living_share'] = df['living_area'] / df['total_area']"
   ]
  },
  {
   "cell_type": "markdown",
   "metadata": {},
   "source": [
    "Опять доля площади кухни"
   ]
  },
  {
   "cell_type": "code",
   "execution_count": 102,
   "metadata": {},
   "outputs": [],
   "source": [
    "df['kitchen_share'] = df['kitchen_area'] / df['total_area']"
   ]
  },
  {
   "cell_type": "markdown",
   "metadata": {},
   "source": [
    "### Исследовательский анализ данных "
   ]
  },
  {
   "cell_type": "markdown",
   "metadata": {},
   "source": [
    "#### Задача: \"Изучите следующие параметры: площадь, цена, число комнат, высота потолков. Постройте гистограммы для каждого параметра.\""
   ]
  },
  {
   "cell_type": "markdown",
   "metadata": {},
   "source": [
    "##### Общая площадь"
   ]
  },
  {
   "cell_type": "code",
   "execution_count": 103,
   "metadata": {
    "tags": []
   },
   "outputs": [
    {
     "name": "stdout",
     "output_type": "stream",
     "text": [
      "total_area\n",
      "count    23449.000000\n",
      "mean        60.391039\n",
      "std         35.620078\n",
      "min         17.200000\n",
      "25%         40.000000\n",
      "50%         52.000000\n",
      "75%         69.800000\n",
      "max        900.000000\n",
      "Name: total_area, dtype: float64\n",
      "\n",
      "Полутора межквартильных расстояний равно 30.0\n",
      "Минимум значимой выборки = 17.2\n",
      "Число значений за пределами минимума = 0\n",
      "Максимум значимой выборки = 114.5\n",
      "Число значений за пределами максимума = 1234\n"
     ]
    },
    {
     "data": {
      "image/png": "[encoded data removed]",
      "text/plain": [
       "<Figure size 432x288 with 1 Axes>"
      ]
     },
     "metadata": {
      "needs_background": "light"
     },
     "output_type": "display_data"
    },
    {
     "name": "stdout",
     "output_type": "stream",
     "text": [
      "\n",
      "Таблица корреляции\n"
     ]
    },
    {
     "data": {
      "text/html": [
       "<div>\n",
       "<style scoped>\n",
       "    .dataframe tbody tr th:only-of-type {\n",
       "        vertical-align: middle;\n",
       "    }\n",
       "\n",
       "    .dataframe tbody tr th {\n",
       "        vertical-align: top;\n",
       "    }\n",
       "\n",
       "    .dataframe thead th {\n",
       "        text-align: right;\n",
       "    }\n",
       "</style>\n",
       "<table border=\"1\" class=\"dataframe\">\n",
       "  <thead>\n",
       "    <tr style=\"text-align: right;\">\n",
       "      <th></th>\n",
       "      <th>total_area</th>\n",
       "    </tr>\n",
       "  </thead>\n",
       "  <tbody>\n",
       "    <tr>\n",
       "      <th>total_images</th>\n",
       "      <td>0.115212</td>\n",
       "    </tr>\n",
       "    <tr>\n",
       "      <th>last_price</th>\n",
       "      <td>0.702639</td>\n",
       "    </tr>\n",
       "    <tr>\n",
       "      <th>last_price_mln</th>\n",
       "      <td>0.702639</td>\n",
       "    </tr>\n",
       "    <tr>\n",
       "      <th>total_area</th>\n",
       "      <td>1.000000</td>\n",
       "    </tr>\n",
       "    <tr>\n",
       "      <th>rooms</th>\n",
       "      <td>0.758400</td>\n",
       "    </tr>\n",
       "    <tr>\n",
       "      <th>ceiling_height</th>\n",
       "      <td>0.138918</td>\n",
       "    </tr>\n",
       "    <tr>\n",
       "      <th>floors_total</th>\n",
       "      <td>-0.075250</td>\n",
       "    </tr>\n",
       "    <tr>\n",
       "      <th>living_area</th>\n",
       "      <td>0.945566</td>\n",
       "    </tr>\n",
       "    <tr>\n",
       "      <th>floor</th>\n",
       "      <td>-0.024653</td>\n",
       "    </tr>\n",
       "    <tr>\n",
       "      <th>is_apartment</th>\n",
       "      <td>0.031007</td>\n",
       "    </tr>\n",
       "    <tr>\n",
       "      <th>studio</th>\n",
       "      <td>-0.071551</td>\n",
       "    </tr>\n",
       "    <tr>\n",
       "      <th>open_plan</th>\n",
       "      <td>-0.034429</td>\n",
       "    </tr>\n",
       "    <tr>\n",
       "      <th>kitchen_area</th>\n",
       "      <td>0.629721</td>\n",
       "    </tr>\n",
       "    <tr>\n",
       "      <th>balcony</th>\n",
       "      <td>0.009335</td>\n",
       "    </tr>\n",
       "    <tr>\n",
       "      <th>airports_nearest</th>\n",
       "      <td>-0.031209</td>\n",
       "    </tr>\n",
       "    <tr>\n",
       "      <th>cityCenters_nearest</th>\n",
       "      <td>-0.232088</td>\n",
       "    </tr>\n",
       "    <tr>\n",
       "      <th>parks_around3000</th>\n",
       "      <td>0.166374</td>\n",
       "    </tr>\n",
       "    <tr>\n",
       "      <th>parks_nearest</th>\n",
       "      <td>-0.022294</td>\n",
       "    </tr>\n",
       "    <tr>\n",
       "      <th>ponds_around3000</th>\n",
       "      <td>0.164149</td>\n",
       "    </tr>\n",
       "    <tr>\n",
       "      <th>ponds_nearest</th>\n",
       "      <td>-0.102354</td>\n",
       "    </tr>\n",
       "    <tr>\n",
       "      <th>days_exposition</th>\n",
       "      <td>0.096866</td>\n",
       "    </tr>\n",
       "    <tr>\n",
       "      <th>sqm_price</th>\n",
       "      <td>0.299400</td>\n",
       "    </tr>\n",
       "    <tr>\n",
       "      <th>day_of_week</th>\n",
       "      <td>-0.006082</td>\n",
       "    </tr>\n",
       "    <tr>\n",
       "      <th>month</th>\n",
       "      <td>0.005081</td>\n",
       "    </tr>\n",
       "    <tr>\n",
       "      <th>year</th>\n",
       "      <td>-0.079030</td>\n",
       "    </tr>\n",
       "    <tr>\n",
       "      <th>living_share</th>\n",
       "      <td>0.168078</td>\n",
       "    </tr>\n",
       "    <tr>\n",
       "      <th>kitchen_share</th>\n",
       "      <td>-0.295137</td>\n",
       "    </tr>\n",
       "  </tbody>\n",
       "</table>\n",
       "</div>"
      ],
      "text/plain": [
       "                     total_area\n",
       "total_images           0.115212\n",
       "last_price             0.702639\n",
       "last_price_mln         0.702639\n",
       "total_area             1.000000\n",
       "rooms                  0.758400\n",
       "ceiling_height         0.138918\n",
       "floors_total          -0.075250\n",
       "living_area            0.945566\n",
       "floor                 -0.024653\n",
       "is_apartment           0.031007\n",
       "studio                -0.071551\n",
       "open_plan             -0.034429\n",
       "kitchen_area           0.629721\n",
       "balcony                0.009335\n",
       "airports_nearest      -0.031209\n",
       "cityCenters_nearest   -0.232088\n",
       "parks_around3000       0.166374\n",
       "parks_nearest         -0.022294\n",
       "ponds_around3000       0.164149\n",
       "ponds_nearest         -0.102354\n",
       "days_exposition        0.096866\n",
       "sqm_price              0.299400\n",
       "day_of_week           -0.006082\n",
       "month                  0.005081\n",
       "year                  -0.079030\n",
       "living_share           0.168078\n",
       "kitchen_share         -0.295137"
      ]
     },
     "metadata": {},
     "output_type": "display_data"
    }
   ],
   "source": [
    "column = 'total_area'\n",
    "\n",
    "print(column)\n",
    "print(df[column].describe())\n",
    "print()\n",
    "median = np.median(df[column])\n",
    "lower_quartile = np.percentile(df[column], 25)\n",
    "upper_quartile = np.percentile(df[column], 75)\n",
    "iqr = upper_quartile - lower_quartile\n",
    "print('Полутора межквартильных расстояний равно', iqr.round(0))\n",
    "lower_value = df[df[column] >= (lower_quartile - 1.5 * iqr)][column].min()\n",
    "print(\"Минимум значимой выборки =\", lower_value)\n",
    "print(\"Число значений за пределами минимума =\",\n",
    "      df[df[column] <= lower_quartile-1.5*iqr][column].size)\n",
    "upper_value = df[df[column] <= (upper_quartile + 1.5 * iqr)][column].max()\n",
    "print(\"Максимум значимой выборки =\", upper_value)\n",
    "print(\"Число значений за пределами максимума =\",\n",
    "      df[df[column] >= upper_quartile+1.5*iqr][column].size)\n",
    "plt.hist(df[column], range=(lower_value, upper_value))\n",
    "plt.title('Общая площадь', fontsize=15)\n",
    "plt.show()\n",
    "print()\n",
    "print('Таблица корреляции')\n",
    "display(df.corr()[column].to_frame())"
   ]
  },
  {
   "cell_type": "markdown",
   "metadata": {},
   "source": [
    "В целом площадь была рассмотрена на предыдущих этапах. Минимальное значение площади в выборке - 17,2 квадратных метров. Несмотря на то, что есть квартиры с площадью более 800 кв.м., значимая выборка ограничивается 114,5 кв.м. В соответствии с таблицей корреляции площадь - главный фактор определения цены. "
   ]
  },
  {
   "cell_type": "markdown",
   "metadata": {},
   "source": [
    "##### Цена"
   ]
  },
  {
   "cell_type": "code",
   "execution_count": 104,
   "metadata": {},
   "outputs": [
    {
     "name": "stdout",
     "output_type": "stream",
     "text": [
      "last_price_mln\n",
      "count    23449.000000\n",
      "mean         6.517503\n",
      "std          9.754422\n",
      "min          0.430000\n",
      "25%          3.430000\n",
      "50%          4.650000\n",
      "75%          6.800000\n",
      "max        420.000000\n",
      "Name: last_price_mln, dtype: float64\n",
      "\n",
      "Полутора межквартильных расстояний равно 3.0\n",
      "Минимум значимой выборки = 0.43\n",
      "Число значений за пределами минимума = 0\n",
      "Максимум значимой выборки = 11.85\n",
      "Число значений за пределами максимума = 2040\n"
     ]
    },
    {
     "data": {
      "image/png": "[encoded data removed]",
      "text/plain": [
       "<Figure size 432x288 with 1 Axes>"
      ]
     },
     "metadata": {
      "needs_background": "light"
     },
     "output_type": "display_data"
    },
    {
     "name": "stdout",
     "output_type": "stream",
     "text": [
      "\n",
      "Таблица корреляции\n"
     ]
    },
    {
     "data": {
      "text/html": [
       "<div>\n",
       "<style scoped>\n",
       "    .dataframe tbody tr th:only-of-type {\n",
       "        vertical-align: middle;\n",
       "    }\n",
       "\n",
       "    .dataframe tbody tr th {\n",
       "        vertical-align: top;\n",
       "    }\n",
       "\n",
       "    .dataframe thead th {\n",
       "        text-align: right;\n",
       "    }\n",
       "</style>\n",
       "<table border=\"1\" class=\"dataframe\">\n",
       "  <thead>\n",
       "    <tr style=\"text-align: right;\">\n",
       "      <th></th>\n",
       "      <th>last_price_mln</th>\n",
       "    </tr>\n",
       "  </thead>\n",
       "  <tbody>\n",
       "    <tr>\n",
       "      <th>total_images</th>\n",
       "      <td>0.111924</td>\n",
       "    </tr>\n",
       "    <tr>\n",
       "      <th>last_price</th>\n",
       "      <td>1.000000</td>\n",
       "    </tr>\n",
       "    <tr>\n",
       "      <th>last_price_mln</th>\n",
       "      <td>1.000000</td>\n",
       "    </tr>\n",
       "    <tr>\n",
       "      <th>total_area</th>\n",
       "      <td>0.702639</td>\n",
       "    </tr>\n",
       "    <tr>\n",
       "      <th>rooms</th>\n",
       "      <td>0.391923</td>\n",
       "    </tr>\n",
       "    <tr>\n",
       "      <th>ceiling_height</th>\n",
       "      <td>0.111431</td>\n",
       "    </tr>\n",
       "    <tr>\n",
       "      <th>floors_total</th>\n",
       "      <td>-0.007004</td>\n",
       "    </tr>\n",
       "    <tr>\n",
       "      <th>living_area</th>\n",
       "      <td>0.624909</td>\n",
       "    </tr>\n",
       "    <tr>\n",
       "      <th>floor</th>\n",
       "      <td>0.027591</td>\n",
       "    </tr>\n",
       "    <tr>\n",
       "      <th>is_apartment</th>\n",
       "      <td>0.030129</td>\n",
       "    </tr>\n",
       "    <tr>\n",
       "      <th>studio</th>\n",
       "      <td>-0.027628</td>\n",
       "    </tr>\n",
       "    <tr>\n",
       "      <th>open_plan</th>\n",
       "      <td>-0.009453</td>\n",
       "    </tr>\n",
       "    <tr>\n",
       "      <th>kitchen_area</th>\n",
       "      <td>0.526312</td>\n",
       "    </tr>\n",
       "    <tr>\n",
       "      <th>balcony</th>\n",
       "      <td>0.004422</td>\n",
       "    </tr>\n",
       "    <tr>\n",
       "      <th>airports_nearest</th>\n",
       "      <td>-0.028766</td>\n",
       "    </tr>\n",
       "    <tr>\n",
       "      <th>cityCenters_nearest</th>\n",
       "      <td>-0.228340</td>\n",
       "    </tr>\n",
       "    <tr>\n",
       "      <th>parks_around3000</th>\n",
       "      <td>0.169129</td>\n",
       "    </tr>\n",
       "    <tr>\n",
       "      <th>parks_nearest</th>\n",
       "      <td>-0.020742</td>\n",
       "    </tr>\n",
       "    <tr>\n",
       "      <th>ponds_around3000</th>\n",
       "      <td>0.172536</td>\n",
       "    </tr>\n",
       "    <tr>\n",
       "      <th>ponds_nearest</th>\n",
       "      <td>-0.103856</td>\n",
       "    </tr>\n",
       "    <tr>\n",
       "      <th>days_exposition</th>\n",
       "      <td>0.061265</td>\n",
       "    </tr>\n",
       "    <tr>\n",
       "      <th>sqm_price</th>\n",
       "      <td>0.729954</td>\n",
       "    </tr>\n",
       "    <tr>\n",
       "      <th>day_of_week</th>\n",
       "      <td>-0.002858</td>\n",
       "    </tr>\n",
       "    <tr>\n",
       "      <th>month</th>\n",
       "      <td>0.000689</td>\n",
       "    </tr>\n",
       "    <tr>\n",
       "      <th>year</th>\n",
       "      <td>-0.046716</td>\n",
       "    </tr>\n",
       "    <tr>\n",
       "      <th>living_share</th>\n",
       "      <td>0.015412</td>\n",
       "    </tr>\n",
       "    <tr>\n",
       "      <th>kitchen_share</th>\n",
       "      <td>-0.089161</td>\n",
       "    </tr>\n",
       "  </tbody>\n",
       "</table>\n",
       "</div>"
      ],
      "text/plain": [
       "                     last_price_mln\n",
       "total_images               0.111924\n",
       "last_price                 1.000000\n",
       "last_price_mln             1.000000\n",
       "total_area                 0.702639\n",
       "rooms                      0.391923\n",
       "ceiling_height             0.111431\n",
       "floors_total              -0.007004\n",
       "living_area                0.624909\n",
       "floor                      0.027591\n",
       "is_apartment               0.030129\n",
       "studio                    -0.027628\n",
       "open_plan                 -0.009453\n",
       "kitchen_area               0.526312\n",
       "balcony                    0.004422\n",
       "airports_nearest          -0.028766\n",
       "cityCenters_nearest       -0.228340\n",
       "parks_around3000           0.169129\n",
       "parks_nearest             -0.020742\n",
       "ponds_around3000           0.172536\n",
       "ponds_nearest             -0.103856\n",
       "days_exposition            0.061265\n",
       "sqm_price                  0.729954\n",
       "day_of_week               -0.002858\n",
       "month                      0.000689\n",
       "year                      -0.046716\n",
       "living_share               0.015412\n",
       "kitchen_share             -0.089161"
      ]
     },
     "metadata": {},
     "output_type": "display_data"
    }
   ],
   "source": [
    "column = 'last_price_mln'\n",
    "\n",
    "print(column)\n",
    "print(df[column].describe())\n",
    "print()\n",
    "median = np.median(df[column])\n",
    "lower_quartile = np.percentile(df[column], 25)\n",
    "upper_quartile = np.percentile(df[column], 75)\n",
    "iqr = upper_quartile - lower_quartile\n",
    "print('Полутора межквартильных расстояний равно', iqr.round(0))\n",
    "lower_value = df[df[column] >= (lower_quartile - 1.5 * iqr)][column].min()\n",
    "print(\"Минимум значимой выборки =\", lower_value)\n",
    "print(\"Число значений за пределами минимума =\",\n",
    "      df[df[column] <= lower_quartile-1.5*iqr][column].size)\n",
    "upper_value = df[df[column] <= (upper_quartile + 1.5 * iqr)][column].max()\n",
    "print(\"Максимум значимой выборки =\", upper_value)\n",
    "print(\"Число значений за пределами максимума =\",\n",
    "      df[df[column] >= upper_quartile+1.5*iqr][column].size)\n",
    "plt.hist(df[column], range=(lower_value, upper_value))\n",
    "plt.title('Цена', fontsize=15)\n",
    "plt.show()\n",
    "print()\n",
    "print('Таблица корреляции')\n",
    "display(df.corr()[column].to_frame())"
   ]
  },
  {
   "cell_type": "markdown",
   "metadata": {},
   "source": [
    "На начальном этапе работы мы убрали из выборки квартиры с ценой в 760 млн руб, в выборке имеются квартиры со стоимостью 420 млн руб. - мы не стали их убирать, так как возможно это нормальные цифры для центра города. Значимая выборка начинается с 430 тыс. руб. и заканчивается 11,85 млн руб. Больше всего на цену влияет площадь и количество комнат."
   ]
  },
  {
   "cell_type": "markdown",
   "metadata": {},
   "source": [
    "##### Комнаты"
   ]
  },
  {
   "cell_type": "code",
   "execution_count": 105,
   "metadata": {},
   "outputs": [
    {
     "name": "stdout",
     "output_type": "stream",
     "text": [
      "rooms\n",
      "count    23449.000000\n",
      "mean         2.072967\n",
      "std          1.078467\n",
      "min          0.000000\n",
      "25%          1.000000\n",
      "50%          2.000000\n",
      "75%          3.000000\n",
      "max         19.000000\n",
      "Name: rooms, dtype: float64\n",
      "\n",
      "Полутора межквартильных расстояний равно 2.0\n",
      "Минимум значимой выборки = 0\n",
      "Число значений за пределами минимума = 0\n",
      "Максимум значимой выборки = 6\n",
      "Число значений за пределами максимума = 192\n"
     ]
    },
    {
     "data": {
      "image/png": "[encoded data removed]",
      "text/plain": [
       "<Figure size 432x288 with 1 Axes>"
      ]
     },
     "metadata": {
      "needs_background": "light"
     },
     "output_type": "display_data"
    },
    {
     "name": "stdout",
     "output_type": "stream",
     "text": [
      "\n",
      "Таблица корреляции\n"
     ]
    },
    {
     "data": {
      "text/html": [
       "<div>\n",
       "<style scoped>\n",
       "    .dataframe tbody tr th:only-of-type {\n",
       "        vertical-align: middle;\n",
       "    }\n",
       "\n",
       "    .dataframe tbody tr th {\n",
       "        vertical-align: top;\n",
       "    }\n",
       "\n",
       "    .dataframe thead th {\n",
       "        text-align: right;\n",
       "    }\n",
       "</style>\n",
       "<table border=\"1\" class=\"dataframe\">\n",
       "  <thead>\n",
       "    <tr style=\"text-align: right;\">\n",
       "      <th></th>\n",
       "      <th>rooms</th>\n",
       "    </tr>\n",
       "  </thead>\n",
       "  <tbody>\n",
       "    <tr>\n",
       "      <th>total_images</th>\n",
       "      <td>0.098287</td>\n",
       "    </tr>\n",
       "    <tr>\n",
       "      <th>last_price</th>\n",
       "      <td>0.391923</td>\n",
       "    </tr>\n",
       "    <tr>\n",
       "      <th>last_price_mln</th>\n",
       "      <td>0.391923</td>\n",
       "    </tr>\n",
       "    <tr>\n",
       "      <th>total_area</th>\n",
       "      <td>0.758400</td>\n",
       "    </tr>\n",
       "    <tr>\n",
       "      <th>rooms</th>\n",
       "      <td>1.000000</td>\n",
       "    </tr>\n",
       "    <tr>\n",
       "      <th>ceiling_height</th>\n",
       "      <td>0.083441</td>\n",
       "    </tr>\n",
       "    <tr>\n",
       "      <th>floors_total</th>\n",
       "      <td>-0.227815</td>\n",
       "    </tr>\n",
       "    <tr>\n",
       "      <th>living_area</th>\n",
       "      <td>0.825241</td>\n",
       "    </tr>\n",
       "    <tr>\n",
       "      <th>floor</th>\n",
       "      <td>-0.151334</td>\n",
       "    </tr>\n",
       "    <tr>\n",
       "      <th>is_apartment</th>\n",
       "      <td>0.000435</td>\n",
       "    </tr>\n",
       "    <tr>\n",
       "      <th>studio</th>\n",
       "      <td>-0.145528</td>\n",
       "    </tr>\n",
       "    <tr>\n",
       "      <th>open_plan</th>\n",
       "      <td>-0.087193</td>\n",
       "    </tr>\n",
       "    <tr>\n",
       "      <th>kitchen_area</th>\n",
       "      <td>0.297154</td>\n",
       "    </tr>\n",
       "    <tr>\n",
       "      <th>balcony</th>\n",
       "      <td>-0.016057</td>\n",
       "    </tr>\n",
       "    <tr>\n",
       "      <th>airports_nearest</th>\n",
       "      <td>-0.061966</td>\n",
       "    </tr>\n",
       "    <tr>\n",
       "      <th>cityCenters_nearest</th>\n",
       "      <td>-0.184688</td>\n",
       "    </tr>\n",
       "    <tr>\n",
       "      <th>parks_around3000</th>\n",
       "      <td>0.137673</td>\n",
       "    </tr>\n",
       "    <tr>\n",
       "      <th>parks_nearest</th>\n",
       "      <td>-0.054604</td>\n",
       "    </tr>\n",
       "    <tr>\n",
       "      <th>ponds_around3000</th>\n",
       "      <td>0.093986</td>\n",
       "    </tr>\n",
       "    <tr>\n",
       "      <th>ponds_nearest</th>\n",
       "      <td>-0.061577</td>\n",
       "    </tr>\n",
       "    <tr>\n",
       "      <th>days_exposition</th>\n",
       "      <td>0.078913</td>\n",
       "    </tr>\n",
       "    <tr>\n",
       "      <th>sqm_price</th>\n",
       "      <td>0.051306</td>\n",
       "    </tr>\n",
       "    <tr>\n",
       "      <th>day_of_week</th>\n",
       "      <td>-0.005166</td>\n",
       "    </tr>\n",
       "    <tr>\n",
       "      <th>month</th>\n",
       "      <td>-0.003862</td>\n",
       "    </tr>\n",
       "    <tr>\n",
       "      <th>year</th>\n",
       "      <td>-0.054617</td>\n",
       "    </tr>\n",
       "    <tr>\n",
       "      <th>living_share</th>\n",
       "      <td>0.503226</td>\n",
       "    </tr>\n",
       "    <tr>\n",
       "      <th>kitchen_share</th>\n",
       "      <td>-0.534895</td>\n",
       "    </tr>\n",
       "  </tbody>\n",
       "</table>\n",
       "</div>"
      ],
      "text/plain": [
       "                        rooms\n",
       "total_images         0.098287\n",
       "last_price           0.391923\n",
       "last_price_mln       0.391923\n",
       "total_area           0.758400\n",
       "rooms                1.000000\n",
       "ceiling_height       0.083441\n",
       "floors_total        -0.227815\n",
       "living_area          0.825241\n",
       "floor               -0.151334\n",
       "is_apartment         0.000435\n",
       "studio              -0.145528\n",
       "open_plan           -0.087193\n",
       "kitchen_area         0.297154\n",
       "balcony             -0.016057\n",
       "airports_nearest    -0.061966\n",
       "cityCenters_nearest -0.184688\n",
       "parks_around3000     0.137673\n",
       "parks_nearest       -0.054604\n",
       "ponds_around3000     0.093986\n",
       "ponds_nearest       -0.061577\n",
       "days_exposition      0.078913\n",
       "sqm_price            0.051306\n",
       "day_of_week         -0.005166\n",
       "month               -0.003862\n",
       "year                -0.054617\n",
       "living_share         0.503226\n",
       "kitchen_share       -0.534895"
      ]
     },
     "metadata": {},
     "output_type": "display_data"
    }
   ],
   "source": [
    "column = 'rooms'\n",
    "\n",
    "print(column)\n",
    "print(df[column].describe())\n",
    "print()\n",
    "median = np.median(df[column])\n",
    "lower_quartile = np.percentile(df[column], 25)\n",
    "upper_quartile = np.percentile(df[column], 75)\n",
    "iqr = upper_quartile - lower_quartile\n",
    "print('Полутора межквартильных расстояний равно', iqr.round(0))\n",
    "lower_value = df[df[column] >= (lower_quartile - 1.5 * iqr)][column].min()\n",
    "print(\"Минимум значимой выборки =\", lower_value)\n",
    "print(\"Число значений за пределами минимума =\",\n",
    "      df[df[column] <= lower_quartile-1.5*iqr][column].size)\n",
    "upper_value = df[df[column] <= (upper_quartile + 1.5 * iqr)][column].max()\n",
    "print(\"Максимум значимой выборки =\", upper_value)\n",
    "print(\"Число значений за пределами максимума =\",\n",
    "      df[df[column] >= upper_quartile+1.5*iqr][column].size)\n",
    "plt.hist(df[column], range=(lower_value, upper_value), bins=6)\n",
    "plt.title('Комнаты', fontsize=15)\n",
    "plt.show()\n",
    "print()\n",
    "print('Таблица корреляции')\n",
    "display(df.corr()[column].to_frame())"
   ]
  },
  {
   "cell_type": "markdown",
   "metadata": {},
   "source": [
    "Мы видим, что большинство квартир имеют 1 или 2 комнаты. Есть 192 квартиры с количеством комнат больше 6, что незначительно для общей выборки. Комнаты важный, но косвенный фактор определения итоговой цены, так как количество комнат определют площадь квартиры. "
   ]
  },
  {
   "cell_type": "markdown",
   "metadata": {},
   "source": [
    "##### Высота потолка"
   ]
  },
  {
   "cell_type": "code",
   "execution_count": 106,
   "metadata": {},
   "outputs": [
    {
     "name": "stdout",
     "output_type": "stream",
     "text": [
      "ceiling_height\n",
      "count    14407.000000\n",
      "mean         2.761995\n",
      "std          0.927332\n",
      "min          2.200000\n",
      "25%          2.520000\n",
      "50%          2.650000\n",
      "75%          2.800000\n",
      "max         32.000000\n",
      "Name: ceiling_height, dtype: float64\n",
      "\n",
      "Полутора межквартильных расстояний равно 0.28\n",
      "Минимум значимой выборки = 2.2\n",
      "Число значений за пределами минимума = 0\n",
      "Максимум значимой выборки = 16\n",
      "Число значений за пределами максимума = 805\n"
     ]
    },
    {
     "data": {
      "image/png": "[encoded data removed]",
      "text/plain": [
       "<Figure size 432x288 with 1 Axes>"
      ]
     },
     "metadata": {
      "needs_background": "light"
     },
     "output_type": "display_data"
    },
    {
     "name": "stdout",
     "output_type": "stream",
     "text": [
      "\n",
      "Таблица корреляции\n"
     ]
    },
    {
     "data": {
      "text/html": [
       "<div>\n",
       "<style scoped>\n",
       "    .dataframe tbody tr th:only-of-type {\n",
       "        vertical-align: middle;\n",
       "    }\n",
       "\n",
       "    .dataframe tbody tr th {\n",
       "        vertical-align: top;\n",
       "    }\n",
       "\n",
       "    .dataframe thead th {\n",
       "        text-align: right;\n",
       "    }\n",
       "</style>\n",
       "<table border=\"1\" class=\"dataframe\">\n",
       "  <thead>\n",
       "    <tr style=\"text-align: right;\">\n",
       "      <th></th>\n",
       "      <th>ceiling_height</th>\n",
       "    </tr>\n",
       "  </thead>\n",
       "  <tbody>\n",
       "    <tr>\n",
       "      <th>total_images</th>\n",
       "      <td>0.004219</td>\n",
       "    </tr>\n",
       "    <tr>\n",
       "      <th>last_price</th>\n",
       "      <td>0.111431</td>\n",
       "    </tr>\n",
       "    <tr>\n",
       "      <th>last_price_mln</th>\n",
       "      <td>0.111431</td>\n",
       "    </tr>\n",
       "    <tr>\n",
       "      <th>total_area</th>\n",
       "      <td>0.138918</td>\n",
       "    </tr>\n",
       "    <tr>\n",
       "      <th>rooms</th>\n",
       "      <td>0.083441</td>\n",
       "    </tr>\n",
       "    <tr>\n",
       "      <th>ceiling_height</th>\n",
       "      <td>1.000000</td>\n",
       "    </tr>\n",
       "    <tr>\n",
       "      <th>floors_total</th>\n",
       "      <td>-0.034332</td>\n",
       "    </tr>\n",
       "    <tr>\n",
       "      <th>living_area</th>\n",
       "      <td>0.132599</td>\n",
       "    </tr>\n",
       "    <tr>\n",
       "      <th>floor</th>\n",
       "      <td>-0.018737</td>\n",
       "    </tr>\n",
       "    <tr>\n",
       "      <th>is_apartment</th>\n",
       "      <td>0.080950</td>\n",
       "    </tr>\n",
       "    <tr>\n",
       "      <th>studio</th>\n",
       "      <td>0.003119</td>\n",
       "    </tr>\n",
       "    <tr>\n",
       "      <th>open_plan</th>\n",
       "      <td>0.058698</td>\n",
       "    </tr>\n",
       "    <tr>\n",
       "      <th>kitchen_area</th>\n",
       "      <td>0.109646</td>\n",
       "    </tr>\n",
       "    <tr>\n",
       "      <th>balcony</th>\n",
       "      <td>0.007157</td>\n",
       "    </tr>\n",
       "    <tr>\n",
       "      <th>airports_nearest</th>\n",
       "      <td>-0.044643</td>\n",
       "    </tr>\n",
       "    <tr>\n",
       "      <th>cityCenters_nearest</th>\n",
       "      <td>-0.131470</td>\n",
       "    </tr>\n",
       "    <tr>\n",
       "      <th>parks_around3000</th>\n",
       "      <td>0.098579</td>\n",
       "    </tr>\n",
       "    <tr>\n",
       "      <th>parks_nearest</th>\n",
       "      <td>-0.019274</td>\n",
       "    </tr>\n",
       "    <tr>\n",
       "      <th>ponds_around3000</th>\n",
       "      <td>0.097711</td>\n",
       "    </tr>\n",
       "    <tr>\n",
       "      <th>ponds_nearest</th>\n",
       "      <td>-0.073729</td>\n",
       "    </tr>\n",
       "    <tr>\n",
       "      <th>days_exposition</th>\n",
       "      <td>0.021120</td>\n",
       "    </tr>\n",
       "    <tr>\n",
       "      <th>sqm_price</th>\n",
       "      <td>0.096964</td>\n",
       "    </tr>\n",
       "    <tr>\n",
       "      <th>day_of_week</th>\n",
       "      <td>-0.006998</td>\n",
       "    </tr>\n",
       "    <tr>\n",
       "      <th>month</th>\n",
       "      <td>0.000694</td>\n",
       "    </tr>\n",
       "    <tr>\n",
       "      <th>year</th>\n",
       "      <td>-0.023240</td>\n",
       "    </tr>\n",
       "    <tr>\n",
       "      <th>living_share</th>\n",
       "      <td>0.005441</td>\n",
       "    </tr>\n",
       "    <tr>\n",
       "      <th>kitchen_share</th>\n",
       "      <td>-0.016679</td>\n",
       "    </tr>\n",
       "  </tbody>\n",
       "</table>\n",
       "</div>"
      ],
      "text/plain": [
       "                     ceiling_height\n",
       "total_images               0.004219\n",
       "last_price                 0.111431\n",
       "last_price_mln             0.111431\n",
       "total_area                 0.138918\n",
       "rooms                      0.083441\n",
       "ceiling_height             1.000000\n",
       "floors_total              -0.034332\n",
       "living_area                0.132599\n",
       "floor                     -0.018737\n",
       "is_apartment               0.080950\n",
       "studio                     0.003119\n",
       "open_plan                  0.058698\n",
       "kitchen_area               0.109646\n",
       "balcony                    0.007157\n",
       "airports_nearest          -0.044643\n",
       "cityCenters_nearest       -0.131470\n",
       "parks_around3000           0.098579\n",
       "parks_nearest             -0.019274\n",
       "ponds_around3000           0.097711\n",
       "ponds_nearest             -0.073729\n",
       "days_exposition            0.021120\n",
       "sqm_price                  0.096964\n",
       "day_of_week               -0.006998\n",
       "month                      0.000694\n",
       "year                      -0.023240\n",
       "living_share               0.005441\n",
       "kitchen_share             -0.016679"
      ]
     },
     "metadata": {},
     "output_type": "display_data"
    }
   ],
   "source": [
    "print('ceiling_height')\n",
    "print(df[df['ceiling_height'].notna()]['ceiling_height'].describe())\n",
    "print()\n",
    "median = np.median(df[df['ceiling_height'].notna()]['ceiling_height'])\n",
    "lower_quartile = np.percentile(\n",
    "    df[df['ceiling_height'].notna()]['ceiling_height'], 25)\n",
    "upper_quartile = np.percentile(\n",
    "    df[df['ceiling_height'].notna()]['ceiling_height'], 75)\n",
    "iqr = upper_quartile - lower_quartile\n",
    "print('Полутора межквартильных расстояний равно', iqr.round(3))\n",
    "lower_value = df[df['ceiling_height'].notna() & (\n",
    "    df['ceiling_height'] >= (lower_quartile - 1.5 * iqr))]['ceiling_height'].min()\n",
    "print(\"Минимум значимой выборки =\", lower_value)\n",
    "print(\"Число значений за пределами минимума =\", df[df['ceiling_height'].notna(\n",
    ") & (df['ceiling_height'] <= lower_quartile-1.5*iqr)]['ceiling_height'].size)\n",
    "upper_value = df[df['ceiling_height'].notna() & (\n",
    "    df['ceiling_height'] <= (upper_quartile + 1.5 * iqr))][column].max()\n",
    "print(\"Максимум значимой выборки =\", upper_value)\n",
    "print(\"Число значений за пределами максимума =\", df[df['ceiling_height'].notna(\n",
    ") & (df['ceiling_height'] >= upper_quartile+1.5*iqr)]['ceiling_height'].size)\n",
    "plt.hist(df[df['ceiling_height'].notna()]['ceiling_height'],\n",
    "         range=(lower_value, upper_value))\n",
    "plt.title('Высота потолка', fontsize=15)\n",
    "plt.show()\n",
    "print()\n",
    "print('Таблица корреляции')\n",
    "display(df[df['ceiling_height'].notna()].corr()['ceiling_height'].to_frame())"
   ]
  },
  {
   "cell_type": "markdown",
   "metadata": {},
   "source": [
    "На основании тех объявлений, где высота потолков в квартире указана, можно сделать вывод, что высота потолков - очень незначимый фактор при определении цены, но тем не менее он есть. Большинство квартир имееют высоту потолков до 3.2 метров. Но есть квартиры и с большей высотой потолков - их 805. "
   ]
  },
  {
   "cell_type": "markdown",
   "metadata": {},
   "source": [
    "##### Выводы"
   ]
  },
  {
   "cell_type": "markdown",
   "metadata": {},
   "source": [
    "Анализ показывает, что наиважнейшим фактором определения цены является площадь. Немалозначимыми факторами является наличие прудов и парков поблизости."
   ]
  },
  {
   "cell_type": "markdown",
   "metadata": {},
   "source": [
    "#### Задача: \"Изучите время продажи квартиры. Постройте гистограмму. Посчитайте среднее и медиану. Опишите, сколько обычно занимает продажа. Когда можно считать, что продажи прошли очень быстро, а когда необычно долго?\"\""
   ]
  },
  {
   "cell_type": "code",
   "execution_count": 107,
   "metadata": {},
   "outputs": [
    {
     "data": {
      "image/png": "[encoded data removed]",
      "text/plain": [
       "<Figure size 432x288 with 1 Axes>"
      ]
     },
     "metadata": {
      "needs_background": "light"
     },
     "output_type": "display_data"
    },
    {
     "name": "stdout",
     "output_type": "stream",
     "text": [
      "\n"
     ]
    },
    {
     "data": {
      "text/plain": [
       "count    23449.000000\n",
       "mean       156.613971\n",
       "std        213.735717\n",
       "min          0.000000\n",
       "25%         22.000000\n",
       "50%         73.000000\n",
       "75%        199.000000\n",
       "max       1580.000000\n",
       "Name: days_exposition, dtype: float64"
      ]
     },
     "metadata": {},
     "output_type": "display_data"
    }
   ],
   "source": [
    "plt.hist(df['days_exposition'], bins=30, range=(0, 800))\n",
    "plt.title('days_exposition', fontsize=15)\n",
    "plt.show()\n",
    "print()\n",
    "display(df['days_exposition'].describe())"
   ]
  },
  {
   "cell_type": "markdown",
   "metadata": {},
   "source": [
    "Не забываем, что мы меняли 3000 NaN на нули"
   ]
  },
  {
   "cell_type": "code",
   "execution_count": 108,
   "metadata": {},
   "outputs": [
    {
     "data": {
      "text/plain": [
       "count    20290.000000\n",
       "mean       180.997585\n",
       "std        219.959556\n",
       "min          1.000000\n",
       "25%         45.000000\n",
       "50%         95.000000\n",
       "75%        232.000000\n",
       "max       1580.000000\n",
       "Name: days_exposition, dtype: float64"
      ]
     },
     "metadata": {},
     "output_type": "display_data"
    }
   ],
   "source": [
    "display(df[df['days_exposition'] > 0]['days_exposition'].describe())"
   ]
  },
  {
   "cell_type": "markdown",
   "metadata": {},
   "source": [
    "Если убрать нули, то медиана возраст с 73 дней до 95 дней."
   ]
  },
  {
   "cell_type": "code",
   "execution_count": 109,
   "metadata": {},
   "outputs": [],
   "source": [
    "df2 = df[df['days_exposition'] > 0]"
   ]
  },
  {
   "cell_type": "code",
   "execution_count": 110,
   "metadata": {},
   "outputs": [
    {
     "name": "stdout",
     "output_type": "stream",
     "text": [
      "Минимум значимой выборки = 1.0\n",
      "Максимум значимой выборки = 512.0\n"
     ]
    }
   ],
   "source": [
    "lower_quartile = np.percentile(df2['days_exposition'], 25)\n",
    "upper_quartile = np.percentile(df2['days_exposition'], 75)\n",
    "iqr = upper_quartile - lower_quartile\n",
    "upper_value = df2[df2['days_exposition'] <= (\n",
    "    upper_quartile + 1.5 * iqr)]['days_exposition'].max()\n",
    "lower_value = df2[df2['days_exposition'] >= (\n",
    "    lower_quartile - 1.5 * iqr)]['days_exposition'].min()\n",
    "print(\"Минимум значимой выборки =\", lower_value)\n",
    "print(\"Максимум значимой выборки =\", upper_value)"
   ]
  },
  {
   "cell_type": "code",
   "execution_count": 111,
   "metadata": {},
   "outputs": [
    {
     "data": {
      "image/png": "[encoded data removed]",
      "text/plain": [
       "<Figure size 432x288 with 1 Axes>"
      ]
     },
     "metadata": {
      "needs_background": "light"
     },
     "output_type": "display_data"
    }
   ],
   "source": [
    "plt.hist(df[df['days_exposition'] > 0]\n",
    "         ['days_exposition'], bins=30, range=(0, 800))\n",
    "plt.title('days_exposition', fontsize=15)\n",
    "plt.show()"
   ]
  },
  {
   "cell_type": "markdown",
   "metadata": {},
   "source": [
    "Рассмотрим внимательнее интервал до года"
   ]
  },
  {
   "cell_type": "code",
   "execution_count": 112,
   "metadata": {},
   "outputs": [
    {
     "data": {
      "image/png": "[encoded data removed]",
      "text/plain": [
       "<Figure size 432x288 with 1 Axes>"
      ]
     },
     "metadata": {
      "needs_background": "light"
     },
     "output_type": "display_data"
    }
   ],
   "source": [
    "plt.hist(df[df['days_exposition'] > 0]\n",
    "         ['days_exposition'], bins=365, range=(0, 365))\n",
    "plt.title('days_exposition', fontsize=15)\n",
    "plt.show()"
   ]
  },
  {
   "cell_type": "code",
   "execution_count": 113,
   "metadata": {},
   "outputs": [
    {
     "data": {
      "image/png": "[encoded data removed]",
      "text/plain": [
       "<Figure size 432x288 with 1 Axes>"
      ]
     },
     "metadata": {
      "needs_background": "light"
     },
     "output_type": "display_data"
    }
   ],
   "source": [
    "plt.hist(df[df['days_exposition'] > 0]\n",
    "         ['days_exposition'], bins=100, range=(0, 100))\n",
    "plt.title('days_exposition', fontsize=15)\n",
    "plt.show()"
   ]
  },
  {
   "cell_type": "markdown",
   "metadata": {},
   "source": [
    "Наблюлаются резкие выбросы в районе 7, 30, 45, 60 и 90 дней. Сузим интервал."
   ]
  },
  {
   "cell_type": "code",
   "execution_count": 114,
   "metadata": {},
   "outputs": [
    {
     "data": {
      "image/png": "[encoded data removed]",
      "text/plain": [
       "<Figure size 432x288 with 1 Axes>"
      ]
     },
     "metadata": {
      "needs_background": "light"
     },
     "output_type": "display_data"
    }
   ],
   "source": [
    "plt.hist(df[df['days_exposition'] > 0]\n",
    "         ['days_exposition'], bins=11, range=(0, 10))\n",
    "plt.title('days_exposition', fontsize=15)\n",
    "plt.show()"
   ]
  },
  {
   "cell_type": "code",
   "execution_count": 115,
   "metadata": {
    "tags": []
   },
   "outputs": [
    {
     "data": {
      "image/png": "[encoded data removed]",
      "text/plain": [
       "<Figure size 432x288 with 1 Axes>"
      ]
     },
     "metadata": {
      "needs_background": "light"
     },
     "output_type": "display_data"
    }
   ],
   "source": [
    "plt.hist(df[df['days_exposition'] > 0]\n",
    "         ['days_exposition'], bins=20, range=(29, 91))\n",
    "plt.title('days_exposition', fontsize=15)\n",
    "plt.show()"
   ]
  },
  {
   "cell_type": "markdown",
   "metadata": {},
   "source": [
    "Рассмотрим каждый выброс по отдельности"
   ]
  },
  {
   "cell_type": "code",
   "execution_count": 116,
   "metadata": {},
   "outputs": [
    {
     "data": {
      "image/png": "[encoded data removed]",
      "text/plain": [
       "<Figure size 432x288 with 1 Axes>"
      ]
     },
     "metadata": {
      "needs_background": "light"
     },
     "output_type": "display_data"
    }
   ],
   "source": [
    "plt.hist(df[df['days_exposition'] > 0]\n",
    "         ['days_exposition'], bins=11, range=(25, 35))\n",
    "plt.title('days_exposition', fontsize=15)\n",
    "plt.show()"
   ]
  },
  {
   "cell_type": "code",
   "execution_count": 117,
   "metadata": {},
   "outputs": [
    {
     "data": {
      "image/png": "[encoded data removed]",
      "text/plain": [
       "<Figure size 432x288 with 1 Axes>"
      ]
     },
     "metadata": {
      "needs_background": "light"
     },
     "output_type": "display_data"
    }
   ],
   "source": [
    "plt.hist(df[df['days_exposition'] > 0]\n",
    "         ['days_exposition'], bins=11, range=(40, 50))\n",
    "plt.title('days_exposition', fontsize=15)\n",
    "plt.show()"
   ]
  },
  {
   "cell_type": "code",
   "execution_count": 118,
   "metadata": {},
   "outputs": [
    {
     "data": {
      "image/png": "[encoded data removed]",
      "text/plain": [
       "<Figure size 432x288 with 1 Axes>"
      ]
     },
     "metadata": {
      "needs_background": "light"
     },
     "output_type": "display_data"
    }
   ],
   "source": [
    "plt.hist(df[df['days_exposition'] > 0]\n",
    "         ['days_exposition'], bins=11, range=(55, 65))\n",
    "plt.title('days_exposition', fontsize=15)\n",
    "plt.show()"
   ]
  },
  {
   "cell_type": "code",
   "execution_count": 119,
   "metadata": {},
   "outputs": [
    {
     "data": {
      "image/png": "[encoded data removed]",
      "text/plain": [
       "<Figure size 432x288 with 1 Axes>"
      ]
     },
     "metadata": {
      "needs_background": "light"
     },
     "output_type": "display_data"
    }
   ],
   "source": [
    "plt.hist(df[df['days_exposition'] > 0]\n",
    "         ['days_exposition'], bins=11, range=(85, 95))\n",
    "plt.title('days_exposition', fontsize=15)\n",
    "plt.show()"
   ]
  },
  {
   "cell_type": "markdown",
   "metadata": {},
   "source": [
    "Предполагаем, что объявления автоматически снимаются через 7, 45, 60 и 90 дней. Большое кол-во квартир в данных дня сдвигают среднюю и медину от нормального уровня. Для дальнейшего анализа избавимся от выбросов."
   ]
  },
  {
   "cell_type": "code",
   "execution_count": 120,
   "metadata": {},
   "outputs": [
    {
     "data": {
      "text/html": [
       "<div>\n",
       "<style scoped>\n",
       "    .dataframe tbody tr th:only-of-type {\n",
       "        vertical-align: middle;\n",
       "    }\n",
       "\n",
       "    .dataframe tbody tr th {\n",
       "        vertical-align: top;\n",
       "    }\n",
       "\n",
       "    .dataframe thead th {\n",
       "        text-align: right;\n",
       "    }\n",
       "</style>\n",
       "<table border=\"1\" class=\"dataframe\">\n",
       "  <thead>\n",
       "    <tr style=\"text-align: right;\">\n",
       "      <th></th>\n",
       "      <th>days</th>\n",
       "      <th>counts</th>\n",
       "    </tr>\n",
       "  </thead>\n",
       "  <tbody>\n",
       "    <tr>\n",
       "      <th>0</th>\n",
       "      <td>0.0</td>\n",
       "      <td>3159</td>\n",
       "    </tr>\n",
       "    <tr>\n",
       "      <th>1</th>\n",
       "      <td>1.0</td>\n",
       "      <td>1</td>\n",
       "    </tr>\n",
       "    <tr>\n",
       "      <th>2</th>\n",
       "      <td>2.0</td>\n",
       "      <td>3</td>\n",
       "    </tr>\n",
       "    <tr>\n",
       "      <th>3</th>\n",
       "      <td>3.0</td>\n",
       "      <td>155</td>\n",
       "    </tr>\n",
       "    <tr>\n",
       "      <th>4</th>\n",
       "      <td>4.0</td>\n",
       "      <td>173</td>\n",
       "    </tr>\n",
       "    <tr>\n",
       "      <th>5</th>\n",
       "      <td>5.0</td>\n",
       "      <td>152</td>\n",
       "    </tr>\n",
       "    <tr>\n",
       "      <th>6</th>\n",
       "      <td>6.0</td>\n",
       "      <td>123</td>\n",
       "    </tr>\n",
       "    <tr>\n",
       "      <th>7</th>\n",
       "      <td>7.0</td>\n",
       "      <td>228</td>\n",
       "    </tr>\n",
       "    <tr>\n",
       "      <th>8</th>\n",
       "      <td>8.0</td>\n",
       "      <td>137</td>\n",
       "    </tr>\n",
       "    <tr>\n",
       "      <th>9</th>\n",
       "      <td>9.0</td>\n",
       "      <td>141</td>\n",
       "    </tr>\n",
       "  </tbody>\n",
       "</table>\n",
       "</div>"
      ],
      "text/plain": [
       "   days  counts\n",
       "0   0.0    3159\n",
       "1   1.0       1\n",
       "2   2.0       3\n",
       "3   3.0     155\n",
       "4   4.0     173\n",
       "5   5.0     152\n",
       "6   6.0     123\n",
       "7   7.0     228\n",
       "8   8.0     137\n",
       "9   9.0     141"
      ]
     },
     "metadata": {},
     "output_type": "display_data"
    },
    {
     "data": {
      "image/png": "[encoded data removed]",
      "text/plain": [
       "<Figure size 432x288 with 1 Axes>"
      ]
     },
     "metadata": {
      "needs_background": "light"
     },
     "output_type": "display_data"
    }
   ],
   "source": [
    "days_exposition = df['days_exposition'].value_counts().rename_axis(\n",
    "    'days').reset_index(name='counts').sort_values(by='days').reset_index(drop=True)\n",
    "display(days_exposition.head(10))\n",
    "days_exposition.at[0, 'counts'] = 0\n",
    "plt.hist(days_exposition['days'], bins=365, range=(\n",
    "    0, 365), weights=days_exposition['counts'])\n",
    "plt.title('days_exposition', fontsize=15)\n",
    "plt.show()"
   ]
  },
  {
   "cell_type": "code",
   "execution_count": 121,
   "metadata": {},
   "outputs": [
    {
     "data": {
      "image/png": "[encoded data removed]",
      "text/plain": [
       "<Figure size 432x288 with 1 Axes>"
      ]
     },
     "metadata": {
      "needs_background": "light"
     },
     "output_type": "display_data"
    }
   ],
   "source": [
    "mean_7 = days_exposition[(days_exposition['days'] < 7) |\n",
    "                         ((days_exposition['days'] > 7) & (days_exposition['days'] < 14))]['counts'].mean()\n",
    "days_exposition.at[7, 'counts'] = mean_7\n",
    "mean_30 = days_exposition[((days_exposition['days'] > 25) & (days_exposition['days'] < 30)) |\n",
    "                          ((days_exposition['days'] > 30) & (days_exposition['days'] < 35))]['counts'].mean()\n",
    "days_exposition.at[30, 'counts'] = mean_30\n",
    "mean_45 = days_exposition[((days_exposition['days'] > 40) & (days_exposition['days'] < 45)) |\n",
    "                          ((days_exposition['days'] > 45) & (days_exposition['days'] < 50))]['counts'].mean()\n",
    "days_exposition.at[45, 'counts'] = mean_45\n",
    "mean_60 = days_exposition[((days_exposition['days'] > 55) & (days_exposition['days'] < 60)) |\n",
    "                          ((days_exposition['days'] > 60) & (days_exposition['days'] < 65))]['counts'].mean()\n",
    "days_exposition.at[60, 'counts'] = mean_60\n",
    "mean_90 = days_exposition[((days_exposition['days'] > 85) & (days_exposition['days'] < 90)) |\n",
    "                          ((days_exposition['days'] > 90) & (days_exposition['days'] < 95))]['counts'].mean()\n",
    "days_exposition.at[90, 'counts'] = mean_90\n",
    "\n",
    "plt.hist(days_exposition['days'], bins=366, range=(\n",
    "    0, 365), weights=days_exposition['counts'])\n",
    "plt.title('days_exposition', fontsize=15)\n",
    "plt.show()"
   ]
  },
  {
   "cell_type": "markdown",
   "metadata": {},
   "source": [
    "Выбросов больше нет"
   ]
  },
  {
   "cell_type": "code",
   "execution_count": 122,
   "metadata": {},
   "outputs": [
    {
     "data": {
      "image/png": "[encoded data removed]",
      "text/plain": [
       "<Figure size 432x288 with 1 Axes>"
      ]
     },
     "metadata": {
      "needs_background": "light"
     },
     "output_type": "display_data"
    }
   ],
   "source": [
    "plt.hist(days_exposition['days'], bins=30, weights=days_exposition['counts'])\n",
    "plt.title('days_exposition', fontsize=15)\n",
    "plt.show()"
   ]
  },
  {
   "cell_type": "code",
   "execution_count": 123,
   "metadata": {},
   "outputs": [
    {
     "data": {
      "text/html": [
       "<div>\n",
       "<style scoped>\n",
       "    .dataframe tbody tr th:only-of-type {\n",
       "        vertical-align: middle;\n",
       "    }\n",
       "\n",
       "    .dataframe tbody tr th {\n",
       "        vertical-align: top;\n",
       "    }\n",
       "\n",
       "    .dataframe thead th {\n",
       "        text-align: right;\n",
       "    }\n",
       "</style>\n",
       "<table border=\"1\" class=\"dataframe\">\n",
       "  <thead>\n",
       "    <tr style=\"text-align: right;\">\n",
       "      <th></th>\n",
       "      <th>days</th>\n",
       "    </tr>\n",
       "  </thead>\n",
       "  <tbody>\n",
       "    <tr>\n",
       "      <th>0</th>\n",
       "      <td>1</td>\n",
       "    </tr>\n",
       "    <tr>\n",
       "      <th>1</th>\n",
       "      <td>2</td>\n",
       "    </tr>\n",
       "    <tr>\n",
       "      <th>2</th>\n",
       "      <td>2</td>\n",
       "    </tr>\n",
       "    <tr>\n",
       "      <th>3</th>\n",
       "      <td>2</td>\n",
       "    </tr>\n",
       "    <tr>\n",
       "      <th>4</th>\n",
       "      <td>3</td>\n",
       "    </tr>\n",
       "    <tr>\n",
       "      <th>...</th>\n",
       "      <td>...</td>\n",
       "    </tr>\n",
       "    <tr>\n",
       "      <th>18795</th>\n",
       "      <td>1135</td>\n",
       "    </tr>\n",
       "    <tr>\n",
       "      <th>18796</th>\n",
       "      <td>1136</td>\n",
       "    </tr>\n",
       "    <tr>\n",
       "      <th>18797</th>\n",
       "      <td>1137</td>\n",
       "    </tr>\n",
       "    <tr>\n",
       "      <th>18798</th>\n",
       "      <td>1138</td>\n",
       "    </tr>\n",
       "    <tr>\n",
       "      <th>18799</th>\n",
       "      <td>1139</td>\n",
       "    </tr>\n",
       "  </tbody>\n",
       "</table>\n",
       "<p>18800 rows × 1 columns</p>\n",
       "</div>"
      ],
      "text/plain": [
       "       days\n",
       "0         1\n",
       "1         2\n",
       "2         2\n",
       "3         2\n",
       "4         3\n",
       "...     ...\n",
       "18795  1135\n",
       "18796  1136\n",
       "18797  1137\n",
       "18798  1138\n",
       "18799  1139\n",
       "\n",
       "[18800 rows x 1 columns]"
      ]
     },
     "metadata": {},
     "output_type": "display_data"
    },
    {
     "data": {
      "image/png": "[encoded data removed]",
      "text/plain": [
       "<Figure size 432x288 with 1 Axes>"
      ]
     },
     "metadata": {
      "needs_background": "light"
     },
     "output_type": "display_data"
    }
   ],
   "source": [
    "newdata = np.repeat(days_exposition['days'], days_exposition['counts']).rename_axis(\n",
    "    'days').reset_index(name='delete')\n",
    "newdata = newdata.drop(columns='delete')\n",
    "display(newdata)\n",
    "plt.boxplot(newdata)\n",
    "plt.show()"
   ]
  },
  {
   "cell_type": "code",
   "execution_count": 124,
   "metadata": {},
   "outputs": [
    {
     "name": "stdout",
     "output_type": "stream",
     "text": [
      "Минимум значимой выборки = 1\n",
      "Максимум значимой выборки = 561\n"
     ]
    }
   ],
   "source": [
    "lower_quartile = np.percentile(newdata['days'], 25)\n",
    "upper_quartile = np.percentile(newdata['days'], 75)\n",
    "iqr = upper_quartile - lower_quartile\n",
    "upper_value = newdata[newdata['days'] <= (\n",
    "    upper_quartile + 1.5 * iqr)]['days'].max()\n",
    "lower_value = newdata[newdata['days'] >= (\n",
    "    lower_quartile - 1.5 * iqr)]['days'].min()\n",
    "print(\"Минимум значимой выборки =\", lower_value)\n",
    "print(\"Максимум значимой выборки =\", upper_value)"
   ]
  },
  {
   "cell_type": "markdown",
   "metadata": {},
   "source": [
    "##### Выводы"
   ]
  },
  {
   "cell_type": "markdown",
   "metadata": {},
   "source": [
    "Если опираться на значения боксплота, то можно предположить, что уж очень долго продаются квартиры, чьи объявления размещены дольше 565 дней. Слишком быстрых продаж, видимо, не бывает. С другой стороны, если объявления автоматически снимаются, возможно квартиры продали, тогда слишком долгими являются объявления, размещенные в течение 512 дней. (не очень-то большая разница)"
   ]
  },
  {
   "cell_type": "markdown",
   "metadata": {},
   "source": [
    "#### Задача: \"Какие факторы больше всего влияют на стоимость квартиры? Изучите, зависит ли цена от площади, числа комнат, удалённости от центра. Изучите зависимость цены от того, на каком этаже расположена квартира: первом, последнем или другом. Также изучите зависимость от даты размещения: дня недели, месяца и года.\""
   ]
  },
  {
   "cell_type": "code",
   "execution_count": 125,
   "metadata": {},
   "outputs": [
    {
     "data": {
      "text/plain": [
       "total_images           0.111924\n",
       "last_price             1.000000\n",
       "last_price_mln         1.000000\n",
       "total_area             0.702639\n",
       "rooms                  0.391923\n",
       "ceiling_height         0.111431\n",
       "floors_total          -0.007004\n",
       "living_area            0.624909\n",
       "floor                  0.027591\n",
       "is_apartment           0.030129\n",
       "studio                -0.027628\n",
       "open_plan             -0.009453\n",
       "kitchen_area           0.526312\n",
       "balcony                0.004422\n",
       "airports_nearest      -0.028766\n",
       "cityCenters_nearest   -0.228340\n",
       "parks_around3000       0.169129\n",
       "parks_nearest         -0.020742\n",
       "ponds_around3000       0.172536\n",
       "ponds_nearest         -0.103856\n",
       "days_exposition        0.061265\n",
       "sqm_price              0.729954\n",
       "day_of_week           -0.002858\n",
       "month                  0.000689\n",
       "year                  -0.046716\n",
       "living_share           0.015412\n",
       "kitchen_share         -0.089161\n",
       "Name: last_price_mln, dtype: float64"
      ]
     },
     "metadata": {},
     "output_type": "display_data"
    }
   ],
   "source": [
    "display(df.corr()['last_price_mln'])"
   ]
  },
  {
   "cell_type": "markdown",
   "metadata": {},
   "source": [
    "Как уже было сказано ранее, больше всего цена зависит от площади. На втором месте комнаты. На третьем - удаленность от центра. Еще есть небольшая зависимость от парков и прудов. "
   ]
  },
  {
   "cell_type": "code",
   "execution_count": 126,
   "metadata": {},
   "outputs": [
    {
     "data": {
      "image/png": "[encoded data removed]",
      "text/plain": [
       "<Figure size 432x288 with 1 Axes>"
      ]
     },
     "metadata": {
      "needs_background": "light"
     },
     "output_type": "display_data"
    }
   ],
   "source": [
    "plt.scatter(x=df['total_area'], y=df['last_price_mln'], alpha=0.05)\n",
    "plt.ylim(0, 30)\n",
    "plt.xlim(0, 200)\n",
    "plt.title('Распределение цен квартир в зависимости от площади')\n",
    "plt.show()"
   ]
  },
  {
   "cell_type": "markdown",
   "metadata": {},
   "source": [
    "На графике сверху хорошо заметна зависимость цены от площади."
   ]
  },
  {
   "cell_type": "code",
   "execution_count": 127,
   "metadata": {},
   "outputs": [
    {
     "name": "stdout",
     "output_type": "stream",
     "text": [
      "<class 'pandas.core.frame.DataFrame'>\n",
      "Int64Index: 23449 entries, 0 to 23496\n",
      "Data columns (total 30 columns):\n",
      " #   Column                Non-Null Count  Dtype         \n",
      "---  ------                --------------  -----         \n",
      " 0   total_images          23449 non-null  int64         \n",
      " 1   last_price            23449 non-null  float64       \n",
      " 2   last_price_mln        23449 non-null  float64       \n",
      " 3   total_area            23449 non-null  float64       \n",
      " 4   first_day_exposition  23449 non-null  datetime64[ns]\n",
      " 5   rooms                 23449 non-null  int64         \n",
      " 6   ceiling_height        14407 non-null  float64       \n",
      " 7   floors_total          23449 non-null  float64       \n",
      " 8   living_area           23449 non-null  float64       \n",
      " 9   floor                 23449 non-null  int64         \n",
      " 10  is_apartment          23449 non-null  bool          \n",
      " 11  studio                23449 non-null  bool          \n",
      " 12  open_plan             23449 non-null  bool          \n",
      " 13  kitchen_area          23449 non-null  float64       \n",
      " 14  balcony               23449 non-null  float64       \n",
      " 15  locality_name         23449 non-null  object        \n",
      " 16  airports_nearest      17961 non-null  float64       \n",
      " 17  cityCenters_nearest   17984 non-null  float64       \n",
      " 18  parks_around3000      17985 non-null  float64       \n",
      " 19  parks_nearest         7993 non-null   float64       \n",
      " 20  ponds_around3000      17985 non-null  float64       \n",
      " 21  ponds_nearest         8994 non-null   float64       \n",
      " 22  days_exposition       23449 non-null  float64       \n",
      " 23  sqm_price             23449 non-null  float64       \n",
      " 24  day_of_week           23449 non-null  int64         \n",
      " 25  month                 23449 non-null  int64         \n",
      " 26  year                  23449 non-null  int64         \n",
      " 27  category_of_floor     23449 non-null  object        \n",
      " 28  living_share          23449 non-null  float64       \n",
      " 29  kitchen_share         23449 non-null  float64       \n",
      "dtypes: bool(3), datetime64[ns](1), float64(18), int64(6), object(2)\n",
      "memory usage: 5.1+ MB\n"
     ]
    }
   ],
   "source": [
    "df.info()"
   ]
  },
  {
   "cell_type": "code",
   "execution_count": 128,
   "metadata": {},
   "outputs": [
    {
     "data": {
      "text/html": [
       "<div>\n",
       "<style scoped>\n",
       "    .dataframe tbody tr th:only-of-type {\n",
       "        vertical-align: middle;\n",
       "    }\n",
       "\n",
       "    .dataframe tbody tr th {\n",
       "        vertical-align: top;\n",
       "    }\n",
       "\n",
       "    .dataframe thead tr th {\n",
       "        text-align: left;\n",
       "    }\n",
       "\n",
       "    .dataframe thead tr:last-of-type th {\n",
       "        text-align: right;\n",
       "    }\n",
       "</style>\n",
       "<table border=\"1\" class=\"dataframe\">\n",
       "  <thead>\n",
       "    <tr>\n",
       "      <th></th>\n",
       "      <th>mean</th>\n",
       "      <th>median</th>\n",
       "    </tr>\n",
       "    <tr>\n",
       "      <th></th>\n",
       "      <th>last_price_mln</th>\n",
       "      <th>last_price_mln</th>\n",
       "    </tr>\n",
       "    <tr>\n",
       "      <th>category_of_floor</th>\n",
       "      <th></th>\n",
       "      <th></th>\n",
       "    </tr>\n",
       "  </thead>\n",
       "  <tbody>\n",
       "    <tr>\n",
       "      <th>Другой</th>\n",
       "      <td>6.683857</td>\n",
       "      <td>4.85</td>\n",
       "    </tr>\n",
       "    <tr>\n",
       "      <th>Первый</th>\n",
       "      <td>4.813186</td>\n",
       "      <td>3.90</td>\n",
       "    </tr>\n",
       "    <tr>\n",
       "      <th>Последний</th>\n",
       "      <td>7.138077</td>\n",
       "      <td>4.30</td>\n",
       "    </tr>\n",
       "  </tbody>\n",
       "</table>\n",
       "</div>"
      ],
      "text/plain": [
       "                            mean         median\n",
       "                  last_price_mln last_price_mln\n",
       "category_of_floor                              \n",
       "Другой                  6.683857           4.85\n",
       "Первый                  4.813186           3.90\n",
       "Последний               7.138077           4.30"
      ]
     },
     "execution_count": 128,
     "metadata": {},
     "output_type": "execute_result"
    }
   ],
   "source": [
    "df.pivot_table(values='last_price_mln',\n",
    "               index='category_of_floor', aggfunc=['mean', 'median'])"
   ]
  },
  {
   "cell_type": "markdown",
   "metadata": {},
   "source": [
    "Грубые подсчеты показывают, что на первом этаже квартиры самые дешевые. А на последнем самые дорогие."
   ]
  },
  {
   "cell_type": "code",
   "execution_count": 129,
   "metadata": {},
   "outputs": [
    {
     "data": {
      "text/html": [
       "<div>\n",
       "<style scoped>\n",
       "    .dataframe tbody tr th:only-of-type {\n",
       "        vertical-align: middle;\n",
       "    }\n",
       "\n",
       "    .dataframe tbody tr th {\n",
       "        vertical-align: top;\n",
       "    }\n",
       "\n",
       "    .dataframe thead tr th {\n",
       "        text-align: left;\n",
       "    }\n",
       "\n",
       "    .dataframe thead tr:last-of-type th {\n",
       "        text-align: right;\n",
       "    }\n",
       "</style>\n",
       "<table border=\"1\" class=\"dataframe\">\n",
       "  <thead>\n",
       "    <tr>\n",
       "      <th></th>\n",
       "      <th>median</th>\n",
       "      <th>mean</th>\n",
       "    </tr>\n",
       "    <tr>\n",
       "      <th></th>\n",
       "      <th>last_price_mln</th>\n",
       "      <th>last_price_mln</th>\n",
       "    </tr>\n",
       "    <tr>\n",
       "      <th>day_of_week</th>\n",
       "      <th></th>\n",
       "      <th></th>\n",
       "    </tr>\n",
       "  </thead>\n",
       "  <tbody>\n",
       "    <tr>\n",
       "      <th>0</th>\n",
       "      <td>4.650</td>\n",
       "      <td>6.527500</td>\n",
       "    </tr>\n",
       "    <tr>\n",
       "      <th>1</th>\n",
       "      <td>4.730</td>\n",
       "      <td>6.398550</td>\n",
       "    </tr>\n",
       "    <tr>\n",
       "      <th>2</th>\n",
       "      <td>4.700</td>\n",
       "      <td>6.643400</td>\n",
       "    </tr>\n",
       "    <tr>\n",
       "      <th>3</th>\n",
       "      <td>4.650</td>\n",
       "      <td>6.713386</td>\n",
       "    </tr>\n",
       "    <tr>\n",
       "      <th>4</th>\n",
       "      <td>4.550</td>\n",
       "      <td>6.363227</td>\n",
       "    </tr>\n",
       "    <tr>\n",
       "      <th>5</th>\n",
       "      <td>4.555</td>\n",
       "      <td>6.601491</td>\n",
       "    </tr>\n",
       "    <tr>\n",
       "      <th>6</th>\n",
       "      <td>4.550</td>\n",
       "      <td>6.265662</td>\n",
       "    </tr>\n",
       "  </tbody>\n",
       "</table>\n",
       "</div>"
      ],
      "text/plain": [
       "                    median           mean\n",
       "            last_price_mln last_price_mln\n",
       "day_of_week                              \n",
       "0                    4.650       6.527500\n",
       "1                    4.730       6.398550\n",
       "2                    4.700       6.643400\n",
       "3                    4.650       6.713386\n",
       "4                    4.550       6.363227\n",
       "5                    4.555       6.601491\n",
       "6                    4.550       6.265662"
      ]
     },
     "execution_count": 129,
     "metadata": {},
     "output_type": "execute_result"
    }
   ],
   "source": [
    "df.pivot_table(values='last_price_mln', index='day_of_week',\n",
    "               aggfunc=['median', 'mean'])"
   ]
  },
  {
   "cell_type": "markdown",
   "metadata": {},
   "source": [
    "Зависимости от дня недели, кажется, нет"
   ]
  },
  {
   "cell_type": "code",
   "execution_count": 130,
   "metadata": {},
   "outputs": [
    {
     "data": {
      "text/html": [
       "<div>\n",
       "<style scoped>\n",
       "    .dataframe tbody tr th:only-of-type {\n",
       "        vertical-align: middle;\n",
       "    }\n",
       "\n",
       "    .dataframe tbody tr th {\n",
       "        vertical-align: top;\n",
       "    }\n",
       "\n",
       "    .dataframe thead tr th {\n",
       "        text-align: left;\n",
       "    }\n",
       "\n",
       "    .dataframe thead tr:last-of-type th {\n",
       "        text-align: right;\n",
       "    }\n",
       "</style>\n",
       "<table border=\"1\" class=\"dataframe\">\n",
       "  <thead>\n",
       "    <tr>\n",
       "      <th></th>\n",
       "      <th>median</th>\n",
       "      <th>mean</th>\n",
       "    </tr>\n",
       "    <tr>\n",
       "      <th></th>\n",
       "      <th>last_price_mln</th>\n",
       "      <th>last_price_mln</th>\n",
       "    </tr>\n",
       "    <tr>\n",
       "      <th>month</th>\n",
       "      <th></th>\n",
       "      <th></th>\n",
       "    </tr>\n",
       "  </thead>\n",
       "  <tbody>\n",
       "    <tr>\n",
       "      <th>1</th>\n",
       "      <td>4.6000</td>\n",
       "      <td>6.667287</td>\n",
       "    </tr>\n",
       "    <tr>\n",
       "      <th>2</th>\n",
       "      <td>4.6500</td>\n",
       "      <td>6.470308</td>\n",
       "    </tr>\n",
       "    <tr>\n",
       "      <th>3</th>\n",
       "      <td>4.6500</td>\n",
       "      <td>6.372898</td>\n",
       "    </tr>\n",
       "    <tr>\n",
       "      <th>4</th>\n",
       "      <td>4.8000</td>\n",
       "      <td>6.751048</td>\n",
       "    </tr>\n",
       "    <tr>\n",
       "      <th>5</th>\n",
       "      <td>4.5000</td>\n",
       "      <td>6.608330</td>\n",
       "    </tr>\n",
       "    <tr>\n",
       "      <th>6</th>\n",
       "      <td>4.4000</td>\n",
       "      <td>6.329809</td>\n",
       "    </tr>\n",
       "    <tr>\n",
       "      <th>7</th>\n",
       "      <td>4.6500</td>\n",
       "      <td>6.647086</td>\n",
       "    </tr>\n",
       "    <tr>\n",
       "      <th>8</th>\n",
       "      <td>4.5800</td>\n",
       "      <td>6.354982</td>\n",
       "    </tr>\n",
       "    <tr>\n",
       "      <th>9</th>\n",
       "      <td>4.7000</td>\n",
       "      <td>6.463378</td>\n",
       "    </tr>\n",
       "    <tr>\n",
       "      <th>10</th>\n",
       "      <td>4.5725</td>\n",
       "      <td>6.249519</td>\n",
       "    </tr>\n",
       "    <tr>\n",
       "      <th>11</th>\n",
       "      <td>4.7000</td>\n",
       "      <td>6.447083</td>\n",
       "    </tr>\n",
       "    <tr>\n",
       "      <th>12</th>\n",
       "      <td>4.7000</td>\n",
       "      <td>7.029960</td>\n",
       "    </tr>\n",
       "  </tbody>\n",
       "</table>\n",
       "</div>"
      ],
      "text/plain": [
       "              median           mean\n",
       "      last_price_mln last_price_mln\n",
       "month                              \n",
       "1             4.6000       6.667287\n",
       "2             4.6500       6.470308\n",
       "3             4.6500       6.372898\n",
       "4             4.8000       6.751048\n",
       "5             4.5000       6.608330\n",
       "6             4.4000       6.329809\n",
       "7             4.6500       6.647086\n",
       "8             4.5800       6.354982\n",
       "9             4.7000       6.463378\n",
       "10            4.5725       6.249519\n",
       "11            4.7000       6.447083\n",
       "12            4.7000       7.029960"
      ]
     },
     "metadata": {},
     "output_type": "display_data"
    },
    {
     "data": {
      "image/png": "[encoded data removed]",
      "text/plain": [
       "<Figure size 432x288 with 2 Axes>"
      ]
     },
     "metadata": {
      "needs_background": "light"
     },
     "output_type": "display_data"
    }
   ],
   "source": [
    "month_corr = df.pivot_table(values='last_price_mln',\n",
    "                            index='month', aggfunc=['median', 'mean'])\n",
    "display(month_corr)\n",
    "fig, (ax1, ax2) = plt.subplots(2)\n",
    "ax1.scatter(x=month_corr.index, y=month_corr['median'])\n",
    "ax2.scatter(x=month_corr.index, y=month_corr['mean'])\n",
    "plt.show()"
   ]
  },
  {
   "cell_type": "markdown",
   "metadata": {},
   "source": [
    "Есть ощущение, что объявления выложенные в апреле, июле и сентябре имеют цену выше."
   ]
  },
  {
   "cell_type": "code",
   "execution_count": 131,
   "metadata": {},
   "outputs": [
    {
     "data": {
      "text/html": [
       "<div>\n",
       "<style scoped>\n",
       "    .dataframe tbody tr th:only-of-type {\n",
       "        vertical-align: middle;\n",
       "    }\n",
       "\n",
       "    .dataframe tbody tr th {\n",
       "        vertical-align: top;\n",
       "    }\n",
       "\n",
       "    .dataframe thead tr th {\n",
       "        text-align: left;\n",
       "    }\n",
       "\n",
       "    .dataframe thead tr:last-of-type th {\n",
       "        text-align: right;\n",
       "    }\n",
       "</style>\n",
       "<table border=\"1\" class=\"dataframe\">\n",
       "  <thead>\n",
       "    <tr>\n",
       "      <th></th>\n",
       "      <th>median</th>\n",
       "      <th>mean</th>\n",
       "    </tr>\n",
       "    <tr>\n",
       "      <th></th>\n",
       "      <th>last_price_mln</th>\n",
       "      <th>last_price_mln</th>\n",
       "    </tr>\n",
       "    <tr>\n",
       "      <th>year</th>\n",
       "      <th></th>\n",
       "      <th></th>\n",
       "    </tr>\n",
       "  </thead>\n",
       "  <tbody>\n",
       "    <tr>\n",
       "      <th>2014</th>\n",
       "      <td>7.8685</td>\n",
       "      <td>12.175169</td>\n",
       "    </tr>\n",
       "    <tr>\n",
       "      <th>2015</th>\n",
       "      <td>5.3000</td>\n",
       "      <td>8.594196</td>\n",
       "    </tr>\n",
       "    <tr>\n",
       "      <th>2016</th>\n",
       "      <td>4.5500</td>\n",
       "      <td>6.838344</td>\n",
       "    </tr>\n",
       "    <tr>\n",
       "      <th>2017</th>\n",
       "      <td>4.5000</td>\n",
       "      <td>6.496935</td>\n",
       "    </tr>\n",
       "    <tr>\n",
       "      <th>2018</th>\n",
       "      <td>4.5750</td>\n",
       "      <td>5.964612</td>\n",
       "    </tr>\n",
       "    <tr>\n",
       "      <th>2019</th>\n",
       "      <td>5.0500</td>\n",
       "      <td>6.790608</td>\n",
       "    </tr>\n",
       "  </tbody>\n",
       "</table>\n",
       "</div>"
      ],
      "text/plain": [
       "             median           mean\n",
       "     last_price_mln last_price_mln\n",
       "year                              \n",
       "2014         7.8685      12.175169\n",
       "2015         5.3000       8.594196\n",
       "2016         4.5500       6.838344\n",
       "2017         4.5000       6.496935\n",
       "2018         4.5750       5.964612\n",
       "2019         5.0500       6.790608"
      ]
     },
     "execution_count": 131,
     "metadata": {},
     "output_type": "execute_result"
    }
   ],
   "source": [
    "df.pivot_table(values='last_price_mln', index='year',\n",
    "               aggfunc=['median', 'mean'])"
   ]
  },
  {
   "cell_type": "markdown",
   "metadata": {
    "tags": []
   },
   "source": [
    "В 2014 г. средний ценник был намного выше. Видимо, это связано как-то с ситуацией в экономике."
   ]
  },
  {
   "cell_type": "markdown",
   "metadata": {},
   "source": [
    "\"Выберите 10 населённых пунктов с наибольшим числом объявлений. Посчитайте среднюю цену квадратного метра в этих населённых пунктах. Выделите среди них населённые пункты с самой высокой и низкой стоимостью жилья. Эти данные можно найти по имени в столбце 'locality_name'.\""
   ]
  },
  {
   "cell_type": "code",
   "execution_count": 132,
   "metadata": {},
   "outputs": [
    {
     "data": {
      "text/html": [
       "<div>\n",
       "<style scoped>\n",
       "    .dataframe tbody tr th:only-of-type {\n",
       "        vertical-align: middle;\n",
       "    }\n",
       "\n",
       "    .dataframe tbody tr th {\n",
       "        vertical-align: top;\n",
       "    }\n",
       "\n",
       "    .dataframe thead th {\n",
       "        text-align: right;\n",
       "    }\n",
       "</style>\n",
       "<table border=\"1\" class=\"dataframe\">\n",
       "  <thead>\n",
       "    <tr style=\"text-align: right;\">\n",
       "      <th></th>\n",
       "      <th>locality_name</th>\n",
       "      <th>count</th>\n",
       "      <th>mean</th>\n",
       "      <th>median</th>\n",
       "    </tr>\n",
       "  </thead>\n",
       "  <tbody>\n",
       "    <tr>\n",
       "      <th>0</th>\n",
       "      <td>санкт-петербург</td>\n",
       "      <td>15578</td>\n",
       "      <td>114682.0</td>\n",
       "      <td>104703.0</td>\n",
       "    </tr>\n",
       "    <tr>\n",
       "      <th>1</th>\n",
       "      <td>пушкин</td>\n",
       "      <td>369</td>\n",
       "      <td>103126.0</td>\n",
       "      <td>100000.0</td>\n",
       "    </tr>\n",
       "    <tr>\n",
       "      <th>2</th>\n",
       "      <td>деревня кудрово</td>\n",
       "      <td>298</td>\n",
       "      <td>92516.0</td>\n",
       "      <td>91930.0</td>\n",
       "    </tr>\n",
       "    <tr>\n",
       "      <th>3</th>\n",
       "      <td>посeлок парголово</td>\n",
       "      <td>326</td>\n",
       "      <td>90135.0</td>\n",
       "      <td>91580.0</td>\n",
       "    </tr>\n",
       "    <tr>\n",
       "      <th>4</th>\n",
       "      <td>посeлок мурино</td>\n",
       "      <td>516</td>\n",
       "      <td>85607.0</td>\n",
       "      <td>85878.0</td>\n",
       "    </tr>\n",
       "    <tr>\n",
       "      <th>5</th>\n",
       "      <td>посeлок шушары</td>\n",
       "      <td>437</td>\n",
       "      <td>78525.0</td>\n",
       "      <td>76667.0</td>\n",
       "    </tr>\n",
       "    <tr>\n",
       "      <th>6</th>\n",
       "      <td>колпино</td>\n",
       "      <td>337</td>\n",
       "      <td>75481.0</td>\n",
       "      <td>74725.0</td>\n",
       "    </tr>\n",
       "    <tr>\n",
       "      <th>7</th>\n",
       "      <td>всеволожск</td>\n",
       "      <td>393</td>\n",
       "      <td>68635.0</td>\n",
       "      <td>65789.0</td>\n",
       "    </tr>\n",
       "    <tr>\n",
       "      <th>8</th>\n",
       "      <td>гатчина</td>\n",
       "      <td>303</td>\n",
       "      <td>68625.0</td>\n",
       "      <td>67647.0</td>\n",
       "    </tr>\n",
       "    <tr>\n",
       "      <th>9</th>\n",
       "      <td>выборг</td>\n",
       "      <td>235</td>\n",
       "      <td>58238.0</td>\n",
       "      <td>58308.0</td>\n",
       "    </tr>\n",
       "  </tbody>\n",
       "</table>\n",
       "</div>"
      ],
      "text/plain": [
       "       locality_name  count      mean    median\n",
       "0    санкт-петербург  15578  114682.0  104703.0\n",
       "1             пушкин    369  103126.0  100000.0\n",
       "2    деревня кудрово    298   92516.0   91930.0\n",
       "3  посeлок парголово    326   90135.0   91580.0\n",
       "4     посeлок мурино    516   85607.0   85878.0\n",
       "5     посeлок шушары    437   78525.0   76667.0\n",
       "6            колпино    337   75481.0   74725.0\n",
       "7         всеволожск    393   68635.0   65789.0\n",
       "8            гатчина    303   68625.0   67647.0\n",
       "9             выборг    235   58238.0   58308.0"
      ]
     },
     "metadata": {},
     "output_type": "display_data"
    },
    {
     "data": {
      "image/png": "[encoded data removed]",
      "text/plain": [
       "<Figure size 1600x480 with 1 Axes>"
      ]
     },
     "metadata": {
      "needs_background": "light"
     },
     "output_type": "display_data"
    }
   ],
   "source": [
    "topList_of_localities = df.pivot_table(index='locality_name', values='sqm_price', aggfunc=[\n",
    "                                       'count', 'mean', 'median']).rename_axis('locality_name').reset_index()\n",
    "topList_of_localities.columns = topList_of_localities.columns.droplevel(1)\n",
    "topList_of_localities = topList_of_localities.sort_values(by='count', ascending=False).head(\n",
    "    10).reset_index(drop=True).sort_values(by='mean', ascending=False).reset_index(drop=True)\n",
    "topList_of_localities['mean'] = topList_of_localities['mean'].round(0)\n",
    "topList_of_localities['median'] = topList_of_localities['median'].round(0)\n",
    "display(topList_of_localities)\n",
    "plt.figure(figsize=(20, 6), dpi=80)\n",
    "plt.bar(x=topList_of_localities['locality_name'],\n",
    "        height=topList_of_localities['mean'], alpha=0.5)\n",
    "plt.bar(x=topList_of_localities['locality_name'],\n",
    "        height=topList_of_localities['median'], alpha=0.5)\n",
    "plt.show()"
   ]
  },
  {
   "cell_type": "markdown",
   "metadata": {},
   "source": [
    "Самая высокая стоимость жилья в Санкт-Петербурге. Не смоневались. А вот самая маленькая в Выборге"
   ]
  },
  {
   "cell_type": "markdown",
   "metadata": {},
   "source": [
    "\"Изучите предложения квартир: для каждой квартиры есть информация о расстоянии до центра. Выделите квартиры в Санкт-Петербурге ('locality_name'). Ваша задача — выяснить, какая область входит в центр. Создайте столбец с расстоянием до центра в километрах: округлите до целых значений. После этого посчитайте среднюю цену для каждого километра. Постройте график: он должен показывать, как цена зависит от удалённости от центра. Определите границу, где график сильно меняется — это и будет центральная зона.\""
   ]
  },
  {
   "cell_type": "code",
   "execution_count": 133,
   "metadata": {},
   "outputs": [
    {
     "data": {
      "text/html": [
       "<div>\n",
       "<style scoped>\n",
       "    .dataframe tbody tr th:only-of-type {\n",
       "        vertical-align: middle;\n",
       "    }\n",
       "\n",
       "    .dataframe tbody tr th {\n",
       "        vertical-align: top;\n",
       "    }\n",
       "\n",
       "    .dataframe thead th {\n",
       "        text-align: right;\n",
       "    }\n",
       "</style>\n",
       "<table border=\"1\" class=\"dataframe\">\n",
       "  <thead>\n",
       "    <tr style=\"text-align: right;\">\n",
       "      <th></th>\n",
       "      <th>total_images</th>\n",
       "      <th>last_price</th>\n",
       "      <th>last_price_mln</th>\n",
       "      <th>total_area</th>\n",
       "      <th>first_day_exposition</th>\n",
       "      <th>rooms</th>\n",
       "      <th>ceiling_height</th>\n",
       "      <th>floors_total</th>\n",
       "      <th>living_area</th>\n",
       "      <th>floor</th>\n",
       "      <th>is_apartment</th>\n",
       "      <th>studio</th>\n",
       "      <th>open_plan</th>\n",
       "      <th>kitchen_area</th>\n",
       "      <th>balcony</th>\n",
       "      <th>locality_name</th>\n",
       "      <th>airports_nearest</th>\n",
       "      <th>cityCenters_nearest</th>\n",
       "      <th>parks_around3000</th>\n",
       "      <th>parks_nearest</th>\n",
       "      <th>ponds_around3000</th>\n",
       "      <th>ponds_nearest</th>\n",
       "      <th>days_exposition</th>\n",
       "      <th>sqm_price</th>\n",
       "      <th>day_of_week</th>\n",
       "      <th>month</th>\n",
       "      <th>year</th>\n",
       "      <th>category_of_floor</th>\n",
       "      <th>living_share</th>\n",
       "      <th>kitchen_share</th>\n",
       "    </tr>\n",
       "  </thead>\n",
       "  <tbody>\n",
       "    <tr>\n",
       "      <th>0</th>\n",
       "      <td>20</td>\n",
       "      <td>13000000.0</td>\n",
       "      <td>13.000</td>\n",
       "      <td>108.0</td>\n",
       "      <td>2019-03-07</td>\n",
       "      <td>3</td>\n",
       "      <td>2.70</td>\n",
       "      <td>16.0</td>\n",
       "      <td>51.000000</td>\n",
       "      <td>8</td>\n",
       "      <td>False</td>\n",
       "      <td>False</td>\n",
       "      <td>False</td>\n",
       "      <td>25.000000</td>\n",
       "      <td>0.0</td>\n",
       "      <td>санкт-петербург</td>\n",
       "      <td>18863.0</td>\n",
       "      <td>16028.0</td>\n",
       "      <td>1.0</td>\n",
       "      <td>482.0</td>\n",
       "      <td>2.0</td>\n",
       "      <td>755.0</td>\n",
       "      <td>0.0</td>\n",
       "      <td>120370.370370</td>\n",
       "      <td>3</td>\n",
       "      <td>3</td>\n",
       "      <td>2019</td>\n",
       "      <td>Другой</td>\n",
       "      <td>0.472222</td>\n",
       "      <td>0.231481</td>\n",
       "    </tr>\n",
       "    <tr>\n",
       "      <th>1</th>\n",
       "      <td>10</td>\n",
       "      <td>5196000.0</td>\n",
       "      <td>5.196</td>\n",
       "      <td>56.0</td>\n",
       "      <td>2015-08-20</td>\n",
       "      <td>2</td>\n",
       "      <td>NaN</td>\n",
       "      <td>5.0</td>\n",
       "      <td>34.300000</td>\n",
       "      <td>4</td>\n",
       "      <td>False</td>\n",
       "      <td>False</td>\n",
       "      <td>False</td>\n",
       "      <td>8.300000</td>\n",
       "      <td>0.0</td>\n",
       "      <td>санкт-петербург</td>\n",
       "      <td>21741.0</td>\n",
       "      <td>13933.0</td>\n",
       "      <td>1.0</td>\n",
       "      <td>90.0</td>\n",
       "      <td>2.0</td>\n",
       "      <td>574.0</td>\n",
       "      <td>558.0</td>\n",
       "      <td>92785.714286</td>\n",
       "      <td>3</td>\n",
       "      <td>8</td>\n",
       "      <td>2015</td>\n",
       "      <td>Другой</td>\n",
       "      <td>0.612500</td>\n",
       "      <td>0.148214</td>\n",
       "    </tr>\n",
       "    <tr>\n",
       "      <th>2</th>\n",
       "      <td>0</td>\n",
       "      <td>64900000.0</td>\n",
       "      <td>64.900</td>\n",
       "      <td>159.0</td>\n",
       "      <td>2015-07-24</td>\n",
       "      <td>3</td>\n",
       "      <td>NaN</td>\n",
       "      <td>14.0</td>\n",
       "      <td>100.426617</td>\n",
       "      <td>9</td>\n",
       "      <td>False</td>\n",
       "      <td>False</td>\n",
       "      <td>False</td>\n",
       "      <td>21.074021</td>\n",
       "      <td>0.0</td>\n",
       "      <td>санкт-петербург</td>\n",
       "      <td>28098.0</td>\n",
       "      <td>6800.0</td>\n",
       "      <td>2.0</td>\n",
       "      <td>84.0</td>\n",
       "      <td>3.0</td>\n",
       "      <td>234.0</td>\n",
       "      <td>424.0</td>\n",
       "      <td>408176.100629</td>\n",
       "      <td>4</td>\n",
       "      <td>7</td>\n",
       "      <td>2015</td>\n",
       "      <td>Другой</td>\n",
       "      <td>0.631614</td>\n",
       "      <td>0.132541</td>\n",
       "    </tr>\n",
       "    <tr>\n",
       "      <th>3</th>\n",
       "      <td>2</td>\n",
       "      <td>10000000.0</td>\n",
       "      <td>10.000</td>\n",
       "      <td>100.0</td>\n",
       "      <td>2018-06-19</td>\n",
       "      <td>2</td>\n",
       "      <td>3.03</td>\n",
       "      <td>14.0</td>\n",
       "      <td>32.000000</td>\n",
       "      <td>13</td>\n",
       "      <td>False</td>\n",
       "      <td>False</td>\n",
       "      <td>False</td>\n",
       "      <td>41.000000</td>\n",
       "      <td>0.0</td>\n",
       "      <td>санкт-петербург</td>\n",
       "      <td>31856.0</td>\n",
       "      <td>8098.0</td>\n",
       "      <td>2.0</td>\n",
       "      <td>112.0</td>\n",
       "      <td>1.0</td>\n",
       "      <td>48.0</td>\n",
       "      <td>121.0</td>\n",
       "      <td>100000.000000</td>\n",
       "      <td>1</td>\n",
       "      <td>6</td>\n",
       "      <td>2018</td>\n",
       "      <td>Другой</td>\n",
       "      <td>0.320000</td>\n",
       "      <td>0.410000</td>\n",
       "    </tr>\n",
       "    <tr>\n",
       "      <th>4</th>\n",
       "      <td>5</td>\n",
       "      <td>7915000.0</td>\n",
       "      <td>7.915</td>\n",
       "      <td>71.6</td>\n",
       "      <td>2019-04-18</td>\n",
       "      <td>2</td>\n",
       "      <td>NaN</td>\n",
       "      <td>24.0</td>\n",
       "      <td>41.879245</td>\n",
       "      <td>22</td>\n",
       "      <td>False</td>\n",
       "      <td>False</td>\n",
       "      <td>False</td>\n",
       "      <td>18.900000</td>\n",
       "      <td>2.0</td>\n",
       "      <td>санкт-петербург</td>\n",
       "      <td>23982.0</td>\n",
       "      <td>11634.0</td>\n",
       "      <td>0.0</td>\n",
       "      <td>NaN</td>\n",
       "      <td>0.0</td>\n",
       "      <td>NaN</td>\n",
       "      <td>0.0</td>\n",
       "      <td>110544.692737</td>\n",
       "      <td>3</td>\n",
       "      <td>4</td>\n",
       "      <td>2019</td>\n",
       "      <td>Другой</td>\n",
       "      <td>0.584906</td>\n",
       "      <td>0.263966</td>\n",
       "    </tr>\n",
       "  </tbody>\n",
       "</table>\n",
       "</div>"
      ],
      "text/plain": [
       "   total_images  last_price  last_price_mln  total_area first_day_exposition  \\\n",
       "0            20  13000000.0          13.000       108.0           2019-03-07   \n",
       "1            10   5196000.0           5.196        56.0           2015-08-20   \n",
       "2             0  64900000.0          64.900       159.0           2015-07-24   \n",
       "3             2  10000000.0          10.000       100.0           2018-06-19   \n",
       "4             5   7915000.0           7.915        71.6           2019-04-18   \n",
       "\n",
       "   rooms  ceiling_height  floors_total  living_area  floor  is_apartment  \\\n",
       "0      3            2.70          16.0    51.000000      8         False   \n",
       "1      2             NaN           5.0    34.300000      4         False   \n",
       "2      3             NaN          14.0   100.426617      9         False   \n",
       "3      2            3.03          14.0    32.000000     13         False   \n",
       "4      2             NaN          24.0    41.879245     22         False   \n",
       "\n",
       "   studio  open_plan  kitchen_area  balcony    locality_name  \\\n",
       "0   False      False     25.000000      0.0  санкт-петербург   \n",
       "1   False      False      8.300000      0.0  санкт-петербург   \n",
       "2   False      False     21.074021      0.0  санкт-петербург   \n",
       "3   False      False     41.000000      0.0  санкт-петербург   \n",
       "4   False      False     18.900000      2.0  санкт-петербург   \n",
       "\n",
       "   airports_nearest  cityCenters_nearest  parks_around3000  parks_nearest  \\\n",
       "0           18863.0              16028.0               1.0          482.0   \n",
       "1           21741.0              13933.0               1.0           90.0   \n",
       "2           28098.0               6800.0               2.0           84.0   \n",
       "3           31856.0               8098.0               2.0          112.0   \n",
       "4           23982.0              11634.0               0.0            NaN   \n",
       "\n",
       "   ponds_around3000  ponds_nearest  days_exposition      sqm_price  \\\n",
       "0               2.0          755.0              0.0  120370.370370   \n",
       "1               2.0          574.0            558.0   92785.714286   \n",
       "2               3.0          234.0            424.0  408176.100629   \n",
       "3               1.0           48.0            121.0  100000.000000   \n",
       "4               0.0            NaN              0.0  110544.692737   \n",
       "\n",
       "   day_of_week  month  year category_of_floor  living_share  kitchen_share  \n",
       "0            3      3  2019            Другой      0.472222       0.231481  \n",
       "1            3      8  2015            Другой      0.612500       0.148214  \n",
       "2            4      7  2015            Другой      0.631614       0.132541  \n",
       "3            1      6  2018            Другой      0.320000       0.410000  \n",
       "4            3      4  2019            Другой      0.584906       0.263966  "
      ]
     },
     "metadata": {},
     "output_type": "display_data"
    }
   ],
   "source": [
    "spb_df = df.query('locality_name == \"санкт-петербург\"').reset_index(drop=True)\n",
    "display(spb_df.head(5))"
   ]
  },
  {
   "cell_type": "code",
   "execution_count": 134,
   "metadata": {},
   "outputs": [
    {
     "data": {
      "text/html": [
       "<div>\n",
       "<style scoped>\n",
       "    .dataframe tbody tr th:only-of-type {\n",
       "        vertical-align: middle;\n",
       "    }\n",
       "\n",
       "    .dataframe tbody tr th {\n",
       "        vertical-align: top;\n",
       "    }\n",
       "\n",
       "    .dataframe thead th {\n",
       "        text-align: right;\n",
       "    }\n",
       "</style>\n",
       "<table border=\"1\" class=\"dataframe\">\n",
       "  <thead>\n",
       "    <tr style=\"text-align: right;\">\n",
       "      <th></th>\n",
       "      <th>cityCenters_nearest_km</th>\n",
       "      <th>last_price_mln</th>\n",
       "    </tr>\n",
       "  </thead>\n",
       "  <tbody>\n",
       "    <tr>\n",
       "      <th>0</th>\n",
       "      <td>0.0</td>\n",
       "      <td>31.449116</td>\n",
       "    </tr>\n",
       "    <tr>\n",
       "      <th>1</th>\n",
       "      <td>1.0</td>\n",
       "      <td>21.397318</td>\n",
       "    </tr>\n",
       "    <tr>\n",
       "      <th>2</th>\n",
       "      <td>2.0</td>\n",
       "      <td>17.910030</td>\n",
       "    </tr>\n",
       "    <tr>\n",
       "      <th>3</th>\n",
       "      <td>3.0</td>\n",
       "      <td>11.137395</td>\n",
       "    </tr>\n",
       "    <tr>\n",
       "      <th>4</th>\n",
       "      <td>4.0</td>\n",
       "      <td>12.267578</td>\n",
       "    </tr>\n",
       "    <tr>\n",
       "      <th>5</th>\n",
       "      <td>5.0</td>\n",
       "      <td>14.498225</td>\n",
       "    </tr>\n",
       "    <tr>\n",
       "      <th>6</th>\n",
       "      <td>6.0</td>\n",
       "      <td>15.360199</td>\n",
       "    </tr>\n",
       "    <tr>\n",
       "      <th>7</th>\n",
       "      <td>7.0</td>\n",
       "      <td>14.800512</td>\n",
       "    </tr>\n",
       "    <tr>\n",
       "      <th>8</th>\n",
       "      <td>8.0</td>\n",
       "      <td>9.938532</td>\n",
       "    </tr>\n",
       "    <tr>\n",
       "      <th>9</th>\n",
       "      <td>9.0</td>\n",
       "      <td>6.976919</td>\n",
       "    </tr>\n",
       "  </tbody>\n",
       "</table>\n",
       "</div>"
      ],
      "text/plain": [
       "   cityCenters_nearest_km  last_price_mln\n",
       "0                     0.0       31.449116\n",
       "1                     1.0       21.397318\n",
       "2                     2.0       17.910030\n",
       "3                     3.0       11.137395\n",
       "4                     4.0       12.267578\n",
       "5                     5.0       14.498225\n",
       "6                     6.0       15.360199\n",
       "7                     7.0       14.800512\n",
       "8                     8.0        9.938532\n",
       "9                     9.0        6.976919"
      ]
     },
     "metadata": {},
     "output_type": "display_data"
    }
   ],
   "source": [
    "spb_df['cityCenters_nearest_km'] = np.round(\n",
    "    spb_df['cityCenters_nearest'] / 1000, 0)\n",
    "spb_city_distant = spb_df.pivot_table(\n",
    "    values='last_price_mln', index='cityCenters_nearest_km', aggfunc='mean').reset_index()\n",
    "display(spb_city_distant.head(10))"
   ]
  },
  {
   "cell_type": "code",
   "execution_count": 135,
   "metadata": {},
   "outputs": [
    {
     "data": {
      "image/png": "[encoded data removed]",
      "text/plain": [
       "<Figure size 432x288 with 1 Axes>"
      ]
     },
     "metadata": {
      "needs_background": "light"
     },
     "output_type": "display_data"
    }
   ],
   "source": [
    "plt.scatter(x=spb_city_distant['cityCenters_nearest_km'],\n",
    "            y=spb_city_distant['last_price_mln'])\n",
    "plt.show()"
   ]
  },
  {
   "cell_type": "markdown",
   "metadata": {},
   "source": [
    "Можно заметить на 8-9 километре, будем считать это центром."
   ]
  },
  {
   "cell_type": "markdown",
   "metadata": {},
   "source": [
    "\"Выделите сегмент квартир в центре. Проанализируйте эту территорию и изучите следующие параметры: площадь, цена, число комнат, высота потолков. Также выделите факторы, которые влияют на стоимость квартиры (число комнат, этаж, удалённость от центра, дата размещения объявления). Сделайте выводы. Отличаются ли они от общих выводов по всему городу?\""
   ]
  },
  {
   "cell_type": "code",
   "execution_count": 136,
   "metadata": {},
   "outputs": [
    {
     "data": {
      "text/html": [
       "<div>\n",
       "<style scoped>\n",
       "    .dataframe tbody tr th:only-of-type {\n",
       "        vertical-align: middle;\n",
       "    }\n",
       "\n",
       "    .dataframe tbody tr th {\n",
       "        vertical-align: top;\n",
       "    }\n",
       "\n",
       "    .dataframe thead th {\n",
       "        text-align: right;\n",
       "    }\n",
       "</style>\n",
       "<table border=\"1\" class=\"dataframe\">\n",
       "  <thead>\n",
       "    <tr style=\"text-align: right;\">\n",
       "      <th></th>\n",
       "      <th>atribute</th>\n",
       "      <th>cityCenter_value</th>\n",
       "      <th>general_value</th>\n",
       "    </tr>\n",
       "  </thead>\n",
       "  <tbody>\n",
       "    <tr>\n",
       "      <th>0</th>\n",
       "      <td>total_images</td>\n",
       "      <td>0.136910</td>\n",
       "      <td>0.104086</td>\n",
       "    </tr>\n",
       "    <tr>\n",
       "      <th>1</th>\n",
       "      <td>last_price</td>\n",
       "      <td>1.000000</td>\n",
       "      <td>1.000000</td>\n",
       "    </tr>\n",
       "    <tr>\n",
       "      <th>2</th>\n",
       "      <td>last_price_mln</td>\n",
       "      <td>1.000000</td>\n",
       "      <td>1.000000</td>\n",
       "    </tr>\n",
       "    <tr>\n",
       "      <th>3</th>\n",
       "      <td>total_area</td>\n",
       "      <td>0.690830</td>\n",
       "      <td>0.708317</td>\n",
       "    </tr>\n",
       "    <tr>\n",
       "      <th>4</th>\n",
       "      <td>rooms</td>\n",
       "      <td>0.365169</td>\n",
       "      <td>0.402186</td>\n",
       "    </tr>\n",
       "    <tr>\n",
       "      <th>5</th>\n",
       "      <td>ceiling_height</td>\n",
       "      <td>0.081288</td>\n",
       "      <td>0.134414</td>\n",
       "    </tr>\n",
       "    <tr>\n",
       "      <th>6</th>\n",
       "      <td>floors_total</td>\n",
       "      <td>0.026740</td>\n",
       "      <td>-0.068153</td>\n",
       "    </tr>\n",
       "    <tr>\n",
       "      <th>7</th>\n",
       "      <td>living_area</td>\n",
       "      <td>0.600413</td>\n",
       "      <td>0.631753</td>\n",
       "    </tr>\n",
       "    <tr>\n",
       "      <th>8</th>\n",
       "      <td>floor</td>\n",
       "      <td>0.111723</td>\n",
       "      <td>-0.003471</td>\n",
       "    </tr>\n",
       "    <tr>\n",
       "      <th>9</th>\n",
       "      <td>is_apartment</td>\n",
       "      <td>0.043866</td>\n",
       "      <td>0.027940</td>\n",
       "    </tr>\n",
       "    <tr>\n",
       "      <th>10</th>\n",
       "      <td>studio</td>\n",
       "      <td>-0.027097</td>\n",
       "      <td>-0.027619</td>\n",
       "    </tr>\n",
       "    <tr>\n",
       "      <th>11</th>\n",
       "      <td>open_plan</td>\n",
       "      <td>0.010723</td>\n",
       "      <td>-0.003076</td>\n",
       "    </tr>\n",
       "    <tr>\n",
       "      <th>12</th>\n",
       "      <td>kitchen_area</td>\n",
       "      <td>0.510185</td>\n",
       "      <td>0.530741</td>\n",
       "    </tr>\n",
       "    <tr>\n",
       "      <th>13</th>\n",
       "      <td>balcony</td>\n",
       "      <td>0.044163</td>\n",
       "      <td>-0.001114</td>\n",
       "    </tr>\n",
       "    <tr>\n",
       "      <th>14</th>\n",
       "      <td>airports_nearest</td>\n",
       "      <td>0.063308</td>\n",
       "      <td>-0.014847</td>\n",
       "    </tr>\n",
       "    <tr>\n",
       "      <th>15</th>\n",
       "      <td>cityCenters_nearest</td>\n",
       "      <td>-0.086320</td>\n",
       "      <td>-0.286807</td>\n",
       "    </tr>\n",
       "    <tr>\n",
       "      <th>16</th>\n",
       "      <td>parks_around3000</td>\n",
       "      <td>0.131189</td>\n",
       "      <td>0.175325</td>\n",
       "    </tr>\n",
       "    <tr>\n",
       "      <th>17</th>\n",
       "      <td>parks_nearest</td>\n",
       "      <td>-0.055236</td>\n",
       "      <td>-0.028313</td>\n",
       "    </tr>\n",
       "    <tr>\n",
       "      <th>18</th>\n",
       "      <td>ponds_around3000</td>\n",
       "      <td>0.113163</td>\n",
       "      <td>0.186061</td>\n",
       "    </tr>\n",
       "    <tr>\n",
       "      <th>19</th>\n",
       "      <td>ponds_nearest</td>\n",
       "      <td>-0.106416</td>\n",
       "      <td>-0.112033</td>\n",
       "    </tr>\n",
       "    <tr>\n",
       "      <th>20</th>\n",
       "      <td>days_exposition</td>\n",
       "      <td>0.048805</td>\n",
       "      <td>0.069752</td>\n",
       "    </tr>\n",
       "    <tr>\n",
       "      <th>21</th>\n",
       "      <td>sqm_price</td>\n",
       "      <td>0.757740</td>\n",
       "      <td>0.748026</td>\n",
       "    </tr>\n",
       "    <tr>\n",
       "      <th>22</th>\n",
       "      <td>day_of_week</td>\n",
       "      <td>0.010796</td>\n",
       "      <td>0.001312</td>\n",
       "    </tr>\n",
       "    <tr>\n",
       "      <th>23</th>\n",
       "      <td>month</td>\n",
       "      <td>-0.011802</td>\n",
       "      <td>-0.003069</td>\n",
       "    </tr>\n",
       "    <tr>\n",
       "      <th>24</th>\n",
       "      <td>year</td>\n",
       "      <td>-0.051403</td>\n",
       "      <td>-0.048711</td>\n",
       "    </tr>\n",
       "    <tr>\n",
       "      <th>25</th>\n",
       "      <td>living_share</td>\n",
       "      <td>-0.008606</td>\n",
       "      <td>0.017461</td>\n",
       "    </tr>\n",
       "    <tr>\n",
       "      <th>26</th>\n",
       "      <td>kitchen_share</td>\n",
       "      <td>-0.095263</td>\n",
       "      <td>-0.103533</td>\n",
       "    </tr>\n",
       "    <tr>\n",
       "      <th>27</th>\n",
       "      <td>cityCenters_nearest_km</td>\n",
       "      <td>-0.084372</td>\n",
       "      <td>-0.286786</td>\n",
       "    </tr>\n",
       "  </tbody>\n",
       "</table>\n",
       "</div>"
      ],
      "text/plain": [
       "                  atribute  cityCenter_value  general_value\n",
       "0             total_images          0.136910       0.104086\n",
       "1               last_price          1.000000       1.000000\n",
       "2           last_price_mln          1.000000       1.000000\n",
       "3               total_area          0.690830       0.708317\n",
       "4                    rooms          0.365169       0.402186\n",
       "5           ceiling_height          0.081288       0.134414\n",
       "6             floors_total          0.026740      -0.068153\n",
       "7              living_area          0.600413       0.631753\n",
       "8                    floor          0.111723      -0.003471\n",
       "9             is_apartment          0.043866       0.027940\n",
       "10                  studio         -0.027097      -0.027619\n",
       "11               open_plan          0.010723      -0.003076\n",
       "12            kitchen_area          0.510185       0.530741\n",
       "13                 balcony          0.044163      -0.001114\n",
       "14        airports_nearest          0.063308      -0.014847\n",
       "15     cityCenters_nearest         -0.086320      -0.286807\n",
       "16        parks_around3000          0.131189       0.175325\n",
       "17           parks_nearest         -0.055236      -0.028313\n",
       "18        ponds_around3000          0.113163       0.186061\n",
       "19           ponds_nearest         -0.106416      -0.112033\n",
       "20         days_exposition          0.048805       0.069752\n",
       "21               sqm_price          0.757740       0.748026\n",
       "22             day_of_week          0.010796       0.001312\n",
       "23                   month         -0.011802      -0.003069\n",
       "24                    year         -0.051403      -0.048711\n",
       "25            living_share         -0.008606       0.017461\n",
       "26           kitchen_share         -0.095263      -0.103533\n",
       "27  cityCenters_nearest_km         -0.084372      -0.286786"
      ]
     },
     "metadata": {},
     "output_type": "display_data"
    }
   ],
   "source": [
    "spb_cityCenter = spb_df.query(\n",
    "    'cityCenters_nearest_km <= 8').reset_index(drop=True)\n",
    "corr_table_spb_cityCenter = spb_cityCenter.corr()['last_price_mln'].rename_axis(\n",
    "    'atribute').reset_index(name='cityCenter_value')\n",
    "corr_table_spb_general = spb_df.corr()['last_price_mln'].rename_axis(\n",
    "    'atribute').reset_index(name='general_value')\n",
    "corr_table_comp = corr_table_spb_cityCenter.merge(corr_table_spb_general)\n",
    "display(corr_table_comp)"
   ]
  },
  {
   "cell_type": "markdown",
   "metadata": {},
   "source": [
    "Площадь и количество комнат в центре города имеют чуть меньшую значимость, чем в целом для города. А вот количество фото квартир в центре имеют большую значимость. Больше фото = есть что, показать. Возможно, в центре города цена может зависить от интерьера. Кроме того, центре города большое значение отдается этажу: выше этаж - дороже квартира. Удаленность от центра в центральной части города имеет меньшую значимость. Логично, когда ты и так в центре."
   ]
  },
  {
   "cell_type": "markdown",
   "metadata": {},
   "source": [
    "### Общий вывод"
   ]
  },
  {
   "cell_type": "markdown",
   "metadata": {},
   "source": [
    "Анализ показывает, что наиважнейшим фактором определения цены является площадь. При этом кажется правильным, в случае моделировании цены, фильтровать квартиры на старте: \"подчиняющиеся общим правилам\" и \"индивидуальные\" предложения - для них действуют немного другие правила определения цены, которые следует рассматривать отдельно. К \"подчиняющимся общим правилам\" можно отнести квартиры со следующими параметрами:\n",
    "- площадь до 115 метров\n",
    "- количество комнат до 7\n",
    "- высота потолка до 3,2 метров\n",
    "\n",
    "Также при моделировании стоит учитывать близость квартиры к центру. Для квартир, не находящихся в \"центральной зоне\" города это имеет большое значение при определении цены. Также для таких квартир большое значение имеют водоемы и парки. А вот для квартир в центре почти не имеет значения близость к центру, и менее важны водоемы и парки."
   ]
  }
 ],
 "metadata": {
  "kernelspec": {
   "display_name": "Python 3",
   "language": "python",
   "name": "python3"
  },
  "language_info": {
   "codemirror_mode": {
    "name": "ipython",
    "version": 3
   },
   "file_extension": ".py",
   "mimetype": "text/x-python",
   "name": "python",
   "nbconvert_exporter": "python",
   "pygments_lexer": "ipython3",
   "version": "3.9.2"
  },
  "toc": {
   "base_numbering": 1,
   "nav_menu": {},
   "number_sections": true,
   "sideBar": true,
   "skip_h1_title": true,
   "title_cell": "Table of Contents",
   "title_sidebar": "Contents",
   "toc_cell": false,
   "toc_position": {
    "height": "calc(100% - 180px)",
    "left": "10px",
    "top": "150px",
    "width": "384px"
   },
   "toc_section_display": true,
   "toc_window_display": true
  }
 },
 "nbformat": 4,
 "nbformat_minor": 4
}
