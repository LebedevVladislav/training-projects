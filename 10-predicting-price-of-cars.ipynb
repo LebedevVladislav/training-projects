{
 "cells": [
  {
   "cell_type": "markdown",
   "metadata": {},
   "source": [
    "# Определение стоимости автомобилей"
   ]
  },
  {
   "cell_type": "markdown",
   "metadata": {},
   "source": [
    "Сервис по продаже автомобилей с пробегом «Не бит, не крашен» разрабатывает приложение для привлечения новых клиентов. В нём можно быстро узнать рыночную стоимость своего автомобиля. В вашем распоряжении исторические данные: технические характеристики, комплектации и цены автомобилей. Вам нужно построить модель для определения стоимости. \n",
    "\n",
    "Заказчику важны:\n",
    "\n",
    "- качество предсказания;\n",
    "- скорость предсказания;\n",
    "- время обучения."
   ]
  },
  {
   "cell_type": "markdown",
   "metadata": {},
   "source": [
    "<b>Признаки</b>  \n",
    "DateCrawled — дата скачивания анкеты из базы  \n",
    "VehicleType — тип автомобильного кузова  \n",
    "RegistrationYear — год регистрации автомобиля  \n",
    "Gearbox — тип коробки передач  \n",
    "Power — мощность (л. с.)  \n",
    "Model — модель автомобиля  \n",
    "Kilometer — пробег (км)  \n",
    "RegistrationMonth — месяц регистрации автомобиля  \n",
    "FuelType — тип топлива  \n",
    "Brand — марка автомобиля  \n",
    "NotRepaired — была машина в ремонте или нет  \n",
    "DateCreated — дата создания анкеты  \n",
    "NumberOfPictures — количество фотографий автомобиля  \n",
    "PostalCode — почтовый индекс владельца анкеты (пользователя)  \n",
    "LastSeen — дата последней активности пользователя  \n",
    "  \n",
    "<b>Целевой признак</b>  \n",
    "Price — цена (евро)"
   ]
  },
  {
   "cell_type": "markdown",
   "metadata": {},
   "source": [
    "## Подготовка данных"
   ]
  },
  {
   "cell_type": "code",
   "execution_count": 1,
   "metadata": {},
   "outputs": [],
   "source": [
    "import pandas as pd\n",
    "import numpy as np\n",
    "import matplotlib.pyplot as plt\n",
    "from sklearn.metrics import mean_squared_error, make_scorer\n",
    "from sklearn.preprocessing import LabelEncoder, StandardScaler\n",
    "from sklearn.model_selection import train_test_split\n",
    "from sklearn.linear_model import LinearRegression\n",
    "from sklearn.ensemble import RandomForestRegressor\n",
    "from sklearn.model_selection import RandomizedSearchCV, GridSearchCV\n",
    "import lightgbm\n",
    "pd.options.mode.chained_assignment = None"
   ]
  },
  {
   "cell_type": "code",
   "execution_count": 2,
   "metadata": {},
   "outputs": [],
   "source": [
    "df = pd.read_csv('/datasets/autos.csv')\n",
    "original_df = pd.read_csv('/datasets/autos.csv')"
   ]
  },
  {
   "cell_type": "code",
   "execution_count": 3,
   "metadata": {},
   "outputs": [
    {
     "name": "stdout",
     "output_type": "stream",
     "text": [
      "<class 'pandas.core.frame.DataFrame'>\n",
      "RangeIndex: 354369 entries, 0 to 354368\n",
      "Data columns (total 16 columns):\n",
      "DateCrawled          354369 non-null object\n",
      "Price                354369 non-null int64\n",
      "VehicleType          316879 non-null object\n",
      "RegistrationYear     354369 non-null int64\n",
      "Gearbox              334536 non-null object\n",
      "Power                354369 non-null int64\n",
      "Model                334664 non-null object\n",
      "Kilometer            354369 non-null int64\n",
      "RegistrationMonth    354369 non-null int64\n",
      "FuelType             321474 non-null object\n",
      "Brand                354369 non-null object\n",
      "NotRepaired          283215 non-null object\n",
      "DateCreated          354369 non-null object\n",
      "NumberOfPictures     354369 non-null int64\n",
      "PostalCode           354369 non-null int64\n",
      "LastSeen             354369 non-null object\n",
      "dtypes: int64(7), object(9)\n",
      "memory usage: 43.3+ MB\n"
     ]
    }
   ],
   "source": [
    "df.info()"
   ]
  },
  {
   "cell_type": "code",
   "execution_count": 4,
   "metadata": {
    "scrolled": false
   },
   "outputs": [
    {
     "data": {
      "text/html": [
       "<div>\n",
       "<style scoped>\n",
       "    .dataframe tbody tr th:only-of-type {\n",
       "        vertical-align: middle;\n",
       "    }\n",
       "\n",
       "    .dataframe tbody tr th {\n",
       "        vertical-align: top;\n",
       "    }\n",
       "\n",
       "    .dataframe thead th {\n",
       "        text-align: right;\n",
       "    }\n",
       "</style>\n",
       "<table border=\"1\" class=\"dataframe\">\n",
       "  <thead>\n",
       "    <tr style=\"text-align: right;\">\n",
       "      <th></th>\n",
       "      <th>DateCrawled</th>\n",
       "      <th>Price</th>\n",
       "      <th>VehicleType</th>\n",
       "      <th>RegistrationYear</th>\n",
       "      <th>Gearbox</th>\n",
       "      <th>Power</th>\n",
       "      <th>Model</th>\n",
       "      <th>Kilometer</th>\n",
       "      <th>RegistrationMonth</th>\n",
       "      <th>FuelType</th>\n",
       "      <th>Brand</th>\n",
       "      <th>NotRepaired</th>\n",
       "      <th>DateCreated</th>\n",
       "      <th>NumberOfPictures</th>\n",
       "      <th>PostalCode</th>\n",
       "      <th>LastSeen</th>\n",
       "    </tr>\n",
       "  </thead>\n",
       "  <tbody>\n",
       "    <tr>\n",
       "      <td>0</td>\n",
       "      <td>2016-03-24 11:52:17</td>\n",
       "      <td>480</td>\n",
       "      <td>NaN</td>\n",
       "      <td>1993</td>\n",
       "      <td>manual</td>\n",
       "      <td>0</td>\n",
       "      <td>golf</td>\n",
       "      <td>150000</td>\n",
       "      <td>0</td>\n",
       "      <td>petrol</td>\n",
       "      <td>volkswagen</td>\n",
       "      <td>NaN</td>\n",
       "      <td>2016-03-24 00:00:00</td>\n",
       "      <td>0</td>\n",
       "      <td>70435</td>\n",
       "      <td>2016-04-07 03:16:57</td>\n",
       "    </tr>\n",
       "    <tr>\n",
       "      <td>1</td>\n",
       "      <td>2016-03-24 10:58:45</td>\n",
       "      <td>18300</td>\n",
       "      <td>coupe</td>\n",
       "      <td>2011</td>\n",
       "      <td>manual</td>\n",
       "      <td>190</td>\n",
       "      <td>NaN</td>\n",
       "      <td>125000</td>\n",
       "      <td>5</td>\n",
       "      <td>gasoline</td>\n",
       "      <td>audi</td>\n",
       "      <td>yes</td>\n",
       "      <td>2016-03-24 00:00:00</td>\n",
       "      <td>0</td>\n",
       "      <td>66954</td>\n",
       "      <td>2016-04-07 01:46:50</td>\n",
       "    </tr>\n",
       "    <tr>\n",
       "      <td>2</td>\n",
       "      <td>2016-03-14 12:52:21</td>\n",
       "      <td>9800</td>\n",
       "      <td>suv</td>\n",
       "      <td>2004</td>\n",
       "      <td>auto</td>\n",
       "      <td>163</td>\n",
       "      <td>grand</td>\n",
       "      <td>125000</td>\n",
       "      <td>8</td>\n",
       "      <td>gasoline</td>\n",
       "      <td>jeep</td>\n",
       "      <td>NaN</td>\n",
       "      <td>2016-03-14 00:00:00</td>\n",
       "      <td>0</td>\n",
       "      <td>90480</td>\n",
       "      <td>2016-04-05 12:47:46</td>\n",
       "    </tr>\n",
       "    <tr>\n",
       "      <td>3</td>\n",
       "      <td>2016-03-17 16:54:04</td>\n",
       "      <td>1500</td>\n",
       "      <td>small</td>\n",
       "      <td>2001</td>\n",
       "      <td>manual</td>\n",
       "      <td>75</td>\n",
       "      <td>golf</td>\n",
       "      <td>150000</td>\n",
       "      <td>6</td>\n",
       "      <td>petrol</td>\n",
       "      <td>volkswagen</td>\n",
       "      <td>no</td>\n",
       "      <td>2016-03-17 00:00:00</td>\n",
       "      <td>0</td>\n",
       "      <td>91074</td>\n",
       "      <td>2016-03-17 17:40:17</td>\n",
       "    </tr>\n",
       "    <tr>\n",
       "      <td>4</td>\n",
       "      <td>2016-03-31 17:25:20</td>\n",
       "      <td>3600</td>\n",
       "      <td>small</td>\n",
       "      <td>2008</td>\n",
       "      <td>manual</td>\n",
       "      <td>69</td>\n",
       "      <td>fabia</td>\n",
       "      <td>90000</td>\n",
       "      <td>7</td>\n",
       "      <td>gasoline</td>\n",
       "      <td>skoda</td>\n",
       "      <td>no</td>\n",
       "      <td>2016-03-31 00:00:00</td>\n",
       "      <td>0</td>\n",
       "      <td>60437</td>\n",
       "      <td>2016-04-06 10:17:21</td>\n",
       "    </tr>\n",
       "  </tbody>\n",
       "</table>\n",
       "</div>"
      ],
      "text/plain": [
       "           DateCrawled  Price VehicleType  RegistrationYear Gearbox  Power  \\\n",
       "0  2016-03-24 11:52:17    480         NaN              1993  manual      0   \n",
       "1  2016-03-24 10:58:45  18300       coupe              2011  manual    190   \n",
       "2  2016-03-14 12:52:21   9800         suv              2004    auto    163   \n",
       "3  2016-03-17 16:54:04   1500       small              2001  manual     75   \n",
       "4  2016-03-31 17:25:20   3600       small              2008  manual     69   \n",
       "\n",
       "   Model  Kilometer  RegistrationMonth  FuelType       Brand NotRepaired  \\\n",
       "0   golf     150000                  0    petrol  volkswagen         NaN   \n",
       "1    NaN     125000                  5  gasoline        audi         yes   \n",
       "2  grand     125000                  8  gasoline        jeep         NaN   \n",
       "3   golf     150000                  6    petrol  volkswagen          no   \n",
       "4  fabia      90000                  7  gasoline       skoda          no   \n",
       "\n",
       "           DateCreated  NumberOfPictures  PostalCode             LastSeen  \n",
       "0  2016-03-24 00:00:00                 0       70435  2016-04-07 03:16:57  \n",
       "1  2016-03-24 00:00:00                 0       66954  2016-04-07 01:46:50  \n",
       "2  2016-03-14 00:00:00                 0       90480  2016-04-05 12:47:46  \n",
       "3  2016-03-17 00:00:00                 0       91074  2016-03-17 17:40:17  \n",
       "4  2016-03-31 00:00:00                 0       60437  2016-04-06 10:17:21  "
      ]
     },
     "execution_count": 4,
     "metadata": {},
     "output_type": "execute_result"
    }
   ],
   "source": [
    "df.head()"
   ]
  },
  {
   "cell_type": "markdown",
   "metadata": {},
   "source": [
    "В данных много пропусков. 3 столбца необходимо трансформировать в формат даты. Кроме того, многие столбцы представлены категориальными признаками и могут быть перекодированы."
   ]
  },
  {
   "cell_type": "code",
   "execution_count": 5,
   "metadata": {
    "scrolled": false
   },
   "outputs": [
    {
     "data": {
      "text/html": [
       "<div>\n",
       "<style scoped>\n",
       "    .dataframe tbody tr th:only-of-type {\n",
       "        vertical-align: middle;\n",
       "    }\n",
       "\n",
       "    .dataframe tbody tr th {\n",
       "        vertical-align: top;\n",
       "    }\n",
       "\n",
       "    .dataframe thead th {\n",
       "        text-align: right;\n",
       "    }\n",
       "</style>\n",
       "<table border=\"1\" class=\"dataframe\">\n",
       "  <thead>\n",
       "    <tr style=\"text-align: right;\">\n",
       "      <th></th>\n",
       "      <th>Price</th>\n",
       "      <th>RegistrationYear</th>\n",
       "      <th>Power</th>\n",
       "      <th>Kilometer</th>\n",
       "      <th>RegistrationMonth</th>\n",
       "      <th>NumberOfPictures</th>\n",
       "      <th>PostalCode</th>\n",
       "    </tr>\n",
       "  </thead>\n",
       "  <tbody>\n",
       "    <tr>\n",
       "      <td>count</td>\n",
       "      <td>354369.00</td>\n",
       "      <td>354369.00</td>\n",
       "      <td>354369.00</td>\n",
       "      <td>354369.00</td>\n",
       "      <td>354369.00</td>\n",
       "      <td>354369.0</td>\n",
       "      <td>354369.00</td>\n",
       "    </tr>\n",
       "    <tr>\n",
       "      <td>mean</td>\n",
       "      <td>4416.66</td>\n",
       "      <td>2004.23</td>\n",
       "      <td>110.09</td>\n",
       "      <td>128211.17</td>\n",
       "      <td>5.71</td>\n",
       "      <td>0.0</td>\n",
       "      <td>50508.69</td>\n",
       "    </tr>\n",
       "    <tr>\n",
       "      <td>std</td>\n",
       "      <td>4514.16</td>\n",
       "      <td>90.23</td>\n",
       "      <td>189.85</td>\n",
       "      <td>37905.34</td>\n",
       "      <td>3.73</td>\n",
       "      <td>0.0</td>\n",
       "      <td>25783.10</td>\n",
       "    </tr>\n",
       "    <tr>\n",
       "      <td>min</td>\n",
       "      <td>0.00</td>\n",
       "      <td>1000.00</td>\n",
       "      <td>0.00</td>\n",
       "      <td>5000.00</td>\n",
       "      <td>0.00</td>\n",
       "      <td>0.0</td>\n",
       "      <td>1067.00</td>\n",
       "    </tr>\n",
       "    <tr>\n",
       "      <td>25%</td>\n",
       "      <td>1050.00</td>\n",
       "      <td>1999.00</td>\n",
       "      <td>69.00</td>\n",
       "      <td>125000.00</td>\n",
       "      <td>3.00</td>\n",
       "      <td>0.0</td>\n",
       "      <td>30165.00</td>\n",
       "    </tr>\n",
       "    <tr>\n",
       "      <td>50%</td>\n",
       "      <td>2700.00</td>\n",
       "      <td>2003.00</td>\n",
       "      <td>105.00</td>\n",
       "      <td>150000.00</td>\n",
       "      <td>6.00</td>\n",
       "      <td>0.0</td>\n",
       "      <td>49413.00</td>\n",
       "    </tr>\n",
       "    <tr>\n",
       "      <td>75%</td>\n",
       "      <td>6400.00</td>\n",
       "      <td>2008.00</td>\n",
       "      <td>143.00</td>\n",
       "      <td>150000.00</td>\n",
       "      <td>9.00</td>\n",
       "      <td>0.0</td>\n",
       "      <td>71083.00</td>\n",
       "    </tr>\n",
       "    <tr>\n",
       "      <td>max</td>\n",
       "      <td>20000.00</td>\n",
       "      <td>9999.00</td>\n",
       "      <td>20000.00</td>\n",
       "      <td>150000.00</td>\n",
       "      <td>12.00</td>\n",
       "      <td>0.0</td>\n",
       "      <td>99998.00</td>\n",
       "    </tr>\n",
       "  </tbody>\n",
       "</table>\n",
       "</div>"
      ],
      "text/plain": [
       "           Price  RegistrationYear      Power  Kilometer  RegistrationMonth  \\\n",
       "count  354369.00         354369.00  354369.00  354369.00          354369.00   \n",
       "mean     4416.66           2004.23     110.09  128211.17               5.71   \n",
       "std      4514.16             90.23     189.85   37905.34               3.73   \n",
       "min         0.00           1000.00       0.00    5000.00               0.00   \n",
       "25%      1050.00           1999.00      69.00  125000.00               3.00   \n",
       "50%      2700.00           2003.00     105.00  150000.00               6.00   \n",
       "75%      6400.00           2008.00     143.00  150000.00               9.00   \n",
       "max     20000.00           9999.00   20000.00  150000.00              12.00   \n",
       "\n",
       "       NumberOfPictures  PostalCode  \n",
       "count          354369.0   354369.00  \n",
       "mean                0.0    50508.69  \n",
       "std                 0.0    25783.10  \n",
       "min                 0.0     1067.00  \n",
       "25%                 0.0    30165.00  \n",
       "50%                 0.0    49413.00  \n",
       "75%                 0.0    71083.00  \n",
       "max                 0.0    99998.00  "
      ]
     },
     "execution_count": 5,
     "metadata": {},
     "output_type": "execute_result"
    }
   ],
   "source": [
    "df.describe().round(2)"
   ]
  },
  {
   "cell_type": "markdown",
   "metadata": {},
   "source": [
    "Обращают на себя внимание различные аномалии:\n",
    "1) Минимальное значение столбца Price - 0, это странно и вряд ли поможет в нашей задаче  \n",
    "2) Минимальное значение столбца RegistrationYear - 1000, а максимальное - 9999  \n",
    "3) Минимальное значение столбца Power - 0 - это может быть объяснено тем, что человек просто не знает мощность авто.   Максимальное значение - 20000 - автомобилей с такой мощностью индустрия еще не видела.   \n",
    "4) RegistrationMonth: Нулевой месяц регистрации невозможен  \n",
    "5) NumberOfPictures: Фотографий в принципе нет ни у одной позиции.  \n",
    "\n",
    "Рассмотрим данные столбцы подробнее и удалим аномалии там, где это уместно."
   ]
  },
  {
   "cell_type": "markdown",
   "metadata": {},
   "source": [
    "### Проверка на дубликаты"
   ]
  },
  {
   "cell_type": "code",
   "execution_count": 6,
   "metadata": {},
   "outputs": [
    {
     "data": {
      "text/plain": [
       "4"
      ]
     },
     "execution_count": 6,
     "metadata": {},
     "output_type": "execute_result"
    }
   ],
   "source": [
    "df.duplicated().sum()"
   ]
  },
  {
   "cell_type": "code",
   "execution_count": 7,
   "metadata": {
    "scrolled": true
   },
   "outputs": [
    {
     "data": {
      "text/plain": [
       "0"
      ]
     },
     "execution_count": 7,
     "metadata": {},
     "output_type": "execute_result"
    }
   ],
   "source": [
    "df = df.drop_duplicates().reset_index(drop=True)\n",
    "df.duplicated().sum()"
   ]
  },
  {
   "cell_type": "markdown",
   "metadata": {},
   "source": [
    "### Обработка аномальных значений"
   ]
  },
  {
   "cell_type": "markdown",
   "metadata": {},
   "source": [
    "#### Price"
   ]
  },
  {
   "cell_type": "code",
   "execution_count": 8,
   "metadata": {},
   "outputs": [
    {
     "data": {
      "image/png": "[encoded data removed]",
      "text/plain": [
       "<Figure size 432x288 with 1 Axes>"
      ]
     },
     "metadata": {
      "needs_background": "light"
     },
     "output_type": "display_data"
    }
   ],
   "source": [
    "plt.hist(df.query('Price < 400')['Price'], bins=30)\n",
    "plt.title('Гистограмма цены автомобиля', fontsize=15)\n",
    "plt.show()"
   ]
  },
  {
   "cell_type": "code",
   "execution_count": 9,
   "metadata": {
    "scrolled": true
   },
   "outputs": [
    {
     "data": {
      "text/plain": [
       "0      0.358839\n",
       "300    0.090976\n",
       "350    0.083747\n",
       "250    0.073020\n",
       "200    0.066158\n",
       "         ...   \n",
       "108    0.000033\n",
       "331    0.000033\n",
       "293    0.000033\n",
       "261    0.000033\n",
       "47     0.000033\n",
       "Name: Price, Length: 222, dtype: float64"
      ]
     },
     "execution_count": 9,
     "metadata": {},
     "output_type": "execute_result"
    }
   ],
   "source": [
    "df.query('Price < 400')['Price'].value_counts(normalize=True)"
   ]
  },
  {
   "cell_type": "code",
   "execution_count": 10,
   "metadata": {},
   "outputs": [
    {
     "data": {
      "text/plain": [
       "0      10772\n",
       "300     2731\n",
       "350     2514\n",
       "250     2192\n",
       "200     1986\n",
       "       ...  \n",
       "108        1\n",
       "331        1\n",
       "293        1\n",
       "261        1\n",
       "47         1\n",
       "Name: Price, Length: 222, dtype: int64"
      ]
     },
     "execution_count": 10,
     "metadata": {},
     "output_type": "execute_result"
    }
   ],
   "source": [
    "df.query('Price < 400')['Price'].value_counts()"
   ]
  },
  {
   "cell_type": "code",
   "execution_count": 11,
   "metadata": {},
   "outputs": [
    {
     "data": {
      "text/plain": [
       "3.0397692800442475"
      ]
     },
     "execution_count": 11,
     "metadata": {},
     "output_type": "execute_result"
    }
   ],
   "source": [
    "len(df.query('Price == 0'))/len(original_df)*100"
   ]
  },
  {
   "cell_type": "markdown",
   "metadata": {},
   "source": [
    "3% - не очень много. Избавимся от данного значения"
   ]
  },
  {
   "cell_type": "code",
   "execution_count": 12,
   "metadata": {},
   "outputs": [],
   "source": [
    "df = df.query('Price != 0').reset_index(drop=True)"
   ]
  },
  {
   "cell_type": "markdown",
   "metadata": {},
   "source": [
    "#### RegistrationYear"
   ]
  },
  {
   "cell_type": "code",
   "execution_count": 13,
   "metadata": {},
   "outputs": [
    {
     "data": {
      "image/png": "[encoded data removed]",
      "text/plain": [
       "<Figure size 432x288 with 1 Axes>"
      ]
     },
     "metadata": {
      "needs_background": "light"
     },
     "output_type": "display_data"
    }
   ],
   "source": [
    "plt.hist(df.query('RegistrationYear < 1970')['RegistrationYear'], bins=30)\n",
    "plt.title('Гистограмма года регистрации авто, до 1970 г.', fontsize=15)\n",
    "plt.show()"
   ]
  },
  {
   "cell_type": "code",
   "execution_count": 14,
   "metadata": {},
   "outputs": [
    {
     "data": {
      "image/png": "[encoded data removed]",
      "text/plain": [
       "<Figure size 432x288 with 1 Axes>"
      ]
     },
     "metadata": {
      "needs_background": "light"
     },
     "output_type": "display_data"
    }
   ],
   "source": [
    "plt.hist(df.query('RegistrationYear > 1950 and RegistrationYear < 2030')['RegistrationYear'], bins=30)\n",
    "plt.title('Гистограмма года регистрации авто, 1950-2030 гг.', fontsize=15)\n",
    "plt.show()"
   ]
  },
  {
   "cell_type": "code",
   "execution_count": 15,
   "metadata": {},
   "outputs": [
    {
     "data": {
      "text/plain": [
       "3.120476113881293"
      ]
     },
     "execution_count": 15,
     "metadata": {},
     "output_type": "execute_result"
    }
   ],
   "source": [
    "(len(original_df)-len(df.query('RegistrationYear > 1950 and RegistrationYear < 2030')))/len(original_df)*100"
   ]
  },
  {
   "cell_type": "markdown",
   "metadata": {},
   "source": [
    "Пожертвуем 3% данных"
   ]
  },
  {
   "cell_type": "code",
   "execution_count": 16,
   "metadata": {},
   "outputs": [],
   "source": [
    "df = df.query('RegistrationYear > 1950 and RegistrationYear < 2030').reset_index(drop=True)"
   ]
  },
  {
   "cell_type": "code",
   "execution_count": 17,
   "metadata": {
    "scrolled": true
   },
   "outputs": [
    {
     "data": {
      "text/plain": [
       "2000    0.067204\n",
       "1999    0.064064\n",
       "2005    0.062695\n",
       "2006    0.057321\n",
       "2001    0.057245\n",
       "          ...   \n",
       "1957    0.000038\n",
       "1955    0.000038\n",
       "1951    0.000029\n",
       "1954    0.000026\n",
       "1952    0.000023\n",
       "Name: RegistrationYear, Length: 69, dtype: float64"
      ]
     },
     "execution_count": 17,
     "metadata": {},
     "output_type": "execute_result"
    }
   ],
   "source": [
    "df['RegistrationYear'].value_counts(normalize=True)"
   ]
  },
  {
   "cell_type": "markdown",
   "metadata": {},
   "source": [
    "#### Power"
   ]
  },
  {
   "cell_type": "code",
   "execution_count": 18,
   "metadata": {},
   "outputs": [
    {
     "data": {
      "image/png": "[encoded data removed]",
      "text/plain": [
       "<Figure size 432x288 with 1 Axes>"
      ]
     },
     "metadata": {
      "needs_background": "light"
     },
     "output_type": "display_data"
    }
   ],
   "source": [
    "plt.hist(df.query('Power < 1000')['Power'], bins=30)\n",
    "plt.title('Гистограмма мощности авто, до 1000 л.с.', fontsize=15)\n",
    "plt.show()"
   ]
  },
  {
   "cell_type": "code",
   "execution_count": 19,
   "metadata": {},
   "outputs": [
    {
     "data": {
      "image/png": "[encoded data removed]",
      "text/plain": [
       "<Figure size 432x288 with 1 Axes>"
      ]
     },
     "metadata": {
      "needs_background": "light"
     },
     "output_type": "display_data"
    }
   ],
   "source": [
    "plt.hist(df.query('Power < 50')['Power'], bins=30)\n",
    "plt.title('Гистограмма мощности авто, до 50 л.с.', fontsize=15)\n",
    "plt.show()"
   ]
  },
  {
   "cell_type": "code",
   "execution_count": 20,
   "metadata": {},
   "outputs": [
    {
     "data": {
      "text/plain": [
       "10.206874754845938"
      ]
     },
     "execution_count": 20,
     "metadata": {},
     "output_type": "execute_result"
    }
   ],
   "source": [
    "len(df.query('Power == 0'))/len(original_df)*100"
   ]
  },
  {
   "cell_type": "markdown",
   "metadata": {},
   "source": [
    "10% позиций в данных имеют мощность, равную 0 - слишком большой объем информации, чтобы пренебречь. Оставим, как есть."
   ]
  },
  {
   "cell_type": "code",
   "execution_count": 21,
   "metadata": {},
   "outputs": [
    {
     "data": {
      "text/plain": [
       "0.07901368347682783"
      ]
     },
     "execution_count": 21,
     "metadata": {},
     "output_type": "execute_result"
    }
   ],
   "source": [
    "len(df.query('Power > 1000'))/len(original_df)*100"
   ]
  },
  {
   "cell_type": "markdown",
   "metadata": {},
   "source": [
    "0,07% - можно пренебречь данными и избавиться от них"
   ]
  },
  {
   "cell_type": "code",
   "execution_count": 22,
   "metadata": {},
   "outputs": [],
   "source": [
    "df = df.query('Power < 1000').reset_index(drop=True)"
   ]
  },
  {
   "cell_type": "markdown",
   "metadata": {},
   "source": [
    "#### RegistrationMonth"
   ]
  },
  {
   "cell_type": "code",
   "execution_count": 23,
   "metadata": {},
   "outputs": [
    {
     "data": {
      "text/plain": [
       "3     0.098508\n",
       "0     0.095249\n",
       "6     0.089803\n",
       "4     0.083579\n",
       "5     0.083110\n",
       "7     0.077670\n",
       "10    0.074600\n",
       "11    0.069201\n",
       "12    0.069193\n",
       "9     0.068094\n",
       "1     0.065933\n",
       "8     0.064485\n",
       "2     0.060575\n",
       "Name: RegistrationMonth, dtype: float64"
      ]
     },
     "execution_count": 23,
     "metadata": {},
     "output_type": "execute_result"
    }
   ],
   "source": [
    "df['RegistrationMonth'].value_counts(normalize=True)"
   ]
  },
  {
   "cell_type": "markdown",
   "metadata": {},
   "source": [
    "Месяца 0 действительно не существует. Но пренебрегать 10% информации нельзя. Сделаем допущение, что для нас важен только год регистрации авто, поэтому избавимся от месяца, чтобы он не искажал результаты модели."
   ]
  },
  {
   "cell_type": "code",
   "execution_count": 24,
   "metadata": {},
   "outputs": [],
   "source": [
    "df = df.drop(columns=['RegistrationMonth'])"
   ]
  },
  {
   "cell_type": "markdown",
   "metadata": {},
   "source": [
    "#### NumberOfPictures"
   ]
  },
  {
   "cell_type": "code",
   "execution_count": 25,
   "metadata": {},
   "outputs": [
    {
     "data": {
      "text/plain": [
       "0    1.0\n",
       "Name: NumberOfPictures, dtype: float64"
      ]
     },
     "execution_count": 25,
     "metadata": {},
     "output_type": "execute_result"
    }
   ],
   "source": [
    "df['NumberOfPictures'].value_counts(normalize=True)"
   ]
  },
  {
   "cell_type": "markdown",
   "metadata": {},
   "source": [
    "Фотографий действительно нигде нет. Удалим столбец как ненесущий какую-либо информацию."
   ]
  },
  {
   "cell_type": "code",
   "execution_count": 26,
   "metadata": {},
   "outputs": [],
   "source": [
    "df = df.drop(columns=['NumberOfPictures'])"
   ]
  },
  {
   "cell_type": "markdown",
   "metadata": {},
   "source": [
    "### Работа с датами"
   ]
  },
  {
   "cell_type": "markdown",
   "metadata": {},
   "source": [
    "С точки зрения дат для нас значимым фактором является возраст автомобиля на момент формирования анкеты.  \n",
    "Для начала трансформируем столбцы в формат даты."
   ]
  },
  {
   "cell_type": "code",
   "execution_count": 27,
   "metadata": {},
   "outputs": [
    {
     "name": "stdout",
     "output_type": "stream",
     "text": [
      "<class 'pandas.core.frame.DataFrame'>\n",
      "RangeIndex: 343028 entries, 0 to 343027\n",
      "Data columns (total 14 columns):\n",
      "DateCrawled         343028 non-null datetime64[ns]\n",
      "Price               343028 non-null int64\n",
      "VehicleType         309492 non-null object\n",
      "RegistrationYear    343028 non-null int64\n",
      "Gearbox             325854 non-null object\n",
      "Power               343028 non-null int64\n",
      "Model               325651 non-null object\n",
      "Kilometer           343028 non-null int64\n",
      "FuelType            313776 non-null object\n",
      "Brand               343028 non-null object\n",
      "NotRepaired         277463 non-null object\n",
      "DateCreated         343028 non-null datetime64[ns]\n",
      "PostalCode          343028 non-null int64\n",
      "LastSeen            343028 non-null datetime64[ns]\n",
      "dtypes: datetime64[ns](3), int64(5), object(6)\n",
      "memory usage: 36.6+ MB\n"
     ]
    }
   ],
   "source": [
    "df['DateCrawled'] = pd.to_datetime(df['DateCrawled'], format='%Y.%m.%d %H:%M:%S')\n",
    "df['DateCreated'] = pd.to_datetime(df['DateCreated'], format='%Y.%m.%d %H:%M:%S')\n",
    "df['LastSeen'] = pd.to_datetime(df['LastSeen'], format='%Y.%m.%d %H:%M:%S')\n",
    "df.info()"
   ]
  },
  {
   "cell_type": "markdown",
   "metadata": {},
   "source": [
    "Создадим столбец, в котором будет указан возраст авто."
   ]
  },
  {
   "cell_type": "code",
   "execution_count": 28,
   "metadata": {},
   "outputs": [],
   "source": [
    "df['VehicleAge'] = pd.DatetimeIndex(df['DateCreated']).year - df['RegistrationYear']"
   ]
  },
  {
   "cell_type": "code",
   "execution_count": 29,
   "metadata": {},
   "outputs": [
    {
     "name": "stdout",
     "output_type": "stream",
     "text": [
      "<class 'pandas.core.frame.DataFrame'>\n",
      "RangeIndex: 343028 entries, 0 to 343027\n",
      "Data columns (total 15 columns):\n",
      "DateCrawled         343028 non-null datetime64[ns]\n",
      "Price               343028 non-null int64\n",
      "VehicleType         309492 non-null object\n",
      "RegistrationYear    343028 non-null int64\n",
      "Gearbox             325854 non-null object\n",
      "Power               343028 non-null int64\n",
      "Model               325651 non-null object\n",
      "Kilometer           343028 non-null int64\n",
      "FuelType            313776 non-null object\n",
      "Brand               343028 non-null object\n",
      "NotRepaired         277463 non-null object\n",
      "DateCreated         343028 non-null datetime64[ns]\n",
      "PostalCode          343028 non-null int64\n",
      "LastSeen            343028 non-null datetime64[ns]\n",
      "VehicleAge          343028 non-null int64\n",
      "dtypes: datetime64[ns](3), int64(6), object(6)\n",
      "memory usage: 39.3+ MB\n"
     ]
    }
   ],
   "source": [
    "df.info()"
   ]
  },
  {
   "cell_type": "code",
   "execution_count": 30,
   "metadata": {},
   "outputs": [
    {
     "data": {
      "text/html": [
       "<div>\n",
       "<style scoped>\n",
       "    .dataframe tbody tr th:only-of-type {\n",
       "        vertical-align: middle;\n",
       "    }\n",
       "\n",
       "    .dataframe tbody tr th {\n",
       "        vertical-align: top;\n",
       "    }\n",
       "\n",
       "    .dataframe thead th {\n",
       "        text-align: right;\n",
       "    }\n",
       "</style>\n",
       "<table border=\"1\" class=\"dataframe\">\n",
       "  <thead>\n",
       "    <tr style=\"text-align: right;\">\n",
       "      <th></th>\n",
       "      <th>DateCrawled</th>\n",
       "      <th>Price</th>\n",
       "      <th>VehicleType</th>\n",
       "      <th>RegistrationYear</th>\n",
       "      <th>Gearbox</th>\n",
       "      <th>Power</th>\n",
       "      <th>Model</th>\n",
       "      <th>Kilometer</th>\n",
       "      <th>FuelType</th>\n",
       "      <th>Brand</th>\n",
       "      <th>NotRepaired</th>\n",
       "      <th>DateCreated</th>\n",
       "      <th>PostalCode</th>\n",
       "      <th>LastSeen</th>\n",
       "      <th>VehicleAge</th>\n",
       "    </tr>\n",
       "  </thead>\n",
       "  <tbody>\n",
       "    <tr>\n",
       "      <td>0</td>\n",
       "      <td>2016-03-24 11:52:17</td>\n",
       "      <td>480</td>\n",
       "      <td>NaN</td>\n",
       "      <td>1993</td>\n",
       "      <td>manual</td>\n",
       "      <td>0</td>\n",
       "      <td>golf</td>\n",
       "      <td>150000</td>\n",
       "      <td>petrol</td>\n",
       "      <td>volkswagen</td>\n",
       "      <td>NaN</td>\n",
       "      <td>2016-03-24</td>\n",
       "      <td>70435</td>\n",
       "      <td>2016-04-07 03:16:57</td>\n",
       "      <td>23</td>\n",
       "    </tr>\n",
       "    <tr>\n",
       "      <td>1</td>\n",
       "      <td>2016-03-24 10:58:45</td>\n",
       "      <td>18300</td>\n",
       "      <td>coupe</td>\n",
       "      <td>2011</td>\n",
       "      <td>manual</td>\n",
       "      <td>190</td>\n",
       "      <td>NaN</td>\n",
       "      <td>125000</td>\n",
       "      <td>gasoline</td>\n",
       "      <td>audi</td>\n",
       "      <td>yes</td>\n",
       "      <td>2016-03-24</td>\n",
       "      <td>66954</td>\n",
       "      <td>2016-04-07 01:46:50</td>\n",
       "      <td>5</td>\n",
       "    </tr>\n",
       "    <tr>\n",
       "      <td>2</td>\n",
       "      <td>2016-03-14 12:52:21</td>\n",
       "      <td>9800</td>\n",
       "      <td>suv</td>\n",
       "      <td>2004</td>\n",
       "      <td>auto</td>\n",
       "      <td>163</td>\n",
       "      <td>grand</td>\n",
       "      <td>125000</td>\n",
       "      <td>gasoline</td>\n",
       "      <td>jeep</td>\n",
       "      <td>NaN</td>\n",
       "      <td>2016-03-14</td>\n",
       "      <td>90480</td>\n",
       "      <td>2016-04-05 12:47:46</td>\n",
       "      <td>12</td>\n",
       "    </tr>\n",
       "    <tr>\n",
       "      <td>3</td>\n",
       "      <td>2016-03-17 16:54:04</td>\n",
       "      <td>1500</td>\n",
       "      <td>small</td>\n",
       "      <td>2001</td>\n",
       "      <td>manual</td>\n",
       "      <td>75</td>\n",
       "      <td>golf</td>\n",
       "      <td>150000</td>\n",
       "      <td>petrol</td>\n",
       "      <td>volkswagen</td>\n",
       "      <td>no</td>\n",
       "      <td>2016-03-17</td>\n",
       "      <td>91074</td>\n",
       "      <td>2016-03-17 17:40:17</td>\n",
       "      <td>15</td>\n",
       "    </tr>\n",
       "    <tr>\n",
       "      <td>4</td>\n",
       "      <td>2016-03-31 17:25:20</td>\n",
       "      <td>3600</td>\n",
       "      <td>small</td>\n",
       "      <td>2008</td>\n",
       "      <td>manual</td>\n",
       "      <td>69</td>\n",
       "      <td>fabia</td>\n",
       "      <td>90000</td>\n",
       "      <td>gasoline</td>\n",
       "      <td>skoda</td>\n",
       "      <td>no</td>\n",
       "      <td>2016-03-31</td>\n",
       "      <td>60437</td>\n",
       "      <td>2016-04-06 10:17:21</td>\n",
       "      <td>8</td>\n",
       "    </tr>\n",
       "  </tbody>\n",
       "</table>\n",
       "</div>"
      ],
      "text/plain": [
       "          DateCrawled  Price VehicleType  RegistrationYear Gearbox  Power  \\\n",
       "0 2016-03-24 11:52:17    480         NaN              1993  manual      0   \n",
       "1 2016-03-24 10:58:45  18300       coupe              2011  manual    190   \n",
       "2 2016-03-14 12:52:21   9800         suv              2004    auto    163   \n",
       "3 2016-03-17 16:54:04   1500       small              2001  manual     75   \n",
       "4 2016-03-31 17:25:20   3600       small              2008  manual     69   \n",
       "\n",
       "   Model  Kilometer  FuelType       Brand NotRepaired DateCreated  PostalCode  \\\n",
       "0   golf     150000    petrol  volkswagen         NaN  2016-03-24       70435   \n",
       "1    NaN     125000  gasoline        audi         yes  2016-03-24       66954   \n",
       "2  grand     125000  gasoline        jeep         NaN  2016-03-14       90480   \n",
       "3   golf     150000    petrol  volkswagen          no  2016-03-17       91074   \n",
       "4  fabia      90000  gasoline       skoda          no  2016-03-31       60437   \n",
       "\n",
       "             LastSeen  VehicleAge  \n",
       "0 2016-04-07 03:16:57          23  \n",
       "1 2016-04-07 01:46:50           5  \n",
       "2 2016-04-05 12:47:46          12  \n",
       "3 2016-03-17 17:40:17          15  \n",
       "4 2016-04-06 10:17:21           8  "
      ]
     },
     "execution_count": 30,
     "metadata": {},
     "output_type": "execute_result"
    }
   ],
   "source": [
    "df.head()"
   ]
  },
  {
   "cell_type": "code",
   "execution_count": 31,
   "metadata": {},
   "outputs": [
    {
     "data": {
      "text/plain": [
       "16    23048\n",
       "17    21974\n",
       "11    21508\n",
       "10    19668\n",
       "15    19634\n",
       "      ...  \n",
       "61       13\n",
       "59       13\n",
       "65       10\n",
       "62        9\n",
       "64        8\n",
       "Name: VehicleAge, Length: 69, dtype: int64"
      ]
     },
     "execution_count": 31,
     "metadata": {},
     "output_type": "execute_result"
    }
   ],
   "source": [
    "df['VehicleAge'].value_counts()"
   ]
  },
  {
   "cell_type": "code",
   "execution_count": 32,
   "metadata": {},
   "outputs": [
    {
     "name": "stderr",
     "output_type": "stream",
     "text": [
      "/opt/conda/lib/python3.7/site-packages/pandas/core/frame.py:3187: FutureWarning: \n",
      "Passing list-likes to .loc or [] with any missing label will raise\n",
      "KeyError in the future, you can use .reindex() as an alternative.\n",
      "\n",
      "See the documentation here:\n",
      "https://pandas.pydata.org/pandas-docs/stable/user_guide/indexing.html#deprecate-loc-reindex-listlike\n",
      "  new_data = self.loc[res]\n"
     ]
    },
    {
     "data": {
      "image/png": "[encoded data removed]",
      "text/plain": [
       "<Figure size 432x288 with 1 Axes>"
      ]
     },
     "metadata": {
      "needs_background": "light"
     },
     "output_type": "display_data"
    }
   ],
   "source": [
    "plt.hist(df.query('VehicleAge')['VehicleAge'], bins=30)\n",
    "plt.title('Гистограмма возраста авто', fontsize=15)\n",
    "plt.show()"
   ]
  },
  {
   "cell_type": "code",
   "execution_count": 33,
   "metadata": {
    "scrolled": true
   },
   "outputs": [
    {
     "data": {
      "text/plain": [
       "-1    9880\n",
       "-2    3779\n",
       "-3      16\n",
       "Name: VehicleAge, dtype: int64"
      ]
     },
     "execution_count": 33,
     "metadata": {},
     "output_type": "execute_result"
    }
   ],
   "source": [
    "df.query('VehicleAge<0')['VehicleAge'].value_counts()"
   ]
  },
  {
   "cell_type": "markdown",
   "metadata": {},
   "source": [
    "Мы обнаружили, что некоторые авто имеют регистрацию более поздней даты, чем дата создания анкеты. Такого не может быть. Удалим данные анкеты из базы."
   ]
  },
  {
   "cell_type": "code",
   "execution_count": 34,
   "metadata": {},
   "outputs": [],
   "source": [
    "df = df.query('VehicleAge >= 0').reset_index(drop=True)"
   ]
  },
  {
   "cell_type": "markdown",
   "metadata": {},
   "source": [
    "Избавимся от всех ненужных столбцов"
   ]
  },
  {
   "cell_type": "code",
   "execution_count": 35,
   "metadata": {},
   "outputs": [],
   "source": [
    "df = df.drop(columns=['RegistrationYear', 'LastSeen', 'DateCrawled', 'PostalCode', 'DateCreated'])"
   ]
  },
  {
   "cell_type": "code",
   "execution_count": 36,
   "metadata": {},
   "outputs": [
    {
     "name": "stdout",
     "output_type": "stream",
     "text": [
      "<class 'pandas.core.frame.DataFrame'>\n",
      "RangeIndex: 329353 entries, 0 to 329352\n",
      "Data columns (total 10 columns):\n",
      "Price          329353 non-null int64\n",
      "VehicleType    309473 non-null object\n",
      "Gearbox        313819 non-null object\n",
      "Power          329353 non-null int64\n",
      "Model          313803 non-null object\n",
      "Kilometer      329353 non-null int64\n",
      "FuelType       305272 non-null object\n",
      "Brand          329353 non-null object\n",
      "NotRepaired    269648 non-null object\n",
      "VehicleAge     329353 non-null int64\n",
      "dtypes: int64(4), object(6)\n",
      "memory usage: 25.1+ MB\n"
     ]
    }
   ],
   "source": [
    "df.info()"
   ]
  },
  {
   "cell_type": "markdown",
   "metadata": {},
   "source": [
    "### Работа с пропусками"
   ]
  },
  {
   "cell_type": "markdown",
   "metadata": {},
   "source": [
    "Посмотрим на пропуски внимательнее"
   ]
  },
  {
   "cell_type": "code",
   "execution_count": 37,
   "metadata": {
    "scrolled": false
   },
   "outputs": [
    {
     "data": {
      "text/html": [
       "<div>\n",
       "<style scoped>\n",
       "    .dataframe tbody tr th:only-of-type {\n",
       "        vertical-align: middle;\n",
       "    }\n",
       "\n",
       "    .dataframe tbody tr th {\n",
       "        vertical-align: top;\n",
       "    }\n",
       "\n",
       "    .dataframe thead th {\n",
       "        text-align: right;\n",
       "    }\n",
       "</style>\n",
       "<table border=\"1\" class=\"dataframe\">\n",
       "  <thead>\n",
       "    <tr style=\"text-align: right;\">\n",
       "      <th></th>\n",
       "      <th>missing_values</th>\n",
       "      <th>% of total</th>\n",
       "    </tr>\n",
       "  </thead>\n",
       "  <tbody>\n",
       "    <tr>\n",
       "      <td>NotRepaired</td>\n",
       "      <td>59705</td>\n",
       "      <td>18.13</td>\n",
       "    </tr>\n",
       "    <tr>\n",
       "      <td>FuelType</td>\n",
       "      <td>24081</td>\n",
       "      <td>7.31</td>\n",
       "    </tr>\n",
       "    <tr>\n",
       "      <td>VehicleType</td>\n",
       "      <td>19880</td>\n",
       "      <td>6.04</td>\n",
       "    </tr>\n",
       "    <tr>\n",
       "      <td>Model</td>\n",
       "      <td>15550</td>\n",
       "      <td>4.72</td>\n",
       "    </tr>\n",
       "    <tr>\n",
       "      <td>Gearbox</td>\n",
       "      <td>15534</td>\n",
       "      <td>4.72</td>\n",
       "    </tr>\n",
       "    <tr>\n",
       "      <td>Price</td>\n",
       "      <td>0</td>\n",
       "      <td>0.00</td>\n",
       "    </tr>\n",
       "    <tr>\n",
       "      <td>Power</td>\n",
       "      <td>0</td>\n",
       "      <td>0.00</td>\n",
       "    </tr>\n",
       "    <tr>\n",
       "      <td>Kilometer</td>\n",
       "      <td>0</td>\n",
       "      <td>0.00</td>\n",
       "    </tr>\n",
       "    <tr>\n",
       "      <td>Brand</td>\n",
       "      <td>0</td>\n",
       "      <td>0.00</td>\n",
       "    </tr>\n",
       "    <tr>\n",
       "      <td>VehicleAge</td>\n",
       "      <td>0</td>\n",
       "      <td>0.00</td>\n",
       "    </tr>\n",
       "  </tbody>\n",
       "</table>\n",
       "</div>"
      ],
      "text/plain": [
       "             missing_values  % of total\n",
       "NotRepaired           59705       18.13\n",
       "FuelType              24081        7.31\n",
       "VehicleType           19880        6.04\n",
       "Model                 15550        4.72\n",
       "Gearbox               15534        4.72\n",
       "Price                     0        0.00\n",
       "Power                     0        0.00\n",
       "Kilometer                 0        0.00\n",
       "Brand                     0        0.00\n",
       "VehicleAge                0        0.00"
      ]
     },
     "metadata": {},
     "output_type": "display_data"
    }
   ],
   "source": [
    "missing_values_report = df.isna().sum().to_frame() \n",
    "missing_values_report = missing_values_report.rename(columns = {0: 'missing_values'})\n",
    "missing_values_report['% of total'] = (missing_values_report['missing_values'] / df.shape[0]).round(4) * 100\n",
    "missing_values_report.sort_values(by = 'missing_values', ascending = False, inplace=True)\n",
    "display(missing_values_report)"
   ]
  },
  {
   "cell_type": "markdown",
   "metadata": {},
   "source": [
    "Мы видим, что наибольшая доля пропусков в столбце NotRepaired. Рассмотрим данный столбец."
   ]
  },
  {
   "cell_type": "code",
   "execution_count": 38,
   "metadata": {},
   "outputs": [
    {
     "data": {
      "text/plain": [
       "no     0.718794\n",
       "NaN    0.181280\n",
       "yes    0.099926\n",
       "Name: NotRepaired, dtype: float64"
      ]
     },
     "metadata": {},
     "output_type": "display_data"
    }
   ],
   "source": [
    "display(df['NotRepaired'].value_counts(normalize=True, dropna=False))"
   ]
  },
  {
   "cell_type": "markdown",
   "metadata": {},
   "source": [
    "Как мы видим, 10% автомобилей имеют значение yes, что можно интерпретировать как \"Автомобиль не был в ремонте\", и 69,7% автомобилей имеют значение no, что можно интерпретировать как \"Автомобиль был в ремонте\".\n",
    "\n",
    "У нас есть несколько простых стратегий отработки данных пропусков.\n",
    "1. Мы можем просто избавиться от них. Но 18% информации - очень большой массив данных, не хотелось бы от него избавляться.\n",
    "2. Мы можем заполнить все значением \"yes\" или \"no\".\n",
    "3. Сделать прямое кодирование признака (OHE). \n",
    "\n",
    "3-ий вариант кажется наиболее соответствующим реальности. Ведь по сути наличие пропусков означает, что это допускается при вводе данных, и игнорировать это некорректно."
   ]
  },
  {
   "cell_type": "code",
   "execution_count": 39,
   "metadata": {},
   "outputs": [],
   "source": [
    "df = pd.get_dummies(df, dummy_na=True, columns=['NotRepaired'], drop_first=True)"
   ]
  },
  {
   "cell_type": "markdown",
   "metadata": {},
   "source": [
    "Аналогично рассмотрим Gearbox "
   ]
  },
  {
   "cell_type": "code",
   "execution_count": 40,
   "metadata": {},
   "outputs": [
    {
     "data": {
      "text/plain": [
       "manual    0.761730\n",
       "auto      0.191105\n",
       "NaN       0.047165\n",
       "Name: Gearbox, dtype: float64"
      ]
     },
     "metadata": {},
     "output_type": "display_data"
    }
   ],
   "source": [
    "display(df['Gearbox'].value_counts(normalize=True, dropna=False))"
   ]
  },
  {
   "cell_type": "code",
   "execution_count": 41,
   "metadata": {},
   "outputs": [],
   "source": [
    "df = pd.get_dummies(df, dummy_na=True, columns=['Gearbox'], drop_first=True)"
   ]
  },
  {
   "cell_type": "code",
   "execution_count": 42,
   "metadata": {},
   "outputs": [
    {
     "name": "stdout",
     "output_type": "stream",
     "text": [
      "<class 'pandas.core.frame.DataFrame'>\n",
      "RangeIndex: 329353 entries, 0 to 329352\n",
      "Data columns (total 12 columns):\n",
      "Price              329353 non-null int64\n",
      "VehicleType        309473 non-null object\n",
      "Power              329353 non-null int64\n",
      "Model              313803 non-null object\n",
      "Kilometer          329353 non-null int64\n",
      "FuelType           305272 non-null object\n",
      "Brand              329353 non-null object\n",
      "VehicleAge         329353 non-null int64\n",
      "NotRepaired_yes    329353 non-null uint8\n",
      "NotRepaired_nan    329353 non-null uint8\n",
      "Gearbox_manual     329353 non-null uint8\n",
      "Gearbox_nan        329353 non-null uint8\n",
      "dtypes: int64(4), object(4), uint8(4)\n",
      "memory usage: 21.4+ MB\n"
     ]
    }
   ],
   "source": [
    "df.info()"
   ]
  },
  {
   "cell_type": "markdown",
   "metadata": {},
   "source": [
    "Рассмотрим VehicleType, Model и FuelType"
   ]
  },
  {
   "cell_type": "code",
   "execution_count": 43,
   "metadata": {
    "scrolled": true
   },
   "outputs": [
    {
     "data": {
      "text/plain": [
       "sedan          0.271138\n",
       "small          0.236661\n",
       "wagon          0.193209\n",
       "bus            0.085975\n",
       "NaN            0.060361\n",
       "convertible    0.060242\n",
       "coupe          0.047402\n",
       "suv            0.035728\n",
       "other          0.009285\n",
       "Name: VehicleType, dtype: float64"
      ]
     },
     "metadata": {},
     "output_type": "display_data"
    }
   ],
   "source": [
    "display(df['VehicleType'].value_counts(normalize=True, dropna=False))"
   ]
  },
  {
   "cell_type": "code",
   "execution_count": 44,
   "metadata": {},
   "outputs": [
    {
     "data": {
      "text/plain": [
       "golf                  0.081123\n",
       "other                 0.070186\n",
       "3er                   0.056641\n",
       "NaN                   0.047214\n",
       "polo                  0.036496\n",
       "                        ...   \n",
       "kalina                0.000018\n",
       "serie_3               0.000009\n",
       "rangerover            0.000009\n",
       "range_rover_evoque    0.000006\n",
       "serie_1               0.000003\n",
       "Name: Model, Length: 251, dtype: float64"
      ]
     },
     "metadata": {},
     "output_type": "display_data"
    }
   ],
   "source": [
    "display(df['Model'].value_counts(normalize=True, dropna=False))"
   ]
  },
  {
   "cell_type": "code",
   "execution_count": 45,
   "metadata": {},
   "outputs": [
    {
     "data": {
      "text/plain": [
       "petrol      0.620848\n",
       "gasoline    0.287761\n",
       "NaN         0.073116\n",
       "lpg         0.015242\n",
       "cng         0.001612\n",
       "hybrid      0.000668\n",
       "other       0.000489\n",
       "electric    0.000264\n",
       "Name: FuelType, dtype: float64"
      ]
     },
     "metadata": {},
     "output_type": "display_data"
    }
   ],
   "source": [
    "display(df['FuelType'].value_counts(normalize=True, dropna=False))"
   ]
  },
  {
   "cell_type": "markdown",
   "metadata": {},
   "source": [
    "В данных столбцах мы видим достаточно большое количество значений признаков. Сделаем для них порядковое кодирование."
   ]
  },
  {
   "cell_type": "code",
   "execution_count": 46,
   "metadata": {},
   "outputs": [],
   "source": [
    "enc = LabelEncoder()\n",
    "mask = ['VehicleType', 'Model', 'FuelType', 'Brand']\n",
    "df.loc[:, mask] = df.loc[:, mask].astype(str).apply(enc.fit_transform)"
   ]
  },
  {
   "cell_type": "code",
   "execution_count": 47,
   "metadata": {},
   "outputs": [
    {
     "name": "stdout",
     "output_type": "stream",
     "text": [
      "<class 'pandas.core.frame.DataFrame'>\n",
      "RangeIndex: 329353 entries, 0 to 329352\n",
      "Data columns (total 12 columns):\n",
      "Price              329353 non-null int64\n",
      "VehicleType        329353 non-null int64\n",
      "Power              329353 non-null int64\n",
      "Model              329353 non-null int64\n",
      "Kilometer          329353 non-null int64\n",
      "FuelType           329353 non-null int64\n",
      "Brand              329353 non-null int64\n",
      "VehicleAge         329353 non-null int64\n",
      "NotRepaired_yes    329353 non-null uint8\n",
      "NotRepaired_nan    329353 non-null uint8\n",
      "Gearbox_manual     329353 non-null uint8\n",
      "Gearbox_nan        329353 non-null uint8\n",
      "dtypes: int64(8), uint8(4)\n",
      "memory usage: 21.4 MB\n"
     ]
    }
   ],
   "source": [
    "df.info()"
   ]
  },
  {
   "cell_type": "code",
   "execution_count": 48,
   "metadata": {
    "scrolled": true
   },
   "outputs": [
    {
     "data": {
      "text/html": [
       "<div>\n",
       "<style scoped>\n",
       "    .dataframe tbody tr th:only-of-type {\n",
       "        vertical-align: middle;\n",
       "    }\n",
       "\n",
       "    .dataframe tbody tr th {\n",
       "        vertical-align: top;\n",
       "    }\n",
       "\n",
       "    .dataframe thead th {\n",
       "        text-align: right;\n",
       "    }\n",
       "</style>\n",
       "<table border=\"1\" class=\"dataframe\">\n",
       "  <thead>\n",
       "    <tr style=\"text-align: right;\">\n",
       "      <th></th>\n",
       "      <th>Price</th>\n",
       "      <th>VehicleType</th>\n",
       "      <th>Power</th>\n",
       "      <th>Model</th>\n",
       "      <th>Kilometer</th>\n",
       "      <th>FuelType</th>\n",
       "      <th>Brand</th>\n",
       "      <th>VehicleAge</th>\n",
       "      <th>NotRepaired_yes</th>\n",
       "      <th>NotRepaired_nan</th>\n",
       "      <th>Gearbox_manual</th>\n",
       "      <th>Gearbox_nan</th>\n",
       "    </tr>\n",
       "  </thead>\n",
       "  <tbody>\n",
       "    <tr>\n",
       "      <td>0</td>\n",
       "      <td>480</td>\n",
       "      <td>3</td>\n",
       "      <td>0</td>\n",
       "      <td>116</td>\n",
       "      <td>150000</td>\n",
       "      <td>7</td>\n",
       "      <td>38</td>\n",
       "      <td>23</td>\n",
       "      <td>0</td>\n",
       "      <td>1</td>\n",
       "      <td>1</td>\n",
       "      <td>0</td>\n",
       "    </tr>\n",
       "    <tr>\n",
       "      <td>1</td>\n",
       "      <td>18300</td>\n",
       "      <td>2</td>\n",
       "      <td>190</td>\n",
       "      <td>159</td>\n",
       "      <td>125000</td>\n",
       "      <td>2</td>\n",
       "      <td>1</td>\n",
       "      <td>5</td>\n",
       "      <td>1</td>\n",
       "      <td>0</td>\n",
       "      <td>1</td>\n",
       "      <td>0</td>\n",
       "    </tr>\n",
       "    <tr>\n",
       "      <td>2</td>\n",
       "      <td>9800</td>\n",
       "      <td>7</td>\n",
       "      <td>163</td>\n",
       "      <td>117</td>\n",
       "      <td>125000</td>\n",
       "      <td>2</td>\n",
       "      <td>14</td>\n",
       "      <td>12</td>\n",
       "      <td>0</td>\n",
       "      <td>1</td>\n",
       "      <td>0</td>\n",
       "      <td>0</td>\n",
       "    </tr>\n",
       "    <tr>\n",
       "      <td>3</td>\n",
       "      <td>1500</td>\n",
       "      <td>6</td>\n",
       "      <td>75</td>\n",
       "      <td>116</td>\n",
       "      <td>150000</td>\n",
       "      <td>7</td>\n",
       "      <td>38</td>\n",
       "      <td>15</td>\n",
       "      <td>0</td>\n",
       "      <td>0</td>\n",
       "      <td>1</td>\n",
       "      <td>0</td>\n",
       "    </tr>\n",
       "    <tr>\n",
       "      <td>4</td>\n",
       "      <td>3600</td>\n",
       "      <td>6</td>\n",
       "      <td>69</td>\n",
       "      <td>101</td>\n",
       "      <td>90000</td>\n",
       "      <td>2</td>\n",
       "      <td>31</td>\n",
       "      <td>8</td>\n",
       "      <td>0</td>\n",
       "      <td>0</td>\n",
       "      <td>1</td>\n",
       "      <td>0</td>\n",
       "    </tr>\n",
       "  </tbody>\n",
       "</table>\n",
       "</div>"
      ],
      "text/plain": [
       "   Price  VehicleType  Power  Model  Kilometer  FuelType  Brand  VehicleAge  \\\n",
       "0    480            3      0    116     150000         7     38          23   \n",
       "1  18300            2    190    159     125000         2      1           5   \n",
       "2   9800            7    163    117     125000         2     14          12   \n",
       "3   1500            6     75    116     150000         7     38          15   \n",
       "4   3600            6     69    101      90000         2     31           8   \n",
       "\n",
       "   NotRepaired_yes  NotRepaired_nan  Gearbox_manual  Gearbox_nan  \n",
       "0                0                1               1            0  \n",
       "1                1                0               1            0  \n",
       "2                0                1               0            0  \n",
       "3                0                0               1            0  \n",
       "4                0                0               1            0  "
      ]
     },
     "execution_count": 48,
     "metadata": {},
     "output_type": "execute_result"
    }
   ],
   "source": [
    "df.head()"
   ]
  },
  {
   "cell_type": "code",
   "execution_count": 49,
   "metadata": {},
   "outputs": [
    {
     "data": {
      "text/html": [
       "<div>\n",
       "<style scoped>\n",
       "    .dataframe tbody tr th:only-of-type {\n",
       "        vertical-align: middle;\n",
       "    }\n",
       "\n",
       "    .dataframe tbody tr th {\n",
       "        vertical-align: top;\n",
       "    }\n",
       "\n",
       "    .dataframe thead th {\n",
       "        text-align: right;\n",
       "    }\n",
       "</style>\n",
       "<table border=\"1\" class=\"dataframe\">\n",
       "  <thead>\n",
       "    <tr style=\"text-align: right;\">\n",
       "      <th></th>\n",
       "      <th>Price</th>\n",
       "      <th>VehicleType</th>\n",
       "      <th>Power</th>\n",
       "      <th>Model</th>\n",
       "      <th>Kilometer</th>\n",
       "      <th>FuelType</th>\n",
       "      <th>Brand</th>\n",
       "      <th>VehicleAge</th>\n",
       "      <th>NotRepaired_yes</th>\n",
       "      <th>NotRepaired_nan</th>\n",
       "      <th>Gearbox_manual</th>\n",
       "      <th>Gearbox_nan</th>\n",
       "    </tr>\n",
       "  </thead>\n",
       "  <tbody>\n",
       "    <tr>\n",
       "      <td>Price</td>\n",
       "      <td>1.0</td>\n",
       "      <td>-0.071615</td>\n",
       "      <td>0.487078</td>\n",
       "      <td>-0.032206</td>\n",
       "      <td>-0.354364</td>\n",
       "      <td>-0.268948</td>\n",
       "      <td>-0.10667</td>\n",
       "      <td>-0.450443</td>\n",
       "      <td>-0.188548</td>\n",
       "      <td>-0.184889</td>\n",
       "      <td>-0.190432</td>\n",
       "      <td>-0.101788</td>\n",
       "    </tr>\n",
       "  </tbody>\n",
       "</table>\n",
       "</div>"
      ],
      "text/plain": [
       "       Price  VehicleType     Power     Model  Kilometer  FuelType    Brand  \\\n",
       "Price    1.0    -0.071615  0.487078 -0.032206  -0.354364 -0.268948 -0.10667   \n",
       "\n",
       "       VehicleAge  NotRepaired_yes  NotRepaired_nan  Gearbox_manual  \\\n",
       "Price   -0.450443        -0.188548        -0.184889       -0.190432   \n",
       "\n",
       "       Gearbox_nan  \n",
       "Price    -0.101788  "
      ]
     },
     "execution_count": 49,
     "metadata": {},
     "output_type": "execute_result"
    }
   ],
   "source": [
    "df.corr().head(1)"
   ]
  },
  {
   "cell_type": "markdown",
   "metadata": {},
   "source": [
    "Можно заметить, что наибольшая корреляция у цены проявляется с мощностью, пробегом,  возрастом авто."
   ]
  },
  {
   "cell_type": "markdown",
   "metadata": {},
   "source": [
    "## Обучение моделей"
   ]
  },
  {
   "cell_type": "code",
   "execution_count": 50,
   "metadata": {},
   "outputs": [],
   "source": [
    "features = df.drop(columns=\"Price\")\n",
    "target = df['Price']"
   ]
  },
  {
   "cell_type": "markdown",
   "metadata": {},
   "source": [
    "Разобьем исходные данные в соотношении 3:1:1."
   ]
  },
  {
   "cell_type": "code",
   "execution_count": 51,
   "metadata": {},
   "outputs": [],
   "source": [
    "features_general, features_test, target_general, target_test = train_test_split(\n",
    "    features, target, test_size=0.2, random_state=42)\n",
    "features_train, features_valid, target_train, target_valid = train_test_split(\n",
    "    features_general, target_general, test_size=0.25, random_state=42)"
   ]
  },
  {
   "cell_type": "code",
   "execution_count": 52,
   "metadata": {
    "scrolled": true
   },
   "outputs": [
    {
     "data": {
      "text/html": [
       "<div>\n",
       "<style scoped>\n",
       "    .dataframe tbody tr th:only-of-type {\n",
       "        vertical-align: middle;\n",
       "    }\n",
       "\n",
       "    .dataframe tbody tr th {\n",
       "        vertical-align: top;\n",
       "    }\n",
       "\n",
       "    .dataframe thead th {\n",
       "        text-align: right;\n",
       "    }\n",
       "</style>\n",
       "<table border=\"1\" class=\"dataframe\">\n",
       "  <thead>\n",
       "    <tr style=\"text-align: right;\">\n",
       "      <th></th>\n",
       "      <th>features_general</th>\n",
       "      <th>features_test</th>\n",
       "      <th>target_general</th>\n",
       "      <th>target_test</th>\n",
       "      <th>features_train</th>\n",
       "      <th>features_valid</th>\n",
       "      <th>target_train</th>\n",
       "      <th>target_valid</th>\n",
       "    </tr>\n",
       "  </thead>\n",
       "  <tbody>\n",
       "    <tr>\n",
       "      <td>table_size</td>\n",
       "      <td>263482</td>\n",
       "      <td>65871</td>\n",
       "      <td>263482</td>\n",
       "      <td>65871</td>\n",
       "      <td>197611</td>\n",
       "      <td>65871</td>\n",
       "      <td>197611</td>\n",
       "      <td>65871</td>\n",
       "    </tr>\n",
       "    <tr>\n",
       "      <td>% of origin_table</td>\n",
       "      <td>80</td>\n",
       "      <td>20</td>\n",
       "      <td>80</td>\n",
       "      <td>20</td>\n",
       "      <td>60</td>\n",
       "      <td>20</td>\n",
       "      <td>60</td>\n",
       "      <td>20</td>\n",
       "    </tr>\n",
       "  </tbody>\n",
       "</table>\n",
       "</div>"
      ],
      "text/plain": [
       "                   features_general  features_test  target_general  \\\n",
       "table_size                   263482          65871          263482   \n",
       "% of origin_table                80             20              80   \n",
       "\n",
       "                   target_test  features_train  features_valid  target_train  \\\n",
       "table_size               65871          197611           65871        197611   \n",
       "% of origin_table           20              60              20            60   \n",
       "\n",
       "                   target_valid  \n",
       "table_size                65871  \n",
       "% of origin_table            20  "
      ]
     },
     "metadata": {},
     "output_type": "display_data"
    }
   ],
   "source": [
    "list_for_check = [features_general, \n",
    "                  features_test, \n",
    "                  target_general, \n",
    "                  target_test, \n",
    "                  features_train, \n",
    "                  features_valid, \n",
    "                  target_train, \n",
    "                  target_valid]\n",
    "\n",
    "columns_for_list = ['features_general', \n",
    "                    'features_test', \n",
    "                    'target_general', \n",
    "                    'target_test', \n",
    "                    'features_train', \n",
    "                    'features_valid', \n",
    "                    'target_train', \n",
    "                    'target_valid']\n",
    "\n",
    "size_table = pd.DataFrame(data = [map(lambda x: round(x.shape[0]), list_for_check), \n",
    "                                  map(lambda x: round(x.shape[0]/features.shape[0]*100), list_for_check)], \n",
    "                          columns = columns_for_list,\n",
    "                          index = ['table_size', '% of origin_table'])\n",
    "\n",
    "\n",
    "display(size_table)"
   ]
  },
  {
   "cell_type": "markdown",
   "metadata": {},
   "source": [
    "Также сделаем масштабирование признаков для количественных переменных"
   ]
  },
  {
   "cell_type": "code",
   "execution_count": 53,
   "metadata": {},
   "outputs": [],
   "source": [
    "numeric = ['Power', 'Kilometer', 'VehicleAge']\n",
    "\n",
    "scaler = StandardScaler()\n",
    "scaler.fit(features_general[numeric])\n",
    "\n",
    "features_train[numeric] = scaler.transform(features_train[numeric])\n",
    "features_general[numeric] = scaler.transform(features_general[numeric])\n",
    "features_valid[numeric] = scaler.transform(features_valid[numeric]) \n",
    "features_test[numeric] = scaler.transform(features_test[numeric]) "
   ]
  },
  {
   "cell_type": "markdown",
   "metadata": {},
   "source": [
    "### Линейная регрессия"
   ]
  },
  {
   "cell_type": "code",
   "execution_count": 54,
   "metadata": {
    "scrolled": true
   },
   "outputs": [
    {
     "name": "stdout",
     "output_type": "stream",
     "text": [
      "CPU times: user 67.1 ms, sys: 32.7 ms, total: 99.7 ms\n",
      "Wall time: 72.3 ms\n"
     ]
    },
    {
     "data": {
      "text/plain": [
       "LinearRegression(copy_X=True, fit_intercept=True, n_jobs=None, normalize=False)"
      ]
     },
     "execution_count": 54,
     "metadata": {},
     "output_type": "execute_result"
    }
   ],
   "source": [
    "%%time\n",
    "lin_model = LinearRegression()\n",
    "lin_model.fit(features_general, target_general)"
   ]
  },
  {
   "cell_type": "code",
   "execution_count": 68,
   "metadata": {},
   "outputs": [],
   "source": [
    "LIN_MODEL_WALLTIME_LEARN = 72.3/1000"
   ]
  },
  {
   "cell_type": "code",
   "execution_count": 55,
   "metadata": {},
   "outputs": [
    {
     "name": "stdout",
     "output_type": "stream",
     "text": [
      "RMSE предсказанных значений =  3097.110058219041\n",
      "CPU times: user 47.1 ms, sys: 53.9 ms, total: 101 ms\n",
      "Wall time: 83.7 ms\n"
     ]
    }
   ],
   "source": [
    "%%time\n",
    "lin_model_predictions = lin_model.predict(features_test)\n",
    "lin_model_rmse_value = mean_squared_error(target_test, lin_model_predictions) ** 0.5\n",
    "print('RMSE предсказанных значений = ', lin_model_rmse_value)"
   ]
  },
  {
   "cell_type": "code",
   "execution_count": 69,
   "metadata": {},
   "outputs": [],
   "source": [
    "LIN_MODEL_WALLTIME_PREDICT = 83.7/1000"
   ]
  },
  {
   "cell_type": "markdown",
   "metadata": {},
   "source": [
    "### Случайный лес"
   ]
  },
  {
   "cell_type": "code",
   "execution_count": 56,
   "metadata": {},
   "outputs": [],
   "source": [
    "scorer = make_scorer(mean_squared_error)"
   ]
  },
  {
   "cell_type": "code",
   "execution_count": 59,
   "metadata": {},
   "outputs": [
    {
     "name": "stdout",
     "output_type": "stream",
     "text": [
      "{'max_depth': 2, 'n_estimators': 185}\n",
      "CPU times: user 40min 16s, sys: 867 ms, total: 40min 17s\n",
      "Wall time: 40min 35s\n"
     ]
    }
   ],
   "source": [
    "%%time\n",
    "RandomForest_params_model = RandomForestRegressor(random_state=42)\n",
    "parametrs = { 'n_estimators': range (50, 201, 15),\n",
    "              'max_depth': range (2, 8, 2)}\n",
    "grid = GridSearchCV(RandomForest_params_model, parametrs, cv=5, scoring=scorer)\n",
    "grid.fit(features_general, target_general)\n",
    "print(grid.best_params_)"
   ]
  },
  {
   "cell_type": "code",
   "execution_count": 60,
   "metadata": {},
   "outputs": [
    {
     "name": "stdout",
     "output_type": "stream",
     "text": [
      "CPU times: user 15.1 s, sys: 3 µs, total: 15.1 s\n",
      "Wall time: 15.2 s\n"
     ]
    },
    {
     "data": {
      "text/plain": [
       "RandomForestRegressor(bootstrap=True, criterion='mse', max_depth=2,\n",
       "                      max_features='auto', max_leaf_nodes=None,\n",
       "                      min_impurity_decrease=0.0, min_impurity_split=None,\n",
       "                      min_samples_leaf=1, min_samples_split=2,\n",
       "                      min_weight_fraction_leaf=0.0, n_estimators=185,\n",
       "                      n_jobs=None, oob_score=False, random_state=42, verbose=0,\n",
       "                      warm_start=False)"
      ]
     },
     "execution_count": 60,
     "metadata": {},
     "output_type": "execute_result"
    }
   ],
   "source": [
    "%%time\n",
    "RandomForest_model = RandomForestRegressor(random_state=42, max_depth=2, n_estimators=185)\n",
    "RandomForest_model.fit(features_general, target_general)"
   ]
  },
  {
   "cell_type": "code",
   "execution_count": 70,
   "metadata": {},
   "outputs": [],
   "source": [
    "RANDOM_FOREST_WALLTIME_LEARN = 15.2"
   ]
  },
  {
   "cell_type": "code",
   "execution_count": 61,
   "metadata": {
    "scrolled": true
   },
   "outputs": [
    {
     "name": "stdout",
     "output_type": "stream",
     "text": [
      "RMSE предсказанных значений =  3181.8618057382673\n",
      "CPU times: user 220 ms, sys: 3 µs, total: 220 ms\n",
      "Wall time: 222 ms\n"
     ]
    }
   ],
   "source": [
    "%%time\n",
    "RandomForest_predictions = RandomForest_model.predict(features_test)\n",
    "RandomForest_rmse_value = mean_squared_error(target_test, RandomForest_predictions) ** 0.5\n",
    "print('RMSE предсказанных значений = ', RandomForest_rmse_value)"
   ]
  },
  {
   "cell_type": "code",
   "execution_count": 71,
   "metadata": {},
   "outputs": [],
   "source": [
    "RANDOM_FOREST_WALLTIME_PREDICT = 222/1000"
   ]
  },
  {
   "cell_type": "markdown",
   "metadata": {},
   "source": [
    "Удивительно, но линейная регрессия справилась куда лучше, а главное намного быстрее."
   ]
  },
  {
   "cell_type": "markdown",
   "metadata": {},
   "source": [
    "### LightGBM"
   ]
  },
  {
   "cell_type": "code",
   "execution_count": 62,
   "metadata": {},
   "outputs": [
    {
     "name": "stderr",
     "output_type": "stream",
     "text": [
      "/opt/conda/lib/python3.7/site-packages/lightgbm/basic.py:1291: UserWarning: Using categorical_feature in Dataset.\n",
      "  warnings.warn('Using categorical_feature in Dataset.')\n",
      "/opt/conda/lib/python3.7/site-packages/lightgbm/basic.py:1295: UserWarning: categorical_feature in Dataset is overridden.\n",
      "New categorical_feature is ['Brand', 'FuelType', 'Gearbox_manual', 'Gearbox_nan', 'Model', 'NotRepaired_nan', 'NotRepaired_yes', 'VehicleType']\n",
      "  'New categorical_feature is {}'.format(sorted(list(categorical_feature))))\n"
     ]
    },
    {
     "name": "stdout",
     "output_type": "stream",
     "text": [
      "[1]\tvalid_0's rmse: 4387.5\n",
      "[2]\tvalid_0's rmse: 4285.4\n",
      "[3]\tvalid_0's rmse: 4191.12\n",
      "[4]\tvalid_0's rmse: 4053.49\n",
      "[5]\tvalid_0's rmse: 3921.45\n",
      "[6]\tvalid_0's rmse: 3841.25\n",
      "[7]\tvalid_0's rmse: 3787.04\n",
      "[8]\tvalid_0's rmse: 3672.29\n",
      "[9]\tvalid_0's rmse: 3576.76\n",
      "[10]\tvalid_0's rmse: 3487.46\n",
      "[11]\tvalid_0's rmse: 3405.09\n",
      "[12]\tvalid_0's rmse: 3345.63\n",
      "[13]\tvalid_0's rmse: 3245.92\n",
      "[14]\tvalid_0's rmse: 3177.48\n",
      "[15]\tvalid_0's rmse: 3134.63\n",
      "[16]\tvalid_0's rmse: 3072.51\n",
      "[17]\tvalid_0's rmse: 2990.14\n",
      "[18]\tvalid_0's rmse: 2935.56\n",
      "[19]\tvalid_0's rmse: 2860.35\n",
      "[20]\tvalid_0's rmse: 2790.4\n",
      "[21]\tvalid_0's rmse: 2745.29\n",
      "[22]\tvalid_0's rmse: 2682.78\n",
      "[23]\tvalid_0's rmse: 2643.21\n",
      "[24]\tvalid_0's rmse: 2586.3\n",
      "[25]\tvalid_0's rmse: 2568.03\n",
      "[26]\tvalid_0's rmse: 2514.47\n",
      "[27]\tvalid_0's rmse: 2481.74\n",
      "[28]\tvalid_0's rmse: 2434.52\n",
      "[29]\tvalid_0's rmse: 2411.03\n",
      "[30]\tvalid_0's rmse: 2369.01\n",
      "[31]\tvalid_0's rmse: 2328.23\n",
      "[32]\tvalid_0's rmse: 2291.19\n",
      "[33]\tvalid_0's rmse: 2256.08\n",
      "[34]\tvalid_0's rmse: 2224.38\n",
      "[35]\tvalid_0's rmse: 2194.7\n",
      "[36]\tvalid_0's rmse: 2175.97\n",
      "[37]\tvalid_0's rmse: 2149.48\n",
      "[38]\tvalid_0's rmse: 2132.89\n",
      "[39]\tvalid_0's rmse: 2122.25\n",
      "[40]\tvalid_0's rmse: 2106.93\n",
      "[41]\tvalid_0's rmse: 2094.92\n",
      "[42]\tvalid_0's rmse: 2073.94\n",
      "[43]\tvalid_0's rmse: 2053.87\n",
      "[44]\tvalid_0's rmse: 2036.93\n",
      "[45]\tvalid_0's rmse: 2019.71\n",
      "[46]\tvalid_0's rmse: 2012.18\n",
      "[47]\tvalid_0's rmse: 1996.87\n",
      "[48]\tvalid_0's rmse: 1981.74\n",
      "[49]\tvalid_0's rmse: 1973.17\n",
      "[50]\tvalid_0's rmse: 1959.77\n",
      "[51]\tvalid_0's rmse: 1946.48\n",
      "[52]\tvalid_0's rmse: 1936.58\n",
      "[53]\tvalid_0's rmse: 1931.03\n",
      "[54]\tvalid_0's rmse: 1920.73\n",
      "[55]\tvalid_0's rmse: 1911.74\n",
      "[56]\tvalid_0's rmse: 1905.5\n",
      "[57]\tvalid_0's rmse: 1897.86\n",
      "[58]\tvalid_0's rmse: 1889.2\n",
      "[59]\tvalid_0's rmse: 1881.44\n",
      "[60]\tvalid_0's rmse: 1878.27\n",
      "[61]\tvalid_0's rmse: 1874.31\n",
      "[62]\tvalid_0's rmse: 1868.76\n",
      "[63]\tvalid_0's rmse: 1864.42\n",
      "[64]\tvalid_0's rmse: 1860.78\n",
      "[65]\tvalid_0's rmse: 1853.98\n",
      "[66]\tvalid_0's rmse: 1847.41\n",
      "[67]\tvalid_0's rmse: 1841.86\n",
      "[68]\tvalid_0's rmse: 1838.45\n",
      "[69]\tvalid_0's rmse: 1835.73\n",
      "[70]\tvalid_0's rmse: 1832.33\n",
      "[71]\tvalid_0's rmse: 1826.95\n",
      "[72]\tvalid_0's rmse: 1821.55\n",
      "[73]\tvalid_0's rmse: 1818.99\n",
      "[74]\tvalid_0's rmse: 1814.33\n",
      "[75]\tvalid_0's rmse: 1811.71\n",
      "[76]\tvalid_0's rmse: 1809.4\n",
      "[77]\tvalid_0's rmse: 1807.15\n",
      "[78]\tvalid_0's rmse: 1805.44\n",
      "[79]\tvalid_0's rmse: 1801.19\n",
      "[80]\tvalid_0's rmse: 1797.53\n",
      "[81]\tvalid_0's rmse: 1796.09\n",
      "[82]\tvalid_0's rmse: 1792.26\n",
      "[83]\tvalid_0's rmse: 1788.77\n",
      "[84]\tvalid_0's rmse: 1786.88\n",
      "[85]\tvalid_0's rmse: 1785.44\n",
      "[86]\tvalid_0's rmse: 1782.24\n",
      "[87]\tvalid_0's rmse: 1778.86\n",
      "[88]\tvalid_0's rmse: 1777.37\n",
      "[89]\tvalid_0's rmse: 1774.93\n",
      "[90]\tvalid_0's rmse: 1772.63\n",
      "[91]\tvalid_0's rmse: 1769.96\n",
      "[92]\tvalid_0's rmse: 1768.39\n",
      "[93]\tvalid_0's rmse: 1765.55\n",
      "[94]\tvalid_0's rmse: 1763.13\n",
      "[95]\tvalid_0's rmse: 1761.3\n",
      "[96]\tvalid_0's rmse: 1759.38\n",
      "[97]\tvalid_0's rmse: 1757.11\n",
      "[98]\tvalid_0's rmse: 1755.59\n",
      "[99]\tvalid_0's rmse: 1754.1\n",
      "[100]\tvalid_0's rmse: 1752.35\n",
      "CPU times: user 6.74 s, sys: 52 ms, total: 6.79 s\n",
      "Wall time: 6.94 s\n"
     ]
    }
   ],
   "source": [
    "%%time\n",
    "categorical_features = ['VehicleType', \n",
    "                        'Model', \n",
    "                        'FuelType', \n",
    "                        'Brand', \n",
    "                        'NotRepaired_yes', \n",
    "                        'NotRepaired_nan', \n",
    "                        'Gearbox_manual', \n",
    "                        'Gearbox_nan']\n",
    "\n",
    "train_data = lightgbm.Dataset(features_train, label=target_train, categorical_feature=categorical_features)\n",
    "test_data = lightgbm.Dataset(features_valid, label=target_valid)\n",
    "\n",
    "parameters = {\n",
    "    'metric': 'rmse',\n",
    "    'is_unbalance': 'true',\n",
    "    'boosting': 'gbdt',\n",
    "    'num_leaves': 31,\n",
    "    'feature_fraction': 0.5,\n",
    "    'bagging_fraction': 0.5,\n",
    "    'bagging_freq': 20,\n",
    "    'learning_rate': 0.05,\n",
    "}\n",
    "\n",
    "LightGBM_model = lightgbm.train(parameters, train_set=train_data, valid_sets=test_data, num_boost_round=100)"
   ]
  },
  {
   "cell_type": "code",
   "execution_count": 72,
   "metadata": {},
   "outputs": [],
   "source": [
    "LIGHTGBM_WALLTIME_LEARN = 6.94"
   ]
  },
  {
   "cell_type": "code",
   "execution_count": 64,
   "metadata": {
    "scrolled": true
   },
   "outputs": [
    {
     "name": "stdout",
     "output_type": "stream",
     "text": [
      "RMSE предсказанных значений =  1748.0644099246995\n",
      "CPU times: user 653 ms, sys: 6 µs, total: 653 ms\n",
      "Wall time: 570 ms\n"
     ]
    }
   ],
   "source": [
    "%%time\n",
    "LightGBM_predictions = LightGBM_model.predict(features_test)\n",
    "LightGBM_rmse_value = mean_squared_error(target_test, LightGBM_predictions) ** 0.5\n",
    "print('RMSE предсказанных значений = ', LightGBM_rmse_value)"
   ]
  },
  {
   "cell_type": "code",
   "execution_count": 73,
   "metadata": {},
   "outputs": [],
   "source": [
    "LIGHTGBM_WALLTIME_PREDICT = 570/1000"
   ]
  },
  {
   "cell_type": "markdown",
   "metadata": {},
   "source": [
    "## Анализ моделей"
   ]
  },
  {
   "cell_type": "code",
   "execution_count": 75,
   "metadata": {},
   "outputs": [
    {
     "data": {
      "text/html": [
       "<div>\n",
       "<style scoped>\n",
       "    .dataframe tbody tr th:only-of-type {\n",
       "        vertical-align: middle;\n",
       "    }\n",
       "\n",
       "    .dataframe tbody tr th {\n",
       "        vertical-align: top;\n",
       "    }\n",
       "\n",
       "    .dataframe thead th {\n",
       "        text-align: right;\n",
       "    }\n",
       "</style>\n",
       "<table border=\"1\" class=\"dataframe\">\n",
       "  <thead>\n",
       "    <tr style=\"text-align: right;\">\n",
       "      <th></th>\n",
       "      <th>Model</th>\n",
       "      <th>Time_to_learn</th>\n",
       "      <th>Time_to_predict</th>\n",
       "      <th>RMSE</th>\n",
       "    </tr>\n",
       "  </thead>\n",
       "  <tbody>\n",
       "    <tr>\n",
       "      <td>0</td>\n",
       "      <td>LIN_MODEL</td>\n",
       "      <td>0.0723</td>\n",
       "      <td>0.0837</td>\n",
       "      <td>3097.110058</td>\n",
       "    </tr>\n",
       "    <tr>\n",
       "      <td>1</td>\n",
       "      <td>RANDOM_FOREST</td>\n",
       "      <td>15.2000</td>\n",
       "      <td>0.2220</td>\n",
       "      <td>3181.861806</td>\n",
       "    </tr>\n",
       "    <tr>\n",
       "      <td>2</td>\n",
       "      <td>LIGHTGBM</td>\n",
       "      <td>6.9400</td>\n",
       "      <td>0.5700</td>\n",
       "      <td>1748.064410</td>\n",
       "    </tr>\n",
       "  </tbody>\n",
       "</table>\n",
       "</div>"
      ],
      "text/plain": [
       "           Model  Time_to_learn  Time_to_predict         RMSE\n",
       "0      LIN_MODEL         0.0723           0.0837  3097.110058\n",
       "1  RANDOM_FOREST        15.2000           0.2220  3181.861806\n",
       "2       LIGHTGBM         6.9400           0.5700  1748.064410"
      ]
     },
     "metadata": {},
     "output_type": "display_data"
    }
   ],
   "source": [
    "comparison = pd.DataFrame(data=[['LIN_MODEL', LIN_MODEL_WALLTIME_LEARN, LIN_MODEL_WALLTIME_PREDICT, lin_model_rmse_value],\n",
    "                   ['RANDOM_FOREST', RANDOM_FOREST_WALLTIME_LEARN, RANDOM_FOREST_WALLTIME_PREDICT, RandomForest_rmse_value],\n",
    "                   ['LIGHTGBM', LIGHTGBM_WALLTIME_LEARN, LIGHTGBM_WALLTIME_PREDICT, LightGBM_rmse_value]],\n",
    "                   columns=['Model','Time_to_learn', 'Time_to_predict', 'RMSE'])\n",
    "\n",
    "display(comparison)"
   ]
  },
  {
   "cell_type": "markdown",
   "metadata": {},
   "source": [
    "Вывод: У LightGBM корость обучения выше, чем у случайного леса, но ниже, чем у ленейной регрессии. LightGBM медленнее всего делает предсказания, что, однако, в абсолютных числах не имеет большого значения.\n",
    "В целом, с учетом RMSE LightGBM показала наилучший результат."
   ]
  }
 ],
 "metadata": {
  "ExecuteTimeLog": [
   {
    "duration": 215,
    "start_time": "2021-11-08T15:25:34.213Z"
   },
   {
    "duration": 508,
    "start_time": "2021-11-08T15:25:37.041Z"
   },
   {
    "duration": 862,
    "start_time": "2021-11-08T15:25:39.340Z"
   },
   {
    "duration": 13,
    "start_time": "2021-11-08T15:25:49.916Z"
   },
   {
    "duration": 19,
    "start_time": "2021-11-08T15:26:01.305Z"
   },
   {
    "duration": 94,
    "start_time": "2021-11-08T15:27:13.146Z"
   },
   {
    "duration": 119,
    "start_time": "2021-11-08T15:27:43.990Z"
   },
   {
    "duration": 574,
    "start_time": "2021-11-08T15:55:10.187Z"
   },
   {
    "duration": 745,
    "start_time": "2021-11-08T15:55:10.763Z"
   },
   {
    "duration": 115,
    "start_time": "2021-11-08T15:55:11.510Z"
   },
   {
    "duration": 24,
    "start_time": "2021-11-08T15:55:11.627Z"
   },
   {
    "duration": 104,
    "start_time": "2021-11-08T15:55:11.653Z"
   },
   {
    "duration": 739,
    "start_time": "2021-11-08T18:56:46.224Z"
   },
   {
    "duration": 835,
    "start_time": "2021-11-08T18:56:46.965Z"
   },
   {
    "duration": 128,
    "start_time": "2021-11-08T18:56:47.802Z"
   },
   {
    "duration": 32,
    "start_time": "2021-11-08T18:56:47.933Z"
   },
   {
    "duration": 124,
    "start_time": "2021-11-08T18:56:47.967Z"
   },
   {
    "duration": 442,
    "start_time": "2021-11-08T18:59:07.797Z"
   },
   {
    "duration": 585,
    "start_time": "2021-11-08T19:00:19.478Z"
   },
   {
    "duration": 799,
    "start_time": "2021-11-08T19:00:20.065Z"
   },
   {
    "duration": 118,
    "start_time": "2021-11-08T19:00:20.866Z"
   },
   {
    "duration": 18,
    "start_time": "2021-11-08T19:00:20.985Z"
   },
   {
    "duration": 462,
    "start_time": "2021-11-08T19:00:21.004Z"
   },
   {
    "duration": 126,
    "start_time": "2021-11-08T19:00:21.467Z"
   },
   {
    "duration": 124,
    "start_time": "2021-11-08T19:03:28.809Z"
   },
   {
    "duration": 142,
    "start_time": "2021-11-08T19:03:48.002Z"
   },
   {
    "duration": 131,
    "start_time": "2021-11-08T19:04:05.637Z"
   },
   {
    "duration": 125,
    "start_time": "2021-11-08T19:04:54.642Z"
   },
   {
    "duration": 80,
    "start_time": "2021-11-08T19:05:00.742Z"
   },
   {
    "duration": 82,
    "start_time": "2021-11-08T19:05:05.927Z"
   },
   {
    "duration": 125,
    "start_time": "2021-11-08T19:05:18.348Z"
   },
   {
    "duration": 973,
    "start_time": "2021-11-08T19:06:10.141Z"
   },
   {
    "duration": 491,
    "start_time": "2021-11-08T19:18:58.401Z"
   },
   {
    "duration": 530,
    "start_time": "2021-11-08T19:22:38.608Z"
   },
   {
    "duration": 801,
    "start_time": "2021-11-08T19:22:39.140Z"
   },
   {
    "duration": 126,
    "start_time": "2021-11-08T19:22:39.943Z"
   },
   {
    "duration": 18,
    "start_time": "2021-11-08T19:22:40.071Z"
   },
   {
    "duration": 5730,
    "start_time": "2021-11-08T19:22:40.091Z"
   },
   {
    "duration": -34,
    "start_time": "2021-11-08T19:22:45.857Z"
   },
   {
    "duration": -33,
    "start_time": "2021-11-08T19:22:45.858Z"
   },
   {
    "duration": -33,
    "start_time": "2021-11-08T19:22:45.859Z"
   },
   {
    "duration": 5923,
    "start_time": "2021-11-08T19:34:27.070Z"
   },
   {
    "duration": 64,
    "start_time": "2021-11-08T19:34:50.749Z"
   },
   {
    "duration": 168,
    "start_time": "2021-11-08T19:35:53.336Z"
   },
   {
    "duration": 254,
    "start_time": "2021-11-08T19:37:47.999Z"
   },
   {
    "duration": 549,
    "start_time": "2021-11-08T19:37:59.912Z"
   },
   {
    "duration": 800,
    "start_time": "2021-11-08T19:38:00.463Z"
   },
   {
    "duration": 123,
    "start_time": "2021-11-08T19:38:01.266Z"
   },
   {
    "duration": 22,
    "start_time": "2021-11-08T19:38:01.392Z"
   },
   {
    "duration": 290,
    "start_time": "2021-11-08T19:38:01.417Z"
   },
   {
    "duration": 469,
    "start_time": "2021-11-08T19:38:01.709Z"
   },
   {
    "duration": 979,
    "start_time": "2021-11-08T19:38:02.180Z"
   },
   {
    "duration": 148,
    "start_time": "2021-11-08T19:38:03.163Z"
   },
   {
    "duration": 300,
    "start_time": "2021-11-08T19:41:27.736Z"
   },
   {
    "duration": 574,
    "start_time": "2021-11-08T19:45:25.774Z"
   },
   {
    "duration": 810,
    "start_time": "2021-11-08T19:45:26.350Z"
   },
   {
    "duration": 121,
    "start_time": "2021-11-08T19:45:27.164Z"
   },
   {
    "duration": 19,
    "start_time": "2021-11-08T19:45:27.287Z"
   },
   {
    "duration": 389,
    "start_time": "2021-11-08T19:45:27.308Z"
   },
   {
    "duration": 289,
    "start_time": "2021-11-08T19:45:27.698Z"
   },
   {
    "duration": 646,
    "start_time": "2021-11-08T19:45:27.989Z"
   },
   {
    "duration": 117,
    "start_time": "2021-11-08T19:45:28.637Z"
   },
   {
    "duration": 94,
    "start_time": "2021-11-08T19:46:39.485Z"
   },
   {
    "duration": 1047,
    "start_time": "2021-11-08T20:15:32.813Z"
   },
   {
    "duration": 857,
    "start_time": "2021-11-08T20:15:33.864Z"
   },
   {
    "duration": 126,
    "start_time": "2021-11-08T20:15:34.723Z"
   },
   {
    "duration": 31,
    "start_time": "2021-11-08T20:15:34.851Z"
   },
   {
    "duration": 144,
    "start_time": "2021-11-08T20:15:34.884Z"
   },
   {
    "duration": 469,
    "start_time": "2021-11-08T20:15:35.029Z"
   },
   {
    "duration": 293,
    "start_time": "2021-11-08T20:15:35.500Z"
   },
   {
    "duration": 628,
    "start_time": "2021-11-08T20:15:35.795Z"
   },
   {
    "duration": 84,
    "start_time": "2021-11-08T20:16:14.011Z"
   },
   {
    "duration": 5986,
    "start_time": "2021-11-08T20:19:13.892Z"
   },
   {
    "duration": 248,
    "start_time": "2021-11-08T20:20:01.373Z"
   },
   {
    "duration": 22,
    "start_time": "2021-11-08T20:20:07.325Z"
   },
   {
    "duration": 33,
    "start_time": "2021-11-08T20:22:30.181Z"
   },
   {
    "duration": 32,
    "start_time": "2021-11-08T20:32:02.669Z"
   },
   {
    "duration": 410,
    "start_time": "2021-11-08T20:50:02.603Z"
   },
   {
    "duration": 238,
    "start_time": "2021-11-08T20:50:08.423Z"
   },
   {
    "duration": 34,
    "start_time": "2021-11-08T20:50:18.435Z"
   },
   {
    "duration": 42,
    "start_time": "2021-11-08T20:50:30.755Z"
   },
   {
    "duration": 1032,
    "start_time": "2021-11-08T20:52:08.756Z"
   },
   {
    "duration": 826,
    "start_time": "2021-11-08T20:52:09.790Z"
   },
   {
    "duration": 122,
    "start_time": "2021-11-08T20:52:10.618Z"
   },
   {
    "duration": 32,
    "start_time": "2021-11-08T20:52:10.742Z"
   },
   {
    "duration": 137,
    "start_time": "2021-11-08T20:52:10.776Z"
   },
   {
    "duration": 33,
    "start_time": "2021-11-08T20:52:10.915Z"
   },
   {
    "duration": 37,
    "start_time": "2021-11-08T20:52:10.951Z"
   },
   {
    "duration": 7168,
    "start_time": "2021-11-08T20:52:10.989Z"
   },
   {
    "duration": 707,
    "start_time": "2021-11-08T20:52:17.452Z"
   },
   {
    "duration": 707,
    "start_time": "2021-11-08T20:52:17.453Z"
   },
   {
    "duration": 7,
    "start_time": "2021-11-08T20:52:40.027Z"
   },
   {
    "duration": 2102,
    "start_time": "2021-11-08T20:55:06.280Z"
   },
   {
    "duration": 888,
    "start_time": "2021-11-08T20:55:08.384Z"
   },
   {
    "duration": 132,
    "start_time": "2021-11-08T20:55:09.274Z"
   },
   {
    "duration": 19,
    "start_time": "2021-11-08T20:55:09.408Z"
   },
   {
    "duration": 144,
    "start_time": "2021-11-08T20:55:09.429Z"
   },
   {
    "duration": 33,
    "start_time": "2021-11-08T20:55:09.575Z"
   },
   {
    "duration": 168,
    "start_time": "2021-11-08T20:55:09.610Z"
   },
   {
    "duration": 14,
    "start_time": "2021-11-08T20:55:09.780Z"
   },
   {
    "duration": 334,
    "start_time": "2021-11-08T20:55:09.796Z"
   },
   {
    "duration": 250,
    "start_time": "2021-11-08T20:55:10.132Z"
   },
   {
    "duration": 539,
    "start_time": "2021-11-08T20:55:10.384Z"
   },
   {
    "duration": 87,
    "start_time": "2021-11-08T20:59:55.898Z"
   },
   {
    "duration": 1045,
    "start_time": "2021-11-08T21:02:22.836Z"
   },
   {
    "duration": 828,
    "start_time": "2021-11-08T21:02:23.883Z"
   },
   {
    "duration": 127,
    "start_time": "2021-11-08T21:02:24.713Z"
   },
   {
    "duration": 27,
    "start_time": "2021-11-08T21:02:24.842Z"
   },
   {
    "duration": 141,
    "start_time": "2021-11-08T21:02:24.870Z"
   },
   {
    "duration": 32,
    "start_time": "2021-11-08T21:02:25.013Z"
   },
   {
    "duration": 155,
    "start_time": "2021-11-08T21:02:25.047Z"
   },
   {
    "duration": 233,
    "start_time": "2021-11-08T21:02:25.204Z"
   },
   {
    "duration": 37,
    "start_time": "2021-11-08T21:02:25.440Z"
   },
   {
    "duration": 316,
    "start_time": "2021-11-08T21:02:25.480Z"
   },
   {
    "duration": 275,
    "start_time": "2021-11-08T21:02:25.798Z"
   },
   {
    "duration": 601,
    "start_time": "2021-11-08T21:02:26.075Z"
   },
   {
    "duration": 34,
    "start_time": "2021-11-08T21:14:57.161Z"
   },
   {
    "duration": 1041,
    "start_time": "2021-11-08T21:22:53.542Z"
   },
   {
    "duration": 940,
    "start_time": "2021-11-08T21:22:54.585Z"
   },
   {
    "duration": 126,
    "start_time": "2021-11-08T21:22:55.528Z"
   },
   {
    "duration": 22,
    "start_time": "2021-11-08T21:22:55.656Z"
   },
   {
    "duration": 138,
    "start_time": "2021-11-08T21:22:55.680Z"
   },
   {
    "duration": 35,
    "start_time": "2021-11-08T21:22:55.819Z"
   },
   {
    "duration": 153,
    "start_time": "2021-11-08T21:22:55.864Z"
   },
   {
    "duration": 33,
    "start_time": "2021-11-08T21:22:56.019Z"
   },
   {
    "duration": 252,
    "start_time": "2021-11-08T21:22:56.063Z"
   },
   {
    "duration": 181,
    "start_time": "2021-11-08T21:22:56.317Z"
   },
   {
    "duration": 34,
    "start_time": "2021-11-08T21:22:56.499Z"
   },
   {
    "duration": 49,
    "start_time": "2021-11-08T21:22:56.535Z"
   },
   {
    "duration": 4,
    "start_time": "2021-11-08T21:22:56.586Z"
   },
   {
    "duration": 297,
    "start_time": "2021-11-08T21:22:56.592Z"
   },
   {
    "duration": 230,
    "start_time": "2021-11-08T21:22:56.891Z"
   },
   {
    "duration": 506,
    "start_time": "2021-11-08T21:22:57.123Z"
   },
   {
    "duration": 35,
    "start_time": "2021-11-08T21:24:47.353Z"
   },
   {
    "duration": 81,
    "start_time": "2021-11-08T21:27:10.751Z"
   },
   {
    "duration": 1099,
    "start_time": "2021-11-08T21:28:53.387Z"
   },
   {
    "duration": 842,
    "start_time": "2021-11-08T21:28:54.488Z"
   },
   {
    "duration": 131,
    "start_time": "2021-11-08T21:28:55.332Z"
   },
   {
    "duration": 20,
    "start_time": "2021-11-08T21:28:55.465Z"
   },
   {
    "duration": 142,
    "start_time": "2021-11-08T21:28:55.487Z"
   },
   {
    "duration": 37,
    "start_time": "2021-11-08T21:28:55.631Z"
   },
   {
    "duration": 315,
    "start_time": "2021-11-08T21:28:55.670Z"
   },
   {
    "duration": 781,
    "start_time": "2021-11-08T21:28:55.207Z"
   },
   {
    "duration": 781,
    "start_time": "2021-11-08T21:28:55.209Z"
   },
   {
    "duration": 780,
    "start_time": "2021-11-08T21:28:55.211Z"
   },
   {
    "duration": 780,
    "start_time": "2021-11-08T21:28:55.212Z"
   },
   {
    "duration": 735,
    "start_time": "2021-11-08T21:28:55.259Z"
   },
   {
    "duration": 735,
    "start_time": "2021-11-08T21:28:55.260Z"
   },
   {
    "duration": 736,
    "start_time": "2021-11-08T21:28:55.261Z"
   },
   {
    "duration": 735,
    "start_time": "2021-11-08T21:28:55.263Z"
   },
   {
    "duration": 733,
    "start_time": "2021-11-08T21:28:55.267Z"
   },
   {
    "duration": 984,
    "start_time": "2021-11-08T21:29:29.212Z"
   },
   {
    "duration": 854,
    "start_time": "2021-11-08T21:29:30.197Z"
   },
   {
    "duration": 129,
    "start_time": "2021-11-08T21:29:31.053Z"
   },
   {
    "duration": 18,
    "start_time": "2021-11-08T21:29:31.184Z"
   },
   {
    "duration": 154,
    "start_time": "2021-11-08T21:29:31.204Z"
   },
   {
    "duration": 35,
    "start_time": "2021-11-08T21:29:31.360Z"
   },
   {
    "duration": 167,
    "start_time": "2021-11-08T21:29:31.397Z"
   },
   {
    "duration": 35,
    "start_time": "2021-11-08T21:29:31.566Z"
   },
   {
    "duration": 257,
    "start_time": "2021-11-08T21:29:31.603Z"
   },
   {
    "duration": 166,
    "start_time": "2021-11-08T21:29:31.863Z"
   },
   {
    "duration": 38,
    "start_time": "2021-11-08T21:29:32.031Z"
   },
   {
    "duration": 36,
    "start_time": "2021-11-08T21:29:32.071Z"
   },
   {
    "duration": 2,
    "start_time": "2021-11-08T21:29:32.109Z"
   },
   {
    "duration": 312,
    "start_time": "2021-11-08T21:29:32.113Z"
   },
   {
    "duration": 220,
    "start_time": "2021-11-08T21:29:32.427Z"
   },
   {
    "duration": 482,
    "start_time": "2021-11-08T21:29:32.649Z"
   },
   {
    "duration": 1021,
    "start_time": "2021-11-08T21:35:16.757Z"
   },
   {
    "duration": 817,
    "start_time": "2021-11-08T21:35:17.779Z"
   },
   {
    "duration": 130,
    "start_time": "2021-11-08T21:35:18.600Z"
   },
   {
    "duration": 31,
    "start_time": "2021-11-08T21:35:18.732Z"
   },
   {
    "duration": 134,
    "start_time": "2021-11-08T21:35:18.765Z"
   },
   {
    "duration": 32,
    "start_time": "2021-11-08T21:35:18.901Z"
   },
   {
    "duration": 159,
    "start_time": "2021-11-08T21:35:18.935Z"
   },
   {
    "duration": 32,
    "start_time": "2021-11-08T21:35:19.097Z"
   },
   {
    "duration": 257,
    "start_time": "2021-11-08T21:35:19.131Z"
   },
   {
    "duration": 164,
    "start_time": "2021-11-08T21:35:19.390Z"
   },
   {
    "duration": 34,
    "start_time": "2021-11-08T21:35:19.564Z"
   },
   {
    "duration": 36,
    "start_time": "2021-11-08T21:35:19.599Z"
   },
   {
    "duration": 349,
    "start_time": "2021-11-08T21:35:19.637Z"
   },
   {
    "duration": 730,
    "start_time": "2021-11-08T21:35:19.258Z"
   },
   {
    "duration": 730,
    "start_time": "2021-11-08T21:35:19.259Z"
   },
   {
    "duration": 730,
    "start_time": "2021-11-08T21:35:19.260Z"
   },
   {
    "duration": 729,
    "start_time": "2021-11-08T21:35:19.262Z"
   },
   {
    "duration": 1030,
    "start_time": "2021-11-09T13:23:05.653Z"
   },
   {
    "duration": 795,
    "start_time": "2021-11-09T13:23:06.685Z"
   },
   {
    "duration": 122,
    "start_time": "2021-11-09T13:23:07.483Z"
   },
   {
    "duration": 20,
    "start_time": "2021-11-09T13:23:07.607Z"
   },
   {
    "duration": 145,
    "start_time": "2021-11-09T13:23:07.629Z"
   },
   {
    "duration": 34,
    "start_time": "2021-11-09T13:23:07.775Z"
   },
   {
    "duration": 126,
    "start_time": "2021-11-09T13:23:07.811Z"
   },
   {
    "duration": 36,
    "start_time": "2021-11-09T13:23:07.940Z"
   },
   {
    "duration": 195,
    "start_time": "2021-11-09T13:23:07.978Z"
   },
   {
    "duration": 148,
    "start_time": "2021-11-09T13:23:08.174Z"
   },
   {
    "duration": 46,
    "start_time": "2021-11-09T13:23:08.323Z"
   },
   {
    "duration": 46,
    "start_time": "2021-11-09T13:23:08.371Z"
   },
   {
    "duration": 370,
    "start_time": "2021-11-09T13:23:08.418Z"
   },
   {
    "duration": 429,
    "start_time": "2021-11-09T13:23:08.361Z"
   },
   {
    "duration": 423,
    "start_time": "2021-11-09T13:23:08.368Z"
   },
   {
    "duration": 419,
    "start_time": "2021-11-09T13:23:08.373Z"
   },
   {
    "duration": 413,
    "start_time": "2021-11-09T13:23:08.380Z"
   },
   {
    "duration": 36,
    "start_time": "2021-11-09T13:26:53.723Z"
   },
   {
    "duration": 287,
    "start_time": "2021-11-09T13:33:49.016Z"
   },
   {
    "duration": 476,
    "start_time": "2021-11-09T13:33:48.829Z"
   },
   {
    "duration": 265,
    "start_time": "2021-11-09T13:36:13.027Z"
   },
   {
    "duration": 3,
    "start_time": "2021-11-09T13:36:22.555Z"
   },
   {
    "duration": 347,
    "start_time": "2021-11-09T13:36:27.865Z"
   },
   {
    "duration": 2,
    "start_time": "2021-11-09T13:36:43.568Z"
   },
   {
    "duration": 2044,
    "start_time": "2021-11-09T13:36:47.729Z"
   },
   {
    "duration": 42,
    "start_time": "2021-11-09T13:36:52.864Z"
   },
   {
    "duration": 11,
    "start_time": "2021-11-09T13:37:18.434Z"
   },
   {
    "duration": 7198,
    "start_time": "2021-11-09T13:38:47.513Z"
   },
   {
    "duration": 1109,
    "start_time": "2021-11-09T13:39:00.359Z"
   },
   {
    "duration": 864,
    "start_time": "2021-11-09T13:39:01.471Z"
   },
   {
    "duration": 218,
    "start_time": "2021-11-09T13:39:02.338Z"
   },
   {
    "duration": 23,
    "start_time": "2021-11-09T13:39:02.558Z"
   },
   {
    "duration": 159,
    "start_time": "2021-11-09T13:39:02.583Z"
   },
   {
    "duration": 61,
    "start_time": "2021-11-09T13:39:02.744Z"
   },
   {
    "duration": 205,
    "start_time": "2021-11-09T13:39:02.808Z"
   },
   {
    "duration": 66,
    "start_time": "2021-11-09T13:39:03.017Z"
   },
   {
    "duration": 211,
    "start_time": "2021-11-09T13:39:03.085Z"
   },
   {
    "duration": 169,
    "start_time": "2021-11-09T13:39:03.298Z"
   },
   {
    "duration": 39,
    "start_time": "2021-11-09T13:39:03.469Z"
   },
   {
    "duration": 60,
    "start_time": "2021-11-09T13:39:03.510Z"
   },
   {
    "duration": 37,
    "start_time": "2021-11-09T13:39:03.572Z"
   },
   {
    "duration": 8884,
    "start_time": "2021-11-09T13:39:03.611Z"
   },
   {
    "duration": 479,
    "start_time": "2021-11-09T13:39:12.018Z"
   },
   {
    "duration": 474,
    "start_time": "2021-11-09T13:39:12.025Z"
   },
   {
    "duration": 470,
    "start_time": "2021-11-09T13:39:12.030Z"
   },
   {
    "duration": 467,
    "start_time": "2021-11-09T13:39:12.035Z"
   },
   {
    "duration": 300,
    "start_time": "2021-11-09T13:39:22.876Z"
   },
   {
    "duration": 7222,
    "start_time": "2021-11-09T13:39:31.666Z"
   },
   {
    "duration": 1265,
    "start_time": "2021-11-09T13:40:18.789Z"
   },
   {
    "duration": 758,
    "start_time": "2021-11-09T13:40:20.056Z"
   },
   {
    "duration": 131,
    "start_time": "2021-11-09T13:40:20.816Z"
   },
   {
    "duration": 21,
    "start_time": "2021-11-09T13:40:20.949Z"
   },
   {
    "duration": 151,
    "start_time": "2021-11-09T13:40:20.972Z"
   },
   {
    "duration": 37,
    "start_time": "2021-11-09T13:40:21.125Z"
   },
   {
    "duration": 136,
    "start_time": "2021-11-09T13:40:21.164Z"
   },
   {
    "duration": 35,
    "start_time": "2021-11-09T13:40:21.303Z"
   },
   {
    "duration": 208,
    "start_time": "2021-11-09T13:40:21.345Z"
   },
   {
    "duration": 160,
    "start_time": "2021-11-09T13:40:21.555Z"
   },
   {
    "duration": 44,
    "start_time": "2021-11-09T13:40:21.716Z"
   },
   {
    "duration": 42,
    "start_time": "2021-11-09T13:40:21.762Z"
   },
   {
    "duration": 61,
    "start_time": "2021-11-09T13:40:21.806Z"
   },
   {
    "duration": 439,
    "start_time": "2021-11-09T13:40:21.869Z"
   },
   {
    "duration": 486,
    "start_time": "2021-11-09T13:40:21.824Z"
   },
   {
    "duration": 482,
    "start_time": "2021-11-09T13:40:21.830Z"
   },
   {
    "duration": 478,
    "start_time": "2021-11-09T13:40:21.836Z"
   },
   {
    "duration": 474,
    "start_time": "2021-11-09T13:40:21.841Z"
   },
   {
    "duration": 691,
    "start_time": "2021-11-09T13:41:49.723Z"
   },
   {
    "duration": 131,
    "start_time": "2021-11-09T13:41:54.243Z"
   },
   {
    "duration": 381,
    "start_time": "2021-11-09T13:42:17.762Z"
   },
   {
    "duration": 129,
    "start_time": "2021-11-09T13:42:19.533Z"
   },
   {
    "duration": 338,
    "start_time": "2021-11-09T13:42:21.387Z"
   },
   {
    "duration": 44,
    "start_time": "2021-11-09T13:48:46.473Z"
   },
   {
    "duration": 14,
    "start_time": "2021-11-09T13:48:54.239Z"
   },
   {
    "duration": 1134,
    "start_time": "2021-11-09T13:50:20.835Z"
   },
   {
    "duration": 823,
    "start_time": "2021-11-09T13:50:21.971Z"
   },
   {
    "duration": 127,
    "start_time": "2021-11-09T13:50:22.796Z"
   },
   {
    "duration": 30,
    "start_time": "2021-11-09T13:50:22.925Z"
   },
   {
    "duration": 131,
    "start_time": "2021-11-09T13:50:22.957Z"
   },
   {
    "duration": 32,
    "start_time": "2021-11-09T13:50:23.090Z"
   },
   {
    "duration": 135,
    "start_time": "2021-11-09T13:50:23.124Z"
   },
   {
    "duration": 32,
    "start_time": "2021-11-09T13:50:23.261Z"
   },
   {
    "duration": 204,
    "start_time": "2021-11-09T13:50:23.295Z"
   },
   {
    "duration": 144,
    "start_time": "2021-11-09T13:50:23.501Z"
   },
   {
    "duration": 33,
    "start_time": "2021-11-09T13:50:23.646Z"
   },
   {
    "duration": 46,
    "start_time": "2021-11-09T13:50:23.681Z"
   },
   {
    "duration": 51,
    "start_time": "2021-11-09T13:50:23.728Z"
   },
   {
    "duration": 389,
    "start_time": "2021-11-09T13:50:23.781Z"
   },
   {
    "duration": 85,
    "start_time": "2021-11-09T13:50:24.171Z"
   },
   {
    "duration": 227,
    "start_time": "2021-11-09T13:50:24.258Z"
   },
   {
    "duration": 145,
    "start_time": "2021-11-09T13:50:24.486Z"
   },
   {
    "duration": 335,
    "start_time": "2021-11-09T13:50:24.633Z"
   },
   {
    "duration": 14,
    "start_time": "2021-11-09T13:50:24.970Z"
   },
   {
    "duration": 954,
    "start_time": "2021-11-09T13:50:44.397Z"
   },
   {
    "duration": 755,
    "start_time": "2021-11-09T13:50:45.353Z"
   },
   {
    "duration": 115,
    "start_time": "2021-11-09T13:50:46.110Z"
   },
   {
    "duration": 29,
    "start_time": "2021-11-09T13:50:46.227Z"
   },
   {
    "duration": 146,
    "start_time": "2021-11-09T13:50:46.257Z"
   },
   {
    "duration": 32,
    "start_time": "2021-11-09T13:50:46.404Z"
   },
   {
    "duration": 134,
    "start_time": "2021-11-09T13:50:46.438Z"
   },
   {
    "duration": 40,
    "start_time": "2021-11-09T13:50:46.574Z"
   },
   {
    "duration": 196,
    "start_time": "2021-11-09T13:50:46.616Z"
   },
   {
    "duration": 147,
    "start_time": "2021-11-09T13:50:46.813Z"
   },
   {
    "duration": 34,
    "start_time": "2021-11-09T13:50:46.961Z"
   },
   {
    "duration": 54,
    "start_time": "2021-11-09T13:50:46.998Z"
   },
   {
    "duration": 41,
    "start_time": "2021-11-09T13:50:47.053Z"
   },
   {
    "duration": 552,
    "start_time": "2021-11-09T13:50:47.095Z"
   },
   {
    "duration": 71,
    "start_time": "2021-11-09T13:50:47.649Z"
   },
   {
    "duration": 223,
    "start_time": "2021-11-09T13:50:47.721Z"
   },
   {
    "duration": 153,
    "start_time": "2021-11-09T13:50:47.946Z"
   },
   {
    "duration": 459,
    "start_time": "2021-11-09T13:50:48.102Z"
   },
   {
    "duration": 14,
    "start_time": "2021-11-09T13:50:48.564Z"
   },
   {
    "duration": 1129,
    "start_time": "2021-11-09T13:51:36.460Z"
   },
   {
    "duration": 757,
    "start_time": "2021-11-09T13:51:37.591Z"
   },
   {
    "duration": 121,
    "start_time": "2021-11-09T13:51:38.350Z"
   },
   {
    "duration": 18,
    "start_time": "2021-11-09T13:51:38.473Z"
   },
   {
    "duration": 140,
    "start_time": "2021-11-09T13:51:38.493Z"
   },
   {
    "duration": 32,
    "start_time": "2021-11-09T13:51:38.634Z"
   },
   {
    "duration": 131,
    "start_time": "2021-11-09T13:51:38.668Z"
   },
   {
    "duration": 46,
    "start_time": "2021-11-09T13:51:38.801Z"
   },
   {
    "duration": 201,
    "start_time": "2021-11-09T13:51:38.849Z"
   },
   {
    "duration": 149,
    "start_time": "2021-11-09T13:51:39.052Z"
   },
   {
    "duration": 42,
    "start_time": "2021-11-09T13:51:39.203Z"
   },
   {
    "duration": 35,
    "start_time": "2021-11-09T13:51:39.246Z"
   },
   {
    "duration": 37,
    "start_time": "2021-11-09T13:51:39.282Z"
   },
   {
    "duration": 512,
    "start_time": "2021-11-09T13:51:39.321Z"
   },
   {
    "duration": 72,
    "start_time": "2021-11-09T13:51:39.834Z"
   },
   {
    "duration": 214,
    "start_time": "2021-11-09T13:51:39.908Z"
   },
   {
    "duration": 156,
    "start_time": "2021-11-09T13:51:40.124Z"
   },
   {
    "duration": 303,
    "start_time": "2021-11-09T13:51:40.282Z"
   },
   {
    "duration": 12,
    "start_time": "2021-11-09T13:51:40.586Z"
   },
   {
    "duration": 186,
    "start_time": "2021-11-09T14:12:26.095Z"
   },
   {
    "duration": 169,
    "start_time": "2021-11-09T14:12:49.005Z"
   },
   {
    "duration": 1136,
    "start_time": "2021-11-09T14:12:57.026Z"
   },
   {
    "duration": 864,
    "start_time": "2021-11-09T14:12:58.165Z"
   },
   {
    "duration": 131,
    "start_time": "2021-11-09T14:12:59.031Z"
   },
   {
    "duration": 20,
    "start_time": "2021-11-09T14:12:59.165Z"
   },
   {
    "duration": 122,
    "start_time": "2021-11-09T14:12:59.187Z"
   },
   {
    "duration": 145,
    "start_time": "2021-11-09T14:12:59.311Z"
   },
   {
    "duration": 35,
    "start_time": "2021-11-09T14:12:59.458Z"
   },
   {
    "duration": 148,
    "start_time": "2021-11-09T14:12:59.496Z"
   },
   {
    "duration": 35,
    "start_time": "2021-11-09T14:12:59.646Z"
   },
   {
    "duration": 219,
    "start_time": "2021-11-09T14:12:59.683Z"
   },
   {
    "duration": 164,
    "start_time": "2021-11-09T14:12:59.904Z"
   },
   {
    "duration": 36,
    "start_time": "2021-11-09T14:13:00.070Z"
   },
   {
    "duration": 56,
    "start_time": "2021-11-09T14:13:00.107Z"
   },
   {
    "duration": 44,
    "start_time": "2021-11-09T14:13:00.165Z"
   },
   {
    "duration": 595,
    "start_time": "2021-11-09T14:13:00.211Z"
   },
   {
    "duration": 77,
    "start_time": "2021-11-09T14:13:00.808Z"
   },
   {
    "duration": 225,
    "start_time": "2021-11-09T14:13:00.887Z"
   },
   {
    "duration": 150,
    "start_time": "2021-11-09T14:13:01.114Z"
   },
   {
    "duration": 317,
    "start_time": "2021-11-09T14:13:01.266Z"
   },
   {
    "duration": 13,
    "start_time": "2021-11-09T14:13:01.585Z"
   },
   {
    "duration": 369,
    "start_time": "2021-11-09T14:24:21.100Z"
   },
   {
    "duration": 289,
    "start_time": "2021-11-09T14:24:34.916Z"
   },
   {
    "duration": 414,
    "start_time": "2021-11-09T14:25:54.237Z"
   },
   {
    "duration": 174,
    "start_time": "2021-11-09T14:26:11.291Z"
   },
   {
    "duration": 507,
    "start_time": "2021-11-09T14:26:26.645Z"
   },
   {
    "duration": 255,
    "start_time": "2021-11-09T14:29:49.203Z"
   },
   {
    "duration": 1118,
    "start_time": "2021-11-09T14:29:55.126Z"
   },
   {
    "duration": 755,
    "start_time": "2021-11-09T14:29:56.246Z"
   },
   {
    "duration": 122,
    "start_time": "2021-11-09T14:29:57.002Z"
   },
   {
    "duration": 28,
    "start_time": "2021-11-09T14:29:57.125Z"
   },
   {
    "duration": 104,
    "start_time": "2021-11-09T14:29:57.155Z"
   },
   {
    "duration": 207,
    "start_time": "2021-11-09T14:29:57.261Z"
   },
   {
    "duration": 139,
    "start_time": "2021-11-09T14:29:57.470Z"
   },
   {
    "duration": 42,
    "start_time": "2021-11-09T14:29:57.613Z"
   },
   {
    "duration": 131,
    "start_time": "2021-11-09T14:29:57.657Z"
   },
   {
    "duration": 32,
    "start_time": "2021-11-09T14:29:57.790Z"
   },
   {
    "duration": 205,
    "start_time": "2021-11-09T14:29:57.824Z"
   },
   {
    "duration": 149,
    "start_time": "2021-11-09T14:29:58.030Z"
   },
   {
    "duration": 33,
    "start_time": "2021-11-09T14:29:58.180Z"
   },
   {
    "duration": 50,
    "start_time": "2021-11-09T14:29:58.215Z"
   },
   {
    "duration": 32,
    "start_time": "2021-11-09T14:29:58.267Z"
   },
   {
    "duration": 477,
    "start_time": "2021-11-09T14:29:58.301Z"
   },
   {
    "duration": 79,
    "start_time": "2021-11-09T14:29:58.780Z"
   },
   {
    "duration": 199,
    "start_time": "2021-11-09T14:29:58.861Z"
   },
   {
    "duration": 132,
    "start_time": "2021-11-09T14:29:59.061Z"
   },
   {
    "duration": 311,
    "start_time": "2021-11-09T14:29:59.195Z"
   },
   {
    "duration": 13,
    "start_time": "2021-11-09T14:29:59.507Z"
   },
   {
    "duration": 187,
    "start_time": "2021-11-09T14:30:21.474Z"
   },
   {
    "duration": 208,
    "start_time": "2021-11-09T14:31:00.763Z"
   },
   {
    "duration": 17,
    "start_time": "2021-11-09T14:31:56.623Z"
   },
   {
    "duration": 26,
    "start_time": "2021-11-09T14:32:33.180Z"
   },
   {
    "duration": 1110,
    "start_time": "2021-11-09T14:32:38.352Z"
   },
   {
    "duration": 848,
    "start_time": "2021-11-09T14:32:39.464Z"
   },
   {
    "duration": 134,
    "start_time": "2021-11-09T14:32:40.314Z"
   },
   {
    "duration": 19,
    "start_time": "2021-11-09T14:32:40.451Z"
   },
   {
    "duration": 119,
    "start_time": "2021-11-09T14:32:40.472Z"
   },
   {
    "duration": 241,
    "start_time": "2021-11-09T14:32:40.593Z"
   },
   {
    "duration": 29,
    "start_time": "2021-11-09T14:32:40.836Z"
   },
   {
    "duration": 50,
    "start_time": "2021-11-09T14:32:40.868Z"
   },
   {
    "duration": 155,
    "start_time": "2021-11-09T14:32:40.920Z"
   },
   {
    "duration": 32,
    "start_time": "2021-11-09T14:32:41.076Z"
   },
   {
    "duration": 158,
    "start_time": "2021-11-09T14:32:41.110Z"
   },
   {
    "duration": 33,
    "start_time": "2021-11-09T14:32:41.270Z"
   },
   {
    "duration": 206,
    "start_time": "2021-11-09T14:32:41.304Z"
   },
   {
    "duration": 151,
    "start_time": "2021-11-09T14:32:41.512Z"
   },
   {
    "duration": 32,
    "start_time": "2021-11-09T14:32:41.665Z"
   },
   {
    "duration": 53,
    "start_time": "2021-11-09T14:32:41.699Z"
   },
   {
    "duration": 34,
    "start_time": "2021-11-09T14:32:41.754Z"
   },
   {
    "duration": 479,
    "start_time": "2021-11-09T14:32:41.790Z"
   },
   {
    "duration": 93,
    "start_time": "2021-11-09T14:32:42.270Z"
   },
   {
    "duration": 221,
    "start_time": "2021-11-09T14:32:42.365Z"
   },
   {
    "duration": 168,
    "start_time": "2021-11-09T14:32:42.588Z"
   },
   {
    "duration": 298,
    "start_time": "2021-11-09T14:32:42.758Z"
   },
   {
    "duration": 13,
    "start_time": "2021-11-09T14:32:43.060Z"
   },
   {
    "duration": 14,
    "start_time": "2021-11-09T14:33:52.564Z"
   },
   {
    "duration": 1062,
    "start_time": "2021-11-09T14:34:07.391Z"
   },
   {
    "duration": 795,
    "start_time": "2021-11-09T14:34:08.455Z"
   },
   {
    "duration": 146,
    "start_time": "2021-11-09T14:34:09.252Z"
   },
   {
    "duration": 22,
    "start_time": "2021-11-09T14:34:09.400Z"
   },
   {
    "duration": 142,
    "start_time": "2021-11-09T14:34:09.424Z"
   },
   {
    "duration": 260,
    "start_time": "2021-11-09T14:34:09.568Z"
   },
   {
    "duration": 22,
    "start_time": "2021-11-09T14:34:09.830Z"
   },
   {
    "duration": 20,
    "start_time": "2021-11-09T14:34:09.854Z"
   },
   {
    "duration": 78,
    "start_time": "2021-11-09T14:34:09.877Z"
   },
   {
    "duration": 128,
    "start_time": "2021-11-09T14:34:09.957Z"
   },
   {
    "duration": 32,
    "start_time": "2021-11-09T14:34:10.087Z"
   },
   {
    "duration": 155,
    "start_time": "2021-11-09T14:34:10.120Z"
   },
   {
    "duration": 33,
    "start_time": "2021-11-09T14:34:10.277Z"
   },
   {
    "duration": 207,
    "start_time": "2021-11-09T14:34:10.312Z"
   },
   {
    "duration": 153,
    "start_time": "2021-11-09T14:34:10.521Z"
   },
   {
    "duration": 32,
    "start_time": "2021-11-09T14:34:10.676Z"
   },
   {
    "duration": 50,
    "start_time": "2021-11-09T14:34:10.710Z"
   },
   {
    "duration": 40,
    "start_time": "2021-11-09T14:34:10.762Z"
   },
   {
    "duration": 483,
    "start_time": "2021-11-09T14:34:10.803Z"
   },
   {
    "duration": 89,
    "start_time": "2021-11-09T14:34:11.288Z"
   },
   {
    "duration": 215,
    "start_time": "2021-11-09T14:34:11.379Z"
   },
   {
    "duration": 163,
    "start_time": "2021-11-09T14:34:11.596Z"
   },
   {
    "duration": 305,
    "start_time": "2021-11-09T14:34:11.762Z"
   },
   {
    "duration": 13,
    "start_time": "2021-11-09T14:34:12.069Z"
   },
   {
    "duration": 545,
    "start_time": "2021-11-09T14:35:04.742Z"
   },
   {
    "duration": 1117,
    "start_time": "2021-11-09T14:35:10.335Z"
   },
   {
    "duration": 801,
    "start_time": "2021-11-09T14:35:11.454Z"
   },
   {
    "duration": 136,
    "start_time": "2021-11-09T14:35:12.257Z"
   },
   {
    "duration": 17,
    "start_time": "2021-11-09T14:35:12.396Z"
   },
   {
    "duration": 119,
    "start_time": "2021-11-09T14:35:12.415Z"
   },
   {
    "duration": 240,
    "start_time": "2021-11-09T14:35:12.536Z"
   },
   {
    "duration": 24,
    "start_time": "2021-11-09T14:35:12.778Z"
   },
   {
    "duration": 50,
    "start_time": "2021-11-09T14:35:12.806Z"
   },
   {
    "duration": 394,
    "start_time": "2021-11-09T14:35:12.859Z"
   },
   {
    "duration": 383,
    "start_time": "2021-11-09T14:35:12.874Z"
   },
   {
    "duration": 381,
    "start_time": "2021-11-09T14:35:12.878Z"
   },
   {
    "duration": 379,
    "start_time": "2021-11-09T14:35:12.881Z"
   },
   {
    "duration": 378,
    "start_time": "2021-11-09T14:35:12.884Z"
   },
   {
    "duration": 376,
    "start_time": "2021-11-09T14:35:12.887Z"
   },
   {
    "duration": 366,
    "start_time": "2021-11-09T14:35:12.899Z"
   },
   {
    "duration": 363,
    "start_time": "2021-11-09T14:35:12.903Z"
   },
   {
    "duration": 361,
    "start_time": "2021-11-09T14:35:12.907Z"
   },
   {
    "duration": 359,
    "start_time": "2021-11-09T14:35:12.910Z"
   },
   {
    "duration": 358,
    "start_time": "2021-11-09T14:35:12.913Z"
   },
   {
    "duration": 356,
    "start_time": "2021-11-09T14:35:12.916Z"
   },
   {
    "duration": 355,
    "start_time": "2021-11-09T14:35:12.919Z"
   },
   {
    "duration": 353,
    "start_time": "2021-11-09T14:35:12.922Z"
   },
   {
    "duration": 351,
    "start_time": "2021-11-09T14:35:12.925Z"
   },
   {
    "duration": 349,
    "start_time": "2021-11-09T14:35:12.929Z"
   },
   {
    "duration": 346,
    "start_time": "2021-11-09T14:35:12.933Z"
   },
   {
    "duration": 17,
    "start_time": "2021-11-09T14:35:25.286Z"
   },
   {
    "duration": 237,
    "start_time": "2021-11-09T14:41:03.510Z"
   },
   {
    "duration": 207,
    "start_time": "2021-11-09T14:41:54.195Z"
   },
   {
    "duration": 36,
    "start_time": "2021-11-09T14:42:52.706Z"
   },
   {
    "duration": 37,
    "start_time": "2021-11-09T14:43:02.241Z"
   },
   {
    "duration": 208,
    "start_time": "2021-11-09T14:43:24.571Z"
   },
   {
    "duration": 200,
    "start_time": "2021-11-09T14:43:30.679Z"
   },
   {
    "duration": 209,
    "start_time": "2021-11-09T14:43:39.982Z"
   },
   {
    "duration": 210,
    "start_time": "2021-11-09T14:43:49.189Z"
   },
   {
    "duration": 259,
    "start_time": "2021-11-09T14:43:55.709Z"
   },
   {
    "duration": 23,
    "start_time": "2021-11-09T14:44:10.787Z"
   },
   {
    "duration": 281,
    "start_time": "2021-11-09T14:45:01.495Z"
   },
   {
    "duration": 265,
    "start_time": "2021-11-09T14:46:11.394Z"
   },
   {
    "duration": 258,
    "start_time": "2021-11-09T14:46:21.026Z"
   },
   {
    "duration": 285,
    "start_time": "2021-11-09T14:46:33.257Z"
   },
   {
    "duration": 299,
    "start_time": "2021-11-09T14:46:45.635Z"
   },
   {
    "duration": 285,
    "start_time": "2021-11-09T14:47:01.682Z"
   },
   {
    "duration": 1115,
    "start_time": "2021-11-09T14:49:37.743Z"
   },
   {
    "duration": 1637,
    "start_time": "2021-11-09T14:49:38.860Z"
   },
   {
    "duration": 128,
    "start_time": "2021-11-09T14:49:40.500Z"
   },
   {
    "duration": 23,
    "start_time": "2021-11-09T14:49:40.630Z"
   },
   {
    "duration": 107,
    "start_time": "2021-11-09T14:49:40.655Z"
   },
   {
    "duration": 246,
    "start_time": "2021-11-09T14:49:40.764Z"
   },
   {
    "duration": 36,
    "start_time": "2021-11-09T14:49:41.012Z"
   },
   {
    "duration": 21,
    "start_time": "2021-11-09T14:49:41.051Z"
   },
   {
    "duration": 23,
    "start_time": "2021-11-09T14:49:41.074Z"
   },
   {
    "duration": 125,
    "start_time": "2021-11-09T14:49:41.099Z"
   },
   {
    "duration": 201,
    "start_time": "2021-11-09T14:49:41.225Z"
   },
   {
    "duration": 276,
    "start_time": "2021-11-09T14:49:41.428Z"
   },
   {
    "duration": 56,
    "start_time": "2021-11-09T14:49:41.705Z"
   },
   {
    "duration": 111,
    "start_time": "2021-11-09T14:49:41.763Z"
   },
   {
    "duration": 128,
    "start_time": "2021-11-09T14:49:41.875Z"
   },
   {
    "duration": 40,
    "start_time": "2021-11-09T14:49:42.005Z"
   },
   {
    "duration": 131,
    "start_time": "2021-11-09T14:49:42.047Z"
   },
   {
    "duration": 33,
    "start_time": "2021-11-09T14:49:42.180Z"
   },
   {
    "duration": 166,
    "start_time": "2021-11-09T14:49:42.215Z"
   },
   {
    "duration": 157,
    "start_time": "2021-11-09T14:49:42.383Z"
   },
   {
    "duration": 34,
    "start_time": "2021-11-09T14:49:42.542Z"
   },
   {
    "duration": 58,
    "start_time": "2021-11-09T14:49:42.578Z"
   },
   {
    "duration": 40,
    "start_time": "2021-11-09T14:49:42.644Z"
   },
   {
    "duration": 473,
    "start_time": "2021-11-09T14:49:42.687Z"
   },
   {
    "duration": 89,
    "start_time": "2021-11-09T14:49:43.162Z"
   },
   {
    "duration": 221,
    "start_time": "2021-11-09T14:49:43.253Z"
   },
   {
    "duration": 151,
    "start_time": "2021-11-09T14:49:43.476Z"
   },
   {
    "duration": 304,
    "start_time": "2021-11-09T14:49:43.629Z"
   },
   {
    "duration": 15,
    "start_time": "2021-11-09T14:49:43.935Z"
   },
   {
    "duration": 30,
    "start_time": "2021-11-09T14:49:59.053Z"
   },
   {
    "duration": 1241,
    "start_time": "2021-11-09T14:50:14.317Z"
   },
   {
    "duration": 1648,
    "start_time": "2021-11-09T14:50:15.561Z"
   },
   {
    "duration": 137,
    "start_time": "2021-11-09T14:50:17.212Z"
   },
   {
    "duration": 16,
    "start_time": "2021-11-09T14:50:17.351Z"
   },
   {
    "duration": 118,
    "start_time": "2021-11-09T14:50:17.369Z"
   },
   {
    "duration": 248,
    "start_time": "2021-11-09T14:50:17.489Z"
   },
   {
    "duration": 27,
    "start_time": "2021-11-09T14:50:17.740Z"
   },
   {
    "duration": 22,
    "start_time": "2021-11-09T14:50:17.770Z"
   },
   {
    "duration": 16,
    "start_time": "2021-11-09T14:50:17.794Z"
   },
   {
    "duration": 118,
    "start_time": "2021-11-09T14:50:17.844Z"
   },
   {
    "duration": 214,
    "start_time": "2021-11-09T14:50:17.964Z"
   },
   {
    "duration": 287,
    "start_time": "2021-11-09T14:50:18.180Z"
   },
   {
    "duration": 51,
    "start_time": "2021-11-09T14:50:18.469Z"
   },
   {
    "duration": 132,
    "start_time": "2021-11-09T14:50:18.522Z"
   },
   {
    "duration": 124,
    "start_time": "2021-11-09T14:50:18.656Z"
   },
   {
    "duration": 64,
    "start_time": "2021-11-09T14:50:18.782Z"
   },
   {
    "duration": 140,
    "start_time": "2021-11-09T14:50:18.849Z"
   },
   {
    "duration": 61,
    "start_time": "2021-11-09T14:50:18.991Z"
   },
   {
    "duration": 161,
    "start_time": "2021-11-09T14:50:19.054Z"
   },
   {
    "duration": 157,
    "start_time": "2021-11-09T14:50:19.216Z"
   },
   {
    "duration": 47,
    "start_time": "2021-11-09T14:50:19.376Z"
   },
   {
    "duration": 66,
    "start_time": "2021-11-09T14:50:19.425Z"
   },
   {
    "duration": 59,
    "start_time": "2021-11-09T14:50:19.496Z"
   },
   {
    "duration": 528,
    "start_time": "2021-11-09T14:50:19.558Z"
   },
   {
    "duration": 81,
    "start_time": "2021-11-09T14:50:20.088Z"
   },
   {
    "duration": 221,
    "start_time": "2021-11-09T14:50:20.171Z"
   },
   {
    "duration": 144,
    "start_time": "2021-11-09T14:50:20.393Z"
   },
   {
    "duration": 406,
    "start_time": "2021-11-09T14:50:20.539Z"
   },
   {
    "duration": 16,
    "start_time": "2021-11-09T14:50:20.947Z"
   },
   {
    "duration": 29,
    "start_time": "2021-11-09T14:51:17.464Z"
   },
   {
    "duration": 1072,
    "start_time": "2021-11-09T14:52:23.305Z"
   },
   {
    "duration": 1609,
    "start_time": "2021-11-09T14:52:24.379Z"
   },
   {
    "duration": 146,
    "start_time": "2021-11-09T14:52:25.992Z"
   },
   {
    "duration": 16,
    "start_time": "2021-11-09T14:52:26.144Z"
   },
   {
    "duration": 123,
    "start_time": "2021-11-09T14:52:26.162Z"
   },
   {
    "duration": 249,
    "start_time": "2021-11-09T14:52:26.287Z"
   },
   {
    "duration": 23,
    "start_time": "2021-11-09T14:52:26.539Z"
   },
   {
    "duration": 23,
    "start_time": "2021-11-09T14:52:26.564Z"
   },
   {
    "duration": 18,
    "start_time": "2021-11-09T14:52:26.589Z"
   },
   {
    "duration": 151,
    "start_time": "2021-11-09T14:52:26.609Z"
   },
   {
    "duration": 224,
    "start_time": "2021-11-09T14:52:26.761Z"
   },
   {
    "duration": 290,
    "start_time": "2021-11-09T14:52:26.986Z"
   },
   {
    "duration": 51,
    "start_time": "2021-11-09T14:52:27.277Z"
   },
   {
    "duration": 127,
    "start_time": "2021-11-09T14:52:27.330Z"
   },
   {
    "duration": 133,
    "start_time": "2021-11-09T14:52:27.458Z"
   },
   {
    "duration": 35,
    "start_time": "2021-11-09T14:52:27.593Z"
   },
   {
    "duration": 124,
    "start_time": "2021-11-09T14:52:27.645Z"
   },
   {
    "duration": 37,
    "start_time": "2021-11-09T14:52:27.771Z"
   },
   {
    "duration": 173,
    "start_time": "2021-11-09T14:52:27.810Z"
   },
   {
    "duration": 157,
    "start_time": "2021-11-09T14:52:27.985Z"
   },
   {
    "duration": 37,
    "start_time": "2021-11-09T14:52:28.145Z"
   },
   {
    "duration": 63,
    "start_time": "2021-11-09T14:52:28.185Z"
   },
   {
    "duration": 37,
    "start_time": "2021-11-09T14:52:28.250Z"
   },
   {
    "duration": 499,
    "start_time": "2021-11-09T14:52:28.289Z"
   },
   {
    "duration": 79,
    "start_time": "2021-11-09T14:52:28.790Z"
   },
   {
    "duration": 214,
    "start_time": "2021-11-09T14:52:28.870Z"
   },
   {
    "duration": 143,
    "start_time": "2021-11-09T14:52:29.086Z"
   },
   {
    "duration": 296,
    "start_time": "2021-11-09T14:52:29.231Z"
   },
   {
    "duration": 18,
    "start_time": "2021-11-09T14:52:29.529Z"
   },
   {
    "duration": 1117,
    "start_time": "2021-11-09T14:55:03.852Z"
   },
   {
    "duration": 1627,
    "start_time": "2021-11-09T14:55:04.971Z"
   },
   {
    "duration": 128,
    "start_time": "2021-11-09T14:55:06.600Z"
   },
   {
    "duration": 22,
    "start_time": "2021-11-09T14:55:06.730Z"
   },
   {
    "duration": 121,
    "start_time": "2021-11-09T14:55:06.753Z"
   },
   {
    "duration": 239,
    "start_time": "2021-11-09T14:55:06.875Z"
   },
   {
    "duration": 33,
    "start_time": "2021-11-09T14:55:07.116Z"
   },
   {
    "duration": 22,
    "start_time": "2021-11-09T14:55:07.151Z"
   },
   {
    "duration": 17,
    "start_time": "2021-11-09T14:55:07.175Z"
   },
   {
    "duration": 136,
    "start_time": "2021-11-09T14:55:07.193Z"
   },
   {
    "duration": 220,
    "start_time": "2021-11-09T14:55:07.331Z"
   },
   {
    "duration": 274,
    "start_time": "2021-11-09T14:55:07.553Z"
   },
   {
    "duration": 55,
    "start_time": "2021-11-09T14:55:07.828Z"
   },
   {
    "duration": 109,
    "start_time": "2021-11-09T14:55:07.884Z"
   },
   {
    "duration": 431,
    "start_time": "2021-11-09T14:55:07.995Z"
   },
   {
    "duration": 373,
    "start_time": "2021-11-09T14:55:08.056Z"
   },
   {
    "duration": 370,
    "start_time": "2021-11-09T14:55:08.060Z"
   },
   {
    "duration": 350,
    "start_time": "2021-11-09T14:55:08.081Z"
   },
   {
    "duration": 347,
    "start_time": "2021-11-09T14:55:08.085Z"
   },
   {
    "duration": 345,
    "start_time": "2021-11-09T14:55:08.088Z"
   },
   {
    "duration": 344,
    "start_time": "2021-11-09T14:55:08.090Z"
   },
   {
    "duration": 339,
    "start_time": "2021-11-09T14:55:08.096Z"
   },
   {
    "duration": 325,
    "start_time": "2021-11-09T14:55:08.111Z"
   },
   {
    "duration": 323,
    "start_time": "2021-11-09T14:55:08.114Z"
   },
   {
    "duration": 316,
    "start_time": "2021-11-09T14:55:08.122Z"
   },
   {
    "duration": 313,
    "start_time": "2021-11-09T14:55:08.126Z"
   },
   {
    "duration": 312,
    "start_time": "2021-11-09T14:55:08.128Z"
   },
   {
    "duration": 310,
    "start_time": "2021-11-09T14:55:08.131Z"
   },
   {
    "duration": 307,
    "start_time": "2021-11-09T14:55:08.135Z"
   },
   {
    "duration": 297,
    "start_time": "2021-11-09T14:55:08.146Z"
   },
   {
    "duration": 298,
    "start_time": "2021-11-09T15:04:24.336Z"
   },
   {
    "duration": 225,
    "start_time": "2021-11-09T15:04:37.575Z"
   },
   {
    "duration": 255,
    "start_time": "2021-11-09T15:05:04.360Z"
   },
   {
    "duration": 215,
    "start_time": "2021-11-09T15:05:44.920Z"
   },
   {
    "duration": 19,
    "start_time": "2021-11-09T15:06:13.981Z"
   },
   {
    "duration": 9,
    "start_time": "2021-11-09T20:14:37.066Z"
   },
   {
    "duration": 7,
    "start_time": "2021-11-09T20:16:47.516Z"
   },
   {
    "duration": 1080,
    "start_time": "2021-11-09T20:17:09.171Z"
   },
   {
    "duration": 1541,
    "start_time": "2021-11-09T20:17:10.254Z"
   },
   {
    "duration": 121,
    "start_time": "2021-11-09T20:17:11.799Z"
   },
   {
    "duration": 23,
    "start_time": "2021-11-09T20:17:11.922Z"
   },
   {
    "duration": 104,
    "start_time": "2021-11-09T20:17:11.947Z"
   },
   {
    "duration": 227,
    "start_time": "2021-11-09T20:17:12.052Z"
   },
   {
    "duration": 22,
    "start_time": "2021-11-09T20:17:12.281Z"
   },
   {
    "duration": 40,
    "start_time": "2021-11-09T20:17:12.305Z"
   },
   {
    "duration": 15,
    "start_time": "2021-11-09T20:17:12.347Z"
   },
   {
    "duration": 116,
    "start_time": "2021-11-09T20:17:12.364Z"
   },
   {
    "duration": 195,
    "start_time": "2021-11-09T20:17:12.481Z"
   },
   {
    "duration": 279,
    "start_time": "2021-11-09T20:17:12.677Z"
   },
   {
    "duration": 47,
    "start_time": "2021-11-09T20:17:12.957Z"
   },
   {
    "duration": 116,
    "start_time": "2021-11-09T20:17:13.005Z"
   },
   {
    "duration": 237,
    "start_time": "2021-11-09T20:17:13.122Z"
   },
   {
    "duration": 324,
    "start_time": "2021-11-09T20:17:13.360Z"
   },
   {
    "duration": 20,
    "start_time": "2021-11-09T20:17:13.685Z"
   },
   {
    "duration": 9,
    "start_time": "2021-11-09T20:17:13.707Z"
   },
   {
    "duration": 73,
    "start_time": "2021-11-09T20:17:13.718Z"
   },
   {
    "duration": 374,
    "start_time": "2021-11-09T20:17:13.793Z"
   },
   {
    "duration": 180,
    "start_time": "2021-11-09T20:17:13.990Z"
   },
   {
    "duration": 177,
    "start_time": "2021-11-09T20:17:13.995Z"
   },
   {
    "duration": 169,
    "start_time": "2021-11-09T20:17:14.004Z"
   },
   {
    "duration": 167,
    "start_time": "2021-11-09T20:17:14.008Z"
   },
   {
    "duration": 165,
    "start_time": "2021-11-09T20:17:14.011Z"
   },
   {
    "duration": 157,
    "start_time": "2021-11-09T20:17:14.020Z"
   },
   {
    "duration": 156,
    "start_time": "2021-11-09T20:17:14.023Z"
   },
   {
    "duration": 153,
    "start_time": "2021-11-09T20:17:14.027Z"
   },
   {
    "duration": 143,
    "start_time": "2021-11-09T20:17:14.038Z"
   },
   {
    "duration": 142,
    "start_time": "2021-11-09T20:17:14.041Z"
   },
   {
    "duration": 140,
    "start_time": "2021-11-09T20:17:14.044Z"
   },
   {
    "duration": 132,
    "start_time": "2021-11-09T20:17:14.053Z"
   },
   {
    "duration": 131,
    "start_time": "2021-11-09T20:17:14.056Z"
   },
   {
    "duration": 128,
    "start_time": "2021-11-09T20:17:14.060Z"
   },
   {
    "duration": 119,
    "start_time": "2021-11-09T20:17:14.070Z"
   },
   {
    "duration": 1113,
    "start_time": "2021-11-09T20:17:49.923Z"
   },
   {
    "duration": 1552,
    "start_time": "2021-11-09T20:17:51.038Z"
   },
   {
    "duration": 133,
    "start_time": "2021-11-09T20:17:52.592Z"
   },
   {
    "duration": 22,
    "start_time": "2021-11-09T20:17:52.727Z"
   },
   {
    "duration": 109,
    "start_time": "2021-11-09T20:17:52.752Z"
   },
   {
    "duration": 232,
    "start_time": "2021-11-09T20:17:52.864Z"
   },
   {
    "duration": 23,
    "start_time": "2021-11-09T20:17:53.098Z"
   },
   {
    "duration": 41,
    "start_time": "2021-11-09T20:17:53.125Z"
   },
   {
    "duration": 16,
    "start_time": "2021-11-09T20:17:53.168Z"
   },
   {
    "duration": 128,
    "start_time": "2021-11-09T20:17:53.185Z"
   },
   {
    "duration": 200,
    "start_time": "2021-11-09T20:17:53.314Z"
   },
   {
    "duration": 267,
    "start_time": "2021-11-09T20:17:53.515Z"
   },
   {
    "duration": 46,
    "start_time": "2021-11-09T20:17:53.783Z"
   },
   {
    "duration": 121,
    "start_time": "2021-11-09T20:17:53.831Z"
   },
   {
    "duration": 241,
    "start_time": "2021-11-09T20:17:53.954Z"
   },
   {
    "duration": 221,
    "start_time": "2021-11-09T20:17:54.197Z"
   },
   {
    "duration": 33,
    "start_time": "2021-11-09T20:17:54.420Z"
   },
   {
    "duration": 8,
    "start_time": "2021-11-09T20:17:54.455Z"
   },
   {
    "duration": 109,
    "start_time": "2021-11-09T20:17:54.465Z"
   },
   {
    "duration": 332,
    "start_time": "2021-11-09T20:17:54.575Z"
   },
   {
    "duration": 115,
    "start_time": "2021-11-09T20:17:54.794Z"
   },
   {
    "duration": 112,
    "start_time": "2021-11-09T20:17:54.798Z"
   },
   {
    "duration": 110,
    "start_time": "2021-11-09T20:17:54.801Z"
   },
   {
    "duration": 101,
    "start_time": "2021-11-09T20:17:54.811Z"
   },
   {
    "duration": 98,
    "start_time": "2021-11-09T20:17:54.814Z"
   },
   {
    "duration": 95,
    "start_time": "2021-11-09T20:17:54.818Z"
   },
   {
    "duration": 85,
    "start_time": "2021-11-09T20:17:54.829Z"
   },
   {
    "duration": 82,
    "start_time": "2021-11-09T20:17:54.833Z"
   },
   {
    "duration": 72,
    "start_time": "2021-11-09T20:17:54.844Z"
   },
   {
    "duration": 70,
    "start_time": "2021-11-09T20:17:54.847Z"
   },
   {
    "duration": 67,
    "start_time": "2021-11-09T20:17:54.850Z"
   },
   {
    "duration": 58,
    "start_time": "2021-11-09T20:17:54.860Z"
   },
   {
    "duration": -192,
    "start_time": "2021-11-09T20:17:55.111Z"
   },
   {
    "duration": -195,
    "start_time": "2021-11-09T20:17:55.115Z"
   },
   {
    "duration": -199,
    "start_time": "2021-11-09T20:17:55.120Z"
   },
   {
    "duration": 8,
    "start_time": "2021-11-09T20:21:06.626Z"
   },
   {
    "duration": 9,
    "start_time": "2021-11-09T20:22:44.856Z"
   },
   {
    "duration": 297,
    "start_time": "2021-11-09T20:26:31.368Z"
   },
   {
    "duration": 246,
    "start_time": "2021-11-09T20:27:08.680Z"
   },
   {
    "duration": 269,
    "start_time": "2021-11-09T20:27:27.253Z"
   },
   {
    "duration": 32,
    "start_time": "2021-11-09T20:27:47.125Z"
   },
   {
    "duration": 8,
    "start_time": "2021-11-09T20:30:59.099Z"
   },
   {
    "duration": 35,
    "start_time": "2021-11-09T20:31:26.066Z"
   },
   {
    "duration": 289,
    "start_time": "2021-11-09T20:37:53.030Z"
   },
   {
    "duration": 300,
    "start_time": "2021-11-09T20:43:19.954Z"
   },
   {
    "duration": 42,
    "start_time": "2021-11-09T20:43:35.520Z"
   },
   {
    "duration": 87,
    "start_time": "2021-11-09T20:43:49.387Z"
   },
   {
    "duration": 8,
    "start_time": "2021-11-09T20:44:22.801Z"
   },
   {
    "duration": 1177,
    "start_time": "2021-11-09T20:45:14.900Z"
   },
   {
    "duration": 1732,
    "start_time": "2021-11-09T20:45:16.080Z"
   },
   {
    "duration": 133,
    "start_time": "2021-11-09T20:45:17.814Z"
   },
   {
    "duration": 15,
    "start_time": "2021-11-09T20:45:17.948Z"
   },
   {
    "duration": 117,
    "start_time": "2021-11-09T20:45:17.965Z"
   },
   {
    "duration": 230,
    "start_time": "2021-11-09T20:45:18.083Z"
   },
   {
    "duration": 30,
    "start_time": "2021-11-09T20:45:18.315Z"
   },
   {
    "duration": 21,
    "start_time": "2021-11-09T20:45:18.348Z"
   },
   {
    "duration": 15,
    "start_time": "2021-11-09T20:45:18.371Z"
   },
   {
    "duration": 131,
    "start_time": "2021-11-09T20:45:18.388Z"
   },
   {
    "duration": 209,
    "start_time": "2021-11-09T20:45:18.520Z"
   },
   {
    "duration": 261,
    "start_time": "2021-11-09T20:45:18.730Z"
   },
   {
    "duration": 55,
    "start_time": "2021-11-09T20:45:18.992Z"
   },
   {
    "duration": 110,
    "start_time": "2021-11-09T20:45:19.048Z"
   },
   {
    "duration": 236,
    "start_time": "2021-11-09T20:45:19.159Z"
   },
   {
    "duration": 219,
    "start_time": "2021-11-09T20:45:19.396Z"
   },
   {
    "duration": 28,
    "start_time": "2021-11-09T20:45:19.617Z"
   },
   {
    "duration": 8,
    "start_time": "2021-11-09T20:45:19.647Z"
   },
   {
    "duration": 112,
    "start_time": "2021-11-09T20:45:19.657Z"
   },
   {
    "duration": 9,
    "start_time": "2021-11-09T20:45:19.771Z"
   },
   {
    "duration": 43,
    "start_time": "2021-11-09T20:45:19.782Z"
   },
   {
    "duration": 20,
    "start_time": "2021-11-09T20:45:19.827Z"
   },
   {
    "duration": 41,
    "start_time": "2021-11-09T20:45:19.851Z"
   },
   {
    "duration": 304,
    "start_time": "2021-11-09T20:45:19.894Z"
   },
   {
    "duration": 32,
    "start_time": "2021-11-09T20:45:20.200Z"
   },
   {
    "duration": 97,
    "start_time": "2021-11-09T20:45:20.234Z"
   },
   {
    "duration": 17,
    "start_time": "2021-11-09T20:45:20.333Z"
   },
   {
    "duration": 345,
    "start_time": "2021-11-09T20:45:20.352Z"
   },
   {
    "duration": 110,
    "start_time": "2021-11-09T20:45:20.589Z"
   },
   {
    "duration": 101,
    "start_time": "2021-11-09T20:45:20.599Z"
   },
   {
    "duration": 95,
    "start_time": "2021-11-09T20:45:20.606Z"
   },
   {
    "duration": 88,
    "start_time": "2021-11-09T20:45:20.614Z"
   },
   {
    "duration": 81,
    "start_time": "2021-11-09T20:45:20.621Z"
   },
   {
    "duration": 74,
    "start_time": "2021-11-09T20:45:20.629Z"
   },
   {
    "duration": 68,
    "start_time": "2021-11-09T20:45:20.636Z"
   },
   {
    "duration": 61,
    "start_time": "2021-11-09T20:45:20.644Z"
   },
   {
    "duration": 56,
    "start_time": "2021-11-09T20:45:20.650Z"
   },
   {
    "duration": 49,
    "start_time": "2021-11-09T20:45:20.658Z"
   },
   {
    "duration": 43,
    "start_time": "2021-11-09T20:45:20.665Z"
   },
   {
    "duration": 36,
    "start_time": "2021-11-09T20:45:20.673Z"
   },
   {
    "duration": 13,
    "start_time": "2021-11-09T20:45:20.697Z"
   },
   {
    "duration": 4,
    "start_time": "2021-11-09T20:45:20.707Z"
   },
   {
    "duration": 249,
    "start_time": "2021-11-09T20:46:25.370Z"
   },
   {
    "duration": 9,
    "start_time": "2021-11-09T20:48:08.247Z"
   },
   {
    "duration": 237,
    "start_time": "2021-11-09T20:48:41.509Z"
   },
   {
    "duration": 259,
    "start_time": "2021-11-09T20:49:52.007Z"
   },
   {
    "duration": 14,
    "start_time": "2021-11-09T20:50:18.368Z"
   },
   {
    "duration": 1123,
    "start_time": "2021-11-09T20:52:40.730Z"
   },
   {
    "duration": 1543,
    "start_time": "2021-11-09T20:52:41.855Z"
   },
   {
    "duration": 119,
    "start_time": "2021-11-09T20:52:43.400Z"
   },
   {
    "duration": 15,
    "start_time": "2021-11-09T20:52:43.521Z"
   },
   {
    "duration": 115,
    "start_time": "2021-11-09T20:52:43.545Z"
   },
   {
    "duration": 231,
    "start_time": "2021-11-09T20:52:43.661Z"
   },
   {
    "duration": 23,
    "start_time": "2021-11-09T20:52:43.894Z"
   },
   {
    "duration": 38,
    "start_time": "2021-11-09T20:52:43.919Z"
   },
   {
    "duration": 16,
    "start_time": "2021-11-09T20:52:43.959Z"
   },
   {
    "duration": 129,
    "start_time": "2021-11-09T20:52:43.976Z"
   },
   {
    "duration": 200,
    "start_time": "2021-11-09T20:52:44.107Z"
   },
   {
    "duration": 281,
    "start_time": "2021-11-09T20:52:44.309Z"
   },
   {
    "duration": 63,
    "start_time": "2021-11-09T20:52:44.591Z"
   },
   {
    "duration": 111,
    "start_time": "2021-11-09T20:52:44.656Z"
   },
   {
    "duration": 9,
    "start_time": "2021-11-09T20:52:44.769Z"
   },
   {
    "duration": 253,
    "start_time": "2021-11-09T20:52:44.779Z"
   },
   {
    "duration": 230,
    "start_time": "2021-11-09T20:52:45.034Z"
   },
   {
    "duration": 19,
    "start_time": "2021-11-09T20:52:45.266Z"
   },
   {
    "duration": 8,
    "start_time": "2021-11-09T20:52:45.287Z"
   },
   {
    "duration": 124,
    "start_time": "2021-11-09T20:52:45.297Z"
   },
   {
    "duration": 8,
    "start_time": "2021-11-09T20:52:45.423Z"
   },
   {
    "duration": 51,
    "start_time": "2021-11-09T20:52:45.432Z"
   },
   {
    "duration": 7,
    "start_time": "2021-11-09T20:52:45.486Z"
   },
   {
    "duration": 60,
    "start_time": "2021-11-09T20:52:45.495Z"
   },
   {
    "duration": 287,
    "start_time": "2021-11-09T20:52:45.557Z"
   },
   {
    "duration": 30,
    "start_time": "2021-11-09T20:52:45.846Z"
   },
   {
    "duration": 98,
    "start_time": "2021-11-09T20:52:45.878Z"
   },
   {
    "duration": 7,
    "start_time": "2021-11-09T20:52:45.978Z"
   },
   {
    "duration": 268,
    "start_time": "2021-11-09T20:52:45.986Z"
   },
   {
    "duration": 14,
    "start_time": "2021-11-09T20:52:46.256Z"
   },
   {
    "duration": 107,
    "start_time": "2021-11-09T20:52:46.271Z"
   },
   {
    "duration": 32,
    "start_time": "2021-11-09T20:52:46.379Z"
   },
   {
    "duration": 106,
    "start_time": "2021-11-09T20:52:46.413Z"
   },
   {
    "duration": 33,
    "start_time": "2021-11-09T20:52:46.521Z"
   },
   {
    "duration": 134,
    "start_time": "2021-11-09T20:52:46.556Z"
   },
   {
    "duration": 89,
    "start_time": "2021-11-09T20:52:46.692Z"
   },
   {
    "duration": 32,
    "start_time": "2021-11-09T20:52:46.783Z"
   },
   {
    "duration": 51,
    "start_time": "2021-11-09T20:52:46.816Z"
   },
   {
    "duration": 40,
    "start_time": "2021-11-09T20:52:46.868Z"
   },
   {
    "duration": 460,
    "start_time": "2021-11-09T20:52:46.909Z"
   },
   {
    "duration": 38,
    "start_time": "2021-11-09T20:52:47.371Z"
   },
   {
    "duration": 159,
    "start_time": "2021-11-09T20:52:47.411Z"
   },
   {
    "duration": 338,
    "start_time": "2021-11-09T20:52:47.572Z"
   },
   {
    "duration": 14,
    "start_time": "2021-11-09T20:52:47.912Z"
   },
   {
    "duration": 1102,
    "start_time": "2021-11-09T20:56:16.537Z"
   },
   {
    "duration": 1527,
    "start_time": "2021-11-09T20:56:17.641Z"
   },
   {
    "duration": 125,
    "start_time": "2021-11-09T20:56:19.170Z"
   },
   {
    "duration": 14,
    "start_time": "2021-11-09T20:56:19.297Z"
   },
   {
    "duration": 117,
    "start_time": "2021-11-09T20:56:19.313Z"
   },
   {
    "duration": 221,
    "start_time": "2021-11-09T20:56:19.432Z"
   },
   {
    "duration": 23,
    "start_time": "2021-11-09T20:56:19.655Z"
   },
   {
    "duration": 21,
    "start_time": "2021-11-09T20:56:19.680Z"
   },
   {
    "duration": 43,
    "start_time": "2021-11-09T20:56:19.703Z"
   },
   {
    "duration": 110,
    "start_time": "2021-11-09T20:56:19.748Z"
   },
   {
    "duration": 195,
    "start_time": "2021-11-09T20:56:19.860Z"
   },
   {
    "duration": 256,
    "start_time": "2021-11-09T20:56:20.057Z"
   },
   {
    "duration": 59,
    "start_time": "2021-11-09T20:56:20.315Z"
   },
   {
    "duration": 104,
    "start_time": "2021-11-09T20:56:20.376Z"
   },
   {
    "duration": 8,
    "start_time": "2021-11-09T20:56:20.481Z"
   },
   {
    "duration": 237,
    "start_time": "2021-11-09T20:56:20.491Z"
   },
   {
    "duration": 219,
    "start_time": "2021-11-09T20:56:20.729Z"
   },
   {
    "duration": 18,
    "start_time": "2021-11-09T20:56:20.950Z"
   },
   {
    "duration": 7,
    "start_time": "2021-11-09T20:56:20.970Z"
   },
   {
    "duration": 121,
    "start_time": "2021-11-09T20:56:20.979Z"
   },
   {
    "duration": 8,
    "start_time": "2021-11-09T20:56:21.101Z"
   },
   {
    "duration": 55,
    "start_time": "2021-11-09T20:56:21.110Z"
   },
   {
    "duration": 8,
    "start_time": "2021-11-09T20:56:21.168Z"
   },
   {
    "duration": 49,
    "start_time": "2021-11-09T20:56:21.177Z"
   },
   {
    "duration": 295,
    "start_time": "2021-11-09T20:56:21.227Z"
   },
   {
    "duration": 35,
    "start_time": "2021-11-09T20:56:21.524Z"
   },
   {
    "duration": 96,
    "start_time": "2021-11-09T20:56:21.561Z"
   },
   {
    "duration": 8,
    "start_time": "2021-11-09T20:56:21.658Z"
   },
   {
    "duration": 260,
    "start_time": "2021-11-09T20:56:21.668Z"
   },
   {
    "duration": 23,
    "start_time": "2021-11-09T20:56:21.929Z"
   },
   {
    "duration": 63,
    "start_time": "2021-11-09T20:56:21.954Z"
   },
   {
    "duration": 5301,
    "start_time": "2021-11-09T20:56:22.018Z"
   },
   {
    "duration": 38,
    "start_time": "2021-11-09T20:56:27.282Z"
   },
   {
    "duration": -1,
    "start_time": "2021-11-09T20:56:27.322Z"
   },
   {
    "duration": -12,
    "start_time": "2021-11-09T20:56:27.334Z"
   },
   {
    "duration": -61,
    "start_time": "2021-11-09T20:56:27.384Z"
   },
   {
    "duration": -90,
    "start_time": "2021-11-09T20:56:27.414Z"
   },
   {
    "duration": -145,
    "start_time": "2021-11-09T20:56:27.469Z"
   },
   {
    "duration": -154,
    "start_time": "2021-11-09T20:56:27.479Z"
   },
   {
    "duration": -163,
    "start_time": "2021-11-09T20:56:27.489Z"
   },
   {
    "duration": -166,
    "start_time": "2021-11-09T20:56:27.493Z"
   },
   {
    "duration": -169,
    "start_time": "2021-11-09T20:56:27.497Z"
   },
   {
    "duration": -179,
    "start_time": "2021-11-09T20:56:27.508Z"
   },
   {
    "duration": -184,
    "start_time": "2021-11-09T20:56:27.513Z"
   },
   {
    "duration": -192,
    "start_time": "2021-11-09T20:56:27.522Z"
   },
   {
    "duration": -195,
    "start_time": "2021-11-09T20:56:27.526Z"
   },
   {
    "duration": 1172,
    "start_time": "2021-11-09T20:57:50.966Z"
   },
   {
    "duration": 1554,
    "start_time": "2021-11-09T20:57:52.140Z"
   },
   {
    "duration": 124,
    "start_time": "2021-11-09T20:57:53.696Z"
   },
   {
    "duration": 27,
    "start_time": "2021-11-09T20:57:53.822Z"
   },
   {
    "duration": 104,
    "start_time": "2021-11-09T20:57:53.851Z"
   },
   {
    "duration": 235,
    "start_time": "2021-11-09T20:57:53.957Z"
   },
   {
    "duration": 23,
    "start_time": "2021-11-09T20:57:54.194Z"
   },
   {
    "duration": 35,
    "start_time": "2021-11-09T20:57:54.219Z"
   },
   {
    "duration": 16,
    "start_time": "2021-11-09T20:57:54.256Z"
   },
   {
    "duration": 126,
    "start_time": "2021-11-09T20:57:54.273Z"
   },
   {
    "duration": 199,
    "start_time": "2021-11-09T20:57:54.401Z"
   },
   {
    "duration": 272,
    "start_time": "2021-11-09T20:57:54.602Z"
   },
   {
    "duration": 48,
    "start_time": "2021-11-09T20:57:54.876Z"
   },
   {
    "duration": 120,
    "start_time": "2021-11-09T20:57:54.925Z"
   },
   {
    "duration": 9,
    "start_time": "2021-11-09T20:57:55.046Z"
   },
   {
    "duration": 236,
    "start_time": "2021-11-09T20:57:55.057Z"
   },
   {
    "duration": 210,
    "start_time": "2021-11-09T20:57:55.295Z"
   },
   {
    "duration": 19,
    "start_time": "2021-11-09T20:57:55.507Z"
   },
   {
    "duration": 23,
    "start_time": "2021-11-09T20:57:55.528Z"
   },
   {
    "duration": 113,
    "start_time": "2021-11-09T20:57:55.553Z"
   },
   {
    "duration": 8,
    "start_time": "2021-11-09T20:57:55.668Z"
   },
   {
    "duration": 58,
    "start_time": "2021-11-09T20:57:55.677Z"
   },
   {
    "duration": 7,
    "start_time": "2021-11-09T20:57:55.739Z"
   },
   {
    "duration": 52,
    "start_time": "2021-11-09T20:57:55.748Z"
   },
   {
    "duration": 275,
    "start_time": "2021-11-09T20:57:55.802Z"
   },
   {
    "duration": 30,
    "start_time": "2021-11-09T20:57:56.079Z"
   },
   {
    "duration": 102,
    "start_time": "2021-11-09T20:57:56.111Z"
   },
   {
    "duration": 12,
    "start_time": "2021-11-09T20:57:56.215Z"
   },
   {
    "duration": 39,
    "start_time": "2021-11-09T20:57:56.229Z"
   },
   {
    "duration": 258,
    "start_time": "2021-11-09T20:57:56.270Z"
   },
   {
    "duration": 23,
    "start_time": "2021-11-09T20:57:56.530Z"
   },
   {
    "duration": 59,
    "start_time": "2021-11-09T20:57:56.555Z"
   },
   {
    "duration": 335,
    "start_time": "2021-11-09T20:57:56.615Z"
   },
   {
    "duration": 128,
    "start_time": "2021-11-09T20:57:56.825Z"
   },
   {
    "duration": 120,
    "start_time": "2021-11-09T20:57:56.834Z"
   },
   {
    "duration": 115,
    "start_time": "2021-11-09T20:57:56.841Z"
   },
   {
    "duration": 109,
    "start_time": "2021-11-09T20:57:56.849Z"
   },
   {
    "duration": 103,
    "start_time": "2021-11-09T20:57:56.856Z"
   },
   {
    "duration": 97,
    "start_time": "2021-11-09T20:57:56.864Z"
   },
   {
    "duration": 91,
    "start_time": "2021-11-09T20:57:56.871Z"
   },
   {
    "duration": 85,
    "start_time": "2021-11-09T20:57:56.879Z"
   },
   {
    "duration": 80,
    "start_time": "2021-11-09T20:57:56.885Z"
   },
   {
    "duration": 75,
    "start_time": "2021-11-09T20:57:56.892Z"
   },
   {
    "duration": 71,
    "start_time": "2021-11-09T20:57:56.897Z"
   },
   {
    "duration": 68,
    "start_time": "2021-11-09T20:57:56.902Z"
   },
   {
    "duration": 66,
    "start_time": "2021-11-09T20:57:56.905Z"
   },
   {
    "duration": 57,
    "start_time": "2021-11-09T20:57:56.916Z"
   },
   {
    "duration": 20,
    "start_time": "2021-11-09T21:03:32.579Z"
   },
   {
    "duration": 108,
    "start_time": "2021-11-09T21:03:34.470Z"
   },
   {
    "duration": 1206,
    "start_time": "2021-11-09T21:04:00.307Z"
   },
   {
    "duration": 1624,
    "start_time": "2021-11-09T21:04:01.515Z"
   },
   {
    "duration": 124,
    "start_time": "2021-11-09T21:04:03.141Z"
   },
   {
    "duration": 15,
    "start_time": "2021-11-09T21:04:03.267Z"
   },
   {
    "duration": 115,
    "start_time": "2021-11-09T21:04:03.284Z"
   },
   {
    "duration": 231,
    "start_time": "2021-11-09T21:04:03.400Z"
   },
   {
    "duration": 31,
    "start_time": "2021-11-09T21:04:03.633Z"
   },
   {
    "duration": 21,
    "start_time": "2021-11-09T21:04:03.667Z"
   },
   {
    "duration": 15,
    "start_time": "2021-11-09T21:04:03.690Z"
   },
   {
    "duration": 141,
    "start_time": "2021-11-09T21:04:03.707Z"
   },
   {
    "duration": 211,
    "start_time": "2021-11-09T21:04:03.849Z"
   },
   {
    "duration": 283,
    "start_time": "2021-11-09T21:04:04.061Z"
   },
   {
    "duration": 48,
    "start_time": "2021-11-09T21:04:04.346Z"
   },
   {
    "duration": 123,
    "start_time": "2021-11-09T21:04:04.396Z"
   },
   {
    "duration": 9,
    "start_time": "2021-11-09T21:04:04.521Z"
   },
   {
    "duration": 248,
    "start_time": "2021-11-09T21:04:04.544Z"
   },
   {
    "duration": 224,
    "start_time": "2021-11-09T21:04:04.794Z"
   },
   {
    "duration": 28,
    "start_time": "2021-11-09T21:04:05.020Z"
   },
   {
    "duration": 8,
    "start_time": "2021-11-09T21:04:05.050Z"
   },
   {
    "duration": 113,
    "start_time": "2021-11-09T21:04:05.060Z"
   },
   {
    "duration": 8,
    "start_time": "2021-11-09T21:04:05.175Z"
   },
   {
    "duration": 76,
    "start_time": "2021-11-09T21:04:05.184Z"
   },
   {
    "duration": 24,
    "start_time": "2021-11-09T21:04:05.264Z"
   },
   {
    "duration": 50,
    "start_time": "2021-11-09T21:04:05.290Z"
   },
   {
    "duration": 299,
    "start_time": "2021-11-09T21:04:05.342Z"
   },
   {
    "duration": 31,
    "start_time": "2021-11-09T21:04:05.642Z"
   },
   {
    "duration": 107,
    "start_time": "2021-11-09T21:04:05.675Z"
   },
   {
    "duration": 13,
    "start_time": "2021-11-09T21:04:05.784Z"
   },
   {
    "duration": 21,
    "start_time": "2021-11-09T21:04:05.799Z"
   },
   {
    "duration": 252,
    "start_time": "2021-11-09T21:04:05.821Z"
   },
   {
    "duration": 14,
    "start_time": "2021-11-09T21:04:06.074Z"
   },
   {
    "duration": 78,
    "start_time": "2021-11-09T21:04:06.090Z"
   },
   {
    "duration": 18,
    "start_time": "2021-11-09T21:04:06.170Z"
   },
   {
    "duration": 85,
    "start_time": "2021-11-09T21:04:06.190Z"
   },
   {
    "duration": 353,
    "start_time": "2021-11-09T21:04:06.277Z"
   },
   {
    "duration": 118,
    "start_time": "2021-11-09T21:04:06.514Z"
   },
   {
    "duration": 111,
    "start_time": "2021-11-09T21:04:06.522Z"
   },
   {
    "duration": 100,
    "start_time": "2021-11-09T21:04:06.534Z"
   },
   {
    "duration": 72,
    "start_time": "2021-11-09T21:04:06.562Z"
   },
   {
    "duration": 64,
    "start_time": "2021-11-09T21:04:06.571Z"
   },
   {
    "duration": 57,
    "start_time": "2021-11-09T21:04:06.579Z"
   },
   {
    "duration": 49,
    "start_time": "2021-11-09T21:04:06.588Z"
   },
   {
    "duration": 45,
    "start_time": "2021-11-09T21:04:06.593Z"
   },
   {
    "duration": 40,
    "start_time": "2021-11-09T21:04:06.598Z"
   },
   {
    "duration": 36,
    "start_time": "2021-11-09T21:04:06.603Z"
   },
   {
    "duration": 33,
    "start_time": "2021-11-09T21:04:06.607Z"
   },
   {
    "duration": 30,
    "start_time": "2021-11-09T21:04:06.611Z"
   },
   {
    "duration": 27,
    "start_time": "2021-11-09T21:04:06.615Z"
   },
   {
    "duration": 25,
    "start_time": "2021-11-09T21:04:06.618Z"
   },
   {
    "duration": 85,
    "start_time": "2021-11-09T21:05:13.711Z"
   },
   {
    "duration": 32,
    "start_time": "2021-11-09T21:05:30.440Z"
   },
   {
    "duration": 61,
    "start_time": "2021-11-09T21:06:35.290Z"
   },
   {
    "duration": 32,
    "start_time": "2021-11-09T21:06:37.096Z"
   },
   {
    "duration": 76,
    "start_time": "2021-11-09T21:06:45.005Z"
   },
   {
    "duration": 67,
    "start_time": "2021-11-09T21:06:45.794Z"
   },
   {
    "duration": 35,
    "start_time": "2021-11-09T21:06:52.839Z"
   },
   {
    "duration": 34,
    "start_time": "2021-11-09T21:06:58.447Z"
   },
   {
    "duration": 33,
    "start_time": "2021-11-09T21:07:02.085Z"
   },
   {
    "duration": 381,
    "start_time": "2021-11-09T21:07:24.647Z"
   },
   {
    "duration": 23,
    "start_time": "2021-11-09T21:07:26.314Z"
   },
   {
    "duration": 52,
    "start_time": "2021-11-09T21:07:40.253Z"
   },
   {
    "duration": 1114,
    "start_time": "2021-11-09T21:09:36.557Z"
   },
   {
    "duration": 1612,
    "start_time": "2021-11-09T21:09:37.673Z"
   },
   {
    "duration": 132,
    "start_time": "2021-11-09T21:09:39.287Z"
   },
   {
    "duration": 30,
    "start_time": "2021-11-09T21:09:39.421Z"
   },
   {
    "duration": 136,
    "start_time": "2021-11-09T21:09:39.453Z"
   },
   {
    "duration": 440,
    "start_time": "2021-11-09T21:09:39.591Z"
   },
   {
    "duration": 938,
    "start_time": "2021-11-09T21:09:40.033Z"
   },
   {
    "duration": 243,
    "start_time": "2021-11-09T21:09:40.974Z"
   },
   {
    "duration": 35,
    "start_time": "2021-11-09T21:09:41.219Z"
   },
   {
    "duration": 21,
    "start_time": "2021-11-09T21:09:41.256Z"
   },
   {
    "duration": 16,
    "start_time": "2021-11-09T21:09:41.278Z"
   },
   {
    "duration": 137,
    "start_time": "2021-11-09T21:09:41.296Z"
   },
   {
    "duration": 210,
    "start_time": "2021-11-09T21:09:41.435Z"
   },
   {
    "duration": 265,
    "start_time": "2021-11-09T21:09:41.647Z"
   },
   {
    "duration": 61,
    "start_time": "2021-11-09T21:09:41.914Z"
   },
   {
    "duration": 107,
    "start_time": "2021-11-09T21:09:41.977Z"
   },
   {
    "duration": 9,
    "start_time": "2021-11-09T21:09:42.086Z"
   },
   {
    "duration": 249,
    "start_time": "2021-11-09T21:09:42.097Z"
   },
   {
    "duration": 225,
    "start_time": "2021-11-09T21:09:42.348Z"
   },
   {
    "duration": 18,
    "start_time": "2021-11-09T21:09:42.575Z"
   },
   {
    "duration": 7,
    "start_time": "2021-11-09T21:09:42.595Z"
   },
   {
    "duration": 92,
    "start_time": "2021-11-09T21:09:42.603Z"
   },
   {
    "duration": 7,
    "start_time": "2021-11-09T21:09:42.699Z"
   },
   {
    "duration": 60,
    "start_time": "2021-11-09T21:09:42.708Z"
   },
   {
    "duration": 7,
    "start_time": "2021-11-09T21:09:42.770Z"
   },
   {
    "duration": 48,
    "start_time": "2021-11-09T21:09:42.779Z"
   },
   {
    "duration": 305,
    "start_time": "2021-11-09T21:09:42.829Z"
   },
   {
    "duration": 35,
    "start_time": "2021-11-09T21:09:43.135Z"
   },
   {
    "duration": 101,
    "start_time": "2021-11-09T21:09:43.171Z"
   },
   {
    "duration": 14,
    "start_time": "2021-11-09T21:09:43.273Z"
   },
   {
    "duration": 12,
    "start_time": "2021-11-09T21:09:43.288Z"
   },
   {
    "duration": 274,
    "start_time": "2021-11-09T21:09:43.301Z"
   },
   {
    "duration": 16,
    "start_time": "2021-11-09T21:09:43.577Z"
   },
   {
    "duration": 91,
    "start_time": "2021-11-09T21:09:43.596Z"
   },
   {
    "duration": 20,
    "start_time": "2021-11-09T21:09:43.689Z"
   },
   {
    "duration": 89,
    "start_time": "2021-11-09T21:09:43.711Z"
   },
   {
    "duration": 95,
    "start_time": "2021-11-09T21:09:43.802Z"
   },
   {
    "duration": 30,
    "start_time": "2021-11-09T21:09:43.898Z"
   },
   {
    "duration": 61,
    "start_time": "2021-11-09T21:09:43.943Z"
   },
   {
    "duration": 44,
    "start_time": "2021-11-09T21:09:44.006Z"
   },
   {
    "duration": 74,
    "start_time": "2021-11-09T21:09:44.052Z"
   },
   {
    "duration": 82,
    "start_time": "2021-11-09T21:09:44.127Z"
   },
   {
    "duration": 43,
    "start_time": "2021-11-09T21:09:44.211Z"
   },
   {
    "duration": 32,
    "start_time": "2021-11-09T21:09:44.255Z"
   },
   {
    "duration": 30,
    "start_time": "2021-11-09T21:09:44.289Z"
   },
   {
    "duration": 402,
    "start_time": "2021-11-09T21:09:44.345Z"
   },
   {
    "duration": 22,
    "start_time": "2021-11-09T21:09:44.749Z"
   },
   {
    "duration": 8,
    "start_time": "2021-11-09T21:09:44.773Z"
   },
   {
    "duration": 124,
    "start_time": "2021-11-09T21:13:21.296Z"
   },
   {
    "duration": 119,
    "start_time": "2021-11-09T21:14:53.303Z"
   },
   {
    "duration": 354,
    "start_time": "2021-11-09T21:48:00.312Z"
   },
   {
    "duration": 7,
    "start_time": "2021-11-09T21:49:09.893Z"
   },
   {
    "duration": 262,
    "start_time": "2021-11-09T21:49:13.745Z"
   },
   {
    "duration": 1093,
    "start_time": "2021-11-09T21:50:22.865Z"
   },
   {
    "duration": 1555,
    "start_time": "2021-11-09T21:50:23.960Z"
   },
   {
    "duration": 129,
    "start_time": "2021-11-09T21:50:25.519Z"
   },
   {
    "duration": 15,
    "start_time": "2021-11-09T21:50:25.650Z"
   },
   {
    "duration": 114,
    "start_time": "2021-11-09T21:50:25.667Z"
   },
   {
    "duration": 435,
    "start_time": "2021-11-09T21:50:25.783Z"
   },
   {
    "duration": 924,
    "start_time": "2021-11-09T21:50:26.221Z"
   },
   {
    "duration": 237,
    "start_time": "2021-11-09T21:50:27.147Z"
   },
   {
    "duration": 23,
    "start_time": "2021-11-09T21:50:27.385Z"
   },
   {
    "duration": 39,
    "start_time": "2021-11-09T21:50:27.410Z"
   },
   {
    "duration": 15,
    "start_time": "2021-11-09T21:50:27.451Z"
   },
   {
    "duration": 139,
    "start_time": "2021-11-09T21:50:27.468Z"
   },
   {
    "duration": 221,
    "start_time": "2021-11-09T21:50:27.608Z"
   },
   {
    "duration": 266,
    "start_time": "2021-11-09T21:50:27.831Z"
   },
   {
    "duration": 57,
    "start_time": "2021-11-09T21:50:28.099Z"
   },
   {
    "duration": 109,
    "start_time": "2021-11-09T21:50:28.158Z"
   },
   {
    "duration": 8,
    "start_time": "2021-11-09T21:50:28.269Z"
   },
   {
    "duration": 256,
    "start_time": "2021-11-09T21:50:28.279Z"
   },
   {
    "duration": 225,
    "start_time": "2021-11-09T21:50:28.536Z"
   },
   {
    "duration": 21,
    "start_time": "2021-11-09T21:50:28.763Z"
   },
   {
    "duration": 8,
    "start_time": "2021-11-09T21:50:28.786Z"
   },
   {
    "duration": 98,
    "start_time": "2021-11-09T21:50:28.798Z"
   },
   {
    "duration": 8,
    "start_time": "2021-11-09T21:50:28.898Z"
   },
   {
    "duration": 56,
    "start_time": "2021-11-09T21:50:28.908Z"
   },
   {
    "duration": 8,
    "start_time": "2021-11-09T21:50:28.965Z"
   },
   {
    "duration": 49,
    "start_time": "2021-11-09T21:50:28.975Z"
   },
   {
    "duration": 304,
    "start_time": "2021-11-09T21:50:29.026Z"
   },
   {
    "duration": 39,
    "start_time": "2021-11-09T21:50:29.332Z"
   },
   {
    "duration": 95,
    "start_time": "2021-11-09T21:50:29.373Z"
   },
   {
    "duration": 14,
    "start_time": "2021-11-09T21:50:29.469Z"
   },
   {
    "duration": 28,
    "start_time": "2021-11-09T21:50:29.484Z"
   },
   {
    "duration": 244,
    "start_time": "2021-11-09T21:50:29.514Z"
   },
   {
    "duration": 14,
    "start_time": "2021-11-09T21:50:29.760Z"
   },
   {
    "duration": 73,
    "start_time": "2021-11-09T21:50:29.776Z"
   },
   {
    "duration": 19,
    "start_time": "2021-11-09T21:50:29.851Z"
   },
   {
    "duration": 83,
    "start_time": "2021-11-09T21:50:29.871Z"
   },
   {
    "duration": 92,
    "start_time": "2021-11-09T21:50:29.955Z"
   },
   {
    "duration": 30,
    "start_time": "2021-11-09T21:50:30.049Z"
   },
   {
    "duration": 78,
    "start_time": "2021-11-09T21:50:30.080Z"
   },
   {
    "duration": 31,
    "start_time": "2021-11-09T21:50:30.160Z"
   },
   {
    "duration": 100,
    "start_time": "2021-11-09T21:50:30.192Z"
   },
   {
    "duration": 71,
    "start_time": "2021-11-09T21:50:30.294Z"
   },
   {
    "duration": 30,
    "start_time": "2021-11-09T21:50:30.367Z"
   },
   {
    "duration": 37,
    "start_time": "2021-11-09T21:50:30.398Z"
   },
   {
    "duration": 31,
    "start_time": "2021-11-09T21:50:30.445Z"
   },
   {
    "duration": 413,
    "start_time": "2021-11-09T21:50:30.478Z"
   },
   {
    "duration": 24,
    "start_time": "2021-11-09T21:50:30.894Z"
   },
   {
    "duration": 9,
    "start_time": "2021-11-09T21:50:30.920Z"
   },
   {
    "duration": 125,
    "start_time": "2021-11-09T21:50:30.945Z"
   },
   {
    "duration": 7,
    "start_time": "2021-11-09T21:50:31.072Z"
   },
   {
    "duration": 111,
    "start_time": "2021-11-09T21:50:31.081Z"
   },
   {
    "duration": 479,
    "start_time": "2021-11-09T21:50:31.194Z"
   },
   {
    "duration": 282,
    "start_time": "2021-11-09T21:51:27.263Z"
   },
   {
    "duration": 272,
    "start_time": "2021-11-09T22:12:34.011Z"
   },
   {
    "duration": 1089,
    "start_time": "2021-11-09T22:12:41.190Z"
   },
   {
    "duration": 1667,
    "start_time": "2021-11-09T22:12:42.281Z"
   },
   {
    "duration": 127,
    "start_time": "2021-11-09T22:12:43.951Z"
   },
   {
    "duration": 18,
    "start_time": "2021-11-09T22:12:44.081Z"
   },
   {
    "duration": 112,
    "start_time": "2021-11-09T22:12:44.101Z"
   },
   {
    "duration": 497,
    "start_time": "2021-11-09T22:12:44.216Z"
   },
   {
    "duration": 916,
    "start_time": "2021-11-09T22:12:44.715Z"
   },
   {
    "duration": 340,
    "start_time": "2021-11-09T22:12:45.634Z"
   },
   {
    "duration": 22,
    "start_time": "2021-11-09T22:12:45.976Z"
   },
   {
    "duration": 21,
    "start_time": "2021-11-09T22:12:46.000Z"
   },
   {
    "duration": 33,
    "start_time": "2021-11-09T22:12:46.023Z"
   },
   {
    "duration": 115,
    "start_time": "2021-11-09T22:12:46.057Z"
   },
   {
    "duration": 208,
    "start_time": "2021-11-09T22:12:46.173Z"
   },
   {
    "duration": 263,
    "start_time": "2021-11-09T22:12:46.383Z"
   },
   {
    "duration": 47,
    "start_time": "2021-11-09T22:12:46.648Z"
   },
   {
    "duration": 112,
    "start_time": "2021-11-09T22:12:46.696Z"
   },
   {
    "duration": 9,
    "start_time": "2021-11-09T22:12:46.810Z"
   },
   {
    "duration": 248,
    "start_time": "2021-11-09T22:12:46.820Z"
   },
   {
    "duration": 234,
    "start_time": "2021-11-09T22:12:47.069Z"
   },
   {
    "duration": 19,
    "start_time": "2021-11-09T22:12:47.305Z"
   },
   {
    "duration": 19,
    "start_time": "2021-11-09T22:12:47.326Z"
   },
   {
    "duration": 72,
    "start_time": "2021-11-09T22:12:47.347Z"
   },
   {
    "duration": 23,
    "start_time": "2021-11-09T22:12:47.422Z"
   },
   {
    "duration": 43,
    "start_time": "2021-11-09T22:12:47.447Z"
   },
   {
    "duration": 7,
    "start_time": "2021-11-09T22:12:47.492Z"
   },
   {
    "duration": 66,
    "start_time": "2021-11-09T22:12:47.501Z"
   },
   {
    "duration": 290,
    "start_time": "2021-11-09T22:12:47.569Z"
   },
   {
    "duration": 32,
    "start_time": "2021-11-09T22:12:47.861Z"
   },
   {
    "duration": 98,
    "start_time": "2021-11-09T22:12:47.895Z"
   },
   {
    "duration": 14,
    "start_time": "2021-11-09T22:12:47.994Z"
   },
   {
    "duration": 12,
    "start_time": "2021-11-09T22:12:48.010Z"
   },
   {
    "duration": 351,
    "start_time": "2021-11-09T22:12:48.024Z"
   },
   {
    "duration": 15,
    "start_time": "2021-11-09T22:12:48.377Z"
   },
   {
    "duration": 71,
    "start_time": "2021-11-09T22:12:48.393Z"
   },
   {
    "duration": 18,
    "start_time": "2021-11-09T22:12:48.466Z"
   },
   {
    "duration": 82,
    "start_time": "2021-11-09T22:12:48.486Z"
   },
   {
    "duration": 83,
    "start_time": "2021-11-09T22:12:48.570Z"
   },
   {
    "duration": 31,
    "start_time": "2021-11-09T22:12:48.655Z"
   },
   {
    "duration": 74,
    "start_time": "2021-11-09T22:12:48.687Z"
   },
   {
    "duration": 32,
    "start_time": "2021-11-09T22:12:48.762Z"
   },
   {
    "duration": 168,
    "start_time": "2021-11-09T22:12:48.796Z"
   },
   {
    "duration": 86,
    "start_time": "2021-11-09T22:12:48.965Z"
   },
   {
    "duration": 29,
    "start_time": "2021-11-09T22:12:49.053Z"
   },
   {
    "duration": 56,
    "start_time": "2021-11-09T22:12:49.084Z"
   },
   {
    "duration": 52,
    "start_time": "2021-11-09T22:12:49.142Z"
   },
   {
    "duration": 404,
    "start_time": "2021-11-09T22:12:49.196Z"
   },
   {
    "duration": 25,
    "start_time": "2021-11-09T22:12:49.602Z"
   },
   {
    "duration": 21,
    "start_time": "2021-11-09T22:12:49.628Z"
   },
   {
    "duration": 134,
    "start_time": "2021-11-09T22:12:49.650Z"
   },
   {
    "duration": 8,
    "start_time": "2021-11-09T22:12:49.786Z"
   },
   {
    "duration": 97,
    "start_time": "2021-11-09T22:12:49.795Z"
   },
   {
    "duration": 157,
    "start_time": "2021-11-09T22:12:49.894Z"
   },
   {
    "duration": 456,
    "start_time": "2021-11-09T22:12:50.055Z"
   },
   {
    "duration": 263,
    "start_time": "2021-11-09T22:15:37.540Z"
   },
   {
    "duration": 1242,
    "start_time": "2021-11-09T22:16:21.937Z"
   },
   {
    "duration": 1533,
    "start_time": "2021-11-09T22:16:23.181Z"
   },
   {
    "duration": 128,
    "start_time": "2021-11-09T22:16:24.716Z"
   },
   {
    "duration": 15,
    "start_time": "2021-11-09T22:16:24.846Z"
   },
   {
    "duration": 114,
    "start_time": "2021-11-09T22:16:24.863Z"
   },
   {
    "duration": 433,
    "start_time": "2021-11-09T22:16:24.979Z"
   },
   {
    "duration": 941,
    "start_time": "2021-11-09T22:16:25.413Z"
   },
   {
    "duration": 234,
    "start_time": "2021-11-09T22:16:26.356Z"
   },
   {
    "duration": 22,
    "start_time": "2021-11-09T22:16:26.593Z"
   },
   {
    "duration": 38,
    "start_time": "2021-11-09T22:16:26.617Z"
   },
   {
    "duration": 15,
    "start_time": "2021-11-09T22:16:26.657Z"
   },
   {
    "duration": 115,
    "start_time": "2021-11-09T22:16:26.674Z"
   },
   {
    "duration": 212,
    "start_time": "2021-11-09T22:16:26.791Z"
   },
   {
    "duration": 274,
    "start_time": "2021-11-09T22:16:27.005Z"
   },
   {
    "duration": 49,
    "start_time": "2021-11-09T22:16:27.281Z"
   },
   {
    "duration": 116,
    "start_time": "2021-11-09T22:16:27.331Z"
   },
   {
    "duration": 9,
    "start_time": "2021-11-09T22:16:27.449Z"
   },
   {
    "duration": 258,
    "start_time": "2021-11-09T22:16:27.460Z"
   },
   {
    "duration": 231,
    "start_time": "2021-11-09T22:16:27.719Z"
   },
   {
    "duration": 20,
    "start_time": "2021-11-09T22:16:27.952Z"
   },
   {
    "duration": 8,
    "start_time": "2021-11-09T22:16:27.974Z"
   },
   {
    "duration": 95,
    "start_time": "2021-11-09T22:16:27.984Z"
   },
   {
    "duration": 8,
    "start_time": "2021-11-09T22:16:28.082Z"
   },
   {
    "duration": 56,
    "start_time": "2021-11-09T22:16:28.093Z"
   },
   {
    "duration": 8,
    "start_time": "2021-11-09T22:16:28.151Z"
   },
   {
    "duration": 48,
    "start_time": "2021-11-09T22:16:28.160Z"
   },
   {
    "duration": 312,
    "start_time": "2021-11-09T22:16:28.210Z"
   },
   {
    "duration": 39,
    "start_time": "2021-11-09T22:16:28.524Z"
   },
   {
    "duration": 86,
    "start_time": "2021-11-09T22:16:28.565Z"
   },
   {
    "duration": 15,
    "start_time": "2021-11-09T22:16:28.653Z"
   },
   {
    "duration": 14,
    "start_time": "2021-11-09T22:16:28.669Z"
   },
   {
    "duration": 367,
    "start_time": "2021-11-09T22:16:28.685Z"
   },
   {
    "duration": 14,
    "start_time": "2021-11-09T22:16:29.054Z"
   },
   {
    "duration": 78,
    "start_time": "2021-11-09T22:16:29.070Z"
   },
   {
    "duration": 19,
    "start_time": "2021-11-09T22:16:29.150Z"
   },
   {
    "duration": 82,
    "start_time": "2021-11-09T22:16:29.170Z"
   },
   {
    "duration": 94,
    "start_time": "2021-11-09T22:16:29.254Z"
   },
   {
    "duration": 32,
    "start_time": "2021-11-09T22:16:29.349Z"
   },
   {
    "duration": 83,
    "start_time": "2021-11-09T22:16:29.383Z"
   },
   {
    "duration": 33,
    "start_time": "2021-11-09T22:16:29.468Z"
   },
   {
    "duration": 162,
    "start_time": "2021-11-09T22:16:29.502Z"
   },
   {
    "duration": 65,
    "start_time": "2021-11-09T22:16:29.666Z"
   },
   {
    "duration": 44,
    "start_time": "2021-11-09T22:16:29.733Z"
   },
   {
    "duration": 35,
    "start_time": "2021-11-09T22:16:29.779Z"
   },
   {
    "duration": 48,
    "start_time": "2021-11-09T22:16:29.816Z"
   },
   {
    "duration": 409,
    "start_time": "2021-11-09T22:16:29.866Z"
   },
   {
    "duration": 27,
    "start_time": "2021-11-09T22:16:30.277Z"
   },
   {
    "duration": 9,
    "start_time": "2021-11-09T22:16:30.306Z"
   },
   {
    "duration": 136,
    "start_time": "2021-11-09T22:16:30.317Z"
   },
   {
    "duration": 8,
    "start_time": "2021-11-09T22:16:30.455Z"
   },
   {
    "duration": 120,
    "start_time": "2021-11-09T22:16:30.465Z"
   },
   {
    "duration": 257,
    "start_time": "2021-11-09T22:16:30.587Z"
   },
   {
    "duration": 364,
    "start_time": "2021-11-09T22:16:30.846Z"
   },
   {
    "duration": 200,
    "start_time": "2021-11-09T22:16:31.011Z"
   },
   {
    "duration": 268,
    "start_time": "2021-11-09T22:17:28.860Z"
   },
   {
    "duration": 2,
    "start_time": "2021-11-09T22:20:11.289Z"
   },
   {
    "duration": 437,
    "start_time": "2021-11-10T11:00:30.650Z"
   },
   {
    "duration": 1515,
    "start_time": "2021-11-10T11:00:38.591Z"
   },
   {
    "duration": 2225,
    "start_time": "2021-11-10T11:00:40.108Z"
   },
   {
    "duration": 165,
    "start_time": "2021-11-10T11:00:42.336Z"
   },
   {
    "duration": 24,
    "start_time": "2021-11-10T11:00:42.504Z"
   },
   {
    "duration": 151,
    "start_time": "2021-11-10T11:00:42.531Z"
   },
   {
    "duration": 657,
    "start_time": "2021-11-10T11:00:42.684Z"
   },
   {
    "duration": 1350,
    "start_time": "2021-11-10T11:00:43.343Z"
   },
   {
    "duration": 380,
    "start_time": "2021-11-10T11:00:44.696Z"
   },
   {
    "duration": 30,
    "start_time": "2021-11-10T11:00:45.083Z"
   },
   {
    "duration": 28,
    "start_time": "2021-11-10T11:00:45.115Z"
   },
   {
    "duration": 44,
    "start_time": "2021-11-10T11:00:45.146Z"
   },
   {
    "duration": 169,
    "start_time": "2021-11-10T11:00:45.192Z"
   },
   {
    "duration": 343,
    "start_time": "2021-11-10T11:00:45.363Z"
   },
   {
    "duration": 456,
    "start_time": "2021-11-10T11:00:45.709Z"
   },
   {
    "duration": 86,
    "start_time": "2021-11-10T11:00:46.167Z"
   },
   {
    "duration": 170,
    "start_time": "2021-11-10T11:00:46.256Z"
   },
   {
    "duration": 13,
    "start_time": "2021-11-10T11:00:46.428Z"
   },
   {
    "duration": 422,
    "start_time": "2021-11-10T11:00:46.444Z"
   },
   {
    "duration": 372,
    "start_time": "2021-11-10T11:00:46.868Z"
   },
   {
    "duration": 41,
    "start_time": "2021-11-10T11:00:47.243Z"
   },
   {
    "duration": 10,
    "start_time": "2021-11-10T11:00:47.286Z"
   },
   {
    "duration": 136,
    "start_time": "2021-11-10T11:00:47.299Z"
   },
   {
    "duration": 15,
    "start_time": "2021-11-10T11:00:47.442Z"
   },
   {
    "duration": 95,
    "start_time": "2021-11-10T11:00:47.460Z"
   },
   {
    "duration": 26,
    "start_time": "2021-11-10T11:00:47.557Z"
   },
   {
    "duration": 72,
    "start_time": "2021-11-10T11:00:47.585Z"
   },
   {
    "duration": 568,
    "start_time": "2021-11-10T11:00:47.659Z"
   },
   {
    "duration": 58,
    "start_time": "2021-11-10T11:00:48.230Z"
   },
   {
    "duration": 127,
    "start_time": "2021-11-10T11:00:48.290Z"
   },
   {
    "duration": 22,
    "start_time": "2021-11-10T11:00:48.420Z"
   },
   {
    "duration": 39,
    "start_time": "2021-11-10T11:00:48.444Z"
   },
   {
    "duration": 437,
    "start_time": "2021-11-10T11:00:48.485Z"
   },
   {
    "duration": 21,
    "start_time": "2021-11-10T11:00:48.924Z"
   },
   {
    "duration": 118,
    "start_time": "2021-11-10T11:00:48.947Z"
   },
   {
    "duration": 41,
    "start_time": "2021-11-10T11:00:49.068Z"
   },
   {
    "duration": 118,
    "start_time": "2021-11-10T11:00:49.112Z"
   },
   {
    "duration": 117,
    "start_time": "2021-11-10T11:00:49.233Z"
   },
   {
    "duration": 54,
    "start_time": "2021-11-10T11:00:49.352Z"
   },
   {
    "duration": 122,
    "start_time": "2021-11-10T11:00:49.408Z"
   },
   {
    "duration": 50,
    "start_time": "2021-11-10T11:00:49.532Z"
   },
   {
    "duration": 221,
    "start_time": "2021-11-10T11:00:49.585Z"
   },
   {
    "duration": 112,
    "start_time": "2021-11-10T11:00:49.809Z"
   },
   {
    "duration": 60,
    "start_time": "2021-11-10T11:00:49.923Z"
   },
   {
    "duration": 45,
    "start_time": "2021-11-10T11:00:49.986Z"
   },
   {
    "duration": 72,
    "start_time": "2021-11-10T11:00:50.034Z"
   },
   {
    "duration": 649,
    "start_time": "2021-11-10T11:00:50.109Z"
   },
   {
    "duration": 51,
    "start_time": "2021-11-10T11:00:50.760Z"
   },
   {
    "duration": 15,
    "start_time": "2021-11-10T11:00:50.814Z"
   },
   {
    "duration": 188,
    "start_time": "2021-11-10T11:00:50.832Z"
   },
   {
    "duration": 11,
    "start_time": "2021-11-10T11:00:51.022Z"
   },
   {
    "duration": 249,
    "start_time": "2021-11-10T11:00:51.037Z"
   },
   {
    "duration": 201,
    "start_time": "2021-11-10T11:00:51.289Z"
   },
   {
    "duration": 93,
    "start_time": "2021-11-10T11:00:51.493Z"
   },
   {
    "duration": 351470,
    "start_time": "2021-11-10T11:02:06.484Z"
   },
   {
    "duration": 1130,
    "start_time": "2021-11-14T11:51:41.605Z"
   },
   {
    "duration": 1408,
    "start_time": "2021-11-14T11:51:42.737Z"
   },
   {
    "duration": 121,
    "start_time": "2021-11-14T11:51:44.149Z"
   },
   {
    "duration": 16,
    "start_time": "2021-11-14T11:51:44.272Z"
   },
   {
    "duration": 101,
    "start_time": "2021-11-14T11:51:44.290Z"
   },
   {
    "duration": 385,
    "start_time": "2021-11-14T11:51:44.392Z"
   },
   {
    "duration": 812,
    "start_time": "2021-11-14T11:51:44.779Z"
   },
   {
    "duration": 215,
    "start_time": "2021-11-14T11:51:45.593Z"
   },
   {
    "duration": 19,
    "start_time": "2021-11-14T11:51:45.809Z"
   },
   {
    "duration": 18,
    "start_time": "2021-11-14T11:51:45.830Z"
   },
   {
    "duration": 22,
    "start_time": "2021-11-14T11:51:45.849Z"
   },
   {
    "duration": 111,
    "start_time": "2021-11-14T11:51:45.872Z"
   },
   {
    "duration": 250,
    "start_time": "2021-11-14T11:51:45.985Z"
   },
   {
    "duration": 263,
    "start_time": "2021-11-14T11:51:46.238Z"
   },
   {
    "duration": 43,
    "start_time": "2021-11-14T11:51:46.506Z"
   },
   {
    "duration": 99,
    "start_time": "2021-11-14T11:51:46.551Z"
   },
   {
    "duration": 8,
    "start_time": "2021-11-14T11:51:46.652Z"
   },
   {
    "duration": 232,
    "start_time": "2021-11-14T11:51:46.662Z"
   },
   {
    "duration": 201,
    "start_time": "2021-11-14T11:51:46.896Z"
   },
   {
    "duration": 18,
    "start_time": "2021-11-14T11:51:47.106Z"
   },
   {
    "duration": 8,
    "start_time": "2021-11-14T11:51:47.126Z"
   },
   {
    "duration": 85,
    "start_time": "2021-11-14T11:51:47.139Z"
   },
   {
    "duration": 8,
    "start_time": "2021-11-14T11:51:47.226Z"
   },
   {
    "duration": 38,
    "start_time": "2021-11-14T11:51:47.235Z"
   },
   {
    "duration": 7,
    "start_time": "2021-11-14T11:51:47.274Z"
   },
   {
    "duration": 62,
    "start_time": "2021-11-14T11:51:47.283Z"
   },
   {
    "duration": 274,
    "start_time": "2021-11-14T11:51:47.347Z"
   },
   {
    "duration": 30,
    "start_time": "2021-11-14T11:51:47.623Z"
   },
   {
    "duration": 97,
    "start_time": "2021-11-14T11:51:47.654Z"
   },
   {
    "duration": 13,
    "start_time": "2021-11-14T11:51:47.752Z"
   },
   {
    "duration": 12,
    "start_time": "2021-11-14T11:51:47.767Z"
   },
   {
    "duration": 244,
    "start_time": "2021-11-14T11:51:47.781Z"
   },
   {
    "duration": 13,
    "start_time": "2021-11-14T11:51:48.026Z"
   },
   {
    "duration": 71,
    "start_time": "2021-11-14T11:51:48.040Z"
   },
   {
    "duration": 17,
    "start_time": "2021-11-14T11:51:48.113Z"
   },
   {
    "duration": 83,
    "start_time": "2021-11-14T11:51:48.132Z"
   },
   {
    "duration": 73,
    "start_time": "2021-11-14T11:51:48.217Z"
   },
   {
    "duration": 37,
    "start_time": "2021-11-14T11:51:48.292Z"
   },
   {
    "duration": 56,
    "start_time": "2021-11-14T11:51:48.331Z"
   },
   {
    "duration": 32,
    "start_time": "2021-11-14T11:51:48.407Z"
   },
   {
    "duration": 151,
    "start_time": "2021-11-14T11:51:48.441Z"
   },
   {
    "duration": 73,
    "start_time": "2021-11-14T11:51:48.594Z"
   },
   {
    "duration": 39,
    "start_time": "2021-11-14T11:51:48.669Z"
   },
   {
    "duration": 36,
    "start_time": "2021-11-14T11:51:48.710Z"
   },
   {
    "duration": 36,
    "start_time": "2021-11-14T11:51:48.747Z"
   },
   {
    "duration": 379,
    "start_time": "2021-11-14T11:51:48.784Z"
   },
   {
    "duration": 20,
    "start_time": "2021-11-14T11:51:49.165Z"
   },
   {
    "duration": 31,
    "start_time": "2021-11-14T11:51:49.187Z"
   },
   {
    "duration": 116,
    "start_time": "2021-11-14T11:51:49.220Z"
   },
   {
    "duration": 7,
    "start_time": "2021-11-14T11:51:49.338Z"
   },
   {
    "duration": 102,
    "start_time": "2021-11-14T11:51:49.346Z"
   },
   {
    "duration": 172,
    "start_time": "2021-11-14T11:51:49.449Z"
   },
   {
    "duration": 83,
    "start_time": "2021-11-14T11:51:49.623Z"
   },
   {
    "duration": 279068,
    "start_time": "2021-11-14T11:51:49.708Z"
   },
   {
    "duration": 330,
    "start_time": "2021-11-14T12:26:58.133Z"
   },
   {
    "duration": 16,
    "start_time": "2021-11-14T12:27:07.891Z"
   },
   {
    "duration": 240,
    "start_time": "2021-11-14T12:27:14.031Z"
   },
   {
    "duration": 976,
    "start_time": "2021-11-14T12:31:39.346Z"
   },
   {
    "duration": 1896,
    "start_time": "2021-11-14T12:38:11.015Z"
   },
   {
    "duration": 94889,
    "start_time": "2021-11-14T12:38:45.862Z"
   },
   {
    "duration": 7865,
    "start_time": "2021-11-14T12:40:43.247Z"
   },
   {
    "duration": 8604,
    "start_time": "2021-11-14T12:43:12.716Z"
   },
   {
    "duration": 13334,
    "start_time": "2021-11-14T12:43:40.279Z"
   },
   {
    "duration": 93,
    "start_time": "2021-11-15T12:36:25.585Z"
   },
   {
    "duration": 94,
    "start_time": "2021-11-15T12:36:36.379Z"
   },
   {
    "duration": 84,
    "start_time": "2021-11-15T14:17:10.079Z"
   },
   {
    "duration": 91,
    "start_time": "2021-11-15T14:17:31.802Z"
   },
   {
    "duration": 1104,
    "start_time": "2021-11-15T14:18:03.798Z"
   },
   {
    "duration": 1701,
    "start_time": "2021-11-15T14:18:04.904Z"
   },
   {
    "duration": 117,
    "start_time": "2021-11-15T14:18:06.607Z"
   },
   {
    "duration": 16,
    "start_time": "2021-11-15T14:18:06.726Z"
   },
   {
    "duration": 113,
    "start_time": "2021-11-15T14:18:06.744Z"
   },
   {
    "duration": 348,
    "start_time": "2021-11-15T14:18:06.859Z"
   },
   {
    "duration": 732,
    "start_time": "2021-11-15T14:18:07.209Z"
   },
   {
    "duration": 222,
    "start_time": "2021-11-15T14:18:07.945Z"
   },
   {
    "duration": 30,
    "start_time": "2021-11-15T14:18:08.169Z"
   },
   {
    "duration": 19,
    "start_time": "2021-11-15T14:18:08.201Z"
   },
   {
    "duration": 15,
    "start_time": "2021-11-15T14:18:08.223Z"
   },
   {
    "duration": 141,
    "start_time": "2021-11-15T14:18:08.240Z"
   },
   {
    "duration": 230,
    "start_time": "2021-11-15T14:18:08.383Z"
   },
   {
    "duration": 278,
    "start_time": "2021-11-15T14:18:08.615Z"
   },
   {
    "duration": 43,
    "start_time": "2021-11-15T14:18:08.894Z"
   },
   {
    "duration": 104,
    "start_time": "2021-11-15T14:18:08.938Z"
   },
   {
    "duration": 9,
    "start_time": "2021-11-15T14:18:09.044Z"
   },
   {
    "duration": 237,
    "start_time": "2021-11-15T14:18:09.055Z"
   },
   {
    "duration": 247,
    "start_time": "2021-11-15T14:18:09.294Z"
   },
   {
    "duration": 20,
    "start_time": "2021-11-15T14:18:09.543Z"
   },
   {
    "duration": 23,
    "start_time": "2021-11-15T14:18:09.565Z"
   },
   {
    "duration": 77,
    "start_time": "2021-11-15T14:18:09.590Z"
   },
   {
    "duration": 17,
    "start_time": "2021-11-15T14:18:09.672Z"
   },
   {
    "duration": 38,
    "start_time": "2021-11-15T14:18:09.691Z"
   },
   {
    "duration": 10,
    "start_time": "2021-11-15T14:18:09.731Z"
   },
   {
    "duration": 63,
    "start_time": "2021-11-15T14:18:09.742Z"
   },
   {
    "duration": 268,
    "start_time": "2021-11-15T14:18:09.806Z"
   },
   {
    "duration": 37,
    "start_time": "2021-11-15T14:18:10.075Z"
   },
   {
    "duration": 87,
    "start_time": "2021-11-15T14:18:10.113Z"
   },
   {
    "duration": 11,
    "start_time": "2021-11-15T14:18:10.202Z"
   },
   {
    "duration": 9,
    "start_time": "2021-11-15T14:18:10.215Z"
   },
   {
    "duration": 266,
    "start_time": "2021-11-15T14:18:10.225Z"
   },
   {
    "duration": 13,
    "start_time": "2021-11-15T14:18:10.493Z"
   },
   {
    "duration": 54,
    "start_time": "2021-11-15T14:18:10.507Z"
   },
   {
    "duration": 34,
    "start_time": "2021-11-15T14:18:10.563Z"
   },
   {
    "duration": 67,
    "start_time": "2021-11-15T14:18:10.599Z"
   },
   {
    "duration": 89,
    "start_time": "2021-11-15T14:18:10.667Z"
   },
   {
    "duration": 39,
    "start_time": "2021-11-15T14:18:10.758Z"
   },
   {
    "duration": 53,
    "start_time": "2021-11-15T14:18:10.799Z"
   },
   {
    "duration": 40,
    "start_time": "2021-11-15T14:18:10.854Z"
   },
   {
    "duration": 139,
    "start_time": "2021-11-15T14:18:10.895Z"
   },
   {
    "duration": 65,
    "start_time": "2021-11-15T14:18:11.036Z"
   },
   {
    "duration": 28,
    "start_time": "2021-11-15T14:18:11.103Z"
   },
   {
    "duration": 32,
    "start_time": "2021-11-15T14:18:11.133Z"
   },
   {
    "duration": 45,
    "start_time": "2021-11-15T14:18:11.166Z"
   },
   {
    "duration": 371,
    "start_time": "2021-11-15T14:18:11.213Z"
   },
   {
    "duration": 26,
    "start_time": "2021-11-15T14:18:11.585Z"
   },
   {
    "duration": 8,
    "start_time": "2021-11-15T14:18:11.612Z"
   },
   {
    "duration": 137,
    "start_time": "2021-11-15T14:18:11.622Z"
   },
   {
    "duration": 7,
    "start_time": "2021-11-15T14:18:11.760Z"
   },
   {
    "duration": 93,
    "start_time": "2021-11-15T14:18:11.768Z"
   },
   {
    "duration": 87,
    "start_time": "2021-11-15T14:18:11.863Z"
   },
   {
    "duration": 332,
    "start_time": "2021-11-15T14:18:11.620Z"
   },
   {
    "duration": 330,
    "start_time": "2021-11-15T14:18:11.623Z"
   },
   {
    "duration": 325,
    "start_time": "2021-11-15T14:18:11.629Z"
   },
   {
    "duration": 317,
    "start_time": "2021-11-15T14:18:11.638Z"
   },
   {
    "duration": 312,
    "start_time": "2021-11-15T14:18:11.644Z"
   },
   {
    "duration": 8,
    "start_time": "2021-11-15T14:18:37.525Z"
   },
   {
    "duration": 88,
    "start_time": "2021-11-15T14:19:56.780Z"
   },
   {
    "duration": 711,
    "start_time": "2021-11-15T14:20:09.074Z"
   },
   {
    "duration": 346,
    "start_time": "2021-11-15T14:20:37.889Z"
   },
   {
    "duration": 6,
    "start_time": "2021-11-15T14:20:54.815Z"
   },
   {
    "duration": 594,
    "start_time": "2021-11-15T17:23:29.219Z"
   },
   {
    "duration": 9,
    "start_time": "2021-11-15T17:23:57.777Z"
   },
   {
    "duration": 10,
    "start_time": "2021-11-15T17:24:58.346Z"
   },
   {
    "duration": 9,
    "start_time": "2021-11-15T17:25:59.062Z"
   },
   {
    "duration": 104,
    "start_time": "2021-11-15T17:28:18.345Z"
   },
   {
    "duration": 10,
    "start_time": "2021-11-15T17:28:20.413Z"
   },
   {
    "duration": 998,
    "start_time": "2021-11-15T17:28:26.320Z"
   },
   {
    "duration": 1315,
    "start_time": "2021-11-15T17:28:27.320Z"
   },
   {
    "duration": 109,
    "start_time": "2021-11-15T17:28:28.637Z"
   },
   {
    "duration": 14,
    "start_time": "2021-11-15T17:28:28.748Z"
   },
   {
    "duration": 102,
    "start_time": "2021-11-15T17:28:28.763Z"
   },
   {
    "duration": 364,
    "start_time": "2021-11-15T17:28:28.867Z"
   },
   {
    "duration": 798,
    "start_time": "2021-11-15T17:28:29.233Z"
   },
   {
    "duration": 218,
    "start_time": "2021-11-15T17:28:30.034Z"
   },
   {
    "duration": 36,
    "start_time": "2021-11-15T17:28:30.254Z"
   },
   {
    "duration": 20,
    "start_time": "2021-11-15T17:28:30.292Z"
   },
   {
    "duration": 15,
    "start_time": "2021-11-15T17:28:30.314Z"
   },
   {
    "duration": 139,
    "start_time": "2021-11-15T17:28:30.331Z"
   },
   {
    "duration": 194,
    "start_time": "2021-11-15T17:28:30.472Z"
   },
   {
    "duration": 253,
    "start_time": "2021-11-15T17:28:30.668Z"
   },
   {
    "duration": 46,
    "start_time": "2021-11-15T17:28:30.923Z"
   },
   {
    "duration": 120,
    "start_time": "2021-11-15T17:28:30.971Z"
   },
   {
    "duration": 10,
    "start_time": "2021-11-15T17:28:31.093Z"
   },
   {
    "duration": 230,
    "start_time": "2021-11-15T17:28:31.105Z"
   },
   {
    "duration": 203,
    "start_time": "2021-11-15T17:28:31.337Z"
   },
   {
    "duration": 17,
    "start_time": "2021-11-15T17:28:31.542Z"
   },
   {
    "duration": 7,
    "start_time": "2021-11-15T17:28:31.560Z"
   },
   {
    "duration": 66,
    "start_time": "2021-11-15T17:28:31.588Z"
   },
   {
    "duration": 8,
    "start_time": "2021-11-15T17:28:31.657Z"
   },
   {
    "duration": 52,
    "start_time": "2021-11-15T17:28:31.667Z"
   },
   {
    "duration": 6,
    "start_time": "2021-11-15T17:28:31.721Z"
   },
   {
    "duration": 61,
    "start_time": "2021-11-15T17:28:31.729Z"
   },
   {
    "duration": 270,
    "start_time": "2021-11-15T17:28:31.792Z"
   },
   {
    "duration": 41,
    "start_time": "2021-11-15T17:28:32.064Z"
   },
   {
    "duration": 93,
    "start_time": "2021-11-15T17:28:32.107Z"
   },
   {
    "duration": 13,
    "start_time": "2021-11-15T17:28:32.202Z"
   },
   {
    "duration": 10,
    "start_time": "2021-11-15T17:28:32.217Z"
   },
   {
    "duration": 248,
    "start_time": "2021-11-15T17:28:32.229Z"
   },
   {
    "duration": 20,
    "start_time": "2021-11-15T17:28:32.479Z"
   },
   {
    "duration": 53,
    "start_time": "2021-11-15T17:28:32.501Z"
   },
   {
    "duration": 40,
    "start_time": "2021-11-15T17:28:32.556Z"
   },
   {
    "duration": 69,
    "start_time": "2021-11-15T17:28:32.598Z"
   },
   {
    "duration": 69,
    "start_time": "2021-11-15T17:28:32.688Z"
   },
   {
    "duration": 40,
    "start_time": "2021-11-15T17:28:32.759Z"
   },
   {
    "duration": 52,
    "start_time": "2021-11-15T17:28:32.801Z"
   },
   {
    "duration": 41,
    "start_time": "2021-11-15T17:28:32.854Z"
   },
   {
    "duration": 139,
    "start_time": "2021-11-15T17:28:32.896Z"
   },
   {
    "duration": 70,
    "start_time": "2021-11-15T17:28:33.036Z"
   },
   {
    "duration": 28,
    "start_time": "2021-11-15T17:28:33.108Z"
   },
   {
    "duration": 30,
    "start_time": "2021-11-15T17:28:33.137Z"
   },
   {
    "duration": 47,
    "start_time": "2021-11-15T17:28:33.168Z"
   },
   {
    "duration": 357,
    "start_time": "2021-11-15T17:28:33.216Z"
   },
   {
    "duration": 29,
    "start_time": "2021-11-15T17:28:33.575Z"
   },
   {
    "duration": 9,
    "start_time": "2021-11-15T17:28:33.605Z"
   },
   {
    "duration": 120,
    "start_time": "2021-11-15T17:28:33.615Z"
   },
   {
    "duration": 7,
    "start_time": "2021-11-15T17:28:33.736Z"
   },
   {
    "duration": 95,
    "start_time": "2021-11-15T17:28:33.745Z"
   },
   {
    "duration": 9,
    "start_time": "2021-11-15T17:28:33.841Z"
   },
   {
    "duration": 333,
    "start_time": "2021-11-15T17:28:33.852Z"
   },
   {
    "duration": 429,
    "start_time": "2021-11-15T17:28:33.758Z"
   },
   {
    "duration": 428,
    "start_time": "2021-11-15T17:28:33.760Z"
   },
   {
    "duration": 426,
    "start_time": "2021-11-15T17:28:33.763Z"
   },
   {
    "duration": 419,
    "start_time": "2021-11-15T17:28:33.770Z"
   },
   {
    "duration": 95,
    "start_time": "2021-11-15T17:29:12.149Z"
   },
   {
    "duration": 9,
    "start_time": "2021-11-15T17:29:14.164Z"
   },
   {
    "duration": 10,
    "start_time": "2021-11-15T17:30:57.389Z"
   },
   {
    "duration": 9,
    "start_time": "2021-11-15T17:45:02.192Z"
   },
   {
    "duration": 10,
    "start_time": "2021-11-15T17:47:07.564Z"
   },
   {
    "duration": 1056,
    "start_time": "2021-11-15T19:21:50.947Z"
   },
   {
    "duration": 1370,
    "start_time": "2021-11-15T19:21:52.005Z"
   },
   {
    "duration": 117,
    "start_time": "2021-11-15T19:21:53.377Z"
   },
   {
    "duration": 13,
    "start_time": "2021-11-15T19:21:53.496Z"
   },
   {
    "duration": 100,
    "start_time": "2021-11-15T19:21:53.511Z"
   },
   {
    "duration": 347,
    "start_time": "2021-11-15T19:21:53.612Z"
   },
   {
    "duration": 764,
    "start_time": "2021-11-15T19:21:53.961Z"
   },
   {
    "duration": 209,
    "start_time": "2021-11-15T19:21:54.727Z"
   },
   {
    "duration": 20,
    "start_time": "2021-11-15T19:21:54.938Z"
   },
   {
    "duration": 34,
    "start_time": "2021-11-15T19:21:54.959Z"
   },
   {
    "duration": 14,
    "start_time": "2021-11-15T19:21:54.995Z"
   },
   {
    "duration": 110,
    "start_time": "2021-11-15T19:21:55.010Z"
   },
   {
    "duration": 189,
    "start_time": "2021-11-15T19:21:55.122Z"
   },
   {
    "duration": 257,
    "start_time": "2021-11-15T19:21:55.313Z"
   },
   {
    "duration": 51,
    "start_time": "2021-11-15T19:21:55.571Z"
   },
   {
    "duration": 94,
    "start_time": "2021-11-15T19:21:55.623Z"
   },
   {
    "duration": 8,
    "start_time": "2021-11-15T19:21:55.719Z"
   },
   {
    "duration": 230,
    "start_time": "2021-11-15T19:21:55.728Z"
   },
   {
    "duration": 210,
    "start_time": "2021-11-15T19:21:55.959Z"
   },
   {
    "duration": 24,
    "start_time": "2021-11-15T19:21:56.171Z"
   },
   {
    "duration": 6,
    "start_time": "2021-11-15T19:21:56.197Z"
   },
   {
    "duration": 83,
    "start_time": "2021-11-15T19:21:56.205Z"
   },
   {
    "duration": 8,
    "start_time": "2021-11-15T19:21:56.291Z"
   },
   {
    "duration": 37,
    "start_time": "2021-11-15T19:21:56.300Z"
   },
   {
    "duration": 7,
    "start_time": "2021-11-15T19:21:56.339Z"
   },
   {
    "duration": 64,
    "start_time": "2021-11-15T19:21:56.348Z"
   },
   {
    "duration": 275,
    "start_time": "2021-11-15T19:21:56.413Z"
   },
   {
    "duration": 28,
    "start_time": "2021-11-15T19:21:56.689Z"
   },
   {
    "duration": 96,
    "start_time": "2021-11-15T19:21:56.719Z"
   },
   {
    "duration": 13,
    "start_time": "2021-11-15T19:21:56.817Z"
   },
   {
    "duration": 27,
    "start_time": "2021-11-15T19:21:56.831Z"
   },
   {
    "duration": 244,
    "start_time": "2021-11-15T19:21:56.859Z"
   },
   {
    "duration": 14,
    "start_time": "2021-11-15T19:21:57.105Z"
   },
   {
    "duration": 74,
    "start_time": "2021-11-15T19:21:57.121Z"
   },
   {
    "duration": 19,
    "start_time": "2021-11-15T19:21:57.197Z"
   },
   {
    "duration": 89,
    "start_time": "2021-11-15T19:21:57.218Z"
   },
   {
    "duration": 85,
    "start_time": "2021-11-15T19:21:57.309Z"
   },
   {
    "duration": 33,
    "start_time": "2021-11-15T19:21:57.397Z"
   },
   {
    "duration": 78,
    "start_time": "2021-11-15T19:21:57.432Z"
   },
   {
    "duration": 30,
    "start_time": "2021-11-15T19:21:57.511Z"
   },
   {
    "duration": 150,
    "start_time": "2021-11-15T19:21:57.543Z"
   },
   {
    "duration": 63,
    "start_time": "2021-11-15T19:21:57.694Z"
   },
   {
    "duration": 42,
    "start_time": "2021-11-15T19:21:57.759Z"
   },
   {
    "duration": 31,
    "start_time": "2021-11-15T19:21:57.802Z"
   },
   {
    "duration": 31,
    "start_time": "2021-11-15T19:21:57.835Z"
   },
   {
    "duration": 366,
    "start_time": "2021-11-15T19:21:57.890Z"
   },
   {
    "duration": 30,
    "start_time": "2021-11-15T19:21:58.258Z"
   },
   {
    "duration": 10,
    "start_time": "2021-11-15T19:21:58.289Z"
   },
   {
    "duration": 131,
    "start_time": "2021-11-15T19:21:58.301Z"
   },
   {
    "duration": 7,
    "start_time": "2021-11-15T19:21:58.434Z"
   },
   {
    "duration": 97,
    "start_time": "2021-11-15T19:21:58.443Z"
   },
   {
    "duration": 10,
    "start_time": "2021-11-15T19:21:58.542Z"
   },
   {
    "duration": 410,
    "start_time": "2021-11-15T19:21:58.554Z"
   },
   {
    "duration": 502,
    "start_time": "2021-11-15T19:21:58.464Z"
   },
   {
    "duration": 496,
    "start_time": "2021-11-15T19:21:58.471Z"
   },
   {
    "duration": 493,
    "start_time": "2021-11-15T19:21:58.475Z"
   },
   {
    "duration": 483,
    "start_time": "2021-11-15T19:21:58.486Z"
   },
   {
    "duration": 481,
    "start_time": "2021-11-15T19:21:58.489Z"
   },
   {
    "duration": 479,
    "start_time": "2021-11-15T19:21:58.491Z"
   },
   {
    "duration": 478,
    "start_time": "2021-11-15T19:21:58.493Z"
   },
   {
    "duration": 79,
    "start_time": "2021-11-15T19:27:26.889Z"
   },
   {
    "duration": 1055,
    "start_time": "2021-11-15T19:28:12.653Z"
   },
   {
    "duration": 1324,
    "start_time": "2021-11-15T19:28:13.709Z"
   },
   {
    "duration": 110,
    "start_time": "2021-11-15T19:28:15.035Z"
   },
   {
    "duration": 14,
    "start_time": "2021-11-15T19:28:15.147Z"
   },
   {
    "duration": 104,
    "start_time": "2021-11-15T19:28:15.162Z"
   },
   {
    "duration": 335,
    "start_time": "2021-11-15T19:28:15.268Z"
   },
   {
    "duration": 725,
    "start_time": "2021-11-15T19:28:15.605Z"
   },
   {
    "duration": 211,
    "start_time": "2021-11-15T19:28:16.332Z"
   },
   {
    "duration": 19,
    "start_time": "2021-11-15T19:28:16.545Z"
   },
   {
    "duration": 38,
    "start_time": "2021-11-15T19:28:16.565Z"
   },
   {
    "duration": 13,
    "start_time": "2021-11-15T19:28:16.604Z"
   },
   {
    "duration": 100,
    "start_time": "2021-11-15T19:28:16.618Z"
   },
   {
    "duration": 183,
    "start_time": "2021-11-15T19:28:16.719Z"
   },
   {
    "duration": 238,
    "start_time": "2021-11-15T19:28:16.904Z"
   },
   {
    "duration": 54,
    "start_time": "2021-11-15T19:28:17.144Z"
   },
   {
    "duration": 94,
    "start_time": "2021-11-15T19:28:17.200Z"
   },
   {
    "duration": 8,
    "start_time": "2021-11-15T19:28:17.296Z"
   },
   {
    "duration": 228,
    "start_time": "2021-11-15T19:28:17.306Z"
   },
   {
    "duration": 207,
    "start_time": "2021-11-15T19:28:17.536Z"
   },
   {
    "duration": 16,
    "start_time": "2021-11-15T19:28:17.745Z"
   },
   {
    "duration": 9,
    "start_time": "2021-11-15T19:28:17.763Z"
   },
   {
    "duration": 66,
    "start_time": "2021-11-15T19:28:17.788Z"
   },
   {
    "duration": 9,
    "start_time": "2021-11-15T19:28:17.858Z"
   },
   {
    "duration": 36,
    "start_time": "2021-11-15T19:28:17.888Z"
   },
   {
    "duration": 9,
    "start_time": "2021-11-15T19:28:17.926Z"
   },
   {
    "duration": 68,
    "start_time": "2021-11-15T19:28:17.937Z"
   },
   {
    "duration": 281,
    "start_time": "2021-11-15T19:28:18.006Z"
   },
   {
    "duration": 29,
    "start_time": "2021-11-15T19:28:18.289Z"
   },
   {
    "duration": 95,
    "start_time": "2021-11-15T19:28:18.319Z"
   },
   {
    "duration": 14,
    "start_time": "2021-11-15T19:28:18.416Z"
   },
   {
    "duration": 19,
    "start_time": "2021-11-15T19:28:18.432Z"
   },
   {
    "duration": 235,
    "start_time": "2021-11-15T19:28:18.453Z"
   },
   {
    "duration": 14,
    "start_time": "2021-11-15T19:28:18.689Z"
   },
   {
    "duration": 48,
    "start_time": "2021-11-15T19:28:18.705Z"
   },
   {
    "duration": 42,
    "start_time": "2021-11-15T19:28:18.755Z"
   },
   {
    "duration": 65,
    "start_time": "2021-11-15T19:28:18.798Z"
   },
   {
    "duration": 90,
    "start_time": "2021-11-15T19:28:18.864Z"
   },
   {
    "duration": 39,
    "start_time": "2021-11-15T19:28:18.956Z"
   },
   {
    "duration": 64,
    "start_time": "2021-11-15T19:28:18.997Z"
   },
   {
    "duration": 28,
    "start_time": "2021-11-15T19:28:19.063Z"
   },
   {
    "duration": 138,
    "start_time": "2021-11-15T19:28:19.093Z"
   },
   {
    "duration": 64,
    "start_time": "2021-11-15T19:28:19.233Z"
   },
   {
    "duration": 28,
    "start_time": "2021-11-15T19:28:19.298Z"
   },
   {
    "duration": 40,
    "start_time": "2021-11-15T19:28:19.328Z"
   },
   {
    "duration": 40,
    "start_time": "2021-11-15T19:28:19.370Z"
   },
   {
    "duration": 356,
    "start_time": "2021-11-15T19:28:19.411Z"
   },
   {
    "duration": 26,
    "start_time": "2021-11-15T19:28:19.768Z"
   },
   {
    "duration": 8,
    "start_time": "2021-11-15T19:28:19.795Z"
   },
   {
    "duration": 123,
    "start_time": "2021-11-15T19:28:19.804Z"
   },
   {
    "duration": 7,
    "start_time": "2021-11-15T19:28:19.928Z"
   },
   {
    "duration": 90,
    "start_time": "2021-11-15T19:28:19.936Z"
   },
   {
    "duration": 9,
    "start_time": "2021-11-15T19:28:20.028Z"
   },
   {
    "duration": 226,
    "start_time": "2021-11-15T19:28:20.038Z"
   },
   {
    "duration": 122,
    "start_time": "2021-11-15T19:28:20.266Z"
   },
   {
    "duration": 350,
    "start_time": "2021-11-15T19:28:20.390Z"
   },
   {
    "duration": 2,
    "start_time": "2021-11-15T19:28:20.742Z"
   },
   {
    "duration": 177,
    "start_time": "2021-11-15T19:28:20.746Z"
   },
   {
    "duration": 506,
    "start_time": "2021-11-15T19:28:20.418Z"
   },
   {
    "duration": 504,
    "start_time": "2021-11-15T19:28:20.421Z"
   },
   {
    "duration": 502,
    "start_time": "2021-11-15T19:28:20.424Z"
   },
   {
    "duration": 1086,
    "start_time": "2021-11-15T19:28:49.115Z"
   },
   {
    "duration": 1457,
    "start_time": "2021-11-15T19:28:50.202Z"
   },
   {
    "duration": 110,
    "start_time": "2021-11-15T19:28:51.661Z"
   },
   {
    "duration": 23,
    "start_time": "2021-11-15T19:28:51.772Z"
   },
   {
    "duration": 92,
    "start_time": "2021-11-15T19:28:51.796Z"
   },
   {
    "duration": 341,
    "start_time": "2021-11-15T19:28:51.890Z"
   },
   {
    "duration": 752,
    "start_time": "2021-11-15T19:28:52.232Z"
   },
   {
    "duration": 201,
    "start_time": "2021-11-15T19:28:52.988Z"
   },
   {
    "duration": 18,
    "start_time": "2021-11-15T19:28:53.191Z"
   },
   {
    "duration": 16,
    "start_time": "2021-11-15T19:28:53.210Z"
   },
   {
    "duration": 12,
    "start_time": "2021-11-15T19:28:53.227Z"
   },
   {
    "duration": 117,
    "start_time": "2021-11-15T19:28:53.240Z"
   },
   {
    "duration": 184,
    "start_time": "2021-11-15T19:28:53.359Z"
   },
   {
    "duration": 247,
    "start_time": "2021-11-15T19:28:53.545Z"
   },
   {
    "duration": 42,
    "start_time": "2021-11-15T19:28:53.793Z"
   },
   {
    "duration": 100,
    "start_time": "2021-11-15T19:28:53.836Z"
   },
   {
    "duration": 8,
    "start_time": "2021-11-15T19:28:53.937Z"
   },
   {
    "duration": 220,
    "start_time": "2021-11-15T19:28:53.947Z"
   },
   {
    "duration": 198,
    "start_time": "2021-11-15T19:28:54.169Z"
   },
   {
    "duration": 29,
    "start_time": "2021-11-15T19:28:54.368Z"
   },
   {
    "duration": 7,
    "start_time": "2021-11-15T19:28:54.398Z"
   },
   {
    "duration": 81,
    "start_time": "2021-11-15T19:28:54.407Z"
   },
   {
    "duration": 9,
    "start_time": "2021-11-15T19:28:54.491Z"
   },
   {
    "duration": 37,
    "start_time": "2021-11-15T19:28:54.502Z"
   },
   {
    "duration": 10,
    "start_time": "2021-11-15T19:28:54.540Z"
   },
   {
    "duration": 73,
    "start_time": "2021-11-15T19:28:54.551Z"
   },
   {
    "duration": 271,
    "start_time": "2021-11-15T19:28:54.626Z"
   },
   {
    "duration": 29,
    "start_time": "2021-11-15T19:28:54.899Z"
   },
   {
    "duration": 112,
    "start_time": "2021-11-15T19:28:54.930Z"
   },
   {
    "duration": 14,
    "start_time": "2021-11-15T19:28:55.044Z"
   },
   {
    "duration": 31,
    "start_time": "2021-11-15T19:28:55.060Z"
   },
   {
    "duration": 226,
    "start_time": "2021-11-15T19:28:55.092Z"
   },
   {
    "duration": 15,
    "start_time": "2021-11-15T19:28:55.320Z"
   },
   {
    "duration": 76,
    "start_time": "2021-11-15T19:28:55.337Z"
   },
   {
    "duration": 16,
    "start_time": "2021-11-15T19:28:55.415Z"
   },
   {
    "duration": 104,
    "start_time": "2021-11-15T19:28:55.433Z"
   },
   {
    "duration": 81,
    "start_time": "2021-11-15T19:28:55.539Z"
   },
   {
    "duration": 29,
    "start_time": "2021-11-15T19:28:55.621Z"
   },
   {
    "duration": 73,
    "start_time": "2021-11-15T19:28:55.651Z"
   },
   {
    "duration": 28,
    "start_time": "2021-11-15T19:28:55.725Z"
   },
   {
    "duration": 143,
    "start_time": "2021-11-15T19:28:55.755Z"
   },
   {
    "duration": 62,
    "start_time": "2021-11-15T19:28:55.900Z"
   },
   {
    "duration": 40,
    "start_time": "2021-11-15T19:28:55.964Z"
   },
   {
    "duration": 29,
    "start_time": "2021-11-15T19:28:56.006Z"
   },
   {
    "duration": 29,
    "start_time": "2021-11-15T19:28:56.037Z"
   },
   {
    "duration": 346,
    "start_time": "2021-11-15T19:28:56.088Z"
   },
   {
    "duration": 20,
    "start_time": "2021-11-15T19:28:56.436Z"
   },
   {
    "duration": 9,
    "start_time": "2021-11-15T19:28:56.458Z"
   },
   {
    "duration": 113,
    "start_time": "2021-11-15T19:28:56.488Z"
   },
   {
    "duration": 6,
    "start_time": "2021-11-15T19:28:56.603Z"
   },
   {
    "duration": 91,
    "start_time": "2021-11-15T19:28:56.611Z"
   },
   {
    "duration": 9,
    "start_time": "2021-11-15T19:28:56.703Z"
   },
   {
    "duration": 229,
    "start_time": "2021-11-15T19:28:56.713Z"
   },
   {
    "duration": 78,
    "start_time": "2021-11-15T19:28:56.944Z"
   },
   {
    "duration": 427,
    "start_time": "2021-11-15T19:28:57.024Z"
   },
   {
    "duration": 2,
    "start_time": "2021-11-15T19:28:57.453Z"
   },
   {
    "duration": 173,
    "start_time": "2021-11-15T19:28:57.456Z"
   },
   {
    "duration": 502,
    "start_time": "2021-11-15T19:28:57.129Z"
   },
   {
    "duration": 498,
    "start_time": "2021-11-15T19:28:57.134Z"
   },
   {
    "duration": 496,
    "start_time": "2021-11-15T19:28:57.137Z"
   },
   {
    "duration": 1007,
    "start_time": "2021-11-15T19:29:32.507Z"
   },
   {
    "duration": 1551,
    "start_time": "2021-11-15T19:29:33.516Z"
   },
   {
    "duration": 117,
    "start_time": "2021-11-15T19:29:35.071Z"
   },
   {
    "duration": 14,
    "start_time": "2021-11-15T19:29:35.189Z"
   },
   {
    "duration": 100,
    "start_time": "2021-11-15T19:29:35.204Z"
   },
   {
    "duration": 355,
    "start_time": "2021-11-15T19:29:35.306Z"
   },
   {
    "duration": 745,
    "start_time": "2021-11-15T19:29:35.664Z"
   },
   {
    "duration": 211,
    "start_time": "2021-11-15T19:29:36.411Z"
   },
   {
    "duration": 20,
    "start_time": "2021-11-15T19:29:36.624Z"
   },
   {
    "duration": 18,
    "start_time": "2021-11-15T19:29:36.646Z"
   },
   {
    "duration": 14,
    "start_time": "2021-11-15T19:29:36.688Z"
   },
   {
    "duration": 106,
    "start_time": "2021-11-15T19:29:36.704Z"
   },
   {
    "duration": 189,
    "start_time": "2021-11-15T19:29:36.811Z"
   },
   {
    "duration": 240,
    "start_time": "2021-11-15T19:29:37.002Z"
   },
   {
    "duration": 51,
    "start_time": "2021-11-15T19:29:37.244Z"
   },
   {
    "duration": 98,
    "start_time": "2021-11-15T19:29:37.296Z"
   },
   {
    "duration": 8,
    "start_time": "2021-11-15T19:29:37.396Z"
   },
   {
    "duration": 221,
    "start_time": "2021-11-15T19:29:37.405Z"
   },
   {
    "duration": 196,
    "start_time": "2021-11-15T19:29:37.627Z"
   },
   {
    "duration": 16,
    "start_time": "2021-11-15T19:29:37.825Z"
   },
   {
    "duration": 6,
    "start_time": "2021-11-15T19:29:37.843Z"
   },
   {
    "duration": 91,
    "start_time": "2021-11-15T19:29:37.853Z"
   },
   {
    "duration": 8,
    "start_time": "2021-11-15T19:29:37.946Z"
   },
   {
    "duration": 48,
    "start_time": "2021-11-15T19:29:37.955Z"
   },
   {
    "duration": 7,
    "start_time": "2021-11-15T19:29:38.004Z"
   },
   {
    "duration": 43,
    "start_time": "2021-11-15T19:29:38.012Z"
   },
   {
    "duration": 276,
    "start_time": "2021-11-15T19:29:38.056Z"
   },
   {
    "duration": 28,
    "start_time": "2021-11-15T19:29:38.334Z"
   },
   {
    "duration": 98,
    "start_time": "2021-11-15T19:29:38.363Z"
   },
   {
    "duration": 12,
    "start_time": "2021-11-15T19:29:38.463Z"
   },
   {
    "duration": 6,
    "start_time": "2021-11-15T19:29:38.488Z"
   },
   {
    "duration": 222,
    "start_time": "2021-11-15T19:29:38.496Z"
   },
   {
    "duration": 13,
    "start_time": "2021-11-15T19:29:38.720Z"
   },
   {
    "duration": 74,
    "start_time": "2021-11-15T19:29:38.734Z"
   },
   {
    "duration": 16,
    "start_time": "2021-11-15T19:29:38.809Z"
   },
   {
    "duration": 82,
    "start_time": "2021-11-15T19:29:38.826Z"
   },
   {
    "duration": 83,
    "start_time": "2021-11-15T19:29:38.909Z"
   },
   {
    "duration": 28,
    "start_time": "2021-11-15T19:29:38.993Z"
   },
   {
    "duration": 72,
    "start_time": "2021-11-15T19:29:39.023Z"
   },
   {
    "duration": 30,
    "start_time": "2021-11-15T19:29:39.097Z"
   },
   {
    "duration": 149,
    "start_time": "2021-11-15T19:29:39.128Z"
   },
   {
    "duration": 71,
    "start_time": "2021-11-15T19:29:39.279Z"
   },
   {
    "duration": 48,
    "start_time": "2021-11-15T19:29:39.353Z"
   },
   {
    "duration": 32,
    "start_time": "2021-11-15T19:29:39.403Z"
   },
   {
    "duration": 55,
    "start_time": "2021-11-15T19:29:39.437Z"
   },
   {
    "duration": 356,
    "start_time": "2021-11-15T19:29:39.494Z"
   },
   {
    "duration": 23,
    "start_time": "2021-11-15T19:29:39.852Z"
   },
   {
    "duration": 18,
    "start_time": "2021-11-15T19:29:39.877Z"
   },
   {
    "duration": 129,
    "start_time": "2021-11-15T19:29:39.897Z"
   },
   {
    "duration": 7,
    "start_time": "2021-11-15T19:29:40.028Z"
   },
   {
    "duration": 96,
    "start_time": "2021-11-15T19:29:40.036Z"
   },
   {
    "duration": 9,
    "start_time": "2021-11-15T19:29:40.134Z"
   },
   {
    "duration": 227,
    "start_time": "2021-11-15T19:29:40.145Z"
   },
   {
    "duration": 122,
    "start_time": "2021-11-15T19:29:40.374Z"
   },
   {
    "duration": 92,
    "start_time": "2021-11-15T19:29:40.499Z"
   },
   {
    "duration": 94,
    "start_time": "2021-11-15T19:29:40.594Z"
   },
   {
    "duration": 182,
    "start_time": "2021-11-15T19:29:40.690Z"
   },
   {
    "duration": 509,
    "start_time": "2021-11-15T19:29:40.365Z"
   },
   {
    "duration": 507,
    "start_time": "2021-11-15T19:29:40.369Z"
   },
   {
    "duration": 497,
    "start_time": "2021-11-15T19:29:40.380Z"
   },
   {
    "duration": 155,
    "start_time": "2021-11-15T19:32:46.753Z"
   },
   {
    "duration": 210,
    "start_time": "2021-11-15T19:33:20.447Z"
   },
   {
    "duration": 165,
    "start_time": "2021-11-15T19:33:39.607Z"
   },
   {
    "duration": 249,
    "start_time": "2021-11-15T19:33:50.750Z"
   },
   {
    "duration": 174,
    "start_time": "2021-11-15T19:34:07.109Z"
   },
   {
    "duration": 1029,
    "start_time": "2021-11-15T19:41:28.490Z"
   },
   {
    "duration": 1339,
    "start_time": "2021-11-15T19:41:29.521Z"
   },
   {
    "duration": 125,
    "start_time": "2021-11-15T19:41:30.862Z"
   },
   {
    "duration": 15,
    "start_time": "2021-11-15T19:41:30.989Z"
   },
   {
    "duration": 106,
    "start_time": "2021-11-15T19:41:31.005Z"
   },
   {
    "duration": 349,
    "start_time": "2021-11-15T19:41:31.113Z"
   },
   {
    "duration": 737,
    "start_time": "2021-11-15T19:41:31.463Z"
   },
   {
    "duration": 208,
    "start_time": "2021-11-15T19:41:32.203Z"
   },
   {
    "duration": 19,
    "start_time": "2021-11-15T19:41:32.413Z"
   },
   {
    "duration": 16,
    "start_time": "2021-11-15T19:41:32.433Z"
   },
   {
    "duration": 11,
    "start_time": "2021-11-15T19:41:32.451Z"
   },
   {
    "duration": 110,
    "start_time": "2021-11-15T19:41:32.487Z"
   },
   {
    "duration": 191,
    "start_time": "2021-11-15T19:41:32.599Z"
   },
   {
    "duration": 246,
    "start_time": "2021-11-15T19:41:32.791Z"
   },
   {
    "duration": 51,
    "start_time": "2021-11-15T19:41:33.038Z"
   },
   {
    "duration": 86,
    "start_time": "2021-11-15T19:41:33.090Z"
   },
   {
    "duration": 8,
    "start_time": "2021-11-15T19:41:33.187Z"
   },
   {
    "duration": 225,
    "start_time": "2021-11-15T19:41:33.197Z"
   },
   {
    "duration": 207,
    "start_time": "2021-11-15T19:41:33.424Z"
   },
   {
    "duration": 16,
    "start_time": "2021-11-15T19:41:33.632Z"
   },
   {
    "duration": 8,
    "start_time": "2021-11-15T19:41:33.649Z"
   },
   {
    "duration": 83,
    "start_time": "2021-11-15T19:41:33.659Z"
   },
   {
    "duration": 9,
    "start_time": "2021-11-15T19:41:33.746Z"
   },
   {
    "duration": 61,
    "start_time": "2021-11-15T19:41:33.757Z"
   },
   {
    "duration": 7,
    "start_time": "2021-11-15T19:41:33.820Z"
   },
   {
    "duration": 37,
    "start_time": "2021-11-15T19:41:33.828Z"
   },
   {
    "duration": 277,
    "start_time": "2021-11-15T19:41:33.867Z"
   },
   {
    "duration": 28,
    "start_time": "2021-11-15T19:41:34.145Z"
   },
   {
    "duration": 85,
    "start_time": "2021-11-15T19:41:34.174Z"
   },
   {
    "duration": 13,
    "start_time": "2021-11-15T19:41:34.260Z"
   },
   {
    "duration": 12,
    "start_time": "2021-11-15T19:41:34.288Z"
   },
   {
    "duration": 277,
    "start_time": "2021-11-15T19:41:34.301Z"
   },
   {
    "duration": 16,
    "start_time": "2021-11-15T19:41:34.587Z"
   },
   {
    "duration": 59,
    "start_time": "2021-11-15T19:41:34.604Z"
   },
   {
    "duration": 31,
    "start_time": "2021-11-15T19:41:34.665Z"
   },
   {
    "duration": 103,
    "start_time": "2021-11-15T19:41:34.698Z"
   },
   {
    "duration": 86,
    "start_time": "2021-11-15T19:41:34.803Z"
   },
   {
    "duration": 28,
    "start_time": "2021-11-15T19:41:34.890Z"
   },
   {
    "duration": 69,
    "start_time": "2021-11-15T19:41:34.919Z"
   },
   {
    "duration": 29,
    "start_time": "2021-11-15T19:41:34.989Z"
   },
   {
    "duration": 142,
    "start_time": "2021-11-15T19:41:35.019Z"
   },
   {
    "duration": 69,
    "start_time": "2021-11-15T19:41:35.163Z"
   },
   {
    "duration": 30,
    "start_time": "2021-11-15T19:41:35.233Z"
   },
   {
    "duration": 43,
    "start_time": "2021-11-15T19:41:35.264Z"
   },
   {
    "duration": 30,
    "start_time": "2021-11-15T19:41:35.308Z"
   },
   {
    "duration": 371,
    "start_time": "2021-11-15T19:41:35.340Z"
   },
   {
    "duration": 22,
    "start_time": "2021-11-15T19:41:35.713Z"
   },
   {
    "duration": 8,
    "start_time": "2021-11-15T19:41:35.737Z"
   },
   {
    "duration": 134,
    "start_time": "2021-11-15T19:41:35.746Z"
   },
   {
    "duration": 10,
    "start_time": "2021-11-15T19:41:35.882Z"
   },
   {
    "duration": 83,
    "start_time": "2021-11-15T19:41:35.894Z"
   },
   {
    "duration": 14,
    "start_time": "2021-11-15T19:41:35.979Z"
   },
   {
    "duration": 236,
    "start_time": "2021-11-15T19:41:35.994Z"
   },
   {
    "duration": 78,
    "start_time": "2021-11-15T19:41:36.232Z"
   },
   {
    "duration": 177,
    "start_time": "2021-11-15T19:41:36.312Z"
   },
   {
    "duration": 4,
    "start_time": "2021-11-15T19:41:36.491Z"
   },
   {
    "duration": 262,
    "start_time": "2021-11-15T19:41:36.497Z"
   },
   {
    "duration": 515,
    "start_time": "2021-11-15T19:41:36.246Z"
   },
   {
    "duration": 513,
    "start_time": "2021-11-15T19:41:36.249Z"
   },
   {
    "duration": 511,
    "start_time": "2021-11-15T19:41:36.252Z"
   },
   {
    "duration": 2461215,
    "start_time": "2021-11-15T19:44:10.334Z"
   },
   {
    "duration": 2435470,
    "start_time": "2021-11-15T20:31:54.606Z"
   },
   {
    "duration": 15161,
    "start_time": "2021-11-15T21:22:14.227Z"
   },
   {
    "duration": 226,
    "start_time": "2021-11-15T21:22:57.711Z"
   },
   {
    "duration": 6939,
    "start_time": "2021-11-15T21:25:22.055Z"
   },
   {
    "duration": 782,
    "start_time": "2021-11-15T21:25:34.354Z"
   },
   {
    "duration": 573,
    "start_time": "2021-11-15T21:25:46.827Z"
   },
   {
    "duration": 83,
    "start_time": "2021-11-15T21:38:02.216Z"
   },
   {
    "duration": 3,
    "start_time": "2021-11-15T21:40:44.731Z"
   },
   {
    "duration": 3,
    "start_time": "2021-11-15T21:40:48.989Z"
   },
   {
    "duration": 3,
    "start_time": "2021-11-15T21:42:45.692Z"
   },
   {
    "duration": 2,
    "start_time": "2021-11-15T21:42:54.716Z"
   },
   {
    "duration": 3,
    "start_time": "2021-11-15T21:43:30.728Z"
   },
   {
    "duration": 3,
    "start_time": "2021-11-15T21:44:06.029Z"
   },
   {
    "duration": 3,
    "start_time": "2021-11-15T21:45:33.913Z"
   },
   {
    "duration": 3,
    "start_time": "2021-11-15T21:45:56.537Z"
   },
   {
    "duration": 88,
    "start_time": "2021-11-15T21:55:09.976Z"
   },
   {
    "duration": 8,
    "start_time": "2021-11-15T21:55:23.603Z"
   },
   {
    "duration": 1143,
    "start_time": "2021-11-16T09:42:07.579Z"
   },
   {
    "duration": 1578,
    "start_time": "2021-11-16T09:42:08.724Z"
   },
   {
    "duration": 126,
    "start_time": "2021-11-16T09:42:10.304Z"
   },
   {
    "duration": 15,
    "start_time": "2021-11-16T09:42:10.431Z"
   },
   {
    "duration": 125,
    "start_time": "2021-11-16T09:42:10.448Z"
   },
   {
    "duration": 448,
    "start_time": "2021-11-16T09:42:10.575Z"
   },
   {
    "duration": 968,
    "start_time": "2021-11-16T09:42:11.025Z"
   },
   {
    "duration": 240,
    "start_time": "2021-11-16T09:42:11.996Z"
   },
   {
    "duration": 31,
    "start_time": "2021-11-16T09:42:12.237Z"
   },
   {
    "duration": 24,
    "start_time": "2021-11-16T09:42:12.270Z"
   },
   {
    "duration": 16,
    "start_time": "2021-11-16T09:42:12.296Z"
   },
   {
    "duration": 134,
    "start_time": "2021-11-16T09:42:12.314Z"
   },
   {
    "duration": 213,
    "start_time": "2021-11-16T09:42:12.450Z"
   },
   {
    "duration": 272,
    "start_time": "2021-11-16T09:42:12.665Z"
   },
   {
    "duration": 62,
    "start_time": "2021-11-16T09:42:12.939Z"
   },
   {
    "duration": 123,
    "start_time": "2021-11-16T09:42:13.003Z"
   },
   {
    "duration": 14,
    "start_time": "2021-11-16T09:42:13.128Z"
   },
   {
    "duration": 282,
    "start_time": "2021-11-16T09:42:13.145Z"
   },
   {
    "duration": 236,
    "start_time": "2021-11-16T09:42:13.429Z"
   },
   {
    "duration": 21,
    "start_time": "2021-11-16T09:42:13.667Z"
   },
   {
    "duration": 9,
    "start_time": "2021-11-16T09:42:13.690Z"
   },
   {
    "duration": 108,
    "start_time": "2021-11-16T09:42:13.701Z"
   },
   {
    "duration": 8,
    "start_time": "2021-11-16T09:42:13.813Z"
   },
   {
    "duration": 61,
    "start_time": "2021-11-16T09:42:13.824Z"
   },
   {
    "duration": 8,
    "start_time": "2021-11-16T09:42:13.887Z"
   },
   {
    "duration": 51,
    "start_time": "2021-11-16T09:42:13.896Z"
   },
   {
    "duration": 315,
    "start_time": "2021-11-16T09:42:13.949Z"
   },
   {
    "duration": 31,
    "start_time": "2021-11-16T09:42:14.266Z"
   },
   {
    "duration": 99,
    "start_time": "2021-11-16T09:42:14.300Z"
   },
   {
    "duration": 15,
    "start_time": "2021-11-16T09:42:14.402Z"
   },
   {
    "duration": 12,
    "start_time": "2021-11-16T09:42:14.419Z"
   },
   {
    "duration": 274,
    "start_time": "2021-11-16T09:42:14.433Z"
   },
   {
    "duration": 16,
    "start_time": "2021-11-16T09:42:14.709Z"
   },
   {
    "duration": 83,
    "start_time": "2021-11-16T09:42:14.727Z"
   },
   {
    "duration": 22,
    "start_time": "2021-11-16T09:42:14.812Z"
   },
   {
    "duration": 82,
    "start_time": "2021-11-16T09:42:14.836Z"
   },
   {
    "duration": 85,
    "start_time": "2021-11-16T09:42:14.920Z"
   },
   {
    "duration": 41,
    "start_time": "2021-11-16T09:42:15.007Z"
   },
   {
    "duration": 79,
    "start_time": "2021-11-16T09:42:15.050Z"
   },
   {
    "duration": 34,
    "start_time": "2021-11-16T09:42:15.130Z"
   },
   {
    "duration": 177,
    "start_time": "2021-11-16T09:42:15.165Z"
   },
   {
    "duration": 76,
    "start_time": "2021-11-16T09:42:15.344Z"
   },
   {
    "duration": 41,
    "start_time": "2021-11-16T09:42:15.422Z"
   },
   {
    "duration": 35,
    "start_time": "2021-11-16T09:42:15.465Z"
   },
   {
    "duration": 33,
    "start_time": "2021-11-16T09:42:15.502Z"
   },
   {
    "duration": 402,
    "start_time": "2021-11-16T09:42:15.537Z"
   },
   {
    "duration": 37,
    "start_time": "2021-11-16T09:42:15.941Z"
   },
   {
    "duration": 9,
    "start_time": "2021-11-16T09:42:15.980Z"
   },
   {
    "duration": 146,
    "start_time": "2021-11-16T09:42:15.990Z"
   },
   {
    "duration": 8,
    "start_time": "2021-11-16T09:42:16.138Z"
   },
   {
    "duration": 121,
    "start_time": "2021-11-16T09:42:16.147Z"
   },
   {
    "duration": 11,
    "start_time": "2021-11-16T09:42:16.269Z"
   },
   {
    "duration": 276,
    "start_time": "2021-11-16T09:42:16.281Z"
   },
   {
    "duration": 3,
    "start_time": "2021-11-16T09:42:44.895Z"
   },
   {
    "duration": 6,
    "start_time": "2021-11-16T09:42:59.217Z"
   },
   {
    "duration": 4,
    "start_time": "2021-11-16T09:43:02.420Z"
   },
   {
    "duration": 20250,
    "start_time": "2021-11-16T09:43:04.741Z"
   },
   {
    "duration": 93545,
    "start_time": "2021-11-16T09:43:35.146Z"
   }
  ],
  "kernelspec": {
   "display_name": "Python 3",
   "language": "python",
   "name": "python3"
  },
  "language_info": {
   "codemirror_mode": {
    "name": "ipython",
    "version": 3
   },
   "file_extension": ".py",
   "mimetype": "text/x-python",
   "name": "python",
   "nbconvert_exporter": "python",
   "pygments_lexer": "ipython3",
   "version": "3.9.2"
  },
  "toc": {
   "base_numbering": 1,
   "nav_menu": {},
   "number_sections": true,
   "sideBar": true,
   "skip_h1_title": true,
   "title_cell": "Table of Contents",
   "title_sidebar": "Contents",
   "toc_cell": false,
   "toc_position": {},
   "toc_section_display": true,
   "toc_window_display": false
  }
 },
 "nbformat": 4,
 "nbformat_minor": 2
}
