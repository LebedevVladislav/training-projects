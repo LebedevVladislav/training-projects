{
 "cells": [
  {
   "cell_type": "markdown",
   "metadata": {
    "toc": true
   },
   "source": [
    "<h1>Содержание<span class=\"tocSkip\"></span></h1>\n",
    "<div class=\"toc\"><ul class=\"toc-item\"><li><span><a href=\"#Подготовка-данных\" data-toc-modified-id=\"Подготовка-данных-1\"><span class=\"toc-item-num\">1&nbsp;&nbsp;</span>Подготовка данных</a></span><ul class=\"toc-item\"><li><span><a href=\"#Изучение-данных\" data-toc-modified-id=\"Изучение-данных-1.1\"><span class=\"toc-item-num\">1.1&nbsp;&nbsp;</span>Изучение данных</a></span><ul class=\"toc-item\"><li><span><a href=\"#Исходные-данные\" data-toc-modified-id=\"Исходные-данные-1.1.1\"><span class=\"toc-item-num\">1.1.1&nbsp;&nbsp;</span>Исходные данные</a></span></li><li><span><a href=\"#Обучающая-выборка\" data-toc-modified-id=\"Обучающая-выборка-1.1.2\"><span class=\"toc-item-num\">1.1.2&nbsp;&nbsp;</span>Обучающая выборка</a></span></li><li><span><a href=\"#Тестовая-выборка\" data-toc-modified-id=\"Тестовая-выборка-1.1.3\"><span class=\"toc-item-num\">1.1.3&nbsp;&nbsp;</span>Тестовая выборка</a></span></li><li><span><a href=\"#Проверка-расчета-эффективности\" data-toc-modified-id=\"Проверка-расчета-эффективности-1.1.4\"><span class=\"toc-item-num\">1.1.4&nbsp;&nbsp;</span>Проверка расчета эффективности</a></span></li><li><span><a href=\"#Признаки,-не-вошедшие-в-тестовую-выборку\" data-toc-modified-id=\"Признаки,-не-вошедшие-в-тестовую-выборку-1.1.5\"><span class=\"toc-item-num\">1.1.5&nbsp;&nbsp;</span>Признаки, не вошедшие в тестовую выборку</a></span></li></ul></li><li><span><a href=\"#Предобработка-данных\" data-toc-modified-id=\"Предобработка-данных-1.2\"><span class=\"toc-item-num\">1.2&nbsp;&nbsp;</span>Предобработка данных</a></span><ul class=\"toc-item\"><li><span><a href=\"#Поиск-дубликатов\" data-toc-modified-id=\"Поиск-дубликатов-1.2.1\"><span class=\"toc-item-num\">1.2.1&nbsp;&nbsp;</span>Поиск дубликатов</a></span></li><li><span><a href=\"#Работа-с-пропусками\" data-toc-modified-id=\"Работа-с-пропусками-1.2.2\"><span class=\"toc-item-num\">1.2.2&nbsp;&nbsp;</span>Работа с пропусками</a></span></li></ul></li></ul></li><li><span><a href=\"#Анализ-данных\" data-toc-modified-id=\"Анализ-данных-2\"><span class=\"toc-item-num\">2&nbsp;&nbsp;</span>Анализ данных</a></span><ul class=\"toc-item\"><li><span><a href=\"#Изменение-концентрации-металлов-(Au,-Ag,-Pb)-на-различных-этапах-очистки\" data-toc-modified-id=\"Изменение-концентрации-металлов-(Au,-Ag,-Pb)-на-различных-этапах-очистки-2.1\"><span class=\"toc-item-num\">2.1&nbsp;&nbsp;</span>Изменение концентрации металлов (Au, Ag, Pb) на различных этапах очистки</a></span></li><li><span><a href=\"#Сравнение-распределения-размеров-гранул-сырья-на-обучающей-и-тестовой-выборках\" data-toc-modified-id=\"Сравнение-распределения-размеров-гранул-сырья-на-обучающей-и-тестовой-выборках-2.2\"><span class=\"toc-item-num\">2.2&nbsp;&nbsp;</span>Сравнение распределения размеров гранул сырья на обучающей и тестовой выборках</a></span></li><li><span><a href=\"#Исследование-суммарной-концентрации-всех-веществ-на-разных-стадиях:-в-сырье,-в-черновом-и-финальном-концентратах.\" data-toc-modified-id=\"Исследование-суммарной-концентрации-всех-веществ-на-разных-стадиях:-в-сырье,-в-черновом-и-финальном-концентратах.-2.3\"><span class=\"toc-item-num\">2.3&nbsp;&nbsp;</span>Исследование суммарной концентрации всех веществ на разных стадиях: в сырье, в черновом и финальном концентратах.</a></span></li></ul></li><li><span><a href=\"#Модель\" data-toc-modified-id=\"Модель-3\"><span class=\"toc-item-num\">3&nbsp;&nbsp;</span>Модель</a></span><ul class=\"toc-item\"><li><span><a href=\"#Функция-для-вычисления-итоговой-sMAPE\" data-toc-modified-id=\"Функция-для-вычисления-итоговой-sMAPE-3.1\"><span class=\"toc-item-num\">3.1&nbsp;&nbsp;</span>Функция для вычисления итоговой sMAPE</a></span></li><li><span><a href=\"#Обучение-моделей\" data-toc-modified-id=\"Обучение-моделей-3.2\"><span class=\"toc-item-num\">3.2&nbsp;&nbsp;</span>Обучение моделей</a></span><ul class=\"toc-item\"><li><span><a href=\"#Линейная-регрессия\" data-toc-modified-id=\"Линейная-регрессия-3.2.1\"><span class=\"toc-item-num\">3.2.1&nbsp;&nbsp;</span>Линейная регрессия</a></span></li><li><span><a href=\"#Случайный-лес\" data-toc-modified-id=\"Случайный-лес-3.2.2\"><span class=\"toc-item-num\">3.2.2&nbsp;&nbsp;</span>Случайный лес</a></span></li><li><span><a href=\"#Проверка-модели-на-тестовой-выборке\" data-toc-modified-id=\"Проверка-модели-на-тестовой-выборке-3.2.3\"><span class=\"toc-item-num\">3.2.3&nbsp;&nbsp;</span>Проверка модели на тестовой выборке</a></span></li><li><span><a href=\"#Проверка-качества\" data-toc-modified-id=\"Проверка-качества-3.2.4\"><span class=\"toc-item-num\">3.2.4&nbsp;&nbsp;</span>Проверка качества</a></span></li></ul></li></ul></li><li><span><a href=\"#Вывод\" data-toc-modified-id=\"Вывод-4\"><span class=\"toc-item-num\">4&nbsp;&nbsp;</span>Вывод</a></span></li></ul></div>"
   ]
  },
  {
   "cell_type": "markdown",
   "metadata": {},
   "source": [
    "# Восстановление золота из руды"
   ]
  },
  {
   "cell_type": "markdown",
   "metadata": {},
   "source": [
    "Подготовьте прототип модели машинного обучения для «Цифры». Компания разрабатывает решения для эффективной работы промышленных предприятий.\n",
    "\n",
    "Модель должна предсказать коэффициент восстановления золота из золотосодержащей руды. Используйте данные с параметрами добычи и очистки. \n",
    "\n",
    "Модель поможет оптимизировать производство, чтобы не запускать предприятие с убыточными характеристиками.\n",
    "\n",
    "Вам нужно:\n",
    "\n",
    "1. Подготовить данные;\n",
    "2. Провести исследовательский анализ данных;\n",
    "3. Построить и обучить модель.\n",
    "\n",
    "Чтобы выполнить проект, обращайтесь к библиотекам *pandas*, *matplotlib* и *sklearn.* Вам поможет их документация."
   ]
  },
  {
   "cell_type": "markdown",
   "metadata": {},
   "source": [
    "# Описание данных"
   ]
  },
  {
   "cell_type": "markdown",
   "metadata": {},
   "source": [
    "<b>Технологический процесс</b><p>\n",
    "Rougher feed — исходное сырье  \n",
    "Rougher additions (или reagent additions) — флотационные реагенты: Xanthate, Sulphate, Depressant  \n",
    "Xanthate **— ксантогенат (промотер, или активатор флотации);  \n",
    "Sulphate — сульфат (на данном производстве сульфид натрия);  \n",
    "Depressant — депрессант (силикат натрия).  \n",
    "Rougher process (англ. «грубый процесс») — флотация  \n",
    "Rougher tails — отвальные хвосты  \n",
    "Float banks — флотационная установка  \n",
    "Cleaner process — очистка  \n",
    "Rougher Au — черновой концентрат золота  \n",
    "Final Au — финальный концентрат золота  \n",
    "Параметры этапов  \n",
    "air amount — объём воздуха  \n",
    "fluid levels — уровень жидкости  \n",
    "feed size — размер гранул сырья  \n",
    "feed rate — скорость подачи  "
   ]
  },
  {
   "cell_type": "markdown",
   "metadata": {},
   "source": [
    "<b>Наименование признаков</b><p>\n",
    "Наименование признаков должно быть такое:  \n",
    "[этап].[тип_параметра].[название_параметра]  \n",
    "Пример: rougher.input.feed_ag<p> \n",
    "<b>Возможные значения для блока [этап]:</b><p>\n",
    "rougher — флотация  \n",
    "primary_cleaner — первичная очистка  \n",
    "secondary_cleaner — вторичная очистка  \n",
    "final — финальные характеристики<p>\n",
    "<b>Возможные значения для блока [тип_параметра]:</b><p>\n",
    "input — параметры сырья  \n",
    "output — параметры продукта  \n",
    "state — параметры, характеризующие текущее состояние этапа  \n",
    "calculation — расчётные характеристики  "
   ]
  },
  {
   "cell_type": "markdown",
   "metadata": {},
   "source": [
    "Нужно спрогнозировать сразу две величины:\n",
    "\n",
    "1. эффективность обогащения чернового концентрата `rougher.output.recovery`;\n",
    "2. эффективность обогащения финального концентрата `final.output.recovery`."
   ]
  },
  {
   "cell_type": "markdown",
   "metadata": {},
   "source": [
    "# Расчёт эффективности"
   ]
  },
  {
   "cell_type": "markdown",
   "metadata": {},
   "source": [
    "Вам нужно смоделировать процесс восстановления золота из золотосодержащей руды."
   ]
  },
  {
   "cell_type": "markdown",
   "metadata": {},
   "source": [
    "<b>Эффективность обогащения рассчитывается по формуле:</b>"
   ]
  },
  {
   "cell_type": "markdown",
   "metadata": {},
   "source": [
    "![jpg](https://pictures.s3.yandex.net/resources/Recovery_1576238822.jpg)"
   ]
  },
  {
   "cell_type": "markdown",
   "metadata": {},
   "source": [
    "где:  \n",
    "* C — доля золота в концентрате после флотации/очистки;\n",
    "* F — доля золота в сырье/концентрате до флотации/очистки;\n",
    "* T — доля золота в отвальных хвостах после флотации/очистки."
   ]
  },
  {
   "cell_type": "markdown",
   "metadata": {},
   "source": [
    "Для прогноза коэффициента нужно найти долю золота в концентратах и хвостах. Причём важен не только финальный продукт, но и черновой концентрат."
   ]
  },
  {
   "cell_type": "markdown",
   "metadata": {},
   "source": [
    "## Подготовка данных"
   ]
  },
  {
   "cell_type": "markdown",
   "metadata": {},
   "source": [
    "### Изучение данных"
   ]
  },
  {
   "cell_type": "code",
   "execution_count": 1,
   "metadata": {},
   "outputs": [],
   "source": [
    "import numpy as np\n",
    "from sklearn.model_selection import RandomizedSearchCV, GridSearchCV\n",
    "from sklearn.model_selection import cross_val_score\n",
    "from sklearn.ensemble import RandomForestRegressor\n",
    "from sklearn.linear_model import LinearRegression\n",
    "from sklearn.preprocessing import StandardScaler\n",
    "from sklearn.metrics import mean_absolute_error, make_scorer\n",
    "import matplotlib.pyplot as plt\n",
    "import pandas as pd\n",
    "pd.options.display.max_columns = None\n",
    "pd.set_option('display.max_rows', None)\n",
    "plt.rcParams.update({'font.size': 11})"
   ]
  },
  {
   "cell_type": "code",
   "execution_count": 2,
   "metadata": {},
   "outputs": [],
   "source": [
    "df_train = pd.read_csv(\n",
    "    '/datasets/gold_recovery_train.csv', parse_dates=['date'])\n",
    "df_test = pd.read_csv('/datasets/gold_recovery_test.csv', parse_dates=['date'])\n",
    "df_origin = pd.read_csv(\n",
    "    '/datasets/gold_recovery_full.csv', parse_dates=['date'])\n",
    "\n",
    "# данные для сравнения да/после обработки\n",
    "df_train_raw = pd.read_csv(\n",
    "    '/datasets/gold_recovery_train.csv', parse_dates=['date'])\n",
    "# данные для сравнения да/после обработки\n",
    "df_test_raw = pd.read_csv(\n",
    "    '/datasets/gold_recovery_test.csv', parse_dates=['date'])\n",
    "# данные для сравнения да/после обработки\n",
    "df_origin_raw = pd.read_csv(\n",
    "    '/datasets/gold_recovery_full.csv', parse_dates=['date'])"
   ]
  },
  {
   "cell_type": "markdown",
   "metadata": {},
   "source": [
    "#### Исходные данные"
   ]
  },
  {
   "cell_type": "markdown",
   "metadata": {},
   "source": [
    "Для начала расмотрим исходные данные."
   ]
  },
  {
   "cell_type": "code",
   "execution_count": 3,
   "metadata": {
    "scrolled": true
   },
   "outputs": [
    {
     "name": "stdout",
     "output_type": "stream",
     "text": [
      "<class 'pandas.core.frame.DataFrame'>\n",
      "RangeIndex: 22716 entries, 0 to 22715\n",
      "Data columns (total 87 columns):\n",
      "date                                                  22716 non-null datetime64[ns]\n",
      "final.output.concentrate_ag                           22627 non-null float64\n",
      "final.output.concentrate_pb                           22629 non-null float64\n",
      "final.output.concentrate_sol                          22331 non-null float64\n",
      "final.output.concentrate_au                           22630 non-null float64\n",
      "final.output.recovery                                 20753 non-null float64\n",
      "final.output.tail_ag                                  22633 non-null float64\n",
      "final.output.tail_pb                                  22516 non-null float64\n",
      "final.output.tail_sol                                 22445 non-null float64\n",
      "final.output.tail_au                                  22635 non-null float64\n",
      "primary_cleaner.input.sulfate                         21107 non-null float64\n",
      "primary_cleaner.input.depressant                      21170 non-null float64\n",
      "primary_cleaner.input.feed_size                       22716 non-null float64\n",
      "primary_cleaner.input.xanthate                        21565 non-null float64\n",
      "primary_cleaner.output.concentrate_ag                 22618 non-null float64\n",
      "primary_cleaner.output.concentrate_pb                 22268 non-null float64\n",
      "primary_cleaner.output.concentrate_sol                21918 non-null float64\n",
      "primary_cleaner.output.concentrate_au                 22618 non-null float64\n",
      "primary_cleaner.output.tail_ag                        22614 non-null float64\n",
      "primary_cleaner.output.tail_pb                        22594 non-null float64\n",
      "primary_cleaner.output.tail_sol                       22365 non-null float64\n",
      "primary_cleaner.output.tail_au                        22617 non-null float64\n",
      "primary_cleaner.state.floatbank8_a_air                22660 non-null float64\n",
      "primary_cleaner.state.floatbank8_a_level              22667 non-null float64\n",
      "primary_cleaner.state.floatbank8_b_air                22660 non-null float64\n",
      "primary_cleaner.state.floatbank8_b_level              22673 non-null float64\n",
      "primary_cleaner.state.floatbank8_c_air                22662 non-null float64\n",
      "primary_cleaner.state.floatbank8_c_level              22673 non-null float64\n",
      "primary_cleaner.state.floatbank8_d_air                22661 non-null float64\n",
      "primary_cleaner.state.floatbank8_d_level              22673 non-null float64\n",
      "rougher.calculation.sulfate_to_au_concentrate         22672 non-null float64\n",
      "rougher.calculation.floatbank10_sulfate_to_au_feed    22672 non-null float64\n",
      "rougher.calculation.floatbank11_sulfate_to_au_feed    22672 non-null float64\n",
      "rougher.calculation.au_pb_ratio                       21089 non-null float64\n",
      "rougher.input.feed_ag                                 22618 non-null float64\n",
      "rougher.input.feed_pb                                 22472 non-null float64\n",
      "rougher.input.feed_rate                               22163 non-null float64\n",
      "rougher.input.feed_size                               22277 non-null float64\n",
      "rougher.input.feed_sol                                22357 non-null float64\n",
      "rougher.input.feed_au                                 22617 non-null float64\n",
      "rougher.input.floatbank10_sulfate                     21415 non-null float64\n",
      "rougher.input.floatbank10_xanthate                    22247 non-null float64\n",
      "rougher.input.floatbank11_sulfate                     22038 non-null float64\n",
      "rougher.input.floatbank11_xanthate                    20459 non-null float64\n",
      "rougher.output.concentrate_ag                         22618 non-null float64\n",
      "rougher.output.concentrate_pb                         22618 non-null float64\n",
      "rougher.output.concentrate_sol                        22526 non-null float64\n",
      "rougher.output.concentrate_au                         22618 non-null float64\n",
      "rougher.output.recovery                               19597 non-null float64\n",
      "rougher.output.tail_ag                                19979 non-null float64\n",
      "rougher.output.tail_pb                                22618 non-null float64\n",
      "rougher.output.tail_sol                               19980 non-null float64\n",
      "rougher.output.tail_au                                19980 non-null float64\n",
      "rougher.state.floatbank10_a_air                       22646 non-null float64\n",
      "rougher.state.floatbank10_a_level                     22647 non-null float64\n",
      "rougher.state.floatbank10_b_air                       22646 non-null float64\n",
      "rougher.state.floatbank10_b_level                     22647 non-null float64\n",
      "rougher.state.floatbank10_c_air                       22646 non-null float64\n",
      "rougher.state.floatbank10_c_level                     22654 non-null float64\n",
      "rougher.state.floatbank10_d_air                       22641 non-null float64\n",
      "rougher.state.floatbank10_d_level                     22649 non-null float64\n",
      "rougher.state.floatbank10_e_air                       22096 non-null float64\n",
      "rougher.state.floatbank10_e_level                     22649 non-null float64\n",
      "rougher.state.floatbank10_f_air                       22641 non-null float64\n",
      "rougher.state.floatbank10_f_level                     22642 non-null float64\n",
      "secondary_cleaner.output.tail_ag                      22616 non-null float64\n",
      "secondary_cleaner.output.tail_pb                      22600 non-null float64\n",
      "secondary_cleaner.output.tail_sol                     20501 non-null float64\n",
      "secondary_cleaner.output.tail_au                      22618 non-null float64\n",
      "secondary_cleaner.state.floatbank2_a_air              22333 non-null float64\n",
      "secondary_cleaner.state.floatbank2_a_level            22591 non-null float64\n",
      "secondary_cleaner.state.floatbank2_b_air              22538 non-null float64\n",
      "secondary_cleaner.state.floatbank2_b_level            22588 non-null float64\n",
      "secondary_cleaner.state.floatbank3_a_air              22585 non-null float64\n",
      "secondary_cleaner.state.floatbank3_a_level            22587 non-null float64\n",
      "secondary_cleaner.state.floatbank3_b_air              22592 non-null float64\n",
      "secondary_cleaner.state.floatbank3_b_level            22590 non-null float64\n",
      "secondary_cleaner.state.floatbank4_a_air              22571 non-null float64\n",
      "secondary_cleaner.state.floatbank4_a_level            22587 non-null float64\n",
      "secondary_cleaner.state.floatbank4_b_air              22608 non-null float64\n",
      "secondary_cleaner.state.floatbank4_b_level            22607 non-null float64\n",
      "secondary_cleaner.state.floatbank5_a_air              22615 non-null float64\n",
      "secondary_cleaner.state.floatbank5_a_level            22615 non-null float64\n",
      "secondary_cleaner.state.floatbank5_b_air              22615 non-null float64\n",
      "secondary_cleaner.state.floatbank5_b_level            22616 non-null float64\n",
      "secondary_cleaner.state.floatbank6_a_air              22597 non-null float64\n",
      "secondary_cleaner.state.floatbank6_a_level            22615 non-null float64\n",
      "dtypes: datetime64[ns](1), float64(86)\n",
      "memory usage: 15.1 MB\n"
     ]
    }
   ],
   "source": [
    "df_origin.info()"
   ]
  },
  {
   "cell_type": "markdown",
   "metadata": {},
   "source": [
    "Первое наблюдение: столбцы с данными представлены, по всей видимости в алфовитном порядке, что не совсем удобно: \n",
    "1) final - финальные характеристики (последний этап).   \n",
    "2) primary_cleaner - первичная очистка (второй этап).   \n",
    "3) rougher - флотация (первый этап).  \n",
    "4) secondary_cleaner - вторичная очистка (третий этап).  \n",
    "\n",
    "Второе наблюдение: помимо золота (Au), в данных представлен другие элементы: Ag - серебро, Pb - свинец. А также Sol, не найденный в периодической таблице.\n",
    "\n",
    "Третье наблюдение: в данных есть пропуски."
   ]
  },
  {
   "cell_type": "markdown",
   "metadata": {},
   "source": [
    "<b>Взгляним на первые строки данных. </b>"
   ]
  },
  {
   "cell_type": "code",
   "execution_count": 4,
   "metadata": {},
   "outputs": [
    {
     "data": {
      "text/html": [
       "<div>\n",
       "<style scoped>\n",
       "    .dataframe tbody tr th:only-of-type {\n",
       "        vertical-align: middle;\n",
       "    }\n",
       "\n",
       "    .dataframe tbody tr th {\n",
       "        vertical-align: top;\n",
       "    }\n",
       "\n",
       "    .dataframe thead th {\n",
       "        text-align: right;\n",
       "    }\n",
       "</style>\n",
       "<table border=\"1\" class=\"dataframe\">\n",
       "  <thead>\n",
       "    <tr style=\"text-align: right;\">\n",
       "      <th></th>\n",
       "      <th>date</th>\n",
       "      <th>final.output.concentrate_ag</th>\n",
       "      <th>final.output.concentrate_pb</th>\n",
       "      <th>final.output.concentrate_sol</th>\n",
       "      <th>final.output.concentrate_au</th>\n",
       "      <th>final.output.recovery</th>\n",
       "      <th>final.output.tail_ag</th>\n",
       "      <th>final.output.tail_pb</th>\n",
       "      <th>final.output.tail_sol</th>\n",
       "      <th>final.output.tail_au</th>\n",
       "      <th>primary_cleaner.input.sulfate</th>\n",
       "      <th>primary_cleaner.input.depressant</th>\n",
       "      <th>primary_cleaner.input.feed_size</th>\n",
       "      <th>primary_cleaner.input.xanthate</th>\n",
       "      <th>primary_cleaner.output.concentrate_ag</th>\n",
       "      <th>primary_cleaner.output.concentrate_pb</th>\n",
       "      <th>primary_cleaner.output.concentrate_sol</th>\n",
       "      <th>primary_cleaner.output.concentrate_au</th>\n",
       "      <th>primary_cleaner.output.tail_ag</th>\n",
       "      <th>primary_cleaner.output.tail_pb</th>\n",
       "      <th>primary_cleaner.output.tail_sol</th>\n",
       "      <th>primary_cleaner.output.tail_au</th>\n",
       "      <th>primary_cleaner.state.floatbank8_a_air</th>\n",
       "      <th>primary_cleaner.state.floatbank8_a_level</th>\n",
       "      <th>primary_cleaner.state.floatbank8_b_air</th>\n",
       "      <th>primary_cleaner.state.floatbank8_b_level</th>\n",
       "      <th>primary_cleaner.state.floatbank8_c_air</th>\n",
       "      <th>primary_cleaner.state.floatbank8_c_level</th>\n",
       "      <th>primary_cleaner.state.floatbank8_d_air</th>\n",
       "      <th>primary_cleaner.state.floatbank8_d_level</th>\n",
       "      <th>rougher.calculation.sulfate_to_au_concentrate</th>\n",
       "      <th>rougher.calculation.floatbank10_sulfate_to_au_feed</th>\n",
       "      <th>rougher.calculation.floatbank11_sulfate_to_au_feed</th>\n",
       "      <th>rougher.calculation.au_pb_ratio</th>\n",
       "      <th>rougher.input.feed_ag</th>\n",
       "      <th>rougher.input.feed_pb</th>\n",
       "      <th>rougher.input.feed_rate</th>\n",
       "      <th>rougher.input.feed_size</th>\n",
       "      <th>rougher.input.feed_sol</th>\n",
       "      <th>rougher.input.feed_au</th>\n",
       "      <th>rougher.input.floatbank10_sulfate</th>\n",
       "      <th>rougher.input.floatbank10_xanthate</th>\n",
       "      <th>rougher.input.floatbank11_sulfate</th>\n",
       "      <th>rougher.input.floatbank11_xanthate</th>\n",
       "      <th>rougher.output.concentrate_ag</th>\n",
       "      <th>rougher.output.concentrate_pb</th>\n",
       "      <th>rougher.output.concentrate_sol</th>\n",
       "      <th>rougher.output.concentrate_au</th>\n",
       "      <th>rougher.output.recovery</th>\n",
       "      <th>rougher.output.tail_ag</th>\n",
       "      <th>rougher.output.tail_pb</th>\n",
       "      <th>rougher.output.tail_sol</th>\n",
       "      <th>rougher.output.tail_au</th>\n",
       "      <th>rougher.state.floatbank10_a_air</th>\n",
       "      <th>rougher.state.floatbank10_a_level</th>\n",
       "      <th>rougher.state.floatbank10_b_air</th>\n",
       "      <th>rougher.state.floatbank10_b_level</th>\n",
       "      <th>rougher.state.floatbank10_c_air</th>\n",
       "      <th>rougher.state.floatbank10_c_level</th>\n",
       "      <th>rougher.state.floatbank10_d_air</th>\n",
       "      <th>rougher.state.floatbank10_d_level</th>\n",
       "      <th>rougher.state.floatbank10_e_air</th>\n",
       "      <th>rougher.state.floatbank10_e_level</th>\n",
       "      <th>rougher.state.floatbank10_f_air</th>\n",
       "      <th>rougher.state.floatbank10_f_level</th>\n",
       "      <th>secondary_cleaner.output.tail_ag</th>\n",
       "      <th>secondary_cleaner.output.tail_pb</th>\n",
       "      <th>secondary_cleaner.output.tail_sol</th>\n",
       "      <th>secondary_cleaner.output.tail_au</th>\n",
       "      <th>secondary_cleaner.state.floatbank2_a_air</th>\n",
       "      <th>secondary_cleaner.state.floatbank2_a_level</th>\n",
       "      <th>secondary_cleaner.state.floatbank2_b_air</th>\n",
       "      <th>secondary_cleaner.state.floatbank2_b_level</th>\n",
       "      <th>secondary_cleaner.state.floatbank3_a_air</th>\n",
       "      <th>secondary_cleaner.state.floatbank3_a_level</th>\n",
       "      <th>secondary_cleaner.state.floatbank3_b_air</th>\n",
       "      <th>secondary_cleaner.state.floatbank3_b_level</th>\n",
       "      <th>secondary_cleaner.state.floatbank4_a_air</th>\n",
       "      <th>secondary_cleaner.state.floatbank4_a_level</th>\n",
       "      <th>secondary_cleaner.state.floatbank4_b_air</th>\n",
       "      <th>secondary_cleaner.state.floatbank4_b_level</th>\n",
       "      <th>secondary_cleaner.state.floatbank5_a_air</th>\n",
       "      <th>secondary_cleaner.state.floatbank5_a_level</th>\n",
       "      <th>secondary_cleaner.state.floatbank5_b_air</th>\n",
       "      <th>secondary_cleaner.state.floatbank5_b_level</th>\n",
       "      <th>secondary_cleaner.state.floatbank6_a_air</th>\n",
       "      <th>secondary_cleaner.state.floatbank6_a_level</th>\n",
       "    </tr>\n",
       "  </thead>\n",
       "  <tbody>\n",
       "    <tr>\n",
       "      <td>0</td>\n",
       "      <td>2016-01-15 00:00:00</td>\n",
       "      <td>6.055403</td>\n",
       "      <td>9.889648</td>\n",
       "      <td>5.507324</td>\n",
       "      <td>42.192020</td>\n",
       "      <td>70.541216</td>\n",
       "      <td>10.411962</td>\n",
       "      <td>0.895447</td>\n",
       "      <td>16.904297</td>\n",
       "      <td>2.143149</td>\n",
       "      <td>127.092003</td>\n",
       "      <td>10.128295</td>\n",
       "      <td>7.25</td>\n",
       "      <td>0.988759</td>\n",
       "      <td>8.547551</td>\n",
       "      <td>10.389648</td>\n",
       "      <td>19.529297</td>\n",
       "      <td>34.174427</td>\n",
       "      <td>14.936526</td>\n",
       "      <td>2.534912</td>\n",
       "      <td>7.476074</td>\n",
       "      <td>2.106679</td>\n",
       "      <td>1549.775757</td>\n",
       "      <td>-498.912140</td>\n",
       "      <td>1551.434204</td>\n",
       "      <td>-516.403442</td>\n",
       "      <td>1549.873901</td>\n",
       "      <td>-498.666595</td>\n",
       "      <td>1554.367432</td>\n",
       "      <td>-493.428131</td>\n",
       "      <td>41885.707031</td>\n",
       "      <td>3481.779053</td>\n",
       "      <td>3520.337158</td>\n",
       "      <td>2.838687</td>\n",
       "      <td>6.100378</td>\n",
       "      <td>2.284912</td>\n",
       "      <td>523.546326</td>\n",
       "      <td>55.486599</td>\n",
       "      <td>36.808594</td>\n",
       "      <td>6.486150</td>\n",
       "      <td>11.986616</td>\n",
       "      <td>6.007990</td>\n",
       "      <td>11.836743</td>\n",
       "      <td>6.005818</td>\n",
       "      <td>11.500771</td>\n",
       "      <td>7.101074</td>\n",
       "      <td>28.029297</td>\n",
       "      <td>19.793808</td>\n",
       "      <td>87.107763</td>\n",
       "      <td>5.008018</td>\n",
       "      <td>0.508728</td>\n",
       "      <td>19.154297</td>\n",
       "      <td>1.170244</td>\n",
       "      <td>999.706909</td>\n",
       "      <td>-404.066986</td>\n",
       "      <td>1603.011353</td>\n",
       "      <td>-434.715027</td>\n",
       "      <td>1602.375000</td>\n",
       "      <td>-442.204468</td>\n",
       "      <td>1598.937256</td>\n",
       "      <td>-451.294128</td>\n",
       "      <td>1404.472046</td>\n",
       "      <td>-455.462982</td>\n",
       "      <td>1416.354980</td>\n",
       "      <td>-451.939636</td>\n",
       "      <td>14.500184</td>\n",
       "      <td>4.694824</td>\n",
       "      <td>8.764648</td>\n",
       "      <td>2.606185</td>\n",
       "      <td>25.853109</td>\n",
       "      <td>-498.526489</td>\n",
       "      <td>23.893660</td>\n",
       "      <td>-501.406281</td>\n",
       "      <td>23.961798</td>\n",
       "      <td>-495.262817</td>\n",
       "      <td>21.940409</td>\n",
       "      <td>-499.340973</td>\n",
       "      <td>14.016835</td>\n",
       "      <td>-502.488007</td>\n",
       "      <td>12.099931</td>\n",
       "      <td>-504.715942</td>\n",
       "      <td>9.925633</td>\n",
       "      <td>-498.310211</td>\n",
       "      <td>8.079666</td>\n",
       "      <td>-500.470978</td>\n",
       "      <td>14.151341</td>\n",
       "      <td>-605.841980</td>\n",
       "    </tr>\n",
       "    <tr>\n",
       "      <td>1</td>\n",
       "      <td>2016-01-15 01:00:00</td>\n",
       "      <td>6.029369</td>\n",
       "      <td>9.968944</td>\n",
       "      <td>5.257781</td>\n",
       "      <td>42.701629</td>\n",
       "      <td>69.266198</td>\n",
       "      <td>10.462676</td>\n",
       "      <td>0.927452</td>\n",
       "      <td>16.634514</td>\n",
       "      <td>2.224930</td>\n",
       "      <td>125.629232</td>\n",
       "      <td>10.296251</td>\n",
       "      <td>7.25</td>\n",
       "      <td>1.002663</td>\n",
       "      <td>8.558743</td>\n",
       "      <td>10.497069</td>\n",
       "      <td>19.369147</td>\n",
       "      <td>34.118526</td>\n",
       "      <td>16.250511</td>\n",
       "      <td>3.049646</td>\n",
       "      <td>6.733907</td>\n",
       "      <td>2.353017</td>\n",
       "      <td>1576.166671</td>\n",
       "      <td>-500.904965</td>\n",
       "      <td>1575.950626</td>\n",
       "      <td>-499.865889</td>\n",
       "      <td>1575.994189</td>\n",
       "      <td>-499.315107</td>\n",
       "      <td>1574.479259</td>\n",
       "      <td>-498.931665</td>\n",
       "      <td>42050.861809</td>\n",
       "      <td>3498.370979</td>\n",
       "      <td>3489.981857</td>\n",
       "      <td>2.858998</td>\n",
       "      <td>6.161113</td>\n",
       "      <td>2.266033</td>\n",
       "      <td>525.290581</td>\n",
       "      <td>57.278666</td>\n",
       "      <td>35.753385</td>\n",
       "      <td>6.478583</td>\n",
       "      <td>11.971193</td>\n",
       "      <td>6.005766</td>\n",
       "      <td>11.996163</td>\n",
       "      <td>6.012594</td>\n",
       "      <td>11.615865</td>\n",
       "      <td>7.278807</td>\n",
       "      <td>28.067063</td>\n",
       "      <td>20.050975</td>\n",
       "      <td>86.843261</td>\n",
       "      <td>4.955378</td>\n",
       "      <td>0.536689</td>\n",
       "      <td>18.965234</td>\n",
       "      <td>1.184827</td>\n",
       "      <td>1000.286398</td>\n",
       "      <td>-400.065196</td>\n",
       "      <td>1600.754587</td>\n",
       "      <td>-449.953435</td>\n",
       "      <td>1600.479580</td>\n",
       "      <td>-449.830646</td>\n",
       "      <td>1600.527589</td>\n",
       "      <td>-449.953649</td>\n",
       "      <td>1399.227084</td>\n",
       "      <td>-450.869848</td>\n",
       "      <td>1399.719514</td>\n",
       "      <td>-450.119001</td>\n",
       "      <td>14.265474</td>\n",
       "      <td>4.592547</td>\n",
       "      <td>9.001494</td>\n",
       "      <td>2.488248</td>\n",
       "      <td>25.880539</td>\n",
       "      <td>-499.989656</td>\n",
       "      <td>23.889530</td>\n",
       "      <td>-500.372428</td>\n",
       "      <td>23.970550</td>\n",
       "      <td>-500.085473</td>\n",
       "      <td>22.085714</td>\n",
       "      <td>-499.446897</td>\n",
       "      <td>13.992281</td>\n",
       "      <td>-505.503262</td>\n",
       "      <td>11.950531</td>\n",
       "      <td>-501.331529</td>\n",
       "      <td>10.039245</td>\n",
       "      <td>-500.169983</td>\n",
       "      <td>7.984757</td>\n",
       "      <td>-500.582168</td>\n",
       "      <td>13.998353</td>\n",
       "      <td>-599.787184</td>\n",
       "    </tr>\n",
       "    <tr>\n",
       "      <td>2</td>\n",
       "      <td>2016-01-15 02:00:00</td>\n",
       "      <td>6.055926</td>\n",
       "      <td>10.213995</td>\n",
       "      <td>5.383759</td>\n",
       "      <td>42.657501</td>\n",
       "      <td>68.116445</td>\n",
       "      <td>10.507046</td>\n",
       "      <td>0.953716</td>\n",
       "      <td>16.208849</td>\n",
       "      <td>2.257889</td>\n",
       "      <td>123.819808</td>\n",
       "      <td>11.316280</td>\n",
       "      <td>7.25</td>\n",
       "      <td>0.991265</td>\n",
       "      <td>8.603505</td>\n",
       "      <td>10.354494</td>\n",
       "      <td>19.167579</td>\n",
       "      <td>33.969464</td>\n",
       "      <td>16.491823</td>\n",
       "      <td>3.124664</td>\n",
       "      <td>6.471768</td>\n",
       "      <td>2.416800</td>\n",
       "      <td>1601.556163</td>\n",
       "      <td>-499.997791</td>\n",
       "      <td>1600.386685</td>\n",
       "      <td>-500.607762</td>\n",
       "      <td>1602.003542</td>\n",
       "      <td>-500.870069</td>\n",
       "      <td>1599.541515</td>\n",
       "      <td>-499.827444</td>\n",
       "      <td>42018.101184</td>\n",
       "      <td>3495.348910</td>\n",
       "      <td>3502.359819</td>\n",
       "      <td>2.945989</td>\n",
       "      <td>6.116455</td>\n",
       "      <td>2.159622</td>\n",
       "      <td>530.026610</td>\n",
       "      <td>57.510649</td>\n",
       "      <td>35.971630</td>\n",
       "      <td>6.362222</td>\n",
       "      <td>11.920603</td>\n",
       "      <td>6.197377</td>\n",
       "      <td>11.920305</td>\n",
       "      <td>6.204633</td>\n",
       "      <td>11.695753</td>\n",
       "      <td>7.216833</td>\n",
       "      <td>27.454037</td>\n",
       "      <td>19.737170</td>\n",
       "      <td>86.842308</td>\n",
       "      <td>4.843460</td>\n",
       "      <td>0.546416</td>\n",
       "      <td>18.808533</td>\n",
       "      <td>1.162562</td>\n",
       "      <td>999.719565</td>\n",
       "      <td>-400.074028</td>\n",
       "      <td>1599.337330</td>\n",
       "      <td>-450.008530</td>\n",
       "      <td>1599.672797</td>\n",
       "      <td>-449.954491</td>\n",
       "      <td>1599.849325</td>\n",
       "      <td>-449.954185</td>\n",
       "      <td>1399.180945</td>\n",
       "      <td>-449.937588</td>\n",
       "      <td>1400.316682</td>\n",
       "      <td>-450.527147</td>\n",
       "      <td>14.115662</td>\n",
       "      <td>4.624775</td>\n",
       "      <td>8.842896</td>\n",
       "      <td>2.458187</td>\n",
       "      <td>26.005245</td>\n",
       "      <td>-499.929616</td>\n",
       "      <td>23.886657</td>\n",
       "      <td>-499.951928</td>\n",
       "      <td>23.913535</td>\n",
       "      <td>-499.442343</td>\n",
       "      <td>23.957717</td>\n",
       "      <td>-499.901982</td>\n",
       "      <td>14.015015</td>\n",
       "      <td>-502.520901</td>\n",
       "      <td>11.912783</td>\n",
       "      <td>-501.133383</td>\n",
       "      <td>10.070913</td>\n",
       "      <td>-500.129135</td>\n",
       "      <td>8.013877</td>\n",
       "      <td>-500.517572</td>\n",
       "      <td>14.028663</td>\n",
       "      <td>-601.427363</td>\n",
       "    </tr>\n",
       "    <tr>\n",
       "      <td>3</td>\n",
       "      <td>2016-01-15 03:00:00</td>\n",
       "      <td>6.047977</td>\n",
       "      <td>9.977019</td>\n",
       "      <td>4.858634</td>\n",
       "      <td>42.689819</td>\n",
       "      <td>68.347543</td>\n",
       "      <td>10.422762</td>\n",
       "      <td>0.883763</td>\n",
       "      <td>16.532835</td>\n",
       "      <td>2.146849</td>\n",
       "      <td>122.270188</td>\n",
       "      <td>11.322140</td>\n",
       "      <td>7.25</td>\n",
       "      <td>0.996739</td>\n",
       "      <td>7.221879</td>\n",
       "      <td>8.496563</td>\n",
       "      <td>15.978538</td>\n",
       "      <td>28.260743</td>\n",
       "      <td>16.024359</td>\n",
       "      <td>2.960362</td>\n",
       "      <td>6.843791</td>\n",
       "      <td>2.262051</td>\n",
       "      <td>1599.968720</td>\n",
       "      <td>-500.951778</td>\n",
       "      <td>1600.659236</td>\n",
       "      <td>-499.677094</td>\n",
       "      <td>1600.304144</td>\n",
       "      <td>-500.727997</td>\n",
       "      <td>1600.449520</td>\n",
       "      <td>-500.052575</td>\n",
       "      <td>42029.447991</td>\n",
       "      <td>3498.578313</td>\n",
       "      <td>3499.162912</td>\n",
       "      <td>3.002340</td>\n",
       "      <td>6.043309</td>\n",
       "      <td>2.037807</td>\n",
       "      <td>542.590390</td>\n",
       "      <td>57.792734</td>\n",
       "      <td>36.862241</td>\n",
       "      <td>6.118189</td>\n",
       "      <td>11.630094</td>\n",
       "      <td>6.203177</td>\n",
       "      <td>11.692450</td>\n",
       "      <td>6.196578</td>\n",
       "      <td>11.915047</td>\n",
       "      <td>7.175616</td>\n",
       "      <td>27.341277</td>\n",
       "      <td>19.320810</td>\n",
       "      <td>87.226430</td>\n",
       "      <td>4.655288</td>\n",
       "      <td>0.542525</td>\n",
       "      <td>19.330200</td>\n",
       "      <td>1.079755</td>\n",
       "      <td>999.814770</td>\n",
       "      <td>-400.200179</td>\n",
       "      <td>1600.059442</td>\n",
       "      <td>-450.619948</td>\n",
       "      <td>1600.012842</td>\n",
       "      <td>-449.910497</td>\n",
       "      <td>1597.725177</td>\n",
       "      <td>-450.130127</td>\n",
       "      <td>1400.943157</td>\n",
       "      <td>-450.030142</td>\n",
       "      <td>1400.234743</td>\n",
       "      <td>-449.790835</td>\n",
       "      <td>13.732071</td>\n",
       "      <td>4.482453</td>\n",
       "      <td>9.122857</td>\n",
       "      <td>2.322062</td>\n",
       "      <td>25.942508</td>\n",
       "      <td>-499.176749</td>\n",
       "      <td>23.955516</td>\n",
       "      <td>-499.848796</td>\n",
       "      <td>23.966838</td>\n",
       "      <td>-500.008812</td>\n",
       "      <td>23.954443</td>\n",
       "      <td>-499.944710</td>\n",
       "      <td>14.036510</td>\n",
       "      <td>-500.857308</td>\n",
       "      <td>11.999550</td>\n",
       "      <td>-501.193686</td>\n",
       "      <td>9.970366</td>\n",
       "      <td>-499.201640</td>\n",
       "      <td>7.977324</td>\n",
       "      <td>-500.255908</td>\n",
       "      <td>14.005551</td>\n",
       "      <td>-599.996129</td>\n",
       "    </tr>\n",
       "    <tr>\n",
       "      <td>4</td>\n",
       "      <td>2016-01-15 04:00:00</td>\n",
       "      <td>6.148599</td>\n",
       "      <td>10.142511</td>\n",
       "      <td>4.939416</td>\n",
       "      <td>42.774141</td>\n",
       "      <td>66.927016</td>\n",
       "      <td>10.360302</td>\n",
       "      <td>0.792826</td>\n",
       "      <td>16.525686</td>\n",
       "      <td>2.055292</td>\n",
       "      <td>117.988169</td>\n",
       "      <td>11.913613</td>\n",
       "      <td>7.25</td>\n",
       "      <td>1.009869</td>\n",
       "      <td>9.089428</td>\n",
       "      <td>9.986786</td>\n",
       "      <td>19.199864</td>\n",
       "      <td>33.044932</td>\n",
       "      <td>16.480185</td>\n",
       "      <td>3.112100</td>\n",
       "      <td>6.550154</td>\n",
       "      <td>2.277073</td>\n",
       "      <td>1601.339707</td>\n",
       "      <td>-498.975456</td>\n",
       "      <td>1601.437854</td>\n",
       "      <td>-500.323246</td>\n",
       "      <td>1599.581894</td>\n",
       "      <td>-500.888152</td>\n",
       "      <td>1602.649541</td>\n",
       "      <td>-500.593010</td>\n",
       "      <td>42125.354245</td>\n",
       "      <td>3494.800771</td>\n",
       "      <td>3506.679315</td>\n",
       "      <td>3.169615</td>\n",
       "      <td>6.060915</td>\n",
       "      <td>1.786875</td>\n",
       "      <td>540.531893</td>\n",
       "      <td>56.047189</td>\n",
       "      <td>34.347666</td>\n",
       "      <td>5.663707</td>\n",
       "      <td>10.957755</td>\n",
       "      <td>6.198826</td>\n",
       "      <td>10.960521</td>\n",
       "      <td>6.194897</td>\n",
       "      <td>12.411054</td>\n",
       "      <td>7.240205</td>\n",
       "      <td>27.041023</td>\n",
       "      <td>19.216101</td>\n",
       "      <td>86.688794</td>\n",
       "      <td>4.552800</td>\n",
       "      <td>0.515438</td>\n",
       "      <td>19.267422</td>\n",
       "      <td>1.012642</td>\n",
       "      <td>999.678690</td>\n",
       "      <td>-399.752729</td>\n",
       "      <td>1600.208824</td>\n",
       "      <td>-449.599614</td>\n",
       "      <td>1600.357732</td>\n",
       "      <td>-450.034364</td>\n",
       "      <td>1599.759049</td>\n",
       "      <td>-449.909799</td>\n",
       "      <td>1401.560902</td>\n",
       "      <td>-448.877187</td>\n",
       "      <td>1401.160227</td>\n",
       "      <td>-450.407128</td>\n",
       "      <td>14.079996</td>\n",
       "      <td>4.470737</td>\n",
       "      <td>8.871028</td>\n",
       "      <td>2.330448</td>\n",
       "      <td>26.024787</td>\n",
       "      <td>-500.279091</td>\n",
       "      <td>23.955345</td>\n",
       "      <td>-500.593614</td>\n",
       "      <td>23.985703</td>\n",
       "      <td>-500.083811</td>\n",
       "      <td>23.958945</td>\n",
       "      <td>-499.990309</td>\n",
       "      <td>14.027298</td>\n",
       "      <td>-499.838632</td>\n",
       "      <td>11.953070</td>\n",
       "      <td>-501.053894</td>\n",
       "      <td>9.925709</td>\n",
       "      <td>-501.686727</td>\n",
       "      <td>7.894242</td>\n",
       "      <td>-500.356035</td>\n",
       "      <td>13.996647</td>\n",
       "      <td>-601.496691</td>\n",
       "    </tr>\n",
       "  </tbody>\n",
       "</table>\n",
       "</div>"
      ],
      "text/plain": [
       "                 date  final.output.concentrate_ag  \\\n",
       "0 2016-01-15 00:00:00                     6.055403   \n",
       "1 2016-01-15 01:00:00                     6.029369   \n",
       "2 2016-01-15 02:00:00                     6.055926   \n",
       "3 2016-01-15 03:00:00                     6.047977   \n",
       "4 2016-01-15 04:00:00                     6.148599   \n",
       "\n",
       "   final.output.concentrate_pb  final.output.concentrate_sol  \\\n",
       "0                     9.889648                      5.507324   \n",
       "1                     9.968944                      5.257781   \n",
       "2                    10.213995                      5.383759   \n",
       "3                     9.977019                      4.858634   \n",
       "4                    10.142511                      4.939416   \n",
       "\n",
       "   final.output.concentrate_au  final.output.recovery  final.output.tail_ag  \\\n",
       "0                    42.192020              70.541216             10.411962   \n",
       "1                    42.701629              69.266198             10.462676   \n",
       "2                    42.657501              68.116445             10.507046   \n",
       "3                    42.689819              68.347543             10.422762   \n",
       "4                    42.774141              66.927016             10.360302   \n",
       "\n",
       "   final.output.tail_pb  final.output.tail_sol  final.output.tail_au  \\\n",
       "0              0.895447              16.904297              2.143149   \n",
       "1              0.927452              16.634514              2.224930   \n",
       "2              0.953716              16.208849              2.257889   \n",
       "3              0.883763              16.532835              2.146849   \n",
       "4              0.792826              16.525686              2.055292   \n",
       "\n",
       "   primary_cleaner.input.sulfate  primary_cleaner.input.depressant  \\\n",
       "0                     127.092003                         10.128295   \n",
       "1                     125.629232                         10.296251   \n",
       "2                     123.819808                         11.316280   \n",
       "3                     122.270188                         11.322140   \n",
       "4                     117.988169                         11.913613   \n",
       "\n",
       "   primary_cleaner.input.feed_size  primary_cleaner.input.xanthate  \\\n",
       "0                             7.25                        0.988759   \n",
       "1                             7.25                        1.002663   \n",
       "2                             7.25                        0.991265   \n",
       "3                             7.25                        0.996739   \n",
       "4                             7.25                        1.009869   \n",
       "\n",
       "   primary_cleaner.output.concentrate_ag  \\\n",
       "0                               8.547551   \n",
       "1                               8.558743   \n",
       "2                               8.603505   \n",
       "3                               7.221879   \n",
       "4                               9.089428   \n",
       "\n",
       "   primary_cleaner.output.concentrate_pb  \\\n",
       "0                              10.389648   \n",
       "1                              10.497069   \n",
       "2                              10.354494   \n",
       "3                               8.496563   \n",
       "4                               9.986786   \n",
       "\n",
       "   primary_cleaner.output.concentrate_sol  \\\n",
       "0                               19.529297   \n",
       "1                               19.369147   \n",
       "2                               19.167579   \n",
       "3                               15.978538   \n",
       "4                               19.199864   \n",
       "\n",
       "   primary_cleaner.output.concentrate_au  primary_cleaner.output.tail_ag  \\\n",
       "0                              34.174427                       14.936526   \n",
       "1                              34.118526                       16.250511   \n",
       "2                              33.969464                       16.491823   \n",
       "3                              28.260743                       16.024359   \n",
       "4                              33.044932                       16.480185   \n",
       "\n",
       "   primary_cleaner.output.tail_pb  primary_cleaner.output.tail_sol  \\\n",
       "0                        2.534912                         7.476074   \n",
       "1                        3.049646                         6.733907   \n",
       "2                        3.124664                         6.471768   \n",
       "3                        2.960362                         6.843791   \n",
       "4                        3.112100                         6.550154   \n",
       "\n",
       "   primary_cleaner.output.tail_au  primary_cleaner.state.floatbank8_a_air  \\\n",
       "0                        2.106679                             1549.775757   \n",
       "1                        2.353017                             1576.166671   \n",
       "2                        2.416800                             1601.556163   \n",
       "3                        2.262051                             1599.968720   \n",
       "4                        2.277073                             1601.339707   \n",
       "\n",
       "   primary_cleaner.state.floatbank8_a_level  \\\n",
       "0                               -498.912140   \n",
       "1                               -500.904965   \n",
       "2                               -499.997791   \n",
       "3                               -500.951778   \n",
       "4                               -498.975456   \n",
       "\n",
       "   primary_cleaner.state.floatbank8_b_air  \\\n",
       "0                             1551.434204   \n",
       "1                             1575.950626   \n",
       "2                             1600.386685   \n",
       "3                             1600.659236   \n",
       "4                             1601.437854   \n",
       "\n",
       "   primary_cleaner.state.floatbank8_b_level  \\\n",
       "0                               -516.403442   \n",
       "1                               -499.865889   \n",
       "2                               -500.607762   \n",
       "3                               -499.677094   \n",
       "4                               -500.323246   \n",
       "\n",
       "   primary_cleaner.state.floatbank8_c_air  \\\n",
       "0                             1549.873901   \n",
       "1                             1575.994189   \n",
       "2                             1602.003542   \n",
       "3                             1600.304144   \n",
       "4                             1599.581894   \n",
       "\n",
       "   primary_cleaner.state.floatbank8_c_level  \\\n",
       "0                               -498.666595   \n",
       "1                               -499.315107   \n",
       "2                               -500.870069   \n",
       "3                               -500.727997   \n",
       "4                               -500.888152   \n",
       "\n",
       "   primary_cleaner.state.floatbank8_d_air  \\\n",
       "0                             1554.367432   \n",
       "1                             1574.479259   \n",
       "2                             1599.541515   \n",
       "3                             1600.449520   \n",
       "4                             1602.649541   \n",
       "\n",
       "   primary_cleaner.state.floatbank8_d_level  \\\n",
       "0                               -493.428131   \n",
       "1                               -498.931665   \n",
       "2                               -499.827444   \n",
       "3                               -500.052575   \n",
       "4                               -500.593010   \n",
       "\n",
       "   rougher.calculation.sulfate_to_au_concentrate  \\\n",
       "0                                   41885.707031   \n",
       "1                                   42050.861809   \n",
       "2                                   42018.101184   \n",
       "3                                   42029.447991   \n",
       "4                                   42125.354245   \n",
       "\n",
       "   rougher.calculation.floatbank10_sulfate_to_au_feed  \\\n",
       "0                                        3481.779053    \n",
       "1                                        3498.370979    \n",
       "2                                        3495.348910    \n",
       "3                                        3498.578313    \n",
       "4                                        3494.800771    \n",
       "\n",
       "   rougher.calculation.floatbank11_sulfate_to_au_feed  \\\n",
       "0                                        3520.337158    \n",
       "1                                        3489.981857    \n",
       "2                                        3502.359819    \n",
       "3                                        3499.162912    \n",
       "4                                        3506.679315    \n",
       "\n",
       "   rougher.calculation.au_pb_ratio  rougher.input.feed_ag  \\\n",
       "0                         2.838687               6.100378   \n",
       "1                         2.858998               6.161113   \n",
       "2                         2.945989               6.116455   \n",
       "3                         3.002340               6.043309   \n",
       "4                         3.169615               6.060915   \n",
       "\n",
       "   rougher.input.feed_pb  rougher.input.feed_rate  rougher.input.feed_size  \\\n",
       "0               2.284912               523.546326                55.486599   \n",
       "1               2.266033               525.290581                57.278666   \n",
       "2               2.159622               530.026610                57.510649   \n",
       "3               2.037807               542.590390                57.792734   \n",
       "4               1.786875               540.531893                56.047189   \n",
       "\n",
       "   rougher.input.feed_sol  rougher.input.feed_au  \\\n",
       "0               36.808594               6.486150   \n",
       "1               35.753385               6.478583   \n",
       "2               35.971630               6.362222   \n",
       "3               36.862241               6.118189   \n",
       "4               34.347666               5.663707   \n",
       "\n",
       "   rougher.input.floatbank10_sulfate  rougher.input.floatbank10_xanthate  \\\n",
       "0                          11.986616                            6.007990   \n",
       "1                          11.971193                            6.005766   \n",
       "2                          11.920603                            6.197377   \n",
       "3                          11.630094                            6.203177   \n",
       "4                          10.957755                            6.198826   \n",
       "\n",
       "   rougher.input.floatbank11_sulfate  rougher.input.floatbank11_xanthate  \\\n",
       "0                          11.836743                            6.005818   \n",
       "1                          11.996163                            6.012594   \n",
       "2                          11.920305                            6.204633   \n",
       "3                          11.692450                            6.196578   \n",
       "4                          10.960521                            6.194897   \n",
       "\n",
       "   rougher.output.concentrate_ag  rougher.output.concentrate_pb  \\\n",
       "0                      11.500771                       7.101074   \n",
       "1                      11.615865                       7.278807   \n",
       "2                      11.695753                       7.216833   \n",
       "3                      11.915047                       7.175616   \n",
       "4                      12.411054                       7.240205   \n",
       "\n",
       "   rougher.output.concentrate_sol  rougher.output.concentrate_au  \\\n",
       "0                       28.029297                      19.793808   \n",
       "1                       28.067063                      20.050975   \n",
       "2                       27.454037                      19.737170   \n",
       "3                       27.341277                      19.320810   \n",
       "4                       27.041023                      19.216101   \n",
       "\n",
       "   rougher.output.recovery  rougher.output.tail_ag  rougher.output.tail_pb  \\\n",
       "0                87.107763                5.008018                0.508728   \n",
       "1                86.843261                4.955378                0.536689   \n",
       "2                86.842308                4.843460                0.546416   \n",
       "3                87.226430                4.655288                0.542525   \n",
       "4                86.688794                4.552800                0.515438   \n",
       "\n",
       "   rougher.output.tail_sol  rougher.output.tail_au  \\\n",
       "0                19.154297                1.170244   \n",
       "1                18.965234                1.184827   \n",
       "2                18.808533                1.162562   \n",
       "3                19.330200                1.079755   \n",
       "4                19.267422                1.012642   \n",
       "\n",
       "   rougher.state.floatbank10_a_air  rougher.state.floatbank10_a_level  \\\n",
       "0                       999.706909                        -404.066986   \n",
       "1                      1000.286398                        -400.065196   \n",
       "2                       999.719565                        -400.074028   \n",
       "3                       999.814770                        -400.200179   \n",
       "4                       999.678690                        -399.752729   \n",
       "\n",
       "   rougher.state.floatbank10_b_air  rougher.state.floatbank10_b_level  \\\n",
       "0                      1603.011353                        -434.715027   \n",
       "1                      1600.754587                        -449.953435   \n",
       "2                      1599.337330                        -450.008530   \n",
       "3                      1600.059442                        -450.619948   \n",
       "4                      1600.208824                        -449.599614   \n",
       "\n",
       "   rougher.state.floatbank10_c_air  rougher.state.floatbank10_c_level  \\\n",
       "0                      1602.375000                        -442.204468   \n",
       "1                      1600.479580                        -449.830646   \n",
       "2                      1599.672797                        -449.954491   \n",
       "3                      1600.012842                        -449.910497   \n",
       "4                      1600.357732                        -450.034364   \n",
       "\n",
       "   rougher.state.floatbank10_d_air  rougher.state.floatbank10_d_level  \\\n",
       "0                      1598.937256                        -451.294128   \n",
       "1                      1600.527589                        -449.953649   \n",
       "2                      1599.849325                        -449.954185   \n",
       "3                      1597.725177                        -450.130127   \n",
       "4                      1599.759049                        -449.909799   \n",
       "\n",
       "   rougher.state.floatbank10_e_air  rougher.state.floatbank10_e_level  \\\n",
       "0                      1404.472046                        -455.462982   \n",
       "1                      1399.227084                        -450.869848   \n",
       "2                      1399.180945                        -449.937588   \n",
       "3                      1400.943157                        -450.030142   \n",
       "4                      1401.560902                        -448.877187   \n",
       "\n",
       "   rougher.state.floatbank10_f_air  rougher.state.floatbank10_f_level  \\\n",
       "0                      1416.354980                        -451.939636   \n",
       "1                      1399.719514                        -450.119001   \n",
       "2                      1400.316682                        -450.527147   \n",
       "3                      1400.234743                        -449.790835   \n",
       "4                      1401.160227                        -450.407128   \n",
       "\n",
       "   secondary_cleaner.output.tail_ag  secondary_cleaner.output.tail_pb  \\\n",
       "0                         14.500184                          4.694824   \n",
       "1                         14.265474                          4.592547   \n",
       "2                         14.115662                          4.624775   \n",
       "3                         13.732071                          4.482453   \n",
       "4                         14.079996                          4.470737   \n",
       "\n",
       "   secondary_cleaner.output.tail_sol  secondary_cleaner.output.tail_au  \\\n",
       "0                           8.764648                          2.606185   \n",
       "1                           9.001494                          2.488248   \n",
       "2                           8.842896                          2.458187   \n",
       "3                           9.122857                          2.322062   \n",
       "4                           8.871028                          2.330448   \n",
       "\n",
       "   secondary_cleaner.state.floatbank2_a_air  \\\n",
       "0                                 25.853109   \n",
       "1                                 25.880539   \n",
       "2                                 26.005245   \n",
       "3                                 25.942508   \n",
       "4                                 26.024787   \n",
       "\n",
       "   secondary_cleaner.state.floatbank2_a_level  \\\n",
       "0                                 -498.526489   \n",
       "1                                 -499.989656   \n",
       "2                                 -499.929616   \n",
       "3                                 -499.176749   \n",
       "4                                 -500.279091   \n",
       "\n",
       "   secondary_cleaner.state.floatbank2_b_air  \\\n",
       "0                                 23.893660   \n",
       "1                                 23.889530   \n",
       "2                                 23.886657   \n",
       "3                                 23.955516   \n",
       "4                                 23.955345   \n",
       "\n",
       "   secondary_cleaner.state.floatbank2_b_level  \\\n",
       "0                                 -501.406281   \n",
       "1                                 -500.372428   \n",
       "2                                 -499.951928   \n",
       "3                                 -499.848796   \n",
       "4                                 -500.593614   \n",
       "\n",
       "   secondary_cleaner.state.floatbank3_a_air  \\\n",
       "0                                 23.961798   \n",
       "1                                 23.970550   \n",
       "2                                 23.913535   \n",
       "3                                 23.966838   \n",
       "4                                 23.985703   \n",
       "\n",
       "   secondary_cleaner.state.floatbank3_a_level  \\\n",
       "0                                 -495.262817   \n",
       "1                                 -500.085473   \n",
       "2                                 -499.442343   \n",
       "3                                 -500.008812   \n",
       "4                                 -500.083811   \n",
       "\n",
       "   secondary_cleaner.state.floatbank3_b_air  \\\n",
       "0                                 21.940409   \n",
       "1                                 22.085714   \n",
       "2                                 23.957717   \n",
       "3                                 23.954443   \n",
       "4                                 23.958945   \n",
       "\n",
       "   secondary_cleaner.state.floatbank3_b_level  \\\n",
       "0                                 -499.340973   \n",
       "1                                 -499.446897   \n",
       "2                                 -499.901982   \n",
       "3                                 -499.944710   \n",
       "4                                 -499.990309   \n",
       "\n",
       "   secondary_cleaner.state.floatbank4_a_air  \\\n",
       "0                                 14.016835   \n",
       "1                                 13.992281   \n",
       "2                                 14.015015   \n",
       "3                                 14.036510   \n",
       "4                                 14.027298   \n",
       "\n",
       "   secondary_cleaner.state.floatbank4_a_level  \\\n",
       "0                                 -502.488007   \n",
       "1                                 -505.503262   \n",
       "2                                 -502.520901   \n",
       "3                                 -500.857308   \n",
       "4                                 -499.838632   \n",
       "\n",
       "   secondary_cleaner.state.floatbank4_b_air  \\\n",
       "0                                 12.099931   \n",
       "1                                 11.950531   \n",
       "2                                 11.912783   \n",
       "3                                 11.999550   \n",
       "4                                 11.953070   \n",
       "\n",
       "   secondary_cleaner.state.floatbank4_b_level  \\\n",
       "0                                 -504.715942   \n",
       "1                                 -501.331529   \n",
       "2                                 -501.133383   \n",
       "3                                 -501.193686   \n",
       "4                                 -501.053894   \n",
       "\n",
       "   secondary_cleaner.state.floatbank5_a_air  \\\n",
       "0                                  9.925633   \n",
       "1                                 10.039245   \n",
       "2                                 10.070913   \n",
       "3                                  9.970366   \n",
       "4                                  9.925709   \n",
       "\n",
       "   secondary_cleaner.state.floatbank5_a_level  \\\n",
       "0                                 -498.310211   \n",
       "1                                 -500.169983   \n",
       "2                                 -500.129135   \n",
       "3                                 -499.201640   \n",
       "4                                 -501.686727   \n",
       "\n",
       "   secondary_cleaner.state.floatbank5_b_air  \\\n",
       "0                                  8.079666   \n",
       "1                                  7.984757   \n",
       "2                                  8.013877   \n",
       "3                                  7.977324   \n",
       "4                                  7.894242   \n",
       "\n",
       "   secondary_cleaner.state.floatbank5_b_level  \\\n",
       "0                                 -500.470978   \n",
       "1                                 -500.582168   \n",
       "2                                 -500.517572   \n",
       "3                                 -500.255908   \n",
       "4                                 -500.356035   \n",
       "\n",
       "   secondary_cleaner.state.floatbank6_a_air  \\\n",
       "0                                 14.151341   \n",
       "1                                 13.998353   \n",
       "2                                 14.028663   \n",
       "3                                 14.005551   \n",
       "4                                 13.996647   \n",
       "\n",
       "   secondary_cleaner.state.floatbank6_a_level  \n",
       "0                                 -605.841980  \n",
       "1                                 -599.787184  \n",
       "2                                 -601.427363  \n",
       "3                                 -599.996129  \n",
       "4                                 -601.496691  "
      ]
     },
     "metadata": {},
     "output_type": "display_data"
    }
   ],
   "source": [
    "display(df_origin.head())"
   ]
  },
  {
   "cell_type": "markdown",
   "metadata": {},
   "source": [
    "<b>Рассмотрим основные параметры данных.</b>"
   ]
  },
  {
   "cell_type": "code",
   "execution_count": 5,
   "metadata": {
    "scrolled": true
   },
   "outputs": [
    {
     "data": {
      "text/html": [
       "<div>\n",
       "<style scoped>\n",
       "    .dataframe tbody tr th:only-of-type {\n",
       "        vertical-align: middle;\n",
       "    }\n",
       "\n",
       "    .dataframe tbody tr th {\n",
       "        vertical-align: top;\n",
       "    }\n",
       "\n",
       "    .dataframe thead th {\n",
       "        text-align: right;\n",
       "    }\n",
       "</style>\n",
       "<table border=\"1\" class=\"dataframe\">\n",
       "  <thead>\n",
       "    <tr style=\"text-align: right;\">\n",
       "      <th></th>\n",
       "      <th>final.output.concentrate_ag</th>\n",
       "      <th>final.output.concentrate_pb</th>\n",
       "      <th>final.output.concentrate_sol</th>\n",
       "      <th>final.output.concentrate_au</th>\n",
       "      <th>final.output.recovery</th>\n",
       "      <th>final.output.tail_ag</th>\n",
       "      <th>final.output.tail_pb</th>\n",
       "      <th>final.output.tail_sol</th>\n",
       "      <th>final.output.tail_au</th>\n",
       "      <th>primary_cleaner.input.sulfate</th>\n",
       "      <th>primary_cleaner.input.depressant</th>\n",
       "      <th>primary_cleaner.input.feed_size</th>\n",
       "      <th>primary_cleaner.input.xanthate</th>\n",
       "      <th>primary_cleaner.output.concentrate_ag</th>\n",
       "      <th>primary_cleaner.output.concentrate_pb</th>\n",
       "      <th>primary_cleaner.output.concentrate_sol</th>\n",
       "      <th>primary_cleaner.output.concentrate_au</th>\n",
       "      <th>primary_cleaner.output.tail_ag</th>\n",
       "      <th>primary_cleaner.output.tail_pb</th>\n",
       "      <th>primary_cleaner.output.tail_sol</th>\n",
       "      <th>primary_cleaner.output.tail_au</th>\n",
       "      <th>primary_cleaner.state.floatbank8_a_air</th>\n",
       "      <th>primary_cleaner.state.floatbank8_a_level</th>\n",
       "      <th>primary_cleaner.state.floatbank8_b_air</th>\n",
       "      <th>primary_cleaner.state.floatbank8_b_level</th>\n",
       "      <th>primary_cleaner.state.floatbank8_c_air</th>\n",
       "      <th>primary_cleaner.state.floatbank8_c_level</th>\n",
       "      <th>primary_cleaner.state.floatbank8_d_air</th>\n",
       "      <th>primary_cleaner.state.floatbank8_d_level</th>\n",
       "      <th>rougher.calculation.sulfate_to_au_concentrate</th>\n",
       "      <th>rougher.calculation.floatbank10_sulfate_to_au_feed</th>\n",
       "      <th>rougher.calculation.floatbank11_sulfate_to_au_feed</th>\n",
       "      <th>rougher.calculation.au_pb_ratio</th>\n",
       "      <th>rougher.input.feed_ag</th>\n",
       "      <th>rougher.input.feed_pb</th>\n",
       "      <th>rougher.input.feed_rate</th>\n",
       "      <th>rougher.input.feed_size</th>\n",
       "      <th>rougher.input.feed_sol</th>\n",
       "      <th>rougher.input.feed_au</th>\n",
       "      <th>rougher.input.floatbank10_sulfate</th>\n",
       "      <th>rougher.input.floatbank10_xanthate</th>\n",
       "      <th>rougher.input.floatbank11_sulfate</th>\n",
       "      <th>rougher.input.floatbank11_xanthate</th>\n",
       "      <th>rougher.output.concentrate_ag</th>\n",
       "      <th>rougher.output.concentrate_pb</th>\n",
       "      <th>rougher.output.concentrate_sol</th>\n",
       "      <th>rougher.output.concentrate_au</th>\n",
       "      <th>rougher.output.recovery</th>\n",
       "      <th>rougher.output.tail_ag</th>\n",
       "      <th>rougher.output.tail_pb</th>\n",
       "      <th>rougher.output.tail_sol</th>\n",
       "      <th>rougher.output.tail_au</th>\n",
       "      <th>rougher.state.floatbank10_a_air</th>\n",
       "      <th>rougher.state.floatbank10_a_level</th>\n",
       "      <th>rougher.state.floatbank10_b_air</th>\n",
       "      <th>rougher.state.floatbank10_b_level</th>\n",
       "      <th>rougher.state.floatbank10_c_air</th>\n",
       "      <th>rougher.state.floatbank10_c_level</th>\n",
       "      <th>rougher.state.floatbank10_d_air</th>\n",
       "      <th>rougher.state.floatbank10_d_level</th>\n",
       "      <th>rougher.state.floatbank10_e_air</th>\n",
       "      <th>rougher.state.floatbank10_e_level</th>\n",
       "      <th>rougher.state.floatbank10_f_air</th>\n",
       "      <th>rougher.state.floatbank10_f_level</th>\n",
       "      <th>secondary_cleaner.output.tail_ag</th>\n",
       "      <th>secondary_cleaner.output.tail_pb</th>\n",
       "      <th>secondary_cleaner.output.tail_sol</th>\n",
       "      <th>secondary_cleaner.output.tail_au</th>\n",
       "      <th>secondary_cleaner.state.floatbank2_a_air</th>\n",
       "      <th>secondary_cleaner.state.floatbank2_a_level</th>\n",
       "      <th>secondary_cleaner.state.floatbank2_b_air</th>\n",
       "      <th>secondary_cleaner.state.floatbank2_b_level</th>\n",
       "      <th>secondary_cleaner.state.floatbank3_a_air</th>\n",
       "      <th>secondary_cleaner.state.floatbank3_a_level</th>\n",
       "      <th>secondary_cleaner.state.floatbank3_b_air</th>\n",
       "      <th>secondary_cleaner.state.floatbank3_b_level</th>\n",
       "      <th>secondary_cleaner.state.floatbank4_a_air</th>\n",
       "      <th>secondary_cleaner.state.floatbank4_a_level</th>\n",
       "      <th>secondary_cleaner.state.floatbank4_b_air</th>\n",
       "      <th>secondary_cleaner.state.floatbank4_b_level</th>\n",
       "      <th>secondary_cleaner.state.floatbank5_a_air</th>\n",
       "      <th>secondary_cleaner.state.floatbank5_a_level</th>\n",
       "      <th>secondary_cleaner.state.floatbank5_b_air</th>\n",
       "      <th>secondary_cleaner.state.floatbank5_b_level</th>\n",
       "      <th>secondary_cleaner.state.floatbank6_a_air</th>\n",
       "      <th>secondary_cleaner.state.floatbank6_a_level</th>\n",
       "    </tr>\n",
       "  </thead>\n",
       "  <tbody>\n",
       "    <tr>\n",
       "      <td>count</td>\n",
       "      <td>22627.000000</td>\n",
       "      <td>22629.000000</td>\n",
       "      <td>22331.000000</td>\n",
       "      <td>22630.000000</td>\n",
       "      <td>20753.000000</td>\n",
       "      <td>22633.000000</td>\n",
       "      <td>22516.000000</td>\n",
       "      <td>22445.000000</td>\n",
       "      <td>22635.000000</td>\n",
       "      <td>21107.000000</td>\n",
       "      <td>21170.000000</td>\n",
       "      <td>22716.000000</td>\n",
       "      <td>21565.000000</td>\n",
       "      <td>22618.000000</td>\n",
       "      <td>22268.000000</td>\n",
       "      <td>21918.000000</td>\n",
       "      <td>22618.000000</td>\n",
       "      <td>22614.000000</td>\n",
       "      <td>22594.000000</td>\n",
       "      <td>22365.000000</td>\n",
       "      <td>22617.000000</td>\n",
       "      <td>22660.000000</td>\n",
       "      <td>22667.000000</td>\n",
       "      <td>22660.000000</td>\n",
       "      <td>22673.000000</td>\n",
       "      <td>22662.000000</td>\n",
       "      <td>22673.000000</td>\n",
       "      <td>22661.000000</td>\n",
       "      <td>22673.000000</td>\n",
       "      <td>2.267200e+04</td>\n",
       "      <td>2.267200e+04</td>\n",
       "      <td>2.267200e+04</td>\n",
       "      <td>21089.000000</td>\n",
       "      <td>22618.000000</td>\n",
       "      <td>22472.000000</td>\n",
       "      <td>22163.000000</td>\n",
       "      <td>22277.000000</td>\n",
       "      <td>22357.000000</td>\n",
       "      <td>22617.000000</td>\n",
       "      <td>21415.000000</td>\n",
       "      <td>22247.000000</td>\n",
       "      <td>22038.000000</td>\n",
       "      <td>20459.000000</td>\n",
       "      <td>22618.000000</td>\n",
       "      <td>22618.000000</td>\n",
       "      <td>22526.000000</td>\n",
       "      <td>22618.000000</td>\n",
       "      <td>19597.000000</td>\n",
       "      <td>19979.000000</td>\n",
       "      <td>22618.000000</td>\n",
       "      <td>19980.000000</td>\n",
       "      <td>19980.000000</td>\n",
       "      <td>22646.000000</td>\n",
       "      <td>22647.000000</td>\n",
       "      <td>22646.000000</td>\n",
       "      <td>22647.000000</td>\n",
       "      <td>22646.000000</td>\n",
       "      <td>22654.000000</td>\n",
       "      <td>22641.000000</td>\n",
       "      <td>22649.000000</td>\n",
       "      <td>22096.000000</td>\n",
       "      <td>22649.000000</td>\n",
       "      <td>22641.000000</td>\n",
       "      <td>22642.000000</td>\n",
       "      <td>22616.000000</td>\n",
       "      <td>22600.000000</td>\n",
       "      <td>20501.000000</td>\n",
       "      <td>22618.000000</td>\n",
       "      <td>22333.000000</td>\n",
       "      <td>22591.000000</td>\n",
       "      <td>22538.000000</td>\n",
       "      <td>22588.000000</td>\n",
       "      <td>22585.000000</td>\n",
       "      <td>22587.000000</td>\n",
       "      <td>22592.000000</td>\n",
       "      <td>22590.000000</td>\n",
       "      <td>22571.000000</td>\n",
       "      <td>22587.000000</td>\n",
       "      <td>22608.000000</td>\n",
       "      <td>22607.000000</td>\n",
       "      <td>22615.000000</td>\n",
       "      <td>22615.000000</td>\n",
       "      <td>22615.000000</td>\n",
       "      <td>22616.000000</td>\n",
       "      <td>22597.000000</td>\n",
       "      <td>22615.000000</td>\n",
       "    </tr>\n",
       "    <tr>\n",
       "      <td>mean</td>\n",
       "      <td>4.781559</td>\n",
       "      <td>9.095308</td>\n",
       "      <td>8.640317</td>\n",
       "      <td>40.001172</td>\n",
       "      <td>67.447488</td>\n",
       "      <td>8.923690</td>\n",
       "      <td>2.488252</td>\n",
       "      <td>9.523632</td>\n",
       "      <td>2.827459</td>\n",
       "      <td>140.277672</td>\n",
       "      <td>8.587607</td>\n",
       "      <td>7.288872</td>\n",
       "      <td>0.969830</td>\n",
       "      <td>7.691652</td>\n",
       "      <td>8.921110</td>\n",
       "      <td>9.573672</td>\n",
       "      <td>29.212289</td>\n",
       "      <td>14.876219</td>\n",
       "      <td>3.175822</td>\n",
       "      <td>7.208474</td>\n",
       "      <td>3.670333</td>\n",
       "      <td>1511.162809</td>\n",
       "      <td>-506.647591</td>\n",
       "      <td>1514.351654</td>\n",
       "      <td>-508.478882</td>\n",
       "      <td>1502.534056</td>\n",
       "      <td>-507.776133</td>\n",
       "      <td>1473.186236</td>\n",
       "      <td>-504.124775</td>\n",
       "      <td>-6.294614e+06</td>\n",
       "      <td>3.559534e+03</td>\n",
       "      <td>2.294828e+03</td>\n",
       "      <td>2.386287</td>\n",
       "      <td>8.065715</td>\n",
       "      <td>3.305676</td>\n",
       "      <td>441.873650</td>\n",
       "      <td>57.959166</td>\n",
       "      <td>33.276016</td>\n",
       "      <td>7.565838</td>\n",
       "      <td>11.784263</td>\n",
       "      <td>5.573526</td>\n",
       "      <td>11.209718</td>\n",
       "      <td>5.962586</td>\n",
       "      <td>10.874484</td>\n",
       "      <td>6.900646</td>\n",
       "      <td>26.095508</td>\n",
       "      <td>17.879538</td>\n",
       "      <td>83.078122</td>\n",
       "      <td>5.587861</td>\n",
       "      <td>0.593620</td>\n",
       "      <td>18.040138</td>\n",
       "      <td>1.821193</td>\n",
       "      <td>1061.497265</td>\n",
       "      <td>-389.490702</td>\n",
       "      <td>1257.007638</td>\n",
       "      <td>-477.174011</td>\n",
       "      <td>1235.736890</td>\n",
       "      <td>-476.320380</td>\n",
       "      <td>1152.689097</td>\n",
       "      <td>-477.720243</td>\n",
       "      <td>1029.790755</td>\n",
       "      <td>-475.804766</td>\n",
       "      <td>977.870710</td>\n",
       "      <td>-476.448631</td>\n",
       "      <td>13.375349</td>\n",
       "      <td>5.304107</td>\n",
       "      <td>6.465460</td>\n",
       "      <td>4.041218</td>\n",
       "      <td>27.440808</td>\n",
       "      <td>-516.727003</td>\n",
       "      <td>22.963160</td>\n",
       "      <td>-517.691199</td>\n",
       "      <td>26.993715</td>\n",
       "      <td>-500.178956</td>\n",
       "      <td>21.251091</td>\n",
       "      <td>-505.013347</td>\n",
       "      <td>18.205125</td>\n",
       "      <td>-499.878977</td>\n",
       "      <td>14.356474</td>\n",
       "      <td>-476.532613</td>\n",
       "      <td>14.883276</td>\n",
       "      <td>-503.323288</td>\n",
       "      <td>11.626743</td>\n",
       "      <td>-500.521502</td>\n",
       "      <td>17.976810</td>\n",
       "      <td>-519.361465</td>\n",
       "    </tr>\n",
       "    <tr>\n",
       "      <td>std</td>\n",
       "      <td>2.030128</td>\n",
       "      <td>3.230797</td>\n",
       "      <td>3.785035</td>\n",
       "      <td>13.398062</td>\n",
       "      <td>11.616034</td>\n",
       "      <td>3.517917</td>\n",
       "      <td>1.189407</td>\n",
       "      <td>4.079739</td>\n",
       "      <td>1.262834</td>\n",
       "      <td>49.919004</td>\n",
       "      <td>3.611361</td>\n",
       "      <td>0.617357</td>\n",
       "      <td>0.548083</td>\n",
       "      <td>3.109306</td>\n",
       "      <td>3.706314</td>\n",
       "      <td>4.788433</td>\n",
       "      <td>10.539303</td>\n",
       "      <td>5.654342</td>\n",
       "      <td>1.652177</td>\n",
       "      <td>3.087892</td>\n",
       "      <td>1.985206</td>\n",
       "      <td>363.801472</td>\n",
       "      <td>73.798002</td>\n",
       "      <td>365.280954</td>\n",
       "      <td>76.785239</td>\n",
       "      <td>376.634842</td>\n",
       "      <td>75.003917</td>\n",
       "      <td>414.691424</td>\n",
       "      <td>82.278973</td>\n",
       "      <td>9.826921e+07</td>\n",
       "      <td>6.116649e+04</td>\n",
       "      <td>4.177895e+04</td>\n",
       "      <td>0.839999</td>\n",
       "      <td>3.125250</td>\n",
       "      <td>1.446905</td>\n",
       "      <td>156.736078</td>\n",
       "      <td>23.644823</td>\n",
       "      <td>11.494135</td>\n",
       "      <td>3.026954</td>\n",
       "      <td>4.093125</td>\n",
       "      <td>1.908123</td>\n",
       "      <td>4.685205</td>\n",
       "      <td>1.280682</td>\n",
       "      <td>4.377924</td>\n",
       "      <td>2.806948</td>\n",
       "      <td>10.140120</td>\n",
       "      <td>6.790112</td>\n",
       "      <td>14.661880</td>\n",
       "      <td>1.114614</td>\n",
       "      <td>0.315295</td>\n",
       "      <td>3.470514</td>\n",
       "      <td>0.695663</td>\n",
       "      <td>277.718805</td>\n",
       "      <td>109.946946</td>\n",
       "      <td>319.983248</td>\n",
       "      <td>66.645938</td>\n",
       "      <td>331.886940</td>\n",
       "      <td>63.957539</td>\n",
       "      <td>317.187293</td>\n",
       "      <td>61.942486</td>\n",
       "      <td>278.544787</td>\n",
       "      <td>68.327502</td>\n",
       "      <td>262.604257</td>\n",
       "      <td>69.678409</td>\n",
       "      <td>5.768719</td>\n",
       "      <td>3.092536</td>\n",
       "      <td>4.277993</td>\n",
       "      <td>2.605738</td>\n",
       "      <td>7.763001</td>\n",
       "      <td>83.411562</td>\n",
       "      <td>7.715298</td>\n",
       "      <td>83.492128</td>\n",
       "      <td>8.262921</td>\n",
       "      <td>83.293510</td>\n",
       "      <td>7.018935</td>\n",
       "      <td>71.552885</td>\n",
       "      <td>6.560700</td>\n",
       "      <td>80.273964</td>\n",
       "      <td>5.655791</td>\n",
       "      <td>93.822791</td>\n",
       "      <td>6.372811</td>\n",
       "      <td>72.925589</td>\n",
       "      <td>5.757449</td>\n",
       "      <td>78.956292</td>\n",
       "      <td>6.636203</td>\n",
       "      <td>75.477151</td>\n",
       "    </tr>\n",
       "    <tr>\n",
       "      <td>min</td>\n",
       "      <td>0.000000</td>\n",
       "      <td>0.000000</td>\n",
       "      <td>0.000000</td>\n",
       "      <td>0.000000</td>\n",
       "      <td>0.000000</td>\n",
       "      <td>0.000000</td>\n",
       "      <td>0.000000</td>\n",
       "      <td>0.000000</td>\n",
       "      <td>0.000000</td>\n",
       "      <td>0.000003</td>\n",
       "      <td>0.000000</td>\n",
       "      <td>1.080000</td>\n",
       "      <td>0.000003</td>\n",
       "      <td>0.000000</td>\n",
       "      <td>0.000000</td>\n",
       "      <td>0.000000</td>\n",
       "      <td>0.000000</td>\n",
       "      <td>0.000000</td>\n",
       "      <td>0.000000</td>\n",
       "      <td>0.000000</td>\n",
       "      <td>0.000000</td>\n",
       "      <td>0.000000</td>\n",
       "      <td>-800.037388</td>\n",
       "      <td>0.000000</td>\n",
       "      <td>-800.409770</td>\n",
       "      <td>0.000000</td>\n",
       "      <td>-800.362914</td>\n",
       "      <td>0.000000</td>\n",
       "      <td>-800.166222</td>\n",
       "      <td>-2.248017e+09</td>\n",
       "      <td>-2.023459e+06</td>\n",
       "      <td>-4.014502e+06</td>\n",
       "      <td>-0.010548</td>\n",
       "      <td>0.000000</td>\n",
       "      <td>0.000000</td>\n",
       "      <td>0.000044</td>\n",
       "      <td>0.046369</td>\n",
       "      <td>0.000000</td>\n",
       "      <td>0.000000</td>\n",
       "      <td>0.000002</td>\n",
       "      <td>0.000003</td>\n",
       "      <td>0.000014</td>\n",
       "      <td>0.000010</td>\n",
       "      <td>0.000000</td>\n",
       "      <td>0.000000</td>\n",
       "      <td>0.000000</td>\n",
       "      <td>0.000000</td>\n",
       "      <td>0.000000</td>\n",
       "      <td>0.594562</td>\n",
       "      <td>0.000000</td>\n",
       "      <td>10.014648</td>\n",
       "      <td>0.020676</td>\n",
       "      <td>-0.345168</td>\n",
       "      <td>-658.223080</td>\n",
       "      <td>-0.821921</td>\n",
       "      <td>-650.437575</td>\n",
       "      <td>-0.378521</td>\n",
       "      <td>-650.151190</td>\n",
       "      <td>-1.197435</td>\n",
       "      <td>-649.300693</td>\n",
       "      <td>-2.163619</td>\n",
       "      <td>-650.196204</td>\n",
       "      <td>-2.636171</td>\n",
       "      <td>-650.072915</td>\n",
       "      <td>0.000000</td>\n",
       "      <td>0.000000</td>\n",
       "      <td>0.000000</td>\n",
       "      <td>0.000000</td>\n",
       "      <td>0.000000</td>\n",
       "      <td>-799.841677</td>\n",
       "      <td>0.000000</td>\n",
       "      <td>-799.967956</td>\n",
       "      <td>0.000000</td>\n",
       "      <td>-799.926254</td>\n",
       "      <td>0.000000</td>\n",
       "      <td>-809.421923</td>\n",
       "      <td>0.000000</td>\n",
       "      <td>-799.920713</td>\n",
       "      <td>0.000000</td>\n",
       "      <td>-800.836914</td>\n",
       "      <td>-0.423260</td>\n",
       "      <td>-799.741097</td>\n",
       "      <td>0.427084</td>\n",
       "      <td>-800.258209</td>\n",
       "      <td>-0.079426</td>\n",
       "      <td>-810.473526</td>\n",
       "    </tr>\n",
       "    <tr>\n",
       "      <td>25%</td>\n",
       "      <td>4.018525</td>\n",
       "      <td>8.750171</td>\n",
       "      <td>7.116799</td>\n",
       "      <td>42.383721</td>\n",
       "      <td>63.282393</td>\n",
       "      <td>7.684016</td>\n",
       "      <td>1.805376</td>\n",
       "      <td>8.143576</td>\n",
       "      <td>2.303108</td>\n",
       "      <td>110.177081</td>\n",
       "      <td>6.018085</td>\n",
       "      <td>6.920000</td>\n",
       "      <td>0.626346</td>\n",
       "      <td>6.771102</td>\n",
       "      <td>7.834690</td>\n",
       "      <td>7.009980</td>\n",
       "      <td>29.374406</td>\n",
       "      <td>13.464756</td>\n",
       "      <td>2.269103</td>\n",
       "      <td>5.961535</td>\n",
       "      <td>2.741534</td>\n",
       "      <td>1500.593119</td>\n",
       "      <td>-500.426010</td>\n",
       "      <td>1500.500790</td>\n",
       "      <td>-500.558891</td>\n",
       "      <td>1499.146216</td>\n",
       "      <td>-500.953774</td>\n",
       "      <td>1447.698210</td>\n",
       "      <td>-500.616787</td>\n",
       "      <td>3.988478e+04</td>\n",
       "      <td>2.506366e+03</td>\n",
       "      <td>2.501745e+03</td>\n",
       "      <td>2.021360</td>\n",
       "      <td>6.944415</td>\n",
       "      <td>2.658814</td>\n",
       "      <td>398.222097</td>\n",
       "      <td>46.687088</td>\n",
       "      <td>32.524264</td>\n",
       "      <td>6.485009</td>\n",
       "      <td>9.915698</td>\n",
       "      <td>5.046782</td>\n",
       "      <td>9.281388</td>\n",
       "      <td>5.353321</td>\n",
       "      <td>10.126646</td>\n",
       "      <td>6.374692</td>\n",
       "      <td>25.815139</td>\n",
       "      <td>17.928729</td>\n",
       "      <td>80.941306</td>\n",
       "      <td>4.887758</td>\n",
       "      <td>0.427513</td>\n",
       "      <td>15.788283</td>\n",
       "      <td>1.403951</td>\n",
       "      <td>999.482192</td>\n",
       "      <td>-499.930417</td>\n",
       "      <td>1197.548268</td>\n",
       "      <td>-500.297595</td>\n",
       "      <td>1100.701647</td>\n",
       "      <td>-500.323902</td>\n",
       "      <td>1040.497698</td>\n",
       "      <td>-500.590442</td>\n",
       "      <td>950.272126</td>\n",
       "      <td>-500.357323</td>\n",
       "      <td>900.173576</td>\n",
       "      <td>-500.749731</td>\n",
       "      <td>11.802936</td>\n",
       "      <td>3.451435</td>\n",
       "      <td>2.658971</td>\n",
       "      <td>2.877554</td>\n",
       "      <td>25.011462</td>\n",
       "      <td>-500.303776</td>\n",
       "      <td>20.018733</td>\n",
       "      <td>-500.318700</td>\n",
       "      <td>24.020017</td>\n",
       "      <td>-500.273049</td>\n",
       "      <td>18.070333</td>\n",
       "      <td>-500.150167</td>\n",
       "      <td>14.095940</td>\n",
       "      <td>-500.896232</td>\n",
       "      <td>10.882675</td>\n",
       "      <td>-500.309169</td>\n",
       "      <td>10.941299</td>\n",
       "      <td>-500.628697</td>\n",
       "      <td>8.037533</td>\n",
       "      <td>-500.167897</td>\n",
       "      <td>13.968418</td>\n",
       "      <td>-500.981671</td>\n",
       "    </tr>\n",
       "    <tr>\n",
       "      <td>50%</td>\n",
       "      <td>4.953729</td>\n",
       "      <td>9.914519</td>\n",
       "      <td>8.908792</td>\n",
       "      <td>44.653436</td>\n",
       "      <td>68.322258</td>\n",
       "      <td>9.484369</td>\n",
       "      <td>2.653001</td>\n",
       "      <td>10.212998</td>\n",
       "      <td>2.913794</td>\n",
       "      <td>141.330501</td>\n",
       "      <td>8.018173</td>\n",
       "      <td>7.280000</td>\n",
       "      <td>0.905286</td>\n",
       "      <td>8.265643</td>\n",
       "      <td>9.921116</td>\n",
       "      <td>9.851136</td>\n",
       "      <td>32.359813</td>\n",
       "      <td>15.600454</td>\n",
       "      <td>3.154022</td>\n",
       "      <td>7.873945</td>\n",
       "      <td>3.513008</td>\n",
       "      <td>1600.079008</td>\n",
       "      <td>-499.963174</td>\n",
       "      <td>1600.032196</td>\n",
       "      <td>-500.001770</td>\n",
       "      <td>1599.749504</td>\n",
       "      <td>-499.982485</td>\n",
       "      <td>1598.993577</td>\n",
       "      <td>-499.961283</td>\n",
       "      <td>4.405929e+04</td>\n",
       "      <td>2.940838e+03</td>\n",
       "      <td>2.897014e+03</td>\n",
       "      <td>2.286493</td>\n",
       "      <td>8.302613</td>\n",
       "      <td>3.432054</td>\n",
       "      <td>488.968597</td>\n",
       "      <td>53.405122</td>\n",
       "      <td>36.559955</td>\n",
       "      <td>7.884832</td>\n",
       "      <td>11.998801</td>\n",
       "      <td>5.999078</td>\n",
       "      <td>11.946466</td>\n",
       "      <td>6.034551</td>\n",
       "      <td>11.785127</td>\n",
       "      <td>7.572855</td>\n",
       "      <td>29.382638</td>\n",
       "      <td>20.003202</td>\n",
       "      <td>86.144121</td>\n",
       "      <td>5.759630</td>\n",
       "      <td>0.590746</td>\n",
       "      <td>18.082595</td>\n",
       "      <td>1.808567</td>\n",
       "      <td>1000.874850</td>\n",
       "      <td>-300.401147</td>\n",
       "      <td>1299.976586</td>\n",
       "      <td>-499.847233</td>\n",
       "      <td>1298.358825</td>\n",
       "      <td>-499.786527</td>\n",
       "      <td>1200.061465</td>\n",
       "      <td>-499.674320</td>\n",
       "      <td>1049.208185</td>\n",
       "      <td>-499.749602</td>\n",
       "      <td>999.693303</td>\n",
       "      <td>-499.631519</td>\n",
       "      <td>15.222165</td>\n",
       "      <td>5.074145</td>\n",
       "      <td>6.966645</td>\n",
       "      <td>3.956171</td>\n",
       "      <td>28.927709</td>\n",
       "      <td>-499.996457</td>\n",
       "      <td>24.978758</td>\n",
       "      <td>-500.035682</td>\n",
       "      <td>27.959889</td>\n",
       "      <td>-499.957251</td>\n",
       "      <td>21.971564</td>\n",
       "      <td>-499.993182</td>\n",
       "      <td>18.007326</td>\n",
       "      <td>-499.917108</td>\n",
       "      <td>14.947646</td>\n",
       "      <td>-499.612292</td>\n",
       "      <td>14.859117</td>\n",
       "      <td>-499.865158</td>\n",
       "      <td>10.989756</td>\n",
       "      <td>-499.951980</td>\n",
       "      <td>18.004215</td>\n",
       "      <td>-500.095463</td>\n",
       "    </tr>\n",
       "    <tr>\n",
       "      <td>75%</td>\n",
       "      <td>5.862593</td>\n",
       "      <td>10.929839</td>\n",
       "      <td>10.705824</td>\n",
       "      <td>46.111999</td>\n",
       "      <td>72.950836</td>\n",
       "      <td>11.084557</td>\n",
       "      <td>3.287790</td>\n",
       "      <td>11.860824</td>\n",
       "      <td>3.555077</td>\n",
       "      <td>174.049914</td>\n",
       "      <td>11.003573</td>\n",
       "      <td>7.680000</td>\n",
       "      <td>1.200734</td>\n",
       "      <td>9.697896</td>\n",
       "      <td>11.266100</td>\n",
       "      <td>13.180304</td>\n",
       "      <td>34.770726</td>\n",
       "      <td>17.931084</td>\n",
       "      <td>4.123574</td>\n",
       "      <td>9.348743</td>\n",
       "      <td>4.559485</td>\n",
       "      <td>1696.691067</td>\n",
       "      <td>-499.458089</td>\n",
       "      <td>1698.933079</td>\n",
       "      <td>-499.414187</td>\n",
       "      <td>1699.151169</td>\n",
       "      <td>-498.932758</td>\n",
       "      <td>1698.142189</td>\n",
       "      <td>-499.135326</td>\n",
       "      <td>4.814479e+04</td>\n",
       "      <td>3.613983e+03</td>\n",
       "      <td>3.529913e+03</td>\n",
       "      <td>2.711070</td>\n",
       "      <td>10.135202</td>\n",
       "      <td>4.204960</td>\n",
       "      <td>546.587401</td>\n",
       "      <td>64.096151</td>\n",
       "      <td>39.675470</td>\n",
       "      <td>9.668064</td>\n",
       "      <td>14.437582</td>\n",
       "      <td>6.700493</td>\n",
       "      <td>14.015696</td>\n",
       "      <td>6.799526</td>\n",
       "      <td>13.615299</td>\n",
       "      <td>8.477358</td>\n",
       "      <td>32.002766</td>\n",
       "      <td>21.564238</td>\n",
       "      <td>89.987561</td>\n",
       "      <td>6.386301</td>\n",
       "      <td>0.763219</td>\n",
       "      <td>20.084427</td>\n",
       "      <td>2.215317</td>\n",
       "      <td>1210.446131</td>\n",
       "      <td>-299.992579</td>\n",
       "      <td>1407.132038</td>\n",
       "      <td>-403.034804</td>\n",
       "      <td>1437.004925</td>\n",
       "      <td>-403.386144</td>\n",
       "      <td>1342.550632</td>\n",
       "      <td>-443.310570</td>\n",
       "      <td>1198.762174</td>\n",
       "      <td>-403.199939</td>\n",
       "      <td>1099.189914</td>\n",
       "      <td>-403.810536</td>\n",
       "      <td>17.231611</td>\n",
       "      <td>7.585281</td>\n",
       "      <td>10.152612</td>\n",
       "      <td>5.006944</td>\n",
       "      <td>32.892271</td>\n",
       "      <td>-499.686110</td>\n",
       "      <td>27.999758</td>\n",
       "      <td>-499.798350</td>\n",
       "      <td>32.981390</td>\n",
       "      <td>-499.386548</td>\n",
       "      <td>25.961958</td>\n",
       "      <td>-499.821199</td>\n",
       "      <td>22.998194</td>\n",
       "      <td>-498.361545</td>\n",
       "      <td>17.977502</td>\n",
       "      <td>-400.224147</td>\n",
       "      <td>18.014914</td>\n",
       "      <td>-498.489381</td>\n",
       "      <td>14.001193</td>\n",
       "      <td>-499.492354</td>\n",
       "      <td>23.009704</td>\n",
       "      <td>-499.526388</td>\n",
       "    </tr>\n",
       "    <tr>\n",
       "      <td>max</td>\n",
       "      <td>16.001945</td>\n",
       "      <td>17.031899</td>\n",
       "      <td>19.615720</td>\n",
       "      <td>53.611374</td>\n",
       "      <td>100.000000</td>\n",
       "      <td>19.552149</td>\n",
       "      <td>6.086532</td>\n",
       "      <td>22.861749</td>\n",
       "      <td>9.789625</td>\n",
       "      <td>274.409626</td>\n",
       "      <td>40.024582</td>\n",
       "      <td>15.500000</td>\n",
       "      <td>6.027907</td>\n",
       "      <td>16.081632</td>\n",
       "      <td>17.081278</td>\n",
       "      <td>22.458114</td>\n",
       "      <td>45.933934</td>\n",
       "      <td>29.459575</td>\n",
       "      <td>9.634565</td>\n",
       "      <td>22.276364</td>\n",
       "      <td>18.528821</td>\n",
       "      <td>2212.432090</td>\n",
       "      <td>-57.195404</td>\n",
       "      <td>2361.414084</td>\n",
       "      <td>-142.527229</td>\n",
       "      <td>2042.072583</td>\n",
       "      <td>-150.937035</td>\n",
       "      <td>2398.903635</td>\n",
       "      <td>-20.654343</td>\n",
       "      <td>8.332404e+07</td>\n",
       "      <td>6.211433e+06</td>\n",
       "      <td>1.537564e+06</td>\n",
       "      <td>39.379272</td>\n",
       "      <td>14.869652</td>\n",
       "      <td>7.142594</td>\n",
       "      <td>717.508837</td>\n",
       "      <td>484.967466</td>\n",
       "      <td>53.477742</td>\n",
       "      <td>14.093363</td>\n",
       "      <td>36.118275</td>\n",
       "      <td>31.493331</td>\n",
       "      <td>37.980648</td>\n",
       "      <td>18.709478</td>\n",
       "      <td>24.480271</td>\n",
       "      <td>18.394042</td>\n",
       "      <td>40.089993</td>\n",
       "      <td>28.824507</td>\n",
       "      <td>100.000000</td>\n",
       "      <td>12.719177</td>\n",
       "      <td>3.778064</td>\n",
       "      <td>66.117188</td>\n",
       "      <td>9.688980</td>\n",
       "      <td>1521.980372</td>\n",
       "      <td>-19.383282</td>\n",
       "      <td>1809.194008</td>\n",
       "      <td>9.457822</td>\n",
       "      <td>2499.129174</td>\n",
       "      <td>-10.242658</td>\n",
       "      <td>2077.222699</td>\n",
       "      <td>21.365035</td>\n",
       "      <td>2330.310425</td>\n",
       "      <td>-2.406020</td>\n",
       "      <td>1950.493751</td>\n",
       "      <td>-21.745268</td>\n",
       "      <td>23.264738</td>\n",
       "      <td>17.042505</td>\n",
       "      <td>33.058594</td>\n",
       "      <td>26.811643</td>\n",
       "      <td>60.000000</td>\n",
       "      <td>-127.875565</td>\n",
       "      <td>60.000000</td>\n",
       "      <td>-211.999273</td>\n",
       "      <td>60.000000</td>\n",
       "      <td>-191.678810</td>\n",
       "      <td>39.487633</td>\n",
       "      <td>-139.771483</td>\n",
       "      <td>60.000000</td>\n",
       "      <td>-127.692333</td>\n",
       "      <td>31.269706</td>\n",
       "      <td>-6.506986</td>\n",
       "      <td>63.116298</td>\n",
       "      <td>-244.483566</td>\n",
       "      <td>39.846228</td>\n",
       "      <td>-120.190931</td>\n",
       "      <td>54.876806</td>\n",
       "      <td>-29.093593</td>\n",
       "    </tr>\n",
       "  </tbody>\n",
       "</table>\n",
       "</div>"
      ],
      "text/plain": [
       "       final.output.concentrate_ag  final.output.concentrate_pb  \\\n",
       "count                 22627.000000                 22629.000000   \n",
       "mean                      4.781559                     9.095308   \n",
       "std                       2.030128                     3.230797   \n",
       "min                       0.000000                     0.000000   \n",
       "25%                       4.018525                     8.750171   \n",
       "50%                       4.953729                     9.914519   \n",
       "75%                       5.862593                    10.929839   \n",
       "max                      16.001945                    17.031899   \n",
       "\n",
       "       final.output.concentrate_sol  final.output.concentrate_au  \\\n",
       "count                  22331.000000                 22630.000000   \n",
       "mean                       8.640317                    40.001172   \n",
       "std                        3.785035                    13.398062   \n",
       "min                        0.000000                     0.000000   \n",
       "25%                        7.116799                    42.383721   \n",
       "50%                        8.908792                    44.653436   \n",
       "75%                       10.705824                    46.111999   \n",
       "max                       19.615720                    53.611374   \n",
       "\n",
       "       final.output.recovery  final.output.tail_ag  final.output.tail_pb  \\\n",
       "count           20753.000000          22633.000000          22516.000000   \n",
       "mean               67.447488              8.923690              2.488252   \n",
       "std                11.616034              3.517917              1.189407   \n",
       "min                 0.000000              0.000000              0.000000   \n",
       "25%                63.282393              7.684016              1.805376   \n",
       "50%                68.322258              9.484369              2.653001   \n",
       "75%                72.950836             11.084557              3.287790   \n",
       "max               100.000000             19.552149              6.086532   \n",
       "\n",
       "       final.output.tail_sol  final.output.tail_au  \\\n",
       "count           22445.000000          22635.000000   \n",
       "mean                9.523632              2.827459   \n",
       "std                 4.079739              1.262834   \n",
       "min                 0.000000              0.000000   \n",
       "25%                 8.143576              2.303108   \n",
       "50%                10.212998              2.913794   \n",
       "75%                11.860824              3.555077   \n",
       "max                22.861749              9.789625   \n",
       "\n",
       "       primary_cleaner.input.sulfate  primary_cleaner.input.depressant  \\\n",
       "count                   21107.000000                      21170.000000   \n",
       "mean                      140.277672                          8.587607   \n",
       "std                        49.919004                          3.611361   \n",
       "min                         0.000003                          0.000000   \n",
       "25%                       110.177081                          6.018085   \n",
       "50%                       141.330501                          8.018173   \n",
       "75%                       174.049914                         11.003573   \n",
       "max                       274.409626                         40.024582   \n",
       "\n",
       "       primary_cleaner.input.feed_size  primary_cleaner.input.xanthate  \\\n",
       "count                     22716.000000                    21565.000000   \n",
       "mean                          7.288872                        0.969830   \n",
       "std                           0.617357                        0.548083   \n",
       "min                           1.080000                        0.000003   \n",
       "25%                           6.920000                        0.626346   \n",
       "50%                           7.280000                        0.905286   \n",
       "75%                           7.680000                        1.200734   \n",
       "max                          15.500000                        6.027907   \n",
       "\n",
       "       primary_cleaner.output.concentrate_ag  \\\n",
       "count                           22618.000000   \n",
       "mean                                7.691652   \n",
       "std                                 3.109306   \n",
       "min                                 0.000000   \n",
       "25%                                 6.771102   \n",
       "50%                                 8.265643   \n",
       "75%                                 9.697896   \n",
       "max                                16.081632   \n",
       "\n",
       "       primary_cleaner.output.concentrate_pb  \\\n",
       "count                           22268.000000   \n",
       "mean                                8.921110   \n",
       "std                                 3.706314   \n",
       "min                                 0.000000   \n",
       "25%                                 7.834690   \n",
       "50%                                 9.921116   \n",
       "75%                                11.266100   \n",
       "max                                17.081278   \n",
       "\n",
       "       primary_cleaner.output.concentrate_sol  \\\n",
       "count                            21918.000000   \n",
       "mean                                 9.573672   \n",
       "std                                  4.788433   \n",
       "min                                  0.000000   \n",
       "25%                                  7.009980   \n",
       "50%                                  9.851136   \n",
       "75%                                 13.180304   \n",
       "max                                 22.458114   \n",
       "\n",
       "       primary_cleaner.output.concentrate_au  primary_cleaner.output.tail_ag  \\\n",
       "count                           22618.000000                    22614.000000   \n",
       "mean                               29.212289                       14.876219   \n",
       "std                                10.539303                        5.654342   \n",
       "min                                 0.000000                        0.000000   \n",
       "25%                                29.374406                       13.464756   \n",
       "50%                                32.359813                       15.600454   \n",
       "75%                                34.770726                       17.931084   \n",
       "max                                45.933934                       29.459575   \n",
       "\n",
       "       primary_cleaner.output.tail_pb  primary_cleaner.output.tail_sol  \\\n",
       "count                    22594.000000                     22365.000000   \n",
       "mean                         3.175822                         7.208474   \n",
       "std                          1.652177                         3.087892   \n",
       "min                          0.000000                         0.000000   \n",
       "25%                          2.269103                         5.961535   \n",
       "50%                          3.154022                         7.873945   \n",
       "75%                          4.123574                         9.348743   \n",
       "max                          9.634565                        22.276364   \n",
       "\n",
       "       primary_cleaner.output.tail_au  primary_cleaner.state.floatbank8_a_air  \\\n",
       "count                    22617.000000                            22660.000000   \n",
       "mean                         3.670333                             1511.162809   \n",
       "std                          1.985206                              363.801472   \n",
       "min                          0.000000                                0.000000   \n",
       "25%                          2.741534                             1500.593119   \n",
       "50%                          3.513008                             1600.079008   \n",
       "75%                          4.559485                             1696.691067   \n",
       "max                         18.528821                             2212.432090   \n",
       "\n",
       "       primary_cleaner.state.floatbank8_a_level  \\\n",
       "count                              22667.000000   \n",
       "mean                                -506.647591   \n",
       "std                                   73.798002   \n",
       "min                                 -800.037388   \n",
       "25%                                 -500.426010   \n",
       "50%                                 -499.963174   \n",
       "75%                                 -499.458089   \n",
       "max                                  -57.195404   \n",
       "\n",
       "       primary_cleaner.state.floatbank8_b_air  \\\n",
       "count                            22660.000000   \n",
       "mean                              1514.351654   \n",
       "std                                365.280954   \n",
       "min                                  0.000000   \n",
       "25%                               1500.500790   \n",
       "50%                               1600.032196   \n",
       "75%                               1698.933079   \n",
       "max                               2361.414084   \n",
       "\n",
       "       primary_cleaner.state.floatbank8_b_level  \\\n",
       "count                              22673.000000   \n",
       "mean                                -508.478882   \n",
       "std                                   76.785239   \n",
       "min                                 -800.409770   \n",
       "25%                                 -500.558891   \n",
       "50%                                 -500.001770   \n",
       "75%                                 -499.414187   \n",
       "max                                 -142.527229   \n",
       "\n",
       "       primary_cleaner.state.floatbank8_c_air  \\\n",
       "count                            22662.000000   \n",
       "mean                              1502.534056   \n",
       "std                                376.634842   \n",
       "min                                  0.000000   \n",
       "25%                               1499.146216   \n",
       "50%                               1599.749504   \n",
       "75%                               1699.151169   \n",
       "max                               2042.072583   \n",
       "\n",
       "       primary_cleaner.state.floatbank8_c_level  \\\n",
       "count                              22673.000000   \n",
       "mean                                -507.776133   \n",
       "std                                   75.003917   \n",
       "min                                 -800.362914   \n",
       "25%                                 -500.953774   \n",
       "50%                                 -499.982485   \n",
       "75%                                 -498.932758   \n",
       "max                                 -150.937035   \n",
       "\n",
       "       primary_cleaner.state.floatbank8_d_air  \\\n",
       "count                            22661.000000   \n",
       "mean                              1473.186236   \n",
       "std                                414.691424   \n",
       "min                                  0.000000   \n",
       "25%                               1447.698210   \n",
       "50%                               1598.993577   \n",
       "75%                               1698.142189   \n",
       "max                               2398.903635   \n",
       "\n",
       "       primary_cleaner.state.floatbank8_d_level  \\\n",
       "count                              22673.000000   \n",
       "mean                                -504.124775   \n",
       "std                                   82.278973   \n",
       "min                                 -800.166222   \n",
       "25%                                 -500.616787   \n",
       "50%                                 -499.961283   \n",
       "75%                                 -499.135326   \n",
       "max                                  -20.654343   \n",
       "\n",
       "       rougher.calculation.sulfate_to_au_concentrate  \\\n",
       "count                                   2.267200e+04   \n",
       "mean                                   -6.294614e+06   \n",
       "std                                     9.826921e+07   \n",
       "min                                    -2.248017e+09   \n",
       "25%                                     3.988478e+04   \n",
       "50%                                     4.405929e+04   \n",
       "75%                                     4.814479e+04   \n",
       "max                                     8.332404e+07   \n",
       "\n",
       "       rougher.calculation.floatbank10_sulfate_to_au_feed  \\\n",
       "count                                       2.267200e+04    \n",
       "mean                                        3.559534e+03    \n",
       "std                                         6.116649e+04    \n",
       "min                                        -2.023459e+06    \n",
       "25%                                         2.506366e+03    \n",
       "50%                                         2.940838e+03    \n",
       "75%                                         3.613983e+03    \n",
       "max                                         6.211433e+06    \n",
       "\n",
       "       rougher.calculation.floatbank11_sulfate_to_au_feed  \\\n",
       "count                                       2.267200e+04    \n",
       "mean                                        2.294828e+03    \n",
       "std                                         4.177895e+04    \n",
       "min                                        -4.014502e+06    \n",
       "25%                                         2.501745e+03    \n",
       "50%                                         2.897014e+03    \n",
       "75%                                         3.529913e+03    \n",
       "max                                         1.537564e+06    \n",
       "\n",
       "       rougher.calculation.au_pb_ratio  rougher.input.feed_ag  \\\n",
       "count                     21089.000000           22618.000000   \n",
       "mean                          2.386287               8.065715   \n",
       "std                           0.839999               3.125250   \n",
       "min                          -0.010548               0.000000   \n",
       "25%                           2.021360               6.944415   \n",
       "50%                           2.286493               8.302613   \n",
       "75%                           2.711070              10.135202   \n",
       "max                          39.379272              14.869652   \n",
       "\n",
       "       rougher.input.feed_pb  rougher.input.feed_rate  \\\n",
       "count           22472.000000             22163.000000   \n",
       "mean                3.305676               441.873650   \n",
       "std                 1.446905               156.736078   \n",
       "min                 0.000000                 0.000044   \n",
       "25%                 2.658814               398.222097   \n",
       "50%                 3.432054               488.968597   \n",
       "75%                 4.204960               546.587401   \n",
       "max                 7.142594               717.508837   \n",
       "\n",
       "       rougher.input.feed_size  rougher.input.feed_sol  rougher.input.feed_au  \\\n",
       "count             22277.000000            22357.000000           22617.000000   \n",
       "mean                 57.959166               33.276016               7.565838   \n",
       "std                  23.644823               11.494135               3.026954   \n",
       "min                   0.046369                0.000000               0.000000   \n",
       "25%                  46.687088               32.524264               6.485009   \n",
       "50%                  53.405122               36.559955               7.884832   \n",
       "75%                  64.096151               39.675470               9.668064   \n",
       "max                 484.967466               53.477742              14.093363   \n",
       "\n",
       "       rougher.input.floatbank10_sulfate  rougher.input.floatbank10_xanthate  \\\n",
       "count                       21415.000000                        22247.000000   \n",
       "mean                           11.784263                            5.573526   \n",
       "std                             4.093125                            1.908123   \n",
       "min                             0.000002                            0.000003   \n",
       "25%                             9.915698                            5.046782   \n",
       "50%                            11.998801                            5.999078   \n",
       "75%                            14.437582                            6.700493   \n",
       "max                            36.118275                           31.493331   \n",
       "\n",
       "       rougher.input.floatbank11_sulfate  rougher.input.floatbank11_xanthate  \\\n",
       "count                       22038.000000                        20459.000000   \n",
       "mean                           11.209718                            5.962586   \n",
       "std                             4.685205                            1.280682   \n",
       "min                             0.000014                            0.000010   \n",
       "25%                             9.281388                            5.353321   \n",
       "50%                            11.946466                            6.034551   \n",
       "75%                            14.015696                            6.799526   \n",
       "max                            37.980648                           18.709478   \n",
       "\n",
       "       rougher.output.concentrate_ag  rougher.output.concentrate_pb  \\\n",
       "count                   22618.000000                   22618.000000   \n",
       "mean                       10.874484                       6.900646   \n",
       "std                         4.377924                       2.806948   \n",
       "min                         0.000000                       0.000000   \n",
       "25%                        10.126646                       6.374692   \n",
       "50%                        11.785127                       7.572855   \n",
       "75%                        13.615299                       8.477358   \n",
       "max                        24.480271                      18.394042   \n",
       "\n",
       "       rougher.output.concentrate_sol  rougher.output.concentrate_au  \\\n",
       "count                    22526.000000                   22618.000000   \n",
       "mean                        26.095508                      17.879538   \n",
       "std                         10.140120                       6.790112   \n",
       "min                          0.000000                       0.000000   \n",
       "25%                         25.815139                      17.928729   \n",
       "50%                         29.382638                      20.003202   \n",
       "75%                         32.002766                      21.564238   \n",
       "max                         40.089993                      28.824507   \n",
       "\n",
       "       rougher.output.recovery  rougher.output.tail_ag  \\\n",
       "count             19597.000000            19979.000000   \n",
       "mean                 83.078122                5.587861   \n",
       "std                  14.661880                1.114614   \n",
       "min                   0.000000                0.594562   \n",
       "25%                  80.941306                4.887758   \n",
       "50%                  86.144121                5.759630   \n",
       "75%                  89.987561                6.386301   \n",
       "max                 100.000000               12.719177   \n",
       "\n",
       "       rougher.output.tail_pb  rougher.output.tail_sol  \\\n",
       "count            22618.000000             19980.000000   \n",
       "mean                 0.593620                18.040138   \n",
       "std                  0.315295                 3.470514   \n",
       "min                  0.000000                10.014648   \n",
       "25%                  0.427513                15.788283   \n",
       "50%                  0.590746                18.082595   \n",
       "75%                  0.763219                20.084427   \n",
       "max                  3.778064                66.117188   \n",
       "\n",
       "       rougher.output.tail_au  rougher.state.floatbank10_a_air  \\\n",
       "count            19980.000000                     22646.000000   \n",
       "mean                 1.821193                      1061.497265   \n",
       "std                  0.695663                       277.718805   \n",
       "min                  0.020676                        -0.345168   \n",
       "25%                  1.403951                       999.482192   \n",
       "50%                  1.808567                      1000.874850   \n",
       "75%                  2.215317                      1210.446131   \n",
       "max                  9.688980                      1521.980372   \n",
       "\n",
       "       rougher.state.floatbank10_a_level  rougher.state.floatbank10_b_air  \\\n",
       "count                       22647.000000                     22646.000000   \n",
       "mean                         -389.490702                      1257.007638   \n",
       "std                           109.946946                       319.983248   \n",
       "min                          -658.223080                        -0.821921   \n",
       "25%                          -499.930417                      1197.548268   \n",
       "50%                          -300.401147                      1299.976586   \n",
       "75%                          -299.992579                      1407.132038   \n",
       "max                           -19.383282                      1809.194008   \n",
       "\n",
       "       rougher.state.floatbank10_b_level  rougher.state.floatbank10_c_air  \\\n",
       "count                       22647.000000                     22646.000000   \n",
       "mean                         -477.174011                      1235.736890   \n",
       "std                            66.645938                       331.886940   \n",
       "min                          -650.437575                        -0.378521   \n",
       "25%                          -500.297595                      1100.701647   \n",
       "50%                          -499.847233                      1298.358825   \n",
       "75%                          -403.034804                      1437.004925   \n",
       "max                             9.457822                      2499.129174   \n",
       "\n",
       "       rougher.state.floatbank10_c_level  rougher.state.floatbank10_d_air  \\\n",
       "count                       22654.000000                     22641.000000   \n",
       "mean                         -476.320380                      1152.689097   \n",
       "std                            63.957539                       317.187293   \n",
       "min                          -650.151190                        -1.197435   \n",
       "25%                          -500.323902                      1040.497698   \n",
       "50%                          -499.786527                      1200.061465   \n",
       "75%                          -403.386144                      1342.550632   \n",
       "max                           -10.242658                      2077.222699   \n",
       "\n",
       "       rougher.state.floatbank10_d_level  rougher.state.floatbank10_e_air  \\\n",
       "count                       22649.000000                     22096.000000   \n",
       "mean                         -477.720243                      1029.790755   \n",
       "std                            61.942486                       278.544787   \n",
       "min                          -649.300693                        -2.163619   \n",
       "25%                          -500.590442                       950.272126   \n",
       "50%                          -499.674320                      1049.208185   \n",
       "75%                          -443.310570                      1198.762174   \n",
       "max                            21.365035                      2330.310425   \n",
       "\n",
       "       rougher.state.floatbank10_e_level  rougher.state.floatbank10_f_air  \\\n",
       "count                       22649.000000                     22641.000000   \n",
       "mean                         -475.804766                       977.870710   \n",
       "std                            68.327502                       262.604257   \n",
       "min                          -650.196204                        -2.636171   \n",
       "25%                          -500.357323                       900.173576   \n",
       "50%                          -499.749602                       999.693303   \n",
       "75%                          -403.199939                      1099.189914   \n",
       "max                            -2.406020                      1950.493751   \n",
       "\n",
       "       rougher.state.floatbank10_f_level  secondary_cleaner.output.tail_ag  \\\n",
       "count                       22642.000000                      22616.000000   \n",
       "mean                         -476.448631                         13.375349   \n",
       "std                            69.678409                          5.768719   \n",
       "min                          -650.072915                          0.000000   \n",
       "25%                          -500.749731                         11.802936   \n",
       "50%                          -499.631519                         15.222165   \n",
       "75%                          -403.810536                         17.231611   \n",
       "max                           -21.745268                         23.264738   \n",
       "\n",
       "       secondary_cleaner.output.tail_pb  secondary_cleaner.output.tail_sol  \\\n",
       "count                      22600.000000                       20501.000000   \n",
       "mean                           5.304107                           6.465460   \n",
       "std                            3.092536                           4.277993   \n",
       "min                            0.000000                           0.000000   \n",
       "25%                            3.451435                           2.658971   \n",
       "50%                            5.074145                           6.966645   \n",
       "75%                            7.585281                          10.152612   \n",
       "max                           17.042505                          33.058594   \n",
       "\n",
       "       secondary_cleaner.output.tail_au  \\\n",
       "count                      22618.000000   \n",
       "mean                           4.041218   \n",
       "std                            2.605738   \n",
       "min                            0.000000   \n",
       "25%                            2.877554   \n",
       "50%                            3.956171   \n",
       "75%                            5.006944   \n",
       "max                           26.811643   \n",
       "\n",
       "       secondary_cleaner.state.floatbank2_a_air  \\\n",
       "count                              22333.000000   \n",
       "mean                                  27.440808   \n",
       "std                                    7.763001   \n",
       "min                                    0.000000   \n",
       "25%                                   25.011462   \n",
       "50%                                   28.927709   \n",
       "75%                                   32.892271   \n",
       "max                                   60.000000   \n",
       "\n",
       "       secondary_cleaner.state.floatbank2_a_level  \\\n",
       "count                                22591.000000   \n",
       "mean                                  -516.727003   \n",
       "std                                     83.411562   \n",
       "min                                   -799.841677   \n",
       "25%                                   -500.303776   \n",
       "50%                                   -499.996457   \n",
       "75%                                   -499.686110   \n",
       "max                                   -127.875565   \n",
       "\n",
       "       secondary_cleaner.state.floatbank2_b_air  \\\n",
       "count                              22538.000000   \n",
       "mean                                  22.963160   \n",
       "std                                    7.715298   \n",
       "min                                    0.000000   \n",
       "25%                                   20.018733   \n",
       "50%                                   24.978758   \n",
       "75%                                   27.999758   \n",
       "max                                   60.000000   \n",
       "\n",
       "       secondary_cleaner.state.floatbank2_b_level  \\\n",
       "count                                22588.000000   \n",
       "mean                                  -517.691199   \n",
       "std                                     83.492128   \n",
       "min                                   -799.967956   \n",
       "25%                                   -500.318700   \n",
       "50%                                   -500.035682   \n",
       "75%                                   -499.798350   \n",
       "max                                   -211.999273   \n",
       "\n",
       "       secondary_cleaner.state.floatbank3_a_air  \\\n",
       "count                              22585.000000   \n",
       "mean                                  26.993715   \n",
       "std                                    8.262921   \n",
       "min                                    0.000000   \n",
       "25%                                   24.020017   \n",
       "50%                                   27.959889   \n",
       "75%                                   32.981390   \n",
       "max                                   60.000000   \n",
       "\n",
       "       secondary_cleaner.state.floatbank3_a_level  \\\n",
       "count                                22587.000000   \n",
       "mean                                  -500.178956   \n",
       "std                                     83.293510   \n",
       "min                                   -799.926254   \n",
       "25%                                   -500.273049   \n",
       "50%                                   -499.957251   \n",
       "75%                                   -499.386548   \n",
       "max                                   -191.678810   \n",
       "\n",
       "       secondary_cleaner.state.floatbank3_b_air  \\\n",
       "count                              22592.000000   \n",
       "mean                                  21.251091   \n",
       "std                                    7.018935   \n",
       "min                                    0.000000   \n",
       "25%                                   18.070333   \n",
       "50%                                   21.971564   \n",
       "75%                                   25.961958   \n",
       "max                                   39.487633   \n",
       "\n",
       "       secondary_cleaner.state.floatbank3_b_level  \\\n",
       "count                                22590.000000   \n",
       "mean                                  -505.013347   \n",
       "std                                     71.552885   \n",
       "min                                   -809.421923   \n",
       "25%                                   -500.150167   \n",
       "50%                                   -499.993182   \n",
       "75%                                   -499.821199   \n",
       "max                                   -139.771483   \n",
       "\n",
       "       secondary_cleaner.state.floatbank4_a_air  \\\n",
       "count                              22571.000000   \n",
       "mean                                  18.205125   \n",
       "std                                    6.560700   \n",
       "min                                    0.000000   \n",
       "25%                                   14.095940   \n",
       "50%                                   18.007326   \n",
       "75%                                   22.998194   \n",
       "max                                   60.000000   \n",
       "\n",
       "       secondary_cleaner.state.floatbank4_a_level  \\\n",
       "count                                22587.000000   \n",
       "mean                                  -499.878977   \n",
       "std                                     80.273964   \n",
       "min                                   -799.920713   \n",
       "25%                                   -500.896232   \n",
       "50%                                   -499.917108   \n",
       "75%                                   -498.361545   \n",
       "max                                   -127.692333   \n",
       "\n",
       "       secondary_cleaner.state.floatbank4_b_air  \\\n",
       "count                              22608.000000   \n",
       "mean                                  14.356474   \n",
       "std                                    5.655791   \n",
       "min                                    0.000000   \n",
       "25%                                   10.882675   \n",
       "50%                                   14.947646   \n",
       "75%                                   17.977502   \n",
       "max                                   31.269706   \n",
       "\n",
       "       secondary_cleaner.state.floatbank4_b_level  \\\n",
       "count                                22607.000000   \n",
       "mean                                  -476.532613   \n",
       "std                                     93.822791   \n",
       "min                                   -800.836914   \n",
       "25%                                   -500.309169   \n",
       "50%                                   -499.612292   \n",
       "75%                                   -400.224147   \n",
       "max                                     -6.506986   \n",
       "\n",
       "       secondary_cleaner.state.floatbank5_a_air  \\\n",
       "count                              22615.000000   \n",
       "mean                                  14.883276   \n",
       "std                                    6.372811   \n",
       "min                                   -0.423260   \n",
       "25%                                   10.941299   \n",
       "50%                                   14.859117   \n",
       "75%                                   18.014914   \n",
       "max                                   63.116298   \n",
       "\n",
       "       secondary_cleaner.state.floatbank5_a_level  \\\n",
       "count                                22615.000000   \n",
       "mean                                  -503.323288   \n",
       "std                                     72.925589   \n",
       "min                                   -799.741097   \n",
       "25%                                   -500.628697   \n",
       "50%                                   -499.865158   \n",
       "75%                                   -498.489381   \n",
       "max                                   -244.483566   \n",
       "\n",
       "       secondary_cleaner.state.floatbank5_b_air  \\\n",
       "count                              22615.000000   \n",
       "mean                                  11.626743   \n",
       "std                                    5.757449   \n",
       "min                                    0.427084   \n",
       "25%                                    8.037533   \n",
       "50%                                   10.989756   \n",
       "75%                                   14.001193   \n",
       "max                                   39.846228   \n",
       "\n",
       "       secondary_cleaner.state.floatbank5_b_level  \\\n",
       "count                                22616.000000   \n",
       "mean                                  -500.521502   \n",
       "std                                     78.956292   \n",
       "min                                   -800.258209   \n",
       "25%                                   -500.167897   \n",
       "50%                                   -499.951980   \n",
       "75%                                   -499.492354   \n",
       "max                                   -120.190931   \n",
       "\n",
       "       secondary_cleaner.state.floatbank6_a_air  \\\n",
       "count                              22597.000000   \n",
       "mean                                  17.976810   \n",
       "std                                    6.636203   \n",
       "min                                   -0.079426   \n",
       "25%                                   13.968418   \n",
       "50%                                   18.004215   \n",
       "75%                                   23.009704   \n",
       "max                                   54.876806   \n",
       "\n",
       "       secondary_cleaner.state.floatbank6_a_level  \n",
       "count                                22615.000000  \n",
       "mean                                  -519.361465  \n",
       "std                                     75.477151  \n",
       "min                                   -810.473526  \n",
       "25%                                   -500.981671  \n",
       "50%                                   -500.095463  \n",
       "75%                                   -499.526388  \n",
       "max                                    -29.093593  "
      ]
     },
     "execution_count": 5,
     "metadata": {},
     "output_type": "execute_result"
    }
   ],
   "source": [
    "df_origin.describe()"
   ]
  },
  {
   "cell_type": "markdown",
   "metadata": {},
   "source": [
    "Сделать какие-то выводы по такой выборке довольно трудно. Аналогично будет трудно сделать выводы по корреляции, в связи с чем построение таблицы со значениями корреляции на текущем этапе нецелесообразно."
   ]
  },
  {
   "cell_type": "markdown",
   "metadata": {},
   "source": [
    "#### Обучающая выборка"
   ]
  },
  {
   "cell_type": "code",
   "execution_count": 6,
   "metadata": {
    "scrolled": true
   },
   "outputs": [
    {
     "name": "stdout",
     "output_type": "stream",
     "text": [
      "<class 'pandas.core.frame.DataFrame'>\n",
      "RangeIndex: 16860 entries, 0 to 16859\n",
      "Data columns (total 87 columns):\n",
      "date                                                  16860 non-null datetime64[ns]\n",
      "final.output.concentrate_ag                           16788 non-null float64\n",
      "final.output.concentrate_pb                           16788 non-null float64\n",
      "final.output.concentrate_sol                          16490 non-null float64\n",
      "final.output.concentrate_au                           16789 non-null float64\n",
      "final.output.recovery                                 15339 non-null float64\n",
      "final.output.tail_ag                                  16794 non-null float64\n",
      "final.output.tail_pb                                  16677 non-null float64\n",
      "final.output.tail_sol                                 16715 non-null float64\n",
      "final.output.tail_au                                  16794 non-null float64\n",
      "primary_cleaner.input.sulfate                         15553 non-null float64\n",
      "primary_cleaner.input.depressant                      15598 non-null float64\n",
      "primary_cleaner.input.feed_size                       16860 non-null float64\n",
      "primary_cleaner.input.xanthate                        15875 non-null float64\n",
      "primary_cleaner.output.concentrate_ag                 16778 non-null float64\n",
      "primary_cleaner.output.concentrate_pb                 16502 non-null float64\n",
      "primary_cleaner.output.concentrate_sol                16224 non-null float64\n",
      "primary_cleaner.output.concentrate_au                 16778 non-null float64\n",
      "primary_cleaner.output.tail_ag                        16777 non-null float64\n",
      "primary_cleaner.output.tail_pb                        16761 non-null float64\n",
      "primary_cleaner.output.tail_sol                       16579 non-null float64\n",
      "primary_cleaner.output.tail_au                        16777 non-null float64\n",
      "primary_cleaner.state.floatbank8_a_air                16820 non-null float64\n",
      "primary_cleaner.state.floatbank8_a_level              16827 non-null float64\n",
      "primary_cleaner.state.floatbank8_b_air                16820 non-null float64\n",
      "primary_cleaner.state.floatbank8_b_level              16833 non-null float64\n",
      "primary_cleaner.state.floatbank8_c_air                16822 non-null float64\n",
      "primary_cleaner.state.floatbank8_c_level              16833 non-null float64\n",
      "primary_cleaner.state.floatbank8_d_air                16821 non-null float64\n",
      "primary_cleaner.state.floatbank8_d_level              16833 non-null float64\n",
      "rougher.calculation.sulfate_to_au_concentrate         16833 non-null float64\n",
      "rougher.calculation.floatbank10_sulfate_to_au_feed    16833 non-null float64\n",
      "rougher.calculation.floatbank11_sulfate_to_au_feed    16833 non-null float64\n",
      "rougher.calculation.au_pb_ratio                       15618 non-null float64\n",
      "rougher.input.feed_ag                                 16778 non-null float64\n",
      "rougher.input.feed_pb                                 16632 non-null float64\n",
      "rougher.input.feed_rate                               16347 non-null float64\n",
      "rougher.input.feed_size                               16443 non-null float64\n",
      "rougher.input.feed_sol                                16568 non-null float64\n",
      "rougher.input.feed_au                                 16777 non-null float64\n",
      "rougher.input.floatbank10_sulfate                     15816 non-null float64\n",
      "rougher.input.floatbank10_xanthate                    16514 non-null float64\n",
      "rougher.input.floatbank11_sulfate                     16237 non-null float64\n",
      "rougher.input.floatbank11_xanthate                    14956 non-null float64\n",
      "rougher.output.concentrate_ag                         16778 non-null float64\n",
      "rougher.output.concentrate_pb                         16778 non-null float64\n",
      "rougher.output.concentrate_sol                        16698 non-null float64\n",
      "rougher.output.concentrate_au                         16778 non-null float64\n",
      "rougher.output.recovery                               14287 non-null float64\n",
      "rougher.output.tail_ag                                14610 non-null float64\n",
      "rougher.output.tail_pb                                16778 non-null float64\n",
      "rougher.output.tail_sol                               14611 non-null float64\n",
      "rougher.output.tail_au                                14611 non-null float64\n",
      "rougher.state.floatbank10_a_air                       16807 non-null float64\n",
      "rougher.state.floatbank10_a_level                     16807 non-null float64\n",
      "rougher.state.floatbank10_b_air                       16807 non-null float64\n",
      "rougher.state.floatbank10_b_level                     16807 non-null float64\n",
      "rougher.state.floatbank10_c_air                       16807 non-null float64\n",
      "rougher.state.floatbank10_c_level                     16814 non-null float64\n",
      "rougher.state.floatbank10_d_air                       16802 non-null float64\n",
      "rougher.state.floatbank10_d_level                     16809 non-null float64\n",
      "rougher.state.floatbank10_e_air                       16257 non-null float64\n",
      "rougher.state.floatbank10_e_level                     16809 non-null float64\n",
      "rougher.state.floatbank10_f_air                       16802 non-null float64\n",
      "rougher.state.floatbank10_f_level                     16802 non-null float64\n",
      "secondary_cleaner.output.tail_ag                      16776 non-null float64\n",
      "secondary_cleaner.output.tail_pb                      16764 non-null float64\n",
      "secondary_cleaner.output.tail_sol                     14874 non-null float64\n",
      "secondary_cleaner.output.tail_au                      16778 non-null float64\n",
      "secondary_cleaner.state.floatbank2_a_air              16497 non-null float64\n",
      "secondary_cleaner.state.floatbank2_a_level            16751 non-null float64\n",
      "secondary_cleaner.state.floatbank2_b_air              16705 non-null float64\n",
      "secondary_cleaner.state.floatbank2_b_level            16748 non-null float64\n",
      "secondary_cleaner.state.floatbank3_a_air              16763 non-null float64\n",
      "secondary_cleaner.state.floatbank3_a_level            16747 non-null float64\n",
      "secondary_cleaner.state.floatbank3_b_air              16752 non-null float64\n",
      "secondary_cleaner.state.floatbank3_b_level            16750 non-null float64\n",
      "secondary_cleaner.state.floatbank4_a_air              16731 non-null float64\n",
      "secondary_cleaner.state.floatbank4_a_level            16747 non-null float64\n",
      "secondary_cleaner.state.floatbank4_b_air              16768 non-null float64\n",
      "secondary_cleaner.state.floatbank4_b_level            16767 non-null float64\n",
      "secondary_cleaner.state.floatbank5_a_air              16775 non-null float64\n",
      "secondary_cleaner.state.floatbank5_a_level            16775 non-null float64\n",
      "secondary_cleaner.state.floatbank5_b_air              16775 non-null float64\n",
      "secondary_cleaner.state.floatbank5_b_level            16776 non-null float64\n",
      "secondary_cleaner.state.floatbank6_a_air              16757 non-null float64\n",
      "secondary_cleaner.state.floatbank6_a_level            16775 non-null float64\n",
      "dtypes: datetime64[ns](1), float64(86)\n",
      "memory usage: 11.2 MB\n"
     ]
    }
   ],
   "source": [
    "df_train.info()"
   ]
  },
  {
   "cell_type": "code",
   "execution_count": 7,
   "metadata": {},
   "outputs": [
    {
     "name": "stdout",
     "output_type": "stream",
     "text": [
      "0.7422081352350766\n"
     ]
    }
   ],
   "source": [
    "print(len(df_train)/len(df_origin))"
   ]
  },
  {
   "cell_type": "markdown",
   "metadata": {},
   "source": [
    "Итак, обучающая выборка составляет около 74% от общей. В ней также имеются пропуски."
   ]
  },
  {
   "cell_type": "markdown",
   "metadata": {},
   "source": [
    "#### Тестовая выборка"
   ]
  },
  {
   "cell_type": "code",
   "execution_count": 8,
   "metadata": {
    "scrolled": true
   },
   "outputs": [
    {
     "name": "stdout",
     "output_type": "stream",
     "text": [
      "<class 'pandas.core.frame.DataFrame'>\n",
      "RangeIndex: 5856 entries, 0 to 5855\n",
      "Data columns (total 53 columns):\n",
      "date                                          5856 non-null datetime64[ns]\n",
      "primary_cleaner.input.sulfate                 5554 non-null float64\n",
      "primary_cleaner.input.depressant              5572 non-null float64\n",
      "primary_cleaner.input.feed_size               5856 non-null float64\n",
      "primary_cleaner.input.xanthate                5690 non-null float64\n",
      "primary_cleaner.state.floatbank8_a_air        5840 non-null float64\n",
      "primary_cleaner.state.floatbank8_a_level      5840 non-null float64\n",
      "primary_cleaner.state.floatbank8_b_air        5840 non-null float64\n",
      "primary_cleaner.state.floatbank8_b_level      5840 non-null float64\n",
      "primary_cleaner.state.floatbank8_c_air        5840 non-null float64\n",
      "primary_cleaner.state.floatbank8_c_level      5840 non-null float64\n",
      "primary_cleaner.state.floatbank8_d_air        5840 non-null float64\n",
      "primary_cleaner.state.floatbank8_d_level      5840 non-null float64\n",
      "rougher.input.feed_ag                         5840 non-null float64\n",
      "rougher.input.feed_pb                         5840 non-null float64\n",
      "rougher.input.feed_rate                       5816 non-null float64\n",
      "rougher.input.feed_size                       5834 non-null float64\n",
      "rougher.input.feed_sol                        5789 non-null float64\n",
      "rougher.input.feed_au                         5840 non-null float64\n",
      "rougher.input.floatbank10_sulfate             5599 non-null float64\n",
      "rougher.input.floatbank10_xanthate            5733 non-null float64\n",
      "rougher.input.floatbank11_sulfate             5801 non-null float64\n",
      "rougher.input.floatbank11_xanthate            5503 non-null float64\n",
      "rougher.state.floatbank10_a_air               5839 non-null float64\n",
      "rougher.state.floatbank10_a_level             5840 non-null float64\n",
      "rougher.state.floatbank10_b_air               5839 non-null float64\n",
      "rougher.state.floatbank10_b_level             5840 non-null float64\n",
      "rougher.state.floatbank10_c_air               5839 non-null float64\n",
      "rougher.state.floatbank10_c_level             5840 non-null float64\n",
      "rougher.state.floatbank10_d_air               5839 non-null float64\n",
      "rougher.state.floatbank10_d_level             5840 non-null float64\n",
      "rougher.state.floatbank10_e_air               5839 non-null float64\n",
      "rougher.state.floatbank10_e_level             5840 non-null float64\n",
      "rougher.state.floatbank10_f_air               5839 non-null float64\n",
      "rougher.state.floatbank10_f_level             5840 non-null float64\n",
      "secondary_cleaner.state.floatbank2_a_air      5836 non-null float64\n",
      "secondary_cleaner.state.floatbank2_a_level    5840 non-null float64\n",
      "secondary_cleaner.state.floatbank2_b_air      5833 non-null float64\n",
      "secondary_cleaner.state.floatbank2_b_level    5840 non-null float64\n",
      "secondary_cleaner.state.floatbank3_a_air      5822 non-null float64\n",
      "secondary_cleaner.state.floatbank3_a_level    5840 non-null float64\n",
      "secondary_cleaner.state.floatbank3_b_air      5840 non-null float64\n",
      "secondary_cleaner.state.floatbank3_b_level    5840 non-null float64\n",
      "secondary_cleaner.state.floatbank4_a_air      5840 non-null float64\n",
      "secondary_cleaner.state.floatbank4_a_level    5840 non-null float64\n",
      "secondary_cleaner.state.floatbank4_b_air      5840 non-null float64\n",
      "secondary_cleaner.state.floatbank4_b_level    5840 non-null float64\n",
      "secondary_cleaner.state.floatbank5_a_air      5840 non-null float64\n",
      "secondary_cleaner.state.floatbank5_a_level    5840 non-null float64\n",
      "secondary_cleaner.state.floatbank5_b_air      5840 non-null float64\n",
      "secondary_cleaner.state.floatbank5_b_level    5840 non-null float64\n",
      "secondary_cleaner.state.floatbank6_a_air      5840 non-null float64\n",
      "secondary_cleaner.state.floatbank6_a_level    5840 non-null float64\n",
      "dtypes: datetime64[ns](1), float64(52)\n",
      "memory usage: 2.4 MB\n"
     ]
    }
   ],
   "source": [
    "df_test.info()"
   ]
  },
  {
   "cell_type": "code",
   "execution_count": 9,
   "metadata": {
    "scrolled": true
   },
   "outputs": [
    {
     "name": "stdout",
     "output_type": "stream",
     "text": [
      "0.2577918647649234\n"
     ]
    }
   ],
   "source": [
    "print(len(df_test)/len(df_origin))"
   ]
  },
  {
   "cell_type": "markdown",
   "metadata": {},
   "source": [
    "Тестовая выборка составляет почти 26% от общей. Отметим, что в тестовой выборке 57 столбцов, то есть на 30 столбцов меньше, чем обучающей или общей."
   ]
  },
  {
   "cell_type": "markdown",
   "metadata": {},
   "source": [
    "#### Проверка расчета эффективности"
   ]
  },
  {
   "cell_type": "markdown",
   "metadata": {},
   "source": [
    "Вычислим на обучающей выборке значение `rougher.output.recovery`по формуле"
   ]
  },
  {
   "cell_type": "code",
   "execution_count": 10,
   "metadata": {},
   "outputs": [],
   "source": [
    "def recovery(data):\n",
    "    global C\n",
    "    global F\n",
    "    global T\n",
    "    recovery = (C * (F - T)) / (F * (C - T)) * 100\n",
    "    return recovery"
   ]
  },
  {
   "cell_type": "code",
   "execution_count": 11,
   "metadata": {},
   "outputs": [],
   "source": [
    "C = df_train['rougher.output.concentrate_au']\n",
    "F = df_train['rougher.input.feed_au']\n",
    "T = df_train['rougher.output.tail_au']"
   ]
  },
  {
   "cell_type": "code",
   "execution_count": 12,
   "metadata": {},
   "outputs": [],
   "source": [
    "recovery_calculated = recovery(df_train)"
   ]
  },
  {
   "cell_type": "markdown",
   "metadata": {},
   "source": [
    "Заметим, что при расчете MAE на текущем этапе мы получим ошибку, так как в данных есть пропуски. Создадим отдельный датафрейм, в котором уберем все пропуски."
   ]
  },
  {
   "cell_type": "code",
   "execution_count": 13,
   "metadata": {
    "scrolled": false
   },
   "outputs": [
    {
     "data": {
      "text/html": [
       "<div>\n",
       "<style scoped>\n",
       "    .dataframe tbody tr th:only-of-type {\n",
       "        vertical-align: middle;\n",
       "    }\n",
       "\n",
       "    .dataframe tbody tr th {\n",
       "        vertical-align: top;\n",
       "    }\n",
       "\n",
       "    .dataframe thead th {\n",
       "        text-align: right;\n",
       "    }\n",
       "</style>\n",
       "<table border=\"1\" class=\"dataframe\">\n",
       "  <thead>\n",
       "    <tr style=\"text-align: right;\">\n",
       "      <th></th>\n",
       "      <th>rougher.output.recovery_calculated</th>\n",
       "    </tr>\n",
       "  </thead>\n",
       "  <tbody>\n",
       "    <tr>\n",
       "      <td>0</td>\n",
       "      <td>87.107763</td>\n",
       "    </tr>\n",
       "    <tr>\n",
       "      <td>1</td>\n",
       "      <td>86.843261</td>\n",
       "    </tr>\n",
       "    <tr>\n",
       "      <td>2</td>\n",
       "      <td>86.842308</td>\n",
       "    </tr>\n",
       "    <tr>\n",
       "      <td>3</td>\n",
       "      <td>87.226430</td>\n",
       "    </tr>\n",
       "    <tr>\n",
       "      <td>4</td>\n",
       "      <td>86.688794</td>\n",
       "    </tr>\n",
       "  </tbody>\n",
       "</table>\n",
       "</div>"
      ],
      "text/plain": [
       "   rougher.output.recovery_calculated\n",
       "0                           87.107763\n",
       "1                           86.843261\n",
       "2                           86.842308\n",
       "3                           87.226430\n",
       "4                           86.688794"
      ]
     },
     "metadata": {},
     "output_type": "display_data"
    }
   ],
   "source": [
    "recovery_calculated_df = pd.DataFrame(recovery_calculated, columns=[\n",
    "                                      'rougher.output.recovery_calculated'])\n",
    "display(recovery_calculated_df.head())"
   ]
  },
  {
   "cell_type": "code",
   "execution_count": 14,
   "metadata": {},
   "outputs": [
    {
     "data": {
      "text/html": [
       "<div>\n",
       "<style scoped>\n",
       "    .dataframe tbody tr th:only-of-type {\n",
       "        vertical-align: middle;\n",
       "    }\n",
       "\n",
       "    .dataframe tbody tr th {\n",
       "        vertical-align: top;\n",
       "    }\n",
       "\n",
       "    .dataframe thead th {\n",
       "        text-align: right;\n",
       "    }\n",
       "</style>\n",
       "<table border=\"1\" class=\"dataframe\">\n",
       "  <thead>\n",
       "    <tr style=\"text-align: right;\">\n",
       "      <th></th>\n",
       "      <th>rougher.output.recovery_calculated</th>\n",
       "      <th>rougher.output.recovery</th>\n",
       "    </tr>\n",
       "  </thead>\n",
       "  <tbody>\n",
       "    <tr>\n",
       "      <td>0</td>\n",
       "      <td>87.107763</td>\n",
       "      <td>87.107763</td>\n",
       "    </tr>\n",
       "    <tr>\n",
       "      <td>1</td>\n",
       "      <td>86.843261</td>\n",
       "      <td>86.843261</td>\n",
       "    </tr>\n",
       "    <tr>\n",
       "      <td>2</td>\n",
       "      <td>86.842308</td>\n",
       "      <td>86.842308</td>\n",
       "    </tr>\n",
       "    <tr>\n",
       "      <td>3</td>\n",
       "      <td>87.226430</td>\n",
       "      <td>87.226430</td>\n",
       "    </tr>\n",
       "    <tr>\n",
       "      <td>4</td>\n",
       "      <td>86.688794</td>\n",
       "      <td>86.688794</td>\n",
       "    </tr>\n",
       "  </tbody>\n",
       "</table>\n",
       "</div>"
      ],
      "text/plain": [
       "   rougher.output.recovery_calculated  rougher.output.recovery\n",
       "0                           87.107763                87.107763\n",
       "1                           86.843261                86.843261\n",
       "2                           86.842308                86.842308\n",
       "3                           87.226430                87.226430\n",
       "4                           86.688794                86.688794"
      ]
     },
     "metadata": {},
     "output_type": "display_data"
    }
   ],
   "source": [
    "recovery_calculated_df['rougher.output.recovery'] = df_train['rougher.output.recovery']\n",
    "display(recovery_calculated_df.head())"
   ]
  },
  {
   "cell_type": "markdown",
   "metadata": {},
   "source": [
    "Мы можем видеть, что по крайней мере первые 5 значений абсолютно индетичны"
   ]
  },
  {
   "cell_type": "code",
   "execution_count": 15,
   "metadata": {},
   "outputs": [],
   "source": [
    "recovery_calculated_df = recovery_calculated_df.dropna()"
   ]
  },
  {
   "cell_type": "code",
   "execution_count": 16,
   "metadata": {},
   "outputs": [
    {
     "name": "stdout",
     "output_type": "stream",
     "text": [
      "<class 'pandas.core.frame.DataFrame'>\n",
      "Int64Index: 14287 entries, 0 to 16859\n",
      "Data columns (total 2 columns):\n",
      "rougher.output.recovery_calculated    14287 non-null float64\n",
      "rougher.output.recovery               14287 non-null float64\n",
      "dtypes: float64(2)\n",
      "memory usage: 334.9 KB\n",
      "None\n"
     ]
    }
   ],
   "source": [
    "print(recovery_calculated_df.info())"
   ]
  },
  {
   "cell_type": "markdown",
   "metadata": {},
   "source": [
    "Мы можем наблюдать, что и в оригинальном, и в рассчитанном столбце большое количество пропусков."
   ]
  },
  {
   "cell_type": "code",
   "execution_count": 17,
   "metadata": {},
   "outputs": [],
   "source": [
    "recovery_calculated_df = recovery_calculated_df.dropna()"
   ]
  },
  {
   "cell_type": "code",
   "execution_count": 18,
   "metadata": {},
   "outputs": [],
   "source": [
    "mae = mean_absolute_error(recovery_calculated_df['rougher.output.recovery'],\n",
    "                          recovery_calculated_df['rougher.output.recovery_calculated'])"
   ]
  },
  {
   "cell_type": "code",
   "execution_count": 19,
   "metadata": {},
   "outputs": [
    {
     "name": "stdout",
     "output_type": "stream",
     "text": [
      "0.0\n"
     ]
    }
   ],
   "source": [
    "print(mae.round(5))"
   ]
  },
  {
   "cell_type": "markdown",
   "metadata": {},
   "source": [
    "Идеальное совпадение. Все работет. Если не учитывать удаленные пропуски."
   ]
  },
  {
   "cell_type": "markdown",
   "metadata": {},
   "source": [
    "#### Признаки, не вошедшие в тестовую выборку"
   ]
  },
  {
   "cell_type": "markdown",
   "metadata": {},
   "source": [
    " Попробуем выяснить, что не вошло в тестовую выборку."
   ]
  },
  {
   "cell_type": "code",
   "execution_count": 20,
   "metadata": {
    "scrolled": false
   },
   "outputs": [
    {
     "name": "stdout",
     "output_type": "stream",
     "text": [
      "['final.output.concentrate_ag', 'final.output.recovery', 'final.output.tail_ag', 'rougher.calculation.floatbank11_sulfate_to_au_feed', 'rougher.output.concentrate_ag', 'primary_cleaner.output.concentrate_sol', 'primary_cleaner.output.tail_au', 'secondary_cleaner.output.tail_au', 'rougher.output.tail_ag', 'rougher.output.concentrate_au', 'rougher.calculation.floatbank10_sulfate_to_au_feed', 'rougher.output.recovery', 'rougher.output.tail_pb', 'rougher.calculation.au_pb_ratio', 'primary_cleaner.output.concentrate_ag', 'primary_cleaner.output.tail_pb', 'rougher.output.concentrate_pb', 'final.output.concentrate_au', 'primary_cleaner.output.concentrate_pb', 'primary_cleaner.output.tail_ag', 'secondary_cleaner.output.tail_pb', 'secondary_cleaner.output.tail_sol', 'primary_cleaner.output.concentrate_au', 'final.output.concentrate_pb', 'rougher.output.tail_au', 'rougher.output.concentrate_sol', 'final.output.tail_sol', 'secondary_cleaner.output.tail_ag', 'rougher.output.tail_sol', 'final.output.concentrate_sol', 'final.output.tail_pb', 'rougher.calculation.sulfate_to_au_concentrate', 'final.output.tail_au', 'primary_cleaner.output.tail_sol']\n",
      "34\n"
     ]
    }
   ],
   "source": [
    "not_in_test_list = list(set(df_origin.columns) ^ set(df_test.columns))\n",
    "print(not_in_test_list)\n",
    "print(len(not_in_test_list))"
   ]
  },
  {
   "cell_type": "markdown",
   "metadata": {},
   "source": [
    "В тестовую выборку не вошли целевые признаки. Кроме того, в данных нет признаков, которые вероятно были недоступны на этапе производства. Так как этих данных нет в тестовой выборке, они не помогут нам в обучении модели. Поэтому перед обучением данные признаки будут удалены."
   ]
  },
  {
   "cell_type": "code",
   "execution_count": 21,
   "metadata": {},
   "outputs": [],
   "source": [
    "not_in_test_list.remove('rougher.output.recovery')"
   ]
  },
  {
   "cell_type": "code",
   "execution_count": 22,
   "metadata": {},
   "outputs": [],
   "source": [
    "not_in_test_list.remove('final.output.recovery')"
   ]
  },
  {
   "cell_type": "markdown",
   "metadata": {},
   "source": [
    "### Предобработка данных"
   ]
  },
  {
   "cell_type": "markdown",
   "metadata": {},
   "source": [
    "Для быстрой предобработки создадим список из датафреймов"
   ]
  },
  {
   "cell_type": "code",
   "execution_count": 23,
   "metadata": {},
   "outputs": [],
   "source": [
    "list_of_dfs = [df_train, df_test, df_origin]\n",
    "list_of_df_names = ['df_train', 'df_test', 'df_origin']\n",
    "list_of_raw_df_names = [df_train_raw, df_test_raw, df_origin_raw]"
   ]
  },
  {
   "cell_type": "markdown",
   "metadata": {},
   "source": [
    "#### Поиск дубликатов"
   ]
  },
  {
   "cell_type": "code",
   "execution_count": 24,
   "metadata": {},
   "outputs": [
    {
     "name": "stdout",
     "output_type": "stream",
     "text": [
      "df_train\n",
      "0\n",
      "\n",
      "df_test\n",
      "0\n",
      "\n",
      "df_origin\n",
      "0\n",
      "\n"
     ]
    }
   ],
   "source": [
    "COUNTER = 0\n",
    "for i in list_of_dfs:\n",
    "    print(list_of_df_names[COUNTER])\n",
    "    print(i.duplicated().sum())\n",
    "    print()\n",
    "    COUNTER += 1"
   ]
  },
  {
   "cell_type": "markdown",
   "metadata": {},
   "source": [
    "Дубликатов не обнаружено."
   ]
  },
  {
   "cell_type": "markdown",
   "metadata": {},
   "source": [
    "#### Работа с пропусками"
   ]
  },
  {
   "cell_type": "code",
   "execution_count": 25,
   "metadata": {
    "scrolled": true
   },
   "outputs": [
    {
     "name": "stdout",
     "output_type": "stream",
     "text": [
      "df_train\n"
     ]
    },
    {
     "data": {
      "text/html": [
       "<div>\n",
       "<style scoped>\n",
       "    .dataframe tbody tr th:only-of-type {\n",
       "        vertical-align: middle;\n",
       "    }\n",
       "\n",
       "    .dataframe tbody tr th {\n",
       "        vertical-align: top;\n",
       "    }\n",
       "\n",
       "    .dataframe thead th {\n",
       "        text-align: right;\n",
       "    }\n",
       "</style>\n",
       "<table border=\"1\" class=\"dataframe\">\n",
       "  <thead>\n",
       "    <tr style=\"text-align: right;\">\n",
       "      <th></th>\n",
       "      <th>missing_values</th>\n",
       "      <th>% of total</th>\n",
       "    </tr>\n",
       "  </thead>\n",
       "  <tbody>\n",
       "    <tr>\n",
       "      <td>rougher.output.recovery</td>\n",
       "      <td>2573</td>\n",
       "      <td>0.15</td>\n",
       "    </tr>\n",
       "    <tr>\n",
       "      <td>rougher.output.tail_ag</td>\n",
       "      <td>2250</td>\n",
       "      <td>0.13</td>\n",
       "    </tr>\n",
       "    <tr>\n",
       "      <td>rougher.output.tail_sol</td>\n",
       "      <td>2249</td>\n",
       "      <td>0.13</td>\n",
       "    </tr>\n",
       "    <tr>\n",
       "      <td>rougher.output.tail_au</td>\n",
       "      <td>2249</td>\n",
       "      <td>0.13</td>\n",
       "    </tr>\n",
       "    <tr>\n",
       "      <td>secondary_cleaner.output.tail_sol</td>\n",
       "      <td>1986</td>\n",
       "      <td>0.12</td>\n",
       "    </tr>\n",
       "    <tr>\n",
       "      <td>rougher.input.floatbank11_xanthate</td>\n",
       "      <td>1904</td>\n",
       "      <td>0.11</td>\n",
       "    </tr>\n",
       "    <tr>\n",
       "      <td>final.output.recovery</td>\n",
       "      <td>1521</td>\n",
       "      <td>0.09</td>\n",
       "    </tr>\n",
       "    <tr>\n",
       "      <td>primary_cleaner.input.sulfate</td>\n",
       "      <td>1307</td>\n",
       "      <td>0.08</td>\n",
       "    </tr>\n",
       "    <tr>\n",
       "      <td>primary_cleaner.input.depressant</td>\n",
       "      <td>1262</td>\n",
       "      <td>0.07</td>\n",
       "    </tr>\n",
       "    <tr>\n",
       "      <td>rougher.calculation.au_pb_ratio</td>\n",
       "      <td>1242</td>\n",
       "      <td>0.07</td>\n",
       "    </tr>\n",
       "  </tbody>\n",
       "</table>\n",
       "</div>"
      ],
      "text/plain": [
       "                                    missing_values  % of total\n",
       "rougher.output.recovery                       2573        0.15\n",
       "rougher.output.tail_ag                        2250        0.13\n",
       "rougher.output.tail_sol                       2249        0.13\n",
       "rougher.output.tail_au                        2249        0.13\n",
       "secondary_cleaner.output.tail_sol             1986        0.12\n",
       "rougher.input.floatbank11_xanthate            1904        0.11\n",
       "final.output.recovery                         1521        0.09\n",
       "primary_cleaner.input.sulfate                 1307        0.08\n",
       "primary_cleaner.input.depressant              1262        0.07\n",
       "rougher.calculation.au_pb_ratio               1242        0.07"
      ]
     },
     "metadata": {},
     "output_type": "display_data"
    },
    {
     "name": "stdout",
     "output_type": "stream",
     "text": [
      "\n",
      "df_test\n"
     ]
    },
    {
     "data": {
      "text/html": [
       "<div>\n",
       "<style scoped>\n",
       "    .dataframe tbody tr th:only-of-type {\n",
       "        vertical-align: middle;\n",
       "    }\n",
       "\n",
       "    .dataframe tbody tr th {\n",
       "        vertical-align: top;\n",
       "    }\n",
       "\n",
       "    .dataframe thead th {\n",
       "        text-align: right;\n",
       "    }\n",
       "</style>\n",
       "<table border=\"1\" class=\"dataframe\">\n",
       "  <thead>\n",
       "    <tr style=\"text-align: right;\">\n",
       "      <th></th>\n",
       "      <th>missing_values</th>\n",
       "      <th>% of total</th>\n",
       "    </tr>\n",
       "  </thead>\n",
       "  <tbody>\n",
       "    <tr>\n",
       "      <td>rougher.input.floatbank11_xanthate</td>\n",
       "      <td>353</td>\n",
       "      <td>0.06</td>\n",
       "    </tr>\n",
       "    <tr>\n",
       "      <td>primary_cleaner.input.sulfate</td>\n",
       "      <td>302</td>\n",
       "      <td>0.05</td>\n",
       "    </tr>\n",
       "    <tr>\n",
       "      <td>primary_cleaner.input.depressant</td>\n",
       "      <td>284</td>\n",
       "      <td>0.05</td>\n",
       "    </tr>\n",
       "    <tr>\n",
       "      <td>rougher.input.floatbank10_sulfate</td>\n",
       "      <td>257</td>\n",
       "      <td>0.04</td>\n",
       "    </tr>\n",
       "    <tr>\n",
       "      <td>primary_cleaner.input.xanthate</td>\n",
       "      <td>166</td>\n",
       "      <td>0.03</td>\n",
       "    </tr>\n",
       "    <tr>\n",
       "      <td>rougher.input.floatbank10_xanthate</td>\n",
       "      <td>123</td>\n",
       "      <td>0.02</td>\n",
       "    </tr>\n",
       "    <tr>\n",
       "      <td>rougher.input.feed_sol</td>\n",
       "      <td>67</td>\n",
       "      <td>0.01</td>\n",
       "    </tr>\n",
       "    <tr>\n",
       "      <td>rougher.input.floatbank11_sulfate</td>\n",
       "      <td>55</td>\n",
       "      <td>0.01</td>\n",
       "    </tr>\n",
       "    <tr>\n",
       "      <td>rougher.input.feed_rate</td>\n",
       "      <td>40</td>\n",
       "      <td>0.01</td>\n",
       "    </tr>\n",
       "    <tr>\n",
       "      <td>secondary_cleaner.state.floatbank3_a_air</td>\n",
       "      <td>34</td>\n",
       "      <td>0.01</td>\n",
       "    </tr>\n",
       "  </tbody>\n",
       "</table>\n",
       "</div>"
      ],
      "text/plain": [
       "                                          missing_values  % of total\n",
       "rougher.input.floatbank11_xanthate                   353        0.06\n",
       "primary_cleaner.input.sulfate                        302        0.05\n",
       "primary_cleaner.input.depressant                     284        0.05\n",
       "rougher.input.floatbank10_sulfate                    257        0.04\n",
       "primary_cleaner.input.xanthate                       166        0.03\n",
       "rougher.input.floatbank10_xanthate                   123        0.02\n",
       "rougher.input.feed_sol                                67        0.01\n",
       "rougher.input.floatbank11_sulfate                     55        0.01\n",
       "rougher.input.feed_rate                               40        0.01\n",
       "secondary_cleaner.state.floatbank3_a_air              34        0.01"
      ]
     },
     "metadata": {},
     "output_type": "display_data"
    },
    {
     "name": "stdout",
     "output_type": "stream",
     "text": [
      "\n",
      "df_origin\n"
     ]
    },
    {
     "data": {
      "text/html": [
       "<div>\n",
       "<style scoped>\n",
       "    .dataframe tbody tr th:only-of-type {\n",
       "        vertical-align: middle;\n",
       "    }\n",
       "\n",
       "    .dataframe tbody tr th {\n",
       "        vertical-align: top;\n",
       "    }\n",
       "\n",
       "    .dataframe thead th {\n",
       "        text-align: right;\n",
       "    }\n",
       "</style>\n",
       "<table border=\"1\" class=\"dataframe\">\n",
       "  <thead>\n",
       "    <tr style=\"text-align: right;\">\n",
       "      <th></th>\n",
       "      <th>missing_values</th>\n",
       "      <th>% of total</th>\n",
       "    </tr>\n",
       "  </thead>\n",
       "  <tbody>\n",
       "    <tr>\n",
       "      <td>rougher.output.recovery</td>\n",
       "      <td>3119</td>\n",
       "      <td>0.14</td>\n",
       "    </tr>\n",
       "    <tr>\n",
       "      <td>rougher.output.tail_ag</td>\n",
       "      <td>2737</td>\n",
       "      <td>0.12</td>\n",
       "    </tr>\n",
       "    <tr>\n",
       "      <td>rougher.output.tail_au</td>\n",
       "      <td>2736</td>\n",
       "      <td>0.12</td>\n",
       "    </tr>\n",
       "    <tr>\n",
       "      <td>rougher.output.tail_sol</td>\n",
       "      <td>2736</td>\n",
       "      <td>0.12</td>\n",
       "    </tr>\n",
       "    <tr>\n",
       "      <td>rougher.input.floatbank11_xanthate</td>\n",
       "      <td>2257</td>\n",
       "      <td>0.10</td>\n",
       "    </tr>\n",
       "    <tr>\n",
       "      <td>secondary_cleaner.output.tail_sol</td>\n",
       "      <td>2215</td>\n",
       "      <td>0.10</td>\n",
       "    </tr>\n",
       "    <tr>\n",
       "      <td>final.output.recovery</td>\n",
       "      <td>1963</td>\n",
       "      <td>0.09</td>\n",
       "    </tr>\n",
       "    <tr>\n",
       "      <td>rougher.calculation.au_pb_ratio</td>\n",
       "      <td>1627</td>\n",
       "      <td>0.07</td>\n",
       "    </tr>\n",
       "    <tr>\n",
       "      <td>primary_cleaner.input.sulfate</td>\n",
       "      <td>1609</td>\n",
       "      <td>0.07</td>\n",
       "    </tr>\n",
       "    <tr>\n",
       "      <td>primary_cleaner.input.depressant</td>\n",
       "      <td>1546</td>\n",
       "      <td>0.07</td>\n",
       "    </tr>\n",
       "  </tbody>\n",
       "</table>\n",
       "</div>"
      ],
      "text/plain": [
       "                                    missing_values  % of total\n",
       "rougher.output.recovery                       3119        0.14\n",
       "rougher.output.tail_ag                        2737        0.12\n",
       "rougher.output.tail_au                        2736        0.12\n",
       "rougher.output.tail_sol                       2736        0.12\n",
       "rougher.input.floatbank11_xanthate            2257        0.10\n",
       "secondary_cleaner.output.tail_sol             2215        0.10\n",
       "final.output.recovery                         1963        0.09\n",
       "rougher.calculation.au_pb_ratio               1627        0.07\n",
       "primary_cleaner.input.sulfate                 1609        0.07\n",
       "primary_cleaner.input.depressant              1546        0.07"
      ]
     },
     "metadata": {},
     "output_type": "display_data"
    },
    {
     "name": "stdout",
     "output_type": "stream",
     "text": [
      "\n"
     ]
    }
   ],
   "source": [
    "COUNTER = 0\n",
    "for i in list_of_dfs:\n",
    "    print(list_of_df_names[COUNTER])\n",
    "    report = i.isna().sum().to_frame()\n",
    "    report = report.rename(columns={0: 'missing_values'})\n",
    "    report['% of total'] = (report['missing_values'] / i.shape[0]).round(2)\n",
    "    report = report.sort_values(by='missing_values', ascending=False)\n",
    "    display(report.head(10))\n",
    "    print()\n",
    "    COUNTER += 1"
   ]
  },
  {
   "cell_type": "markdown",
   "metadata": {},
   "source": [
    "Максимальная доля пропусков прослеживается в df_train и df_origin и касаются они целевых признаков. Данные без целевых признаков не имеют для нас пользы, поэтому будем поэтапно избавлять от таких пропусков."
   ]
  },
  {
   "cell_type": "code",
   "execution_count": 26,
   "metadata": {
    "scrolled": true
   },
   "outputs": [
    {
     "name": "stdout",
     "output_type": "stream",
     "text": [
      "df_train\n"
     ]
    },
    {
     "data": {
      "text/html": [
       "<div>\n",
       "<style scoped>\n",
       "    .dataframe tbody tr th:only-of-type {\n",
       "        vertical-align: middle;\n",
       "    }\n",
       "\n",
       "    .dataframe tbody tr th {\n",
       "        vertical-align: top;\n",
       "    }\n",
       "\n",
       "    .dataframe thead th {\n",
       "        text-align: right;\n",
       "    }\n",
       "</style>\n",
       "<table border=\"1\" class=\"dataframe\">\n",
       "  <thead>\n",
       "    <tr style=\"text-align: right;\">\n",
       "      <th></th>\n",
       "      <th>missing_values</th>\n",
       "      <th>% of total</th>\n",
       "    </tr>\n",
       "  </thead>\n",
       "  <tbody>\n",
       "    <tr>\n",
       "      <td>secondary_cleaner.output.tail_sol</td>\n",
       "      <td>1654</td>\n",
       "      <td>0.12</td>\n",
       "    </tr>\n",
       "    <tr>\n",
       "      <td>rougher.state.floatbank10_e_air</td>\n",
       "      <td>438</td>\n",
       "      <td>0.03</td>\n",
       "    </tr>\n",
       "    <tr>\n",
       "      <td>rougher.input.floatbank11_xanthate</td>\n",
       "      <td>434</td>\n",
       "      <td>0.03</td>\n",
       "    </tr>\n",
       "    <tr>\n",
       "      <td>primary_cleaner.output.concentrate_sol</td>\n",
       "      <td>338</td>\n",
       "      <td>0.02</td>\n",
       "    </tr>\n",
       "    <tr>\n",
       "      <td>final.output.concentrate_sol</td>\n",
       "      <td>232</td>\n",
       "      <td>0.02</td>\n",
       "    </tr>\n",
       "    <tr>\n",
       "      <td>secondary_cleaner.state.floatbank2_a_air</td>\n",
       "      <td>219</td>\n",
       "      <td>0.02</td>\n",
       "    </tr>\n",
       "    <tr>\n",
       "      <td>rougher.input.feed_size</td>\n",
       "      <td>149</td>\n",
       "      <td>0.01</td>\n",
       "    </tr>\n",
       "    <tr>\n",
       "      <td>final.output.recovery</td>\n",
       "      <td>138</td>\n",
       "      <td>0.01</td>\n",
       "    </tr>\n",
       "    <tr>\n",
       "      <td>rougher.input.feed_pb</td>\n",
       "      <td>123</td>\n",
       "      <td>0.01</td>\n",
       "    </tr>\n",
       "    <tr>\n",
       "      <td>primary_cleaner.output.concentrate_pb</td>\n",
       "      <td>123</td>\n",
       "      <td>0.01</td>\n",
       "    </tr>\n",
       "  </tbody>\n",
       "</table>\n",
       "</div>"
      ],
      "text/plain": [
       "                                          missing_values  % of total\n",
       "secondary_cleaner.output.tail_sol                   1654        0.12\n",
       "rougher.state.floatbank10_e_air                      438        0.03\n",
       "rougher.input.floatbank11_xanthate                   434        0.03\n",
       "primary_cleaner.output.concentrate_sol               338        0.02\n",
       "final.output.concentrate_sol                         232        0.02\n",
       "secondary_cleaner.state.floatbank2_a_air             219        0.02\n",
       "rougher.input.feed_size                              149        0.01\n",
       "final.output.recovery                                138        0.01\n",
       "rougher.input.feed_pb                                123        0.01\n",
       "primary_cleaner.output.concentrate_pb                123        0.01"
      ]
     },
     "metadata": {},
     "output_type": "display_data"
    },
    {
     "name": "stdout",
     "output_type": "stream",
     "text": [
      "\n",
      "df_test\n"
     ]
    },
    {
     "data": {
      "text/html": [
       "<div>\n",
       "<style scoped>\n",
       "    .dataframe tbody tr th:only-of-type {\n",
       "        vertical-align: middle;\n",
       "    }\n",
       "\n",
       "    .dataframe tbody tr th {\n",
       "        vertical-align: top;\n",
       "    }\n",
       "\n",
       "    .dataframe thead th {\n",
       "        text-align: right;\n",
       "    }\n",
       "</style>\n",
       "<table border=\"1\" class=\"dataframe\">\n",
       "  <thead>\n",
       "    <tr style=\"text-align: right;\">\n",
       "      <th></th>\n",
       "      <th>missing_values</th>\n",
       "      <th>% of total</th>\n",
       "    </tr>\n",
       "  </thead>\n",
       "  <tbody>\n",
       "    <tr>\n",
       "      <td>rougher.input.floatbank11_xanthate</td>\n",
       "      <td>353</td>\n",
       "      <td>0.06</td>\n",
       "    </tr>\n",
       "    <tr>\n",
       "      <td>primary_cleaner.input.sulfate</td>\n",
       "      <td>302</td>\n",
       "      <td>0.05</td>\n",
       "    </tr>\n",
       "    <tr>\n",
       "      <td>primary_cleaner.input.depressant</td>\n",
       "      <td>284</td>\n",
       "      <td>0.05</td>\n",
       "    </tr>\n",
       "    <tr>\n",
       "      <td>rougher.input.floatbank10_sulfate</td>\n",
       "      <td>257</td>\n",
       "      <td>0.04</td>\n",
       "    </tr>\n",
       "    <tr>\n",
       "      <td>primary_cleaner.input.xanthate</td>\n",
       "      <td>166</td>\n",
       "      <td>0.03</td>\n",
       "    </tr>\n",
       "    <tr>\n",
       "      <td>rougher.input.floatbank10_xanthate</td>\n",
       "      <td>123</td>\n",
       "      <td>0.02</td>\n",
       "    </tr>\n",
       "    <tr>\n",
       "      <td>rougher.input.feed_sol</td>\n",
       "      <td>67</td>\n",
       "      <td>0.01</td>\n",
       "    </tr>\n",
       "    <tr>\n",
       "      <td>rougher.input.floatbank11_sulfate</td>\n",
       "      <td>55</td>\n",
       "      <td>0.01</td>\n",
       "    </tr>\n",
       "    <tr>\n",
       "      <td>rougher.input.feed_rate</td>\n",
       "      <td>40</td>\n",
       "      <td>0.01</td>\n",
       "    </tr>\n",
       "    <tr>\n",
       "      <td>secondary_cleaner.state.floatbank3_a_air</td>\n",
       "      <td>34</td>\n",
       "      <td>0.01</td>\n",
       "    </tr>\n",
       "  </tbody>\n",
       "</table>\n",
       "</div>"
      ],
      "text/plain": [
       "                                          missing_values  % of total\n",
       "rougher.input.floatbank11_xanthate                   353        0.06\n",
       "primary_cleaner.input.sulfate                        302        0.05\n",
       "primary_cleaner.input.depressant                     284        0.05\n",
       "rougher.input.floatbank10_sulfate                    257        0.04\n",
       "primary_cleaner.input.xanthate                       166        0.03\n",
       "rougher.input.floatbank10_xanthate                   123        0.02\n",
       "rougher.input.feed_sol                                67        0.01\n",
       "rougher.input.floatbank11_sulfate                     55        0.01\n",
       "rougher.input.feed_rate                               40        0.01\n",
       "secondary_cleaner.state.floatbank3_a_air              34        0.01"
      ]
     },
     "metadata": {},
     "output_type": "display_data"
    },
    {
     "name": "stdout",
     "output_type": "stream",
     "text": [
      "\n",
      "df_origin\n"
     ]
    },
    {
     "data": {
      "text/html": [
       "<div>\n",
       "<style scoped>\n",
       "    .dataframe tbody tr th:only-of-type {\n",
       "        vertical-align: middle;\n",
       "    }\n",
       "\n",
       "    .dataframe tbody tr th {\n",
       "        vertical-align: top;\n",
       "    }\n",
       "\n",
       "    .dataframe thead th {\n",
       "        text-align: right;\n",
       "    }\n",
       "</style>\n",
       "<table border=\"1\" class=\"dataframe\">\n",
       "  <thead>\n",
       "    <tr style=\"text-align: right;\">\n",
       "      <th></th>\n",
       "      <th>missing_values</th>\n",
       "      <th>% of total</th>\n",
       "    </tr>\n",
       "  </thead>\n",
       "  <tbody>\n",
       "    <tr>\n",
       "      <td>secondary_cleaner.output.tail_sol</td>\n",
       "      <td>1805</td>\n",
       "      <td>0.09</td>\n",
       "    </tr>\n",
       "    <tr>\n",
       "      <td>rougher.input.floatbank11_xanthate</td>\n",
       "      <td>460</td>\n",
       "      <td>0.02</td>\n",
       "    </tr>\n",
       "    <tr>\n",
       "      <td>rougher.state.floatbank10_e_air</td>\n",
       "      <td>438</td>\n",
       "      <td>0.02</td>\n",
       "    </tr>\n",
       "    <tr>\n",
       "      <td>primary_cleaner.output.concentrate_sol</td>\n",
       "      <td>431</td>\n",
       "      <td>0.02</td>\n",
       "    </tr>\n",
       "    <tr>\n",
       "      <td>final.output.concentrate_sol</td>\n",
       "      <td>232</td>\n",
       "      <td>0.01</td>\n",
       "    </tr>\n",
       "    <tr>\n",
       "      <td>secondary_cleaner.state.floatbank2_a_air</td>\n",
       "      <td>222</td>\n",
       "      <td>0.01</td>\n",
       "    </tr>\n",
       "    <tr>\n",
       "      <td>primary_cleaner.output.concentrate_pb</td>\n",
       "      <td>161</td>\n",
       "      <td>0.01</td>\n",
       "    </tr>\n",
       "    <tr>\n",
       "      <td>final.output.recovery</td>\n",
       "      <td>158</td>\n",
       "      <td>0.01</td>\n",
       "    </tr>\n",
       "    <tr>\n",
       "      <td>rougher.input.feed_size</td>\n",
       "      <td>150</td>\n",
       "      <td>0.01</td>\n",
       "    </tr>\n",
       "    <tr>\n",
       "      <td>rougher.input.feed_pb</td>\n",
       "      <td>123</td>\n",
       "      <td>0.01</td>\n",
       "    </tr>\n",
       "  </tbody>\n",
       "</table>\n",
       "</div>"
      ],
      "text/plain": [
       "                                          missing_values  % of total\n",
       "secondary_cleaner.output.tail_sol                   1805        0.09\n",
       "rougher.input.floatbank11_xanthate                   460        0.02\n",
       "rougher.state.floatbank10_e_air                      438        0.02\n",
       "primary_cleaner.output.concentrate_sol               431        0.02\n",
       "final.output.concentrate_sol                         232        0.01\n",
       "secondary_cleaner.state.floatbank2_a_air             222        0.01\n",
       "primary_cleaner.output.concentrate_pb                161        0.01\n",
       "final.output.recovery                                158        0.01\n",
       "rougher.input.feed_size                              150        0.01\n",
       "rougher.input.feed_pb                                123        0.01"
      ]
     },
     "metadata": {},
     "output_type": "display_data"
    },
    {
     "name": "stdout",
     "output_type": "stream",
     "text": [
      "\n"
     ]
    }
   ],
   "source": [
    "COUNTER = 0\n",
    "for i in list_of_dfs:\n",
    "    if 'rougher.output.recovery' in i.columns:\n",
    "        i.dropna(subset=['rougher.output.recovery'], inplace=True)\n",
    "    print(list_of_df_names[COUNTER])\n",
    "    report = i.isna().sum().to_frame()\n",
    "    report = report.rename(columns={0: 'missing_values'})\n",
    "    report['% of total'] = (report['missing_values'] / i.shape[0]).round(2)\n",
    "    report = report.sort_values(by='missing_values', ascending=False)\n",
    "    display(report.head(10))\n",
    "    print()\n",
    "    COUNTER += 1"
   ]
  },
  {
   "cell_type": "markdown",
   "metadata": {},
   "source": [
    "Мы удалили строки с пропусками, которые не несут для нас полезной информации. Дальше у нас два варианта стратегии: удалить все оставшиеся строки с пропусками или попытаться их заполнить. Поскольку оптимальных вариантов заполнения пропусков с точки зрения \"рост качества модели/рост потраченного время на проект\", попробуем удалить пропуски."
   ]
  },
  {
   "cell_type": "code",
   "execution_count": 27,
   "metadata": {},
   "outputs": [
    {
     "name": "stdout",
     "output_type": "stream",
     "text": [
      "df_train\n",
      "Исходное число строк: 16860\n",
      "Новое число строк: 11017\n",
      "Доля сохранившихся строк от изначального объема: 0.6534400948991697\n",
      "\n",
      "df_test\n",
      "Исходное число строк: 5856\n",
      "Новое число строк: 5383\n",
      "Доля сохранившихся строк от изначального объема: 0.9192281420765027\n",
      "\n",
      "df_origin\n",
      "Исходное число строк: 22716\n",
      "Новое число строк: 16094\n",
      "Доля сохранившихся строк от изначального объема: 0.7084874097552386\n",
      "\n"
     ]
    }
   ],
   "source": [
    "COUNTER = 0\n",
    "for i in list_of_dfs:\n",
    "    i.dropna(inplace=True)\n",
    "    print(list_of_df_names[COUNTER])\n",
    "    print('Исходное число строк:', len(list_of_raw_df_names[COUNTER]))\n",
    "    print('Новое число строк:', len(i))\n",
    "    print('Доля сохранившихся строк от изначального объема:',\n",
    "          len(i)/len(list_of_raw_df_names[COUNTER]))\n",
    "    COUNTER += 1\n",
    "    print()"
   ]
  },
  {
   "cell_type": "markdown",
   "metadata": {},
   "source": [
    "## Анализ данных"
   ]
  },
  {
   "cell_type": "markdown",
   "metadata": {},
   "source": [
    "### Изменение концентрации металлов (Au, Ag, Pb) на различных этапах очистки"
   ]
  },
  {
   "cell_type": "code",
   "execution_count": 28,
   "metadata": {},
   "outputs": [],
   "source": [
    "metal_list = {'Золото': ['rougher.input.feed_au',\n",
    "                         'rougher.output.concentrate_au',\n",
    "                         'primary_cleaner.output.concentrate_au',\n",
    "                         'final.output.concentrate_au'],\n",
    "              'Серебро': ['rougher.input.feed_ag',\n",
    "                          'rougher.output.concentrate_ag',\n",
    "                          'primary_cleaner.output.concentrate_ag',\n",
    "                          'final.output.concentrate_ag'],\n",
    "              'Свинец': ['rougher.input.feed_pb',\n",
    "                         'rougher.output.concentrate_pb',\n",
    "                         'primary_cleaner.output.concentrate_pb',\n",
    "                         'final.output.concentrate_pb']}"
   ]
  },
  {
   "cell_type": "code",
   "execution_count": 29,
   "metadata": {},
   "outputs": [
    {
     "data": {
      "image/png": "[encoded data removed]",
      "text/plain": [
       "<Figure size 1080x360 with 1 Axes>"
      ]
     },
     "metadata": {
      "needs_background": "light"
     },
     "output_type": "display_data"
    },
    {
     "data": {
      "image/png": "[encoded data removed]",
      "text/plain": [
       "<Figure size 1080x360 with 1 Axes>"
      ]
     },
     "metadata": {
      "needs_background": "light"
     },
     "output_type": "display_data"
    },
    {
     "data": {
      "image/png": "[encoded data removed]",
      "text/plain": [
       "<Figure size 1080x360 with 1 Axes>"
      ]
     },
     "metadata": {
      "needs_background": "light"
     },
     "output_type": "display_data"
    }
   ],
   "source": [
    "for metal in metal_list:\n",
    "    fig, ax = plt.subplots(figsize=(15, 5))\n",
    "    plt.hist(df_origin[metal_list[metal][0]], alpha=0.3,\n",
    "             bins=40, label='Сырье', color='g')\n",
    "    plt.hist(df_origin[metal_list[metal][1]], alpha=0.3,\n",
    "             bins=40, label='Флотация', color='r')\n",
    "    plt.hist(df_origin[metal_list[metal][2]], alpha=0.3,\n",
    "             bins=40, label='Первичная очистка', color='y')\n",
    "    plt.hist(df_origin[metal_list[metal][3]], alpha=0.3,\n",
    "             bins=40, label='Вторичная очистка', color='indigo')\n",
    "    plt.legend(loc='upper right')\n",
    "    plt.title(metal)\n",
    "    plt.xlabel('Концентрация')\n",
    "\n",
    "    plt.show()"
   ]
  },
  {
   "cell_type": "markdown",
   "metadata": {},
   "source": [
    "Мы можем видеть, что концентрация золота с каждым следующим этапом очистки увеличивается. А вот в случае серебра и свинца однозначных тенденций не наблюдается. Также мы можем наблюдать сильные выбросы с нулевой концетрацей. "
   ]
  },
  {
   "cell_type": "markdown",
   "metadata": {},
   "source": [
    "### Сравнение распределения размеров гранул сырья на обучающей и тестовой выборках"
   ]
  },
  {
   "cell_type": "code",
   "execution_count": 30,
   "metadata": {
    "scrolled": false
   },
   "outputs": [
    {
     "data": {
      "image/png": "[encoded data removed]",
      "text/plain": [
       "<Figure size 1080x360 with 1 Axes>"
      ]
     },
     "metadata": {
      "needs_background": "light"
     },
     "output_type": "display_data"
    }
   ],
   "source": [
    "fig, ax = plt.subplots(figsize=(15, 5))\n",
    "ax.set_xlim(20, 125)\n",
    "plt.hist(df_train['rougher.input.feed_size'],  bins=200,\n",
    "         alpha=0.3, density=True, label='Обучающая выборка')\n",
    "plt.hist(df_test['rougher.input.feed_size'], bins=200,\n",
    "         alpha=0.3, density=True, label='Тестовая выборка')\n",
    "plt.legend(loc='upper right')\n",
    "plt.show()"
   ]
  },
  {
   "cell_type": "code",
   "execution_count": 31,
   "metadata": {
    "scrolled": true
   },
   "outputs": [
    {
     "data": {
      "text/html": [
       "<div>\n",
       "<style scoped>\n",
       "    .dataframe tbody tr th:only-of-type {\n",
       "        vertical-align: middle;\n",
       "    }\n",
       "\n",
       "    .dataframe tbody tr th {\n",
       "        vertical-align: top;\n",
       "    }\n",
       "\n",
       "    .dataframe thead th {\n",
       "        text-align: right;\n",
       "    }\n",
       "</style>\n",
       "<table border=\"1\" class=\"dataframe\">\n",
       "  <thead>\n",
       "    <tr style=\"text-align: right;\">\n",
       "      <th></th>\n",
       "      <th>train_feed_size</th>\n",
       "      <th>test_feed_size</th>\n",
       "    </tr>\n",
       "  </thead>\n",
       "  <tbody>\n",
       "    <tr>\n",
       "      <td>count</td>\n",
       "      <td>11017.000000</td>\n",
       "      <td>5383.000000</td>\n",
       "    </tr>\n",
       "    <tr>\n",
       "      <td>mean</td>\n",
       "      <td>57.215128</td>\n",
       "      <td>56.338644</td>\n",
       "    </tr>\n",
       "    <tr>\n",
       "      <td>std</td>\n",
       "      <td>18.913146</td>\n",
       "      <td>21.836788</td>\n",
       "    </tr>\n",
       "    <tr>\n",
       "      <td>min</td>\n",
       "      <td>9.659576</td>\n",
       "      <td>0.046369</td>\n",
       "    </tr>\n",
       "    <tr>\n",
       "      <td>25%</td>\n",
       "      <td>48.397242</td>\n",
       "      <td>43.913766</td>\n",
       "    </tr>\n",
       "    <tr>\n",
       "      <td>50%</td>\n",
       "      <td>53.843359</td>\n",
       "      <td>50.924232</td>\n",
       "    </tr>\n",
       "    <tr>\n",
       "      <td>75%</td>\n",
       "      <td>61.461770</td>\n",
       "      <td>62.364984</td>\n",
       "    </tr>\n",
       "    <tr>\n",
       "      <td>max</td>\n",
       "      <td>484.967466</td>\n",
       "      <td>477.445473</td>\n",
       "    </tr>\n",
       "  </tbody>\n",
       "</table>\n",
       "</div>"
      ],
      "text/plain": [
       "       train_feed_size  test_feed_size\n",
       "count     11017.000000     5383.000000\n",
       "mean         57.215128       56.338644\n",
       "std          18.913146       21.836788\n",
       "min           9.659576        0.046369\n",
       "25%          48.397242       43.913766\n",
       "50%          53.843359       50.924232\n",
       "75%          61.461770       62.364984\n",
       "max         484.967466      477.445473"
      ]
     },
     "metadata": {},
     "output_type": "display_data"
    }
   ],
   "source": [
    "report = df_train['rougher.input.feed_size'].describe().to_frame()\n",
    "report.columns = ['train_feed_size']\n",
    "report['test_feed_size'] = df_test['rougher.input.feed_size'].describe().to_frame()\n",
    "display(report)"
   ]
  },
  {
   "cell_type": "markdown",
   "metadata": {},
   "source": [
    "В целом можно говорить, что распределения размера гранул сырья схожи между собой. На это указывает средние значения, значения 1 и 3 квартилей. Если быть точным, то в тестовой выборке размер гранул сырья немного меньше. "
   ]
  },
  {
   "cell_type": "markdown",
   "metadata": {},
   "source": [
    "### Исследование суммарной концентрации всех веществ на разных стадиях: в сырье, в черновом и финальном концентратах."
   ]
  },
  {
   "cell_type": "code",
   "execution_count": 32,
   "metadata": {},
   "outputs": [],
   "source": [
    "df_origin['rougher.input.concentrate_sum'] = (df_origin['rougher.input.feed_au'] +\n",
    "                                              df_origin['rougher.input.feed_ag'] +\n",
    "                                              df_origin['rougher.input.feed_pb'] +\n",
    "                                              df_origin['rougher.input.feed_sol'])\n",
    "\n",
    "df_origin['rougher.output.concentrate_sum'] = (df_origin['rougher.output.concentrate_au'] +\n",
    "                                               df_origin['rougher.output.concentrate_ag'] +\n",
    "                                               df_origin['rougher.output.concentrate_pb'] +\n",
    "                                               df_origin['rougher.output.concentrate_sol'])\n",
    "\n",
    "df_origin['primary_cleaner.output.concentrate_sum'] = (df_origin['primary_cleaner.output.concentrate_au'] +\n",
    "                                                       df_origin['primary_cleaner.output.concentrate_ag'] +\n",
    "                                                       df_origin['primary_cleaner.output.concentrate_pb'] +\n",
    "                                                       df_origin['primary_cleaner.output.concentrate_sol'])\n",
    "\n",
    "df_origin['final.output.concentrate_sum'] = (df_origin['final.output.concentrate_au'] +\n",
    "                                             df_origin['final.output.concentrate_ag'] +\n",
    "                                             df_origin['final.output.concentrate_pb'] +\n",
    "                                             df_origin['final.output.concentrate_sol'])"
   ]
  },
  {
   "cell_type": "code",
   "execution_count": 33,
   "metadata": {},
   "outputs": [
    {
     "data": {
      "image/png": "[encoded data removed]",
      "text/plain": [
       "<Figure size 1080x360 with 1 Axes>"
      ]
     },
     "metadata": {
      "needs_background": "light"
     },
     "output_type": "display_data"
    }
   ],
   "source": [
    "fig, ax = plt.subplots(figsize=(15, 5))\n",
    "plt.hist(df_origin['rougher.input.concentrate_sum'],\n",
    "         alpha=0.3, bins=40, label='Сырье', color='g')\n",
    "plt.hist(df_origin['rougher.output.concentrate_sum'],\n",
    "         alpha=0.3, bins=40, label='Флотация', color='r')\n",
    "plt.hist(df_origin['primary_cleaner.output.concentrate_sum'],\n",
    "         alpha=0.3, bins=40, label='Первичная очистка', color='y')\n",
    "plt.hist(df_origin['final.output.concentrate_sum'], alpha=0.3,\n",
    "         bins=40, label='Вторичная очистка', color='indigo')\n",
    "plt.legend(loc='upper right')\n",
    "plt.xlabel('Концентрация')\n",
    "\n",
    "plt.show()"
   ]
  },
  {
   "cell_type": "markdown",
   "metadata": {},
   "source": [
    "Есть аномальные значения с нулевой концентрацией. Удалять их или нет - вопрос дискуссионный. Так как мы полагаем, что данные из реального производства, знаит такие выборосы могут появляться и модель должна уметь их обрабатывать."
   ]
  },
  {
   "cell_type": "markdown",
   "metadata": {},
   "source": [
    "## Модель"
   ]
  },
  {
   "cell_type": "markdown",
   "metadata": {},
   "source": [
    "### Функция для вычисления итоговой sMAPE"
   ]
  },
  {
   "cell_type": "markdown",
   "metadata": {},
   "source": [
    "Для решения задачи будет использована метрика качества — sMAPE (англ. Symmetric Mean Absolute Percentage Error, «симметричное среднее абсолютное процентное отклонение»)."
   ]
  },
  {
   "cell_type": "markdown",
   "metadata": {},
   "source": [
    "![jpg](https://pictures.s3.yandex.net/resources/smape_1576238825.jpg)"
   ]
  },
  {
   "cell_type": "markdown",
   "metadata": {},
   "source": [
    "<b>Обозначения</b>"
   ]
  },
  {
   "cell_type": "markdown",
   "metadata": {},
   "source": [
    "- Yi - Значение целевого признака для объекта с порядковым номером i в выборке, на которой измеряется качество.\n",
    "- Yi (с крышечкой) - Значение предсказания для объекта с порядковым номером i, например, в тестовой выборке.\n",
    "- N - Количество объектов в выборке.."
   ]
  },
  {
   "cell_type": "markdown",
   "metadata": {},
   "source": [
    "Итоговая метрика складывается из двух величин:"
   ]
  },
  {
   "cell_type": "markdown",
   "metadata": {},
   "source": [
    "![jpg](https://pictures.s3.yandex.net/resources/_smape_1576238814.jpg)"
   ]
  },
  {
   "cell_type": "code",
   "execution_count": 34,
   "metadata": {},
   "outputs": [],
   "source": [
    "def sMAPE(target, predictions):\n",
    "    y = abs(target - predictions) / \\\n",
    "        ((abs(target) + abs(predictions)) / 2) * 100\n",
    "    result = y.sum() / len(target)\n",
    "    return result"
   ]
  },
  {
   "cell_type": "code",
   "execution_count": 35,
   "metadata": {},
   "outputs": [],
   "source": [
    "def total_sMAPE(target, predictions):\n",
    "    rougher_sMAPE = sMAPE(target.iloc[:, 0], predictions[:, 0])\n",
    "    final_sMAPE = sMAPE(target.iloc[:, 1], predictions[:, 1])\n",
    "    total_sMAPE = 0.25 * rougher_sMAPE + 0.75 * final_sMAPE\n",
    "    return total_sMAPE"
   ]
  },
  {
   "cell_type": "markdown",
   "metadata": {},
   "source": [
    "Функция создана."
   ]
  },
  {
   "cell_type": "markdown",
   "metadata": {},
   "source": [
    "### Обучение моделей"
   ]
  },
  {
   "cell_type": "markdown",
   "metadata": {},
   "source": [
    "Уберем из выборок все столбцы, которых нет в тестовом датафрейме. "
   ]
  },
  {
   "cell_type": "code",
   "execution_count": 36,
   "metadata": {},
   "outputs": [],
   "source": [
    "df_origin.drop(columns=not_in_test_list, inplace=True)"
   ]
  },
  {
   "cell_type": "code",
   "execution_count": 37,
   "metadata": {},
   "outputs": [],
   "source": [
    "df_train.drop(columns=not_in_test_list, inplace=True)"
   ]
  },
  {
   "cell_type": "code",
   "execution_count": 42,
   "metadata": {},
   "outputs": [
    {
     "data": {
      "text/plain": [
       "((11017, 55), (5383, 53))"
      ]
     },
     "execution_count": 42,
     "metadata": {},
     "output_type": "execute_result"
    }
   ],
   "source": [
    "df_train.shape, df_test.shape"
   ]
  },
  {
   "cell_type": "raw",
   "metadata": {},
   "source": [
    "features_1 = df_test_1.columns.values\n",
    "features_train_1 = df_train_1[features_1].reset_index(drop=True)"
   ]
  },
  {
   "cell_type": "markdown",
   "metadata": {},
   "source": [
    "Предлагаем обучить и посмотреть две модели. Линейную регрессию и случайный лес. Дерево решений рассматриваться не будет, так как оно всегда показывает результат хуже леса. "
   ]
  },
  {
   "cell_type": "code",
   "execution_count": 38,
   "metadata": {},
   "outputs": [],
   "source": [
    "train_f = df_train.drop(\n",
    "    ['date', 'rougher.output.recovery', 'final.output.recovery'], axis=1)\n",
    "train_t = df_train[['rougher.output.recovery', 'final.output.recovery']]"
   ]
  },
  {
   "cell_type": "code",
   "execution_count": 39,
   "metadata": {},
   "outputs": [],
   "source": [
    "sMAPE_scorer = make_scorer(total_sMAPE, greater_is_better=False)"
   ]
  },
  {
   "cell_type": "markdown",
   "metadata": {},
   "source": [
    "#### Линейная регрессия"
   ]
  },
  {
   "cell_type": "code",
   "execution_count": 43,
   "metadata": {
    "scrolled": true
   },
   "outputs": [
    {
     "name": "stdout",
     "output_type": "stream",
     "text": [
      "sMAPE: 10.290896728293244\n"
     ]
    }
   ],
   "source": [
    "model = LinearRegression()\n",
    "scores = cross_val_score(model, X=train_f, y=train_t,\n",
    "                         scoring=sMAPE_scorer, cv=5)\n",
    "final_score = -scores.mean()\n",
    "print('sMAPE:', final_score)"
   ]
  },
  {
   "cell_type": "markdown",
   "metadata": {},
   "source": [
    "#### Случайный лес"
   ]
  },
  {
   "cell_type": "code",
   "execution_count": 44,
   "metadata": {
    "scrolled": true
   },
   "outputs": [
    {
     "name": "stdout",
     "output_type": "stream",
     "text": [
      "Параметры:\n",
      "{'max_depth': 6, 'n_estimators': 40}\n",
      "sMAPE:\n",
      "9.591367137952112\n"
     ]
    }
   ],
   "source": [
    "model = RandomForestRegressor(random_state=42)\n",
    "parametrs = {'n_estimators': range(40, 41, 1),\n",
    "             'max_depth': range(6, 7, 1)}\n",
    "\n",
    "grid = GridSearchCV(model, parametrs, cv=5, scoring=sMAPE_scorer)\n",
    "grid.fit(train_f, train_t)\n",
    "print('Параметры:')\n",
    "print(grid.best_params_)\n",
    "print('sMAPE:')\n",
    "print(grid.best_score_ * (-1))"
   ]
  },
  {
   "cell_type": "markdown",
   "metadata": {},
   "source": [
    "Как и ожидалось, случайный лес показал наилучшие результаты."
   ]
  },
  {
   "cell_type": "code",
   "execution_count": 48,
   "metadata": {},
   "outputs": [],
   "source": [
    "model = grid.best_estimator_"
   ]
  },
  {
   "cell_type": "markdown",
   "metadata": {},
   "source": [
    "#### Проверка модели на тестовой выборке"
   ]
  },
  {
   "cell_type": "code",
   "execution_count": 49,
   "metadata": {},
   "outputs": [],
   "source": [
    "test_f = df_test.drop('date', axis=1)\n",
    "\n",
    "test_t = df_test.merge(df_origin, on='date', how='left')[\n",
    "    ['rougher.output.recovery', 'final.output.recovery']]"
   ]
  },
  {
   "cell_type": "code",
   "execution_count": 50,
   "metadata": {},
   "outputs": [
    {
     "name": "stdout",
     "output_type": "stream",
     "text": [
      "sMAPE: 8.2001471865086\n"
     ]
    }
   ],
   "source": [
    "predictions = model.predict(test_f)\n",
    "result = total_sMAPE(test_t, predictions)\n",
    "print('sMAPE:', result)"
   ]
  },
  {
   "cell_type": "markdown",
   "metadata": {},
   "source": [
    "#### Проверка качества"
   ]
  },
  {
   "cell_type": "markdown",
   "metadata": {},
   "source": [
    "Насколько наша модель лучше, чем просто вставить среднее или медианное значение?"
   ]
  },
  {
   "cell_type": "code",
   "execution_count": 51,
   "metadata": {},
   "outputs": [
    {
     "data": {
      "text/plain": [
       "array([[85.26901313, 69.98513211],\n",
       "       [84.86943117, 69.5913012 ],\n",
       "       [83.12592111, 69.99657941],\n",
       "       ...,\n",
       "       [88.83854602, 71.18933351],\n",
       "       [89.09163322, 71.25209834],\n",
       "       [88.87280502, 71.21612773]])"
      ]
     },
     "execution_count": 51,
     "metadata": {},
     "output_type": "execute_result"
    }
   ],
   "source": [
    "predictions"
   ]
  },
  {
   "cell_type": "code",
   "execution_count": 52,
   "metadata": {},
   "outputs": [],
   "source": [
    "rougher_output_recovery_mean = df_train['rougher.output.recovery'].mean()\n",
    "final_output_recovery_mean = df_train['final.output.recovery'].mean()\n",
    "rougher_output_recovery_median = df_train['rougher.output.recovery'].median()\n",
    "final_output_recovery_median = df_train['final.output.recovery'].median()"
   ]
  },
  {
   "cell_type": "code",
   "execution_count": 55,
   "metadata": {},
   "outputs": [
    {
     "name": "stdout",
     "output_type": "stream",
     "text": [
      "sMAPE: 8.603459285716383\n"
     ]
    }
   ],
   "source": [
    "predictions_mean = np.full(\n",
    "    (len(predictions), 2), (rougher_output_recovery_mean, final_output_recovery_mean))\n",
    "dummy_result_1 = total_sMAPE(test_t, predictions_mean)\n",
    "print('sMAPE:', dummy_result_1)"
   ]
  },
  {
   "cell_type": "code",
   "execution_count": 54,
   "metadata": {},
   "outputs": [
    {
     "name": "stdout",
     "output_type": "stream",
     "text": [
      "sMAPE: 8.603459285716383\n"
     ]
    }
   ],
   "source": [
    "predictions_median = np.full(\n",
    "    (len(predictions), 2), (rougher_output_recovery_median, final_output_recovery_median))\n",
    "dummy_result_2 = total_sMAPE(test_t, predictions_mean)\n",
    "print('sMAPE:', dummy_result_2)"
   ]
  },
  {
   "cell_type": "code",
   "execution_count": 56,
   "metadata": {},
   "outputs": [
    {
     "name": "stdout",
     "output_type": "stream",
     "text": [
      "sMAPE: 8.028402505908161\n"
     ]
    }
   ],
   "source": [
    "predictions_median = np.full(\n",
    "    (len(predictions), 2), (rougher_output_recovery_median, final_output_recovery_median))\n",
    "# ВОТ ЗДЕСЬ ОПИСКА mean-median\n",
    "dummy_result_2 = total_sMAPE(test_t, predictions_median)\n",
    "print('sMAPE:', dummy_result_2)"
   ]
  },
  {
   "cell_type": "markdown",
   "metadata": {},
   "source": [
    "## Вывод"
   ]
  },
  {
   "cell_type": "markdown",
   "metadata": {},
   "source": [
    "В работе не рассмотрены технические стороны бизнеса. Модель показывает немного более качественный результат, чем если бы предсказания делались просто на основании среднего.\n",
    "Для дальнешего улучшения модели можно предпринять следующие шаги:\n",
    "- Осуществить масштабирование признаков\n",
    "- Удалить аномалии\n",
    "- Использовать более бережные подходы к удалению пропусков. "
   ]
  }
 ],
 "metadata": {
  "ExecuteTimeLog": [
   {
    "duration": 1112,
    "start_time": "2021-06-09T20:20:45.214Z"
   },
   {
    "duration": 1046,
    "start_time": "2021-06-09T20:23:59.376Z"
   },
   {
    "duration": 100,
    "start_time": "2021-06-09T20:24:36.367Z"
   },
   {
    "duration": 422,
    "start_time": "2021-06-09T20:25:45.823Z"
   },
   {
    "duration": 25,
    "start_time": "2021-06-09T20:25:54.050Z"
   },
   {
    "duration": 856,
    "start_time": "2021-06-10T22:33:53.468Z"
   },
   {
    "duration": 1031,
    "start_time": "2021-06-10T22:33:54.328Z"
   },
   {
    "duration": 24,
    "start_time": "2021-06-10T22:33:55.362Z"
   },
   {
    "duration": 384,
    "start_time": "2021-06-10T22:34:02.734Z"
   },
   {
    "duration": 276,
    "start_time": "2021-06-10T22:34:06.270Z"
   },
   {
    "duration": 310,
    "start_time": "2021-06-10T22:35:33.455Z"
   },
   {
    "duration": 297,
    "start_time": "2021-06-10T22:45:11.150Z"
   },
   {
    "duration": 19,
    "start_time": "2021-06-10T22:45:18.537Z"
   },
   {
    "duration": 26,
    "start_time": "2021-06-10T22:45:38.250Z"
   },
   {
    "duration": 19,
    "start_time": "2021-06-10T22:46:09.173Z"
   },
   {
    "duration": 104,
    "start_time": "2021-06-10T22:55:22.275Z"
   },
   {
    "duration": 95,
    "start_time": "2021-06-10T22:55:38.720Z"
   },
   {
    "duration": 781,
    "start_time": "2021-06-10T22:56:48.061Z"
   },
   {
    "duration": 287,
    "start_time": "2021-06-10T23:00:40.274Z"
   },
   {
    "duration": 27,
    "start_time": "2021-06-10T23:00:46.242Z"
   },
   {
    "duration": 91,
    "start_time": "2021-06-10T23:06:21.586Z"
   },
   {
    "duration": 92,
    "start_time": "2021-06-10T23:37:00.771Z"
   },
   {
    "duration": 3,
    "start_time": "2021-06-10T23:40:54.280Z"
   },
   {
    "duration": 447,
    "start_time": "2021-06-10T23:43:32.682Z"
   },
   {
    "duration": 19,
    "start_time": "2021-06-10T23:52:57.754Z"
   },
   {
    "duration": 21,
    "start_time": "2021-06-10T23:53:16.249Z"
   },
   {
    "duration": 22,
    "start_time": "2021-06-10T23:53:33.807Z"
   },
   {
    "duration": 574,
    "start_time": "2021-06-11T00:11:21.357Z"
   },
   {
    "duration": 4,
    "start_time": "2021-06-11T00:12:36.745Z"
   },
   {
    "duration": 691,
    "start_time": "2021-06-11T00:12:43.131Z"
   },
   {
    "duration": 383,
    "start_time": "2021-06-11T23:00:16.784Z"
   },
   {
    "duration": 1127,
    "start_time": "2021-06-11T23:00:22.574Z"
   },
   {
    "duration": 1041,
    "start_time": "2021-06-11T23:00:23.704Z"
   },
   {
    "duration": 28,
    "start_time": "2021-06-11T23:00:24.747Z"
   },
   {
    "duration": 117,
    "start_time": "2021-06-11T23:00:24.777Z"
   },
   {
    "duration": 471,
    "start_time": "2021-06-11T23:00:24.908Z"
   },
   {
    "duration": 40,
    "start_time": "2021-06-11T23:00:25.381Z"
   },
   {
    "duration": 438,
    "start_time": "2021-06-11T23:06:39.619Z"
   },
   {
    "duration": 4,
    "start_time": "2021-06-11T23:06:54.002Z"
   },
   {
    "duration": 5,
    "start_time": "2021-06-11T23:07:07.448Z"
   },
   {
    "duration": 5,
    "start_time": "2021-06-11T23:07:17.288Z"
   },
   {
    "duration": 17,
    "start_time": "2021-06-11T23:10:04.853Z"
   },
   {
    "duration": 5,
    "start_time": "2021-06-11T23:12:54.970Z"
   },
   {
    "duration": 4,
    "start_time": "2021-06-11T23:13:29.183Z"
   },
   {
    "duration": 7,
    "start_time": "2021-06-11T23:22:04.459Z"
   },
   {
    "duration": 910,
    "start_time": "2021-06-11T23:30:46.042Z"
   },
   {
    "duration": 1021,
    "start_time": "2021-06-11T23:30:46.955Z"
   },
   {
    "duration": 40,
    "start_time": "2021-06-11T23:30:47.979Z"
   },
   {
    "duration": 112,
    "start_time": "2021-06-11T23:30:48.022Z"
   },
   {
    "duration": 475,
    "start_time": "2021-06-11T23:30:48.137Z"
   },
   {
    "duration": 23,
    "start_time": "2021-06-11T23:30:48.615Z"
   },
   {
    "duration": 6,
    "start_time": "2021-06-11T23:30:48.641Z"
   },
   {
    "duration": 67,
    "start_time": "2021-06-11T23:30:48.651Z"
   },
   {
    "duration": 5,
    "start_time": "2021-06-11T23:30:48.722Z"
   },
   {
    "duration": 9,
    "start_time": "2021-06-11T23:30:48.730Z"
   },
   {
    "duration": 4,
    "start_time": "2021-06-11T23:59:34.605Z"
   },
   {
    "duration": 117,
    "start_time": "2021-06-11T23:59:36.560Z"
   },
   {
    "duration": 455,
    "start_time": "2021-06-11T23:59:45.054Z"
   },
   {
    "duration": 1487,
    "start_time": "2021-06-12T00:00:06.128Z"
   },
   {
    "duration": 1023,
    "start_time": "2021-06-12T00:00:07.617Z"
   },
   {
    "duration": 28,
    "start_time": "2021-06-12T00:00:08.643Z"
   },
   {
    "duration": 116,
    "start_time": "2021-06-12T00:00:08.674Z"
   },
   {
    "duration": 495,
    "start_time": "2021-06-12T00:00:08.792Z"
   },
   {
    "duration": 33,
    "start_time": "2021-06-12T00:00:09.289Z"
   },
   {
    "duration": 4,
    "start_time": "2021-06-12T00:00:09.325Z"
   },
   {
    "duration": 22,
    "start_time": "2021-06-12T00:00:09.334Z"
   },
   {
    "duration": 51,
    "start_time": "2021-06-12T00:00:09.359Z"
   },
   {
    "duration": 11,
    "start_time": "2021-06-12T00:00:09.413Z"
   },
   {
    "duration": 495,
    "start_time": "2021-06-12T00:00:09.426Z"
   },
   {
    "duration": 506,
    "start_time": "2021-06-12T00:00:09.417Z"
   },
   {
    "duration": 6,
    "start_time": "2021-06-12T00:02:20.036Z"
   },
   {
    "duration": 290,
    "start_time": "2021-06-12T00:02:48.607Z"
   },
   {
    "duration": 374,
    "start_time": "2021-06-12T00:07:19.448Z"
   },
   {
    "duration": 6436,
    "start_time": "2021-06-12T00:07:38.313Z"
   },
   {
    "duration": 427,
    "start_time": "2021-06-12T00:10:58.644Z"
   },
   {
    "duration": 8690,
    "start_time": "2021-06-12T00:16:31.674Z"
   },
   {
    "duration": 9,
    "start_time": "2021-06-12T00:23:21.860Z"
   },
   {
    "duration": 8515,
    "start_time": "2021-06-12T00:24:18.678Z"
   },
   {
    "duration": 14,
    "start_time": "2021-06-12T00:26:15.858Z"
   },
   {
    "duration": 14,
    "start_time": "2021-06-12T00:30:10.257Z"
   },
   {
    "duration": 112,
    "start_time": "2021-06-12T00:30:57.911Z"
   },
   {
    "duration": 217,
    "start_time": "2021-06-12T01:02:03.770Z"
   },
   {
    "duration": 128,
    "start_time": "2021-06-12T01:02:14.603Z"
   },
   {
    "duration": 5,
    "start_time": "2021-06-12T01:02:20.439Z"
   },
   {
    "duration": 138,
    "start_time": "2021-06-12T01:05:07.398Z"
   },
   {
    "duration": 11,
    "start_time": "2021-06-12T01:05:30.768Z"
   },
   {
    "duration": 11,
    "start_time": "2021-06-12T01:07:58.711Z"
   },
   {
    "duration": 6,
    "start_time": "2021-06-12T01:09:04.287Z"
   },
   {
    "duration": 15,
    "start_time": "2021-06-12T01:09:31.533Z"
   },
   {
    "duration": 5,
    "start_time": "2021-06-12T01:20:29.762Z"
   },
   {
    "duration": 5,
    "start_time": "2021-06-12T01:21:30.727Z"
   },
   {
    "duration": 383,
    "start_time": "2021-06-12T01:24:13.479Z"
   },
   {
    "duration": 4,
    "start_time": "2021-06-12T01:24:27.375Z"
   },
   {
    "duration": 10,
    "start_time": "2021-06-12T01:24:47.583Z"
   },
   {
    "duration": 5,
    "start_time": "2021-06-12T01:26:26.536Z"
   },
   {
    "duration": 1258,
    "start_time": "2021-06-12T01:27:18.165Z"
   },
   {
    "duration": 7,
    "start_time": "2021-06-12T01:27:34.438Z"
   },
   {
    "duration": 5,
    "start_time": "2021-06-12T01:27:55.630Z"
   },
   {
    "duration": 4,
    "start_time": "2021-06-12T01:28:11.466Z"
   },
   {
    "duration": 12,
    "start_time": "2021-06-12T01:30:34.858Z"
   },
   {
    "duration": 5,
    "start_time": "2021-06-12T01:30:57.131Z"
   },
   {
    "duration": 4,
    "start_time": "2021-06-12T01:30:57.790Z"
   },
   {
    "duration": 5,
    "start_time": "2021-06-12T01:30:58.441Z"
   },
   {
    "duration": 9,
    "start_time": "2021-06-12T01:30:59.959Z"
   },
   {
    "duration": 11,
    "start_time": "2021-06-12T01:31:02.003Z"
   },
   {
    "duration": 7,
    "start_time": "2021-06-12T01:31:09.837Z"
   },
   {
    "duration": 5,
    "start_time": "2021-06-12T01:31:11.152Z"
   },
   {
    "duration": 4,
    "start_time": "2021-06-12T01:31:13.601Z"
   },
   {
    "duration": 1522,
    "start_time": "2021-06-12T01:32:30.192Z"
   },
   {
    "duration": 1069,
    "start_time": "2021-06-12T01:32:31.716Z"
   },
   {
    "duration": 36,
    "start_time": "2021-06-12T01:32:32.788Z"
   },
   {
    "duration": 117,
    "start_time": "2021-06-12T01:32:32.827Z"
   },
   {
    "duration": 472,
    "start_time": "2021-06-12T01:32:32.946Z"
   },
   {
    "duration": 26,
    "start_time": "2021-06-12T01:32:33.420Z"
   },
   {
    "duration": 4,
    "start_time": "2021-06-12T01:32:33.449Z"
   },
   {
    "duration": 63,
    "start_time": "2021-06-12T01:32:33.456Z"
   },
   {
    "duration": 4,
    "start_time": "2021-06-12T01:32:33.521Z"
   },
   {
    "duration": 12,
    "start_time": "2021-06-12T01:32:33.527Z"
   },
   {
    "duration": 8,
    "start_time": "2021-06-12T01:32:33.541Z"
   },
   {
    "duration": 15,
    "start_time": "2021-06-12T01:32:33.551Z"
   },
   {
    "duration": 41,
    "start_time": "2021-06-12T01:32:33.569Z"
   },
   {
    "duration": 11,
    "start_time": "2021-06-12T01:32:33.613Z"
   },
   {
    "duration": 488,
    "start_time": "2021-06-12T01:32:33.626Z"
   },
   {
    "duration": 566,
    "start_time": "2021-06-12T01:32:33.550Z"
   },
   {
    "duration": 564,
    "start_time": "2021-06-12T01:32:33.554Z"
   },
   {
    "duration": 15,
    "start_time": "2021-06-12T01:32:59.065Z"
   },
   {
    "duration": 8,
    "start_time": "2021-06-12T01:34:23.133Z"
   },
   {
    "duration": 127,
    "start_time": "2021-06-12T01:35:30.657Z"
   },
   {
    "duration": 352,
    "start_time": "2021-06-12T01:35:38.560Z"
   },
   {
    "duration": 1253,
    "start_time": "2021-06-12T01:36:07.537Z"
   },
   {
    "duration": 8,
    "start_time": "2021-06-12T01:36:20.213Z"
   },
   {
    "duration": 6,
    "start_time": "2021-06-12T01:36:23.550Z"
   },
   {
    "duration": 5,
    "start_time": "2021-06-12T01:36:25.841Z"
   },
   {
    "duration": 4,
    "start_time": "2021-06-12T01:41:19.886Z"
   },
   {
    "duration": 5,
    "start_time": "2021-06-12T01:41:31.802Z"
   },
   {
    "duration": 4,
    "start_time": "2021-06-12T01:41:40.891Z"
   },
   {
    "duration": 5,
    "start_time": "2021-06-12T01:41:51.794Z"
   },
   {
    "duration": 6,
    "start_time": "2021-06-12T01:48:03.603Z"
   },
   {
    "duration": 1479,
    "start_time": "2021-06-12T02:14:34.232Z"
   },
   {
    "duration": 1060,
    "start_time": "2021-06-12T02:14:35.714Z"
   },
   {
    "duration": 41,
    "start_time": "2021-06-12T02:14:36.777Z"
   },
   {
    "duration": 118,
    "start_time": "2021-06-12T02:14:36.821Z"
   },
   {
    "duration": 486,
    "start_time": "2021-06-12T02:14:36.941Z"
   },
   {
    "duration": 24,
    "start_time": "2021-06-12T02:14:37.429Z"
   },
   {
    "duration": 4,
    "start_time": "2021-06-12T02:14:37.456Z"
   },
   {
    "duration": 51,
    "start_time": "2021-06-12T02:14:37.463Z"
   },
   {
    "duration": 4,
    "start_time": "2021-06-12T02:14:37.517Z"
   },
   {
    "duration": 8,
    "start_time": "2021-06-12T02:14:37.523Z"
   },
   {
    "duration": 10,
    "start_time": "2021-06-12T02:14:37.534Z"
   },
   {
    "duration": 15,
    "start_time": "2021-06-12T02:14:37.546Z"
   },
   {
    "duration": 9,
    "start_time": "2021-06-12T02:14:37.563Z"
   },
   {
    "duration": 39,
    "start_time": "2021-06-12T02:14:37.575Z"
   },
   {
    "duration": 11,
    "start_time": "2021-06-12T02:14:37.617Z"
   },
   {
    "duration": 11,
    "start_time": "2021-06-12T02:14:37.630Z"
   },
   {
    "duration": 8,
    "start_time": "2021-06-12T02:14:37.643Z"
   },
   {
    "duration": 9,
    "start_time": "2021-06-12T02:14:37.654Z"
   },
   {
    "duration": 7,
    "start_time": "2021-06-12T02:14:37.665Z"
   },
   {
    "duration": 36,
    "start_time": "2021-06-12T02:14:37.675Z"
   },
   {
    "duration": 132,
    "start_time": "2021-06-12T10:55:37.667Z"
   },
   {
    "duration": 4,
    "start_time": "2021-06-12T10:55:44.557Z"
   },
   {
    "duration": 7,
    "start_time": "2021-06-12T10:55:50.199Z"
   },
   {
    "duration": 340,
    "start_time": "2021-06-12T10:57:10.085Z"
   },
   {
    "duration": 64,
    "start_time": "2021-06-12T11:02:09.100Z"
   },
   {
    "duration": 67,
    "start_time": "2021-06-12T11:03:08.736Z"
   },
   {
    "duration": 117,
    "start_time": "2021-06-12T11:12:26.845Z"
   },
   {
    "duration": 484,
    "start_time": "2021-06-12T11:12:56.472Z"
   },
   {
    "duration": 3,
    "start_time": "2021-06-12T11:13:08.332Z"
   },
   {
    "duration": 331,
    "start_time": "2021-06-12T11:13:09.641Z"
   },
   {
    "duration": 69,
    "start_time": "2021-06-12T11:14:21.631Z"
   },
   {
    "duration": 3,
    "start_time": "2021-06-12T11:16:58.939Z"
   },
   {
    "duration": 3,
    "start_time": "2021-06-12T11:17:12.072Z"
   },
   {
    "duration": 412,
    "start_time": "2021-06-12T11:23:08.801Z"
   },
   {
    "duration": 1561,
    "start_time": "2021-06-12T11:24:19.343Z"
   },
   {
    "duration": 1021,
    "start_time": "2021-06-12T11:24:20.906Z"
   },
   {
    "duration": 26,
    "start_time": "2021-06-12T11:24:21.930Z"
   },
   {
    "duration": 111,
    "start_time": "2021-06-12T11:24:21.958Z"
   },
   {
    "duration": 487,
    "start_time": "2021-06-12T11:24:22.071Z"
   },
   {
    "duration": 25,
    "start_time": "2021-06-12T11:24:22.562Z"
   },
   {
    "duration": 5,
    "start_time": "2021-06-12T11:24:22.609Z"
   },
   {
    "duration": 22,
    "start_time": "2021-06-12T11:24:22.616Z"
   },
   {
    "duration": 4,
    "start_time": "2021-06-12T11:24:22.640Z"
   },
   {
    "duration": 11,
    "start_time": "2021-06-12T11:24:22.647Z"
   },
   {
    "duration": 18,
    "start_time": "2021-06-12T11:24:22.660Z"
   },
   {
    "duration": 28,
    "start_time": "2021-06-12T11:24:22.680Z"
   },
   {
    "duration": 23,
    "start_time": "2021-06-12T11:24:22.711Z"
   },
   {
    "duration": 10,
    "start_time": "2021-06-12T11:24:22.736Z"
   },
   {
    "duration": 12,
    "start_time": "2021-06-12T11:24:22.748Z"
   },
   {
    "duration": 9,
    "start_time": "2021-06-12T11:24:22.763Z"
   },
   {
    "duration": 36,
    "start_time": "2021-06-12T11:24:22.775Z"
   },
   {
    "duration": 7,
    "start_time": "2021-06-12T11:24:22.815Z"
   },
   {
    "duration": 6,
    "start_time": "2021-06-12T11:24:22.824Z"
   },
   {
    "duration": 12,
    "start_time": "2021-06-12T11:24:22.833Z"
   },
   {
    "duration": 18,
    "start_time": "2021-06-12T11:24:22.847Z"
   },
   {
    "duration": 380,
    "start_time": "2021-06-12T11:24:22.868Z"
   },
   {
    "duration": 84,
    "start_time": "2021-06-12T11:24:23.251Z"
   },
   {
    "duration": 482,
    "start_time": "2021-06-12T11:24:23.338Z"
   },
   {
    "duration": 1934,
    "start_time": "2021-06-12T11:26:58.351Z"
   },
   {
    "duration": 1224,
    "start_time": "2021-06-12T11:27:00.289Z"
   },
   {
    "duration": 26,
    "start_time": "2021-06-12T11:27:01.517Z"
   },
   {
    "duration": 112,
    "start_time": "2021-06-12T11:27:01.545Z"
   },
   {
    "duration": 470,
    "start_time": "2021-06-12T11:27:01.660Z"
   },
   {
    "duration": 24,
    "start_time": "2021-06-12T11:27:02.132Z"
   },
   {
    "duration": 4,
    "start_time": "2021-06-12T11:27:02.159Z"
   },
   {
    "duration": 49,
    "start_time": "2021-06-12T11:27:02.167Z"
   },
   {
    "duration": 11,
    "start_time": "2021-06-12T11:27:02.221Z"
   },
   {
    "duration": 15,
    "start_time": "2021-06-12T11:27:02.236Z"
   },
   {
    "duration": 36,
    "start_time": "2021-06-12T11:27:02.254Z"
   },
   {
    "duration": 26,
    "start_time": "2021-06-12T11:27:02.294Z"
   },
   {
    "duration": 40,
    "start_time": "2021-06-12T11:27:02.322Z"
   },
   {
    "duration": 30,
    "start_time": "2021-06-12T11:27:02.365Z"
   },
   {
    "duration": 53,
    "start_time": "2021-06-12T11:27:02.397Z"
   },
   {
    "duration": 12,
    "start_time": "2021-06-12T11:27:02.453Z"
   },
   {
    "duration": 15,
    "start_time": "2021-06-12T11:27:02.468Z"
   },
   {
    "duration": 28,
    "start_time": "2021-06-12T11:27:02.485Z"
   },
   {
    "duration": 14,
    "start_time": "2021-06-12T11:27:02.515Z"
   },
   {
    "duration": 15,
    "start_time": "2021-06-12T11:27:02.532Z"
   },
   {
    "duration": 21,
    "start_time": "2021-06-12T11:27:02.549Z"
   },
   {
    "duration": 343,
    "start_time": "2021-06-12T11:27:02.572Z"
   },
   {
    "duration": 92,
    "start_time": "2021-06-12T11:27:02.919Z"
   },
   {
    "duration": 627,
    "start_time": "2021-06-12T11:27:03.014Z"
   },
   {
    "duration": 68,
    "start_time": "2021-06-12T11:30:24.769Z"
   },
   {
    "duration": 84,
    "start_time": "2021-06-12T11:30:52.136Z"
   },
   {
    "duration": 27,
    "start_time": "2021-06-12T11:38:02.192Z"
   },
   {
    "duration": 322,
    "start_time": "2021-06-12T12:16:37.264Z"
   },
   {
    "duration": 6,
    "start_time": "2021-06-12T12:16:45.618Z"
   },
   {
    "duration": 109,
    "start_time": "2021-06-12T12:18:54.052Z"
   },
   {
    "duration": 113,
    "start_time": "2021-06-12T12:19:06.807Z"
   },
   {
    "duration": 1510,
    "start_time": "2021-06-12T12:24:38.706Z"
   },
   {
    "duration": 2049,
    "start_time": "2021-06-12T12:24:40.218Z"
   },
   {
    "duration": 26,
    "start_time": "2021-06-12T12:24:42.270Z"
   },
   {
    "duration": 104,
    "start_time": "2021-06-12T12:24:42.310Z"
   },
   {
    "duration": 461,
    "start_time": "2021-06-12T12:24:42.416Z"
   },
   {
    "duration": 40,
    "start_time": "2021-06-12T12:24:42.879Z"
   },
   {
    "duration": 5,
    "start_time": "2021-06-12T12:24:42.922Z"
   },
   {
    "duration": 17,
    "start_time": "2021-06-12T12:24:42.931Z"
   },
   {
    "duration": 5,
    "start_time": "2021-06-12T12:24:42.951Z"
   },
   {
    "duration": 14,
    "start_time": "2021-06-12T12:24:42.958Z"
   },
   {
    "duration": 37,
    "start_time": "2021-06-12T12:24:42.974Z"
   },
   {
    "duration": 6,
    "start_time": "2021-06-12T12:24:43.014Z"
   },
   {
    "duration": 12,
    "start_time": "2021-06-12T12:24:43.022Z"
   },
   {
    "duration": 9,
    "start_time": "2021-06-12T12:24:43.037Z"
   },
   {
    "duration": 11,
    "start_time": "2021-06-12T12:24:43.049Z"
   },
   {
    "duration": 8,
    "start_time": "2021-06-12T12:24:43.062Z"
   },
   {
    "duration": 8,
    "start_time": "2021-06-12T12:24:43.110Z"
   },
   {
    "duration": 10,
    "start_time": "2021-06-12T12:24:43.120Z"
   },
   {
    "duration": 6,
    "start_time": "2021-06-12T12:24:43.133Z"
   },
   {
    "duration": 8,
    "start_time": "2021-06-12T12:24:43.141Z"
   },
   {
    "duration": 29,
    "start_time": "2021-06-12T12:24:43.152Z"
   },
   {
    "duration": 378,
    "start_time": "2021-06-12T12:24:43.184Z"
   },
   {
    "duration": 69,
    "start_time": "2021-06-12T12:24:43.566Z"
   },
   {
    "duration": 96,
    "start_time": "2021-06-12T12:24:43.638Z"
   },
   {
    "duration": 113,
    "start_time": "2021-06-12T12:24:43.736Z"
   },
   {
    "duration": 33,
    "start_time": "2021-06-12T12:25:01.126Z"
   },
   {
    "duration": 456,
    "start_time": "2021-06-12T12:25:35.575Z"
   },
   {
    "duration": 34,
    "start_time": "2021-06-12T12:26:06.955Z"
   },
   {
    "duration": 34,
    "start_time": "2021-06-12T12:26:13.893Z"
   },
   {
    "duration": 36,
    "start_time": "2021-06-12T12:26:37.702Z"
   },
   {
    "duration": 34,
    "start_time": "2021-06-12T12:27:23.916Z"
   },
   {
    "duration": 3,
    "start_time": "2021-06-12T12:28:07.085Z"
   },
   {
    "duration": 334,
    "start_time": "2021-06-12T12:28:08.146Z"
   },
   {
    "duration": 54,
    "start_time": "2021-06-12T12:28:11.799Z"
   },
   {
    "duration": 1502,
    "start_time": "2021-06-12T12:28:21.299Z"
   },
   {
    "duration": 2031,
    "start_time": "2021-06-12T12:28:22.804Z"
   },
   {
    "duration": 28,
    "start_time": "2021-06-12T12:28:24.838Z"
   },
   {
    "duration": 109,
    "start_time": "2021-06-12T12:28:24.869Z"
   },
   {
    "duration": 479,
    "start_time": "2021-06-12T12:28:24.980Z"
   },
   {
    "duration": 23,
    "start_time": "2021-06-12T12:28:25.461Z"
   },
   {
    "duration": 24,
    "start_time": "2021-06-12T12:28:25.487Z"
   },
   {
    "duration": 17,
    "start_time": "2021-06-12T12:28:25.514Z"
   },
   {
    "duration": 4,
    "start_time": "2021-06-12T12:28:25.534Z"
   },
   {
    "duration": 8,
    "start_time": "2021-06-12T12:28:25.541Z"
   },
   {
    "duration": 21,
    "start_time": "2021-06-12T12:28:25.551Z"
   },
   {
    "duration": 34,
    "start_time": "2021-06-12T12:28:25.574Z"
   },
   {
    "duration": 14,
    "start_time": "2021-06-12T12:28:25.611Z"
   },
   {
    "duration": 10,
    "start_time": "2021-06-12T12:28:25.627Z"
   },
   {
    "duration": 12,
    "start_time": "2021-06-12T12:28:25.640Z"
   },
   {
    "duration": 7,
    "start_time": "2021-06-12T12:28:25.654Z"
   },
   {
    "duration": 9,
    "start_time": "2021-06-12T12:28:25.663Z"
   },
   {
    "duration": 41,
    "start_time": "2021-06-12T12:28:25.674Z"
   },
   {
    "duration": 7,
    "start_time": "2021-06-12T12:28:25.718Z"
   },
   {
    "duration": 10,
    "start_time": "2021-06-12T12:28:25.727Z"
   },
   {
    "duration": 8,
    "start_time": "2021-06-12T12:28:25.740Z"
   },
   {
    "duration": 389,
    "start_time": "2021-06-12T12:28:25.750Z"
   },
   {
    "duration": 80,
    "start_time": "2021-06-12T12:28:26.143Z"
   },
   {
    "duration": 89,
    "start_time": "2021-06-12T12:28:26.225Z"
   },
   {
    "duration": 34,
    "start_time": "2021-06-12T12:28:26.317Z"
   },
   {
    "duration": 35,
    "start_time": "2021-06-12T12:29:12.313Z"
   },
   {
    "duration": 36,
    "start_time": "2021-06-12T12:31:41.074Z"
   },
   {
    "duration": 508,
    "start_time": "2021-06-12T13:30:13.833Z"
   },
   {
    "duration": 4,
    "start_time": "2021-06-12T13:30:19.484Z"
   },
   {
    "duration": 663,
    "start_time": "2021-06-12T13:30:21.604Z"
   },
   {
    "duration": 677,
    "start_time": "2021-06-12T13:31:32.146Z"
   },
   {
    "duration": 3960,
    "start_time": "2021-06-12T13:31:55.822Z"
   },
   {
    "duration": 4132,
    "start_time": "2021-06-12T13:32:41.680Z"
   },
   {
    "duration": 4597,
    "start_time": "2021-06-12T13:34:46.353Z"
   },
   {
    "duration": 9015,
    "start_time": "2021-06-12T13:37:57.753Z"
   },
   {
    "duration": 1534,
    "start_time": "2021-06-12T13:42:28.371Z"
   },
   {
    "duration": 2090,
    "start_time": "2021-06-12T13:42:29.909Z"
   },
   {
    "duration": 31,
    "start_time": "2021-06-12T13:42:32.002Z"
   },
   {
    "duration": 112,
    "start_time": "2021-06-12T13:42:32.036Z"
   },
   {
    "duration": 581,
    "start_time": "2021-06-12T13:42:32.150Z"
   },
   {
    "duration": 26,
    "start_time": "2021-06-12T13:42:32.733Z"
   },
   {
    "duration": 4,
    "start_time": "2021-06-12T13:42:32.762Z"
   },
   {
    "duration": 51,
    "start_time": "2021-06-12T13:42:32.769Z"
   },
   {
    "duration": 4,
    "start_time": "2021-06-12T13:42:32.823Z"
   },
   {
    "duration": 10,
    "start_time": "2021-06-12T13:42:32.830Z"
   },
   {
    "duration": 8,
    "start_time": "2021-06-12T13:42:32.842Z"
   },
   {
    "duration": 8,
    "start_time": "2021-06-12T13:42:32.852Z"
   },
   {
    "duration": 14,
    "start_time": "2021-06-12T13:42:32.862Z"
   },
   {
    "duration": 40,
    "start_time": "2021-06-12T13:42:32.878Z"
   },
   {
    "duration": 15,
    "start_time": "2021-06-12T13:42:32.921Z"
   },
   {
    "duration": 10,
    "start_time": "2021-06-12T13:42:32.939Z"
   },
   {
    "duration": 10,
    "start_time": "2021-06-12T13:42:32.951Z"
   },
   {
    "duration": 45,
    "start_time": "2021-06-12T13:42:32.964Z"
   },
   {
    "duration": 8,
    "start_time": "2021-06-12T13:42:33.012Z"
   },
   {
    "duration": 7,
    "start_time": "2021-06-12T13:42:33.023Z"
   },
   {
    "duration": 6,
    "start_time": "2021-06-12T13:42:33.033Z"
   },
   {
    "duration": 384,
    "start_time": "2021-06-12T13:42:33.041Z"
   },
   {
    "duration": 86,
    "start_time": "2021-06-12T13:42:33.431Z"
   },
   {
    "duration": 112,
    "start_time": "2021-06-12T13:42:33.520Z"
   },
   {
    "duration": 74,
    "start_time": "2021-06-12T13:42:33.635Z"
   },
   {
    "duration": 4,
    "start_time": "2021-06-12T13:42:33.713Z"
   },
   {
    "duration": 8941,
    "start_time": "2021-06-12T13:42:33.720Z"
   },
   {
    "duration": 8377,
    "start_time": "2021-06-12T13:46:07.053Z"
   },
   {
    "duration": 338,
    "start_time": "2021-06-12T13:46:31.256Z"
   },
   {
    "duration": 352,
    "start_time": "2021-06-12T13:46:54.652Z"
   },
   {
    "duration": 8777,
    "start_time": "2021-06-12T13:47:19.055Z"
   },
   {
    "duration": 6,
    "start_time": "2021-06-12T14:21:56.854Z"
   },
   {
    "duration": 4,
    "start_time": "2021-06-12T14:22:08.943Z"
   },
   {
    "duration": 4,
    "start_time": "2021-06-12T14:22:12.846Z"
   },
   {
    "duration": 768,
    "start_time": "2021-06-12T14:23:57.083Z"
   },
   {
    "duration": 362,
    "start_time": "2021-06-12T14:25:53.935Z"
   },
   {
    "duration": 485,
    "start_time": "2021-06-12T14:26:09.113Z"
   },
   {
    "duration": 351,
    "start_time": "2021-06-12T14:26:49.878Z"
   },
   {
    "duration": 345,
    "start_time": "2021-06-12T14:28:10.994Z"
   },
   {
    "duration": 373,
    "start_time": "2021-06-12T14:28:19.212Z"
   },
   {
    "duration": 4,
    "start_time": "2021-06-12T14:28:34.623Z"
   },
   {
    "duration": 299,
    "start_time": "2021-06-12T14:28:40.428Z"
   },
   {
    "duration": 132,
    "start_time": "2021-06-12T14:29:59.063Z"
   },
   {
    "duration": 982,
    "start_time": "2021-06-12T14:30:14.376Z"
   },
   {
    "duration": 684,
    "start_time": "2021-06-12T14:31:27.342Z"
   },
   {
    "duration": 7,
    "start_time": "2021-06-12T14:31:39.331Z"
   },
   {
    "duration": 988,
    "start_time": "2021-06-12T14:32:33.173Z"
   },
   {
    "duration": 954,
    "start_time": "2021-06-12T14:33:38.795Z"
   },
   {
    "duration": 1672,
    "start_time": "2021-06-12T14:34:23.296Z"
   },
   {
    "duration": 1829,
    "start_time": "2021-06-12T14:41:43.549Z"
   },
   {
    "duration": 1696,
    "start_time": "2021-06-12T14:44:21.684Z"
   },
   {
    "duration": 2059,
    "start_time": "2021-06-12T14:55:11.037Z"
   },
   {
    "duration": 2586,
    "start_time": "2021-06-12T14:57:00.130Z"
   },
   {
    "duration": 1662,
    "start_time": "2021-06-12T14:59:18.611Z"
   },
   {
    "duration": 4027,
    "start_time": "2021-06-12T14:59:27.455Z"
   },
   {
    "duration": 1292,
    "start_time": "2021-06-12T14:59:55.653Z"
   },
   {
    "duration": 2788,
    "start_time": "2021-06-12T15:00:07.479Z"
   },
   {
    "duration": 2694,
    "start_time": "2021-06-12T15:00:27.172Z"
   },
   {
    "duration": 1492,
    "start_time": "2021-06-12T15:00:35.010Z"
   },
   {
    "duration": 2085,
    "start_time": "2021-06-12T15:00:36.505Z"
   },
   {
    "duration": 30,
    "start_time": "2021-06-12T15:00:38.595Z"
   },
   {
    "duration": 115,
    "start_time": "2021-06-12T15:00:38.628Z"
   },
   {
    "duration": 484,
    "start_time": "2021-06-12T15:00:38.745Z"
   },
   {
    "duration": 26,
    "start_time": "2021-06-12T15:00:39.232Z"
   },
   {
    "duration": 15,
    "start_time": "2021-06-12T15:00:39.262Z"
   },
   {
    "duration": 40,
    "start_time": "2021-06-12T15:00:39.280Z"
   },
   {
    "duration": 5,
    "start_time": "2021-06-12T15:00:39.322Z"
   },
   {
    "duration": 31,
    "start_time": "2021-06-12T15:00:39.330Z"
   },
   {
    "duration": 10,
    "start_time": "2021-06-12T15:00:39.364Z"
   },
   {
    "duration": 21,
    "start_time": "2021-06-12T15:00:39.377Z"
   },
   {
    "duration": 31,
    "start_time": "2021-06-12T15:00:39.400Z"
   },
   {
    "duration": 25,
    "start_time": "2021-06-12T15:00:39.433Z"
   },
   {
    "duration": 22,
    "start_time": "2021-06-12T15:00:39.461Z"
   },
   {
    "duration": 12,
    "start_time": "2021-06-12T15:00:39.485Z"
   },
   {
    "duration": 18,
    "start_time": "2021-06-12T15:00:39.499Z"
   },
   {
    "duration": 13,
    "start_time": "2021-06-12T15:00:39.520Z"
   },
   {
    "duration": 30,
    "start_time": "2021-06-12T15:00:39.536Z"
   },
   {
    "duration": 18,
    "start_time": "2021-06-12T15:00:39.568Z"
   },
   {
    "duration": 12,
    "start_time": "2021-06-12T15:00:39.589Z"
   },
   {
    "duration": 437,
    "start_time": "2021-06-12T15:00:39.607Z"
   },
   {
    "duration": 89,
    "start_time": "2021-06-12T15:00:40.047Z"
   },
   {
    "duration": 103,
    "start_time": "2021-06-12T15:00:40.139Z"
   },
   {
    "duration": 36,
    "start_time": "2021-06-12T15:00:40.245Z"
   },
   {
    "duration": 4,
    "start_time": "2021-06-12T15:00:40.310Z"
   },
   {
    "duration": 2752,
    "start_time": "2021-06-12T15:00:40.317Z"
   },
   {
    "duration": 2597,
    "start_time": "2021-06-12T15:01:40.546Z"
   },
   {
    "duration": 1527,
    "start_time": "2021-06-12T15:02:30.085Z"
   },
   {
    "duration": 2194,
    "start_time": "2021-06-12T15:02:31.615Z"
   },
   {
    "duration": 26,
    "start_time": "2021-06-12T15:02:33.812Z"
   },
   {
    "duration": 134,
    "start_time": "2021-06-12T15:02:33.841Z"
   },
   {
    "duration": 466,
    "start_time": "2021-06-12T15:02:33.978Z"
   },
   {
    "duration": 24,
    "start_time": "2021-06-12T15:02:34.447Z"
   },
   {
    "duration": 4,
    "start_time": "2021-06-12T15:02:34.474Z"
   },
   {
    "duration": 46,
    "start_time": "2021-06-12T15:02:34.482Z"
   },
   {
    "duration": 4,
    "start_time": "2021-06-12T15:02:34.531Z"
   },
   {
    "duration": 24,
    "start_time": "2021-06-12T15:02:34.538Z"
   },
   {
    "duration": 24,
    "start_time": "2021-06-12T15:02:34.565Z"
   },
   {
    "duration": 19,
    "start_time": "2021-06-12T15:02:34.592Z"
   },
   {
    "duration": 19,
    "start_time": "2021-06-12T15:02:34.613Z"
   },
   {
    "duration": 12,
    "start_time": "2021-06-12T15:02:34.635Z"
   },
   {
    "duration": 23,
    "start_time": "2021-06-12T15:02:34.650Z"
   },
   {
    "duration": 33,
    "start_time": "2021-06-12T15:02:34.676Z"
   },
   {
    "duration": 10,
    "start_time": "2021-06-12T15:02:34.711Z"
   },
   {
    "duration": 19,
    "start_time": "2021-06-12T15:02:34.724Z"
   },
   {
    "duration": 7,
    "start_time": "2021-06-12T15:02:34.745Z"
   },
   {
    "duration": 22,
    "start_time": "2021-06-12T15:02:34.754Z"
   },
   {
    "duration": 28,
    "start_time": "2021-06-12T15:02:34.778Z"
   },
   {
    "duration": 361,
    "start_time": "2021-06-12T15:02:34.809Z"
   },
   {
    "duration": 65,
    "start_time": "2021-06-12T15:02:35.174Z"
   },
   {
    "duration": 95,
    "start_time": "2021-06-12T15:02:35.241Z"
   },
   {
    "duration": 36,
    "start_time": "2021-06-12T15:02:35.338Z"
   },
   {
    "duration": 4,
    "start_time": "2021-06-12T15:02:35.409Z"
   },
   {
    "duration": 2555,
    "start_time": "2021-06-12T15:02:35.415Z"
   },
   {
    "duration": 1519,
    "start_time": "2021-06-12T15:12:36.215Z"
   },
   {
    "duration": 2062,
    "start_time": "2021-06-12T15:12:37.737Z"
   },
   {
    "duration": 27,
    "start_time": "2021-06-12T15:12:39.802Z"
   },
   {
    "duration": 120,
    "start_time": "2021-06-12T15:12:39.832Z"
   },
   {
    "duration": 469,
    "start_time": "2021-06-12T15:12:39.954Z"
   },
   {
    "duration": 24,
    "start_time": "2021-06-12T15:12:40.425Z"
   },
   {
    "duration": 5,
    "start_time": "2021-06-12T15:12:40.451Z"
   },
   {
    "duration": 55,
    "start_time": "2021-06-12T15:12:40.459Z"
   },
   {
    "duration": 5,
    "start_time": "2021-06-12T15:12:40.517Z"
   },
   {
    "duration": 9,
    "start_time": "2021-06-12T15:12:40.524Z"
   },
   {
    "duration": 7,
    "start_time": "2021-06-12T15:12:40.535Z"
   },
   {
    "duration": 6,
    "start_time": "2021-06-12T15:12:40.545Z"
   },
   {
    "duration": 12,
    "start_time": "2021-06-12T15:12:40.553Z"
   },
   {
    "duration": 46,
    "start_time": "2021-06-12T15:12:40.568Z"
   },
   {
    "duration": 15,
    "start_time": "2021-06-12T15:12:40.616Z"
   },
   {
    "duration": 21,
    "start_time": "2021-06-12T15:12:40.633Z"
   },
   {
    "duration": 8,
    "start_time": "2021-06-12T15:12:40.656Z"
   },
   {
    "duration": 9,
    "start_time": "2021-06-12T15:12:40.666Z"
   },
   {
    "duration": 35,
    "start_time": "2021-06-12T15:12:40.677Z"
   },
   {
    "duration": 5,
    "start_time": "2021-06-12T15:12:40.714Z"
   },
   {
    "duration": 8,
    "start_time": "2021-06-12T15:12:40.721Z"
   },
   {
    "duration": 390,
    "start_time": "2021-06-12T15:12:40.731Z"
   },
   {
    "duration": 83,
    "start_time": "2021-06-12T15:12:41.128Z"
   },
   {
    "duration": 99,
    "start_time": "2021-06-12T15:12:41.215Z"
   },
   {
    "duration": 35,
    "start_time": "2021-06-12T15:12:41.316Z"
   },
   {
    "duration": 4,
    "start_time": "2021-06-12T15:12:41.353Z"
   },
   {
    "duration": 2718,
    "start_time": "2021-06-12T15:12:41.360Z"
   },
   {
    "duration": 1508,
    "start_time": "2021-06-12T15:14:49.090Z"
   },
   {
    "duration": 2010,
    "start_time": "2021-06-12T15:14:50.601Z"
   },
   {
    "duration": 26,
    "start_time": "2021-06-12T15:14:52.614Z"
   },
   {
    "duration": 112,
    "start_time": "2021-06-12T15:14:52.643Z"
   },
   {
    "duration": 474,
    "start_time": "2021-06-12T15:14:52.757Z"
   },
   {
    "duration": 24,
    "start_time": "2021-06-12T15:14:53.233Z"
   },
   {
    "duration": 5,
    "start_time": "2021-06-12T15:14:53.259Z"
   },
   {
    "duration": 47,
    "start_time": "2021-06-12T15:14:53.266Z"
   },
   {
    "duration": 5,
    "start_time": "2021-06-12T15:14:53.317Z"
   },
   {
    "duration": 6,
    "start_time": "2021-06-12T15:14:53.325Z"
   },
   {
    "duration": 4,
    "start_time": "2021-06-12T15:14:53.334Z"
   },
   {
    "duration": 6,
    "start_time": "2021-06-12T15:14:53.340Z"
   },
   {
    "duration": 67,
    "start_time": "2021-06-12T15:14:53.349Z"
   },
   {
    "duration": 9,
    "start_time": "2021-06-12T15:14:53.419Z"
   },
   {
    "duration": 12,
    "start_time": "2021-06-12T15:14:53.431Z"
   },
   {
    "duration": 9,
    "start_time": "2021-06-12T15:14:53.445Z"
   },
   {
    "duration": 11,
    "start_time": "2021-06-12T15:14:53.457Z"
   },
   {
    "duration": 43,
    "start_time": "2021-06-12T15:14:53.471Z"
   },
   {
    "duration": 6,
    "start_time": "2021-06-12T15:14:53.517Z"
   },
   {
    "duration": 6,
    "start_time": "2021-06-12T15:14:53.526Z"
   },
   {
    "duration": 19,
    "start_time": "2021-06-12T15:14:53.535Z"
   },
   {
    "duration": 383,
    "start_time": "2021-06-12T15:14:53.557Z"
   },
   {
    "duration": 81,
    "start_time": "2021-06-12T15:14:53.943Z"
   },
   {
    "duration": 102,
    "start_time": "2021-06-12T15:14:54.027Z"
   },
   {
    "duration": 39,
    "start_time": "2021-06-12T15:14:54.133Z"
   },
   {
    "duration": 4,
    "start_time": "2021-06-12T15:14:54.210Z"
   },
   {
    "duration": 2656,
    "start_time": "2021-06-12T15:14:54.219Z"
   },
   {
    "duration": 369,
    "start_time": "2021-06-12T15:25:15.353Z"
   },
   {
    "duration": 788,
    "start_time": "2021-06-12T15:25:37.012Z"
   },
   {
    "duration": 270,
    "start_time": "2021-06-12T15:26:13.989Z"
   },
   {
    "duration": 413,
    "start_time": "2021-06-12T15:27:12.016Z"
   },
   {
    "duration": 402,
    "start_time": "2021-06-12T15:27:23.198Z"
   },
   {
    "duration": 673,
    "start_time": "2021-06-12T15:28:49.816Z"
   },
   {
    "duration": 723,
    "start_time": "2021-06-12T15:29:15.507Z"
   },
   {
    "duration": 698,
    "start_time": "2021-06-12T15:30:10.417Z"
   },
   {
    "duration": 103,
    "start_time": "2021-06-12T15:30:23.888Z"
   },
   {
    "duration": 862,
    "start_time": "2021-06-12T15:30:32.618Z"
   },
   {
    "duration": 820,
    "start_time": "2021-06-12T15:30:41.958Z"
   },
   {
    "duration": 701,
    "start_time": "2021-06-12T15:31:34.828Z"
   },
   {
    "duration": 409,
    "start_time": "2021-06-12T15:33:16.225Z"
   },
   {
    "duration": 649,
    "start_time": "2021-06-12T15:33:51.221Z"
   },
   {
    "duration": 543,
    "start_time": "2021-06-12T15:34:12.578Z"
   },
   {
    "duration": 636,
    "start_time": "2021-06-12T15:34:52.018Z"
   },
   {
    "duration": 761,
    "start_time": "2021-06-12T15:36:09.727Z"
   },
   {
    "duration": 774,
    "start_time": "2021-06-12T15:38:14.281Z"
   },
   {
    "duration": 14,
    "start_time": "2021-06-12T15:38:59.287Z"
   },
   {
    "duration": 17,
    "start_time": "2021-06-12T15:39:20.965Z"
   },
   {
    "duration": 12,
    "start_time": "2021-06-12T15:39:37.010Z"
   },
   {
    "duration": 11,
    "start_time": "2021-06-12T15:39:43.413Z"
   },
   {
    "duration": 15,
    "start_time": "2021-06-12T15:40:38.742Z"
   },
   {
    "duration": 1335,
    "start_time": "2021-06-12T15:41:40.364Z"
   },
   {
    "duration": 15,
    "start_time": "2021-06-12T15:41:52.886Z"
   },
   {
    "duration": 21,
    "start_time": "2021-06-12T15:42:30.586Z"
   },
   {
    "duration": 1536,
    "start_time": "2021-06-12T15:52:42.154Z"
   },
   {
    "duration": 2156,
    "start_time": "2021-06-12T16:00:30.110Z"
   },
   {
    "duration": 1413,
    "start_time": "2021-06-12T16:01:47.340Z"
   },
   {
    "duration": 1553,
    "start_time": "2021-06-12T16:02:03.617Z"
   },
   {
    "duration": 1512,
    "start_time": "2021-06-12T16:02:26.115Z"
   },
   {
    "duration": 369,
    "start_time": "2021-06-12T17:05:22.327Z"
   },
   {
    "duration": 354,
    "start_time": "2021-06-12T17:05:37.451Z"
   },
   {
    "duration": 19,
    "start_time": "2021-06-12T17:07:47.655Z"
   },
   {
    "duration": 326,
    "start_time": "2021-06-12T17:53:07.415Z"
   },
   {
    "duration": 831,
    "start_time": "2021-06-12T17:53:15.325Z"
   },
   {
    "duration": 1060,
    "start_time": "2021-06-12T17:56:32.652Z"
   },
   {
    "duration": 4,
    "start_time": "2021-06-12T18:20:58.717Z"
   },
   {
    "duration": 4,
    "start_time": "2021-06-12T18:21:00.792Z"
   },
   {
    "duration": 370,
    "start_time": "2021-06-12T18:38:09.300Z"
   },
   {
    "duration": 37,
    "start_time": "2021-06-12T18:38:44.391Z"
   },
   {
    "duration": 351,
    "start_time": "2021-06-12T18:38:47.279Z"
   },
   {
    "duration": 1522,
    "start_time": "2021-06-12T19:01:01.641Z"
   },
   {
    "duration": 2117,
    "start_time": "2021-06-12T19:01:03.166Z"
   },
   {
    "duration": 38,
    "start_time": "2021-06-12T19:01:05.286Z"
   },
   {
    "duration": 112,
    "start_time": "2021-06-12T19:01:05.327Z"
   },
   {
    "duration": 469,
    "start_time": "2021-06-12T19:01:05.442Z"
   },
   {
    "duration": 23,
    "start_time": "2021-06-12T19:01:05.913Z"
   },
   {
    "duration": 4,
    "start_time": "2021-06-12T19:01:05.938Z"
   },
   {
    "duration": 20,
    "start_time": "2021-06-12T19:01:05.946Z"
   },
   {
    "duration": 41,
    "start_time": "2021-06-12T19:01:05.969Z"
   },
   {
    "duration": 13,
    "start_time": "2021-06-12T19:01:06.012Z"
   },
   {
    "duration": 8,
    "start_time": "2021-06-12T19:01:06.028Z"
   },
   {
    "duration": 8,
    "start_time": "2021-06-12T19:01:06.038Z"
   },
   {
    "duration": 18,
    "start_time": "2021-06-12T19:01:06.048Z"
   },
   {
    "duration": 9,
    "start_time": "2021-06-12T19:01:06.069Z"
   },
   {
    "duration": 35,
    "start_time": "2021-06-12T19:01:06.080Z"
   },
   {
    "duration": 15,
    "start_time": "2021-06-12T19:01:06.117Z"
   },
   {
    "duration": 8,
    "start_time": "2021-06-12T19:01:06.135Z"
   },
   {
    "duration": 17,
    "start_time": "2021-06-12T19:01:06.145Z"
   },
   {
    "duration": 10,
    "start_time": "2021-06-12T19:01:06.164Z"
   },
   {
    "duration": 32,
    "start_time": "2021-06-12T19:01:06.177Z"
   },
   {
    "duration": 7,
    "start_time": "2021-06-12T19:01:06.211Z"
   },
   {
    "duration": 381,
    "start_time": "2021-06-12T19:01:06.220Z"
   },
   {
    "duration": 52,
    "start_time": "2021-06-12T19:01:06.605Z"
   },
   {
    "duration": 103,
    "start_time": "2021-06-12T19:01:06.660Z"
   },
   {
    "duration": 71,
    "start_time": "2021-06-12T19:01:06.766Z"
   },
   {
    "duration": 5,
    "start_time": "2021-06-12T19:01:06.840Z"
   },
   {
    "duration": 2678,
    "start_time": "2021-06-12T19:01:06.848Z"
   },
   {
    "duration": 1543,
    "start_time": "2021-06-12T19:01:09.529Z"
   },
   {
    "duration": 33,
    "start_time": "2021-06-12T19:01:11.075Z"
   },
   {
    "duration": 14,
    "start_time": "2021-06-12T19:01:11.111Z"
   },
   {
    "duration": 861,
    "start_time": "2021-06-12T19:01:11.127Z"
   },
   {
    "duration": 4,
    "start_time": "2021-06-12T19:01:11.991Z"
   },
   {
    "duration": 17,
    "start_time": "2021-06-12T19:01:11.996Z"
   },
   {
    "duration": 51,
    "start_time": "2021-06-12T19:01:12.015Z"
   },
   {
    "duration": 516,
    "start_time": "2021-06-12T19:01:12.069Z"
   },
   {
    "duration": 387,
    "start_time": "2021-06-12T19:12:16.687Z"
   },
   {
    "duration": 453,
    "start_time": "2021-06-12T19:12:38.483Z"
   },
   {
    "duration": 56,
    "start_time": "2021-06-12T19:19:34.658Z"
   },
   {
    "duration": 485,
    "start_time": "2021-06-12T19:20:03.334Z"
   },
   {
    "duration": 393,
    "start_time": "2021-06-12T19:21:13.413Z"
   },
   {
    "duration": 416,
    "start_time": "2021-06-12T19:24:42.431Z"
   },
   {
    "duration": 1554,
    "start_time": "2021-06-12T19:24:57.698Z"
   },
   {
    "duration": 2064,
    "start_time": "2021-06-12T19:24:59.255Z"
   },
   {
    "duration": 28,
    "start_time": "2021-06-12T19:25:01.322Z"
   },
   {
    "duration": 117,
    "start_time": "2021-06-12T19:25:01.353Z"
   },
   {
    "duration": 477,
    "start_time": "2021-06-12T19:25:01.472Z"
   },
   {
    "duration": 23,
    "start_time": "2021-06-12T19:25:01.951Z"
   },
   {
    "duration": 14,
    "start_time": "2021-06-12T19:25:01.977Z"
   },
   {
    "duration": 51,
    "start_time": "2021-06-12T19:25:02.011Z"
   },
   {
    "duration": 127,
    "start_time": "2021-06-12T19:25:02.065Z"
   },
   {
    "duration": 52,
    "start_time": "2021-06-12T19:25:02.194Z"
   },
   {
    "duration": 25,
    "start_time": "2021-06-12T19:25:02.249Z"
   },
   {
    "duration": 93,
    "start_time": "2021-06-12T19:25:02.277Z"
   },
   {
    "duration": 56,
    "start_time": "2021-06-12T19:25:02.373Z"
   },
   {
    "duration": 87,
    "start_time": "2021-06-12T19:25:02.432Z"
   },
   {
    "duration": 155,
    "start_time": "2021-06-12T19:25:02.522Z"
   },
   {
    "duration": 31,
    "start_time": "2021-06-12T19:25:02.679Z"
   },
   {
    "duration": 61,
    "start_time": "2021-06-12T19:25:02.713Z"
   },
   {
    "duration": 19,
    "start_time": "2021-06-12T19:25:02.777Z"
   },
   {
    "duration": 52,
    "start_time": "2021-06-12T19:25:02.799Z"
   },
   {
    "duration": 112,
    "start_time": "2021-06-12T19:25:02.853Z"
   },
   {
    "duration": 30,
    "start_time": "2021-06-12T19:25:02.967Z"
   },
   {
    "duration": 391,
    "start_time": "2021-06-12T19:25:03.001Z"
   },
   {
    "duration": 57,
    "start_time": "2021-06-12T19:25:03.396Z"
   },
   {
    "duration": 100,
    "start_time": "2021-06-12T19:25:03.455Z"
   },
   {
    "duration": 60,
    "start_time": "2021-06-12T19:25:03.558Z"
   },
   {
    "duration": 5,
    "start_time": "2021-06-12T19:25:03.620Z"
   },
   {
    "duration": 2799,
    "start_time": "2021-06-12T19:25:03.627Z"
   },
   {
    "duration": 1421,
    "start_time": "2021-06-12T19:25:06.429Z"
   },
   {
    "duration": 22,
    "start_time": "2021-06-12T19:25:07.853Z"
   },
   {
    "duration": 38,
    "start_time": "2021-06-12T19:25:07.878Z"
   },
   {
    "duration": 855,
    "start_time": "2021-06-12T19:25:07.919Z"
   },
   {
    "duration": 5,
    "start_time": "2021-06-12T19:25:08.777Z"
   },
   {
    "duration": 23,
    "start_time": "2021-06-12T19:25:08.785Z"
   },
   {
    "duration": 18,
    "start_time": "2021-06-12T19:25:08.811Z"
   },
   {
    "duration": 522,
    "start_time": "2021-06-12T19:25:08.831Z"
   },
   {
    "duration": 41,
    "start_time": "2021-06-12T19:25:48.718Z"
   },
   {
    "duration": 7,
    "start_time": "2021-06-12T20:21:37.585Z"
   },
   {
    "duration": 6,
    "start_time": "2021-06-12T20:21:53.316Z"
   },
   {
    "duration": 1525,
    "start_time": "2021-06-12T20:22:09.683Z"
   },
   {
    "duration": 2040,
    "start_time": "2021-06-12T20:22:11.211Z"
   },
   {
    "duration": 26,
    "start_time": "2021-06-12T20:22:13.254Z"
   },
   {
    "duration": 103,
    "start_time": "2021-06-12T20:22:13.283Z"
   },
   {
    "duration": 564,
    "start_time": "2021-06-12T20:22:13.389Z"
   },
   {
    "duration": 22,
    "start_time": "2021-06-12T20:22:13.956Z"
   },
   {
    "duration": 4,
    "start_time": "2021-06-12T20:22:13.980Z"
   },
   {
    "duration": 15,
    "start_time": "2021-06-12T20:22:14.011Z"
   },
   {
    "duration": 5,
    "start_time": "2021-06-12T20:22:14.029Z"
   },
   {
    "duration": 7,
    "start_time": "2021-06-12T20:22:14.036Z"
   },
   {
    "duration": 6,
    "start_time": "2021-06-12T20:22:14.045Z"
   },
   {
    "duration": 7,
    "start_time": "2021-06-12T20:22:14.053Z"
   },
   {
    "duration": 54,
    "start_time": "2021-06-12T20:22:14.062Z"
   },
   {
    "duration": 10,
    "start_time": "2021-06-12T20:22:14.118Z"
   },
   {
    "duration": 11,
    "start_time": "2021-06-12T20:22:14.130Z"
   },
   {
    "duration": 7,
    "start_time": "2021-06-12T20:22:14.143Z"
   },
   {
    "duration": 8,
    "start_time": "2021-06-12T20:22:14.153Z"
   },
   {
    "duration": 47,
    "start_time": "2021-06-12T20:22:14.163Z"
   },
   {
    "duration": 5,
    "start_time": "2021-06-12T20:22:14.213Z"
   },
   {
    "duration": 8,
    "start_time": "2021-06-12T20:22:14.220Z"
   },
   {
    "duration": 9,
    "start_time": "2021-06-12T20:22:14.230Z"
   },
   {
    "duration": 384,
    "start_time": "2021-06-12T20:22:14.241Z"
   },
   {
    "duration": 51,
    "start_time": "2021-06-12T20:22:14.630Z"
   },
   {
    "duration": 67,
    "start_time": "2021-06-12T20:22:14.708Z"
   },
   {
    "duration": 62,
    "start_time": "2021-06-12T20:22:14.778Z"
   },
   {
    "duration": 4,
    "start_time": "2021-06-12T20:22:14.843Z"
   },
   {
    "duration": 2722,
    "start_time": "2021-06-12T20:22:14.850Z"
   },
   {
    "duration": 1423,
    "start_time": "2021-06-12T20:22:17.575Z"
   },
   {
    "duration": 26,
    "start_time": "2021-06-12T20:22:19.001Z"
   },
   {
    "duration": 15,
    "start_time": "2021-06-12T20:22:19.029Z"
   },
   {
    "duration": 869,
    "start_time": "2021-06-12T20:22:19.047Z"
   },
   {
    "duration": 513,
    "start_time": "2021-06-12T20:22:19.918Z"
   },
   {
    "duration": -246,
    "start_time": "2021-06-12T20:22:20.679Z"
   },
   {
    "duration": -251,
    "start_time": "2021-06-12T20:22:20.686Z"
   },
   {
    "duration": -261,
    "start_time": "2021-06-12T20:22:20.698Z"
   },
   {
    "duration": -271,
    "start_time": "2021-06-12T20:22:20.709Z"
   },
   {
    "duration": -279,
    "start_time": "2021-06-12T20:22:20.719Z"
   },
   {
    "duration": 1556,
    "start_time": "2021-06-12T20:22:30.306Z"
   },
   {
    "duration": 2171,
    "start_time": "2021-06-12T20:22:31.866Z"
   },
   {
    "duration": 27,
    "start_time": "2021-06-12T20:22:34.041Z"
   },
   {
    "duration": 111,
    "start_time": "2021-06-12T20:22:34.071Z"
   },
   {
    "duration": 477,
    "start_time": "2021-06-12T20:22:34.184Z"
   },
   {
    "duration": 25,
    "start_time": "2021-06-12T20:22:34.663Z"
   },
   {
    "duration": 22,
    "start_time": "2021-06-12T20:22:34.689Z"
   },
   {
    "duration": 20,
    "start_time": "2021-06-12T20:22:34.714Z"
   },
   {
    "duration": 4,
    "start_time": "2021-06-12T20:22:34.738Z"
   },
   {
    "duration": 10,
    "start_time": "2021-06-12T20:22:34.745Z"
   },
   {
    "duration": 6,
    "start_time": "2021-06-12T20:22:34.757Z"
   },
   {
    "duration": 46,
    "start_time": "2021-06-12T20:22:34.765Z"
   },
   {
    "duration": 15,
    "start_time": "2021-06-12T20:22:34.814Z"
   },
   {
    "duration": 25,
    "start_time": "2021-06-12T20:22:34.832Z"
   },
   {
    "duration": 13,
    "start_time": "2021-06-12T20:22:34.859Z"
   },
   {
    "duration": 13,
    "start_time": "2021-06-12T20:22:34.875Z"
   },
   {
    "duration": 25,
    "start_time": "2021-06-12T20:22:34.890Z"
   },
   {
    "duration": 7,
    "start_time": "2021-06-12T20:22:34.917Z"
   },
   {
    "duration": 5,
    "start_time": "2021-06-12T20:22:34.926Z"
   },
   {
    "duration": 16,
    "start_time": "2021-06-12T20:22:34.933Z"
   },
   {
    "duration": 14,
    "start_time": "2021-06-12T20:22:34.951Z"
   },
   {
    "duration": 392,
    "start_time": "2021-06-12T20:22:34.967Z"
   },
   {
    "duration": 72,
    "start_time": "2021-06-12T20:22:35.365Z"
   },
   {
    "duration": 110,
    "start_time": "2021-06-12T20:22:35.440Z"
   },
   {
    "duration": 68,
    "start_time": "2021-06-12T20:22:35.553Z"
   },
   {
    "duration": 5,
    "start_time": "2021-06-12T20:22:35.623Z"
   },
   {
    "duration": 2676,
    "start_time": "2021-06-12T20:22:35.631Z"
   },
   {
    "duration": 1436,
    "start_time": "2021-06-12T20:22:38.310Z"
   },
   {
    "duration": 20,
    "start_time": "2021-06-12T20:22:39.748Z"
   },
   {
    "duration": 14,
    "start_time": "2021-06-12T20:22:39.771Z"
   },
   {
    "duration": 860,
    "start_time": "2021-06-12T20:22:39.809Z"
   },
   {
    "duration": 479,
    "start_time": "2021-06-12T20:22:40.671Z"
   },
   {
    "duration": -297,
    "start_time": "2021-06-12T20:22:41.449Z"
   },
   {
    "duration": -307,
    "start_time": "2021-06-12T20:22:41.461Z"
   },
   {
    "duration": -317,
    "start_time": "2021-06-12T20:22:41.472Z"
   },
   {
    "duration": -326,
    "start_time": "2021-06-12T20:22:41.482Z"
   },
   {
    "duration": -336,
    "start_time": "2021-06-12T20:22:41.494Z"
   },
   {
    "duration": 1466,
    "start_time": "2021-06-12T20:22:55.888Z"
   },
   {
    "duration": 2005,
    "start_time": "2021-06-12T20:22:57.356Z"
   },
   {
    "duration": 27,
    "start_time": "2021-06-12T20:22:59.364Z"
   },
   {
    "duration": 116,
    "start_time": "2021-06-12T20:22:59.393Z"
   },
   {
    "duration": 470,
    "start_time": "2021-06-12T20:22:59.511Z"
   },
   {
    "duration": 35,
    "start_time": "2021-06-12T20:22:59.983Z"
   },
   {
    "duration": 4,
    "start_time": "2021-06-12T20:23:00.020Z"
   },
   {
    "duration": 19,
    "start_time": "2021-06-12T20:23:00.028Z"
   },
   {
    "duration": 4,
    "start_time": "2021-06-12T20:23:00.050Z"
   },
   {
    "duration": 14,
    "start_time": "2021-06-12T20:23:00.056Z"
   },
   {
    "duration": 35,
    "start_time": "2021-06-12T20:23:00.073Z"
   },
   {
    "duration": 6,
    "start_time": "2021-06-12T20:23:00.111Z"
   },
   {
    "duration": 12,
    "start_time": "2021-06-12T20:23:00.120Z"
   },
   {
    "duration": 11,
    "start_time": "2021-06-12T20:23:00.135Z"
   },
   {
    "duration": 16,
    "start_time": "2021-06-12T20:23:00.148Z"
   },
   {
    "duration": 15,
    "start_time": "2021-06-12T20:23:00.166Z"
   },
   {
    "duration": 34,
    "start_time": "2021-06-12T20:23:00.183Z"
   },
   {
    "duration": 14,
    "start_time": "2021-06-12T20:23:00.219Z"
   },
   {
    "duration": 11,
    "start_time": "2021-06-12T20:23:00.236Z"
   },
   {
    "duration": 9,
    "start_time": "2021-06-12T20:23:00.249Z"
   },
   {
    "duration": 15,
    "start_time": "2021-06-12T20:23:00.260Z"
   },
   {
    "duration": 373,
    "start_time": "2021-06-12T20:23:00.278Z"
   },
   {
    "duration": 68,
    "start_time": "2021-06-12T20:23:00.656Z"
   },
   {
    "duration": 87,
    "start_time": "2021-06-12T20:23:00.727Z"
   },
   {
    "duration": 35,
    "start_time": "2021-06-12T20:23:00.817Z"
   },
   {
    "duration": 4,
    "start_time": "2021-06-12T20:23:00.854Z"
   },
   {
    "duration": 2808,
    "start_time": "2021-06-12T20:23:00.860Z"
   },
   {
    "duration": 1555,
    "start_time": "2021-06-12T20:23:03.671Z"
   },
   {
    "duration": 21,
    "start_time": "2021-06-12T20:23:05.229Z"
   },
   {
    "duration": 14,
    "start_time": "2021-06-12T20:23:05.252Z"
   },
   {
    "duration": 978,
    "start_time": "2021-06-12T20:23:05.269Z"
   },
   {
    "duration": 4,
    "start_time": "2021-06-12T20:23:06.250Z"
   },
   {
    "duration": 10,
    "start_time": "2021-06-12T20:23:06.256Z"
   },
   {
    "duration": 9462,
    "start_time": "2021-06-12T20:23:06.268Z"
   },
   {
    "duration": 46537,
    "start_time": "2021-06-12T20:23:18.331Z"
   },
   {
    "duration": 399,
    "start_time": "2021-06-12T20:25:09.313Z"
   },
   {
    "duration": 18,
    "start_time": "2021-06-12T20:25:48.907Z"
   },
   {
    "duration": 1567,
    "start_time": "2021-06-12T20:27:19.881Z"
   },
   {
    "duration": 2069,
    "start_time": "2021-06-12T20:27:21.451Z"
   },
   {
    "duration": 26,
    "start_time": "2021-06-12T20:27:23.523Z"
   },
   {
    "duration": 115,
    "start_time": "2021-06-12T20:27:23.552Z"
   },
   {
    "duration": 465,
    "start_time": "2021-06-12T20:27:23.669Z"
   },
   {
    "duration": 23,
    "start_time": "2021-06-12T20:27:24.137Z"
   },
   {
    "duration": 4,
    "start_time": "2021-06-12T20:27:24.162Z"
   },
   {
    "duration": 47,
    "start_time": "2021-06-12T20:27:24.171Z"
   },
   {
    "duration": 4,
    "start_time": "2021-06-12T20:27:24.222Z"
   },
   {
    "duration": 12,
    "start_time": "2021-06-12T20:27:24.229Z"
   },
   {
    "duration": 10,
    "start_time": "2021-06-12T20:27:24.244Z"
   },
   {
    "duration": 8,
    "start_time": "2021-06-12T20:27:24.256Z"
   },
   {
    "duration": 15,
    "start_time": "2021-06-12T20:27:24.266Z"
   },
   {
    "duration": 33,
    "start_time": "2021-06-12T20:27:24.284Z"
   },
   {
    "duration": 19,
    "start_time": "2021-06-12T20:27:24.319Z"
   },
   {
    "duration": 12,
    "start_time": "2021-06-12T20:27:24.341Z"
   },
   {
    "duration": 18,
    "start_time": "2021-06-12T20:27:24.355Z"
   },
   {
    "duration": 35,
    "start_time": "2021-06-12T20:27:24.376Z"
   },
   {
    "duration": 14,
    "start_time": "2021-06-12T20:27:24.413Z"
   },
   {
    "duration": 6,
    "start_time": "2021-06-12T20:27:24.430Z"
   },
   {
    "duration": 17,
    "start_time": "2021-06-12T20:27:24.438Z"
   },
   {
    "duration": 363,
    "start_time": "2021-06-12T20:27:24.457Z"
   },
   {
    "duration": 51,
    "start_time": "2021-06-12T20:27:24.825Z"
   },
   {
    "duration": 68,
    "start_time": "2021-06-12T20:27:24.910Z"
   },
   {
    "duration": 61,
    "start_time": "2021-06-12T20:27:24.981Z"
   },
   {
    "duration": 5,
    "start_time": "2021-06-12T20:27:25.045Z"
   },
   {
    "duration": 2650,
    "start_time": "2021-06-12T20:27:25.053Z"
   },
   {
    "duration": 1436,
    "start_time": "2021-06-12T20:27:27.710Z"
   },
   {
    "duration": 23,
    "start_time": "2021-06-12T20:27:29.149Z"
   },
   {
    "duration": 40,
    "start_time": "2021-06-12T20:27:29.175Z"
   },
   {
    "duration": 864,
    "start_time": "2021-06-12T20:27:29.217Z"
   },
   {
    "duration": 6,
    "start_time": "2021-06-12T20:27:30.084Z"
   },
   {
    "duration": 8,
    "start_time": "2021-06-12T20:27:30.108Z"
   },
   {
    "duration": 18,
    "start_time": "2021-06-12T20:27:30.119Z"
   },
   {
    "duration": 45940,
    "start_time": "2021-06-12T20:27:30.140Z"
   },
   {
    "duration": 9,
    "start_time": "2021-06-12T20:31:45.882Z"
   },
   {
    "duration": 46475,
    "start_time": "2021-06-12T20:34:14.294Z"
   },
   {
    "duration": 112,
    "start_time": "2021-06-12T20:37:02.797Z"
   },
   {
    "duration": 497,
    "start_time": "2021-06-12T20:41:41.855Z"
   },
   {
    "duration": 333,
    "start_time": "2021-06-12T20:41:57.792Z"
   },
   {
    "duration": 1407,
    "start_time": "2021-06-12T20:42:17.820Z"
   },
   {
    "duration": 336,
    "start_time": "2021-06-12T20:43:05.963Z"
   },
   {
    "duration": 224,
    "start_time": "2021-06-12T20:43:27.593Z"
   },
   {
    "duration": 101,
    "start_time": "2021-06-12T20:57:03.138Z"
   },
   {
    "duration": 318,
    "start_time": "2021-06-12T20:57:09.319Z"
   },
   {
    "duration": 372,
    "start_time": "2021-06-12T20:57:13.414Z"
   },
   {
    "duration": 4,
    "start_time": "2021-06-12T20:57:43.725Z"
   },
   {
    "duration": 407,
    "start_time": "2021-06-12T20:57:46.381Z"
   },
   {
    "duration": 1512,
    "start_time": "2021-06-12T20:58:11.547Z"
   },
   {
    "duration": 2047,
    "start_time": "2021-06-12T20:58:13.062Z"
   },
   {
    "duration": 25,
    "start_time": "2021-06-12T20:58:15.112Z"
   },
   {
    "duration": 113,
    "start_time": "2021-06-12T20:58:15.140Z"
   },
   {
    "duration": 467,
    "start_time": "2021-06-12T20:58:15.255Z"
   },
   {
    "duration": 23,
    "start_time": "2021-06-12T20:58:15.724Z"
   },
   {
    "duration": 4,
    "start_time": "2021-06-12T20:58:15.749Z"
   },
   {
    "duration": 17,
    "start_time": "2021-06-12T20:58:15.757Z"
   },
   {
    "duration": 4,
    "start_time": "2021-06-12T20:58:15.809Z"
   },
   {
    "duration": 12,
    "start_time": "2021-06-12T20:58:15.815Z"
   },
   {
    "duration": 6,
    "start_time": "2021-06-12T20:58:15.829Z"
   },
   {
    "duration": 8,
    "start_time": "2021-06-12T20:58:15.837Z"
   },
   {
    "duration": 12,
    "start_time": "2021-06-12T20:58:15.847Z"
   },
   {
    "duration": 17,
    "start_time": "2021-06-12T20:58:15.861Z"
   },
   {
    "duration": 37,
    "start_time": "2021-06-12T20:58:15.880Z"
   },
   {
    "duration": 44,
    "start_time": "2021-06-12T20:58:15.920Z"
   },
   {
    "duration": 17,
    "start_time": "2021-06-12T20:58:15.967Z"
   },
   {
    "duration": 29,
    "start_time": "2021-06-12T20:58:15.986Z"
   },
   {
    "duration": 40,
    "start_time": "2021-06-12T20:58:16.017Z"
   },
   {
    "duration": 9,
    "start_time": "2021-06-12T20:58:16.059Z"
   },
   {
    "duration": 14,
    "start_time": "2021-06-12T20:58:16.071Z"
   },
   {
    "duration": 378,
    "start_time": "2021-06-12T20:58:16.087Z"
   },
   {
    "duration": 64,
    "start_time": "2021-06-12T20:58:16.470Z"
   },
   {
    "duration": 96,
    "start_time": "2021-06-12T20:58:16.537Z"
   },
   {
    "duration": 35,
    "start_time": "2021-06-12T20:58:16.636Z"
   },
   {
    "duration": 4,
    "start_time": "2021-06-12T20:58:16.674Z"
   },
   {
    "duration": 2723,
    "start_time": "2021-06-12T20:58:16.709Z"
   },
   {
    "duration": 1421,
    "start_time": "2021-06-12T20:58:19.434Z"
   },
   {
    "duration": 23,
    "start_time": "2021-06-12T20:58:20.858Z"
   },
   {
    "duration": 33,
    "start_time": "2021-06-12T20:58:20.884Z"
   },
   {
    "duration": 844,
    "start_time": "2021-06-12T20:58:20.920Z"
   },
   {
    "duration": 4,
    "start_time": "2021-06-12T20:58:21.766Z"
   },
   {
    "duration": 22,
    "start_time": "2021-06-12T20:58:21.773Z"
   },
   {
    "duration": 24,
    "start_time": "2021-06-12T20:58:21.797Z"
   },
   {
    "duration": 24,
    "start_time": "2021-06-12T20:58:21.823Z"
   },
   {
    "duration": 528,
    "start_time": "2021-06-12T20:58:21.849Z"
   },
   {
    "duration": 353,
    "start_time": "2021-06-12T21:00:17.789Z"
   },
   {
    "duration": 4,
    "start_time": "2021-06-12T21:00:21.520Z"
   },
   {
    "duration": 373,
    "start_time": "2021-06-12T21:00:23.712Z"
   },
   {
    "duration": 12,
    "start_time": "2021-06-12T21:01:17.823Z"
   },
   {
    "duration": 58,
    "start_time": "2021-06-12T21:02:13.189Z"
   },
   {
    "duration": 325,
    "start_time": "2021-06-12T21:03:11.258Z"
   },
   {
    "duration": 36,
    "start_time": "2021-06-12T21:03:56.138Z"
   },
   {
    "duration": 372,
    "start_time": "2021-06-12T21:04:21.757Z"
   },
   {
    "duration": 1480,
    "start_time": "2021-06-12T21:04:40.366Z"
   },
   {
    "duration": 2059,
    "start_time": "2021-06-12T21:04:41.849Z"
   },
   {
    "duration": 26,
    "start_time": "2021-06-12T21:04:43.911Z"
   },
   {
    "duration": 113,
    "start_time": "2021-06-12T21:04:43.940Z"
   },
   {
    "duration": 468,
    "start_time": "2021-06-12T21:04:44.056Z"
   },
   {
    "duration": 23,
    "start_time": "2021-06-12T21:04:44.526Z"
   },
   {
    "duration": 5,
    "start_time": "2021-06-12T21:04:44.552Z"
   },
   {
    "duration": 49,
    "start_time": "2021-06-12T21:04:44.561Z"
   },
   {
    "duration": 4,
    "start_time": "2021-06-12T21:04:44.614Z"
   },
   {
    "duration": 23,
    "start_time": "2021-06-12T21:04:44.620Z"
   },
   {
    "duration": 14,
    "start_time": "2021-06-12T21:04:44.645Z"
   },
   {
    "duration": 27,
    "start_time": "2021-06-12T21:04:44.661Z"
   },
   {
    "duration": 33,
    "start_time": "2021-06-12T21:04:44.691Z"
   },
   {
    "duration": 11,
    "start_time": "2021-06-12T21:04:44.727Z"
   },
   {
    "duration": 14,
    "start_time": "2021-06-12T21:04:44.741Z"
   },
   {
    "duration": 12,
    "start_time": "2021-06-12T21:04:44.757Z"
   },
   {
    "duration": 13,
    "start_time": "2021-06-12T21:04:44.772Z"
   },
   {
    "duration": 34,
    "start_time": "2021-06-12T21:04:44.787Z"
   },
   {
    "duration": 24,
    "start_time": "2021-06-12T21:04:44.823Z"
   },
   {
    "duration": 14,
    "start_time": "2021-06-12T21:04:44.849Z"
   },
   {
    "duration": 14,
    "start_time": "2021-06-12T21:04:44.865Z"
   },
   {
    "duration": 340,
    "start_time": "2021-06-12T21:04:44.881Z"
   },
   {
    "duration": 51,
    "start_time": "2021-06-12T21:04:45.225Z"
   },
   {
    "duration": 487,
    "start_time": "2021-06-12T21:04:45.310Z"
   },
   {
    "duration": -19,
    "start_time": "2021-06-12T21:04:45.819Z"
   },
   {
    "duration": -26,
    "start_time": "2021-06-12T21:04:45.827Z"
   },
   {
    "duration": -36,
    "start_time": "2021-06-12T21:04:45.838Z"
   },
   {
    "duration": -41,
    "start_time": "2021-06-12T21:04:45.845Z"
   },
   {
    "duration": -45,
    "start_time": "2021-06-12T21:04:45.850Z"
   },
   {
    "duration": -50,
    "start_time": "2021-06-12T21:04:45.856Z"
   },
   {
    "duration": -54,
    "start_time": "2021-06-12T21:04:45.861Z"
   },
   {
    "duration": -58,
    "start_time": "2021-06-12T21:04:45.866Z"
   },
   {
    "duration": -61,
    "start_time": "2021-06-12T21:04:45.871Z"
   },
   {
    "duration": -65,
    "start_time": "2021-06-12T21:04:45.876Z"
   },
   {
    "duration": -68,
    "start_time": "2021-06-12T21:04:45.880Z"
   },
   {
    "duration": -71,
    "start_time": "2021-06-12T21:04:45.884Z"
   },
   {
    "duration": -75,
    "start_time": "2021-06-12T21:04:45.889Z"
   },
   {
    "duration": 25,
    "start_time": "2021-06-12T21:05:22.275Z"
   },
   {
    "duration": 365,
    "start_time": "2021-06-12T21:05:29.431Z"
   },
   {
    "duration": 355,
    "start_time": "2021-06-12T21:07:14.224Z"
   },
   {
    "duration": 4276,
    "start_time": "2021-06-12T21:07:23.534Z"
   },
   {
    "duration": 20,
    "start_time": "2021-06-12T21:08:29.582Z"
   },
   {
    "duration": 49,
    "start_time": "2021-06-12T21:08:33.844Z"
   },
   {
    "duration": 1486,
    "start_time": "2021-06-12T21:09:51.657Z"
   },
   {
    "duration": 2032,
    "start_time": "2021-06-12T21:09:53.146Z"
   },
   {
    "duration": 40,
    "start_time": "2021-06-12T21:09:55.181Z"
   },
   {
    "duration": 115,
    "start_time": "2021-06-12T21:09:55.224Z"
   },
   {
    "duration": 468,
    "start_time": "2021-06-12T21:09:55.342Z"
   },
   {
    "duration": 27,
    "start_time": "2021-06-12T21:09:55.813Z"
   },
   {
    "duration": 5,
    "start_time": "2021-06-12T21:09:55.843Z"
   },
   {
    "duration": 62,
    "start_time": "2021-06-12T21:09:55.854Z"
   },
   {
    "duration": 5,
    "start_time": "2021-06-12T21:09:55.920Z"
   },
   {
    "duration": 16,
    "start_time": "2021-06-12T21:09:55.928Z"
   },
   {
    "duration": 10,
    "start_time": "2021-06-12T21:09:55.947Z"
   },
   {
    "duration": 8,
    "start_time": "2021-06-12T21:09:55.960Z"
   },
   {
    "duration": 39,
    "start_time": "2021-06-12T21:09:55.970Z"
   },
   {
    "duration": 10,
    "start_time": "2021-06-12T21:09:56.012Z"
   },
   {
    "duration": 17,
    "start_time": "2021-06-12T21:09:56.025Z"
   },
   {
    "duration": 10,
    "start_time": "2021-06-12T21:09:56.044Z"
   },
   {
    "duration": 8,
    "start_time": "2021-06-12T21:09:56.057Z"
   },
   {
    "duration": 42,
    "start_time": "2021-06-12T21:09:56.067Z"
   },
   {
    "duration": 10,
    "start_time": "2021-06-12T21:09:56.111Z"
   },
   {
    "duration": 12,
    "start_time": "2021-06-12T21:09:56.123Z"
   },
   {
    "duration": 24,
    "start_time": "2021-06-12T21:09:56.137Z"
   },
   {
    "duration": 401,
    "start_time": "2021-06-12T21:09:56.163Z"
   },
   {
    "duration": 69,
    "start_time": "2021-06-12T21:09:56.569Z"
   },
   {
    "duration": 534,
    "start_time": "2021-06-12T21:09:56.642Z"
   },
   {
    "duration": -39,
    "start_time": "2021-06-12T21:09:57.218Z"
   },
   {
    "duration": -43,
    "start_time": "2021-06-12T21:09:57.224Z"
   },
   {
    "duration": -49,
    "start_time": "2021-06-12T21:09:57.232Z"
   },
   {
    "duration": -51,
    "start_time": "2021-06-12T21:09:57.237Z"
   },
   {
    "duration": -58,
    "start_time": "2021-06-12T21:09:57.246Z"
   },
   {
    "duration": -77,
    "start_time": "2021-06-12T21:09:57.267Z"
   },
   {
    "duration": -81,
    "start_time": "2021-06-12T21:09:57.273Z"
   },
   {
    "duration": -89,
    "start_time": "2021-06-12T21:09:57.283Z"
   },
   {
    "duration": -93,
    "start_time": "2021-06-12T21:09:57.289Z"
   },
   {
    "duration": -98,
    "start_time": "2021-06-12T21:09:57.296Z"
   },
   {
    "duration": -106,
    "start_time": "2021-06-12T21:09:57.306Z"
   },
   {
    "duration": -114,
    "start_time": "2021-06-12T21:09:57.316Z"
   },
   {
    "duration": -123,
    "start_time": "2021-06-12T21:09:57.327Z"
   },
   {
    "duration": 1485,
    "start_time": "2021-06-12T21:10:47.562Z"
   },
   {
    "duration": 2054,
    "start_time": "2021-06-12T21:10:49.049Z"
   },
   {
    "duration": 27,
    "start_time": "2021-06-12T21:10:51.108Z"
   },
   {
    "duration": 111,
    "start_time": "2021-06-12T21:10:51.138Z"
   },
   {
    "duration": 465,
    "start_time": "2021-06-12T21:10:51.252Z"
   },
   {
    "duration": 24,
    "start_time": "2021-06-12T21:10:51.719Z"
   },
   {
    "duration": 21,
    "start_time": "2021-06-12T21:10:51.745Z"
   },
   {
    "duration": 25,
    "start_time": "2021-06-12T21:10:51.768Z"
   },
   {
    "duration": 4,
    "start_time": "2021-06-12T21:10:51.810Z"
   },
   {
    "duration": 22,
    "start_time": "2021-06-12T21:10:51.817Z"
   },
   {
    "duration": 15,
    "start_time": "2021-06-12T21:10:51.842Z"
   },
   {
    "duration": 22,
    "start_time": "2021-06-12T21:10:51.859Z"
   },
   {
    "duration": 25,
    "start_time": "2021-06-12T21:10:51.884Z"
   },
   {
    "duration": 20,
    "start_time": "2021-06-12T21:10:51.911Z"
   },
   {
    "duration": 28,
    "start_time": "2021-06-12T21:10:51.933Z"
   },
   {
    "duration": 16,
    "start_time": "2021-06-12T21:10:51.964Z"
   },
   {
    "duration": 23,
    "start_time": "2021-06-12T21:10:51.983Z"
   },
   {
    "duration": 41,
    "start_time": "2021-06-12T21:10:52.008Z"
   },
   {
    "duration": 18,
    "start_time": "2021-06-12T21:10:52.051Z"
   },
   {
    "duration": 12,
    "start_time": "2021-06-12T21:10:52.071Z"
   },
   {
    "duration": 18,
    "start_time": "2021-06-12T21:10:52.086Z"
   },
   {
    "duration": 388,
    "start_time": "2021-06-12T21:10:52.107Z"
   },
   {
    "duration": 59,
    "start_time": "2021-06-12T21:10:52.498Z"
   },
   {
    "duration": 115,
    "start_time": "2021-06-12T21:10:52.560Z"
   },
   {
    "duration": 72,
    "start_time": "2021-06-12T21:10:52.678Z"
   },
   {
    "duration": 5,
    "start_time": "2021-06-12T21:10:52.754Z"
   },
   {
    "duration": 2757,
    "start_time": "2021-06-12T21:10:52.766Z"
   },
   {
    "duration": 1446,
    "start_time": "2021-06-12T21:10:55.526Z"
   },
   {
    "duration": 34,
    "start_time": "2021-06-12T21:10:56.975Z"
   },
   {
    "duration": 14,
    "start_time": "2021-06-12T21:10:57.011Z"
   },
   {
    "duration": 976,
    "start_time": "2021-06-12T21:10:57.028Z"
   },
   {
    "duration": 4,
    "start_time": "2021-06-12T21:10:58.008Z"
   },
   {
    "duration": 10,
    "start_time": "2021-06-12T21:10:58.014Z"
   },
   {
    "duration": 16,
    "start_time": "2021-06-12T21:10:58.027Z"
   },
   {
    "duration": 20,
    "start_time": "2021-06-12T21:10:58.046Z"
   },
   {
    "duration": 7,
    "start_time": "2021-06-12T21:10:58.068Z"
   },
   {
    "duration": 1217,
    "start_time": "2021-06-12T21:10:58.078Z"
   },
   {
    "duration": 1543,
    "start_time": "2021-06-12T21:12:34.201Z"
   },
   {
    "duration": 2056,
    "start_time": "2021-06-12T21:12:35.747Z"
   },
   {
    "duration": 27,
    "start_time": "2021-06-12T21:12:37.806Z"
   },
   {
    "duration": 116,
    "start_time": "2021-06-12T21:12:37.836Z"
   },
   {
    "duration": 461,
    "start_time": "2021-06-12T21:12:37.954Z"
   },
   {
    "duration": 23,
    "start_time": "2021-06-12T21:12:38.418Z"
   },
   {
    "duration": 5,
    "start_time": "2021-06-12T21:12:38.444Z"
   },
   {
    "duration": 54,
    "start_time": "2021-06-12T21:12:38.455Z"
   },
   {
    "duration": 4,
    "start_time": "2021-06-12T21:12:38.513Z"
   },
   {
    "duration": 11,
    "start_time": "2021-06-12T21:12:38.521Z"
   },
   {
    "duration": 5,
    "start_time": "2021-06-12T21:12:38.535Z"
   },
   {
    "duration": 11,
    "start_time": "2021-06-12T21:12:38.543Z"
   },
   {
    "duration": 16,
    "start_time": "2021-06-12T21:12:38.556Z"
   },
   {
    "duration": 39,
    "start_time": "2021-06-12T21:12:38.574Z"
   },
   {
    "duration": 22,
    "start_time": "2021-06-12T21:12:38.615Z"
   },
   {
    "duration": 14,
    "start_time": "2021-06-12T21:12:38.639Z"
   },
   {
    "duration": 15,
    "start_time": "2021-06-12T21:12:38.656Z"
   },
   {
    "duration": 10,
    "start_time": "2021-06-12T21:12:38.673Z"
   },
   {
    "duration": 24,
    "start_time": "2021-06-12T21:12:38.685Z"
   },
   {
    "duration": 4,
    "start_time": "2021-06-12T21:12:38.711Z"
   },
   {
    "duration": 8,
    "start_time": "2021-06-12T21:12:38.718Z"
   },
   {
    "duration": 372,
    "start_time": "2021-06-12T21:12:38.728Z"
   },
   {
    "duration": 52,
    "start_time": "2021-06-12T21:12:39.110Z"
   },
   {
    "duration": 109,
    "start_time": "2021-06-12T21:12:39.166Z"
   },
   {
    "duration": 45,
    "start_time": "2021-06-12T21:12:39.310Z"
   },
   {
    "duration": 6,
    "start_time": "2021-06-12T21:12:39.358Z"
   },
   {
    "duration": 2673,
    "start_time": "2021-06-12T21:12:39.367Z"
   },
   {
    "duration": 1530,
    "start_time": "2021-06-12T21:12:42.043Z"
   },
   {
    "duration": 39,
    "start_time": "2021-06-12T21:12:43.576Z"
   },
   {
    "duration": 16,
    "start_time": "2021-06-12T21:12:43.618Z"
   },
   {
    "duration": 855,
    "start_time": "2021-06-12T21:12:43.637Z"
   },
   {
    "duration": 12,
    "start_time": "2021-06-12T21:12:44.496Z"
   },
   {
    "duration": 7,
    "start_time": "2021-06-12T21:12:44.511Z"
   },
   {
    "duration": 12,
    "start_time": "2021-06-12T21:12:44.521Z"
   },
   {
    "duration": 8,
    "start_time": "2021-06-12T21:12:44.536Z"
   },
   {
    "duration": 1301,
    "start_time": "2021-06-12T21:12:44.546Z"
   },
   {
    "duration": 30191,
    "start_time": "2021-06-12T21:14:20.653Z"
   },
   {
    "duration": 1528,
    "start_time": "2021-06-12T21:16:02.563Z"
   },
   {
    "duration": 5,
    "start_time": "2021-06-12T21:21:07.211Z"
   },
   {
    "duration": 4,
    "start_time": "2021-06-12T21:21:08.312Z"
   },
   {
    "duration": 9,
    "start_time": "2021-06-12T21:21:11.721Z"
   },
   {
    "duration": 4,
    "start_time": "2021-06-12T21:21:14.520Z"
   },
   {
    "duration": 790,
    "start_time": "2021-06-12T21:21:17.368Z"
   },
   {
    "duration": 1461,
    "start_time": "2021-06-12T21:22:28.748Z"
   },
   {
    "duration": 2106,
    "start_time": "2021-06-12T21:22:30.211Z"
   },
   {
    "duration": 30,
    "start_time": "2021-06-12T21:22:32.320Z"
   },
   {
    "duration": 116,
    "start_time": "2021-06-12T21:22:32.353Z"
   },
   {
    "duration": 477,
    "start_time": "2021-06-12T21:22:32.471Z"
   },
   {
    "duration": 27,
    "start_time": "2021-06-12T21:22:32.951Z"
   },
   {
    "duration": 5,
    "start_time": "2021-06-12T21:22:32.981Z"
   },
   {
    "duration": 17,
    "start_time": "2021-06-12T21:22:33.012Z"
   },
   {
    "duration": 4,
    "start_time": "2021-06-12T21:22:33.032Z"
   },
   {
    "duration": 19,
    "start_time": "2021-06-12T21:22:33.039Z"
   },
   {
    "duration": 6,
    "start_time": "2021-06-12T21:22:33.061Z"
   },
   {
    "duration": 40,
    "start_time": "2021-06-12T21:22:33.069Z"
   },
   {
    "duration": 21,
    "start_time": "2021-06-12T21:22:33.112Z"
   },
   {
    "duration": 23,
    "start_time": "2021-06-12T21:22:33.135Z"
   },
   {
    "duration": 20,
    "start_time": "2021-06-12T21:22:33.161Z"
   },
   {
    "duration": 16,
    "start_time": "2021-06-12T21:22:33.184Z"
   },
   {
    "duration": 18,
    "start_time": "2021-06-12T21:22:33.202Z"
   },
   {
    "duration": 19,
    "start_time": "2021-06-12T21:22:33.222Z"
   },
   {
    "duration": 13,
    "start_time": "2021-06-12T21:22:33.243Z"
   },
   {
    "duration": 27,
    "start_time": "2021-06-12T21:22:33.258Z"
   },
   {
    "duration": 28,
    "start_time": "2021-06-12T21:22:33.288Z"
   },
   {
    "duration": 378,
    "start_time": "2021-06-12T21:22:33.318Z"
   },
   {
    "duration": 58,
    "start_time": "2021-06-12T21:22:33.700Z"
   },
   {
    "duration": 103,
    "start_time": "2021-06-12T21:22:33.761Z"
   },
   {
    "duration": 70,
    "start_time": "2021-06-12T21:22:33.867Z"
   },
   {
    "duration": 4,
    "start_time": "2021-06-12T21:22:33.940Z"
   },
   {
    "duration": 2697,
    "start_time": "2021-06-12T21:22:33.946Z"
   },
   {
    "duration": 1467,
    "start_time": "2021-06-12T21:22:36.646Z"
   },
   {
    "duration": 20,
    "start_time": "2021-06-12T21:22:38.116Z"
   },
   {
    "duration": 13,
    "start_time": "2021-06-12T21:22:38.139Z"
   },
   {
    "duration": 876,
    "start_time": "2021-06-12T21:22:38.155Z"
   },
   {
    "duration": 4,
    "start_time": "2021-06-12T21:22:39.033Z"
   },
   {
    "duration": 13,
    "start_time": "2021-06-12T21:22:39.039Z"
   },
   {
    "duration": 25,
    "start_time": "2021-06-12T21:22:39.054Z"
   },
   {
    "duration": 14,
    "start_time": "2021-06-12T21:22:39.081Z"
   },
   {
    "duration": 1182,
    "start_time": "2021-06-12T21:22:39.098Z"
   },
   {
    "duration": 1550,
    "start_time": "2021-06-12T21:23:13.899Z"
   },
   {
    "duration": 2098,
    "start_time": "2021-06-12T21:23:15.451Z"
   },
   {
    "duration": 25,
    "start_time": "2021-06-12T21:23:17.552Z"
   },
   {
    "duration": 109,
    "start_time": "2021-06-12T21:23:17.580Z"
   },
   {
    "duration": 487,
    "start_time": "2021-06-12T21:23:17.691Z"
   },
   {
    "duration": 36,
    "start_time": "2021-06-12T21:23:18.180Z"
   },
   {
    "duration": 4,
    "start_time": "2021-06-12T21:23:18.219Z"
   },
   {
    "duration": 19,
    "start_time": "2021-06-12T21:23:18.227Z"
   },
   {
    "duration": 5,
    "start_time": "2021-06-12T21:23:18.249Z"
   },
   {
    "duration": 10,
    "start_time": "2021-06-12T21:23:18.256Z"
   },
   {
    "duration": 41,
    "start_time": "2021-06-12T21:23:18.269Z"
   },
   {
    "duration": 4,
    "start_time": "2021-06-12T21:23:18.313Z"
   },
   {
    "duration": 14,
    "start_time": "2021-06-12T21:23:18.320Z"
   },
   {
    "duration": 9,
    "start_time": "2021-06-12T21:23:18.337Z"
   },
   {
    "duration": 14,
    "start_time": "2021-06-12T21:23:18.349Z"
   },
   {
    "duration": 44,
    "start_time": "2021-06-12T21:23:18.365Z"
   },
   {
    "duration": 9,
    "start_time": "2021-06-12T21:23:18.411Z"
   },
   {
    "duration": 7,
    "start_time": "2021-06-12T21:23:18.423Z"
   },
   {
    "duration": 6,
    "start_time": "2021-06-12T21:23:18.432Z"
   },
   {
    "duration": 6,
    "start_time": "2021-06-12T21:23:18.440Z"
   },
   {
    "duration": 7,
    "start_time": "2021-06-12T21:23:18.448Z"
   },
   {
    "duration": 399,
    "start_time": "2021-06-12T21:23:18.458Z"
   },
   {
    "duration": 75,
    "start_time": "2021-06-12T21:23:18.861Z"
   },
   {
    "duration": 94,
    "start_time": "2021-06-12T21:23:18.938Z"
   },
   {
    "duration": 40,
    "start_time": "2021-06-12T21:23:19.035Z"
   },
   {
    "duration": 32,
    "start_time": "2021-06-12T21:23:19.078Z"
   },
   {
    "duration": 2700,
    "start_time": "2021-06-12T21:23:19.113Z"
   },
   {
    "duration": 1415,
    "start_time": "2021-06-12T21:23:21.816Z"
   },
   {
    "duration": 19,
    "start_time": "2021-06-12T21:23:23.234Z"
   },
   {
    "duration": 13,
    "start_time": "2021-06-12T21:23:23.256Z"
   },
   {
    "duration": 854,
    "start_time": "2021-06-12T21:23:23.271Z"
   },
   {
    "duration": 4,
    "start_time": "2021-06-12T21:23:24.128Z"
   },
   {
    "duration": 7,
    "start_time": "2021-06-12T21:23:24.134Z"
   },
   {
    "duration": 15,
    "start_time": "2021-06-12T21:23:24.144Z"
   },
   {
    "duration": 8,
    "start_time": "2021-06-12T21:23:24.162Z"
   },
   {
    "duration": 1187,
    "start_time": "2021-06-12T21:23:24.173Z"
   },
   {
    "duration": 701,
    "start_time": "2021-06-12T21:24:36.679Z"
   },
   {
    "duration": 677,
    "start_time": "2021-06-12T21:24:53.075Z"
   },
   {
    "duration": 338,
    "start_time": "2021-06-12T21:25:27.422Z"
   },
   {
    "duration": 752,
    "start_time": "2021-06-12T21:25:32.837Z"
   },
   {
    "duration": 630,
    "start_time": "2021-06-12T21:28:12.807Z"
   },
   {
    "duration": 8,
    "start_time": "2021-06-12T21:28:37.511Z"
   },
   {
    "duration": 5,
    "start_time": "2021-06-12T21:29:06.852Z"
   },
   {
    "duration": 10,
    "start_time": "2021-06-12T21:29:09.818Z"
   },
   {
    "duration": 1007,
    "start_time": "2021-06-12T21:29:28.404Z"
   },
   {
    "duration": 1561,
    "start_time": "2021-06-12T21:29:37.888Z"
   },
   {
    "duration": 2058,
    "start_time": "2021-06-12T21:29:39.451Z"
   },
   {
    "duration": 27,
    "start_time": "2021-06-12T21:29:41.512Z"
   },
   {
    "duration": 111,
    "start_time": "2021-06-12T21:29:41.542Z"
   },
   {
    "duration": 465,
    "start_time": "2021-06-12T21:29:41.655Z"
   },
   {
    "duration": 22,
    "start_time": "2021-06-12T21:29:42.123Z"
   },
   {
    "duration": 4,
    "start_time": "2021-06-12T21:29:42.148Z"
   },
   {
    "duration": 23,
    "start_time": "2021-06-12T21:29:42.155Z"
   },
   {
    "duration": 4,
    "start_time": "2021-06-12T21:29:42.209Z"
   },
   {
    "duration": 12,
    "start_time": "2021-06-12T21:29:42.215Z"
   },
   {
    "duration": 13,
    "start_time": "2021-06-12T21:29:42.229Z"
   },
   {
    "duration": 13,
    "start_time": "2021-06-12T21:29:42.244Z"
   },
   {
    "duration": 21,
    "start_time": "2021-06-12T21:29:42.259Z"
   },
   {
    "duration": 9,
    "start_time": "2021-06-12T21:29:42.282Z"
   },
   {
    "duration": 12,
    "start_time": "2021-06-12T21:29:42.309Z"
   },
   {
    "duration": 18,
    "start_time": "2021-06-12T21:29:42.323Z"
   },
   {
    "duration": 9,
    "start_time": "2021-06-12T21:29:42.343Z"
   },
   {
    "duration": 12,
    "start_time": "2021-06-12T21:29:42.354Z"
   },
   {
    "duration": 7,
    "start_time": "2021-06-12T21:29:42.368Z"
   },
   {
    "duration": 32,
    "start_time": "2021-06-12T21:29:42.377Z"
   },
   {
    "duration": 8,
    "start_time": "2021-06-12T21:29:42.412Z"
   },
   {
    "duration": 375,
    "start_time": "2021-06-12T21:29:42.422Z"
   },
   {
    "duration": 54,
    "start_time": "2021-06-12T21:29:42.802Z"
   },
   {
    "duration": 102,
    "start_time": "2021-06-12T21:29:42.858Z"
   },
   {
    "duration": 63,
    "start_time": "2021-06-12T21:29:42.962Z"
   },
   {
    "duration": 4,
    "start_time": "2021-06-12T21:29:43.027Z"
   },
   {
    "duration": 2671,
    "start_time": "2021-06-12T21:29:43.033Z"
   },
   {
    "duration": 1414,
    "start_time": "2021-06-12T21:29:45.709Z"
   },
   {
    "duration": 21,
    "start_time": "2021-06-12T21:29:47.125Z"
   },
   {
    "duration": 14,
    "start_time": "2021-06-12T21:29:47.149Z"
   },
   {
    "duration": 866,
    "start_time": "2021-06-12T21:29:47.165Z"
   },
   {
    "duration": 5,
    "start_time": "2021-06-12T21:29:48.033Z"
   },
   {
    "duration": 9,
    "start_time": "2021-06-12T21:29:48.040Z"
   },
   {
    "duration": 12,
    "start_time": "2021-06-12T21:29:48.052Z"
   },
   {
    "duration": 10,
    "start_time": "2021-06-12T21:29:48.067Z"
   },
   {
    "duration": 1330,
    "start_time": "2021-06-12T21:29:48.079Z"
   },
   {
    "duration": 997,
    "start_time": "2021-06-12T21:36:04.320Z"
   },
   {
    "duration": 721,
    "start_time": "2021-06-12T21:38:41.999Z"
   },
   {
    "duration": 968,
    "start_time": "2021-06-12T21:39:46.242Z"
   },
   {
    "duration": 6,
    "start_time": "2021-06-12T21:52:43.299Z"
   },
   {
    "duration": 1556,
    "start_time": "2021-06-12T21:52:49.397Z"
   },
   {
    "duration": 2052,
    "start_time": "2021-06-12T21:52:50.956Z"
   },
   {
    "duration": 27,
    "start_time": "2021-06-12T21:52:53.012Z"
   },
   {
    "duration": 120,
    "start_time": "2021-06-12T21:52:53.043Z"
   },
   {
    "duration": 475,
    "start_time": "2021-06-12T21:52:53.167Z"
   },
   {
    "duration": 24,
    "start_time": "2021-06-12T21:52:53.645Z"
   },
   {
    "duration": 37,
    "start_time": "2021-06-12T21:52:53.672Z"
   },
   {
    "duration": 17,
    "start_time": "2021-06-12T21:52:53.712Z"
   },
   {
    "duration": 4,
    "start_time": "2021-06-12T21:52:53.731Z"
   },
   {
    "duration": 17,
    "start_time": "2021-06-12T21:52:53.738Z"
   },
   {
    "duration": 4,
    "start_time": "2021-06-12T21:52:53.757Z"
   },
   {
    "duration": 6,
    "start_time": "2021-06-12T21:52:53.763Z"
   },
   {
    "duration": 40,
    "start_time": "2021-06-12T21:52:53.771Z"
   },
   {
    "duration": 11,
    "start_time": "2021-06-12T21:52:53.814Z"
   },
   {
    "duration": 21,
    "start_time": "2021-06-12T21:52:53.828Z"
   },
   {
    "duration": 8,
    "start_time": "2021-06-12T21:52:53.852Z"
   },
   {
    "duration": 8,
    "start_time": "2021-06-12T21:52:53.863Z"
   },
   {
    "duration": 36,
    "start_time": "2021-06-12T21:52:53.873Z"
   },
   {
    "duration": 5,
    "start_time": "2021-06-12T21:52:53.911Z"
   },
   {
    "duration": 22,
    "start_time": "2021-06-12T21:52:53.918Z"
   },
   {
    "duration": 7,
    "start_time": "2021-06-12T21:52:53.942Z"
   },
   {
    "duration": 359,
    "start_time": "2021-06-12T21:52:53.951Z"
   },
   {
    "duration": 49,
    "start_time": "2021-06-12T21:52:54.315Z"
   },
   {
    "duration": 93,
    "start_time": "2021-06-12T21:52:54.367Z"
   },
   {
    "duration": 67,
    "start_time": "2021-06-12T21:52:54.462Z"
   },
   {
    "duration": 4,
    "start_time": "2021-06-12T21:52:54.531Z"
   },
   {
    "duration": 2677,
    "start_time": "2021-06-12T21:52:54.538Z"
   },
   {
    "duration": 1415,
    "start_time": "2021-06-12T21:52:57.218Z"
   },
   {
    "duration": 19,
    "start_time": "2021-06-12T21:52:58.635Z"
   },
   {
    "duration": 13,
    "start_time": "2021-06-12T21:52:58.656Z"
   },
   {
    "duration": 862,
    "start_time": "2021-06-12T21:52:58.671Z"
   },
   {
    "duration": 5,
    "start_time": "2021-06-12T21:52:59.535Z"
   },
   {
    "duration": 15,
    "start_time": "2021-06-12T21:52:59.542Z"
   },
   {
    "duration": 9,
    "start_time": "2021-06-12T21:52:59.560Z"
   },
   {
    "duration": 1844,
    "start_time": "2021-06-12T21:52:59.571Z"
   },
   {
    "duration": 1534,
    "start_time": "2021-06-12T22:02:47.415Z"
   },
   {
    "duration": 2050,
    "start_time": "2021-06-12T22:02:48.952Z"
   },
   {
    "duration": 27,
    "start_time": "2021-06-12T22:02:51.009Z"
   },
   {
    "duration": 115,
    "start_time": "2021-06-12T22:02:51.038Z"
   },
   {
    "duration": 479,
    "start_time": "2021-06-12T22:02:51.156Z"
   },
   {
    "duration": 25,
    "start_time": "2021-06-12T22:02:51.637Z"
   },
   {
    "duration": 4,
    "start_time": "2021-06-12T22:02:51.666Z"
   },
   {
    "duration": 43,
    "start_time": "2021-06-12T22:02:51.673Z"
   },
   {
    "duration": 4,
    "start_time": "2021-06-12T22:02:51.719Z"
   },
   {
    "duration": 20,
    "start_time": "2021-06-12T22:02:51.725Z"
   },
   {
    "duration": 12,
    "start_time": "2021-06-12T22:02:51.747Z"
   },
   {
    "duration": 11,
    "start_time": "2021-06-12T22:02:51.762Z"
   },
   {
    "duration": 16,
    "start_time": "2021-06-12T22:02:51.775Z"
   },
   {
    "duration": 17,
    "start_time": "2021-06-12T22:02:51.793Z"
   },
   {
    "duration": 14,
    "start_time": "2021-06-12T22:02:51.812Z"
   },
   {
    "duration": 10,
    "start_time": "2021-06-12T22:02:51.828Z"
   },
   {
    "duration": 8,
    "start_time": "2021-06-12T22:02:51.841Z"
   },
   {
    "duration": 7,
    "start_time": "2021-06-12T22:02:51.851Z"
   },
   {
    "duration": 7,
    "start_time": "2021-06-12T22:02:51.860Z"
   },
   {
    "duration": 42,
    "start_time": "2021-06-12T22:02:51.870Z"
   },
   {
    "duration": 8,
    "start_time": "2021-06-12T22:02:51.914Z"
   },
   {
    "duration": 365,
    "start_time": "2021-06-12T22:02:51.926Z"
   },
   {
    "duration": 62,
    "start_time": "2021-06-12T22:02:52.293Z"
   },
   {
    "duration": 108,
    "start_time": "2021-06-12T22:02:52.358Z"
   },
   {
    "duration": 75,
    "start_time": "2021-06-12T22:02:52.469Z"
   },
   {
    "duration": 5,
    "start_time": "2021-06-12T22:02:52.547Z"
   },
   {
    "duration": 2788,
    "start_time": "2021-06-12T22:02:52.555Z"
   },
   {
    "duration": 1430,
    "start_time": "2021-06-12T22:02:55.345Z"
   },
   {
    "duration": 34,
    "start_time": "2021-06-12T22:02:56.777Z"
   },
   {
    "duration": 14,
    "start_time": "2021-06-12T22:02:56.813Z"
   },
   {
    "duration": 866,
    "start_time": "2021-06-12T22:02:56.829Z"
   },
   {
    "duration": 13,
    "start_time": "2021-06-12T22:02:57.697Z"
   },
   {
    "duration": 14,
    "start_time": "2021-06-12T22:02:57.713Z"
   },
   {
    "duration": 22,
    "start_time": "2021-06-12T22:02:57.730Z"
   },
   {
    "duration": 6,
    "start_time": "2021-06-12T22:02:57.754Z"
   },
   {
    "duration": 1175,
    "start_time": "2021-06-12T22:02:57.762Z"
   },
   {
    "duration": 5,
    "start_time": "2021-06-12T22:05:30.390Z"
   },
   {
    "duration": 5,
    "start_time": "2021-06-12T22:05:32.110Z"
   },
   {
    "duration": 9,
    "start_time": "2021-06-12T22:05:36.543Z"
   },
   {
    "duration": 4,
    "start_time": "2021-06-12T22:05:37.029Z"
   },
   {
    "duration": 862,
    "start_time": "2021-06-12T22:05:38.273Z"
   },
   {
    "duration": 6,
    "start_time": "2021-06-12T22:07:53.429Z"
   },
   {
    "duration": 10,
    "start_time": "2021-06-12T22:08:01.283Z"
   },
   {
    "duration": 2528,
    "start_time": "2021-06-12T22:08:32.746Z"
   },
   {
    "duration": 8265,
    "start_time": "2021-06-12T22:09:04.537Z"
   },
   {
    "duration": 10,
    "start_time": "2021-06-12T22:09:28.743Z"
   },
   {
    "duration": 11,
    "start_time": "2021-06-12T22:09:37.020Z"
   },
   {
    "duration": 10,
    "start_time": "2021-06-12T22:09:46.386Z"
   },
   {
    "duration": 2416,
    "start_time": "2021-06-12T22:09:52.223Z"
   },
   {
    "duration": 2416,
    "start_time": "2021-06-12T22:10:02.782Z"
   },
   {
    "duration": 5,
    "start_time": "2021-06-12T22:11:16.757Z"
   },
   {
    "duration": 9,
    "start_time": "2021-06-12T22:11:25.637Z"
   },
   {
    "duration": 3,
    "start_time": "2021-06-12T22:11:26.123Z"
   },
   {
    "duration": 2815,
    "start_time": "2021-06-12T22:11:27.010Z"
   },
   {
    "duration": 1551,
    "start_time": "2021-06-12T22:16:27.801Z"
   },
   {
    "duration": 2155,
    "start_time": "2021-06-12T22:16:29.354Z"
   },
   {
    "duration": 25,
    "start_time": "2021-06-12T22:16:31.513Z"
   },
   {
    "duration": 114,
    "start_time": "2021-06-12T22:16:31.541Z"
   },
   {
    "duration": 473,
    "start_time": "2021-06-12T22:16:31.657Z"
   },
   {
    "duration": 25,
    "start_time": "2021-06-12T22:16:32.133Z"
   },
   {
    "duration": 5,
    "start_time": "2021-06-12T22:16:32.160Z"
   },
   {
    "duration": 49,
    "start_time": "2021-06-12T22:16:32.168Z"
   },
   {
    "duration": 9,
    "start_time": "2021-06-12T22:16:32.221Z"
   },
   {
    "duration": 8,
    "start_time": "2021-06-12T22:16:32.241Z"
   },
   {
    "duration": 12,
    "start_time": "2021-06-12T22:16:32.252Z"
   },
   {
    "duration": 16,
    "start_time": "2021-06-12T22:16:32.267Z"
   },
   {
    "duration": 33,
    "start_time": "2021-06-12T22:16:32.286Z"
   },
   {
    "duration": 12,
    "start_time": "2021-06-12T22:16:32.323Z"
   },
   {
    "duration": 12,
    "start_time": "2021-06-12T22:16:32.338Z"
   },
   {
    "duration": 15,
    "start_time": "2021-06-12T22:16:32.352Z"
   },
   {
    "duration": 44,
    "start_time": "2021-06-12T22:16:32.369Z"
   },
   {
    "duration": 8,
    "start_time": "2021-06-12T22:16:32.415Z"
   },
   {
    "duration": 11,
    "start_time": "2021-06-12T22:16:32.426Z"
   },
   {
    "duration": 35,
    "start_time": "2021-06-12T22:16:32.439Z"
   },
   {
    "duration": 16,
    "start_time": "2021-06-12T22:16:32.477Z"
   },
   {
    "duration": 451,
    "start_time": "2021-06-12T22:16:32.496Z"
   },
   {
    "duration": 72,
    "start_time": "2021-06-12T22:16:32.951Z"
   },
   {
    "duration": 95,
    "start_time": "2021-06-12T22:16:33.025Z"
   },
   {
    "duration": 41,
    "start_time": "2021-06-12T22:16:33.123Z"
   },
   {
    "duration": 6,
    "start_time": "2021-06-12T22:16:33.166Z"
   },
   {
    "duration": 2645,
    "start_time": "2021-06-12T22:16:33.210Z"
   },
   {
    "duration": 1433,
    "start_time": "2021-06-12T22:16:35.857Z"
   },
   {
    "duration": 35,
    "start_time": "2021-06-12T22:16:37.293Z"
   },
   {
    "duration": 15,
    "start_time": "2021-06-12T22:16:37.331Z"
   },
   {
    "duration": 837,
    "start_time": "2021-06-12T22:16:37.349Z"
   },
   {
    "duration": 6,
    "start_time": "2021-06-12T22:16:38.189Z"
   },
   {
    "duration": 6,
    "start_time": "2021-06-12T22:16:38.210Z"
   },
   {
    "duration": 17,
    "start_time": "2021-06-12T22:16:38.219Z"
   },
   {
    "duration": 13,
    "start_time": "2021-06-12T22:16:38.238Z"
   },
   {
    "duration": 3486,
    "start_time": "2021-06-12T22:16:38.254Z"
   },
   {
    "duration": 1504,
    "start_time": "2021-06-12T22:17:19.256Z"
   },
   {
    "duration": 2051,
    "start_time": "2021-06-12T22:17:20.763Z"
   },
   {
    "duration": 25,
    "start_time": "2021-06-12T22:17:22.821Z"
   },
   {
    "duration": 113,
    "start_time": "2021-06-12T22:17:22.848Z"
   },
   {
    "duration": 471,
    "start_time": "2021-06-12T22:17:22.964Z"
   },
   {
    "duration": 23,
    "start_time": "2021-06-12T22:17:23.437Z"
   },
   {
    "duration": 4,
    "start_time": "2021-06-12T22:17:23.465Z"
   },
   {
    "duration": 46,
    "start_time": "2021-06-12T22:17:23.472Z"
   },
   {
    "duration": 4,
    "start_time": "2021-06-12T22:17:23.521Z"
   },
   {
    "duration": 12,
    "start_time": "2021-06-12T22:17:23.528Z"
   },
   {
    "duration": 4,
    "start_time": "2021-06-12T22:17:23.543Z"
   },
   {
    "duration": 5,
    "start_time": "2021-06-12T22:17:23.550Z"
   },
   {
    "duration": 15,
    "start_time": "2021-06-12T22:17:23.557Z"
   },
   {
    "duration": 42,
    "start_time": "2021-06-12T22:17:23.574Z"
   },
   {
    "duration": 11,
    "start_time": "2021-06-12T22:17:23.618Z"
   },
   {
    "duration": 9,
    "start_time": "2021-06-12T22:17:23.632Z"
   },
   {
    "duration": 8,
    "start_time": "2021-06-12T22:17:23.643Z"
   },
   {
    "duration": 10,
    "start_time": "2021-06-12T22:17:23.653Z"
   },
   {
    "duration": 46,
    "start_time": "2021-06-12T22:17:23.665Z"
   },
   {
    "duration": 6,
    "start_time": "2021-06-12T22:17:23.713Z"
   },
   {
    "duration": 4,
    "start_time": "2021-06-12T22:17:23.722Z"
   },
   {
    "duration": 395,
    "start_time": "2021-06-12T22:17:23.731Z"
   },
   {
    "duration": 50,
    "start_time": "2021-06-12T22:17:24.129Z"
   },
   {
    "duration": 66,
    "start_time": "2021-06-12T22:17:24.210Z"
   },
   {
    "duration": 40,
    "start_time": "2021-06-12T22:17:24.310Z"
   },
   {
    "duration": 4,
    "start_time": "2021-06-12T22:17:24.352Z"
   },
   {
    "duration": 2713,
    "start_time": "2021-06-12T22:17:24.358Z"
   },
   {
    "duration": 1582,
    "start_time": "2021-06-12T22:17:27.073Z"
   },
   {
    "duration": 21,
    "start_time": "2021-06-12T22:17:28.658Z"
   },
   {
    "duration": 34,
    "start_time": "2021-06-12T22:17:28.682Z"
   },
   {
    "duration": 957,
    "start_time": "2021-06-12T22:17:28.718Z"
   },
   {
    "duration": 6,
    "start_time": "2021-06-12T22:17:29.677Z"
   },
   {
    "duration": 24,
    "start_time": "2021-06-12T22:17:29.685Z"
   },
   {
    "duration": 12,
    "start_time": "2021-06-12T22:17:29.712Z"
   },
   {
    "duration": 6,
    "start_time": "2021-06-12T22:17:29.727Z"
   },
   {
    "duration": 3531,
    "start_time": "2021-06-12T22:17:29.735Z"
   },
   {
    "duration": 153,
    "start_time": "2021-06-12T22:19:38.107Z"
   },
   {
    "duration": 146,
    "start_time": "2021-06-12T22:19:52.006Z"
   },
   {
    "duration": 8480,
    "start_time": "2021-06-12T22:20:30.146Z"
   },
   {
    "duration": 86,
    "start_time": "2021-06-12T22:21:45.550Z"
   },
   {
    "duration": 2884,
    "start_time": "2021-06-12T22:24:14.813Z"
   },
   {
    "duration": 8,
    "start_time": "2021-06-12T22:24:19.841Z"
   },
   {
    "duration": 3,
    "start_time": "2021-06-12T22:24:20.326Z"
   },
   {
    "duration": 2824,
    "start_time": "2021-06-12T22:24:21.578Z"
   },
   {
    "duration": 4,
    "start_time": "2021-06-12T22:24:33.961Z"
   },
   {
    "duration": 3265,
    "start_time": "2021-06-12T22:24:37.406Z"
   },
   {
    "duration": 8,
    "start_time": "2021-06-12T22:24:43.257Z"
   },
   {
    "duration": 4,
    "start_time": "2021-06-12T22:24:43.641Z"
   },
   {
    "duration": 2227,
    "start_time": "2021-06-12T22:24:44.183Z"
   },
   {
    "duration": 331,
    "start_time": "2021-06-12T22:25:13.238Z"
   },
   {
    "duration": 232,
    "start_time": "2021-06-12T22:25:29.777Z"
   },
   {
    "duration": 302,
    "start_time": "2021-06-12T22:26:00.516Z"
   },
   {
    "duration": 702,
    "start_time": "2021-06-12T22:26:12.646Z"
   },
   {
    "duration": 409,
    "start_time": "2021-06-12T22:26:24.004Z"
   },
   {
    "duration": 378,
    "start_time": "2021-06-12T22:27:06.533Z"
   },
   {
    "duration": 2096,
    "start_time": "2021-06-12T22:35:00.424Z"
   },
   {
    "duration": 1493,
    "start_time": "2021-06-12T22:36:29.964Z"
   },
   {
    "duration": 2079,
    "start_time": "2021-06-12T22:36:31.460Z"
   },
   {
    "duration": 27,
    "start_time": "2021-06-12T22:36:33.542Z"
   },
   {
    "duration": 120,
    "start_time": "2021-06-12T22:36:33.572Z"
   },
   {
    "duration": 467,
    "start_time": "2021-06-12T22:36:33.695Z"
   },
   {
    "duration": 24,
    "start_time": "2021-06-12T22:36:34.165Z"
   },
   {
    "duration": 4,
    "start_time": "2021-06-12T22:36:34.210Z"
   },
   {
    "duration": 31,
    "start_time": "2021-06-12T22:36:34.218Z"
   },
   {
    "duration": 10,
    "start_time": "2021-06-12T22:36:34.253Z"
   },
   {
    "duration": 21,
    "start_time": "2021-06-12T22:36:34.265Z"
   },
   {
    "duration": 31,
    "start_time": "2021-06-12T22:36:34.288Z"
   },
   {
    "duration": 24,
    "start_time": "2021-06-12T22:36:34.322Z"
   },
   {
    "duration": 22,
    "start_time": "2021-06-12T22:36:34.348Z"
   },
   {
    "duration": 18,
    "start_time": "2021-06-12T22:36:34.372Z"
   },
   {
    "duration": 31,
    "start_time": "2021-06-12T22:36:34.392Z"
   },
   {
    "duration": 28,
    "start_time": "2021-06-12T22:36:34.425Z"
   },
   {
    "duration": 20,
    "start_time": "2021-06-12T22:36:34.456Z"
   },
   {
    "duration": 35,
    "start_time": "2021-06-12T22:36:34.479Z"
   },
   {
    "duration": 13,
    "start_time": "2021-06-12T22:36:34.516Z"
   },
   {
    "duration": 17,
    "start_time": "2021-06-12T22:36:34.531Z"
   },
   {
    "duration": 31,
    "start_time": "2021-06-12T22:36:34.550Z"
   },
   {
    "duration": 363,
    "start_time": "2021-06-12T22:36:34.584Z"
   },
   {
    "duration": 73,
    "start_time": "2021-06-12T22:36:34.951Z"
   },
   {
    "duration": 99,
    "start_time": "2021-06-12T22:36:35.027Z"
   },
   {
    "duration": 41,
    "start_time": "2021-06-12T22:36:35.129Z"
   },
   {
    "duration": 4,
    "start_time": "2021-06-12T22:36:35.173Z"
   },
   {
    "duration": 2737,
    "start_time": "2021-06-12T22:36:35.209Z"
   },
   {
    "duration": 1506,
    "start_time": "2021-06-12T22:36:37.949Z"
   },
   {
    "duration": 20,
    "start_time": "2021-06-12T22:36:39.457Z"
   },
   {
    "duration": 35,
    "start_time": "2021-06-12T22:36:39.479Z"
   },
   {
    "duration": 923,
    "start_time": "2021-06-12T22:36:39.517Z"
   },
   {
    "duration": 5,
    "start_time": "2021-06-12T22:36:40.443Z"
   },
   {
    "duration": 9,
    "start_time": "2021-06-12T22:36:40.451Z"
   },
   {
    "duration": 14,
    "start_time": "2021-06-12T22:36:40.463Z"
   },
   {
    "duration": 32,
    "start_time": "2021-06-12T22:36:40.479Z"
   },
   {
    "duration": 1896,
    "start_time": "2021-06-12T22:36:40.514Z"
   },
   {
    "duration": 3,
    "start_time": "2021-06-12T22:40:01.622Z"
   },
   {
    "duration": 1757,
    "start_time": "2021-06-12T22:40:02.455Z"
   },
   {
    "duration": 1779,
    "start_time": "2021-06-12T22:50:55.733Z"
   },
   {
    "duration": 2162,
    "start_time": "2021-06-12T22:51:11.257Z"
   },
   {
    "duration": 1806,
    "start_time": "2021-06-12T22:51:28.312Z"
   },
   {
    "duration": 245571,
    "start_time": "2021-06-12T22:56:20.996Z"
   },
   {
    "duration": 431,
    "start_time": "2021-06-12T23:02:29.868Z"
   },
   {
    "duration": 1456,
    "start_time": "2021-06-12T23:02:37.235Z"
   },
   {
    "duration": 2070,
    "start_time": "2021-06-12T23:02:38.694Z"
   },
   {
    "duration": 43,
    "start_time": "2021-06-12T23:02:40.768Z"
   },
   {
    "duration": 112,
    "start_time": "2021-06-12T23:02:40.815Z"
   },
   {
    "duration": 480,
    "start_time": "2021-06-12T23:02:40.929Z"
   },
   {
    "duration": 24,
    "start_time": "2021-06-12T23:02:41.411Z"
   },
   {
    "duration": 4,
    "start_time": "2021-06-12T23:02:41.437Z"
   },
   {
    "duration": 24,
    "start_time": "2021-06-12T23:02:41.445Z"
   },
   {
    "duration": 4,
    "start_time": "2021-06-12T23:02:41.472Z"
   },
   {
    "duration": 6,
    "start_time": "2021-06-12T23:02:41.510Z"
   },
   {
    "duration": 5,
    "start_time": "2021-06-12T23:02:41.518Z"
   },
   {
    "duration": 11,
    "start_time": "2021-06-12T23:02:41.526Z"
   },
   {
    "duration": 13,
    "start_time": "2021-06-12T23:02:41.539Z"
   },
   {
    "duration": 10,
    "start_time": "2021-06-12T23:02:41.555Z"
   },
   {
    "duration": 56,
    "start_time": "2021-06-12T23:02:41.567Z"
   },
   {
    "duration": 18,
    "start_time": "2021-06-12T23:02:41.626Z"
   },
   {
    "duration": 10,
    "start_time": "2021-06-12T23:02:41.647Z"
   },
   {
    "duration": 17,
    "start_time": "2021-06-12T23:02:41.659Z"
   },
   {
    "duration": 7,
    "start_time": "2021-06-12T23:02:41.679Z"
   },
   {
    "duration": 23,
    "start_time": "2021-06-12T23:02:41.688Z"
   },
   {
    "duration": 10,
    "start_time": "2021-06-12T23:02:41.713Z"
   },
   {
    "duration": 366,
    "start_time": "2021-06-12T23:02:41.726Z"
   },
   {
    "duration": 61,
    "start_time": "2021-06-12T23:02:42.098Z"
   },
   {
    "duration": 106,
    "start_time": "2021-06-12T23:02:42.163Z"
   },
   {
    "duration": 69,
    "start_time": "2021-06-12T23:02:42.272Z"
   },
   {
    "duration": 4,
    "start_time": "2021-06-12T23:02:42.344Z"
   },
   {
    "duration": 2648,
    "start_time": "2021-06-12T23:02:42.350Z"
   },
   {
    "duration": 1390,
    "start_time": "2021-06-12T23:02:45.001Z"
   },
   {
    "duration": 28,
    "start_time": "2021-06-12T23:02:46.393Z"
   },
   {
    "duration": 14,
    "start_time": "2021-06-12T23:02:46.423Z"
   },
   {
    "duration": 869,
    "start_time": "2021-06-12T23:02:46.440Z"
   },
   {
    "duration": 6,
    "start_time": "2021-06-12T23:02:47.312Z"
   },
   {
    "duration": 9,
    "start_time": "2021-06-12T23:02:47.321Z"
   },
   {
    "duration": 13,
    "start_time": "2021-06-12T23:02:47.333Z"
   },
   {
    "duration": 9,
    "start_time": "2021-06-12T23:02:47.348Z"
   },
   {
    "duration": 2049,
    "start_time": "2021-06-12T23:02:47.360Z"
   },
   {
    "duration": 321997,
    "start_time": "2021-06-12T23:02:49.412Z"
   },
   {
    "duration": 46531,
    "start_time": "2021-06-12T23:08:59.229Z"
   },
   {
    "duration": 380,
    "start_time": "2021-06-12T23:23:14.716Z"
   },
   {
    "duration": 1522,
    "start_time": "2021-06-12T23:30:05.135Z"
   },
   {
    "duration": 2074,
    "start_time": "2021-06-12T23:30:06.660Z"
   },
   {
    "duration": 28,
    "start_time": "2021-06-12T23:30:08.737Z"
   },
   {
    "duration": 113,
    "start_time": "2021-06-12T23:30:08.768Z"
   },
   {
    "duration": 467,
    "start_time": "2021-06-12T23:30:08.883Z"
   },
   {
    "duration": 22,
    "start_time": "2021-06-12T23:30:09.352Z"
   },
   {
    "duration": 4,
    "start_time": "2021-06-12T23:30:09.377Z"
   },
   {
    "duration": 37,
    "start_time": "2021-06-12T23:30:09.385Z"
   },
   {
    "duration": 4,
    "start_time": "2021-06-12T23:30:09.425Z"
   },
   {
    "duration": 11,
    "start_time": "2021-06-12T23:30:09.431Z"
   },
   {
    "duration": 7,
    "start_time": "2021-06-12T23:30:09.444Z"
   },
   {
    "duration": 6,
    "start_time": "2021-06-12T23:30:09.453Z"
   },
   {
    "duration": 57,
    "start_time": "2021-06-12T23:30:09.461Z"
   },
   {
    "duration": 10,
    "start_time": "2021-06-12T23:30:09.520Z"
   },
   {
    "duration": 14,
    "start_time": "2021-06-12T23:30:09.532Z"
   },
   {
    "duration": 8,
    "start_time": "2021-06-12T23:30:09.549Z"
   },
   {
    "duration": 7,
    "start_time": "2021-06-12T23:30:09.560Z"
   },
   {
    "duration": 9,
    "start_time": "2021-06-12T23:30:09.569Z"
   },
   {
    "duration": 4,
    "start_time": "2021-06-12T23:30:09.610Z"
   },
   {
    "duration": 6,
    "start_time": "2021-06-12T23:30:09.617Z"
   },
   {
    "duration": 8,
    "start_time": "2021-06-12T23:30:09.626Z"
   },
   {
    "duration": 378,
    "start_time": "2021-06-12T23:30:09.637Z"
   },
   {
    "duration": 51,
    "start_time": "2021-06-12T23:30:10.020Z"
   },
   {
    "duration": 103,
    "start_time": "2021-06-12T23:30:10.075Z"
   },
   {
    "duration": 68,
    "start_time": "2021-06-12T23:30:10.181Z"
   },
   {
    "duration": 5,
    "start_time": "2021-06-12T23:30:10.252Z"
   },
   {
    "duration": 2758,
    "start_time": "2021-06-12T23:30:10.260Z"
   },
   {
    "duration": 1394,
    "start_time": "2021-06-12T23:30:13.021Z"
   },
   {
    "duration": 19,
    "start_time": "2021-06-12T23:30:14.418Z"
   },
   {
    "duration": 13,
    "start_time": "2021-06-12T23:30:14.439Z"
   },
   {
    "duration": 831,
    "start_time": "2021-06-12T23:30:14.454Z"
   },
   {
    "duration": 4,
    "start_time": "2021-06-12T23:30:15.288Z"
   },
   {
    "duration": 4,
    "start_time": "2021-06-12T23:30:15.309Z"
   },
   {
    "duration": 17,
    "start_time": "2021-06-12T23:30:15.315Z"
   },
   {
    "duration": 10,
    "start_time": "2021-06-12T23:30:15.334Z"
   },
   {
    "duration": 1979,
    "start_time": "2021-06-12T23:30:15.346Z"
   },
   {
    "duration": 538593,
    "start_time": "2021-06-12T23:30:17.333Z"
   },
   {
    "duration": 4,
    "start_time": "2021-06-12T23:44:52.216Z"
   },
   {
    "duration": 4,
    "start_time": "2021-06-12T23:45:00.514Z"
   },
   {
    "duration": 502,
    "start_time": "2021-06-12T23:49:01.121Z"
   },
   {
    "duration": 41,
    "start_time": "2021-06-12T23:49:15.411Z"
   },
   {
    "duration": 330,
    "start_time": "2021-06-12T23:52:16.477Z"
   },
   {
    "duration": 5,
    "start_time": "2021-06-13T00:06:07.565Z"
   },
   {
    "duration": 361,
    "start_time": "2021-06-13T00:10:02.263Z"
   },
   {
    "duration": 6,
    "start_time": "2021-06-13T00:10:16.334Z"
   },
   {
    "duration": 361,
    "start_time": "2021-06-13T00:10:18.307Z"
   },
   {
    "duration": 5,
    "start_time": "2021-06-13T00:11:00.920Z"
   },
   {
    "duration": 570,
    "start_time": "2021-06-13T00:12:20.225Z"
   },
   {
    "duration": 396,
    "start_time": "2021-06-13T00:12:25.212Z"
   },
   {
    "duration": 351,
    "start_time": "2021-06-13T00:13:12.480Z"
   },
   {
    "duration": 349,
    "start_time": "2021-06-13T00:13:20.432Z"
   },
   {
    "duration": 6,
    "start_time": "2021-06-13T00:13:52.788Z"
   },
   {
    "duration": 3,
    "start_time": "2021-06-13T00:14:07.120Z"
   },
   {
    "duration": 377,
    "start_time": "2021-06-13T00:14:35.940Z"
   },
   {
    "duration": 5,
    "start_time": "2021-06-13T00:14:38.724Z"
   },
   {
    "duration": 341,
    "start_time": "2021-06-13T00:14:40.492Z"
   },
   {
    "duration": 5,
    "start_time": "2021-06-13T00:14:47.891Z"
   },
   {
    "duration": 3,
    "start_time": "2021-06-13T00:14:49.862Z"
   },
   {
    "duration": 3,
    "start_time": "2021-06-13T00:15:05.999Z"
   },
   {
    "duration": 10,
    "start_time": "2021-06-13T00:16:26.576Z"
   },
   {
    "duration": 29515,
    "start_time": "2021-06-13T00:17:39.039Z"
   },
   {
    "duration": 7,
    "start_time": "2021-06-13T00:19:34.597Z"
   },
   {
    "duration": 19,
    "start_time": "2021-06-13T00:20:28.374Z"
   },
   {
    "duration": 340,
    "start_time": "2021-06-13T00:21:27.067Z"
   },
   {
    "duration": 368,
    "start_time": "2021-06-13T00:21:45.588Z"
   },
   {
    "duration": 1502,
    "start_time": "2021-06-13T00:22:07.456Z"
   },
   {
    "duration": 2062,
    "start_time": "2021-06-13T00:22:08.961Z"
   },
   {
    "duration": 28,
    "start_time": "2021-06-13T00:22:11.026Z"
   },
   {
    "duration": 109,
    "start_time": "2021-06-13T00:22:11.057Z"
   },
   {
    "duration": 471,
    "start_time": "2021-06-13T00:22:11.169Z"
   },
   {
    "duration": 24,
    "start_time": "2021-06-13T00:22:11.642Z"
   },
   {
    "duration": 5,
    "start_time": "2021-06-13T00:22:11.668Z"
   },
   {
    "duration": 43,
    "start_time": "2021-06-13T00:22:11.677Z"
   },
   {
    "duration": 5,
    "start_time": "2021-06-13T00:22:11.723Z"
   },
   {
    "duration": 23,
    "start_time": "2021-06-13T00:22:11.730Z"
   },
   {
    "duration": 12,
    "start_time": "2021-06-13T00:22:11.756Z"
   },
   {
    "duration": 15,
    "start_time": "2021-06-13T00:22:11.770Z"
   },
   {
    "duration": 21,
    "start_time": "2021-06-13T00:22:11.788Z"
   },
   {
    "duration": 12,
    "start_time": "2021-06-13T00:22:11.811Z"
   },
   {
    "duration": 9,
    "start_time": "2021-06-13T00:22:11.825Z"
   },
   {
    "duration": 9,
    "start_time": "2021-06-13T00:22:11.837Z"
   },
   {
    "duration": 7,
    "start_time": "2021-06-13T00:22:11.848Z"
   },
   {
    "duration": 11,
    "start_time": "2021-06-13T00:22:11.857Z"
   },
   {
    "duration": 41,
    "start_time": "2021-06-13T00:22:11.871Z"
   },
   {
    "duration": 13,
    "start_time": "2021-06-13T00:22:11.914Z"
   },
   {
    "duration": 7,
    "start_time": "2021-06-13T00:22:11.930Z"
   },
   {
    "duration": 10,
    "start_time": "2021-06-13T00:22:11.940Z"
   },
   {
    "duration": 18,
    "start_time": "2021-06-13T00:22:11.955Z"
   },
   {
    "duration": 12,
    "start_time": "2021-06-13T00:22:11.976Z"
   },
   {
    "duration": 20,
    "start_time": "2021-06-13T00:22:12.010Z"
   },
   {
    "duration": 4,
    "start_time": "2021-06-13T00:22:12.033Z"
   },
   {
    "duration": 281,
    "start_time": "2021-06-13T00:22:12.040Z"
   },
   {
    "duration": 47,
    "start_time": "2021-06-13T00:22:12.323Z"
   },
   {
    "duration": 94,
    "start_time": "2021-06-13T00:22:12.373Z"
   },
   {
    "duration": 59,
    "start_time": "2021-06-13T00:22:12.469Z"
   },
   {
    "duration": 4,
    "start_time": "2021-06-13T00:22:12.530Z"
   },
   {
    "duration": 8875,
    "start_time": "2021-06-13T00:22:12.537Z"
   },
   {
    "duration": -75,
    "start_time": "2021-06-13T00:22:21.489Z"
   },
   {
    "duration": -81,
    "start_time": "2021-06-13T00:22:21.497Z"
   },
   {
    "duration": -88,
    "start_time": "2021-06-13T00:22:21.505Z"
   },
   {
    "duration": -90,
    "start_time": "2021-06-13T00:22:21.510Z"
   },
   {
    "duration": -93,
    "start_time": "2021-06-13T00:22:21.514Z"
   },
   {
    "duration": -96,
    "start_time": "2021-06-13T00:22:21.518Z"
   },
   {
    "duration": -99,
    "start_time": "2021-06-13T00:22:21.523Z"
   },
   {
    "duration": -102,
    "start_time": "2021-06-13T00:22:21.527Z"
   },
   {
    "duration": -105,
    "start_time": "2021-06-13T00:22:21.531Z"
   },
   {
    "duration": -109,
    "start_time": "2021-06-13T00:22:21.536Z"
   },
   {
    "duration": -111,
    "start_time": "2021-06-13T00:22:21.539Z"
   },
   {
    "duration": -114,
    "start_time": "2021-06-13T00:22:21.544Z"
   },
   {
    "duration": -117,
    "start_time": "2021-06-13T00:22:21.548Z"
   },
   {
    "duration": 1530,
    "start_time": "2021-06-13T00:24:13.613Z"
   },
   {
    "duration": 2064,
    "start_time": "2021-06-13T00:24:15.145Z"
   },
   {
    "duration": 27,
    "start_time": "2021-06-13T00:24:17.213Z"
   },
   {
    "duration": 138,
    "start_time": "2021-06-13T00:24:17.243Z"
   },
   {
    "duration": 465,
    "start_time": "2021-06-13T00:24:17.384Z"
   },
   {
    "duration": 24,
    "start_time": "2021-06-13T00:24:17.851Z"
   },
   {
    "duration": 4,
    "start_time": "2021-06-13T00:24:17.877Z"
   },
   {
    "duration": 39,
    "start_time": "2021-06-13T00:24:17.884Z"
   },
   {
    "duration": 4,
    "start_time": "2021-06-13T00:24:17.926Z"
   },
   {
    "duration": 10,
    "start_time": "2021-06-13T00:24:17.932Z"
   },
   {
    "duration": 6,
    "start_time": "2021-06-13T00:24:17.945Z"
   },
   {
    "duration": 13,
    "start_time": "2021-06-13T00:24:17.953Z"
   },
   {
    "duration": 42,
    "start_time": "2021-06-13T00:24:17.968Z"
   },
   {
    "duration": 11,
    "start_time": "2021-06-13T00:24:18.013Z"
   },
   {
    "duration": 8,
    "start_time": "2021-06-13T00:24:18.026Z"
   },
   {
    "duration": 7,
    "start_time": "2021-06-13T00:24:18.037Z"
   },
   {
    "duration": 8,
    "start_time": "2021-06-13T00:24:18.046Z"
   },
   {
    "duration": 7,
    "start_time": "2021-06-13T00:24:18.056Z"
   },
   {
    "duration": 45,
    "start_time": "2021-06-13T00:24:18.065Z"
   },
   {
    "duration": 6,
    "start_time": "2021-06-13T00:24:18.112Z"
   },
   {
    "duration": 7,
    "start_time": "2021-06-13T00:24:18.120Z"
   },
   {
    "duration": 8,
    "start_time": "2021-06-13T00:24:18.129Z"
   },
   {
    "duration": 7,
    "start_time": "2021-06-13T00:24:18.145Z"
   },
   {
    "duration": 395,
    "start_time": "2021-06-13T00:24:18.156Z"
   },
   {
    "duration": 74,
    "start_time": "2021-06-13T00:24:18.554Z"
   },
   {
    "duration": 99,
    "start_time": "2021-06-13T00:24:18.630Z"
   },
   {
    "duration": 42,
    "start_time": "2021-06-13T00:24:18.732Z"
   },
   {
    "duration": 33,
    "start_time": "2021-06-13T00:24:18.777Z"
   },
   {
    "duration": 2624,
    "start_time": "2021-06-13T00:24:18.812Z"
   },
   {
    "duration": 1430,
    "start_time": "2021-06-13T00:24:21.438Z"
   },
   {
    "duration": 39,
    "start_time": "2021-06-13T00:24:22.871Z"
   },
   {
    "duration": 15,
    "start_time": "2021-06-13T00:24:22.914Z"
   },
   {
    "duration": 860,
    "start_time": "2021-06-13T00:24:22.932Z"
   },
   {
    "duration": 14,
    "start_time": "2021-06-13T00:24:23.795Z"
   },
   {
    "duration": 5,
    "start_time": "2021-06-13T00:24:23.812Z"
   },
   {
    "duration": 19,
    "start_time": "2021-06-13T00:24:23.820Z"
   },
   {
    "duration": 7,
    "start_time": "2021-06-13T00:24:23.842Z"
   },
   {
    "duration": 10,
    "start_time": "2021-06-13T00:24:23.852Z"
   },
   {
    "duration": 46,
    "start_time": "2021-06-13T00:24:23.864Z"
   },
   {
    "duration": 1096,
    "start_time": "2021-06-13T00:24:23.913Z"
   },
   {
    "duration": 89687,
    "start_time": "2021-06-13T00:24:25.012Z"
   },
   {
    "duration": 9,
    "start_time": "2021-06-13T00:25:54.701Z"
   },
   {
    "duration": 31,
    "start_time": "2021-06-13T00:25:54.712Z"
   },
   {
    "duration": 33,
    "start_time": "2021-06-13T00:25:54.745Z"
   },
   {
    "duration": 1505,
    "start_time": "2021-06-13T00:26:52.904Z"
   },
   {
    "duration": 2051,
    "start_time": "2021-06-13T00:26:54.412Z"
   },
   {
    "duration": 26,
    "start_time": "2021-06-13T00:26:56.466Z"
   },
   {
    "duration": 119,
    "start_time": "2021-06-13T00:26:56.494Z"
   },
   {
    "duration": 566,
    "start_time": "2021-06-13T00:26:56.616Z"
   },
   {
    "duration": 35,
    "start_time": "2021-06-13T00:26:57.184Z"
   },
   {
    "duration": 4,
    "start_time": "2021-06-13T00:26:57.221Z"
   },
   {
    "duration": 30,
    "start_time": "2021-06-13T00:26:57.228Z"
   },
   {
    "duration": 15,
    "start_time": "2021-06-13T00:26:57.261Z"
   },
   {
    "duration": 18,
    "start_time": "2021-06-13T00:26:57.279Z"
   },
   {
    "duration": 14,
    "start_time": "2021-06-13T00:26:57.299Z"
   },
   {
    "duration": 17,
    "start_time": "2021-06-13T00:26:57.316Z"
   },
   {
    "duration": 11,
    "start_time": "2021-06-13T00:26:57.336Z"
   },
   {
    "duration": 19,
    "start_time": "2021-06-13T00:26:57.349Z"
   },
   {
    "duration": 19,
    "start_time": "2021-06-13T00:26:57.371Z"
   },
   {
    "duration": 22,
    "start_time": "2021-06-13T00:26:57.392Z"
   },
   {
    "duration": 24,
    "start_time": "2021-06-13T00:26:57.416Z"
   },
   {
    "duration": 24,
    "start_time": "2021-06-13T00:26:57.443Z"
   },
   {
    "duration": 13,
    "start_time": "2021-06-13T00:26:57.469Z"
   },
   {
    "duration": 16,
    "start_time": "2021-06-13T00:26:57.485Z"
   },
   {
    "duration": 10,
    "start_time": "2021-06-13T00:26:57.503Z"
   },
   {
    "duration": 17,
    "start_time": "2021-06-13T00:26:57.516Z"
   },
   {
    "duration": 6,
    "start_time": "2021-06-13T00:26:57.538Z"
   },
   {
    "duration": 376,
    "start_time": "2021-06-13T00:26:57.546Z"
   },
   {
    "duration": 49,
    "start_time": "2021-06-13T00:26:57.925Z"
   },
   {
    "duration": 94,
    "start_time": "2021-06-13T00:26:57.976Z"
   },
   {
    "duration": 74,
    "start_time": "2021-06-13T00:26:58.072Z"
   },
   {
    "duration": 4,
    "start_time": "2021-06-13T00:26:58.148Z"
   },
   {
    "duration": 2674,
    "start_time": "2021-06-13T00:26:58.154Z"
   },
   {
    "duration": 1435,
    "start_time": "2021-06-13T00:27:00.830Z"
   },
   {
    "duration": 44,
    "start_time": "2021-06-13T00:27:02.268Z"
   },
   {
    "duration": 18,
    "start_time": "2021-06-13T00:27:02.315Z"
   },
   {
    "duration": 850,
    "start_time": "2021-06-13T00:27:02.336Z"
   },
   {
    "duration": 4,
    "start_time": "2021-06-13T00:27:03.189Z"
   },
   {
    "duration": 26,
    "start_time": "2021-06-13T00:27:03.195Z"
   },
   {
    "duration": 30,
    "start_time": "2021-06-13T00:27:03.224Z"
   },
   {
    "duration": 8,
    "start_time": "2021-06-13T00:27:03.256Z"
   },
   {
    "duration": 17,
    "start_time": "2021-06-13T00:27:03.267Z"
   },
   {
    "duration": 23,
    "start_time": "2021-06-13T00:27:03.287Z"
   },
   {
    "duration": 1002,
    "start_time": "2021-06-13T00:27:03.312Z"
   },
   {
    "duration": 588893,
    "start_time": "2021-06-13T00:27:04.318Z"
   },
   {
    "duration": 3,
    "start_time": "2021-06-13T00:36:53.214Z"
   },
   {
    "duration": 27,
    "start_time": "2021-06-13T00:36:53.219Z"
   },
   {
    "duration": 22,
    "start_time": "2021-06-13T00:36:53.248Z"
   },
   {
    "duration": 138,
    "start_time": "2021-06-13T00:41:42.294Z"
   },
   {
    "duration": 4,
    "start_time": "2021-06-13T00:46:11.129Z"
   },
   {
    "duration": 4,
    "start_time": "2021-06-13T00:46:20.154Z"
   },
   {
    "duration": 5,
    "start_time": "2021-06-13T00:46:29.979Z"
   },
   {
    "duration": 6,
    "start_time": "2021-06-13T00:48:34.372Z"
   },
   {
    "duration": 512,
    "start_time": "2021-06-13T00:51:49.208Z"
   },
   {
    "duration": 6,
    "start_time": "2021-06-13T00:52:15.681Z"
   },
   {
    "duration": 4,
    "start_time": "2021-06-13T00:52:22.301Z"
   },
   {
    "duration": 5,
    "start_time": "2021-06-13T00:52:34.840Z"
   },
   {
    "duration": 13,
    "start_time": "2021-06-13T00:53:20.568Z"
   },
   {
    "duration": 11,
    "start_time": "2021-06-13T00:53:47.792Z"
   },
   {
    "duration": 361,
    "start_time": "2021-06-13T00:56:04.261Z"
   },
   {
    "duration": 8,
    "start_time": "2021-06-13T00:56:12.893Z"
   },
   {
    "duration": 389,
    "start_time": "2021-06-13T00:56:15.084Z"
   },
   {
    "duration": 8,
    "start_time": "2021-06-13T00:56:37.064Z"
   },
   {
    "duration": 11,
    "start_time": "2021-06-13T00:56:37.806Z"
   },
   {
    "duration": 319,
    "start_time": "2021-06-13T00:56:38.685Z"
   },
   {
    "duration": 7,
    "start_time": "2021-06-13T00:56:52.919Z"
   },
   {
    "duration": 13,
    "start_time": "2021-06-13T00:56:53.628Z"
   },
   {
    "duration": 12,
    "start_time": "2021-06-13T00:56:54.385Z"
   },
   {
    "duration": 10,
    "start_time": "2021-06-13T00:57:10.003Z"
   },
   {
    "duration": 322,
    "start_time": "2021-06-13T00:57:10.725Z"
   },
   {
    "duration": 10,
    "start_time": "2021-06-13T00:57:17.450Z"
   },
   {
    "duration": 11,
    "start_time": "2021-06-13T00:57:18.051Z"
   },
   {
    "duration": 7,
    "start_time": "2021-06-13T00:58:02.898Z"
   },
   {
    "duration": 13,
    "start_time": "2021-06-13T00:58:03.404Z"
   },
   {
    "duration": 12,
    "start_time": "2021-06-13T00:58:04.316Z"
   },
   {
    "duration": 1651,
    "start_time": "2021-06-13T08:29:31.482Z"
   },
   {
    "duration": 2077,
    "start_time": "2021-06-13T08:29:33.136Z"
   },
   {
    "duration": 26,
    "start_time": "2021-06-13T08:29:57.777Z"
   },
   {
    "duration": 98,
    "start_time": "2021-06-13T08:29:59.051Z"
   },
   {
    "duration": 482,
    "start_time": "2021-06-13T08:30:00.164Z"
   },
   {
    "duration": 31,
    "start_time": "2021-06-13T08:30:02.906Z"
   },
   {
    "duration": 9,
    "start_time": "2021-06-13T08:30:03.328Z"
   },
   {
    "duration": 16,
    "start_time": "2021-06-13T08:30:05.457Z"
   },
   {
    "duration": 4,
    "start_time": "2021-06-13T08:30:06.080Z"
   },
   {
    "duration": 4,
    "start_time": "2021-06-13T08:30:27.761Z"
   },
   {
    "duration": 5,
    "start_time": "2021-06-13T08:30:28.187Z"
   },
   {
    "duration": 10,
    "start_time": "2021-06-13T08:30:28.402Z"
   },
   {
    "duration": 12,
    "start_time": "2021-06-13T08:30:30.027Z"
   },
   {
    "duration": 13,
    "start_time": "2021-06-13T08:30:30.524Z"
   },
   {
    "duration": 7,
    "start_time": "2021-06-13T08:30:31.290Z"
   },
   {
    "duration": 8,
    "start_time": "2021-06-13T08:30:31.506Z"
   },
   {
    "duration": 7,
    "start_time": "2021-06-13T08:30:32.756Z"
   },
   {
    "duration": 5,
    "start_time": "2021-06-13T08:30:32.960Z"
   },
   {
    "duration": 4,
    "start_time": "2021-06-13T08:30:33.378Z"
   },
   {
    "duration": 5,
    "start_time": "2021-06-13T08:31:13.793Z"
   },
   {
    "duration": 3,
    "start_time": "2021-06-13T08:31:15.209Z"
   },
   {
    "duration": 4,
    "start_time": "2021-06-13T08:31:15.581Z"
   },
   {
    "duration": 4,
    "start_time": "2021-06-13T08:32:32.210Z"
   },
   {
    "duration": 353,
    "start_time": "2021-06-13T08:32:33.284Z"
   },
   {
    "duration": 56,
    "start_time": "2021-06-13T08:32:39.001Z"
   },
   {
    "duration": 71,
    "start_time": "2021-06-13T08:32:40.359Z"
   },
   {
    "duration": 40,
    "start_time": "2021-06-13T08:32:55.744Z"
   },
   {
    "duration": 4,
    "start_time": "2021-06-13T08:35:30.897Z"
   },
   {
    "duration": 2867,
    "start_time": "2021-06-13T08:35:31.420Z"
   },
   {
    "duration": 1509,
    "start_time": "2021-06-13T08:35:34.290Z"
   },
   {
    "duration": 43,
    "start_time": "2021-06-13T08:35:35.802Z"
   },
   {
    "duration": 15,
    "start_time": "2021-06-13T08:35:35.848Z"
   },
   {
    "duration": 889,
    "start_time": "2021-06-13T08:35:35.866Z"
   },
   {
    "duration": 5,
    "start_time": "2021-06-13T08:37:06.970Z"
   },
   {
    "duration": 4,
    "start_time": "2021-06-13T08:37:07.380Z"
   },
   {
    "duration": 13,
    "start_time": "2021-06-13T08:37:22.090Z"
   },
   {
    "duration": 7,
    "start_time": "2021-06-13T08:37:26.259Z"
   },
   {
    "duration": 8,
    "start_time": "2021-06-13T08:37:32.354Z"
   },
   {
    "duration": 3,
    "start_time": "2021-06-13T08:37:32.858Z"
   },
   {
    "duration": 7,
    "start_time": "2021-06-13T08:39:15.634Z"
   },
   {
    "duration": 5,
    "start_time": "2021-06-13T08:39:33.547Z"
   },
   {
    "duration": 5,
    "start_time": "2021-06-13T08:39:46.436Z"
   },
   {
    "duration": 1407,
    "start_time": "2021-06-13T08:42:32.625Z"
   },
   {
    "duration": 53012,
    "start_time": "2021-06-13T08:42:36.667Z"
   },
   {
    "duration": 4,
    "start_time": "2021-06-13T08:43:29.681Z"
   },
   {
    "duration": 56,
    "start_time": "2021-06-13T08:43:29.689Z"
   },
   {
    "duration": 25,
    "start_time": "2021-06-13T08:43:29.748Z"
   },
   {
    "duration": 4,
    "start_time": "2021-06-13T08:44:25.971Z"
   },
   {
    "duration": 24,
    "start_time": "2021-06-13T08:44:27.829Z"
   },
   {
    "duration": 23,
    "start_time": "2021-06-13T08:44:28.340Z"
   },
   {
    "duration": 6,
    "start_time": "2021-06-13T08:44:30.523Z"
   },
   {
    "duration": 7,
    "start_time": "2021-06-13T08:44:31.219Z"
   },
   {
    "duration": 519,
    "start_time": "2021-06-13T08:44:31.764Z"
   },
   {
    "duration": 10,
    "start_time": "2021-06-13T08:44:32.461Z"
   },
   {
    "duration": 10,
    "start_time": "2021-06-13T08:44:47.084Z"
   },
   {
    "duration": 9,
    "start_time": "2021-06-13T08:46:00.645Z"
   }
  ],
  "kernelspec": {
   "display_name": "Python 3",
   "language": "python",
   "name": "python3"
  },
  "language_info": {
   "codemirror_mode": {
    "name": "ipython",
    "version": 3
   },
   "file_extension": ".py",
   "mimetype": "text/x-python",
   "name": "python",
   "nbconvert_exporter": "python",
   "pygments_lexer": "ipython3",
   "version": "3.9.2"
  },
  "toc": {
   "base_numbering": 1,
   "nav_menu": {},
   "number_sections": true,
   "sideBar": true,
   "skip_h1_title": true,
   "title_cell": "Содержание",
   "title_sidebar": "Contents",
   "toc_cell": true,
   "toc_position": {},
   "toc_section_display": true,
   "toc_window_display": true
  }
 },
 "nbformat": 4,
 "nbformat_minor": 2
}
