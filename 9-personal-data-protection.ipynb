{
 "cells": [
  {
   "cell_type": "markdown",
   "metadata": {
    "toc": true
   },
   "source": [
    "<h1>Содержание<span class=\"tocSkip\"></span></h1>\n",
    "<div class=\"toc\"><ul class=\"toc-item\"><li><span><a href=\"#Загрузка-данных\" data-toc-modified-id=\"Загрузка-данных-1\"><span class=\"toc-item-num\">1&nbsp;&nbsp;</span>Загрузка данных</a></span></li><li><span><a href=\"#Умножение-матриц\" data-toc-modified-id=\"Умножение-матриц-2\"><span class=\"toc-item-num\">2&nbsp;&nbsp;</span>Умножение матриц</a></span></li><li><span><a href=\"#Алгоритм-преобразования\" data-toc-modified-id=\"Алгоритм-преобразования-3\"><span class=\"toc-item-num\">3&nbsp;&nbsp;</span>Алгоритм преобразования</a></span></li><li><span><a href=\"#Проверка-алгоритма\" data-toc-modified-id=\"Проверка-алгоритма-4\"><span class=\"toc-item-num\">4&nbsp;&nbsp;</span>Проверка алгоритма</a></span></li></ul></div>"
   ]
  },
  {
   "cell_type": "markdown",
   "metadata": {},
   "source": [
    "# Защита персональных данных клиентов"
   ]
  },
  {
   "cell_type": "markdown",
   "metadata": {},
   "source": [
    "Вам нужно защитить данные клиентов страховой компании «Хоть потоп». Разработайте такой метод преобразования данных, чтобы по ним было сложно восстановить персональную информацию. Обоснуйте корректность его работы.\n",
    "\n",
    "Нужно защитить данные, чтобы при преобразовании качество моделей машинного обучения не ухудшилось. Подбирать наилучшую модель не требуется."
   ]
  },
  {
   "cell_type": "markdown",
   "metadata": {},
   "source": [
    "## Загрузка данных"
   ]
  },
  {
   "cell_type": "code",
   "execution_count": 1,
   "metadata": {},
   "outputs": [],
   "source": [
    "from sklearn.metrics import r2_score\n",
    "from sklearn.linear_model import LinearRegression\n",
    "import matplotlib.pyplot as plt\n",
    "import numpy as np\n",
    "import pandas as pd\n",
    "pd.set_option('display.max_rows', None)"
   ]
  },
  {
   "cell_type": "code",
   "execution_count": 2,
   "metadata": {},
   "outputs": [],
   "source": [
    "df = pd.read_csv('/datasets/insurance.csv')"
   ]
  },
  {
   "cell_type": "code",
   "execution_count": 3,
   "metadata": {},
   "outputs": [
    {
     "name": "stdout",
     "output_type": "stream",
     "text": [
      "<class 'pandas.core.frame.DataFrame'>\n",
      "RangeIndex: 5000 entries, 0 to 4999\n",
      "Data columns (total 5 columns):\n",
      "Пол                  5000 non-null int64\n",
      "Возраст              5000 non-null float64\n",
      "Зарплата             5000 non-null float64\n",
      "Члены семьи          5000 non-null int64\n",
      "Страховые выплаты    5000 non-null int64\n",
      "dtypes: float64(2), int64(3)\n",
      "memory usage: 195.4 KB\n"
     ]
    }
   ],
   "source": [
    "df.info()"
   ]
  },
  {
   "cell_type": "code",
   "execution_count": 4,
   "metadata": {},
   "outputs": [
    {
     "data": {
      "text/html": [
       "<div>\n",
       "<style scoped>\n",
       "    .dataframe tbody tr th:only-of-type {\n",
       "        vertical-align: middle;\n",
       "    }\n",
       "\n",
       "    .dataframe tbody tr th {\n",
       "        vertical-align: top;\n",
       "    }\n",
       "\n",
       "    .dataframe thead th {\n",
       "        text-align: right;\n",
       "    }\n",
       "</style>\n",
       "<table border=\"1\" class=\"dataframe\">\n",
       "  <thead>\n",
       "    <tr style=\"text-align: right;\">\n",
       "      <th></th>\n",
       "      <th>Пол</th>\n",
       "      <th>Возраст</th>\n",
       "      <th>Зарплата</th>\n",
       "      <th>Члены семьи</th>\n",
       "      <th>Страховые выплаты</th>\n",
       "    </tr>\n",
       "  </thead>\n",
       "  <tbody>\n",
       "    <tr>\n",
       "      <td>0</td>\n",
       "      <td>1</td>\n",
       "      <td>41.0</td>\n",
       "      <td>49600.0</td>\n",
       "      <td>1</td>\n",
       "      <td>0</td>\n",
       "    </tr>\n",
       "    <tr>\n",
       "      <td>1</td>\n",
       "      <td>0</td>\n",
       "      <td>46.0</td>\n",
       "      <td>38000.0</td>\n",
       "      <td>1</td>\n",
       "      <td>1</td>\n",
       "    </tr>\n",
       "    <tr>\n",
       "      <td>2</td>\n",
       "      <td>0</td>\n",
       "      <td>29.0</td>\n",
       "      <td>21000.0</td>\n",
       "      <td>0</td>\n",
       "      <td>0</td>\n",
       "    </tr>\n",
       "    <tr>\n",
       "      <td>3</td>\n",
       "      <td>0</td>\n",
       "      <td>21.0</td>\n",
       "      <td>41700.0</td>\n",
       "      <td>2</td>\n",
       "      <td>0</td>\n",
       "    </tr>\n",
       "    <tr>\n",
       "      <td>4</td>\n",
       "      <td>1</td>\n",
       "      <td>28.0</td>\n",
       "      <td>26100.0</td>\n",
       "      <td>0</td>\n",
       "      <td>0</td>\n",
       "    </tr>\n",
       "  </tbody>\n",
       "</table>\n",
       "</div>"
      ],
      "text/plain": [
       "   Пол  Возраст  Зарплата  Члены семьи  Страховые выплаты\n",
       "0    1     41.0   49600.0            1                  0\n",
       "1    0     46.0   38000.0            1                  1\n",
       "2    0     29.0   21000.0            0                  0\n",
       "3    0     21.0   41700.0            2                  0\n",
       "4    1     28.0   26100.0            0                  0"
      ]
     },
     "execution_count": 4,
     "metadata": {},
     "output_type": "execute_result"
    }
   ],
   "source": [
    "df.head()"
   ]
  },
  {
   "cell_type": "code",
   "execution_count": 5,
   "metadata": {},
   "outputs": [
    {
     "data": {
      "text/html": [
       "<div>\n",
       "<style scoped>\n",
       "    .dataframe tbody tr th:only-of-type {\n",
       "        vertical-align: middle;\n",
       "    }\n",
       "\n",
       "    .dataframe tbody tr th {\n",
       "        vertical-align: top;\n",
       "    }\n",
       "\n",
       "    .dataframe thead th {\n",
       "        text-align: right;\n",
       "    }\n",
       "</style>\n",
       "<table border=\"1\" class=\"dataframe\">\n",
       "  <thead>\n",
       "    <tr style=\"text-align: right;\">\n",
       "      <th></th>\n",
       "      <th>Пол</th>\n",
       "      <th>Возраст</th>\n",
       "      <th>Зарплата</th>\n",
       "      <th>Члены семьи</th>\n",
       "      <th>Страховые выплаты</th>\n",
       "    </tr>\n",
       "  </thead>\n",
       "  <tbody>\n",
       "    <tr>\n",
       "      <td>count</td>\n",
       "      <td>5000.000000</td>\n",
       "      <td>5000.000000</td>\n",
       "      <td>5000.000000</td>\n",
       "      <td>5000.000000</td>\n",
       "      <td>5000.000000</td>\n",
       "    </tr>\n",
       "    <tr>\n",
       "      <td>mean</td>\n",
       "      <td>0.499000</td>\n",
       "      <td>30.952800</td>\n",
       "      <td>39916.360000</td>\n",
       "      <td>1.194200</td>\n",
       "      <td>0.148000</td>\n",
       "    </tr>\n",
       "    <tr>\n",
       "      <td>std</td>\n",
       "      <td>0.500049</td>\n",
       "      <td>8.440807</td>\n",
       "      <td>9900.083569</td>\n",
       "      <td>1.091387</td>\n",
       "      <td>0.463183</td>\n",
       "    </tr>\n",
       "    <tr>\n",
       "      <td>min</td>\n",
       "      <td>0.000000</td>\n",
       "      <td>18.000000</td>\n",
       "      <td>5300.000000</td>\n",
       "      <td>0.000000</td>\n",
       "      <td>0.000000</td>\n",
       "    </tr>\n",
       "    <tr>\n",
       "      <td>25%</td>\n",
       "      <td>0.000000</td>\n",
       "      <td>24.000000</td>\n",
       "      <td>33300.000000</td>\n",
       "      <td>0.000000</td>\n",
       "      <td>0.000000</td>\n",
       "    </tr>\n",
       "    <tr>\n",
       "      <td>50%</td>\n",
       "      <td>0.000000</td>\n",
       "      <td>30.000000</td>\n",
       "      <td>40200.000000</td>\n",
       "      <td>1.000000</td>\n",
       "      <td>0.000000</td>\n",
       "    </tr>\n",
       "    <tr>\n",
       "      <td>75%</td>\n",
       "      <td>1.000000</td>\n",
       "      <td>37.000000</td>\n",
       "      <td>46600.000000</td>\n",
       "      <td>2.000000</td>\n",
       "      <td>0.000000</td>\n",
       "    </tr>\n",
       "    <tr>\n",
       "      <td>max</td>\n",
       "      <td>1.000000</td>\n",
       "      <td>65.000000</td>\n",
       "      <td>79000.000000</td>\n",
       "      <td>6.000000</td>\n",
       "      <td>5.000000</td>\n",
       "    </tr>\n",
       "  </tbody>\n",
       "</table>\n",
       "</div>"
      ],
      "text/plain": [
       "               Пол      Возраст      Зарплата  Члены семьи  Страховые выплаты\n",
       "count  5000.000000  5000.000000   5000.000000  5000.000000        5000.000000\n",
       "mean      0.499000    30.952800  39916.360000     1.194200           0.148000\n",
       "std       0.500049     8.440807   9900.083569     1.091387           0.463183\n",
       "min       0.000000    18.000000   5300.000000     0.000000           0.000000\n",
       "25%       0.000000    24.000000  33300.000000     0.000000           0.000000\n",
       "50%       0.000000    30.000000  40200.000000     1.000000           0.000000\n",
       "75%       1.000000    37.000000  46600.000000     2.000000           0.000000\n",
       "max       1.000000    65.000000  79000.000000     6.000000           5.000000"
      ]
     },
     "execution_count": 5,
     "metadata": {},
     "output_type": "execute_result"
    }
   ],
   "source": [
    "df.describe()"
   ]
  },
  {
   "cell_type": "markdown",
   "metadata": {},
   "source": [
    "###### Мы сделали общий обзор данных. В представленном датасете 5000 строк.  "
   ]
  },
  {
   "cell_type": "markdown",
   "metadata": {},
   "source": [
    "Разделим обучающие данные и целевые признаки."
   ]
  },
  {
   "cell_type": "code",
   "execution_count": 6,
   "metadata": {},
   "outputs": [],
   "source": [
    "features = df.drop('Страховые выплаты', axis=1)\n",
    "target = df['Страховые выплаты']"
   ]
  },
  {
   "cell_type": "code",
   "execution_count": 7,
   "metadata": {},
   "outputs": [
    {
     "data": {
      "text/html": [
       "<div>\n",
       "<style scoped>\n",
       "    .dataframe tbody tr th:only-of-type {\n",
       "        vertical-align: middle;\n",
       "    }\n",
       "\n",
       "    .dataframe tbody tr th {\n",
       "        vertical-align: top;\n",
       "    }\n",
       "\n",
       "    .dataframe thead th {\n",
       "        text-align: right;\n",
       "    }\n",
       "</style>\n",
       "<table border=\"1\" class=\"dataframe\">\n",
       "  <thead>\n",
       "    <tr style=\"text-align: right;\">\n",
       "      <th></th>\n",
       "      <th>Пол</th>\n",
       "      <th>Возраст</th>\n",
       "      <th>Зарплата</th>\n",
       "      <th>Члены семьи</th>\n",
       "    </tr>\n",
       "  </thead>\n",
       "  <tbody>\n",
       "    <tr>\n",
       "      <td>0</td>\n",
       "      <td>1</td>\n",
       "      <td>41.0</td>\n",
       "      <td>49600.0</td>\n",
       "      <td>1</td>\n",
       "    </tr>\n",
       "    <tr>\n",
       "      <td>1</td>\n",
       "      <td>0</td>\n",
       "      <td>46.0</td>\n",
       "      <td>38000.0</td>\n",
       "      <td>1</td>\n",
       "    </tr>\n",
       "    <tr>\n",
       "      <td>2</td>\n",
       "      <td>0</td>\n",
       "      <td>29.0</td>\n",
       "      <td>21000.0</td>\n",
       "      <td>0</td>\n",
       "    </tr>\n",
       "    <tr>\n",
       "      <td>3</td>\n",
       "      <td>0</td>\n",
       "      <td>21.0</td>\n",
       "      <td>41700.0</td>\n",
       "      <td>2</td>\n",
       "    </tr>\n",
       "    <tr>\n",
       "      <td>4</td>\n",
       "      <td>1</td>\n",
       "      <td>28.0</td>\n",
       "      <td>26100.0</td>\n",
       "      <td>0</td>\n",
       "    </tr>\n",
       "  </tbody>\n",
       "</table>\n",
       "</div>"
      ],
      "text/plain": [
       "   Пол  Возраст  Зарплата  Члены семьи\n",
       "0    1     41.0   49600.0            1\n",
       "1    0     46.0   38000.0            1\n",
       "2    0     29.0   21000.0            0\n",
       "3    0     21.0   41700.0            2\n",
       "4    1     28.0   26100.0            0"
      ]
     },
     "metadata": {},
     "output_type": "display_data"
    },
    {
     "data": {
      "text/plain": [
       "0    0\n",
       "1    1\n",
       "2    0\n",
       "3    0\n",
       "4    0\n",
       "Name: Страховые выплаты, dtype: int64"
      ]
     },
     "metadata": {},
     "output_type": "display_data"
    }
   ],
   "source": [
    "display(features.head(5))\n",
    "display(target.head(5))"
   ]
  },
  {
   "cell_type": "code",
   "execution_count": 8,
   "metadata": {},
   "outputs": [
    {
     "data": {
      "text/plain": [
       "(5000, 4)"
      ]
     },
     "execution_count": 8,
     "metadata": {},
     "output_type": "execute_result"
    }
   ],
   "source": [
    "features.shape"
   ]
  },
  {
   "cell_type": "markdown",
   "metadata": {},
   "source": [
    "## Умножение матриц"
   ]
  },
  {
   "cell_type": "markdown",
   "metadata": {},
   "source": [
    "Вопрос: Признаки умножают на обратимую матрицу. Изменится ли качество линейной регрессии? "
   ]
  },
  {
   "cell_type": "markdown",
   "metadata": {},
   "source": [
    "Обозначения:\n",
    "\n",
    "- $X$ — матрица признаков (нулевой столбец состоит из единиц)\n",
    "\n",
    "- $y$ — вектор целевого признака\n",
    "\n",
    "- $P$ — матрица, на которую умножаются признаки\n",
    "\n",
    "- $w$ — вектор весов линейной регрессии (нулевой элемент равен сдвигу)"
   ]
  },
  {
   "cell_type": "markdown",
   "metadata": {},
   "source": [
    "Предсказания:\n",
    "\n",
    "$$\n",
    "a = Xw\n",
    "$$\n",
    "\n",
    "Задача обучения:\n",
    "\n",
    "$$\n",
    "w = \\arg\\min_w MSE(Xw, y)\n",
    "$$\n",
    "\n",
    "Формула обучения:\n",
    "\n",
    "$$\n",
    "w = (X^T X)^{-1} X^T y\n",
    "$$"
   ]
  },
  {
   "cell_type": "markdown",
   "metadata": {},
   "source": [
    "**Ответ:** не изменится\n",
    "\n",
    "**Обоснование:** "
   ]
  },
  {
   "cell_type": "markdown",
   "metadata": {},
   "source": [
    "Чтобы доказать, что качество линейной регрессии не изменится, мы должны убедиться в следующем:"
   ]
  },
  {
   "cell_type": "markdown",
   "metadata": {},
   "source": [
    "выражение\n",
    "$$\n",
    "a_1 = XPw = XP ((XP)^T (XP))^{-1} (XP)^T y\n",
    "$$\n",
    "равно следующему выражению\n",
    "$$\n",
    "a = Xw = X (X^T X)^{-1} X^T y \n",
    "$$"
   ]
  },
  {
   "cell_type": "markdown",
   "metadata": {},
   "source": [
    "Воспользуемся следующим свойством матриц $(AB)^T = B^{T} A^{T}$"
   ]
  },
  {
   "cell_type": "markdown",
   "metadata": {},
   "source": [
    "$$\n",
    "XP ((XP)^T (XP))^{-1} (XP)^T y = XP (P^T X^T XP)^{-1} P^T X^T y = XP (P^T (X^T XP))^{-1} P^T X^T y\n",
    "$$"
   ]
  },
  {
   "cell_type": "markdown",
   "metadata": {},
   "source": [
    "воспользуемся следующим свойством матриц $(AB)^{-1} = B^{-1} A^{-1}$, учитывая при этом, что обратной матрицы $ X^{-1} $ не существует, так как матрица признаков не квадратная"
   ]
  },
  {
   "cell_type": "markdown",
   "metadata": {},
   "source": [
    "$$\n",
    "XP (P^T (X^T XP))^{-1} P^T X^T y = XP (X^T XP)^{-1} (P^T)^{-1} P^T X^T y = XP ((X^T X)P)^{-1} (P^T)^{-1} P^T X^T y = \n",
    " XP P^{-1} (X^T X)^{-1} (P^T)^{-1} P^T X^T y\n",
    "$$"
   ]
  },
  {
   "cell_type": "markdown",
   "metadata": {},
   "source": [
    "заменим $P P^{-1}$ на $E$ за счет следующего свойства матрицы $AA^{-1} = A^{-1}A = E $"
   ]
  },
  {
   "cell_type": "markdown",
   "metadata": {},
   "source": [
    "$$\n",
    "XP P^{-1} (X^T X)^{-1} (P^T)^{-1} P^T X^T y = X E (X^T X)^{-1} E X^T y\n",
    "$$"
   ]
  },
  {
   "cell_type": "markdown",
   "metadata": {},
   "source": [
    "Как известно $AE = EA = A$, тогда"
   ]
  },
  {
   "cell_type": "markdown",
   "metadata": {},
   "source": [
    "$$\n",
    "X E (X^T X)^{-1} E X^T y = X (X^T X)^{-1} X^T y\n",
    "$$"
   ]
  },
  {
   "cell_type": "markdown",
   "metadata": {},
   "source": [
    "Что и требовалось подтвердить"
   ]
  },
  {
   "cell_type": "markdown",
   "metadata": {},
   "source": [
    "Таким образом, мы доказали тождество двух выражений, что подтверждает, что умножение матрицы признаков на любую обратимую матрицу не меняет предсказаний, а значит качество линейной регрессии"
   ]
  },
  {
   "cell_type": "markdown",
   "metadata": {},
   "source": [
    "## Алгоритм преобразования"
   ]
  },
  {
   "cell_type": "markdown",
   "metadata": {},
   "source": [
    "**Алгоритм**\n",
    "\n",
    "Мы умножаем матрицу признаков на произвольную обратимую матрицу. Таким образом, мы получаем новую матрицу признаков с измененными конфиденциальными данными. При этом качество предсказаний не изменится."
   ]
  },
  {
   "cell_type": "markdown",
   "metadata": {},
   "source": [
    "**Обоснование**\n",
    "\n",
    "Доказано выше"
   ]
  },
  {
   "cell_type": "markdown",
   "metadata": {},
   "source": [
    "## Проверка алгоритма"
   ]
  },
  {
   "cell_type": "markdown",
   "metadata": {},
   "source": [
    "Определим качество модели при неизмененных признаках"
   ]
  },
  {
   "cell_type": "code",
   "execution_count": 9,
   "metadata": {},
   "outputs": [
    {
     "name": "stdout",
     "output_type": "stream",
     "text": [
      "0.42494550286668\n"
     ]
    }
   ],
   "source": [
    "model = LinearRegression()\n",
    "model.fit(features, target)\n",
    "predictions = model.predict(features)\n",
    "r2_score_origin = r2_score(target, predictions)\n",
    "print(r2_score_origin)"
   ]
  },
  {
   "cell_type": "markdown",
   "metadata": {},
   "source": [
    "Теперь для проверки алгоритма создадим произвольную матрицу $Z$"
   ]
  },
  {
   "cell_type": "code",
   "execution_count": 10,
   "metadata": {},
   "outputs": [
    {
     "name": "stdout",
     "output_type": "stream",
     "text": [
      "[[ 7 15 11  8]\n",
      " [ 7 19 11 11]\n",
      " [ 4  8  3  2]\n",
      " [12  6  2  1]]\n"
     ]
    }
   ],
   "source": [
    "np.random.seed(42)\n",
    "random_matrix = np.random.randint(1, 20, size=(4, 4))\n",
    "print(random_matrix)"
   ]
  },
  {
   "cell_type": "markdown",
   "metadata": {},
   "source": [
    "Убедимся, что она обратимая"
   ]
  },
  {
   "cell_type": "code",
   "execution_count": 11,
   "metadata": {},
   "outputs": [],
   "source": [
    "while np.linalg.det(random_matrix) == 0:\n",
    "    random_matrix = np.random.randint(1, 20, size=(4, 4))"
   ]
  },
  {
   "cell_type": "markdown",
   "metadata": {},
   "source": [
    "Умножим матрицу признаков на нашу матрицу"
   ]
  },
  {
   "cell_type": "code",
   "execution_count": 12,
   "metadata": {},
   "outputs": [],
   "source": [
    "new_features = features @ random_matrix"
   ]
  },
  {
   "cell_type": "code",
   "execution_count": 13,
   "metadata": {},
   "outputs": [
    {
     "data": {
      "text/html": [
       "<div>\n",
       "<style scoped>\n",
       "    .dataframe tbody tr th:only-of-type {\n",
       "        vertical-align: middle;\n",
       "    }\n",
       "\n",
       "    .dataframe tbody tr th {\n",
       "        vertical-align: top;\n",
       "    }\n",
       "\n",
       "    .dataframe thead th {\n",
       "        text-align: right;\n",
       "    }\n",
       "</style>\n",
       "<table border=\"1\" class=\"dataframe\">\n",
       "  <thead>\n",
       "    <tr style=\"text-align: right;\">\n",
       "      <th></th>\n",
       "      <th>0</th>\n",
       "      <th>1</th>\n",
       "      <th>2</th>\n",
       "      <th>3</th>\n",
       "    </tr>\n",
       "  </thead>\n",
       "  <tbody>\n",
       "    <tr>\n",
       "      <td>0</td>\n",
       "      <td>198706.0</td>\n",
       "      <td>397600.0</td>\n",
       "      <td>149264.0</td>\n",
       "      <td>99660.0</td>\n",
       "    </tr>\n",
       "    <tr>\n",
       "      <td>1</td>\n",
       "      <td>152334.0</td>\n",
       "      <td>304880.0</td>\n",
       "      <td>114508.0</td>\n",
       "      <td>76507.0</td>\n",
       "    </tr>\n",
       "    <tr>\n",
       "      <td>2</td>\n",
       "      <td>84203.0</td>\n",
       "      <td>168551.0</td>\n",
       "      <td>63319.0</td>\n",
       "      <td>42319.0</td>\n",
       "    </tr>\n",
       "    <tr>\n",
       "      <td>3</td>\n",
       "      <td>166971.0</td>\n",
       "      <td>334011.0</td>\n",
       "      <td>125335.0</td>\n",
       "      <td>83633.0</td>\n",
       "    </tr>\n",
       "    <tr>\n",
       "      <td>4</td>\n",
       "      <td>104603.0</td>\n",
       "      <td>209347.0</td>\n",
       "      <td>78619.0</td>\n",
       "      <td>52516.0</td>\n",
       "    </tr>\n",
       "  </tbody>\n",
       "</table>\n",
       "</div>"
      ],
      "text/plain": [
       "          0         1         2        3\n",
       "0  198706.0  397600.0  149264.0  99660.0\n",
       "1  152334.0  304880.0  114508.0  76507.0\n",
       "2   84203.0  168551.0   63319.0  42319.0\n",
       "3  166971.0  334011.0  125335.0  83633.0\n",
       "4  104603.0  209347.0   78619.0  52516.0"
      ]
     },
     "execution_count": 13,
     "metadata": {},
     "output_type": "execute_result"
    }
   ],
   "source": [
    "new_features.head()"
   ]
  },
  {
   "cell_type": "markdown",
   "metadata": {},
   "source": [
    "Вышепредставленная матрица говорит нам примерно ничего. Конфиденциальные данные в безопасности."
   ]
  },
  {
   "cell_type": "code",
   "execution_count": 14,
   "metadata": {},
   "outputs": [
    {
     "name": "stdout",
     "output_type": "stream",
     "text": [
      "0.424945502866683\n"
     ]
    }
   ],
   "source": [
    "model = LinearRegression()\n",
    "model.fit(new_features, target)\n",
    "predictions = model.predict(new_features)\n",
    "r2_score_changed = r2_score(target, predictions)\n",
    "print(r2_score_changed)"
   ]
  },
  {
   "cell_type": "markdown",
   "metadata": {},
   "source": [
    "Сравним результаты:"
   ]
  },
  {
   "cell_type": "code",
   "execution_count": 15,
   "metadata": {},
   "outputs": [
    {
     "data": {
      "text/html": [
       "<div>\n",
       "<style scoped>\n",
       "    .dataframe tbody tr th:only-of-type {\n",
       "        vertical-align: middle;\n",
       "    }\n",
       "\n",
       "    .dataframe tbody tr th {\n",
       "        vertical-align: top;\n",
       "    }\n",
       "\n",
       "    .dataframe thead th {\n",
       "        text-align: right;\n",
       "    }\n",
       "</style>\n",
       "<table border=\"1\" class=\"dataframe\">\n",
       "  <thead>\n",
       "    <tr style=\"text-align: right;\">\n",
       "      <th></th>\n",
       "      <th>values</th>\n",
       "    </tr>\n",
       "  </thead>\n",
       "  <tbody>\n",
       "    <tr>\n",
       "      <td>r2_score_origin</td>\n",
       "      <td>0.424946</td>\n",
       "    </tr>\n",
       "    <tr>\n",
       "      <td>r2_score_changed</td>\n",
       "      <td>0.424946</td>\n",
       "    </tr>\n",
       "  </tbody>\n",
       "</table>\n",
       "</div>"
      ],
      "text/plain": [
       "                    values\n",
       "r2_score_origin   0.424946\n",
       "r2_score_changed  0.424946"
      ]
     },
     "metadata": {},
     "output_type": "display_data"
    }
   ],
   "source": [
    "comparison = pd.DataFrame(data=[r2_score_origin, r2_score_changed],\n",
    "                          columns=['values'],\n",
    "                          index=['r2_score_origin', 'r2_score_changed'])\n",
    "display(comparison)"
   ]
  },
  {
   "cell_type": "markdown",
   "metadata": {},
   "source": [
    "Как видно выше, качество модели не изменилось"
   ]
  }
 ],
 "metadata": {
  "ExecuteTimeLog": [
   {
    "duration": 844,
    "start_time": "2021-10-22T16:27:01.638Z"
   },
   {
    "duration": 19,
    "start_time": "2021-10-22T16:27:03.275Z"
   },
   {
    "duration": 10,
    "start_time": "2021-10-22T16:27:04.351Z"
   },
   {
    "duration": 16,
    "start_time": "2021-10-22T16:27:10.341Z"
   },
   {
    "duration": 35,
    "start_time": "2021-10-22T16:27:30.959Z"
   },
   {
    "duration": 942,
    "start_time": "2021-10-23T14:12:18.417Z"
   },
   {
    "duration": 20,
    "start_time": "2021-10-23T14:12:19.362Z"
   },
   {
    "duration": 9,
    "start_time": "2021-10-23T14:12:19.385Z"
   },
   {
    "duration": 32,
    "start_time": "2021-10-23T14:12:19.396Z"
   },
   {
    "duration": 37,
    "start_time": "2021-10-23T14:12:19.431Z"
   },
   {
    "duration": 30,
    "start_time": "2021-10-23T14:12:19.470Z"
   },
   {
    "duration": 591,
    "start_time": "2021-10-23T18:47:06.326Z"
   },
   {
    "duration": 1504,
    "start_time": "2021-10-23T18:47:12.528Z"
   },
   {
    "duration": 21,
    "start_time": "2021-10-23T18:47:14.034Z"
   },
   {
    "duration": 9,
    "start_time": "2021-10-23T18:47:14.058Z"
   },
   {
    "duration": 16,
    "start_time": "2021-10-23T18:47:14.070Z"
   },
   {
    "duration": 35,
    "start_time": "2021-10-23T18:47:14.088Z"
   },
   {
    "duration": 5,
    "start_time": "2021-10-23T18:47:14.125Z"
   },
   {
    "duration": 666,
    "start_time": "2021-10-23T18:47:14.132Z"
   },
   {
    "duration": 288,
    "start_time": "2021-10-23T18:47:14.512Z"
   },
   {
    "duration": 287,
    "start_time": "2021-10-23T18:47:14.515Z"
   },
   {
    "duration": 275,
    "start_time": "2021-10-23T18:47:14.528Z"
   },
   {
    "duration": 272,
    "start_time": "2021-10-23T18:47:14.532Z"
   },
   {
    "duration": 6,
    "start_time": "2021-10-23T18:47:29.519Z"
   },
   {
    "duration": 1470,
    "start_time": "2021-10-24T17:43:38.230Z"
   },
   {
    "duration": 20,
    "start_time": "2021-10-24T17:43:39.702Z"
   },
   {
    "duration": 10,
    "start_time": "2021-10-24T17:43:39.726Z"
   },
   {
    "duration": 16,
    "start_time": "2021-10-24T17:43:39.740Z"
   },
   {
    "duration": 37,
    "start_time": "2021-10-24T17:43:39.782Z"
   },
   {
    "duration": 5,
    "start_time": "2021-10-24T17:43:39.821Z"
   },
   {
    "duration": 7,
    "start_time": "2021-10-24T17:43:39.829Z"
   },
   {
    "duration": 131,
    "start_time": "2021-10-24T17:43:39.840Z"
   },
   {
    "duration": 1744,
    "start_time": "2021-10-24T17:43:38.229Z"
   },
   {
    "duration": 1732,
    "start_time": "2021-10-24T17:43:38.242Z"
   },
   {
    "duration": 1720,
    "start_time": "2021-10-24T17:43:38.256Z"
   },
   {
    "duration": 1717,
    "start_time": "2021-10-24T17:43:38.260Z"
   },
   {
    "duration": 1375,
    "start_time": "2021-10-24T17:43:58.807Z"
   },
   {
    "duration": 21,
    "start_time": "2021-10-24T17:44:00.185Z"
   },
   {
    "duration": 12,
    "start_time": "2021-10-24T17:44:00.209Z"
   },
   {
    "duration": 17,
    "start_time": "2021-10-24T17:44:00.224Z"
   },
   {
    "duration": 64,
    "start_time": "2021-10-24T17:44:00.243Z"
   },
   {
    "duration": 5,
    "start_time": "2021-10-24T17:44:00.310Z"
   },
   {
    "duration": 20,
    "start_time": "2021-10-24T17:44:00.317Z"
   },
   {
    "duration": 491,
    "start_time": "2021-10-24T17:44:00.340Z"
   },
   {
    "duration": 1391,
    "start_time": "2021-10-24T17:43:59.443Z"
   },
   {
    "duration": 1375,
    "start_time": "2021-10-24T17:43:59.461Z"
   },
   {
    "duration": 1345,
    "start_time": "2021-10-24T17:43:59.492Z"
   },
   {
    "duration": 1542,
    "start_time": "2021-10-24T17:44:49.472Z"
   },
   {
    "duration": 19,
    "start_time": "2021-10-24T17:44:51.016Z"
   },
   {
    "duration": 9,
    "start_time": "2021-10-24T17:44:51.042Z"
   },
   {
    "duration": 40,
    "start_time": "2021-10-24T17:44:51.053Z"
   },
   {
    "duration": 33,
    "start_time": "2021-10-24T17:44:51.097Z"
   },
   {
    "duration": 5,
    "start_time": "2021-10-24T17:44:51.132Z"
   },
   {
    "duration": 7,
    "start_time": "2021-10-24T17:44:51.140Z"
   },
   {
    "duration": 131,
    "start_time": "2021-10-24T17:44:51.150Z"
   },
   {
    "duration": 108,
    "start_time": "2021-10-24T17:44:51.284Z"
   },
   {
    "duration": 1746,
    "start_time": "2021-10-24T17:44:49.650Z"
   },
   {
    "duration": 1744,
    "start_time": "2021-10-24T17:44:49.654Z"
   },
   {
    "duration": 1474,
    "start_time": "2021-10-24T17:45:07.999Z"
   },
   {
    "duration": 23,
    "start_time": "2021-10-24T17:45:09.476Z"
   },
   {
    "duration": 12,
    "start_time": "2021-10-24T17:45:09.502Z"
   },
   {
    "duration": 18,
    "start_time": "2021-10-24T17:45:09.518Z"
   },
   {
    "duration": 77,
    "start_time": "2021-10-24T17:45:09.539Z"
   },
   {
    "duration": 5,
    "start_time": "2021-10-24T17:45:09.618Z"
   },
   {
    "duration": 10,
    "start_time": "2021-10-24T17:45:09.626Z"
   },
   {
    "duration": 56,
    "start_time": "2021-10-24T17:45:09.640Z"
   },
   {
    "duration": 518,
    "start_time": "2021-10-24T17:45:09.700Z"
   },
   {
    "duration": 1752,
    "start_time": "2021-10-24T17:45:08.469Z"
   },
   {
    "duration": 1743,
    "start_time": "2021-10-24T17:45:08.479Z"
   },
   {
    "duration": 344,
    "start_time": "2021-10-24T17:45:44.764Z"
   },
   {
    "duration": 580,
    "start_time": "2021-10-24T17:45:55.094Z"
   },
   {
    "duration": 5,
    "start_time": "2021-10-24T17:46:33.329Z"
   },
   {
    "duration": 6,
    "start_time": "2021-10-24T17:47:02.971Z"
   },
   {
    "duration": 6,
    "start_time": "2021-10-24T17:47:30.463Z"
   },
   {
    "duration": 578,
    "start_time": "2021-10-24T17:47:37.470Z"
   },
   {
    "duration": 261,
    "start_time": "2021-10-24T17:50:29.747Z"
   },
   {
    "duration": 5,
    "start_time": "2021-10-24T17:52:26.509Z"
   },
   {
    "duration": 488,
    "start_time": "2021-10-24T17:52:30.991Z"
   },
   {
    "duration": 567,
    "start_time": "2021-10-24T17:52:54.531Z"
   },
   {
    "duration": 7847,
    "start_time": "2021-10-24T17:52:57.937Z"
   },
   {
    "duration": 323,
    "start_time": "2021-10-24T17:53:14.409Z"
   },
   {
    "duration": 583,
    "start_time": "2021-10-24T17:53:45.188Z"
   },
   {
    "duration": 7929,
    "start_time": "2021-10-24T17:53:47.158Z"
   },
   {
    "duration": 436,
    "start_time": "2021-10-24T17:53:59.465Z"
   },
   {
    "duration": 5,
    "start_time": "2021-10-24T17:54:17.370Z"
   },
   {
    "duration": 864,
    "start_time": "2021-10-24T17:54:20.329Z"
   },
   {
    "duration": 587,
    "start_time": "2021-10-24T17:56:34.177Z"
   },
   {
    "duration": 19905,
    "start_time": "2021-10-24T17:56:36.987Z"
   },
   {
    "duration": 7,
    "start_time": "2021-10-24T17:57:19.615Z"
   },
   {
    "duration": 4,
    "start_time": "2021-10-24T17:57:22.797Z"
   },
   {
    "duration": 5,
    "start_time": "2021-10-24T17:57:26.337Z"
   },
   {
    "duration": 14,
    "start_time": "2021-10-24T17:57:28.576Z"
   },
   {
    "duration": 1541,
    "start_time": "2021-10-24T17:57:38.053Z"
   },
   {
    "duration": 19,
    "start_time": "2021-10-24T17:57:39.597Z"
   },
   {
    "duration": 13,
    "start_time": "2021-10-24T17:57:39.619Z"
   },
   {
    "duration": 18,
    "start_time": "2021-10-24T17:57:39.635Z"
   },
   {
    "duration": 59,
    "start_time": "2021-10-24T17:57:39.656Z"
   },
   {
    "duration": 5,
    "start_time": "2021-10-24T17:57:39.718Z"
   },
   {
    "duration": 7,
    "start_time": "2021-10-24T17:57:39.725Z"
   },
   {
    "duration": 57,
    "start_time": "2021-10-24T17:57:39.735Z"
   },
   {
    "duration": 90,
    "start_time": "2021-10-24T17:57:39.795Z"
   },
   {
    "duration": 5,
    "start_time": "2021-10-24T17:57:39.888Z"
   },
   {
    "duration": 9,
    "start_time": "2021-10-24T17:57:39.896Z"
   },
   {
    "duration": 79,
    "start_time": "2021-10-24T17:57:39.908Z"
   },
   {
    "duration": 1541,
    "start_time": "2021-10-24T18:01:37.358Z"
   },
   {
    "duration": 19,
    "start_time": "2021-10-24T18:01:38.902Z"
   },
   {
    "duration": 12,
    "start_time": "2021-10-24T18:01:38.924Z"
   },
   {
    "duration": 15,
    "start_time": "2021-10-24T18:01:38.939Z"
   },
   {
    "duration": 59,
    "start_time": "2021-10-24T18:01:38.956Z"
   },
   {
    "duration": 5,
    "start_time": "2021-10-24T18:01:39.018Z"
   },
   {
    "duration": 7,
    "start_time": "2021-10-24T18:01:39.025Z"
   },
   {
    "duration": 57,
    "start_time": "2021-10-24T18:01:39.035Z"
   },
   {
    "duration": 5,
    "start_time": "2021-10-24T18:01:39.184Z"
   },
   {
    "duration": 4,
    "start_time": "2021-10-24T18:01:39.191Z"
   },
   {
    "duration": 7,
    "start_time": "2021-10-24T18:01:39.198Z"
   },
   {
    "duration": 84,
    "start_time": "2021-10-24T18:01:39.208Z"
   },
   {
    "duration": 1580,
    "start_time": "2021-10-24T18:02:07.180Z"
   },
   {
    "duration": 21,
    "start_time": "2021-10-24T18:02:08.763Z"
   },
   {
    "duration": 11,
    "start_time": "2021-10-24T18:02:08.788Z"
   },
   {
    "duration": 18,
    "start_time": "2021-10-24T18:02:08.802Z"
   },
   {
    "duration": 67,
    "start_time": "2021-10-24T18:02:08.823Z"
   },
   {
    "duration": 7,
    "start_time": "2021-10-24T18:02:08.893Z"
   },
   {
    "duration": 8,
    "start_time": "2021-10-24T18:02:08.903Z"
   },
   {
    "duration": 75,
    "start_time": "2021-10-24T18:02:08.914Z"
   },
   {
    "duration": 94,
    "start_time": "2021-10-24T18:02:08.992Z"
   },
   {
    "duration": 4,
    "start_time": "2021-10-24T18:02:09.088Z"
   },
   {
    "duration": 6,
    "start_time": "2021-10-24T18:02:09.095Z"
   },
   {
    "duration": 80,
    "start_time": "2021-10-24T18:02:09.103Z"
   },
   {
    "duration": 1464,
    "start_time": "2021-10-24T18:05:50.169Z"
   },
   {
    "duration": 18,
    "start_time": "2021-10-24T18:05:51.636Z"
   },
   {
    "duration": 9,
    "start_time": "2021-10-24T18:05:51.656Z"
   },
   {
    "duration": 23,
    "start_time": "2021-10-24T18:05:51.668Z"
   },
   {
    "duration": 37,
    "start_time": "2021-10-24T18:05:51.693Z"
   },
   {
    "duration": 4,
    "start_time": "2021-10-24T18:05:51.732Z"
   },
   {
    "duration": 9,
    "start_time": "2021-10-24T18:05:51.738Z"
   },
   {
    "duration": 48,
    "start_time": "2021-10-24T18:05:51.750Z"
   },
   {
    "duration": 96,
    "start_time": "2021-10-24T18:05:51.885Z"
   },
   {
    "duration": 4,
    "start_time": "2021-10-24T18:05:51.984Z"
   },
   {
    "duration": 5,
    "start_time": "2021-10-24T18:05:51.991Z"
   },
   {
    "duration": 12,
    "start_time": "2021-10-24T18:05:51.999Z"
   },
   {
    "duration": 75,
    "start_time": "2021-10-24T18:05:52.014Z"
   },
   {
    "duration": 5,
    "start_time": "2021-10-24T18:06:02.649Z"
   },
   {
    "duration": 4,
    "start_time": "2021-10-24T18:06:35.029Z"
   },
   {
    "duration": 4,
    "start_time": "2021-10-24T18:06:40.821Z"
   },
   {
    "duration": 5,
    "start_time": "2021-10-24T18:07:45.301Z"
   },
   {
    "duration": 10,
    "start_time": "2021-10-24T18:12:28.814Z"
   },
   {
    "duration": 14,
    "start_time": "2021-10-24T18:13:37.687Z"
   },
   {
    "duration": 1481,
    "start_time": "2021-10-24T18:17:42.965Z"
   },
   {
    "duration": 21,
    "start_time": "2021-10-24T18:17:44.449Z"
   },
   {
    "duration": 14,
    "start_time": "2021-10-24T18:17:44.476Z"
   },
   {
    "duration": 19,
    "start_time": "2021-10-24T18:17:44.492Z"
   },
   {
    "duration": 35,
    "start_time": "2021-10-24T18:17:44.513Z"
   },
   {
    "duration": 5,
    "start_time": "2021-10-24T18:17:44.583Z"
   },
   {
    "duration": 15,
    "start_time": "2021-10-24T18:17:44.592Z"
   },
   {
    "duration": 7,
    "start_time": "2021-10-24T18:17:44.610Z"
   },
   {
    "duration": 70,
    "start_time": "2021-10-24T18:17:44.619Z"
   },
   {
    "duration": 92,
    "start_time": "2021-10-24T18:17:44.692Z"
   },
   {
    "duration": 5,
    "start_time": "2021-10-24T18:17:44.787Z"
   },
   {
    "duration": 14,
    "start_time": "2021-10-24T18:17:44.794Z"
   },
   {
    "duration": 13,
    "start_time": "2021-10-24T18:17:44.810Z"
   },
   {
    "duration": 156,
    "start_time": "2021-10-24T18:17:44.826Z"
   },
   {
    "duration": 11,
    "start_time": "2021-10-24T18:17:44.985Z"
   },
   {
    "duration": 1207,
    "start_time": "2021-10-28T09:48:08.596Z"
   },
   {
    "duration": 19,
    "start_time": "2021-10-28T09:48:09.805Z"
   },
   {
    "duration": 7,
    "start_time": "2021-10-28T09:48:09.826Z"
   },
   {
    "duration": 14,
    "start_time": "2021-10-28T09:48:09.834Z"
   },
   {
    "duration": 35,
    "start_time": "2021-10-28T09:48:09.849Z"
   },
   {
    "duration": 4,
    "start_time": "2021-10-28T09:48:09.886Z"
   },
   {
    "duration": 12,
    "start_time": "2021-10-28T09:48:09.891Z"
   },
   {
    "duration": 4,
    "start_time": "2021-10-28T09:48:09.907Z"
   },
   {
    "duration": 162,
    "start_time": "2021-10-28T09:48:09.914Z"
   },
   {
    "duration": 4,
    "start_time": "2021-10-28T09:48:10.078Z"
   },
   {
    "duration": 8,
    "start_time": "2021-10-28T09:48:10.084Z"
   },
   {
    "duration": 6,
    "start_time": "2021-10-28T09:48:10.094Z"
   },
   {
    "duration": 9,
    "start_time": "2021-10-28T09:48:10.102Z"
   },
   {
    "duration": 64,
    "start_time": "2021-10-28T09:48:10.112Z"
   },
   {
    "duration": 97,
    "start_time": "2021-10-28T09:48:10.181Z"
   }
  ],
  "kernelspec": {
   "display_name": "Python 3",
   "language": "python",
   "name": "python3"
  },
  "language_info": {
   "codemirror_mode": {
    "name": "ipython",
    "version": 3
   },
   "file_extension": ".py",
   "mimetype": "text/x-python",
   "name": "python",
   "nbconvert_exporter": "python",
   "pygments_lexer": "ipython3",
   "version": "3.9.2"
  },
  "toc": {
   "base_numbering": 1,
   "nav_menu": {},
   "number_sections": true,
   "sideBar": true,
   "skip_h1_title": true,
   "title_cell": "Содержание",
   "title_sidebar": "Contents",
   "toc_cell": true,
   "toc_position": {},
   "toc_section_display": true,
   "toc_window_display": false
  }
 },
 "nbformat": 4,
 "nbformat_minor": 2
}
