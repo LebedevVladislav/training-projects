{
 "cells": [
  {
   "cell_type": "markdown",
   "metadata": {
    "toc": true
   },
   "source": [
    "<h1>Содержание<span class=\"tocSkip\"></span></h1>\n",
    "<div class=\"toc\"><ul class=\"toc-item\"><li><span><a href=\"#Подготовка\" data-toc-modified-id=\"Подготовка-1\"><span class=\"toc-item-num\">1&nbsp;&nbsp;</span>Подготовка</a></span></li><li><span><a href=\"#Анализ\" data-toc-modified-id=\"Анализ-2\"><span class=\"toc-item-num\">2&nbsp;&nbsp;</span>Анализ</a></span></li><li><span><a href=\"#Обучение\" data-toc-modified-id=\"Обучение-3\"><span class=\"toc-item-num\">3&nbsp;&nbsp;</span>Обучение</a></span><ul class=\"toc-item\"><li><span><a href=\"#Линейная-регрессия\" data-toc-modified-id=\"Линейная-регрессия-3.1\"><span class=\"toc-item-num\">3.1&nbsp;&nbsp;</span>Линейная регрессия</a></span></li><li><span><a href=\"#Случайный-лес\" data-toc-modified-id=\"Случайный-лес-3.2\"><span class=\"toc-item-num\">3.2&nbsp;&nbsp;</span>Случайный лес</a></span></li><li><span><a href=\"#CatBoost\" data-toc-modified-id=\"CatBoost-3.3\"><span class=\"toc-item-num\">3.3&nbsp;&nbsp;</span>CatBoost</a></span></li></ul></li><li><span><a href=\"#Тестирование\" data-toc-modified-id=\"Тестирование-4\"><span class=\"toc-item-num\">4&nbsp;&nbsp;</span>Тестирование</a></span><ul class=\"toc-item\"><li><span><a href=\"#Линейная-регрессия\" data-toc-modified-id=\"Линейная-регрессия-4.1\"><span class=\"toc-item-num\">4.1&nbsp;&nbsp;</span>Линейная регрессия</a></span></li><li><span><a href=\"#Случайный-лес\" data-toc-modified-id=\"Случайный-лес-4.2\"><span class=\"toc-item-num\">4.2&nbsp;&nbsp;</span>Случайный лес</a></span></li><li><span><a href=\"#CatBoost\" data-toc-modified-id=\"CatBoost-4.3\"><span class=\"toc-item-num\">4.3&nbsp;&nbsp;</span>CatBoost</a></span></li><li><span><a href=\"#Графический-анализ-результатов\" data-toc-modified-id=\"Графический-анализ-результатов-4.4\"><span class=\"toc-item-num\">4.4&nbsp;&nbsp;</span>Графический анализ результатов</a></span></li></ul></li></ul></div>"
   ]
  },
  {
   "cell_type": "markdown",
   "metadata": {},
   "source": [
    "#  Прогнозирование заказов такси"
   ]
  },
  {
   "cell_type": "markdown",
   "metadata": {},
   "source": [
    "Компания «Чётенькое такси» собрала исторические данные о заказах такси в аэропортах. Чтобы привлекать больше водителей в период пиковой нагрузки, нужно спрогнозировать количество заказов такси на следующий час. Постройте модель для такого предсказания.\n",
    "\n",
    "Значение метрики *RMSE* на тестовой выборке должно быть не больше 48.\n",
    "\n",
    "Вам нужно:\n",
    "\n",
    "1. Загрузить данные и выполнить их ресемплирование по одному часу.\n",
    "2. Проанализировать данные.\n",
    "3. Обучить разные модели с различными гиперпараметрами. Сделать тестовую выборку размером 10% от исходных данных.\n",
    "4. Проверить данные на тестовой выборке и сделать выводы.\n",
    "\n",
    "\n",
    "Данные лежат в файле `taxi.csv`. Количество заказов находится в столбце `num_orders` (от англ. *number of orders*, «число заказов»)."
   ]
  },
  {
   "cell_type": "markdown",
   "metadata": {},
   "source": [
    "## Подготовка"
   ]
  },
  {
   "cell_type": "code",
   "execution_count": 1,
   "metadata": {},
   "outputs": [],
   "source": [
    "import pandas as pd\n",
    "from statsmodels.tsa.seasonal import seasonal_decompose\n",
    "import matplotlib.pyplot as plt\n",
    "import matplotlib.dates as mdates\n",
    "import numpy as np\n",
    "from sklearn.metrics import mean_squared_error\n",
    "from sklearn.model_selection import train_test_split\n",
    "from sklearn.linear_model import LinearRegression\n",
    "from sklearn.ensemble import RandomForestRegressor\n",
    "from catboost import CatBoostRegressor"
   ]
  },
  {
   "cell_type": "code",
   "execution_count": 2,
   "metadata": {},
   "outputs": [],
   "source": [
    "df = pd.read_csv('/datasets/taxi.csv', index_col=[0], parse_dates=[0])"
   ]
  },
  {
   "cell_type": "code",
   "execution_count": 3,
   "metadata": {},
   "outputs": [
    {
     "name": "stdout",
     "output_type": "stream",
     "text": [
      "<class 'pandas.core.frame.DataFrame'>\n",
      "DatetimeIndex: 26496 entries, 2018-03-01 00:00:00 to 2018-08-31 23:50:00\n",
      "Data columns (total 1 columns):\n",
      "num_orders    26496 non-null int64\n",
      "dtypes: int64(1)\n",
      "memory usage: 414.0 KB\n"
     ]
    }
   ],
   "source": [
    "df.info()"
   ]
  },
  {
   "cell_type": "code",
   "execution_count": 4,
   "metadata": {},
   "outputs": [
    {
     "data": {
      "text/html": [
       "<div>\n",
       "<style scoped>\n",
       "    .dataframe tbody tr th:only-of-type {\n",
       "        vertical-align: middle;\n",
       "    }\n",
       "\n",
       "    .dataframe tbody tr th {\n",
       "        vertical-align: top;\n",
       "    }\n",
       "\n",
       "    .dataframe thead th {\n",
       "        text-align: right;\n",
       "    }\n",
       "</style>\n",
       "<table border=\"1\" class=\"dataframe\">\n",
       "  <thead>\n",
       "    <tr style=\"text-align: right;\">\n",
       "      <th></th>\n",
       "      <th>num_orders</th>\n",
       "    </tr>\n",
       "    <tr>\n",
       "      <th>datetime</th>\n",
       "      <th></th>\n",
       "    </tr>\n",
       "  </thead>\n",
       "  <tbody>\n",
       "    <tr>\n",
       "      <td>2018-03-01 00:00:00</td>\n",
       "      <td>9</td>\n",
       "    </tr>\n",
       "    <tr>\n",
       "      <td>2018-03-01 00:10:00</td>\n",
       "      <td>14</td>\n",
       "    </tr>\n",
       "    <tr>\n",
       "      <td>2018-03-01 00:20:00</td>\n",
       "      <td>28</td>\n",
       "    </tr>\n",
       "    <tr>\n",
       "      <td>2018-03-01 00:30:00</td>\n",
       "      <td>20</td>\n",
       "    </tr>\n",
       "    <tr>\n",
       "      <td>2018-03-01 00:40:00</td>\n",
       "      <td>32</td>\n",
       "    </tr>\n",
       "  </tbody>\n",
       "</table>\n",
       "</div>"
      ],
      "text/plain": [
       "                     num_orders\n",
       "datetime                       \n",
       "2018-03-01 00:00:00           9\n",
       "2018-03-01 00:10:00          14\n",
       "2018-03-01 00:20:00          28\n",
       "2018-03-01 00:30:00          20\n",
       "2018-03-01 00:40:00          32"
      ]
     },
     "metadata": {},
     "output_type": "display_data"
    }
   ],
   "source": [
    "display(df.head())"
   ]
  },
  {
   "cell_type": "code",
   "execution_count": 5,
   "metadata": {},
   "outputs": [
    {
     "name": "stdout",
     "output_type": "stream",
     "text": [
      "True\n"
     ]
    }
   ],
   "source": [
    "print(df.index.is_monotonic)"
   ]
  },
  {
   "cell_type": "code",
   "execution_count": 6,
   "metadata": {},
   "outputs": [],
   "source": [
    "df = df.resample('1H').sum()"
   ]
  },
  {
   "cell_type": "markdown",
   "metadata": {},
   "source": [
    "## Анализ"
   ]
  },
  {
   "cell_type": "code",
   "execution_count": 7,
   "metadata": {},
   "outputs": [],
   "source": [
    "plt.rcParams.update({'font.size': 18})"
   ]
  },
  {
   "cell_type": "code",
   "execution_count": 8,
   "metadata": {},
   "outputs": [
    {
     "data": {
      "image/png": "[encoded data removed]",
      "text/plain": [
       "<Figure size 1440x360 with 1 Axes>"
      ]
     },
     "metadata": {
      "needs_background": "light"
     },
     "output_type": "display_data"
    }
   ],
   "source": [
    "df.plot(figsize=(20, 5))\n",
    "plt.show()"
   ]
  },
  {
   "cell_type": "code",
   "execution_count": 9,
   "metadata": {},
   "outputs": [],
   "source": [
    "decomposed = seasonal_decompose(df)\n",
    "seasonality = decomposed.seasonal\n",
    "trend = decomposed.trend\n",
    "residuals = decomposed.resid"
   ]
  },
  {
   "cell_type": "code",
   "execution_count": 10,
   "metadata": {
    "scrolled": false
   },
   "outputs": [
    {
     "data": {
      "image/png": "[encoded data removed]",
      "text/plain": [
       "<Figure size 1440x1080 with 3 Axes>"
      ]
     },
     "metadata": {
      "needs_background": "light"
     },
     "output_type": "display_data"
    }
   ],
   "source": [
    "plt.figure(figsize=(20, 15))\n",
    "\n",
    "plt.subplot(311)\n",
    "trend.plot(ax=plt.gca())\n",
    "plt.title('Trend')\n",
    "\n",
    "plt.subplot(312)\n",
    "seasonality.plot(ax=plt.gca())\n",
    "plt.title('Seasonality')\n",
    "\n",
    "plt.subplot(313)\n",
    "residuals.plot(ax=plt.gca()) \n",
    "plt.title('Residuals')\n",
    "\n",
    "plt.tight_layout()"
   ]
  },
  {
   "cell_type": "markdown",
   "metadata": {},
   "source": [
    "График тренда: мы видим рост частоты заказа с 1-го марта до 31-го августа\n",
    "График сезонности: мы видим сезонность, сливающуюся почти в одну линию, стоит рассмотреть внимательнее"
   ]
  },
  {
   "cell_type": "markdown",
   "metadata": {},
   "source": [
    "Рассмотрим конкретный день"
   ]
  },
  {
   "cell_type": "code",
   "execution_count": 11,
   "metadata": {},
   "outputs": [
    {
     "data": {
      "image/png": "[encoded data removed]",
      "text/plain": [
       "<Figure size 1440x360 with 1 Axes>"
      ]
     },
     "metadata": {
      "needs_background": "light"
     },
     "output_type": "display_data"
    }
   ],
   "source": [
    "fig, ax = plt.subplots(figsize=(20,5))\n",
    "ax.plot(seasonality['2018-03-01'])\n",
    "ax.xaxis.set_major_locator(mdates.HourLocator())\n",
    "ax.xaxis.set_major_formatter(mdates.DateFormatter('%H'))\n",
    "plt.show()"
   ]
  },
  {
   "cell_type": "markdown",
   "metadata": {},
   "source": [
    "Хорошо заметно, что на графике есть три пика заказов в течение суток: в 00:00, в 10:00 и в 16:00"
   ]
  },
  {
   "cell_type": "markdown",
   "metadata": {},
   "source": [
    "## Обучение"
   ]
  },
  {
   "cell_type": "markdown",
   "metadata": {},
   "source": [
    "Полагаем, что для предсказания временных рядов ключевое значение имеет параметр лага. Теоретически можно было бы сделать автоматический подбор лага, дающий наилучший результат, но мы установим по умолчанию 24 - сутки"
   ]
  },
  {
   "cell_type": "code",
   "execution_count": 12,
   "metadata": {},
   "outputs": [],
   "source": [
    "def make_features(data, max_lag,  rolling_mean_size):\n",
    "    data['day'] = data.index.day\n",
    "    data['dayofweek'] = data.index.dayofweek\n",
    "    data['hour'] = data.index.hour\n",
    "    \n",
    "    for lag in range(1, max_lag + 1):\n",
    "        data['lag_{}'.format(lag)] = data['num_orders'].shift(lag)\n",
    "        \n",
    "    data['rolling_mean'] = data['num_orders'].shift().rolling(rolling_mean_size).mean()"
   ]
  },
  {
   "cell_type": "code",
   "execution_count": 13,
   "metadata": {},
   "outputs": [],
   "source": [
    "make_features(df, 12, 24)"
   ]
  },
  {
   "cell_type": "markdown",
   "metadata": {},
   "source": [
    "После этого разделим выборку на обучающую, валидационную и тестовую, так чтобы тестовая составляла 10% данных"
   ]
  },
  {
   "cell_type": "code",
   "execution_count": 14,
   "metadata": {},
   "outputs": [],
   "source": [
    "general, test = train_test_split(df, shuffle=False, test_size=0.1)"
   ]
  },
  {
   "cell_type": "markdown",
   "metadata": {},
   "source": [
    "Проверим, все ли поделилось верно"
   ]
  },
  {
   "cell_type": "code",
   "execution_count": 15,
   "metadata": {},
   "outputs": [
    {
     "name": "stdout",
     "output_type": "stream",
     "text": [
      "Доля общей выборки: 0.8999094202898551\n"
     ]
    }
   ],
   "source": [
    "print('Доля общей выборки:', len(general)/len(df))"
   ]
  },
  {
   "cell_type": "markdown",
   "metadata": {},
   "source": [
    "Избавимся от пропусков в выборке general"
   ]
  },
  {
   "cell_type": "code",
   "execution_count": 16,
   "metadata": {},
   "outputs": [
    {
     "name": "stdout",
     "output_type": "stream",
     "text": [
      "num_orders       0\n",
      "day              0\n",
      "dayofweek        0\n",
      "hour             0\n",
      "lag_1            1\n",
      "lag_2            2\n",
      "lag_3            3\n",
      "lag_4            4\n",
      "lag_5            5\n",
      "lag_6            6\n",
      "lag_7            7\n",
      "lag_8            8\n",
      "lag_9            9\n",
      "lag_10          10\n",
      "lag_11          11\n",
      "lag_12          12\n",
      "rolling_mean    24\n",
      "dtype: int64\n"
     ]
    }
   ],
   "source": [
    "print(general.isna().sum())\n",
    "general = general.dropna()"
   ]
  },
  {
   "cell_type": "markdown",
   "metadata": {},
   "source": [
    "Теперь разделим выборку general на обучающую и валидационную с соотношением 1 к 4."
   ]
  },
  {
   "cell_type": "code",
   "execution_count": 17,
   "metadata": {},
   "outputs": [
    {
     "name": "stdout",
     "output_type": "stream",
     "text": [
      "Доля обучающей выборки в общей: 0.7498734177215189\n"
     ]
    }
   ],
   "source": [
    "train, valid = train_test_split(general, shuffle=False, test_size=0.25)\n",
    "print('Доля обучающей выборки в общей:', len(train)/len(general))"
   ]
  },
  {
   "cell_type": "markdown",
   "metadata": {},
   "source": [
    "Определим целевые признаки для каждой выборки"
   ]
  },
  {
   "cell_type": "code",
   "execution_count": 18,
   "metadata": {},
   "outputs": [],
   "source": [
    "features_general = general.drop(columns='num_orders')\n",
    "target_general = general['num_orders']\n",
    "features_test = test.drop(columns='num_orders')\n",
    "target_test = test['num_orders']\n",
    "features_valid = valid.drop(columns='num_orders')\n",
    "target_valid = valid['num_orders']\n",
    "features_train = train.drop(columns='num_orders')\n",
    "target_train = train['num_orders']"
   ]
  },
  {
   "cell_type": "code",
   "execution_count": 30,
   "metadata": {},
   "outputs": [
    {
     "name": "stdout",
     "output_type": "stream",
     "text": [
      "<class 'pandas.core.frame.DataFrame'>\n",
      "DatetimeIndex: 442 entries, 2018-08-13 14:00:00 to 2018-08-31 23:00:00\n",
      "Freq: H\n",
      "Data columns (total 16 columns):\n",
      "day             442 non-null int64\n",
      "dayofweek       442 non-null int64\n",
      "hour            442 non-null int64\n",
      "lag_1           442 non-null float64\n",
      "lag_2           442 non-null float64\n",
      "lag_3           442 non-null float64\n",
      "lag_4           442 non-null float64\n",
      "lag_5           442 non-null float64\n",
      "lag_6           442 non-null float64\n",
      "lag_7           442 non-null float64\n",
      "lag_8           442 non-null float64\n",
      "lag_9           442 non-null float64\n",
      "lag_10          442 non-null float64\n",
      "lag_11          442 non-null float64\n",
      "lag_12          442 non-null float64\n",
      "rolling_mean    442 non-null float64\n",
      "dtypes: float64(13), int64(3)\n",
      "memory usage: 58.7 KB\n"
     ]
    }
   ],
   "source": [
    "features_test.info()"
   ]
  },
  {
   "cell_type": "markdown",
   "metadata": {},
   "source": [
    "### Линейная регрессия"
   ]
  },
  {
   "cell_type": "code",
   "execution_count": 19,
   "metadata": {},
   "outputs": [
    {
     "name": "stdout",
     "output_type": "stream",
     "text": [
      "CPU times: user 6.15 ms, sys: 232 µs, total: 6.38 ms\n",
      "Wall time: 3.73 ms\n"
     ]
    },
    {
     "data": {
      "text/plain": [
       "LinearRegression(copy_X=True, fit_intercept=True, n_jobs=None, normalize=False)"
      ]
     },
     "execution_count": 19,
     "metadata": {},
     "output_type": "execute_result"
    }
   ],
   "source": [
    "%%time\n",
    "lin_model = LinearRegression()\n",
    "lin_model.fit(features_train, target_train)"
   ]
  },
  {
   "cell_type": "code",
   "execution_count": 20,
   "metadata": {},
   "outputs": [
    {
     "name": "stdout",
     "output_type": "stream",
     "text": [
      "RMSE предсказанных значений на валидационной выборке =  37.4380475084962\n",
      "CPU times: user 15.6 ms, sys: 15.6 ms, total: 31.2 ms\n",
      "Wall time: 77.7 ms\n"
     ]
    }
   ],
   "source": [
    "%%time\n",
    "lin_model_predictions = lin_model.predict(features_valid)\n",
    "lin_model_rmse_value = mean_squared_error(target_valid, lin_model_predictions) ** 0.5\n",
    "print('RMSE предсказанных значений на валидационной выборке = ', lin_model_rmse_value)"
   ]
  },
  {
   "cell_type": "markdown",
   "metadata": {},
   "source": [
    "Такой результат соответствует поставленной задаче"
   ]
  },
  {
   "cell_type": "markdown",
   "metadata": {},
   "source": [
    "### Случайный лес"
   ]
  },
  {
   "cell_type": "code",
   "execution_count": 21,
   "metadata": {},
   "outputs": [
    {
     "name": "stdout",
     "output_type": "stream",
     "text": [
      "RMSE предсказанных значений на валидационной выборке =  30.65217214035479\n",
      "Кол-во деревьев: 20\n",
      "Максимальная глубина: 14\n"
     ]
    }
   ],
   "source": [
    "best_rfc_model = None\n",
    "best_result = 1000\n",
    "best_est = 0\n",
    "best_depth = 0\n",
    "for est in range(10, 61, 10):\n",
    "    for depth in range (1, 20):\n",
    "        rfc_model = RandomForestRegressor(random_state=42, n_estimators=est, max_depth=depth)\n",
    "        rfc_model.fit(features_train, target_train)\n",
    "        rfc_model_predictions = rfc_model.predict(features_valid)\n",
    "        result = mean_squared_error(target_valid, rfc_model_predictions) ** 0.5 \n",
    "        if result < best_result:\n",
    "            best_rfc_model = rfc_model\n",
    "            best_result = result\n",
    "            best_est = est\n",
    "            best_depth = depth\n",
    "\n",
    "print('RMSE предсказанных значений на валидационной выборке = ', best_result)\n",
    "print(\"Кол-во деревьев:\", best_est)\n",
    "print(\"Максимальная глубина:\", best_depth)"
   ]
  },
  {
   "cell_type": "markdown",
   "metadata": {},
   "source": [
    "Такой результат соответствует поставленной задаче"
   ]
  },
  {
   "cell_type": "markdown",
   "metadata": {},
   "source": [
    "### CatBoost"
   ]
  },
  {
   "cell_type": "code",
   "execution_count": 22,
   "metadata": {},
   "outputs": [
    {
     "name": "stdout",
     "output_type": "stream",
     "text": [
      "RMSE предсказанных значений на валидационной выборке =  31.897575422862257\n"
     ]
    }
   ],
   "source": [
    "catboost_model = CatBoostRegressor(loss_function='RMSE',\n",
    "                                   verbose=False,\n",
    "                                   random_seed=42,\n",
    "                                   iterations=400,\n",
    "                                   learning_rate=1,\n",
    "                                   max_depth=10)\n",
    "\n",
    "catboost_model.fit(features_train, target_train)\n",
    "\n",
    "\n",
    "catboost_model_predictions = catboost_model.predict(features_valid)\n",
    "catboost_rmse_value = mean_squared_error(target_valid, catboost_model_predictions) ** 0.5\n",
    "print('RMSE предсказанных значений на валидационной выборке = ', catboost_rmse_value)"
   ]
  },
  {
   "cell_type": "markdown",
   "metadata": {},
   "source": [
    "Такой результат соответствует поставленной задаче"
   ]
  },
  {
   "cell_type": "markdown",
   "metadata": {},
   "source": [
    "## Тестирование"
   ]
  },
  {
   "cell_type": "markdown",
   "metadata": {},
   "source": [
    "### Линейная регрессия"
   ]
  },
  {
   "cell_type": "code",
   "execution_count": 26,
   "metadata": {},
   "outputs": [
    {
     "name": "stdout",
     "output_type": "stream",
     "text": [
      "CPU times: user 10.1 ms, sys: 196 µs, total: 10.3 ms\n",
      "Wall time: 5.74 ms\n"
     ]
    },
    {
     "data": {
      "text/plain": [
       "LinearRegression(copy_X=True, fit_intercept=True, n_jobs=None, normalize=False)"
      ]
     },
     "execution_count": 26,
     "metadata": {},
     "output_type": "execute_result"
    }
   ],
   "source": [
    "%%time\n",
    "lin_model = LinearRegression()\n",
    "lin_model.fit(features_general, target_general)"
   ]
  },
  {
   "cell_type": "code",
   "execution_count": 27,
   "metadata": {},
   "outputs": [
    {
     "name": "stdout",
     "output_type": "stream",
     "text": [
      "RMSE предсказанных значений на валидационной выборке =  50.20095606762962\n",
      "CPU times: user 3.28 ms, sys: 0 ns, total: 3.28 ms\n",
      "Wall time: 2.52 ms\n"
     ]
    }
   ],
   "source": [
    "%%time\n",
    "lin_model_predictions = lin_model.predict(features_test)\n",
    "lin_model_rmse_value = mean_squared_error(target_test, lin_model_predictions) ** 0.5\n",
    "print('RMSE предсказанных значений на валидационной выборке = ', lin_model_rmse_value)"
   ]
  },
  {
   "cell_type": "markdown",
   "metadata": {},
   "source": [
    "Линейная регрессия не справилась с тестовой выборкой"
   ]
  },
  {
   "cell_type": "markdown",
   "metadata": {},
   "source": [
    "### Случайный лес"
   ]
  },
  {
   "cell_type": "code",
   "execution_count": 28,
   "metadata": {},
   "outputs": [
    {
     "name": "stdout",
     "output_type": "stream",
     "text": [
      "RMSE предсказанных значений на тестовой выборке =  43.494716576929285\n"
     ]
    }
   ],
   "source": [
    "rfc_model = RandomForestRegressor(random_state=42, n_estimators=best_est, max_depth=best_depth)\n",
    "rfc_model.fit(features_general, target_general)\n",
    "rfc_model_predictions = rfc_model.predict(features_test)\n",
    "rfc_model_rmse_value = mean_squared_error(target_test, rfc_model_predictions) ** 0.5\n",
    "print('RMSE предсказанных значений на тестовой выборке = ', rfc_model_rmse_value)"
   ]
  },
  {
   "cell_type": "markdown",
   "metadata": {},
   "source": [
    "Случайный лес показал наилучший результат"
   ]
  },
  {
   "cell_type": "markdown",
   "metadata": {},
   "source": [
    "### CatBoost"
   ]
  },
  {
   "cell_type": "code",
   "execution_count": 24,
   "metadata": {},
   "outputs": [
    {
     "name": "stdout",
     "output_type": "stream",
     "text": [
      "RMSE предсказанных значений на тестовой выборке =  48.11898543199302\n"
     ]
    }
   ],
   "source": [
    "catboost_model.fit(features_general, target_general)\n",
    "catboost_test_model_predictions = catboost_model.predict(features_test)\n",
    "catboost_test_rmse_value = mean_squared_error(target_test, catboost_test_model_predictions) ** 0.5\n",
    "print('RMSE предсказанных значений на тестовой выборке = ', catboost_test_rmse_value)"
   ]
  },
  {
   "cell_type": "markdown",
   "metadata": {},
   "source": [
    "Кэтбуст показал значение RMSE на границе требуемого. Вероятно, менее удовлетворительный результат по сравнению со случайным лесом связан с неправильно подобранными гиперпараметрами."
   ]
  },
  {
   "cell_type": "markdown",
   "metadata": {},
   "source": [
    "### Графический анализ результатов"
   ]
  },
  {
   "cell_type": "code",
   "execution_count": 57,
   "metadata": {},
   "outputs": [
    {
     "data": {
      "image/png": "[encoded data removed]",
      "text/plain": [
       "<Figure size 1440x720 with 1 Axes>"
      ]
     },
     "metadata": {
      "needs_background": "light"
     },
     "output_type": "display_data"
    }
   ],
   "source": [
    "fig, ax = plt.subplots(figsize=(20,10))\n",
    "ax.plot(features_test.index, target_test, label='Реальные значения')\n",
    "ax.plot(features_test.index, lin_model_predictions, label='Линейная регрессия', color='gray', alpha=0.2)\n",
    "ax.plot(features_test.index, rfc_model_predictions, label='Случайный лес')\n",
    "ax.plot(features_test.index, catboost_test_model_predictions, label='CatBoost', alpha=0.4)\n",
    "ax.legend()\n",
    "ax.set_xlim(left=['2018-08-14'], right=['2018-08-16'])\n",
    "ax.set_ylim(0,250)\n",
    "ax.xaxis.set_major_locator(mdates.HourLocator())\n",
    "ax.xaxis.set_major_formatter(mdates.DateFormatter('%H'))\n",
    "ax.grid(True, axis='x')\n",
    "plt.xlabel('Время')\n",
    "plt.ylabel('Число заказалов')\n",
    "plt.show()"
   ]
  },
  {
   "cell_type": "markdown",
   "metadata": {},
   "source": [
    "Как видно на графике выше, проблема всех моделей заключается в том, что не не могут предсказать резкие перепады и сглаживают предсказания."
   ]
  }
 ],
 "metadata": {
  "ExecuteTimeLog": [
   {
    "duration": 754,
    "start_time": "2021-11-27T11:23:31.542Z"
   },
   {
    "duration": 468,
    "start_time": "2021-11-27T11:23:32.298Z"
   },
   {
    "duration": 984,
    "start_time": "2021-11-27T11:23:31.785Z"
   },
   {
    "duration": 977,
    "start_time": "2021-11-27T11:23:31.794Z"
   },
   {
    "duration": 2411,
    "start_time": "2021-11-27T11:23:41.498Z"
   },
   {
    "duration": 2745,
    "start_time": "2021-11-27T11:23:47.608Z"
   },
   {
    "duration": 2674,
    "start_time": "2021-11-27T11:25:38.928Z"
   },
   {
    "duration": 2718,
    "start_time": "2021-11-27T11:25:56.194Z"
   },
   {
    "duration": 41,
    "start_time": "2021-11-27T11:26:23.332Z"
   },
   {
    "duration": 13,
    "start_time": "2021-11-27T11:26:25.993Z"
   },
   {
    "duration": 22,
    "start_time": "2021-11-27T11:26:35.569Z"
   },
   {
    "duration": 372,
    "start_time": "2021-11-27T11:29:27.573Z"
   },
   {
    "duration": 6,
    "start_time": "2021-11-27T11:29:33.032Z"
   },
   {
    "duration": 741,
    "start_time": "2021-11-27T11:32:10.150Z"
   },
   {
    "duration": 49,
    "start_time": "2021-11-27T11:32:10.894Z"
   },
   {
    "duration": 9,
    "start_time": "2021-11-27T11:32:10.946Z"
   },
   {
    "duration": 19,
    "start_time": "2021-11-27T11:32:10.958Z"
   },
   {
    "duration": 23,
    "start_time": "2021-11-27T11:32:10.980Z"
   },
   {
    "duration": 459,
    "start_time": "2021-11-27T17:03:41.658Z"
   },
   {
    "duration": 817,
    "start_time": "2021-11-27T17:03:58.961Z"
   },
   {
    "duration": 161,
    "start_time": "2021-11-27T17:03:59.781Z"
   },
   {
    "duration": 12,
    "start_time": "2021-11-27T17:03:59.946Z"
   },
   {
    "duration": 46,
    "start_time": "2021-11-27T17:03:59.962Z"
   },
   {
    "duration": 18,
    "start_time": "2021-11-27T17:04:00.011Z"
   },
   {
    "duration": 551,
    "start_time": "2021-11-27T17:04:00.031Z"
   },
   {
    "duration": 346,
    "start_time": "2021-11-27T17:04:20.114Z"
   },
   {
    "duration": 425,
    "start_time": "2021-11-27T17:04:58.486Z"
   },
   {
    "duration": 359,
    "start_time": "2021-11-27T17:10:40.658Z"
   },
   {
    "duration": 784,
    "start_time": "2021-11-27T17:11:32.160Z"
   },
   {
    "duration": 69,
    "start_time": "2021-11-27T17:11:32.948Z"
   },
   {
    "duration": 16,
    "start_time": "2021-11-27T17:11:33.021Z"
   },
   {
    "duration": 22,
    "start_time": "2021-11-27T17:11:33.040Z"
   },
   {
    "duration": 1109,
    "start_time": "2021-11-27T17:11:33.066Z"
   },
   {
    "duration": 6,
    "start_time": "2021-11-27T17:11:34.178Z"
   },
   {
    "duration": 18,
    "start_time": "2021-11-27T17:11:34.202Z"
   },
   {
    "duration": 457,
    "start_time": "2021-11-27T17:12:02.338Z"
   },
   {
    "duration": 521,
    "start_time": "2021-11-27T17:26:10.240Z"
   },
   {
    "duration": 1202,
    "start_time": "2021-11-27T17:26:23.455Z"
   },
   {
    "duration": 46,
    "start_time": "2021-11-27T17:26:24.660Z"
   },
   {
    "duration": 8,
    "start_time": "2021-11-27T17:26:24.709Z"
   },
   {
    "duration": 20,
    "start_time": "2021-11-27T17:26:24.719Z"
   },
   {
    "duration": 5,
    "start_time": "2021-11-27T17:26:24.742Z"
   },
   {
    "duration": 59,
    "start_time": "2021-11-27T17:26:24.751Z"
   },
   {
    "duration": 623,
    "start_time": "2021-11-27T17:26:24.812Z"
   },
   {
    "duration": 592,
    "start_time": "2021-11-27T17:26:25.438Z"
   },
   {
    "duration": 1443,
    "start_time": "2021-11-27T17:28:39.848Z"
   },
   {
    "duration": 48,
    "start_time": "2021-11-27T17:28:41.294Z"
   },
   {
    "duration": 9,
    "start_time": "2021-11-27T17:28:41.345Z"
   },
   {
    "duration": 44,
    "start_time": "2021-11-27T17:28:41.358Z"
   },
   {
    "duration": 5,
    "start_time": "2021-11-27T17:28:41.405Z"
   },
   {
    "duration": 14,
    "start_time": "2021-11-27T17:28:41.413Z"
   },
   {
    "duration": 555,
    "start_time": "2021-11-27T17:28:41.430Z"
   },
   {
    "duration": 612,
    "start_time": "2021-11-27T17:28:41.989Z"
   },
   {
    "duration": 2104,
    "start_time": "2021-11-27T17:28:59.127Z"
   },
   {
    "duration": 376,
    "start_time": "2021-11-27T17:29:16.058Z"
   },
   {
    "duration": 1716,
    "start_time": "2021-11-27T17:30:30.114Z"
   },
   {
    "duration": 411,
    "start_time": "2021-11-27T17:32:02.373Z"
   },
   {
    "duration": 1690,
    "start_time": "2021-11-27T17:32:52.576Z"
   },
   {
    "duration": 2422,
    "start_time": "2021-11-27T17:34:08.118Z"
   },
   {
    "duration": 2786,
    "start_time": "2021-11-27T17:34:17.942Z"
   },
   {
    "duration": 1355,
    "start_time": "2021-11-27T17:35:35.572Z"
   },
   {
    "duration": 982,
    "start_time": "2021-11-27T17:35:50.730Z"
   },
   {
    "duration": 3235,
    "start_time": "2021-11-27T17:36:07.648Z"
   },
   {
    "duration": 2326,
    "start_time": "2021-11-27T17:36:17.706Z"
   },
   {
    "duration": 1007,
    "start_time": "2021-11-27T17:36:34.396Z"
   },
   {
    "duration": 716,
    "start_time": "2021-11-27T17:36:44.074Z"
   },
   {
    "duration": 1449,
    "start_time": "2021-11-27T17:37:53.690Z"
   },
   {
    "duration": 73,
    "start_time": "2021-11-27T17:37:55.143Z"
   },
   {
    "duration": 12,
    "start_time": "2021-11-27T17:37:55.224Z"
   },
   {
    "duration": 18,
    "start_time": "2021-11-27T17:37:55.239Z"
   },
   {
    "duration": 5,
    "start_time": "2021-11-27T17:37:55.301Z"
   },
   {
    "duration": 20,
    "start_time": "2021-11-27T17:37:55.309Z"
   },
   {
    "duration": 939,
    "start_time": "2021-11-27T17:37:55.332Z"
   },
   {
    "duration": 3239,
    "start_time": "2021-11-27T17:37:56.274Z"
   },
   {
    "duration": 1362,
    "start_time": "2021-11-27T17:38:19.853Z"
   },
   {
    "duration": 48,
    "start_time": "2021-11-27T17:38:21.217Z"
   },
   {
    "duration": 9,
    "start_time": "2021-11-27T17:38:21.270Z"
   },
   {
    "duration": 13,
    "start_time": "2021-11-27T17:38:21.301Z"
   },
   {
    "duration": 10,
    "start_time": "2021-11-27T17:38:21.317Z"
   },
   {
    "duration": 18,
    "start_time": "2021-11-27T17:38:21.330Z"
   },
   {
    "duration": 720,
    "start_time": "2021-11-27T17:38:21.352Z"
   },
   {
    "duration": 2291,
    "start_time": "2021-11-27T17:38:22.075Z"
   },
   {
    "duration": 1918,
    "start_time": "2021-11-27T17:38:51.983Z"
   },
   {
    "duration": 70,
    "start_time": "2021-11-27T17:38:53.904Z"
   },
   {
    "duration": 22,
    "start_time": "2021-11-27T17:38:53.978Z"
   },
   {
    "duration": 16,
    "start_time": "2021-11-27T17:38:54.004Z"
   },
   {
    "duration": 13,
    "start_time": "2021-11-27T17:38:54.023Z"
   },
   {
    "duration": 24,
    "start_time": "2021-11-27T17:38:54.039Z"
   },
   {
    "duration": 5,
    "start_time": "2021-11-27T17:38:54.100Z"
   },
   {
    "duration": 757,
    "start_time": "2021-11-27T17:38:54.110Z"
   },
   {
    "duration": 2260,
    "start_time": "2021-11-27T17:38:54.870Z"
   },
   {
    "duration": 1364,
    "start_time": "2021-11-27T17:41:13.239Z"
   },
   {
    "duration": 47,
    "start_time": "2021-11-27T17:41:14.606Z"
   },
   {
    "duration": 8,
    "start_time": "2021-11-27T17:41:14.656Z"
   },
   {
    "duration": 40,
    "start_time": "2021-11-27T17:41:14.667Z"
   },
   {
    "duration": 16,
    "start_time": "2021-11-27T17:41:14.709Z"
   },
   {
    "duration": 22,
    "start_time": "2021-11-27T17:41:14.728Z"
   },
   {
    "duration": 4,
    "start_time": "2021-11-27T17:41:14.753Z"
   },
   {
    "duration": 982,
    "start_time": "2021-11-27T17:41:14.760Z"
   },
   {
    "duration": 14,
    "start_time": "2021-11-27T17:41:15.745Z"
   },
   {
    "duration": 836,
    "start_time": "2021-11-27T17:41:15.762Z"
   },
   {
    "duration": 1080,
    "start_time": "2021-11-27T17:41:16.601Z"
   },
   {
    "duration": 1395,
    "start_time": "2021-11-27T17:41:52.405Z"
   },
   {
    "duration": 2533,
    "start_time": "2021-11-27T17:44:49.275Z"
   },
   {
    "duration": 320,
    "start_time": "2021-11-27T17:48:51.186Z"
   },
   {
    "duration": 818,
    "start_time": "2021-11-27T17:49:09.577Z"
   },
   {
    "duration": 439,
    "start_time": "2021-11-27T17:49:16.710Z"
   },
   {
    "duration": 431,
    "start_time": "2021-11-27T17:49:48.779Z"
   },
   {
    "duration": 949,
    "start_time": "2021-11-27T17:54:56.732Z"
   },
   {
    "duration": 425,
    "start_time": "2021-11-27T17:56:08.097Z"
   },
   {
    "duration": 594,
    "start_time": "2021-11-27T17:57:59.085Z"
   },
   {
    "duration": 538,
    "start_time": "2021-11-27T17:58:09.888Z"
   },
   {
    "duration": 586,
    "start_time": "2021-11-27T18:02:15.063Z"
   },
   {
    "duration": 480,
    "start_time": "2021-11-27T18:07:33.075Z"
   },
   {
    "duration": 488,
    "start_time": "2021-11-27T18:07:40.166Z"
   },
   {
    "duration": 445,
    "start_time": "2021-11-27T18:07:55.012Z"
   },
   {
    "duration": 981,
    "start_time": "2021-11-27T18:10:49.920Z"
   },
   {
    "duration": 409,
    "start_time": "2021-11-27T18:11:11.267Z"
   },
   {
    "duration": 1142,
    "start_time": "2021-11-27T18:11:20.264Z"
   },
   {
    "duration": 13,
    "start_time": "2021-11-27T18:13:46.811Z"
   },
   {
    "duration": 1535,
    "start_time": "2021-11-27T18:13:52.885Z"
   },
   {
    "duration": 54,
    "start_time": "2021-11-27T18:13:54.423Z"
   },
   {
    "duration": 20,
    "start_time": "2021-11-27T18:13:54.481Z"
   },
   {
    "duration": 14,
    "start_time": "2021-11-27T18:13:54.504Z"
   },
   {
    "duration": 7,
    "start_time": "2021-11-27T18:13:54.521Z"
   },
   {
    "duration": 24,
    "start_time": "2021-11-27T18:13:54.531Z"
   },
   {
    "duration": 9,
    "start_time": "2021-11-27T18:13:54.602Z"
   },
   {
    "duration": 749,
    "start_time": "2021-11-27T18:13:54.617Z"
   },
   {
    "duration": 10,
    "start_time": "2021-11-27T18:13:55.369Z"
   },
   {
    "duration": 2802,
    "start_time": "2021-11-27T18:13:55.381Z"
   },
   {
    "duration": 462,
    "start_time": "2021-11-27T18:13:58.185Z"
   },
   {
    "duration": 473,
    "start_time": "2021-11-27T18:13:58.649Z"
   },
   {
    "duration": 1838,
    "start_time": "2021-11-27T18:15:16.262Z"
   },
   {
    "duration": 52,
    "start_time": "2021-11-27T18:15:18.104Z"
   },
   {
    "duration": 9,
    "start_time": "2021-11-27T18:15:18.159Z"
   },
   {
    "duration": 53,
    "start_time": "2021-11-27T18:15:18.171Z"
   },
   {
    "duration": 16,
    "start_time": "2021-11-27T18:15:18.228Z"
   },
   {
    "duration": 16,
    "start_time": "2021-11-27T18:15:18.246Z"
   },
   {
    "duration": 3,
    "start_time": "2021-11-27T18:15:18.265Z"
   },
   {
    "duration": 758,
    "start_time": "2021-11-27T18:15:18.272Z"
   },
   {
    "duration": 10,
    "start_time": "2021-11-27T18:15:19.033Z"
   },
   {
    "duration": 2499,
    "start_time": "2021-11-27T18:15:19.046Z"
   },
   {
    "duration": 497,
    "start_time": "2021-11-27T18:15:21.548Z"
   },
   {
    "duration": 505,
    "start_time": "2021-11-27T18:15:22.048Z"
   },
   {
    "duration": 469,
    "start_time": "2021-11-27T18:15:44.373Z"
   },
   {
    "duration": 925,
    "start_time": "2021-11-27T18:20:59.872Z"
   },
   {
    "duration": 754,
    "start_time": "2021-11-27T18:21:15.279Z"
   },
   {
    "duration": 744,
    "start_time": "2021-11-27T18:23:00.549Z"
   },
   {
    "duration": 1485,
    "start_time": "2021-11-27T18:23:25.626Z"
   },
   {
    "duration": 67,
    "start_time": "2021-11-27T18:23:27.115Z"
   },
   {
    "duration": 14,
    "start_time": "2021-11-27T18:23:27.186Z"
   },
   {
    "duration": 21,
    "start_time": "2021-11-27T18:23:27.205Z"
   },
   {
    "duration": 5,
    "start_time": "2021-11-27T18:23:27.230Z"
   },
   {
    "duration": 75,
    "start_time": "2021-11-27T18:23:27.239Z"
   },
   {
    "duration": 5,
    "start_time": "2021-11-27T18:23:27.318Z"
   },
   {
    "duration": 703,
    "start_time": "2021-11-27T18:23:27.328Z"
   },
   {
    "duration": 10,
    "start_time": "2021-11-27T18:23:28.033Z"
   },
   {
    "duration": 3335,
    "start_time": "2021-11-27T18:23:28.046Z"
   },
   {
    "duration": 979,
    "start_time": "2021-11-27T18:23:31.384Z"
   },
   {
    "duration": 584,
    "start_time": "2021-11-27T18:23:32.366Z"
   },
   {
    "duration": 268,
    "start_time": "2021-11-27T18:24:05.129Z"
   },
   {
    "duration": 426,
    "start_time": "2021-11-27T18:24:18.402Z"
   },
   {
    "duration": 116,
    "start_time": "2021-11-27T18:27:05.446Z"
   },
   {
    "duration": 366,
    "start_time": "2021-11-27T18:27:10.465Z"
   },
   {
    "duration": 612,
    "start_time": "2021-11-27T18:27:16.756Z"
   },
   {
    "duration": 1841,
    "start_time": "2021-11-27T18:28:21.163Z"
   },
   {
    "duration": 625,
    "start_time": "2021-11-27T18:28:33.584Z"
   },
   {
    "duration": 534,
    "start_time": "2021-11-27T18:29:28.900Z"
   },
   {
    "duration": 563,
    "start_time": "2021-11-27T18:34:15.270Z"
   },
   {
    "duration": 429,
    "start_time": "2021-11-27T18:34:54.072Z"
   },
   {
    "duration": 397,
    "start_time": "2021-11-27T18:35:33.777Z"
   },
   {
    "duration": 1394,
    "start_time": "2021-11-27T18:37:34.218Z"
   },
   {
    "duration": 47,
    "start_time": "2021-11-27T18:37:35.615Z"
   },
   {
    "duration": 9,
    "start_time": "2021-11-27T18:37:35.669Z"
   },
   {
    "duration": 33,
    "start_time": "2021-11-27T18:37:35.680Z"
   },
   {
    "duration": 27,
    "start_time": "2021-11-27T18:37:35.716Z"
   },
   {
    "duration": 28,
    "start_time": "2021-11-27T18:37:35.745Z"
   },
   {
    "duration": 4,
    "start_time": "2021-11-27T18:37:35.777Z"
   },
   {
    "duration": 628,
    "start_time": "2021-11-27T18:37:35.784Z"
   },
   {
    "duration": 11,
    "start_time": "2021-11-27T18:37:36.415Z"
   },
   {
    "duration": 2251,
    "start_time": "2021-11-27T18:37:36.428Z"
   },
   {
    "duration": 440,
    "start_time": "2021-11-27T18:37:38.682Z"
   },
   {
    "duration": 460,
    "start_time": "2021-11-27T18:37:39.124Z"
   },
   {
    "duration": 442,
    "start_time": "2021-11-27T18:37:39.587Z"
   },
   {
    "duration": 1353,
    "start_time": "2021-11-27T18:38:31.444Z"
   },
   {
    "duration": 51,
    "start_time": "2021-11-27T18:38:32.800Z"
   },
   {
    "duration": 12,
    "start_time": "2021-11-27T18:38:32.855Z"
   },
   {
    "duration": 37,
    "start_time": "2021-11-27T18:38:32.871Z"
   },
   {
    "duration": 5,
    "start_time": "2021-11-27T18:38:32.911Z"
   },
   {
    "duration": 16,
    "start_time": "2021-11-27T18:38:32.919Z"
   },
   {
    "duration": 5,
    "start_time": "2021-11-27T18:38:32.937Z"
   },
   {
    "duration": 706,
    "start_time": "2021-11-27T18:38:32.947Z"
   },
   {
    "duration": 14,
    "start_time": "2021-11-27T18:38:33.657Z"
   },
   {
    "duration": 1914,
    "start_time": "2021-11-27T18:38:33.674Z"
   },
   {
    "duration": 446,
    "start_time": "2021-11-27T18:38:35.590Z"
   },
   {
    "duration": 423,
    "start_time": "2021-11-27T18:38:36.038Z"
   },
   {
    "duration": 521,
    "start_time": "2021-11-27T18:38:36.464Z"
   },
   {
    "duration": 501,
    "start_time": "2021-11-27T18:43:03.901Z"
   },
   {
    "duration": 1840,
    "start_time": "2021-11-27T18:43:18.764Z"
   },
   {
    "duration": 725,
    "start_time": "2021-11-27T18:43:39.004Z"
   },
   {
    "duration": 902,
    "start_time": "2021-11-27T18:44:20.091Z"
   },
   {
    "duration": 606,
    "start_time": "2021-11-27T18:44:28.573Z"
   },
   {
    "duration": 956,
    "start_time": "2021-11-27T18:49:14.054Z"
   },
   {
    "duration": 968,
    "start_time": "2021-11-27T18:49:24.773Z"
   },
   {
    "duration": 1385,
    "start_time": "2021-11-27T18:49:56.103Z"
   },
   {
    "duration": 48,
    "start_time": "2021-11-27T18:49:57.490Z"
   },
   {
    "duration": 8,
    "start_time": "2021-11-27T18:49:57.541Z"
   },
   {
    "duration": 48,
    "start_time": "2021-11-27T18:49:57.552Z"
   },
   {
    "duration": 4,
    "start_time": "2021-11-27T18:49:57.603Z"
   },
   {
    "duration": 30,
    "start_time": "2021-11-27T18:49:57.610Z"
   },
   {
    "duration": 16,
    "start_time": "2021-11-27T18:49:57.642Z"
   },
   {
    "duration": 742,
    "start_time": "2021-11-27T18:49:57.662Z"
   },
   {
    "duration": 10,
    "start_time": "2021-11-27T18:49:58.406Z"
   },
   {
    "duration": 2345,
    "start_time": "2021-11-27T18:49:58.418Z"
   },
   {
    "duration": 1151,
    "start_time": "2021-11-27T18:50:00.765Z"
   },
   {
    "duration": 1413,
    "start_time": "2021-11-27T18:50:00.505Z"
   },
   {
    "duration": 1404,
    "start_time": "2021-11-27T18:50:00.516Z"
   },
   {
    "duration": 1401,
    "start_time": "2021-11-27T18:50:00.521Z"
   },
   {
    "duration": 86,
    "start_time": "2021-11-27T18:50:10.215Z"
   },
   {
    "duration": 73,
    "start_time": "2021-11-27T18:50:28.682Z"
   },
   {
    "duration": 153,
    "start_time": "2021-11-27T18:50:43.436Z"
   },
   {
    "duration": 805,
    "start_time": "2021-11-27T18:52:11.904Z"
   },
   {
    "duration": 78,
    "start_time": "2021-11-27T18:52:37.252Z"
   },
   {
    "duration": 425,
    "start_time": "2021-11-27T18:53:57.736Z"
   },
   {
    "duration": 611,
    "start_time": "2021-11-27T18:54:08.277Z"
   },
   {
    "duration": 525,
    "start_time": "2021-11-27T18:54:32.295Z"
   },
   {
    "duration": 613,
    "start_time": "2021-11-27T18:54:38.091Z"
   },
   {
    "duration": 953,
    "start_time": "2021-11-27T18:57:15.370Z"
   },
   {
    "duration": 905,
    "start_time": "2021-11-27T18:58:38.495Z"
   },
   {
    "duration": 1955,
    "start_time": "2021-11-27T18:59:21.177Z"
   },
   {
    "duration": 68,
    "start_time": "2021-11-27T18:59:23.136Z"
   },
   {
    "duration": 11,
    "start_time": "2021-11-27T18:59:23.208Z"
   },
   {
    "duration": 15,
    "start_time": "2021-11-27T18:59:23.224Z"
   },
   {
    "duration": 9,
    "start_time": "2021-11-27T18:59:23.242Z"
   },
   {
    "duration": 13,
    "start_time": "2021-11-27T18:59:23.301Z"
   },
   {
    "duration": 4,
    "start_time": "2021-11-27T18:59:23.317Z"
   },
   {
    "duration": 695,
    "start_time": "2021-11-27T18:59:23.326Z"
   },
   {
    "duration": 10,
    "start_time": "2021-11-27T18:59:24.024Z"
   },
   {
    "duration": 2400,
    "start_time": "2021-11-27T18:59:24.037Z"
   },
   {
    "duration": 485,
    "start_time": "2021-11-27T18:59:26.440Z"
   },
   {
    "duration": 654,
    "start_time": "2021-11-27T18:59:26.929Z"
   },
   {
    "duration": 614,
    "start_time": "2021-11-27T18:59:27.586Z"
   },
   {
    "duration": 712,
    "start_time": "2021-11-27T18:59:28.203Z"
   },
   {
    "duration": 1354,
    "start_time": "2021-11-27T19:00:24.763Z"
   },
   {
    "duration": 922,
    "start_time": "2021-11-27T19:02:36.582Z"
   },
   {
    "duration": 1359,
    "start_time": "2021-11-27T19:02:48.211Z"
   },
   {
    "duration": 980,
    "start_time": "2021-11-27T19:03:06.614Z"
   },
   {
    "duration": 495,
    "start_time": "2021-11-27T19:03:23.253Z"
   },
   {
    "duration": 9224,
    "start_time": "2021-11-27T19:08:25.265Z"
   },
   {
    "duration": 9560,
    "start_time": "2021-11-27T19:13:01.388Z"
   },
   {
    "duration": 402,
    "start_time": "2021-11-27T19:13:37.609Z"
   },
   {
    "duration": 1533,
    "start_time": "2021-11-27T19:14:05.887Z"
   },
   {
    "duration": 49,
    "start_time": "2021-11-27T19:14:07.423Z"
   },
   {
    "duration": 9,
    "start_time": "2021-11-27T19:14:07.475Z"
   },
   {
    "duration": 25,
    "start_time": "2021-11-27T19:14:07.487Z"
   },
   {
    "duration": 5,
    "start_time": "2021-11-27T19:14:07.515Z"
   },
   {
    "duration": 17,
    "start_time": "2021-11-27T19:14:07.522Z"
   },
   {
    "duration": 3,
    "start_time": "2021-11-27T19:14:07.541Z"
   },
   {
    "duration": 700,
    "start_time": "2021-11-27T19:14:07.547Z"
   },
   {
    "duration": 10,
    "start_time": "2021-11-27T19:14:08.249Z"
   },
   {
    "duration": 2315,
    "start_time": "2021-11-27T19:14:08.261Z"
   },
   {
    "duration": 604,
    "start_time": "2021-11-27T19:14:10.579Z"
   },
   {
    "duration": 218,
    "start_time": "2021-11-27T19:14:11.186Z"
   },
   {
    "duration": 1523,
    "start_time": "2021-11-27T19:36:18.702Z"
   },
   {
    "duration": 48,
    "start_time": "2021-11-27T19:36:20.228Z"
   },
   {
    "duration": 21,
    "start_time": "2021-11-27T19:36:20.279Z"
   },
   {
    "duration": 14,
    "start_time": "2021-11-27T19:36:20.303Z"
   },
   {
    "duration": 4,
    "start_time": "2021-11-27T19:36:20.319Z"
   },
   {
    "duration": 20,
    "start_time": "2021-11-27T19:36:20.327Z"
   },
   {
    "duration": 4,
    "start_time": "2021-11-27T19:36:20.349Z"
   },
   {
    "duration": 673,
    "start_time": "2021-11-27T19:36:20.400Z"
   },
   {
    "duration": 27,
    "start_time": "2021-11-27T19:36:21.076Z"
   },
   {
    "duration": 2451,
    "start_time": "2021-11-27T19:36:21.106Z"
   },
   {
    "duration": 596,
    "start_time": "2021-11-27T19:36:23.559Z"
   },
   {
    "duration": 7,
    "start_time": "2021-11-27T19:36:24.158Z"
   },
   {
    "duration": 62,
    "start_time": "2021-11-27T19:36:24.168Z"
   },
   {
    "duration": 1269,
    "start_time": "2021-11-27T19:36:24.233Z"
   },
   {
    "duration": -126844,
    "start_time": "2021-11-27T19:38:32.348Z"
   },
   {
    "duration": -126845,
    "start_time": "2021-11-27T19:38:32.351Z"
   },
   {
    "duration": -126848,
    "start_time": "2021-11-27T19:38:32.355Z"
   },
   {
    "duration": 10,
    "start_time": "2021-11-27T19:36:33.494Z"
   },
   {
    "duration": 526,
    "start_time": "2021-11-27T19:36:34.633Z"
   },
   {
    "duration": 14,
    "start_time": "2021-11-27T19:36:41.636Z"
   },
   {
    "duration": 17,
    "start_time": "2021-11-27T19:36:44.353Z"
   },
   {
    "duration": 16,
    "start_time": "2021-11-27T19:37:08.524Z"
   },
   {
    "duration": 17,
    "start_time": "2021-11-27T19:37:09.570Z"
   },
   {
    "duration": 253,
    "start_time": "2021-11-27T19:41:05.671Z"
   },
   {
    "duration": 1445,
    "start_time": "2021-11-27T19:57:40.855Z"
   },
   {
    "duration": 47,
    "start_time": "2021-11-27T19:57:42.303Z"
   },
   {
    "duration": 9,
    "start_time": "2021-11-27T19:57:42.356Z"
   },
   {
    "duration": 42,
    "start_time": "2021-11-27T19:57:42.368Z"
   },
   {
    "duration": 7,
    "start_time": "2021-11-27T19:57:42.413Z"
   },
   {
    "duration": 20,
    "start_time": "2021-11-27T19:57:42.422Z"
   },
   {
    "duration": 3,
    "start_time": "2021-11-27T19:57:42.446Z"
   },
   {
    "duration": 686,
    "start_time": "2021-11-27T19:57:42.452Z"
   },
   {
    "duration": 10,
    "start_time": "2021-11-27T19:57:43.141Z"
   },
   {
    "duration": 2409,
    "start_time": "2021-11-27T19:57:43.153Z"
   },
   {
    "duration": 601,
    "start_time": "2021-11-27T19:57:45.565Z"
   },
   {
    "duration": 5,
    "start_time": "2021-11-27T19:57:46.168Z"
   },
   {
    "duration": 58,
    "start_time": "2021-11-27T19:57:46.176Z"
   },
   {
    "duration": 14,
    "start_time": "2021-11-27T19:57:46.237Z"
   },
   {
    "duration": 119,
    "start_time": "2021-11-27T19:57:46.254Z"
   },
   {
    "duration": -194293,
    "start_time": "2021-11-27T20:01:00.670Z"
   },
   {
    "duration": -194293,
    "start_time": "2021-11-27T20:01:00.672Z"
   },
   {
    "duration": -194295,
    "start_time": "2021-11-27T20:01:00.675Z"
   },
   {
    "duration": -194297,
    "start_time": "2021-11-27T20:01:00.679Z"
   },
   {
    "duration": -194302,
    "start_time": "2021-11-27T20:01:00.685Z"
   },
   {
    "duration": -194302,
    "start_time": "2021-11-27T20:01:00.687Z"
   },
   {
    "duration": -194303,
    "start_time": "2021-11-27T20:01:00.689Z"
   },
   {
    "duration": -194303,
    "start_time": "2021-11-27T20:01:00.691Z"
   },
   {
    "duration": 5,
    "start_time": "2021-11-27T19:58:02.444Z"
   },
   {
    "duration": 5,
    "start_time": "2021-11-27T19:58:14.705Z"
   },
   {
    "duration": 6,
    "start_time": "2021-11-27T19:58:38.543Z"
   },
   {
    "duration": 9,
    "start_time": "2021-11-27T19:59:37.107Z"
   },
   {
    "duration": 9,
    "start_time": "2021-11-27T19:59:57.071Z"
   },
   {
    "duration": 6,
    "start_time": "2021-11-27T20:00:20.207Z"
   },
   {
    "duration": 5,
    "start_time": "2021-11-27T20:00:22.271Z"
   },
   {
    "duration": 8,
    "start_time": "2021-11-27T20:00:34.904Z"
   },
   {
    "duration": 11,
    "start_time": "2021-11-27T20:00:43.577Z"
   },
   {
    "duration": 6,
    "start_time": "2021-11-27T20:00:50.399Z"
   },
   {
    "duration": 5,
    "start_time": "2021-11-27T20:00:51.319Z"
   },
   {
    "duration": 1569,
    "start_time": "2021-11-27T20:01:05.626Z"
   },
   {
    "duration": 53,
    "start_time": "2021-11-27T20:01:07.198Z"
   },
   {
    "duration": 12,
    "start_time": "2021-11-27T20:01:07.255Z"
   },
   {
    "duration": 42,
    "start_time": "2021-11-27T20:01:07.270Z"
   },
   {
    "duration": 6,
    "start_time": "2021-11-27T20:01:07.315Z"
   },
   {
    "duration": 21,
    "start_time": "2021-11-27T20:01:07.324Z"
   },
   {
    "duration": 53,
    "start_time": "2021-11-27T20:01:07.348Z"
   },
   {
    "duration": 650,
    "start_time": "2021-11-27T20:01:07.406Z"
   },
   {
    "duration": 10,
    "start_time": "2021-11-27T20:01:08.059Z"
   },
   {
    "duration": 2345,
    "start_time": "2021-11-27T20:01:08.071Z"
   },
   {
    "duration": 655,
    "start_time": "2021-11-27T20:01:10.418Z"
   },
   {
    "duration": 5,
    "start_time": "2021-11-27T20:01:11.076Z"
   },
   {
    "duration": 53,
    "start_time": "2021-11-27T20:01:11.083Z"
   },
   {
    "duration": 9,
    "start_time": "2021-11-27T20:01:11.138Z"
   },
   {
    "duration": 41,
    "start_time": "2021-11-27T20:01:11.149Z"
   },
   {
    "duration": 35,
    "start_time": "2021-11-27T20:01:11.193Z"
   },
   {
    "duration": 531,
    "start_time": "2021-11-27T20:01:11.231Z"
   },
   {
    "duration": -194301,
    "start_time": "2021-11-27T20:04:26.065Z"
   },
   {
    "duration": -194303,
    "start_time": "2021-11-27T20:04:26.069Z"
   },
   {
    "duration": -194303,
    "start_time": "2021-11-27T20:04:26.071Z"
   },
   {
    "duration": -194304,
    "start_time": "2021-11-27T20:04:26.073Z"
   },
   {
    "duration": -194307,
    "start_time": "2021-11-27T20:04:26.077Z"
   },
   {
    "duration": -194308,
    "start_time": "2021-11-27T20:04:26.079Z"
   },
   {
    "duration": -194308,
    "start_time": "2021-11-27T20:04:26.081Z"
   },
   {
    "duration": 404,
    "start_time": "2021-11-27T20:02:39.660Z"
   },
   {
    "duration": 362,
    "start_time": "2021-11-27T20:02:55.289Z"
   },
   {
    "duration": 8,
    "start_time": "2021-11-27T20:03:01.115Z"
   },
   {
    "duration": 11,
    "start_time": "2021-11-27T20:03:37.637Z"
   },
   {
    "duration": 9,
    "start_time": "2021-11-27T20:03:55.666Z"
   },
   {
    "duration": 1496,
    "start_time": "2021-11-27T20:07:06.420Z"
   },
   {
    "duration": 53,
    "start_time": "2021-11-27T20:07:07.919Z"
   },
   {
    "duration": 22,
    "start_time": "2021-11-27T20:07:07.980Z"
   },
   {
    "duration": 16,
    "start_time": "2021-11-27T20:07:08.004Z"
   },
   {
    "duration": 5,
    "start_time": "2021-11-27T20:07:08.023Z"
   },
   {
    "duration": 29,
    "start_time": "2021-11-27T20:07:08.030Z"
   },
   {
    "duration": 39,
    "start_time": "2021-11-27T20:07:08.062Z"
   },
   {
    "duration": 658,
    "start_time": "2021-11-27T20:07:08.105Z"
   },
   {
    "duration": 9,
    "start_time": "2021-11-27T20:07:08.767Z"
   },
   {
    "duration": 2724,
    "start_time": "2021-11-27T20:07:08.778Z"
   },
   {
    "duration": 596,
    "start_time": "2021-11-27T20:07:11.504Z"
   },
   {
    "duration": 6,
    "start_time": "2021-11-27T20:07:12.103Z"
   },
   {
    "duration": 61,
    "start_time": "2021-11-27T20:07:12.111Z"
   },
   {
    "duration": 26,
    "start_time": "2021-11-27T20:07:12.176Z"
   },
   {
    "duration": 5,
    "start_time": "2021-11-27T20:07:12.205Z"
   },
   {
    "duration": 22,
    "start_time": "2021-11-27T20:07:12.213Z"
   },
   {
    "duration": 8,
    "start_time": "2021-11-27T20:07:12.237Z"
   },
   {
    "duration": 55,
    "start_time": "2021-11-27T20:07:12.248Z"
   },
   {
    "duration": 472,
    "start_time": "2021-11-27T20:07:12.306Z"
   },
   {
    "duration": 228,
    "start_time": "2021-11-27T20:07:12.781Z"
   },
   {
    "duration": 11,
    "start_time": "2021-11-27T20:08:44.606Z"
   },
   {
    "duration": 15,
    "start_time": "2021-11-27T20:08:48.946Z"
   },
   {
    "duration": 244,
    "start_time": "2021-11-27T20:08:58.830Z"
   },
   {
    "duration": 13,
    "start_time": "2021-11-27T20:09:25.026Z"
   },
   {
    "duration": 237,
    "start_time": "2021-11-27T20:09:32.075Z"
   },
   {
    "duration": 11,
    "start_time": "2021-11-27T20:09:51.645Z"
   },
   {
    "duration": 70,
    "start_time": "2021-11-27T20:09:52.633Z"
   },
   {
    "duration": 19,
    "start_time": "2021-11-27T20:09:53.263Z"
   },
   {
    "duration": 452,
    "start_time": "2021-11-27T20:13:10.154Z"
   },
   {
    "duration": 1498,
    "start_time": "2021-11-27T20:18:16.655Z"
   },
   {
    "duration": 53,
    "start_time": "2021-11-27T20:18:18.156Z"
   },
   {
    "duration": 9,
    "start_time": "2021-11-27T20:18:18.215Z"
   },
   {
    "duration": 13,
    "start_time": "2021-11-27T20:18:18.227Z"
   },
   {
    "duration": 10,
    "start_time": "2021-11-27T20:18:18.243Z"
   },
   {
    "duration": 54,
    "start_time": "2021-11-27T20:18:18.255Z"
   },
   {
    "duration": 4,
    "start_time": "2021-11-27T20:18:18.315Z"
   },
   {
    "duration": 690,
    "start_time": "2021-11-27T20:18:18.323Z"
   },
   {
    "duration": 11,
    "start_time": "2021-11-27T20:18:19.016Z"
   },
   {
    "duration": 2472,
    "start_time": "2021-11-27T20:18:19.029Z"
   },
   {
    "duration": 610,
    "start_time": "2021-11-27T20:18:21.503Z"
   },
   {
    "duration": 5,
    "start_time": "2021-11-27T20:18:22.115Z"
   },
   {
    "duration": 45,
    "start_time": "2021-11-27T20:18:22.123Z"
   },
   {
    "duration": 29,
    "start_time": "2021-11-27T20:18:22.171Z"
   },
   {
    "duration": 4,
    "start_time": "2021-11-27T20:18:22.203Z"
   },
   {
    "duration": 15,
    "start_time": "2021-11-27T20:18:22.210Z"
   },
   {
    "duration": 8,
    "start_time": "2021-11-27T20:18:22.227Z"
   },
   {
    "duration": 62,
    "start_time": "2021-11-27T20:18:22.238Z"
   },
   {
    "duration": 98,
    "start_time": "2021-11-27T20:18:22.303Z"
   },
   {
    "duration": 103,
    "start_time": "2021-11-27T20:18:22.404Z"
   },
   {
    "duration": 5,
    "start_time": "2021-11-27T20:18:22.511Z"
   },
   {
    "duration": 58252,
    "start_time": "2021-11-27T20:18:22.605Z"
   },
   {
    "duration": 13953,
    "start_time": "2021-11-27T20:19:38.082Z"
   },
   {
    "duration": 1023,
    "start_time": "2021-11-27T20:24:20.920Z"
   },
   {
    "duration": 1639,
    "start_time": "2021-11-27T20:24:29.233Z"
   },
   {
    "duration": 52,
    "start_time": "2021-11-27T20:24:30.875Z"
   },
   {
    "duration": 12,
    "start_time": "2021-11-27T20:24:30.931Z"
   },
   {
    "duration": 15,
    "start_time": "2021-11-27T20:24:30.947Z"
   },
   {
    "duration": 43,
    "start_time": "2021-11-27T20:24:30.964Z"
   },
   {
    "duration": 23,
    "start_time": "2021-11-27T20:24:31.010Z"
   },
   {
    "duration": 5,
    "start_time": "2021-11-27T20:24:31.035Z"
   },
   {
    "duration": 1077,
    "start_time": "2021-11-27T20:24:31.046Z"
   },
   {
    "duration": 10,
    "start_time": "2021-11-27T20:24:32.127Z"
   },
   {
    "duration": 2367,
    "start_time": "2021-11-27T20:24:32.139Z"
   },
   {
    "duration": 610,
    "start_time": "2021-11-27T20:24:34.509Z"
   },
   {
    "duration": 8,
    "start_time": "2021-11-27T20:24:35.122Z"
   },
   {
    "duration": 41,
    "start_time": "2021-11-27T20:24:35.132Z"
   },
   {
    "duration": 10,
    "start_time": "2021-11-27T20:24:35.201Z"
   },
   {
    "duration": 6,
    "start_time": "2021-11-27T20:24:35.214Z"
   },
   {
    "duration": 14,
    "start_time": "2021-11-27T20:24:35.223Z"
   },
   {
    "duration": 58,
    "start_time": "2021-11-27T20:24:35.241Z"
   },
   {
    "duration": 12,
    "start_time": "2021-11-27T20:24:35.302Z"
   },
   {
    "duration": 87,
    "start_time": "2021-11-27T20:24:35.316Z"
   },
   {
    "duration": 122,
    "start_time": "2021-11-27T20:24:35.407Z"
   },
   {
    "duration": 7,
    "start_time": "2021-11-27T20:24:35.602Z"
   },
   {
    "duration": 29994,
    "start_time": "2021-11-27T20:24:35.613Z"
   },
   {
    "duration": 952,
    "start_time": "2021-11-27T20:25:05.611Z"
   },
   {
    "duration": 1624,
    "start_time": "2021-11-27T20:28:35.812Z"
   },
   {
    "duration": 48,
    "start_time": "2021-11-27T20:28:37.440Z"
   },
   {
    "duration": 12,
    "start_time": "2021-11-27T20:28:37.502Z"
   },
   {
    "duration": 16,
    "start_time": "2021-11-27T20:28:37.517Z"
   },
   {
    "duration": 10,
    "start_time": "2021-11-27T20:28:37.536Z"
   },
   {
    "duration": 59,
    "start_time": "2021-11-27T20:28:37.549Z"
   },
   {
    "duration": 4,
    "start_time": "2021-11-27T20:28:37.612Z"
   },
   {
    "duration": 687,
    "start_time": "2021-11-27T20:28:37.620Z"
   },
   {
    "duration": 9,
    "start_time": "2021-11-27T20:28:38.310Z"
   },
   {
    "duration": 2496,
    "start_time": "2021-11-27T20:28:38.323Z"
   },
   {
    "duration": 610,
    "start_time": "2021-11-27T20:28:40.822Z"
   },
   {
    "duration": 6,
    "start_time": "2021-11-27T20:28:41.435Z"
   },
   {
    "duration": 60,
    "start_time": "2021-11-27T20:28:41.444Z"
   },
   {
    "duration": 8,
    "start_time": "2021-11-27T20:28:41.507Z"
   },
   {
    "duration": 5,
    "start_time": "2021-11-27T20:28:41.518Z"
   },
   {
    "duration": 12,
    "start_time": "2021-11-27T20:28:41.526Z"
   },
   {
    "duration": 60,
    "start_time": "2021-11-27T20:28:41.541Z"
   },
   {
    "duration": 10,
    "start_time": "2021-11-27T20:28:41.604Z"
   },
   {
    "duration": 192,
    "start_time": "2021-11-27T20:28:41.616Z"
   },
   {
    "duration": 189,
    "start_time": "2021-11-27T20:28:41.812Z"
   },
   {
    "duration": 5,
    "start_time": "2021-11-27T20:28:42.006Z"
   },
   {
    "duration": 461,
    "start_time": "2021-11-27T20:28:42.104Z"
   },
   {
    "duration": 362,
    "start_time": "2021-11-27T20:28:42.568Z"
   },
   {
    "duration": 1590,
    "start_time": "2021-11-27T20:40:16.746Z"
   },
   {
    "duration": 61,
    "start_time": "2021-11-27T20:40:18.339Z"
   },
   {
    "duration": 12,
    "start_time": "2021-11-27T20:40:18.409Z"
   },
   {
    "duration": 18,
    "start_time": "2021-11-27T20:40:18.424Z"
   },
   {
    "duration": 5,
    "start_time": "2021-11-27T20:40:18.446Z"
   },
   {
    "duration": 14,
    "start_time": "2021-11-27T20:40:18.502Z"
   },
   {
    "duration": 3,
    "start_time": "2021-11-27T20:40:18.520Z"
   },
   {
    "duration": 778,
    "start_time": "2021-11-27T20:40:18.527Z"
   },
   {
    "duration": 10,
    "start_time": "2021-11-27T20:40:19.308Z"
   },
   {
    "duration": 2323,
    "start_time": "2021-11-27T20:40:19.320Z"
   },
   {
    "duration": 608,
    "start_time": "2021-11-27T20:40:21.645Z"
   },
   {
    "duration": 5,
    "start_time": "2021-11-27T20:40:22.256Z"
   },
   {
    "duration": 64,
    "start_time": "2021-11-27T20:40:22.263Z"
   },
   {
    "duration": 9,
    "start_time": "2021-11-27T20:40:22.329Z"
   },
   {
    "duration": 6,
    "start_time": "2021-11-27T20:40:22.340Z"
   },
   {
    "duration": 13,
    "start_time": "2021-11-27T20:40:22.348Z"
   },
   {
    "duration": 43,
    "start_time": "2021-11-27T20:40:22.364Z"
   },
   {
    "duration": 15,
    "start_time": "2021-11-27T20:40:22.410Z"
   },
   {
    "duration": 76,
    "start_time": "2021-11-27T20:40:22.427Z"
   },
   {
    "duration": 103,
    "start_time": "2021-11-27T20:40:22.506Z"
   },
   {
    "duration": 4941,
    "start_time": "2021-11-27T20:40:22.614Z"
   },
   {
    "duration": 374,
    "start_time": "2021-11-27T20:40:53.595Z"
   },
   {
    "duration": 23287,
    "start_time": "2021-11-27T20:41:19.288Z"
   },
   {
    "duration": 23452,
    "start_time": "2021-11-27T20:45:02.250Z"
   },
   {
    "duration": 2612,
    "start_time": "2021-11-27T20:50:01.413Z"
   },
   {
    "duration": 119,
    "start_time": "2021-11-27T21:08:06.503Z"
   },
   {
    "duration": 366,
    "start_time": "2021-11-27T21:08:14.011Z"
   },
   {
    "duration": 68,
    "start_time": "2021-11-27T21:08:32.076Z"
   },
   {
    "duration": 2494,
    "start_time": "2021-11-27T21:08:35.970Z"
   },
   {
    "duration": 12,
    "start_time": "2021-11-27T21:11:07.684Z"
   },
   {
    "duration": 766,
    "start_time": "2021-11-27T21:19:24.824Z"
   },
   {
    "duration": 1756,
    "start_time": "2021-11-27T21:19:34.762Z"
   },
   {
    "duration": 747,
    "start_time": "2021-11-27T21:19:43.130Z"
   },
   {
    "duration": 1814,
    "start_time": "2021-11-27T21:20:07.564Z"
   },
   {
    "duration": 298,
    "start_time": "2021-11-27T21:20:09.381Z"
   },
   {
    "duration": 10,
    "start_time": "2021-11-27T21:20:09.682Z"
   },
   {
    "duration": 14,
    "start_time": "2021-11-27T21:20:09.695Z"
   },
   {
    "duration": 30,
    "start_time": "2021-11-27T21:20:09.712Z"
   },
   {
    "duration": 30,
    "start_time": "2021-11-27T21:20:09.744Z"
   },
   {
    "duration": 4,
    "start_time": "2021-11-27T21:20:09.776Z"
   },
   {
    "duration": 664,
    "start_time": "2021-11-27T21:20:09.782Z"
   },
   {
    "duration": 10,
    "start_time": "2021-11-27T21:20:10.450Z"
   },
   {
    "duration": 2475,
    "start_time": "2021-11-27T21:20:10.463Z"
   },
   {
    "duration": 530,
    "start_time": "2021-11-27T21:20:12.941Z"
   },
   {
    "duration": 7,
    "start_time": "2021-11-27T21:20:13.473Z"
   },
   {
    "duration": 35,
    "start_time": "2021-11-27T21:20:13.500Z"
   },
   {
    "duration": 9,
    "start_time": "2021-11-27T21:20:13.537Z"
   },
   {
    "duration": 9,
    "start_time": "2021-11-27T21:20:13.548Z"
   },
   {
    "duration": 47,
    "start_time": "2021-11-27T21:20:13.560Z"
   },
   {
    "duration": 7,
    "start_time": "2021-11-27T21:20:13.609Z"
   },
   {
    "duration": 17,
    "start_time": "2021-11-27T21:20:13.619Z"
   },
   {
    "duration": 164,
    "start_time": "2021-11-27T21:20:13.638Z"
   },
   {
    "duration": 17,
    "start_time": "2021-11-27T21:20:13.804Z"
   },
   {
    "duration": 1057,
    "start_time": "2021-11-27T21:20:13.903Z"
   },
   {
    "duration": -194232,
    "start_time": "2021-11-27T21:23:29.195Z"
   },
   {
    "duration": -194233,
    "start_time": "2021-11-27T21:23:29.197Z"
   },
   {
    "duration": 3863,
    "start_time": "2021-11-27T21:20:40.077Z"
   },
   {
    "duration": 2144,
    "start_time": "2021-11-27T21:21:17.304Z"
   },
   {
    "duration": 1874,
    "start_time": "2021-11-27T21:21:27.357Z"
   },
   {
    "duration": 1947,
    "start_time": "2021-11-27T21:21:39.525Z"
   },
   {
    "duration": 1933,
    "start_time": "2021-11-27T21:21:52.378Z"
   },
   {
    "duration": 3305,
    "start_time": "2021-11-27T21:21:58.869Z"
   },
   {
    "duration": 1669,
    "start_time": "2021-11-27T21:25:50.185Z"
   },
   {
    "duration": 55,
    "start_time": "2021-11-27T21:25:51.857Z"
   },
   {
    "duration": 9,
    "start_time": "2021-11-27T21:25:51.916Z"
   },
   {
    "duration": 16,
    "start_time": "2021-11-27T21:25:51.928Z"
   },
   {
    "duration": 5,
    "start_time": "2021-11-27T21:25:51.947Z"
   },
   {
    "duration": 60,
    "start_time": "2021-11-27T21:25:51.955Z"
   },
   {
    "duration": 4,
    "start_time": "2021-11-27T21:25:52.019Z"
   },
   {
    "duration": 869,
    "start_time": "2021-11-27T21:25:52.026Z"
   },
   {
    "duration": 10,
    "start_time": "2021-11-27T21:25:52.903Z"
   },
   {
    "duration": 2395,
    "start_time": "2021-11-27T21:25:52.916Z"
   },
   {
    "duration": 502,
    "start_time": "2021-11-27T21:25:55.315Z"
   },
   {
    "duration": 5,
    "start_time": "2021-11-27T21:25:55.819Z"
   },
   {
    "duration": 43,
    "start_time": "2021-11-27T21:25:55.828Z"
   },
   {
    "duration": 11,
    "start_time": "2021-11-27T21:25:55.900Z"
   },
   {
    "duration": 11,
    "start_time": "2021-11-27T21:25:55.914Z"
   },
   {
    "duration": 24,
    "start_time": "2021-11-27T21:25:55.928Z"
   },
   {
    "duration": 9,
    "start_time": "2021-11-27T21:25:55.956Z"
   },
   {
    "duration": 13,
    "start_time": "2021-11-27T21:25:56.002Z"
   },
   {
    "duration": 186,
    "start_time": "2021-11-27T21:25:56.019Z"
   },
   {
    "duration": 106,
    "start_time": "2021-11-27T21:25:56.208Z"
   },
   {
    "duration": 22858,
    "start_time": "2021-11-27T21:25:56.400Z"
   },
   {
    "duration": 506,
    "start_time": "2021-11-27T21:26:19.261Z"
   },
   {
    "duration": -194215,
    "start_time": "2021-11-27T21:29:33.984Z"
   },
   {
    "duration": -194229,
    "start_time": "2021-11-27T21:29:34.000Z"
   },
   {
    "duration": 3516,
    "start_time": "2021-11-27T21:27:34.000Z"
   },
   {
    "duration": 2580,
    "start_time": "2021-11-27T21:27:42.628Z"
   },
   {
    "duration": 394,
    "start_time": "2021-11-27T21:27:48.223Z"
   },
   {
    "duration": 9,
    "start_time": "2021-11-27T21:27:58.806Z"
   },
   {
    "duration": 1546,
    "start_time": "2021-11-27T21:29:16.248Z"
   },
   {
    "duration": 60,
    "start_time": "2021-11-27T21:29:17.797Z"
   },
   {
    "duration": 10,
    "start_time": "2021-11-27T21:29:17.861Z"
   },
   {
    "duration": 36,
    "start_time": "2021-11-27T21:29:17.875Z"
   },
   {
    "duration": 8,
    "start_time": "2021-11-27T21:29:17.913Z"
   },
   {
    "duration": 16,
    "start_time": "2021-11-27T21:29:17.924Z"
   },
   {
    "duration": 4,
    "start_time": "2021-11-27T21:29:17.943Z"
   },
   {
    "duration": 689,
    "start_time": "2021-11-27T21:29:17.949Z"
   },
   {
    "duration": 9,
    "start_time": "2021-11-27T21:29:18.642Z"
   },
   {
    "duration": 2401,
    "start_time": "2021-11-27T21:29:18.654Z"
   },
   {
    "duration": 530,
    "start_time": "2021-11-27T21:29:21.057Z"
   },
   {
    "duration": 14,
    "start_time": "2021-11-27T21:29:21.589Z"
   },
   {
    "duration": 44,
    "start_time": "2021-11-27T21:29:21.605Z"
   },
   {
    "duration": 9,
    "start_time": "2021-11-27T21:29:21.651Z"
   },
   {
    "duration": 5,
    "start_time": "2021-11-27T21:29:21.662Z"
   },
   {
    "duration": 40,
    "start_time": "2021-11-27T21:29:21.670Z"
   },
   {
    "duration": 8,
    "start_time": "2021-11-27T21:29:21.713Z"
   },
   {
    "duration": 12,
    "start_time": "2021-11-27T21:29:21.723Z"
   },
   {
    "duration": 63,
    "start_time": "2021-11-27T21:29:21.738Z"
   },
   {
    "duration": 110,
    "start_time": "2021-11-27T21:29:21.805Z"
   },
   {
    "duration": 23131,
    "start_time": "2021-11-27T21:29:21.918Z"
   },
   {
    "duration": 3357,
    "start_time": "2021-11-27T21:29:45.051Z"
   },
   {
    "duration": 2583,
    "start_time": "2021-11-27T21:29:48.410Z"
   },
   {
    "duration": 527,
    "start_time": "2021-11-27T21:29:50.996Z"
   },
   {
    "duration": 9,
    "start_time": "2021-11-27T21:30:00.050Z"
   },
   {
    "duration": 1617,
    "start_time": "2021-11-27T21:30:08.860Z"
   },
   {
    "duration": 48,
    "start_time": "2021-11-27T21:30:10.480Z"
   },
   {
    "duration": 8,
    "start_time": "2021-11-27T21:30:10.531Z"
   },
   {
    "duration": 13,
    "start_time": "2021-11-27T21:30:10.542Z"
   },
   {
    "duration": 47,
    "start_time": "2021-11-27T21:30:10.557Z"
   },
   {
    "duration": 18,
    "start_time": "2021-11-27T21:30:10.606Z"
   },
   {
    "duration": 4,
    "start_time": "2021-11-27T21:30:10.626Z"
   },
   {
    "duration": 684,
    "start_time": "2021-11-27T21:30:10.632Z"
   },
   {
    "duration": 11,
    "start_time": "2021-11-27T21:30:11.320Z"
   },
   {
    "duration": 2390,
    "start_time": "2021-11-27T21:30:11.334Z"
   },
   {
    "duration": 526,
    "start_time": "2021-11-27T21:30:13.727Z"
   },
   {
    "duration": 7,
    "start_time": "2021-11-27T21:30:14.256Z"
   },
   {
    "duration": 64,
    "start_time": "2021-11-27T21:30:14.265Z"
   },
   {
    "duration": 8,
    "start_time": "2021-11-27T21:30:14.332Z"
   },
   {
    "duration": 11,
    "start_time": "2021-11-27T21:30:14.343Z"
   },
   {
    "duration": 33,
    "start_time": "2021-11-27T21:30:14.356Z"
   },
   {
    "duration": 18,
    "start_time": "2021-11-27T21:30:14.392Z"
   },
   {
    "duration": 21,
    "start_time": "2021-11-27T21:30:14.413Z"
   },
   {
    "duration": 71,
    "start_time": "2021-11-27T21:30:14.437Z"
   },
   {
    "duration": 107,
    "start_time": "2021-11-27T21:30:14.512Z"
   },
   {
    "duration": 24218,
    "start_time": "2021-11-27T21:30:14.703Z"
   },
   {
    "duration": 3564,
    "start_time": "2021-11-27T21:30:38.924Z"
   },
   {
    "duration": 2638,
    "start_time": "2021-11-27T21:30:42.491Z"
   },
   {
    "duration": 18,
    "start_time": "2021-11-27T21:30:45.132Z"
   },
   {
    "duration": 1160,
    "start_time": "2021-11-27T22:47:18.445Z"
   },
   {
    "duration": 98,
    "start_time": "2021-11-27T22:47:19.607Z"
   },
   {
    "duration": 7,
    "start_time": "2021-11-27T22:47:19.707Z"
   },
   {
    "duration": 10,
    "start_time": "2021-11-27T22:47:19.716Z"
   },
   {
    "duration": 4,
    "start_time": "2021-11-27T22:47:20.044Z"
   },
   {
    "duration": 12,
    "start_time": "2021-11-27T22:47:23.492Z"
   },
   {
    "duration": 3,
    "start_time": "2021-11-27T22:47:54.546Z"
   },
   {
    "duration": 391,
    "start_time": "2021-11-27T22:47:55.032Z"
   },
   {
    "duration": 8,
    "start_time": "2021-11-27T22:47:55.564Z"
   },
   {
    "duration": 1527,
    "start_time": "2021-11-27T22:47:55.897Z"
   },
   {
    "duration": 303,
    "start_time": "2021-11-27T22:47:57.426Z"
   },
   {
    "duration": 4,
    "start_time": "2021-11-27T22:48:38.386Z"
   },
   {
    "duration": 24,
    "start_time": "2021-11-27T22:48:38.850Z"
   },
   {
    "duration": 9,
    "start_time": "2021-11-27T22:50:51.969Z"
   },
   {
    "duration": 3,
    "start_time": "2021-11-27T22:50:53.390Z"
   },
   {
    "duration": 8,
    "start_time": "2021-11-27T22:50:54.589Z"
   },
   {
    "duration": 8,
    "start_time": "2021-11-27T22:51:06.962Z"
   },
   {
    "duration": 11,
    "start_time": "2021-11-27T22:51:08.040Z"
   },
   {
    "duration": 26,
    "start_time": "2021-11-27T22:51:29.412Z"
   },
   {
    "duration": 11,
    "start_time": "2021-11-27T22:51:53.588Z"
   },
   {
    "duration": 42,
    "start_time": "2021-11-27T22:51:54.453Z"
   },
   {
    "duration": 16179,
    "start_time": "2021-11-27T22:52:17.097Z"
   },
   {
    "duration": 2241,
    "start_time": "2021-11-27T22:52:40.029Z"
   },
   {
    "duration": 1929,
    "start_time": "2021-11-27T22:52:49.783Z"
   },
   {
    "duration": 9,
    "start_time": "2021-11-27T22:52:56.640Z"
   },
   {
    "duration": 7,
    "start_time": "2021-11-27T23:08:52.100Z"
   },
   {
    "duration": 5,
    "start_time": "2021-11-27T23:10:14.628Z"
   },
   {
    "duration": 25,
    "start_time": "2021-11-27T23:11:44.417Z"
   },
   {
    "duration": 33,
    "start_time": "2021-11-27T23:11:48.595Z"
   },
   {
    "duration": 25,
    "start_time": "2021-11-27T23:12:17.034Z"
   },
   {
    "duration": 27,
    "start_time": "2021-11-27T23:12:44.615Z"
   },
   {
    "duration": 27,
    "start_time": "2021-11-27T23:13:07.526Z"
   },
   {
    "duration": 26,
    "start_time": "2021-11-27T23:13:25.698Z"
   },
   {
    "duration": 157,
    "start_time": "2021-11-28T09:33:22.417Z"
   },
   {
    "duration": 1593,
    "start_time": "2021-11-28T09:45:49.134Z"
   },
   {
    "duration": 46,
    "start_time": "2021-11-28T09:45:50.730Z"
   },
   {
    "duration": 8,
    "start_time": "2021-11-28T09:45:50.779Z"
   },
   {
    "duration": 13,
    "start_time": "2021-11-28T09:45:50.790Z"
   },
   {
    "duration": 7,
    "start_time": "2021-11-28T09:45:50.805Z"
   },
   {
    "duration": 45,
    "start_time": "2021-11-28T09:45:50.814Z"
   },
   {
    "duration": 3,
    "start_time": "2021-11-28T09:45:50.862Z"
   },
   {
    "duration": 629,
    "start_time": "2021-11-28T09:45:50.869Z"
   },
   {
    "duration": 10,
    "start_time": "2021-11-28T09:45:51.501Z"
   },
   {
    "duration": 2308,
    "start_time": "2021-11-28T09:45:51.513Z"
   },
   {
    "duration": 491,
    "start_time": "2021-11-28T09:45:53.823Z"
   },
   {
    "duration": 5,
    "start_time": "2021-11-28T09:45:54.317Z"
   },
   {
    "duration": 15,
    "start_time": "2021-11-28T09:45:54.325Z"
   },
   {
    "duration": 19,
    "start_time": "2021-11-28T09:45:54.343Z"
   },
   {
    "duration": 5,
    "start_time": "2021-11-28T09:45:54.365Z"
   },
   {
    "duration": 12,
    "start_time": "2021-11-28T09:45:54.372Z"
   },
   {
    "duration": 7,
    "start_time": "2021-11-28T09:45:54.386Z"
   },
   {
    "duration": 13,
    "start_time": "2021-11-28T09:45:54.395Z"
   },
   {
    "duration": 54,
    "start_time": "2021-11-28T09:45:54.411Z"
   },
   {
    "duration": 8,
    "start_time": "2021-11-28T09:45:54.468Z"
   },
   {
    "duration": 29976,
    "start_time": "2021-11-28T09:45:54.478Z"
   },
   {
    "duration": 2490,
    "start_time": "2021-11-28T09:46:24.460Z"
   },
   {
    "duration": 594,
    "start_time": "2021-11-28T09:46:26.954Z"
   },
   {
    "duration": 18,
    "start_time": "2021-11-28T09:46:27.550Z"
   },
   {
    "duration": 7,
    "start_time": "2021-11-28T09:56:52.922Z"
   },
   {
    "duration": 3447,
    "start_time": "2021-11-28T09:56:57.411Z"
   },
   {
    "duration": 2230,
    "start_time": "2021-11-28T10:01:09.121Z"
   },
   {
    "duration": 2079,
    "start_time": "2021-11-28T10:01:18.877Z"
   },
   {
    "duration": 2435,
    "start_time": "2021-11-28T10:01:26.643Z"
   },
   {
    "duration": 2359,
    "start_time": "2021-11-28T10:01:34.960Z"
   },
   {
    "duration": 2474,
    "start_time": "2021-11-28T10:01:42.480Z"
   },
   {
    "duration": 3840,
    "start_time": "2021-11-28T10:01:52.743Z"
   },
   {
    "duration": 3865,
    "start_time": "2021-11-28T10:02:06.011Z"
   },
   {
    "duration": 6259,
    "start_time": "2021-11-28T10:02:14.586Z"
   },
   {
    "duration": 7171,
    "start_time": "2021-11-28T10:02:33.649Z"
   },
   {
    "duration": 7508,
    "start_time": "2021-11-28T10:03:26.818Z"
   },
   {
    "duration": 1589,
    "start_time": "2021-11-28T10:05:32.641Z"
   },
   {
    "duration": 52,
    "start_time": "2021-11-28T10:05:34.233Z"
   },
   {
    "duration": 9,
    "start_time": "2021-11-28T10:05:34.289Z"
   },
   {
    "duration": 26,
    "start_time": "2021-11-28T10:05:34.301Z"
   },
   {
    "duration": 14,
    "start_time": "2021-11-28T10:05:34.330Z"
   },
   {
    "duration": 17,
    "start_time": "2021-11-28T10:05:34.360Z"
   },
   {
    "duration": 6,
    "start_time": "2021-11-28T10:05:34.379Z"
   },
   {
    "duration": 656,
    "start_time": "2021-11-28T10:05:34.389Z"
   },
   {
    "duration": 18,
    "start_time": "2021-11-28T10:05:35.048Z"
   },
   {
    "duration": 2267,
    "start_time": "2021-11-28T10:05:35.068Z"
   },
   {
    "duration": 506,
    "start_time": "2021-11-28T10:05:37.337Z"
   },
   {
    "duration": 5,
    "start_time": "2021-11-28T10:05:37.846Z"
   },
   {
    "duration": 35,
    "start_time": "2021-11-28T10:05:37.859Z"
   },
   {
    "duration": 8,
    "start_time": "2021-11-28T10:05:37.896Z"
   },
   {
    "duration": 5,
    "start_time": "2021-11-28T10:05:37.906Z"
   },
   {
    "duration": 46,
    "start_time": "2021-11-28T10:05:37.913Z"
   },
   {
    "duration": 7,
    "start_time": "2021-11-28T10:05:37.962Z"
   },
   {
    "duration": 11,
    "start_time": "2021-11-28T10:05:37.972Z"
   },
   {
    "duration": 75,
    "start_time": "2021-11-28T10:05:37.985Z"
   },
   {
    "duration": 100,
    "start_time": "2021-11-28T10:05:38.063Z"
   },
   {
    "duration": 154477,
    "start_time": "2021-11-28T10:05:38.166Z"
   },
   {
    "duration": 13042,
    "start_time": "2021-11-28T10:08:12.645Z"
   },
   {
    "duration": 3110,
    "start_time": "2021-11-28T10:08:25.692Z"
   },
   {
    "duration": 11151,
    "start_time": "2021-11-28T10:08:28.805Z"
   },
   {
    "duration": 11155,
    "start_time": "2021-11-28T10:18:54.923Z"
   },
   {
    "duration": 10500,
    "start_time": "2021-11-28T10:19:16.194Z"
   },
   {
    "duration": 33051,
    "start_time": "2021-11-28T10:21:17.395Z"
   },
   {
    "duration": 3107,
    "start_time": "2021-11-28T10:22:01.213Z"
   },
   {
    "duration": 522,
    "start_time": "2021-11-28T10:22:07.773Z"
   },
   {
    "duration": 372,
    "start_time": "2021-11-28T10:22:33.665Z"
   },
   {
    "duration": 9,
    "start_time": "2021-11-28T10:22:49.413Z"
   },
   {
    "duration": 39514,
    "start_time": "2021-11-28T10:27:38.676Z"
   },
   {
    "duration": 2585,
    "start_time": "2021-11-28T10:28:29.038Z"
   },
   {
    "duration": 368,
    "start_time": "2021-11-28T10:29:21.599Z"
   },
   {
    "duration": 1667,
    "start_time": "2021-11-28T10:45:34.248Z"
   },
   {
    "duration": 46,
    "start_time": "2021-11-28T10:45:35.918Z"
   },
   {
    "duration": 9,
    "start_time": "2021-11-28T10:45:35.967Z"
   },
   {
    "duration": 18,
    "start_time": "2021-11-28T10:45:35.978Z"
   },
   {
    "duration": 9,
    "start_time": "2021-11-28T10:45:35.998Z"
   },
   {
    "duration": 23,
    "start_time": "2021-11-28T10:45:36.009Z"
   },
   {
    "duration": 27,
    "start_time": "2021-11-28T10:45:36.035Z"
   },
   {
    "duration": 645,
    "start_time": "2021-11-28T10:45:36.066Z"
   },
   {
    "duration": 10,
    "start_time": "2021-11-28T10:45:36.714Z"
   },
   {
    "duration": 2390,
    "start_time": "2021-11-28T10:45:36.727Z"
   },
   {
    "duration": 503,
    "start_time": "2021-11-28T10:45:39.120Z"
   },
   {
    "duration": 6,
    "start_time": "2021-11-28T10:45:39.625Z"
   },
   {
    "duration": 33,
    "start_time": "2021-11-28T10:45:39.634Z"
   },
   {
    "duration": 9,
    "start_time": "2021-11-28T10:45:39.670Z"
   },
   {
    "duration": 6,
    "start_time": "2021-11-28T10:45:39.682Z"
   },
   {
    "duration": 12,
    "start_time": "2021-11-28T10:45:39.691Z"
   },
   {
    "duration": 53,
    "start_time": "2021-11-28T10:45:39.706Z"
   },
   {
    "duration": 10,
    "start_time": "2021-11-28T10:45:39.762Z"
   },
   {
    "duration": 14,
    "start_time": "2021-11-28T10:45:39.774Z"
   },
   {
    "duration": 7,
    "start_time": "2021-11-28T10:45:39.790Z"
   },
   {
    "duration": 10426,
    "start_time": "2021-11-28T10:45:39.800Z"
   },
   {
    "duration": 346,
    "start_time": "2021-11-28T10:45:49.884Z"
   },
   {
    "duration": 328,
    "start_time": "2021-11-28T10:45:49.904Z"
   },
   {
    "duration": 306,
    "start_time": "2021-11-28T10:45:49.928Z"
   },
   {
    "duration": 1582,
    "start_time": "2021-11-28T10:46:18.947Z"
   },
   {
    "duration": 47,
    "start_time": "2021-11-28T10:46:20.531Z"
   },
   {
    "duration": 8,
    "start_time": "2021-11-28T10:46:20.581Z"
   },
   {
    "duration": 16,
    "start_time": "2021-11-28T10:46:20.592Z"
   },
   {
    "duration": 9,
    "start_time": "2021-11-28T10:46:20.610Z"
   },
   {
    "duration": 38,
    "start_time": "2021-11-28T10:46:20.621Z"
   },
   {
    "duration": 4,
    "start_time": "2021-11-28T10:46:20.661Z"
   },
   {
    "duration": 615,
    "start_time": "2021-11-28T10:46:20.669Z"
   },
   {
    "duration": 10,
    "start_time": "2021-11-28T10:46:21.287Z"
   },
   {
    "duration": 2384,
    "start_time": "2021-11-28T10:46:21.299Z"
   },
   {
    "duration": 492,
    "start_time": "2021-11-28T10:46:23.685Z"
   },
   {
    "duration": 6,
    "start_time": "2021-11-28T10:46:24.180Z"
   },
   {
    "duration": 16,
    "start_time": "2021-11-28T10:46:24.190Z"
   },
   {
    "duration": 8,
    "start_time": "2021-11-28T10:46:24.209Z"
   },
   {
    "duration": 41,
    "start_time": "2021-11-28T10:46:24.220Z"
   },
   {
    "duration": 12,
    "start_time": "2021-11-28T10:46:24.264Z"
   },
   {
    "duration": 6,
    "start_time": "2021-11-28T10:46:24.279Z"
   },
   {
    "duration": 10,
    "start_time": "2021-11-28T10:46:24.288Z"
   },
   {
    "duration": 16,
    "start_time": "2021-11-28T10:46:24.300Z"
   },
   {
    "duration": 8,
    "start_time": "2021-11-28T10:46:24.360Z"
   },
   {
    "duration": 31827,
    "start_time": "2021-11-28T10:46:24.371Z"
   },
   {
    "duration": 21368,
    "start_time": "2021-11-28T10:46:56.200Z"
   },
   {
    "duration": 259,
    "start_time": "2021-11-28T10:47:17.572Z"
   },
   {
    "duration": 550,
    "start_time": "2021-11-28T10:47:17.833Z"
   },
   {
    "duration": 1625,
    "start_time": "2021-11-28T10:48:35.945Z"
   },
   {
    "duration": 49,
    "start_time": "2021-11-28T10:48:37.573Z"
   },
   {
    "duration": 29,
    "start_time": "2021-11-28T10:48:37.630Z"
   },
   {
    "duration": 15,
    "start_time": "2021-11-28T10:48:37.662Z"
   },
   {
    "duration": 6,
    "start_time": "2021-11-28T10:48:37.680Z"
   },
   {
    "duration": 14,
    "start_time": "2021-11-28T10:48:37.689Z"
   },
   {
    "duration": 3,
    "start_time": "2021-11-28T10:48:37.707Z"
   },
   {
    "duration": 694,
    "start_time": "2021-11-28T10:48:37.713Z"
   },
   {
    "duration": 13,
    "start_time": "2021-11-28T10:48:38.410Z"
   },
   {
    "duration": 2315,
    "start_time": "2021-11-28T10:48:38.426Z"
   },
   {
    "duration": 502,
    "start_time": "2021-11-28T10:48:40.744Z"
   },
   {
    "duration": 10,
    "start_time": "2021-11-28T10:48:41.249Z"
   },
   {
    "duration": 13,
    "start_time": "2021-11-28T10:48:41.262Z"
   },
   {
    "duration": 6,
    "start_time": "2021-11-28T10:48:41.277Z"
   },
   {
    "duration": 10,
    "start_time": "2021-11-28T10:48:41.285Z"
   },
   {
    "duration": 28,
    "start_time": "2021-11-28T10:48:41.298Z"
   },
   {
    "duration": 34,
    "start_time": "2021-11-28T10:48:41.329Z"
   },
   {
    "duration": 12,
    "start_time": "2021-11-28T10:48:41.366Z"
   },
   {
    "duration": 14,
    "start_time": "2021-11-28T10:48:41.381Z"
   },
   {
    "duration": 8,
    "start_time": "2021-11-28T10:48:41.397Z"
   },
   {
    "duration": 31161,
    "start_time": "2021-11-28T10:48:41.459Z"
   },
   {
    "duration": 536,
    "start_time": "2021-11-28T10:49:12.624Z"
   },
   {
    "duration": 346,
    "start_time": "2021-11-28T10:49:12.817Z"
   },
   {
    "duration": 338,
    "start_time": "2021-11-28T10:49:12.826Z"
   },
   {
    "duration": 387,
    "start_time": "2021-11-28T10:49:50.976Z"
   },
   {
    "duration": 382,
    "start_time": "2021-11-28T10:49:59.886Z"
   },
   {
    "duration": 12800,
    "start_time": "2021-11-28T10:50:12.050Z"
   },
   {
    "duration": 12577,
    "start_time": "2021-11-28T10:50:36.166Z"
   },
   {
    "duration": 12253,
    "start_time": "2021-11-28T10:53:42.147Z"
   },
   {
    "duration": 13063,
    "start_time": "2021-11-28T10:54:41.518Z"
   },
   {
    "duration": 1712,
    "start_time": "2021-11-28T10:59:35.537Z"
   },
   {
    "duration": 64,
    "start_time": "2021-11-28T10:59:37.252Z"
   },
   {
    "duration": 11,
    "start_time": "2021-11-28T10:59:37.324Z"
   },
   {
    "duration": 36,
    "start_time": "2021-11-28T10:59:37.338Z"
   },
   {
    "duration": 6,
    "start_time": "2021-11-28T10:59:37.377Z"
   },
   {
    "duration": 16,
    "start_time": "2021-11-28T10:59:37.385Z"
   },
   {
    "duration": 3,
    "start_time": "2021-11-28T10:59:37.405Z"
   },
   {
    "duration": 684,
    "start_time": "2021-11-28T10:59:37.412Z"
   },
   {
    "duration": 14,
    "start_time": "2021-11-28T10:59:38.099Z"
   },
   {
    "duration": 2266,
    "start_time": "2021-11-28T10:59:38.116Z"
   },
   {
    "duration": 490,
    "start_time": "2021-11-28T10:59:40.384Z"
   },
   {
    "duration": 7,
    "start_time": "2021-11-28T10:59:40.877Z"
   },
   {
    "duration": 15,
    "start_time": "2021-11-28T10:59:40.887Z"
   },
   {
    "duration": 9,
    "start_time": "2021-11-28T10:59:40.904Z"
   },
   {
    "duration": 45,
    "start_time": "2021-11-28T10:59:40.915Z"
   },
   {
    "duration": 14,
    "start_time": "2021-11-28T10:59:40.963Z"
   },
   {
    "duration": 10,
    "start_time": "2021-11-28T10:59:40.979Z"
   },
   {
    "duration": 12,
    "start_time": "2021-11-28T10:59:40.992Z"
   },
   {
    "duration": 13,
    "start_time": "2021-11-28T10:59:41.006Z"
   },
   {
    "duration": 44,
    "start_time": "2021-11-28T10:59:41.021Z"
   },
   {
    "duration": 27035,
    "start_time": "2021-11-28T10:59:41.068Z"
   },
   {
    "duration": 11928,
    "start_time": "2021-11-28T11:00:08.107Z"
   },
   {
    "duration": 400,
    "start_time": "2021-11-28T11:00:20.038Z"
   },
   {
    "duration": 12189,
    "start_time": "2021-11-28T11:00:20.441Z"
   },
   {
    "duration": 1638,
    "start_time": "2021-11-28T11:01:14.428Z"
   },
   {
    "duration": 49,
    "start_time": "2021-11-28T11:01:16.069Z"
   },
   {
    "duration": 10,
    "start_time": "2021-11-28T11:01:16.121Z"
   },
   {
    "duration": 31,
    "start_time": "2021-11-28T11:01:16.134Z"
   },
   {
    "duration": 5,
    "start_time": "2021-11-28T11:01:16.167Z"
   },
   {
    "duration": 16,
    "start_time": "2021-11-28T11:01:16.176Z"
   },
   {
    "duration": 3,
    "start_time": "2021-11-28T11:01:16.195Z"
   },
   {
    "duration": 701,
    "start_time": "2021-11-28T11:01:16.204Z"
   },
   {
    "duration": 9,
    "start_time": "2021-11-28T11:01:16.908Z"
   },
   {
    "duration": 2311,
    "start_time": "2021-11-28T11:01:16.920Z"
   },
   {
    "duration": 485,
    "start_time": "2021-11-28T11:01:19.234Z"
   },
   {
    "duration": 7,
    "start_time": "2021-11-28T11:01:19.722Z"
   },
   {
    "duration": 51,
    "start_time": "2021-11-28T11:01:19.732Z"
   },
   {
    "duration": 13,
    "start_time": "2021-11-28T11:01:19.786Z"
   },
   {
    "duration": 11,
    "start_time": "2021-11-28T11:01:19.801Z"
   },
   {
    "duration": 38,
    "start_time": "2021-11-28T11:01:19.814Z"
   },
   {
    "duration": 27,
    "start_time": "2021-11-28T11:01:19.854Z"
   },
   {
    "duration": 24,
    "start_time": "2021-11-28T11:01:19.883Z"
   },
   {
    "duration": 28,
    "start_time": "2021-11-28T11:01:19.909Z"
   },
   {
    "duration": 120,
    "start_time": "2021-11-28T11:01:19.940Z"
   },
   {
    "duration": 75275,
    "start_time": "2021-11-28T11:01:20.064Z"
   },
   {
    "duration": 1595,
    "start_time": "2021-11-28T11:06:25.211Z"
   },
   {
    "duration": 47,
    "start_time": "2021-11-28T11:06:26.809Z"
   },
   {
    "duration": 9,
    "start_time": "2021-11-28T11:06:26.859Z"
   },
   {
    "duration": 27,
    "start_time": "2021-11-28T11:06:26.871Z"
   },
   {
    "duration": 4,
    "start_time": "2021-11-28T11:06:26.901Z"
   },
   {
    "duration": 27,
    "start_time": "2021-11-28T11:06:26.907Z"
   },
   {
    "duration": 3,
    "start_time": "2021-11-28T11:06:26.937Z"
   },
   {
    "duration": 639,
    "start_time": "2021-11-28T11:06:26.942Z"
   },
   {
    "duration": 10,
    "start_time": "2021-11-28T11:06:27.585Z"
   },
   {
    "duration": 2295,
    "start_time": "2021-11-28T11:06:27.598Z"
   },
   {
    "duration": 495,
    "start_time": "2021-11-28T11:06:29.896Z"
   },
   {
    "duration": 7,
    "start_time": "2021-11-28T11:06:30.394Z"
   },
   {
    "duration": 53,
    "start_time": "2021-11-28T11:06:30.404Z"
   },
   {
    "duration": 11,
    "start_time": "2021-11-28T11:06:30.460Z"
   },
   {
    "duration": 6,
    "start_time": "2021-11-28T11:06:30.474Z"
   },
   {
    "duration": 26,
    "start_time": "2021-11-28T11:06:30.483Z"
   },
   {
    "duration": 19,
    "start_time": "2021-11-28T11:06:30.512Z"
   },
   {
    "duration": 30,
    "start_time": "2021-11-28T11:06:30.533Z"
   },
   {
    "duration": 22,
    "start_time": "2021-11-28T11:06:30.566Z"
   },
   {
    "duration": 179,
    "start_time": "2021-11-28T11:06:30.592Z"
   },
   {
    "duration": 73845,
    "start_time": "2021-11-28T11:06:30.859Z"
   },
   {
    "duration": 29635,
    "start_time": "2021-11-28T11:07:44.706Z"
   },
   {
    "duration": 682,
    "start_time": "2021-11-28T11:08:14.344Z"
   },
   {
    "duration": 31382,
    "start_time": "2021-11-28T11:08:15.029Z"
   },
   {
    "duration": 1533,
    "start_time": "2021-11-28T11:14:57.287Z"
   },
   {
    "duration": 49,
    "start_time": "2021-11-28T11:14:58.823Z"
   },
   {
    "duration": 8,
    "start_time": "2021-11-28T11:14:58.875Z"
   },
   {
    "duration": 12,
    "start_time": "2021-11-28T11:14:58.885Z"
   },
   {
    "duration": 6,
    "start_time": "2021-11-28T11:14:58.899Z"
   },
   {
    "duration": 15,
    "start_time": "2021-11-28T11:14:58.907Z"
   },
   {
    "duration": 33,
    "start_time": "2021-11-28T11:14:58.926Z"
   },
   {
    "duration": 642,
    "start_time": "2021-11-28T11:14:58.964Z"
   },
   {
    "duration": 13,
    "start_time": "2021-11-28T11:14:59.609Z"
   },
   {
    "duration": 2316,
    "start_time": "2021-11-28T11:14:59.625Z"
   },
   {
    "duration": 501,
    "start_time": "2021-11-28T11:15:01.943Z"
   },
   {
    "duration": 13,
    "start_time": "2021-11-28T11:15:02.446Z"
   },
   {
    "duration": 39,
    "start_time": "2021-11-28T11:15:02.462Z"
   },
   {
    "duration": 8,
    "start_time": "2021-11-28T11:15:02.504Z"
   },
   {
    "duration": 17,
    "start_time": "2021-11-28T11:15:02.514Z"
   },
   {
    "duration": 37,
    "start_time": "2021-11-28T11:15:02.533Z"
   },
   {
    "duration": 15,
    "start_time": "2021-11-28T11:15:02.572Z"
   },
   {
    "duration": 22,
    "start_time": "2021-11-28T11:15:02.589Z"
   },
   {
    "duration": 46,
    "start_time": "2021-11-28T11:15:02.613Z"
   },
   {
    "duration": 195,
    "start_time": "2021-11-28T11:15:02.664Z"
   },
   {
    "duration": 74369,
    "start_time": "2021-11-28T11:15:02.862Z"
   },
   {
    "duration": 29186,
    "start_time": "2021-11-28T11:16:17.235Z"
   },
   {
    "duration": 706,
    "start_time": "2021-11-28T11:16:46.424Z"
   },
   {
    "duration": 31382,
    "start_time": "2021-11-28T11:16:47.132Z"
   },
   {
    "duration": 1621,
    "start_time": "2021-11-28T11:23:50.483Z"
   },
   {
    "duration": 47,
    "start_time": "2021-11-28T11:23:52.107Z"
   },
   {
    "duration": 9,
    "start_time": "2021-11-28T11:23:52.156Z"
   },
   {
    "duration": 11,
    "start_time": "2021-11-28T11:23:52.168Z"
   },
   {
    "duration": 10,
    "start_time": "2021-11-28T11:23:52.182Z"
   },
   {
    "duration": 19,
    "start_time": "2021-11-28T11:23:52.194Z"
   },
   {
    "duration": 44,
    "start_time": "2021-11-28T11:23:52.215Z"
   },
   {
    "duration": 626,
    "start_time": "2021-11-28T11:23:52.263Z"
   },
   {
    "duration": 9,
    "start_time": "2021-11-28T11:23:52.892Z"
   },
   {
    "duration": 2451,
    "start_time": "2021-11-28T11:23:52.903Z"
   },
   {
    "duration": 513,
    "start_time": "2021-11-28T11:23:55.360Z"
   },
   {
    "duration": 6,
    "start_time": "2021-11-28T11:23:55.876Z"
   },
   {
    "duration": 17,
    "start_time": "2021-11-28T11:23:55.885Z"
   },
   {
    "duration": 7,
    "start_time": "2021-11-28T11:23:55.904Z"
   },
   {
    "duration": 6,
    "start_time": "2021-11-28T11:23:55.914Z"
   },
   {
    "duration": 14,
    "start_time": "2021-11-28T11:23:55.961Z"
   },
   {
    "duration": 16,
    "start_time": "2021-11-28T11:23:55.978Z"
   },
   {
    "duration": 14,
    "start_time": "2021-11-28T11:23:55.997Z"
   },
   {
    "duration": 15,
    "start_time": "2021-11-28T11:23:56.060Z"
   },
   {
    "duration": 25,
    "start_time": "2021-11-28T11:23:56.078Z"
   },
   {
    "duration": 30499,
    "start_time": "2021-11-28T11:23:56.161Z"
   },
   {
    "duration": 12827,
    "start_time": "2021-11-28T11:24:26.663Z"
   },
   {
    "duration": 266,
    "start_time": "2021-11-28T11:24:39.494Z"
   },
   {
    "duration": 12740,
    "start_time": "2021-11-28T11:24:39.762Z"
   },
   {
    "duration": 1576,
    "start_time": "2021-11-28T11:26:47.053Z"
   },
   {
    "duration": 48,
    "start_time": "2021-11-28T11:26:48.632Z"
   },
   {
    "duration": 8,
    "start_time": "2021-11-28T11:26:48.683Z"
   },
   {
    "duration": 13,
    "start_time": "2021-11-28T11:26:48.694Z"
   },
   {
    "duration": 5,
    "start_time": "2021-11-28T11:26:48.709Z"
   },
   {
    "duration": 49,
    "start_time": "2021-11-28T11:26:48.716Z"
   },
   {
    "duration": 3,
    "start_time": "2021-11-28T11:26:48.768Z"
   },
   {
    "duration": 659,
    "start_time": "2021-11-28T11:26:48.774Z"
   },
   {
    "duration": 10,
    "start_time": "2021-11-28T11:26:49.436Z"
   },
   {
    "duration": 2386,
    "start_time": "2021-11-28T11:26:49.459Z"
   },
   {
    "duration": 517,
    "start_time": "2021-11-28T11:26:51.848Z"
   },
   {
    "duration": 7,
    "start_time": "2021-11-28T11:26:52.368Z"
   },
   {
    "duration": 31,
    "start_time": "2021-11-28T11:26:52.378Z"
   },
   {
    "duration": 6,
    "start_time": "2021-11-28T11:26:52.412Z"
   },
   {
    "duration": 38,
    "start_time": "2021-11-28T11:26:52.421Z"
   },
   {
    "duration": 22,
    "start_time": "2021-11-28T11:26:52.462Z"
   },
   {
    "duration": 7,
    "start_time": "2021-11-28T11:26:52.487Z"
   },
   {
    "duration": 14,
    "start_time": "2021-11-28T11:26:52.497Z"
   },
   {
    "duration": 60,
    "start_time": "2021-11-28T11:26:52.514Z"
   },
   {
    "duration": 92,
    "start_time": "2021-11-28T11:26:52.577Z"
   },
   {
    "duration": 75700,
    "start_time": "2021-11-28T11:26:52.760Z"
   },
   {
    "duration": 28654,
    "start_time": "2021-11-28T11:28:08.462Z"
   },
   {
    "duration": 874,
    "start_time": "2021-11-28T11:28:37.118Z"
   },
   {
    "duration": 32080,
    "start_time": "2021-11-28T11:28:37.995Z"
   },
   {
    "duration": 402,
    "start_time": "2021-11-28T11:32:56.875Z"
   },
   {
    "duration": 15,
    "start_time": "2021-11-28T11:33:05.867Z"
   },
   {
    "duration": 8,
    "start_time": "2021-11-28T11:33:08.186Z"
   },
   {
    "duration": 701,
    "start_time": "2021-11-28T11:33:21.502Z"
   },
   {
    "duration": 407,
    "start_time": "2021-11-28T11:43:15.176Z"
   },
   {
    "duration": 14,
    "start_time": "2021-11-28T11:43:50.263Z"
   },
   {
    "duration": 452,
    "start_time": "2021-11-28T11:47:23.221Z"
   },
   {
    "duration": 530,
    "start_time": "2021-11-28T11:48:14.952Z"
   },
   {
    "duration": 479,
    "start_time": "2021-11-28T11:49:18.671Z"
   },
   {
    "duration": 466,
    "start_time": "2021-11-28T11:49:52.751Z"
   },
   {
    "duration": 454,
    "start_time": "2021-11-28T11:50:18.499Z"
   },
   {
    "duration": 454,
    "start_time": "2021-11-28T11:50:59.141Z"
   },
   {
    "duration": 643,
    "start_time": "2021-11-28T11:51:07.691Z"
   },
   {
    "duration": 639,
    "start_time": "2021-11-28T11:51:21.691Z"
   },
   {
    "duration": 643,
    "start_time": "2021-11-28T11:51:42.981Z"
   },
   {
    "duration": 973,
    "start_time": "2021-11-28T11:51:50.874Z"
   },
   {
    "duration": 1130,
    "start_time": "2021-11-28T11:52:01.341Z"
   },
   {
    "duration": 683,
    "start_time": "2021-11-28T11:52:22.831Z"
   },
   {
    "duration": 719,
    "start_time": "2021-11-28T11:52:33.572Z"
   },
   {
    "duration": 686,
    "start_time": "2021-11-28T11:53:02.094Z"
   },
   {
    "duration": 654,
    "start_time": "2021-11-28T11:53:15.974Z"
   },
   {
    "duration": 652,
    "start_time": "2021-11-28T11:53:26.611Z"
   },
   {
    "duration": 999,
    "start_time": "2021-11-28T11:55:36.621Z"
   },
   {
    "duration": 1013,
    "start_time": "2021-11-28T11:56:53.974Z"
   },
   {
    "duration": 601,
    "start_time": "2021-11-28T11:57:30.983Z"
   },
   {
    "duration": 1142,
    "start_time": "2021-11-28T11:57:57.931Z"
   },
   {
    "duration": 1020,
    "start_time": "2021-11-28T11:58:07.495Z"
   },
   {
    "duration": 1006,
    "start_time": "2021-11-28T11:58:17.597Z"
   },
   {
    "duration": 1041,
    "start_time": "2021-11-28T11:58:41.151Z"
   },
   {
    "duration": 1024,
    "start_time": "2021-11-28T11:59:27.813Z"
   },
   {
    "duration": 1040,
    "start_time": "2021-11-28T11:59:35.561Z"
   },
   {
    "duration": 1539,
    "start_time": "2021-11-28T12:01:25.224Z"
   },
   {
    "duration": 1068,
    "start_time": "2021-11-28T12:01:47.201Z"
   }
  ],
  "kernelspec": {
   "display_name": "Python 3",
   "language": "python",
   "name": "python3"
  },
  "language_info": {
   "codemirror_mode": {
    "name": "ipython",
    "version": 3
   },
   "file_extension": ".py",
   "mimetype": "text/x-python",
   "name": "python",
   "nbconvert_exporter": "python",
   "pygments_lexer": "ipython3",
   "version": "3.9.2"
  },
  "toc": {
   "base_numbering": 1,
   "nav_menu": {},
   "number_sections": true,
   "sideBar": true,
   "skip_h1_title": true,
   "title_cell": "Содержание",
   "title_sidebar": "Contents",
   "toc_cell": true,
   "toc_position": {},
   "toc_section_display": true,
   "toc_window_display": true
  }
 },
 "nbformat": 4,
 "nbformat_minor": 2
}
