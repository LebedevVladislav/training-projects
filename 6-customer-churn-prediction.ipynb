{
 "cells": [
  {
   "cell_type": "markdown",
   "metadata": {
    "toc": true
   },
   "source": [
    "<h1>Содержание<span class=\"tocSkip\"></span></h1>\n",
    "<div class=\"toc\"><ul class=\"toc-item\"><li><span><a href=\"#Подготовка-данных\" data-toc-modified-id=\"Подготовка-данных-1\"><span class=\"toc-item-num\">1&nbsp;&nbsp;</span>Подготовка данных</a></span><ul class=\"toc-item\"><li><span><a href=\"#Изучение-данных\" data-toc-modified-id=\"Изучение-данных-1.1\"><span class=\"toc-item-num\">1.1&nbsp;&nbsp;</span>Изучение данных</a></span></li><li><span><a href=\"#Предобратка-данных\" data-toc-modified-id=\"Предобратка-данных-1.2\"><span class=\"toc-item-num\">1.2&nbsp;&nbsp;</span>Предобратка данных</a></span><ul class=\"toc-item\"><li><span><a href=\"#Дубликаты\" data-toc-modified-id=\"Дубликаты-1.2.1\"><span class=\"toc-item-num\">1.2.1&nbsp;&nbsp;</span>Дубликаты</a></span></li><li><span><a href=\"#Пропуски\" data-toc-modified-id=\"Пропуски-1.2.2\"><span class=\"toc-item-num\">1.2.2&nbsp;&nbsp;</span>Пропуски</a></span></li></ul></li><li><span><a href=\"#Подготовка-признаков\" data-toc-modified-id=\"Подготовка-признаков-1.3\"><span class=\"toc-item-num\">1.3&nbsp;&nbsp;</span>Подготовка признаков</a></span><ul class=\"toc-item\"><li><span><a href=\"#Удаление-ненужных-признаков\" data-toc-modified-id=\"Удаление-ненужных-признаков-1.3.1\"><span class=\"toc-item-num\">1.3.1&nbsp;&nbsp;</span>Удаление ненужных признаков</a></span></li><li><span><a href=\"#Прямое-кодирование\" data-toc-modified-id=\"Прямое-кодирование-1.3.2\"><span class=\"toc-item-num\">1.3.2&nbsp;&nbsp;</span>Прямое кодирование</a></span></li><li><span><a href=\"#Разделение-на-обучающую,-валидационную-и-тестовую-выборки\" data-toc-modified-id=\"Разделение-на-обучающую,-валидационную-и-тестовую-выборки-1.3.3\"><span class=\"toc-item-num\">1.3.3&nbsp;&nbsp;</span>Разделение на обучающую, валидационную и тестовую выборки</a></span></li><li><span><a href=\"#Масштабирование-признаков\" data-toc-modified-id=\"Масштабирование-признаков-1.3.4\"><span class=\"toc-item-num\">1.3.4&nbsp;&nbsp;</span>Масштабирование признаков</a></span></li></ul></li></ul></li><li><span><a href=\"#Исследование-задачи\" data-toc-modified-id=\"Исследование-задачи-2\"><span class=\"toc-item-num\">2&nbsp;&nbsp;</span>Исследование задачи</a></span><ul class=\"toc-item\"><li><span><a href=\"#Логистическая-регрессия\" data-toc-modified-id=\"Логистическая-регрессия-2.1\"><span class=\"toc-item-num\">2.1&nbsp;&nbsp;</span>Логистическая регрессия</a></span></li><li><span><a href=\"#Дерево-решений\" data-toc-modified-id=\"Дерево-решений-2.2\"><span class=\"toc-item-num\">2.2&nbsp;&nbsp;</span>Дерево решений</a></span></li><li><span><a href=\"#Случайный-лес\" data-toc-modified-id=\"Случайный-лес-2.3\"><span class=\"toc-item-num\">2.3&nbsp;&nbsp;</span>Случайный лес</a></span></li></ul></li><li><span><a href=\"#Борьба-с-дисбалансом\" data-toc-modified-id=\"Борьба-с-дисбалансом-3\"><span class=\"toc-item-num\">3&nbsp;&nbsp;</span>Борьба с дисбалансом</a></span><ul class=\"toc-item\"><li><span><a href=\"#Взвешивание-классов\" data-toc-modified-id=\"Взвешивание-классов-3.1\"><span class=\"toc-item-num\">3.1&nbsp;&nbsp;</span>Взвешивание классов</a></span><ul class=\"toc-item\"><li><span><a href=\"#Логистическая-регрессия\" data-toc-modified-id=\"Логистическая-регрессия-3.1.1\"><span class=\"toc-item-num\">3.1.1&nbsp;&nbsp;</span>Логистическая регрессия</a></span></li><li><span><a href=\"#Дерево-решений\" data-toc-modified-id=\"Дерево-решений-3.1.2\"><span class=\"toc-item-num\">3.1.2&nbsp;&nbsp;</span>Дерево решений</a></span></li><li><span><a href=\"#Случайный-лес\" data-toc-modified-id=\"Случайный-лес-3.1.3\"><span class=\"toc-item-num\">3.1.3&nbsp;&nbsp;</span>Случайный лес</a></span></li></ul></li><li><span><a href=\"#Увеличение-выборки\" data-toc-modified-id=\"Увеличение-выборки-3.2\"><span class=\"toc-item-num\">3.2&nbsp;&nbsp;</span>Увеличение выборки</a></span><ul class=\"toc-item\"><li><span><a href=\"#Логистическая-регрессия\" data-toc-modified-id=\"Логистическая-регрессия-3.2.1\"><span class=\"toc-item-num\">3.2.1&nbsp;&nbsp;</span>Логистическая регрессия</a></span></li><li><span><a href=\"#Дерево-решений\" data-toc-modified-id=\"Дерево-решений-3.2.2\"><span class=\"toc-item-num\">3.2.2&nbsp;&nbsp;</span>Дерево решений</a></span></li><li><span><a href=\"#Случайный-лес\" data-toc-modified-id=\"Случайный-лес-3.2.3\"><span class=\"toc-item-num\">3.2.3&nbsp;&nbsp;</span>Случайный лес</a></span></li></ul></li><li><span><a href=\"#Вывод\" data-toc-modified-id=\"Вывод-3.3\"><span class=\"toc-item-num\">3.3&nbsp;&nbsp;</span>Вывод</a></span></li></ul></li><li><span><a href=\"#Тестирование-модели\" data-toc-modified-id=\"Тестирование-модели-4\"><span class=\"toc-item-num\">4&nbsp;&nbsp;</span>Тестирование модели</a></span></li></ul></div>"
   ]
  },
  {
   "cell_type": "markdown",
   "metadata": {},
   "source": [
    "# Отток клиентов"
   ]
  },
  {
   "cell_type": "markdown",
   "metadata": {},
   "source": [
    "Из «Бета-Банка» стали уходить клиенты. Каждый месяц. Немного, но заметно. Банковские маркетологи посчитали: сохранять текущих клиентов дешевле, чем привлекать новых.\n",
    "\n",
    "Нужно спрогнозировать, уйдёт клиент из банка в ближайшее время или нет. Вам предоставлены исторические данные о поведении клиентов и расторжении договоров с банком. \n",
    "\n",
    "Постройте модель с предельно большим значением *F1*-меры. Чтобы сдать проект успешно, нужно довести метрику до 0.59. Проверьте *F1*-меру на тестовой выборке самостоятельно.\n",
    "\n",
    "Дополнительно измеряйте *AUC-ROC*, сравнивайте её значение с *F1*-мерой.\n",
    "\n",
    "Источник данных: [https://www.kaggle.com/barelydedicated/bank-customer-churn-modeling](https://www.kaggle.com/barelydedicated/bank-customer-churn-modeling)"
   ]
  },
  {
   "cell_type": "markdown",
   "metadata": {},
   "source": [
    "# Инструкция по выполнению проекта"
   ]
  },
  {
   "cell_type": "markdown",
   "metadata": {},
   "source": [
    "1. Загрузите и подготовьте данные. Поясните порядок действий.\n",
    "2. Исследуйте баланс классов, обучите модель без учёта дисбаланса. Кратко опишите выводы.\n",
    "3. Улучшите качество модели, учитывая дисбаланс классов. Обучите разные модели и найдите лучшую. Кратко опишите выводы.\n",
    "4. Проведите финальное тестирование."
   ]
  },
  {
   "cell_type": "markdown",
   "metadata": {},
   "source": [
    "# Признаки"
   ]
  },
  {
   "cell_type": "markdown",
   "metadata": {},
   "source": [
    "RowNumber — индекс строки в данных  \n",
    "CustomerId — уникальный идентификатор клиента  \n",
    "Surname — фамилия  \n",
    "CreditScore — кредитный рейтинг  \n",
    "Geography — страна проживания  \n",
    "Gender — пол  \n",
    "Age — возраст  \n",
    "Tenure — сколько лет человек является клиентом банка  \n",
    "Balance — баланс на счёте  \n",
    "NumOfProducts — количество продуктов банка, используемых клиентом  \n",
    "HasCrCard — наличие кредитной карты  \n",
    "IsActiveMember — активность клиента  \n",
    "EstimatedSalary — предполагаемая зарплата  "
   ]
  },
  {
   "cell_type": "markdown",
   "metadata": {},
   "source": [
    "## Подготовка данных"
   ]
  },
  {
   "cell_type": "markdown",
   "metadata": {},
   "source": [
    "### Изучение данных"
   ]
  },
  {
   "cell_type": "code",
   "execution_count": 1,
   "metadata": {},
   "outputs": [],
   "source": [
    "from sklearn.linear_model import LogisticRegression\n",
    "import warnings\n",
    "from sklearn.utils import shuffle\n",
    "from sklearn.model_selection import train_test_split\n",
    "from sklearn.ensemble import RandomForestClassifier\n",
    "from sklearn.tree import DecisionTreeClassifier\n",
    "from sklearn.metrics import f1_score, confusion_matrix, recall_score, precision_score\n",
    "from sklearn.preprocessing import StandardScaler\n",
    "import matplotlib.pyplot as plt\n",
    "import pandas as pd\n",
    "pd.options.display.max_columns = None\n",
    "pd.options.mode.chained_assignment = None\n",
    "warnings.filterwarnings(\"ignore\")"
   ]
  },
  {
   "cell_type": "code",
   "execution_count": 2,
   "metadata": {},
   "outputs": [],
   "source": [
    "df = pd.read_csv('/datasets/Churn.csv')\n",
    "df = df.drop('RowNumber', axis=1)\n",
    "df.columns = df.columns.str.lower()"
   ]
  },
  {
   "cell_type": "code",
   "execution_count": 3,
   "metadata": {
    "scrolled": true
   },
   "outputs": [
    {
     "name": "stdout",
     "output_type": "stream",
     "text": [
      "<class 'pandas.core.frame.DataFrame'>\n",
      "RangeIndex: 10000 entries, 0 to 9999\n",
      "Data columns (total 13 columns):\n",
      "customerid         10000 non-null int64\n",
      "surname            10000 non-null object\n",
      "creditscore        10000 non-null int64\n",
      "geography          10000 non-null object\n",
      "gender             10000 non-null object\n",
      "age                10000 non-null int64\n",
      "tenure             9091 non-null float64\n",
      "balance            10000 non-null float64\n",
      "numofproducts      10000 non-null int64\n",
      "hascrcard          10000 non-null int64\n",
      "isactivemember     10000 non-null int64\n",
      "estimatedsalary    10000 non-null float64\n",
      "exited             10000 non-null int64\n",
      "dtypes: float64(3), int64(7), object(3)\n",
      "memory usage: 1015.8+ KB\n"
     ]
    }
   ],
   "source": [
    "df.info()"
   ]
  },
  {
   "cell_type": "markdown",
   "metadata": {},
   "source": [
    "Обращает на себя внимание отсутствие данных о длительности существования клиента (tenure) по 909 клиентам.\n",
    "Для столбцов geography, gender можно осуществить прямое кодирование.\n",
    "Стобцам hascard, isactivemember, exited можно предать булев тип (но не нужно)."
   ]
  },
  {
   "cell_type": "code",
   "execution_count": 4,
   "metadata": {},
   "outputs": [
    {
     "data": {
      "text/html": [
       "<div>\n",
       "<style scoped>\n",
       "    .dataframe tbody tr th:only-of-type {\n",
       "        vertical-align: middle;\n",
       "    }\n",
       "\n",
       "    .dataframe tbody tr th {\n",
       "        vertical-align: top;\n",
       "    }\n",
       "\n",
       "    .dataframe thead th {\n",
       "        text-align: right;\n",
       "    }\n",
       "</style>\n",
       "<table border=\"1\" class=\"dataframe\">\n",
       "  <thead>\n",
       "    <tr style=\"text-align: right;\">\n",
       "      <th></th>\n",
       "      <th>customerid</th>\n",
       "      <th>surname</th>\n",
       "      <th>creditscore</th>\n",
       "      <th>geography</th>\n",
       "      <th>gender</th>\n",
       "      <th>age</th>\n",
       "      <th>tenure</th>\n",
       "      <th>balance</th>\n",
       "      <th>numofproducts</th>\n",
       "      <th>hascrcard</th>\n",
       "      <th>isactivemember</th>\n",
       "      <th>estimatedsalary</th>\n",
       "      <th>exited</th>\n",
       "    </tr>\n",
       "  </thead>\n",
       "  <tbody>\n",
       "    <tr>\n",
       "      <td>0</td>\n",
       "      <td>15634602</td>\n",
       "      <td>Hargrave</td>\n",
       "      <td>619</td>\n",
       "      <td>France</td>\n",
       "      <td>Female</td>\n",
       "      <td>42</td>\n",
       "      <td>2.0</td>\n",
       "      <td>0.00</td>\n",
       "      <td>1</td>\n",
       "      <td>1</td>\n",
       "      <td>1</td>\n",
       "      <td>101348.88</td>\n",
       "      <td>1</td>\n",
       "    </tr>\n",
       "    <tr>\n",
       "      <td>1</td>\n",
       "      <td>15647311</td>\n",
       "      <td>Hill</td>\n",
       "      <td>608</td>\n",
       "      <td>Spain</td>\n",
       "      <td>Female</td>\n",
       "      <td>41</td>\n",
       "      <td>1.0</td>\n",
       "      <td>83807.86</td>\n",
       "      <td>1</td>\n",
       "      <td>0</td>\n",
       "      <td>1</td>\n",
       "      <td>112542.58</td>\n",
       "      <td>0</td>\n",
       "    </tr>\n",
       "    <tr>\n",
       "      <td>2</td>\n",
       "      <td>15619304</td>\n",
       "      <td>Onio</td>\n",
       "      <td>502</td>\n",
       "      <td>France</td>\n",
       "      <td>Female</td>\n",
       "      <td>42</td>\n",
       "      <td>8.0</td>\n",
       "      <td>159660.80</td>\n",
       "      <td>3</td>\n",
       "      <td>1</td>\n",
       "      <td>0</td>\n",
       "      <td>113931.57</td>\n",
       "      <td>1</td>\n",
       "    </tr>\n",
       "    <tr>\n",
       "      <td>3</td>\n",
       "      <td>15701354</td>\n",
       "      <td>Boni</td>\n",
       "      <td>699</td>\n",
       "      <td>France</td>\n",
       "      <td>Female</td>\n",
       "      <td>39</td>\n",
       "      <td>1.0</td>\n",
       "      <td>0.00</td>\n",
       "      <td>2</td>\n",
       "      <td>0</td>\n",
       "      <td>0</td>\n",
       "      <td>93826.63</td>\n",
       "      <td>0</td>\n",
       "    </tr>\n",
       "    <tr>\n",
       "      <td>4</td>\n",
       "      <td>15737888</td>\n",
       "      <td>Mitchell</td>\n",
       "      <td>850</td>\n",
       "      <td>Spain</td>\n",
       "      <td>Female</td>\n",
       "      <td>43</td>\n",
       "      <td>2.0</td>\n",
       "      <td>125510.82</td>\n",
       "      <td>1</td>\n",
       "      <td>1</td>\n",
       "      <td>1</td>\n",
       "      <td>79084.10</td>\n",
       "      <td>0</td>\n",
       "    </tr>\n",
       "  </tbody>\n",
       "</table>\n",
       "</div>"
      ],
      "text/plain": [
       "   customerid   surname  creditscore geography  gender  age  tenure  \\\n",
       "0    15634602  Hargrave          619    France  Female   42     2.0   \n",
       "1    15647311      Hill          608     Spain  Female   41     1.0   \n",
       "2    15619304      Onio          502    France  Female   42     8.0   \n",
       "3    15701354      Boni          699    France  Female   39     1.0   \n",
       "4    15737888  Mitchell          850     Spain  Female   43     2.0   \n",
       "\n",
       "     balance  numofproducts  hascrcard  isactivemember  estimatedsalary  \\\n",
       "0       0.00              1          1               1        101348.88   \n",
       "1   83807.86              1          0               1        112542.58   \n",
       "2  159660.80              3          1               0        113931.57   \n",
       "3       0.00              2          0               0         93826.63   \n",
       "4  125510.82              1          1               1         79084.10   \n",
       "\n",
       "   exited  \n",
       "0       1  \n",
       "1       0  \n",
       "2       1  \n",
       "3       0  \n",
       "4       0  "
      ]
     },
     "metadata": {},
     "output_type": "display_data"
    }
   ],
   "source": [
    "display(df.head())"
   ]
  },
  {
   "cell_type": "code",
   "execution_count": 5,
   "metadata": {
    "scrolled": false
   },
   "outputs": [
    {
     "data": {
      "text/html": [
       "<div>\n",
       "<style scoped>\n",
       "    .dataframe tbody tr th:only-of-type {\n",
       "        vertical-align: middle;\n",
       "    }\n",
       "\n",
       "    .dataframe tbody tr th {\n",
       "        vertical-align: top;\n",
       "    }\n",
       "\n",
       "    .dataframe thead th {\n",
       "        text-align: right;\n",
       "    }\n",
       "</style>\n",
       "<table border=\"1\" class=\"dataframe\">\n",
       "  <thead>\n",
       "    <tr style=\"text-align: right;\">\n",
       "      <th></th>\n",
       "      <th>customerid</th>\n",
       "      <th>creditscore</th>\n",
       "      <th>age</th>\n",
       "      <th>tenure</th>\n",
       "      <th>balance</th>\n",
       "      <th>numofproducts</th>\n",
       "      <th>hascrcard</th>\n",
       "      <th>isactivemember</th>\n",
       "      <th>estimatedsalary</th>\n",
       "      <th>exited</th>\n",
       "    </tr>\n",
       "  </thead>\n",
       "  <tbody>\n",
       "    <tr>\n",
       "      <td>count</td>\n",
       "      <td>10000.0000</td>\n",
       "      <td>10000.0000</td>\n",
       "      <td>10000.0000</td>\n",
       "      <td>9091.0000</td>\n",
       "      <td>10000.0000</td>\n",
       "      <td>10000.0000</td>\n",
       "      <td>10000.0000</td>\n",
       "      <td>10000.0000</td>\n",
       "      <td>10000.0000</td>\n",
       "      <td>10000.0000</td>\n",
       "    </tr>\n",
       "    <tr>\n",
       "      <td>mean</td>\n",
       "      <td>15690940.5694</td>\n",
       "      <td>650.5288</td>\n",
       "      <td>38.9218</td>\n",
       "      <td>4.9977</td>\n",
       "      <td>76485.8893</td>\n",
       "      <td>1.5302</td>\n",
       "      <td>0.7055</td>\n",
       "      <td>0.5151</td>\n",
       "      <td>100090.2399</td>\n",
       "      <td>0.2037</td>\n",
       "    </tr>\n",
       "    <tr>\n",
       "      <td>std</td>\n",
       "      <td>71936.1861</td>\n",
       "      <td>96.6533</td>\n",
       "      <td>10.4878</td>\n",
       "      <td>2.8947</td>\n",
       "      <td>62397.4052</td>\n",
       "      <td>0.5817</td>\n",
       "      <td>0.4558</td>\n",
       "      <td>0.4998</td>\n",
       "      <td>57510.4928</td>\n",
       "      <td>0.4028</td>\n",
       "    </tr>\n",
       "    <tr>\n",
       "      <td>min</td>\n",
       "      <td>15565701.0000</td>\n",
       "      <td>350.0000</td>\n",
       "      <td>18.0000</td>\n",
       "      <td>0.0000</td>\n",
       "      <td>0.0000</td>\n",
       "      <td>1.0000</td>\n",
       "      <td>0.0000</td>\n",
       "      <td>0.0000</td>\n",
       "      <td>11.5800</td>\n",
       "      <td>0.0000</td>\n",
       "    </tr>\n",
       "    <tr>\n",
       "      <td>25%</td>\n",
       "      <td>15628528.2500</td>\n",
       "      <td>584.0000</td>\n",
       "      <td>32.0000</td>\n",
       "      <td>2.0000</td>\n",
       "      <td>0.0000</td>\n",
       "      <td>1.0000</td>\n",
       "      <td>0.0000</td>\n",
       "      <td>0.0000</td>\n",
       "      <td>51002.1100</td>\n",
       "      <td>0.0000</td>\n",
       "    </tr>\n",
       "    <tr>\n",
       "      <td>50%</td>\n",
       "      <td>15690738.0000</td>\n",
       "      <td>652.0000</td>\n",
       "      <td>37.0000</td>\n",
       "      <td>5.0000</td>\n",
       "      <td>97198.5400</td>\n",
       "      <td>1.0000</td>\n",
       "      <td>1.0000</td>\n",
       "      <td>1.0000</td>\n",
       "      <td>100193.9150</td>\n",
       "      <td>0.0000</td>\n",
       "    </tr>\n",
       "    <tr>\n",
       "      <td>75%</td>\n",
       "      <td>15753233.7500</td>\n",
       "      <td>718.0000</td>\n",
       "      <td>44.0000</td>\n",
       "      <td>7.0000</td>\n",
       "      <td>127644.2400</td>\n",
       "      <td>2.0000</td>\n",
       "      <td>1.0000</td>\n",
       "      <td>1.0000</td>\n",
       "      <td>149388.2475</td>\n",
       "      <td>0.0000</td>\n",
       "    </tr>\n",
       "    <tr>\n",
       "      <td>max</td>\n",
       "      <td>15815690.0000</td>\n",
       "      <td>850.0000</td>\n",
       "      <td>92.0000</td>\n",
       "      <td>10.0000</td>\n",
       "      <td>250898.0900</td>\n",
       "      <td>4.0000</td>\n",
       "      <td>1.0000</td>\n",
       "      <td>1.0000</td>\n",
       "      <td>199992.4800</td>\n",
       "      <td>1.0000</td>\n",
       "    </tr>\n",
       "  </tbody>\n",
       "</table>\n",
       "</div>"
      ],
      "text/plain": [
       "         customerid  creditscore        age    tenure     balance  \\\n",
       "count    10000.0000   10000.0000 10000.0000 9091.0000  10000.0000   \n",
       "mean  15690940.5694     650.5288    38.9218    4.9977  76485.8893   \n",
       "std      71936.1861      96.6533    10.4878    2.8947  62397.4052   \n",
       "min   15565701.0000     350.0000    18.0000    0.0000      0.0000   \n",
       "25%   15628528.2500     584.0000    32.0000    2.0000      0.0000   \n",
       "50%   15690738.0000     652.0000    37.0000    5.0000  97198.5400   \n",
       "75%   15753233.7500     718.0000    44.0000    7.0000 127644.2400   \n",
       "max   15815690.0000     850.0000    92.0000   10.0000 250898.0900   \n",
       "\n",
       "       numofproducts  hascrcard  isactivemember  estimatedsalary     exited  \n",
       "count     10000.0000 10000.0000      10000.0000       10000.0000 10000.0000  \n",
       "mean          1.5302     0.7055          0.5151      100090.2399     0.2037  \n",
       "std           0.5817     0.4558          0.4998       57510.4928     0.4028  \n",
       "min           1.0000     0.0000          0.0000          11.5800     0.0000  \n",
       "25%           1.0000     0.0000          0.0000       51002.1100     0.0000  \n",
       "50%           1.0000     1.0000          1.0000      100193.9150     0.0000  \n",
       "75%           2.0000     1.0000          1.0000      149388.2475     0.0000  \n",
       "max           4.0000     1.0000          1.0000      199992.4800     1.0000  "
      ]
     },
     "metadata": {},
     "output_type": "display_data"
    }
   ],
   "source": [
    "pd.set_option('display.float_format', lambda x: '%.4f' % x)\n",
    "display(df.describe())"
   ]
  },
  {
   "cell_type": "markdown",
   "metadata": {},
   "source": [
    "Никаких явных искажений не наблюдается.  \n",
    "20% выборки перестали пользоваться услугами банка. Это, конечно, много. \n",
    "Это и отражает баланс классов."
   ]
  },
  {
   "cell_type": "code",
   "execution_count": 6,
   "metadata": {
    "scrolled": true
   },
   "outputs": [
    {
     "data": {
      "text/html": [
       "<div>\n",
       "<style scoped>\n",
       "    .dataframe tbody tr th:only-of-type {\n",
       "        vertical-align: middle;\n",
       "    }\n",
       "\n",
       "    .dataframe tbody tr th {\n",
       "        vertical-align: top;\n",
       "    }\n",
       "\n",
       "    .dataframe thead th {\n",
       "        text-align: right;\n",
       "    }\n",
       "</style>\n",
       "<table border=\"1\" class=\"dataframe\">\n",
       "  <thead>\n",
       "    <tr style=\"text-align: right;\">\n",
       "      <th></th>\n",
       "      <th>customerid</th>\n",
       "      <th>creditscore</th>\n",
       "      <th>age</th>\n",
       "      <th>tenure</th>\n",
       "      <th>balance</th>\n",
       "      <th>numofproducts</th>\n",
       "      <th>hascrcard</th>\n",
       "      <th>isactivemember</th>\n",
       "      <th>estimatedsalary</th>\n",
       "      <th>exited</th>\n",
       "    </tr>\n",
       "  </thead>\n",
       "  <tbody>\n",
       "    <tr>\n",
       "      <td>customerid</td>\n",
       "      <td>1.0000</td>\n",
       "      <td>0.0053</td>\n",
       "      <td>0.0095</td>\n",
       "      <td>-0.0214</td>\n",
       "      <td>-0.0124</td>\n",
       "      <td>0.0170</td>\n",
       "      <td>-0.0140</td>\n",
       "      <td>0.0017</td>\n",
       "      <td>0.0153</td>\n",
       "      <td>-0.0062</td>\n",
       "    </tr>\n",
       "    <tr>\n",
       "      <td>creditscore</td>\n",
       "      <td>0.0053</td>\n",
       "      <td>1.0000</td>\n",
       "      <td>-0.0040</td>\n",
       "      <td>-0.0001</td>\n",
       "      <td>0.0063</td>\n",
       "      <td>0.0122</td>\n",
       "      <td>-0.0055</td>\n",
       "      <td>0.0257</td>\n",
       "      <td>-0.0014</td>\n",
       "      <td>-0.0271</td>\n",
       "    </tr>\n",
       "    <tr>\n",
       "      <td>age</td>\n",
       "      <td>0.0095</td>\n",
       "      <td>-0.0040</td>\n",
       "      <td>1.0000</td>\n",
       "      <td>-0.0131</td>\n",
       "      <td>0.0283</td>\n",
       "      <td>-0.0307</td>\n",
       "      <td>-0.0117</td>\n",
       "      <td>0.0855</td>\n",
       "      <td>-0.0072</td>\n",
       "      <td>0.2853</td>\n",
       "    </tr>\n",
       "    <tr>\n",
       "      <td>tenure</td>\n",
       "      <td>-0.0214</td>\n",
       "      <td>-0.0001</td>\n",
       "      <td>-0.0131</td>\n",
       "      <td>1.0000</td>\n",
       "      <td>-0.0079</td>\n",
       "      <td>0.0120</td>\n",
       "      <td>0.0272</td>\n",
       "      <td>-0.0322</td>\n",
       "      <td>0.0105</td>\n",
       "      <td>-0.0168</td>\n",
       "    </tr>\n",
       "    <tr>\n",
       "      <td>balance</td>\n",
       "      <td>-0.0124</td>\n",
       "      <td>0.0063</td>\n",
       "      <td>0.0283</td>\n",
       "      <td>-0.0079</td>\n",
       "      <td>1.0000</td>\n",
       "      <td>-0.3042</td>\n",
       "      <td>-0.0149</td>\n",
       "      <td>-0.0101</td>\n",
       "      <td>0.0128</td>\n",
       "      <td>0.1185</td>\n",
       "    </tr>\n",
       "    <tr>\n",
       "      <td>numofproducts</td>\n",
       "      <td>0.0170</td>\n",
       "      <td>0.0122</td>\n",
       "      <td>-0.0307</td>\n",
       "      <td>0.0120</td>\n",
       "      <td>-0.3042</td>\n",
       "      <td>1.0000</td>\n",
       "      <td>0.0032</td>\n",
       "      <td>0.0096</td>\n",
       "      <td>0.0142</td>\n",
       "      <td>-0.0478</td>\n",
       "    </tr>\n",
       "    <tr>\n",
       "      <td>hascrcard</td>\n",
       "      <td>-0.0140</td>\n",
       "      <td>-0.0055</td>\n",
       "      <td>-0.0117</td>\n",
       "      <td>0.0272</td>\n",
       "      <td>-0.0149</td>\n",
       "      <td>0.0032</td>\n",
       "      <td>1.0000</td>\n",
       "      <td>-0.0119</td>\n",
       "      <td>-0.0099</td>\n",
       "      <td>-0.0071</td>\n",
       "    </tr>\n",
       "    <tr>\n",
       "      <td>isactivemember</td>\n",
       "      <td>0.0017</td>\n",
       "      <td>0.0257</td>\n",
       "      <td>0.0855</td>\n",
       "      <td>-0.0322</td>\n",
       "      <td>-0.0101</td>\n",
       "      <td>0.0096</td>\n",
       "      <td>-0.0119</td>\n",
       "      <td>1.0000</td>\n",
       "      <td>-0.0114</td>\n",
       "      <td>-0.1561</td>\n",
       "    </tr>\n",
       "    <tr>\n",
       "      <td>estimatedsalary</td>\n",
       "      <td>0.0153</td>\n",
       "      <td>-0.0014</td>\n",
       "      <td>-0.0072</td>\n",
       "      <td>0.0105</td>\n",
       "      <td>0.0128</td>\n",
       "      <td>0.0142</td>\n",
       "      <td>-0.0099</td>\n",
       "      <td>-0.0114</td>\n",
       "      <td>1.0000</td>\n",
       "      <td>0.0121</td>\n",
       "    </tr>\n",
       "    <tr>\n",
       "      <td>exited</td>\n",
       "      <td>-0.0062</td>\n",
       "      <td>-0.0271</td>\n",
       "      <td>0.2853</td>\n",
       "      <td>-0.0168</td>\n",
       "      <td>0.1185</td>\n",
       "      <td>-0.0478</td>\n",
       "      <td>-0.0071</td>\n",
       "      <td>-0.1561</td>\n",
       "      <td>0.0121</td>\n",
       "      <td>1.0000</td>\n",
       "    </tr>\n",
       "  </tbody>\n",
       "</table>\n",
       "</div>"
      ],
      "text/plain": [
       "                 customerid  creditscore     age  tenure  balance  \\\n",
       "customerid           1.0000       0.0053  0.0095 -0.0214  -0.0124   \n",
       "creditscore          0.0053       1.0000 -0.0040 -0.0001   0.0063   \n",
       "age                  0.0095      -0.0040  1.0000 -0.0131   0.0283   \n",
       "tenure              -0.0214      -0.0001 -0.0131  1.0000  -0.0079   \n",
       "balance             -0.0124       0.0063  0.0283 -0.0079   1.0000   \n",
       "numofproducts        0.0170       0.0122 -0.0307  0.0120  -0.3042   \n",
       "hascrcard           -0.0140      -0.0055 -0.0117  0.0272  -0.0149   \n",
       "isactivemember       0.0017       0.0257  0.0855 -0.0322  -0.0101   \n",
       "estimatedsalary      0.0153      -0.0014 -0.0072  0.0105   0.0128   \n",
       "exited              -0.0062      -0.0271  0.2853 -0.0168   0.1185   \n",
       "\n",
       "                 numofproducts  hascrcard  isactivemember  estimatedsalary  \\\n",
       "customerid              0.0170    -0.0140          0.0017           0.0153   \n",
       "creditscore             0.0122    -0.0055          0.0257          -0.0014   \n",
       "age                    -0.0307    -0.0117          0.0855          -0.0072   \n",
       "tenure                  0.0120     0.0272         -0.0322           0.0105   \n",
       "balance                -0.3042    -0.0149         -0.0101           0.0128   \n",
       "numofproducts           1.0000     0.0032          0.0096           0.0142   \n",
       "hascrcard               0.0032     1.0000         -0.0119          -0.0099   \n",
       "isactivemember          0.0096    -0.0119          1.0000          -0.0114   \n",
       "estimatedsalary         0.0142    -0.0099         -0.0114           1.0000   \n",
       "exited                 -0.0478    -0.0071         -0.1561           0.0121   \n",
       "\n",
       "                 exited  \n",
       "customerid      -0.0062  \n",
       "creditscore     -0.0271  \n",
       "age              0.2853  \n",
       "tenure          -0.0168  \n",
       "balance          0.1185  \n",
       "numofproducts   -0.0478  \n",
       "hascrcard       -0.0071  \n",
       "isactivemember  -0.1561  \n",
       "estimatedsalary  0.0121  \n",
       "exited           1.0000  "
      ]
     },
     "metadata": {},
     "output_type": "display_data"
    }
   ],
   "source": [
    "display(df.corr())"
   ]
  },
  {
   "cell_type": "markdown",
   "metadata": {},
   "source": [
    "Предварительно можно отметить, что самая большая корреляция с оттоком клиентов у следующих признаков (в порядке убывания):  \n",
    "- возраст\n",
    "- активность клиента (связь обратнопропорциональная)\n",
    "- баланс"
   ]
  },
  {
   "cell_type": "markdown",
   "metadata": {},
   "source": [
    "### Предобратка данных"
   ]
  },
  {
   "cell_type": "markdown",
   "metadata": {},
   "source": [
    "#### Дубликаты"
   ]
  },
  {
   "cell_type": "code",
   "execution_count": 7,
   "metadata": {
    "scrolled": true
   },
   "outputs": [
    {
     "data": {
      "text/plain": [
       "0"
      ]
     },
     "execution_count": 7,
     "metadata": {},
     "output_type": "execute_result"
    }
   ],
   "source": [
    "df.duplicated().sum()"
   ]
  },
  {
   "cell_type": "markdown",
   "metadata": {},
   "source": [
    "#### Пропуски"
   ]
  },
  {
   "cell_type": "code",
   "execution_count": 8,
   "metadata": {
    "scrolled": true
   },
   "outputs": [
    {
     "data": {
      "text/html": [
       "<div>\n",
       "<style scoped>\n",
       "    .dataframe tbody tr th:only-of-type {\n",
       "        vertical-align: middle;\n",
       "    }\n",
       "\n",
       "    .dataframe tbody tr th {\n",
       "        vertical-align: top;\n",
       "    }\n",
       "\n",
       "    .dataframe thead th {\n",
       "        text-align: right;\n",
       "    }\n",
       "</style>\n",
       "<table border=\"1\" class=\"dataframe\">\n",
       "  <thead>\n",
       "    <tr style=\"text-align: right;\">\n",
       "      <th></th>\n",
       "      <th>customerid</th>\n",
       "      <th>surname</th>\n",
       "      <th>creditscore</th>\n",
       "      <th>geography</th>\n",
       "      <th>gender</th>\n",
       "      <th>age</th>\n",
       "      <th>tenure</th>\n",
       "      <th>balance</th>\n",
       "      <th>numofproducts</th>\n",
       "      <th>hascrcard</th>\n",
       "      <th>isactivemember</th>\n",
       "      <th>estimatedsalary</th>\n",
       "      <th>exited</th>\n",
       "    </tr>\n",
       "  </thead>\n",
       "  <tbody>\n",
       "    <tr>\n",
       "      <td>30</td>\n",
       "      <td>15589475</td>\n",
       "      <td>Azikiwe</td>\n",
       "      <td>591</td>\n",
       "      <td>Spain</td>\n",
       "      <td>Female</td>\n",
       "      <td>39</td>\n",
       "      <td>nan</td>\n",
       "      <td>0.0000</td>\n",
       "      <td>3</td>\n",
       "      <td>1</td>\n",
       "      <td>0</td>\n",
       "      <td>140469.3800</td>\n",
       "      <td>1</td>\n",
       "    </tr>\n",
       "    <tr>\n",
       "      <td>48</td>\n",
       "      <td>15766205</td>\n",
       "      <td>Yin</td>\n",
       "      <td>550</td>\n",
       "      <td>Germany</td>\n",
       "      <td>Male</td>\n",
       "      <td>38</td>\n",
       "      <td>nan</td>\n",
       "      <td>103391.3800</td>\n",
       "      <td>1</td>\n",
       "      <td>0</td>\n",
       "      <td>1</td>\n",
       "      <td>90878.1300</td>\n",
       "      <td>0</td>\n",
       "    </tr>\n",
       "    <tr>\n",
       "      <td>51</td>\n",
       "      <td>15768193</td>\n",
       "      <td>Trevisani</td>\n",
       "      <td>585</td>\n",
       "      <td>Germany</td>\n",
       "      <td>Male</td>\n",
       "      <td>36</td>\n",
       "      <td>nan</td>\n",
       "      <td>146050.9700</td>\n",
       "      <td>2</td>\n",
       "      <td>0</td>\n",
       "      <td>0</td>\n",
       "      <td>86424.5700</td>\n",
       "      <td>0</td>\n",
       "    </tr>\n",
       "    <tr>\n",
       "      <td>53</td>\n",
       "      <td>15702298</td>\n",
       "      <td>Parkhill</td>\n",
       "      <td>655</td>\n",
       "      <td>Germany</td>\n",
       "      <td>Male</td>\n",
       "      <td>41</td>\n",
       "      <td>nan</td>\n",
       "      <td>125561.9700</td>\n",
       "      <td>1</td>\n",
       "      <td>0</td>\n",
       "      <td>0</td>\n",
       "      <td>164040.9400</td>\n",
       "      <td>1</td>\n",
       "    </tr>\n",
       "    <tr>\n",
       "      <td>60</td>\n",
       "      <td>15651280</td>\n",
       "      <td>Hunter</td>\n",
       "      <td>742</td>\n",
       "      <td>Germany</td>\n",
       "      <td>Male</td>\n",
       "      <td>35</td>\n",
       "      <td>nan</td>\n",
       "      <td>136857.0000</td>\n",
       "      <td>1</td>\n",
       "      <td>0</td>\n",
       "      <td>0</td>\n",
       "      <td>84509.5700</td>\n",
       "      <td>0</td>\n",
       "    </tr>\n",
       "  </tbody>\n",
       "</table>\n",
       "</div>"
      ],
      "text/plain": [
       "    customerid    surname  creditscore geography  gender  age  tenure  \\\n",
       "30    15589475    Azikiwe          591     Spain  Female   39     nan   \n",
       "48    15766205        Yin          550   Germany    Male   38     nan   \n",
       "51    15768193  Trevisani          585   Germany    Male   36     nan   \n",
       "53    15702298   Parkhill          655   Germany    Male   41     nan   \n",
       "60    15651280     Hunter          742   Germany    Male   35     nan   \n",
       "\n",
       "       balance  numofproducts  hascrcard  isactivemember  estimatedsalary  \\\n",
       "30      0.0000              3          1               0      140469.3800   \n",
       "48 103391.3800              1          0               1       90878.1300   \n",
       "51 146050.9700              2          0               0       86424.5700   \n",
       "53 125561.9700              1          0               0      164040.9400   \n",
       "60 136857.0000              1          0               0       84509.5700   \n",
       "\n",
       "    exited  \n",
       "30       1  \n",
       "48       0  \n",
       "51       0  \n",
       "53       1  \n",
       "60       0  "
      ]
     },
     "metadata": {},
     "output_type": "display_data"
    }
   ],
   "source": [
    "display(df.query('tenure.isna()').head())"
   ]
  },
  {
   "cell_type": "code",
   "execution_count": 9,
   "metadata": {},
   "outputs": [
    {
     "data": {
      "text/html": [
       "<div>\n",
       "<style scoped>\n",
       "    .dataframe tbody tr th:only-of-type {\n",
       "        vertical-align: middle;\n",
       "    }\n",
       "\n",
       "    .dataframe tbody tr th {\n",
       "        vertical-align: top;\n",
       "    }\n",
       "\n",
       "    .dataframe thead th {\n",
       "        text-align: right;\n",
       "    }\n",
       "</style>\n",
       "<table border=\"1\" class=\"dataframe\">\n",
       "  <thead>\n",
       "    <tr style=\"text-align: right;\">\n",
       "      <th></th>\n",
       "      <th>counts</th>\n",
       "      <th>% of total</th>\n",
       "    </tr>\n",
       "  </thead>\n",
       "  <tbody>\n",
       "    <tr>\n",
       "      <td>0</td>\n",
       "      <td>726</td>\n",
       "      <td>79.8700</td>\n",
       "    </tr>\n",
       "    <tr>\n",
       "      <td>1</td>\n",
       "      <td>183</td>\n",
       "      <td>20.1300</td>\n",
       "    </tr>\n",
       "  </tbody>\n",
       "</table>\n",
       "</div>"
      ],
      "text/plain": [
       "   counts  % of total\n",
       "0     726     79.8700\n",
       "1     183     20.1300"
      ]
     },
     "metadata": {},
     "output_type": "display_data"
    }
   ],
   "source": [
    "report = df.query('tenure.isna()')['exited'].value_counts().to_frame()\n",
    "report.columns = ['counts']\n",
    "report['% of total'] = (report['counts'] * 100 /\n",
    "                        report['counts'].sum()).round(2)\n",
    "display(report)"
   ]
  },
  {
   "cell_type": "markdown",
   "metadata": {},
   "source": [
    "Целевой признак оттока exits распределен в пропусках почти так же, как в датафрейме в целом. Это позволяет нам избавиться от данных без изменения в соотношении целевого признака."
   ]
  },
  {
   "cell_type": "code",
   "execution_count": 10,
   "metadata": {
    "scrolled": true
   },
   "outputs": [
    {
     "name": "stdout",
     "output_type": "stream",
     "text": [
      "<class 'pandas.core.frame.DataFrame'>\n",
      "Int64Index: 9091 entries, 0 to 9998\n",
      "Data columns (total 13 columns):\n",
      "customerid         9091 non-null int64\n",
      "surname            9091 non-null object\n",
      "creditscore        9091 non-null int64\n",
      "geography          9091 non-null object\n",
      "gender             9091 non-null object\n",
      "age                9091 non-null int64\n",
      "tenure             9091 non-null float64\n",
      "balance            9091 non-null float64\n",
      "numofproducts      9091 non-null int64\n",
      "hascrcard          9091 non-null int64\n",
      "isactivemember     9091 non-null int64\n",
      "estimatedsalary    9091 non-null float64\n",
      "exited             9091 non-null int64\n",
      "dtypes: float64(3), int64(7), object(3)\n",
      "memory usage: 994.3+ KB\n"
     ]
    }
   ],
   "source": [
    "df = df.dropna()\n",
    "df.info()"
   ]
  },
  {
   "cell_type": "markdown",
   "metadata": {},
   "source": [
    "### Подготовка признаков"
   ]
  },
  {
   "cell_type": "markdown",
   "metadata": {},
   "source": [
    "#### Удаление ненужных признаков"
   ]
  },
  {
   "cell_type": "code",
   "execution_count": 11,
   "metadata": {},
   "outputs": [],
   "source": [
    "df = df.drop(['surname', 'customerid'], axis=1)"
   ]
  },
  {
   "cell_type": "markdown",
   "metadata": {},
   "source": [
    "#### Прямое кодирование"
   ]
  },
  {
   "cell_type": "code",
   "execution_count": 12,
   "metadata": {
    "scrolled": true
   },
   "outputs": [
    {
     "name": "stdout",
     "output_type": "stream",
     "text": [
      "<class 'pandas.core.frame.DataFrame'>\n",
      "Int64Index: 9091 entries, 0 to 9998\n",
      "Data columns (total 12 columns):\n",
      "creditscore          9091 non-null int64\n",
      "age                  9091 non-null int64\n",
      "tenure               9091 non-null float64\n",
      "balance              9091 non-null float64\n",
      "numofproducts        9091 non-null int64\n",
      "hascrcard            9091 non-null int64\n",
      "isactivemember       9091 non-null int64\n",
      "estimatedsalary      9091 non-null float64\n",
      "exited               9091 non-null int64\n",
      "geography_Germany    9091 non-null uint8\n",
      "geography_Spain      9091 non-null uint8\n",
      "gender_Male          9091 non-null uint8\n",
      "dtypes: float64(3), int64(6), uint8(3)\n",
      "memory usage: 736.9 KB\n"
     ]
    }
   ],
   "source": [
    "ohe_list = ['geography', 'gender']\n",
    "df_ohe = pd.get_dummies(df, columns=ohe_list, drop_first=True)\n",
    "df_ohe.info()"
   ]
  },
  {
   "cell_type": "markdown",
   "metadata": {},
   "source": [
    "#### Разделение на обучающую, валидационную и тестовую выборки"
   ]
  },
  {
   "cell_type": "code",
   "execution_count": 13,
   "metadata": {},
   "outputs": [
    {
     "name": "stdout",
     "output_type": "stream",
     "text": [
      "(9091, 11)\n",
      "(1819, 11)\n",
      "(7272, 11)\n",
      "(5454, 11)\n",
      "(1818, 11)\n"
     ]
    }
   ],
   "source": [
    "target = df_ohe['exited']\n",
    "features = df_ohe.drop('exited', axis=1)\n",
    "features_general, features_test, target_general, target_test = train_test_split(\n",
    "    features, target, test_size=0.20, random_state=12345)\n",
    "features_train, features_valid, target_train, target_valid = train_test_split(\n",
    "    features_general, target_general, test_size=0.25, random_state=12345)\n",
    "\n",
    "\n",
    "print(features.shape)\n",
    "print(features_test.shape)\n",
    "print(features_general.shape)\n",
    "print(features_train.shape)\n",
    "print(features_valid.shape)"
   ]
  },
  {
   "cell_type": "markdown",
   "metadata": {},
   "source": [
    "#### Масштабирование признаков"
   ]
  },
  {
   "cell_type": "code",
   "execution_count": 14,
   "metadata": {},
   "outputs": [],
   "source": [
    "numeric = ['creditscore', 'age', 'tenure',\n",
    "           'balance', 'numofproducts', 'estimatedsalary']\n",
    "\n",
    "scaler = StandardScaler()\n",
    "scaler.fit(features_train[numeric])\n",
    "\n",
    "features_train[numeric] = scaler.transform(features_train[numeric])\n",
    "features_general[numeric] = scaler.transform(features_general[numeric])\n",
    "features_valid[numeric] = scaler.transform(features_valid[numeric])\n",
    "features_test[numeric] = scaler.transform(features_test[numeric])"
   ]
  },
  {
   "cell_type": "markdown",
   "metadata": {},
   "source": [
    "## Исследование задачи"
   ]
  },
  {
   "cell_type": "code",
   "execution_count": 15,
   "metadata": {
    "scrolled": true
   },
   "outputs": [
    {
     "data": {
      "text/html": [
       "<div>\n",
       "<style scoped>\n",
       "    .dataframe tbody tr th:only-of-type {\n",
       "        vertical-align: middle;\n",
       "    }\n",
       "\n",
       "    .dataframe tbody tr th {\n",
       "        vertical-align: top;\n",
       "    }\n",
       "\n",
       "    .dataframe thead th {\n",
       "        text-align: right;\n",
       "    }\n",
       "</style>\n",
       "<table border=\"1\" class=\"dataframe\">\n",
       "  <thead>\n",
       "    <tr style=\"text-align: right;\">\n",
       "      <th></th>\n",
       "      <th>creditscore</th>\n",
       "      <th>age</th>\n",
       "      <th>tenure</th>\n",
       "      <th>balance</th>\n",
       "      <th>numofproducts</th>\n",
       "      <th>hascrcard</th>\n",
       "      <th>isactivemember</th>\n",
       "      <th>estimatedsalary</th>\n",
       "      <th>geography_Germany</th>\n",
       "      <th>geography_Spain</th>\n",
       "      <th>gender_Male</th>\n",
       "    </tr>\n",
       "  </thead>\n",
       "  <tbody>\n",
       "    <tr>\n",
       "      <td>3706</td>\n",
       "      <td>-0.2038</td>\n",
       "      <td>0.4713</td>\n",
       "      <td>0.3523</td>\n",
       "      <td>0.7860</td>\n",
       "      <td>0.7824</td>\n",
       "      <td>0</td>\n",
       "      <td>0</td>\n",
       "      <td>-0.3572</td>\n",
       "      <td>0</td>\n",
       "      <td>1</td>\n",
       "      <td>0</td>\n",
       "    </tr>\n",
       "    <tr>\n",
       "      <td>6805</td>\n",
       "      <td>-0.3575</td>\n",
       "      <td>-0.3849</td>\n",
       "      <td>-1.3735</td>\n",
       "      <td>-1.2306</td>\n",
       "      <td>0.7824</td>\n",
       "      <td>1</td>\n",
       "      <td>1</td>\n",
       "      <td>-1.6710</td>\n",
       "      <td>0</td>\n",
       "      <td>0</td>\n",
       "      <td>0</td>\n",
       "    </tr>\n",
       "    <tr>\n",
       "      <td>4449</td>\n",
       "      <td>0.1753</td>\n",
       "      <td>-0.2898</td>\n",
       "      <td>-0.6832</td>\n",
       "      <td>-1.2306</td>\n",
       "      <td>0.7824</td>\n",
       "      <td>1</td>\n",
       "      <td>0</td>\n",
       "      <td>-1.1192</td>\n",
       "      <td>0</td>\n",
       "      <td>0</td>\n",
       "      <td>1</td>\n",
       "    </tr>\n",
       "    <tr>\n",
       "      <td>598</td>\n",
       "      <td>0.3495</td>\n",
       "      <td>1.7080</td>\n",
       "      <td>0.0072</td>\n",
       "      <td>1.3795</td>\n",
       "      <td>-0.9149</td>\n",
       "      <td>0</td>\n",
       "      <td>0</td>\n",
       "      <td>-1.5691</td>\n",
       "      <td>1</td>\n",
       "      <td>0</td>\n",
       "      <td>0</td>\n",
       "    </tr>\n",
       "    <tr>\n",
       "      <td>1845</td>\n",
       "      <td>0.9028</td>\n",
       "      <td>-0.2898</td>\n",
       "      <td>1.3878</td>\n",
       "      <td>-1.2306</td>\n",
       "      <td>-0.9149</td>\n",
       "      <td>0</td>\n",
       "      <td>1</td>\n",
       "      <td>1.5438</td>\n",
       "      <td>0</td>\n",
       "      <td>0</td>\n",
       "      <td>1</td>\n",
       "    </tr>\n",
       "  </tbody>\n",
       "</table>\n",
       "</div>"
      ],
      "text/plain": [
       "      creditscore     age  tenure  balance  numofproducts  hascrcard  \\\n",
       "3706      -0.2038  0.4713  0.3523   0.7860         0.7824          0   \n",
       "6805      -0.3575 -0.3849 -1.3735  -1.2306         0.7824          1   \n",
       "4449       0.1753 -0.2898 -0.6832  -1.2306         0.7824          1   \n",
       "598        0.3495  1.7080  0.0072   1.3795        -0.9149          0   \n",
       "1845       0.9028 -0.2898  1.3878  -1.2306        -0.9149          0   \n",
       "\n",
       "      isactivemember  estimatedsalary  geography_Germany  geography_Spain  \\\n",
       "3706               0          -0.3572                  0                1   \n",
       "6805               1          -1.6710                  0                0   \n",
       "4449               0          -1.1192                  0                0   \n",
       "598                0          -1.5691                  1                0   \n",
       "1845               1           1.5438                  0                0   \n",
       "\n",
       "      gender_Male  \n",
       "3706            0  \n",
       "6805            0  \n",
       "4449            1  \n",
       "598             0  \n",
       "1845            1  "
      ]
     },
     "metadata": {},
     "output_type": "display_data"
    }
   ],
   "source": [
    "display(features_train.head())"
   ]
  },
  {
   "cell_type": "code",
   "execution_count": 16,
   "metadata": {},
   "outputs": [],
   "source": [
    "def build_model(features_train_def, target_train_def, features_valid_def, target_valid_def, type_of_model, depth=20, n_est=60, **kwargs):\n",
    "\n",
    "    if type_of_model == 'LogisticRegression':\n",
    "        model = LogisticRegression(\n",
    "            random_state=12345, solver='liblinear', **kwargs)\n",
    "        model.fit(features_train_def, target_train_def)\n",
    "        predicted_valid = model.predict(features_valid_def)\n",
    "        print(\"F1 модели:\", f1_score(target_valid_def, predicted_valid))\n",
    "        print(\"Матрица ошибок модели:\")\n",
    "        display(pd.DataFrame(\n",
    "            confusion_matrix(target_valid_def, predicted_valid),\n",
    "            columns=['Pred 0', 'Pred 1'],\n",
    "            index=['True 0', 'True 1']))\n",
    "        print(\"Полнота модели: \", recall_score(\n",
    "            target_valid_def, predicted_valid))\n",
    "        print(\"Точность модели: \", precision_score(\n",
    "            target_valid_def, predicted_valid))\n",
    "\n",
    "    if type_of_model == 'DecisionTreeClassifier':\n",
    "        best_model = None\n",
    "        best_f1_score = 0\n",
    "        for depth in range(1, depth):\n",
    "            model = DecisionTreeClassifier(\n",
    "                random_state=12345, max_depth=depth, **kwargs)\n",
    "            model.fit(features_train_def, target_train_def)\n",
    "            predicted_valid = model.predict(features_valid_def)\n",
    "            model_f1_score = f1_score(target_valid_def, predicted_valid)\n",
    "            model_confusion_matrix = confusion_matrix(\n",
    "                target_valid_def, predicted_valid)\n",
    "            model_recall_score = recall_score(\n",
    "                target_valid_def, predicted_valid)\n",
    "            model_precision_score = precision_score(\n",
    "                target_valid_def, predicted_valid)\n",
    "            if model_f1_score > best_f1_score:\n",
    "                best_model = model\n",
    "                best_confusion_matrix = model_confusion_matrix\n",
    "                best_recall_score = model_recall_score\n",
    "                best_precision_score = model_precision_score\n",
    "                best_f1_score = model_f1_score\n",
    "                best_depth = depth\n",
    "        print(\"F1 наилучшей модели:\", best_f1_score)\n",
    "        print(\"Матрица ошибок наилучшей модели:\")\n",
    "        display(pd.DataFrame(best_confusion_matrix, columns=[\n",
    "                'Pred 0', 'Pred 1'], index=['True 0', 'True 1']))\n",
    "        print(\"Полнота наилучшей модели: \", best_recall_score)\n",
    "        print(\"Точность наилучшей модели: \", best_precision_score)\n",
    "        print(\"Максимальная глубина:\", best_depth)\n",
    "\n",
    "    if type_of_model == 'RandomForestClassifier':\n",
    "        best_model = None\n",
    "        best_f1_score = 0\n",
    "        for est in range(10, n_est, 10):\n",
    "            for depth in range(1, depth):\n",
    "                model = RandomForestClassifier(\n",
    "                    random_state=12345, n_estimators=est, max_depth=depth, **kwargs)\n",
    "                model.fit(features_train_def, target_train_def)\n",
    "                predicted_valid = model.predict(features_valid_def)\n",
    "                model_f1_score = f1_score(target_valid_def, predicted_valid)\n",
    "                model_confusion_matrix = confusion_matrix(\n",
    "                    target_valid_def, predicted_valid)\n",
    "                model_recall_score = recall_score(\n",
    "                    target_valid_def, predicted_valid)\n",
    "                model_precision_score = precision_score(\n",
    "                    target_valid_def, predicted_valid)\n",
    "                if model_f1_score > best_f1_score:\n",
    "                    best_model = model\n",
    "                    best_confusion_matrix = model_confusion_matrix\n",
    "                    best_recall_score = model_recall_score\n",
    "                    best_precision_score = model_precision_score\n",
    "                    best_f1_score = model_f1_score\n",
    "                    best_depth = depth\n",
    "                    best_est = est\n",
    "        print(\"F1 наилучшей модели:\", best_f1_score)\n",
    "        print(\"Матрица ошибок наилучшей модели:\")\n",
    "        display(pd.DataFrame(best_confusion_matrix, columns=[\n",
    "                'Pred 0', 'Pred 1'], index=['True 0', 'True 1']))\n",
    "        print(\"Полнота наилучшей модели: \", best_recall_score)\n",
    "        print(\"Точность наилучшей модели: \", best_precision_score)\n",
    "        print(\"Максимальная глубина:\", best_depth)\n",
    "        print(\"Кол-во деревьев:\", best_est)"
   ]
  },
  {
   "cell_type": "markdown",
   "metadata": {},
   "source": [
    "### Логистическая регрессия"
   ]
  },
  {
   "cell_type": "code",
   "execution_count": 17,
   "metadata": {
    "scrolled": true
   },
   "outputs": [
    {
     "name": "stdout",
     "output_type": "stream",
     "text": [
      "F1 модели: 0.3004115226337448\n",
      "Матрица ошибок модели:\n"
     ]
    },
    {
     "data": {
      "text/html": [
       "<div>\n",
       "<style scoped>\n",
       "    .dataframe tbody tr th:only-of-type {\n",
       "        vertical-align: middle;\n",
       "    }\n",
       "\n",
       "    .dataframe tbody tr th {\n",
       "        vertical-align: top;\n",
       "    }\n",
       "\n",
       "    .dataframe thead th {\n",
       "        text-align: right;\n",
       "    }\n",
       "</style>\n",
       "<table border=\"1\" class=\"dataframe\">\n",
       "  <thead>\n",
       "    <tr style=\"text-align: right;\">\n",
       "      <th></th>\n",
       "      <th>Pred 0</th>\n",
       "      <th>Pred 1</th>\n",
       "    </tr>\n",
       "  </thead>\n",
       "  <tbody>\n",
       "    <tr>\n",
       "      <td>True 0</td>\n",
       "      <td>1405</td>\n",
       "      <td>47</td>\n",
       "    </tr>\n",
       "    <tr>\n",
       "      <td>True 1</td>\n",
       "      <td>293</td>\n",
       "      <td>73</td>\n",
       "    </tr>\n",
       "  </tbody>\n",
       "</table>\n",
       "</div>"
      ],
      "text/plain": [
       "        Pred 0  Pred 1\n",
       "True 0    1405      47\n",
       "True 1     293      73"
      ]
     },
     "metadata": {},
     "output_type": "display_data"
    },
    {
     "name": "stdout",
     "output_type": "stream",
     "text": [
      "Полнота модели:  0.1994535519125683\n",
      "Точность модели:  0.6083333333333333\n"
     ]
    }
   ],
   "source": [
    "build_model(features_train, target_train, features_valid,\n",
    "            target_valid, 'LogisticRegression')"
   ]
  },
  {
   "cell_type": "markdown",
   "metadata": {},
   "source": [
    "Логистическая регрессия показывает быстрый, но не точный результат"
   ]
  },
  {
   "cell_type": "markdown",
   "metadata": {},
   "source": [
    "### Дерево решений"
   ]
  },
  {
   "cell_type": "code",
   "execution_count": 18,
   "metadata": {},
   "outputs": [
    {
     "name": "stdout",
     "output_type": "stream",
     "text": [
      "F1 наилучшей модели: 0.557427258805513\n",
      "Матрица ошибок наилучшей модели:\n"
     ]
    },
    {
     "data": {
      "text/html": [
       "<div>\n",
       "<style scoped>\n",
       "    .dataframe tbody tr th:only-of-type {\n",
       "        vertical-align: middle;\n",
       "    }\n",
       "\n",
       "    .dataframe tbody tr th {\n",
       "        vertical-align: top;\n",
       "    }\n",
       "\n",
       "    .dataframe thead th {\n",
       "        text-align: right;\n",
       "    }\n",
       "</style>\n",
       "<table border=\"1\" class=\"dataframe\">\n",
       "  <thead>\n",
       "    <tr style=\"text-align: right;\">\n",
       "      <th></th>\n",
       "      <th>Pred 0</th>\n",
       "      <th>Pred 1</th>\n",
       "    </tr>\n",
       "  </thead>\n",
       "  <tbody>\n",
       "    <tr>\n",
       "      <td>True 0</td>\n",
       "      <td>1347</td>\n",
       "      <td>105</td>\n",
       "    </tr>\n",
       "    <tr>\n",
       "      <td>True 1</td>\n",
       "      <td>184</td>\n",
       "      <td>182</td>\n",
       "    </tr>\n",
       "  </tbody>\n",
       "</table>\n",
       "</div>"
      ],
      "text/plain": [
       "        Pred 0  Pred 1\n",
       "True 0    1347     105\n",
       "True 1     184     182"
      ]
     },
     "metadata": {},
     "output_type": "display_data"
    },
    {
     "name": "stdout",
     "output_type": "stream",
     "text": [
      "Полнота наилучшей модели:  0.4972677595628415\n",
      "Точность наилучшей модели:  0.6341463414634146\n",
      "Максимальная глубина: 9\n"
     ]
    }
   ],
   "source": [
    "build_model(features_train, target_train, features_valid,\n",
    "            target_valid, 'DecisionTreeClassifier')"
   ]
  },
  {
   "cell_type": "markdown",
   "metadata": {},
   "source": [
    "Дерево намного лучше, но все еще не дотягивает до порогового значения F1"
   ]
  },
  {
   "cell_type": "markdown",
   "metadata": {},
   "source": [
    "### Случайный лес"
   ]
  },
  {
   "cell_type": "code",
   "execution_count": 19,
   "metadata": {
    "scrolled": false
   },
   "outputs": [
    {
     "name": "stdout",
     "output_type": "stream",
     "text": [
      "F1 наилучшей модели: 0.5570934256055363\n",
      "Матрица ошибок наилучшей модели:\n"
     ]
    },
    {
     "data": {
      "text/html": [
       "<div>\n",
       "<style scoped>\n",
       "    .dataframe tbody tr th:only-of-type {\n",
       "        vertical-align: middle;\n",
       "    }\n",
       "\n",
       "    .dataframe tbody tr th {\n",
       "        vertical-align: top;\n",
       "    }\n",
       "\n",
       "    .dataframe thead th {\n",
       "        text-align: right;\n",
       "    }\n",
       "</style>\n",
       "<table border=\"1\" class=\"dataframe\">\n",
       "  <thead>\n",
       "    <tr style=\"text-align: right;\">\n",
       "      <th></th>\n",
       "      <th>Pred 0</th>\n",
       "      <th>Pred 1</th>\n",
       "    </tr>\n",
       "  </thead>\n",
       "  <tbody>\n",
       "    <tr>\n",
       "      <td>True 0</td>\n",
       "      <td>1401</td>\n",
       "      <td>51</td>\n",
       "    </tr>\n",
       "    <tr>\n",
       "      <td>True 1</td>\n",
       "      <td>205</td>\n",
       "      <td>161</td>\n",
       "    </tr>\n",
       "  </tbody>\n",
       "</table>\n",
       "</div>"
      ],
      "text/plain": [
       "        Pred 0  Pred 1\n",
       "True 0    1401      51\n",
       "True 1     205     161"
      ]
     },
     "metadata": {},
     "output_type": "display_data"
    },
    {
     "name": "stdout",
     "output_type": "stream",
     "text": [
      "Полнота наилучшей модели:  0.43989071038251365\n",
      "Точность наилучшей модели:  0.7594339622641509\n",
      "Максимальная глубина: 14\n",
      "Кол-во деревьев: 20\n"
     ]
    }
   ],
   "source": [
    "build_model(features_train, target_train, features_valid,\n",
    "            target_valid, 'RandomForestClassifier')"
   ]
  },
  {
   "cell_type": "markdown",
   "metadata": {},
   "source": [
    "Случайный лес показал F1 score не лучше, чем дерево решений. Увеличение точности обернулось снижением полноты."
   ]
  },
  {
   "cell_type": "markdown",
   "metadata": {},
   "source": [
    "## Борьба с дисбалансом"
   ]
  },
  {
   "cell_type": "markdown",
   "metadata": {},
   "source": [
    "### Взвешивание классов"
   ]
  },
  {
   "cell_type": "markdown",
   "metadata": {},
   "source": [
    "#### Логистическая регрессия"
   ]
  },
  {
   "cell_type": "code",
   "execution_count": 20,
   "metadata": {
    "scrolled": false
   },
   "outputs": [
    {
     "name": "stdout",
     "output_type": "stream",
     "text": [
      "F1 модели: 0.49506903353057197\n",
      "Матрица ошибок модели:\n"
     ]
    },
    {
     "data": {
      "text/html": [
       "<div>\n",
       "<style scoped>\n",
       "    .dataframe tbody tr th:only-of-type {\n",
       "        vertical-align: middle;\n",
       "    }\n",
       "\n",
       "    .dataframe tbody tr th {\n",
       "        vertical-align: top;\n",
       "    }\n",
       "\n",
       "    .dataframe thead th {\n",
       "        text-align: right;\n",
       "    }\n",
       "</style>\n",
       "<table border=\"1\" class=\"dataframe\">\n",
       "  <thead>\n",
       "    <tr style=\"text-align: right;\">\n",
       "      <th></th>\n",
       "      <th>Pred 0</th>\n",
       "      <th>Pred 1</th>\n",
       "    </tr>\n",
       "  </thead>\n",
       "  <tbody>\n",
       "    <tr>\n",
       "      <td>True 0</td>\n",
       "      <td>1055</td>\n",
       "      <td>397</td>\n",
       "    </tr>\n",
       "    <tr>\n",
       "      <td>True 1</td>\n",
       "      <td>115</td>\n",
       "      <td>251</td>\n",
       "    </tr>\n",
       "  </tbody>\n",
       "</table>\n",
       "</div>"
      ],
      "text/plain": [
       "        Pred 0  Pred 1\n",
       "True 0    1055     397\n",
       "True 1     115     251"
      ]
     },
     "metadata": {},
     "output_type": "display_data"
    },
    {
     "name": "stdout",
     "output_type": "stream",
     "text": [
      "Полнота модели:  0.6857923497267759\n",
      "Точность модели:  0.3873456790123457\n"
     ]
    }
   ],
   "source": [
    "build_model(features_train, target_train, features_valid,\n",
    "            target_valid, 'LogisticRegression', class_weight='balanced')"
   ]
  },
  {
   "cell_type": "markdown",
   "metadata": {},
   "source": [
    "Взвешивание классов позволило добиться значительного прогресса в части показателя F1 для логистической регрессии."
   ]
  },
  {
   "cell_type": "markdown",
   "metadata": {},
   "source": [
    "#### Дерево решений"
   ]
  },
  {
   "cell_type": "code",
   "execution_count": 21,
   "metadata": {},
   "outputs": [
    {
     "name": "stdout",
     "output_type": "stream",
     "text": [
      "F1 наилучшей модели: 0.5555555555555556\n",
      "Матрица ошибок наилучшей модели:\n"
     ]
    },
    {
     "data": {
      "text/html": [
       "<div>\n",
       "<style scoped>\n",
       "    .dataframe tbody tr th:only-of-type {\n",
       "        vertical-align: middle;\n",
       "    }\n",
       "\n",
       "    .dataframe tbody tr th {\n",
       "        vertical-align: top;\n",
       "    }\n",
       "\n",
       "    .dataframe thead th {\n",
       "        text-align: right;\n",
       "    }\n",
       "</style>\n",
       "<table border=\"1\" class=\"dataframe\">\n",
       "  <thead>\n",
       "    <tr style=\"text-align: right;\">\n",
       "      <th></th>\n",
       "      <th>Pred 0</th>\n",
       "      <th>Pred 1</th>\n",
       "    </tr>\n",
       "  </thead>\n",
       "  <tbody>\n",
       "    <tr>\n",
       "      <td>True 0</td>\n",
       "      <td>1103</td>\n",
       "      <td>349</td>\n",
       "    </tr>\n",
       "    <tr>\n",
       "      <td>True 1</td>\n",
       "      <td>91</td>\n",
       "      <td>275</td>\n",
       "    </tr>\n",
       "  </tbody>\n",
       "</table>\n",
       "</div>"
      ],
      "text/plain": [
       "        Pred 0  Pred 1\n",
       "True 0    1103     349\n",
       "True 1      91     275"
      ]
     },
     "metadata": {},
     "output_type": "display_data"
    },
    {
     "name": "stdout",
     "output_type": "stream",
     "text": [
      "Полнота наилучшей модели:  0.7513661202185792\n",
      "Точность наилучшей модели:  0.4407051282051282\n",
      "Максимальная глубина: 7\n"
     ]
    }
   ],
   "source": [
    "build_model(features_train, target_train, features_valid,\n",
    "            target_valid, 'DecisionTreeClassifier', class_weight='balanced')"
   ]
  },
  {
   "cell_type": "markdown",
   "metadata": {},
   "source": [
    "Взвешивание классов в деревере решений ухудшило результат. Скорее всего, это просто случайность: 0.5570934256055363 против 0.5555555555555556. Изменились и параметры лучшей модели."
   ]
  },
  {
   "cell_type": "markdown",
   "metadata": {},
   "source": [
    "#### Случайный лес"
   ]
  },
  {
   "cell_type": "code",
   "execution_count": 22,
   "metadata": {
    "scrolled": true
   },
   "outputs": [
    {
     "name": "stdout",
     "output_type": "stream",
     "text": [
      "F1 наилучшей модели: 0.595460614152203\n",
      "Матрица ошибок наилучшей модели:\n"
     ]
    },
    {
     "data": {
      "text/html": [
       "<div>\n",
       "<style scoped>\n",
       "    .dataframe tbody tr th:only-of-type {\n",
       "        vertical-align: middle;\n",
       "    }\n",
       "\n",
       "    .dataframe tbody tr th {\n",
       "        vertical-align: top;\n",
       "    }\n",
       "\n",
       "    .dataframe thead th {\n",
       "        text-align: right;\n",
       "    }\n",
       "</style>\n",
       "<table border=\"1\" class=\"dataframe\">\n",
       "  <thead>\n",
       "    <tr style=\"text-align: right;\">\n",
       "      <th></th>\n",
       "      <th>Pred 0</th>\n",
       "      <th>Pred 1</th>\n",
       "    </tr>\n",
       "  </thead>\n",
       "  <tbody>\n",
       "    <tr>\n",
       "      <td>True 0</td>\n",
       "      <td>1292</td>\n",
       "      <td>160</td>\n",
       "    </tr>\n",
       "    <tr>\n",
       "      <td>True 1</td>\n",
       "      <td>143</td>\n",
       "      <td>223</td>\n",
       "    </tr>\n",
       "  </tbody>\n",
       "</table>\n",
       "</div>"
      ],
      "text/plain": [
       "        Pred 0  Pred 1\n",
       "True 0    1292     160\n",
       "True 1     143     223"
      ]
     },
     "metadata": {},
     "output_type": "display_data"
    },
    {
     "name": "stdout",
     "output_type": "stream",
     "text": [
      "Полнота наилучшей модели:  0.6092896174863388\n",
      "Точность наилучшей модели:  0.5822454308093995\n",
      "Максимальная глубина: 9\n",
      "Кол-во деревьев: 50\n"
     ]
    }
   ],
   "source": [
    "build_model(features_train, target_train, features_valid,\n",
    "            target_valid, 'RandomForestClassifier', class_weight='balanced')"
   ]
  },
  {
   "cell_type": "markdown",
   "metadata": {},
   "source": [
    "0.595460614152203 против 0.5570934256055363. Знаительный прогресс. Также изменились параметры лучшей модели."
   ]
  },
  {
   "cell_type": "markdown",
   "metadata": {},
   "source": [
    "### Увеличение выборки"
   ]
  },
  {
   "cell_type": "code",
   "execution_count": 23,
   "metadata": {},
   "outputs": [],
   "source": [
    "def upsample(features, target, repeat):\n",
    "    features_zeros = features[target == 0]\n",
    "    features_ones = features[target == 1]\n",
    "    target_zeros = target[target == 0]\n",
    "    target_ones = target[target == 1]\n",
    "\n",
    "    features_upsampled = pd.concat([features_zeros] + [features_ones] * repeat)\n",
    "    target_upsampled = pd.concat([target_zeros] + [target_ones] * repeat)\n",
    "\n",
    "    features_upsampled, target_upsampled = shuffle(\n",
    "        features_upsampled, target_upsampled, random_state=12345)\n",
    "\n",
    "    return features_upsampled, target_upsampled"
   ]
  },
  {
   "cell_type": "code",
   "execution_count": 24,
   "metadata": {},
   "outputs": [
    {
     "data": {
      "text/html": [
       "<div>\n",
       "<style scoped>\n",
       "    .dataframe tbody tr th:only-of-type {\n",
       "        vertical-align: middle;\n",
       "    }\n",
       "\n",
       "    .dataframe tbody tr th {\n",
       "        vertical-align: top;\n",
       "    }\n",
       "\n",
       "    .dataframe thead th {\n",
       "        text-align: right;\n",
       "    }\n",
       "</style>\n",
       "<table border=\"1\" class=\"dataframe\">\n",
       "  <thead>\n",
       "    <tr style=\"text-align: right;\">\n",
       "      <th></th>\n",
       "      <th>counts</th>\n",
       "      <th>% of total</th>\n",
       "    </tr>\n",
       "  </thead>\n",
       "  <tbody>\n",
       "    <tr>\n",
       "      <td>0</td>\n",
       "      <td>4335</td>\n",
       "      <td>79.4800</td>\n",
       "    </tr>\n",
       "    <tr>\n",
       "      <td>1</td>\n",
       "      <td>1119</td>\n",
       "      <td>20.5200</td>\n",
       "    </tr>\n",
       "  </tbody>\n",
       "</table>\n",
       "</div>"
      ],
      "text/plain": [
       "   counts  % of total\n",
       "0    4335     79.4800\n",
       "1    1119     20.5200"
      ]
     },
     "metadata": {},
     "output_type": "display_data"
    }
   ],
   "source": [
    "report = target_train.value_counts().to_frame()\n",
    "report.columns = ['counts']\n",
    "report['% of total'] = (report['counts'] * 100 /\n",
    "                        report['counts'].sum()).round(2)\n",
    "display(report)"
   ]
  },
  {
   "cell_type": "code",
   "execution_count": 25,
   "metadata": {},
   "outputs": [],
   "source": [
    "features_upsampled, target_upsampled = upsample(\n",
    "    features_train, target_train, 4)"
   ]
  },
  {
   "cell_type": "markdown",
   "metadata": {},
   "source": [
    "#### Логистическая регрессия"
   ]
  },
  {
   "cell_type": "code",
   "execution_count": 26,
   "metadata": {
    "scrolled": true
   },
   "outputs": [
    {
     "name": "stdout",
     "output_type": "stream",
     "text": [
      "F1 модели: 0.4956605593056895\n",
      "Матрица ошибок модели:\n"
     ]
    },
    {
     "data": {
      "text/html": [
       "<div>\n",
       "<style scoped>\n",
       "    .dataframe tbody tr th:only-of-type {\n",
       "        vertical-align: middle;\n",
       "    }\n",
       "\n",
       "    .dataframe tbody tr th {\n",
       "        vertical-align: top;\n",
       "    }\n",
       "\n",
       "    .dataframe thead th {\n",
       "        text-align: right;\n",
       "    }\n",
       "</style>\n",
       "<table border=\"1\" class=\"dataframe\">\n",
       "  <thead>\n",
       "    <tr style=\"text-align: right;\">\n",
       "      <th></th>\n",
       "      <th>Pred 0</th>\n",
       "      <th>Pred 1</th>\n",
       "    </tr>\n",
       "  </thead>\n",
       "  <tbody>\n",
       "    <tr>\n",
       "      <td>True 0</td>\n",
       "      <td>1038</td>\n",
       "      <td>414</td>\n",
       "    </tr>\n",
       "    <tr>\n",
       "      <td>True 1</td>\n",
       "      <td>109</td>\n",
       "      <td>257</td>\n",
       "    </tr>\n",
       "  </tbody>\n",
       "</table>\n",
       "</div>"
      ],
      "text/plain": [
       "        Pred 0  Pred 1\n",
       "True 0    1038     414\n",
       "True 1     109     257"
      ]
     },
     "metadata": {},
     "output_type": "display_data"
    },
    {
     "name": "stdout",
     "output_type": "stream",
     "text": [
      "Полнота модели:  0.7021857923497268\n",
      "Точность модели:  0.3830104321907601\n"
     ]
    }
   ],
   "source": [
    "build_model(features_upsampled, target_upsampled,\n",
    "            features_valid, target_valid, 'LogisticRegression')"
   ]
  },
  {
   "cell_type": "markdown",
   "metadata": {},
   "source": [
    "#### Дерево решений"
   ]
  },
  {
   "cell_type": "code",
   "execution_count": 27,
   "metadata": {},
   "outputs": [
    {
     "name": "stdout",
     "output_type": "stream",
     "text": [
      "F1 наилучшей модели: 0.5555555555555556\n",
      "Матрица ошибок наилучшей модели:\n"
     ]
    },
    {
     "data": {
      "text/html": [
       "<div>\n",
       "<style scoped>\n",
       "    .dataframe tbody tr th:only-of-type {\n",
       "        vertical-align: middle;\n",
       "    }\n",
       "\n",
       "    .dataframe tbody tr th {\n",
       "        vertical-align: top;\n",
       "    }\n",
       "\n",
       "    .dataframe thead th {\n",
       "        text-align: right;\n",
       "    }\n",
       "</style>\n",
       "<table border=\"1\" class=\"dataframe\">\n",
       "  <thead>\n",
       "    <tr style=\"text-align: right;\">\n",
       "      <th></th>\n",
       "      <th>Pred 0</th>\n",
       "      <th>Pred 1</th>\n",
       "    </tr>\n",
       "  </thead>\n",
       "  <tbody>\n",
       "    <tr>\n",
       "      <td>True 0</td>\n",
       "      <td>1103</td>\n",
       "      <td>349</td>\n",
       "    </tr>\n",
       "    <tr>\n",
       "      <td>True 1</td>\n",
       "      <td>91</td>\n",
       "      <td>275</td>\n",
       "    </tr>\n",
       "  </tbody>\n",
       "</table>\n",
       "</div>"
      ],
      "text/plain": [
       "        Pred 0  Pred 1\n",
       "True 0    1103     349\n",
       "True 1      91     275"
      ]
     },
     "metadata": {},
     "output_type": "display_data"
    },
    {
     "name": "stdout",
     "output_type": "stream",
     "text": [
      "Полнота наилучшей модели:  0.7513661202185792\n",
      "Точность наилучшей модели:  0.4407051282051282\n",
      "Максимальная глубина: 7\n"
     ]
    }
   ],
   "source": [
    "build_model(features_upsampled,\n",
    "            target_upsampled,\n",
    "            features_valid,\n",
    "            target_valid,\n",
    "            'DecisionTreeClassifier')"
   ]
  },
  {
   "cell_type": "markdown",
   "metadata": {},
   "source": [
    "#### Случайный лес"
   ]
  },
  {
   "cell_type": "code",
   "execution_count": 28,
   "metadata": {
    "scrolled": false
   },
   "outputs": [
    {
     "name": "stdout",
     "output_type": "stream",
     "text": [
      "F1 наилучшей модели: 0.6055488540410132\n",
      "Матрица ошибок наилучшей модели:\n"
     ]
    },
    {
     "data": {
      "text/html": [
       "<div>\n",
       "<style scoped>\n",
       "    .dataframe tbody tr th:only-of-type {\n",
       "        vertical-align: middle;\n",
       "    }\n",
       "\n",
       "    .dataframe tbody tr th {\n",
       "        vertical-align: top;\n",
       "    }\n",
       "\n",
       "    .dataframe thead th {\n",
       "        text-align: right;\n",
       "    }\n",
       "</style>\n",
       "<table border=\"1\" class=\"dataframe\">\n",
       "  <thead>\n",
       "    <tr style=\"text-align: right;\">\n",
       "      <th></th>\n",
       "      <th>Pred 0</th>\n",
       "      <th>Pred 1</th>\n",
       "    </tr>\n",
       "  </thead>\n",
       "  <tbody>\n",
       "    <tr>\n",
       "      <td>True 0</td>\n",
       "      <td>1240</td>\n",
       "      <td>212</td>\n",
       "    </tr>\n",
       "    <tr>\n",
       "      <td>True 1</td>\n",
       "      <td>115</td>\n",
       "      <td>251</td>\n",
       "    </tr>\n",
       "  </tbody>\n",
       "</table>\n",
       "</div>"
      ],
      "text/plain": [
       "        Pred 0  Pred 1\n",
       "True 0    1240     212\n",
       "True 1     115     251"
      ]
     },
     "metadata": {},
     "output_type": "display_data"
    },
    {
     "name": "stdout",
     "output_type": "stream",
     "text": [
      "Полнота наилучшей модели:  0.6857923497267759\n",
      "Точность наилучшей модели:  0.5421166306695464\n",
      "Максимальная глубина: 9\n",
      "Кол-во деревьев: 40\n"
     ]
    }
   ],
   "source": [
    "build_model(features_upsampled, \n",
    "            target_upsampled, \n",
    "            features_valid,\n",
    "            target_valid, \n",
    "            'RandomForestClassifier')"
   ]
  },
  {
   "cell_type": "markdown",
   "metadata": {},
   "source": [
    "### Вывод"
   ]
  },
  {
   "cell_type": "markdown",
   "metadata": {},
   "source": [
    "Метод увеличения выборки в случайном лесе наиболее успешен."
   ]
  },
  {
   "cell_type": "markdown",
   "metadata": {},
   "source": [
    "## Тестирование модели"
   ]
  },
  {
   "cell_type": "markdown",
   "metadata": {},
   "source": [
    "Используем нашу лучшую модель с заданными праметрами, но дообученной на валидационной выборке."
   ]
  },
  {
   "cell_type": "code",
   "execution_count": 29,
   "metadata": {},
   "outputs": [
    {
     "data": {
      "text/html": [
       "<div>\n",
       "<style scoped>\n",
       "    .dataframe tbody tr th:only-of-type {\n",
       "        vertical-align: middle;\n",
       "    }\n",
       "\n",
       "    .dataframe tbody tr th {\n",
       "        vertical-align: top;\n",
       "    }\n",
       "\n",
       "    .dataframe thead th {\n",
       "        text-align: right;\n",
       "    }\n",
       "</style>\n",
       "<table border=\"1\" class=\"dataframe\">\n",
       "  <thead>\n",
       "    <tr style=\"text-align: right;\">\n",
       "      <th></th>\n",
       "      <th>counts</th>\n",
       "      <th>% of total</th>\n",
       "    </tr>\n",
       "  </thead>\n",
       "  <tbody>\n",
       "    <tr>\n",
       "      <td>0</td>\n",
       "      <td>5787</td>\n",
       "      <td>79.5800</td>\n",
       "    </tr>\n",
       "    <tr>\n",
       "      <td>1</td>\n",
       "      <td>1485</td>\n",
       "      <td>20.4200</td>\n",
       "    </tr>\n",
       "  </tbody>\n",
       "</table>\n",
       "</div>"
      ],
      "text/plain": [
       "   counts  % of total\n",
       "0    5787     79.5800\n",
       "1    1485     20.4200"
      ]
     },
     "metadata": {},
     "output_type": "display_data"
    }
   ],
   "source": [
    "report = target_general.value_counts().to_frame()\n",
    "report.columns = ['counts']\n",
    "report['% of total'] = (report['counts'] * 100 /\n",
    "                        report['counts'].sum()).round(2)\n",
    "display(report)"
   ]
  },
  {
   "cell_type": "code",
   "execution_count": 30,
   "metadata": {},
   "outputs": [],
   "source": [
    "features_general_upsampled, target_general_upsampled = upsample(\n",
    "    features_general, target_general, 4)"
   ]
  },
  {
   "cell_type": "code",
   "execution_count": 31,
   "metadata": {
    "scrolled": true
   },
   "outputs": [
    {
     "name": "stdout",
     "output_type": "stream",
     "text": [
      "F1 модели: 0.6199770378874857\n",
      "Матрица ошибок модели:\n"
     ]
    },
    {
     "data": {
      "text/html": [
       "<div>\n",
       "<style scoped>\n",
       "    .dataframe tbody tr th:only-of-type {\n",
       "        vertical-align: middle;\n",
       "    }\n",
       "\n",
       "    .dataframe tbody tr th {\n",
       "        vertical-align: top;\n",
       "    }\n",
       "\n",
       "    .dataframe thead th {\n",
       "        text-align: right;\n",
       "    }\n",
       "</style>\n",
       "<table border=\"1\" class=\"dataframe\">\n",
       "  <thead>\n",
       "    <tr style=\"text-align: right;\">\n",
       "      <th></th>\n",
       "      <th>Pred 0</th>\n",
       "      <th>Pred 1</th>\n",
       "    </tr>\n",
       "  </thead>\n",
       "  <tbody>\n",
       "    <tr>\n",
       "      <td>True 0</td>\n",
       "      <td>1218</td>\n",
       "      <td>232</td>\n",
       "    </tr>\n",
       "    <tr>\n",
       "      <td>True 1</td>\n",
       "      <td>99</td>\n",
       "      <td>270</td>\n",
       "    </tr>\n",
       "  </tbody>\n",
       "</table>\n",
       "</div>"
      ],
      "text/plain": [
       "        Pred 0  Pred 1\n",
       "True 0    1218     232\n",
       "True 1      99     270"
      ]
     },
     "metadata": {},
     "output_type": "display_data"
    },
    {
     "name": "stdout",
     "output_type": "stream",
     "text": [
      "Полнота модели:  0.7317073170731707\n",
      "Точность модели:  0.5378486055776892\n"
     ]
    }
   ],
   "source": [
    "model = RandomForestClassifier(\n",
    "    random_state=12345, n_estimators=40, max_depth=9)\n",
    "model.fit(features_general_upsampled, target_general_upsampled)\n",
    "predicted_test = model.predict(features_test)\n",
    "print(\"F1 модели:\", f1_score(target_test, predicted_test))\n",
    "print(\"Матрица ошибок модели:\")\n",
    "display(pd.DataFrame(\n",
    "    confusion_matrix(target_test, predicted_test),\n",
    "    columns=['Pred 0', 'Pred 1'],\n",
    "    index=['True 0', 'True 1']))\n",
    "print(\"Полнота модели: \", recall_score(target_test, predicted_test))\n",
    "print(\"Точность модели: \", precision_score(target_test, predicted_test))"
   ]
  },
  {
   "cell_type": "markdown",
   "metadata": {},
   "source": [
    "Цель достигнута. Модель показывает 0.6199"
   ]
  }
 ],
 "metadata": {
  "kernelspec": {
   "display_name": "Python 3",
   "language": "python",
   "name": "python3"
  },
  "language_info": {
   "codemirror_mode": {
    "name": "ipython",
    "version": 3
   },
   "file_extension": ".py",
   "mimetype": "text/x-python",
   "name": "python",
   "nbconvert_exporter": "python",
   "pygments_lexer": "ipython3",
   "version": "3.9.2"
  },
  "toc": {
   "base_numbering": 1,
   "nav_menu": {},
   "number_sections": true,
   "sideBar": true,
   "skip_h1_title": true,
   "title_cell": "Содержание",
   "title_sidebar": "Contents",
   "toc_cell": true,
   "toc_position": {},
   "toc_section_display": true,
   "toc_window_display": false
  }
 },
 "nbformat": 4,
 "nbformat_minor": 2
}
